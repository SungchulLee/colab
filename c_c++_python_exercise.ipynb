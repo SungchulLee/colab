{
  "nbformat": 4,
  "nbformat_minor": 0,
  "metadata": {
    "colab": {
      "provenance": [],
      "collapsed_sections": [
        "uJ0XVlZVRS6c",
        "kpIIreZ9B5yY",
        "OBNHMXlxEOlK",
        "Yhp4h81A9z0K",
        "eGQh2T3kF2vd",
        "XWJFdZxp4ONj",
        "d0ryYdAlFMB5",
        "4B-rRuPZCWLd",
        "0e1VPcXFQ4MM",
        "cUDGeeVfFduS",
        "f68GF8YEFw9S",
        "mKbqpkbof54T",
        "HJn7MN4kf54c",
        "94tLBcoyI41w",
        "lQv_Ys7HJBiH",
        "om7WqMTXNaTD",
        "5LAXmZBGNaTN",
        "H3sC3EqlOMt9",
        "6MntDhNfan-_",
        "FD35qLwyavKY",
        "MfzFLXuLai1Z",
        "ZL_ztIP7SIN-",
        "eTn9PXakVVAe",
        "hE70RE1RVZ9a",
        "NlEjnxaUXWcp",
        "b02SOD3BcCa7",
        "senvPbU-hLud",
        "ZgAq2YtA16gS",
        "hMo-Zft11_6Q",
        "knEn4wd92Gyn",
        "WjUbN6YI2G0V",
        "ORYHbbE7tebs",
        "lEwsfZRcRja-",
        "eAXnFqKZxdg0",
        "8E0gcT6f0NIH",
        "6PlZrBiZmgns",
        "3_Uur6es5ihh",
        "k71EH4uLs6ls",
        "E4a6U2qLunIo",
        "UUbVNGBFr_FT",
        "DfM94gwqQXJb",
        "DhcQEXBvwYKR",
        "D9xpxAVnQQ3U",
        "8twGn_G4R4VS",
        "2P24dysmOzpY",
        "rx5F_JLbkvKZ",
        "lPDmrTtSqk6c",
        "cZpt9zn2SDT-",
        "q1IEeDSypzIB",
        "EsWLi6hRu8kl",
        "uIcMyA8hwn-k",
        "rZ70XvFMcQlp",
        "yXwUCPTYqaBi",
        "BRABLbzfC9DX",
        "4Vc2Hs-QXeZu",
        "LWttPVviYaJs",
        "2hEMq4FCpQOS",
        "Pxx1pr4_tN86",
        "ZrZzp5oxp5ds",
        "r9FbxVquqzHt",
        "rYgWqG2e12Ux",
        "WeHBZ43V3lwR",
        "CO-zRetX4-3u",
        "0-hHedDq6eWG",
        "H4V81y2LSXQI",
        "22i-Kt4Rh_bO",
        "ZkpB-qlTtZip",
        "SE9rb4GnSoMf",
        "78PkexERSgkO"
      ],
      "authorship_tag": "ABX9TyMjavVr42PxxD96cJy/Z7y0",
      "include_colab_link": true
    },
    "kernelspec": {
      "name": "python3",
      "display_name": "Python 3"
    },
    "language_info": {
      "name": "python"
    }
  },
  "cells": [
    {
      "cell_type": "markdown",
      "metadata": {
        "id": "view-in-github",
        "colab_type": "text"
      },
      "source": [
        "<a href=\"https://colab.research.google.com/github/SungchulLee/colab/blob/main/c_c%2B%2B_python_exercise.ipynb\" target=\"_parent\"><img src=\"https://colab.research.google.com/assets/colab-badge.svg\" alt=\"Open In Colab\"/></a>"
      ]
    },
    {
      "cell_type": "markdown",
      "source": [
        "#**PART I STANDARD INPUT OUTPUT**"
      ],
      "metadata": {
        "id": "uJ0XVlZVRS6c"
      }
    },
    {
      "cell_type": "markdown",
      "source": [
        "###**Chapter 1 Print**"
      ],
      "metadata": {
        "id": "loL9KMzgOFvn"
      }
    },
    {
      "cell_type": "markdown",
      "source": [
        "#####**Print Hello World [eng|](https://www.youtube.com/watch?v=xF4WePTZlWQ&list=PLvv0ScY6vfd8j-tlhYVPYgiIyXduu6m-L&index=6)**"
      ],
      "metadata": {
        "id": "1Oz4kJJXdvBN"
      }
    },
    {
      "cell_type": "markdown",
      "source": [
        "```python\n",
        "def main():\n",
        "    print(\"Hello World\")  \n",
        "  \n",
        "if __name__ == \"__main__\":\n",
        "    main()\n",
        "```\n",
        "\n",
        "```cpp\n",
        "#include <iostream>   \n",
        "int main()  \n",
        "{\n",
        "    std::cout << \"Hello World\" << std::endl;    \n",
        "    return 0;  \n",
        "}\n",
        "```\n",
        "\n",
        "```c\n",
        "#include <stdio.h>   \n",
        "int main()  \n",
        "{   \n",
        "    printf(\"Hello World\");   \n",
        "    return 0;  \n",
        "}\n",
        "```"
      ],
      "metadata": {
        "id": "SHDgy-4u6WB-"
      }
    },
    {
      "cell_type": "markdown",
      "source": [
        "###**Chapter 2 User Input**"
      ],
      "metadata": {
        "id": "KBI5ZziWPVwv"
      }
    },
    {
      "cell_type": "markdown",
      "source": [
        "####**Section 1 Word**"
      ],
      "metadata": {
        "id": "kVl5dmyBI9Oo"
      }
    },
    {
      "cell_type": "markdown",
      "source": [
        "#####**Add Two Numbers from User [eng|](https://www.youtube.com/watch?v=YYRSBD7HJTQ&list=PLM4pPs1mzl_OgHW0_jfgDz3ZR_gUbp-47&index=18)**"
      ],
      "metadata": {
        "id": "Ajv4ARZW3JqJ"
      }
    },
    {
      "cell_type": "markdown",
      "source": [
        "```python\n",
        "def main():\n",
        "    a, b = tuple(int(x) for x in input(\"Enter two integers : \").split())   \n",
        "    c = a + b    \n",
        "    print(f\"{a} + {b} = {c}\")  \n",
        "  \n",
        "if __name__ == \"__main__\":\n",
        "    main()\n",
        "```\n",
        "\n",
        "```cpp\n",
        "#include <iostream>  \n",
        "  \n",
        "int main()  \n",
        "{  \n",
        "    int a, b, c;  \n",
        "\n",
        "    std::cout << \"Enter value of a and b : \";  \n",
        "    std::cin >> a >> b;  \n",
        "  \n",
        "    c = a + b;  \n",
        "      \n",
        "    std::cout << a << \" + \" << b << \" = \" << c << std::endl;  \n",
        "  \n",
        "    return 0;  \n",
        "}\n",
        "```\n",
        "\n",
        "```c\n",
        "#include <stdio.h>  \n",
        "  \n",
        "int main()  \n",
        "{  \n",
        "    int a, b, c;  \n",
        "  \n",
        "    printf(\"Enter value of a and b\\n\");  \n",
        "    scanf(\"%d%d\", &a, &b);  \n",
        "  \n",
        "    c = a + b;  \n",
        "      \n",
        "    printf(\"%d + %d = %d\\n\", a, b, c);  \n",
        "  \n",
        "    return 0;  \n",
        "}\n",
        "```"
      ],
      "metadata": {
        "id": "bnuvqUKIxytG"
      }
    },
    {
      "cell_type": "markdown",
      "source": [
        "#####**Subtract Two Numbers from User [eng|](https://www.youtube.com/watch?v=2cAMGtToJNE&list=PLM4pPs1mzl_OgHW0_jfgDz3ZR_gUbp-47&index=19)**"
      ],
      "metadata": {
        "id": "h3PY3288iMtd"
      }
    },
    {
      "cell_type": "markdown",
      "source": [
        "```python\n",
        "def main():\n",
        "    a, b = tuple(int(x) for x in input(\"Enter two integers : \").split())   \n",
        "    c = a - b    \n",
        "    print(f\"{a} - {b} = {c}\")  \n",
        "  \n",
        "if __name__ == \"__main__\":\n",
        "    main()\n",
        "```\n",
        "\n",
        "```cpp\n",
        "#include <iostream>  \n",
        "  \n",
        "int main()  \n",
        "{  \n",
        "    int a, b, c;  \n",
        "\n",
        "    std::cout << \"Enter value of a and b : \";  \n",
        "    std::cin >> a >> b;  \n",
        "  \n",
        "    c = a - b;  \n",
        "      \n",
        "    std::cout << a << \" - \" << b << \" = \" << c << std::endl;  \n",
        "  \n",
        "    return 0;  \n",
        "}\n",
        "```\n",
        "\n",
        "```c\n",
        "#include <stdio.h>  \n",
        "  \n",
        "int main()  \n",
        "{  \n",
        "    int a, b, c;  \n",
        "  \n",
        "    printf(\"Enter value of a and b\\n\");  \n",
        "    scanf(\"%d%d\", &a, &b);  \n",
        "  \n",
        "    c = a - b;  \n",
        "      \n",
        "    printf(\"%d - %d = %d\\n\", a, b, c);  \n",
        "  \n",
        "    return 0;  \n",
        "}\n",
        "```"
      ],
      "metadata": {
        "id": "xtH4saMwiMtn"
      }
    },
    {
      "cell_type": "markdown",
      "source": [
        "#####**Multiply Two Numbers from User [eng|](https://www.youtube.com/watch?v=AFbtnOAH7eE&list=PLM4pPs1mzl_OgHW0_jfgDz3ZR_gUbp-47&index=20)**"
      ],
      "metadata": {
        "id": "TAip5EXNivFq"
      }
    },
    {
      "cell_type": "markdown",
      "source": [
        "```python\n",
        "def main():\n",
        "    a, b = tuple(int(x) for x in input(\"Enter two integers : \").split())   \n",
        "    c = a * b    \n",
        "    print(f\"{a} * {b} = {c}\")  \n",
        "  \n",
        "if __name__ == \"__main__\":\n",
        "    main()\n",
        "```\n",
        "\n",
        "```cpp\n",
        "#include <iostream>  \n",
        "  \n",
        "int main()  \n",
        "{  \n",
        "    int a, b, c;  \n",
        "\n",
        "    std::cout << \"Enter value of a and b : \";  \n",
        "    std::cin >> a >> b;  \n",
        "  \n",
        "    c = a * b;  \n",
        "      \n",
        "    std::cout << a << \" * \" << b << \" = \" << c << std::endl;  \n",
        "  \n",
        "    return 0;  \n",
        "}\n",
        "```\n",
        "\n",
        "```c\n",
        "#include <stdio.h>  \n",
        "  \n",
        "int main()  \n",
        "{  \n",
        "    int a, b, c;  \n",
        "  \n",
        "    printf(\"Enter value of a and b : \");  \n",
        "    scanf(\"%d%d\", &a, &b);  \n",
        "  \n",
        "    c = a * b;  \n",
        "      \n",
        "    printf(\"%d * %d = %d\\n\", a, b, c);  \n",
        "  \n",
        "    return 0;  \n",
        "}\n",
        "```"
      ],
      "metadata": {
        "id": "hLwL0sTXivFy"
      }
    },
    {
      "cell_type": "markdown",
      "source": [
        "#####**Convert Kilometer To Meter, Centimeter, Millimeter [eng|](https://www.youtube.com/watch?v=zj79Yj0-ctI&list=PLM4pPs1mzl_OgHW0_jfgDz3ZR_gUbp-47&index=58)**"
      ],
      "metadata": {
        "id": "1RJZ7DELtPiS"
      }
    },
    {
      "cell_type": "markdown",
      "source": [
        "```python\n",
        "def main():  \n",
        "    km = float(input(\"Enter the distance in Kilometer : \"))  \n",
        "  \n",
        "    m  = km * 1e3  \n",
        "    cm = km * 1e6  \n",
        "    mm = km * 1e9  \n",
        "  \n",
        "    print(f\"Distance in Meter is {m}\")\n",
        "    print(f\"Distance in Centimeter is {cm}\")  \n",
        "    print(f\"Distance in Milimeter is {mm}\")\n",
        "  \n",
        "if __name__ == \"__main__\":\n",
        "    main()\n",
        "```\n",
        "\n",
        "```cpp\n",
        "#include <iostream>  \n",
        "  \n",
        "int main()  \n",
        "{  \n",
        "    double km, cm, mm, m;  \n",
        "  \n",
        "    std::cout << \"Enter the distance in Kilometer : \";  \n",
        "    std::cin >> km;  \n",
        "  \n",
        "    m  = km * 1e3;  \n",
        "    cm = km * 1e6;  \n",
        "    mm = km * 1e9;  \n",
        "  \n",
        "    std::cout << \"Distance in Meter is \" << m << std::endl;  \n",
        "    std::cout << \"Distance in Centimeter is \" << cm << std::endl;  \n",
        "    std::cout << \"Distance in Milimeter is \" << mm << std::endl;  \n",
        "  \n",
        "    return 0;  \n",
        "}\n",
        "```\n",
        "\n",
        "```c\n",
        "#include <stdio.h>  \n",
        "  \n",
        "int main()  \n",
        "{  \n",
        "    double km, cm, mm, m;  \n",
        "  \n",
        "    printf(\"Enter the distance in Kilometer : \");  \n",
        "    scanf(\"%lf\", &km);  \n",
        "  \n",
        "    m  = km * 1e3;  \n",
        "    cm = km * 1e6;  \n",
        "    mm = km * 1e9;  \n",
        "  \n",
        "    printf(\"Distance in Meter is %lf\\n\", m);  \n",
        "    printf(\"Distance in Centimeter is %lf\\n\", cm);  \n",
        "    printf(\"Distance in Milimeter is %lf\\n\", mm);  \n",
        "  \n",
        "    return 0;  \n",
        "}\n",
        "```"
      ],
      "metadata": {
        "id": "NlZ_yp9JGX2R"
      }
    },
    {
      "cell_type": "markdown",
      "source": [
        "#####**Print ASCII Code [src|](https://cafe.naver.com/honeyc/46948)**"
      ],
      "metadata": {
        "id": "b08vhLlpcjW8"
      }
    },
    {
      "cell_type": "markdown",
      "source": [
        "```python\n",
        "import sys\n",
        "\n",
        "def main():\n",
        "    try:\n",
        "        ch = input(\"Enter a character to see its ASCII code: \")[0]\n",
        "        print(f\"Character: {ch}\")\n",
        "        print(f\"ASCII Code: {ord(ch)}\")\n",
        "    except IndexError:\n",
        "        sys.stderr.write(\"Invalid input. Please enter a valid character.\\n\")\n",
        "\n",
        "    sys.exit(0)\n",
        "  \n",
        "if __name__ == \"__main__\":\n",
        "    main()\n",
        "```\n",
        "\n",
        "```cpp\n",
        "#include <iostream>\n",
        "\n",
        "int main()\n",
        "{\n",
        "    char ch;\n",
        "\n",
        "    std::cout << \"Enter a character to see its ASCII code: \";\n",
        "    if (std::cin >> ch)\n",
        "    {\n",
        "        std::cout << \"Character: \" << ch << std::endl;\n",
        "        std::cout << \"ASCII Code: \" << static_cast<int>(ch) << std::endl;\n",
        "    }\n",
        "    else\n",
        "    {\n",
        "        std::cerr << \"Invalid input. Please enter a valid character.\" << std::endl;\n",
        "    }\n",
        "\n",
        "    return 0;\n",
        "}\n",
        "```\n",
        "\n",
        "```c\n",
        "#include <stdio.h>\n",
        "\n",
        "int main() {\n",
        "    char ch;\n",
        "\n",
        "    printf(\"Enter a character to see its ASCII code: \");\n",
        "    if (scanf(\"%c\", &ch) == 1)\n",
        "    {\n",
        "        printf(\"Character: %c\\n\", ch);\n",
        "        printf(\"ASCII Code: %d\\n\", (int)ch);\n",
        "    }\n",
        "    else\n",
        "    {\n",
        "        fprintf(stderr, \"Invalid input. Please enter a valid character.\\n\");\n",
        "    }\n",
        "\n",
        "    return 0;\n",
        "}\n",
        "\n",
        "```"
      ],
      "metadata": {
        "id": "OB-ZLD8PcjXF"
      }
    },
    {
      "cell_type": "markdown",
      "source": [
        "####**Section 2 Line**"
      ],
      "metadata": {
        "id": "KJ4Ndxr7Ixin"
      }
    },
    {
      "cell_type": "markdown",
      "source": [
        "#####**Print Hello World**"
      ],
      "metadata": {
        "id": "ehODEwgEJDm_"
      }
    },
    {
      "cell_type": "markdown",
      "source": [
        "```python\n",
        "def main():\n",
        "    s = input(\"Enter a sentence: \")\n",
        "\n",
        "    # If the user enters \"Hello, World!\"\n",
        "    # The content of 's' will be \"Hello, World!\"\n",
        "\n",
        "    print(\"You entered:\", s)\n",
        "\n",
        "\n",
        "if __name__ == \"__main__\":\n",
        "    main()\n",
        "\n",
        "```\n",
        "\n",
        "```cpp\n",
        "#include <iostream>\n",
        "\n",
        "int main()\n",
        "{\n",
        "    char s[256];\n",
        "    std::cout << \"Enter a sentence : \";\n",
        "    std::cin.getline(s, 255);\n",
        "\n",
        "    // If the user enters \"Hello, World!\"\n",
        "    // The content of 's' will be \"Hello, World!\\n\"\n",
        "\n",
        "    std::cout << \"You enter : \" << s << std::endl;\n",
        "\n",
        "    return 0;\n",
        "}\n",
        "```\n",
        "\n",
        "```c\n",
        "#include <stdio.h>\n",
        "\n",
        "int main() {\n",
        "    char s[256];\n",
        "    printf(\"Enter a sentence: \");\n",
        "    fgets(s, sizeof(s), stdin);\n",
        "\n",
        "    // If the user enters \"Hello, World!\"\n",
        "    // The content of 's' will be \"Hello, World!\\n\"\n",
        "\n",
        "    printf(\"You entered: %s\", s);\n",
        "\n",
        "    return 0;\n",
        "}\n",
        "```\n"
      ],
      "metadata": {
        "id": "WxO7inyBJDnI"
      }
    },
    {
      "cell_type": "markdown",
      "source": [
        "#####**Palindrome [src|](https://cafe.naver.com/honeyc?iframe_url_utf8=%2FArticleRead.nhn%253FreferrerAllArticles%3Dfalse%2526menuid%3D117%2526page%3D2%2526boardtype%3DL%2526clubid%3D11957566%2526articleid%3D80445)**"
      ],
      "metadata": {
        "id": "IVZjM5cSiLLr"
      }
    },
    {
      "cell_type": "markdown",
      "source": [
        "```python\n",
        "def is_palindrome(p):\n",
        "    p = p.lower()  # Convert the input to lowercase for case-insensitive comparison\n",
        "    return p == p[::-1]  # Check if the input is the same when reversed\n",
        "\n",
        "def main():\n",
        "    s = input(\"Enter a word to check for palindrome: \")\n",
        "    \n",
        "    if is_palindrome(s):\n",
        "        print(f\"{s} is a palindrome.\")\n",
        "    else:\n",
        "        print(f\"{s} is not a palindrome.\")\n",
        "\n",
        "if __name__ == \"__main__\":\n",
        "    main()\n",
        "\n",
        "```\n",
        "\n",
        "```cpp\n",
        "#include <iostream>\n",
        "#include <string.h> // strcpy, strcmp, strlen\n",
        "\n",
        "bool is_palindrome(const char* p);\n",
        "\n",
        "int main()\n",
        "{\n",
        "    char s[255];\n",
        "    std::cout << \"Enter a word to check for palindrome: \";\n",
        "    std::cin.getline(s, 255);\n",
        "\n",
        "    if (is_palindrome(s)) {std::cout << s << \" is a palindrome.\" << std::endl;}\n",
        "    else {std::cout << s << \" is not a palindrome.\" << std::endl;}\n",
        "\n",
        "    return 0;\n",
        "}\n",
        "\n",
        "bool is_palindrome(const char* p) {\n",
        "    int len = strlen(p);\n",
        "    for (int i = 0; i < len / 2; i++)\n",
        "    {\n",
        "        if (p[i] != p[len - i - 1]) {return false;}\n",
        "    }\n",
        "    return true;\n",
        "}\n",
        "```\n",
        "\n",
        "```c\n",
        "#include <stdio.h>\n",
        "#include <string.h> // strcpy, strcmp, strlen\n",
        "\n",
        "int is_palindrome(const char* p);\n",
        "\n",
        "int main() {\n",
        "    char s[255];\n",
        "    printf(\"Enter a word to check for palindrome: \");\n",
        "    fgets(s, sizeof(s), stdin);\n",
        "    s[strlen(s) - 1] = '\\0'; // Remove the newline character from fgets\n",
        "\n",
        "    if (is_palindrome(s)) {\n",
        "        printf(\"%s is a palindrome.\\n\", s);\n",
        "    } else {\n",
        "        printf(\"%s is not a palindrome.\\n\", s);\n",
        "    }\n",
        "\n",
        "    return 0;\n",
        "}\n",
        "\n",
        "int is_palindrome(const char* p) {\n",
        "    int len = strlen(p);\n",
        "    for (int i = 0; i < len / 2; i++) {\n",
        "        if (p[i] != p[len - i - 1]) {\n",
        "            return 0; // False\n",
        "        }\n",
        "    }\n",
        "    return 1; // True\n",
        "}\n",
        "```\n"
      ],
      "metadata": {
        "id": "8OnoZ7iZiLL1"
      }
    },
    {
      "cell_type": "markdown",
      "source": [
        "#####**Count Number of Characters [src|]()**"
      ],
      "metadata": {
        "id": "tW4BGCU3Tgv8"
      }
    },
    {
      "cell_type": "markdown",
      "source": [
        "```python\n",
        "def main():  \n",
        "    str_input = input(\"Enter string: \")\n",
        "    print(\"Given string:\", str_input)\n",
        "\n",
        "    ch = input(\"Enter character to count in given string: \")\n",
        "\n",
        "    count = 0\n",
        "    for char in str_input:\n",
        "        if char == ch:\n",
        "            count += 1\n",
        "\n",
        "    print(f\"Character '{ch}' appears {count} times in the given string\")\n",
        "  \n",
        "if __name__ == \"__main__\":\n",
        "    main()\n",
        "```\n",
        "\n",
        "```cpp\n",
        "#include <iostream>\n",
        "\n",
        "int main()\n",
        "{\n",
        "\tchar str[1000];\n",
        "\tstd::cout << \"enter string : \";\n",
        "\tstd::cin.getline(str, 1000);\n",
        "\tstd::cout << \"given string : \" << str << std::endl;\n",
        "\n",
        "\tchar ch;\n",
        "\tstd::cout << \"enter character to count in given string : \";\n",
        "\tstd::cin >> ch;\n",
        "\n",
        "\tint count = 0;\n",
        "\tfor (int i = 0; str[i] != '\\0'; i++) { if (str[i] == ch) {++count;} }\n",
        "\n",
        "\tstd::cout << \"character \" << ch << \" appears \";\n",
        "    std::cout << count << \" times in the given string\" << std::endl;\n",
        "\n",
        "\treturn 0;\n",
        "}\n",
        "```\n",
        "\n",
        "```c\n",
        "#include <stdio.h>\n",
        "\n",
        "int main()\n",
        "{\n",
        "    char str[1000];\n",
        "    printf(\"Enter string: \");\n",
        "    fgets(str, sizeof(str), stdin);\n",
        "    printf(\"Given string: %s\", str);\n",
        "\n",
        "    char ch;\n",
        "    printf(\"Enter character to count in given string: \");\n",
        "    scanf(\" %c\", &ch);\n",
        "\n",
        "    int count = 0;\n",
        "    for (int i = 0; str[i] != '\\0'; i++) { if (str[i] == ch) {++count;} }\n",
        "\n",
        "    printf(\"Character '%c' appears %d times in the given string\\n\", ch, count);\n",
        "\n",
        "    return 0;\n",
        "}\n",
        "\n",
        "```"
      ],
      "metadata": {
        "id": "PJBn-WaNTgwG"
      }
    },
    {
      "cell_type": "markdown",
      "source": [
        "###**Chapter 3 Format Specifier**"
      ],
      "metadata": {
        "id": "RWNIatN0mF_j"
      }
    },
    {
      "cell_type": "markdown",
      "source": [
        "#####**Print from 1 to 5 [src|](https://cafe.naver.com/honeyc/46948)**"
      ],
      "metadata": {
        "id": "AjfO-YLMmOHA"
      }
    },
    {
      "cell_type": "markdown",
      "source": [
        "```python\n",
        "def main():  \n",
        "    for i in range(1, 6):\n",
        "        print(f\"{i:8}\")\n",
        "  \n",
        "if __name__ == \"__main__\":\n",
        "    main()\n",
        "```\n",
        "\n",
        "```cpp\n",
        "#include <iostream>\n",
        "#include <iomanip>\n",
        "\n",
        "int main() {\n",
        "\tfor (int i = 1; i <= 5; i++)\n",
        "    {\n",
        "\t\tstd::cout<< std::right << std::setw(8) << i << std::endl;\n",
        "\t}\n",
        "\treturn 0;\n",
        "}\n",
        "```\n",
        "\n",
        "```c\n",
        "#include <stdio.h>\n",
        "\n",
        "int main()\n",
        "{\n",
        "    for (int i = 1; i <= 5; i++)\n",
        "    {\n",
        "        printf(\"%8d\\n\", i);\n",
        "    }\n",
        "    return 0;\n",
        "}\n",
        "\n",
        "```"
      ],
      "metadata": {
        "id": "2_DX9DQHmOHJ"
      }
    },
    {
      "cell_type": "markdown",
      "source": [
        "#**PART II DATA**"
      ],
      "metadata": {
        "id": "hkQHWt0ySCao"
      }
    },
    {
      "cell_type": "markdown",
      "source": [
        "###**Chapter 1 Integer**"
      ],
      "metadata": {
        "id": "kpIIreZ9B5yY"
      }
    },
    {
      "cell_type": "markdown",
      "source": [
        "#####**int [eng|](https://www.youtube.com/watch?v=gdv2bNZyko0&list=PLvv0ScY6vfd8j-tlhYVPYgiIyXduu6m-L&index=10&ab_channel=MikeShah&t=46s)**"
      ],
      "metadata": {
        "id": "2hJ2v20GB-Re"
      }
    },
    {
      "cell_type": "markdown",
      "source": [
        "```python\n",
        "def main():\n",
        "    x = 42\n",
        "    print(x)\n",
        "    print(f\"{x.bit_length() // 8 + 1} bytes\\n\")\n",
        "\n",
        "    y = 4457668857445\n",
        "    print(y)\n",
        "    print(f\"{y.bit_length() // 8 + 1} bytes\")\n",
        "\n",
        "if __name__ == \"__main__\":\n",
        "    main()\n",
        "```\n",
        "\n",
        "```cpp\n",
        "#include <iostream>\n",
        "\n",
        "int main()\n",
        "{\n",
        "    int x = 42;\n",
        "    std::cout << x << std::endl;\n",
        "    std::cout << sizeof(x) << std::endl << std::endl;\n",
        "\n",
        "    int y = 4457668857445;\n",
        "    /* warning: implicit conversion from 'long' to 'int' changes value\n",
        "    from 4457668857445 to -507195803 [-Wconstant-conversion] */\n",
        "    std::cout << y << std::endl;\n",
        "    std::cout << sizeof(y) << std::endl;\n",
        "\n",
        "    return 0;\n",
        "}\n",
        "```\n",
        "\n",
        "```c\n",
        "#include <stdio.h>\n",
        "\n",
        "int main()\n",
        "{\n",
        "    int x = 42;\n",
        "    printf(\"%d\\n\", x);\n",
        "    printf(\"%zu bytes\\n\\n\", sizeof(x));\n",
        "\n",
        "    int y = 4457668857445;\n",
        "    /* warning: implicit conversion from 'long' to 'int' changes value\n",
        "    from 4457668857445 to -507195803 [-Wconstant-conversion] */\n",
        "    printf(\"%d\\n\", y);\n",
        "    printf(\"%zu bytes\\n\", sizeof(y));\n",
        "\n",
        "    return 0;\n",
        "}\n",
        "```"
      ],
      "metadata": {
        "id": "l8hIM-3xB-Ro"
      }
    },
    {
      "cell_type": "markdown",
      "source": [
        "###**Chapter 2 Float**"
      ],
      "metadata": {
        "id": "OBNHMXlxEOlK"
      }
    },
    {
      "cell_type": "markdown",
      "source": [
        "#####**float [eng|](https://www.youtube.com/watch?v=gdv2bNZyko0&list=PLvv0ScY6vfd8j-tlhYVPYgiIyXduu6m-L&index=10&ab_channel=MikeShah&t=7m53s)**"
      ],
      "metadata": {
        "id": "2lANnQ-uEOlU"
      }
    },
    {
      "cell_type": "markdown",
      "source": [
        "```python\n",
        "import sys\n",
        "\n",
        "def main():\n",
        "    x = 3.14\n",
        "    print(x)\n",
        "    print(sys.getsizeof(x), \"bytes\\n\")\n",
        "\n",
        "    y = 3.1415926535897932384626433832795028\n",
        "    print(y)\n",
        "    print(sys.getsizeof(y), \"bytes\")\n",
        "\n",
        "if __name__ == \"__main__\":\n",
        "    main()\n",
        "```\n",
        "\n",
        "```cpp\n",
        "#include <iostream>\n",
        "\n",
        "int main()\n",
        "{\n",
        "    float x = 3.14;\n",
        "    std::cout << x << std::endl;\n",
        "    std::cout << sizeof(x) << std::endl << std::endl;\n",
        "\n",
        "    float y = 3.1415926535897932384626433832795028;\n",
        "    std::cout << y << std::endl;\n",
        "    std::cout << sizeof(y) << std::endl;\n",
        "\n",
        "    return 0;\n",
        "}\n",
        "```\n",
        "\n",
        "```c\n",
        "#include <stdio.h>\n",
        "\n",
        "int main()\n",
        "{\n",
        "    float x = 3.14;\n",
        "    printf(\"%f\\n\", x);\n",
        "    printf(\"%zu bytes\\n\\n\", sizeof(x));\n",
        "\n",
        "    float y = 3.1415926535897932384626433832795028;\n",
        "    printf(\"%f\\n\", y);\n",
        "    printf(\"%zu bytes\\n\", sizeof(y));\n",
        "\n",
        "    return 0;\n",
        "}\n",
        "```"
      ],
      "metadata": {
        "id": "OWS8uhGHEOlU"
      }
    },
    {
      "cell_type": "markdown",
      "source": [
        "###**Chapter 3 Boolean**"
      ],
      "metadata": {
        "id": "Yhp4h81A9z0K"
      }
    },
    {
      "cell_type": "markdown",
      "source": [
        "#####**bool [eng|](https://www.youtube.com/watch?v=gdv2bNZyko0&list=PLvv0ScY6vfd8j-tlhYVPYgiIyXduu6m-L&index=10&ab_channel=MikeShah&t=7m14s)**"
      ],
      "metadata": {
        "id": "-vCGlfzg9Irg"
      }
    },
    {
      "cell_type": "markdown",
      "source": [
        "```python\n",
        "def main():\n",
        "    x = True\n",
        "    print(x)\n",
        "    print(x.__sizeof__())\n",
        "\n",
        "    y = False\n",
        "    print(y)\n",
        "    print(y.__sizeof__())\n",
        "\n",
        "if __name__ == \"__main__\":\n",
        "    main()\n",
        "```\n",
        "\n",
        "```cpp\n",
        "#include <iostream>\n",
        "\n",
        "int main()\n",
        "{\n",
        "    bool x = true;\n",
        "    std::cout << x << std::endl;\n",
        "    std::cout << sizeof(x) << std::endl << std::endl;\n",
        "\n",
        "    bool y = false;\n",
        "    std::cout << y << std::endl;\n",
        "    std::cout << sizeof(y) << std::endl;\n",
        "\n",
        "    return 0;\n",
        "}\n",
        "```\n",
        "\n",
        "```c\n",
        "#include <stdio.h>\n",
        "\n",
        "int main()\n",
        "{\n",
        "    _Bool x = 1;\n",
        "    printf(\"%d\\n\", x);\n",
        "    printf(\"%zu\\n\\n\", sizeof(x));\n",
        "\n",
        "    _Bool y = 0;\n",
        "    printf(\"%d\\n\", y);\n",
        "    printf(\"%zu\\n\", sizeof(y));\n",
        "\n",
        "    return 0;\n",
        "}\n",
        "```"
      ],
      "metadata": {
        "id": "9uGYubxj9Irq"
      }
    },
    {
      "cell_type": "markdown",
      "source": [
        "#####**is_positive [src|](https://cafe.naver.com/honeyc?iframe_url_utf8=%2FArticleRead.nhn%253Fclubid%3D11957566%2526page%3D1%2526menuid%3D117%2526boardtype%3DL%2526articleid%3D80440%2526referrerAllArticles%3Dfalse)**"
      ],
      "metadata": {
        "id": "eCBT74UQ9-dd"
      }
    },
    {
      "cell_type": "markdown",
      "source": [
        "```cpp\n",
        "#include <iostream>\n",
        "\n",
        "bool is_positive(double n);\n",
        "\n",
        "int main() {\n",
        "    int num;\n",
        "    std::cout << \"enter integer : \"; std::cin >> num;\n",
        "\n",
        "    if (is_positive(num)) std::cout << num << \" positive\\n\";\n",
        "    else std::cout << num << \" negative\\n\";\n",
        "    return 0;\n",
        "}\n",
        "\n",
        "bool is_positive(double n)\n",
        "{\n",
        "    if (n < 0) return false;\n",
        "    return true;\n",
        "}\n",
        "```"
      ],
      "metadata": {
        "id": "rRs188h79-dm"
      }
    },
    {
      "cell_type": "markdown",
      "source": [
        "#####**is_upper and is_lower [src|](https://cafe.naver.com/honeyc?iframe_url_utf8=%2FArticleRead.nhn%253Fclubid%3D11957566%2526page%3D1%2526menuid%3D117%2526boardtype%3DL%2526articleid%3D80440%2526referrerAllArticles%3Dfalse)**"
      ],
      "metadata": {
        "id": "jElHrVZM_NBs"
      }
    },
    {
      "cell_type": "markdown",
      "source": [
        "```cpp\n",
        "#include <iostream>\n",
        "\n",
        "bool is_upper(char c);\n",
        "bool is_lower(char c);\n",
        "\n",
        "int main() {\n",
        "    char ch;\n",
        "    std::cout << \"enter character : \"; std::cin >> ch;\n",
        "\n",
        "    if (is_upper(ch)) std::cout << ch << \" : upper\\n\";\n",
        "    else if(is_lower(ch)) std::cout << ch << \" : lower\\n\";\n",
        "    else std::cout << ch << \" : neither upper nor lower\\n\";\n",
        "    return 0;\n",
        "}\n",
        "\n",
        "bool is_upper(char c)\n",
        "{\n",
        "    if (c >= 'A' && c <= 'Z') return true;\n",
        "    return false;\n",
        "}\n",
        "\n",
        "bool is_lower(char c)\n",
        "{\n",
        "    if (c >= 'a' && c <= 'z') return true;\n",
        "    return false;\n",
        "}\n",
        "```"
      ],
      "metadata": {
        "id": "_k3xmPUE_NB2"
      }
    },
    {
      "cell_type": "markdown",
      "source": [
        "#####**is_leap_year [src|](https://cafe.naver.com/honeyc?iframe_url_utf8=%2FArticleRead.nhn%253Fclubid%3D11957566%2526page%3D1%2526menuid%3D117%2526boardtype%3DL%2526articleid%3D80440%2526referrerAllArticles%3Dfalse)**"
      ],
      "metadata": {
        "id": "Gs5EZw4LApSc"
      }
    },
    {
      "cell_type": "markdown",
      "source": [
        "```cpp\n",
        "#include <iostream>\n",
        "\n",
        "bool is_leap_year(int year);\n",
        "\n",
        "int main() {\n",
        "    int year;\n",
        "    std::cout << \"enter year : \"; std::cin >> year;\n",
        "\n",
        "    if (is_leap_year(year)) std::cout << year << \" : leap year\\n\";\n",
        "    else std::cout << year << \" : not leap year\\n\";\n",
        "    return 0;\n",
        "}\n",
        "\n",
        "bool is_leap_year(int year)\n",
        "{\n",
        "    if (year % 4 == 0 && year % 100 != 0) return true;\n",
        "    else if (year % 400 == 0) return true;\n",
        "    return false;\n",
        "}\n",
        "```"
      ],
      "metadata": {
        "id": "FZLqVbnjApSm"
      }
    },
    {
      "cell_type": "markdown",
      "source": [
        "###**Chapter 4 Character**"
      ],
      "metadata": {
        "id": "eGQh2T3kF2vd"
      }
    },
    {
      "cell_type": "markdown",
      "source": [
        "#####**char [eng|](https://www.youtube.com/watch?v=gdv2bNZyko0&list=PLvv0ScY6vfd8j-tlhYVPYgiIyXduu6m-L&index=10&ab_channel=MikeShah&t=9m6s)**"
      ],
      "metadata": {
        "id": "NEyukncmF7si"
      }
    },
    {
      "cell_type": "markdown",
      "source": [
        "```python\n",
        "import sys\n",
        "\n",
        "def main():\n",
        "    x = 'a'\n",
        "    print(x)\n",
        "    print(sys.getsizeof(x))\n",
        "\n",
        "    y = 'abc'\n",
        "    print(y)\n",
        "    print(sys.getsizeof(y))\n",
        "\n",
        "if __name__ == \"__main__\":\n",
        "    main()\n",
        "```\n",
        "\n",
        "```cpp\n",
        "#include <iostream>\n",
        "\n",
        "int main()\n",
        "{\n",
        "    char x = 'a';\n",
        "    std::cout << x << std::endl;\n",
        "    std::cout << sizeof(x) << std::endl << std::endl;\n",
        "\n",
        "    char y = 'abc';\n",
        "    /* warning: multi-character character constant [-Wmultichar] */\n",
        "    std::cout << y << std::endl;\n",
        "    std::cout << sizeof(y) << std::endl;\n",
        "\n",
        "    return 0;\n",
        "}\n",
        "```\n",
        "\n",
        "```c\n",
        "#include <stdio.h>\n",
        "\n",
        "int main()\n",
        "{\n",
        "    char x = 'a';\n",
        "    printf(\"%c\\n\", x);\n",
        "    printf(\"%zu bytes\\n\\n\", sizeof(x));\n",
        "\n",
        "    char y = 'abc';\n",
        "    /* warning: multi-character character constant [-Wmultichar] */\n",
        "    printf(\"%c\\n\", y);\n",
        "    printf(\"%zu bytes\\n\", sizeof(y));\n",
        "\n",
        "    return 0;\n",
        "}\n",
        "```"
      ],
      "metadata": {
        "id": "AkASIFkEF7ss"
      }
    },
    {
      "cell_type": "markdown",
      "source": [
        "###**Chapter 5 String**"
      ],
      "metadata": {
        "id": "XWJFdZxp4ONj"
      }
    },
    {
      "cell_type": "markdown",
      "source": [
        "#####**const char* [eng|](https://www.youtube.com/watch?v=gdv2bNZyko0&list=PLvv0ScY6vfd8j-tlhYVPYgiIyXduu6m-L&index=10&ab_channel=MikeShah&t=10m3s)**"
      ],
      "metadata": {
        "id": "LZJvBC5lIKc_"
      }
    },
    {
      "cell_type": "markdown",
      "source": [
        "\n",
        "\n",
        "```cpp\n",
        "#include <iostream>\n",
        "\n",
        "int main()\n",
        "{\n",
        "    const char* x = \"a\";\n",
        "    std::cout << \"x = \" << x << std::endl;\n",
        "    std::cout << \"sizeof(x) = \" << sizeof(x) << std::endl;\n",
        "\n",
        "    const char* y = \"abc\";\n",
        "    std::cout << \"y = \" << y << std::endl;\n",
        "    std::cout << \"sizeof(y) = \" << sizeof(y) << std::endl;\n",
        "\n",
        "    return 0;\n",
        "}\n",
        "```\n",
        "\n",
        "```c\n",
        "#include <stdio.h>\n",
        "\n",
        "int main()\n",
        "{\n",
        "    const char* x = \"a\";\n",
        "    printf(\"x = %s\\n\", x);\n",
        "    printf(\"sizeof(x) = %zu bytes\\n\\n\", sizeof(x));\n",
        "\n",
        "    const char* y = \"abc\";\n",
        "    printf(\"y = %s\\n\", y);\n",
        "    printf(\"sizeof(y) = %zu bytes\\n\", sizeof(y));\n",
        "\n",
        "    return 0;\n",
        "}\n",
        "```"
      ],
      "metadata": {
        "id": "2IhZHq5fIKdJ"
      }
    },
    {
      "cell_type": "markdown",
      "source": [
        "#####**Character Array**"
      ],
      "metadata": {
        "id": "6YbXwiKkJDhy"
      }
    },
    {
      "cell_type": "markdown",
      "source": [
        "\n",
        "\n",
        "```cpp\n",
        "#include <iostream>\n",
        "\n",
        "int main()\n",
        "{\n",
        "    char x[] = \"a\";\n",
        "    std::cout << \"x = \" << x << std::endl;\n",
        "    std::cout << \"sizeof(x) = \" << sizeof(x) << std::endl;\n",
        "\n",
        "    char y[] = \"abc\";\n",
        "    char x[] = \"a\";\n",
        "    std::cout << \"y = \" << y << std::endl;\n",
        "    std::cout << \"sizeof(y) = \" << sizeof(y) << std::endl;\n",
        "\n",
        "    return 0;\n",
        "}\n",
        "```\n",
        "\n",
        "```c\n",
        "#include <stdio.h>\n",
        "\n",
        "int main()\n",
        "{\n",
        "    char x[] = \"a\";\n",
        "    printf(\"x = %s\\n\", x);\n",
        "    printf(\"sizeof(x) = %zu bytes\\n\\n\", sizeof(x));\n",
        "\n",
        "    char y[] = \"abc\";\n",
        "    printf(\"y = %s\\n\", y);\n",
        "    printf(\"sizeof(y) = %zu bytes\\n\", sizeof(y));\n",
        "\n",
        "    return 0;\n",
        "}\n",
        "```"
      ],
      "metadata": {
        "id": "DsipKoybJDh8"
      }
    },
    {
      "cell_type": "markdown",
      "source": [
        "#####**std::string [eng|](https://www.youtube.com/watch?v=gdv2bNZyko0&list=PLvv0ScY6vfd8j-tlhYVPYgiIyXduu6m-L&index=10&ab_channel=MikeShah&t=10m30s)**"
      ],
      "metadata": {
        "id": "roinHl_2JgvK"
      }
    },
    {
      "cell_type": "markdown",
      "source": [
        "```python\n",
        "import sys\n",
        "\n",
        "def main():\n",
        "    x = 'a'\n",
        "    print(f\"{x = }\")\n",
        "    print(f\"{sys.getsizeof(x) = }\")\n",
        "\n",
        "    y = 'abc'\n",
        "    print(f\"{y = }\")\n",
        "    print(f\"{sys.getsizeof(y) = }\")\n",
        "\n",
        "if __name__ == \"__main__\":\n",
        "    main()\n",
        "```\n",
        "\n",
        "```cpp\n",
        "#include <iostream>\n",
        "#include <string>\n",
        "\n",
        "int main()\n",
        "{\n",
        "    std::string x = \"a\";\n",
        "    std::cout << \"x = \" << x << std::endl;\n",
        "    std::cout << \"sizeof(x) = \" << sizeof(x) << std::endl;\n",
        "\n",
        "    std::string y = \"abc\";\n",
        "    std::cout << \"y = \" << y << std::endl;\n",
        "    std::cout << \"sizeof(y) = \" << sizeof(y) << std::endl;\n",
        "\n",
        "    return 0;\n",
        "}\n",
        "```\n",
        "\n"
      ],
      "metadata": {
        "id": "fRtLxm50JgvU"
      }
    },
    {
      "cell_type": "markdown",
      "source": [
        "#####**String [src|](https://cafe.naver.com/honeyc?iframe_url_utf8=%2FArticleRead.nhn%253FreferrerAllArticles%3Dfalse%2526menuid%3D117%2526page%3D1%2526boardtype%3DL%2526clubid%3D11957566%2526articleid%3D80482)**"
      ],
      "metadata": {
        "id": "N2Il9nhrKCrw"
      }
    },
    {
      "cell_type": "markdown",
      "source": [
        "```cpp\n",
        "#include <string> //string클래스\n",
        "#include <iostream>\n",
        "\n",
        "int main()\n",
        "{\n",
        "    std::string s = \"hello\"; std::cout << \"s = \" << s << std::endl;\n",
        "\n",
        "    std::string s1 = \"world\";\n",
        "    std::cout << \"s1[0] = \" << s1[0] << std::endl;\n",
        "    std::cout << \"s1[3] = \" << s1.at(3) << std::endl;\n",
        "    std::cout << \"s1[0] = \" << s1.front() << std::endl;\n",
        "    std::cout << \"s1[4] = \" << s1.back() << std::endl;\n",
        "\n",
        "    std::string s2 = s + s1;\n",
        "    std::cout << \"s2 = \" << s2 << std::endl;\n",
        "\n",
        "    s += s1; std::cout << \"s = \" << s << std::endl;\n",
        "    s = \"orange\"; std::cout << \"s = \" << s << std::endl;\n",
        "    s = s1; std::cout << \"s = \" << s << std::endl;\n",
        "\n",
        "    std::string s3;\n",
        "    std::cout << \"문자열 입력 : \";\n",
        "    getline(std::cin, s3);\n",
        "    std::cout << \"s3 = \" << s3 << std::endl;\n",
        "    if (s == s3) std::cout << \"두 문자열은 같습니다.\\n\";\n",
        "    else std::cout << \"두 문자열은 다릅니다.\\n\";\n",
        "\n",
        "    std::string s4 = s.substr(2, 2);\n",
        "    std::cout << \"s1의 2번째 인덱스부터 두 글자를 자르면 \" << s4 << std::endl;\n",
        "\n",
        "    std::cout << \"s1 = \" << s1 << std::endl;\n",
        "    s1.push_back('R');\n",
        "    std::cout << \"s1 = \" << s1 << std::endl;\n",
        "\n",
        "    return 0;\n",
        "}\n",
        "```"
      ],
      "metadata": {
        "id": "TDq99xGBKCr6"
      }
    },
    {
      "cell_type": "markdown",
      "source": [
        "###**Chapter 6 Const**"
      ],
      "metadata": {
        "id": "xYQoNnP5CWLU"
      }
    },
    {
      "cell_type": "markdown",
      "source": [
        "####**Section 1 Constant Variable**"
      ],
      "metadata": {
        "id": "d0ryYdAlFMB5"
      }
    },
    {
      "cell_type": "markdown",
      "source": [
        "#####**const [eng|](https://www.youtube.com/watch?v=M3LaHE6upFU&list=PLvv0ScY6vfd8j-tlhYVPYgiIyXduu6m-L&index=11&ab_channel=MikeShah)**"
      ],
      "metadata": {
        "id": "4B-rRuPZCWLd"
      }
    },
    {
      "cell_type": "markdown",
      "source": [
        "In Python, you don't need to explicitly specify a constant type like you do in C or C++. Instead, you can use a variable and choose not to reassign it to achieve a similar effect.\n",
        "\n",
        "```cpp\n",
        "int main()\n",
        "{\n",
        "    const float pi = 3.14;\n",
        "    pi = 4.0;\n",
        "    /* error: cannot assign to variable 'pi' with const-qualified type\n",
        "    'const float' */\n",
        "    return 0;\n",
        "}\n",
        "```\n",
        "\n",
        "```c\n",
        "int main()\n",
        "{\n",
        "    const float pi = 3.14;\n",
        "    pi = 4.0;\n",
        "    /* error: cannot assign to variable 'pi' with const-qualified type\n",
        "    'const float' */\n",
        "    return 0;\n",
        "}\n",
        "```"
      ],
      "metadata": {
        "id": "BZoxs1LXCWLd"
      }
    },
    {
      "cell_type": "markdown",
      "source": [
        "#####**constexpr [eng|](https://www.youtube.com/watch?v=M3LaHE6upFU&list=PLvv0ScY6vfd8j-tlhYVPYgiIyXduu6m-L&index=11&ab_channel=MikeShah&t=5m5s)**"
      ],
      "metadata": {
        "id": "0e1VPcXFQ4MM"
      }
    },
    {
      "cell_type": "markdown",
      "source": [
        "In Python, you don't need to explicitly specify a constant type like you do in C or C++. Instead, you can use a variable and choose not to reassign it to achieve a similar effect.\n",
        "\n",
        "```cpp\n",
        "int main()\n",
        "{\n",
        "    constexpr float pi = 3.14 + 1.0;\n",
        "    /* constexpr is evaluated at compile-time, and the result is a constant. */\n",
        "    return 0;\n",
        "}\n",
        "```\n",
        "\n",
        "constexpr is a feature in C++ and is not available in standard C (C99 or earlier). It allows you to specify that a function or variable can be evaluated at compile time, making it a constant expression."
      ],
      "metadata": {
        "id": "hrjnxkiKQ4MW"
      }
    },
    {
      "cell_type": "markdown",
      "source": [
        "####**Section 2 Constant Ponter**"
      ],
      "metadata": {
        "id": "cUDGeeVfFduS"
      }
    },
    {
      "cell_type": "markdown",
      "source": [
        "#####**const int* p [src|](https://cafe.naver.com/honeyc?iframe_url_utf8=%2FArticleRead.nhn%253Fclubid%3D11957566%2526page%3D1%2526menuid%3D117%2526boardtype%3DL%2526articleid%3D80463%2526referrerAllArticles%3Dfalse)**"
      ],
      "metadata": {
        "id": "f68GF8YEFw9S"
      }
    },
    {
      "cell_type": "markdown",
      "source": [
        "\n",
        "\n",
        "```cpp\n",
        "int main()\n",
        "{\n",
        "    int a = 5, b =6;\n",
        "\n",
        "    const int* p = &a; // cannot change value at *p\n",
        "    // *p = 3; // error\n",
        "\n",
        "    return 0;\n",
        "}\n",
        "```\n",
        "\n"
      ],
      "metadata": {
        "id": "2Emk4wa7Fw9b"
      }
    },
    {
      "cell_type": "markdown",
      "source": [
        "#####**int* const p [src|](https://cafe.naver.com/honeyc?iframe_url_utf8=%2FArticleRead.nhn%253Fclubid%3D11957566%2526page%3D1%2526menuid%3D117%2526boardtype%3DL%2526articleid%3D80463%2526referrerAllArticles%3Dfalse)**"
      ],
      "metadata": {
        "id": "TMjaVkM4IDVf"
      }
    },
    {
      "cell_type": "markdown",
      "source": [
        "\n",
        "\n",
        "```cpp\n",
        "int main()\n",
        "{\n",
        "    int a = 5, b =6;\n",
        "\n",
        "    const int* p = &a; // cannot change value at *p\n",
        "    // *p = 3; // error\n",
        "\n",
        "    int* const q = &a; // cannot change value at q\n",
        "    // q = &b; // error\n",
        "\n",
        "    return 0;\n",
        "}\n",
        "```\n",
        "\n"
      ],
      "metadata": {
        "id": "SsPnZRegIDVp"
      }
    },
    {
      "cell_type": "markdown",
      "source": [
        "#####**const int* const p [src|](https://cafe.naver.com/honeyc?iframe_url_utf8=%2FArticleRead.nhn%253Fclubid%3D11957566%2526page%3D1%2526menuid%3D117%2526boardtype%3DL%2526articleid%3D80463%2526referrerAllArticles%3Dfalse)**"
      ],
      "metadata": {
        "id": "RUotaXsfIDdQ"
      }
    },
    {
      "cell_type": "markdown",
      "source": [
        "\n",
        "\n",
        "```cpp\n",
        "int main()\n",
        "{\n",
        "    int a = 5, b =6;\n",
        "\n",
        "    const int* p = &a; // cannot change value at *p\n",
        "    // *p = 3; // error\n",
        "\n",
        "    int* const q = &a; // cannot change value at q\n",
        "    // q = &b; // error\n",
        "\n",
        "    const int* const r = &a; // cannot change value at r and *r\n",
        "    // *r = 3; // error\n",
        "    // r = &b; // error\n",
        "    \n",
        "    return 0;\n",
        "}\n",
        "```\n",
        "\n"
      ],
      "metadata": {
        "id": "enlhhp7KIDdQ"
      }
    },
    {
      "cell_type": "markdown",
      "source": [
        "####**Section 3 Constant Function Argument**"
      ],
      "metadata": {
        "id": "mKbqpkbof54T"
      }
    },
    {
      "cell_type": "markdown",
      "source": [
        "#####**Constant Function Argument [eng|](https://www.youtube.com/watch?v=8nTebZ2Hd_Y&list=PLvv0ScY6vfd8j-tlhYVPYgiIyXduu6m-L&index=22&ab_channel=MikeShah&t=4m6s)**"
      ],
      "metadata": {
        "id": "HJn7MN4kf54c"
      }
    },
    {
      "cell_type": "markdown",
      "source": [
        "\n",
        "\n",
        "```cpp\n",
        "#include <iostream>\n",
        "\n",
        "void print(const int& a)\n",
        "{\n",
        "    std::cout << a << std::endl;\n",
        "}\n",
        "\n",
        "int main()\n",
        "{\n",
        "    int a = 5;\n",
        "\n",
        "    print(a);\n",
        "\n",
        "    return 0;\n",
        "}\n",
        "```\n",
        "\n"
      ],
      "metadata": {
        "id": "OrBUpJ1Qf54d"
      }
    },
    {
      "cell_type": "markdown",
      "source": [
        "####**Section 4 Constant Member Variable**"
      ],
      "metadata": {
        "id": "94tLBcoyI41w"
      }
    },
    {
      "cell_type": "markdown",
      "source": [
        "#####**Constant Member Variable [src|](https://cafe.naver.com/honeyc?iframe_url_utf8=%2FArticleRead.nhn%253Fclubid%3D11957566%2526page%3D1%2526menuid%3D117%2526boardtype%3DL%2526articleid%3D80463%2526referrerAllArticles%3Dfalse)**"
      ],
      "metadata": {
        "id": "lQv_Ys7HJBiH"
      }
    },
    {
      "cell_type": "markdown",
      "source": [
        "\n",
        "\n",
        "```cpp\n",
        "#include <iostream>\n",
        "#include <string> // strcpy\n",
        "\n",
        "class Student\n",
        "{\n",
        "public:\n",
        "    Student(int id, const char* name, int age)\n",
        "    : age(age), id(id) // Constant Member Variable id Initialization : no error\n",
        "    {\n",
        "        // this->id = id; // Constant Member Variable id Initialization : error\n",
        "        strcpy(this->name, name);\n",
        "    }\n",
        "    void print() {std::cout << id << \" \" << name << \" \" << age << std::endl;}\n",
        "private:\n",
        "    const int id;\n",
        "    char name[20];\n",
        "    int age;\n",
        "};\n",
        "\n",
        "int main()\n",
        "{\n",
        "    Student s(20041111, \"Harry Kane\", 25);\n",
        "    s.print();\n",
        "    return 0;\n",
        "}\n",
        "```\n",
        "\n"
      ],
      "metadata": {
        "id": "_XgPxRdqJBiR"
      }
    },
    {
      "cell_type": "markdown",
      "source": [
        "####**Section 5 Constant Member Function**"
      ],
      "metadata": {
        "id": "om7WqMTXNaTD"
      }
    },
    {
      "cell_type": "markdown",
      "source": [
        "#####**Constant Member Function [src|](https://cafe.naver.com/honeyc?iframe_url_utf8=%2FArticleRead.nhn%253Fclubid%3D11957566%2526page%3D1%2526menuid%3D117%2526boardtype%3DL%2526articleid%3D80463%2526referrerAllArticles%3Dfalse)**"
      ],
      "metadata": {
        "id": "5LAXmZBGNaTN"
      }
    },
    {
      "cell_type": "markdown",
      "source": [
        "\n",
        "\n",
        "```cpp\n",
        "#include <iostream>\n",
        "#include <string> // strcpy\n",
        "\n",
        "class Student\n",
        "{\n",
        "public:\n",
        "    Student(int id, const char* name, int age)\n",
        "        : id(id), age(age)\n",
        "        {strcpy(this->name, name);}\n",
        "    void print() const\n",
        "    {\n",
        "        /* A const member function is a function\n",
        "        that can be called on both const and non-const objects of the class,\n",
        "        but it is not allowed to modify the object it is called on.\n",
        "        It promises not to modify the state of the object */\n",
        "        std::cout << id << \" \" << name << \" \" << age << std::endl;\n",
        "    }\n",
        "private:\n",
        "    const int id;\n",
        "    char name[20];\n",
        "    int age;\n",
        "};\n",
        "\n",
        "int main()\n",
        "{\n",
        "    Student s(20041111, \"Harry Kane\", 25);\n",
        "    s.print();\n",
        "    return 0;\n",
        "}\n",
        "```\n",
        "\n"
      ],
      "metadata": {
        "id": "e_OYiEyuNaTN"
      }
    },
    {
      "cell_type": "markdown",
      "source": [
        "####**Section 6 Check Constancy**"
      ],
      "metadata": {
        "id": "hq8XGsv8hMeS"
      }
    },
    {
      "cell_type": "markdown",
      "source": [
        "#####**Check Constancy [eng|](https://www.youtube.com/watch?v=8nTebZ2Hd_Y&list=PLvv0ScY6vfd8j-tlhYVPYgiIyXduu6m-L&index=22&ab_channel=MikeShah&t=1m4s)**"
      ],
      "metadata": {
        "id": "ieW8tFfuhMeb"
      }
    },
    {
      "cell_type": "markdown",
      "source": [
        "\n",
        "\n",
        "```cpp\n",
        "#include <iostream>\n",
        "#include <type_traits>\n",
        "\n",
        "int main()\n",
        "{\n",
        "    int a = 5;\n",
        "    std::cout << std::is_const_v<int> << std::endl;\n",
        "    std::cout << std::is_const<decltype(a)>::value << std::endl;\n",
        "\n",
        "    const int b = 5;\n",
        "    std::cout << std::is_const_v<const int> << std::endl;\n",
        "    std::cout << std::is_const<decltype(b)>::value << std::endl;\n",
        "\n",
        "    return 0;\n",
        "}\n",
        "```\n",
        "\n"
      ],
      "metadata": {
        "id": "gaWqHHIGhMec"
      }
    },
    {
      "cell_type": "markdown",
      "source": [
        "###**Chapter 7 Auto**"
      ],
      "metadata": {
        "id": "H3sC3EqlOMt9"
      }
    },
    {
      "cell_type": "markdown",
      "source": [
        "#####**auto [src|](https://cafe.naver.com/honeyc?iframe_url_utf8=%2FArticleRead.nhn%253Fclubid%3D11957566%2526page%3D1%2526menuid%3D117%2526boardtype%3DL%2526articleid%3D80440%2526referrerAllArticles%3Dfalse)**"
      ],
      "metadata": {
        "id": "ejbF43p7OMuH"
      }
    },
    {
      "cell_type": "markdown",
      "source": [
        "```cpp\n",
        "#include <iostream>\n",
        "\n",
        "template <typename T>\n",
        "void print_info(const T& a)\n",
        "{std::cout << a << \" : \" << typeid(a).name() << std::endl;}\n",
        "\n",
        "int main()\n",
        "{\n",
        "    int a = 10; print_info(a);\n",
        "    auto b = a; print_info(b);\n",
        "    auto c = 3.4; print_info(c);\n",
        "    return 0;\n",
        "}\n",
        "```"
      ],
      "metadata": {
        "id": "nXlOhXfsOMuI"
      }
    },
    {
      "cell_type": "markdown",
      "source": [
        "###**Chapter 8 Type Cast**"
      ],
      "metadata": {
        "id": "oI5s1uFxSIN0"
      }
    },
    {
      "cell_type": "markdown",
      "source": [
        "####**Section 1 Type Check**"
      ],
      "metadata": {
        "id": "6MntDhNfan-_"
      }
    },
    {
      "cell_type": "markdown",
      "source": [
        "#####**Type Check [eng|](https://www.youtube.com/watch?v=DMCoTssyduM&list=PLvv0ScY6vfd8j-tlhYVPYgiIyXduu6m-L&index=20&ab_channel=MikeShah&t=6m)**"
      ],
      "metadata": {
        "id": "FD35qLwyavKY"
      }
    },
    {
      "cell_type": "markdown",
      "source": [
        "\n",
        "\n",
        "```cpp\n",
        "#include <iostream>\n",
        "#include <typeinfo>\n",
        "\n",
        "int main()\n",
        "{\n",
        "    int a = 1;\n",
        "    std::cout << \"a = \" << a\n",
        "              << \", &a = \" << &a\n",
        "              << \", typeid(a).name() = \" << typeid(a).name()  << std::endl;\n",
        "\n",
        "    return 0;\n",
        "}\n",
        "```\n"
      ],
      "metadata": {
        "id": "4E5WPljgavKh"
      }
    },
    {
      "cell_type": "markdown",
      "source": [
        "####**Section 2 C-Style Implicit Cast**"
      ],
      "metadata": {
        "id": "MfzFLXuLai1Z"
      }
    },
    {
      "cell_type": "markdown",
      "source": [
        "#####**C-Style Implicit Cast : Narrowing Conversion**"
      ],
      "metadata": {
        "id": "ZL_ztIP7SIN-"
      }
    },
    {
      "cell_type": "markdown",
      "source": [
        "\n",
        "```python\n",
        "def main():  \n",
        "    n_float, m_float = 5.7, -5.7\n",
        "    n, m = int(n_float), int(m_float)\n",
        "  \n",
        "    print(f\"{n = }\")\n",
        "    print(f\"{m = }\")\n",
        "  \n",
        "if __name__ == \"__main__\":\n",
        "    main()\n",
        "```\n",
        "\n",
        "```cpp\n",
        "#include <iostream>  \n",
        "  \n",
        "int main()  \n",
        "{  \n",
        "    \n",
        "    float n_float = 5.7, m_float = -5.7;\n",
        "    int n = static_cast<int>(n_float);\n",
        "    int m = static_cast<int>(m_float);\n",
        "  \n",
        "    std::cout << \"n = \" << n << std::endl;\n",
        "    std::cout << \"m = \" << m << std::endl;\n",
        "  \n",
        "    return 0;  \n",
        "}\n",
        "```\n",
        "\n",
        "```c\n",
        "#include <stdio.h>   \n",
        "  \n",
        "int main()  \n",
        "{  \n",
        "    \n",
        "    float n_float = 5.7, m_float = -5.7;\n",
        "    int n = n_float, m = m_float;\n",
        "  \n",
        "    printf(\"n = %d\\n\", n);\n",
        "    printf(\"m = %d\\n\", m);\n",
        "  \n",
        "    return 0;  \n",
        "}\n",
        "```"
      ],
      "metadata": {
        "id": "6OPdztL3SIN-"
      }
    },
    {
      "cell_type": "markdown",
      "source": [
        "####**Section 3 C-Style Explicit Cast**"
      ],
      "metadata": {
        "id": "12_37K8EfR79"
      }
    },
    {
      "cell_type": "markdown",
      "source": [
        "####**Section 4 Static Cast**"
      ],
      "metadata": {
        "id": "yjj2-MnFd11u"
      }
    },
    {
      "cell_type": "markdown",
      "source": [
        "#####**Print ASCII Code of Capital Alphabets**"
      ],
      "metadata": {
        "id": "NvpdFdyLeEeI"
      }
    },
    {
      "cell_type": "markdown",
      "source": [
        "```python\n",
        "def main():  \n",
        "    first_int = ord('A')\n",
        "    last_int = ord('Z')\n",
        "\n",
        "    for i in range(128):\n",
        "        if first_int <= i <= last_int:\n",
        "            print(f\"{chr(i)}({i})\", end=\" \")\n",
        "    print()\n",
        "\n",
        "if __name__ == \"__main__\":\n",
        "    main()\n",
        "```\n",
        "\n",
        "```cpp\n",
        "#include <iostream>\n",
        "\n",
        "int main()\n",
        "{\n",
        "\tint first_int = static_cast<int>('A'), last_int = static_cast<int>('Z');\n",
        "    for (int i = 0; i < 128; i++)\n",
        "    {\n",
        "        if (first_int <= i && i <= last_int)\n",
        "        {\n",
        "            std::cout << static_cast<char>(i) << \"(\" << i << \") \";\n",
        "        }\n",
        "    }\n",
        "    std::cout << std::endl;\n",
        "\n",
        "\treturn 0;\n",
        "}\n",
        "```\n",
        "\n",
        "```c\n",
        "#include <stdio.h>\n",
        "\n",
        "int main()\n",
        "{\n",
        "    int first_int = (int)'A', last_int = (int)'Z';\n",
        "    for (int i = 0; i < 128; i++)\n",
        "    {\n",
        "        if (first_int <= i && i <= last_int)\n",
        "        {\n",
        "            printf(\"%c(%d) \", (char)i, i);\n",
        "        }\n",
        "    }\n",
        "    printf(\"\\n\");\n",
        "\n",
        "    return 0;\n",
        "}\n",
        "\n",
        "```"
      ],
      "metadata": {
        "id": "dWMzOFQ2eEeS"
      }
    },
    {
      "cell_type": "markdown",
      "source": [
        "####**Section 5 Dynamic Cast**"
      ],
      "metadata": {
        "id": "AJ0NZlqHekhb"
      }
    },
    {
      "cell_type": "markdown",
      "source": [
        "####**Section 6 Const Cast**"
      ],
      "metadata": {
        "id": "-cQQu4PYerd1"
      }
    },
    {
      "cell_type": "markdown",
      "source": [
        "####**Section 7 Reinterpret Cast**"
      ],
      "metadata": {
        "id": "0DrvDQi6exU1"
      }
    },
    {
      "cell_type": "markdown",
      "source": [
        "####**Section 8 Functional Cast**"
      ],
      "metadata": {
        "id": "NrEYQ4yZe-4S"
      }
    },
    {
      "cell_type": "markdown",
      "source": [
        "#**PART III Data Structure**"
      ],
      "metadata": {
        "id": "eTn9PXakVVAe"
      }
    },
    {
      "cell_type": "markdown",
      "source": [
        "###**Chapter 1 Array (List with Fixed Size in Python)**"
      ],
      "metadata": {
        "id": "hE70RE1RVZ9a"
      }
    },
    {
      "cell_type": "markdown",
      "source": [
        "#####**Array [eng|](https://www.youtube.com/watch?v=m08rEBZP9Ns&list=PLvv0ScY6vfd8j-tlhYVPYgiIyXduu6m-L&index=13&ab_channel=MikeShah)**"
      ],
      "metadata": {
        "id": "qAYH5ih1VZ9k"
      }
    },
    {
      "cell_type": "markdown",
      "source": [
        "```python\n",
        "def main():\n",
        "    ids = [0] * 5\n",
        "    ids[0] = 12345\n",
        "\n",
        "    for i in range(5):\n",
        "        print(ids[i], end=\" \")\n",
        "\n",
        "if __name__ == \"__main__\":\n",
        "    main()\n",
        "```\n",
        "\n",
        "```cpp\n",
        "#include <iostream>\n",
        "\n",
        "int main()\n",
        "{\n",
        "    int ids[5];\n",
        "    ids[0] = 12345;\n",
        "\n",
        "    for (int i = 0; i < 5; i++){std::cout << ids[i] << \" \";}\n",
        "    std::cout << std::endl;\n",
        "\n",
        "    return 0;\n",
        "}\n",
        "```\n",
        "\n",
        "```c\n",
        "#include <stdio.h>\n",
        "\n",
        "int main()\n",
        "{\n",
        "    int ids[5];\n",
        "    ids[0] = 12345;\n",
        "\n",
        "    for (int i = 0; i < 5; i++) {printf(\"%d \", ids[i]);}\n",
        "    printf(\"\\n\");\n",
        "\n",
        "    return 0;\n",
        "}\n",
        "\n",
        "```"
      ],
      "metadata": {
        "id": "KP4jh9JHVZ9l"
      }
    },
    {
      "cell_type": "markdown",
      "source": [
        "#####**std::iota [eng|](https://www.youtube.com/watch?v=gdv2bNZyko0&list=PLvv0ScY6vfd8j-tlhYVPYgiIyXduu6m-L&index=10&ab_channel=MikeShah&t=5m43s)**"
      ],
      "metadata": {
        "id": "RawWQQ3SYEd4"
      }
    },
    {
      "cell_type": "markdown",
      "source": [
        "```python\n",
        "def main():\n",
        "    ids = list(range(100))\n",
        "    print(ids)\n",
        "\n",
        "    ids = list(range(10,110))\n",
        "    print(ids)\n",
        "\n",
        "if __name__ == \"__main__\":\n",
        "    main()\n",
        "```\n",
        "\n",
        "```cpp\n",
        "#include <iostream>\n",
        "#include <numeric>\n",
        "#include <iterator>\n",
        "\n",
        "int main()\n",
        "{\n",
        "    int ids[100];\n",
        "\n",
        "    for (int i = 0; i < 100; i++){ids[i]=i;}\n",
        "    for (int i = 0; i < 100; i++){std::cout << ids[i] << \" \";}\n",
        "    std::cout << std::endl;\n",
        "\n",
        "    std::iota(std::begin(ids), std::end(ids), 10);\n",
        "    for (int i = 0; i < 100; i++){std::cout << ids[i] << \" \";}\n",
        "    std::cout << std::endl;\n",
        "\n",
        "    return 0;\n",
        "}\n",
        "```\n",
        "\n",
        "```c\n",
        "#include <stdio.h>\n",
        "\n",
        "int main() {\n",
        "    int ids[100];\n",
        "\n",
        "    for (int i = 0; i < 100; i++) {ids[i] = i;}\n",
        "    for (int i = 0; i < 100; i++) {printf(\"%d \", ids[i]);}\n",
        "    printf(\"\\n\");\n",
        "\n",
        "    for (int i = 0; i < 100; i++) {ids[i] = i + 10;}\n",
        "    for (int i = 0; i < 100; i++) {printf(\"%d \", ids[i]);}\n",
        "    printf(\"\\n\");\n",
        "\n",
        "    return 0;\n",
        "}\n",
        "```"
      ],
      "metadata": {
        "id": "POF2-3oQYEeB"
      }
    },
    {
      "cell_type": "markdown",
      "source": [
        "###**Chapter 2 std::array (List with Fixed Size in Python)**"
      ],
      "metadata": {
        "id": "NlEjnxaUXWcp"
      }
    },
    {
      "cell_type": "markdown",
      "source": [
        "#####**std::array [eng|](https://www.youtube.com/watch?v=gdv2bNZyko0&list=PLvv0ScY6vfd8j-tlhYVPYgiIyXduu6m-L&index=10&ab_channel=MikeShah&t=8m34s)**"
      ],
      "metadata": {
        "id": "b02SOD3BcCa7"
      }
    },
    {
      "cell_type": "markdown",
      "source": [
        "```python\n",
        "def main():\n",
        "    ids = [0] * 100  # Initialize a list with 100 elements, all set to 0\n",
        "\n",
        "    for i in range(100):\n",
        "        print(ids[i], end=' ')\n",
        "    print(\"\\n\\n\")\n",
        "\n",
        "    ids[99] = 99  # Assign a value to the last element\n",
        "\n",
        "    print(ids[0], \"---\", ids[99])\n",
        "\n",
        "if __name__ == \"__main__\":\n",
        "    main()\n",
        "```\n",
        "\n",
        "```cpp\n",
        "#include <iostream>\n",
        "#include <array>\n",
        "\n",
        "int main()\n",
        "{\n",
        "    std::array<int, 100> ids;\n",
        "    for (int i = 0; i < 100; i++){std::cout << ids[i] << \" \";}\n",
        "    std::cout << std::endl << std::endl;\n",
        "\n",
        "    ids.at(99) = 99;\n",
        "    std::cout << ids.front() << \" --- \" << ids.back() << \" \" << std::endl;\n",
        "\n",
        "    return 0;\n",
        "}\n",
        "```\n",
        "\n",
        "```c\n",
        "#include <stdio.h>\n",
        "\n",
        "int main() {\n",
        "    int ids[100] = {0}; // Initialize all elements to 0\n",
        "\n",
        "    for (int i = 0; i < 100; i++) {printf(\"%d \", ids[i]);}\n",
        "    printf(\"\\n\\n\");\n",
        "\n",
        "    ids[99] = 99; // Assign a value to the last element\n",
        "    printf(\"%d --- %d\\n\", ids[0], ids[99]);\n",
        "\n",
        "    return 0;\n",
        "}\n",
        "```"
      ],
      "metadata": {
        "id": "LSN6_CdUcCbE"
      }
    },
    {
      "cell_type": "markdown",
      "source": [
        "#####**Initialization [src|](https://cafe.naver.com/honeyc?iframe_url_utf8=%2FArticleRead.nhn%253Fclubid%3D11957566%2526page%3D1%2526menuid%3D112%2526boardtype%3DL%2526articleid%3D46955%2526referrerAllArticles%3Dfalse)**"
      ],
      "metadata": {
        "id": "senvPbU-hLud"
      }
    },
    {
      "cell_type": "markdown",
      "source": [
        "```python\n",
        "def display(arr):\n",
        "    print(\" \".join(map(str, arr)))\n",
        "\n",
        "def main():\n",
        "    a = [1, 2, 3]\n",
        "    print(\" \".join(map(str, a)))\n",
        "\n",
        "    b = [1, 2, 3, 4, 5]\n",
        "    display(b)\n",
        "\n",
        "    c = ['a', 'b', 'c']\n",
        "    display(c)\n",
        "\n",
        "    d = [0] * 10\n",
        "    display(d)  \n",
        "\n",
        "    e  = [None] * 10\n",
        "    display(f)  \n",
        "\n",
        "if __name__ == \"__main__\":\n",
        "    main()\n",
        "```\n",
        "\n",
        "```cpp\n",
        "# include <iostream>\n",
        "# include <array> //std::array STL : 고정 크기 배열\n",
        "\n",
        "template <typename T, int count>\n",
        "void display(const std::array<T, count>& ref)\n",
        "{\n",
        "    for (const auto& at : ref) {std::cout << at << \" \";} std::cout << std::endl;\n",
        "}\n",
        "\n",
        "int main()\n",
        "{\n",
        "    int a[5] = {1, 2, 3};\n",
        "    for (const auto& at : a) {std::cout << at << \" \";} std::cout << std::endl;\n",
        "\n",
        "    std::array<int, 5> b = { 1, 2, 3, 4, 5 }; display<int, 5>(b);\n",
        "\n",
        "    std::array<char, 3> c = {'a', 'b', 'c'}; display<char, 3>(c);\n",
        "\n",
        "    std::array<int, 10> d = {0}; display<int, 10>(d);\n",
        "    /* This std::array is initialized with zeros. */\n",
        "\n",
        "    std::array<int, 10> e = {}; display<int, 10>(e);\n",
        "    /* This std::array is explicitly initialized with an empty initializer list,\n",
        "    resulting in all elements being initialized to zero. */\n",
        "\n",
        "    std::array<int, 10> f; display<int, 10>(f);\n",
        "    /* This std::array is declared without an initializer,\n",
        "    so its elements will contain garbage values. */\n",
        "\n",
        "    return 0;\n",
        "}\n",
        "```\n",
        "\n",
        "\n",
        "In pure C, there is no direct equivalent to C++ templates. C++ templates allow you to write generic code that works with different data types, while C does not have built-in support for generic programming in the same way.\n",
        "\n"
      ],
      "metadata": {
        "id": "YwtzvzOUhLum"
      }
    },
    {
      "cell_type": "markdown",
      "source": [
        "#####**Method - size [src|](https://cafe.naver.com/honeyc?iframe_url_utf8=%2FArticleRead.nhn%253Fclubid%3D11957566%2526page%3D1%2526menuid%3D112%2526boardtype%3DL%2526articleid%3D46955%2526referrerAllArticles%3Dfalse)**"
      ],
      "metadata": {
        "id": "ZgAq2YtA16gS"
      }
    },
    {
      "cell_type": "markdown",
      "source": [
        "```cpp\n",
        "# include <iostream>\n",
        "# include <array> //array STL : 고정 크기 배열\n",
        "\n",
        "int main()\n",
        "{\n",
        "    std::array<int, 5> a = { 1, 2, 3, 4, 5 };\n",
        "    std::cout << \"a 배열의 크기 : \" << a.size() << std::endl;\n",
        "\n",
        "    return 0;\n",
        "}\n",
        "```"
      ],
      "metadata": {
        "id": "CidhfYxw2ghn"
      }
    },
    {
      "cell_type": "markdown",
      "source": [
        "#####**Method - at [src|](https://cafe.naver.com/honeyc?iframe_url_utf8=%2FArticleRead.nhn%253Fclubid%3D11957566%2526page%3D1%2526menuid%3D112%2526boardtype%3DL%2526articleid%3D46955%2526referrerAllArticles%3Dfalse)**"
      ],
      "metadata": {
        "id": "hMo-Zft11_6Q"
      }
    },
    {
      "cell_type": "markdown",
      "source": [
        "```cpp\n",
        "# include <iostream>\n",
        "# include <array> //array STL : 고정 크기 배열\n",
        "\n",
        "int main()\n",
        "{\n",
        "    std::array<int, 5> a = { 1, 2, 3, 4, 5 };\n",
        "    std::cout << \"a[2] = \" << a[2] << std::endl;\n",
        "\n",
        "    try\n",
        "    {\n",
        "        //std::cout << a[100] << std::endl; //throw를 던지지 않는다.\n",
        "        std::cout << a.at(100) << std::endl;//throw를 던진다.\n",
        "    }\n",
        "    catch (const std::exception& e)\n",
        "    {\n",
        "        std::cout << e.what() << std::endl;\n",
        "    }\n",
        "\n",
        "    return 0;\n",
        "}\n",
        "```"
      ],
      "metadata": {
        "id": "Px-xaQWE283M"
      }
    },
    {
      "cell_type": "markdown",
      "source": [
        "#####**Method - fill [src|](https://cafe.naver.com/honeyc?iframe_url_utf8=%2FArticleRead.nhn%253Fclubid%3D11957566%2526page%3D1%2526menuid%3D112%2526boardtype%3DL%2526articleid%3D46955%2526referrerAllArticles%3Dfalse)**"
      ],
      "metadata": {
        "id": "knEn4wd92Gyn"
      }
    },
    {
      "cell_type": "markdown",
      "source": [
        "```cpp\n",
        "# include <iostream>\n",
        "# include <array> //array STL : 고정 크기 배열\n",
        "\n",
        "int main()\n",
        "{\n",
        "    std::array<int, 5> a = { 1, 2, 3, 4, 5 };\n",
        "    a.fill(7);\n",
        "    for (const auto& at : a)\n",
        "        std::cout << at << \" \";\n",
        "    std::cout << std::endl;\n",
        "\n",
        "    return 0;\n",
        "}\n",
        "```"
      ],
      "metadata": {
        "id": "9hnXdCYO3hG8"
      }
    },
    {
      "cell_type": "markdown",
      "source": [
        "#####**Method - front and back [src|](https://cafe.naver.com/honeyc?iframe_url_utf8=%2FArticleRead.nhn%253Fclubid%3D11957566%2526page%3D1%2526menuid%3D112%2526boardtype%3DL%2526articleid%3D46955%2526referrerAllArticles%3Dfalse)**"
      ],
      "metadata": {
        "id": "WjUbN6YI2G0V"
      }
    },
    {
      "cell_type": "markdown",
      "source": [
        "```cpp\n",
        "# include <iostream>\n",
        "# include <array> //array STL : 고정 크기 배열\n",
        "\n",
        "int main()\n",
        "{\n",
        "    std::array<int, 5> a = { 1, 2, 3, 4, 5 };\n",
        "\n",
        "    std::cout << a.front() << \" \" << a.back() << std::endl;\n",
        "    \n",
        "    return 0;\n",
        "}\n",
        "```"
      ],
      "metadata": {
        "id": "Xys2QrLL4LoC"
      }
    },
    {
      "cell_type": "markdown",
      "source": [
        "###**Chapter 3 Vector (List in Python) [kor|](https://www.youtube.com/watch?v=Na768AkhOJA&list=PLrj92cHmwIMdPxOkZUalRPFC_U1Zm6ykv&index=5)**"
      ],
      "metadata": {
        "id": "ORYHbbE7tebs"
      }
    },
    {
      "cell_type": "markdown",
      "source": [
        "#####**Initialization [src|](https://cafe.naver.com/honeyc?iframe_url_utf8=%2FArticleRead.nhn%253Fclubid%3D11957566%2526page%3D1%2526menuid%3D112%2526boardtype%3DL%2526articleid%3D46962%2526referrerAllArticles%3Dfalse)**"
      ],
      "metadata": {
        "id": "uMYvMQlw8xlP"
      }
    },
    {
      "cell_type": "markdown",
      "source": [
        "```cpp\n",
        "#include <iostream>\n",
        "#include <vector>\n",
        "\n",
        "int main()\n",
        "{\n",
        "    std::vector<int> v{ 1, 2, 3, 4, 5, 6, 7}; //벡터 7개 할당 후 1 ~ 7까지 초기화\n",
        "    for (const auto& at : v)\n",
        "        std::cout << at << \" \";\n",
        "    std::cout << std::endl;\n",
        "\n",
        "    std::vector<int> v1(5); //크기가 5인 벡터 생성\n",
        "    for (const auto& at : v1)\n",
        "        std::cout << at << \" \";\n",
        "    std::cout << std::endl;\n",
        "\n",
        "    std::vector<int> v2{5}; //벡터 1개 생성 후 5로 초기화\n",
        "    for (const auto& at : v2)\n",
        "        std::cout << at << \" \";\n",
        "    std::cout << std::endl;\n",
        "\n",
        "    std::vector<int> v3{ 10, 3 }; //벡터 2개 생성 후 10과 3으로 초기화\n",
        "    for (const auto& at : v3)\n",
        "        std::cout << at << \" \";\n",
        "    std::cout << std::endl;\n",
        "\n",
        "    int count;\n",
        "    std::cout << \"정수 개수 입력 : \";\n",
        "    std::cin >> count;    \n",
        "    std::vector<int> v4(count, 3); //입력 받은 크기로 벡터 생성 후, 3으로 초기화\n",
        "    for (const auto& at : v4)\n",
        "        std::cout << at << \" \";\n",
        "    std::cout << std::endl;\n",
        "\n",
        "    return 0;\n",
        "}\n",
        "```"
      ],
      "metadata": {
        "id": "kLCKuWBU7t9L"
      }
    },
    {
      "cell_type": "markdown",
      "source": [
        "#####**Method - reserve [src|](https://cafe.naver.com/honeyc?iframe_url_utf8=%2FArticleRead.nhn%253Fclubid%3D11957566%2526page%3D1%2526menuid%3D112%2526boardtype%3DL%2526articleid%3D46962%2526referrerAllArticles%3Dfalse)**"
      ],
      "metadata": {
        "id": "MWZo-eXA86JV"
      }
    },
    {
      "cell_type": "markdown",
      "source": [
        "```cpp\n",
        "#include <iostream>\n",
        "#include <vector>\n",
        "\n",
        "template <typename T>\n",
        "void display(std::vector<T>& container);\n",
        "\n",
        "int main()\n",
        "{\n",
        "    std::vector<int> v{ 1, 2, 3, 4, 5, 6, 7};\n",
        "    for (const auto& at : v)\n",
        "        std::cout << at << \" \";\n",
        "    std::cout << std::endl;\n",
        "\n",
        "    v.reserve(10); //메모리 재할당 //저장된 원소의 개수는 변경되지 않는다.\n",
        "    display<int>(v);\n",
        "    \n",
        "    return 0;\n",
        "}\n",
        "\n",
        "template<typename T>\n",
        "void display(std::vector<T>& container)\n",
        "{\n",
        "    for (const auto& at : container)\n",
        "        std::cout << at << \" \";\n",
        "    std::cout << std::endl;\n",
        "}\n",
        "```"
      ],
      "metadata": {
        "id": "JXEzB4FO86Je"
      }
    },
    {
      "cell_type": "markdown",
      "source": [
        "#####**Method - size and capacity [src|](https://cafe.naver.com/honeyc?iframe_url_utf8=%2FArticleRead.nhn%253Fclubid%3D11957566%2526page%3D1%2526menuid%3D112%2526boardtype%3DL%2526articleid%3D46962%2526referrerAllArticles%3Dfalse)**"
      ],
      "metadata": {
        "id": "OfLQ0LtF_WBx"
      }
    },
    {
      "cell_type": "markdown",
      "source": [
        "\n",
        "\n",
        "\n",
        "```cpp\n",
        "#include <iostream>\n",
        "#include <vector>\n",
        "\n",
        "template <typename T>\n",
        "void display(std::vector<T>& container);\n",
        "\n",
        "int main()\n",
        "{\n",
        "    std::vector<int> v{ 1, 2, 3, 4, 5, 6, 7};\n",
        "    v.reserve(10);\n",
        "    std::cout << \"v size = \" << v.size() << \", capacity = \" << v.capacity()\n",
        "              << std::endl;\n",
        "    \n",
        "    return 0;\n",
        "}\n",
        "\n",
        "template<typename T>\n",
        "void display(std::vector<T>& container)\n",
        "{\n",
        "    for (const auto& at : container)\n",
        "        std::cout << at << \" \";\n",
        "    std::cout << std::endl;\n",
        "}\n",
        "```"
      ],
      "metadata": {
        "id": "QsSyWOj__WB6"
      }
    },
    {
      "cell_type": "markdown",
      "source": [
        "#####**Method - resize [src|](https://cafe.naver.com/honeyc?iframe_url_utf8=%2FArticleRead.nhn%253Fclubid%3D11957566%2526page%3D1%2526menuid%3D112%2526boardtype%3DL%2526articleid%3D46962%2526referrerAllArticles%3Dfalse)**"
      ],
      "metadata": {
        "id": "AqLWkHiQAHKe"
      }
    },
    {
      "cell_type": "markdown",
      "source": [
        "```cpp\n",
        "#include <iostream>\n",
        "#include <vector>\n",
        "\n",
        "template <typename T>\n",
        "void display(std::vector<T>& container);\n",
        "\n",
        "int main()\n",
        "{\n",
        "    std::vector<int> v{ 1, 2, 3, 4, 5, 6, 7};\n",
        "    display<int>(v);\n",
        "\n",
        "    v.reserve(10);\n",
        "    display<int>(v);\n",
        "    std::cout << \"v size = \" << v.size() << \", capacity = \" << v.capacity()\n",
        "            << std::endl;\n",
        "\n",
        "    v.resize(30); //저장된 원소의 개수가 변경된다.\n",
        "    display<int>(v);\n",
        "    std::cout << \"v size = \" << v.size() << \", capacity = \" << v.capacity()\n",
        "              << std::endl;\n",
        "\n",
        "    v.resize(5); //size 줄어드는 경우 size만 변경되고, capacity는 변경되지 않는다.\n",
        "    display<int>(v);\n",
        "    std::cout << \"v size = \" << v.size() << \", capacity = \" << v.capacity()\n",
        "              << std::endl;\n",
        "    \n",
        "    return 0;\n",
        "}\n",
        "\n",
        "template<typename T>\n",
        "void display(std::vector<T>& container)\n",
        "{\n",
        "    for (const auto& at : container)\n",
        "        std::cout << at << \" \";\n",
        "    std::cout << std::endl;\n",
        "}\n",
        "```"
      ],
      "metadata": {
        "id": "Oq8T7jX5AHKo"
      }
    },
    {
      "cell_type": "markdown",
      "source": [
        "#####**Initialization - Vector of Strings [src|](https://cafe.naver.com/honeyc?iframe_url_utf8=%2FArticleRead.nhn%253Fclubid%3D11957566%2526page%3D1%2526menuid%3D112%2526boardtype%3DL%2526articleid%3D46962%2526referrerAllArticles%3Dfalse)**"
      ],
      "metadata": {
        "id": "zBmY0noxD37J"
      }
    },
    {
      "cell_type": "markdown",
      "source": [
        "```cpp\n",
        "#include <iostream>\n",
        "#include <array>\n",
        "#include <string>\n",
        "\n",
        "int main()\n",
        "{\n",
        "    std::array<std::string, 3> fruit = { \"apple\", \"banana\", \"orange\" };\n",
        "    for (const auto& at : fruit)\n",
        "        std::cout << at << \" \";\n",
        "    std::cout << std::endl;\n",
        "\n",
        "    return 0;\n",
        "}\n",
        "```"
      ],
      "metadata": {
        "id": "YUQxcUgrD37T"
      }
    },
    {
      "cell_type": "markdown",
      "source": [
        "#####**Initialization using Iterator [src|](https://cafe.naver.com/honeyc?iframe_url_utf8=%2FArticleRead.nhn%253Fclubid%3D11957566%2526page%3D1%2526menuid%3D112%2526boardtype%3DL%2526articleid%3D46962%2526referrerAllArticles%3Dfalse)**"
      ],
      "metadata": {
        "id": "bof_g1gCEioa"
      }
    },
    {
      "cell_type": "markdown",
      "source": [
        "```cpp\n",
        "#include <iostream>\n",
        "#include <array>\n",
        "#include <string>\n",
        "#include <vector>\n",
        "\n",
        "int main()\n",
        "{\n",
        "    std::array<std::string, 3> fruit = { \"apple\", \"banana\", \"orange\" };\n",
        "    std::cout << \"fruit\" << std::endl;\n",
        "    for (const auto& at : fruit)\n",
        "        std::cout << at << \" \";\n",
        "    std::cout << std::endl << std::endl;\n",
        "\n",
        "    std::vector<std::string> copy = { fruit.begin(), fruit.end()-1 };\n",
        "    //반복자로 초기화 //복사\n",
        "    std::cout << \"copy\" << std::endl;\n",
        "    for (const auto& at : copy)\n",
        "        std::cout << at << \" \";\n",
        "    std::cout << std::endl << std::endl;\n",
        "\n",
        "    std::cout << \"fruit\" << std::endl;\n",
        "    for (const auto& at : fruit)\n",
        "        std::cout << at << \" \";\n",
        "    std::cout << std::endl << std::endl;\n",
        "\n",
        "    return 0;\n",
        "}\n",
        "```"
      ],
      "metadata": {
        "id": "mwBps3dpEiok"
      }
    },
    {
      "cell_type": "markdown",
      "source": [
        "#####**Initialization using Move Iterator [src|](https://cafe.naver.com/honeyc?iframe_url_utf8=%2FArticleRead.nhn%253Fclubid%3D11957566%2526page%3D1%2526menuid%3D112%2526boardtype%3DL%2526articleid%3D46962%2526referrerAllArticles%3Dfalse)**"
      ],
      "metadata": {
        "id": "J5I0xQ1NOA6C"
      }
    },
    {
      "cell_type": "markdown",
      "source": [
        "```cpp\n",
        "#include <iostream>\n",
        "#include <array>\n",
        "#include <string>\n",
        "#include <vector>\n",
        "\n",
        "int main()\n",
        "{\n",
        "    std::array<std::string, 3> fruit = { \"apple\", \"banana\", \"orange\" };\n",
        "    std::cout << \"fruit\" << std::endl;\n",
        "    for (const auto& at : fruit)\n",
        "        std::cout << at << \" \";\n",
        "    std::cout << std::endl << std::endl;\n",
        "\n",
        "    std::vector<std::string> move = {\n",
        "        std::make_move_iterator(std::begin(fruit)),\n",
        "        std::make_move_iterator(std::end(fruit)-1)\n",
        "    }; //이동 반복자 이용 초기화\n",
        "    std::cout << \"move\" << std::endl;\n",
        "    for (const auto& at : move)\n",
        "        std::cout << at << \" \";\n",
        "    std::cout << std::endl << std::endl;\n",
        "\n",
        "    std::cout << \"fruit\" << std::endl;\n",
        "    for (auto i=0; i<fruit.size(); i++)\n",
        "        std::cout << \"fruit[\"<<i<<\"] = \" << fruit[i] << \", \";\n",
        "    std::cout << std::endl;\n",
        "    std::cout << \"fruit size = \" << fruit.size() << std::endl;\n",
        "\n",
        "    return 0;\n",
        "}\n",
        "```"
      ],
      "metadata": {
        "id": "H_jR94yiOA6M"
      }
    },
    {
      "cell_type": "markdown",
      "source": [
        "#**PART IV LOOP AND CONDITIONAL**"
      ],
      "metadata": {
        "id": "lEwsfZRcRja-"
      }
    },
    {
      "cell_type": "markdown",
      "source": [
        "###**Chapter 1 For Loop**"
      ],
      "metadata": {
        "id": "bbzflg97P085"
      }
    },
    {
      "cell_type": "markdown",
      "source": [
        "####**Section 1 C-Style For Loop**"
      ],
      "metadata": {
        "id": "1SxsnUuasWfE"
      }
    },
    {
      "cell_type": "markdown",
      "source": [
        "#####**Calculate Sum From 1 to N (For Loop) [eng|](https://www.youtube.com/watch?v=1jTAWRUXqeM&list=PLM4pPs1mzl_OgHW0_jfgDz3ZR_gUbp-47&index=186)**"
      ],
      "metadata": {
        "id": "eAXnFqKZxdg0"
      }
    },
    {
      "cell_type": "markdown",
      "source": [
        "```python\n",
        "def main():  \n",
        "    n = int(input(\"Enter a positive integer : \"))  \n",
        "  \n",
        "    total = 0\n",
        "    for i in range(1, n+1):\n",
        "        total += i\n",
        "  \n",
        "    print(f\"{total = }\")\n",
        "  \n",
        "if __name__ == \"__main__\":\n",
        "    main()\n",
        "```\n",
        "\n",
        "```cpp\n",
        "#include <iostream>  \n",
        "  \n",
        "int main()  \n",
        "{  \n",
        "    int n, total = 0;  \n",
        "  \n",
        "    std::cout << \"Enter a positive integer : \";  \n",
        "    std::cin >> n;  \n",
        "  \n",
        "    for (int i=1; i<=n; i++)\n",
        "        total += i;\n",
        "\n",
        "    std::cout << \"total \" << total << std::endl;   \n",
        "  \n",
        "    return 0;  \n",
        "}\n",
        "```\n",
        "\n",
        "```c\n",
        "#include <stdio.h>  \n",
        "  \n",
        "int main()  \n",
        "{  \n",
        "    int n, total = 0;\n",
        "  \n",
        "    printf(\"Enter a positive integer : \");  \n",
        "    scanf(\"%d\", &n);  \n",
        "  \n",
        "    for (int i=1; i<=n; i++)\n",
        "        total += i;  \n",
        "  \n",
        "    printf(\"total %d\\n\", total);   \n",
        "  \n",
        "    return 0;  \n",
        "}\n",
        "```"
      ],
      "metadata": {
        "id": "bLrEhHVMxdg-"
      }
    },
    {
      "cell_type": "markdown",
      "source": [
        "#####**Print Numbers from 1 to N In Reverse Order [eng|](https://www.youtube.com/watch?v=07rwVW3TVUo&list=PLM4pPs1mzl_OgHW0_jfgDz3ZR_gUbp-47&index=184)**"
      ],
      "metadata": {
        "id": "8E0gcT6f0NIH"
      }
    },
    {
      "cell_type": "markdown",
      "source": [
        "```python\n",
        "def main():  \n",
        "    n = int(input(\"Enter a positive integer : \"))  \n",
        "  \n",
        "    for i in range(n, 0, -1):\n",
        "        print(i, end=\" \")\n",
        "  \n",
        "if __name__ == \"__main__\":\n",
        "    main()\n",
        "```\n",
        "\n",
        "```cpp\n",
        "#include <iostream>  \n",
        "  \n",
        "int main()  \n",
        "{  \n",
        "    int n;  \n",
        "  \n",
        "    std::cout << \"Enter a positive integer : \";  \n",
        "    std::cin >> n;  \n",
        "  \n",
        "    for (int i=n; i>=1; i--)\n",
        "        std::cout << i << \" \";\n",
        "    std::cout << std::endl;   \n",
        "  \n",
        "    return 0;  \n",
        "}\n",
        "```\n",
        "\n",
        "```c\n",
        "#include <stdio.h>  \n",
        "  \n",
        "int main()  \n",
        "{  \n",
        "    int n, total = 0;\n",
        "  \n",
        "    printf(\"Enter a positive integer : \");  \n",
        "    scanf(\"%d\", &n);  \n",
        "  \n",
        "    for (int i=n; i>=1; i--)\n",
        "        printf(\"%d \", i);  \n",
        "    printf(\"\\n\");   \n",
        "  \n",
        "    return 0;  \n",
        "}\n",
        "```"
      ],
      "metadata": {
        "id": "U1s6tZXR0NIR"
      }
    },
    {
      "cell_type": "markdown",
      "source": [
        "#####**Print Numbers Between Two Numbers [eng|](https://www.youtube.com/watch?v=mF0o3LC1its&list=PLM4pPs1mzl_OgHW0_jfgDz3ZR_gUbp-47&index=185)**"
      ],
      "metadata": {
        "id": "6PlZrBiZmgns"
      }
    },
    {
      "cell_type": "markdown",
      "source": [
        "```python\n",
        "def main():  \n",
        "    n, m = tuple(int(x) for x in input(\"Enter two integers : \").split())\n",
        "    if (n > m):\n",
        "        n, m = m, n\n",
        "  \n",
        "    for i in range(n, m+1):\n",
        "        print(i, end=\" \")\n",
        "  \n",
        "if __name__ == \"__main__\":\n",
        "    main()\n",
        "```\n",
        "\n",
        "```cpp\n",
        "#include <iostream>  \n",
        "  \n",
        "int main()  \n",
        "{  \n",
        "    int n, m;\n",
        "    float n_float, m_float;  \n",
        "  \n",
        "    std::cout << \"Enter two integers : \";  \n",
        "    std::cin >> n_float >> m_float;\n",
        "    n = static_cast<int>(n_float);\n",
        "    m = static_cast<int>(m_float);\n",
        "    if (n > m)\n",
        "    {\n",
        "        int tmp = n;\n",
        "        n = m;\n",
        "        m = tmp;\n",
        "    }   \n",
        "  \n",
        "    for (int i=n; i<=m; i++)\n",
        "        std::cout << i << \" \";\n",
        "    std::cout << std::endl;   \n",
        "  \n",
        "    return 0;  \n",
        "}\n",
        "```\n",
        "\n",
        "```c\n",
        "#include <stdio.h>  \n",
        "  \n",
        "int main()  \n",
        "{  \n",
        "    int n, m;\n",
        "    float n_float, m_float;  \n",
        "  \n",
        "    printf(\"Enter two integers : \");  \n",
        "    scanf(\"%f%f\", &n_float, &m_float);\n",
        "    n = n_float, m = m_float;\n",
        "    if (n > m)\n",
        "    {\n",
        "        int tmp = n;\n",
        "        n = m;\n",
        "        m = tmp;\n",
        "    }  \n",
        "  \n",
        "    for (int i=n; i<=m; i++)\n",
        "        printf(\"%d \", i);  \n",
        "    printf(\"\\n\");   \n",
        "  \n",
        "    return 0;  \n",
        "}\n",
        "```"
      ],
      "metadata": {
        "id": "S78p0lkzmgn2"
      }
    },
    {
      "cell_type": "markdown",
      "source": [
        "```python\n",
        "def main():  \n",
        "    n, m = tuple(int(x) for x in input(\"Enter two integers : \").split())\n",
        "    if (n > m):\n",
        "        n, m = m, n\n",
        "  \n",
        "    for i in range(n, m+1):\n",
        "        print(i, end=\" \")\n",
        "  \n",
        "if __name__ == \"__main__\":\n",
        "    main()\n",
        "```\n",
        "\n",
        "```cpp\n",
        "#include <iostream>  \n",
        "  \n",
        "int main()  \n",
        "{  \n",
        "    int n, m;  \n",
        "  \n",
        "    std::cout << \"Enter two integers : \";  \n",
        "    std::cin >> n >> m;\n",
        "    if (n > m)\n",
        "    {\n",
        "        int tmp = n;\n",
        "        n = m;\n",
        "        m = tmp;\n",
        "    }   \n",
        "  \n",
        "    for (int i=n; i<=m; i++)\n",
        "        std::cout << i << \" \";\n",
        "    std::cout << std::endl;   \n",
        "  \n",
        "    return 0;  \n",
        "}\n",
        "```\n",
        "\n",
        "```c\n",
        "#include <stdio.h>  \n",
        "  \n",
        "int main()  \n",
        "{  \n",
        "    int n, m;\n",
        "  \n",
        "    printf(\"Enter two integers : \");  \n",
        "    scanf(\"%d%d\", &n, &m);\n",
        "    if (n > m)\n",
        "    {\n",
        "        int tmp = n;\n",
        "        n = m;\n",
        "        m = tmp;\n",
        "    }  \n",
        "  \n",
        "    for (int i=n; i<=m; i++)\n",
        "        printf(\"%d \", i);  \n",
        "    printf(\"\\n\");   \n",
        "  \n",
        "    return 0;  \n",
        "}\n",
        "```"
      ],
      "metadata": {
        "id": "ZR04VOzlo1aM"
      }
    },
    {
      "cell_type": "markdown",
      "source": [
        "#####**Calculate Sum of Numbers Between Two Numbers [eng|](https://www.youtube.com/watch?v=TnGRAxjWpHg&list=PLM4pPs1mzl_OgHW0_jfgDz3ZR_gUbp-47&index=187)**"
      ],
      "metadata": {
        "id": "3_Uur6es5ihh"
      }
    },
    {
      "cell_type": "markdown",
      "source": [
        "```python\n",
        "def main():  \n",
        "    n, m = tuple(int(x) for x in input(\"Enter two integers : \").split())\n",
        "    if (n > m):\n",
        "        n, m = m, n\n",
        "  \n",
        "    total = 0\n",
        "    for i in range(n, m+1):\n",
        "        total += i\n",
        "    print(f\"{total =}\")\n",
        "  \n",
        "if __name__ == \"__main__\":\n",
        "    main()\n",
        "```\n",
        "\n",
        "```cpp\n",
        "#include <iostream>  \n",
        "  \n",
        "int main()  \n",
        "{  \n",
        "    int n, m;\n",
        "    float n_float, m_float;  \n",
        "  \n",
        "    std::cout << \"Enter two integers : \";  \n",
        "    std::cin >> n_float >> m_float;\n",
        "    n = static_cast<int>(n_float);\n",
        "    m = static_cast<int>(m_float);\n",
        "    if (n > m)\n",
        "    {\n",
        "        int tmp = n;\n",
        "        n = m;\n",
        "        m = tmp;\n",
        "    }   \n",
        "\n",
        "    int total = 0;  \n",
        "    for (int i=n; i<=m; i++)\n",
        "        total += i;\n",
        "    std::cout << \"total = \" << total << std::endl;   \n",
        "  \n",
        "    return 0;  \n",
        "}\n",
        "```\n",
        "\n",
        "```c\n",
        "#include <stdio.h>  \n",
        "  \n",
        "int main()  \n",
        "{  \n",
        "    int n, m;\n",
        "    float n_float, m_float;  \n",
        "  \n",
        "    printf(\"Enter two integers : \");  \n",
        "    scanf(\"%f%f\", &n_float, &m_float);\n",
        "    n = n_float, m = m_float;\n",
        "    if (n > m)\n",
        "    {\n",
        "        int tmp = n;\n",
        "        n = m;\n",
        "        m = tmp;\n",
        "    }  \n",
        "  \n",
        "    int total = 0;  \n",
        "    for (int i=n; i<=m; i++)\n",
        "        total += i;\n",
        "    printf(\"total = %d\\n\", total);   \n",
        "  \n",
        "    return 0;  \n",
        "}\n",
        "```"
      ],
      "metadata": {
        "id": "sH48kt7S5ihr"
      }
    },
    {
      "cell_type": "markdown",
      "source": [
        "```python\n",
        "def main():  \n",
        "    n, m = tuple(int(x) for x in input(\"Enter two integers : \").split())\n",
        "    if (n > m):\n",
        "        n, m = m, n\n",
        "  \n",
        "    for i in range(n, m+1):\n",
        "        print(i, end=\" \")\n",
        "  \n",
        "if __name__ == \"__main__\":\n",
        "    main()\n",
        "```\n",
        "\n",
        "```cpp\n",
        "#include <iostream>  \n",
        "  \n",
        "int main()  \n",
        "{  \n",
        "    int n, m;  \n",
        "  \n",
        "    std::cout << \"Enter two integers : \";  \n",
        "    std::cin >> n >> m;\n",
        "    if (n > m)\n",
        "    {\n",
        "        int tmp = n;\n",
        "        n = m;\n",
        "        m = tmp;\n",
        "    }   \n",
        "  \n",
        "    for (int i=n; i<=m; i++)\n",
        "        std::cout << i << \" \";\n",
        "    std::cout << std::endl;   \n",
        "  \n",
        "    return 0;  \n",
        "}\n",
        "```\n",
        "\n",
        "```c\n",
        "#include <stdio.h>  \n",
        "  \n",
        "int main()  \n",
        "{  \n",
        "    int n, m;\n",
        "  \n",
        "    printf(\"Enter two integers : \");  \n",
        "    scanf(\"%d%d\", &n, &m);\n",
        "    if (n > m)\n",
        "    {\n",
        "        int tmp = n;\n",
        "        n = m;\n",
        "        m = tmp;\n",
        "    }  \n",
        "  \n",
        "    for (int i=n; i<=m; i++)\n",
        "        printf(\"%d \", i);  \n",
        "    printf(\"\\n\");   \n",
        "  \n",
        "    return 0;  \n",
        "}\n",
        "```"
      ],
      "metadata": {
        "id": "iFU3hl3C5ihr"
      }
    },
    {
      "cell_type": "markdown",
      "source": [
        "####**Section 2 Python-Style For Loop**"
      ],
      "metadata": {
        "id": "_s9h6COtsdk1"
      }
    },
    {
      "cell_type": "markdown",
      "source": [
        "#####**Python-Style For Loop [src|](https://cafe.naver.com/honeyc?iframe_url_utf8=%2FArticleRead.nhn%253Fclubid%3D11957566%2526page%3D1%2526menuid%3D117%2526boardtype%3DL%2526articleid%3D80440%2526referrerAllArticles%3Dfalse)**"
      ],
      "metadata": {
        "id": "k71EH4uLs6ls"
      }
    },
    {
      "cell_type": "markdown",
      "source": [
        "```cpp\n",
        "#include <iostream>\n",
        "#include <array>\n",
        "\n",
        "int main()\n",
        "{\n",
        "    int a[5] = { 1, 2, 3, 4, 5 };\n",
        "    for (const auto& item : a) {std::cout << item << \" \";}\n",
        "    std::cout << std::endl;\n",
        "\n",
        "    std::array<double, 3> b = { 1.1, 2.2, 3.3 };\n",
        "    for (const auto& item : b) {std::cout << item << \" \";}\n",
        "    std::cout << std::endl;\n",
        "\n",
        "    std::array<char, 4> c = {'a', 'b', 'c', 'd'};\n",
        "    for (const auto& item : c) {std::cout << item << \" \";}\n",
        "    std::cout << std::endl;\n",
        "\n",
        "    return 0;\n",
        "}\n",
        "```"
      ],
      "metadata": {
        "id": "H2VQysHVs6l1"
      }
    },
    {
      "cell_type": "markdown",
      "source": [
        "#####**Random Number Generration [src|](https://cafe.naver.com/honeyc?iframe_url_utf8=%2FArticleRead.nhn%253Fclubid%3D11957566%2526page%3D1%2526menuid%3D117%2526boardtype%3DL%2526articleid%3D80440%2526referrerAllArticles%3Dfalse)**"
      ],
      "metadata": {
        "id": "E4a6U2qLunIo"
      }
    },
    {
      "cell_type": "markdown",
      "source": [
        "```cpp\n",
        "#include <iostream>\n",
        "#include <cstdlib> // rand, srand\n",
        "#include <ctime> // time\n",
        "\n",
        "int main()\n",
        "{\n",
        "    std::srand(static_cast<unsigned int>(std::time(nullptr))); // fix seed\n",
        "\n",
        "    int a[10];\n",
        "    for (auto &item : a) {item = std::rand() % 10;}\n",
        "    for (const auto &item : a) {std::cout << item << \" \";} std::cout << std::endl;\n",
        "\n",
        "    return 0;\n",
        "}\n",
        "```"
      ],
      "metadata": {
        "id": "xvQJ5BPounIy"
      }
    },
    {
      "cell_type": "markdown",
      "source": [
        "###**Chapter 2 While Loop**"
      ],
      "metadata": {
        "id": "UUbVNGBFr_FT"
      }
    },
    {
      "cell_type": "markdown",
      "source": [
        "#####**Calculate Sum From 1 to N [eng|](https://www.youtube.com/watch?v=PwZgujbXWz4&list=PLM4pPs1mzl_OgHW0_jfgDz3ZR_gUbp-47&index=101)**"
      ],
      "metadata": {
        "id": "LqZVX0LNxKk1"
      }
    },
    {
      "cell_type": "markdown",
      "source": [
        "```python\n",
        "def main():  \n",
        "    n = int(input(\"Enter a positive integer : \"))  \n",
        "  \n",
        "    total = 0\n",
        "    i = 1\n",
        "    while (i<=n):\n",
        "        total += i\n",
        "        i += 1\n",
        "  \n",
        "    print(f\"{total = }\")\n",
        "  \n",
        "if __name__ == \"__main__\":\n",
        "    main()\n",
        "```\n",
        "\n",
        "```cpp\n",
        "#include <iostream>  \n",
        "  \n",
        "int main()  \n",
        "{  \n",
        "    int n, total = 0;  \n",
        "  \n",
        "    std::cout << \"Enter a positive integer : \";  \n",
        "    std::cin >> n;  \n",
        "  \n",
        "    int i=1    \n",
        "    while (i<=n)\n",
        "        total += i++;\n",
        "\n",
        "    std::cout << \"total \" << total << std::endl;   \n",
        "  \n",
        "    return 0;  \n",
        "}\n",
        "```\n",
        "\n",
        "```c\n",
        "#include <stdio.h>  \n",
        "  \n",
        "int main()  \n",
        "{  \n",
        "    int n, total = 0;\n",
        "  \n",
        "    printf(\"Enter a positive integer : \");  \n",
        "    scanf(\"%d\", &n);  \n",
        "  \n",
        "    int i=1    \n",
        "    while (i<=n)\n",
        "        total += i++;  \n",
        "  \n",
        "    printf(\"total %d\\n\", total);   \n",
        "  \n",
        "    return 0;  \n",
        "}\n",
        "```"
      ],
      "metadata": {
        "id": "KFuzr5faxKk_"
      }
    },
    {
      "cell_type": "markdown",
      "source": [
        "#####**Fibonacci [eng](https://www.youtube.com/watch?v=LhM2pvYwMDs&list=PLM4pPs1mzl_OgHW0_jfgDz3ZR_gUbp-47&index=47)**"
      ],
      "metadata": {
        "id": "lvCNsppZgQUu"
      }
    },
    {
      "cell_type": "markdown",
      "source": [
        "\n",
        "\n",
        "```python\n",
        "def print_fibonacci(n):\n",
        "    prev, current = 0, 1\n",
        "    if (n >= 0):\n",
        "        print(f\"a[0] = {prev}\")\n",
        "    if (n >= 1):\n",
        "        print(f\"a[1] = {current}\")\n",
        "    \n",
        "    idx = 2\n",
        "    while ( idx <= n ):\n",
        "        tmp = prev + current\n",
        "        prev = current\n",
        "        current = tmp\n",
        "        print(f\"a[{idx}] = {current}\")\n",
        "        idx += 1\n",
        "\n",
        "def main():\n",
        "    n = int(input(\"Enter a positive integer : \"))\n",
        "    print_fibonacci(n)\n",
        "\n",
        "if __name__ == \"__main__\":\n",
        "    main()\n",
        "```\n",
        "\n",
        "```cpp\n",
        "#include <iostream>\n",
        "\n",
        "void print_fibonacci(int n)\n",
        "{\n",
        "    int prev = 0, current = 1, tmp;\n",
        "    if (n >= 0)\n",
        "    {\n",
        "        std::cout << \"a[0] = \" << prev << std::endl;\n",
        "    }\n",
        "    if (n >= 1)\n",
        "    {\n",
        "        std::cout << \"a[1] = \" << current << std::endl;\n",
        "    }\n",
        "    \n",
        "    int idx = 2;\n",
        "    while ( idx <= n )\n",
        "    {\n",
        "        tmp = prev + current;\n",
        "        prev = current;\n",
        "        current = tmp;\n",
        "        std::cout << \"a[\" << idx << \"] = \" << current << std::endl;\n",
        "        idx++;\n",
        "    }\n",
        "}\n",
        "\n",
        "int main()\n",
        "{\n",
        "    int n;\n",
        "    std::cout << \"Enter a positive integer : \";\n",
        "    std::cin >> n;\n",
        "    print_fibonacci(n);\n",
        "    return 0;\n",
        "}\n",
        "```\n",
        "\n",
        "```c\n",
        "#include <stdio.h>\n",
        "\n",
        "void print_fibonacci(int n)\n",
        "{\n",
        "    int prev = 0, current = 1, tmp;\n",
        "    if (n >= 0) printf(\"a[0] = %d\\n\", prev);\n",
        "    if (n >= 1) printf(\"a[1] = %d\\n\", current);\n",
        "    \n",
        "    int cnt = 2;\n",
        "    while ( cnt <= n )\n",
        "    {\n",
        "        tmp = prev + current;\n",
        "        prev = current;\n",
        "        current = tmp;\n",
        "        printf(\"a[%d] = %d\\n\", cnt++, current);\n",
        "    }\n",
        "}\n",
        "\n",
        "int main()\n",
        "{\n",
        "    int n;\n",
        "    printf(\"Enter a positive integer : \");\n",
        "    scanf(\"%d\", &n);\n",
        "    print_fibonacci(n);\n",
        "    return 0;\n",
        "}\n",
        "```\n",
        "\n",
        "\n",
        "\n"
      ],
      "metadata": {
        "id": "QOwC3Im0gQUv"
      }
    },
    {
      "cell_type": "markdown",
      "source": [
        "###**Chapter 3 Do While Loop**"
      ],
      "metadata": {
        "id": "gvMAjqhcsDw3"
      }
    },
    {
      "cell_type": "markdown",
      "source": [
        "###**Chapter 4 Conditional**"
      ],
      "metadata": {
        "id": "acPLOoE0QCDk"
      }
    },
    {
      "cell_type": "markdown",
      "source": [
        "#####**Check Sign of Number  [eng|](https://www.youtube.com/watch?v=lxNZZJ7NVlE&list=PLM4pPs1mzl_OgHW0_jfgDz3ZR_gUbp-47&index=51)**"
      ],
      "metadata": {
        "id": "qzD1Kh3-jNXs"
      }
    },
    {
      "cell_type": "markdown",
      "source": [
        "\n",
        "\n",
        "```python\n",
        "def main():\n",
        "    n = int(input(\"Enter an integer : \"))\n",
        "\n",
        "    if (n > 0):\n",
        "        print(f\"{n} positive\")\n",
        "    elif (n < 0):\n",
        "        print(f\"{n} negative\")\n",
        "    else:\n",
        "        print(f\"{n} zero\")\n",
        "\n",
        "if __name__ == \"__main__\":\n",
        "    main()\n",
        "```\n",
        "\n",
        "```cpp\n",
        "#include <iostream>\n",
        "\n",
        "int main() {\n",
        "    int n;\n",
        "    std::cout << \"Enter an integer : \";\n",
        "    std::cin >> n;\n",
        "\n",
        "    if (n > 0)\n",
        "    {\n",
        "        std::cout << n << \" positive\" << std::endl;\n",
        "    }\n",
        "    else if (n < 0)\n",
        "    {\n",
        "        std::cout << n << \" negative\" << std::endl;\n",
        "    }\n",
        "    else\n",
        "    {\n",
        "        std::cout << n << \" zero\" << std::endl;\n",
        "    }\n",
        "\n",
        "    return 0;\n",
        "}\n",
        "```\n",
        "\n",
        "```c\n",
        "#include <stdio.h>\n",
        "\n",
        "int main() {\n",
        "    int n;\n",
        "    printf(\"Enter an integer : \");\n",
        "    scanf(\"%d\", &n);\n",
        "\n",
        "    if (n > 0) printf(\"%d positive\\n\", n);\n",
        "    else if (n < 0) printf(\"%d negative\\n\", n);\n",
        "    else printf(\"%d zero\\n\", n);\n",
        "\n",
        "    return 0;\n",
        "}\n",
        "```\n"
      ],
      "metadata": {
        "id": "1kbElYa0jNX2"
      }
    },
    {
      "cell_type": "markdown",
      "source": [
        "#####**Check Sign of Number using Ternary Operator (or Conditional Expression in Python)  [eng|](https://www.youtube.com/watch?v=gYenZ8rYK8g&list=PLM4pPs1mzl_OgHW0_jfgDz3ZR_gUbp-47&index=52)**"
      ],
      "metadata": {
        "id": "kiURI-R6lxbh"
      }
    },
    {
      "cell_type": "markdown",
      "source": [
        "\n",
        "\n",
        "```python\n",
        "def main():\n",
        "    n = int(input(\"Enter an integer : \"))\n",
        "\n",
        "    print(f\"{n} positive\") if (n > 0) else \\\n",
        "    (print(f\"{n} negative\") if (n < 0) else print(\"{n} zero\"))\n",
        "\n",
        "if __name__ == \"__main__\":\n",
        "    main()\n",
        "```\n",
        "\n",
        "```cpp\n",
        "#include <iostream>\n",
        "\n",
        "int main() {\n",
        "    int n;\n",
        "    std::cout << \"Enter an integer : \";\n",
        "    std::cin >> n;\n",
        "\n",
        "    (n > 0) ?\n",
        "    std::cout << n << \" positive\" :\n",
        "    (\n",
        "        (n < 0) ?\n",
        "        std::cout << n << \" negative\" :\n",
        "        std::cout << n << \" zero\"\n",
        "    );\n",
        "    std::cout << std::endl;\n",
        "\n",
        "    return 0;\n",
        "}\n",
        "```\n",
        "\n",
        "```c\n",
        "#include <stdio.h>\n",
        "\n",
        "int main() {\n",
        "    int n;\n",
        "    printf(\"Enter an integer : \");\n",
        "    scanf(\"%d\", &n);\n",
        "\n",
        "    (n > 0) ?\n",
        "    printf(\"%d positive\\n\", n) :\n",
        "    (\n",
        "        (n < 0) ?\n",
        "        printf(\"%d negative\\n\", n) :\n",
        "        printf(\"%d zero\\n\", n)\n",
        "    );\n",
        "\n",
        "    return 0;\n",
        "}\n",
        "```\n"
      ],
      "metadata": {
        "id": "IVlTDJUulxbi"
      }
    },
    {
      "cell_type": "markdown",
      "source": [
        "#####**Check Leap Year**"
      ],
      "metadata": {
        "id": "S-Kw78GuoAcP"
      }
    },
    {
      "cell_type": "markdown",
      "source": [
        "Leap Year\n",
        "\n",
        "1. If the given year is a century year (years ending with 00) and if it is divisible by 400, then it is a leap year.\n",
        "\n",
        "2. If the given year is not a century year but if it is divisible by 4, then it is a leap year.\n",
        "\n",
        "```python\n",
        "def main():\n",
        "    year = int(input(\"Enter a year : \"))\n",
        "\n",
        "    if ( year % 100 == 0 ):\n",
        "        if ( year % 400 == 0 ):\n",
        "            print(f\"{year} leap year\")\n",
        "        else:\n",
        "            print(f\"{year} not leap year\")\n",
        "    else:\n",
        "        if ( year % 4 == 0 ):\n",
        "            print(f\"{year} leap year\")\n",
        "        else:\n",
        "            print(f\"{year} not leap year\")\n",
        "\n",
        "if __name__ == \"__main__\":\n",
        "    main()\n",
        "```\n",
        "\n",
        "```cpp\n",
        "#include <iostream>\n",
        "\n",
        "int main() {\n",
        "    int year;\n",
        "    std::cout << \"Enter a year : \";\n",
        "    std::cin >> year;\n",
        "\n",
        "    if ( year % 100 == 0 )\n",
        "    {\n",
        "        if ( year % 400 == 0 )\n",
        "        {\n",
        "            std::cout << year << \" leap year\";\n",
        "        }\n",
        "        else\n",
        "        {\n",
        "            std::cout << year << \" not leap year\";\n",
        "        }\n",
        "    }\n",
        "    else\n",
        "    {\n",
        "        if ( year % 4 == 0 )\n",
        "        {\n",
        "            std::cout << year << \" leap year\";\n",
        "        }\n",
        "        else\n",
        "        {\n",
        "            std::cout << year << \" not leap year\";\n",
        "        }\n",
        "    }\n",
        "    std::cout << std::endl;\n",
        "\n",
        "    return 0;\n",
        "}\n",
        "```\n",
        "\n",
        "```c\n",
        "#include <stdio.h>\n",
        "\n",
        "int main() {\n",
        "    int year;\n",
        "    printf(\"Enter a year : \");\n",
        "    scanf(\"%d\", &year);\n",
        "\n",
        "    if ( year % 100 == 0 )\n",
        "    {\n",
        "        if ( year % 400 == 0 )\n",
        "        {\n",
        "            printf(\"%d leap year\\n\", year);\n",
        "        }\n",
        "        else\n",
        "        {\n",
        "            printf(\"%d not leap year\\n\", year);\n",
        "        }\n",
        "    }\n",
        "    else\n",
        "    {\n",
        "        if ( year % 4 == 0 )\n",
        "        {\n",
        "            printf(\"%d leap year\\n\", year);\n",
        "        }\n",
        "        else\n",
        "        {\n",
        "            printf(\"%d not leap year\\n\", year);\n",
        "        }\n",
        "    }\n",
        "\n",
        "    return 0;\n",
        "}\n",
        "```\n"
      ],
      "metadata": {
        "id": "orfcdlpGuza2"
      }
    },
    {
      "cell_type": "markdown",
      "source": [
        "#####**Check Leap Year using Ternary Operator (or Conditional Expression in Python) [eng|](https://www.youtube.com/watch?v=gYenZ8rYK8g&list=PLM4pPs1mzl_OgHW0_jfgDz3ZR_gUbp-47&index=52)**"
      ],
      "metadata": {
        "id": "0jHPjdv4yD87"
      }
    },
    {
      "cell_type": "markdown",
      "source": [
        "Leap Year\n",
        "\n",
        "1. If the given year is a century year (years ending with 00) and if it is divisible by 400, then it is a leap year.\n",
        "\n",
        "2. If the given year is not a century year but if it is divisible by 4, then it is a leap year.\n",
        "\n",
        "```python\n",
        "def main():\n",
        "    year = int(input(\"Enter a year : \"))\n",
        "\n",
        "    (\n",
        "        print(f\"{year} leap year\")\n",
        "        if year % 400 == 0\n",
        "        else print(f\"{year} not leap year\")\n",
        "    ) if year % 100 == 0 else (\n",
        "        print(f\"{year} leap year\")\n",
        "        if year % 4 == 0\n",
        "        else print(f\"{year} not leap year\")\n",
        "    )\n",
        "\n",
        "if __name__ == \"__main__\":\n",
        "    main()\n",
        "```\n",
        "\n",
        "```cpp\n",
        "#include <iostream>\n",
        "\n",
        "int main() {\n",
        "    int year;\n",
        "    std::cout << \"Enter a year : \";\n",
        "    std::cin >> year;\n",
        "\n",
        "    ( year % 100 == 0 ) ?\n",
        "    (\n",
        "        ( year % 400 == 0 ) ?\n",
        "        std::cout << year << \" leap year\" :\n",
        "        std::cout << year << \" not leap year\"\n",
        "    )\n",
        "    :\n",
        "    (\n",
        "        ( year % 4 == 0 ) ?\n",
        "        std::cout << year << \" leap year\" :\n",
        "        std::cout << year << \" not leap year\"\n",
        "    );\n",
        "    std::cout << std::endl;\n",
        "\n",
        "    return 0;\n",
        "}\n",
        "```\n",
        "\n",
        "```c\n",
        "#include <stdio.h>\n",
        "\n",
        "int main() {\n",
        "    int year;\n",
        "    printf(\"Enter a year : \");\n",
        "    scanf(\"%d\", &year);\n",
        "\n",
        "    ( year % 100 == 0 ) ?\n",
        "    (\n",
        "        ( year % 400 == 0 ) ?\n",
        "        printf(\"%d leap year\\n\", year) :\n",
        "        printf(\"%d not leap year\\n\", year)\n",
        "    )\n",
        "    :\n",
        "    (\n",
        "        ( year % 4 == 0 ) ?\n",
        "        printf(\"%d leap year\\n\", year) :\n",
        "        printf(\"%d not leap year\\n\", year)\n",
        "    );\n",
        "\n",
        "    return 0;\n",
        "}\n",
        "```\n"
      ],
      "metadata": {
        "id": "wf8elm2fyD88"
      }
    },
    {
      "cell_type": "markdown",
      "source": [
        "#####**Print Numbers Till N [eng|](https://www.youtube.com/watch?v=K67VDa5iLLI&list=PLM4pPs1mzl_OgHW0_jfgDz3ZR_gUbp-47&index=394)**"
      ],
      "metadata": {
        "id": "RjbwBtC-rMAd"
      }
    },
    {
      "cell_type": "markdown",
      "source": [
        "\n",
        "\n",
        "```python\n",
        "def main():\n",
        "    num = int(input(\"Enter an integer number : \"))   \n",
        "  \n",
        "    if (num < 0):  \n",
        "        print(f\"Integer numbers from -1 to {num} are ...\")\n",
        "        for i in range(-1,num-1,-1):\n",
        "            print(i, end=\" \")   \n",
        "    elif (num > 0):  \n",
        "        print(f\"Integer numbers from 1 to {num} are ...\")   \n",
        "        for i in range(1,num+1):\n",
        "            print(i, end=\" \")   \n",
        "    else:  \n",
        "        print(\"You entered zero!\", end=\"\")  \n",
        "    print()\n",
        "  \n",
        "if __name__ == \"__main__\":\n",
        "    main()\n",
        "```\n",
        "\n",
        "```cpp\n",
        "#include <iostream>\n",
        "\n",
        "int main()  \n",
        "{  \n",
        "    int num, i;  \n",
        "  \n",
        "    std::cout << \"Enter an integer number : \";  \n",
        "    std::cin >> num;  \n",
        "  \n",
        "    if(num < 0)  \n",
        "    {  \n",
        "        std::cout << \"Integer numbers from -1 to \" << num << \" are ...\" << std::endl;  \n",
        "        for(i = -1; i >= num; i--)  \n",
        "            std::cout << i << \" \";  \n",
        "    }  \n",
        "    else if(num > 0)  \n",
        "    {  \n",
        "        std::cout << \"Integer numbers from 1 to \" << num << \" are ...\" << std::endl;  \n",
        "        for(i = 1; i <= num; i++)  \n",
        "            std::cout << i << \" \";\n",
        "    }  \n",
        "    else  \n",
        "    {  \n",
        "        std::cout << \"You entered zero!\";  \n",
        "    }  \n",
        "  \n",
        "    std::cout << std::endl;  \n",
        "  \n",
        "    return 0;  \n",
        "}\n",
        "```\n",
        "\n",
        "```c\n",
        "#include <stdio.h>\n",
        "  \n",
        "int main()  \n",
        "{  \n",
        "    int num, i;  \n",
        "  \n",
        "    printf(\"Enter an integer number\\n\");  \n",
        "    scanf(\"%d\", &num);  \n",
        "  \n",
        "    if(num < 0)  \n",
        "    {  \n",
        "        printf(\"Integer numbers from -1 to %d are ...\\n\", num);  \n",
        "        for(i = -1; i >= num; i--)  \n",
        "            printf(\"%d \", i);  \n",
        "    }  \n",
        "    else if(num > 0)  \n",
        "    {  \n",
        "        printf(\"Integer numbers from 1 to %d are ...\\n\", num);  \n",
        "        for(i = 1; i <= num; i++)  \n",
        "            printf(\"%d \", i);  \n",
        "    }  \n",
        "    else  \n",
        "    {  \n",
        "        printf(\"You entered zero!\");  \n",
        "    }  \n",
        "  \n",
        "    printf(\"\\n\");  \n",
        "  \n",
        "    return 0;  \n",
        "}  \n",
        "```\n"
      ],
      "metadata": {
        "id": "OkX0lfcqrMAn"
      }
    },
    {
      "cell_type": "markdown",
      "source": [
        "#**PART V NAME SPACE**"
      ],
      "metadata": {
        "id": "DfM94gwqQXJb"
      }
    },
    {
      "cell_type": "markdown",
      "source": [
        "###**Chapter 1 Name Space**"
      ],
      "metadata": {
        "id": "sKAW3gFyQhoG"
      }
    },
    {
      "cell_type": "markdown",
      "source": [
        "#####**Name Space [src|](https://cafe.naver.com/honeyc/46948)**"
      ],
      "metadata": {
        "id": "iku3GRbIQrda"
      }
    },
    {
      "cell_type": "markdown",
      "source": [
        "```python\n",
        "# start of a.py\n",
        "\"\"\"\n",
        "// save below without comment block\n",
        "def fun():\n",
        "    print(\"A::fun()\")\n",
        "\"\"\"\n",
        "# end of a.py\n",
        "\n",
        "# start of b.py\n",
        "\"\"\"\n",
        "// save below without comment block\n",
        "def fun():\n",
        "    print(\"B::fun()\")\n",
        "\"\"\"\n",
        "# end of b.py\n",
        "\n",
        "# start of c.py\n",
        "\"\"\"\n",
        "// save below without comment block\n",
        "a = 7\n",
        "def fun():\n",
        "    print(\"C::fun()\")\n",
        "def dummy():\n",
        "    print(\"C::dummy()\")\n",
        "\"\"\"\n",
        "# end of c.py\n",
        "\n",
        "def main():\n",
        "    import a\n",
        "    import b\n",
        "    import c\n",
        "\n",
        "    a.fun()\n",
        "    b.fun()\n",
        "    c.dummy()\n",
        "    print(\"c.a =\", c.a)\n",
        "\n",
        "if __name__ == \"__main__\":\n",
        "    main()\n",
        "```\n",
        "\n",
        "```cpp\n",
        "#include <iostream>\n",
        "\n",
        "namespace A\n",
        "{\n",
        "\tvoid fun() {std::cout << \"A::fun()\\n\";}\n",
        "}\n",
        "\n",
        "namespace B\n",
        "{\n",
        "\tvoid fun() {std::cout << \"B::fun()\\n\";}\n",
        "}\n",
        "\n",
        "namespace C\n",
        "{\n",
        "\tint a = 7;\n",
        "\tvoid fun() {std::cout << \"C::fun()\\n\";}\n",
        "\tvoid dummy() {std::cout << \"C::dummy()\\n\";}\n",
        "}\n",
        "\n",
        "int main()\n",
        "{\n",
        "\tA::fun();\n",
        "\tB::fun();\n",
        "\tC::dummy();\n",
        "\tstd::cout << \"C::a = \" <<  C::a << std::endl;\n",
        "\treturn 0;\n",
        "}\n",
        "```\n",
        "\n",
        "\n",
        "C does not have the concept of namespaces like C++ does. Namespaces are a feature specific to C++, designed to help organize and manage the scope of identifiers in a program to avoid naming conflicts. In C, you don't have namespaces, so all identifiers exist in the global scope, and you need to be more careful about naming to avoid conflicts.\n"
      ],
      "metadata": {
        "id": "3MRHs_mFQrdj"
      }
    },
    {
      "cell_type": "markdown",
      "source": [
        "#####**using Name Space (NOT RECOMMENDED) [src|](https://cafe.naver.com/honeyc/46948)**"
      ],
      "metadata": {
        "id": "LstxFHfzWLQE"
      }
    },
    {
      "cell_type": "markdown",
      "source": [
        "```python\n",
        "# start of a.py\n",
        "\"\"\"\n",
        "// save below without comment block\n",
        "def fun():\n",
        "    print(\"A::fun()\")\n",
        "\"\"\"\n",
        "# end of a.py\n",
        "\n",
        "# start of b.py\n",
        "\"\"\"\n",
        "// save below without comment block\n",
        "def fun():\n",
        "    print(\"B::fun()\")\n",
        "\"\"\"\n",
        "# end of b.py\n",
        "\n",
        "# start of c.py\n",
        "\"\"\"\n",
        "// save below without comment block\n",
        "a = 7\n",
        "def fun():\n",
        "    print(\"C::fun()\")\n",
        "def dummy():\n",
        "    print(\"C::dummy()\")\n",
        "\"\"\"\n",
        "# end of c.py\n",
        "\n",
        "import a as module_a\n",
        "import b\n",
        "from c import *\n",
        "\n",
        "def main():\n",
        "    module_a.fun()\n",
        "    b.fun()\n",
        "    dummy()\n",
        "    print(\"c.a =\", a)\n",
        "\n",
        "if __name__ == \"__main__\":\n",
        "    main()\n",
        "```\n",
        "\n",
        "```cpp\n",
        "#include <iostream>\n",
        "\n",
        "namespace A\n",
        "{\n",
        "\tvoid fun() {std::cout << \"A::fun()\\n\";}\n",
        "}\n",
        "\n",
        "namespace B\n",
        "{\n",
        "\tvoid fun() {std::cout << \"B::fun()\\n\";}\n",
        "}\n",
        "\n",
        "namespace C\n",
        "{\n",
        "\tint a = 7;\n",
        "\tvoid fun() {std::cout << \"C::fun()\\n\";}\n",
        "\tvoid dummy() {std::cout << \"C::dummy()\\n\";}\n",
        "}\n",
        "\n",
        "using namespace C;\n",
        "\n",
        "int main()\n",
        "{\n",
        "\tA::fun();\n",
        "\tB::fun();\n",
        "\tdummy();\n",
        "\tstd::cout << \"C::a = \" << a << std::endl;\n",
        "\treturn 0;\n",
        "}\n",
        "```\n",
        "\n",
        "\n",
        "C does not have the concept of namespaces like C++ does. Namespaces are a feature specific to C++, designed to help organize and manage the scope of identifiers in a program to avoid naming conflicts. In C, you don't have namespaces, so all identifiers exist in the global scope, and you need to be more careful about naming to avoid conflicts.\n"
      ],
      "metadata": {
        "id": "h5Kw7a-PWLQO"
      }
    },
    {
      "cell_type": "markdown",
      "source": [
        "#####**using (RECOMMENDED) [src|](https://cafe.naver.com/honeyc/46948)**"
      ],
      "metadata": {
        "id": "35EAkCBWYN42"
      }
    },
    {
      "cell_type": "markdown",
      "source": [
        "```python\n",
        "# start of a.py\n",
        "\"\"\"\n",
        "// save below without comment block\n",
        "def fun():\n",
        "    print(\"A::fun()\")\n",
        "\"\"\"\n",
        "# end of a.py\n",
        "\n",
        "# start of b.py\n",
        "\"\"\"\n",
        "// save below without comment block\n",
        "def fun():\n",
        "    print(\"B::fun()\")\n",
        "\"\"\"\n",
        "# end of b.py\n",
        "\n",
        "# start of c.py\n",
        "\"\"\"\n",
        "// save below without comment block\n",
        "a = 7\n",
        "def fun():\n",
        "    print(\"C::fun()\")\n",
        "def dummy():\n",
        "    print(\"C::dummy()\")\n",
        "\"\"\"\n",
        "# end of c.py\n",
        "\n",
        "import a as module_a\n",
        "import b\n",
        "from c import dummy, a\n",
        "\n",
        "def main():\n",
        "    module_a.fun()\n",
        "    b.fun()\n",
        "    dummy()\n",
        "    print(\"c.a =\", a)\n",
        "\n",
        "if __name__ == \"__main__\":\n",
        "    main()\n",
        "```\n",
        "\n",
        "```cpp\n",
        "#include <iostream>\n",
        "\n",
        "namespace A\n",
        "{\n",
        "\tvoid fun() {std::cout << \"A::fun()\\n\";}\n",
        "}\n",
        "\n",
        "namespace B\n",
        "{\n",
        "\tvoid fun() {std::cout << \"B::fun()\\n\";}\n",
        "}\n",
        "\n",
        "namespace C\n",
        "{\n",
        "\tint a = 7;\n",
        "\tvoid fun() {std::cout << \"C::fun()\\n\";}\n",
        "\tvoid dummy() {std::cout << \"C::dummy()\\n\";}\n",
        "}\n",
        "\n",
        "using C::dummy;\n",
        "using C::a;\n",
        "\n",
        "int main()\n",
        "{\n",
        "\tA::fun();\n",
        "\tB::fun();\n",
        "\tdummy();\n",
        "\tstd::cout << \"C::a = \" << a << std::endl;\n",
        "\treturn 0;\n",
        "}\n",
        "```\n",
        "\n",
        "\n",
        "C does not have the concept of namespaces like C++ does. Namespaces are a feature specific to C++, designed to help organize and manage the scope of identifiers in a program to avoid naming conflicts. In C, you don't have namespaces, so all identifiers exist in the global scope, and you need to be more careful about naming to avoid conflicts.\n"
      ],
      "metadata": {
        "id": "BAnigGydYN5A"
      }
    },
    {
      "cell_type": "markdown",
      "source": [
        "#**PART VI VARIABLE**"
      ],
      "metadata": {
        "id": "DhcQEXBvwYKR"
      }
    },
    {
      "cell_type": "markdown",
      "source": [
        "###**Chapter 1 Variable**"
      ],
      "metadata": {
        "id": "z-y30jtGdXBR"
      }
    },
    {
      "cell_type": "markdown",
      "source": [
        "#####**Print Hello World using Variable**"
      ],
      "metadata": {
        "id": "fNvfKaLjdd4P"
      }
    },
    {
      "cell_type": "markdown",
      "source": [
        "```python\n",
        "def main():\n",
        "    a = \"Hello World\"\n",
        "    print(a)  \n",
        "  \n",
        "if __name__ == \"__main__\":\n",
        "    main()\n",
        "```\n",
        "\n",
        "```cpp\n",
        "#include <iostream>\n",
        "#include <string>\n",
        "\n",
        "int main() {\n",
        "    const char* a = \"Hello, World!\"; // read-only\n",
        "    std::cout << a << std::endl;\n",
        "\n",
        "    char b[] = \"Hello, World!\"; // stack\n",
        "    std::cout << b << std::endl;\n",
        "\n",
        "    std::string c = \"Hello, World!\"; // heap\n",
        "    std::cout << c << std::endl;\n",
        "    \n",
        "    return 0;\n",
        "}\n",
        "```\n",
        "\n",
        "\n",
        "```c\n",
        "#include <stdio.h>\n",
        "\n",
        "int main() {\n",
        "    const char* b = \"Hello, World!\"; // read-only\n",
        "    printf(\"%s\\n\", b);\n",
        "\n",
        "    char a[] = \"Hello, World!\"; // stack\n",
        "    printf(\"%s\\n\", a);\n",
        "\n",
        "    return 0;\n",
        "}\n",
        "```"
      ],
      "metadata": {
        "id": "THMqy2vPdd4Z"
      }
    },
    {
      "cell_type": "markdown",
      "source": [
        "###**Chapter 2 Variable Initialization**"
      ],
      "metadata": {
        "id": "M81Uttx3wiQw"
      }
    },
    {
      "cell_type": "markdown",
      "source": [
        "$$\n",
        "\\left\\{\n",
        "\\begin{array}{lll}\n",
        "\\text{do not provide data}&&\n",
        "\\left\\{\\begin{array}{lll}\n",
        "\\text{default initialization}&&\n",
        "\\text{local : initialize with garbage}\\\\\n",
        "&&\\text{global : initialize with default}\\\\\n",
        "&&\\text{static : initialize with garbage}\\\\\n",
        "\\\\\n",
        "\\text{value initialization}&&\\text{initialize with default}\\\\\n",
        "\\end{array}\\right.\\\\\n",
        "\\\\\n",
        "\\text{provide data}&&\n",
        "\\left\\{\\begin{array}{lll}\n",
        "\\text{direct initialization}&&\\text{uses parentheses () to initialize an object}\\\\\n",
        "&&\\text{No Type Safety: narrowing conversions}\\\\\n",
        "&&\\text{Old Style}\\\\\n",
        "\\\\\n",
        "\\text{list initialization}&&\\text{uses braces {} to initialize an object}\\\\\n",
        "&&\\text{Type Safety: no narrowing conversions}\\\\\n",
        "&&\\text{New Style (Recommanded)}\\\\\n",
        "\\\\\n",
        "\\text{copy initialization}&&\\text{initializes an object from another object}\\\\\n",
        "\\\\\n",
        "\\text{reference initialization}&&\\text{binds a reference to an object}\\\\\n",
        "\\end{array}\\right.\\\\\n",
        "\\end{array}\n",
        "\\right.\n",
        "$$"
      ],
      "metadata": {
        "id": "fghcPk-JPpZ-"
      }
    },
    {
      "cell_type": "markdown",
      "source": [
        "####**Section 1 Default Initialization**"
      ],
      "metadata": {
        "id": "YCgpbUjtAuUl"
      }
    },
    {
      "cell_type": "markdown",
      "source": [
        "```cpp\n",
        "#include <iostream>\n",
        "\n",
        "int a;        // global : default\n",
        "double b;     // global : default\n",
        "char c;       // global : default\n",
        "\n",
        "int main()\n",
        "{\n",
        "    std::cout << \"a : \" << a << std::endl;\n",
        "    std::cout << \"b : \" << b << std::endl;\n",
        "    std::cout << \"c : \" << c << std::endl;\n",
        "\n",
        "    static int d;        // static : default\n",
        "    static double e;     // static : default\n",
        "    static char f;       // static : default\n",
        "\n",
        "    std::cout << \"d : \" << d << std::endl;\n",
        "    std::cout << \"e : \" << e << std::endl;\n",
        "    std::cout << \"f : \" << f << std::endl;\n",
        "\n",
        "    int g;        // local : garbage\n",
        "    double h;     // local : garbage\n",
        "    char i;       // local : garbage\n",
        "\n",
        "    std::cout << \"g : \" << g << std::endl;\n",
        "    std::cout << \"h : \" << h << std::endl;\n",
        "    std::cout << \"i : \" << i << std::endl;\n",
        "\n",
        "    return 0;\n",
        "}\n",
        "```"
      ],
      "metadata": {
        "id": "Iq3zmaEiA34H"
      }
    },
    {
      "cell_type": "markdown",
      "source": [
        "####**Section 2 Value Initialization**"
      ],
      "metadata": {
        "id": "KlGVmz51ByXq"
      }
    },
    {
      "cell_type": "markdown",
      "source": [
        "```cpp\n",
        "#include <iostream>\n",
        "\n",
        "int main()\n",
        "{\n",
        "    int a = int();       // default value\n",
        "    double b = double(); // default value\n",
        "    char c = char();     // default value\n",
        "\n",
        "    std::cout << \"a : \" << a << std::endl;\n",
        "    std::cout << \"b : \" << b << std::endl;\n",
        "    std::cout << \"c : \" << c << std::endl;\n",
        "\n",
        "    int d{};     // default value\n",
        "    double e{};  // default value\n",
        "    char f{};    // default value\n",
        "\n",
        "    std::cout << \"d : \" << d << std::endl;\n",
        "    std::cout << \"e : \" << e << std::endl;\n",
        "    std::cout << \"f : \" << f << std::endl;\n",
        "\n",
        "    int g[5]{};     // default value\n",
        "    double h[5]{};  // default value\n",
        "    char i[5]{};    // default value\n",
        "\n",
        "    for (const auto& at : g) {std::cout << at << \" \";} std::cout << std::endl;\n",
        "    for (const auto& at : h) {std::cout << at << \" \";} std::cout << std::endl;\n",
        "    for (const auto& at : i) {std::cout << at << \" \";} std::cout << std::endl;\n",
        "\n",
        "    return 0;\n",
        "}\n",
        "```"
      ],
      "metadata": {
        "id": "H8gvGg0NB3nV"
      }
    },
    {
      "cell_type": "markdown",
      "source": [
        "####**Section 3 Direct Initialization**"
      ],
      "metadata": {
        "id": "XRulv5UsCHBs"
      }
    },
    {
      "cell_type": "markdown",
      "source": [
        "```cpp\n",
        "#include <iostream>\n",
        "\n",
        "int main()\n",
        "{\n",
        "    int a = 5.7;        // implicit casting\n",
        "    double b = 3.14159; // implicit casting\n",
        "    char c = 'A';       // implicit casting\n",
        "\n",
        "    std::cout << \"a : \" << a << std::endl;\n",
        "    std::cout << \"b : \" << b << std::endl;\n",
        "    std::cout << \"c : \" << c << std::endl;\n",
        "\n",
        "    int d(5.7);        // implicit casting\n",
        "    double e(3.14159); // implicit casting\n",
        "    char f('A');       // implicit casting\n",
        "\n",
        "    std::cout << \"d : \" << d << std::endl;\n",
        "    std::cout << \"e : \" << e << std::endl;\n",
        "    std::cout << \"f : \" << f << std::endl;\n",
        "\n",
        "    int g = (5.7);        // implicit casting\n",
        "    double h = (3.14159); // implicit casting\n",
        "    char i = ('A');       // implicit casting\n",
        "\n",
        "    std::cout << \"g : \" << g << std::endl;\n",
        "    std::cout << \"h : \" << h << std::endl;\n",
        "    std::cout << \"i : \" << i << std::endl;\n",
        "\n",
        "    return 0;\n",
        "}\n",
        "```"
      ],
      "metadata": {
        "id": "e43INWqlCMwa"
      }
    },
    {
      "cell_type": "markdown",
      "source": [
        "####**Section 4 List Initialization (Uniform Initialization)**"
      ],
      "metadata": {
        "id": "Aw6mD2lNCHEg"
      }
    },
    {
      "cell_type": "markdown",
      "source": [
        "```cpp\n",
        "#include <iostream>\n",
        "\n",
        "int main()\n",
        "{\n",
        "    int a = {5};          // no implicit casting\n",
        "    double b = {3.14159}; // no implicit casting\n",
        "    char c = {'A'};       // no implicit casting\n",
        "\n",
        "    std::cout << \"a : \" << a << std::endl;\n",
        "    std::cout << \"b : \" << b << std::endl;\n",
        "    std::cout << \"c : \" << c << std::endl;\n",
        "\n",
        "    int d(5);          // no implicit casting\n",
        "    double e(3.14159); // no implicit casting\n",
        "    char f('A');       // no implicit casting\n",
        "\n",
        "    std::cout << \"d : \" << d << std::endl;\n",
        "    std::cout << \"e : \" << e << std::endl;\n",
        "    std::cout << \"f : \" << f << std::endl;\n",
        "\n",
        "    int g[5] = { 1, 2, 3, 4, 5 }; // no implicit casting\n",
        "    int h[5] = { 7 };             // no implicit casting\n",
        "\n",
        "    for(const auto& at : g){std::cout<<at<<\" \";} std::cout<<std::endl;\n",
        "    for(const auto& at : h){std::cout<<at<<\" \";} std::cout<<std::endl;\n",
        "\n",
        "    int i[5]{ 1, 2, 3, 4, 5 };    // no implicit casting\n",
        "    int j[5]{ 7 };                // no implicit casting\n",
        "\n",
        "    for(const auto& at : i){std::cout<<at<<\" \";} std::cout<<std::endl;\n",
        "    for(const auto& at : j){std::cout<<at<<\" \";} std::cout<<std::endl;\n",
        "\n",
        "    return 0;\n",
        "}\n",
        "```"
      ],
      "metadata": {
        "id": "LKulomAQSIb6"
      }
    },
    {
      "cell_type": "markdown",
      "source": [
        "###**Chapter 3 Variable Scope**"
      ],
      "metadata": {
        "id": "92CRApkxrVXn"
      }
    },
    {
      "cell_type": "markdown",
      "source": [
        "#####**Block Scope [eng|](https://www.youtube.com/watch?v=RC8iNDS8fPw&list=PLvv0ScY6vfd8j-tlhYVPYgiIyXduu6m-L&index=12&t=15s&ab_channel=MikeShah)**"
      ],
      "metadata": {
        "id": "bWETH4QwQnWy"
      }
    },
    {
      "cell_type": "markdown",
      "source": [
        "```python\n",
        "def main():\n",
        "    x = 1\n",
        "    y = 1\n",
        "    print(f'x : {x}')\n",
        "    print(f'y : {y}')\n",
        "\n",
        "    # Inside a block\n",
        "    def f():\n",
        "        x = 7  # Local variable\n",
        "        print(f'x : {x}')\n",
        "        print(f'y : {y}')\n",
        "    f()\n",
        "\n",
        "    print(f'x : {x}')\n",
        "    print(f'y : {y}')\n",
        "\n",
        "if __name__ == \"__main__\":\n",
        "    main()\n",
        "```\n",
        "\n",
        "```cpp\n",
        "#include <iostream>\n",
        "\n",
        "int main() {\n",
        "    int x = 1, y = 1;\n",
        "    std::cout << \"x : \" << x << std::endl;\n",
        "    std::cout << \"y : \" << y << std::endl;\n",
        "\n",
        "    {\n",
        "        int x = 7; //지역변수\n",
        "        std::cout << \"x : \" << x << std::endl;\n",
        "        std::cout << \"y : \" << y << std::endl;\n",
        "    }\n",
        "\n",
        "    std::cout << \"x : \" << x << std::endl;\n",
        "    std::cout << \"y : \" << y << std::endl;\n",
        "\n",
        "    return 0;\n",
        "}\n",
        "```\n",
        "\n",
        "\n",
        "```c\n",
        "#include <stdio.h>\n",
        "\n",
        "int main() {\n",
        "    int x = 1, y = 1;\n",
        "    printf(\"x : %d\\n\", x);\n",
        "    printf(\"y : %d\\n\", y);\n",
        "\n",
        "    {\n",
        "        int x = 7; // Local variable\n",
        "        printf(\"x : %d\\n\", x);\n",
        "        printf(\"y : %d\\n\", y);\n",
        "    }\n",
        "\n",
        "    printf(\"x : %d\\n\", x);\n",
        "    printf(\"y : %d\\n\", y);\n",
        "\n",
        "    return 0;\n",
        "}\n",
        "```\n"
      ],
      "metadata": {
        "id": "R0UpglYrQnW8"
      }
    },
    {
      "cell_type": "markdown",
      "source": [
        "#####**Variable Scope [src|](https://cafe.naver.com/honeyc?iframe_url_utf8=%2FArticleRead.nhn%253FreferrerAllArticles%3Dfalse%2526menuid%3D117%2526page%3D2%2526boardtype%3DL%2526clubid%3D11957566%2526articleid%3D80445)**"
      ],
      "metadata": {
        "id": "nwZlWN6PrdxG"
      }
    },
    {
      "cell_type": "markdown",
      "source": [
        "```python\n",
        "def create_counter():\n",
        "    count = 0\n",
        "\n",
        "    def counter():\n",
        "        nonlocal count\n",
        "        count += 1\n",
        "        return count\n",
        "\n",
        "    return counter\n",
        "\n",
        "count_f_call = create_counter()\n",
        "count_g_call = create_counter()\n",
        "count_function_call = create_counter()\n",
        "\n",
        "def f():\n",
        "    count = count_f_call()\n",
        "    count_total = count_function_call()\n",
        "    print(\"num of function call:\", count_total)\n",
        "    print(\"num of f call:\", count)\n",
        "\n",
        "def g(arg):\n",
        "    count = count_g_call()\n",
        "    count_total = count_function_call()\n",
        "    print(\"num of function call:\", count_total)\n",
        "    print(\"num of g call:\", count)\n",
        "\n",
        "    a = 30\n",
        "    a += arg\n",
        "    print(\"a:\", a)\n",
        "\n",
        "def main():\n",
        "    a = 3\n",
        "\n",
        "    f()\n",
        "    g(1)\n",
        "    g(2)\n",
        "    g(3)\n",
        "    print(\"a:\", a)\n",
        "\n",
        "if __name__ == \"__main__\":\n",
        "    main()\n",
        "```\n",
        "\n",
        "```cpp\n",
        "#include <iostream>\n",
        "\n",
        "int count_function_call = 0; //전역변수\n",
        "\n",
        "void f()\n",
        "{\n",
        "    static int count_f_call = 0;//정적변수\n",
        "    count_function_call++;\n",
        "    count_f_call++;\n",
        "    std::cout << \"num of function call : \" << count_function_call << std::endl;\n",
        "    std::cout << \"num of f call        : \" << count_f_call << std::endl;\n",
        "}\n",
        "\n",
        "void g(int arg) //매개변수\n",
        "{\n",
        "    static int count_g_call = 0;//정적변수\n",
        "    count_function_call++;\n",
        "    count_g_call++;\n",
        "    std::cout << \"num of function call : \" << count_function_call << std::endl;\n",
        "    std::cout << \"num of g call        : \" << count_g_call << std::endl;\n",
        "\n",
        "    int a = 30; //지역변수\n",
        "    a += arg;\n",
        "    std::cout << \"a : \" << a << std::endl;\n",
        "}\n",
        "\n",
        "int main() {\n",
        "    int a = 3; //지역변수\n",
        "\n",
        "    {\n",
        "\t\tint b = 7; //지역변수\n",
        "\t\tint c = 9; //지역변수\n",
        "    }\n",
        "\n",
        "    f();\n",
        "    g(1);\n",
        "    g(2);\n",
        "    g(3);\n",
        "    std::cout << \"a : \" << a << std::endl;\n",
        "\n",
        "    return 0;\n",
        "}\n",
        "```\n",
        "\n",
        "\n",
        "```c\n",
        "#include <stdio.h>\n",
        "\n",
        "int count_function_call = 0; // Global variable\n",
        "\n",
        "void f()\n",
        "{\n",
        "    static int count_f_call = 0; // Static variable\n",
        "    count_function_call++;\n",
        "    count_f_call++;\n",
        "    printf(\"num of function call : %d\\n\", count_function_call);\n",
        "    printf(\"num of f call        : %d\\n\", count_f_call);\n",
        "}\n",
        "\n",
        "void g(int arg) // Function parameter\n",
        "{\n",
        "    static int count_g_call = 0; // Static variable\n",
        "    count_function_call++;\n",
        "    count_g_call++;\n",
        "    printf(\"num of function call : %d\\n\", count_function_call);\n",
        "    printf(\"num of g call        : %d\\n\", count_g_call);\n",
        "\n",
        "    int a = 30; // Local variable\n",
        "    a += arg;\n",
        "    printf(\"a : %d\\n\", a);\n",
        "}\n",
        "\n",
        "int main()\n",
        "{\n",
        "    int a = 3; // Local variable\n",
        "\n",
        "    {\n",
        "        int b = 7; // Local variable\n",
        "        int c = 9; // Local variable\n",
        "    }\n",
        "\n",
        "    f();\n",
        "    g(1);\n",
        "    g(2);\n",
        "    g(3);\n",
        "    printf(\"a : %d\\n\", a);\n",
        "\n",
        "    return 0;\n",
        "}\n",
        "```\n"
      ],
      "metadata": {
        "id": "CvCnSFm3rdxQ"
      }
    },
    {
      "cell_type": "markdown",
      "source": [
        "###**Chapter 4 Dynamic Memory Allocation**"
      ],
      "metadata": {
        "id": "KgmijuqY1eQ0"
      }
    },
    {
      "cell_type": "markdown",
      "source": [
        "#####**Average Score [src|](https://cafe.naver.com/honeyc?iframe_url_utf8=%2FArticleRead.nhn%253FreferrerAllArticles%3Dfalse%2526menuid%3D117%2526page%3D2%2526boardtype%3DL%2526clubid%3D11957566%2526articleid%3D80445)**"
      ],
      "metadata": {
        "id": "AKcWwZNd1noo"
      }
    },
    {
      "cell_type": "markdown",
      "source": [
        "```python\n",
        "def main():\n",
        "    num = int(input(\"Enter number of students: \"))\n",
        "    scores = []\n",
        "\n",
        "    for i in range(num):\n",
        "        score = int(input(f\"Enter the score of {i + 1}-th student: \"))\n",
        "        scores.append(score)\n",
        "\n",
        "    total = sum(scores)\n",
        "    average = total / num\n",
        "\n",
        "    print(f\"Average score of {num} students: {average:.2f}\")\n",
        "\n",
        "if __name__ == \"__main__\":\n",
        "    main()\n",
        "```\n",
        "\n",
        "```cpp\n",
        "#include <iostream>\n",
        "\n",
        "int main()\n",
        "{\n",
        "    int num;\n",
        "    std::cout << \"enter number of students : \";\n",
        "    std::cin >> num;\n",
        "\n",
        "    int* score = new int[num];\n",
        "    int total = 0;\n",
        "    for (int i = 0; i < num; i++)\n",
        "    {\n",
        "        std::cout << \"enter the score of \" << i + 1 << \"-th student : \";\n",
        "        std::cin >> score[i];\n",
        "        total += score[i]; //점수 누적\n",
        "    }\n",
        "\n",
        "    std::cout << \"average score of \" << num << \" students : \";\n",
        "    std::cout << total / (double)num << \"\\n\";\n",
        "\n",
        "    delete[] score;\n",
        "    return 0;\n",
        "}\n",
        "```\n",
        "\n",
        "```c\n",
        "#include <stdio.h>\n",
        "#include <stdlib.h>\n",
        "\n",
        "int main() {\n",
        "    int num;\n",
        "    printf(\"Enter number of students : \");\n",
        "    scanf(\"%d\", &num);\n",
        "\n",
        "    int* score = (int*)malloc(num * sizeof(int));\n",
        "    if (score == NULL) {\n",
        "        fprintf(stderr, \"Memory allocation failed\\n\");\n",
        "        return 1;\n",
        "    }\n",
        "\n",
        "    int total = 0;\n",
        "    for (int i = 0; i < num; i++) {\n",
        "        printf(\"Enter the score of %d-th student : \", i + 1);\n",
        "        scanf(\"%d\", &score[i]);\n",
        "        total += score[i];\n",
        "    }\n",
        "\n",
        "    printf(\"Average score of %d students : %.2lf\\n\", num, (double)total / num);\n",
        "\n",
        "    free(score);\n",
        "    return 0;\n",
        "}\n",
        "```\n"
      ],
      "metadata": {
        "id": "Kuw9_nrK1noy"
      }
    },
    {
      "cell_type": "markdown",
      "source": [
        "#####**Random Capitialized String [src|](https://cafe.naver.com/honeyc?iframe_url_utf8=%2FArticleRead.nhn%253FreferrerAllArticles%3Dfalse%2526menuid%3D117%2526page%3D2%2526boardtype%3DL%2526clubid%3D11957566%2526articleid%3D80445)**"
      ],
      "metadata": {
        "id": "FfSaod1C6vWn"
      }
    },
    {
      "cell_type": "markdown",
      "source": [
        "```python\n",
        "import random\n",
        "import string\n",
        "\n",
        "def randomized_upper_string(size):\n",
        "    return ''.join(random.choice(string.ascii_uppercase) for _ in range(size))\n",
        "\n",
        "def main():\n",
        "    size = int(input(\"Enter the size of character memory to allocate: \"))\n",
        "    s = randomized_upper_string(size)  # Generate random uppercase characters\n",
        "    print(s)\n",
        "\n",
        "if __name__ == \"__main__\":\n",
        "    main()\n",
        "```\n",
        "\n",
        "```cpp\n",
        "#include <iostream>\n",
        "#include <cstdlib> // rand, srand\n",
        "#include <ctime>   // time\n",
        "\n",
        "void randomized_upper_string(char* p, int size);\n",
        "\n",
        "int main() {\n",
        "    std::cout << \"Enter the size of character memory to allocate: \";\n",
        "    int size;\n",
        "    std::cin >> size;\n",
        "\n",
        "    char* s = new char[size + 1]; // Allocate memory for char\n",
        "    // including the null character at the end\n",
        "\n",
        "    randomized_upper_string(s, size+1); // Fill with random uppercase characters\n",
        "    std::cout << s << std::endl;\n",
        "\n",
        "    delete[] s; // Deallocate dynamic memory\n",
        "    return 0;\n",
        "}\n",
        "\n",
        "void randomized_upper_string(char* p, int size)\n",
        "{\n",
        "    srand(static_cast<unsigned int>(time(NULL)));\n",
        "    for (int i = 0; i < size-1; i++)\n",
        "    {\n",
        "        p[i] = rand() % 26 + 65; // Random uppercase letters (ASCII 65 to 90)\n",
        "    }\n",
        "    p[size-1] = '\\0'; // Null-terminate the string\n",
        "}\n",
        "```\n",
        "\n",
        "```c\n",
        "#include <stdio.h>\n",
        "#include <stdlib.h> // rand, srand\n",
        "#include <time.h>   // time\n",
        "\n",
        "void randomized_upper_string(char* p, int size);\n",
        "\n",
        "int main() {\n",
        "    printf(\"Enter the size of character memory to allocate: \");\n",
        "    int size;\n",
        "    scanf(\"%d\", &size);\n",
        "\n",
        "    char* s = (char*)malloc((size + 1) * sizeof(char)); // Allocate memory\n",
        "    // for char including the null character at the end\n",
        "\n",
        "    randomized_upper_string(s, size + 1); // Fill with random uppercase chars\n",
        "    printf(\"%s\\n\", s);\n",
        "\n",
        "    free(s); // Deallocate dynamic memory\n",
        "    return 0;\n",
        "}\n",
        "\n",
        "void randomized_upper_string(char* p, int size)\n",
        "{\n",
        "    srand((unsigned int)time(NULL));\n",
        "    for (int i = 0; i < size - 1; i++)\n",
        "    {\n",
        "        p[i] = rand() % 26 + 65; // Random uppercase letters (ASCII 65 to 90)\n",
        "    }\n",
        "    p[size - 1] = '\\0'; // Null-terminate the string\n",
        "}\n",
        "```\n"
      ],
      "metadata": {
        "id": "NMtp9-if6vWw"
      }
    },
    {
      "cell_type": "markdown",
      "source": [
        "#####**reAlloc [src|](https://cafe.naver.com/honeyc?iframe_url_utf8=%2FArticleRead.nhn%253FreferrerAllArticles%3Dfalse%2526menuid%3D117%2526page%3D2%2526boardtype%3DL%2526clubid%3D11957566%2526articleid%3D80445)**"
      ],
      "metadata": {
        "id": "oKhUEzw-A87L"
      }
    },
    {
      "cell_type": "markdown",
      "source": [
        "```python\n",
        "def reAlloc(lst, old_size, new_size):\n",
        "    lst.extend([0] * (new_size - old_size))\n",
        "    return lst\n",
        "\n",
        "def main():\n",
        "    a = list(range(1, 6))\n",
        "    print(a)\n",
        "\n",
        "    a = reAlloc(a, 5, 10)\n",
        "    a[5] = 100\n",
        "    a[6] = 200\n",
        "    print(a)\n",
        "\n",
        "if __name__ == \"__main__\":\n",
        "    main()\n",
        "```\n",
        "\n",
        "```cpp\n",
        "#include <iostream>\n",
        "\n",
        "template <typename T>\n",
        "T* reAlloc(T* ptr, int old_size, int new_size);\n",
        "\n",
        "int main() {\n",
        "    int* a = new int[5];\n",
        "    for (int i = 0; i < 5; i++) {\n",
        "        a[i] = i + 1;\n",
        "    }\n",
        "\n",
        "    a = reAlloc(a, 5, 10);\n",
        "    a[5] = 100;\n",
        "    a[6] = 200;\n",
        "\n",
        "    for (int i = 0; i < 7; i++) {\n",
        "        std::cout << a[i] << \" \";\n",
        "    }\n",
        "    std::cout << std::endl;\n",
        "\n",
        "    delete[] a;\n",
        "\n",
        "    return 0;\n",
        "}\n",
        "\n",
        "template <typename T>\n",
        "T* reAlloc(T* ptr, int old_size, int new_size) {\n",
        "    T* p = new T[new_size];\n",
        "    for (int i = 0; i < old_size; i++) {\n",
        "        p[i] = ptr[i];\n",
        "    }\n",
        "    delete[] ptr;\n",
        "    return p;\n",
        "}\n",
        "```\n",
        "\n",
        "```c\n",
        "#include <stdio.h>\n",
        "#include <stdlib.h>\n",
        "\n",
        "int* reAlloc(int* ptr, int old_size, int new_size);\n",
        "\n",
        "int main() {\n",
        "    int* a = (int*)malloc(5 * sizeof(int));\n",
        "    if (a == NULL) {\n",
        "        perror(\"Memory allocation failed\");\n",
        "        return 1;\n",
        "    }\n",
        "\n",
        "    for (int i = 0; i < 5; i++) {\n",
        "        a[i] = i + 1;\n",
        "    }\n",
        "\n",
        "    a = reAlloc(a, 5, 10);\n",
        "    if (a == NULL) {\n",
        "        perror(\"Memory reallocation failed\");\n",
        "        free(a);\n",
        "        return 1;\n",
        "    }\n",
        "\n",
        "    a[5] = 100;\n",
        "    a[6] = 200;\n",
        "\n",
        "    for (int i = 0; i < 7; i++) {\n",
        "        printf(\"%d \", a[i]);\n",
        "    }\n",
        "    printf(\"\\n\");\n",
        "\n",
        "    free(a);\n",
        "\n",
        "    return 0;\n",
        "}\n",
        "\n",
        "int* reAlloc(int* ptr, int old_size, int new_size) {\n",
        "    int* p = (int*)malloc(new_size * sizeof(int));\n",
        "    if (p == NULL) {\n",
        "        return NULL; // Memory allocation failed\n",
        "    }\n",
        "\n",
        "    for (int i = 0; i < old_size; i++) {\n",
        "        p[i] = ptr[i];\n",
        "    }\n",
        "\n",
        "    free(ptr);\n",
        "\n",
        "    return p;\n",
        "}\n",
        "```\n"
      ],
      "metadata": {
        "id": "7WuCS5iaA87U"
      }
    },
    {
      "cell_type": "markdown",
      "source": [
        "###**Chapter 5 Static Variable**"
      ],
      "metadata": {
        "id": "ZHiW2f7panO3"
      }
    },
    {
      "cell_type": "markdown",
      "source": [
        "#####**Static Variable [eng|](https://www.youtube.com/watch?v=hIsE0HiP1E8&list=PLvv0ScY6vfd8j-tlhYVPYgiIyXduu6m-L&index=69&t=329s&ab_channel=MikeShah)**"
      ],
      "metadata": {
        "id": "049IBHQpavCd"
      }
    },
    {
      "cell_type": "markdown",
      "source": [
        "```python\n",
        "def create_foo():\n",
        "    s_variable = 0\n",
        "\n",
        "    def foo():\n",
        "        nonlocal s_variable\n",
        "        s_variable += 1\n",
        "        print(s_variable)\n",
        "\n",
        "    return foo\n",
        "\n",
        "def main():\n",
        "    foo = create_foo()\n",
        "    for i in range(10):\n",
        "        foo()\n",
        "\n",
        "if __name__ == \"__main__\":\n",
        "    main()\n",
        "```\n",
        "\n",
        "```cpp\n",
        "#include <iostream>\n",
        "\n",
        "void foo()\n",
        "{\n",
        "    static int s_variable = 0;\n",
        "    s_variable += 1;    \n",
        "    std::cout << s_variable << std::endl;\n",
        "}\n",
        "\n",
        "int main()\n",
        "{\n",
        "    for (int i = 0; i < 10; i++) {foo();}\n",
        "    return 0;\n",
        "}\n",
        "```\n",
        "\n"
      ],
      "metadata": {
        "id": "iQfwuyEiavCm"
      }
    },
    {
      "cell_type": "markdown",
      "source": [
        "#**PART VII FUNCTION**"
      ],
      "metadata": {
        "id": "VydN6w8qRz6Q"
      }
    },
    {
      "cell_type": "markdown",
      "source": [
        "###**Chapter 1 Operator**"
      ],
      "metadata": {
        "id": "D9xpxAVnQQ3U"
      }
    },
    {
      "cell_type": "markdown",
      "source": [
        "#####**Even or Odd using Ternary Operator [eng|](https://www.youtube.com/watch?v=TMT53s8bhzQ&list=PLM4pPs1mzl_OgHW0_jfgDz3ZR_gUbp-47&index=45)**"
      ],
      "metadata": {
        "id": "SlxHV8Zf2KhE"
      }
    },
    {
      "cell_type": "markdown",
      "source": [
        "\n",
        "```python\n",
        "def main():  \n",
        "    n = int(input(\"Enter an integer : \"))  \n",
        "  \n",
        "    print(f\"{n} is even\") if (n%2==0) else (\n",
        "        print(f\"{n} is odd\")\n",
        "    )  \n",
        "  \n",
        "if __name__ == \"__main__\":\n",
        "    main()\n",
        "```\n",
        "\n",
        "```cpp\n",
        "#include <iostream>  \n",
        "  \n",
        "int main()  \n",
        "{  \n",
        "    int n;  \n",
        "  \n",
        "    std::cout << \"Enter an integer : \";  \n",
        "    std::cin >> n;  \n",
        "  \n",
        "    (n % 2 == 0) ?  \n",
        "    (std::cout << n << \" is even.\") :  \n",
        "    (std::cout << n << \" is odd.\") ;  \n",
        "    std::cout << std::endl;\n",
        "  \n",
        "    return 0;  \n",
        "}\n",
        "```\n",
        "\n",
        "```c\n",
        "#include <stdio.h>  \n",
        "  \n",
        "int main()  \n",
        "{  \n",
        "    int n;  \n",
        "  \n",
        "    printf(\"Enter an integer : \");  \n",
        "    scanf(\"%d\", &n);  \n",
        "  \n",
        "    (n % 2 == 0) ?  \n",
        "    (printf(\"%d is even.\\n\", n)) :  \n",
        "    (printf(\"%d is odd.\\n\", n)) ;  \n",
        "  \n",
        "    return 0;  \n",
        "}\n",
        "```"
      ],
      "metadata": {
        "id": "BlxRWcYS2KhE"
      }
    },
    {
      "cell_type": "markdown",
      "source": [
        "#####**Even or Odd without using Modular Operator [eng|](https://www.youtube.com/watch?v=4-AoNsgYJQ4&list=PLM4pPs1mzl_OgHW0_jfgDz3ZR_gUbp-47&index=46)**"
      ],
      "metadata": {
        "id": "f4kv6w_14K-v"
      }
    },
    {
      "cell_type": "markdown",
      "source": [
        "\n",
        "\n",
        "```python\n",
        "def main():  \n",
        "    n = int(input(\"Enter an integer : \"))  \n",
        "\n",
        "    print(f\"{n} is even\") if ((n//2)*2==n) else (\n",
        "        print(f\"{n} is odd\")\n",
        "    )   \n",
        "  \n",
        "if __name__ == \"__main__\":\n",
        "    main()\n",
        "```\n",
        "\n",
        "```cpp\n",
        "#include <iostream>  \n",
        "  \n",
        "int main()  \n",
        "{  \n",
        "    int n;\n",
        "\n",
        "    std::cout << \"Enter an integer : \";  \n",
        "    std::cin >> n;  \n",
        "  \n",
        "    ((n/2)*2 == n) ?  \n",
        "    (std::cout << n << \" is even.\") :  \n",
        "    (std::cout << n << \" is odd.\") ;  \n",
        "    std::cout << std::endl;\n",
        "  \n",
        "    return 0;  \n",
        "}\n",
        "```\n",
        "\n",
        "```c\n",
        "#include <stdio.h>  \n",
        "  \n",
        "int main()  \n",
        "{  \n",
        "    int n;  \n",
        "  \n",
        "    printf(\"Enter an integer : \");  \n",
        "    scanf(\"%d\", &n);  \n",
        "  \n",
        "    ((n/2)*2 == n) ?  \n",
        "    (printf(\"%d is even.\\n\", n)) :  \n",
        "    (printf(\"%d is odd.\\n\", n)) ;  \n",
        "  \n",
        "    return 0;  \n",
        "}\n",
        "```"
      ],
      "metadata": {
        "id": "8UpxMrAf4K-6"
      }
    },
    {
      "cell_type": "markdown",
      "source": [
        "###**Chapter 2 Function**"
      ],
      "metadata": {
        "id": "wpEvNb87QpIk"
      }
    },
    {
      "cell_type": "markdown",
      "source": [
        "####**Section 1 Function Call**"
      ],
      "metadata": {
        "id": "8twGn_G4R4VS"
      }
    },
    {
      "cell_type": "markdown",
      "source": [
        "#####**Convert Centigrade To Fahrenheit [eng|](https://www.youtube.com/watch?v=UFtA-OVypHs&list=PLM4pPs1mzl_OgHW0_jfgDz3ZR_gUbp-47&index=54)**"
      ],
      "metadata": {
        "id": "2P24dysmOzpY"
      }
    },
    {
      "cell_type": "markdown",
      "source": [
        "Fahrenheit = (Centigrade * (9/5)) + 32\n",
        "\n",
        "```python\n",
        "def convert_centigrade_to_fahrenheit(c):\n",
        "    return (c * (9./5.)) + 32.\n",
        "\n",
        "def main():\n",
        "    c = float(input(\"Enter the temperature in centigrade : \"))\n",
        "\n",
        "    f = convert_centigrade_to_fahrenheit(c)\n",
        "    print(f\"Current temperature in fahrenheit : {f}\")\n",
        "\n",
        "if __name__ == \"__main__\":\n",
        "    main()\n",
        "```\n",
        "\n",
        "```cpp\n",
        "#include <iostream>\n",
        "\n",
        "float convert_centigrade_to_fahrenheit(float c)\n",
        "{\n",
        "    return (c * (9./5.)) + 32.;\n",
        "}\n",
        "\n",
        "int main()\n",
        "{\n",
        "    float c, f;\n",
        "    std::cout << \"Enter the temperature in centigrade : \";\n",
        "    std::cin >> c;\n",
        "\n",
        "    f = convert_centigrade_to_fahrenheit(c);\n",
        "    std::cout << \"Current temperature in fahrenheit : \" << f << std::endl;\n",
        "\n",
        "    return 0;\n",
        "}\n",
        "```\n",
        "\n",
        "```c\n",
        "#include <stdio.h>\n",
        "\n",
        "float convert_centigrade_to_fahrenheit(float c)\n",
        "{\n",
        "    return (c * (9./5.)) + 32.;\n",
        "}\n",
        "\n",
        "int main()\n",
        "{\n",
        "    float c, f;\n",
        "    printf(\"Enter the temperature in centigrade : \");\n",
        "    scanf(\"%f\", &c);\n",
        "\n",
        "    f = convert_centigrade_to_fahrenheit(c);\n",
        "    printf(\"Current temperature in fahrenheit : %f\\n\", f);\n",
        "\n",
        "    return 0;\n",
        "}\n",
        "```\n",
        "\n",
        "\n",
        "\n"
      ],
      "metadata": {
        "id": "vsyKq1CpO_MQ"
      }
    },
    {
      "cell_type": "markdown",
      "source": [
        "#####**Convert Fahrenheit to Centigrade [eng|](https://www.youtube.com/watch?v=jBR9hco2O-w&list=PLM4pPs1mzl_OgHW0_jfgDz3ZR_gUbp-47&index=55)**"
      ],
      "metadata": {
        "id": "rx5F_JLbkvKZ"
      }
    },
    {
      "cell_type": "markdown",
      "source": [
        "Fahrenheit = (Centigrade * (9/5)) + 32\n",
        "\n",
        "Centigrade = (Fahrenheit - 32) * (5/9)\n",
        "\n",
        "```python\n",
        "def convert_fahrenheit_to_centigrade(f):\n",
        "    return ( f - 32. ) * ( 5. / 9. )\n",
        "\n",
        "def main():\n",
        "    f = float(input(\"Enter the temperature in fahrenheit : \"))\n",
        "\n",
        "    c = convert_fahrenheit_to_centigrade(f)\n",
        "    print(f\"Current temperature in centigrade : {c}\")\n",
        "\n",
        "if __name__ == \"__main__\":\n",
        "    main()\n",
        "```\n",
        "\n",
        "\n",
        "```cpp\n",
        "#include <iostream>\n",
        "\n",
        "float convert_fahrenheit_to_centigrade(float f)\n",
        "{\n",
        "    return ( f - 32. ) * ( 5. / 9. );\n",
        "}\n",
        "\n",
        "int main()\n",
        "{\n",
        "    float c, f;\n",
        "    std::cout << \"Enter the temperature in fahrenheit : \";\n",
        "    std::cin >> f;\n",
        "\n",
        "    c = convert_fahrenheit_to_centigrade(f);\n",
        "    std::cout << \"Current temperature in centigrade : \" << c << std::endl;\n",
        "\n",
        "    return 0;\n",
        "}\n",
        "```\n",
        "\n",
        "```c\n",
        "#include <stdio.h>\n",
        "\n",
        "float convert_fahrenheit_to_centigrade(float f)\n",
        "{\n",
        "    return ( f - 32. ) * ( 5. / 9. );\n",
        "}\n",
        "\n",
        "int main()\n",
        "{\n",
        "    float c, f;\n",
        "    printf(\"Enter the temperature in fahrenheit : \");\n",
        "    scanf(\"%f\", &f);\n",
        "\n",
        "    c = convert_fahrenheit_to_centigrade(f);\n",
        "    printf(\"Current temperature in centigrade : %f\\n\", c);\n",
        "\n",
        "    return 0;\n",
        "}\n",
        "```"
      ],
      "metadata": {
        "id": "Nkyb0duGkvKa"
      }
    },
    {
      "cell_type": "markdown",
      "source": [
        "#####**Find Perimeter of a Rectangle [eng|](https://www.youtube.com/watch?v=EnQTDhvimd0&list=PLM4pPs1mzl_OgHW0_jfgDz3ZR_gUbp-47&index=57)**"
      ],
      "metadata": {
        "id": "lPDmrTtSqk6c"
      }
    },
    {
      "cell_type": "markdown",
      "source": [
        "Perimeter = 2 * (Length + Width)\n",
        "\n",
        "```python\n",
        "def compute_perimeter_of_rectangle(length, width):\n",
        "    return ( length + width ) * 2\n",
        "\n",
        "def main():\n",
        "    length, width = tuple(float(x) for x in input(\"Enter the length and width of a rectangle : \").split())\n",
        "\n",
        "    perimeter = compute_perimeter_of_rectangle(length, width)\n",
        "    print(f\"perimeter : {perimeter}\")\n",
        "\n",
        "if __name__ == \"__main__\":\n",
        "    main()\n",
        "```\n",
        "\n",
        "```cpp\n",
        "#include <iostream>\n",
        "\n",
        "float compute_perimeter_of_rectangle(float length, float width)\n",
        "{\n",
        "    return ( length + width ) * 2;\n",
        "}\n",
        "\n",
        "int main()\n",
        "{\n",
        "    float length, width, perimeter;\n",
        "    std::cout << \"Enter the length and width of a rectangle : \";\n",
        "    std::cin >> length >> width;\n",
        "\n",
        "    perimeter = compute_perimeter_of_rectangle(length, width);\n",
        "    std::cout << \"perimeter : \" << perimeter << std::endl;\n",
        "\n",
        "    return 0;\n",
        "}\n",
        "```\n",
        "\n",
        "```c\n",
        "#include <stdio.h>\n",
        "\n",
        "float compute_perimeter_of_rectangle(float length, float width)\n",
        "{\n",
        "    return ( length + width ) * 2;\n",
        "}\n",
        "\n",
        "int main()\n",
        "{\n",
        "    float length, width, perimeter;\n",
        "    printf(\"Enter the length and width of a rectangle : \");\n",
        "    scanf(\"%f%f\", &length, &width);\n",
        "\n",
        "    perimeter = compute_perimeter_of_rectangle(length, width);\n",
        "    printf(\"perimeter : %f\\n\", perimeter);\n",
        "\n",
        "    return 0;\n",
        "}\n",
        "```\n",
        "\n",
        "\n"
      ],
      "metadata": {
        "id": "NcUm8x1Qqk6l"
      }
    },
    {
      "cell_type": "markdown",
      "source": [
        "###**Chapter 3 Passing Function Arguments**"
      ],
      "metadata": {
        "id": "cZpt9zn2SDT-"
      }
    },
    {
      "cell_type": "markdown",
      "source": [
        "####**Section 1 Call by Value**"
      ],
      "metadata": {
        "id": "EdcFlFg5tD_N"
      }
    },
    {
      "cell_type": "markdown",
      "source": [
        "#####**Call by Value [kor|](https://www.youtube.com/watch?v=o59A0b5-vkg&list=PLSxm-MRGlRAqNUH7S49yIXjh-LmgASLJf&index=53)[eng|](https://www.youtube.com/watch?v=hsu15NcSSsc&list=PLvv0ScY6vfd8j-tlhYVPYgiIyXduu6m-L&index=20&ab_channel=MikeShah)**"
      ],
      "metadata": {
        "id": "q1IEeDSypzIB"
      }
    },
    {
      "cell_type": "markdown",
      "source": [
        "\n",
        "\n",
        "```c\n",
        "#include <stdio.h>\n",
        "\n",
        "void modifyValue(int x) {\n",
        "    x = 10; // Modify the local copy of x\n",
        "}\n",
        "\n",
        "int main() {\n",
        "    int num = 5;\n",
        "    printf(\"Before function call: %d\\n\", num);\n",
        "\n",
        "    modifyValue(num); // Pass num by value\n",
        "    printf(\"After function call: %d\\n\", num); // num remains unchanged\n",
        "    \n",
        "    return 0;\n",
        "}\n",
        "```\n"
      ],
      "metadata": {
        "id": "XRoqg3R5pzIC"
      }
    },
    {
      "cell_type": "markdown",
      "source": [
        "####**Section 2 Call by Address (Pointer)**"
      ],
      "metadata": {
        "id": "Yn32FADwtI6X"
      }
    },
    {
      "cell_type": "markdown",
      "source": [
        "#####**Call by Address (or Pointer) [kor|](https://www.youtube.com/watch?v=QYIrmFYmaWM&list=PLSxm-MRGlRAqNUH7S49yIXjh-LmgASLJf&index=54)**"
      ],
      "metadata": {
        "id": "EsWLi6hRu8kl"
      }
    },
    {
      "cell_type": "markdown",
      "source": [
        "\n",
        "\n",
        "```c\n",
        "#include <stdio.h>\n",
        "\n",
        "void modifyByAddress(int *x) {\n",
        "    *x = 10; // Modify the value pointed to by x\n",
        "}\n",
        "\n",
        "int main() {\n",
        "    int num = 5;\n",
        "    printf(\"Before function call: %d\\n\", num);\n",
        "\n",
        "    modifyByAddress(&num); // Pass the address of num\n",
        "    printf(\"After function call: %d\\n\", num); // num is modified\n",
        "\n",
        "    return 0;\n",
        "}\n",
        "```\n",
        "\n"
      ],
      "metadata": {
        "id": "m815qumUu8kt"
      }
    },
    {
      "cell_type": "markdown",
      "source": [
        "#####**Call by Address [src|](https://cafe.naver.com/honeyc?iframe_url_utf8=%2FArticleRead.nhn%253Fclubid%3D11957566%2526page%3D1%2526menuid%3D117%2526boardtype%3DL%2526articleid%3D80440%2526referrerAllArticles%3Dfalse)**"
      ],
      "metadata": {
        "id": "ED3CZE1_sbPh"
      }
    },
    {
      "cell_type": "markdown",
      "source": [
        "```python\n",
        "def update(p1, p2):\n",
        "    p1[0] = 2\n",
        "    p2[0] = 2.0\n",
        "\n",
        "def main():\n",
        "    a = [1]\n",
        "    b = [1.0]\n",
        "\n",
        "    update(a, b)\n",
        "\n",
        "    print(f'a[0] = {a[0]}, b[0] = {b[0]}')\n",
        "\n",
        "if __name__ == \"__main__\":\n",
        "    main()\n",
        "```\n",
        "\n",
        "```cpp\n",
        "#include <iostream>\n",
        "\n",
        "void update(int* p1, double* p2)\n",
        "{\n",
        "    *p1 = 2;\n",
        "    *p2 = 2.0;\n",
        "}\n",
        "\n",
        "int main()\n",
        "{\n",
        "    int a = 1;\n",
        "    double b = 1.0;\n",
        "\n",
        "    update(&a, &b);\n",
        "\n",
        "    std::cout << \"a = \" << a << \", b = \" << b << std::endl;\n",
        "    \n",
        "    return 0;\n",
        "}\n",
        "```\n",
        "\n",
        "```c\n",
        "#include <stdio.h>\n",
        "\n",
        "void update(int* p1, double* p2)\n",
        "{\n",
        "    *p1 = 2;\n",
        "    *p2 = 2.0;\n",
        "}\n",
        "\n",
        "int main()\n",
        "{\n",
        "    int a = 1;\n",
        "    double b = 1.0;\n",
        "\n",
        "    update(&a, &b);\n",
        "\n",
        "    printf(\"a = %d, b = %.1lf\\n\", a, b);\n",
        "\n",
        "    return 0;\n",
        "}\n",
        "```"
      ],
      "metadata": {
        "id": "eyLNUrEAsbPs"
      }
    },
    {
      "cell_type": "markdown",
      "source": [
        "#####**Swap : Pointer [src|](https://cafe.naver.com/honeyc?iframe_url_utf8=%2FArticleRead.nhn%253Fclubid%3D11957566%2526page%3D1%2526menuid%3D117%2526boardtype%3DL%2526articleid%3D80440%2526referrerAllArticles%3Dfalse)**"
      ],
      "metadata": {
        "id": "J2b37nrEs1eX"
      }
    },
    {
      "cell_type": "markdown",
      "source": [
        "```cpp\n",
        "#include <iostream>\n",
        "\n",
        "void swap(int* a, int* b){int tmp = *a; *a = *b; *b = tmp;}\n",
        "void swap(char* a, char* b)\n",
        "{\n",
        "    char tmp[255];\n",
        "    strcpy(tmp, a);\n",
        "    strcpy(a, b);\n",
        "    strcpy(b, tmp);\n",
        "}\n",
        "\n",
        "int main()\n",
        "{\n",
        "    int a = 1, b = 2;\n",
        "    swap(&a, &b); std::cout << a << \" \" << b << std::endl;\n",
        "\n",
        "    char c[] = \"Hello\", d[] = \"World\";\n",
        "    swap(c, d); std::cout << c << \" \" << d << std::endl;\n",
        "    \n",
        "    return 0;\n",
        "}\n",
        "\n",
        "int main()\n",
        "{\n",
        "    int a = 1, b = 2;\n",
        "    swap(&a, &b);\n",
        "    std::cout << a << \" \" << b << std::endl;\n",
        "\n",
        "    char c[] = \"Hello\", d[] = \"World\";\n",
        "    swap(c, d);\n",
        "    std::cout << c << \" \" << d << std::endl;\n",
        "    \n",
        "    return 0;\n",
        "}\n",
        "```"
      ],
      "metadata": {
        "id": "1nig5rMjs1eh"
      }
    },
    {
      "cell_type": "markdown",
      "source": [
        "####**Section 3 Call by Reference**"
      ],
      "metadata": {
        "id": "5fycfpO9tOte"
      }
    },
    {
      "cell_type": "markdown",
      "source": [
        "#####**Call by Reference (C++) [kor|](https://www.youtube.com/watch?v=0gX-P3MxUJI&list=PLSxm-MRGlRAqNUH7S49yIXjh-LmgASLJf&index=55)[eng|](https://www.youtube.com/watch?v=7YF5Td4s-bY&list=PLvv0ScY6vfd8j-tlhYVPYgiIyXduu6m-L&index=21&ab_channel=MikeShah)**"
      ],
      "metadata": {
        "id": "uIcMyA8hwn-k"
      }
    },
    {
      "cell_type": "markdown",
      "source": [
        "```cpp\n",
        "#include <iostream>\n",
        "\n",
        "void modifyByReference(int &x) {\n",
        "    x = 10; // Modify the original value of x\n",
        "}\n",
        "\n",
        "int main() {\n",
        "    int num = 5;\n",
        "    std::cout << \"Before function call: \" << num << std::endl;\n",
        "\n",
        "    modifyByReference(num); // Pass num by reference\n",
        "    std::cout << \"After function call: \" << num << std::endl; // num is modified\n",
        "    \n",
        "    return 0;\n",
        "}\n",
        "```\n",
        "\n"
      ],
      "metadata": {
        "id": "BBhfZZt_SkBC"
      }
    },
    {
      "cell_type": "markdown",
      "source": [
        "#####**Call by Reference [src|](https://cafe.naver.com/honeyc?iframe_url_utf8=%2FArticleRead.nhn%253Fclubid%3D11957566%2526page%3D1%2526menuid%3D117%2526boardtype%3DL%2526articleid%3D80440%2526referrerAllArticles%3Dfalse)**"
      ],
      "metadata": {
        "id": "CGCNRK_msjl2"
      }
    },
    {
      "cell_type": "markdown",
      "source": [
        "In Python, you don't have the concept of explicit references like you do in some other languages, such as C++ or C#. Instead, Python uses a high-level and dynamic typing system where objects are accessed through references automatically, and you typically don't need to worry about low-level memory management.\n",
        "\n",
        "```cpp\n",
        "#include <iostream>\n",
        "\n",
        "void update(int& r1, double& r2) {r1 = 2; r2 = 2.0;}\n",
        "\n",
        "int main()\n",
        "{\n",
        "    int a = 1;\n",
        "    double b = 1.0;\n",
        "\n",
        "    update(a, b);\n",
        "\n",
        "    std::cout << \"a = \" << a << \", b = \" << b << std::endl;\n",
        "\n",
        "    return 0;\n",
        "}\n",
        "```\n",
        "\n",
        "In C, references are not a native language feature like they are in C++. Instead, in C, you work directly with pointers to achieve similar functionality. Pointers allow you to indirectly access and modify variables in memory."
      ],
      "metadata": {
        "id": "VVkXI6P7sjmA"
      }
    },
    {
      "cell_type": "markdown",
      "source": [
        "#####**Swap : Reference [src|](https://cafe.naver.com/honeyc?iframe_url_utf8=%2FArticleRead.nhn%253Fclubid%3D11957566%2526page%3D1%2526menuid%3D117%2526boardtype%3DL%2526articleid%3D80440%2526referrerAllArticles%3Dfalse)**"
      ],
      "metadata": {
        "id": "czq7dk7Zs5fM"
      }
    },
    {
      "cell_type": "markdown",
      "source": [
        "```cpp\n",
        "#include <iostream>\n",
        "\n",
        "void swap(int& a, int& b) {int tmp = a; a = b; b = tmp;}\n",
        "void swap(char* a, char* b)\n",
        "{\n",
        "    char tmp[255];\n",
        "    strcpy(tmp, a);\n",
        "    strcpy(a, b);\n",
        "    strcpy(b, tmp);\n",
        "}\n",
        "\n",
        "int main()\n",
        "{\n",
        "    int a = 1, b = 2;\n",
        "    swap(a, b); std::cout << a << \" \" << b << std::endl;\n",
        "\n",
        "    char c[] = \"Hello\", d[] = \"World\";\n",
        "    swap(c, d); std::cout << c << \" \" << d << std::endl;\n",
        "    \n",
        "    return 0;\n",
        "}\n",
        "```"
      ],
      "metadata": {
        "id": "Wf6DRm4Ls5fW"
      }
    },
    {
      "cell_type": "markdown",
      "source": [
        "###**Chapter 3 Macro vs Inline Function**"
      ],
      "metadata": {
        "id": "rZ70XvFMcQlp"
      }
    },
    {
      "cell_type": "markdown",
      "source": [
        "#####**Macro (NOT RECOMMENDED) [src|](https://cafe.naver.com/honeyc/46948)**"
      ],
      "metadata": {
        "id": "0FDqOG1NcdUy"
      }
    },
    {
      "cell_type": "markdown",
      "source": [
        "In Python, macros, as seen in languages like C and C++, are not directly available. Python code is typically executed by interpreting it line by line rather than performing preprocessor-style text substitution, which is common in languages that use macros.\n",
        "\n",
        "```cpp\n",
        "#include <iostream>\n",
        "\n",
        "#define ADD(a,b) ((a)+(b))\n",
        "#define MULTIPLY(a,b) ((a)*(b))\n",
        "#define SQUARE(x) ((x)*(x))\n",
        "\n",
        "int main()\n",
        "{\n",
        "    std::cout << \"(3 + 4) * 10 : \" <<  ADD(3,4)*10 << std::endl;\n",
        "    std::cout << \"(1 + 2) * (3 + 4) : \" <<  MULTIPLY(1+2,3+4) << std::endl;\n",
        "\n",
        "    int n = 3;\n",
        "    std::cout << \"SQUARE(++n) : \" <<  SQUARE(++n) << std::endl;\n",
        "    std::cout << \"n : \" <<  n << std::endl;\n",
        "\n",
        "\treturn 0;\n",
        "}\n",
        "```\n",
        "\n",
        "```c\n",
        "#include <stdio.h>\n",
        "\n",
        "#define ADD(a, b) ((a) + (b))\n",
        "#define MULTIPLY(a, b) ((a) * (b))\n",
        "#define SQUARE(x) ((x) * (x))\n",
        "\n",
        "int main() {\n",
        "    printf(\"(3 + 4) * 10 : %d\\n\", ADD(3, 4) * 10);\n",
        "    printf(\"(1 + 2) * (3 + 4) : %d\\n\", MULTIPLY(1 + 2, 3 + 4));\n",
        "\n",
        "    int n = 3;\n",
        "    printf(\"SQUARE(++n) : %d\\n\", SQUARE(++n));\n",
        "    printf(\"n : %d\\n\", n);\n",
        "\n",
        "    return 0;\n",
        "}\n",
        "```\n"
      ],
      "metadata": {
        "id": "j9qGnNa_cdU8"
      }
    },
    {
      "cell_type": "markdown",
      "source": [
        "#####**Inline Function (RECOMMENDED) [src|](https://cafe.naver.com/honeyc/46948)**"
      ],
      "metadata": {
        "id": "DkRIFRkIgM8x"
      }
    },
    {
      "cell_type": "markdown",
      "source": [
        "In Python, you don't have \"inline functions\" in the same way you do in languages like C++ where the inline keyword is used to suggest inlining of a function's code by the compiler. Python operates differently since it's an interpreted language.\n",
        "\n",
        "```cpp\n",
        "#include <iostream>\n",
        "\n",
        "inline int add(int a, int b) {return a+b;}\n",
        "inline int multiply(int a, int b) {return a*b;}\n",
        "inline int square(int a) {return a*a;}\n",
        "\n",
        "int main()\n",
        "{\n",
        "    std::cout << \"(3 + 4) * 10 : \" <<  add(3,4)*10 << std::endl;\n",
        "    std::cout << \"(1 + 2) * (3 + 4) : \" <<  multiply(1+2,3+4) << std::endl;\n",
        "\n",
        "    int n = 3;\n",
        "    std::cout << \"SQUARE(++n) : \" <<  square(++n) << std::endl;\n",
        "    std::cout << \"n : \" <<  n << std::endl;\n",
        "\n",
        "\treturn 0;\n",
        "}\n",
        "```\n",
        "\n",
        "```c\n",
        "#include <stdio.h>\n",
        "\n",
        "inline int add(int a, int b) {return a+b;}\n",
        "inline int multiply(int a, int b) {return a*b;}\n",
        "inline int square(int a) {return a*a;}\n",
        "\n",
        "int main() {\n",
        "    printf(\"(3 + 4) * 10 : %d\\n\", add(3, 4) * 10);\n",
        "    printf(\"(1 + 2) * (3 + 4) : %d\\n\", multiply(1 + 2, 3 + 4));\n",
        "\n",
        "    int n = 3;\n",
        "    printf(\"SQUARE(++n) : %d\\n\", square(++n));\n",
        "    printf(\"n : %d\\n\", n);\n",
        "\n",
        "    return 0;\n",
        "}\n",
        "```\n"
      ],
      "metadata": {
        "id": "kt1DwBt6gM86"
      }
    },
    {
      "cell_type": "markdown",
      "source": [
        "###**Chapter 4 Function Overloading**"
      ],
      "metadata": {
        "id": "yXwUCPTYqaBi"
      }
    },
    {
      "cell_type": "markdown",
      "source": [
        "#####**Print Date [src|](https://cafe.naver.com/honeyc/46948)**"
      ],
      "metadata": {
        "id": "ziuLLeQ8qjWH"
      }
    },
    {
      "cell_type": "markdown",
      "source": [
        "```python\n",
        "def print_date(year, month, day):\n",
        "    print(f\"{year}/{month}/{day}\")\n",
        "\n",
        "def print_date_with_sep(year, month, day, sep):\n",
        "    print(f\"{year}{sep}{month}{sep}{day}\")\n",
        "\n",
        "def print_date_string(pDate):\n",
        "    print(pDate)\n",
        "\n",
        "if __name__ == \"__main__\":\n",
        "    print_date(2014, 6, 12)\n",
        "    print_date_with_sep(2014, 6, 12, '/')\n",
        "    print_date_with_sep(2014, 6, 12, ':')\n",
        "    print_date_string(\"June 12, 2014\")\n",
        "  \n",
        "if __name__ == \"__main__\":\n",
        "    main()\n",
        "```\n",
        "\n",
        "```cpp\n",
        "#include <iostream>\n",
        "\n",
        "void print_date(int year, int month, int day);\n",
        "void print_date(int year, int month, int day, char sep);\n",
        "void print_date(const char* pDate);\n",
        "\n",
        "int main() {\n",
        "\tprint_date(2014, 6, 12);\n",
        "\tprint_date(2014, 6, 12, '/');\n",
        "\tprint_date(2014, 6, 12, ':');\n",
        "\tprint_date(\"June 12, 2014\");\n",
        "\treturn 0;\n",
        "}\n",
        "\n",
        "void print_date(int year, int month, int day)\n",
        "{std::cout << year << '/' << month << '/' << day << std::endl;}\n",
        "\n",
        "void print_date(int year, int month, int day, char sep)\n",
        "{std::cout << year << sep << month << sep << day << std::endl;}\n",
        "\n",
        "void print_date(const char* pDate)\n",
        "{std::cout << pDate << std::endl;}\n",
        "```\n",
        "\n",
        "```c\n",
        "#include <stdio.h>\n",
        "\n",
        "void print_date(int year, int month, int day);\n",
        "void print_date_with_sep(int year, int month, int day, char sep);\n",
        "void print_date_string(const char* pDate);\n",
        "\n",
        "int main()\n",
        "{\n",
        "    print_date(2014, 6, 12);\n",
        "    print_date_with_sep(2014, 6, 12, '/');\n",
        "    print_date_with_sep(2014, 6, 12, ':');\n",
        "    print_date_string(\"June 12, 2014\");\n",
        "    return 0;\n",
        "}\n",
        "\n",
        "void print_date(int year, int month, int day)\n",
        "{printf(\"%d/%d/%d\\n\", year, month, day);}\n",
        "\n",
        "void print_date_with_sep(int year, int month, int day, char sep)\n",
        "{printf(\"%d%c%d%c%d\\n\", year, sep, month, sep, day);}\n",
        "\n",
        "void print_date_string(const char* pDate)\n",
        "{printf(\"%s\\n\", pDate);}\n",
        "```"
      ],
      "metadata": {
        "id": "dlfelQYeqjWQ"
      }
    },
    {
      "cell_type": "markdown",
      "source": [
        "#####**Get Total [src|](https://cafe.naver.com/honeyc/46948)**"
      ],
      "metadata": {
        "id": "kpuYX6V0uIhE"
      }
    },
    {
      "cell_type": "markdown",
      "source": [
        "```python\n",
        "def get_total(begin=1, end=100):\n",
        "    total = 0\n",
        "    for i in range(begin, end + 1):\n",
        "        total += i\n",
        "    return total\n",
        "\n",
        "def get_total_with_array(arr):\n",
        "    return sum(arr)\n",
        "\n",
        "def main():\n",
        "    print(\"Sum from 1 to 100  :\", get_total())\n",
        "    print(\"Sum from 50 to 100 :\", get_total(50))\n",
        "    print(\"Sum from 70 to 90  :\", get_total(70, 90))\n",
        "\n",
        "    arr = [1, 2, 3, 4, 5]\n",
        "    print(\"Sum of array items :\", get_total_with_array(arr))\n",
        "  \n",
        "if __name__ == \"__main__\":\n",
        "    main()\n",
        "```\n",
        "\n",
        "```cpp\n",
        "#include <iostream>\n",
        "\n",
        "int get_total();\n",
        "int get_total(int begin);\n",
        "int get_total(int begin, int end);\n",
        "int get_total(int* p, int size);\n",
        "\n",
        "int main() {\n",
        "\tstd::cout << \"sum from 1 to 100  : \" << get_total() << std::endl;\n",
        "\tstd::cout << \"sum from 50 to 100 : \" << get_total(50) << std::endl;\n",
        "\tstd::cout << \"sum from 70 to 90  : \" << get_total(70, 90) << std::endl;\n",
        "\n",
        "\tint arr[5] = { 1, 2, 3, 4, 5 };\n",
        "\tstd::cout << \"sum of array items : \" << get_total(arr, 5) << std::endl;\n",
        "\treturn 0;\n",
        "}\n",
        "\n",
        "int get_total()\n",
        "{\n",
        "\tint total = 0;\n",
        "\tfor (int i = 1; i <= 100; i++) {total += i;}\n",
        "\treturn total;\n",
        "}\n",
        "\n",
        "int get_total(int begin)\n",
        "{\n",
        "\tint total = 0;\n",
        "\tfor (int i = begin; i <= 100; i++) {total += i;}\n",
        "\treturn total;\n",
        "}\n",
        "\n",
        "int get_total(int begin, int end)\n",
        "{\n",
        "\tint total = 0;\n",
        "\tfor (int i = begin; i <= end; i++) {total += i;}\n",
        "\treturn total;\n",
        "}\n",
        "\n",
        "int get_total(int* p, int size)\n",
        "{\n",
        "\tint total = 0;\n",
        "\tfor (int i = 0; i < size; i++) {total += p[i];}\n",
        "\treturn total;\n",
        "}\n",
        "```\n",
        "\n",
        "```c\n",
        "#include <stdio.h>\n",
        "\n",
        "int get_total();\n",
        "int get_total_with_begin(int begin);\n",
        "int get_total_with_range(int begin, int end);\n",
        "int get_total_with_array(int* p, int size);\n",
        "\n",
        "int main() {\n",
        "    printf(\"Sum from 1 to 100  : %d\\n\", get_total());\n",
        "    printf(\"Sum from 50 to 100 : %d\\n\", get_total_with_begin(50));\n",
        "    printf(\"Sum from 70 to 90  : %d\\n\", get_total_with_range(70, 90));\n",
        "\n",
        "    int arr[5] = { 1, 2, 3, 4, 5 };\n",
        "    printf(\"Sum of array items : %d\\n\", get_total_with_array(arr, 5));\n",
        "    return 0;\n",
        "}\n",
        "\n",
        "int get_total()\n",
        "{\n",
        "    int total = 0;\n",
        "    for (int i = 1; i <= 100; i++) {total += i;}\n",
        "    return total;\n",
        "}\n",
        "\n",
        "int get_total_with_begin(int begin)\n",
        "{\n",
        "    int total = 0;\n",
        "    for (int i = begin; i <= 100; i++) {total += i;}\n",
        "    return total;\n",
        "}\n",
        "\n",
        "int get_total_with_range(int begin, int end)\n",
        "{\n",
        "    int total = 0;\n",
        "    for (int i = begin; i <= end; i++) {total += i;}\n",
        "    return total;\n",
        "}\n",
        "\n",
        "int get_total_with_array(int* p, int size)\n",
        "{\n",
        "    int total = 0;\n",
        "    for (int i = 0; i < size; i++) {total += p[i];}\n",
        "    return total;\n",
        "}\n",
        "```"
      ],
      "metadata": {
        "id": "v9XEu566uIhN"
      }
    },
    {
      "cell_type": "markdown",
      "source": [
        "#####**Print Character [src|](https://cafe.naver.com/honeyc/46948)**"
      ],
      "metadata": {
        "id": "EtV-Ew5qxIHg"
      }
    },
    {
      "cell_type": "markdown",
      "source": [
        "```python\n",
        "def print_char(c='*', count=10):\n",
        "    \"\"\"Print the character 'c' 'count' times.\"\"\"\n",
        "    print(c * count)\n",
        "\n",
        "def main():\n",
        "    print_char()  # **********\n",
        "\n",
        "    ch = input(\"Enter character: \")\n",
        "    n = int(input(\"Enter count: \"))\n",
        "\n",
        "    print_char(ch, n)\n",
        "\n",
        "if __name__ == \"__main__\":\n",
        "    main()\n",
        "```\n",
        "\n",
        "```cpp\n",
        "#include <iostream>\n",
        "\n",
        "void printChar();                  // '*'문자를 10개 출력한다.\n",
        "void printChar(char c, int count); // 문자를 개수만큼 출력한다.\n",
        "\n",
        "int main()\n",
        "{\n",
        "    printChar(); //**********\n",
        "\n",
        "    char ch;\n",
        "    int n;\n",
        "    std::cout << \"출력문자 / 개수 입력 : \";\n",
        "    std::cin >> ch >> n;\n",
        "\n",
        "    printChar(ch, n);\n",
        "\n",
        "    return 0;\n",
        "}\n",
        "\n",
        "void printChar()\n",
        "{\n",
        "    for (int i = 1; i <= 10; i++) {std::cout << '*';}\n",
        "    std::cout << std::endl;\n",
        "}\n",
        "\n",
        "void printChar(char c, int count)\n",
        "{\n",
        "    for (int i = 1; i <= count; i++) {std::cout << c;}\n",
        "    std::cout << std::endl;\n",
        "}\n",
        "```\n",
        "\n",
        "```c\n",
        "#include <stdio.h>\n",
        "\n",
        "void printChars();                           // '*' character is printed 10 times.\n",
        "void printCharsWithCount(char c, int count); // Prints the character 'c' 'count' times.\n",
        "\n",
        "int main()\n",
        "{\n",
        "    printChars(); //**********\n",
        "\n",
        "    char ch;\n",
        "    int n;\n",
        "    printf(\"Enter character and count: \");\n",
        "    scanf(\" %c %d\", &ch, &n);\n",
        "\n",
        "    printCharsWithCount(ch, n);\n",
        "\n",
        "    return 0;\n",
        "}\n",
        "\n",
        "void printChars()\n",
        "{\n",
        "    for (int i = 1; i <= 10; i++) {printf(\"*\");}\n",
        "    printf(\"\\n\");\n",
        "}\n",
        "\n",
        "void printCharsWithCount(char c, int count)\n",
        "{\n",
        "    for (int i = 1; i <= count; i++) {printf(\"%c\", c);}\n",
        "    printf(\"\\n\");\n",
        "}\n",
        "```"
      ],
      "metadata": {
        "id": "CE-fyYVBxIHp"
      }
    },
    {
      "cell_type": "markdown",
      "source": [
        "#####**Print Date with Default Argument [src|](https://cafe.naver.com/honeyc/46948)**"
      ],
      "metadata": {
        "id": "azZjRVwj0E-w"
      }
    },
    {
      "cell_type": "markdown",
      "source": [
        "```python\n",
        "def print_date(year, month, day, sep='/'):\n",
        "    print(f\"{year}{sep}{month}{sep}{day}\")\n",
        "\n",
        "def print_date_string(pDate):\n",
        "    print(pDate)\n",
        "\n",
        "def main():\n",
        "    print_date(2014, 6, 12)\n",
        "    print_date(2014, 6, 12, '/')\n",
        "    print_date(2014, 6, 12, ':')\n",
        "    print_date_string(\"June 12, 2014\")\n",
        "  \n",
        "if __name__ == \"__main__\":\n",
        "    main()\n",
        "```\n",
        "\n",
        "```cpp\n",
        "#include <iostream>\n",
        "\n",
        "void print_date(int year, int month, int day, char sep='/');\n",
        "void print_date(const char* pDate);\n",
        "\n",
        "int main() {\n",
        "\tprint_date(2014, 6, 12);\n",
        "\tprint_date(2014, 6, 12, '/');\n",
        "\tprint_date(2014, 6, 12, ':');\n",
        "\tprint_date(\"June 12, 2014\");\n",
        "\treturn 0;\n",
        "}\n",
        "\n",
        "void print_date(int year, int month, int day, char sep)\n",
        "{std::cout << year << sep << month << sep << day << std::endl;}\n",
        "\n",
        "void print_date(const char* pDate)\n",
        "{std::cout << pDate << std::endl;}\n",
        "```\n",
        "\n",
        "```c\n",
        "#include <stdio.h>\n",
        "\n",
        "void print_date(int year, int month, int day, char sep='/');\n",
        "void print_date_string(const char* pDate);\n",
        "\n",
        "int main()\n",
        "{\n",
        "    print_date(2014, 6, 12);\n",
        "    print_date(2014, 6, 12, '/');\n",
        "    print_date(2014, 6, 12, ':');\n",
        "    print_date_string(\"June 12, 2014\");\n",
        "    return 0;\n",
        "}\n",
        "\n",
        "void print_date(int year, int month, int day, char sep)\n",
        "{printf(\"%d%c%d%c%d\\n\", year, sep, month, sep, day);}\n",
        "\n",
        "void print_date_string(const char* pDate)\n",
        "{printf(\"%s\\n\", pDate);}\n",
        "```"
      ],
      "metadata": {
        "id": "yCai4Hr10E-6"
      }
    },
    {
      "cell_type": "markdown",
      "source": [
        "#####**Get Total with Default Argument [src|](https://cafe.naver.com/honeyc/46948)**"
      ],
      "metadata": {
        "id": "RsAIZN2oLO7M"
      }
    },
    {
      "cell_type": "markdown",
      "source": [
        "```python\n",
        "def get_total(begin=1, end=100):\n",
        "    total = 0\n",
        "    for i in range(begin, end + 1):\n",
        "        total += i\n",
        "    return total\n",
        "\n",
        "def get_total_with_array(arr):\n",
        "    return sum(arr)\n",
        "\n",
        "def main():\n",
        "    print(\"Sum from 1 to 100  :\", get_total())\n",
        "    print(\"Sum from 50 to 100 :\", get_total(50))\n",
        "    print(\"Sum from 70 to 90  :\", get_total(70, 90))\n",
        "\n",
        "    arr = [1, 2, 3, 4, 5]\n",
        "    print(\"Sum of array items :\", get_total_with_array(arr))\n",
        "  \n",
        "if __name__ == \"__main__\":\n",
        "    main()\n",
        "```\n",
        "\n",
        "```cpp\n",
        "#include <iostream>\n",
        "\n",
        "int get_total(int begin=1, int end=100);\n",
        "int get_total(int* p, int size);\n",
        "\n",
        "int main() {\n",
        "\tstd::cout << \"sum from 1 to 100  : \" << get_total() << std::endl;\n",
        "\tstd::cout << \"sum from 50 to 100 : \" << get_total(50) << std::endl;\n",
        "\tstd::cout << \"sum from 70 to 90  : \" << get_total(70, 90) << std::endl;\n",
        "\n",
        "\tint arr[5] = { 1, 2, 3, 4, 5 };\n",
        "\tstd::cout << \"sum of array items : \" << get_total(arr, 5) << std::endl;\n",
        "\treturn 0;\n",
        "}\n",
        "\n",
        "int get_total(int begin, int end)\n",
        "{\n",
        "\tint total = 0;\n",
        "\tfor (int i = begin; i <= end; i++) {total += i;}\n",
        "\treturn total;\n",
        "}\n",
        "\n",
        "int get_total(int* p, int size)\n",
        "{\n",
        "\tint total = 0;\n",
        "\tfor (int i = 0; i < size; i++) {total += p[i];}\n",
        "\treturn total;\n",
        "}\n",
        "```\n",
        "\n",
        "```c\n",
        "#include <stdio.h>\n",
        "\n",
        "int get_total(int begin=1, int end=100);\n",
        "int get_total_with_array(int* p, int size);\n",
        "\n",
        "int main() {\n",
        "    printf(\"Sum from 1 to 100  : %d\\n\", get_total());\n",
        "    printf(\"Sum from 50 to 100 : %d\\n\", get_total(50));\n",
        "    printf(\"Sum from 70 to 90  : %d\\n\", get_total(70, 90));\n",
        "\n",
        "    int arr[5] = { 1, 2, 3, 4, 5 };\n",
        "    printf(\"Sum of array items : %d\\n\", get_total_with_array(arr, 5));\n",
        "    return 0;\n",
        "}\n",
        "\n",
        "int get_total_with_range(int begin, int end)\n",
        "{\n",
        "    int total = 0;\n",
        "    for (int i = begin; i <= end; i++) {total += i;}\n",
        "    return total;\n",
        "}\n",
        "\n",
        "int get_total_with_array(int* p, int size)\n",
        "{\n",
        "    int total = 0;\n",
        "    for (int i = 0; i < size; i++) {total += p[i];}\n",
        "    return total;\n",
        "}\n",
        "```"
      ],
      "metadata": {
        "id": "U4qPjCPDLO7V"
      }
    },
    {
      "cell_type": "markdown",
      "source": [
        "#####**Print Character with Default Argument [src|](https://cafe.naver.com/honeyc/46948)**"
      ],
      "metadata": {
        "id": "JHD3X90FOnne"
      }
    },
    {
      "cell_type": "markdown",
      "source": [
        "```python\n",
        "def print_char(c='*', count=10):\n",
        "    \"\"\"Print the character 'c' 'count' times.\"\"\"\n",
        "    print(c * count)\n",
        "\n",
        "def main():\n",
        "    print_char()  # **********\n",
        "\n",
        "    ch = input(\"Enter character: \")\n",
        "    n = int(input(\"Enter count: \"))\n",
        "\n",
        "    print_char(ch, n)\n",
        "\n",
        "if __name__ == \"__main__\":\n",
        "    main()\n",
        "```\n",
        "\n",
        "```cpp\n",
        "#include <iostream>\n",
        "\n",
        "void printChar(char c='*', int count=10);\n",
        "\n",
        "int main()\n",
        "{\n",
        "    printChar(); //**********\n",
        "\n",
        "    char ch;\n",
        "    int n;\n",
        "    std::cout << \"출력문자 / 개수 입력 : \";\n",
        "    std::cin >> ch >> n;\n",
        "\n",
        "    printChar(ch, n);\n",
        "\n",
        "    return 0;\n",
        "}\n",
        "\n",
        "void printChar(char c, int count)\n",
        "{\n",
        "    for (int i = 1; i <= count; i++) {std::cout << c;}\n",
        "    std::cout << std::endl;\n",
        "}\n",
        "```\n",
        "\n",
        "```c\n",
        "#include <stdio.h>\n",
        "\n",
        "void printChars(char c='*', int count=10); // Prints the character 'c' 'count' times.\n",
        "\n",
        "int main()\n",
        "{\n",
        "    printChars(); //**********\n",
        "\n",
        "    char ch;\n",
        "    int n;\n",
        "    printf(\"Enter character and count: \");\n",
        "    scanf(\" %c %d\", &ch, &n);\n",
        "\n",
        "    printChars(ch, n);\n",
        "\n",
        "    return 0;\n",
        "}\n",
        "\n",
        "void printChars(char c, int count)\n",
        "{\n",
        "    for (int i = 1; i <= count; i++) {printf(\"%c\", c);}\n",
        "    printf(\"\\n\");\n",
        "}\n",
        "```"
      ],
      "metadata": {
        "id": "DBIa69TFOnno"
      }
    },
    {
      "cell_type": "markdown",
      "source": [
        "#**PART VIII POINTER AND REFERENCER**"
      ],
      "metadata": {
        "id": "tQS771wBoNcZ"
      }
    },
    {
      "cell_type": "markdown",
      "source": [
        "###**Chapter 1 Address**"
      ],
      "metadata": {
        "id": "BRABLbzfC9DX"
      }
    },
    {
      "cell_type": "markdown",
      "source": [
        "####**Section 1 Address**"
      ],
      "metadata": {
        "id": "oydBtRwqxVHG"
      }
    },
    {
      "cell_type": "markdown",
      "source": [
        "#####**Address of Operator [eng|](https://www.youtube.com/watch?v=omfKt3QriB4&list=PLvv0ScY6vfd8j-tlhYVPYgiIyXduu6m-L&index=18)**"
      ],
      "metadata": {
        "id": "GYBQ2ea8DL87"
      }
    },
    {
      "cell_type": "markdown",
      "source": [
        "```cpp\n",
        "#include <iostream>\n",
        "\n",
        "template <typename T>\n",
        "void print(T& a) {std::cout << &a << std::endl;}\n",
        "\n",
        "template <typename T>\n",
        "void print_(T& a) {std::cout << (void*)&a << std::endl;}\n",
        "\n",
        "void foo() {}\n",
        "\n",
        "int main()\n",
        "{\n",
        "    int a = 42; print(a);\n",
        "    float b = 42.0f; print(b);\n",
        "    double c = 42.0; print(c);\n",
        "    \n",
        "    char d = 'a'; print_(d);\n",
        "    signed char e = 'a'; print_(e);\n",
        "    unsigned char f = 'a'; print_(f);\n",
        "    print_(foo);\n",
        "    print_(main);\n",
        "    return 0;\n",
        "}\n",
        "```"
      ],
      "metadata": {
        "id": "KEoDSfPQxZ3j"
      }
    },
    {
      "cell_type": "markdown",
      "source": [
        "###**Chapter 2 Pointer**"
      ],
      "metadata": {
        "id": "GDjl7-3XU8Im"
      }
    },
    {
      "cell_type": "markdown",
      "source": [
        "####**Section 1 Pointer**"
      ],
      "metadata": {
        "id": "RGA8DI99U8Im"
      }
    },
    {
      "cell_type": "markdown",
      "source": [
        "#####**Pointer [eng|](https://www.youtube.com/watch?v=_q1jd_hldhw&list=PLvv0ScY6vfd8j-tlhYVPYgiIyXduu6m-L&index=23&ab_channel=MikeShah)**"
      ],
      "metadata": {
        "id": "dMtqggyOU8Im"
      }
    },
    {
      "cell_type": "markdown",
      "source": [
        "```cpp\n",
        "#include <iostream>\n",
        "\n",
        "int main()\n",
        "{\n",
        "    int a = 42;\n",
        "    std::cout << a << \" \" << &a << std::endl;\n",
        "\n",
        "    int* p = &a;\n",
        "    std::cout << *p << \" \" << p << std::endl;\n",
        "\n",
        "    return 0;\n",
        "}\n",
        "```"
      ],
      "metadata": {
        "id": "NIiMFSptU8Im"
      }
    },
    {
      "cell_type": "markdown",
      "source": [
        "#####**Pointer Dereferencing [eng|](https://www.youtube.com/watch?v=t7p5MizOLdM&list=PLvv0ScY6vfd8j-tlhYVPYgiIyXduu6m-L&index=24&ab_channel=MikeShah)**"
      ],
      "metadata": {
        "id": "ibRmAb1VWIvx"
      }
    },
    {
      "cell_type": "markdown",
      "source": [
        "```cpp\n",
        "#include <iostream>\n",
        "\n",
        "int main()\n",
        "{\n",
        "    int a = 42;\n",
        "\n",
        "    int* p = &a;\n",
        "\n",
        "    *p = 7;\n",
        "\n",
        "    std::cout << *p << std::endl;\n",
        "    std::cout << a << std::endl;\n",
        "\n",
        "    return 0;\n",
        "}\n",
        "```"
      ],
      "metadata": {
        "id": "UMO2uJpjWIv7"
      }
    },
    {
      "cell_type": "markdown",
      "source": [
        "####**Section 2 Pointer Arithmetic**"
      ],
      "metadata": {
        "id": "T6hTYXCweQz7"
      }
    },
    {
      "cell_type": "markdown",
      "source": [
        "#####**Pointer Addition [eng|](https://www.youtube.com/watch?v=2usiU5ucddM&list=PLvv0ScY6vfd8j-tlhYVPYgiIyXduu6m-L&index=27)**"
      ],
      "metadata": {
        "id": "7g0mSthPhQnc"
      }
    },
    {
      "cell_type": "markdown",
      "source": [
        "```cpp\n",
        "#include <iostream>\n",
        "\n",
        "int main() {\n",
        "    int a[5] = {0,1,2,3,4};\n",
        "    int* p = a;\n",
        "    int* q = a;\n",
        "\n",
        "    for (int i = 0; i < 5; i++)\n",
        "    {\n",
        "        std::cout << \"a[i]   = \" << a[i] << std::endl;\n",
        "        std::cout << \"*p     = \" << *p << std::endl;\n",
        "        std::cout << \"*(q+i) = \" << *(q+i) << std::endl;\n",
        "        std::cout << \"p      = \" << p << std::endl;\n",
        "        std::cout << \"q+i    = \" << q+i << std::endl << std::endl;\n",
        "        p++;\n",
        "    }\n",
        "    return 0;\n",
        "}\n",
        "```"
      ],
      "metadata": {
        "id": "oUEQqKLLesZv"
      }
    },
    {
      "cell_type": "markdown",
      "source": [
        "#####**Pointer Substraction**"
      ],
      "metadata": {
        "id": "YqADsZTwjGnr"
      }
    },
    {
      "cell_type": "markdown",
      "source": [
        "```cpp\n",
        "#include <iostream>\n",
        "\n",
        "int main() {\n",
        "    short a[5] = {0,1,2,3,4};\n",
        "    short* p = &a[4];\n",
        "    short* q = &a[4];\n",
        "\n",
        "    for (int i = 4; i >= 0; i--)\n",
        "    {\n",
        "        std::cout << \"a[i]       = \" << a[i] << std::endl;\n",
        "        std::cout << \"*p         = \" << *p << std::endl;\n",
        "        std::cout << \"*(q+(i-4)) = \" << *(q+(i-4)) << std::endl;\n",
        "        std::cout << \"p          = \" << p << std::endl;\n",
        "        std::cout << \"q+(i-4)    = \" << q+(i-4) << std::endl << std::endl;\n",
        "        p--;\n",
        "    }\n",
        "    return 0;\n",
        "}\n",
        "```"
      ],
      "metadata": {
        "id": "Z6OotuOLjGn1"
      }
    },
    {
      "cell_type": "markdown",
      "source": [
        "####**Section 3 Size of Pointer**"
      ],
      "metadata": {
        "id": "ghhmdkJ7cPaR"
      }
    },
    {
      "cell_type": "markdown",
      "source": [
        "#####**Warning : sizeof [eng|](https://www.youtube.com/watch?v=GuhO2Xi6ips&list=PLvv0ScY6vfd8j-tlhYVPYgiIyXduu6m-L&index=27)**"
      ],
      "metadata": {
        "id": "PwUnRxKnkm0y"
      }
    },
    {
      "cell_type": "markdown",
      "source": [
        "```cpp\n",
        "#include <iostream>\n",
        "#include <array>\n",
        "#include <vector>\n",
        "\n",
        "int main() {\n",
        "    int a = 7;\n",
        "    int b[] = {0, 1, 2, 3, 4, 5}; // a stack allocated array\n",
        "    int* c = new int [1000]; // a heap allocated array\n",
        "    std::array<int, 6> d = {0, 1, 2, 3, 4, 5}; // a stack allocated array\n",
        "    std::vector<int> e = {0, 1, 2, 3, 4, 5}; // a heap allocated array\n",
        "    std::vector<int> f = {0, 1}; // a heap allocated array\n",
        "    std::cout << \"sizeof(a) = \" << sizeof(a) << std::endl;\n",
        "    std::cout << \"sizeof(b) = \" << sizeof(b) << std::endl;\n",
        "    std::cout << \"sizeof(c) = \" << sizeof(c) << std::endl;\n",
        "    std::cout << \"sizeof(d) = \" << sizeof(d) << std::endl;\n",
        "    std::cout << \"sizeof(e) = \" << sizeof(e) << std::endl;\n",
        "    std::cout << \"sizeof(f) = \" << sizeof(f) << std::endl;\n",
        "    \n",
        "    delete[] c;\n",
        "\n",
        "    return 0;\n",
        "}\n",
        "```"
      ],
      "metadata": {
        "id": "2VDq20e4km07"
      }
    },
    {
      "cell_type": "markdown",
      "source": [
        "####**Section 4 Passing Array into Function**"
      ],
      "metadata": {
        "id": "xxN5PEYFcbm8"
      }
    },
    {
      "cell_type": "markdown",
      "source": [
        "#####**Passing Array into Function [eng|](https://www.youtube.com/watch?v=3K5Qo4ILztk&list=PLvv0ScY6vfd8j-tlhYVPYgiIyXduu6m-L&index=28)**"
      ],
      "metadata": {
        "id": "bjmuQGnFqYR8"
      }
    },
    {
      "cell_type": "markdown",
      "source": [
        "```cpp\n",
        "#include <iostream>\n",
        "#include <array>\n",
        "#include <vector>\n",
        "\n",
        "template <typename T> void print(const T* a, size_t size);\n",
        "template <typename T> void print(const T& a);\n",
        "\n",
        "int main()\n",
        "{\n",
        "    int a[] = {0, 1, 2, 3, 4}; // a stack allocated array\n",
        "    print(a, sizeof(a)/sizeof(a[0]));\n",
        "\n",
        "    std::array<int,5> b = {0, 1, 2, 3, 4}; // a stack allocated array\n",
        "    print(b);\n",
        "\n",
        "    std::vector<int> c = {0, 1, 2, 3, 4}; // a heap allocated array\n",
        "    print(c);\n",
        "\n",
        "    return 0;\n",
        "}\n",
        "\n",
        "template <typename T> void print(const T* a, size_t size)\n",
        "{\n",
        "    for (int i = 0; i < size; i++) std::cout << a[i] << \" \";\n",
        "    std::cout << std::endl << std::endl;\n",
        "}\n",
        "\n",
        "template <typename T> void print(const T& a)\n",
        "{\n",
        "    for (int i = 0; i < a.size(); i++) std::cout << a[i] << \" \";\n",
        "    std::cout << std::endl << std::endl;\n",
        "}\n",
        "```"
      ],
      "metadata": {
        "id": "How9ME-Q0svG"
      }
    },
    {
      "cell_type": "markdown",
      "source": [
        "####**Section 5 Pointer Pitfalls**"
      ],
      "metadata": {
        "id": "yJ0u_1ve7GNa"
      }
    },
    {
      "cell_type": "markdown",
      "source": [
        "#####**Memory Leak [eng|](https://www.youtube.com/watch?v=DblCoI8oAfQ&list=PLvv0ScY6vfd8j-tlhYVPYgiIyXduu6m-L&index=29)**"
      ],
      "metadata": {
        "id": "Lr6p2FC_8vKq"
      }
    },
    {
      "cell_type": "markdown",
      "source": [
        "```cpp\n",
        "#include <iostream>\n",
        "\n",
        "int main()\n",
        "{\n",
        "    int* p = new int;\n",
        "\n",
        "    return 0;\n",
        "}\n",
        "```"
      ],
      "metadata": {
        "id": "IWn9XDoZ8vKz"
      }
    },
    {
      "cell_type": "markdown",
      "source": [
        "#####**Double Free [eng|](https://www.youtube.com/watch?v=DblCoI8oAfQ&list=PLvv0ScY6vfd8j-tlhYVPYgiIyXduu6m-L&index=29)**"
      ],
      "metadata": {
        "id": "EWDaukpm8vfv"
      }
    },
    {
      "cell_type": "markdown",
      "source": [
        "```cpp\n",
        "#include <iostream>\n",
        "\n",
        "int main()\n",
        "{\n",
        "    int* p = new int;\n",
        "\n",
        "    delete p;\n",
        "\n",
        "    delete p;\n",
        "\n",
        "    return 0;\n",
        "}\n",
        "// g++ -g -std=c++17 -o prog 1.cpp && ./prog\n",
        "// gdb ./prog\n",
        "```"
      ],
      "metadata": {
        "id": "oIOYcw208vfv"
      }
    },
    {
      "cell_type": "markdown",
      "source": [
        "#####**Dereferencing Null Pointer [eng|](https://www.youtube.com/watch?v=DblCoI8oAfQ&list=PLvv0ScY6vfd8j-tlhYVPYgiIyXduu6m-L&index=29)**"
      ],
      "metadata": {
        "id": "2Q3Mjr1w7WJR"
      }
    },
    {
      "cell_type": "markdown",
      "source": [
        "```cpp\n",
        "#include <iostream>\n",
        "\n",
        "int main()\n",
        "{\n",
        "    int* p = nullptr;\n",
        "\n",
        "    *p = 42;\n",
        "\n",
        "    return 0;\n",
        "}\n",
        "```"
      ],
      "metadata": {
        "id": "MenrFXwP7WJa"
      }
    },
    {
      "cell_type": "markdown",
      "source": [
        "#####**Dangling Pointer [eng|](https://www.youtube.com/watch?v=DblCoI8oAfQ&list=PLvv0ScY6vfd8j-tlhYVPYgiIyXduu6m-L&index=29)**"
      ],
      "metadata": {
        "id": "F9UA_0Dd8vUq"
      }
    },
    {
      "cell_type": "markdown",
      "source": [
        "```cpp\n",
        "#include <iostream>\n",
        "\n",
        "int* return_int_pointer()\n",
        "{\n",
        "    int* p = new int;\n",
        "    return p\n",
        "}\n",
        "\n",
        "int main()\n",
        "{\n",
        "    int* p = return_int_pointer();\n",
        "\n",
        "    return 0;\n",
        "}\n",
        "```"
      ],
      "metadata": {
        "id": "5WQDKv2F8vUq"
      }
    },
    {
      "cell_type": "markdown",
      "source": [
        "####**Section 6 Function Pointer**"
      ],
      "metadata": {
        "id": "p9i-h429J2Av"
      }
    },
    {
      "cell_type": "markdown",
      "source": [
        "#####**C Style Function Pointer [eng|](https://www.youtube.com/watch?v=Go_mafBvnhk&list=PLvv0ScY6vfd8j-tlhYVPYgiIyXduu6m-L&index=30)**"
      ],
      "metadata": {
        "id": "ptIuk_kdJ2A5"
      }
    },
    {
      "cell_type": "markdown",
      "source": [
        "```cpp\n",
        "#include <iostream>\n",
        "\n",
        "int add(int a, int b) {return a + b;}\n",
        "int multiply(int a, int b) {return a * b;}\n",
        "\n",
        "int main()\n",
        "{\n",
        "    std::cout << \"Choose your op (1 for add, 2 for multiply) : \";\n",
        "    int n;\n",
        "    std::cin >> n;\n",
        "\n",
        "    int (*op)(int, int); // function pointer\n",
        "    if (n==1) {op = add;}\n",
        "    else {op = multiply;}\n",
        "\n",
        "    std::cout << \"Please provide two integers to work with : \";\n",
        "    int a, b;\n",
        "    std::cin >> a >> b;\n",
        "\n",
        "    if (n==1) {std::cout << \"a + b = \";}\n",
        "    else {std::cout << \"a * b = \";}\n",
        "    std::cout << op(a,b) << std::endl;\n",
        "\n",
        "    return 0;\n",
        "}\n",
        "```"
      ],
      "metadata": {
        "id": "3EUh5mmbJ2A5"
      }
    },
    {
      "cell_type": "markdown",
      "source": [
        "#####**Function Pointer using Typedef  [eng|](https://www.youtube.com/watch?v=Go_mafBvnhk&list=PLvv0ScY6vfd8j-tlhYVPYgiIyXduu6m-L&index=30)**"
      ],
      "metadata": {
        "id": "dOmZGYsVJ2A5"
      }
    },
    {
      "cell_type": "markdown",
      "source": [
        "```cpp\n",
        "#include <iostream>\n",
        "\n",
        "typedef int (*function_pointer)(int, int);\n",
        "\n",
        "int add(int a, int b) {return a + b;}\n",
        "int multiply(int a, int b) {return a * b;}\n",
        "\n",
        "int main()\n",
        "{\n",
        "    std::cout << \"Choose your op (1 for add, 2 for multiply) : \";\n",
        "    int n;\n",
        "    std::cin >> n;\n",
        "\n",
        "    function_pointer op; // function pointer\n",
        "    if (n==1) {op = add;}\n",
        "    else {op = multiply;}\n",
        "\n",
        "    std::cout << \"Please provide two integers to work with : \";\n",
        "    int a, b;\n",
        "    std::cin >> a >> b;\n",
        "\n",
        "    if (n==1) {std::cout << \"a + b = \";}\n",
        "    else {std::cout << \"a * b = \";}\n",
        "    std::cout << op(a,b) << std::endl;\n",
        "\n",
        "    return 0;\n",
        "}\n",
        "```"
      ],
      "metadata": {
        "id": "cSbpWXgwMZUb"
      }
    },
    {
      "cell_type": "markdown",
      "source": [
        "#####**C++ Style Function Pointer [eng|](https://www.youtube.com/watch?v=Go_mafBvnhk&list=PLvv0ScY6vfd8j-tlhYVPYgiIyXduu6m-L&index=30)**"
      ],
      "metadata": {
        "id": "IjPFaeeTJ2A6"
      }
    },
    {
      "cell_type": "markdown",
      "source": [
        "```cpp\n",
        "#include <iostream>\n",
        "#include <functional>\n",
        "\n",
        "int add(int a, int b) {return a + b;}\n",
        "int multiply(int a, int b) {return a * b;}\n",
        "\n",
        "int main()\n",
        "{\n",
        "    std::cout << \"Choose your op (1 for add, 2 for multiply) : \";\n",
        "    int n;\n",
        "    std::cin >> n;\n",
        "\n",
        "    std::function<int(int,int)> op; // function pointer\n",
        "    if (n==1) {op = add;}\n",
        "    else {op = multiply;}\n",
        "\n",
        "    std::cout << \"Please provide two integers to work with : \";\n",
        "    int a, b;\n",
        "    std::cin >> a >> b;\n",
        "\n",
        "    if (n==1) {std::cout << \"a + b = \";}\n",
        "    else {std::cout << \"a * b = \";}\n",
        "    std::cout << op(a,b) << std::endl;\n",
        "\n",
        "    return 0;\n",
        "}\n",
        "```"
      ],
      "metadata": {
        "id": "y7daQrUCNIkm"
      }
    },
    {
      "cell_type": "markdown",
      "source": [
        "###**Chapter 3 Smart Pointer**"
      ],
      "metadata": {
        "id": "yQFLpoXCgk4H"
      }
    },
    {
      "cell_type": "markdown",
      "source": [
        "####**Section 1 Unique Pointer**"
      ],
      "metadata": {
        "id": "kdTwiKsFgsM7"
      }
    },
    {
      "cell_type": "markdown",
      "source": [
        "#####**std::unique_ptr\\<MyClass>(new MyClass) [eng|](https://www.youtube.com/watch?v=DHu0tv2qTYo&list=PLvv0ScY6vfd8j-tlhYVPYgiIyXduu6m-L&index=33&ab_channel=MikeShah)**"
      ],
      "metadata": {
        "id": "ri3ffE5nhFxM"
      }
    },
    {
      "cell_type": "markdown",
      "source": [
        "```cpp\n",
        "#include <iostream>\n",
        "#include <memory> // unique_ptr\n",
        "\n",
        "class MyClass {\n",
        "public:\n",
        "    MyClass() {\n",
        "        std::cout << \"Constructing MyClass without value\" << std::endl;\n",
        "    }\n",
        "\n",
        "    ~MyClass() {\n",
        "        std::cout << \"Destroying MyClass without value\" << std::endl;\n",
        "    }\n",
        "};\n",
        "\n",
        "int main() {\n",
        "    // Creating a unique pointer\n",
        "    std::unique_ptr<MyClass> uniquePtr = std::unique_ptr<MyClass>(new MyClass);\n",
        "\n",
        "    // The unique pointer automatically deletes the object when it goes out of scope\n",
        "\n",
        "    return 0;\n",
        "}\n",
        "```"
      ],
      "metadata": {
        "id": "Gg0VPfPLhFxV"
      }
    },
    {
      "cell_type": "markdown",
      "source": [
        "#####**std::make_unique\\<MyClass>()**"
      ],
      "metadata": {
        "id": "1lxidi1akb_L"
      }
    },
    {
      "cell_type": "markdown",
      "source": [
        "```cpp\n",
        "#include <iostream>\n",
        "#include <memory> // unique_ptr\n",
        "\n",
        "class MyClass {\n",
        "public:\n",
        "    MyClass() {\n",
        "        std::cout << \"Constructing MyClass without value\" << std::endl;\n",
        "    }\n",
        "\n",
        "    ~MyClass() {\n",
        "        std::cout << \"Destroying MyClass without value\" << std::endl;\n",
        "    }\n",
        "};\n",
        "\n",
        "int main() {\n",
        "    // Creating a unique pointer\n",
        "    std::unique_ptr<MyClass> uniquePtr = std::make_unique<MyClass>();\n",
        "\n",
        "    // The unique pointer automatically deletes the object when it goes out of scope\n",
        "\n",
        "    return 0;\n",
        "}\n",
        "```"
      ],
      "metadata": {
        "id": "AhK5SEb5kp9q"
      }
    },
    {
      "cell_type": "markdown",
      "source": [
        "#####**Unique Pointer**"
      ],
      "metadata": {
        "id": "FJZ7jOaTk1hs"
      }
    },
    {
      "cell_type": "markdown",
      "source": [
        "```cpp\n",
        "#include <iostream>\n",
        "#include <memory> // unique_ptr\n",
        "\n",
        "class MyClass {\n",
        "public:\n",
        "    MyClass(int val) : value(val) {\n",
        "        std::cout << \"Constructing MyClass with value: \" << value << std::endl;\n",
        "    }\n",
        "\n",
        "    void print() {\n",
        "        std::cout << \"MyClass value: \" << value << std::endl;\n",
        "    }\n",
        "\n",
        "    ~MyClass() {\n",
        "        std::cout << \"Destroying MyClass with value: \" << value << std::endl;\n",
        "    }\n",
        "\n",
        "private:\n",
        "    int value;\n",
        "};\n",
        "\n",
        "int main() {\n",
        "    // Creating a unique pointer\n",
        "    std::unique_ptr<MyClass> uniquePtr = std::make_unique<MyClass>(42);\n",
        "\n",
        "    // Accessing the object through the unique pointer\n",
        "    uniquePtr->print();\n",
        "\n",
        "    // The unique pointer automatically deletes the object when it goes out of scope\n",
        "\n",
        "    return 0;\n",
        "}\n",
        "\n",
        "```"
      ],
      "metadata": {
        "id": "GDOtEk0Fi_MD"
      }
    },
    {
      "cell_type": "markdown",
      "source": [
        "####**Section 2 Shared Pointer**"
      ],
      "metadata": {
        "id": "A5C2Ky_2gzUa"
      }
    },
    {
      "cell_type": "markdown",
      "source": [
        "####**Section 3 Weak Pointer**"
      ],
      "metadata": {
        "id": "s03BHllAgzaW"
      }
    },
    {
      "cell_type": "markdown",
      "source": [
        "###**Chapter 3 Reference**"
      ],
      "metadata": {
        "id": "L3aHeARKoUst"
      }
    },
    {
      "cell_type": "markdown",
      "source": [
        "####**Section 1 Reference**"
      ],
      "metadata": {
        "id": "wuTsQI3TsMv1"
      }
    },
    {
      "cell_type": "markdown",
      "source": [
        "#####**Reference [eng|](https://www.youtube.com/watch?v=DMCoTssyduM&list=PLvv0ScY6vfd8j-tlhYVPYgiIyXduu6m-L&index=20&ab_channel=MikeShah)**"
      ],
      "metadata": {
        "id": "4Vc2Hs-QXeZu"
      }
    },
    {
      "cell_type": "markdown",
      "source": [
        "\n",
        "\n",
        "```cpp\n",
        "#include <iostream>\n",
        "\n",
        "int main()\n",
        "{\n",
        "    int a = 1;\n",
        "    std::cout << \"a = \" << a << \", &a = \" << &a << std::endl;\n",
        "\n",
        "    int& b = a;\n",
        "    std::cout << \"b = \" << b << \", &b = \" << &b << std::endl;\n",
        "\n",
        "    return 0;\n",
        "}\n",
        "```\n"
      ],
      "metadata": {
        "id": "rQp0U1Y5XeZ3"
      }
    },
    {
      "cell_type": "markdown",
      "source": [
        "#####**Not Illegal Reference [eng|](https://www.youtube.com/watch?v=DMCoTssyduM&list=PLvv0ScY6vfd8j-tlhYVPYgiIyXduu6m-L&index=20&ab_channel=MikeShah&t=4m26s)**"
      ],
      "metadata": {
        "id": "LWttPVviYaJs"
      }
    },
    {
      "cell_type": "markdown",
      "source": [
        "\n",
        "\n",
        "```cpp\n",
        "#include <iostream>\n",
        "\n",
        "int main()\n",
        "{\n",
        "    int a = 1;\n",
        "    std::cout << \"a = \" << a << \", &a = \" << &a << std::endl;\n",
        "\n",
        "    int* p = &a;\n",
        "    std::cout << \"p = \" << p << \", &p = \" << &p << std::endl;\n",
        "\n",
        "    int*& b = p; // not illegal reference\n",
        "    std::cout << \"b = \" << b << \", &b = \" << &b << std::endl;\n",
        "\n",
        "    return 0;\n",
        "}\n",
        "```\n"
      ],
      "metadata": {
        "id": "xlaT1e2PYaJ1"
      }
    },
    {
      "cell_type": "markdown",
      "source": [
        "####**Section 2 Reference as Function Argument**"
      ],
      "metadata": {
        "id": "IjgU0akUtj7u"
      }
    },
    {
      "cell_type": "markdown",
      "source": [
        "#####**Add Ten [src|](https://cafe.naver.com/honeyc?iframe_url_utf8=%2FArticleRead.nhn%253Fclubid%3D11957566%2526page%3D1%2526menuid%3D117%2526boardtype%3DL%2526articleid%3D80440%2526referrerAllArticles%3Dfalse)**"
      ],
      "metadata": {
        "id": "rYgWqG2e12Ux"
      }
    },
    {
      "cell_type": "markdown",
      "source": [
        "```cpp\n",
        "#include <iostream>\n",
        "\n",
        "void input(int& ref1, double& ref2);\n",
        "void add_ten(int& ref1, double& ref2) {ref1 += 10; ref2 += 10.0;}\n",
        "\n",
        "int main()\n",
        "{\n",
        "\tint a;\n",
        "\tdouble d;\n",
        "\n",
        "\tinput(a, d); std::cout << \"a = \" << a << \", d = \" << d << std::endl;\n",
        "\tadd_ten(a, d); std::cout << \"a = \" << a << \", d = \" << d << std::endl;\n",
        "\n",
        "\treturn 0;\n",
        "}\n",
        "\n",
        "void input(int& ref1, double& ref2)\n",
        "{\n",
        "    std::cout << \"정수 입력 : \"; std::cin >> ref1;\n",
        "    std::cout << \"실수 입력 : \"; std::cin >> ref2;\n",
        "}\n",
        "```"
      ],
      "metadata": {
        "id": "EhpgZf9T12U6"
      }
    },
    {
      "cell_type": "markdown",
      "source": [
        "#####**struct Student [src|](https://cafe.naver.com/honeyc?iframe_url_utf8=%2FArticleRead.nhn%253Fclubid%3D11957566%2526page%3D1%2526menuid%3D117%2526boardtype%3DL%2526articleid%3D80440%2526referrerAllArticles%3Dfalse)**"
      ],
      "metadata": {
        "id": "WeHBZ43V3lwR"
      }
    },
    {
      "cell_type": "markdown",
      "source": [
        "```cpp\n",
        "#include <iostream>\n",
        "\n",
        "struct Student\n",
        "{\n",
        "\tint no;\n",
        "\tchar name[20];\n",
        "\tchar phone[20];\n",
        "};\n",
        "\n",
        "void print_student_info(const Student& ref);\n",
        "\n",
        "int main()\n",
        "{\n",
        "\tStudent s = { 1, \"홍길동\", \"010-6333-9999\" };\n",
        "\tprint_student_info(s);\n",
        "\treturn 0;\n",
        "}\n",
        "\n",
        "void print_student_info(const Student& ref)\n",
        "{\n",
        "\tstd::cout << ref.no << \" \" << ref.name << \": \" << ref.phone << std::endl;\n",
        "}\n",
        "```"
      ],
      "metadata": {
        "id": "0T1QGZcC3lwa"
      }
    },
    {
      "cell_type": "markdown",
      "source": [
        "#####**struct Point [src|](https://cafe.naver.com/honeyc?iframe_url_utf8=%2FArticleRead.nhn%253Fclubid%3D11957566%2526page%3D1%2526menuid%3D117%2526boardtype%3DL%2526articleid%3D80440%2526referrerAllArticles%3Dfalse)**"
      ],
      "metadata": {
        "id": "CO-zRetX4-3u"
      }
    },
    {
      "cell_type": "markdown",
      "source": [
        "```cpp\n",
        "#include <iostream>\n",
        "\n",
        "struct Point {int x, y;};\n",
        "\n",
        "void input(Point& ref);\n",
        "void output(const Point& ref);\n",
        "\n",
        "int main() {\n",
        "    Point p;\n",
        "    input(p);\n",
        "    output(p);\n",
        "    return 0;\n",
        "}\n",
        "\n",
        "void input(Point& ref)\n",
        "{\n",
        "    std::cout << \"x coordinate : \"; std::cin >> ref.x;\n",
        "    std::cout << \"y coordinate : \"; std::cin >> ref.y;\n",
        "}\n",
        "\n",
        "void output(const Point& ref)\n",
        "{std::cout << \"(\" << ref.x << \", \" << ref.y << \")\\n\";}\n",
        "```"
      ],
      "metadata": {
        "id": "cT3iJoVS4-33"
      }
    },
    {
      "cell_type": "markdown",
      "source": [
        "#####**struct Time [src|](https://cafe.naver.com/honeyc?iframe_url_utf8=%2FArticleRead.nhn%253Fclubid%3D11957566%2526page%3D1%2526menuid%3D117%2526boardtype%3DL%2526articleid%3D80440%2526referrerAllArticles%3Dfalse)**"
      ],
      "metadata": {
        "id": "0-hHedDq6eWG"
      }
    },
    {
      "cell_type": "markdown",
      "source": [
        "```cpp\n",
        "#include <iostream>\n",
        "#include <iomanip>\n",
        "\n",
        "struct Time {int hour, minute, second;};\n",
        "\n",
        "void display_time(const Time& ref);\n",
        "void add_seconds(Time& ref, int increse);\n",
        "\n",
        "int main()\n",
        "{\n",
        "    Time t = { 15, 3, 24 }; display_time(t);\n",
        "    add_seconds(t, 100000); display_time(t);\n",
        "    return 0;\n",
        "}\n",
        "\n",
        "void display_time(const Time& ref)\n",
        "{\n",
        "    std::cout<<std::setfill('0')<<std::setw(2)<<ref.hour<<\":\";\n",
        "    std::cout<<std::setfill('0')<<std::setw(2)<<ref.minute<<\":\";\n",
        "    std::cout<<std::setfill('0')<<std::setw(2)<<ref.second<<\":\"<< std::endl;\n",
        "}\n",
        "\n",
        "void add_seconds(Time& ref, int increse)\n",
        "{\n",
        "    ref.second += increse;\n",
        "\n",
        "    ref.minute = ref.minute + (ref.second / 60);\n",
        "    ref.second = ref.second % 60;\n",
        "\n",
        "    ref.hour = ref.hour + (ref.minute / 60);\n",
        "    ref.minute = ref.minute % 60;\n",
        "\n",
        "    ref.hour = ref.hour % 24;\n",
        "}\n",
        "```"
      ],
      "metadata": {
        "id": "O5hl1XOx6eWQ"
      }
    },
    {
      "cell_type": "markdown",
      "source": [
        "####**Section 3 Lvalue and Rvalue**"
      ],
      "metadata": {
        "id": "axW-LDn33eeQ"
      }
    },
    {
      "cell_type": "markdown",
      "source": [
        "#####**Lvalue [eng|](https://www.youtube.com/watch?v=pMCHWTwIWns&list=PLvv0ScY6vfd8j-tlhYVPYgiIyXduu6m-L&index=32&ab_channel=MikeShah)**"
      ],
      "metadata": {
        "id": "JQ6c3DQ4C0uX"
      }
    },
    {
      "cell_type": "markdown",
      "source": [
        "```cpp\n",
        "#include <iostream>\n",
        "\n",
        "int main() {\n",
        "    int x = 42; // x is an lvalue\n",
        "    int y = 10; // y is also an lvalue\n",
        "\n",
        "    x = y; // Assignment: lvalue (x) receives the value of another lvalue (y)\n",
        "\n",
        "    std::cout << \"x: \" << x << std::endl;\n",
        "    std::cout << \"y: \" << y << std::endl;\n",
        "\n",
        "    return 0;\n",
        "}\n",
        "```"
      ],
      "metadata": {
        "id": "IuME6Vi2C0uh"
      }
    },
    {
      "cell_type": "markdown",
      "source": [
        "#####**Rvalue [eng|](https://www.youtube.com/watch?v=pMCHWTwIWns&list=PLvv0ScY6vfd8j-tlhYVPYgiIyXduu6m-L&index=32&ab_channel=MikeShah)**"
      ],
      "metadata": {
        "id": "VtgPLYy8C5u_"
      }
    },
    {
      "cell_type": "markdown",
      "source": [
        "```cpp\n",
        "#include <iostream>\n",
        "\n",
        "int add(int a, int b)\n",
        "{\n",
        "    return a + b;\n",
        "}\n",
        "\n",
        "int main()\n",
        "{\n",
        "    int x = 10; // x is an lvalue\n",
        "    int y = 20; // y is an lvalue\n",
        "\n",
        "    int result = add(x, y); // The result of add(x, y) is an rvalue\n",
        "    std::cout << \"Result: \" << result << std::endl;\n",
        "\n",
        "    std::cout << add(x, y) << std::endl;\n",
        "\n",
        "    return 0;\n",
        "}\n",
        "```"
      ],
      "metadata": {
        "id": "Qwja66kKC5vJ"
      }
    },
    {
      "cell_type": "markdown",
      "source": [
        "####**Section 4 Lvalue Reference and Rvalue Reference**"
      ],
      "metadata": {
        "id": "FjNclAPz3lXn"
      }
    },
    {
      "cell_type": "markdown",
      "source": [
        "#####**Lvalue Reference [eng|](https://www.youtube.com/watch?v=pMCHWTwIWns&list=PLvv0ScY6vfd8j-tlhYVPYgiIyXduu6m-L&index=32&ab_channel=MikeShah&t=12m46s)**"
      ],
      "metadata": {
        "id": "r_FR1nV5_Ris"
      }
    },
    {
      "cell_type": "markdown",
      "source": [
        "```cpp\n",
        "#include <iostream>\n",
        "\n",
        "// Function that takes an lvalue reference\n",
        "void modifyValue(int &value)\n",
        "{\n",
        "    value *= 2;\n",
        "}\n",
        "\n",
        "int main()\n",
        "{\n",
        "    int num = 5;\n",
        "    std::cout << \"Original value: \" << num << std::endl;\n",
        "\n",
        "    // Pass an lvalue to the function\n",
        "    modifyValue(num);\n",
        "    std::cout << \"Modified value: \" << num << std::endl;\n",
        "\n",
        "    return 0;\n",
        "}\n",
        "\n",
        "```"
      ],
      "metadata": {
        "id": "Z3Tr6-B1_l9t"
      }
    },
    {
      "cell_type": "markdown",
      "source": [
        "#####**Rvalue Reference [eng|](https://www.youtube.com/watch?v=pMCHWTwIWns&list=PLvv0ScY6vfd8j-tlhYVPYgiIyXduu6m-L&index=32&ab_channel=MikeShah&t=23m24s)**"
      ],
      "metadata": {
        "id": "0XYk3YRfCIHn"
      }
    },
    {
      "cell_type": "markdown",
      "source": [
        "```cpp\n",
        "#include <iostream>\n",
        "#include <string>\n",
        "\n",
        "int main() {\n",
        "    std::string s1 = \"Hello\";\n",
        "    std::string s2 = \"World\";\n",
        "\n",
        "    std::string&& s3 = s1 + \" \" + s2;\n",
        "\n",
        "    std::cout << s3 << std::endl;\n",
        "    \n",
        "    return 0;\n",
        "}\n",
        "```"
      ],
      "metadata": {
        "id": "Gs_K0hcHCIHw"
      }
    },
    {
      "cell_type": "markdown",
      "source": [
        "####**Section 5 Move Semantics**"
      ],
      "metadata": {
        "id": "MXE0VlJkELyo"
      }
    },
    {
      "cell_type": "markdown",
      "source": [
        "#####**Move Semantics [eng|](https://www.youtube.com/watch?v=2gUqyt5JTtM&list=PLvv0ScY6vfd8j-tlhYVPYgiIyXduu6m-L&index=33&ab_channel=MikeShah)**"
      ],
      "metadata": {
        "id": "KzLxyu4r4hzg"
      }
    },
    {
      "cell_type": "markdown",
      "source": [
        "```cpp\n",
        "#include <iostream>\n",
        "#include <string>\n",
        "\n",
        "int main()\n",
        "{\n",
        "    std::string s = \"Hello, World!\", s1;\n",
        "    std::cout << \"s  = \" << s << std::endl;\n",
        "    std::cout << \"s1 = \" << s1 << std::endl;\n",
        "\n",
        "    s1 = std::move(s);\n",
        "    std::cout << \"s  = \" << s << std::endl;\n",
        "    std::cout << \"s1 = \" << s1 << std::endl;\n",
        "\n",
        "    s = static_cast<std::string&&>(s1);\n",
        "    std::cout << \"s  = \" << s << std::endl;\n",
        "    std::cout << \"s1 = \" << s1 << std::endl;\n",
        "    \n",
        "    return 0;\n",
        "}\n",
        "```"
      ],
      "metadata": {
        "id": "Wu-NjNIYYS6X"
      }
    },
    {
      "cell_type": "markdown",
      "source": [
        "#####**Not Move Constructor**"
      ],
      "metadata": {
        "id": "ysMmxUc5bVE1"
      }
    },
    {
      "cell_type": "markdown",
      "source": [
        "```cpp\n",
        "#include <iostream>\n",
        "#include <string>\n",
        "\n",
        "// A class that defines a simple string with dynamic memory allocation\n",
        "class MyString\n",
        "{\n",
        "public:\n",
        "    // Constructor that takes an rvalue reference to a string\n",
        "    MyString(std::string&& str) : data(std::move(str))\n",
        "        {std::cout << \"Rvalue constructor called\" << std::endl;}\n",
        "\n",
        "    // A simple member function to display the string\n",
        "    void display() const\n",
        "        {std::cout << \"String: \" << data << std::endl;}\n",
        "\n",
        "private:\n",
        "    std::string data;\n",
        "};\n",
        "\n",
        "int main() {\n",
        "    // Creating an rvalue string (temporary string)\n",
        "    MyString myStr(\"Hello, World!\");  // \"Hello, World!\" is an rvalue\n",
        "\n",
        "    // Displaying the string inside the MyString object\n",
        "    myStr.display();\n",
        "\n",
        "    // Note that after the move construction, the original temporary string is no longer available\n",
        "    // Attempting to use it would result in undefined behavior.\n",
        "    \n",
        "    return 0;\n",
        "}\n",
        "```"
      ],
      "metadata": {
        "id": "UCTkvZht3p-z"
      }
    },
    {
      "cell_type": "markdown",
      "source": [
        "####**Section 6 Move Constructor and Move Assignment**"
      ],
      "metadata": {
        "id": "WnxA_hFsgazU"
      }
    },
    {
      "cell_type": "markdown",
      "source": [
        "#####**Move Constructor**"
      ],
      "metadata": {
        "id": "l2B9f4QM7H3Y"
      }
    },
    {
      "cell_type": "markdown",
      "source": [
        "```cpp\n",
        "#include <iostream>\n",
        "#include <utility>\n",
        "\n",
        "class Vector\n",
        "{\n",
        "public:\n",
        "    Vector(int size) : size_(size), data_(new int[size])\n",
        "        {std::cout << \"Constructor called\" << std::endl;}\n",
        "\n",
        "    // Move constructor with an rvalue reference\n",
        "    Vector(Vector&& other) noexcept\n",
        "    {\n",
        "        size_ = other.size_;\n",
        "        data_ = other.data_;\n",
        "        other.size_ = 0;\n",
        "        other.data_ = nullptr;\n",
        "        std::cout << \"Move constructor called\" << std::endl;\n",
        "    }\n",
        "\n",
        "    ~Vector()\n",
        "    {\n",
        "        delete[] data_;\n",
        "        std::cout << \"Destructor called\" << std::endl;\n",
        "    }\n",
        "\n",
        "private:\n",
        "    int size_;\n",
        "    int* data_;\n",
        "};\n",
        "\n",
        "int main() {\n",
        "    Vector vec1(5); // Create a Vector object\n",
        "\n",
        "    Vector vec2 = std::move(vec1); // Move constructor\n",
        "\n",
        "    return 0;\n",
        "}\n",
        "```"
      ],
      "metadata": {
        "id": "gN2RXZpK5Jq0"
      }
    },
    {
      "cell_type": "markdown",
      "source": [
        "#####**Move Assignment**"
      ],
      "metadata": {
        "id": "NTaM4DwA836B"
      }
    },
    {
      "cell_type": "markdown",
      "source": [
        "```cpp\n",
        "#include <iostream>\n",
        "#include <utility>\n",
        "\n",
        "class Vector\n",
        "{\n",
        "public:\n",
        "    Vector(int size) : size_(size), data_(new int[size])\n",
        "        {std::cout << \"Constructor called\" << std::endl;}\n",
        "\n",
        "    // Move constructor with an rvalue reference\n",
        "    Vector(Vector&& other) noexcept\n",
        "    {\n",
        "        size_ = other.size_;\n",
        "        data_ = other.data_;\n",
        "        other.size_ = 0;\n",
        "        other.data_ = nullptr;\n",
        "        std::cout << \"Move constructor called\" << std::endl;\n",
        "    }\n",
        "\n",
        "    // Move assignment operator with an rvalue reference\n",
        "    Vector& operator=(Vector&& other) noexcept\n",
        "    {\n",
        "        if (this != &other)\n",
        "        {\n",
        "            delete[] data_;\n",
        "            size_ = other.size_;\n",
        "            data_ = other.data_;\n",
        "            other.size_ = 0;\n",
        "            other.data_ = nullptr;\n",
        "        }\n",
        "        std::cout << \"Move assignment operator called\" << std::endl;\n",
        "        return *this;\n",
        "    }\n",
        "\n",
        "    ~Vector()\n",
        "    {\n",
        "        delete[] data_;\n",
        "        std::cout << \"Destructor called\" << std::endl;\n",
        "    }\n",
        "\n",
        "private:\n",
        "    int size_;\n",
        "    int* data_;\n",
        "};\n",
        "\n",
        "int main() {\n",
        "    Vector vec1(5); // Create a Vector object\n",
        "\n",
        "    Vector vec2 = std::move(vec1); // Move constructor\n",
        "\n",
        "    Vector vec3(3); // Create another Vector object\n",
        "    vec3 = std::move(vec2); // Move assignment operator\n",
        "\n",
        "    return 0;\n",
        "}\n",
        "```"
      ],
      "metadata": {
        "id": "d3bmyfdQ83-e"
      }
    },
    {
      "cell_type": "markdown",
      "source": [
        "#**PART IX DYNAMIC MEMORY ALLOCATION**"
      ],
      "metadata": {
        "id": "L4FqfyWIW8r2"
      }
    },
    {
      "cell_type": "markdown",
      "source": [
        "###**Chapter 1 Dynamic Memory Allocation**"
      ],
      "metadata": {
        "id": "Kt35q_nWacur"
      }
    },
    {
      "cell_type": "markdown",
      "source": [
        "####**Section 2 New and Delete (C++)**"
      ],
      "metadata": {
        "id": "6eKMLd9OaqB-"
      }
    },
    {
      "cell_type": "markdown",
      "source": [
        "#####**new and delete [eng|](https://www.youtube.com/watch?v=-0Wo4v0g_pY&list=PLVlQHNRLflP8_DGKcMoRw-TYJJALgGu4J&index=12)**"
      ],
      "metadata": {
        "id": "TTT1As6DXk2j"
      }
    },
    {
      "cell_type": "markdown",
      "source": [
        "```cpp\n",
        "#include <iostream>\n",
        "\n",
        "int main() {\n",
        "    //int* intPtr = new int; *intPtr = 42;\n",
        "    int* intPtr = new int(42);\n",
        "\n",
        "    //float* floatPtr = new float; *floatPtr = 3.14;\n",
        "    float* floatPtr = new float(3.14);\n",
        "\n",
        "    //char* charPtr = new char; *charPtr = 'A';\n",
        "    char* charPtr = new char('A');\n",
        "\n",
        "    std::cout << \"Integer: \" << *intPtr << std::endl;\n",
        "    std::cout << \"Float: \" << *floatPtr << std::endl;\n",
        "    std::cout << \"Character: \" << *charPtr << std::endl;\n",
        "\n",
        "    // Deallocate memory to prevent memory leaks\n",
        "    delete intPtr;\n",
        "    delete floatPtr;\n",
        "    delete charPtr;\n",
        "\n",
        "    return 0;\n",
        "}\n",
        "```\n"
      ],
      "metadata": {
        "id": "p0TgEmHLXk2t"
      }
    },
    {
      "cell_type": "markdown",
      "source": [
        "#####**Array Pointer [eng|](https://www.youtube.com/watch?v=-0Wo4v0g_pY&list=PLVlQHNRLflP8_DGKcMoRw-TYJJALgGu4J&index=12)**"
      ],
      "metadata": {
        "id": "pIFXRsb-YO8O"
      }
    },
    {
      "cell_type": "markdown",
      "source": [
        "\n",
        "\n",
        "```cpp\n",
        "#include <iostream>\n",
        "\n",
        "int main() {\n",
        "    int* intArray = new int[5];\n",
        "    for (int i = 0; i < 5; i++) {intArray[i] = i * 10;}\n",
        "\n",
        "    float* floatArray = new float[3];\n",
        "    for (int i = 0; i < 3; i++) {floatArray[i] = 3.14 * i;}\n",
        "\n",
        "    char* charArray = new char[4];\n",
        "    charArray[0] = 'A';\n",
        "    charArray[1] = 'B';\n",
        "    charArray[2] = 'C';\n",
        "    charArray[3] = '\\0'; // Null-terminate the string\n",
        "\n",
        "    std::cout << \"Integer Array: \";\n",
        "    for (int i = 0; i < 5; i++) {std::cout << intArray[i] << \" \";}\n",
        "    std::cout << std::endl;\n",
        "\n",
        "    std::cout << \"Float Array: \";\n",
        "    for (int i = 0; i < 3; i++) {std::cout << floatArray[i] << \" \";}\n",
        "    std::cout << std::endl;\n",
        "\n",
        "    std::cout << \"Character Array: \" << charArray << std::endl;\n",
        "\n",
        "    // Deallocate memory to prevent memory leaks\n",
        "    delete[] intArray;\n",
        "    delete[] floatArray;\n",
        "    delete[] charArray;\n",
        "\n",
        "    return 0;\n",
        "}\n",
        "```\n",
        "\n"
      ],
      "metadata": {
        "id": "h0aIpfOuYO8X"
      }
    },
    {
      "cell_type": "markdown",
      "source": [
        "#####**2D Array Pointers [eng|](https://www.youtube.com/watch?v=CHTuOKmXQ9s&list=PLVlQHNRLflP8_DGKcMoRw-TYJJALgGu4J&index=13)**"
      ],
      "metadata": {
        "id": "6EtVvKkVZPdm"
      }
    },
    {
      "cell_type": "markdown",
      "source": [
        "\n",
        "\n",
        "```cpp\n",
        "#include <iostream>\n",
        "\n",
        "int main() {\n",
        "    int** int2DArray = new int*[3];\n",
        "    for (int i = 0; i < 3; i++)\n",
        "    {\n",
        "        int2DArray[i] = new int[3];\n",
        "        for (int j = 0; j < 3; j++) {int2DArray[i][j] = i * 10 + j;}\n",
        "    }\n",
        "\n",
        "    char** char2DArray = new char*[2];\n",
        "    for (int i = 0; i < 2; i++) {\n",
        "        char2DArray[i] = new char[4];\n",
        "        for (int j = 0; j < 4; j++) {char2DArray[i][j] = 'A' + i * 2 + j;}\n",
        "    }\n",
        "\n",
        "    // Print the values of the 2D arrays\n",
        "    std::cout << \"Integer 2D Array:\" << std::endl;\n",
        "    for (int i = 0; i < 3; i++)\n",
        "    {\n",
        "        for (int j = 0; j < 3; j++) {std::cout << int2DArray[i][j] << \" \";}\n",
        "        std::cout << std::endl;\n",
        "    }\n",
        "\n",
        "    std::cout << \"Character 2D Array:\" << std::endl;\n",
        "    for (int i = 0; i < 2; i++)\n",
        "    {\n",
        "        for (int j = 0; j < 4; j++) {std::cout << char2DArray[i][j] << \" \";}\n",
        "        std::cout << std::endl;\n",
        "    }\n",
        "\n",
        "    // Deallocate memory to prevent memory leaks\n",
        "    for (int i = 0; i < 3; i++) {delete[] int2DArray[i];}\n",
        "    delete[] int2DArray;\n",
        "\n",
        "    for (int i = 0; i < 2; i++) {delete[] char2DArray[i];}\n",
        "    delete[] char2DArray;\n",
        "\n",
        "    return 0;\n",
        "}\n",
        "```\n",
        "\n"
      ],
      "metadata": {
        "id": "yws_9qnhZPdw"
      }
    },
    {
      "cell_type": "markdown",
      "source": [
        "#**PART IX OOP**"
      ],
      "metadata": {
        "id": "H4V81y2LSXQI"
      }
    },
    {
      "cell_type": "markdown",
      "source": [
        "###**Chapter 1 Structure**"
      ],
      "metadata": {
        "id": "JPjk5DEBK9uh"
      }
    },
    {
      "cell_type": "markdown",
      "source": [
        "#####**Account [src|](https://cafe.naver.com/honeyc?iframe_url_utf8=%2FArticleRead.nhn%253FreferrerAllArticles%3Dfalse%2526menuid%3D117%2526page%3D2%2526boardtype%3DL%2526clubid%3D11957566%2526articleid%3D80446)**"
      ],
      "metadata": {
        "id": "YpH7MdgFNf2z"
      }
    },
    {
      "cell_type": "markdown",
      "source": [
        "```python\n",
        "class Account:\n",
        "    def __init__(self, accId, name, pw, balance):\n",
        "        self.accId = accId\n",
        "        self.name = name\n",
        "        self.pw = pw\n",
        "        self.balance = balance\n",
        "\n",
        "    def deposit(self, increase):\n",
        "        self.balance += increase\n",
        "\n",
        "    def withdrawal(self, decrease):\n",
        "        self.balance -= decrease\n",
        "\n",
        "    def print_balance(self):\n",
        "        print(f\"{self.name}고객님의 현재 잔액은 {self.balance}원 입니다.\")\n",
        "\n",
        "def main():\n",
        "    a = Account(\"123-56789-123\", \"홍길동\", \"0070\", 90000)\n",
        "    a.print_balance()\n",
        "    a.deposit(5000)\n",
        "    a.print_balance()\n",
        "    a.withdrawal(2000)\n",
        "    a.print_balance()\n",
        "\n",
        "if __name__ == \"__main__\":\n",
        "    main()\n",
        "```\n",
        "\n",
        "```cpp\n",
        "#include <iostream>\n",
        "\n",
        "struct Account\n",
        " {\n",
        "    char accId[14];\t\t//계좌번호 13자리\n",
        "    char name[20];\n",
        "    char pw[5];\t\t\t//비밀번호 4자리\n",
        "    long long balance;  //잔액\n",
        "};\n",
        "\n",
        "void deposit(Account& ref, long long increase) {ref.balance += increase;}\n",
        "void withdrawal(Account& ref, long long decrease) {ref.balance -= decrease;}\n",
        "void print_balance(Account& ref)\n",
        "{std::cout << ref.name << \"고객님의 현재 잔액은 \" << ref.balance << \"원 입니다.\\n\";}\n",
        "\n",
        "int main()\n",
        "{\n",
        "    Account a = {\"123-56789-123\", \"홍길동\", \"0070\", 90000}; print_balance(a);\n",
        "    deposit(a, 5000); print_balance(a);\n",
        "    withdrawal(a, 2000); print_balance(a);\n",
        "    return 0;\n",
        "}\n",
        "```\n",
        "\n",
        "```c\n",
        "#include <stdio.h>\n",
        "#include <string.h>\n",
        "\n",
        "struct Account\n",
        "{\n",
        "    char accId[14];     // 계좌번호 13자리\n",
        "    char name[20];\n",
        "    char pw[5];         // 비밀번호 4자리\n",
        "    long long balance;  // 잔액\n",
        "};\n",
        "\n",
        "void deposit(struct Account* ref, long long increase) { ref->balance += increase; }\n",
        "void withdrawal(struct Account* ref, long long decrease) { ref->balance -= decrease; }\n",
        "void print_balance(const struct Account* ref)\n",
        "{\n",
        "    printf(\"%s고객님의 현재 잔액은 %lld원 입니다.\\n\", ref->name, ref->balance);\n",
        "}\n",
        "\n",
        "int main()\n",
        "{\n",
        "    struct Account a = {\"123-56789-123\", \"홍길동\", \"0070\", 90000};\n",
        "    print_balance(&a);\n",
        "    deposit(&a, 5000);\n",
        "    print_balance(&a);\n",
        "    withdrawal(&a, 2000);\n",
        "    print_balance(&a);\n",
        "    \n",
        "    return 0;\n",
        "}\n",
        "```"
      ],
      "metadata": {
        "id": "Ef3Zkee6Nf29"
      }
    },
    {
      "cell_type": "markdown",
      "source": [
        "###**Chapter 2 Class**"
      ],
      "metadata": {
        "id": "PRA610ZnQywX"
      }
    },
    {
      "cell_type": "markdown",
      "source": [
        "#####**Circle [src|](https://cafe.naver.com/honeyc?iframe_url_utf8=%2FArticleRead.nhn%253FreferrerAllArticles%3Dfalse%2526menuid%3D117%2526page%3D2%2526boardtype%3DL%2526clubid%3D11957566%2526articleid%3D80446)**"
      ],
      "metadata": {
        "id": "-AySsEIpVhNF"
      }
    },
    {
      "cell_type": "markdown",
      "source": [
        "```python\n",
        "import math\n",
        "\n",
        "class Circle:\n",
        "    def __init__(self, r):\n",
        "        self.radius = r\n",
        "    def compute_area(self):\n",
        "        return math.pi * self.radius * self.radius\n",
        "\n",
        "def main():\n",
        "    c = Circle(2)\n",
        "    print(\"area of circle:\", c.compute_area())\n",
        "\n",
        "if __name__ == \"__main__\":\n",
        "    main()\n",
        "```\n",
        "\n",
        "```cpp\n",
        "#include <iostream>\n",
        "\n",
        "const double PI = 3.141592;\n",
        "\n",
        "class Circle\n",
        "{\n",
        "private:\n",
        "    double radius = 0;\n",
        "public:\n",
        "    void set_radius(double radius) {this->radius = radius;}\n",
        "    double compute_area() {return PI * radius * radius;}\n",
        "};\n",
        "\n",
        "int main()\n",
        "{\n",
        "    Circle c;\n",
        "    c.set_radius(2);\n",
        "    std::cout << \"area of circle : \" << c.compute_area() << std::endl;\n",
        "    return 0;\n",
        "}\n",
        "```\n",
        "\n",
        "```c\n",
        "#include <stdio.h>\n",
        "\n",
        "const double PI = 3.141592;\n",
        "\n",
        "struct Circle\n",
        "{\n",
        "    double radius;\n",
        "};\n",
        "\n",
        "void set_radius(struct Circle* c, double radius)\n",
        "{\n",
        "    c->radius = radius;\n",
        "}\n",
        "\n",
        "double compute_area(const struct Circle* c)\n",
        "{\n",
        "    return PI * c->radius * c->radius;\n",
        "}\n",
        "\n",
        "int main()\n",
        "{\n",
        "    struct Circle c;\n",
        "    set_radius(&c, 2);\n",
        "    printf(\"area of circle : %.2lf\\n\", compute_area(&c));\n",
        "    return 0;\n",
        "}\n",
        "```"
      ],
      "metadata": {
        "id": "d5pyVZcAVhNP"
      }
    },
    {
      "cell_type": "markdown",
      "source": [
        "#####**Rectangle [src|](https://cafe.naver.com/honeyc?iframe_url_utf8=%2FArticleRead.nhn%253FreferrerAllArticles%3Dfalse%2526menuid%3D117%2526page%3D2%2526boardtype%3DL%2526clubid%3D11957566%2526articleid%3D80446)**"
      ],
      "metadata": {
        "id": "EFYkLVs0alWy"
      }
    },
    {
      "cell_type": "markdown",
      "source": [
        "```python\n",
        "class Rectangle:\n",
        "    def __init__(self, w, h):\n",
        "        self.mWidth = w\n",
        "        self.mHeight = h\n",
        "    def compute_area(self):\n",
        "        return self.mWidth * self.mHeight\n",
        "\n",
        "def main():\n",
        "    r = Rectangle(2, 3)\n",
        "    print(\"area of rectangle:\", r.compute_area())\n",
        "\n",
        "if __name__ == \"__main__\":\n",
        "    main()\n",
        "```\n",
        "\n",
        "```cpp\n",
        "#include <iostream>\n",
        "\n",
        "class Rectangle\n",
        "{\n",
        "private:\n",
        "    double mWidth = 0, mHeight = 0;\n",
        "public:\n",
        "    void set_rectangle(double width, double height);\n",
        "    double compute_area() { return mWidth * mHeight;}\n",
        "};\n",
        "\n",
        "int main() {\n",
        "    Rectangle r;\n",
        "    r.set_rectangle(2, 3);\n",
        "    std::cout << \"area of rectangle : \" << r.compute_area() << std::endl;\n",
        "    return 0;\n",
        "}\n",
        "\n",
        "void Rectangle::set_rectangle(double width, double height)\n",
        "{\n",
        "    mWidth = width;\n",
        "    mHeight = height;\n",
        "}\n",
        "```\n",
        "\n",
        "```c\n",
        "#include <stdio.h>\n",
        "\n",
        "struct Rectangle\n",
        "{\n",
        "    double width;\n",
        "    double height;\n",
        "};\n",
        "\n",
        "void set_rectangle(struct Rectangle *rect, double width, double height);\n",
        "double compute_area(const struct Rectangle *rect);\n",
        "\n",
        "int main() {\n",
        "    struct Rectangle r;\n",
        "    set_rectangle(&r, 2.0, 3.0);\n",
        "    printf(\"area of rectangle: %f\\n\", compute_area(&r));\n",
        "    return 0;\n",
        "}\n",
        "\n",
        "void set_rectangle(struct Rectangle *rect, double width, double height)\n",
        "{\n",
        "    rect->width = width;\n",
        "    rect->height = height;\n",
        "}\n",
        "\n",
        "double compute_area(const struct Rectangle *rect)\n",
        "{\n",
        "    return rect->width * rect->height;\n",
        "}\n",
        "\n",
        "```"
      ],
      "metadata": {
        "id": "TWTksD8KalW7"
      }
    },
    {
      "cell_type": "markdown",
      "source": [
        "#####**Missile [src|](https://cafe.naver.com/honeyc?iframe_url_utf8=%2FArticleRead.nhn%253FreferrerAllArticles%3Dfalse%2526menuid%3D117%2526page%3D2%2526boardtype%3DL%2526clubid%3D11957566%2526articleid%3D80448)**"
      ],
      "metadata": {
        "id": "u7Nuh-_Kr6EK"
      }
    },
    {
      "cell_type": "markdown",
      "source": [
        "```python\n",
        "class Missile:\n",
        "    def __init__(self):\n",
        "        self.mPassWord = \"0000\"\n",
        "\n",
        "    def set_password(self, password):\n",
        "        self.mPassWord = password\n",
        "\n",
        "    def check_password(self, password):\n",
        "        if self.mPassWord == password:\n",
        "            self.fire()\n",
        "        else:\n",
        "            self.error()\n",
        "\n",
        "    def fire(self):\n",
        "        print(\"Fire!!!\")\n",
        "\n",
        "    def error(self):\n",
        "        print(\"Fail!!!\")\n",
        "\n",
        "def main():\n",
        "    m = Missile()\n",
        "    m.set_password(\"0070\")\n",
        "    m.check_password(\"0070\")\n",
        "\n",
        "if __name__ == \"__main__\":\n",
        "    main()\n",
        "```\n",
        "\n",
        "```cpp\n",
        "#include <iostream>\n",
        "#include <cstring> //strcpy, strcmp\n",
        "\n",
        "class Missile\n",
        "{\n",
        "public:\n",
        "    void set_password(const char* password) {strcpy(mPassWord, password);}\n",
        "    void check_password(const char* password) {\n",
        "        //strcmp 문자열 비교 : 두 문자열이 같으면 0을 리턴\n",
        "        if (strcmp(mPassWord, password) == 0) fire();\n",
        "        else error();\n",
        "    }\n",
        "private:\n",
        "    char mPassWord[5] = \"0000\";\n",
        "    void fire() {std::cout << \"Fire!!!\\n\";}\n",
        "    void error() {std::cout << \"Fail!!!\\n\";}\n",
        "};\n",
        "\n",
        "int main()\n",
        "{\n",
        "    Missile m;\n",
        "    m.set_password(\"0070\");\n",
        "    m.check_password(\"0070\");\n",
        "    return 0;\n",
        "}\n",
        "```\n",
        "\n",
        "```c\n",
        "#include <stdio.h>\n",
        "#include <string.h> // strcpy, strcmp\n",
        "\n",
        "#define PASSWORD_LENGTH 5\n",
        "\n",
        "struct Missile {\n",
        "    char mPassWord[PASSWORD_LENGTH + 1]; // +1 for null terminator\n",
        "\n",
        "    void set_password(const char* password) {\n",
        "        strncpy(mPassWord, password, PASSWORD_LENGTH);\n",
        "        mPassWord[PASSWORD_LENGTH] = '\\0';\n",
        "    }\n",
        "\n",
        "    void check_password(const char* password) {\n",
        "        if (strcmp(mPassWord, password) == 0) {\n",
        "            fire();\n",
        "        } else {\n",
        "            error();\n",
        "        }\n",
        "    }\n",
        "\n",
        "    void fire() {\n",
        "        printf(\"Fire!!!\\n\");\n",
        "    }\n",
        "\n",
        "    void error() {\n",
        "        printf(\"Fail!!!\\n\");\n",
        "    }\n",
        "};\n",
        "\n",
        "int main() {\n",
        "    struct Missile m;\n",
        "    strcpy(m.mPassWord, \"0000\"); // Initialize with default password\n",
        "    m.set_password(\"0070\");\n",
        "    m.check_password(\"0070\");\n",
        "\n",
        "    return 0;\n",
        "}\n",
        "```"
      ],
      "metadata": {
        "id": "w8ibBQ-Lr6ET"
      }
    },
    {
      "cell_type": "markdown",
      "source": [
        "#####**10 + 20 + 30 using Class [eng|](https://www.youtube.com/watch?v=27liALXzXEE&list=PLWPirh4EWFpGDG3--IKMLPoYrgfuhaz_t&index=117)**"
      ],
      "metadata": {
        "id": "AB2U9sUJ6g22"
      }
    },
    {
      "cell_type": "markdown",
      "source": [
        "```python\n",
        "class Adder:\n",
        "    def __init__(self, initial_capital=0):\n",
        "        self.total = initial_capital\n",
        "    def add_number(self, number):\n",
        "        self.total += number\n",
        "    def print_total(self):\n",
        "        print(f\"Total : {self.total}\")\n",
        "\n",
        "def main():\n",
        "    a = Adder()\n",
        "    a.add_number(10)\n",
        "    a.add_number(20)\n",
        "    a.add_number(30)\n",
        "    a.print_total()\n",
        "\n",
        "if __name__ == \"__main__\":\n",
        "    main()\n",
        "```\n",
        "\n",
        "```cpp\n",
        "#include <iostream>\n",
        "\n",
        "class Adder\n",
        "{\n",
        "private:\n",
        "    int total;\n",
        "public:\n",
        "    Adder(int initial_capital = 0) {total = initial_capital;}\n",
        "    void add_number(int number) {total += number;}\n",
        "    void print_total() {std::cout << \"Total : \" << total << std::endl;}\n",
        "};\n",
        "\n",
        "int main()\n",
        "{\n",
        "    Adder a;\n",
        "    a.add_number(10);\n",
        "    a.add_number(20);\n",
        "    a.add_number(30);\n",
        "    a.print_total();\n",
        "    return 0;\n",
        "}\n",
        "```"
      ],
      "metadata": {
        "id": "Tsqf29X888r2"
      }
    },
    {
      "cell_type": "markdown",
      "source": [
        "#####**Calculator [src|](https://cafe.naver.com/honeyc?iframe_url_utf8=%2FArticleRead.nhn%253FreferrerAllArticles%3Dfalse%2526menuid%3D117%2526page%3D2%2526boardtype%3DL%2526clubid%3D11957566%2526articleid%3D80448)**"
      ],
      "metadata": {
        "id": "ZXzHsUVEovsY"
      }
    },
    {
      "cell_type": "markdown",
      "source": [
        "```python\n",
        "import os\n",
        "import time\n",
        "\n",
        "OP_COUNT = 4\n",
        "\n",
        "class Calculator:\n",
        "    def __init__(self):\n",
        "        self.mCount = [0] * (OP_COUNT + 1)\n",
        "\n",
        "    def add(self, d1, d2):\n",
        "        self.mCount[1] += 1\n",
        "        return d1 + d2\n",
        "\n",
        "    def subtract(self, d1, d2):\n",
        "        self.mCount[2] += 1\n",
        "        return d1 - d2\n",
        "\n",
        "    def multiply(self, d1, d2):\n",
        "        self.mCount[3] += 1\n",
        "        return d1 * d2\n",
        "\n",
        "    def divide(self, d1, d2):\n",
        "        self.mCount[4] += 1\n",
        "        return d1 / d2\n",
        "\n",
        "    def show_op_count(self):\n",
        "        print(\"\\n\\n *** 연산 횟수 출력 ***\\n\\n\")\n",
        "        print(f\"덧셈 : {self.mCount[1]}회\")\n",
        "        print(f\"뺄셈 : {self.mCount[2]}회\")\n",
        "        print(f\"곱셈 : {self.mCount[3]}회\")\n",
        "        print(f\"나눗셈 : {self.mCount[4]}회\")\n",
        "\n",
        "def main():\n",
        "    cal = Calculator()\n",
        "\n",
        "    while True:\n",
        "        os.system(\"clear\")  # Clear the screen\n",
        "        print(\"\\n\\n\\t\\t\\t *** 계산기 프로그램 ***\\n\\n\")\n",
        "        print(\"1. 덧셈    2. 뺄셈    3. 곱셈    4. 나눗셈    0. 종료\\n\")\n",
        "        choice = int(input(\"메뉴 선택 : \"))\n",
        "\n",
        "        if choice == 0:\n",
        "            cal.show_op_count()\n",
        "            break\n",
        "\n",
        "        d1, d2 = map(float, input(\"\\n두 수 입력 : \").split())\n",
        "\n",
        "        if choice == 1:\n",
        "            op = '+'\n",
        "            result = cal.add(d1, d2)\n",
        "        elif choice == 2:\n",
        "            op = '-'\n",
        "            result = cal.subtract(d1, d2)\n",
        "        elif choice == 3:\n",
        "            op = '*'\n",
        "            result = cal.multiply(d1, d2)\n",
        "        elif choice == 4:\n",
        "            op = '/'\n",
        "            result = cal.divide(d1, d2)\n",
        "        else:\n",
        "            op = ' '\n",
        "            result = 0\n",
        "\n",
        "        print(f\"\\n\\n\\t\\t{d1} {op} {d2} = {result}\\n\")\n",
        "        time.sleep(1)  # Pause for 1 second\n",
        "\n",
        "        input(\"Press Enter to continue...\")\n",
        "\n",
        "if __name__ == \"__main__\":\n",
        "    main()\n",
        "```\n",
        "\n",
        "```cpp\n",
        "#include <iostream>\n",
        "#include <unistd.h> // for sleep\n",
        "\n",
        "#define OP_COUNT 4\n",
        "\n",
        "enum Operator\n",
        "{\n",
        "    ADD = 1, SUB, MUL, DIV\n",
        "};\n",
        "\n",
        "class Calculator\n",
        "{\n",
        "private:\n",
        "    int mCount[OP_COUNT + 1] = { 0 };\n",
        "public:\n",
        "    double add(double d1, double d2) {++mCount[ADD]; return d1 + d2;}\n",
        "    double subtract(double d1, double d2) {++mCount[SUB]; return d1 - d2;}\n",
        "    double multiply(double d1, double d2) {++mCount[MUL]; return d1 * d2;}\n",
        "    double divide(double d1, double d2) {++mCount[DIV]; return d1 / d2;}\n",
        "\n",
        "    void show_op_count()\n",
        "    {\n",
        "        std::cout << \"\\n\\n *** 연산 횟수 출력 ***\\n\\n\";\n",
        "        std::cout << \"덧셈 : \" << mCount[ADD] << \"회\\n\";\n",
        "        std::cout << \"뺄셈 : \" << mCount[SUB] << \"회\\n\";\n",
        "        std::cout << \"곱셈 : \" << mCount[MUL] << \"회\\n\";\n",
        "        std::cout << \"나눗셈 : \" << mCount[DIV] << \"회\\n\";\n",
        "    }\n",
        "};\n",
        "\n",
        "int main() {\n",
        "\n",
        "    Calculator cal;\n",
        "    double d1, d2, result;\n",
        "    char op;\n",
        "\n",
        "    while (true)\n",
        "    {\n",
        "        system(\"clear\"); // Clear the screen\n",
        "        std::cout << \"\\n\\n\\t\\t\\t *** 계산기 프로그램 ***\\n\\n\";\n",
        "        std::cout << \"1. 덧셈    2. 뺄셈    3. 곱셈    4. 나눗셈    0. 종료\\n\";\n",
        "        std::cout << \"메뉴 선택 : \";\n",
        "        int choice;\n",
        "        std::cin >> choice;\n",
        "\n",
        "        if (choice == 0) {cal.show_op_count(); return 0;}\n",
        "\n",
        "        std::cout << \"\\n두 수 입력 : \";\n",
        "        std::cin >> d1 >> d2;\n",
        "\n",
        "        switch (choice)\n",
        "        {\n",
        "        case ADD:\n",
        "            op = '+'; result = cal.add(d1, d2); break;\n",
        "        case SUB:\n",
        "            op = '-'; result = cal.subtract(d1, d2); break;\n",
        "        case MUL:\n",
        "            op = '*'; result = cal.multiply(d1, d2); break;\n",
        "        case DIV:\n",
        "            op = '/'; result = cal.divide(d1, d2); break;\n",
        "        default:\n",
        "            op = ' '; result = 0;\n",
        "        }\n",
        "\n",
        "        std::cout<<\"\\n\\n\\t\\t\"<<d1<<\" \"<<op<<\" \"<<d2<<\" = \"<<result<< std::endl;\n",
        "        std::cout << \"\\n\\n\\t\\t\";\n",
        "        sleep(1); // Pause for 1 seconds\n",
        "\n",
        "        std::cout << \"Press Enter to continue...\";\n",
        "        std::cin.ignore();\n",
        "    }\n",
        "}\n",
        "```\n",
        "\n",
        "```c\n",
        "#include <stdio.h>\n",
        "#include <unistd.h>\n",
        "\n",
        "#define OP_COUNT 4\n",
        "\n",
        "enum Operator\n",
        "{\n",
        "    ADD = 1, SUB, MUL, DIV\n",
        "};\n",
        "\n",
        "struct Calculator\n",
        "{\n",
        "    int mCount[OP_COUNT + 1];\n",
        "};\n",
        "\n",
        "double add(double d1, double d2) {return d1 + d2;}\n",
        "double subtract(double d1, double d2) {return d1 - d2;}\n",
        "double multiply(double d1, double d2) {return d1 * d2;}\n",
        "double divide(double d1, double d2) {return d1 / d2;}\n",
        "\n",
        "void show_op_count(int mCount[])\n",
        "{\n",
        "    printf(\"\\n\\n *** 연산 횟수 출력 ***\\n\\n\");\n",
        "    printf(\"덧셈 : %d회\\n\", mCount[ADD]);\n",
        "    printf(\"뺄셈 : %d회\\n\", mCount[SUB]);\n",
        "    printf(\"곱셈 : %d회\\n\", mCount[MUL]);\n",
        "    printf(\"나눗셈 : %d회\\n\", mCount[DIV]);\n",
        "}\n",
        "\n",
        "int main()\n",
        "{\n",
        "    struct Calculator cal;\n",
        "    double d1, d2, result;\n",
        "    char op;\n",
        "\n",
        "    for (int i = 0; i <= OP_COUNT; i++)\n",
        "    {\n",
        "        cal.mCount[i] = 0;\n",
        "    }\n",
        "\n",
        "    while (1)\n",
        "    {\n",
        "        system(\"clear\"); // Clear the screen\n",
        "        printf(\"\\n\\n\\t\\t\\t *** 계산기 프로그램 ***\\n\\n\");\n",
        "        printf(\"1. 덧셈    2. 뺄셈    3. 곱셈    4. 나눗셈    0. 종료\\n\");\n",
        "        printf(\"메뉴 선택 : \");\n",
        "        int choice;\n",
        "        scanf(\"%d\", &choice);\n",
        "\n",
        "        if (choice == 0)\n",
        "        {\n",
        "            show_op_count(cal.mCount);\n",
        "            return 0;\n",
        "        }\n",
        "\n",
        "        printf(\"\\n두 수 입력 : \");\n",
        "        scanf(\"%lf %lf\", &d1, &d2);\n",
        "\n",
        "        switch (choice)\n",
        "        {\n",
        "            case ADD:\n",
        "                op = '+'; result = add(d1, d2); cal.mCount[ADD]++; break;\n",
        "            case SUB:\n",
        "                op = '-'; result = subtract(d1, d2); cal.mCount[SUB]++; break;\n",
        "            case MUL:\n",
        "                op = '*'; result = multiply(d1, d2); cal.mCount[MUL]++; break;\n",
        "            case DIV:\n",
        "                op = '/'; result = divide(d1, d2); cal.mCount[DIV]++; break;\n",
        "            default:\n",
        "                op = ' '; result = 0;\n",
        "        }\n",
        "\n",
        "        printf(\"\\n\\n\\t\\t%.2lf %c %.2lf = %.2lf\\n\", d1, op, d2, result);\n",
        "        printf(\"\\n\\n\\t\\t\");\n",
        "        sleep(1); // Pause for 1 second\n",
        "\n",
        "        printf(\"Press Enter to continue...\");\n",
        "        getchar();\n",
        "    }\n",
        "}\n",
        "```"
      ],
      "metadata": {
        "id": "TjeRczHeovsh"
      }
    },
    {
      "cell_type": "markdown",
      "source": [
        "###**Chapter 3 Member Variable Initialization**"
      ],
      "metadata": {
        "id": "-BTzlM1kS45D"
      }
    },
    {
      "cell_type": "markdown",
      "source": [
        "####**Section 1 Direct Initialization**"
      ],
      "metadata": {
        "id": "4L72s_vPTA7y"
      }
    },
    {
      "cell_type": "markdown",
      "source": [
        "```cpp\n",
        "#include <iostream>\n",
        "\n",
        "int main() {\n",
        "    int a = 42; // Direct initialization\n",
        "    int b(42);  // Direct initialization\n",
        "\n",
        "    std::cout << \"a: \" << a << std::endl;\n",
        "    std::cout << \"b: \" << b << std::endl;\n",
        "\n",
        "    int c = 42.7; // warning: implicit conversion\n",
        "    int d(42.7);  // warning: implicit conversion\n",
        "\n",
        "    std::cout << \"c: \" << c << std::endl;\n",
        "    std::cout << \"d: \" << d << std::endl;\n",
        "\n",
        "    return 0;\n",
        "}\n",
        "```"
      ],
      "metadata": {
        "id": "LY04cs9BXjYX"
      }
    },
    {
      "cell_type": "markdown",
      "source": [
        "####**Section 2 Uniform and List Initialization**"
      ],
      "metadata": {
        "id": "ZNtwuey_TQSo"
      }
    },
    {
      "cell_type": "markdown",
      "source": [
        "```cpp\n",
        "#include <iostream>\n",
        "\n",
        "int main() {\n",
        "    int a = {42}; // List initialization\n",
        "    int b{42};    // Uniform initialization\n",
        "\n",
        "    std::cout << \"a: \" << a << std::endl;\n",
        "    std::cout << \"b: \" << b << std::endl;\n",
        "\n",
        "    int c = {42.7}; // error\n",
        "    int d{42.7};    // error\n",
        "\n",
        "    std::cout << \"c: \" << c << std::endl;\n",
        "    std::cout << \"d: \" << d << std::endl;\n",
        "\n",
        "    return 0;\n",
        "}\n",
        "```"
      ],
      "metadata": {
        "id": "Ari0cd-Ebnu2"
      }
    },
    {
      "cell_type": "markdown",
      "source": [
        "```cpp\n",
        "#include <iostream>\n",
        "\n",
        "class Point {\n",
        "public:\n",
        "    Point(float x, float y) : x(x), y(y) {}\n",
        "    void print() const {\n",
        "        std::cout << \"x: \" << x << \", y: \" << y << std::endl;\n",
        "    }\n",
        "private:\n",
        "    float x, y;\n",
        "};\n",
        "\n",
        "int main() {\n",
        "    // Using uniform initialization to create a Point object\n",
        "    Point p1{10.123, 20.456};\n",
        "\n",
        "    // Using uniform initialization with an initializer list\n",
        "    Point p2 = {30.789, 40.123};\n",
        "\n",
        "    p1.print();\n",
        "    p2.print();\n",
        "\n",
        "    return 0;\n",
        "}\n",
        "```"
      ],
      "metadata": {
        "id": "A_Nxtb1uU0AV"
      }
    },
    {
      "cell_type": "markdown",
      "source": [
        "####**Section 3 Copy Initialization**"
      ],
      "metadata": {
        "id": "JefEvUHFTQXR"
      }
    },
    {
      "cell_type": "markdown",
      "source": [
        "####**Section 5 Braced Initialization in Constructor Initialization List**"
      ],
      "metadata": {
        "id": "LUH-BWg5UII5"
      }
    },
    {
      "cell_type": "markdown",
      "source": [
        "####**Section 6 Aggregate Initialization**"
      ],
      "metadata": {
        "id": "3pswUEmTUIMf"
      }
    },
    {
      "cell_type": "markdown",
      "source": [
        "####**Section 7 Value Initialization**"
      ],
      "metadata": {
        "id": "omK40orNUIRR"
      }
    },
    {
      "cell_type": "markdown",
      "source": [
        "###**Chapter 3 Constructor**"
      ],
      "metadata": {
        "id": "Z33aoWPIhx_W"
      }
    },
    {
      "cell_type": "markdown",
      "source": [
        "####**Section 1 Constructor**"
      ],
      "metadata": {
        "id": "2H50ccq2i3xm"
      }
    },
    {
      "cell_type": "markdown",
      "source": [
        "#####**Account [src|](https://cafe.naver.com/honeyc?iframe_url_utf8=%2FArticleRead.nhn%253FreferrerAllArticles%3Dfalse%2526menuid%3D117%2526page%3D2%2526boardtype%3DL%2526clubid%3D11957566%2526articleid%3D80446)**"
      ],
      "metadata": {
        "id": "Yn0SeZF7PPPo"
      }
    },
    {
      "cell_type": "markdown",
      "source": [
        "```python\n",
        "class Account:\n",
        "    def __init__(self, accId, name, pw, balance):\n",
        "        self.accId = accId\n",
        "        self.name = name\n",
        "        self.pw = pw\n",
        "        self.balance = balance\n",
        "\n",
        "    def deposit(self, increase):\n",
        "        self.balance += increase\n",
        "\n",
        "    def withdrawal(self, decrease):\n",
        "        self.balance -= decrease\n",
        "\n",
        "    def print_balance(self):\n",
        "        print(f\"{self.name}고객님의 현재 잔액은 {self.balance}원 입니다.\")\n",
        "\n",
        "def main():\n",
        "    a = Account(\"123-56789-123\", \"홍길동\", \"0070\", 90000)\n",
        "    a.print_balance()\n",
        "    a.deposit(5000)\n",
        "    a.print_balance()\n",
        "    a.withdrawal(2000)\n",
        "    a.print_balance()\n",
        "\n",
        "if __name__ == \"__main__\":\n",
        "    main()\n",
        "```\n",
        "\n",
        "```cpp\n",
        "#include <iostream>\n",
        "#include <cstring> // Include for strcpy function\n",
        "\n",
        "class Account\n",
        "{\n",
        "private:\n",
        "    char accId[14];     // 계좌번호 13자리\n",
        "    char name[20];\n",
        "    char pw[5];         // 비밀번호 4자리\n",
        "    long long balance;  // 잔액\n",
        "\n",
        "public:\n",
        "    Account(const char accId[], const char name[], const char pw[], long long balance)\n",
        "    {\n",
        "        strcpy(this->accId, accId);\n",
        "        strcpy(this->name, name);\n",
        "        strcpy(this->pw, pw);\n",
        "        this->balance = balance;\n",
        "    }\n",
        "\n",
        "    void deposit(long long increase) { balance += increase; }\n",
        "    void withdrawal(long long decrease) { balance -= decrease; }\n",
        "\n",
        "    void print_balance()\n",
        "    {\n",
        "        std::cout << name << \"고객님의 현재 잔액은 \" << balance << \"원 입니다.\\n\";\n",
        "    }\n",
        "};\n",
        "\n",
        "int main()\n",
        "{\n",
        "    Account a(\"123-56789-123\", \"홍길동\", \"0070\", 90000); a.print_balance();\n",
        "    a.deposit(5000); a.print_balance();\n",
        "    a.withdrawal(2000); a.print_balance();\n",
        "    return 0;\n",
        "}\n",
        "```\n",
        "\n",
        "```c\n",
        "#include <stdio.h>\n",
        "#include <string.h>\n",
        "\n",
        "struct Account\n",
        "{\n",
        "    char accId[14];     // 계좌번호 13자리\n",
        "    char name[20];\n",
        "    char pw[5];         // 비밀번호 4자리\n",
        "    long long balance;  // 잔액\n",
        "};\n",
        "\n",
        "void deposit(struct Account* ref, long long increase) { ref->balance += increase; }\n",
        "void withdrawal(struct Account* ref, long long decrease) { ref->balance -= decrease; }\n",
        "void print_balance(const struct Account* ref)\n",
        "{\n",
        "    printf(\"%s고객님의 현재 잔액은 %lld원 입니다.\\n\", ref->name, ref->balance);\n",
        "}\n",
        "\n",
        "int main()\n",
        "{\n",
        "    struct Account a = {\"123-56789-123\", \"홍길동\", \"0070\", 90000};\n",
        "    print_balance(&a);\n",
        "    deposit(&a, 5000);\n",
        "    print_balance(&a);\n",
        "    withdrawal(&a, 2000);\n",
        "    print_balance(&a);\n",
        "    \n",
        "    return 0;\n",
        "}\n",
        "```"
      ],
      "metadata": {
        "id": "x1rz9ZXNPPPy"
      }
    },
    {
      "cell_type": "markdown",
      "source": [
        "#####**Dummy [src|](https://cafe.naver.com/honeyc?iframe_url_utf8=%2FArticleRead.nhn%253Fclubid%3D11957566%2526page%3D1%2526menuid%3D117%2526boardtype%3DL%2526articleid%3D80452%2526referrerAllArticles%3Dfalse)**"
      ],
      "metadata": {
        "id": "22i-Kt4Rh_bO"
      }
    },
    {
      "cell_type": "markdown",
      "source": [
        "```python\n",
        "class Dummy:\n",
        "    def __init__(self, a=0, b=0):\n",
        "        self.mA = a\n",
        "        self.mB = b\n",
        "\n",
        "def main():\n",
        "    d1, d2, d3, d4 = Dummy(), Dummy(100, 200), Dummy(), Dummy(5)\n",
        "\n",
        "if __name__ == \"__main__\":\n",
        "    main()\n",
        "```\n",
        "\n",
        "```cpp\n",
        "#include <iostream>\n",
        "\n",
        "class Dummy\n",
        "{\n",
        "public:\n",
        "    Dummy() {mA = 0; mB = 0;}\n",
        "    Dummy(int a) {mA = a; mB = 0;}\n",
        "    Dummy(int a, int b) {mA = a; mB = b;}\n",
        "private:\n",
        "    int mA, mB;\n",
        "};\n",
        "\n",
        "int main()\n",
        "{\n",
        "    Dummy d1, d2(100, 200), d3, d4(5);\n",
        "    return 0;\n",
        "}\n",
        "```"
      ],
      "metadata": {
        "id": "Fqa8eCPQh_bX"
      }
    },
    {
      "cell_type": "markdown",
      "source": [
        "#####**DoSomething [src|](https://cafe.naver.com/honeyc?iframe_url_utf8=%2FArticleRead.nhn%253Fclubid%3D11957566%2526page%3D1%2526menuid%3D117%2526boardtype%3DL%2526articleid%3D80452%2526referrerAllArticles%3Dfalse)**"
      ],
      "metadata": {
        "id": "R7cURWYEnPFU"
      }
    },
    {
      "cell_type": "markdown",
      "source": [
        "```python\n",
        "class DoSomething:\n",
        "    def __init__(self, *args):\n",
        "        if len(args) == 0:\n",
        "            print(\"DoSomething()\")\n",
        "        elif len(args) == 2 and isinstance(args[0], float) and isinstance(args[1], str):\n",
        "            print(\"DoSomething(double d, char c)\")\n",
        "        elif len(args) == 4 and all(isinstance(arg, int) for arg in args):\n",
        "            print(\"DoSomething(int a, int b, int c, int d)\")\n",
        "        elif len(args) == 1 and isinstance(args[0], str):\n",
        "            print(\"DoSomething(const char* str)\")\n",
        "\n",
        "def main():\n",
        "    s1, s2, s3, s4, s5 = DoSomething(), DoSomething(), DoSomething(3.14, 'R'), DoSomething(1, 2, 3, 4), DoSomething(\"Happy birthday\")\n",
        "\n",
        "if __name__ == \"__main__\":\n",
        "    main()\n",
        "```\n",
        "\n",
        "```cpp\n",
        "#include <iostream>\n",
        "\n",
        "class DoSomething\n",
        "{\n",
        "public:\n",
        "    DoSomething()\n",
        "    {std::cout << \"DoSomething()\\n\";}\n",
        "    DoSomething(double d, char c)\n",
        "    {std::cout << \"DoSomething(double d, char c)\\n\";}\n",
        "    DoSomething(int a, int b, int c, int d)\n",
        "    {std::cout << \"DoSomething(int a, int b, int c, int d)\\n\";}\n",
        "    DoSomething(const char* str)\n",
        "    {std::cout << \"DoSomething(const char* str)\\n\";}\n",
        "};\n",
        "\n",
        "int main()\n",
        "{\n",
        "    DoSomething s1, s2, s3(3.14, 'R'), s4(1, 2, 3, 4), s5(\"Happy birthday\");\n",
        "    return 0;\n",
        "}\n",
        "```"
      ],
      "metadata": {
        "id": "w0gKs_F7nPFd"
      }
    },
    {
      "cell_type": "markdown",
      "source": [
        "#####**DoNothing [src|](https://cafe.naver.com/honeyc?iframe_url_utf8=%2FArticleRead.nhn%253Fclubid%3D11957566%2526page%3D1%2526menuid%3D117%2526boardtype%3DL%2526articleid%3D80452%2526referrerAllArticles%3Dfalse)**"
      ],
      "metadata": {
        "id": "-xZjbVprnPOI"
      }
    },
    {
      "cell_type": "markdown",
      "source": [
        "```python\n",
        "class DoNothing:\n",
        "    def __init__(self, *args):\n",
        "        if len(args) == 3 and all(isinstance(arg, (int, str)) for arg in args):\n",
        "            print(\"DoNothing(int a, int b, char c)\")\n",
        "        elif len(args) == 2 and all(isinstance(arg, str) for arg in args):\n",
        "            print(\"DoNothing(const char* str1, const char* str2)\")\n",
        "        elif len(args) == 3 and isinstance(args[0], str) and isinstance(args[1], int) and isinstance(args[2], float):\n",
        "            print(\"DoNothing(const char* str, int a, double d)\")\n",
        "\n",
        "def main():\n",
        "    n1, n2, n3 = DoNothing(3, 4, 'Q'), DoNothing(\"orange\", \"apple\"), DoNothing(\"banana\", 8, 3.7)\n",
        "\n",
        "if __name__ == \"__main__\":\n",
        "    main()\n",
        "```\n",
        "\n",
        "```cpp\n",
        "#include <iostream>\n",
        "\n",
        "class DoNothing\n",
        "{\n",
        "public:\n",
        "    DoNothing(int a, int b, char c)\n",
        "    {std::cout << \"DoNothing(int a, int b, char c)\\n\";}\n",
        "    DoNothing(const char* str1, const char* str2)\n",
        "    {std::cout << \"DoNothing(const char* str1, const char* str2)\\n\";}\n",
        "    DoNothing(const char* str, int a, double d)\n",
        "    {std::cout << \"DoNothing(const char* str, int a, double d)\\n\";}\n",
        "};\n",
        "\n",
        "int main()\n",
        "{\n",
        "    DoNothing n1(3, 4, 'Q'), n2(\"orange\", \"apple\"), n3(\"banana\", 8, 3.7);\n",
        "    return 0;\n",
        "}\n",
        "```"
      ],
      "metadata": {
        "id": "Ke6j0d50nPOI"
      }
    },
    {
      "cell_type": "markdown",
      "source": [
        "#####**Point [src|](https://cafe.naver.com/honeyc?iframe_url_utf8=%2FArticleRead.nhn%253Fclubid%3D11957566%2526page%3D1%2526menuid%3D117%2526boardtype%3DL%2526articleid%3D80452%2526referrerAllArticles%3Dfalse)**"
      ],
      "metadata": {
        "id": "esZn-rUsoPZH"
      }
    },
    {
      "cell_type": "markdown",
      "source": [
        "```python\n",
        "class Point:\n",
        "    def __init__(self, x=0, y=0):\n",
        "        self.mX = max(0, x)\n",
        "        self.mY = max(0, y)\n",
        "\n",
        "    def GetX(self):\n",
        "        return self.mX\n",
        "\n",
        "    def GetY(self):\n",
        "        return self.mY\n",
        "\n",
        "    def SetX(self, x):\n",
        "        self.mX = max(0, x)\n",
        "\n",
        "    def SetY(self, y):\n",
        "        self.mY = max(0, y)\n",
        "\n",
        "if __name__ == \"__main__\":\n",
        "    p1 = Point()\n",
        "    p2 = Point(10, 20)\n",
        "    p3 = Point(40, 50)\n",
        "    p4 = Point(-45, 99)\n",
        "\n",
        "    print(f\"p1({p1.GetX()}, {p1.GetY()})\")\n",
        "    print(f\"p2({p2.GetX()}, {p2.GetY()})\")\n",
        "    print(f\"p3({p3.GetX()}, {p3.GetY()})\")\n",
        "    print(f\"p4({p4.GetX()}, {p4.GetY()})\")\n",
        "\n",
        "    p4.SetX(100)\n",
        "\n",
        "    print(f\"p4({p4.GetX()}, {p4.GetY()})\")\n",
        "```\n",
        "\n",
        "```cpp\n",
        "#include <iostream>\n",
        "\n",
        "class Point\n",
        " {\n",
        "public:\n",
        "    Point() {mX = 0; mY = 0;}\n",
        "    Point(int x, int y)\n",
        "    {\n",
        "        if (x >= 0) mX = x; else mX = 0;\n",
        "        if (y >= 0) mY = y; else mY = 0;\n",
        "    }\n",
        "    int GetX() {return mX;}\n",
        "    int GetY() {return mY;}\n",
        "    void SetX(int x) {if (x >= 0) mX = x; else mX = 0;}\n",
        "    void SetY(int y) {if (y >= 0) mY = y; else mY = 0;}\n",
        "private:\n",
        "    int mX, mY;\n",
        "};\n",
        "\n",
        "int main()\n",
        "{\n",
        "    Point p1, p2(10, 20), p3(40, 50), p4(-45, 99);\n",
        "\n",
        "    std::cout << \"p1(\" << p1.GetX() << \", \" << p1.GetY() << \")\\n\";\n",
        "    std::cout << \"p2(\" << p2.GetX() << \", \" << p2.GetY() << \")\\n\";\n",
        "    std::cout << \"p3(\" << p3.GetX() << \", \" << p3.GetY() << \")\\n\";\n",
        "    std::cout << \"p4(\" << p4.GetX() << \", \" << p4.GetY() << \")\\n\";\n",
        "\n",
        "    p4.SetX(100);\n",
        "\n",
        "    std::cout << \"p4(\" << p4.GetX() << \", \" << p4.GetY() << \")\\n\";\n",
        "\n",
        "    return 0;\n",
        "}\n",
        "```"
      ],
      "metadata": {
        "id": "zsbL21sAoPZR"
      }
    },
    {
      "cell_type": "markdown",
      "source": [
        "#####**RGB [src|](https://cafe.naver.com/honeyc?iframe_url_utf8=%2FArticleRead.nhn%253Fclubid%3D11957566%2526page%3D1%2526menuid%3D117%2526boardtype%3DL%2526articleid%3D80452%2526referrerAllArticles%3Dfalse)**"
      ],
      "metadata": {
        "id": "UvBcLmXkrZXY"
      }
    },
    {
      "cell_type": "markdown",
      "source": [
        "```python\n",
        "class RGB:\n",
        "    def __init__(self, red=255, green=255, blue=255):\n",
        "        self.mRed = self.mGreen = self.mBlue = 255\n",
        "        self.SetRed(red)\n",
        "        self.SetGreen(green)\n",
        "        self.SetBlue(blue)\n",
        "\n",
        "    def GetRed(self):\n",
        "        return self.mRed\n",
        "\n",
        "    def GetGreen(self):\n",
        "        return self.mGreen\n",
        "\n",
        "    def GetBlue(self):\n",
        "        return self.mBlue\n",
        "\n",
        "    def SetRed(self, red):\n",
        "        self.mRed = min(max(red, 0), 255)\n",
        "\n",
        "    def SetGreen(self, green):\n",
        "        self.mGreen = min(max(green, 0), 255)\n",
        "\n",
        "    def SetBlue(self, blue):\n",
        "        self.mBlue = min(max(blue, 0), 255)\n",
        "\n",
        "def main():\n",
        "    r1 = RGB()\n",
        "    r2 = RGB(255, 34, 29)\n",
        "    r3 = RGB(-45, 78, 1234)\n",
        "\n",
        "    print(f\"rgb1({r1.GetRed()}, {r1.GetGreen()}, {r1.GetBlue()})\")\n",
        "    print(f\"rgb2({r2.GetRed()}, {r2.GetGreen()}, {r2.GetBlue()})\")\n",
        "    print(f\"rgb3({r3.GetRed()}, {r3.GetGreen()}, {r3.GetBlue()})\")\n",
        "\n",
        "    r3.SetRed(23)\n",
        "    r3.SetGreen(100)\n",
        "    r3.SetBlue(12)\n",
        "\n",
        "    print(f\"rgb3({r3.GetRed()}, {r3.GetGreen()}, {r3.GetBlue()})\")\n",
        "\n",
        "if __name__ == \"__main__\":\n",
        "    main()\n",
        "\n",
        "```\n",
        "\n",
        "```cpp\n",
        "#include <iostream>\n",
        "#include <algorithm>\n",
        "\n",
        "#define MINMAX(x) std::min(std::max(x,0),255)\n",
        "\n",
        "class RGB\n",
        "{\n",
        "public:\n",
        "    RGB() {mRed = mGreen = mBlue = 255;}\n",
        "    RGB(int red, int green, int blue)\n",
        "    {mRed = MINMAX(red); mGreen = MINMAX(green); mBlue = MINMAX(blue);}\n",
        "    int GetRed() { return mRed; }\n",
        "    int GetGreen() { return mGreen; }\n",
        "    int GetBlue() { return mBlue; }\n",
        "    void SetRed(int red) {mRed = MINMAX(red);}\n",
        "    void SetGreen(int green) {mGreen = MINMAX(green);}\n",
        "    void SetBlue(int blue) {mBlue = MINMAX(blue);}\n",
        "private:\n",
        "    int mRed, mGreen, mBlue;\n",
        "};\n",
        "\n",
        "int main()\n",
        "{\n",
        "    RGB r1, r2(255, 34, 29), r3(-45, 78, 1234);\n",
        "\n",
        "    std::cout << \"rgb1(\" << r1.GetRed() << \", \" << r1.GetGreen() << \", \" << r1.GetBlue() << \")\\n\";\n",
        "    std::cout << \"rgb2(\" << r2.GetRed() << \", \" << r2.GetGreen() << \", \" << r2.GetBlue() << \")\\n\";\n",
        "    std::cout << \"rgb3(\" << r3.GetRed() << \", \" << r3.GetGreen() << \", \" << r3.GetBlue() << \")\\n\";\n",
        "\n",
        "    r3.SetRed(23);\n",
        "    r3.SetGreen(100);\n",
        "    r3.SetBlue(12);\n",
        "\n",
        "    std::cout << \"rgb3(\" << r3.GetRed() << \", \" << r3.GetGreen() << \", \" << r3.GetBlue() << \")\\n\";\n",
        "\n",
        "    return 0;\n",
        "}\n",
        "```"
      ],
      "metadata": {
        "id": "xsKV6tLdrZXi"
      }
    },
    {
      "cell_type": "markdown",
      "source": [
        "#####**StudentInfo [src|](https://cafe.naver.com/honeyc?iframe_url_utf8=%2FArticleRead.nhn%253Fclubid%3D11957566%2526page%3D1%2526menuid%3D117%2526boardtype%3DL%2526articleid%3D80452%2526referrerAllArticles%3Dfalse)**"
      ],
      "metadata": {
        "id": "ifN8Dla9vPg3"
      }
    },
    {
      "cell_type": "markdown",
      "source": [
        "```python\n",
        "NO_LEN = 14\n",
        "MAJOR_LEN = 50\n",
        "NAME_LEN = 20\n",
        "PHONE_LEN = 20\n",
        "\n",
        "def truncated_strcpy(s, LEN):\n",
        "    if len(s) < LEN:\n",
        "        return s\n",
        "    else:\n",
        "        return s[:LEN - 1]\n",
        "\n",
        "class StudentInfo:\n",
        "    def __init__(self, no=\"\", major=\"\", name=\"\", phone=\"\"):\n",
        "        self.mNo = truncated_strcpy(no, NO_LEN)\n",
        "        self.mMajor = truncated_strcpy(major, MAJOR_LEN)\n",
        "        self.mName = truncated_strcpy(name, NAME_LEN)\n",
        "        self.mPhone = truncated_strcpy(phone, PHONE_LEN)\n",
        "\n",
        "    def GetNo(self):\n",
        "        return self.mNo\n",
        "\n",
        "    def GetMajor(self):\n",
        "        return self.mMajor\n",
        "\n",
        "    def GetName(self):\n",
        "        return self.mName\n",
        "\n",
        "    def GetPhone(self):\n",
        "        return self.mPhone\n",
        "\n",
        "    def ShowStudentInfo(self):\n",
        "        print(\"Id Number : \" + self.mNo)\n",
        "        print(\"Major     : \" + self.mMajor)\n",
        "        print(\"Name      : \" + self.mName)\n",
        "        print(\"Phone     : \" + self.mPhone)\n",
        "\n",
        "    def SetNo(self, no):\n",
        "        self.mNo = truncated_strcpy(no, NO_LEN)\n",
        "\n",
        "    def SetMajor(self, major):\n",
        "        self.mMajor = truncated_strcpy(major, MAJOR_LEN)\n",
        "\n",
        "    def SetName(self, name):\n",
        "        self.mName = truncated_strcpy(name, NAME_LEN)\n",
        "\n",
        "    def SetPhone(self, phone):\n",
        "        self.mPhone = truncated_strcpy(phone, PHONE_LEN)\n",
        "\n",
        "def main():\n",
        "    s1 = StudentInfo(\"123-56789-123\", \"컴퓨터과학과\", \"홍길동\", \"010-888-9999\")\n",
        "    s2 = StudentInfo(\"123-56789-124\", \"컴퓨터과학과\",\n",
        "                     \"Josepjus Adolphus Americus Vespucius Leonidus Wolsicanicus\",\n",
        "                     \"010-222-7777\")\n",
        "\n",
        "    print(\"\\ns1 학생 정보\\n\")\n",
        "    s1.ShowStudentInfo()\n",
        "    print(\"\\ns2 학생 정보\\n\")\n",
        "    s2.ShowStudentInfo()\n",
        "\n",
        "    s2.SetMajor(\"통계학과\")\n",
        "    print(\"변경 된 s2 학생의 학과는 [\" + s2.GetMajor() + \"]입니다.\\n\")\n",
        "\n",
        "if __name__ == \"__main__\":\n",
        "    main()\n",
        "```\n",
        "\n",
        "```cpp\n",
        "#include <iostream>\n",
        "\n",
        "#define NO_LEN      14 //학번 13자리\n",
        "#define MAJOR_LEN   50\n",
        "#define NAME_LEN    20 //한글 9글자, 영문 19글자\n",
        "#define PHONE_LEN   20\n",
        "\n",
        "void truncated_strcpy(char* arr, const char* s, int LEN)\n",
        "{\n",
        "    if (strlen(s) < LEN) //전달받은 문자열의 길이 < 배열의 크기\n",
        "        strcpy(arr, s); //널문자까지 복사\n",
        "    else\n",
        "    {\n",
        "        strncpy(arr, s, LEN - 1); //널문자가 포함되지 않는다.\n",
        "        arr[LEN - 1] = '\\0'; //맨 뒤에 널문자 추가\n",
        "    }\n",
        "}\n",
        "\n",
        "class StudentInfo\n",
        "{\n",
        "public:\n",
        "    StudentInfo()\n",
        "    {\n",
        "        strcpy(mNo, \"\");\n",
        "        strcpy(mMajor, \"\");\n",
        "        strcpy(mName, \"\");\n",
        "        strcpy(mPhone, \"\");\n",
        "    }\n",
        "    StudentInfo(const char* no, const char* major, const char*  name, const char* phone)\n",
        "    {\n",
        "        truncated_strcpy(mNo, no, NO_LEN);\n",
        "        truncated_strcpy(mMajor, major, MAJOR_LEN);\n",
        "        truncated_strcpy(mName, name, NAME_LEN);\n",
        "        truncated_strcpy(mPhone, phone, PHONE_LEN);\n",
        "    }\n",
        "    char* GetNo() {return mNo;}\n",
        "    char* GetMajor() {return mMajor;}\n",
        "    char* GetName() {return mName;}\n",
        "    char* GetPhone() {return mPhone;}\n",
        "    void ShowStudentInfo()\n",
        "    {\n",
        "        std::cout << \"Id Number : \" << mNo << std::endl;\n",
        "        std::cout << \"Major     : \" << mMajor << std::endl;\n",
        "        std::cout << \"Name      : \" << mName << std::endl;\n",
        "        std::cout << \"Phone     : \" << mPhone << std::endl;\n",
        "    }\n",
        "    void SetNo(const char* no)\n",
        "    {truncated_strcpy(mNo, no, NO_LEN);}\n",
        "    void SetMajor(const char* major)\n",
        "    {truncated_strcpy(mMajor, major, MAJOR_LEN);}\n",
        "    void SetName(const char* name)\n",
        "    {truncated_strcpy(mName, name, NAME_LEN);}\n",
        "    void SetPhone(const char* phone)\n",
        "    {truncated_strcpy(mPhone, phone, PHONE_LEN);}\n",
        "private:\n",
        "    char mNo[NO_LEN];\n",
        "    char mMajor[MAJOR_LEN];\n",
        "    char mName[NAME_LEN];\n",
        "    char mPhone[PHONE_LEN];\n",
        "};\n",
        "\n",
        "int main()\n",
        "{\n",
        "    StudentInfo s1(\"123-56789-123\", \"컴퓨터과학과\", \"홍길동\", \"010-888-9999\");\n",
        "    StudentInfo s2(\"123-56789-124\", \"컴퓨터과학과\", \\\n",
        "                   \"Josepjus Adolphus Americus Vespucius Leonidus Wolsicanicus\", \\\n",
        "                   \"010-222-7777\");\n",
        "\n",
        "    std::cout << \"\\ns1 학생 정보\\n\";\n",
        "    s1.ShowStudentInfo();\n",
        "    std::cout << \"\\ns2 학생 정보\\n\";\n",
        "    s2.ShowStudentInfo();\n",
        "\n",
        "    s2.SetMajor(\"통계학과\");\n",
        "    std::cout << \"변경 된 s2 학생의 학과는 [\" << s2.GetMajor() << \"]입니다.\\n\";\n",
        "\n",
        "    return 0;\n",
        "}\n",
        "```"
      ],
      "metadata": {
        "id": "S85O1zLMvPhB"
      }
    },
    {
      "cell_type": "markdown",
      "source": [
        "####**Section 2 Initialization List Constructor**"
      ],
      "metadata": {
        "id": "sOqGIcNE024t"
      }
    },
    {
      "cell_type": "markdown",
      "source": [
        "#####**Point [eng|](https://www.youtube.com/watch?v=vjAJ4ESX1Jc&list=PLvv0ScY6vfd8j-tlhYVPYgiIyXduu6m-L&index=43&ab_channel=MikeShah)**"
      ],
      "metadata": {
        "id": "W9U8Nhsw1y6H"
      }
    },
    {
      "cell_type": "markdown",
      "source": [
        "```python\n",
        "class Point:\n",
        "    def __init__(self, x=0.0, y=0.0):\n",
        "        self.x = x\n",
        "        self.y = y\n",
        "\n",
        "    def get_x(self):\n",
        "        return self.x\n",
        "\n",
        "    def get_y(self):\n",
        "        return self.y\n",
        "\n",
        "    def __str__(self):\n",
        "        return f\"{self.get_x()}, {self.get_y()}\"\n",
        "\n",
        "def main():\n",
        "    p1 = Point()\n",
        "    print(p1)\n",
        "\n",
        "    p2 = Point(10.0, 20.0)\n",
        "    print(p2)\n",
        "\n",
        "if __name__ == \"__main__\":\n",
        "    main()\n",
        "```\n",
        "\n",
        "```cpp\n",
        "#include <iostream>\n",
        "\n",
        "class Point {\n",
        "public:\n",
        "    Point() : x(0.0f), y(0.0f) {}\n",
        "    Point(float x, float y) : x(x), y(y)\n",
        "    {}\n",
        "    float get_x() const { return x; }\n",
        "    float get_y() const { return y; }\n",
        "private:\n",
        "    float x, y;\n",
        "};\n",
        "\n",
        "std::ostream& operator<<(std::ostream& os, const Point& obj)\n",
        "{\n",
        "    os << obj.get_x() << \", \" << obj.get_y();\n",
        "    return os;\n",
        "}\n",
        "\n",
        "int main()\n",
        "{\n",
        "    Point p1;\n",
        "    std::cout << p1 << std::endl;\n",
        "\n",
        "    Point p2(10.0f, 20.0f);\n",
        "    std::cout << p2 << std::endl;\n",
        "\n",
        "    return 0;\n",
        "}\n",
        "```"
      ],
      "metadata": {
        "id": "GAHI_8Ly1y6R"
      }
    },
    {
      "cell_type": "markdown",
      "source": [
        "####**Section 3 Explicit Constructor**"
      ],
      "metadata": {
        "id": "XjQMkipU-wJK"
      }
    },
    {
      "cell_type": "markdown",
      "source": [
        "#####**Point [eng](https://www.youtube.com/watch?v=u-q7A9Y02lw&list=PLvv0ScY6vfd8j-tlhYVPYgiIyXduu6m-L&index=48&ab_channel=MikeShah)**"
      ],
      "metadata": {
        "id": "1Fnd8G8D-wJU"
      }
    },
    {
      "cell_type": "markdown",
      "source": [
        "\n",
        "\n",
        "```cpp\n",
        "#include <iostream>\n",
        "\n",
        "class Point {\n",
        "public:\n",
        "    Point() : x(0) {}\n",
        "    Point(int x) : x(x) {}\n",
        "    int get_x() const { return x; }\n",
        "private:\n",
        "    int x;\n",
        "};\n",
        "\n",
        "std::ostream& operator<<(std::ostream& os, const Point& obj)\n",
        "{\n",
        "    os << obj.get_x();\n",
        "    return os;\n",
        "}\n",
        "\n",
        "int main()\n",
        "{\n",
        "    Point p1;\n",
        "    std::cout << p1 << std::endl;\n",
        "\n",
        "    Point p2{10};\n",
        "    std::cout << p2 << std::endl;\n",
        "\n",
        "    Point p3{10.123};\n",
        "    std::cout << p3 << std::endl;\n",
        "    // error: type 'double' cannot be narrowed to 'int' in initializer list\n",
        "\n",
        "    Point p4(10.123);\n",
        "    std::cout << p4 << std::endl;\n",
        "    // warning: implicit conversion from 'double' to 'int' changes value from 10.123 to 10\n",
        "\n",
        "    Point p5 = 10.123;\n",
        "    std::cout << p5 << std::endl;\n",
        "    // warning: implicit conversion from 'double' to 'int' changes value from 10.123 to 10\n",
        "\n",
        "    return 0;\n",
        "}\n",
        "```\n",
        "\n",
        "\n",
        "\n",
        "```cpp\n",
        "#include <iostream>\n",
        "\n",
        "class Point {\n",
        "public:\n",
        "    Point() : x(0) {}\n",
        "    explicit Point(int x) : x(x) {}\n",
        "    /* You can use the explicit keyword to specify that\n",
        "    a constructor should not participate in implicit type conversions.\n",
        "    This is often used to prevent unintended conversions. */\n",
        "    int get_x() const { return x; }\n",
        "private:\n",
        "    int x;\n",
        "};\n",
        "\n",
        "std::ostream& operator<<(std::ostream& os, const Point& obj)\n",
        "{\n",
        "    os << obj.get_x();\n",
        "    return os;\n",
        "}\n",
        "\n",
        "int main()\n",
        "{\n",
        "    Point p1;\n",
        "    std::cout << p1 << std::endl;\n",
        "\n",
        "    Point p2{10};\n",
        "    std::cout << p2 << std::endl;\n",
        "\n",
        "    /*\n",
        "    Point p3{10.123}; // implicit conversion prohibitted\n",
        "    std::cout << p3 << std::endl;\n",
        "    // error: type 'double' cannot be narrowed to 'int' in initializer list\n",
        "\n",
        "    Point p4(10.123); // implicit conversion allowed\n",
        "    std::cout << p4 << std::endl;\n",
        "    // warning: implicit conversion from 'double' to 'int' changes value from 10.123 to 10\n",
        "\n",
        "    Point p5 = 10.123; // copy constructor not implemented\n",
        "    std::cout << p5 << std::endl;\n",
        "    // error: no viable conversion from 'double' to 'Point'\n",
        "    */\n",
        "\n",
        "    return 0;\n",
        "}\n",
        "```\n",
        "\n"
      ],
      "metadata": {
        "id": "92ETCqkq-wJU"
      }
    },
    {
      "cell_type": "markdown",
      "source": [
        "####**Section 4 Deleted Constructor**"
      ],
      "metadata": {
        "id": "eSIXK4C8_wn4"
      }
    },
    {
      "cell_type": "markdown",
      "source": [
        "#####**Point**"
      ],
      "metadata": {
        "id": "M4U62x_M_woC"
      }
    },
    {
      "cell_type": "markdown",
      "source": [
        "\n",
        "\n",
        "```cpp\n",
        "#include <iostream>\n",
        "\n",
        "class Point {\n",
        "public:\n",
        "    Point() = delete;\n",
        "    /* You can use the delete keyword to prevent certain constructors\n",
        "    from being used. This is useful to restrict specific constructor calls. */\n",
        "    Point(float x, float y) : x(x), y(y)\n",
        "    {}\n",
        "    float get_x() const { return x; }\n",
        "    float get_y() const { return y; }\n",
        "private:\n",
        "    float x, y;\n",
        "};\n",
        "\n",
        "std::ostream& operator<<(std::ostream& os, const Point& obj)\n",
        "{\n",
        "    os << obj.get_x() << \", \" << obj.get_y();\n",
        "    return os;\n",
        "}\n",
        "\n",
        "int main()\n",
        "{\n",
        "    /*\n",
        "    Point p1; // error: call to deleted constructor of 'Point'\n",
        "    std::cout << p1 << std::endl;\n",
        "    */\n",
        "\n",
        "    Point p2(10.0f, 20.0f);\n",
        "    std::cout << p2 << std::endl;\n",
        "\n",
        "    return 0;\n",
        "}\n",
        "```"
      ],
      "metadata": {
        "id": "rpZIY_A9_woC"
      }
    },
    {
      "cell_type": "markdown",
      "source": [
        "###**Chapter 2 Copy Constructor**"
      ],
      "metadata": {
        "id": "SLovVcH3i-Yv"
      }
    },
    {
      "cell_type": "markdown",
      "source": [
        "#####**Point [src|](https://cafe.naver.com/honeyc?iframe_url_utf8=%2FArticleRead.nhn%253FreferrerAllArticles%3Dfalse%2526menuid%3D117%2526page%3D1%2526boardtype%3DL%2526clubid%3D11957566%2526articleid%3D80465)**"
      ],
      "metadata": {
        "id": "dxs9ZTz7lBVG"
      }
    },
    {
      "cell_type": "markdown",
      "source": [
        "```python\n",
        "class Point:\n",
        "    def __init__(self, x=0, y=0):\n",
        "        self.mX = x\n",
        "        self.mY = y\n",
        "\n",
        "    def GetX(self):\n",
        "        return self.mX\n",
        "\n",
        "    def GetY(self):\n",
        "        return self.mY\n",
        "\n",
        "def main():\n",
        "    p1 = Point()\n",
        "    p2 = Point(2, 3)\n",
        "    p3 = p2  # Copy constructor\n",
        "\n",
        "    print(f\"p1({p1.GetX()}, {p1.GetY()})\")\n",
        "    print(f\"p2({p2.GetX()}, {p2.GetY()})\")\n",
        "    print(f\"p3({p3.GetX()}, {p3.GetY()})\")\n",
        "\n",
        "if __name__ == \"__main__\":\n",
        "    main()\n",
        "```\n",
        "\n",
        "```cpp\n",
        "#include <iostream>\n",
        "\n",
        "class Point\n",
        "{\n",
        "public:\n",
        "    Point() : mX(0), mY(0) {}\n",
        "    Point(int x, int y) : mX(x), mY(y) {}\n",
        "    Point(const Point& ref) : mX(ref.mX), mY(ref.mY) {} // copy constructor\n",
        "    int GetX() const {return mX;}\n",
        "    int GetY() const {return mY;}\n",
        "private:\n",
        "    int mX, mY;\n",
        "};\n",
        "\n",
        "int main() {\n",
        "    Point p1;\n",
        "    Point p2(2, 3);\n",
        "    Point p3 = p2; // copy constructor\n",
        "\n",
        "    std::cout << \"p1(\" << p1.GetX() << \", \" << p1.GetY() << \")\\n\";\n",
        "    std::cout << \"p2(\" << p2.GetX() << \", \" << p2.GetY() << \")\\n\";\n",
        "    std::cout << \"p3(\" << p3.GetX() << \", \" << p3.GetY() << \")\\n\";\n",
        "    return 0;\n",
        "}\n",
        "```"
      ],
      "metadata": {
        "id": "quePavmllBVQ"
      }
    },
    {
      "cell_type": "markdown",
      "source": [
        "#####**String [src|](https://cafe.naver.com/honeyc?iframe_url_utf8=%2FArticleRead.nhn%253FreferrerAllArticles%3Dfalse%2526menuid%3D117%2526page%3D1%2526boardtype%3DL%2526clubid%3D11957566%2526articleid%3D80465)**"
      ],
      "metadata": {
        "id": "SUkvQj4pqB0v"
      }
    },
    {
      "cell_type": "markdown",
      "source": [
        "```python\n",
        "class String:\n",
        "    def __init__(self):\n",
        "        self.mStr = None\n",
        "        self.mLength = 0\n",
        "\n",
        "    def set_string(self, s):\n",
        "        self.clear()\n",
        "        self.copy_from(s)\n",
        "\n",
        "    def copy_from(self, s):\n",
        "        self.mLength = len(s)\n",
        "        self.mStr = s\n",
        "\n",
        "    def clear(self):\n",
        "        self.mStr = None\n",
        "        self.mLength = 0\n",
        "\n",
        "    def get_string(self):\n",
        "        return self.mStr\n",
        "\n",
        "def main():\n",
        "    s1 = String()\n",
        "    s1.set_string(\"Hello\")\n",
        "\n",
        "    s2 = String()\n",
        "    s2.set_string(\"Time and tide wait for no man\")\n",
        "\n",
        "    s3 = String()\n",
        "    s3.copy_from(s1.get_string())\n",
        "\n",
        "    print(\"s1 =\", s1.get_string())\n",
        "    print(\"s2 =\", s2.get_string())\n",
        "    print(\"s3 =\", s3.get_string())\n",
        "\n",
        "    s3.set_string(\"Hello World\")\n",
        "\n",
        "    print(\"s3 =\", s3.get_string())\n",
        "\n",
        "if __name__ == \"__main__\":\n",
        "    main()\n",
        "```\n",
        "\n",
        "```cpp\n",
        "#include <iostream>\n",
        "#include <cstring> // Include the cstring header for strlen and strcpy\n",
        "\n",
        "class String\n",
        "{\n",
        "public:\n",
        "    String() : mStr(nullptr), mLength(0) {}\n",
        "    String(const char* s) : mStr(nullptr), mLength(0) {setString(s);}\n",
        "    String(const String& ref) : mStr(nullptr), mLength(0) {copyFrom(ref);}\n",
        "    ~String() {clear();}\n",
        "    const char* getString() const {return mStr;}\n",
        "    void setString(const char* s) {clear(); copyFrom(s);}\n",
        "private:\n",
        "    char* mStr;\n",
        "    int mLength;\n",
        "    void clear() {delete[] mStr; mStr = nullptr; mLength = 0;}\n",
        "    void copyFrom(const char* s) // deep copy\n",
        "    {\n",
        "        mLength = strlen(s);\n",
        "        mStr = new char[mLength + 1];\n",
        "        strcpy(mStr, s);\n",
        "    }\n",
        "    void copyFrom(const String& ref) {copyFrom(ref.mStr);}\n",
        "};\n",
        "\n",
        "int main() {\n",
        "    String s1 = \"Hello\";\n",
        "    String s2 = \"Time and tide wait for no man\";\n",
        "    String s3 = s1;\n",
        "\n",
        "    std::cout << \"s1 = \" << s1.getString() << std::endl;\n",
        "    std::cout << \"s2 = \" << s2.getString() << std::endl;\n",
        "    std::cout << \"s3 = \" << s3.getString() << std::endl;\n",
        "\n",
        "    s3.setString(\"Hello World\");\n",
        "\n",
        "    std::cout << \"s3 = \" << s3.getString() << std::endl;\n",
        "\n",
        "    return 0;\n",
        "}\n",
        "```"
      ],
      "metadata": {
        "id": "meTXnjxvqB04"
      }
    },
    {
      "cell_type": "markdown",
      "source": [
        "#####**Memo [src|](https://cafe.naver.com/honeyc?iframe_url_utf8=%2FArticleRead.nhn%253FreferrerAllArticles%3Dfalse%2526menuid%3D117%2526page%3D1%2526boardtype%3DL%2526clubid%3D11957566%2526articleid%3D80465)**"
      ],
      "metadata": {
        "id": "qYIPK9c4wo1P"
      }
    },
    {
      "cell_type": "markdown",
      "source": [
        "```python\n",
        "class Memo:\n",
        "    def __init__(self, memo, receiver, sender):\n",
        "        self.mMemo = memo\n",
        "        self.mReceiver = receiver\n",
        "        self.mSender = sender\n",
        "\n",
        "    def get_memo(self):\n",
        "        return self.mMemo\n",
        "\n",
        "    def get_receiver(self):\n",
        "        return self.mReceiver\n",
        "\n",
        "    def get_sender(self):\n",
        "        return self.mSender\n",
        "\n",
        "    def display_message(self):\n",
        "        print(f\"[{self.mSender}]님께서 [{self.mReceiver}]님께 보내신 메세지를 출력합니다.\")\n",
        "        print(f\"메세지 : {self.mMemo}\")\n",
        "\n",
        "\n",
        "def main():\n",
        "    m1 = Memo(\"오늘 날씨는 비가 온다네요.\", \"홍길동\", \"이순신\")  # 메모, 받는 이, 보내는 이\n",
        "    m1.display_message()\n",
        "\n",
        "    m2 = Memo(\"우산 챙기세요\", \"장보고\", \"유관순\")  # 메모, 받는 이, 보내는 이\n",
        "    m2.display_message()\n",
        "\n",
        "    m3 = Memo(m2.get_memo(), m2.get_receiver(), m2.get_sender())\n",
        "    m3.display_message()\n",
        "\n",
        "if __name__ == \"__main__\":\n",
        "    main()\n",
        "```\n",
        "\n",
        "```cpp\n",
        "#include <iostream>\n",
        "#include <string> // Include the string header\n",
        "\n",
        "class Memo\n",
        "{\n",
        "public:\n",
        "    Memo() = default;\n",
        "    Memo(const char* memo, const char* receiver, const char* sender)\n",
        "        : mMemo(memo), mReceiver(receiver), mSender(sender) {}\n",
        "    Memo(const Memo& ref)\n",
        "        : mMemo(ref.mMemo), mReceiver(ref.mReceiver), mSender(ref.mSender) {}\n",
        "  \n",
        "    const char* GetMemo() const {return mMemo.c_str();}\n",
        "    const char* GetReceiver() const {return mReceiver.c_str();}\n",
        "    const char* GetSender() const {return mSender.c_str();}\n",
        "\n",
        "    void DisplayMessage() const\n",
        "    {\n",
        "        std::cout << \"[\" << mSender << \"]님께서 [\" << mReceiver << \"]님께 보내신 메세지를 출력합니다.\";\n",
        "        std::cout << \"메세지 : \" << mMemo << std::endl;\n",
        "    }\n",
        "\n",
        "private:\n",
        "    std::string mMemo;\n",
        "    std::string mReceiver;\n",
        "    std::string mSender;\n",
        "};\n",
        "\n",
        "int main() {\n",
        "    Memo m1(\"오늘 날씨는 비가 온다네요.\", \"홍길동\", \"이순신\"); //메모, 받는 이, 보내는 이\n",
        "    m1.DisplayMessage();\n",
        "\n",
        "    Memo m2(\"우산 챙기세요\", \"장보고\", \"유관순\"); //메모, 받는 이, 보내는 이\n",
        "    m2.DisplayMessage();\n",
        "\n",
        "    Memo m3 = m2;\n",
        "    m3.DisplayMessage();\n",
        "\n",
        "    return 0;\n",
        "}\n",
        "```"
      ],
      "metadata": {
        "id": "ctw3Txfuwo1Z"
      }
    },
    {
      "cell_type": "markdown",
      "source": [
        "###**Chapter 4 Destructor**"
      ],
      "metadata": {
        "id": "9QV2B-4wyI-k"
      }
    },
    {
      "cell_type": "markdown",
      "source": [
        "#####**Dummy [src|](https://cafe.naver.com/honeyc?iframe_url_utf8=%2FArticleRead.nhn%253Fclubid%3D11957566%2526page%3D1%2526menuid%3D117%2526boardtype%3DL%2526articleid%3D80459%2526referrerAllArticles%3Dfalse)**"
      ],
      "metadata": {
        "id": "yXwH1IqS1Kp6"
      }
    },
    {
      "cell_type": "markdown",
      "source": [
        "```python\n",
        "class Dummy:\n",
        "    def __init__(self, a=0, b=0):\n",
        "        self.mA = a\n",
        "        self.mB = b\n",
        "        print(\"constructor 0\")\n",
        "\n",
        "    def __del__(self):\n",
        "        print(\"destructor\")\n",
        "\n",
        "def main():\n",
        "    d0 = Dummy()\n",
        "    d1 = Dummy(1)\n",
        "    d2 = Dummy(10, 100)\n",
        "    d3 = Dummy()\n",
        "\n",
        "if __name__ == \"__main__\":\n",
        "    main()\n",
        "\n",
        "```\n",
        "\n",
        "```cpp\n",
        "#include <iostream>\n",
        "\n",
        "class Dummy\n",
        "{\n",
        "public:\n",
        "    Dummy() : mA(0), mB(0) {std::cout << \"constructor 0\\n\";}\n",
        "    Dummy(int a) : mA(a), mB(0) {std::cout << \"constructor 1\\n\";}\n",
        "    Dummy(int x, int y) : Dummy(x) {mB = y;std::cout << \"constructor 2\\n\";}\n",
        "    ~Dummy() {std::cout << \"destructor\\n\";}\n",
        "private:\n",
        "    int mA, mB;\n",
        "};\n",
        "\n",
        "int main()\n",
        "{\n",
        "    Dummy d0;\n",
        "    {Dummy d1(1);}\n",
        "    Dummy d2(10, 100);\n",
        "    {Dummy d3;}\n",
        "    return 0;\n",
        "}\n",
        "```"
      ],
      "metadata": {
        "id": "ZWkqgRFP1KqC"
      }
    },
    {
      "cell_type": "markdown",
      "source": [
        "#####**Dynamic Integer Array [src|](https://cafe.naver.com/honeyc?iframe_url_utf8=%2FArticleRead.nhn%253Fclubid%3D11957566%2526page%3D1%2526menuid%3D117%2526boardtype%3DL%2526articleid%3D80459%2526referrerAllArticles%3Dfalse)**"
      ],
      "metadata": {
        "id": "AoN60sF34Zm5"
      }
    },
    {
      "cell_type": "markdown",
      "source": [
        "```cpp\n",
        "#include <iostream>\n",
        "\n",
        "class DynamicIntArray\n",
        "{\n",
        "public:\n",
        "    DynamicIntArray(int size) : mSize(size) {mArray = new int[size];}\n",
        "    ~DynamicIntArray() {delete[] mArray;}\n",
        "    int GetAt(int index);\n",
        "\tvoid SetAt(int index, int value)\n",
        "    {if (index >= 0 && index < mSize) mArray[index] = value;}\n",
        "private:\n",
        "\tint* mArray = nullptr; //동적 메모리의 주소를 저장\n",
        "\tint mSize = 0; //동적 메모리의 크기를 저장\n",
        "};\n",
        "\n",
        "int main()\n",
        "{\n",
        "\tint size;\n",
        "\tstd::cout << \"할당하고 싶은 크기 입력 : \";\n",
        "\tstd::cin >> size;\n",
        "\n",
        "\tDynamicIntArray d(size); //인스턴스 생성 인수 전달\n",
        "\n",
        "\td.SetAt(0, 5);\n",
        "\td.SetAt(1, 6);\n",
        "\td.SetAt(100, 7);\n",
        "\n",
        "\tstd::cout << \"배열의 첫 번째 값 : \" << d.GetAt(0) << std::endl;\n",
        "\tstd::cout << \"배열의 두 번째 값 : \" << d.GetAt(1) << std::endl;\n",
        "\n",
        "\treturn 0;\n",
        "}\n",
        "\n",
        "int DynamicIntArray::GetAt(int index)\n",
        "{\n",
        "\tif (index >= 0 && index < mSize) return mArray[index];\n",
        "\telse return -1; //잘못된 범위인 경우 -1 리턴\n",
        "}\n",
        "```"
      ],
      "metadata": {
        "id": "1rDxU3AN4Zm6"
      }
    },
    {
      "cell_type": "markdown",
      "source": [
        "#####**Dynamic Character Array [src|](https://cafe.naver.com/honeyc?iframe_url_utf8=%2FArticleRead.nhn%253Fclubid%3D11957566%2526page%3D1%2526menuid%3D117%2526boardtype%3DL%2526articleid%3D80459%2526referrerAllArticles%3Dfalse)**"
      ],
      "metadata": {
        "id": "OS5aPP6y8lon"
      }
    },
    {
      "cell_type": "markdown",
      "source": [
        "```cpp\n",
        "#include <iostream>\n",
        "#include <cstring> //strcpy, strlen\n",
        "\n",
        "class DynamicCharArray\n",
        "{\n",
        "public:\n",
        "    DynamicCharArray(const char* s);\n",
        "    DynamicCharArray(int size) : mSize(size) {mArray = new char[size+1];}\n",
        "    ~DynamicCharArray() {delete[] mArray;}\n",
        "    char GetAt(int index);\n",
        "    char* GetString() {return mArray;}\n",
        "    void SetAt(int index, char value)\n",
        "    {if (index >= 0 && index < mSize) mArray[index] = value;}\n",
        "private:\n",
        "    char* mArray = nullptr; //동적 메모리의 주소를 저장\n",
        "    int mSize = 0; //널문자 미포함 동적 메모리의 크기를 저장\n",
        "};\n",
        "\n",
        "\n",
        "DynamicCharArray::DynamicCharArray(const char* s)\n",
        "{\n",
        "    mSize = strlen(s); //널문자 이전의 길이를 구한다.\n",
        "    mArray = new char[mSize + 1]; //+1로 널문자 공간 확보\n",
        "    strcpy(mArray, s);\n",
        "}\n",
        "\n",
        "char DynamicCharArray::GetAt(int index)\n",
        "{\n",
        "    if (index >= 0 && index < mSize) return mArray[index];\n",
        "    else return -1; //잘못된 범위인 경우 -1 리턴\n",
        "}\n",
        "\n",
        "\n",
        "int main()\n",
        "{\n",
        "    int size;\n",
        "    std::cout << \"할당하고 싶은 크기 입력 : \";\n",
        "    std::cin >> size;\n",
        "\n",
        "    DynamicCharArray d(size), d2(\"Hello World\");\n",
        "\n",
        "    for (int i = 0; i < size; i++) {d.SetAt(i, 'A' + i);}\n",
        "    for (int i = 0; i < size; i++) {std::cout << d.GetAt(i);}\n",
        "    std::cout << std::endl;\n",
        "\n",
        "    std::cout << \"문자열 : \" << d2.GetString() << std::endl;\n",
        "\n",
        "    return 0;\n",
        "}\n",
        "```"
      ],
      "metadata": {
        "id": "zLW2b5xX8lox"
      }
    },
    {
      "cell_type": "markdown",
      "source": [
        "###**Chapter 5 Class (or Static in C++) Variable and Method**"
      ],
      "metadata": {
        "id": "JssprsbdeNYi"
      }
    },
    {
      "cell_type": "markdown",
      "source": [
        "#####**API [eng|](https://www.youtube.com/watch?v=IPCEBHWgRr8&list=PLvv0ScY6vfd8j-tlhYVPYgiIyXduu6m-L&index=70&ab_channel=MikeShah)**"
      ],
      "metadata": {
        "id": "y9v-ekXfjsTy"
      }
    },
    {
      "cell_type": "markdown",
      "source": [
        "```python\n",
        "class API:\n",
        "    MAJOR = 7\n",
        "    MINOR = 9\n",
        "\n",
        "    @classmethod\n",
        "    def GetMajorVersion(cls):\n",
        "        return cls.MAJOR\n",
        "\n",
        "    @classmethod\n",
        "    def GetMinorVersion(cls):\n",
        "        return cls.MINOR\n",
        "\n",
        "def main():\n",
        "    print(\"Major : \" + str(API.MAJOR))\n",
        "    print(\"Major : \" + str(API.GetMajorVersion()))\n",
        "\n",
        "if __name__ == \"__main__\":\n",
        "    main()\n",
        "```\n",
        "\n",
        "\n",
        "```cpp\n",
        "#include <iostream>\n",
        "\n",
        "struct API\n",
        "{\n",
        "    API() {}\n",
        "    ~API() {}\n",
        "    \n",
        "    static int MAJOR;\n",
        "    static int MINOR;\n",
        "\n",
        "    static int GetMajorVersion() {return MAJOR;}\n",
        "    static int GetMinorVersion() {return MINOR;}\n",
        "};\n",
        "\n",
        "int API::MAJOR = 7; // initialize static member variable\n",
        "int API::MINOR = 9; // initialize static member variable\n",
        "\n",
        "int main()\n",
        "{\n",
        "    std::cout << \"Major : \" << API::MAJOR << \"\\n\";\n",
        "    std::cout << \"Major : \" << API::GetMajorVersion() << \"\\n\";\n",
        "    return 0;\n",
        "}\n",
        "```"
      ],
      "metadata": {
        "id": "rzlb8Pqnj82A"
      }
    },
    {
      "cell_type": "markdown",
      "source": [
        "#####**Point [src|](https://cafe.naver.com/honeyc?iframe_url_utf8=%2FArticleRead.nhn%253Fclubid%3D11957566%2526page%3D1%2526menuid%3D117%2526boardtype%3DL%2526articleid%3D80463%2526referrerAllArticles%3Dfalse)**"
      ],
      "metadata": {
        "id": "UWE3rlbxjws-"
      }
    },
    {
      "cell_type": "markdown",
      "source": [
        "```python\n",
        "class Point:\n",
        "    sCount = 0  # Class variable to count instances\n",
        "\n",
        "    def __init__(self, x=0, y=0):\n",
        "        self.mX = x\n",
        "        self.mY = y\n",
        "        Point.sCount += 1\n",
        "\n",
        "    def GetX(self):\n",
        "        return self.mX\n",
        "\n",
        "    def GetY(self):\n",
        "        return self.mY\n",
        "\n",
        "    def SetX(self, x):\n",
        "        self.mX = min(x, 0)\n",
        "\n",
        "    def SetY(self, y):\n",
        "        self.mY = min(y, 0)\n",
        "\n",
        "    @classmethod\n",
        "    def GetCount(cls):\n",
        "        return cls.sCount\n",
        "\n",
        "def main():\n",
        "    print(\"생성된 좌표의 개수는\", Point.GetCount(), \"개 입니다.\")\n",
        "\n",
        "    p1 = Point()\n",
        "    print(\"생성된 좌표의 개수는\", p1.GetCount(), \"개 입니다.\")\n",
        "    p2 = Point(2, 3)\n",
        "    print(\"생성된 좌표의 개수는\", p2.GetCount(), \"개 입니다.\")\n",
        "    p3 = Point(10, 100)\n",
        "    print(\"생성된 좌표의 개수는\", p3.GetCount(), \"개 입니다.\")\n",
        "\n",
        "    print(\"p1({}, {})\".format(p1.GetX(), p1.GetY()))\n",
        "    print(\"p2({}, {})\".format(p2.GetX(), p2.GetY()))\n",
        "    print(\"p3({}, {})\".format(p3.GetX(), p3.GetY()))\n",
        "\n",
        "    print(\"생성된 좌표의 개수는\", p1.GetCount(), \"개 입니다.\")\n",
        "\n",
        "if __name__ == \"__main__\":\n",
        "    main()\n",
        "```\n",
        "\n",
        "\n",
        "```cpp\n",
        "#include <iostream>\n",
        "#include <algorithm> // Include the algorithm header for std::min\n",
        "\n",
        "class Point\n",
        "{\n",
        "public:\n",
        "    Point() : mX(0), mY(0) { ++sCount; }\n",
        "    Point(int x, int y) : mX(x), mY(y) { ++sCount; }\n",
        "  \n",
        "    int GetX() const { return mX; } //값 변경을 금지시키고 싶다!!!\n",
        "    int GetY() const { return mY; } //값 변경을 금지시키고 싶다!!!\n",
        "    \n",
        "    void SetX(int x) { mX = std::min(x, 0); }\n",
        "    void SetY(int y) { mY = std::min(y, 0); }\n",
        "    \n",
        "    static int GetCount() { return sCount; }\n",
        "    \n",
        "private:\n",
        "    int mX, mY;\n",
        "    static int sCount; // Static member variable to count instances\n",
        "};\n",
        "\n",
        "//정적 멤버 외부 정의 시 static키워드는 쓰지 않는다.\n",
        "int Point::sCount = 0; // Initialize static member variable\n",
        "\n",
        "int main()\n",
        "{\n",
        "    std::cout << \"생성된 좌표의 개수는 \" << Point::GetCount() << \"개 입니다.\\n\";\n",
        "\n",
        "    Point p1;\n",
        "    std::cout << \"생성된 좌표의 개수는 \" << p1.GetCount() << \"개 입니다.\\n\";\n",
        "    Point p2(2, 3);\n",
        "    std::cout << \"생성된 좌표의 개수는 \" << p2.GetCount() << \"개 입니다.\\n\";\n",
        "    Point p3(10, 100);\n",
        "    std::cout << \"생성된 좌표의 개수는 \" << p3.GetCount() << \"개 입니다.\\n\";\n",
        "\n",
        "    std::cout << \"p1(\" << p1.GetX() << \", \" << p1.GetY() << \")\\n\";\n",
        "    std::cout << \"p2(\" << p2.GetX() << \", \" << p2.GetY() << \")\\n\";\n",
        "    std::cout << \"p3(\" << p3.GetX() << \", \" << p3.GetY() << \")\\n\";\n",
        "\n",
        "    std::cout << \"생성된 좌표의 개수는 \" << p1.GetCount() << \"개 입니다.\\n\";\n",
        "\n",
        "    return 0;\n",
        "}\n",
        "```"
      ],
      "metadata": {
        "id": "JJMlk5lXjws-"
      }
    },
    {
      "cell_type": "markdown",
      "source": [
        "```python\n",
        "class Point:\n",
        "    sCount = 0  # Class variable to count instances\n",
        "\n",
        "    def __init__(self, x=0, y=0):\n",
        "        self.mX = x\n",
        "        self.mY = y\n",
        "        Point.sCount += 1\n",
        "\n",
        "    def GetX(self):\n",
        "        return self.mX\n",
        "\n",
        "    def GetY(self):\n",
        "        return self.mY\n",
        "\n",
        "    def SetX(self, x):\n",
        "        self.mX = min(x, 0)\n",
        "\n",
        "    def SetY(self, y):\n",
        "        self.mY = min(y, 0)\n",
        "\n",
        "    @classmethod\n",
        "    def GetCount(cls):\n",
        "        return cls.sCount\n",
        "\n",
        "def main():\n",
        "    print(\"생성된 좌표의 개수는\", Point.GetCount(), \"개 입니다.\")\n",
        "\n",
        "    p1 = Point()\n",
        "    print(\"생성된 좌표의 개수는\", p1.GetCount(), \"개 입니다.\")\n",
        "    p2 = Point(2, 3)\n",
        "    print(\"생성된 좌표의 개수는\", p2.GetCount(), \"개 입니다.\")\n",
        "    p3 = Point(10, 100)\n",
        "    print(\"생성된 좌표의 개수는\", p3.GetCount(), \"개 입니다.\")\n",
        "\n",
        "    print(\"p1({}, {})\".format(p1.GetX(), p1.GetY()))\n",
        "    print(\"p2({}, {})\".format(p2.GetX(), p2.GetY()))\n",
        "    print(\"p3({}, {})\".format(p3.GetX(), p3.GetY()))\n",
        "\n",
        "    print(\"생성된 좌표의 개수는\", p1.GetCount(), \"개 입니다.\")\n",
        "\n",
        "if __name__ == \"__main__\":\n",
        "    main()\n",
        "```\n",
        "\n",
        "\n",
        "```cpp\n",
        "#include <iostream>\n",
        "#include <algorithm> // Include the algorithm header for std::min\n",
        "\n",
        "class Point\n",
        "{\n",
        "public:\n",
        "    Point() : mX(0), mY(0) { ++sCount; }\n",
        "    Point(int x, int y) : mX(x), mY(y) { ++sCount; }\n",
        "  \n",
        "    int GetX() const { return mX; } //값 변경을 금지시키고 싶다!!!\n",
        "    int GetY() const { return mY; } //값 변경을 금지시키고 싶다!!!\n",
        "    \n",
        "    void SetX(int x) { mX = std::min(x, 0); }\n",
        "    void SetY(int y) { mY = std::min(y, 0); }\n",
        "    \n",
        "    static int GetCount() { return sCount; }\n",
        "    \n",
        "private:\n",
        "    int mX, mY;\n",
        "    static int sCount; // Static member variable to count instances\n",
        "};\n",
        "\n",
        "//정적 멤버 외부 정의 시 static키워드는 쓰지 않는다.\n",
        "int Point::sCount = 0; // Initialize static member variable\n",
        "\n",
        "int main()\n",
        "{\n",
        "    std::cout << \"생성된 좌표의 개수는 \" << Point::GetCount() << \"개 입니다.\\n\";\n",
        "\n",
        "    Point p1;\n",
        "    std::cout << \"생성된 좌표의 개수는 \" << p1.GetCount() << \"개 입니다.\\n\";\n",
        "    Point p2(2, 3);\n",
        "    std::cout << \"생성된 좌표의 개수는 \" << p2.GetCount() << \"개 입니다.\\n\";\n",
        "    Point p3(10, 100);\n",
        "    std::cout << \"생성된 좌표의 개수는 \" << p3.GetCount() << \"개 입니다.\\n\";\n",
        "\n",
        "    std::cout << \"p1(\" << p1.GetX() << \", \" << p1.GetY() << \")\\n\";\n",
        "    std::cout << \"p2(\" << p2.GetX() << \", \" << p2.GetY() << \")\\n\";\n",
        "    std::cout << \"p3(\" << p3.GetX() << \", \" << p3.GetY() << \")\\n\";\n",
        "\n",
        "    std::cout << \"생성된 좌표의 개수는 \" << p1.GetCount() << \"개 입니다.\\n\";\n",
        "\n",
        "    return 0;\n",
        "}\n",
        "```"
      ],
      "metadata": {
        "id": "iq1OPKMEjsT9"
      }
    },
    {
      "cell_type": "markdown",
      "source": [
        "#####**Point [src|](https://cafe.naver.com/honeyc?iframe_url_utf8=%2FArticleRead.nhn%253Fclubid%3D11957566%2526page%3D1%2526menuid%3D117%2526boardtype%3DL%2526articleid%3D80463%2526referrerAllArticles%3Dfalse)**"
      ],
      "metadata": {
        "id": "hsy8LpP8elf8"
      }
    },
    {
      "cell_type": "markdown",
      "source": [
        "```python\n",
        "class Point:\n",
        "    sCount = 0  # Class variable to count instances\n",
        "\n",
        "    def __init__(self, x=0, y=0):\n",
        "        self.mX = x\n",
        "        self.mY = y\n",
        "        Point.sCount += 1\n",
        "\n",
        "    def GetX(self):\n",
        "        return self.mX\n",
        "\n",
        "    def GetY(self):\n",
        "        return self.mY\n",
        "\n",
        "    def SetX(self, x):\n",
        "        self.mX = min(x, 0)\n",
        "\n",
        "    def SetY(self, y):\n",
        "        self.mY = min(y, 0)\n",
        "\n",
        "    @classmethod\n",
        "    def GetCount(cls):\n",
        "        return cls.sCount\n",
        "\n",
        "def main():\n",
        "    print(\"생성된 좌표의 개수는\", Point.GetCount(), \"개 입니다.\")\n",
        "\n",
        "    p1 = Point()\n",
        "    print(\"생성된 좌표의 개수는\", p1.GetCount(), \"개 입니다.\")\n",
        "    p2 = Point(2, 3)\n",
        "    print(\"생성된 좌표의 개수는\", p2.GetCount(), \"개 입니다.\")\n",
        "    p3 = Point(10, 100)\n",
        "    print(\"생성된 좌표의 개수는\", p3.GetCount(), \"개 입니다.\")\n",
        "\n",
        "    print(\"p1({}, {})\".format(p1.GetX(), p1.GetY()))\n",
        "    print(\"p2({}, {})\".format(p2.GetX(), p2.GetY()))\n",
        "    print(\"p3({}, {})\".format(p3.GetX(), p3.GetY()))\n",
        "\n",
        "    print(\"생성된 좌표의 개수는\", p1.GetCount(), \"개 입니다.\")\n",
        "\n",
        "if __name__ == \"__main__\":\n",
        "    main()\n",
        "```\n",
        "\n",
        "\n",
        "```cpp\n",
        "#include <iostream>\n",
        "#include <algorithm> // Include the algorithm header for std::min\n",
        "\n",
        "class Point\n",
        "{\n",
        "public:\n",
        "    Point() : mX(0), mY(0) { ++sCount; }\n",
        "    Point(int x, int y) : mX(x), mY(y) { ++sCount; }\n",
        "  \n",
        "    int GetX() const { return mX; } //값 변경을 금지시키고 싶다!!!\n",
        "    int GetY() const { return mY; } //값 변경을 금지시키고 싶다!!!\n",
        "    \n",
        "    void SetX(int x) { mX = std::min(x, 0); }\n",
        "    void SetY(int y) { mY = std::min(y, 0); }\n",
        "    \n",
        "    static int GetCount() { return sCount; }\n",
        "    \n",
        "private:\n",
        "    int mX, mY;\n",
        "    static int sCount; // Static member variable to count instances\n",
        "};\n",
        "\n",
        "//정적 멤버 외부 정의 시 static키워드는 쓰지 않는다.\n",
        "int Point::sCount = 0; // Initialize static member variable\n",
        "\n",
        "int main()\n",
        "{\n",
        "    std::cout << \"생성된 좌표의 개수는 \" << Point::GetCount() << \"개 입니다.\\n\";\n",
        "\n",
        "    Point p1;\n",
        "    std::cout << \"생성된 좌표의 개수는 \" << p1.GetCount() << \"개 입니다.\\n\";\n",
        "    Point p2(2, 3);\n",
        "    std::cout << \"생성된 좌표의 개수는 \" << p2.GetCount() << \"개 입니다.\\n\";\n",
        "    Point p3(10, 100);\n",
        "    std::cout << \"생성된 좌표의 개수는 \" << p3.GetCount() << \"개 입니다.\\n\";\n",
        "\n",
        "    std::cout << \"p1(\" << p1.GetX() << \", \" << p1.GetY() << \")\\n\";\n",
        "    std::cout << \"p2(\" << p2.GetX() << \", \" << p2.GetY() << \")\\n\";\n",
        "    std::cout << \"p3(\" << p3.GetX() << \", \" << p3.GetY() << \")\\n\";\n",
        "\n",
        "    std::cout << \"생성된 좌표의 개수는 \" << p1.GetCount() << \"개 입니다.\\n\";\n",
        "\n",
        "    return 0;\n",
        "}\n",
        "```"
      ],
      "metadata": {
        "id": "nuP56hrtelgG"
      }
    },
    {
      "cell_type": "markdown",
      "source": [
        "#####**Telephone  [src|](https://cafe.naver.com/honeyc?iframe_url_utf8=%2FArticleRead.nhn%253Fclubid%3D11957566%2526page%3D1%2526menuid%3D117%2526boardtype%3DL%2526articleid%3D80463%2526referrerAllArticles%3Dfalse)**"
      ],
      "metadata": {
        "id": "2NgQHIVdhxTQ"
      }
    },
    {
      "cell_type": "markdown",
      "source": [
        "```python\n",
        "class Telephone:\n",
        "    sTelephoneSize = 0  # Class variable to count instances\n",
        "\n",
        "    def __init__(self, name, phone):\n",
        "        self.mName = name\n",
        "        self.mPhone = phone\n",
        "        Telephone.sTelephoneSize += 1\n",
        "\n",
        "    def __del__(self):\n",
        "        Telephone.sTelephoneSize -= 1\n",
        "\n",
        "    def get_name(self):\n",
        "        return self.mName\n",
        "\n",
        "    def get_phone(self):\n",
        "        return self.mPhone\n",
        "\n",
        "    @classmethod\n",
        "    def get_telephone_size(cls):\n",
        "        return cls.sTelephoneSize\n",
        "\n",
        "def main():\n",
        "    print(f\"등록 건수 : {Telephone.get_telephone_size()}건\")\n",
        "\n",
        "    t1 = Telephone(\"홍길동\", \"010-888-9999\")\n",
        "    t2 = Telephone(\"이순신\", \"017-555-4444\")\n",
        "    t3 = Telephone(\"장보고\", \"019-222-3333\")\n",
        "\n",
        "    print(f\"t1 이름 : {t1.get_name()}\")\n",
        "    print(f\"t2 이름 : {t2.get_name()}\")\n",
        "    print(f\"t3 이름 : {t3.get_name()}\")\n",
        "\n",
        "    print(f\"등록 건수 : {Telephone.get_telephone_size()}건\")\n",
        "\n",
        "if __name__ == \"__main__\":\n",
        "    main()\n",
        "```\n",
        "\n",
        "\n",
        "```cpp\n",
        "#include <iostream>\n",
        "#include <cstring> // Include the cstring header for strcpy\n",
        "\n",
        "class Telephone\n",
        "{\n",
        "public:\n",
        "    Telephone(const char* name, const char* phone)\n",
        "    {\n",
        "        mName = new char[strlen(name) + 1]; std::strcpy(mName, name);\n",
        "        mPhone = new char[strlen(phone) + 1]; std::strcpy(mPhone, phone);\n",
        "        ++sTelephoneSize;\n",
        "    }\n",
        "    ~Telephone() {delete[] mName; delete[] mPhone;}\n",
        "    const char* GetName() const {return mName;}\n",
        "    const char* GetPhone() const {return mPhone;}\n",
        "    static int GetTelephoneSize() {return sTelephoneSize;}\n",
        "private:\n",
        "    char* mName = nullptr; // 동적 메모리의 주소 저장\n",
        "    char* mPhone = nullptr; // 동적 메모리의 주소 저장\n",
        "    static int sTelephoneSize; // 정적 멤버 : 모든 인스턴스가 공유\n",
        "};\n",
        "\n",
        "int Telephone::sTelephoneSize = 0; // 정적 멤버 초기화 : 클래스 내에서 초기화 불가능\n",
        "\n",
        "int main() {\n",
        "    // 정적 멤버는 클래스명으로 접근 가능(인스턴스 생성과 상관 없음)\n",
        "    std::cout << \"등록 건수 : \" << Telephone::GetTelephoneSize() << \"건\\n\";\n",
        "\n",
        "    Telephone t1(\"홍길동\", \"010-888-9999\");\n",
        "    Telephone t2(\"이순신\", \"017-555-4444\");\n",
        "    Telephone t3(\"장보고\", \"019-222-3333\");\n",
        "\n",
        "    std::cout << \"t1 이름 : \" << t1.GetName() << std::endl;\n",
        "    std::cout << \"t2 이름 : \" << t2.GetName() << std::endl;\n",
        "    std::cout << \"t3 이름 : \" << t3.GetName() << std::endl;\n",
        "\n",
        "    std::cout << \"등록 건수 : \" << Telephone::GetTelephoneSize() << \"건\\n\";\n",
        "    return 0;\n",
        "}\n",
        "```"
      ],
      "metadata": {
        "id": "29FZezmmhxTZ"
      }
    },
    {
      "cell_type": "markdown",
      "source": [
        "###**Chapter 6 Object Array, Pointer, and Class**"
      ],
      "metadata": {
        "id": "SuhvEosBxw7K"
      }
    },
    {
      "cell_type": "markdown",
      "source": [
        "####**Section 1 Object Array**"
      ],
      "metadata": {
        "id": "LQQn2BHeWj2C"
      }
    },
    {
      "cell_type": "markdown",
      "source": [
        "#####**Point  [src|](https://cafe.naver.com/honeyc?iframe_url_utf8=%2FArticleRead.nhn%253FreferrerAllArticles%3Dfalse%2526menuid%3D117%2526page%3D1%2526boardtype%3DL%2526clubid%3D11957566%2526articleid%3D80469)**"
      ],
      "metadata": {
        "id": "iFBdOeaszKaM"
      }
    },
    {
      "cell_type": "markdown",
      "source": [
        "```python\n",
        "class Point:\n",
        "    def __init__(self, x=0, y=0):\n",
        "        self.mX = x\n",
        "        self.mY = y\n",
        "\n",
        "    def GetX(self):\n",
        "        return self.mX\n",
        "\n",
        "    def GetY(self):\n",
        "        return self.mY\n",
        "\n",
        "    def SetX(self, x):\n",
        "        self.mX = x\n",
        "\n",
        "    def SetY(self, y):\n",
        "        self.mY = y\n",
        "\n",
        "def main():\n",
        "    p1 = Point(1, 10)\n",
        "    p2 = Point(2, 20)\n",
        "    p3 = Point(3, 30)\n",
        "    p4 = Point(4, 40)\n",
        "\n",
        "    points = [Point(1, 10), Point(2, 20), Point(3, 30), Point(4, 40)]\n",
        "\n",
        "    for i, point in enumerate(points):\n",
        "        print(f\"p{i + 1}({point.GetX()}, {point.GetY()})\")\n",
        "\n",
        "if __name__ == \"__main__\":\n",
        "    main()\n",
        "```\n",
        "\n",
        "\n",
        "```cpp\n",
        "#include <iostream>\n",
        "\n",
        "class Point\n",
        "{\n",
        "public:\n",
        "    Point() : mX(0), mY(0) {}\n",
        "    Point(int x) : mX(x), mY(0) {}\n",
        "    Point(int x, int y) : mX(x), mY(y) {}\n",
        "    ~Point() {}\n",
        "    int GetX() const {return mX;}\n",
        "    int GetY() const {return mY;}\n",
        "    void SetX(int x) {mX = x;}\n",
        "    void SetY(int y) {mY = y;}\n",
        "private:\n",
        "    int mX;\n",
        "    int mY;\n",
        "};\n",
        "\n",
        "int main()\n",
        "{\n",
        "    Point p1(1, 10), p2(2, 20), p3(3, 30), p4(4, 40); // 인스턴스 생성\n",
        "    Point p[4] = { Point(1, 10), Point(2, 20), Point(3, 30), Point(4, 40) };\n",
        "\n",
        "    for (int i = 0; i < 4; i++)\n",
        "    {std::cout<<\"p\"<<i+1<<\"(\"<<p[i].GetX()<<\", \"<<p[i].GetY()<< \")\\n\";}\n",
        "\n",
        "    return 0;\n",
        "}\n",
        "```"
      ],
      "metadata": {
        "id": "XNbQWjAPzKaV"
      }
    },
    {
      "cell_type": "markdown",
      "source": [
        "####**Section 2 Object Pointer**"
      ],
      "metadata": {
        "id": "SWSPaHS-zuf-"
      }
    },
    {
      "cell_type": "markdown",
      "source": [
        "#####**Point  [src|](https://cafe.naver.com/honeyc?iframe_url_utf8=%2FArticleRead.nhn%253FreferrerAllArticles%3Dfalse%2526menuid%3D117%2526page%3D1%2526boardtype%3DL%2526clubid%3D11957566%2526articleid%3D80469)**"
      ],
      "metadata": {
        "id": "KV3PZZyhVZcz"
      }
    },
    {
      "cell_type": "markdown",
      "source": [
        "```python\n",
        "class Point:\n",
        "    def __init__(self, x=0, y=0):\n",
        "        self.mX = x\n",
        "        self.mY = y\n",
        "\n",
        "    def GetX(self):\n",
        "        return self.mX\n",
        "\n",
        "    def GetY(self):\n",
        "        return self.mY\n",
        "\n",
        "    def SetX(self, x):\n",
        "        self.mX = x\n",
        "\n",
        "    def SetY(self, y):\n",
        "        self.mY = y\n",
        "\n",
        "def main():\n",
        "    ptr = Point()  # 인스턴스 생성 => 1. 생성자 호출\n",
        "\n",
        "    ptr1 = Point(2)  # 인스턴스 생성 시 인수 전달 => 2. 생성자 호출\n",
        "\n",
        "    ptr2 = Point(1, 10)  # 인스턴스 생성 시 인수 전달 => 3. 생성자 호출\n",
        "    print(\"p({}, {})\".format(ptr2.GetX(), ptr2.GetY()))\n",
        "\n",
        "    del ptr\n",
        "    del ptr1\n",
        "    del ptr2  # 인스턴스 소멸 => 소멸 직전에 소멸자를 호출\n",
        "\n",
        "if __name__ == \"__main__\":\n",
        "    main()\n",
        "```\n",
        "\n",
        "\n",
        "```cpp\n",
        "#include <iostream>\n",
        "\n",
        "class Point\n",
        "{\n",
        "public:\n",
        "    Point() : mX(0), mY(0) {}\n",
        "    Point(int x) : mX(x), mY(0) {}\n",
        "    Point(int x, int y) : mX(x), mY(y) {}\n",
        "    ~Point() {}\n",
        "    int GetX() const {return mX;}\n",
        "    int GetY() const {return mY;}\n",
        "    void SetX(int x) {mX = x;}\n",
        "    void SetY(int y) {mY = y;}\n",
        "private:\n",
        "    int mX;\n",
        "    int mY;\n",
        "};\n",
        "\n",
        "int main()\n",
        "{\n",
        "    Point* ptr = nullptr; // 포인터 변수 (8바이트)\n",
        "    ptr = new Point; // 인스턴스 생성 => 1. 생성자 호출\n",
        "    delete ptr; // 인스턴스 소멸 => 소멸 직전에 소멸자를 호출\n",
        "\n",
        "    Point* ptr1 = nullptr;\n",
        "    ptr1 = new Point(2); // 인스턴스 생성 시 인수 전달 => 2. 생성자 호출\n",
        "    delete ptr1; // 인스턴스 소멸 => 소멸 직전에 소멸자를 호출\n",
        "\n",
        "    Point* ptr2 = new Point(1, 10); // 인스턴스 생성 시 인수 전달 => 3. 생성자 호출\n",
        "    std::cout << \"p(\" << ptr2->GetX() << \", \" << ptr2->GetY() << \")\\n\";\n",
        "    delete ptr2; // 인스턴스 소멸 => 소멸 직전에 소멸자를 호출\n",
        "\n",
        "    return 0;\n",
        "}\n",
        "```"
      ],
      "metadata": {
        "id": "owO2Di93VZc0"
      }
    },
    {
      "cell_type": "markdown",
      "source": [
        "####**Section 3 Object Pointer Array**"
      ],
      "metadata": {
        "id": "OHvqOWoBXPPy"
      }
    },
    {
      "cell_type": "markdown",
      "source": [
        "#####**Point  [src|](https://cafe.naver.com/honeyc?iframe_url_utf8=%2FArticleRead.nhn%253FreferrerAllArticles%3Dfalse%2526menuid%3D117%2526page%3D1%2526boardtype%3DL%2526clubid%3D11957566%2526articleid%3D80469)**"
      ],
      "metadata": {
        "id": "EKts0QvxXPP6"
      }
    },
    {
      "cell_type": "markdown",
      "source": [
        "```python\n",
        "class Point:\n",
        "    def __init__(self, x=0, y=0):\n",
        "        self.mX = x\n",
        "        self.mY = y\n",
        "\n",
        "    def GetX(self):\n",
        "        return self.mX\n",
        "\n",
        "    def GetY(self):\n",
        "        return self.mY\n",
        "\n",
        "    def SetX(self, x):\n",
        "        self.mX = x\n",
        "\n",
        "    def SetY(self, y):\n",
        "        self.mY = y\n",
        "\n",
        "    def __del__(self):\n",
        "        print(\"~소멸자 호출\")\n",
        "\n",
        "def main():\n",
        "    points = [Point(1, 10), Point(2, 20), Point(3, 30), Point(4, 40), Point(5, 50)]\n",
        "\n",
        "    for i, point in enumerate(points):\n",
        "        print(f\"p[{i}]({point.GetX()}, {point.GetY()})\")\n",
        "\n",
        "if __name__ == \"__main__\":\n",
        "    main()\n",
        "```\n",
        "\n",
        "\n",
        "```cpp\n",
        "#include <iostream>\n",
        "\n",
        "class Point\n",
        "{\n",
        "public:\n",
        "    Point() : mX(0), mY(0) {}\n",
        "    Point(int x) : mX(x), mY(0) {}\n",
        "    Point(int x, int y) : mX(x), mY(y) {}\n",
        "    ~Point() {}\n",
        "    int GetX() const {return mX;}\n",
        "    int GetY() const {return mY;}\n",
        "    void SetX(int x) {mX = x;}\n",
        "    void SetY(int y) {mY = y;}\n",
        "private:\n",
        "    int mX;\n",
        "    int mY;\n",
        "};\n",
        "\n",
        "int main()\n",
        "{\n",
        "    Point* p[5] = {nullptr}; // 포인터 배열\n",
        "\n",
        "    p[0] = new Point(1, 10); // 인스턴스 생성 시 인수 전달\n",
        "    p[1] = new Point(2, 20); // 인스턴스 생성 시 인수 전달\n",
        "    p[2] = new Point(3, 30); // 인스턴스 생성 시 인수 전달\n",
        "    p[3] = new Point(4, 40); // 인스턴스 생성 시 인수 전달\n",
        "    p[4] = new Point(5, 50); // 인스턴스 생성 시 인수 전달\n",
        "\n",
        "    for (int i = 0; i < 5; i++)\n",
        "    {\n",
        "        std::cout<<\"p[\"<<i<<\"](\"<<p[i]->GetX()<<\", \"<<p[i]->GetY()<<\")\\n\";\n",
        "        delete p[i];\n",
        "    }\n",
        "\n",
        "    return 0;\n",
        "}\n",
        "```"
      ],
      "metadata": {
        "id": "qL3UT2_0XPP7"
      }
    },
    {
      "cell_type": "markdown",
      "source": [
        "####**Section 4 Class of Object Pointer Array**"
      ],
      "metadata": {
        "id": "lzkWOPOYbSl8"
      }
    },
    {
      "cell_type": "markdown",
      "source": [
        "#####**Point and PointContainer  [src|](https://cafe.naver.com/honeyc?iframe_url_utf8=%2FArticleRead.nhn%253FreferrerAllArticles%3Dfalse%2526menuid%3D117%2526page%3D1%2526boardtype%3DL%2526clubid%3D11957566%2526articleid%3D80469)**"
      ],
      "metadata": {
        "id": "ydyWmSBmbSmF"
      }
    },
    {
      "cell_type": "markdown",
      "source": [
        "```python\n",
        "import math\n",
        "\n",
        "class Point:\n",
        "    def __init__(self, x=0, y=0):\n",
        "        self.mX = x\n",
        "        self.mY = y\n",
        "        print(\"1. 생성자 호출\")\n",
        "\n",
        "    def GetX(self):\n",
        "        return self.mX\n",
        "\n",
        "    def GetY(self):\n",
        "        return self.mY\n",
        "\n",
        "    def SetX(self, x):\n",
        "        self.mX = x\n",
        "\n",
        "    def SetY(self, y):\n",
        "        self.mY = y\n",
        "\n",
        "    def GetDistance(self, ref):\n",
        "        disX = (ref.mX - self.mX) ** 2\n",
        "        disY = (ref.mY - self.mY) ** 2\n",
        "        return math.sqrt(disX + disY)\n",
        "\n",
        "    def __del__(self):\n",
        "        print(\"~소멸자 호출\")\n",
        "\n",
        "POINT_SIZE = 100\n",
        "\n",
        "class PointContainer:\n",
        "    def __init__(self):\n",
        "        self.p = [None] * POINT_SIZE\n",
        "        self.index = 0\n",
        "\n",
        "    def AddPoint(self, x, y):\n",
        "        if self.index < POINT_SIZE:\n",
        "            self.p[self.index] = Point(x, y)\n",
        "            self.index += 1\n",
        "\n",
        "    def DisplayAllPointDistance(self):\n",
        "        for i in range(self.index):\n",
        "            for j in range(i + 1, self.index):\n",
        "                print(f\"p{i}({self.p[i].GetX()}, {self.p[i].GetY()}) ~ \"\n",
        "                      f\"p{j}({self.p[j].GetX()}, {self.p[j].GetY()})의 거리는 \"\n",
        "                      f\"{self.p[i].GetDistance(self.p[j]):.2f}입니다.\")\n",
        "            print()\n",
        "\n",
        "def main():\n",
        "    pc = PointContainer()\n",
        "\n",
        "    pc.AddPoint(2, 3)\n",
        "    pc.AddPoint(10, 20)\n",
        "    pc.AddPoint(-3, -5)\n",
        "    pc.AddPoint(4, -20)\n",
        "    pc.AddPoint(-66, 23)\n",
        "\n",
        "    pc.DisplayAllPointDistance()\n",
        "\n",
        "if __name__ == \"__main__\":\n",
        "    main()\n",
        "```\n",
        "\n",
        "\n",
        "```cpp\n",
        "#include <iostream>\n",
        "#include <cmath> // Include cmath for sqrt and pow functions\n",
        "\n",
        "class Point {\n",
        "public:\n",
        "    Point() : mX(0), mY(0) {std::cout << \"1. 생성자 호출\\n\";}\n",
        "    Point(int x) : mX(x), mY(0) {std::cout << \"2. 생성자 호출\\n\";}\n",
        "    Point(int x, int y) : mX(x), mY(y) {std::cout << \"3. 생성자 호출\\n\";}\n",
        "    ~Point() {std::cout << \"~소멸자 호출\\n\";}\n",
        "    int GetX() const {return mX;}\n",
        "    int GetY() const {return mY;}\n",
        "    void SetX(int x) {mX = x;}\n",
        "    void SetY(int y) {mY = y;}\n",
        "    double GetDistance(const Point& ref) const\n",
        "    {\n",
        "        double disX = pow(ref.mX - this->mX, 2);\n",
        "        double disY = pow(ref.mY - this->mY, 2);\n",
        "        return sqrt(disX + disY);\n",
        "    }\n",
        "private:\n",
        "    int mX;\n",
        "    int mY;\n",
        "};\n",
        "\n",
        "const int POINT_SIZE = 100;\n",
        "\n",
        "class PointContainer\n",
        "{\n",
        "public:\n",
        "    PointContainer() {}\n",
        "    ~PointContainer() {for (int i = 0; i < index; i++) {delete p[i];}}\n",
        "    void AddPoint(int x, int y)\n",
        "        {if (index < POINT_SIZE) {p[index++] = new Point(x, y);}}\n",
        "\n",
        "    void DisplayAllPointDistance() const {\n",
        "        for (int i = 0; i < index; i++)\n",
        "        {\n",
        "            for (int j = i + 1; j < index; j++)\n",
        "            {\n",
        "                std::cout << \"p\" << i << \"(\" << p[i]->GetX() << \", \"\n",
        "                    << p[i]->GetY() << \") ~ \" << \"p\" << j << \"(\"\n",
        "                    << p[j]->GetX() << \", \" << p[j]->GetY() << \")의 거리는 \"\n",
        "                    << p[i]->GetDistance(*p[j]) << \"입니다.\\n\";\n",
        "            }\n",
        "            std::cout << std::endl;\n",
        "        }\n",
        "    }\n",
        "\n",
        "private:\n",
        "    Point* p[POINT_SIZE] = {nullptr};\n",
        "    int index = 0;\n",
        "};\n",
        "\n",
        "int main() {\n",
        "    PointContainer pc;\n",
        "\n",
        "    pc.AddPoint(2, 3);\n",
        "    pc.AddPoint(10, 20);\n",
        "    pc.AddPoint(-3, -5);\n",
        "    pc.AddPoint(4, -20);\n",
        "    pc.AddPoint(-66, 23);\n",
        "\n",
        "    pc.DisplayAllPointDistance();\n",
        "\n",
        "    return 0;\n",
        "}\n",
        "```"
      ],
      "metadata": {
        "id": "3WH0vDb6bSmG"
      }
    },
    {
      "cell_type": "markdown",
      "source": [
        "###**Chapter 7 Operator Overloading**"
      ],
      "metadata": {
        "id": "wsDeY2b6QvLQ"
      }
    },
    {
      "cell_type": "markdown",
      "source": [
        "####**Section 1 Binary Operator Overloading**"
      ],
      "metadata": {
        "id": "PyXVRmq0ddOr"
      }
    },
    {
      "cell_type": "markdown",
      "source": [
        "#####**Binary Operator + [eng|](https://www.youtube.com/watch?v=IN9bGoRjlBs&list=PLVlQHNRLflP8_DGKcMoRw-TYJJALgGu4J&index=45)**"
      ],
      "metadata": {
        "id": "Sn2bAjmnuCxO"
      }
    },
    {
      "cell_type": "markdown",
      "source": [
        "```cpp\n",
        "#include <iostream>\n",
        "\n",
        "class Point\n",
        "{\n",
        "public:\n",
        "    Point(int x_coordinate = 0, int y_coordinate = 0)\n",
        "    {\n",
        "        x = x_coordinate;\n",
        "        y = y_coordinate;\n",
        "    }    \n",
        "    Point operator+(Point& ref)\n",
        "    {\n",
        "        int x_tmp = x + ref.x;\n",
        "        int y_tmp = y + ref.y;\n",
        "        return Point(x_tmp, y_tmp);\n",
        "    }\n",
        "    Point operator+(int num) {return Point(x + num, y + num);}\n",
        "    int get_x(){ return x;}\n",
        "    int get_y(){ return y;}\n",
        "private:\n",
        "    int x, y;\n",
        "};\n",
        "\n",
        "//전역함수에 의한 오버로딩\n",
        "//멤버함수에 의한 오버로딩이 전역함수에 의한 오버로딩보다 우선한다.\n",
        "Point operator+(const Point& ref, int num)\n",
        "{\n",
        "\treturn Point(ref.x + num + 5, ref.y + num + 5); //익명의 객체를 생성해서 리턴\n",
        "}\n",
        "\n",
        "int main()\n",
        "{\n",
        "    Point p(1, 2), q(3, 4), r = p + q, s;\n",
        "    std::cout << \"r.x = \" << r.get_x() << std::endl;\n",
        "    std::cout << \"r.y = \" << r.get_y() << std::endl;\n",
        "\n",
        "    s = r + 10;\n",
        "    std::cout << \"s.x = \" << s.get_x() << std::endl;\n",
        "    std::cout << \"s.y = \" << s.get_y() << std::endl;\n",
        "    return 0;\n",
        "}\n",
        "```"
      ],
      "metadata": {
        "id": "NyL7zu3vuCxX"
      }
    },
    {
      "cell_type": "markdown",
      "source": [
        "```cpp\n",
        "#include <iostream>\n",
        "\n",
        "class Point\n",
        "{\n",
        "public:\n",
        "    Point(int x_coordinate = 0, int y_coordinate = 0)\n",
        "    {\n",
        "        x = x_coordinate;\n",
        "        y = y_coordinate;\n",
        "    }    \n",
        "    Point operator+(Point& ref); // declaration\n",
        "    int get_x(){ return x;}\n",
        "    int get_y(){ return y;}\n",
        "private:\n",
        "    int x, y;\n",
        "};\n",
        "\n",
        "int main()\n",
        "{\n",
        "    Point p(1, 2);\n",
        "    Point q(3, 4);\n",
        "    Point r = p + q;\n",
        "    std::cout << \"r.x = \" << r.get_x() << std::endl;\n",
        "    std::cout << \"r.y = \" << r.get_y() << std::endl;\n",
        "    return 0;\n",
        "}\n",
        "\n",
        "Point Point::operator+(Point& ref) // definition\n",
        "{\n",
        "    int x_tmp = x + ref.x;\n",
        "    int y_tmp = y + ref.y;\n",
        "    return Point(x_tmp, y_tmp);\n",
        "}\n",
        "```"
      ],
      "metadata": {
        "id": "lMt0LDB-Xni9"
      }
    },
    {
      "cell_type": "markdown",
      "source": [
        "#####**Binary Operator -**"
      ],
      "metadata": {
        "id": "rvLDZubDxUZc"
      }
    },
    {
      "cell_type": "markdown",
      "source": [
        "```cpp\n",
        "#include <iostream>\n",
        "\n",
        "class Point\n",
        "{\n",
        "public:\n",
        "    Point(int x_coordinate = 0, int y_coordinate = 0)\n",
        "    {\n",
        "        x = x_coordinate;\n",
        "        y = y_coordinate;\n",
        "    }    \n",
        "    Point operator-(Point& ref)\n",
        "    {\n",
        "        int x_tmp = x - ref.x;\n",
        "        int y_tmp = y - ref.y;\n",
        "        return Point(x_tmp, y_tmp);\n",
        "    }\n",
        "    int get_x(){ return x;}\n",
        "    int get_y(){ return y;}\n",
        "private:\n",
        "    int x, y;\n",
        "};\n",
        "\n",
        "int main()\n",
        "{\n",
        "    Point p(1, 2);\n",
        "    Point q(3, 4);\n",
        "    Point r = p - q;\n",
        "    std::cout << \"r.x = \" << r.get_x() << std::endl;\n",
        "    std::cout << \"r.y = \" << r.get_y() << std::endl;\n",
        "    return 0;\n",
        "}\n",
        "```"
      ],
      "metadata": {
        "id": "wZQV-863xUZl"
      }
    },
    {
      "cell_type": "markdown",
      "source": [
        "#####**Binary Operator == [eng|](https://www.youtube.com/watch?v=vx-zQv6t8UY&list=PLVlQHNRLflP8_DGKcMoRw-TYJJALgGu4J&index=44&t=17m38s)[kor|](https://www.youtube.com/watch?v=96YSaj8TaIA&list=PLrj92cHmwIMd2q8sTFj66vLnKJxBlLYoN&index=2)[src|](https://cafe.naver.com/honeyc?iframe_url_utf8=%2FArticleRead.nhn%253Fclubid%3D11957566%2526page%3D1%2526menuid%3D117%2526boardtype%3DL%2526articleid%3D80484%2526referrerAllArticles%3Dfalse)**"
      ],
      "metadata": {
        "id": "36MbAPRdpgbS"
      }
    },
    {
      "cell_type": "markdown",
      "source": [
        "```cpp\n",
        "// without operator overloading\n",
        "#include <iostream>\n",
        "\n",
        "class Point\n",
        "{\n",
        "private:\n",
        "    int x, y;\n",
        "public:\n",
        "    Point(int x_coordinate = 0, int y_coordinate = 0)\n",
        "    {\n",
        "        x = x_coordinate;\n",
        "        y = y_coordinate;\n",
        "    }    \n",
        "    bool compare(Point& ref);\n",
        "};\n",
        "\n",
        "int main()\n",
        "{\n",
        "    Point p(2, 3);\n",
        "    Point q(2, 3);\n",
        "    if (p.compare(q)) std::cout << \"two points are the same\\n\";\n",
        "    else std::cout << \"two points are not the same\\n\";\n",
        "\n",
        "    Point r(3, 2);\n",
        "    if (p.compare(r)) std::cout << \"two points are the same\\n\";\n",
        "    else std::cout << \"two points are not the same\\n\";\n",
        "    return 0;\n",
        "}\n",
        "\n",
        "bool Point::compare(Point& ref)\n",
        "{\n",
        "    if (x == ref.x && y == ref.y) return true;\n",
        "    else return false;\n",
        "}\n",
        "```"
      ],
      "metadata": {
        "id": "9SeuMGiJZell"
      }
    },
    {
      "cell_type": "markdown",
      "source": [
        "```cpp\n",
        "// with operator overloading\n",
        "#include <iostream>\n",
        "\n",
        "class Point\n",
        "{\n",
        "private:\n",
        "    int x, y;\n",
        "public:\n",
        "    Point(int x_coordinate = 0, int y_coordinate = 0)\n",
        "    {\n",
        "        x = x_coordinate;\n",
        "        y = y_coordinate;\n",
        "    }    \n",
        "    bool operator==(Point& ref);\n",
        "};\n",
        "\n",
        "int main()\n",
        "{\n",
        "    Point p(2, 3);\n",
        "    Point q(2, 3);\n",
        "    if (p == q) std::cout << \"two points are the same\\n\";\n",
        "    else std::cout << \"two points are not the same\\n\";\n",
        "\n",
        "    Point r(3, 2);\n",
        "    if (p == r) std::cout << \"two points are the same\\n\";\n",
        "    else std::cout << \"two points are not the same\\n\";\n",
        "    return 0;\n",
        "}\n",
        "\n",
        "bool Point::operator==(Point& ref)\n",
        "{\n",
        "    if (x == ref.x && y == ref.y) return true;\n",
        "    else return false;\n",
        "}\n",
        "```"
      ],
      "metadata": {
        "id": "F88hNQd7wpHG"
      }
    },
    {
      "cell_type": "markdown",
      "source": [
        "#####**Binary Operator += [src|](https://cafe.naver.com/honeyc?iframe_url_utf8=%2FArticleRead.nhn%253Fclubid%3D11957566%2526page%3D1%2526menuid%3D117%2526boardtype%3DL%2526articleid%3D80484%2526referrerAllArticles%3Dfalse)**"
      ],
      "metadata": {
        "id": "adSEm0GQaA6F"
      }
    },
    {
      "cell_type": "markdown",
      "source": [
        "```cpp\n",
        "#include <iostream>\n",
        "\n",
        "class Point\n",
        "{\n",
        "private:\n",
        "    int x, y;\n",
        "public:\n",
        "    Point(int x_coordinate = 0, int y_coordinate = 0)\n",
        "    {\n",
        "        x = x_coordinate;\n",
        "        y = y_coordinate;\n",
        "    }    \n",
        "    Point& operator+=(const Point& ref)\n",
        "    {\n",
        "        this->x += ref.x;\n",
        "        this->y += ref.y;\n",
        "        //리턴값이 없는 경우 연속적인 연산이 불가능하다.\n",
        "        return *this;\n",
        "        //this : 호출한 객체의 주소를 저장\n",
        "        //*this : 호출한 객체\n",
        "    }\n",
        "    int get_x(){ return x;}\n",
        "    int get_y(){ return y;}\n",
        "};\n",
        "\n",
        "int main()\n",
        "{\n",
        "    Point p(2, 3), q(2, 3);\n",
        "    p += q;\n",
        "    std::cout << \"p(\" << p.get_x() << \", \" << p.get_y() << \")\\n\";\n",
        "    return 0;\n",
        "}\n",
        "```"
      ],
      "metadata": {
        "id": "50F4QUfNaA6O"
      }
    },
    {
      "cell_type": "markdown",
      "source": [
        "#####**Array Subscript Operator [] [eng|](https://www.youtube.com/watch?v=8rSB8qwaOUM&list=PLk6CEY9XxSIAQ2vE_Jb4Dbmum7UfQrXgt&index=56)**"
      ],
      "metadata": {
        "id": "hUUG8c_ba_W2"
      }
    },
    {
      "cell_type": "markdown",
      "source": [
        "```cpp\n",
        "#include <iostream>\n",
        "\n",
        "class Point\n",
        "{\n",
        "public:\n",
        "    Point(int x = 0, int y = 0) {arr[0] = x; arr[1] = y;}\n",
        "    void print() {std::cout << \"x: \" << arr[0] << \" y: \" << arr[1] << std::endl;}\n",
        "    int& operator [] (int idx)\n",
        "    {\n",
        "        if (idx>=0 && idx<=1) return arr[idx];\n",
        "        else {std::cout << \"out of bound\" << std::endl; exit(0);}\n",
        "    }\n",
        "private:\n",
        "    int arr[2];\n",
        "};\n",
        "\n",
        "int main()\n",
        "{\n",
        "    Point p(2, 3); p.print();\n",
        "    p[0] = 4; p[1] = 5; p.print();\n",
        "    p[2] = 6; // out of bound\n",
        "    return 0;\n",
        "}\n",
        "```"
      ],
      "metadata": {
        "id": "HyKq-RIFa_XA"
      }
    },
    {
      "cell_type": "markdown",
      "source": [
        "#####**myOstream [src|](https://cafe.naver.com/honeyc?iframe_url_utf8=%2FArticleRead.nhn%253Fclubid%3D11957566%2526page%3D1%2526menuid%3D117%2526boardtype%3DL%2526articleid%3D80484%2526referrerAllArticles%3Dfalse)**"
      ],
      "metadata": {
        "id": "UNs3n2x92-F0"
      }
    },
    {
      "cell_type": "markdown",
      "source": [
        "```cpp\n",
        "#include <iostream>\n",
        "\n",
        "namespace myStd\n",
        "{\n",
        "    class myOstream\n",
        "    {\n",
        "    public:\n",
        "        myOstream& operator<<(const char* const str)\n",
        "            {std::cout << str; return *this;}\n",
        "        myOstream& operator<<(int i)\n",
        "            {std::cout << i; return *this;}\n",
        "        myOstream& operator<<(double d)\n",
        "            {std::cout << d; return *this;}\n",
        "        myOstream& operator<<(char c)\n",
        "            {std::cout << c; return *this;}\n",
        "    };\n",
        "    myOstream out; // 객체 생성\n",
        "    char myEndline = '\\n'; // Use a different name to avoid conflict\n",
        "}\n",
        "\n",
        "int main()\n",
        "{\n",
        "    myStd::out << \"Hello World\" << \", \" << 3.14 << \", \" << myStd::myEndline;\n",
        "    myStd::out << 100 << \", \" << 'Q' << myStd::myEndline;\n",
        "    return 0;\n",
        "}\n",
        "```"
      ],
      "metadata": {
        "id": "oxtMt-6Z2-F-"
      }
    },
    {
      "cell_type": "markdown",
      "source": [
        "#####**Binary Operator << and >> [src|](https://cafe.naver.com/honeyc?iframe_url_utf8=%2FArticleRead.nhn%253Fclubid%3D11957566%2526page%3D1%2526menuid%3D117%2526boardtype%3DL%2526articleid%3D80484%2526referrerAllArticles%3Dfalse)**"
      ],
      "metadata": {
        "id": "7OSBl0KR9jXD"
      }
    },
    {
      "cell_type": "markdown",
      "source": [
        "```cpp\n",
        "#include <iostream>\n",
        "\n",
        "class Point\n",
        "{\n",
        "public:\n",
        "    Point(int x = 0, int y = 0) : x(x), y(y) {}\n",
        "    inline void SetX(int x) : x(x) {}\n",
        "    inline void SetY(int y) : y(y) {}\n",
        "    inline int GetX() const {return x;}\n",
        "    inline int GetY() const {return y;}\n",
        "    friend std::ostream& operator<<(std::ostream& out, const Point& p); // Use const reference\n",
        "    friend std::istream& operator>>(std::istream& in, Point& p);\n",
        "private:\n",
        "    int x, y;\n",
        "};\n",
        "\n",
        "std::ostream& operator<<(std::ostream& out, const Point& p)\n",
        "    {out << p.x << \", \" << p.y; return out;}\n",
        "std::istream& operator>>(std::istream& in, Point& p)\n",
        "    {in >> p.x >> p.y; return in;}\n",
        "\n",
        "int main()\n",
        "{\n",
        "    Point p1(1, 2);\n",
        "    \n",
        "    std::cout << \"p1(\" << p1 << \")\\n\";\n",
        "\n",
        "    Point p2; // Create an object\n",
        "    std::cout << \"Enter x and y coordinates (separated by a space): \";\n",
        "    std::cin >> p2;\n",
        "\n",
        "    std::cout << \"p2(\" << p2 << \")\\n\";\n",
        "\n",
        "    return 0;\n",
        "}\n",
        "```"
      ],
      "metadata": {
        "id": "a8HrHuoB9jXN"
      }
    },
    {
      "cell_type": "markdown",
      "source": [
        "####**Section 2 Unary Operator Overloading**"
      ],
      "metadata": {
        "id": "LRMq3OpfdkF9"
      }
    },
    {
      "cell_type": "markdown",
      "source": [
        "#####**Unary Operator - [eng|](https://www.youtube.com/watch?v=ULp4eSHL3SM&list=PLk6CEY9XxSIAQ2vE_Jb4Dbmum7UfQrXgt&index=55)**"
      ],
      "metadata": {
        "id": "KMIXz5fp63_9"
      }
    },
    {
      "cell_type": "markdown",
      "source": [
        "```cpp\n",
        "#include <iostream>\n",
        "\n",
        "class Point\n",
        "{\n",
        "public:\n",
        "    Point(int x = 0, int y = 0) : x(x), y(y) {}\n",
        "    void print() {std::cout << \"x: \" << x << \" y: \" << y <<std::endl;}\n",
        "    Point operator - (){return Point(-x, -y);}\n",
        "private:\n",
        "    int x; y;\n",
        "};\n",
        "\n",
        "int main()\n",
        "{\n",
        "    Point p1(2, 3); p1.print();\n",
        "    Point p2 = -p1; p2.print();\n",
        "    return 0;\n",
        "}\n",
        "```"
      ],
      "metadata": {
        "id": "SYRjDbn864AG"
      }
    },
    {
      "cell_type": "markdown",
      "source": [
        "#####**Unary Operator ++ [kor|](https://www.youtube.com/watch?v=rwt-QkXpNb4&list=PLrj92cHmwIMd2q8sTFj66vLnKJxBlLYoN&index=3)[src|](https://cafe.naver.com/honeyc?iframe_url_utf8=%2FArticleRead.nhn%253Fclubid%3D11957566%2526page%3D1%2526menuid%3D117%2526boardtype%3DL%2526articleid%3D80484%2526referrerAllArticles%3Dfalse)**"
      ],
      "metadata": {
        "id": "SHeU7Ud5L4vC"
      }
    },
    {
      "cell_type": "markdown",
      "source": [
        "```cpp\n",
        "#include <iostream>\n",
        "\n",
        "class Point\n",
        "{\n",
        "public:\n",
        "    Point() : x(0), y(0){}\n",
        "    Point(int x, int y) : x(x), y(y) {}\n",
        "    Point& operator++() // pre\n",
        "    {\n",
        "        (this->x)++;\n",
        "        (this->y)++;\n",
        "        return *this;\n",
        "    }\n",
        "    Point operator++(int) // post\n",
        "    {\n",
        "        Point temp = *this; // copy *this\n",
        "        (this->x)++;\n",
        "        (this->y)++;\n",
        "        return temp; // return copy\n",
        "\t}\n",
        "    int getX() { return x; }\n",
        "\tint getY() { return y; }\n",
        "private:\n",
        "    int x, y;\n",
        "};\n",
        "\n",
        "int main()\n",
        "{\n",
        "\tPoint p(2, 3);\n",
        "    p++;\n",
        "\n",
        "    std::cout << p.getX() << \", \" << p.getY() << std::endl;\n",
        "\n",
        "\treturn 0;\n",
        "}\n",
        "```"
      ],
      "metadata": {
        "id": "BcQDJpZGL4vM"
      }
    },
    {
      "cell_type": "markdown",
      "source": [
        "###**Chapter 8 Static Method (Friend Function and Class in C++)**"
      ],
      "metadata": {
        "id": "xYWIi5iytwko"
      }
    },
    {
      "cell_type": "markdown",
      "source": [
        "####**Section 1 Friend Function**"
      ],
      "metadata": {
        "id": "Pl-f-xvPt7UN"
      }
    },
    {
      "cell_type": "markdown",
      "source": [
        "#####**Sample**"
      ],
      "metadata": {
        "id": "aMMOgArUNPa7"
      }
    },
    {
      "cell_type": "markdown",
      "source": [
        "```cpp\n",
        "#include <iostream>\n",
        "\n",
        "class Sample\n",
        "{\n",
        "private:\n",
        "    int a, b;\n",
        "public:\n",
        "    /*************************\n",
        "        프렌드 함수\n",
        "        - 전역함수를 클래스의 friend로 선언\n",
        "        - 전역함수는 friend를 선언한 클래스의 private멤버까지도 접근 가능하다.\n",
        "        - 여러 클래스와 밀접한 관계를 갖는 경우 사용한다.\n",
        "        - 전역함수는 마치 여러 클래스의 멤버 함수인 것처럼 사용 가능하다.\n",
        "    **************************/\n",
        "    friend void print(Sample);\n",
        "};\n",
        "\n",
        "void print(Sample s) {s.a = 10; s.b = 20; std::cout << s.a << s.b << std::endl;}\n",
        "\n",
        "int main()\n",
        "{\n",
        "    Sample s; print(s);\n",
        "    return 0;\n",
        "}\n",
        "```"
      ],
      "metadata": {
        "id": "NzJn11jhNcEq"
      }
    },
    {
      "cell_type": "markdown",
      "source": [
        "#####**Sample1 and Sample2 [eng|](https://www.youtube.com/watch?v=JY_tXO-wppk&list=PLVlQHNRLflP8_DGKcMoRw-TYJJALgGu4J&index=37)**"
      ],
      "metadata": {
        "id": "-XEOJojxRYTS"
      }
    },
    {
      "cell_type": "markdown",
      "source": [
        "```cpp\n",
        "#include <iostream>\n",
        "\n",
        "class Sample1; // Forward declaration of Sample1\n",
        "class Sample2; // Forward declaration of Sample2\n",
        "\n",
        "class Sample1\n",
        "{\n",
        "private:\n",
        "    int a;\n",
        "public:\n",
        "    Sample1(int a) : a(a) {}\n",
        "    friend void print_big(Sample1, Sample2);\n",
        "};\n",
        "\n",
        "class Sample2\n",
        "{\n",
        "private:\n",
        "    int b;\n",
        "public:\n",
        "    Sample2(int b) : b(b) {}\n",
        "    friend void print_big(Sample1, Sample2);\n",
        "};\n",
        "\n",
        "void print_big(Sample1 s1, Sample2 s2)\n",
        "{\n",
        "    if (s1.a > s2.b) std::cout << s1.a << std::endl;\n",
        "    else if (s1.a < s2.b) std::cout << s2.b << std::endl;\n",
        "    else std::cout << \"Tie\" << std::endl;\n",
        "}\n",
        "\n",
        "int main()\n",
        "{\n",
        "    Sample1 s1(10);\n",
        "    Sample2 s2(20);\n",
        "    print_big(s1, s2);\n",
        "    return 0;\n",
        "}\n",
        "```"
      ],
      "metadata": {
        "id": "BNIJsHgqRYTc"
      }
    },
    {
      "cell_type": "markdown",
      "source": [
        "#####**Date and Time [src|](https://cafe.naver.com/honeyc?iframe_url_utf8=%2FArticleRead.nhn%253Fclubid%3D11957566%2526page%3D1%2526menuid%3D117%2526boardtype%3DL%2526articleid%3D80484%2526referrerAllArticles%3Dfalse)**"
      ],
      "metadata": {
        "id": "CW86flonyaSU"
      }
    },
    {
      "cell_type": "markdown",
      "source": [
        "```cpp\n",
        "#include <iostream>\n",
        "\n",
        "class Time; // Forward declaration of Time\n",
        "\n",
        "class Date\n",
        "{\n",
        "public:\n",
        "    Date(int year, int month, int day) : year(year), month(month), day(day) {}\n",
        "    //프렌드 함수 : 클래스와 아주아주아주 밀접한 관계를 갖는 경우 선언한다.\n",
        "    //객체지향에 위배되기 때문에 가급적 사용하지 않는 것이 원칙이다.\n",
        "    //전역함수를 자신의 멤버인것처럼 쓰고자 할때 선언한다.\n",
        "    friend void outToday(Date &d, Time &t);\n",
        "private:\n",
        "    int year, month, day;\n",
        "};\n",
        "\n",
        "class Time\n",
        "{\n",
        "public:\n",
        "    Time(int hour = 0, int min = 0, int sec = 0) : hour(hour), min(min), sec(sec) {}\n",
        "    friend void outToday(Date &d, Time &t);\n",
        "private:\n",
        "    int hour, min, sec;\n",
        "};\n",
        "\n",
        "void outToday(Date &d, Time &t)\n",
        "{\n",
        "    std::cout << \"오늘은 \" << d.year << \"/\" << d.month << \"/\" << d.day << \", \"\n",
        "              << t.hour << \":\" << t.min << \":\" << t.sec << std::endl;\n",
        "}\n",
        "\n",
        "int main()\n",
        "{\n",
        "    Date d(2001, 8, 3);\n",
        "    Time t(11, 42, 18);\n",
        "\n",
        "    outToday(d, t);\n",
        "\n",
        "    return 0;\n",
        "}\n",
        "```"
      ],
      "metadata": {
        "id": "1VUBUErnyaSe"
      }
    },
    {
      "cell_type": "markdown",
      "source": [
        "####**Section 2 Friend Class**"
      ],
      "metadata": {
        "id": "06Khv-3kzIjS"
      }
    },
    {
      "cell_type": "markdown",
      "source": [
        "#####**Date and Time [src|](https://cafe.naver.com/honeyc?iframe_url_utf8=%2FArticleRead.nhn%253Fclubid%3D11957566%2526page%3D1%2526menuid%3D117%2526boardtype%3DL%2526articleid%3D80484%2526referrerAllArticles%3Dfalse)**"
      ],
      "metadata": {
        "id": "u6ogRDHsz60F"
      }
    },
    {
      "cell_type": "markdown",
      "source": [
        "```cpp\n",
        "#include <iostream>\n",
        "\n",
        "class Time;\n",
        "\n",
        "class Date\n",
        "{\n",
        "public:\n",
        "    Date(int year, int month, int day) : year(year), month(month), day(day) {}\n",
        "    void outToday(Time &t);\n",
        "private:\n",
        "    int year, month, day;\n",
        "};\n",
        "\n",
        "class Time\n",
        "{\n",
        "public:\n",
        "    Time(int hour = 0, int min = 0, int sec = 0) : hour(hour), min(min), sec(sec) {}\n",
        "    /***********************\n",
        "        프렌드 클래스\n",
        "        - 클래스를 friend로 선언\n",
        "        - friend로 선언된 클래스는 friend를 선언한 클래스의 private멤버까지도 접근 가능하다.\n",
        "        - 클래스 간에 밀접한 관계를 갖는 경우 사용한다.\n",
        "    ************************/\n",
        "    friend class Date; // Friend class declaration\n",
        "private:\n",
        "    int hour, min, sec;\n",
        "};\n",
        "\n",
        "// Define the member function outToday outside the class\n",
        "void Date::outToday(Time &t)\n",
        "{\n",
        "    std::cout << \"오늘은 \" << year << \"/\" << month << \"/\" << day << \", \"\n",
        "              << t.hour << \":\" << t.min << \":\" << t.sec << std::endl;\n",
        "}\n",
        "\n",
        "int main()\n",
        "{\n",
        "    Date d(2001, 8, 3);\n",
        "    Time t(11, 42, 18);\n",
        "    d.outToday(t);\n",
        "    return 0;\n",
        "}\n",
        "```"
      ],
      "metadata": {
        "id": "1drH_5Kvz60O"
      }
    },
    {
      "cell_type": "markdown",
      "source": [
        "#**PART X Inheritance**"
      ],
      "metadata": {
        "id": "ZkpB-qlTtZip"
      }
    },
    {
      "cell_type": "markdown",
      "source": [
        "###**Chapter 1 Inheritance**"
      ],
      "metadata": {
        "id": "HjGIVccTtgNQ"
      }
    },
    {
      "cell_type": "markdown",
      "source": [
        "#####**Human and Student [src|](https://cafe.naver.com/honeyc?iframe_url_utf8=%2FArticleRead.nhn%253FreferrerAllArticles%3Dfalse%2526menuid%3D117%2526page%3D1%2526boardtype%3DL%2526clubid%3D11957566%2526articleid%3D80485)**"
      ],
      "metadata": {
        "id": "9gGql4PHtnXa"
      }
    },
    {
      "cell_type": "markdown",
      "source": [
        "```python\n",
        "class Human:\n",
        "    def __init__(self, name=\"\", age=0):\n",
        "        print(\"1. 부모 생성자\")\n",
        "        self.mName = name\n",
        "        self.mAge = age\n",
        "\n",
        "    def GetName(self):\n",
        "        return self.mName\n",
        "\n",
        "    def GetAge(self):\n",
        "        return self.mAge\n",
        "\n",
        "    def SetName(self, name):\n",
        "        self.mName = name\n",
        "\n",
        "    def SetAge(self, age):\n",
        "        self.mAge = age\n",
        "\n",
        "    def ToString(self):\n",
        "        s1 = \"이름 : \" + self.mName\n",
        "        s2 = \"나이 : \" + str(self.mAge)\n",
        "        return s1 + \" \" + s2\n",
        "\n",
        "\n",
        "class Student(Human):\n",
        "    def __init__(self, no=\"\", major=\"\", name=\"\", age=0):\n",
        "        super().__init__(name, age)\n",
        "        print(\"1. 자식 생성자\")\n",
        "        self.mNo = no\n",
        "        self.mMajor = major\n",
        "\n",
        "    def GetNo(self):\n",
        "        return self.mNo\n",
        "\n",
        "    def GetMajor(self):\n",
        "        return self.mMajor\n",
        "\n",
        "    def SetNo(self, no):\n",
        "        self.mNo = no\n",
        "\n",
        "    def SetMajor(self, major):\n",
        "        self.mMajor = major\n",
        "\n",
        "    def ShowStudentInfo(self):\n",
        "        print(\"학번 : \" + self.mNo)\n",
        "        print(\"전공 : \" + self.mMajor)\n",
        "        print(\"이름 : \" + self.GetName())\n",
        "        print(\"나이 : \" + str(self.GetAge()))\n",
        "\n",
        "    def ToString(self):\n",
        "        parent_string = super().ToString()\n",
        "        s1 = \"학번 : \" + self.mNo\n",
        "        s2 = \"전공 : \" + self.mMajor\n",
        "        return parent_string + \" \" + s1 + \" \" + s2\n",
        "\n",
        "def main():\n",
        "    s1 = Student(\"00-1234\", \"컴퓨터과학과\", \"홍길동\", 20)\n",
        "    print(\"\\n*** s1 정보 ***\")\n",
        "    s1.ShowStudentInfo()\n",
        "\n",
        "    s2 = Student(\"00-5678\", \"전자공학과\", \"김철수\", 22)\n",
        "    print(\"\\n*** s2 정보 ***\")\n",
        "    s2.ShowStudentInfo()\n",
        "\n",
        "if __name__ == \"__main__\":\n",
        "    main()\n",
        "```\n",
        "\n",
        "\n",
        "```cpp\n",
        "#include <iostream>\n",
        "#include <string>\n",
        "\n",
        "class Human\n",
        "{\n",
        "public:\n",
        "    Human() {std::cout << \"1. 부모 생성자\\n\";}\n",
        "    Human(std::string name, int age) : mName(name), mAge(age)\n",
        "        {std::cout << \"2. 부모 생성자\\n\";}\n",
        "    Human(const Human& other) : mName(other.mName), mAge(other.mAge)\n",
        "        {std::cout << \"3. 부모 복사 생성자(내부적으로 생성되는 디폴트 복사 생성자와 같다.)\\n\";}\n",
        "    ~Human(){std::cout << \"~ 부모 소멸자\\n\";}\n",
        "    std::string GetName() const {return mName;}\n",
        "    int GetAge() const {return mAge;}\n",
        "    void SetName(std::string name) {mName = name;}\n",
        "    void SetAge(int age){mAge = age;}\n",
        "    std::string ToString()\n",
        "    {\n",
        "        std::string s1 = \"이름 : \" + mName;\n",
        "        std::string s2 = \"나이 : \" + std::to_string(mAge);\n",
        "        return s1 + \" \" + s2;\n",
        "    }\n",
        "protected:\n",
        "    std::string mName = \"\";\n",
        "    int mAge = 0;\n",
        "};\n",
        "\n",
        "class Student : public Human\n",
        "{\n",
        "public:\n",
        "    Student() {std::cout << \"1. 자식 생성자\\n\";}\n",
        "    Student(std::string no, std::string major, std::string name, int age)\n",
        "        : Human(name, age), mNo(no), mMajor(major)\n",
        "        {std::cout << \"2. 자식 생성자\\n\";}\n",
        "    Student(const Student& other)\n",
        "        : Human(other), mNo(other.mNo), mMajor(other.mMajor)\n",
        "        {std::cout << \"3. 자식 복사 생성자\\n\";}\n",
        "    ~Student() {std::cout << \"~ 자식 소멸자\\n\";}\n",
        "    std::string GetNo() const {return mNo;}\n",
        "    std::string GetMajor() const {return mMajor;}\n",
        "    void SetNo(std::string no) {mNo = no;}\n",
        "    void SetMajor(std::string major) {mMajor = major;}\n",
        "    void ShowStudentInfo() const\n",
        "    {\n",
        "        std::cout << \"학번 : \" << mNo << std::endl;\n",
        "        std::cout << \"전공 : \" << mMajor << std::endl;\n",
        "        std::cout << \"이름 : \" << GetName() << std::endl;\n",
        "        std::cout << \"나이 : \" << GetAge() << std::endl;\n",
        "    }\n",
        "    std::string ToString()\n",
        "    {\n",
        "        std::string parentString = Human::ToString();\n",
        "        std::string s1 = \"학번 : \" + mNo;\n",
        "        std::string s2 = \"전공 : \" + mMajor;\n",
        "        return parentString + \" \" + s1 + \" \" + s2;\n",
        "    }\n",
        "private:\n",
        "    std::string mNo = \"\";\n",
        "    std::string mMajor = \"\";\n",
        "};\n",
        "\n",
        "int main()\n",
        "{\n",
        "    Student s1(\"00-1234\", \"컴퓨터과학과\", \"홍길동\", 20);\n",
        "    std::cout << \"\\n*** s1 정보 ***\\n\";\n",
        "    s1.ShowStudentInfo();\n",
        "\n",
        "    Student s2 = s1;\n",
        "    std::cout << \"\\n*** s2 정보 ***\\n\";\n",
        "    s2.ShowStudentInfo();\n",
        "\n",
        "    return 0;\n",
        "}\n",
        "```"
      ],
      "metadata": {
        "id": "1Laqubc2tnXk"
      }
    },
    {
      "cell_type": "markdown",
      "source": [
        "#####**Date and Product [src|](https://cafe.naver.com/honeyc?iframe_url_utf8=%2FArticleRead.nhn%253FreferrerAllArticles%3Dfalse%2526menuid%3D117%2526page%3D1%2526boardtype%3DL%2526clubid%3D11957566%2526articleid%3D80485)**"
      ],
      "metadata": {
        "id": "I7Iql0q6xFDZ"
      }
    },
    {
      "cell_type": "markdown",
      "source": [
        "```python\n",
        "class Date:\n",
        "    def __init__(self, year=1900, month=1, day=1):\n",
        "        print(\"1. 부모 생성자\")\n",
        "        self.mYear = year\n",
        "        self.mMonth = month\n",
        "        self.mDay = day\n",
        "\n",
        "    def get_year(self):\n",
        "        return self.mYear\n",
        "\n",
        "    def get_month(self):\n",
        "        return self.mMonth\n",
        "\n",
        "    def get_day(self):\n",
        "        return self.mDay\n",
        "\n",
        "    def set_year(self, year):\n",
        "        self.mYear = year\n",
        "\n",
        "    def set_month(self, month):\n",
        "        self.mMonth = month\n",
        "\n",
        "    def set_day(self, day):\n",
        "        self.mDay = day\n",
        "\n",
        "    def to_string(self):\n",
        "        return f\"{self.mYear}/{self.mMonth}/{self.mDay}\"\n",
        "\n",
        "    def __str__(self):\n",
        "        return self.to_string()\n",
        "\n",
        "    def __repr__(self):\n",
        "        return self.to_string()\n",
        "\n",
        "\n",
        "class Product(Date):\n",
        "    def __init__(self, title=\"\", company=\"\", price=0, year=2008, month=2, day=4):\n",
        "        super().__init__(year, month, day)\n",
        "        print(\"1. 자식 생성자\")\n",
        "        self.mTitle = title\n",
        "        self.mCompany = company\n",
        "        self.mPrice = price\n",
        "\n",
        "    def show_product_info(self):\n",
        "        print(\"상품명:\", self.mTitle)\n",
        "        print(\"제조사:\", self.mCompany)\n",
        "        print(\"제조일자:\", self.to_string())\n",
        "\n",
        "    def __str__(self):\n",
        "        return f\"{super().__str__()}\\n상품명: {self.mTitle}\\n제조사: {self.mCompany}\"\n",
        "\n",
        "\n",
        "def main():\n",
        "    p1 = Product(\"새우깡\", \"농심\", 700, 2008, 2, 4)  # 객체 생성\n",
        "    p1.show_product_info()\n",
        "\n",
        "    p2 = Product(p1.mTitle, p1.mCompany, p1.mPrice, p1.mYear, p1.mMonth, p1.mDay)\n",
        "    print(\"\\n*** p2 정보 ***\")\n",
        "    p2.show_product_info()\n",
        "\n",
        "if __name__ == \"__main__\":\n",
        "    main()\n",
        "```\n",
        "\n",
        "\n",
        "```cpp\n",
        "#include <iostream>\n",
        "#include <string>\n",
        "\n",
        "class Date\n",
        "{\n",
        "public:\n",
        "    Date() {std::cout << \"1. 부모 생성자\\n\";}\n",
        "    Date(int year, int month, int day) : mYear(year), mMonth(month), mDay(day)\n",
        "        {std::cout << \"2. 부모 생성자\\n\";}\n",
        "    Date(const Date& other)\n",
        "        : mYear(other.mYear), mMonth(other.mMonth), mDay(other.mDay)\n",
        "        {std::cout << \"3. 부모 복사 생성자\\n\";}\n",
        "    ~Date() {std::cout << \"~ 부모 소멸자\\n\";}\n",
        "    inline int GetYear() const { return mYear; }\n",
        "    inline int GetMonth() const { return mMonth; }\n",
        "    inline int GetDay() const { return mDay; }\n",
        "    inline void SetYear(int year) { mYear = year; }\n",
        "    inline void SetMonth(int month) { mMonth = month; }\n",
        "    inline void SetDay(int day) { mDay = day; }\n",
        "    std::string ToString() const\n",
        "    {\n",
        "        return std::to_string(mYear) + \"/\" + std::to_string(mMonth) + \"/\" + std::to_string(mDay);\n",
        "    }\n",
        "private:\n",
        "    int mYear = 1900, mMonth = 1, mDay = 1;\n",
        "};\n",
        "\n",
        "class Product : public Date\n",
        "{\n",
        "public:\n",
        "    Product() {std::cout << \"1. 자식 생성자\\n\";}\n",
        "    Product(std::string title, std::string company, int price, int year, int month, int day)\n",
        "        : Date(year, month, day), mTitle(title), mCompany(company), mPrice(price)\n",
        "        {std::cout << \"2. 자식 생성자\\n\";}\n",
        "    Product(const Product& other) : Date(other)\n",
        "    {\n",
        "        mTitle = other.mTitle;\n",
        "        mCompany = other.mCompany;\n",
        "        mPrice = other.mPrice;\n",
        "        std::cout << \"3. 자식 복사 생성자\\n\";\n",
        "    }\n",
        "    void ShowProductInfo() const\n",
        "    {\n",
        "        std::cout << \"상품명 : \" << mTitle << std::endl;\n",
        "        std::cout << \"제조사 : \" << mCompany << std::endl;\n",
        "        // 부모의 public, protected 멤버는 자유롭게 호출 가능\n",
        "        std::cout << \"제조일자 : \" << ToString() << std::endl;\n",
        "    }\n",
        "private:\n",
        "    std::string mTitle = \"\", mCompany = \"\";\n",
        "    int mPrice = 0;\n",
        "};\n",
        "\n",
        "int main() {\n",
        "    Product p1(\"새우깡\", \"농심\", 700, 2008, 2, 4); // 객체 생성\n",
        "    p1.ShowProductInfo();\n",
        "\n",
        "    Product p2 = p1;\n",
        "    p2.ShowProductInfo();\n",
        "\n",
        "    return 0;\n",
        "}\n",
        "```"
      ],
      "metadata": {
        "id": "t6cIN9VrxFDj"
      }
    },
    {
      "cell_type": "markdown",
      "source": [
        "###**Chapter 2 Method Override**"
      ],
      "metadata": {
        "id": "-l8upSR61i5R"
      }
    },
    {
      "cell_type": "markdown",
      "source": [
        "#####**Animal [src|](https://cafe.naver.com/honeyc?iframe_url_utf8=%2FArticleRead.nhn%253Fclubid%3D11957566%2526page%3D1%2526menuid%3D117%2526boardtype%3DL%2526articleid%3D80492%2526referrerAllArticles%3Dfalse)**"
      ],
      "metadata": {
        "id": "IZa5_e_B-S3H"
      }
    },
    {
      "cell_type": "markdown",
      "source": [
        "```python\n",
        "import os\n",
        "import time\n",
        "\n",
        "class Animal:\n",
        "    def walk(self):\n",
        "        print(\"[부모 클래스] 네 발로 걷는다.\")\n",
        "    \n",
        "    def speak(self):\n",
        "        raise NotImplementedError(\"[부모 클래스] 다양한 동물의 울음 소리 출력.\")\n",
        "    \n",
        "    def __del__(self):\n",
        "        print(\"[부모 클래스] 소멸자\")\n",
        "\n",
        "class Dog(Animal):\n",
        "    def speak(self):\n",
        "        print(\"[자식 클래스 : overriding] 멍멍!!\")\n",
        "    \n",
        "    def __del__(self):\n",
        "        print(\"[자식 클래스] Dog 소멸자\")\n",
        "\n",
        "class Cat(Animal):\n",
        "    def speak(self):\n",
        "        print(\"[자식 클래스 : overriding] 야옹!!\")\n",
        "    \n",
        "    def __del__(self):\n",
        "        print(\"[자식 클래스] Cat 소멸자\")\n",
        "\n",
        "class Pig(Animal):\n",
        "    def speak(self):\n",
        "        print(\"[자식 클래스 : overriding] 꿀꿀!!\")\n",
        "    \n",
        "    def __del__(self):\n",
        "        print(\"[자식 클래스] Pig 소멸자\")\n",
        "\n",
        "class Duck(Animal):\n",
        "    def walk(self):\n",
        "        print(\"[부모 클래스 : overriding] 두 발로 걷는다.\")\n",
        "    \n",
        "    def speak(self):\n",
        "        print(\"[자식 클래스 : overriding] 꽥꽥!!\")\n",
        "    \n",
        "    def __del__(self):\n",
        "        print(\"[자식 클래스] Duck 소멸자\")\n",
        "\n",
        "def main():\n",
        "    while True:\n",
        "        os.system(\"clear\")\n",
        "        print(\"\\n\\n\\t\\t *** 동물 농장 ***\\n\\n\")\n",
        "        print(\"1. Dog    2. Cat    3. Pig    4. Duck    0. Terminate\")\n",
        "        choice = int(input(\"choice : \"))\n",
        "        \n",
        "        if choice == 1:\n",
        "            animal = Dog()\n",
        "        elif choice == 2:\n",
        "            animal = Cat()\n",
        "        elif choice == 3:\n",
        "            animal = Pig()\n",
        "        elif choice == 4:\n",
        "            animal = Duck()\n",
        "        elif choice == 0:\n",
        "            break\n",
        "        \n",
        "        if animal:\n",
        "            animal.speak()\n",
        "            animal.walk()\n",
        "            del animal\n",
        "        \n",
        "        print(\"\\n\\n\\t\\t\")\n",
        "        time.sleep(3)\n",
        "\n",
        "if __name__ == \"__main__\":\n",
        "    main()\n",
        "```\n",
        "\n",
        "\n",
        "```cpp\n",
        "#include <iostream>\n",
        "#include <string>\n",
        "#include <cstdlib>  // Include the <cstdlib> header for sleep\n",
        "#include <unistd.h> // Include <unistd.h> for sleep on some systems\n",
        "\n",
        "//추상 클래스 : 순수 가상메서드를 한 개 이상 포함한 클래스를 말한다.\n",
        "//추상 클래스는 인스턴스 생성이 불가능하다.\n",
        "//즉, 포인터만 생성할 수 있다.\n",
        "//Animal ob; //인스턴스 생성 불가능\n",
        "//Animal* p; //포인터만 생성 가능\n",
        "class Animal\n",
        "{\n",
        "public:\n",
        "    virtual void Walk() {std::cout << \"[부모 클래스] 네 발로 걷는다.\\n\";}\n",
        "    virtual void Speak() = 0;\n",
        "    /* In C++, when a member function of a class is declared as virtual and is\n",
        "    assigned the value 0, it is called a pure virtual function.\n",
        "    `= 0`; This part makes the function pure virtual, indicating that there is\n",
        "    no implementation for this function in the base class ,i.e., Animal. Any\n",
        "    class deriving from Animal must provide its own implementation of the Speak\n",
        "    function. If a derived class fails to do so, it will also be an abstract\n",
        "    class and cannot be instantiated. */\n",
        "    virtual ~Animal() {std::cout << \"[부모 클래스] 소멸자\\n\";}\n",
        "    //가상 메서드를 포함한 클래스는 반드시 가상 소멸자를 정의해야 한다.\n",
        "\t//가상 소멸자를 정의하지 않을 시 자식 인스턴스의 제거는 불가능하다.\n",
        "};\n",
        "\n",
        "class Dog : public Animal\n",
        "{\n",
        "public:\n",
        "    void Speak() override {std::cout << \"[자식 클래스 : overriding] 멍멍!!\\n\";}\n",
        "    ~Dog() {std::cout << \"[자식 클래스] Dog 소멸자\\n\";}\n",
        "};\n",
        "\n",
        "class Cat : public Animal\n",
        "{\n",
        "public:\n",
        "    void Speak() override {std::cout << \"[자식 클래스 : overriding] 야옹!!\\n\";}\n",
        "    ~Cat() {std::cout << \"[자식 클래스] Cat 소멸자\\n\";}\n",
        "};\n",
        "\n",
        "class Pig : public Animal\n",
        "{\n",
        "public:\n",
        "    void Speak() override {std::cout << \"[자식 클래스 : overriding] 꿀꿀!!\\n\";}\n",
        "    ~Pig() {std::cout << \"[자식 클래스] Pig 소멸자\\n\";}\n",
        "};\n",
        "\n",
        "class Duck : public Animal\n",
        "{\n",
        "public:\n",
        "    void Walk() override{std::cout << \"[부모 클래스 : overriding] 두 발로 걷는다.\\n\";}\n",
        "    void Speak() override {std::cout << \"[자식 클래스 : overriding] 꽥꽥!!\\n\";}\n",
        "    ~Duck() {std::cout << \"[자식 클래스] Duck 소멸자\\n\";}\n",
        "};\n",
        "\n",
        "int main()\n",
        "{\n",
        "    Animal* pAni = nullptr;\n",
        "\n",
        "    while (true)\n",
        "    {\n",
        "        system(\"clear\");\n",
        "        std::cout << \"\\n\\n\\t\\t *** 동물 농장 ***\\n\\n\";\n",
        "        std::cout << \"1. Dog    2. Cat    3. Pig    4. Duck    0. Terminate\\n\";\n",
        "        std::cout << \"choice : \";\n",
        "        int choice; std::cin >> choice;\n",
        "\n",
        "        switch (choice)\n",
        "        {\n",
        "            case 1: pAni = new Dog; break;\n",
        "            case 2: pAni = new Cat; break;\n",
        "            case 3: pAni = new Pig; break;\n",
        "            case 4: pAni = new Duck; break;\n",
        "            case 0: exit(0);\n",
        "        }\n",
        "        if (pAni) {pAni->Speak(); pAni->Walk(); delete pAni;}\n",
        "\n",
        "        std::cout << \"\\n\\n\\t\\t\"; sleep(3);\n",
        "    }\n",
        "    return 0;\n",
        "}\n",
        "```"
      ],
      "metadata": {
        "id": "KUH_CnpT-S3R"
      }
    },
    {
      "cell_type": "markdown",
      "source": [
        "#**PART XI EXCEPTION**"
      ],
      "metadata": {
        "id": "SE9rb4GnSoMf"
      }
    },
    {
      "cell_type": "markdown",
      "source": [
        "###**Chapter 1 Exception**"
      ],
      "metadata": {
        "id": "EzRU-CBURGNF"
      }
    },
    {
      "cell_type": "markdown",
      "source": [
        "#####**Catch Error: Division by Zero [kor|](https://www.youtube.com/watch?v=PwaSb56uEvU&list=PLDV-cCQnUlIZQSNZUXrUQdPgL14DIGxsA&index=2)**"
      ],
      "metadata": {
        "id": "jKnKyZggzped"
      }
    },
    {
      "cell_type": "markdown",
      "source": [
        "\n",
        "\n",
        "```python\n",
        "class DivisionByZeroError(Exception):\n",
        "    pass\n",
        "\n",
        "def divide(a, b):\n",
        "    if b == 0:\n",
        "        raise DivisionByZeroError(\"Error: Division by zero\")\n",
        "    return a / b\n",
        "\n",
        "def main():\n",
        "    try:\n",
        "        result = divide(10, 0)\n",
        "        print(result)\n",
        "    except DivisionByZeroError as e:\n",
        "        print(e)\n",
        "\n",
        "if __name__ == \"__main__\":\n",
        "    main()\n",
        "\n",
        "```\n",
        "\n",
        "```cpp\n",
        "#include <iostream>\n",
        "#include <exception>\n",
        "\n",
        "int divide(int a, int b)\n",
        "{\n",
        "    if (b == 0) {throw std::runtime_error(\"Error: Division by zero\");}\n",
        "    return a / b;\n",
        "}\n",
        "  \n",
        "int main()  \n",
        "{  \n",
        "    try {std::cout << divide(10, 0) << std::endl;}\n",
        "    catch(const std::exception& e) {std::cerr << e.what() << std::endl;}\n",
        "    catch(...) {std::cerr << \"caught\" << std::endl;}\n",
        "    return 0;  \n",
        "}\n",
        "```\n",
        "\n",
        "```c\n",
        "#include <stdio.h>\n",
        "\n",
        "int divide(int a, int b, int* result)\n",
        "{\n",
        "    if (b == 0)\n",
        "    {\n",
        "        return 0; // Return 0 to indicate division by zero error\n",
        "    }\n",
        "\n",
        "    *result = a / b;\n",
        "    return 1; // Return 1 to indicate success\n",
        "}\n",
        "\n",
        "int main()\n",
        "{\n",
        "    int a = 10, b = 0, result;\n",
        "\n",
        "    if (divide(a, b, &result))\n",
        "    {\n",
        "        printf(\"Result: %d\\n\", result);\n",
        "    }\n",
        "    else\n",
        "    {\n",
        "        printf(\"Error: Division by zero\\n\");\n",
        "    }\n",
        "\n",
        "    return 0;\n",
        "}\n",
        "  \n",
        "```\n",
        "\n",
        "\n",
        "\n"
      ],
      "metadata": {
        "id": "DgWhz4pVzpen"
      }
    },
    {
      "cell_type": "markdown",
      "source": [
        "#####**noexcept**"
      ],
      "metadata": {
        "id": "3T5hZOPxb8P0"
      }
    },
    {
      "cell_type": "markdown",
      "source": [
        "```cpp\n",
        "#include <iostream>\n",
        "#include <utility>\n",
        "\n",
        "class Vector\n",
        "{\n",
        "public:\n",
        "    Vector(int size) : size_(size), data_(new int[size])\n",
        "        {std::cout << \"Constructor called\" << std::endl;}\n",
        "\n",
        "    // Move constructor with an rvalue reference\n",
        "    Vector(Vector&& other) noexcept\n",
        "    /* The noexcept specifier in C++ is used to indicate whether a function can\n",
        "    throw exceptions. It is part of exception specifications and is used for\n",
        "    error handling and to determine if a function should be considered\n",
        "    potentially throwing exceptions.\n",
        "  \n",
        "    noexcept(true) or noexcept: This means that the function will not throw\n",
        "    any exceptions. If an exception is thrown within such a function,\n",
        "    the std::terminate function is called, which typically leads to program\n",
        "    termination. */\n",
        "    {\n",
        "        size_ = other.size_;\n",
        "        data_ = other.data_;\n",
        "        other.size_ = 0;\n",
        "        other.data_ = nullptr;\n",
        "        std::cout << \"Move constructor called\" << std::endl;\n",
        "    }\n",
        "\n",
        "    ~Vector()\n",
        "    {\n",
        "        delete[] data_;\n",
        "        std::cout << \"Destructor called\" << std::endl;\n",
        "    }\n",
        "\n",
        "private:\n",
        "    int size_;\n",
        "    int* data_;\n",
        "};\n",
        "\n",
        "int main() {\n",
        "    Vector vec1(5); // Create a Vector object\n",
        "\n",
        "    Vector vec2 = std::move(vec1); // Move constructor\n",
        "\n",
        "    return 0;\n",
        "}\n",
        "```"
      ],
      "metadata": {
        "id": "gg8ov-RCb8P9"
      }
    },
    {
      "cell_type": "markdown",
      "source": [
        "#**PART XII PREPROCESS**"
      ],
      "metadata": {
        "id": "78PkexERSgkO"
      }
    },
    {
      "cell_type": "markdown",
      "source": [
        "###**Chapter 1 Macro**"
      ],
      "metadata": {
        "id": "uXtMjpJmQ7R2"
      }
    },
    {
      "cell_type": "markdown",
      "source": [
        "#####**Find Area of Circle Using Macro Expansion [eng|](https://www.youtube.com/watch?v=fMe5ieQY_Zk&list=PLM4pPs1mzl_OgHW0_jfgDz3ZR_gUbp-47&index=309)**"
      ],
      "metadata": {
        "id": "4HuXjEp7htlM"
      }
    },
    {
      "cell_type": "markdown",
      "source": [
        "\n",
        "\n",
        "```python\n",
        "import numpy as np\n",
        "\n",
        "PI = np.pi\n",
        "\n",
        "def main():\n",
        "    r = float(input(\"Enter Radius of Circle : \"))\n",
        "\n",
        "    area = PI * r * r\n",
        "    print(f\"{area = }\")\n",
        "\n",
        "if __name__ == \"__main__\":\n",
        "    main()\n",
        "```\n",
        "\n",
        "```cpp\n",
        "#include <iostream>\n",
        "\n",
        "#define PI 3.14  \n",
        "  \n",
        "int main()  \n",
        "{  \n",
        "    float r, area;  \n",
        "  \n",
        "    std::cout << \"Enter Radius of Circle : \";  \n",
        "    std::cin >> r;  \n",
        "  \n",
        "    area = PI * r * r;  \n",
        "  \n",
        "    std::cout << \"Area of Circle is \" << area << std::endl;  \n",
        "  \n",
        "    return 0;  \n",
        "}\n",
        "```\n",
        "\n",
        "```c\n",
        "#include <stdio.h>\n",
        "  \n",
        "#define PI 3.14  \n",
        "  \n",
        "int main()  \n",
        "{  \n",
        "    float r, area;  \n",
        "  \n",
        "    printf(\"Enter Radius of Circle\\n\");  \n",
        "    scanf(\"%f\", &r);  \n",
        "  \n",
        "    area = PI * r * r;  \n",
        "  \n",
        "    printf(\"Area of Circle is %f\\n\", area);  \n",
        "  \n",
        "    return 0;  \n",
        "}  \n",
        "```\n",
        "\n",
        "\n",
        "\n"
      ],
      "metadata": {
        "id": "_cFLSSVThtlW"
      }
    },
    {
      "cell_type": "markdown",
      "source": [
        "#####**Macros With Arguments : Biggest of 2 Numbers [eng|](https://www.youtube.com/watch?v=TQZ3g7Ne_q4&list=PLM4pPs1mzl_OgHW0_jfgDz3ZR_gUbp-47&index=311)**"
      ],
      "metadata": {
        "id": "Rg_e6M6rloYV"
      }
    },
    {
      "cell_type": "markdown",
      "source": [
        "Macro expansion, as it is seen in languages like C and C++ with preprocessor macros, does not exist in Python. Python doesn't have a preprocessor stage like C and C++ do, where macros are expanded before code compilation.\n",
        "\n",
        "Instead, Python relies on a different approach to code reuse and abstraction. In Python, you typically use functions and classes for code encapsulation and reuse rather than macros. Functions in Python can take arguments and return values, providing a way to create reusable code blocks. Similarly, classes allow you to create objects with methods that encapsulate functionality.\n",
        "\n",
        "Here, we provide a Python code using lambda expression, a function. Since the lambda expression is a function, it behaves differently from the macro expansion.\n",
        "\n",
        "```python\n",
        "MAX = lambda x, y: x if ( x > y ) else y\n",
        "\n",
        "def main():\n",
        "    a, b = tuple(int(x) for x in input(\"Enter 2 numbers : \").split())\n",
        "\n",
        "    print(f\"Biggest of {a} and {b} is {MAX(a,b)}\")\n",
        "\n",
        "if __name__ == \"__main__\":\n",
        "    main()\n",
        "```\n",
        "\n",
        "```cpp\n",
        "#include <iostream>\n",
        "\n",
        "#define MAX(x, y) ( x > y ? x : y )  \n",
        "  \n",
        "int main()  \n",
        "{  \n",
        "    int a, b;  \n",
        "  \n",
        "    std::cout << \"Enter 2 numbers : \";  \n",
        "    std::cin >> a >> b;  \n",
        "  \n",
        "    std::cout << \"Biggest of \" << a << \" and \" << b << \" is \" << MAX(a, b) << std::endl;  \n",
        "  \n",
        "    return 0;  \n",
        "}  \n",
        "```\n",
        "\n",
        "```c\n",
        "#include <stdio.h>\n",
        "  \n",
        "#define MAX(x, y) ( x > y ? x : y )  \n",
        "  \n",
        "int main()  \n",
        "{  \n",
        "    int a, b;  \n",
        "  \n",
        "    printf(\"Enter 2 numbers\\n\");  \n",
        "    scanf(\"%d%d\", &a, &b);  \n",
        "  \n",
        "    printf(\"Biggest of %d and %d is %d\\n\", a, b, MAX(a, b));  \n",
        "  \n",
        "    return 0;  \n",
        "}  \n",
        "```\n",
        "\n",
        "\n",
        "\n"
      ],
      "metadata": {
        "id": "gdEHXqlhloYf"
      }
    },
    {
      "cell_type": "markdown",
      "source": [
        "#**Reference**"
      ],
      "metadata": {
        "id": "ob9KzODq8Rj2"
      }
    },
    {
      "cell_type": "markdown",
      "source": [
        "\n",
        "\n",
        "[ChatGPT](https://openai.com/blog/chatgpt)\n",
        "\n",
        "[cppreference](https://en.cppreference.com/w/)\n",
        "\n",
        "[cplusplus](https://cplusplus.com/)\n",
        "\n",
        "[isocpp](https://isocpp.org/)\n",
        "\n",
        "[Compiler Explorer](https://godbolt.org/)\n",
        "\n",
        "Mike Shah\n",
        "[C|](https://www.youtube.com/playlist?list=PLvv0ScY6vfd8M-Mi_Vyrg7KgISTW3Sklt)\n",
        "[C++|](https://www.youtube.com/playlist?list=PLvv0ScY6vfd8j-tlhYVPYgiIyXduu6m-L)\n",
        "[C++ Concurrency|](https://www.youtube.com/playlist?list=PLvv0ScY6vfd_ocTP2ZLicgqKnvq50OCXM)\n",
        "[AssemblyProgramming GNU Gas x86-64|](https://www.youtube.com/playlist?list=PLvv0ScY6vfd9BSBznpARlKGziF1xrlU54)\n",
        "\n",
        "코드없는 프로그래밍\n",
        "[C++ Types|](https://www.youtube.com/playlist?list=PLDV-cCQnUlIbMTKI-Tc3RV6i3yn0IWeLT)\n",
        "[C++ 예외처리|](https://www.youtube.com/playlist?list=PLDV-cCQnUlIZQSNZUXrUQdPgL14DIGxsA)\n",
        "[C++ Memory|](https://www.youtube.com/playlist?list=PLDV-cCQnUlIYbHztmY7hFUCd2eGI7sQ_0)\n",
        "\n",
        "\n",
        "Naresh i Technologies\n",
        "[C|](https://www.youtube.com/playlist?list=PLVlQHNRLflP8IGz6OXwlV_lgHgc72aXlh)\n",
        "[C Q&A|](https://www.youtube.com/playlist?list=PLVlQHNRLflP84oVpQM8HPgT67PMb4Zl7n)\n",
        "[C++|](https://www.youtube.com/playlist?list=PLVlQHNRLflP8_DGKcMoRw-TYJJALgGu4J)\n",
        "[Data Structures|](https://www.youtube.com/playlist?list=PLVlQHNRLflP_OxF1QJoGBwH_TnZszHR_j)\n",
        "[Python|](https://www.youtube.com/playlist?list=PLVlQHNRLflP_7_EVsJvOnyEhpfvDIJ73z)\n",
        "[Python Tutorial|](https://www.youtube.com/playlist?list=PLVlQHNRLflP-U1R3ye_g0fOuWVjcuDW3K)\n",
        "[Python List|](https://www.youtube.com/playlist?list=PLVlQHNRLflP-LWiSPknuGFHtu_CN-Oeey)\n",
        "[Python Challenges|](https://www.youtube.com/playlist?list=PLVlQHNRLflP_mVSnd4Hmt4kDvBj6Eig29)\n",
        "[Data Science Training|](https://www.youtube.com/playlist?list=PLVlQHNRLflP_PtgkBFECY_SkYbEt1m1bk)\n",
        "\n",
        "Technotip\n",
        "[C|](https://www.youtube.com/playlist?list=PLM4pPs1mzl_OgHW0_jfgDz3ZR_gUbp-47)\n",
        "\n",
        "서무성\n",
        "[C++|](https://www.youtube.com/playlist?list=PLwpweFg5_rLckZc3vgQBcfKyAduRpMghn)\n",
        "\n",
        "C++ Weekly With Jason Turner\n",
        "[C++ Weekly|](https://www.youtube.com/playlist?list=PLs3KjaCtOwSZ2tbuV1hx8Xz-rFZTan2J1)\n",
        "\n",
        "Tutorialspoint\n",
        "[C|](https://www.youtube.com/playlist?list=PLWPirh4EWFpEkJwJNFz8i-58DoNsJXwTB)\n",
        "[C++|](https://www.youtube.com/playlist?list=PLWPirh4EWFpGDG3--IKMLPoYrgfuhaz_t)\n",
        "[Python|](https://www.youtube.com/playlist?list=PLWPirh4EWFpEPEtQRXTuvl195x5vXFMXR)\n",
        "\n",
        "The Cherno\n",
        "[C++|](https://www.youtube.com/playlist?list=PLlrATfBNZ98dudnM48yfGUldqGD0S4FFb)\n",
        "\n",
        "Jenny's Lectures CS IT\n",
        "[C++|](https://www.youtube.com/playlist?list=PLdo5W4Nhv31YU5Wx1dopka58teWP9aCee)\n",
        "\n",
        "Telusko\n",
        "[JAVA|](https://www.youtube.com/playlist?list=PLsyeobzWxl7pFZoGT1NbZJpywedeyzyaf)\n",
        "\n",
        "Abdul Bari\n",
        "[Algorithm|](https://www.youtube.com/playlist?list=PLDN4rrl48XKpZkf03iYFl-O29szjTrs_O)\n",
        "\n",
        "CodeWithHarry\n",
        "[C|](https://www.youtube.com/playlist?list=PLu0W_9lII9ahSEQv6cHtu8JBXNgK2_QMX)\n",
        "\n",
        "\n",
        "\n",
        "\n",
        "\n",
        "\n",
        "\n",
        "Portfolio Courses\n",
        "[C++](https://www.youtube.com/playlist?list=PLA1FTfKBAEX6BdpNaWp2uw-YspHwY7qwW)\n",
        "\n",
        "Bo Qian\n",
        "[C++ Multiprocessing|](https://www.youtube.com/playlist?list=PL4PTjNRPkeAerDX-oAY5mOBZrApePHlbI)\n",
        "\n",
        "\n",
        "CppNuts\n",
        "[C++ Tutorial For Beginners|](https://www.youtube.com/playlist?list=PLk6CEY9XxSIAQ2vE_Jb4Dbmum7UfQrXgt)\n",
        "[Threading In C++|](https://www.youtube.com/watch?v=zUy66Bats5c)\n",
        "\n",
        "CodeVault\n",
        "[C|](https://www.youtube.com/playlist?list=PLfqABt5AS4FmErobw8YyTwXDUE5nPH5lH)\n",
        "[Unix Processes in C|](https://www.youtube.com/playlist?list=PLfqABt5AS4FkW5mOn2Tn9ZZLLDwA3kZUY)\n",
        "[Unix Threads in C|](https://www.youtube.com/playlist?list=PLfqABt5AS4FmuQf70psXrsMLEDQXNkLq2)\n",
        "\n",
        "\n",
        "\n",
        "Jacob Sorber\n",
        "[Beginners|](https://www.youtube.com/playlist?list=PL9IEJIKnBJjG5H0ylFAzpzs9gSmW_eICB)\n",
        "[Makefile|](https://www.youtube.com/playlist?list=PL9IEJIKnBJjEPxenuhKU7J5smY4XjFnyg)\n",
        "[Debugging|](https://www.youtube.com/playlist?list=PL9IEJIKnBJjHGWPN_S9NS_Ky1-tC8ZrUI)\n",
        "[Code Smells|](https://www.youtube.com/playlist?list=PL9IEJIKnBJjFk4D6XraTlkO6gOjwAQOIJ)\n",
        "[Libraries|](https://www.youtube.com/playlist?list=PL9IEJIKnBJjFn6zQQkJ2e8vxCVxhl2yuD)\n",
        "[Data Structures|](https://www.youtube.com/playlist?list=PL9IEJIKnBJjFiudyP6wSXmykrn67Ykqib)\n",
        "[Processes|](https://www.youtube.com/playlist?list=PL9IEJIKnBJjFNNfpY6fHjVzAwtgRYjhPw)\n",
        "[Threads|](https://www.youtube.com/playlist?list=PL9IEJIKnBJjFZxuqyJ9JqVYmuFZHr7CFM)\n",
        "[Memory|](https://www.youtube.com/playlist?list=PL9IEJIKnBJjGAINguks7wyq7TAnHOZGRl)\n",
        "[Network|](https://www.youtube.com/playlist?list=PL9IEJIKnBJjH_zM5LnovnoaKlXML5qh17)\n",
        "\n",
        "\n",
        "Neso Academy\n",
        "[C|](https://www.youtube.com/playlist?list=PLBlnK6fEyqRhX6r2uhhlubuF5QextdCSM)\n",
        "[C++|](https://www.youtube.com/playlist?list=PLBlnK6fEyqRh6isJ01MBnbNpV3ZsktSyS)\n",
        "[Python|](https://www.youtube.com/playlist?list=PLBlnK6fEyqRiueC_HzwFallNO76hfXBB7)\n",
        "[OS|](https://www.youtube.com/playlist?list=PLBlnK6fEyqRiVhbXDGLXDk_OQAeuVcp2O)\n",
        "\n",
        "\n",
        "개발자영맨\n",
        "[Data Structures & Algorithms|](https://www.youtube.com/playlist?list=PL-OC--HdIAXMXZ3IXSeLaO9Rl6qJNGc6g)\n",
        "\n",
        "\n",
        "양주종\n",
        "[C|](https://www.youtube.com/playlist?list=PLSxm-MRGlRAqNUH7S49yIXjh-LmgASLJf)\n",
        "\n",
        "[조아라](https://www.youtube.com/@ahracho746/videos)\n",
        "\n",
        "판다코딩\n",
        "[C++|](https://www.youtube.com/playlist?list=PLgqG2uj21HgkcfVtlr5rPekQl5VWJEnIB)\n",
        "\n",
        "혀니C\n",
        "[전자계산기 일반|](https://www.youtube.com/playlist?list=PLrj92cHmwIMdoOYS-3k4mmvC6D6I5rDN6)\n",
        "[C|](https://www.youtube.com/playlist?list=PLrj92cHmwIMchmD4qWfxFynZ3m3VRqxNP)\n",
        "[C++|](https://www.youtube.com/playlist?list=PLrj92cHmwIMd2q8sTFj66vLnKJxBlLYoN)\n",
        "[Modern C++|](https://www.youtube.com/playlist?list=PLrj92cHmwIMdPxOkZUalRPFC_U1Zm6ykv)\n",
        "[Java|](https://www.youtube.com/playlist?list=PLrj92cHmwIMc__g6SPNN3CKEFDvkF0RmI)\n",
        "[Graph|](https://www.youtube.com/playlist?list=PLrj92cHmwIMeTB2vCf8kjNtfDfaeDllZo)\n",
        "[Hash Table|](https://www.youtube.com/playlist?list=PLrj92cHmwIMeDBvDdgVIyT5ddTuY6oEWO)\n",
        "[Heap|](https://www.youtube.com/playlist?list=PLrj92cHmwIMefpxpPO-PT5-yLdQ1OYMLF)\n",
        "[Linked List|](https://www.youtube.com/playlist?list=PLrj92cHmwIMeI4P9rDW7p3WDJWwoQZsqd)\n",
        "[Pointer|](https://www.youtube.com/playlist?list=PLrj92cHmwIMeGEv1EgvJdIJwQAFzHV3k1)\n",
        "[Queue|](https://www.youtube.com/playlist?list=PLrj92cHmwIMe9lXTvKwe2u3CwqChPOE1o)\n",
        "[Recursion|](https://www.youtube.com/playlist?list=PLrj92cHmwIMcdU5jmnrqbc-ZYOoXmFACD)\n",
        "[Sort|](https://www.youtube.com/playlist?list=PLrj92cHmwIMfMKGqIiNJIoMG4nazedt_T)\n",
        "[Stack|](https://www.youtube.com/playlist?list=PLrj92cHmwIMdHXmdLOW_xsz1MmiFUd2Vc)\n",
        "[Tree|](https://www.youtube.com/playlist?list=PLrj92cHmwIMdXsZm-AMZmp-nmJlRZh5fq)\n",
        "[자료구조&알고리즘|](https://www.youtube.com/playlist?list=PLrj92cHmwIMfxmffI2RSuSmWfmHvLksoB)\n",
        "[객체지향 / C++ 필수 개념 정리|](https://www.youtube.com/playlist?list=PLrj92cHmwIMc_3RVAkSIz5RG-3SOZd74F)\n",
        "\n",
        "\n",
        "\n"
      ],
      "metadata": {
        "id": "_HyuxLJi8R10"
      }
    }
  ]
}