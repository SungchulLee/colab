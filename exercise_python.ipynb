{
  "nbformat": 4,
  "nbformat_minor": 0,
  "metadata": {
    "colab": {
      "provenance": [],
      "collapsed_sections": [
        "oo03IHQZUvOG",
        "_5WbTa1cLntY",
        "5IYUvAqQlPgR",
        "5mg91uwElXjd",
        "KmXuCXOslg4P",
        "SS7qmLDml5fo",
        "spVc2Wjal5hx",
        "-WqCGFqfl5ku",
        "Jnxl5XUWl5m1",
        "RFLhz2vtObCa",
        "eLR1jHlDjK5-",
        "QEZ_-tSr4IiD",
        "RKcmb8sDjB3Y",
        "XQIajZUi1Os6",
        "GLFBhE9y6DWi",
        "icRE04c889WL",
        "CVR7kcDN9LmL",
        "dKb0QxCzAFZ6",
        "DLdO2FDQ_Ix_",
        "5ImQkmgHgycu",
        "tJYbaEwWArLv",
        "OS2YFWLBArLw",
        "HS18-yiSArLx",
        "_pcpJ9wLArLx",
        "PmAUwzT6L9_f",
        "Rdg1nXZsgTwV",
        "m0cvJNz1BrKv",
        "M-yh9UgPBxgs",
        "q30HB4WXBxmV",
        "qtW0qhPt_W5X",
        "yj8Cm26cJ1Qp",
        "92SQ5NrKKJRc",
        "llXqAACHKWxJ",
        "Sg3rVDRLUlhJ",
        "EvdtkpDJYuSK",
        "aP6i51gwjb-z",
        "Gvp2cJ_bTix2",
        "B6BbtmL-i9Ai",
        "CkeJHPHJhSGR",
        "0HkTsyIrGBVO",
        "dQY1ZSmt76iu",
        "ePfX7lYnFWga",
        "jLo7YLH_FgWT",
        "XP0ZmHSpGY43",
        "-AIODaiJGkQA",
        "KO3Bi0XaLx5C",
        "SBdlFiA0L8nY",
        "hMvSnDTUfEou",
        "RUbEQVzk72gB",
        "UFHNfdxDG7qH",
        "poSvDv4P789P",
        "ztTFQ8kF91dW",
        "frC60UFy91ie",
        "RZECWf3d91mv",
        "CBygHd3R91sK",
        "8iUyeFkT91xS",
        "wooFeoOp912M",
        "nc5W_c-892Ev",
        "_w_Ll3oS92JW",
        "C1sZQdNz92N7",
        "OS9D8Nneguxr",
        "Tyx6SLaockNQ",
        "c2sHIKzEckQM",
        "pVYohA_aFzNu",
        "9k5e2_DA4XBB",
        "wXrFBATK4XLD",
        "-iw5rEw647cm",
        "aXtBcAeA47te",
        "T3B6o2wfLn8Y",
        "2bd6xVMVp4nx",
        "toMOaLFbZecs",
        "_-RUjwHa199E",
        "jNZBGohC3gu2",
        "S7yuYtHdPB78",
        "2ezEZrEj9aF1",
        "pX4YAsuaNUO0",
        "UR60oDrpM_fq",
        "fx4avoVHTiuX",
        "KY2bXGxlJz73",
        "Mi6DMIChJ0JS",
        "IM3IJLmpKtuG",
        "bO8AqFSubzoC",
        "50istz2UxuOZ",
        "wqaG4fv6ynD4",
        "XAkNzfgG-aN2",
        "dSjZONv5_T04",
        "-FayB85a_T-C",
        "OOlULtij_UBB",
        "weecF-g0_UEW",
        "d02emLLExalK",
        "o1yg9hl8BBip",
        "f-lGFSH8510l",
        "_U0ei3lU516B",
        "deJkAkya52AA",
        "J16aIq-i52fS",
        "7OizpYHY52lH",
        "MnzeF4S-52ra",
        "eycz28qC3plG",
        "wtcLRwLG474O",
        "Gzw1PPTR8tyd",
        "2-v-vxXOo3ZZ",
        "tCCN4uO7b20X",
        "CHdhxpRRANk1",
        "WNMZo9v55W8g",
        "ANE6kS2KcAfE",
        "dsXOHUEw9UzO",
        "s-w2cGtkRz24",
        "J-VQnHOFIsmb",
        "8dUbu7OJUisa"
      ],
      "authorship_tag": "ABX9TyNoHM1POZDL2KGT6EKbHvNE",
      "include_colab_link": true
    },
    "kernelspec": {
      "name": "python3",
      "display_name": "Python 3"
    },
    "language_info": {
      "name": "python"
    }
  },
  "cells": [
    {
      "cell_type": "markdown",
      "metadata": {
        "id": "view-in-github",
        "colab_type": "text"
      },
      "source": [
        "<a href=\"https://colab.research.google.com/github/SungchulLee/colab/blob/main/exercise_python.ipynb\" target=\"_parent\"><img src=\"https://colab.research.google.com/assets/colab-badge.svg\" alt=\"Open In Colab\"/></a>"
      ]
    },
    {
      "cell_type": "markdown",
      "source": [
        "###***Chapter 0 Installment Extra Packages***"
      ],
      "metadata": {
        "id": "oo03IHQZUvOG"
      }
    },
    {
      "cell_type": "markdown",
      "source": [
        "#####***Install yfinance***"
      ],
      "metadata": {
        "id": "buTayqRoJTA2"
      }
    },
    {
      "cell_type": "code",
      "execution_count": null,
      "metadata": {
        "id": "OJEI2xc2SlB_",
        "colab": {
          "base_uri": "https://localhost:8080/"
        },
        "outputId": "c78e52a3-a4dd-4b8d-b26e-d3878617638c"
      },
      "outputs": [
        {
          "output_type": "stream",
          "name": "stdout",
          "text": [
            "Looking in indexes: https://pypi.org/simple, https://us-python.pkg.dev/colab-wheels/public/simple/\n",
            "Collecting yfinance\n",
            "  Downloading yfinance-0.2.13-py2.py3-none-any.whl (59 kB)\n",
            "\u001b[2K     \u001b[90m━━━━━━━━━━━━━━━━━━━━━━━━━━━━━━━━━━━━━━━━\u001b[0m \u001b[32m59.3/59.3 KB\u001b[0m \u001b[31m2.6 MB/s\u001b[0m eta \u001b[36m0:00:00\u001b[0m\n",
            "\u001b[?25hRequirement already satisfied: pytz>=2022.5 in /usr/local/lib/python3.9/dist-packages (from yfinance) (2022.7.1)\n",
            "Requirement already satisfied: numpy>=1.16.5 in /usr/local/lib/python3.9/dist-packages (from yfinance) (1.22.4)\n",
            "Requirement already satisfied: html5lib>=1.1 in /usr/local/lib/python3.9/dist-packages (from yfinance) (1.1)\n",
            "Requirement already satisfied: beautifulsoup4>=4.11.1 in /usr/local/lib/python3.9/dist-packages (from yfinance) (4.11.2)\n",
            "Requirement already satisfied: requests>=2.26 in /usr/local/lib/python3.9/dist-packages (from yfinance) (2.27.1)\n",
            "Requirement already satisfied: pandas>=1.3.0 in /usr/local/lib/python3.9/dist-packages (from yfinance) (1.4.4)\n",
            "Collecting appdirs>=1.4.4\n",
            "  Downloading appdirs-1.4.4-py2.py3-none-any.whl (9.6 kB)\n",
            "Collecting frozendict>=2.3.4\n",
            "  Downloading frozendict-2.3.6-cp39-cp39-manylinux_2_17_x86_64.manylinux2014_x86_64.whl (114 kB)\n",
            "\u001b[2K     \u001b[90m━━━━━━━━━━━━━━━━━━━━━━━━━━━━━━━━━━━━━━━\u001b[0m \u001b[32m114.3/114.3 KB\u001b[0m \u001b[31m6.2 MB/s\u001b[0m eta \u001b[36m0:00:00\u001b[0m\n",
            "\u001b[?25hCollecting cryptography>=3.3.2\n",
            "  Downloading cryptography-39.0.2-cp36-abi3-manylinux_2_28_x86_64.whl (4.2 MB)\n",
            "\u001b[2K     \u001b[90m━━━━━━━━━━━━━━━━━━━━━━━━━━━━━━━━━━━━━━━━\u001b[0m \u001b[32m4.2/4.2 MB\u001b[0m \u001b[31m50.7 MB/s\u001b[0m eta \u001b[36m0:00:00\u001b[0m\n",
            "\u001b[?25hRequirement already satisfied: lxml>=4.9.1 in /usr/local/lib/python3.9/dist-packages (from yfinance) (4.9.2)\n",
            "Requirement already satisfied: multitasking>=0.0.7 in /usr/local/lib/python3.9/dist-packages (from yfinance) (0.0.11)\n",
            "Requirement already satisfied: soupsieve>1.2 in /usr/local/lib/python3.9/dist-packages (from beautifulsoup4>=4.11.1->yfinance) (2.4)\n",
            "Requirement already satisfied: cffi>=1.12 in /usr/local/lib/python3.9/dist-packages (from cryptography>=3.3.2->yfinance) (1.15.1)\n",
            "Requirement already satisfied: webencodings in /usr/local/lib/python3.9/dist-packages (from html5lib>=1.1->yfinance) (0.5.1)\n",
            "Requirement already satisfied: six>=1.9 in /usr/local/lib/python3.9/dist-packages (from html5lib>=1.1->yfinance) (1.16.0)\n",
            "Requirement already satisfied: python-dateutil>=2.8.1 in /usr/local/lib/python3.9/dist-packages (from pandas>=1.3.0->yfinance) (2.8.2)\n",
            "Requirement already satisfied: certifi>=2017.4.17 in /usr/local/lib/python3.9/dist-packages (from requests>=2.26->yfinance) (2022.12.7)\n",
            "Requirement already satisfied: idna<4,>=2.5 in /usr/local/lib/python3.9/dist-packages (from requests>=2.26->yfinance) (3.4)\n",
            "Requirement already satisfied: charset-normalizer~=2.0.0 in /usr/local/lib/python3.9/dist-packages (from requests>=2.26->yfinance) (2.0.12)\n",
            "Requirement already satisfied: urllib3<1.27,>=1.21.1 in /usr/local/lib/python3.9/dist-packages (from requests>=2.26->yfinance) (1.26.15)\n",
            "Requirement already satisfied: pycparser in /usr/local/lib/python3.9/dist-packages (from cffi>=1.12->cryptography>=3.3.2->yfinance) (2.21)\n",
            "Installing collected packages: appdirs, frozendict, cryptography, yfinance\n",
            "Successfully installed appdirs-1.4.4 cryptography-39.0.2 frozendict-2.3.6 yfinance-0.2.13\n"
          ]
        }
      ],
      "source": [
        "!pip install yfinance"
      ]
    },
    {
      "cell_type": "markdown",
      "source": [
        "#####***Import Basic Modules***"
      ],
      "metadata": {
        "id": "_5WbTa1cLntY"
      }
    },
    {
      "cell_type": "code",
      "source": [
        "import enum \n",
        "import matplotlib.pyplot as plt\n",
        "import numpy as np\n",
        "import pandas as pd\n",
        "import yfinance as yf\n",
        "from scipy import stats"
      ],
      "metadata": {
        "id": "vXmd6uZyLn7Q"
      },
      "execution_count": null,
      "outputs": []
    },
    {
      "cell_type": "markdown",
      "source": [
        "###***Chapter Built-in Functions***"
      ],
      "metadata": {
        "id": "5IYUvAqQlPgR"
      }
    },
    {
      "cell_type": "markdown",
      "source": [
        "####***Section print***"
      ],
      "metadata": {
        "id": "5mg91uwElXjd"
      }
    },
    {
      "cell_type": "markdown",
      "source": [
        "#####***001***"
      ],
      "metadata": {
        "id": "KmXuCXOslg4P"
      }
    },
    {
      "cell_type": "markdown",
      "source": [
        "001 print 기초\n",
        "화면에 Hello World 문자열을 출력하세요."
      ],
      "metadata": {
        "id": "E8FCw4PDlg4P"
      }
    },
    {
      "cell_type": "markdown",
      "source": [
        "######***Solution***"
      ],
      "metadata": {
        "id": "HrF3aqmxlg4P"
      }
    },
    {
      "cell_type": "code",
      "source": [
        "def main():\n",
        "    print(\"Hello World\")\n",
        "\n",
        "if __name__ == \"__main__\":\n",
        "    main()"
      ],
      "metadata": {
        "colab": {
          "base_uri": "https://localhost:8080/"
        },
        "outputId": "81974167-7cf9-4259-be74-564f016760dd",
        "id": "k-ciDgtxlg4P"
      },
      "execution_count": null,
      "outputs": [
        {
          "output_type": "stream",
          "name": "stdout",
          "text": [
            "5\n"
          ]
        }
      ]
    },
    {
      "cell_type": "markdown",
      "source": [
        "#####***006***"
      ],
      "metadata": {
        "id": "SS7qmLDml5fo"
      }
    },
    {
      "cell_type": "markdown",
      "source": [
        "006 print 여러 데이터 출력\n",
        "print 함수에 두 개의 단어를 입력한 예제입니다. 아래 코드의 출력 결과를 예상해봅시다.\n",
        "```\n",
        "print (\"오늘은\", \"일요일\")\n",
        "```"
      ],
      "metadata": {
        "id": "NX9kDkqil5fo"
      }
    },
    {
      "cell_type": "markdown",
      "source": [
        "######***Solution***"
      ],
      "metadata": {
        "id": "wjMtkRb8l5fo"
      }
    },
    {
      "cell_type": "code",
      "source": [
        "def main():\n",
        "    print (\"오늘은\", \"일요일\")\n",
        "\n",
        "if __name__ == \"__main__\":\n",
        "    main()"
      ],
      "metadata": {
        "colab": {
          "base_uri": "https://localhost:8080/"
        },
        "outputId": "28d4f4ae-5b0f-4b8c-bb0c-3c3f0ad8d3f2",
        "id": "P_A2MlOLl5fo"
      },
      "execution_count": null,
      "outputs": [
        {
          "output_type": "stream",
          "name": "stdout",
          "text": [
            "오늘은 일요일\n"
          ]
        }
      ]
    },
    {
      "cell_type": "markdown",
      "source": [
        "#####***007***"
      ],
      "metadata": {
        "id": "spVc2Wjal5hx"
      }
    },
    {
      "cell_type": "markdown",
      "source": [
        "007 print 기초\n",
        "print() 함수를 사용하여 다음과 같이 출력하세요.\n",
        "```\n",
        "naver;kakao;sk;samsung\n",
        "```"
      ],
      "metadata": {
        "id": "67UoLIPzl5hx"
      }
    },
    {
      "cell_type": "markdown",
      "source": [
        "######***Solution***"
      ],
      "metadata": {
        "id": "ca0AXIuzl5hx"
      }
    },
    {
      "cell_type": "code",
      "source": [
        "def main():\n",
        "    print(\"naver\", \"kakao\", \"sk\", \"samsung\", sep=\";\")\n",
        "\n",
        "if __name__ == \"__main__\":\n",
        "    main()"
      ],
      "metadata": {
        "colab": {
          "base_uri": "https://localhost:8080/"
        },
        "outputId": "555dc0ca-a130-423d-d3f6-a4a832abf479",
        "id": "y2caSt7wl5hx"
      },
      "execution_count": null,
      "outputs": [
        {
          "output_type": "stream",
          "name": "stdout",
          "text": [
            "naver;kakao;sk;samsung\n"
          ]
        }
      ]
    },
    {
      "cell_type": "markdown",
      "source": [
        "#####***008***"
      ],
      "metadata": {
        "id": "-WqCGFqfl5ku"
      }
    },
    {
      "cell_type": "markdown",
      "source": [
        "008 print 기초\n",
        "print() 함수를 사용하여 다음과 같이 출력하세요.\n",
        "```\n",
        "naver/kakao/sk/samsung\n",
        "```"
      ],
      "metadata": {
        "id": "6_qm_Zqul5ku"
      }
    },
    {
      "cell_type": "markdown",
      "source": [
        "######***Solution***"
      ],
      "metadata": {
        "id": "ikTolRmll5ku"
      }
    },
    {
      "cell_type": "code",
      "source": [
        "def main():\n",
        "    print(\"naver\", \"kakao\", \"sk\", \"samsung\", sep=\"/\")\n",
        "\n",
        "if __name__ == \"__main__\":\n",
        "    main()"
      ],
      "metadata": {
        "colab": {
          "base_uri": "https://localhost:8080/"
        },
        "outputId": "c2e78809-60e3-44df-afbf-f0393fe8226a",
        "id": "H1E7bqkZl5ku"
      },
      "execution_count": null,
      "outputs": [
        {
          "output_type": "stream",
          "name": "stdout",
          "text": [
            "naver/kakao/sk/samsung\n"
          ]
        }
      ]
    },
    {
      "cell_type": "markdown",
      "source": [
        "#####***009***"
      ],
      "metadata": {
        "id": "Jnxl5XUWl5m1"
      }
    },
    {
      "cell_type": "markdown",
      "source": [
        "009 print 줄바꿈\n",
        "다음 코드를 수정하여 줄바꿈이 없이 출력하세요. (힌트: end='') print 함수는 두 번 사용합니다. 세미콜론 (;)은 한줄에 여러 개의 명령을 작성하기 위해 사용합니다.\n",
        "```\n",
        "print(\"first\");print(\"second\")\n",
        "```"
      ],
      "metadata": {
        "id": "OP8IPl_Sl5m1"
      }
    },
    {
      "cell_type": "markdown",
      "source": [
        "######***Solution***"
      ],
      "metadata": {
        "id": "foCi5qunl5m1"
      }
    },
    {
      "cell_type": "code",
      "source": [
        "def main():\n",
        "    print(\"first\", end=\"\"); print(\"second\")\n",
        "\n",
        "if __name__ == \"__main__\":\n",
        "    main()"
      ],
      "metadata": {
        "colab": {
          "base_uri": "https://localhost:8080/"
        },
        "outputId": "9b012237-b39e-4f08-c09b-89989424b3ce",
        "id": "4w4g38q6l5m1"
      },
      "execution_count": null,
      "outputs": [
        {
          "output_type": "stream",
          "name": "stdout",
          "text": [
            "firstsecond\n"
          ]
        }
      ]
    },
    {
      "cell_type": "markdown",
      "source": [
        "#####***010***"
      ],
      "metadata": {
        "id": "SamSzpdwl5p2"
      }
    },
    {
      "cell_type": "markdown",
      "source": [
        "010 연산 결과 출력\n",
        "5/3의 결과를 화면에 출력하세요."
      ],
      "metadata": {
        "id": "2mQFCTLWl5p2"
      }
    },
    {
      "cell_type": "markdown",
      "source": [
        "######***Solution***"
      ],
      "metadata": {
        "id": "zisPvQ1tl5p3"
      }
    },
    {
      "cell_type": "code",
      "source": [
        "def main():\n",
        "    print(5/3)\n",
        "\n",
        "if __name__ == \"__main__\":\n",
        "    main()"
      ],
      "metadata": {
        "colab": {
          "base_uri": "https://localhost:8080/"
        },
        "outputId": "2ea3d75f-4afd-4f9b-d0f8-5b1bd2fc6e13",
        "id": "uIl2V9POl5p3"
      },
      "execution_count": null,
      "outputs": [
        {
          "output_type": "stream",
          "name": "stdout",
          "text": [
            "1.6666666666666667\n"
          ]
        }
      ]
    },
    {
      "cell_type": "markdown",
      "source": [
        "###***Chapter Variable***"
      ],
      "metadata": {
        "id": "RFLhz2vtObCa"
      }
    },
    {
      "cell_type": "markdown",
      "source": [
        "#####***011***"
      ],
      "metadata": {
        "id": "F9Q8MpbYpy2D"
      }
    },
    {
      "cell_type": "markdown",
      "source": [
        "011 변수 사용하기\n",
        "삼성전자라는 변수로 50,000원을 바인딩해보세요. 삼성전자 주식 10주를 보유하고 있을 때 총 평가금액을 출력하세요."
      ],
      "metadata": {
        "id": "MzVOjwZXpy2D"
      }
    },
    {
      "cell_type": "markdown",
      "source": [
        "######***Solution***"
      ],
      "metadata": {
        "id": "gW9uZy28py2D"
      }
    },
    {
      "cell_type": "code",
      "source": [
        "def main():\n",
        "    삼성전자 = 50_000\n",
        "    주식수  = 10\n",
        "    평가금액  = 삼성전자  * 주식수\n",
        "    print(f\"{평가금액 = :,}\")\n",
        "\n",
        "if __name__ == \"__main__\":\n",
        "    main()"
      ],
      "metadata": {
        "colab": {
          "base_uri": "https://localhost:8080/"
        },
        "outputId": "6cea6bd6-5d02-4f35-c0c9-b45613b71b88",
        "id": "Tl2qIrGQpy2D"
      },
      "execution_count": null,
      "outputs": [
        {
          "output_type": "stream",
          "name": "stdout",
          "text": [
            "평가금액 = 500,000\n"
          ]
        }
      ]
    },
    {
      "cell_type": "markdown",
      "source": [
        "#####***012***"
      ],
      "metadata": {
        "id": "eg49COKNpy5i"
      }
    },
    {
      "cell_type": "markdown",
      "source": [
        "012 변수 사용하기\n",
        "다음 표는 삼성전자의 일부 투자정보입니다. 변수를 사용해서 시가총액, 현재가, PER 등을 바인딩해보세요.\n",
        "```\n",
        "항목      값\n",
        "시가총액   298조\n",
        "현재가    50,000원\n",
        "PER     15.79\n",
        "```"
      ],
      "metadata": {
        "id": "sbD3QZBTpy5j"
      }
    },
    {
      "cell_type": "markdown",
      "source": [
        "######***Solution***"
      ],
      "metadata": {
        "id": "tVcglGAApy5j"
      }
    },
    {
      "cell_type": "code",
      "source": [
        "def main():\n",
        "    시가총액 = 298_000_000_000_000\n",
        "    현재가 = 50_000\n",
        "    PER = 15.79\n",
        "    print(f\"{시가총액 = :,}\", type(시가총액))\n",
        "    print(f\"{현재가 = :,}\", type(현재가))\n",
        "    print(f\"{PER = }\", type(PER))\n",
        "\n",
        "if __name__ == \"__main__\":\n",
        "    main()"
      ],
      "metadata": {
        "colab": {
          "base_uri": "https://localhost:8080/"
        },
        "outputId": "cabc937b-9c69-43b6-aefe-7ad0b09f5081",
        "id": "gxYC7BoDpy5j"
      },
      "execution_count": null,
      "outputs": [
        {
          "output_type": "stream",
          "name": "stdout",
          "text": [
            "시가총액 = 298,000,000,000,000 <class 'int'>\n",
            "현재가 = 50,000 <class 'int'>\n",
            "PER = 15.79 <class 'float'>\n"
          ]
        }
      ]
    },
    {
      "cell_type": "markdown",
      "source": [
        "###***Chapter 4 Integer***"
      ],
      "metadata": {
        "id": "eLR1jHlDjK5-"
      }
    },
    {
      "cell_type": "markdown",
      "source": [
        "#####***Problem 1***"
      ],
      "metadata": {
        "id": "QEZ_-tSr4IiD"
      }
    },
    {
      "cell_type": "markdown",
      "source": [
        "Problem 1: Open a new Python interpreter and use it to find the value of 2 + 3."
      ],
      "metadata": {
        "id": "dpPDDNn-4IoR"
      }
    },
    {
      "cell_type": "markdown",
      "source": [
        "######***Solution***"
      ],
      "metadata": {
        "id": "KRJYXXDI4JOu"
      }
    },
    {
      "cell_type": "code",
      "source": [
        "def main():\n",
        "    print(2+3)\n",
        "\n",
        "if __name__ == \"__main__\":\n",
        "    main()"
      ],
      "metadata": {
        "colab": {
          "base_uri": "https://localhost:8080/"
        },
        "id": "G2BptDq14JcK",
        "outputId": "81974167-7cf9-4259-be74-564f016760dd"
      },
      "execution_count": null,
      "outputs": [
        {
          "output_type": "stream",
          "name": "stdout",
          "text": [
            "5\n"
          ]
        }
      ]
    },
    {
      "cell_type": "markdown",
      "source": [
        "###***Chapter 5 Float***"
      ],
      "metadata": {
        "id": "gKNERUU3jTGN"
      }
    },
    {
      "cell_type": "markdown",
      "source": [
        "###***Chapter 6 Complex***"
      ],
      "metadata": {
        "id": "CbSt4BmXjXPU"
      }
    },
    {
      "cell_type": "markdown",
      "source": [
        "###***Chapter 7 String***"
      ],
      "metadata": {
        "id": "RKcmb8sDjB3Y"
      }
    },
    {
      "cell_type": "markdown",
      "source": [
        "####***Section Indexing and Slicing***"
      ],
      "metadata": {
        "id": "XQIajZUi1Os6"
      }
    },
    {
      "cell_type": "markdown",
      "source": [
        "#####***Exercise***"
      ],
      "metadata": {
        "id": "bf2AzH970Pl5"
      }
    },
    {
      "cell_type": "markdown",
      "source": [
        "```\n",
        "\"\"\"\n",
        "Complete this function such that it returns True if and only if\n",
        "the string passed into this function is a palindrome, that is if \n",
        "it is the same string of characters forwards and in reverse. \n",
        "Return False otherwise. \n",
        "\"\"\"\n",
        "def is_palindrome(input_string):\n",
        "    # Delete pass, and put your code here.\n",
        "    pass\n",
        "\n",
        "\n",
        "# Very Simple Tests:\n",
        "assert is_palindrome('racecar') == True\n",
        "assert is_palindrome('battle') == False\n",
        "assert is_palindrome('wasitabatisaw') == True\n",
        "assert is_palindrome('a') == True\n",
        "assert is_palindrome('abca') == False\n",
        "## ADD AT LEAST 3 MORE TESTS ##\n",
        "\n",
        "## Just helpful to see, if this prints your tests all passed!\n",
        "print(\"All tests passed.\")\n",
        "```\n",
        "\n",
        "[Sorce](https://github.com/Tebs-Lab/intro-to-programming/blob/master/exercises/writing-exercises/01-is-palindrome.py)"
      ],
      "metadata": {
        "id": "6IQqZXRu0Pxv"
      }
    },
    {
      "cell_type": "markdown",
      "source": [
        "######***Solution***"
      ],
      "metadata": {
        "id": "aJ-WfbKh0Q6S"
      }
    },
    {
      "cell_type": "code",
      "source": [
        "def is_palindrome(input_string):\n",
        "    return input_string == input_string[::-1]\n",
        "\n",
        "def main():\n",
        "    assert is_palindrome('racecar') == True\n",
        "    assert is_palindrome('battle') == False\n",
        "    assert is_palindrome('wasitabatisaw') == True\n",
        "    assert is_palindrome('a') == True\n",
        "    assert is_palindrome('abca') == False\n",
        "    assert is_palindrome('aba') == True\n",
        "    assert is_palindrome('abab') == False\n",
        "    assert is_palindrome('ababa') == True\n",
        "    print(\"All tests passed.\")\n",
        "\n",
        "if __name__ == \"__main__\":\n",
        "    main()"
      ],
      "metadata": {
        "colab": {
          "base_uri": "https://localhost:8080/"
        },
        "id": "nvDMpl8C0R83",
        "outputId": "9828d901-5493-4880-8b87-9e4de495c675"
      },
      "execution_count": null,
      "outputs": [
        {
          "output_type": "stream",
          "name": "stdout",
          "text": [
            "All tests passed.\n"
          ]
        }
      ]
    },
    {
      "cell_type": "markdown",
      "source": [
        "####***Section Escape Character***"
      ],
      "metadata": {
        "id": "GLFBhE9y6DWi"
      }
    },
    {
      "cell_type": "markdown",
      "source": [
        "#####***002***"
      ],
      "metadata": {
        "id": "DajtQ8IH6daT"
      }
    },
    {
      "cell_type": "markdown",
      "source": [
        "002 print 기초\n",
        "화면에 Mary's cosmetics을 출력하세요. (중간에 '가 있음에 주의하세요)"
      ],
      "metadata": {
        "id": "zTZ37szz6daT"
      }
    },
    {
      "cell_type": "markdown",
      "source": [
        "######***Solution***"
      ],
      "metadata": {
        "id": "Uqvm9KHQ6daT"
      }
    },
    {
      "cell_type": "code",
      "source": [
        "def main():\n",
        "    print(\"Mary's cosmetics\")\n",
        "    print('Mary\\'s cosmetics') \n",
        "\n",
        "if __name__ == \"__main__\":\n",
        "    main()"
      ],
      "metadata": {
        "colab": {
          "base_uri": "https://localhost:8080/"
        },
        "outputId": "a692b349-140b-49d3-8e77-c4a1b7ab9cea",
        "id": "rUYOH2Mo6daT"
      },
      "execution_count": null,
      "outputs": [
        {
          "output_type": "stream",
          "name": "stdout",
          "text": [
            "Mary's cosmetics\n",
            "Mary's cosmetics\n"
          ]
        }
      ]
    },
    {
      "cell_type": "markdown",
      "source": [
        "#####***003***"
      ],
      "metadata": {
        "id": "EeFMFNtW6daT"
      }
    },
    {
      "cell_type": "markdown",
      "source": [
        "003 print 기초\n",
        "화면에 아래 문장을 출력하세요. (중간에 \"가 있음에 주의하세요.)\n",
        "\n",
        "신씨가 소리질렀다. \"도둑이야\"."
      ],
      "metadata": {
        "id": "HCAA4we96daU"
      }
    },
    {
      "cell_type": "markdown",
      "source": [
        "######***Solution***"
      ],
      "metadata": {
        "id": "Ap1sAoUP6daU"
      }
    },
    {
      "cell_type": "code",
      "source": [
        "def main():\n",
        "    print('신씨가 소리질렀다. \"도둑이야\".')\n",
        "    print(\"신씨가 소리질렀다. \\\"도둑이야\\\".\")\n",
        "\n",
        "if __name__ == \"__main__\":\n",
        "    main()"
      ],
      "metadata": {
        "colab": {
          "base_uri": "https://localhost:8080/"
        },
        "outputId": "4ceb0216-9d2f-42b2-c7d5-c65824e6c7d3",
        "id": "GF2SOblv6daU"
      },
      "execution_count": null,
      "outputs": [
        {
          "output_type": "stream",
          "name": "stdout",
          "text": [
            "신씨가 소리질렀다. \"도둑이야\".\n",
            "신씨가 소리질렀다. \"도둑이야\".\n"
          ]
        }
      ]
    },
    {
      "cell_type": "markdown",
      "source": [
        "#####***004***"
      ],
      "metadata": {
        "id": "zLhZDFGp6daU"
      }
    },
    {
      "cell_type": "markdown",
      "source": [
        "004 print 기초\n",
        "화면에 \"C:\\Windows\"를 출력하세요."
      ],
      "metadata": {
        "id": "QNksmYBf6daU"
      }
    },
    {
      "cell_type": "markdown",
      "source": [
        "######***Solution***"
      ],
      "metadata": {
        "id": "tHqXH2XT6daV"
      }
    },
    {
      "cell_type": "code",
      "source": [
        "def main():\n",
        "    print(\"C:\\\\Windows\")\n",
        "\n",
        "if __name__ == \"__main__\":\n",
        "    main()"
      ],
      "metadata": {
        "colab": {
          "base_uri": "https://localhost:8080/"
        },
        "outputId": "7d25652e-3473-4110-c4bc-a1fc8eb5f915",
        "id": "Lpnp-DKI6daV"
      },
      "execution_count": null,
      "outputs": [
        {
          "output_type": "stream",
          "name": "stdout",
          "text": [
            "C:\\Windows\n"
          ]
        }
      ]
    },
    {
      "cell_type": "markdown",
      "source": [
        "#####***005***"
      ],
      "metadata": {
        "id": "JoTft6bd6daV"
      }
    },
    {
      "cell_type": "markdown",
      "source": [
        "005 print 탭과 줄바꿈\n",
        "다음 코드를 실행해보고 \\t와 \\n의 역할을 설명해보세요.\n",
        "```\n",
        "print(\"안녕하세요.\\n만나서\\t\\t반갑습니다.\")\n",
        "```"
      ],
      "metadata": {
        "id": "xOCaGSaF6daV"
      }
    },
    {
      "cell_type": "markdown",
      "source": [
        "######***Solution***"
      ],
      "metadata": {
        "id": "0MtwN0qx6daV"
      }
    },
    {
      "cell_type": "code",
      "source": [
        "def main():\n",
        "    # \\n - new line\n",
        "    # \\t - tab\n",
        "    print(\"안녕하세요.\\n만나서\\t\\t반갑습니다.\")\n",
        "\n",
        "if __name__ == \"__main__\":\n",
        "    main()"
      ],
      "metadata": {
        "colab": {
          "base_uri": "https://localhost:8080/"
        },
        "outputId": "db2d4185-e23c-4859-99eb-b417dc956ad1",
        "id": "wbEE_9rv6daV"
      },
      "execution_count": null,
      "outputs": [
        {
          "output_type": "stream",
          "name": "stdout",
          "text": [
            "안녕하세요.\n",
            "만나서\t\t반갑습니다.\n"
          ]
        }
      ]
    },
    {
      "cell_type": "markdown",
      "source": [
        "####***Section Dtype Change***"
      ],
      "metadata": {
        "id": "icRE04c889WL"
      }
    },
    {
      "cell_type": "markdown",
      "source": [
        "#####***016***"
      ],
      "metadata": {
        "id": "kS6WDiC-r_PV"
      }
    },
    {
      "cell_type": "markdown",
      "source": [
        "016 문자열을 정수로 변환\n",
        "문자열 '720'를 정수형으로 변환해보세요.\n",
        "```\n",
        ">>> num_str = \"720\"\n",
        "```"
      ],
      "metadata": {
        "id": "4NGnPOmQr_PW"
      }
    },
    {
      "cell_type": "markdown",
      "source": [
        "######***Solution***"
      ],
      "metadata": {
        "id": "dkPkMlX3r_PW"
      }
    },
    {
      "cell_type": "code",
      "source": [
        "def main():\n",
        "    num_str = \"720\"\n",
        "    num = int(num_str)\n",
        "    print(num, type(num))\n",
        "\n",
        "if __name__ == \"__main__\":\n",
        "    main()"
      ],
      "metadata": {
        "colab": {
          "base_uri": "https://localhost:8080/"
        },
        "outputId": "64c36e87-2d7f-4109-e2ad-07bf51abacbc",
        "id": "nz-g9rkzr_PW"
      },
      "execution_count": null,
      "outputs": [
        {
          "output_type": "stream",
          "name": "stdout",
          "text": [
            "720 <class 'int'>\n"
          ]
        }
      ]
    },
    {
      "cell_type": "markdown",
      "source": [
        "#####***017***"
      ],
      "metadata": {
        "id": "lMBLim6kr_Ss"
      }
    },
    {
      "cell_type": "markdown",
      "source": [
        "017 정수를 문자열 100으로 변환\n",
        "정수 100을 문자열 '100'으로 변환해보세요.\n",
        "```\n",
        "num = 100\n",
        "```"
      ],
      "metadata": {
        "id": "wqbLqKSwr_Ss"
      }
    },
    {
      "cell_type": "markdown",
      "source": [
        "######***Solution***"
      ],
      "metadata": {
        "id": "GqtZuZevr_St"
      }
    },
    {
      "cell_type": "code",
      "source": [
        "def main():\n",
        "    num = 100\n",
        "    num_str = str(num)\n",
        "    print(num_str, type(num_str))\n",
        "\n",
        "if __name__ == \"__main__\":\n",
        "    main()"
      ],
      "metadata": {
        "colab": {
          "base_uri": "https://localhost:8080/"
        },
        "outputId": "41e46c1d-4289-4678-bfe6-afb5f775ebcb",
        "id": "s7Xmgd-7r_St"
      },
      "execution_count": null,
      "outputs": [
        {
          "output_type": "stream",
          "name": "stdout",
          "text": [
            "100 <class 'str'>\n"
          ]
        }
      ]
    },
    {
      "cell_type": "markdown",
      "source": [
        "#####***018***"
      ],
      "metadata": {
        "id": "VIj9Ln5kr_V2"
      }
    },
    {
      "cell_type": "markdown",
      "source": [
        "018 문자열을 실수로 변환\n",
        "문자열 \"15.79\"를 실수(float) 타입으로 변환해보세요."
      ],
      "metadata": {
        "id": "irUQsdAxr_V2"
      }
    },
    {
      "cell_type": "markdown",
      "source": [
        "######***Solution***"
      ],
      "metadata": {
        "id": "lbDjdOaWr_V2"
      }
    },
    {
      "cell_type": "code",
      "source": [
        "def main():\n",
        "    num_str = \"15.79\"\n",
        "    num = float(num_str)\n",
        "    print(num, type(num))\n",
        "\n",
        "if __name__ == \"__main__\":\n",
        "    main()"
      ],
      "metadata": {
        "colab": {
          "base_uri": "https://localhost:8080/"
        },
        "outputId": "96f6e42e-74cf-4e03-994e-b69189dfe3e7",
        "id": "6JzElKpbr_V2"
      },
      "execution_count": null,
      "outputs": [
        {
          "output_type": "stream",
          "name": "stdout",
          "text": [
            "15.79 <class 'float'>\n"
          ]
        }
      ]
    },
    {
      "cell_type": "markdown",
      "source": [
        "####***Section String Method - replace***"
      ],
      "metadata": {
        "id": "CVR7kcDN9LmL"
      }
    },
    {
      "cell_type": "markdown",
      "source": [
        "#####***025***"
      ],
      "metadata": {
        "id": "zz0lU0NXGejj"
      }
    },
    {
      "cell_type": "markdown",
      "source": [
        "025 문자열 치환\n",
        "아래의 전화번호에서 하이푼 ('-')을 제거하고 출력하세요.\n",
        "```\n",
        ">> phone_number = \"010-1111-2222\"\n",
        "```\n",
        "```\n",
        "실행 예\n",
        "010 1111 2222\n",
        "```"
      ],
      "metadata": {
        "id": "NlLt8-xGGeoi"
      }
    },
    {
      "cell_type": "markdown",
      "source": [
        "######***Solution***"
      ],
      "metadata": {
        "id": "oFFWu_swGqs8"
      }
    },
    {
      "cell_type": "code",
      "source": [
        "def main():\n",
        "    phone_number = \"010-1111-2222\"\n",
        "    phone_number1 = phone_number.replace(\"-\", \" \")\n",
        "    print(phone_number1)\n",
        "\n",
        "if __name__ == \"__main__\":\n",
        "    main()"
      ],
      "metadata": {
        "colab": {
          "base_uri": "https://localhost:8080/"
        },
        "outputId": "76c5c33e-8600-4d62-f88d-6ea23e5d3538",
        "id": "ZYz-wNCTGqs9"
      },
      "execution_count": null,
      "outputs": [
        {
          "output_type": "stream",
          "name": "stdout",
          "text": [
            "010 1111 2222\n"
          ]
        }
      ]
    },
    {
      "cell_type": "markdown",
      "source": [
        "#####***026***"
      ],
      "metadata": {
        "id": "q98q2-GjG_Se"
      }
    },
    {
      "cell_type": "markdown",
      "source": [
        "026 문자열 다루기\n",
        "25번 문제의 전화번호를 아래와 같이 모두 붙여 출력하세요.\n",
        "```\n",
        "실행 예\n",
        "01011112222\n",
        "```"
      ],
      "metadata": {
        "id": "l37XKbPuG_Xt"
      }
    },
    {
      "cell_type": "markdown",
      "source": [
        "######***Solution***"
      ],
      "metadata": {
        "id": "ssCCXl8cHIHv"
      }
    },
    {
      "cell_type": "code",
      "source": [
        "def main():\n",
        "    phone_number = \"010-1111-2222\"\n",
        "    phone_number1 = phone_number.replace(\"-\", \"\")\n",
        "    print(phone_number1)\n",
        "\n",
        "if __name__ == \"__main__\":\n",
        "    main()"
      ],
      "metadata": {
        "colab": {
          "base_uri": "https://localhost:8080/"
        },
        "outputId": "3281cf45-5752-4398-b3c0-051e9c2f98e2",
        "id": "Ynd5BT-uHIHw"
      },
      "execution_count": null,
      "outputs": [
        {
          "output_type": "stream",
          "name": "stdout",
          "text": [
            "01011112222\n"
          ]
        }
      ]
    },
    {
      "cell_type": "markdown",
      "source": [
        "#####***029***"
      ],
      "metadata": {
        "id": "SR9PMEXqHntG"
      }
    },
    {
      "cell_type": "markdown",
      "source": [
        "029 replace 메서드\n",
        "아래 문자열에서 소문자 'a'를 대문자 'A'로 변경하세요.\n",
        "```\n",
        ">> string = 'abcdfe2a354a32a'\n",
        "```\n",
        "```\n",
        "실행 예:\n",
        "Abcdfe2A354A32A\n",
        "```"
      ],
      "metadata": {
        "id": "bJr6YtS3HnwM"
      }
    },
    {
      "cell_type": "markdown",
      "source": [
        "######***Solution***"
      ],
      "metadata": {
        "id": "ZFXDHXzxHvYv"
      }
    },
    {
      "cell_type": "code",
      "source": [
        "def main():\n",
        "    string = 'abcdfe2a354a32a'\n",
        "    string = string.replace('a', 'A')\n",
        "    print(string)\n",
        "\n",
        "if __name__ == \"__main__\":\n",
        "    main()"
      ],
      "metadata": {
        "colab": {
          "base_uri": "https://localhost:8080/"
        },
        "outputId": "429a2ee7-5785-4fca-f55f-1dc73f6c2876",
        "id": "wJuElNpjHvYw"
      },
      "execution_count": null,
      "outputs": [
        {
          "output_type": "stream",
          "name": "stdout",
          "text": [
            "Abcdfe2A354A32A\n"
          ]
        }
      ]
    },
    {
      "cell_type": "markdown",
      "source": [
        "#####***038***\n"
      ],
      "metadata": {
        "id": "kmL8JX5a_5nT"
      }
    },
    {
      "cell_type": "markdown",
      "source": [
        "038 컴마 제거하기\n",
        "삼성전자의 상장주식수가 다음과 같습니다. 컴마를 제거한 후 이를 정수 타입으로 변환해보세요.\n",
        "```\n",
        "상장주식수 = \"5,969,782,550\"\n",
        "```"
      ],
      "metadata": {
        "id": "IhGXy8kH_5nT"
      }
    },
    {
      "cell_type": "markdown",
      "source": [
        "######***Solution***"
      ],
      "metadata": {
        "id": "IPTwUA7X_5nU"
      }
    },
    {
      "cell_type": "code",
      "source": [
        "def main():\n",
        "    상장주식수 = \"5,969,782,550\"\n",
        "    컴마제거 = 상장주식수.replace(\",\", \"\")\n",
        "    타입변환 = int(컴마제거)\n",
        "    print(타입변환, type(타입변환))\n",
        "\n",
        "if __name__ == \"__main__\":\n",
        "    main()"
      ],
      "metadata": {
        "colab": {
          "base_uri": "https://localhost:8080/"
        },
        "outputId": "6405ef26-05fd-4bd9-a5aa-3a21eae262ae",
        "id": "otmAlZg0_5nU"
      },
      "execution_count": null,
      "outputs": [
        {
          "output_type": "stream",
          "name": "stdout",
          "text": [
            "5969782550 <class 'int'>\n"
          ]
        }
      ]
    },
    {
      "cell_type": "markdown",
      "source": [
        "####***Section String Method - strip, lstrip, rstrip***"
      ],
      "metadata": {
        "id": "dKb0QxCzAFZ6"
      }
    },
    {
      "cell_type": "markdown",
      "source": [
        "#####***040***"
      ],
      "metadata": {
        "id": "QZWsZ3e_AEmH"
      }
    },
    {
      "cell_type": "markdown",
      "source": [
        "040 strip 메서드\n",
        "문자열의 좌우의 공백이 있을 때 이를 제거해보세요.\n",
        "```\n",
        "data = \"   삼성전자    \"\n",
        "```"
      ],
      "metadata": {
        "id": "x_W6CFdQAEmI"
      }
    },
    {
      "cell_type": "markdown",
      "source": [
        "######***Solution***"
      ],
      "metadata": {
        "id": "fBuUKSP1AEmI"
      }
    },
    {
      "cell_type": "code",
      "source": [
        "def main():\n",
        "    data = \"   삼성전자    \"\n",
        "    data1 = data.strip()\n",
        "    print(data1)\n",
        "\n",
        "if __name__ == \"__main__\":\n",
        "    main()"
      ],
      "metadata": {
        "colab": {
          "base_uri": "https://localhost:8080/"
        },
        "outputId": "3db5b110-fa5c-4cbd-c1b6-4bf2326779e1",
        "id": "EXAymQiHAEmI"
      },
      "execution_count": null,
      "outputs": [
        {
          "output_type": "stream",
          "name": "stdout",
          "text": [
            "삼성전자\n"
          ]
        }
      ]
    },
    {
      "cell_type": "markdown",
      "source": [
        "#####***050***"
      ],
      "metadata": {
        "id": "1pKbNtvRDPF5"
      }
    },
    {
      "cell_type": "markdown",
      "source": [
        "050 rstrip 메서드\n",
        "문자열의 오른쪽에 공백이 있을 때 이를 제거해보세요.\n",
        "```\n",
        "data = \"039490     \"\n",
        "```"
      ],
      "metadata": {
        "id": "f2Q8M_ScDPF6"
      }
    },
    {
      "cell_type": "markdown",
      "source": [
        "######***Solution***"
      ],
      "metadata": {
        "id": "1vR10VGADPF6"
      }
    },
    {
      "cell_type": "code",
      "source": [
        "def main():\n",
        "    data = \"039490     \"\n",
        "    data = data.rstrip()\n",
        "    print(data)\n",
        "\n",
        "if __name__ == \"__main__\":\n",
        "    main()"
      ],
      "metadata": {
        "colab": {
          "base_uri": "https://localhost:8080/"
        },
        "outputId": "5f050dbe-c95f-4b37-f811-96a23c23bd33",
        "id": "ZGnYlypKDPF6"
      },
      "execution_count": null,
      "outputs": [
        {
          "output_type": "stream",
          "name": "stdout",
          "text": [
            "039490\n"
          ]
        }
      ]
    },
    {
      "cell_type": "markdown",
      "source": [
        "####***Section String Method - split***"
      ],
      "metadata": {
        "id": "DLdO2FDQ_Ix_"
      }
    },
    {
      "cell_type": "markdown",
      "source": [
        "#####***027***"
      ],
      "metadata": {
        "id": "1l30552HHR05"
      }
    },
    {
      "cell_type": "markdown",
      "source": [
        "027 문자열 다루기\n",
        "url 에 저장된 웹 페이지 주소에서 도메인을 출력하세요.\n",
        "```\n",
        ">> url = \"http://sharebook.kr\"\n",
        "```\n",
        "```\n",
        "실행 예:\n",
        "kr\n",
        "```"
      ],
      "metadata": {
        "id": "6qcY7-vXHR5Y"
      }
    },
    {
      "cell_type": "markdown",
      "source": [
        "######***Solution***"
      ],
      "metadata": {
        "id": "viHGHwp7Hcf4"
      }
    },
    {
      "cell_type": "code",
      "source": [
        "def main():\n",
        "    url = \"http://sharebook.kr\"\n",
        "    url_split = url.split('.')\n",
        "    print(url_split[-1])\n",
        "\n",
        "if __name__ == \"__main__\":\n",
        "    main()"
      ],
      "metadata": {
        "colab": {
          "base_uri": "https://localhost:8080/"
        },
        "outputId": "233d8429-f81e-4f8c-91ea-15071ff696b0",
        "id": "MzRCnT7yHcf5"
      },
      "execution_count": null,
      "outputs": [
        {
          "output_type": "stream",
          "name": "stdout",
          "text": [
            "kr\n"
          ]
        }
      ]
    },
    {
      "cell_type": "markdown",
      "source": [
        "#####***047***"
      ],
      "metadata": {
        "id": "KNGshQmECoA7"
      }
    },
    {
      "cell_type": "markdown",
      "source": [
        "047 split 메서드\n",
        "다음과 같은 문자열이 있을 때 공백을 기준으로 문자열을 나눠보세요.\n",
        "```\n",
        "a = \"hello world\"\n",
        "```"
      ],
      "metadata": {
        "id": "dIXHHyP6CoA8"
      }
    },
    {
      "cell_type": "markdown",
      "source": [
        "######***Solution***"
      ],
      "metadata": {
        "id": "i1GN6bICCoA8"
      }
    },
    {
      "cell_type": "code",
      "source": [
        "def main():\n",
        "    a = \"hello world\"\n",
        "    print(a.split())\n",
        "\n",
        "if __name__ == \"__main__\":\n",
        "    main()"
      ],
      "metadata": {
        "colab": {
          "base_uri": "https://localhost:8080/"
        },
        "outputId": "7a7688d7-72bc-4932-dda0-e5ab680443af",
        "id": "HW5qTnyLCoA8"
      },
      "execution_count": null,
      "outputs": [
        {
          "output_type": "stream",
          "name": "stdout",
          "text": [
            "['hello', 'world']\n"
          ]
        }
      ]
    },
    {
      "cell_type": "markdown",
      "source": [
        "#####***048***"
      ],
      "metadata": {
        "id": "C7fdMwwqC0fj"
      }
    },
    {
      "cell_type": "markdown",
      "source": [
        "048 split 메서드\n",
        "다음과 같이 문자열이 있을 때 btc와 krw로 나눠보세요.\n",
        "```\n",
        "ticker = \"btc_krw\"\n",
        "```"
      ],
      "metadata": {
        "id": "n7PX3K-tC0fk"
      }
    },
    {
      "cell_type": "markdown",
      "source": [
        "######***Solution***"
      ],
      "metadata": {
        "id": "gZZhK6YjC0fk"
      }
    },
    {
      "cell_type": "code",
      "source": [
        "def main():\n",
        "    ticker = \"btc_krw\"\n",
        "    print(ticker.split(\"_\"))\n",
        "\n",
        "if __name__ == \"__main__\":\n",
        "    main()"
      ],
      "metadata": {
        "colab": {
          "base_uri": "https://localhost:8080/"
        },
        "outputId": "47657dec-a7d7-4acd-f673-2082cb2a846f",
        "id": "EboF8U_CC0fk"
      },
      "execution_count": null,
      "outputs": [
        {
          "output_type": "stream",
          "name": "stdout",
          "text": [
            "['btc', 'krw']\n"
          ]
        }
      ]
    },
    {
      "cell_type": "markdown",
      "source": [
        "#####***049***"
      ],
      "metadata": {
        "id": "o-cq_5rtC4UE"
      }
    },
    {
      "cell_type": "markdown",
      "source": [
        "049 split 메서드\n",
        "다음과 같이 날짜를 표현하는 문자열이 있을 때 연도, 월, 일로 나눠보세요.\n",
        "```\n",
        "date = \"2020-05-01\"\n",
        "```"
      ],
      "metadata": {
        "id": "-ReXGho5C4UF"
      }
    },
    {
      "cell_type": "markdown",
      "source": [
        "######***Solution***"
      ],
      "metadata": {
        "id": "-F1eOSx5C4UF"
      }
    },
    {
      "cell_type": "code",
      "source": [
        "def main():\n",
        "    date = \"2020-05-01\"\n",
        "    print(date.split(\"-\"))\n",
        "\n",
        "if __name__ == \"__main__\":\n",
        "    main()"
      ],
      "metadata": {
        "colab": {
          "base_uri": "https://localhost:8080/"
        },
        "outputId": "ad038475-bd32-400c-b3f6-0df15ba25b17",
        "id": "K35X1qANC4UF"
      },
      "execution_count": null,
      "outputs": [
        {
          "output_type": "stream",
          "name": "stdout",
          "text": [
            "['2020', '05', '01']\n"
          ]
        }
      ]
    },
    {
      "cell_type": "markdown",
      "source": [
        "#####***123***"
      ],
      "metadata": {
        "id": "5ImQkmgHgycu"
      }
    },
    {
      "cell_type": "markdown",
      "source": [
        "123\n",
        "사용자로부터 달러, 엔, 유로, 또는 위안 금액을 입력받은 후 이를 원으로 변환하는 프로그램을 작성하라. 각 통화별 환율은 다음과 같다. 사용자는 100 달러, 1000 엔, 13 유로, 100 위안과 같이 금액과 통화명 사이에 공백을 넣어 입력한다고 가정한다."
      ],
      "metadata": {
        "id": "Hddc3BRjgyfV"
      }
    },
    {
      "cell_type": "markdown",
      "source": [
        "######***Solution***"
      ],
      "metadata": {
        "id": "R_esX1BrRzuy"
      }
    },
    {
      "cell_type": "code",
      "source": [
        "def main():\n",
        "    환율 = {\"달러\": 1167, \n",
        "            \"엔\": 1.096, \n",
        "            \"유로\": 1268, \n",
        "            \"위안\": 171}\n",
        "    user = input(\"입력: \")\n",
        "    num, currency = user.split()\n",
        "    print(float(num) * 환율[currency], \"원\")\n",
        "\n",
        "if __name__ == \"__main__\":\n",
        "    main()"
      ],
      "metadata": {
        "id": "d-S7ExJjg6BN"
      },
      "execution_count": null,
      "outputs": []
    },
    {
      "cell_type": "markdown",
      "source": [
        "####***Section String Method - upper, lower, capitalize***"
      ],
      "metadata": {
        "id": "tJYbaEwWArLv"
      }
    },
    {
      "cell_type": "markdown",
      "source": [
        "#####***041***"
      ],
      "metadata": {
        "id": "OS2YFWLBArLw"
      }
    },
    {
      "cell_type": "markdown",
      "source": [
        "041 upper 메서드\n",
        "다음과 같은 문자열이 있을 때 이를 대문자 BTC_KRW로 변경하세요.\n",
        "```\n",
        "ticker = \"btc_krw\"\n",
        "```"
      ],
      "metadata": {
        "id": "HVhncI4VArLw"
      }
    },
    {
      "cell_type": "markdown",
      "source": [
        "######***Solution***"
      ],
      "metadata": {
        "id": "ay42VT-_ArLw"
      }
    },
    {
      "cell_type": "code",
      "source": [
        "def main():\n",
        "    ticker = \"btc_krw\"\n",
        "    ticker1 = ticker.upper()\n",
        "    print(ticker1)\n",
        "\n",
        "if __name__ == \"__main__\":\n",
        "    main()"
      ],
      "metadata": {
        "colab": {
          "base_uri": "https://localhost:8080/"
        },
        "outputId": "3db5b110-fa5c-4cbd-c1b6-4bf2326779e1",
        "id": "pdW2o3qNArLw"
      },
      "execution_count": null,
      "outputs": [
        {
          "output_type": "stream",
          "name": "stdout",
          "text": [
            "삼성전자\n"
          ]
        }
      ]
    },
    {
      "cell_type": "markdown",
      "source": [
        "#####***042***"
      ],
      "metadata": {
        "id": "HS18-yiSArLx"
      }
    },
    {
      "cell_type": "markdown",
      "source": [
        "042 lower 메서드\n",
        "다음과 같은 문자열이 있을 때 이를 소문자 btc_krw로 변경하세요.\n",
        "```\n",
        "ticker = \"BTC_KRW\"\n",
        "```"
      ],
      "metadata": {
        "id": "LU2awR_eArLx"
      }
    },
    {
      "cell_type": "markdown",
      "source": [
        "######***Solution***"
      ],
      "metadata": {
        "id": "ivL6J_lXArLx"
      }
    },
    {
      "cell_type": "code",
      "source": [
        "def main():\n",
        "    ticker = \"BTC_KRW\"\n",
        "    ticker = ticker.lower()\n",
        "    print(ticker)\n",
        "\n",
        "if __name__ == \"__main__\":\n",
        "    main()"
      ],
      "metadata": {
        "colab": {
          "base_uri": "https://localhost:8080/"
        },
        "outputId": "99e28542-4cdf-4e4e-8c90-94fa6e9a3d1b",
        "id": "NZhdcKJxArLx"
      },
      "execution_count": null,
      "outputs": [
        {
          "output_type": "stream",
          "name": "stdout",
          "text": [
            "btc_krw\n"
          ]
        }
      ]
    },
    {
      "cell_type": "markdown",
      "source": [
        "#####***043***"
      ],
      "metadata": {
        "id": "_pcpJ9wLArLx"
      }
    },
    {
      "cell_type": "markdown",
      "source": [
        "043 capitalize 메서드\n",
        "문자열 'hello'가 있을 때 이를 'Hello'로 변경해보세요."
      ],
      "metadata": {
        "id": "OmL9YBPxArLx"
      }
    },
    {
      "cell_type": "markdown",
      "source": [
        "######***Solution***"
      ],
      "metadata": {
        "id": "8l9vsG_xArLy"
      }
    },
    {
      "cell_type": "code",
      "source": [
        "def main():\n",
        "    a = \"hello\"\n",
        "    a = a.capitalize()\n",
        "    print(a)\n",
        "\n",
        "if __name__ == \"__main__\":\n",
        "    main()"
      ],
      "metadata": {
        "colab": {
          "base_uri": "https://localhost:8080/"
        },
        "outputId": "c56296a6-9c53-4ecf-b9c7-0629cc78f151",
        "id": "0MKodDCMArLy"
      },
      "execution_count": null,
      "outputs": [
        {
          "output_type": "stream",
          "name": "stdout",
          "text": [
            "Hello\n"
          ]
        }
      ]
    },
    {
      "cell_type": "markdown",
      "source": [
        "####***Section String Method - isupper, islower, iscapitalize***"
      ],
      "metadata": {
        "id": "PmAUwzT6L9_f"
      }
    },
    {
      "cell_type": "markdown",
      "source": [
        "#####***121***"
      ],
      "metadata": {
        "id": "Rdg1nXZsgTwV"
      }
    },
    {
      "cell_type": "markdown",
      "source": [
        "121\n",
        "사용자로부터 문자 한 개를 입력 받고, 소문자일 경우 대문자로, 대문자 일 경우, 소문자로 변경해서 출력하라."
      ],
      "metadata": {
        "id": "dAr4ObSSgTzp"
      }
    },
    {
      "cell_type": "markdown",
      "source": [
        "######***Solution***"
      ],
      "metadata": {
        "id": "Awph9CskRzsg"
      }
    },
    {
      "cell_type": "code",
      "source": [
        "def main():\n",
        "    user = input(\"\")\n",
        "    if user.islower():\n",
        "        print(user.upper())\n",
        "    else:\n",
        "        print(user.lower())\n",
        "\n",
        "if __name__ == \"__main__\":\n",
        "    main()"
      ],
      "metadata": {
        "id": "aAskO4z3gXxj"
      },
      "execution_count": null,
      "outputs": []
    },
    {
      "cell_type": "markdown",
      "source": [
        "####***Section String Method - startwith, endwith***"
      ],
      "metadata": {
        "id": "m0cvJNz1BrKv"
      }
    },
    {
      "cell_type": "markdown",
      "source": [
        "#####***044***"
      ],
      "metadata": {
        "id": "M-yh9UgPBxgs"
      }
    },
    {
      "cell_type": "markdown",
      "source": [
        "044 endswith 메서드\n",
        "파일 이름이 문자열로 저장되어 있을 때 endswith 메서드를 사용해서 파일 이름이 'xlsx'로 끝나는지 확인해보세요.\n",
        "```\n",
        "file_name = \"보고서.xlsx\"\n",
        "```"
      ],
      "metadata": {
        "id": "ZGtDur5qBxgs"
      }
    },
    {
      "cell_type": "markdown",
      "source": [
        "######***Solution***"
      ],
      "metadata": {
        "id": "WCCQLrU5Bxgs"
      }
    },
    {
      "cell_type": "code",
      "source": [
        "def main():\n",
        "    file_name = \"보고서.xlsx\"\n",
        "    print(file_name.endswith(\"xlsx\"))\n",
        "\n",
        "if __name__ == \"__main__\":\n",
        "    main()"
      ],
      "metadata": {
        "colab": {
          "base_uri": "https://localhost:8080/"
        },
        "outputId": "c56296a6-9c53-4ecf-b9c7-0629cc78f151",
        "id": "_al12zEZBxgt"
      },
      "execution_count": null,
      "outputs": [
        {
          "output_type": "stream",
          "name": "stdout",
          "text": [
            "Hello\n"
          ]
        }
      ]
    },
    {
      "cell_type": "markdown",
      "source": [
        "#####***045***"
      ],
      "metadata": {
        "id": "q30HB4WXBxmV"
      }
    },
    {
      "cell_type": "markdown",
      "source": [
        "045 endswith 메서드\n",
        "파일 이름이 문자열로 저장되어 있을 때 endswith 메서드를 사용해서 파일 이름이 'xlsx' 또는 'xls'로 끝나는지 확인해보세요.\n",
        "```\n",
        "file_name = \"보고서.xls\"\n",
        "```"
      ],
      "metadata": {
        "id": "wQl1Qf6-BxmW"
      }
    },
    {
      "cell_type": "markdown",
      "source": [
        "######***Solution***"
      ],
      "metadata": {
        "id": "LX_f6xCCBxmW"
      }
    },
    {
      "cell_type": "code",
      "source": [
        "def main():\n",
        "    file_name = \"보고서.xls\"\n",
        "    print(file_name.endswith((\"xlsx\", \"xls\")))\n",
        "\n",
        "if __name__ == \"__main__\":\n",
        "    main()"
      ],
      "metadata": {
        "colab": {
          "base_uri": "https://localhost:8080/"
        },
        "outputId": "c56296a6-9c53-4ecf-b9c7-0629cc78f151",
        "id": "01IwDENeBxmW"
      },
      "execution_count": null,
      "outputs": [
        {
          "output_type": "stream",
          "name": "stdout",
          "text": [
            "Hello\n"
          ]
        }
      ]
    },
    {
      "cell_type": "markdown",
      "source": [
        "#####***046***"
      ],
      "metadata": {
        "id": "ySSM42JyBx1o"
      }
    },
    {
      "cell_type": "markdown",
      "source": [
        "046 startswith 메서드\n",
        "파일 이름이 문자열로 저장되어 있을 때 startswith 메서드를 사용해서 파일 이름이 '2020'로 시작하는지 확인해보세요.\n",
        "```\n",
        "file_name = \"2020_보고서.xlsx\"\n",
        "```"
      ],
      "metadata": {
        "id": "NZ_08kTGBx1p"
      }
    },
    {
      "cell_type": "markdown",
      "source": [
        "######***Solution***"
      ],
      "metadata": {
        "id": "Rg69dcBvBx1p"
      }
    },
    {
      "cell_type": "code",
      "source": [
        "def main():\n",
        "    file_name = \"2020_보고서.xlsx\"\n",
        "    print(file_name.startswith(\"2020\"))\n",
        "\n",
        "if __name__ == \"__main__\":\n",
        "    main()"
      ],
      "metadata": {
        "colab": {
          "base_uri": "https://localhost:8080/"
        },
        "outputId": "c56296a6-9c53-4ecf-b9c7-0629cc78f151",
        "id": "AeUyqbqrBx1p"
      },
      "execution_count": null,
      "outputs": [
        {
          "output_type": "stream",
          "name": "stdout",
          "text": [
            "Hello\n"
          ]
        }
      ]
    },
    {
      "cell_type": "markdown",
      "source": [
        "####***Section Format String***"
      ],
      "metadata": {
        "id": "qtW0qhPt_W5X"
      }
    },
    {
      "cell_type": "markdown",
      "source": [
        "#####***035***"
      ],
      "metadata": {
        "id": "yj8Cm26cJ1Qp"
      }
    },
    {
      "cell_type": "markdown",
      "source": [
        "035 문자열 출력\n",
        "변수에 다음과 같이 문자열과 정수가 바인딩되어 있을 때 % formatting을 사용해서 다음과 같이 출력해보세요.\n",
        "```\n",
        "name1 = \"김민수\" \n",
        "age1 = 10\n",
        "name2 = \"이철희\"\n",
        "age2 = 13\n",
        "```\n",
        "```\n",
        "이름: 김민수 나이: 10\n",
        "이름: 이철희 나이: 13\n",
        "```"
      ],
      "metadata": {
        "id": "ooPA3oZEJ1VA"
      }
    },
    {
      "cell_type": "markdown",
      "source": [
        "######***Solution***"
      ],
      "metadata": {
        "id": "8bPZvIsVJ-XS"
      }
    },
    {
      "cell_type": "code",
      "source": [
        "def main():\n",
        "    name1 = \"김민수\" \n",
        "    age1 = 10\n",
        "    name2 = \"이철희\"\n",
        "    age2 = 13\n",
        "    print(\"이름: %s 나이: %d\" % (name1, age1))\n",
        "    print(\"이름: %s 나이: %d\" % (name2, age2))\n",
        "\n",
        "if __name__ == \"__main__\":\n",
        "    main()"
      ],
      "metadata": {
        "colab": {
          "base_uri": "https://localhost:8080/"
        },
        "outputId": "c0843b72-3f50-48bf-f9cb-02f88d93ea1b",
        "id": "A1AZaIisJ-XS"
      },
      "execution_count": null,
      "outputs": [
        {
          "output_type": "stream",
          "name": "stdout",
          "text": [
            "이름: 김민수 나이: 10\n",
            "이름: 이철희 나이: 13\n"
          ]
        }
      ]
    },
    {
      "cell_type": "markdown",
      "source": [
        "#####***036***"
      ],
      "metadata": {
        "id": "92SQ5NrKKJRc"
      }
    },
    {
      "cell_type": "markdown",
      "source": [
        "036 문자열 출력\n",
        "문자열의 format( ) 메서드를 사용해서 035번 문제를 다시 풀어보세요."
      ],
      "metadata": {
        "id": "UdCkcDRjKJUj"
      }
    },
    {
      "cell_type": "markdown",
      "source": [
        "######***Solution***"
      ],
      "metadata": {
        "id": "avlhQ1MGKPFV"
      }
    },
    {
      "cell_type": "code",
      "source": [
        "def main():\n",
        "    name1 = \"김민수\" \n",
        "    age1 = 10\n",
        "    name2 = \"이철희\"\n",
        "    age2 = 13\n",
        "    print(\"이름: {} 나이: {}\".format(name1, age1))\n",
        "    print(\"이름: {} 나이: {}\".format(name2, age2))\n",
        "\n",
        "if __name__ == \"__main__\":\n",
        "    main()"
      ],
      "metadata": {
        "colab": {
          "base_uri": "https://localhost:8080/"
        },
        "outputId": "c0843b72-3f50-48bf-f9cb-02f88d93ea1b",
        "id": "F8woLOayKPFW"
      },
      "execution_count": null,
      "outputs": [
        {
          "output_type": "stream",
          "name": "stdout",
          "text": [
            "이름: 김민수 나이: 10\n",
            "이름: 이철희 나이: 13\n"
          ]
        }
      ]
    },
    {
      "cell_type": "markdown",
      "source": [
        "#####***037***"
      ],
      "metadata": {
        "id": "llXqAACHKWxJ"
      }
    },
    {
      "cell_type": "markdown",
      "source": [
        "037 문자열 출력\n",
        "파이썬 3.6부터 지원하는 f-string을 사용해서 035번 문제를 다시 풀어보세요."
      ],
      "metadata": {
        "id": "w2Rcy9LIKW0Y"
      }
    },
    {
      "cell_type": "markdown",
      "source": [
        "######***Solution***"
      ],
      "metadata": {
        "id": "RS7Ao4m1KcLa"
      }
    },
    {
      "cell_type": "code",
      "source": [
        "def main():\n",
        "    name1 = \"김민수\" \n",
        "    age1 = 10\n",
        "    name2 = \"이철희\"\n",
        "    age2 = 13\n",
        "    print(f\"이름: {name1} 나이: {age1}\")\n",
        "    print(f\"이름: {name2} 나이: {age2}\")\n",
        "\n",
        "if __name__ == \"__main__\":\n",
        "    main()"
      ],
      "metadata": {
        "colab": {
          "base_uri": "https://localhost:8080/"
        },
        "outputId": "c0843b72-3f50-48bf-f9cb-02f88d93ea1b",
        "id": "5PB3OtExKcLa"
      },
      "execution_count": null,
      "outputs": [
        {
          "output_type": "stream",
          "name": "stdout",
          "text": [
            "이름: 김민수 나이: 10\n",
            "이름: 이철희 나이: 13\n"
          ]
        }
      ]
    },
    {
      "cell_type": "markdown",
      "source": [
        "####***Section 10 Built-in Function - input***"
      ],
      "metadata": {
        "id": "4l-WLKi9LoFM"
      }
    },
    {
      "cell_type": "markdown",
      "source": [
        "#####***111***"
      ],
      "metadata": {
        "id": "Sg3rVDRLUlhJ"
      }
    },
    {
      "cell_type": "markdown",
      "source": [
        "사용자로부터 입력받은 문자열을 두 번 출력하라. 아래는 사용자가 \"안녕하세요\"를 입력한 경우의 출력 결과이다.\n",
        "```\n",
        ">> 안녕하세요\n",
        "안녕하세요안녕하세요\n",
        "```"
      ],
      "metadata": {
        "id": "Sackh5Z6UlkQ"
      }
    },
    {
      "cell_type": "markdown",
      "source": [
        "######***Solution***"
      ],
      "metadata": {
        "id": "NzJVVIzqRzpi"
      }
    },
    {
      "cell_type": "code",
      "source": [
        "def main():\n",
        "    user = input(\"입력:\")\n",
        "    print(user * 2)\n",
        "\n",
        "if __name__ == \"__main__\":\n",
        "    main()"
      ],
      "metadata": {
        "colab": {
          "base_uri": "https://localhost:8080/"
        },
        "id": "8qN1QJSkUoqA",
        "outputId": "cbf8b3ae-bb5d-4d5f-9729-e342fd9544e5"
      },
      "execution_count": null,
      "outputs": [
        {
          "output_type": "stream",
          "name": "stdout",
          "text": [
            "입력:안녕하세요\n",
            "안녕하세요안녕하세요\n"
          ]
        }
      ]
    },
    {
      "cell_type": "markdown",
      "source": [
        "#####***Exercise [eng](https://www.youtube.com/watch?v=6RkGmqcfiTw&list=PLS1QulWo1RIZuCYHd7QUVCQbBxEhu9aDP&index=11)***"
      ],
      "metadata": {
        "id": "EvdtkpDJYuSK"
      }
    },
    {
      "cell_type": "markdown",
      "source": [
        "Below code takes two numbers from the user and peint the sum of these two numbers. However, there is a bug in the code. Please fix the bug.\n",
        "```\n",
        "def add_two_numbers(x, y):\n",
        "    return x + y\n",
        "\n",
        "def main():\n",
        "    x = input(\"Input your first number : \")\n",
        "    y = input(\"Input your second number : \")\n",
        "    z = add_two_numbers(x, y)\n",
        "    print(f\"Sum of two input numbers : {z}\")\n",
        "\n",
        "if __name__ == \"__main__\":\n",
        "    main()\n",
        "```\n",
        "\n",
        "```\n",
        "Input your first number : 3\n",
        "Input your second number : 4\n",
        "Sum of two input numbers : 34\n",
        "```"
      ],
      "metadata": {
        "id": "5VZisjO4YuSL"
      }
    },
    {
      "cell_type": "markdown",
      "source": [
        "######***Solution***"
      ],
      "metadata": {
        "id": "36j1CQ6AYuSL"
      }
    },
    {
      "cell_type": "code",
      "source": [
        "def add_two_numbers(x, y):\n",
        "    return x + y\n",
        "\n",
        "def main():\n",
        "    x = int(input(\"Input your first number : \")) # <--- fix the bug\n",
        "    y = int(input(\"Input your second number : \")) # <--- fix the bug\n",
        "    z = add_two_numbers(x, y)\n",
        "    print(f\"Sum of two input numbers : {z}\")\n",
        "\n",
        "if __name__ == \"__main__\":\n",
        "    main()"
      ],
      "metadata": {
        "colab": {
          "base_uri": "https://localhost:8080/"
        },
        "outputId": "af7bcb19-45f5-4979-e7de-6e93716d3b18",
        "id": "qbEjmN87YuSL"
      },
      "execution_count": null,
      "outputs": [
        {
          "output_type": "stream",
          "name": "stdout",
          "text": [
            "Input your first number : 3\n",
            "Input your second number : 4\n",
            "Sum of two input numbers : 34\n"
          ]
        }
      ]
    },
    {
      "cell_type": "markdown",
      "source": [
        "###***Chapter 8 Boolean***"
      ],
      "metadata": {
        "id": "aP6i51gwjb-z"
      }
    },
    {
      "cell_type": "markdown",
      "source": [
        "#####***101***"
      ],
      "metadata": {
        "id": "Gvp2cJ_bTix2"
      }
    },
    {
      "cell_type": "markdown",
      "source": [
        "101\n",
        "파이썬에서 True 혹은 False를 갖는 데이터 타입은 무엇인가?"
      ],
      "metadata": {
        "id": "GmMDw_IGTi02"
      }
    },
    {
      "cell_type": "markdown",
      "source": [
        "######***Solution***"
      ],
      "metadata": {
        "id": "-TpTw6MsRznD"
      }
    },
    {
      "cell_type": "code",
      "source": [
        "def main():\n",
        "    print(type(True))\n",
        "\n",
        "if __name__ == \"__main__\":\n",
        "    main()"
      ],
      "metadata": {
        "colab": {
          "base_uri": "https://localhost:8080/"
        },
        "id": "fTq4zQRgUAzo",
        "outputId": "2811b4b9-892b-4aed-9974-70f06fa558fb"
      },
      "execution_count": null,
      "outputs": [
        {
          "output_type": "stream",
          "name": "stdout",
          "text": [
            "<class 'bool'>\n"
          ]
        }
      ]
    },
    {
      "cell_type": "markdown",
      "source": [
        "#####***Exercise***"
      ],
      "metadata": {
        "id": "2_4gnb49mvUL"
      }
    },
    {
      "cell_type": "markdown",
      "source": [
        "Guess the output of the following:\n",
        "```\n",
        "print(3 == 3.0)\n",
        "```"
      ],
      "metadata": {
        "id": "8j3zA21HmvUL"
      }
    },
    {
      "cell_type": "markdown",
      "source": [
        "######***Solution***"
      ],
      "metadata": {
        "id": "Kr01MJRBmvUM"
      }
    },
    {
      "cell_type": "code",
      "source": [
        "def main():\n",
        "    print(3 == 3.0)\n",
        "\n",
        "if __name__ == \"__main__\":\n",
        "    main()"
      ],
      "metadata": {
        "colab": {
          "base_uri": "https://localhost:8080/"
        },
        "outputId": "e21d0b1f-e941-401d-c29f-d3c55a51eb8d",
        "id": "59BGyw6emvUM"
      },
      "execution_count": null,
      "outputs": [
        {
          "output_type": "stream",
          "name": "stdout",
          "text": [
            "True\n"
          ]
        }
      ]
    },
    {
      "cell_type": "markdown",
      "source": [
        "#####***Exercise***"
      ],
      "metadata": {
        "id": "hPcBsCSOnKko"
      }
    },
    {
      "cell_type": "markdown",
      "source": [
        "Guess the output of the following:\n",
        "```\n",
        "print(\"B\" < \"a\")\n",
        "```"
      ],
      "metadata": {
        "id": "GWh9t4DznKkp"
      }
    },
    {
      "cell_type": "markdown",
      "source": [
        "######***Solution***"
      ],
      "metadata": {
        "id": "VlkZpnLznKkp"
      }
    },
    {
      "cell_type": "code",
      "source": [
        "def main():\n",
        "    print(\"B\" < \"a\")\n",
        "\n",
        "if __name__ == \"__main__\":\n",
        "    main()"
      ],
      "metadata": {
        "colab": {
          "base_uri": "https://localhost:8080/"
        },
        "outputId": "229d6d63-dca2-40fb-e9a5-522d811a9394",
        "id": "IyWPwdWgnKkp"
      },
      "execution_count": null,
      "outputs": [
        {
          "output_type": "stream",
          "name": "stdout",
          "text": [
            "True\n"
          ]
        }
      ]
    },
    {
      "cell_type": "markdown",
      "source": [
        "###***Chapter 9 None***"
      ],
      "metadata": {
        "id": "zWTXgOOvjcI6"
      }
    },
    {
      "cell_type": "markdown",
      "source": [
        "###***Chapter 13 List***"
      ],
      "metadata": {
        "id": "B6BbtmL-i9Ai"
      }
    },
    {
      "cell_type": "markdown",
      "source": [
        "####***Section List Indexing and Slicing***"
      ],
      "metadata": {
        "id": "EpUlrdc-hQV9"
      }
    },
    {
      "cell_type": "markdown",
      "source": [
        "#####***Exercise***"
      ],
      "metadata": {
        "id": "CkeJHPHJhSGR"
      }
    },
    {
      "cell_type": "markdown",
      "source": [
        "Remove items of the list a which are also members of another list b. Below is a code with bugs. Fix the bugs. Use the list slicing.\n",
        "```\n",
        "a = [1,2,3,4]\n",
        "b = [1,2,5,6]\n",
        "\n",
        "for item in a:\n",
        "    if item in b:\n",
        "        a.remove(item)\n",
        "\n",
        "print(a) # we expect [3,4] but we have [2, 3, 4]\n",
        "```"
      ],
      "metadata": {
        "id": "Pz3uvJiMhSGR"
      }
    },
    {
      "cell_type": "markdown",
      "source": [
        "######***Solution***"
      ],
      "metadata": {
        "id": "1vluqBHOhSGR"
      }
    },
    {
      "cell_type": "code",
      "source": [
        "def main():\n",
        "    a = [1,2,3,4]\n",
        "    b = [1,2,5,6]\n",
        "\n",
        "    for item in a[:]: # list slicing a[:] - copy of a\n",
        "        if item in b:\n",
        "            a.remove(item)\n",
        "\n",
        "    print(a) \n",
        "\n",
        "if __name__ == \"__main__\":\n",
        "    main()"
      ],
      "metadata": {
        "colab": {
          "base_uri": "https://localhost:8080/"
        },
        "outputId": "13e16140-acad-403f-c65c-59a54041e523",
        "id": "w8pIjYB0hSGR"
      },
      "execution_count": null,
      "outputs": [
        {
          "output_type": "stream",
          "name": "stdout",
          "text": [
            "[4, 3, 2, 1]\n",
            "[1, 2, 3, 4]\n"
          ]
        }
      ]
    },
    {
      "cell_type": "markdown",
      "source": [
        "####***Section del***"
      ],
      "metadata": {
        "id": "0HkTsyIrGBVO"
      }
    },
    {
      "cell_type": "markdown",
      "source": [
        "#####***054***"
      ],
      "metadata": {
        "id": "kbVGouEmVHeZ"
      }
    },
    {
      "cell_type": "markdown",
      "source": [
        "054\n",
        "movie_rank 리스트에서 '럭키'를 삭제하라.\n",
        "```\n",
        "movie_rank = ['닥터 스트레인지', '슈퍼맨', '스플릿', '럭키', '배트맨']\n",
        "```"
      ],
      "metadata": {
        "id": "4N0qQqZpRpRf"
      }
    },
    {
      "cell_type": "markdown",
      "source": [
        "######***Solution***"
      ],
      "metadata": {
        "id": "YoH_NLeTRw5C"
      }
    },
    {
      "cell_type": "code",
      "source": [
        "def main():\n",
        "    movie_rank = ['닥터 스트레인지', '슈퍼맨', '스플릿', '럭키', '배트맨']\n",
        "    del movie_rank[3]\n",
        "    print(movie_rank)\n",
        "\n",
        "if __name__ == \"__main__\":\n",
        "    main()"
      ],
      "metadata": {
        "colab": {
          "base_uri": "https://localhost:8080/"
        },
        "id": "FAqoHdbrR5nE",
        "outputId": "f2c75ab3-b442-4474-92a8-585dd8e46dba"
      },
      "execution_count": null,
      "outputs": [
        {
          "output_type": "stream",
          "name": "stdout",
          "text": [
            "['닥터 스트레인지', '슈퍼맨', '스플릿', '배트맨']\n"
          ]
        }
      ]
    },
    {
      "cell_type": "markdown",
      "source": [
        "#####***055***"
      ],
      "metadata": {
        "id": "ZSdwr2V6VPid"
      }
    },
    {
      "cell_type": "markdown",
      "source": [
        "055\n",
        "movie_rank 리스트에서 '스플릿' 과 '배트맨'을 를 삭제하라.\n",
        "```\n",
        "movie_rank = ['닥터 스트레인지', '슈퍼맨', '스플릿', '배트맨']\n",
        "```"
      ],
      "metadata": {
        "id": "SpfEJdqjSDdy"
      }
    },
    {
      "cell_type": "markdown",
      "source": [
        "######***Solution***"
      ],
      "metadata": {
        "id": "A2l-8kQSRy39"
      }
    },
    {
      "cell_type": "code",
      "source": [
        "def main():\n",
        "    movie_rank = ['닥터 스트레인지', '슈퍼맨', '스플릿', '배트맨']\n",
        "    del movie_rank[2]\n",
        "    del movie_rank[2]\n",
        "    print(movie_rank)\n",
        "\n",
        "if __name__ == \"__main__\":\n",
        "    main()"
      ],
      "metadata": {
        "id": "uEhBwHXKSHqa"
      },
      "execution_count": null,
      "outputs": []
    },
    {
      "cell_type": "markdown",
      "source": [
        "####***Section Membership Test***"
      ],
      "metadata": {
        "id": "dQY1ZSmt76iu"
      }
    },
    {
      "cell_type": "markdown",
      "source": [
        "#####***Exercise***"
      ],
      "metadata": {
        "id": "Jmy1oSZ_8R5s"
      }
    },
    {
      "cell_type": "markdown",
      "source": [
        "Guess the output of the following:\n",
        "```\n",
        "print(True in [0])\n",
        "print(True in [1])\n",
        "```"
      ],
      "metadata": {
        "id": "RHTutux28R5s"
      }
    },
    {
      "cell_type": "markdown",
      "source": [
        "######***Solution***"
      ],
      "metadata": {
        "id": "ZJKYx25r8R5s"
      }
    },
    {
      "cell_type": "code",
      "source": [
        "def main():\n",
        "    print(True in [0])\n",
        "    print(True in [1])\n",
        "\n",
        "if __name__ == \"__main__\":\n",
        "    main()"
      ],
      "metadata": {
        "colab": {
          "base_uri": "https://localhost:8080/"
        },
        "outputId": "0d382cc5-1429-4472-c9dd-0c96bbcb81f6",
        "id": "1szKArhK8R5t"
      },
      "execution_count": null,
      "outputs": [
        {
          "output_type": "stream",
          "name": "stdout",
          "text": [
            "False\n",
            "True\n"
          ]
        }
      ]
    },
    {
      "cell_type": "markdown",
      "source": [
        "####***Section List Method - append***"
      ],
      "metadata": {
        "id": "ePfX7lYnFWga"
      }
    },
    {
      "cell_type": "markdown",
      "source": [
        "#####***Exercise***"
      ],
      "metadata": {
        "id": "kvPZW0ooz3KN"
      }
    },
    {
      "cell_type": "markdown",
      "source": [
        "Guess the output of the following:\n",
        "```\n",
        "lst = [0,1,2,3,4,5]\n",
        "lst = lst.append(6)\n",
        "print(lst)\n",
        "```"
      ],
      "metadata": {
        "id": "hcQEXSOez3KN"
      }
    },
    {
      "cell_type": "markdown",
      "source": [
        "######***Solution***"
      ],
      "metadata": {
        "id": "y4y6hYEzz3KO"
      }
    },
    {
      "cell_type": "code",
      "source": [
        "def main():\n",
        "    lst = [0,1,2,3,4,5]\n",
        "    lst = lst.append(6)\n",
        "    print(lst)\n",
        "\n",
        "if __name__ == \"__main__\":\n",
        "    main()"
      ],
      "metadata": {
        "colab": {
          "base_uri": "https://localhost:8080/"
        },
        "outputId": "30e0d77c-2d12-4c07-9736-6f67bf9e7280",
        "id": "Wai-pn55z3KO"
      },
      "execution_count": null,
      "outputs": [
        {
          "output_type": "stream",
          "name": "stdout",
          "text": [
            "None\n"
          ]
        }
      ]
    },
    {
      "cell_type": "markdown",
      "source": [
        "#####***Problem 1***"
      ],
      "metadata": {
        "id": "yJIgiTAMKetB"
      }
    },
    {
      "cell_type": "markdown",
      "source": [
        "Problem 1: What will be the output of the following program?\n",
        "```\n",
        "x = [0, 1, [2]]\n",
        "x[2][0] = 3\n",
        "print(x)\n",
        "x[2].append(4)\n",
        "print(x)\n",
        "x[2] = 2\n",
        "print(x)\n",
        "```"
      ],
      "metadata": {
        "id": "GQzMTKCGKetB"
      }
    },
    {
      "cell_type": "markdown",
      "source": [
        "######***Solution***"
      ],
      "metadata": {
        "id": "DcGWeAoxKetC"
      }
    },
    {
      "cell_type": "code",
      "source": [
        "def main():\n",
        "    x = [0, 1, [2]] # x = [0, 1, [2]] \n",
        "    x[2][0] = 3 # x = [0, 1, [3]]\n",
        "    print(x) # [0, 1, [3]]\n",
        "    x[2].append(4) # x = [0, 1, [3, 4]]\n",
        "    print(x) # [0, 1, [3, 4]]\n",
        "    x[2] = 2 # x = [0, 1, 2]\n",
        "    print(x) # [0, 1, 2]\n",
        "\n",
        "if __name__ == \"__main__\":\n",
        "    main()"
      ],
      "metadata": {
        "colab": {
          "base_uri": "https://localhost:8080/"
        },
        "outputId": "e311c955-2a80-40fb-a07c-64a78e6255d4",
        "id": "WPLXC2eLKetC"
      },
      "execution_count": null,
      "outputs": [
        {
          "output_type": "stream",
          "name": "stdout",
          "text": [
            "[0, 1, [3]]\n",
            "[0, 1, [3, 4]]\n",
            "[0, 1, 2]\n"
          ]
        }
      ]
    },
    {
      "cell_type": "markdown",
      "source": [
        "#####***Exercise***"
      ],
      "metadata": {
        "id": "Ke1QSVeu9PM7"
      }
    },
    {
      "cell_type": "markdown",
      "source": [
        "Guess the output of the following:\n",
        "```\n",
        "lst = [0,1,2,3,4,5]\n",
        "id_before_append = id(lst)\n",
        "lst.append(6)\n",
        "id_after_append = id(lst)\n",
        "print(id_before_append == id_after_append)\n",
        "```"
      ],
      "metadata": {
        "id": "S_IB4UM99PM8"
      }
    },
    {
      "cell_type": "markdown",
      "source": [
        "######***Solution***"
      ],
      "metadata": {
        "id": "FiDj_rm29PM8"
      }
    },
    {
      "cell_type": "code",
      "source": [
        "def main():\n",
        "    lst = [0,1,2,3,4,5]\n",
        "    id_before_append = id(lst)\n",
        "    lst.append(6)\n",
        "    id_after_append = id(lst)\n",
        "    print(id_before_append == id_after_append)\n",
        "\n",
        "if __name__ == \"__main__\":\n",
        "    main()"
      ],
      "metadata": {
        "colab": {
          "base_uri": "https://localhost:8080/"
        },
        "outputId": "15d8873e-fb89-47c3-ef30-990687d37aa9",
        "id": "WNWlBnaR9PM8"
      },
      "execution_count": null,
      "outputs": [
        {
          "output_type": "stream",
          "name": "stdout",
          "text": [
            "True\n"
          ]
        }
      ]
    },
    {
      "cell_type": "markdown",
      "source": [
        "#####***Exercise***"
      ],
      "metadata": {
        "id": "OE-q4zI73zwj"
      }
    },
    {
      "cell_type": "markdown",
      "source": [
        "```\n",
        "\"\"\"\n",
        "Complete this function such that it returns a new list\n",
        "which contains all values that appear more than once in\n",
        "the list passed into the function. Each duplicated value\n",
        "should appear exactly once in the output list regardless\n",
        "of how many times it is duplicated. \n",
        "If no items are duplicated, return an empty list. \n",
        "\"\"\"\n",
        "def duplicates(input_list):\n",
        "    # Delete pass, and put your code here.\n",
        "    pass\n",
        "\n",
        "\n",
        "# Very Simple Tests\n",
        "# in Python == for two lists means \"do the items in the list match exactly, order included\"\n",
        "assert duplicates([1, 2, 3, 1]) == [1]\n",
        "assert duplicates([3, 3, 3, 3, 3]) == [3]\n",
        "\n",
        "# Note the use of sorted here: your function can return the duplicates\n",
        "# in any order, but calling sorted on them makes it easier to test the\n",
        "# output. \n",
        "assert sorted(duplicates([1, 2, 3, 4, 1, 2, 3, 4])) == [1,2,3,4]\n",
        "assert sorted(duplicates([1, 1, 2, 3, 3, 4])) == [1, 3]\n",
        "\n",
        "## ADD AT LEAST 3 MORE TESTS ##\n",
        "```\n",
        "\n",
        "[Sorce](https://github.com/Tebs-Lab/intro-to-programming/blob/master/exercises/writing-exercises/03-find-duplicates.py)"
      ],
      "metadata": {
        "id": "EiJFolbC3z0p"
      }
    },
    {
      "cell_type": "markdown",
      "source": [
        "######***Solution***"
      ],
      "metadata": {
        "id": "hCQiiNa-3z5x"
      }
    },
    {
      "cell_type": "code",
      "source": [
        "def duplicates(input_list):    \n",
        "    items = [] # items appeared \n",
        "    duplicates_items = [] # items appeared more than once    \n",
        "    for item in input_list:\n",
        "        if item in items:\n",
        "            if item not in duplicates_items: \n",
        "                duplicates_items.append(item)\n",
        "        else:\n",
        "            items.append(item)\n",
        "    return duplicates_items\n",
        "\n",
        "def main():\n",
        "    assert duplicates([1, 2, 3, 1]) == [1]\n",
        "    assert duplicates([3, 3, 3, 3, 3]) == [3]\n",
        "    assert sorted(duplicates([1, 2, 3, 4, 1, 2, 3, 4])) == [1,2,3,4]\n",
        "    assert sorted(duplicates([1, 1, 2, 3, 3, 4])) == [1, 3]\n",
        "    assert sorted(duplicates([])) == []\n",
        "    assert sorted(duplicates([\"hi\", \"Hi\", \"HI\", \"Hi\", \"hi\"])) == [\"Hi\", \"hi\"]\n",
        "\n",
        "    # sorted does not work since comparison of integer and string not supported\n",
        "    assert duplicates([1, \"Hi\", \"HI\", \"Hi\", 1]) == [\"Hi\", 1]\n",
        "\n",
        "    # this last example does not return list that I expect\n",
        "    # expected : duplicates([1, True]) returns []\n",
        "    # implemented : duplicates([1, True]) returns [True] \n",
        "    # any suggestion??? \n",
        "    assert sorted(duplicates([1, True])) == [1]\n",
        "    print(duplicates([1, True]))\n",
        "\n",
        "if __name__ == \"__main__\":\n",
        "    main()"
      ],
      "metadata": {
        "colab": {
          "base_uri": "https://localhost:8080/"
        },
        "id": "IFDjMTRJ30Sl",
        "outputId": "94db6799-d22e-4bea-b4d3-bf7609b0fa2c"
      },
      "execution_count": null,
      "outputs": [
        {
          "output_type": "stream",
          "name": "stdout",
          "text": [
            "[True]\n"
          ]
        }
      ]
    },
    {
      "cell_type": "markdown",
      "source": [
        "#####***052***"
      ],
      "metadata": {
        "id": "GLpInuuBFnMh"
      }
    },
    {
      "cell_type": "markdown",
      "source": [
        "052 리스트에 원소 추가\n",
        "051의 movie_rank 리스트에 \"배트맨\"을 추가하라."
      ],
      "metadata": {
        "id": "1B-yw5RiFnMh"
      }
    },
    {
      "cell_type": "markdown",
      "source": [
        "######***Solution***"
      ],
      "metadata": {
        "id": "fP5fKM4VFnMh"
      }
    },
    {
      "cell_type": "code",
      "source": [
        "def main():\n",
        "    movie_rank = [\"닥터 스트레인지\", \"스플릿\", \"럭키\"]\n",
        "    movie_rank.append(\"배트맨\")\n",
        "    print(movie_rank)\n",
        "\n",
        "if __name__ == \"__main__\":\n",
        "    main()"
      ],
      "metadata": {
        "colab": {
          "base_uri": "https://localhost:8080/"
        },
        "outputId": "c2a0b02a-8f61-4356-d444-6bcd944a6b94",
        "id": "bW--LSkoFnMi"
      },
      "execution_count": null,
      "outputs": [
        {
          "output_type": "stream",
          "name": "stdout",
          "text": [
            "['닥터 스트레인지', '슈퍼맨', '스플릿', '럭키', '배트맨']\n"
          ]
        }
      ]
    },
    {
      "cell_type": "markdown",
      "source": [
        "####***Section List Method - insert***"
      ],
      "metadata": {
        "id": "jLo7YLH_FgWT"
      }
    },
    {
      "cell_type": "markdown",
      "source": [
        "#####***053***"
      ],
      "metadata": {
        "id": "leduKAhgVM9V"
      }
    },
    {
      "cell_type": "markdown",
      "source": [
        "053\n",
        "movie_rank 리스트에는 아래와 같이 네 개의 영화 제목이 바인딩되어 있다. \"슈퍼맨\"을 \"닥터 스트레인지\"와 \"스플릿\" 사이에 추가하라.\n",
        "```\n",
        "movie_rank = ['닥터 스트레인지', '스플릿', '럭키', '배트맨']\n",
        "```"
      ],
      "metadata": {
        "id": "nKhm6lR5Pllj"
      }
    },
    {
      "cell_type": "markdown",
      "source": [
        "######***Solution***"
      ],
      "metadata": {
        "id": "MQyAhK-6Rd7D"
      }
    },
    {
      "cell_type": "code",
      "source": [
        "def main():\n",
        "    movie_rank = ['닥터 스트레인지', '스플릿', '럭키', '배트맨']\n",
        "    movie_rank.insert(1, \"슈퍼맨\")\n",
        "    print(movie_rank)\n",
        "\n",
        "if __name__ == \"__main__\":\n",
        "    main()"
      ],
      "metadata": {
        "colab": {
          "base_uri": "https://localhost:8080/"
        },
        "id": "CfktG5Y7Of87",
        "outputId": "c2a0b02a-8f61-4356-d444-6bcd944a6b94"
      },
      "execution_count": null,
      "outputs": [
        {
          "output_type": "stream",
          "name": "stdout",
          "text": [
            "['닥터 스트레인지', '슈퍼맨', '스플릿', '럭키', '배트맨']\n"
          ]
        }
      ]
    },
    {
      "cell_type": "markdown",
      "source": [
        "#####***Problem 13***"
      ],
      "metadata": {
        "id": "hIMnbx9rNuex"
      }
    },
    {
      "cell_type": "markdown",
      "source": [
        "Problem 13: Write a function lensort to sort a list of strings based on length.\n",
        "```\n",
        ">>> lensort(['python', 'perl', 'java', 'c', 'haskell', 'ruby'])\n",
        "['c', 'perl', 'java', 'ruby', 'python', 'haskell']\n",
        "```"
      ],
      "metadata": {
        "id": "gu06NerDNuey"
      }
    },
    {
      "cell_type": "markdown",
      "source": [
        "######***Solution***"
      ],
      "metadata": {
        "id": "DQYrEM4zNuey"
      }
    },
    {
      "cell_type": "code",
      "source": [
        "def lensort(lst):\n",
        "    if len(lst) <= 1:\n",
        "        return lst\n",
        "    out = [lst[0]]\n",
        "    for item in lst[1:]:\n",
        "        for idx, out_item in enumerate(out):\n",
        "            if len(item)<len(out_item):\n",
        "                out.insert(idx, item)\n",
        "                break\n",
        "            if idx==(len(out)-1):\n",
        "                out.append(item)\n",
        "                break\n",
        "    return out\n",
        "       \n",
        "def main():\n",
        "    print(lensort(['python', 'perl', 'java', 'c', 'haskell', 'ruby']))\n",
        "\n",
        "if __name__ == \"__main__\":\n",
        "    main()"
      ],
      "metadata": {
        "colab": {
          "base_uri": "https://localhost:8080/"
        },
        "outputId": "2163b529-cb3e-4646-fead-23f1db580805",
        "id": "O9fUpvcXNuey"
      },
      "execution_count": null,
      "outputs": [
        {
          "output_type": "stream",
          "name": "stdout",
          "text": [
            "['c', 'perl', 'java', 'ruby', 'python', 'haskell']\n"
          ]
        }
      ]
    },
    {
      "cell_type": "markdown",
      "source": [
        "####***Section List Method - join***"
      ],
      "metadata": {
        "id": "XP0ZmHSpGY43"
      }
    },
    {
      "cell_type": "markdown",
      "source": [
        "#####***066***"
      ],
      "metadata": {
        "id": "KW3uXoo9VT40"
      }
    },
    {
      "cell_type": "markdown",
      "source": [
        "066 join 메서드\n",
        "interest 리스트에는 아래의 데이터가 바인딩되어 있다.\n",
        "```\n",
        "interest = ['삼성전자', 'LG전자', 'Naver', 'SK하이닉스', '미래에셋대우']\n",
        "interest 리스트를 사용하여 아래와 같이 화면에 출력하라.\n",
        "```\n",
        "출력 예시:\n",
        "```\n",
        "삼성전자 LG전자 Naver SK하이닉스 미래에셋대우\n",
        "```"
      ],
      "metadata": {
        "id": "Y1agUj12UEmB"
      }
    },
    {
      "cell_type": "markdown",
      "source": [
        "######***Solution***"
      ],
      "metadata": {
        "id": "7i5SX0AfRy-G"
      }
    },
    {
      "cell_type": "code",
      "source": [
        "def main():\n",
        "    interest = ['삼성전자', 'LG전자', 'Naver', 'SK하이닉스', '미래에셋대우']\n",
        "    print(\" \".join(interest))\n",
        "\n",
        "if __name__ == \"__main__\":\n",
        "    main()"
      ],
      "metadata": {
        "id": "XtGJZ9DGUKn4"
      },
      "execution_count": null,
      "outputs": []
    },
    {
      "cell_type": "markdown",
      "source": [
        "#####***067***"
      ],
      "metadata": {
        "id": "ntejxGqGVV-0"
      }
    },
    {
      "cell_type": "markdown",
      "source": [
        "067 join 메서드\n",
        "interest 리스트에는 아래의 데이터가 바인딩되어 있다.\n",
        "```\n",
        "interest = ['삼성전자', 'LG전자', 'Naver', 'SK하이닉스', '미래에셋대우']\n",
        "interest 리스트를 사용하여 아래와 같이 화면에 출력하라.\n",
        "```\n",
        "출력 예시:\n",
        "```\n",
        "삼성전자/LG전자/Naver/SK하이닉스/미래에셋대우\n",
        "```"
      ],
      "metadata": {
        "id": "9hQ15bddUc8E"
      }
    },
    {
      "cell_type": "markdown",
      "source": [
        "######***Solution***"
      ],
      "metadata": {
        "id": "ex8xACaQRzA6"
      }
    },
    {
      "cell_type": "code",
      "source": [
        "def main():\n",
        "    interest = ['삼성전자', 'LG전자', 'Naver', 'SK하이닉스', '미래에셋대우']\n",
        "    print(\"/\".join(interest))\n",
        "\n",
        "if __name__ == \"__main__\":\n",
        "    main()"
      ],
      "metadata": {
        "id": "oS7c-BOsUjF8"
      },
      "execution_count": null,
      "outputs": []
    },
    {
      "cell_type": "markdown",
      "source": [
        "#####***068***"
      ],
      "metadata": {
        "id": "-9RQf5pRVYTb"
      }
    },
    {
      "cell_type": "markdown",
      "source": [
        "068 join 메서드\n",
        "interest 리스트에는 아래의 데이터가 바인딩되어 있다.\n",
        "```\n",
        "interest = ['삼성전자', 'LG전자', 'Naver', 'SK하이닉스', '미래에셋대우']\n",
        "join() 메서드를 사용해서 interest 리스트를 아래와 같이 화면에 출력하라.\n",
        "```\n",
        "출력 예시:\n",
        "```\n",
        "삼성전자\n",
        "LG전자\n",
        "Naver\n",
        "SK하이닉스\n",
        "미래에셋대우\n",
        "```"
      ],
      "metadata": {
        "id": "kPcrVDw0Um1K"
      }
    },
    {
      "cell_type": "markdown",
      "source": [
        "######***Solution***"
      ],
      "metadata": {
        "id": "0CSvJwvsRzDj"
      }
    },
    {
      "cell_type": "code",
      "source": [
        "def main():\n",
        "    interest = ['삼성전자', 'LG전자', 'Naver', 'SK하이닉스', '미래에셋대우']\n",
        "    print(\"\\n\".join(interest))\n",
        "\n",
        "if __name__ == \"__main__\":\n",
        "    main()"
      ],
      "metadata": {
        "id": "6I854qwQUsM5"
      },
      "execution_count": null,
      "outputs": []
    },
    {
      "cell_type": "markdown",
      "source": [
        "####***Section List Method - split***"
      ],
      "metadata": {
        "id": "-AIODaiJGkQA"
      }
    },
    {
      "cell_type": "markdown",
      "source": [
        "#####***069***"
      ],
      "metadata": {
        "id": "CiF62MhdVbJD"
      }
    },
    {
      "cell_type": "markdown",
      "source": [
        "069 문자열 split 메서드\n",
        "회사 이름이 슬래시 ('/')로 구분되어 하나의 문자열로 저장되어 있다.\n",
        "```\n",
        "string = \"삼성전자/LG전자/Naver\"\n",
        "```\n",
        "이를 interest 이름의 리스트로 분리 저장하라.\n",
        "\n",
        "실행 예시\n",
        "```\n",
        "['삼성전자', 'LG전자', 'Naver']\n",
        "```"
      ],
      "metadata": {
        "id": "bDw-L4eSU0VP"
      }
    },
    {
      "cell_type": "markdown",
      "source": [
        "######***Solution***"
      ],
      "metadata": {
        "id": "JIC9UsHQRzHx"
      }
    },
    {
      "cell_type": "code",
      "source": [
        "def main():\n",
        "    string = \"삼성전자/LG전자/Naver\"\n",
        "    interest = string.split(\"/\")\n",
        "    print(interest)\n",
        "\n",
        "if __name__ == \"__main__\":\n",
        "    main()"
      ],
      "metadata": {
        "colab": {
          "base_uri": "https://localhost:8080/"
        },
        "id": "ySR43NaHU8Ne",
        "outputId": "a8e63088-d28e-49e8-9011-9f53a6d6659f"
      },
      "execution_count": null,
      "outputs": [
        {
          "output_type": "stream",
          "name": "stdout",
          "text": [
            "['삼성전자', 'LG전자', 'Naver']\n"
          ]
        }
      ]
    },
    {
      "cell_type": "markdown",
      "source": [
        "####***Section List Method - sort***"
      ],
      "metadata": {
        "id": "Htfhz8yEGo9T"
      }
    },
    {
      "cell_type": "markdown",
      "source": [
        "#####***070***"
      ],
      "metadata": {
        "id": "tSG60Q2BVdsa"
      }
    },
    {
      "cell_type": "markdown",
      "source": [
        "070 리스트 정렬\n",
        "리스트에 있는 값을 오름차순으로 정렬하세요.\n",
        "```\n",
        "data = [2, 4, 3, 1, 5, 10, 9]\n",
        "```"
      ],
      "metadata": {
        "id": "UBrh78DKVCnV"
      }
    },
    {
      "cell_type": "markdown",
      "source": [
        "######***Solution***"
      ],
      "metadata": {
        "id": "MY7IV6GTRzLG"
      }
    },
    {
      "cell_type": "code",
      "source": [
        "def main():\n",
        "    data = [2, 4, 3, 1, 5, 10, 9]\n",
        "    data.sort()\n",
        "    print(data)\n",
        "\n",
        "if __name__ == \"__main__\":\n",
        "    main()"
      ],
      "metadata": {
        "colab": {
          "base_uri": "https://localhost:8080/"
        },
        "id": "r7WU0g-vVIR0",
        "outputId": "1c81a939-e842-46b9-e86d-ff0076043c5f"
      },
      "execution_count": null,
      "outputs": [
        {
          "output_type": "stream",
          "name": "stdout",
          "text": [
            "[1, 2, 3, 4, 5, 9, 10]\n"
          ]
        }
      ]
    },
    {
      "cell_type": "markdown",
      "source": [
        "####***Section List Method - pop***"
      ],
      "metadata": {
        "id": "KO3Bi0XaLx5C"
      }
    },
    {
      "cell_type": "markdown",
      "source": [
        "#####***Problem 6***"
      ],
      "metadata": {
        "id": "SBdlFiA0L8nY"
      }
    },
    {
      "cell_type": "markdown",
      "source": [
        "Problem 6: Write a function reverse to reverse a list. Can you do this without using list slicing?\n",
        "```\n",
        ">>> reverse([1, 2, 3, 4])\n",
        "[4, 3, 2, 1]\n",
        ">>> reverse(reverse([1, 2, 3, 4]))\n",
        "[1, 2, 3, 4]\n",
        "```"
      ],
      "metadata": {
        "id": "-xt4wkMHL8nY"
      }
    },
    {
      "cell_type": "markdown",
      "source": [
        "######***Solution***"
      ],
      "metadata": {
        "id": "NbQUh7l5L8nY"
      }
    },
    {
      "cell_type": "code",
      "source": [
        "def main():\n",
        "    def reverse(lst):\n",
        "        tmp = []\n",
        "        while lst:\n",
        "            i = lst.pop()\n",
        "            tmp.append(i)\n",
        "        return tmp\n",
        "\n",
        "    print(reverse([1, 2, 3, 4]))\n",
        "    print(reverse(reverse([1, 2, 3, 4])))\n",
        "\n",
        "if __name__ == \"__main__\":\n",
        "    main()"
      ],
      "metadata": {
        "colab": {
          "base_uri": "https://localhost:8080/"
        },
        "outputId": "13e16140-acad-403f-c65c-59a54041e523",
        "id": "yMwCvn9WL8nY"
      },
      "execution_count": null,
      "outputs": [
        {
          "output_type": "stream",
          "name": "stdout",
          "text": [
            "[4, 3, 2, 1]\n",
            "[1, 2, 3, 4]\n"
          ]
        }
      ]
    },
    {
      "cell_type": "markdown",
      "source": [
        "#####***Exercise***"
      ],
      "metadata": {
        "id": "hMvSnDTUfEou"
      }
    },
    {
      "cell_type": "markdown",
      "source": [
        "Remove items of the list a which are also members of another list b. Below is a code with bugs. Fix the bugs. Use the list copy.\n",
        "```\n",
        "a = [1,2,3,4]\n",
        "b = [1,2,5,6]\n",
        "\n",
        "for item in a:\n",
        "    if item in b:\n",
        "        a.remove(item)\n",
        "\n",
        "print(a) # we expect [3,4] but we have [2, 3, 4]\n",
        "```"
      ],
      "metadata": {
        "id": "-2eAsSs4fEov"
      }
    },
    {
      "cell_type": "markdown",
      "source": [
        "######***Solution***"
      ],
      "metadata": {
        "id": "JcrDEYXyfEov"
      }
    },
    {
      "cell_type": "code",
      "source": [
        "def main():\n",
        "    a = [1,2,3,4]\n",
        "    b = [1,2,5,6]\n",
        "\n",
        "    for item in a.copy(): # use copy of a\n",
        "        if item in b:\n",
        "            a.remove(item)\n",
        "\n",
        "    print(a) \n",
        "\n",
        "if __name__ == \"__main__\":\n",
        "    main()"
      ],
      "metadata": {
        "colab": {
          "base_uri": "https://localhost:8080/"
        },
        "outputId": "13e16140-acad-403f-c65c-59a54041e523",
        "id": "j9pDH44NfEov"
      },
      "execution_count": null,
      "outputs": [
        {
          "output_type": "stream",
          "name": "stdout",
          "text": [
            "[4, 3, 2, 1]\n",
            "[1, 2, 3, 4]\n"
          ]
        }
      ]
    },
    {
      "cell_type": "markdown",
      "source": [
        "####***Section List Comprehension***"
      ],
      "metadata": {
        "id": "RUbEQVzk72gB"
      }
    },
    {
      "cell_type": "markdown",
      "source": [
        "#####***056***"
      ],
      "metadata": {
        "id": "UFHNfdxDG7qH"
      }
    },
    {
      "cell_type": "markdown",
      "source": [
        "056\n",
        "lang1과 lang2 리스트가 있을 때 lang1과 lang2의 원소를 모두 갖고 있는 langs 리스트를 만들어라.\n",
        "\n",
        "```\n",
        "lang1 = [\"C\", \"C++\", \"JAVA\"]\n",
        "lang2 = [\"Python\", \"Go\", \"C#\"]\n",
        "```\n",
        "\n",
        "실행 예:\n",
        "\n",
        "```\n",
        "['C', 'C++', 'JAVA', 'Python', 'Go', 'C#']\n",
        "```"
      ],
      "metadata": {
        "id": "Uka-5WnTG7qH"
      }
    },
    {
      "cell_type": "markdown",
      "source": [
        "######***Solution***"
      ],
      "metadata": {
        "id": "isfRnPmVG7qH"
      }
    },
    {
      "cell_type": "code",
      "source": [
        "def main():\n",
        "    lang1 = [\"C\", \"C++\", \"JAVA\"]\n",
        "    lang2 = [\"Python\", \"Go\", \"C#\"]\n",
        "    langs = lang1 + lang2\n",
        "    print(langs)\n",
        "\n",
        "if __name__ == \"__main__\":\n",
        "    main()"
      ],
      "metadata": {
        "colab": {
          "base_uri": "https://localhost:8080/"
        },
        "outputId": "9cade192-d064-4191-dd59-5abbda2026e4",
        "id": "Xj_p0oqkG7qI"
      },
      "execution_count": null,
      "outputs": [
        {
          "output_type": "stream",
          "name": "stdout",
          "text": [
            "['C', 'C++', 'JAVA', 'Python', 'Go', 'C#']\n"
          ]
        }
      ]
    },
    {
      "cell_type": "markdown",
      "source": [
        "#####***Problem 24***"
      ],
      "metadata": {
        "id": "poSvDv4P789P"
      }
    },
    {
      "cell_type": "markdown",
      "source": [
        "Problem 24: Provide an implementation for zip function using list comprehensions.\n",
        "```\n",
        ">>> zip([1, 2, 3], [\"a\", \"b\", \"c\"])\n",
        "[(1, \"a\"), (2, \"b\"), (3, \"c\")]\n",
        "```"
      ],
      "metadata": {
        "id": "76b2Ph1W789P"
      }
    },
    {
      "cell_type": "markdown",
      "source": [
        "######***Solution***"
      ],
      "metadata": {
        "id": "ACIqsp0P789Q"
      }
    },
    {
      "cell_type": "code",
      "source": [
        "def main():\n",
        "    def zip(*iterables):\n",
        "        # get the length of the shortest iterable\n",
        "        shortest = min(len(i) for i in iterables)\n",
        "        \n",
        "        # use list comprehension to build the tuples\n",
        "        return [tuple(i[j] for i in iterables) for j in range(shortest)]\n",
        "\n",
        "    print(zip([1, 2, 3], [\"a\", \"b\", \"c\"]))\n",
        "\n",
        "if __name__ == \"__main__\":\n",
        "    main()"
      ],
      "metadata": {
        "colab": {
          "base_uri": "https://localhost:8080/"
        },
        "outputId": "77eebb87-0f16-4289-cd21-3d04d83afbb2",
        "id": "r_EEfGVP789Q"
      },
      "execution_count": null,
      "outputs": [
        {
          "output_type": "stream",
          "name": "stdout",
          "text": [
            "[(1, 'a'), (2, 'b'), (3, 'c')]\n"
          ]
        }
      ]
    },
    {
      "cell_type": "markdown",
      "source": [
        "#####***Problem 25***"
      ],
      "metadata": {
        "id": "ztTFQ8kF91dW"
      }
    },
    {
      "cell_type": "markdown",
      "source": [
        "Problem 25: Python provides a built-in function map that applies a function to each element of a list. Provide an implementation for map using list comprehensions.\n",
        "```\n",
        "def square(x): return x * x\n",
        "map(square, range(5))\n",
        "[0, 1, 4, 9, 16]\n",
        "```"
      ],
      "metadata": {
        "id": "e-g9iUho91dX"
      }
    },
    {
      "cell_type": "markdown",
      "source": [
        "######***Solution***"
      ],
      "metadata": {
        "id": "iKGuCvT691dX"
      }
    },
    {
      "cell_type": "code",
      "source": [
        "def square(x): return x * x\n",
        "\n",
        "def main():\n",
        "    def map(func, iterable):\n",
        "        return [func(i) for i in iterable]\n",
        "\n",
        "    print(map(square, range(5)))\n",
        "\n",
        "if __name__ == \"__main__\":\n",
        "    main()"
      ],
      "metadata": {
        "colab": {
          "base_uri": "https://localhost:8080/"
        },
        "outputId": "fc464338-bee7-4cdd-9524-5ee927de3340",
        "id": "qI6fk0n_91dX"
      },
      "execution_count": null,
      "outputs": [
        {
          "output_type": "stream",
          "name": "stdout",
          "text": [
            "[0, 1, 4, 9, 16]\n"
          ]
        }
      ]
    },
    {
      "cell_type": "markdown",
      "source": [
        "#####***Problem 26***"
      ],
      "metadata": {
        "id": "frC60UFy91ie"
      }
    },
    {
      "cell_type": "markdown",
      "source": [
        "Problem 26: Python provides a built-in function filter(f, a) that returns items of the list a for which f(item) returns true. Provide an implementation for filter using list comprehensions.\n",
        "```\n",
        "def even(x): return x %2 == 0\n",
        "filter(even, range(10))\n",
        "[0, 2, 4, 6, 8]\n",
        "```"
      ],
      "metadata": {
        "id": "pbV6hqzk91ie"
      }
    },
    {
      "cell_type": "markdown",
      "source": [
        "######***Solution***"
      ],
      "metadata": {
        "id": "A0q3BmmC91ie"
      }
    },
    {
      "cell_type": "code",
      "source": [
        "def even(x): return x %2 == 0\n",
        "\n",
        "def main():\n",
        "    def filter(func, iterable):\n",
        "        return [i for i in iterable if func(i)]\n",
        "\n",
        "    print(filter(even, range(10)))\n",
        "\n",
        "if __name__ == \"__main__\":\n",
        "    main()"
      ],
      "metadata": {
        "colab": {
          "base_uri": "https://localhost:8080/"
        },
        "outputId": "45c15e49-e3d1-4469-a4a1-792aeba1e27a",
        "id": "m30bYyHu91if"
      },
      "execution_count": null,
      "outputs": [
        {
          "output_type": "stream",
          "name": "stdout",
          "text": [
            "[0, 2, 4, 6, 8]\n"
          ]
        }
      ]
    },
    {
      "cell_type": "markdown",
      "source": [
        "#####***Problem 27***"
      ],
      "metadata": {
        "id": "RZECWf3d91mv"
      }
    },
    {
      "cell_type": "markdown",
      "source": [
        "Problem 27: Write a function triplets that takes a number n as argument and returns a list of triplets such that sum of first two elements of the triplet equals the third element using numbers below n. Please note that (a, b, c) and (b, a, c) represent same triplet.\n",
        "```\n",
        "triplets(5)\n",
        "[(1, 1, 2), (1, 2, 3), (1, 3, 4), (2, 2, 4)]\n",
        "```"
      ],
      "metadata": {
        "id": "RAIsW4Lo91mw"
      }
    },
    {
      "cell_type": "markdown",
      "source": [
        "######***Solution***"
      ],
      "metadata": {
        "id": "Zq29_slY91mw"
      }
    },
    {
      "cell_type": "code",
      "source": [
        "def triplets(n):\n",
        "    return [(i, j, i+j) for i in range(1, n) for j in range(i, n) if i+j<n]  \n",
        "    \n",
        "def main():\n",
        "    print(triplets(5))\n",
        "\n",
        "if __name__ == \"__main__\":\n",
        "    main()"
      ],
      "metadata": {
        "colab": {
          "base_uri": "https://localhost:8080/"
        },
        "outputId": "fd340faf-b088-43b9-e542-1bed568a0821",
        "id": "5Orm_eo791mw"
      },
      "execution_count": null,
      "outputs": [
        {
          "output_type": "stream",
          "name": "stdout",
          "text": [
            "[(1, 1, 2), (1, 2, 3), (1, 3, 4), (2, 2, 4)]\n"
          ]
        }
      ]
    },
    {
      "cell_type": "markdown",
      "source": [
        "#####***Problem 28***"
      ],
      "metadata": {
        "id": "CBygHd3R91sK"
      }
    },
    {
      "cell_type": "markdown",
      "source": [
        "Problem 28: Write a function enumerate that takes a list and returns a list of tuples containing (index,item) for each item in the list.\n",
        "```\n",
        ">>> enumerate([\"a\", \"b\", \"c\"])\n",
        "[(0, \"a\"), (1, \"b\"), (2, \"c\")]\n",
        ">>> for index, value in enumerate([\"a\", \"b\", \"c\"]):\n",
        "...     print(index, value)\n",
        "0 a\n",
        "1 b\n",
        "2 c\n",
        "```"
      ],
      "metadata": {
        "id": "PkK91deq91sL"
      }
    },
    {
      "cell_type": "markdown",
      "source": [
        "######***Solution***"
      ],
      "metadata": {
        "id": "8N_6Qvcv91sL"
      }
    },
    {
      "cell_type": "code",
      "source": [
        "def main():\n",
        "    def enumerate(iterable):\n",
        "        return [(i, iterable[i]) for i in range(len(iterable))]\n",
        "\n",
        "    print(enumerate([\"a\", \"b\", \"c\"]))\n",
        "    for index, value in enumerate([\"a\", \"b\", \"c\"]):\n",
        "        print(index, value)\n",
        "\n",
        "if __name__ == \"__main__\":\n",
        "    main()"
      ],
      "metadata": {
        "colab": {
          "base_uri": "https://localhost:8080/"
        },
        "outputId": "76cdf07c-7fdc-4ab0-ae6f-7deecfda0c18",
        "id": "asRGOIxi91sL"
      },
      "execution_count": null,
      "outputs": [
        {
          "output_type": "stream",
          "name": "stdout",
          "text": [
            "[(0, 'a'), (1, 'b'), (2, 'c')]\n",
            "0 a\n",
            "1 b\n",
            "2 c\n"
          ]
        }
      ]
    },
    {
      "cell_type": "markdown",
      "source": [
        "#####***Problem 29***"
      ],
      "metadata": {
        "id": "8iUyeFkT91xS"
      }
    },
    {
      "cell_type": "markdown",
      "source": [
        "Problem 29: Write a function array to create an 2-dimensional array. The function should take both dimensions as arguments. Value of each element can be initialized to None:\n",
        "```\n",
        ">>> a = array(2, 3)\n",
        ">>> a\n",
        "[[None, None, None], [None, None, None]]\n",
        ">>> a[0][0] = 5\n",
        "[[5, None, None], [None, None, None]]\n",
        "```"
      ],
      "metadata": {
        "id": "gkV9q5hQ91xT"
      }
    },
    {
      "cell_type": "markdown",
      "source": [
        "######***Solution***"
      ],
      "metadata": {
        "id": "viGly48c91xT"
      }
    },
    {
      "cell_type": "code",
      "source": [
        "def array(n, m):\n",
        "    return [[None for j in range(m)] for i in range(n)]\n",
        "       \n",
        "def main():\n",
        "    a = array(2, 3)\n",
        "    print(a)\n",
        "\n",
        "    a[0][0] = 5\n",
        "    print(a)\n",
        "\n",
        "if __name__ == \"__main__\":\n",
        "    main()"
      ],
      "metadata": {
        "colab": {
          "base_uri": "https://localhost:8080/"
        },
        "outputId": "369cf7b0-dc82-42ed-ae77-eadad090d4d9",
        "id": "7IKTDqLo91xT"
      },
      "execution_count": null,
      "outputs": [
        {
          "output_type": "stream",
          "name": "stdout",
          "text": [
            "[[None, None, None], [None, None, None]]\n",
            "[[5, None, None], [None, None, None]]\n"
          ]
        }
      ]
    },
    {
      "cell_type": "markdown",
      "source": [
        "#####***Problem 30***"
      ],
      "metadata": {
        "id": "wooFeoOp912M"
      }
    },
    {
      "cell_type": "markdown",
      "source": [
        "Problem 30: Write a python function parse_csv to parse csv (comma separated values) files.\n",
        "```\n",
        ">>> print(open('a.csv').read())\n",
        "a,b,c\n",
        "1,2,3\n",
        "2,3,4\n",
        "3,4,5\n",
        ">>> parse_csv('a.csv')\n",
        "[['a', 'b', 'c'], ['1', '2', '3'], ['2', '3', '4'], ['3', '4', '5']]\n",
        "```"
      ],
      "metadata": {
        "id": "Pad2nNnh912M"
      }
    },
    {
      "cell_type": "markdown",
      "source": [
        "######***Solution***"
      ],
      "metadata": {
        "id": "fIeUpywO912M"
      }
    },
    {
      "cell_type": "code",
      "source": [
        "%%writefile a.csv\n",
        "a,b,c\n",
        "1,2,3\n",
        "2,3,4\n",
        "3,4,5"
      ],
      "metadata": {
        "colab": {
          "base_uri": "https://localhost:8080/"
        },
        "id": "ZqoBwI1-CABQ",
        "outputId": "7b6c3469-bdd2-4e4b-e288-176b17761b7f"
      },
      "execution_count": null,
      "outputs": [
        {
          "output_type": "stream",
          "name": "stdout",
          "text": [
            "Writing a.csv\n"
          ]
        }
      ]
    },
    {
      "cell_type": "code",
      "source": [
        "def parse_csv(path):\n",
        "    with open(path) as f:\n",
        "        out = [line[:-1].split(\",\") for line in f.readlines()]\n",
        "    return out\n",
        "    \n",
        "def main():\n",
        "    print(parse_csv('a.csv'))\n",
        "\n",
        "if __name__ == \"__main__\":\n",
        "    main()"
      ],
      "metadata": {
        "colab": {
          "base_uri": "https://localhost:8080/"
        },
        "outputId": "ee83ee48-969c-4c12-cfdd-745709163c30",
        "id": "SqCXnnOa912N"
      },
      "execution_count": null,
      "outputs": [
        {
          "output_type": "stream",
          "name": "stdout",
          "text": [
            "[['a', 'b', 'c'], ['1', '2', '3'], ['2', '3', '4'], ['3', '4', '5']]\n"
          ]
        }
      ]
    },
    {
      "cell_type": "markdown",
      "source": [
        "#####***Problem 31***"
      ],
      "metadata": {
        "id": "nc5W_c-892Ev"
      }
    },
    {
      "cell_type": "markdown",
      "source": [
        "Problem 31: Generalize the above implementation of csv parser to support any delimiter and comments.\n",
        "```\n",
        ">>> print(open('a.txt').read())\n",
        "# elements are separated by ! and comment indicator is #\n",
        "a!b!c\n",
        "1!2!3\n",
        "2!3!4\n",
        "3!4!5\n",
        ">>> parse('a.txt', '!', '#')\n",
        "[['a', 'b', 'c'], ['1', '2', '3'], ['2', '3', '4'], ['3', '4', '5']]\n",
        "```"
      ],
      "metadata": {
        "id": "eFiYa5j392Ev"
      }
    },
    {
      "cell_type": "markdown",
      "source": [
        "######***Solution***"
      ],
      "metadata": {
        "id": "ENryO5Jk92Ew"
      }
    },
    {
      "cell_type": "code",
      "source": [
        "%%writefile a.txt\n",
        "# elements are separated by ! and comment indicator is #\n",
        "a!b!c\n",
        "1!2!3\n",
        "2!3!4\n",
        "3!4!5"
      ],
      "metadata": {
        "colab": {
          "base_uri": "https://localhost:8080/"
        },
        "id": "hNSR5GbuDU5L",
        "outputId": "f789d3df-45fc-4362-8381-a5c4b09174b5"
      },
      "execution_count": null,
      "outputs": [
        {
          "output_type": "stream",
          "name": "stdout",
          "text": [
            "Writing a.txt\n"
          ]
        }
      ]
    },
    {
      "cell_type": "code",
      "source": [
        "def parse(path, sep=',', com=\"#\"):\n",
        "    with open(path) as f:\n",
        "        out = [line[:-1].split(sep) for line in f.readlines() if line[0] != com]\n",
        "    return out\n",
        "    \n",
        "def main():\n",
        "    print(parse('a.txt', '!', '#'))\n",
        "\n",
        "if __name__ == \"__main__\":\n",
        "    main()"
      ],
      "metadata": {
        "colab": {
          "base_uri": "https://localhost:8080/"
        },
        "outputId": "63f7a562-77f7-404d-b3e6-b18f301d50e9",
        "id": "RU2yl3fh92Ew"
      },
      "execution_count": null,
      "outputs": [
        {
          "output_type": "stream",
          "name": "stdout",
          "text": [
            "[['a', 'b', 'c'], ['1', '2', '3'], ['2', '3', '4'], ['3', '4', '5']]\n"
          ]
        }
      ]
    },
    {
      "cell_type": "markdown",
      "source": [
        "#####***Problem 32***"
      ],
      "metadata": {
        "id": "_w_Ll3oS92JW"
      }
    },
    {
      "cell_type": "markdown",
      "source": [
        "Problem 32: Write a function mutate to compute all words generated by a single mutation on a given word. A mutation is defined as inserting a character, deleting a character, replacing a character, or swapping 2 consecutive characters in a string. For simplicity consider only letters from a to z.\n",
        "```\n",
        ">>> words = mutate('hello')\n",
        ">>> 'helo' in words\n",
        "True\n",
        ">>> 'cello' in words\n",
        "True\n",
        ">>> 'helol' in words\n",
        "True\n",
        "```"
      ],
      "metadata": {
        "id": "ry59lr_392JX"
      }
    },
    {
      "cell_type": "markdown",
      "source": [
        "######***Solution***"
      ],
      "metadata": {
        "id": "OVHfmf6392JX"
      }
    },
    {
      "cell_type": "code",
      "source": [
        "def mutate(word):\n",
        "    mutations = set()  # use a set to avoid duplicates\n",
        "    \n",
        "    # Insertion\n",
        "    for i in range(len(word)+1):\n",
        "        for c in 'abcdefghijklmnopqrstuvwxyz':\n",
        "            new_word = word[:i] + c + word[i:]\n",
        "            mutations.add(new_word)\n",
        "    \n",
        "    # Deletion\n",
        "    for i in range(len(word)):\n",
        "        new_word = word[:i] + word[i+1:]\n",
        "        mutations.add(new_word)\n",
        "    \n",
        "    # Replacement\n",
        "    for i in range(len(word)):\n",
        "        for c in 'abcdefghijklmnopqrstuvwxyz':\n",
        "            if c != word[i]:\n",
        "                new_word = word[:i] + c + word[i+1:]\n",
        "                mutations.add(new_word)\n",
        "    \n",
        "    # Swap\n",
        "    for i in range(len(word)-1):\n",
        "        new_word = word[:i] + word[i+1] + word[i] + word[i+2:]\n",
        "        mutations.add(new_word)\n",
        "    \n",
        "    return mutations\n",
        "    \n",
        "def main():\n",
        "    words = mutate('hello')\n",
        "    print('helo' in words)\n",
        "    print('cello' in words)\n",
        "    print('helol' in words)\n",
        "\n",
        "if __name__ == \"__main__\":\n",
        "    main()"
      ],
      "metadata": {
        "colab": {
          "base_uri": "https://localhost:8080/"
        },
        "outputId": "1340e48b-6705-4bf9-8292-c328247e4540",
        "id": "_MOBuMWK92JX"
      },
      "execution_count": null,
      "outputs": [
        {
          "output_type": "stream",
          "name": "stdout",
          "text": [
            "True\n",
            "True\n",
            "True\n"
          ]
        }
      ]
    },
    {
      "cell_type": "markdown",
      "source": [
        "#####***Problem 33***"
      ],
      "metadata": {
        "id": "C1sZQdNz92N7"
      }
    },
    {
      "cell_type": "markdown",
      "source": [
        "Problem 33: Write a function nearly_equal to test whether two strings are nearly equal. Two strings a and b are nearly equal when a can be generated by a single mutation on b.\n",
        "```\n",
        "nearly_equal('python', 'perl')\n",
        "False\n",
        "nearly_equal('perl', 'pearl')\n",
        "True\n",
        "nearly_equal('python', 'jython')\n",
        "True\n",
        "nearly_equal('man', 'woman')\n",
        "False\n",
        "```"
      ],
      "metadata": {
        "id": "XN4ALBxQ92N7"
      }
    },
    {
      "cell_type": "markdown",
      "source": [
        "######***Solution***"
      ],
      "metadata": {
        "id": "53F_HeiE92N7"
      }
    },
    {
      "cell_type": "code",
      "source": [
        "def mutate(word):\n",
        "    mutations = set()  # use a set to avoid duplicates\n",
        "    \n",
        "    # Insertion\n",
        "    for i in range(len(word)+1):\n",
        "        for c in 'abcdefghijklmnopqrstuvwxyz':\n",
        "            new_word = word[:i] + c + word[i:]\n",
        "            mutations.add(new_word)\n",
        "    \n",
        "    # Deletion\n",
        "    for i in range(len(word)):\n",
        "        new_word = word[:i] + word[i+1:]\n",
        "        mutations.add(new_word)\n",
        "    \n",
        "    # Replacement\n",
        "    for i in range(len(word)):\n",
        "        for c in 'abcdefghijklmnopqrstuvwxyz':\n",
        "            if c != word[i]:\n",
        "                new_word = word[:i] + c + word[i+1:]\n",
        "                mutations.add(new_word)\n",
        "    \n",
        "    # Swap\n",
        "    for i in range(len(word)-1):\n",
        "        new_word = word[:i] + word[i+1] + word[i] + word[i+2:]\n",
        "        mutations.add(new_word)\n",
        "    \n",
        "    return mutations\n",
        "\n",
        "def nearly_equal(word1, word2):\n",
        "    if word1 in mutate(word2):\n",
        "        return True \n",
        "    if word2 in mutate(word1):\n",
        "        return True \n",
        "    return False\n",
        "   \n",
        "def main():\n",
        "    print(nearly_equal('python', 'perl'))\n",
        "    print(nearly_equal('perl', 'pearl'))\n",
        "    print(nearly_equal('python', 'jython'))\n",
        "    print(nearly_equal('man', 'woman'))\n",
        "\n",
        "if __name__ == \"__main__\":\n",
        "    main()"
      ],
      "metadata": {
        "colab": {
          "base_uri": "https://localhost:8080/"
        },
        "outputId": "4890ef29-7aae-46b4-d113-83014dac4700",
        "id": "ja8b5Zjx92N7"
      },
      "execution_count": null,
      "outputs": [
        {
          "output_type": "stream",
          "name": "stdout",
          "text": [
            "False\n",
            "True\n",
            "True\n",
            "False\n"
          ]
        }
      ]
    },
    {
      "cell_type": "markdown",
      "source": [
        "#####***Exercise***"
      ],
      "metadata": {
        "id": "4NAjOVWmgDmu"
      }
    },
    {
      "cell_type": "markdown",
      "source": [
        "Remove items of the list a which are also members of another list b. Below is a code with bugs. Fix the bugs. Use the list comprehension.\n",
        "```\n",
        "a = [1,2,3,4]\n",
        "b = [1,2,5,6]\n",
        "\n",
        "for item in a:\n",
        "    if item in b:\n",
        "        a.remove(item)\n",
        "\n",
        "print(a) # we expect [3,4] but we have [2, 3, 4]\n",
        "```"
      ],
      "metadata": {
        "id": "ZOWDpRzSgDmv"
      }
    },
    {
      "cell_type": "markdown",
      "source": [
        "######***Solution***"
      ],
      "metadata": {
        "id": "AR7cjcPygDmv"
      }
    },
    {
      "cell_type": "code",
      "source": [
        "def main():\n",
        "    a = [1,2,3,4]\n",
        "    b = [1,2,5,6]\n",
        "    a = [i for i in a if i not in b]\n",
        "    print(a) \n",
        "\n",
        "if __name__ == \"__main__\":\n",
        "    main()"
      ],
      "metadata": {
        "colab": {
          "base_uri": "https://localhost:8080/"
        },
        "outputId": "13e16140-acad-403f-c65c-59a54041e523",
        "id": "9DokCDjagDmv"
      },
      "execution_count": null,
      "outputs": [
        {
          "output_type": "stream",
          "name": "stdout",
          "text": [
            "[4, 3, 2, 1]\n",
            "[1, 2, 3, 4]\n"
          ]
        }
      ]
    },
    {
      "cell_type": "markdown",
      "source": [
        "####***Section List View vs Copy***"
      ],
      "metadata": {
        "id": "OS9D8Nneguxr"
      }
    },
    {
      "cell_type": "markdown",
      "source": [
        "#####***Exercise***"
      ],
      "metadata": {
        "id": "406Hzg1og0aZ"
      }
    },
    {
      "cell_type": "markdown",
      "source": [
        "Remove items of the list a which are also members of another list b. Below is a code with bugs. Fix the bugs. Use the list copy.\n",
        "```\n",
        "a = [1,2,3,4]\n",
        "b = [1,2,5,6]\n",
        "\n",
        "for item in a:\n",
        "    if item in b:\n",
        "        a.remove(item)\n",
        "\n",
        "print(a) # we expect [3,4] but we have [2, 3, 4]\n",
        "```"
      ],
      "metadata": {
        "id": "rtopEx0Yg0aa"
      }
    },
    {
      "cell_type": "markdown",
      "source": [
        "######***Solution***"
      ],
      "metadata": {
        "id": "3YjBh1rWg0aa"
      }
    },
    {
      "cell_type": "code",
      "source": [
        "def main():\n",
        "    a = [1,2,3,4]\n",
        "    b = [1,2,5,6]\n",
        "\n",
        "    for item in a.copy(): # use copy of a\n",
        "        if item in b:\n",
        "            a.remove(item)\n",
        "\n",
        "    print(a) \n",
        "\n",
        "if __name__ == \"__main__\":\n",
        "    main()"
      ],
      "metadata": {
        "colab": {
          "base_uri": "https://localhost:8080/"
        },
        "outputId": "13e16140-acad-403f-c65c-59a54041e523",
        "id": "ZE3Jnnrqg0aa"
      },
      "execution_count": null,
      "outputs": [
        {
          "output_type": "stream",
          "name": "stdout",
          "text": [
            "[4, 3, 2, 1]\n",
            "[1, 2, 3, 4]\n"
          ]
        }
      ]
    },
    {
      "cell_type": "markdown",
      "source": [
        "###***Chapter 15 Tuple***"
      ],
      "metadata": {
        "id": "Tyx6SLaockNQ"
      }
    },
    {
      "cell_type": "markdown",
      "source": [
        "#####***071***"
      ],
      "metadata": {
        "id": "c2sHIKzEckQM"
      }
    },
    {
      "cell_type": "markdown",
      "source": [
        "071\n",
        "my_variable 이름의 비어있는 튜플을 만들라."
      ],
      "metadata": {
        "id": "mAe5U_JYcvzb"
      }
    },
    {
      "cell_type": "markdown",
      "source": [
        "######***Solution***"
      ],
      "metadata": {
        "id": "NEz4nNiURzNZ"
      }
    },
    {
      "cell_type": "code",
      "source": [
        "def main():\n",
        "    my_variable = ()\n",
        "    print(my_variable, type(my_variable))\n",
        "\n",
        "if __name__ == \"__main__\":\n",
        "    main()"
      ],
      "metadata": {
        "id": "opI2R46ic0yq"
      },
      "execution_count": null,
      "outputs": []
    },
    {
      "cell_type": "markdown",
      "source": [
        "#####***073***"
      ],
      "metadata": {
        "id": "ga8xQIdLdBz_"
      }
    },
    {
      "cell_type": "markdown",
      "source": [
        "073\n",
        "숫자 1 이 저장된 튜플을 생성하라."
      ],
      "metadata": {
        "id": "-r70wJHjdB3G"
      }
    },
    {
      "cell_type": "markdown",
      "source": [
        "######***Solution***"
      ],
      "metadata": {
        "id": "NKhPxvASRzQ8"
      }
    },
    {
      "cell_type": "code",
      "source": [
        "def main():\n",
        "    my_tuple = (1, )\n",
        "    print(my_tuple, type(my_tuple))\n",
        "\n",
        "if __name__ == \"__main__\":\n",
        "    main()"
      ],
      "metadata": {
        "id": "q96NJX1edH3_"
      },
      "execution_count": null,
      "outputs": []
    },
    {
      "cell_type": "markdown",
      "source": [
        "#####***075***"
      ],
      "metadata": {
        "id": "zcrJTItsFQ9W"
      }
    },
    {
      "cell_type": "markdown",
      "source": [
        "075\n",
        "아래와 같이 t에는 1, 2, 3, 4 데이터가 바인딩되어 있다. t가 바인딩하는 데이터 타입은 무엇인가?\n",
        "\n",
        "```\n",
        "t = 1, 2, 3, 4\n",
        "```"
      ],
      "metadata": {
        "id": "eL7HDsRWFRA9"
      }
    },
    {
      "cell_type": "markdown",
      "source": [
        "######***Solution***"
      ],
      "metadata": {
        "id": "HfztU16QRzT7"
      }
    },
    {
      "cell_type": "code",
      "source": [
        "def main():\n",
        "    t = 1, 2, 3, 4\n",
        "    print(t, type(t))\n",
        "\n",
        "if __name__ == \"__main__\":\n",
        "    main()"
      ],
      "metadata": {
        "colab": {
          "base_uri": "https://localhost:8080/"
        },
        "id": "z2Pgb_duFYqs",
        "outputId": "91277227-44ab-4e31-9850-550e42d1e5c2"
      },
      "execution_count": null,
      "outputs": [
        {
          "output_type": "stream",
          "name": "stdout",
          "text": [
            "(1, 2, 3, 4) <class 'tuple'>\n"
          ]
        }
      ]
    },
    {
      "cell_type": "markdown",
      "source": [
        "###***Chapter 17 Dictionary***"
      ],
      "metadata": {
        "id": "pVYohA_aFzNu"
      }
    },
    {
      "cell_type": "markdown",
      "source": [
        "#####***Exercise***"
      ],
      "metadata": {
        "id": "Tzev-sMfW1cm"
      }
    },
    {
      "cell_type": "markdown",
      "source": [
        "사람들의 이름이 리스트로 주어졌을 때, 각각의 이름이 얼마나 있는지 카운트하시요.\n",
        "```\n",
        "names = ['John', 'Tom', 'Bob', 'Chuck', 'Bob', 'John','John']\n",
        "``` "
      ],
      "metadata": {
        "id": "FMclJNy5W1cm"
      }
    },
    {
      "cell_type": "markdown",
      "source": [
        "######***Solution***"
      ],
      "metadata": {
        "id": "7Xh77BEDW1cm"
      }
    },
    {
      "cell_type": "code",
      "source": [
        "def main():\n",
        "    names = ['John', 'Tom', 'Bob', 'Chuck', 'Bob', 'John','John']\n",
        "    name_count = {}\n",
        "    for name in names:\n",
        "        name_count[name] = name_count.get(name, 0) + 1         \n",
        "    print(name_count) \n",
        "\n",
        "if __name__ == \"__main__\":\n",
        "    main()"
      ],
      "metadata": {
        "id": "75donk6uW1cn"
      },
      "execution_count": null,
      "outputs": []
    },
    {
      "cell_type": "markdown",
      "source": [
        "#####***084***"
      ],
      "metadata": {
        "id": "eXME3y1qHzZI"
      }
    },
    {
      "cell_type": "markdown",
      "source": [
        "084 비어있는 딕셔너리\n",
        "temp 이름의 비어있는 딕셔너리를 만들라."
      ],
      "metadata": {
        "id": "izZgJ5GSHzcX"
      }
    },
    {
      "cell_type": "markdown",
      "source": [
        "######***Solution***"
      ],
      "metadata": {
        "id": "UtVspY5HRzWi"
      }
    },
    {
      "cell_type": "code",
      "source": [
        "def main():\n",
        "    temp = { }\n",
        "\n",
        "if __name__ == \"__main__\":\n",
        "    main()"
      ],
      "metadata": {
        "id": "43ptiQABH37v"
      },
      "execution_count": null,
      "outputs": []
    },
    {
      "cell_type": "markdown",
      "source": [
        "#####***085***"
      ],
      "metadata": {
        "id": "9k5e2_DA4XBB"
      }
    },
    {
      "cell_type": "markdown",
      "source": [
        "다음 아이스크림 이름과 희망 가격을 딕셔너리로 구성하라.\n",
        "```\n",
        "이름\t희망 가격\n",
        "메로나\t1000\n",
        "폴라포\t1200\n",
        "빵빠레\t1800\n",
        "```"
      ],
      "metadata": {
        "id": "EVrpRXLb4XBB"
      }
    },
    {
      "cell_type": "markdown",
      "source": [
        "######***Solution***"
      ],
      "metadata": {
        "id": "3dze9ny54XBC"
      }
    },
    {
      "cell_type": "code",
      "source": [
        "def main():\n",
        "    ice = {\"메로나\": 1000, \"폴라포\": 1200, \"빵빠레\": 1800}\n",
        "    print(ice)\n",
        "\n",
        "if __name__ == \"__main__\":\n",
        "    main()"
      ],
      "metadata": {
        "id": "Ex-gYTZs4XBC"
      },
      "execution_count": null,
      "outputs": []
    },
    {
      "cell_type": "markdown",
      "source": [
        "#####***086***"
      ],
      "metadata": {
        "id": "wXrFBATK4XLD"
      }
    },
    {
      "cell_type": "markdown",
      "source": [
        "086\n",
        "085 번의 딕셔너리에 아래 아이스크림 가격정보를 추가하라.\n",
        "```\n",
        "이름\t희망 가격\n",
        "죠스바\t1200\n",
        "월드콘\t1500\n",
        "```"
      ],
      "metadata": {
        "id": "gYqlhmNr4XLD"
      }
    },
    {
      "cell_type": "markdown",
      "source": [
        "######***Solution***"
      ],
      "metadata": {
        "id": "loixlnZ24XLD"
      }
    },
    {
      "cell_type": "code",
      "source": [
        "def main():\n",
        "    ice = {\"메로나\": 1000, \"폴라포\": 1200, \"빵빠레\": 1800}\n",
        "    ice[\"죠스바\"] = 1200\n",
        "    ice[\"월드콘\"] = 1500\n",
        "    print(ice)\n",
        "\n",
        "if __name__ == \"__main__\":\n",
        "    main()"
      ],
      "metadata": {
        "id": "iRPNHmQR4XLD"
      },
      "execution_count": null,
      "outputs": []
    },
    {
      "cell_type": "markdown",
      "source": [
        "#####***087***"
      ],
      "metadata": {
        "id": "-iw5rEw647cm"
      }
    },
    {
      "cell_type": "markdown",
      "source": [
        "087\n",
        "다음 딕셔너리를 사용하여 메로나 가격을 출력하라.\n",
        "```\n",
        "ice = {'메로나': 1000,\n",
        "       '폴로포': 1200,\n",
        "       '빵빠레': 1800,\n",
        "       '죠스바': 1200,\n",
        "       '월드콘': 1500}\n",
        "```\n",
        " ```\n",
        "실행 예:\n",
        "메로나 가격: 1000\n",
        "```"
      ],
      "metadata": {
        "id": "wNEn7cE947cm"
      }
    },
    {
      "cell_type": "markdown",
      "source": [
        "######***Solution***"
      ],
      "metadata": {
        "id": "AgGZHV4g47cm"
      }
    },
    {
      "cell_type": "code",
      "source": [
        "def main():\n",
        "    ice = {\n",
        "        '메로나': 1000,\n",
        "        '폴로포': 1200,\n",
        "        '빵빠레': 1800,\n",
        "        '죠스바': 1200,\n",
        "        '월드콘': 1500\n",
        "        }\n",
        "    print(\"메로나 가격: \", ice[\"메로나\"])\n",
        "\n",
        "if __name__ == \"__main__\":\n",
        "    main()"
      ],
      "metadata": {
        "colab": {
          "base_uri": "https://localhost:8080/"
        },
        "id": "hjqPvCk947cn",
        "outputId": "c046c9fa-5a25-4b87-c6e0-1110400253e6"
      },
      "execution_count": null,
      "outputs": [
        {
          "output_type": "stream",
          "name": "stdout",
          "text": [
            "메로나 가격:  1000\n"
          ]
        }
      ]
    },
    {
      "cell_type": "markdown",
      "source": [
        "#####***088***"
      ],
      "metadata": {
        "id": "aXtBcAeA47te"
      }
    },
    {
      "cell_type": "markdown",
      "source": [
        "088\n",
        "다음 딕셔너리에서 메로나의 가격을 1300으로 수정하라.\n",
        "```\n",
        "ice = {'메로나': 1000,\n",
        "       '폴로포': 1200,\n",
        "       '빵빠레': 1800,\n",
        "       '죠스바': 1200,\n",
        "       '월드콘': 1500}\n",
        "```"
      ],
      "metadata": {
        "id": "ZnMPc7Xq47tf"
      }
    },
    {
      "cell_type": "markdown",
      "source": [
        "######***Solution***"
      ],
      "metadata": {
        "id": "waQBXC3l47tf"
      }
    },
    {
      "cell_type": "code",
      "source": [
        "def main():\n",
        "    ice = {\n",
        "        '메로나': 1000,\n",
        "        '폴로포': 1200,\n",
        "        '빵빠레': 1800,\n",
        "        '죠스바': 1200,\n",
        "        '월드콘': 1500\n",
        "        }\n",
        "    ice[\"메로나\"] = 1300\n",
        "    print(\"메로나 가격: \", ice[\"메로나\"])\n",
        "\n",
        "if __name__ == \"__main__\":\n",
        "    main()"
      ],
      "metadata": {
        "id": "zyjLefrY47tf"
      },
      "execution_count": null,
      "outputs": []
    },
    {
      "cell_type": "markdown",
      "source": [
        "####***Section del***"
      ],
      "metadata": {
        "id": "Pod50o8VKfJ6"
      }
    },
    {
      "cell_type": "markdown",
      "source": [
        "#####***089***"
      ],
      "metadata": {
        "id": "ezZT5zIvIGQl"
      }
    },
    {
      "cell_type": "markdown",
      "source": [
        "089\n",
        "다음 딕셔너리에서 메로나를 삭제하라.\n",
        "```\n",
        "ice = {'메로나': 1000,\n",
        "       '폴로포': 1200,\n",
        "       '빵빠레': 1800,\n",
        "       '죠스바': 1200,\n",
        "       '월드콘': 1500}\n",
        "```"
      ],
      "metadata": {
        "id": "GEqAhLG2IGUA"
      }
    },
    {
      "cell_type": "markdown",
      "source": [
        "######***Solution***"
      ],
      "metadata": {
        "id": "x9xjXK7cRzZK"
      }
    },
    {
      "cell_type": "code",
      "source": [
        "def main():\n",
        "    ice = {'메로나': 1000,\n",
        "        '폴로포': 1200,\n",
        "        '빵빠레': 1800,\n",
        "        '죠스바': 1200,\n",
        "        '월드콘': 1500}\n",
        "    del ice['메로나']\n",
        "    print(ice)\n",
        "\n",
        "if __name__ == \"__main__\":\n",
        "    main()"
      ],
      "metadata": {
        "colab": {
          "base_uri": "https://localhost:8080/"
        },
        "id": "R_3o6TBGIK2L",
        "outputId": "3b34f937-eaba-45e6-aa0d-f371b3e3c6a4"
      },
      "execution_count": null,
      "outputs": [
        {
          "output_type": "stream",
          "name": "stdout",
          "text": [
            "{'폴로포': 1200, '빵빠레': 1800, '죠스바': 1200, '월드콘': 1500}\n"
          ]
        }
      ]
    },
    {
      "cell_type": "markdown",
      "source": [
        "####***Section Dictionary Method - keys, values, items***"
      ],
      "metadata": {
        "id": "RLFDTFRUKl98"
      }
    },
    {
      "cell_type": "markdown",
      "source": [
        "#####***095***"
      ],
      "metadata": {
        "id": "C_NAke-qIzrr"
      }
    },
    {
      "cell_type": "markdown",
      "source": [
        "095 딕셔너리 keys() 메서드\n",
        "다음의 딕셔너리로부터 key 값으로만 구성된 리스트를 생성하라.\n",
        "```\n",
        "icecream = {'탱크보이': 1200, '폴라포': 1200, '빵빠레': 1800, '월드콘': 1500, '메로나': 1000}\n",
        "```"
      ],
      "metadata": {
        "id": "LbxUSWpTIzvS"
      }
    },
    {
      "cell_type": "markdown",
      "source": [
        "######***Solution***"
      ],
      "metadata": {
        "id": "LSQGKnuQRzb_"
      }
    },
    {
      "cell_type": "code",
      "source": [
        "def main():\n",
        "    icecream = {'탱크보이': 1200, '폴라포': 1200, '빵빠레': 1800, '월드콘': 1500, '메로나': 1000}\n",
        "    ice = list(icecream.keys())\n",
        "    print(ice)\n",
        "\n",
        "if __name__ == \"__main__\":\n",
        "    main()"
      ],
      "metadata": {
        "colab": {
          "base_uri": "https://localhost:8080/"
        },
        "id": "cHko8KyaI4zC",
        "outputId": "549e4fe3-2381-459c-c1f5-c6cca6486f64"
      },
      "execution_count": null,
      "outputs": [
        {
          "output_type": "stream",
          "name": "stdout",
          "text": [
            "['탱크보이', '폴라포', '빵빠레', '월드콘', '메로나']\n"
          ]
        }
      ]
    },
    {
      "cell_type": "markdown",
      "source": [
        "#####***096***"
      ],
      "metadata": {
        "id": "SEPa5ODhI-Hp"
      }
    },
    {
      "cell_type": "markdown",
      "source": [
        "096 딕셔너리 values() 메서드\n",
        "다음의 딕셔너리에서 values 값으로만 구성된 리스트를 생성하라.\n",
        "```\n",
        "icecream = {'탱크보이': 1200, '폴라포': 1200, '빵빠레': 1800, '월드콘': 1500, '메로나': 1000}\n",
        "```"
      ],
      "metadata": {
        "id": "28tpb6flI-Kg"
      }
    },
    {
      "cell_type": "markdown",
      "source": [
        "######***Solution***"
      ],
      "metadata": {
        "id": "XW6J2Kb6Rze0"
      }
    },
    {
      "cell_type": "code",
      "source": [
        "def main():\n",
        "    icecream = {'탱크보이': 1200, '폴라포': 1200, '빵빠레': 1800, '월드콘': 1500, '메로나': 1000}\n",
        "    price = list(icecream.values())\n",
        "    print(price)\n",
        "\n",
        "if __name__ == \"__main__\":\n",
        "    main()"
      ],
      "metadata": {
        "id": "Wceem0knJCqI"
      },
      "execution_count": null,
      "outputs": []
    },
    {
      "cell_type": "markdown",
      "source": [
        "####***Section Dictionary Method - update***"
      ],
      "metadata": {
        "id": "fWw-1IiwKygs"
      }
    },
    {
      "cell_type": "markdown",
      "source": [
        "#####***098***"
      ],
      "metadata": {
        "id": "uSZ0FoA_KS6Q"
      }
    },
    {
      "cell_type": "markdown",
      "source": [
        "098 딕셔너리 update 메서드\n",
        "아래의 new_product 딕셔너리를 다음 icecream 딕셔너리에 추가하라.\n",
        "```\n",
        "icecream = {'탱크보이': 1200, '폴라포': 1200, '빵빠레': 1800, '월드콘': 1500, '메로나': 1000}\n",
        "new_product = {'팥빙수':2700, '아맛나':1000}\n",
        "```"
      ],
      "metadata": {
        "id": "kpx2sREUKS9i"
      }
    },
    {
      "cell_type": "markdown",
      "source": [
        "######***Solution***"
      ],
      "metadata": {
        "id": "CNY88Od9Rzhc"
      }
    },
    {
      "cell_type": "code",
      "source": [
        "def main():\n",
        "    icecream = {'탱크보이': 1200, '폴라포': 1200, '빵빠레': 1800, '월드콘': 1500, '메로나': 1000}\n",
        "    new_product = {'팥빙수':2700, '아맛나':1000}\n",
        "    icecream.update(new_product)\n",
        "    print(icecream)\n",
        "\n",
        "if __name__ == \"__main__\":\n",
        "    main()"
      ],
      "metadata": {
        "id": "utlX-8KrKYiv"
      },
      "execution_count": null,
      "outputs": []
    },
    {
      "cell_type": "markdown",
      "source": [
        "####***Section Built-in Function - dict***"
      ],
      "metadata": {
        "id": "rXziuV1CK8v3"
      }
    },
    {
      "cell_type": "markdown",
      "source": [
        "#####***099***"
      ],
      "metadata": {
        "id": "_z4H326bKiYt"
      }
    },
    {
      "cell_type": "markdown",
      "source": [
        "099 zip과 dict\n",
        "아래 두 개의 튜플을 하나의 딕셔너리로 변환하라. keys를 키로, vals를 값으로 result 이름의 딕셔너리로 저장한다.\n",
        "```\n",
        "keys = (\"apple\", \"pear\", \"peach\")\n",
        "vals = (300, 250, 400)\n",
        "```"
      ],
      "metadata": {
        "id": "m2ifoi0kKibs"
      }
    },
    {
      "cell_type": "markdown",
      "source": [
        "######***Solution***"
      ],
      "metadata": {
        "id": "V-Ar_8MLRzkE"
      }
    },
    {
      "cell_type": "code",
      "source": [
        "def main():\n",
        "    keys = (\"apple\", \"pear\", \"peach\")\n",
        "    vals = (300, 250, 400)\n",
        "    result = dict(zip(keys, vals))\n",
        "    print(result)\n",
        "\n",
        "if __name__ == \"__main__\":\n",
        "    main()"
      ],
      "metadata": {
        "id": "n7PX4OkKKpb1"
      },
      "execution_count": null,
      "outputs": []
    },
    {
      "cell_type": "markdown",
      "source": [
        "####***Section Word Frequency***"
      ],
      "metadata": {
        "id": "E7R8eKfZLQHS"
      }
    },
    {
      "cell_type": "markdown",
      "source": [
        "#####***Exercise***"
      ],
      "metadata": {
        "id": "vKWCXZtL1wa9"
      }
    },
    {
      "cell_type": "markdown",
      "source": [
        "```\n",
        "\"\"\"\n",
        "Complete this function such that it returns True if and only if\n",
        "the two strings passed to the function are anagrams of each other,\n",
        "that is if they contain the same letters the same number of times.\n",
        "Return False otherwise.\n",
        "\"\"\"\n",
        "def is_anagram(string_a, string_b):\n",
        "    # Delete pass, and put your code here.\n",
        "    pass\n",
        "\n",
        "\n",
        "# Very Simple Tests\n",
        "assert is_anagram('abba', 'aabb') == True\n",
        "assert is_anagram('aab', 'bba') == False\n",
        "assert is_anagram('the detectives', 'detect thieves') == True\n",
        "assert is_anagram('abcde', 'abcdf') == False\n",
        "## ADD AT LEAST 3 MORE TESTS ##\n",
        "```\n",
        "\n",
        "[Sorce](https://github.com/Tebs-Lab/intro-to-programming/blob/master/exercises/writing-exercises/02-is-anagram.py)"
      ],
      "metadata": {
        "id": "ciLJvZBz1wa-"
      }
    },
    {
      "cell_type": "markdown",
      "source": [
        "######***Solution***"
      ],
      "metadata": {
        "id": "gaoRyVCg1wa-"
      }
    },
    {
      "cell_type": "code",
      "source": [
        "def character_frequency(word):\n",
        "    frequency = {}\n",
        "    for character in word:\n",
        "        frequency[character] = frequency.get(character, 0) + 1\n",
        "    return frequency\n",
        "\n",
        "def is_anagram(string_a, string_b):\n",
        "    return character_frequency(string_a) == character_frequency(string_b) \n",
        "\n",
        "def main():\n",
        "    assert is_anagram('abba', 'aabb') == True\n",
        "    assert is_anagram('aab', 'bba') == False\n",
        "    assert is_anagram('the detectives', 'detect thieves') == True\n",
        "    assert is_anagram('abcde', 'abcdf') == False\n",
        "    assert is_anagram('aaabbb', 'bbbaaa') == True\n",
        "    assert is_anagram('aaabbb', 'aaaccc') == False\n",
        "    assert is_anagram('hat', 'cat') == False\n",
        "\n",
        "if __name__ == \"__main__\":\n",
        "    main()"
      ],
      "metadata": {
        "id": "_xakiSir1wa_"
      },
      "execution_count": null,
      "outputs": []
    },
    {
      "cell_type": "markdown",
      "source": [
        "#####***Problem 34***"
      ],
      "metadata": {
        "id": "wwBqc9q6LngO"
      }
    },
    {
      "cell_type": "markdown",
      "source": [
        "Problem 34: Improve the above program to print the words in the descending order of the number of occurrences."
      ],
      "metadata": {
        "id": "XRm1t0WDLngP"
      }
    },
    {
      "cell_type": "markdown",
      "source": [
        "######***Solution***"
      ],
      "metadata": {
        "id": "K3PuG-MjLngP"
      }
    },
    {
      "cell_type": "code",
      "source": [
        "def word_frequency(words):\n",
        "    \"\"\"Returns frequency of each word given a list of words.\n",
        "\n",
        "        >>> word_frequency(['a', 'b', 'a'])\n",
        "        {'a': 2, 'b': 1}\n",
        "    \"\"\"\n",
        "    frequency = {}\n",
        "    for w in words:\n",
        "        frequency[w] = frequency.get(w, 0) + 1\n",
        "    return frequency\n",
        "\n",
        "def read_words(filename):\n",
        "    return open(filename).read().split()\n",
        "\n",
        "def main():\n",
        "    filename = \"she.txt\"\n",
        "    frequency = word_frequency(read_words(filename))\n",
        "    frequency_list = [(value, key) for key, value in frequency.items()]\n",
        "    frequency_list.sort(reverse=True)\n",
        "    \n",
        "    for count, word in frequency_list:\n",
        "        print(count, word)\n",
        "\n",
        "if __name__ == \"__main__\":\n",
        "    main()"
      ],
      "metadata": {
        "colab": {
          "base_uri": "https://localhost:8080/"
        },
        "outputId": "35da129c-6e81-414f-d5c4-021d3f85ca89",
        "id": "QbyHWwUyLngP"
      },
      "execution_count": null,
      "outputs": [
        {
          "output_type": "stream",
          "name": "stdout",
          "text": [
            "3 the\n",
            "3 sells\n",
            "3 seashells\n",
            "2 that\n",
            "2 shells\n",
            "2 she\n",
            "2 seashore\n",
            "2 on\n",
            "2 are\n",
            "2 I'm\n",
            "1 sure.\n",
            "1 sure\n",
            "1 shells.\n",
            "1 seashore;\n",
            "1 if\n",
            "1 The\n",
            "1 So\n",
            "1 She\n"
          ]
        }
      ]
    },
    {
      "cell_type": "markdown",
      "source": [
        "#####***Problem 35***"
      ],
      "metadata": {
        "id": "nDjEnPE_LnnS"
      }
    },
    {
      "cell_type": "markdown",
      "source": [
        "Problem 35: Write a program to count frequency of characters in a given file. Can you use character frequency to tell whether the given file is a Python program file, C program file or a text file?"
      ],
      "metadata": {
        "id": "xeZ3kEEjLnnS"
      }
    },
    {
      "cell_type": "markdown",
      "source": [
        "######***Solution***"
      ],
      "metadata": {
        "id": "B_13RumTLnnS"
      }
    },
    {
      "cell_type": "code",
      "source": [
        "%%writefile grep.py\n",
        "import sys\n",
        "file_path, string = sys.argv[1:3]\n",
        "with open(file_path) as f:\n",
        "    lines = f.readlines()\n",
        "    for line in lines:\n",
        "        if string in line:\n",
        "            print(line, end=\"\")"
      ],
      "metadata": {
        "colab": {
          "base_uri": "https://localhost:8080/"
        },
        "id": "VNumWIKrO0Wg",
        "outputId": "957c59ad-557f-4b4f-96a7-69b7715de94b"
      },
      "execution_count": null,
      "outputs": [
        {
          "output_type": "stream",
          "name": "stdout",
          "text": [
            "Writing grep.py\n"
          ]
        }
      ]
    },
    {
      "cell_type": "code",
      "source": [
        "# ChatGPT code not working\n",
        "import string\n",
        "\n",
        "def count_chars(file_path):\n",
        "    # define the character sets for each type of file\n",
        "    python_chars = set(string.ascii_lowercase + string.digits + '_')\n",
        "    c_chars = set(string.ascii_lowercase + string.digits + '_{}()[];:,.<>/?\\\\|-+*=&%\"\\'')\n",
        "    \n",
        "    # initialize counters for each type of character\n",
        "    text_count = 0\n",
        "    python_count = 0\n",
        "    c_count = 0\n",
        "    \n",
        "    # open the file and count the characters\n",
        "    with open(file_path, 'r') as f:\n",
        "        for line in f:\n",
        "            for c in line:\n",
        "                if c in string.whitespace:\n",
        "                    # ignore whitespace characters\n",
        "                    continue\n",
        "                elif c in python_chars:\n",
        "                    python_count += 1\n",
        "                elif c in c_chars:\n",
        "                    c_count += 1\n",
        "                else:\n",
        "                    text_count += 1\n",
        "    \n",
        "    # print the results\n",
        "    print(f\"Text characters: {text_count}\")\n",
        "    print(f\"Python characters: {python_count}\")\n",
        "    print(f\"C characters: {c_count}\")\n",
        "    \n",
        "    # determine the file type based on the character counts\n",
        "    if python_count > c_count and python_count > text_count:\n",
        "        print(\"Python program file\")\n",
        "    elif c_count > python_count and c_count > text_count:\n",
        "        print(\"C program file\")\n",
        "    else:\n",
        "        print(\"Text file\")\n",
        "\n",
        "def main():\n",
        "    count_chars('she.txt')\n",
        "    count_chars('grep.py')\n",
        "\n",
        "if __name__ == \"__main__\":\n",
        "    main()"
      ],
      "metadata": {
        "colab": {
          "base_uri": "https://localhost:8080/"
        },
        "outputId": "17817455-1c1e-4321-ab0a-0f52209543c7",
        "id": "i7V5nG5RLnnS"
      },
      "execution_count": null,
      "outputs": [
        {
          "output_type": "stream",
          "name": "stdout",
          "text": [
            "Text characters: 5\n",
            "Python characters: 134\n",
            "C characters: 5\n",
            "Python program file\n",
            "Text characters: 0\n",
            "Python characters: 108\n",
            "C characters: 21\n",
            "Python program file\n"
          ]
        }
      ]
    },
    {
      "cell_type": "code",
      "source": [
        "def count_chars(file_path):\n",
        "    # define the dictionary to count frequency of characters in a given file\n",
        "    d = {}\n",
        "    \n",
        "    # open the file and count the characters\n",
        "    with open(file_path, 'r') as f:\n",
        "        for line in f:\n",
        "            for c in line:\n",
        "                d[c] = d.get(c, 0) + 1\n",
        "    return d\n",
        "\n",
        "def main():\n",
        "    print(count_chars('she.txt'))\n",
        "    print(count_chars('grep.py'))\n",
        "\n",
        "if __name__ == \"__main__\":\n",
        "    main()"
      ],
      "metadata": {
        "colab": {
          "base_uri": "https://localhost:8080/"
        },
        "outputId": "8a5c281c-112b-4005-eb04-311b5ac12bd8",
        "id": "fQDAk4S3oKvC"
      },
      "execution_count": null,
      "outputs": [
        {
          "output_type": "stream",
          "name": "stdout",
          "text": [
            "{'S': 2, 'h': 18, 'e': 29, ' ': 27, 's': 31, 'l': 18, 'a': 10, 'o': 6, 'n': 2, 't': 7, 'r': 7, ';': 1, '\\n': 4, 'T': 1, 'I': 2, \"'\": 2, 'm': 2, 'u': 2, '.': 2, 'i': 1, 'f': 1}\n",
            "{'i': 16, 'm': 1, 'p': 5, 'o': 3, 'r': 7, 't': 7, ' ': 44, 's': 10, 'y': 2, '\\n': 7, 'f': 6, 'l': 8, 'e': 11, '_': 2, 'a': 5, 'h': 3, ',': 2, 'n': 13, 'g': 3, '=': 3, '.': 2, 'v': 1, '[': 1, '1': 1, ':': 4, '3': 1, ']': 1, 'w': 1, '(': 3, ')': 3, 'd': 2, '\"': 2}\n"
          ]
        }
      ]
    },
    {
      "cell_type": "markdown",
      "source": [
        "#####***Problem 36***"
      ],
      "metadata": {
        "id": "NkNS0N9eLnvN"
      }
    },
    {
      "cell_type": "markdown",
      "source": [
        "Problem 36: Write a program to find anagrams in a given list of words. Two words are called anagrams if one word can be formed by rearranging letters of another. For example 'eat', 'ate' and 'tea' are anagrams.\n",
        "```\n",
        ">>> anagrams(['eat', 'ate', 'done', 'tea', 'soup', 'node'])\n",
        "[['eat', 'ate', 'tea], ['done', 'node'], ['soup']]\n",
        "```"
      ],
      "metadata": {
        "id": "yXG6FM5XLnvN"
      }
    },
    {
      "cell_type": "markdown",
      "source": [
        "######***Solution***"
      ],
      "metadata": {
        "id": "pv0gt-yFLnvN"
      }
    },
    {
      "cell_type": "code",
      "source": [
        "def count_chars(string):\n",
        "    # define the dictionary to count frequency of characters in a given file\n",
        "    d = {}\n",
        "    \n",
        "    # count the characters\n",
        "    for c in string:\n",
        "        d[c] = d.get(c, 0) + 1\n",
        "\n",
        "    # make a string representing a dictionary d\n",
        "    out = \"\"\n",
        "    for key, value in d.items():\n",
        "        out = out + key + str(value)\n",
        "    return out\n",
        "\n",
        "def anagrams(lst):\n",
        "    # define the dictionary to count frequency of characters in a given file\n",
        "    d = {}\n",
        "\n",
        "    for string in lst:\n",
        "        key = count_chars(string) \n",
        "        if key not in d.keys():\n",
        "            d[key] = [string]\n",
        "        else:\n",
        "            d[key].append(string)\n",
        "\n",
        "    out = []\n",
        "    for lst in d.values():\n",
        "        out.append(lst)\n",
        "    return out\n",
        "\n",
        "def main():\n",
        "    print(anagrams(['eat', 'ate', 'done', 'tea', 'soup', 'node']))\n",
        "\n",
        "if __name__ == \"__main__\":\n",
        "    main()"
      ],
      "metadata": {
        "colab": {
          "base_uri": "https://localhost:8080/"
        },
        "outputId": "acf17ecb-1eec-4e6b-df38-76c014c5a007",
        "id": "wGICCJCULnvN"
      },
      "execution_count": null,
      "outputs": [
        {
          "output_type": "stream",
          "name": "stdout",
          "text": [
            "[['eat'], ['ate'], ['done'], ['tea'], ['soup'], ['node']]\n"
          ]
        }
      ]
    },
    {
      "cell_type": "markdown",
      "source": [
        "#####***Problem 37***"
      ],
      "metadata": {
        "id": "T3B6o2wfLn8Y"
      }
    },
    {
      "cell_type": "markdown",
      "source": [
        "Problem 37: Write a function valuesort to sort values of a dictionary based on the key.\n",
        "```\n",
        ">>> valuesort({'x': 1, 'y': 2, 'a': 3})\n",
        "[3, 1, 2]\n",
        "```"
      ],
      "metadata": {
        "id": "3KwNsphOLn8Y"
      }
    },
    {
      "cell_type": "markdown",
      "source": [
        "######***Solution***"
      ],
      "metadata": {
        "id": "yBOTbiefLn8Y"
      }
    },
    {
      "cell_type": "code",
      "source": [
        "def valuesort(d):\n",
        "    sorted_keys = list(d.keys())\n",
        "    sorted_keys.sort()\n",
        "\n",
        "    out = []\n",
        "    for key in sorted_keys:\n",
        "        out.append(d[key])\n",
        "    return out\n",
        "    \n",
        "def main():\n",
        "    print(valuesort({'x': 1, 'y': 2, 'a': 3}))\n",
        "\n",
        "if __name__ == \"__main__\":\n",
        "    main()"
      ],
      "metadata": {
        "colab": {
          "base_uri": "https://localhost:8080/"
        },
        "outputId": "2d7fd287-6258-4c94-8526-253bb470c8bf",
        "id": "uXdPNXTxLn8Y"
      },
      "execution_count": null,
      "outputs": [
        {
          "output_type": "stream",
          "name": "stdout",
          "text": [
            "[3, 1, 2]\n"
          ]
        }
      ]
    },
    {
      "cell_type": "markdown",
      "source": [
        "#####***Problem 38***"
      ],
      "metadata": {
        "id": "__XlsRSvLoE_"
      }
    },
    {
      "cell_type": "markdown",
      "source": [
        "Problem 38: Write a function invertdict to interchange keys and values in a dictionary. For simplicity, assume that all values are unique.\n",
        "```\n",
        "invertdict({'x': 1, 'y': 2, 'z': 3})\n",
        "{1: 'x', 2: 'y', 3: 'z'}\n",
        "```"
      ],
      "metadata": {
        "id": "wHWKEAcqLoE_"
      }
    },
    {
      "cell_type": "markdown",
      "source": [
        "######***Solution***"
      ],
      "metadata": {
        "id": "VG7oZetKLoE_"
      }
    },
    {
      "cell_type": "code",
      "source": [
        "def invertdict(d):\n",
        "    out = { value : key for key, value in d.items()}\n",
        "    return out\n",
        "    \n",
        "def main():\n",
        "    print(invertdict({'x': 1, 'y': 2, 'z': 3}))\n",
        "\n",
        "if __name__ == \"__main__\":\n",
        "    main()"
      ],
      "metadata": {
        "colab": {
          "base_uri": "https://localhost:8080/"
        },
        "outputId": "67e97f48-e6b9-4322-e9fb-3de21cae469d",
        "id": "oAq89hOBLoE_"
      },
      "execution_count": null,
      "outputs": [
        {
          "output_type": "stream",
          "name": "stdout",
          "text": [
            "{1: 'x', 2: 'y', 3: 'z'}\n"
          ]
        }
      ]
    },
    {
      "cell_type": "markdown",
      "source": [
        "###***Chapter 19 Set***"
      ],
      "metadata": {
        "id": "2bd6xVMVp4nx"
      }
    },
    {
      "cell_type": "markdown",
      "source": [
        "#####***Exercise [kor](https://www.youtube.com/watch?v=cxhbgAbAiXI)***"
      ],
      "metadata": {
        "id": "toMOaLFbZecs"
      }
    },
    {
      "cell_type": "markdown",
      "source": [
        "Refactor the below code checking the existance of two different numbers in the list whose sum is target\n",
        "```\n",
        "def twoSum(nums, target):\n",
        "    for i in range(len(nums)):\n",
        "        for j in range(len(nums)):\n",
        "            if i == j:\n",
        "                continue\n",
        "            if nums[i] + nums[j] == target:\n",
        "                return True\n",
        "    return False\n",
        "\n",
        "def main():\n",
        "    nums = [1,2,15,6]\n",
        "    target = 7\n",
        "    print(twoSum(nums, target))\n",
        "\n",
        "    nums = [1,2,15,6]\n",
        "    target = 12\n",
        "    print(twoSum(nums, target))\n",
        "\n",
        "if __name__ == \"__main__\":\n",
        "    main()\n",
        "```"
      ],
      "metadata": {
        "id": "UNRaXvEHZect"
      }
    },
    {
      "cell_type": "markdown",
      "source": [
        "######***Solution***"
      ],
      "metadata": {
        "id": "OCvTm_DzZect"
      }
    },
    {
      "cell_type": "code",
      "source": [
        "# O(n^2)\n",
        "def twoSum(nums, target):\n",
        "    for i in range(len(nums)):\n",
        "        for j in range(i+1,len(nums)):\n",
        "            if nums[i] + nums[j] == target:\n",
        "                return True\n",
        "    return False\n",
        "\n",
        "def main():\n",
        "    nums = [1,2,15,6]\n",
        "    target = 7\n",
        "    print(twoSum(nums, target))\n",
        "\n",
        "    nums = [1,2,15,6]\n",
        "    target = 12\n",
        "    print(twoSum(nums, target))\n",
        "\n",
        "if __name__ == \"__main__\":\n",
        "    main()"
      ],
      "metadata": {
        "colab": {
          "base_uri": "https://localhost:8080/"
        },
        "outputId": "b1f400a0-45dc-4235-fb2b-618d2315e26f",
        "id": "LGYri7kZZect"
      },
      "execution_count": null,
      "outputs": [
        {
          "output_type": "stream",
          "name": "stdout",
          "text": [
            "True\n",
            "False\n"
          ]
        }
      ]
    },
    {
      "cell_type": "code",
      "source": [
        "# O(n^2)\n",
        "def twoSum(nums, target):\n",
        "    for i in range(len(nums)):\n",
        "        for j in range(i+1,len(nums)):\n",
        "            temp_target = target - nums[i]  \n",
        "            if nums[j] == temp_target:\n",
        "                return True\n",
        "    return False\n",
        "\n",
        "def main():\n",
        "    nums = [1,2,15,6]\n",
        "    target = 7\n",
        "    print(twoSum(nums, target))\n",
        "\n",
        "    nums = [1,2,15,6]\n",
        "    target = 12\n",
        "    print(twoSum(nums, target))\n",
        "\n",
        "if __name__ == \"__main__\":\n",
        "    main()"
      ],
      "metadata": {
        "colab": {
          "base_uri": "https://localhost:8080/"
        },
        "outputId": "3d3d086e-2ed4-4e8d-b8a3-1f861021db5a",
        "id": "BX4g9Z--Zect"
      },
      "execution_count": null,
      "outputs": [
        {
          "output_type": "stream",
          "name": "stdout",
          "text": [
            "True\n",
            "False\n"
          ]
        }
      ]
    },
    {
      "cell_type": "code",
      "source": [
        "# O(n^2)\n",
        "def twoSum(nums, target):\n",
        "    for i, num in enumerate(nums):\n",
        "        temp_target = target - num \n",
        "        if temp_target in nums[i+1:]:\n",
        "            return True\n",
        "    return False\n",
        "\n",
        "def main():\n",
        "    nums = [1,2,15,6]\n",
        "    target = 7\n",
        "    print(twoSum(nums, target))\n",
        "\n",
        "    nums = [1,2,15,6]\n",
        "    target = 12\n",
        "    print(twoSum(nums, target))\n",
        "\n",
        "if __name__ == \"__main__\":\n",
        "    main()"
      ],
      "metadata": {
        "colab": {
          "base_uri": "https://localhost:8080/"
        },
        "outputId": "451cbf9e-8f17-489a-9945-0a22a9ac2e5f",
        "id": "1WbbzZt7Zecu"
      },
      "execution_count": null,
      "outputs": [
        {
          "output_type": "stream",
          "name": "stdout",
          "text": [
            "True\n",
            "False\n"
          ]
        }
      ]
    },
    {
      "cell_type": "code",
      "source": [
        "# O(n)\n",
        "def twoSum(nums, target):\n",
        "    numbers = set()\n",
        "    for i in range(len(nums)):\n",
        "        temp_target = target - nums[i]\n",
        "        if temp_target in numbers:\n",
        "            return True\n",
        "        else:\n",
        "            numbers.add(nums[i])\n",
        "    return False\n",
        "\n",
        "def main():\n",
        "    nums = [1,2,15,6]\n",
        "    target = 7\n",
        "    print(twoSum(nums, target))\n",
        "\n",
        "    nums = [1,2,15,6]\n",
        "    target = 12\n",
        "    print(twoSum(nums, target))\n",
        "\n",
        "if __name__ == \"__main__\":\n",
        "    main()"
      ],
      "metadata": {
        "colab": {
          "base_uri": "https://localhost:8080/"
        },
        "outputId": "958729dc-0dca-4188-efe2-a84239cd121d",
        "id": "L6JpbMWRZecu"
      },
      "execution_count": null,
      "outputs": [
        {
          "output_type": "stream",
          "name": "stdout",
          "text": [
            "True\n",
            "False\n"
          ]
        }
      ]
    },
    {
      "cell_type": "markdown",
      "source": [
        "#####***Problem 15***"
      ],
      "metadata": {
        "id": "S1a0B1WRqDju"
      }
    },
    {
      "cell_type": "markdown",
      "source": [
        "Problem 15: Reimplement the unique function implemented in the earlier examples using sets."
      ],
      "metadata": {
        "id": "BZNiidtpqDjv"
      }
    },
    {
      "cell_type": "markdown",
      "source": [
        "######***Solution***"
      ],
      "metadata": {
        "id": "kGyQX1f9qDjv"
      }
    },
    {
      "cell_type": "code",
      "source": [
        "def unique(lst):\n",
        "    return list(set(lst))\n",
        "\n",
        "def main():\n",
        "    print(unique([1, 2, 1, 3, 2, 5])) \n",
        "\n",
        "if __name__ == \"__main__\":\n",
        "    main()"
      ],
      "metadata": {
        "colab": {
          "base_uri": "https://localhost:8080/"
        },
        "outputId": "07b1b5c3-0c8a-4543-d371-fa020565e78f",
        "id": "rRR9rm-4qDjv"
      },
      "execution_count": null,
      "outputs": [
        {
          "output_type": "stream",
          "name": "stdout",
          "text": [
            "[1, 2, 3, 5]\n"
          ]
        }
      ]
    },
    {
      "cell_type": "markdown",
      "source": [
        "#####***Problem 16***"
      ],
      "metadata": {
        "id": "PjMaM2wiGGLC"
      }
    },
    {
      "cell_type": "markdown",
      "source": [
        "Problem 16: Write a function extsort to sort a list of files based on extension.\n",
        "```\n",
        ">>> extsort(['a.c', 'a.py', 'b.py', 'bar.txt', 'foo.txt', 'x.c'])\n",
        "['a.c', 'x.c', 'a.py', 'b.py', 'bar.txt', 'foo.txt']\n",
        "```"
      ],
      "metadata": {
        "id": "g_mcRy4sGGLC"
      }
    },
    {
      "cell_type": "markdown",
      "source": [
        "######***Solution***"
      ],
      "metadata": {
        "id": "25NEZuO5GGLD"
      }
    },
    {
      "cell_type": "code",
      "source": [
        "def extsort(lst):\n",
        "    # d - dictionary\n",
        "    # d.keys() - extensions\n",
        "    # d.values() - set of files with given extension \n",
        "    d = dict()\n",
        "    for i in lst:\n",
        "        _, key = i.split(\".\")\n",
        "        if key not in d.keys():\n",
        "            d[key] = {i}\n",
        "        else:\n",
        "            d[key].add(i)\n",
        "\n",
        "    out = []\n",
        "    for key in d.keys():\n",
        "        out += list(d[key])\n",
        "    return out\n",
        "    \n",
        "def main():\n",
        "    print(extsort(['a.c', 'a.py', 'b.py', 'bar.txt', 'foo.txt', 'x.c']))\n",
        "\n",
        "if __name__ == \"__main__\":\n",
        "    main()"
      ],
      "metadata": {
        "colab": {
          "base_uri": "https://localhost:8080/"
        },
        "outputId": "10926026-9685-4de1-b854-2c4367bf3a6b",
        "id": "SW0f6dcCGGLD"
      },
      "execution_count": null,
      "outputs": [
        {
          "output_type": "stream",
          "name": "stdout",
          "text": [
            "['a.c', 'x.c', 'a.py', 'b.py', 'bar.txt', 'foo.txt']\n"
          ]
        }
      ]
    },
    {
      "cell_type": "markdown",
      "source": [
        "####***Section Membership Test***"
      ],
      "metadata": {
        "id": "8ecxgSbt9Euk"
      }
    },
    {
      "cell_type": "markdown",
      "source": [
        "#####***Exercise***"
      ],
      "metadata": {
        "id": "YfQQYPk89Euk"
      }
    },
    {
      "cell_type": "markdown",
      "source": [
        "Guess the output of the following:\n",
        "```\n",
        "print(True in {0})\n",
        "print(True in {1})\n",
        "```"
      ],
      "metadata": {
        "id": "jbbrPJUL9Eul"
      }
    },
    {
      "cell_type": "markdown",
      "source": [
        "######***Solution***"
      ],
      "metadata": {
        "id": "-IFg3VC69Eul"
      }
    },
    {
      "cell_type": "code",
      "source": [
        "def main():\n",
        "    print(True in {0})\n",
        "    print(True in {1})\n",
        "\n",
        "if __name__ == \"__main__\":\n",
        "    main()"
      ],
      "metadata": {
        "colab": {
          "base_uri": "https://localhost:8080/"
        },
        "outputId": "1a6aba15-ffe8-4f91-fab6-ab5241bd02dc",
        "id": "I06gOLA39Eul"
      },
      "execution_count": null,
      "outputs": [
        {
          "output_type": "stream",
          "name": "stdout",
          "text": [
            "False\n",
            "True\n"
          ]
        }
      ]
    },
    {
      "cell_type": "markdown",
      "source": [
        "###***Chapter 19 Packing and Unpacking***"
      ],
      "metadata": {
        "id": "_-RUjwHa199E"
      }
    },
    {
      "cell_type": "markdown",
      "source": [
        "####***Section Packing***"
      ],
      "metadata": {
        "id": "jYDhzZwu2GmI"
      }
    },
    {
      "cell_type": "markdown",
      "source": [
        "####***Section Unpacking***"
      ],
      "metadata": {
        "id": "CKtXhmqt2GZz"
      }
    },
    {
      "cell_type": "markdown",
      "source": [
        "####***Section Star Expression***"
      ],
      "metadata": {
        "id": "jNZBGohC3gu2"
      }
    },
    {
      "cell_type": "markdown",
      "source": [
        "#####***081***"
      ],
      "metadata": {
        "id": "SQ58Csrh2aKQ"
      }
    },
    {
      "cell_type": "markdown",
      "source": [
        "081 별 표현식\n",
        "기본적으로 데이터 언패킹은 좌변의 변수와 우변 데이터 개수가 같아야 합니다. 하지만 star expression을 사용하면 변수의 개수가 달라도 데이터 언패킹을 할 수 있습니다. 튜플에 저장된 데이터 중에서 앞에 있는 두 개의 데이터만 필요할 경우 나머지 데이터의 언패킹 코드를 작성할 필요가 없습니다.\n",
        "```\n",
        ">>> a, b, *c = (0, 1, 2, 3, 4, 5)\n",
        ">>> a\n",
        "0\n",
        ">>> b\n",
        "1\n",
        ">>> c\n",
        "[2, 3, 4, 5]\n",
        "```\n",
        "다음과 같이 10개의 값이 저장된 scores 리스트가 있을 때, start expression을 사용하여 좌측 8개의 값을 valid_score 변수에 바인딩하여라.\n",
        "```\n",
        "scores = [8.8, 8.9, 8.7, 9.2, 9.3, 9.7, 9.9, 9.5, 7.8, 9.4]\n",
        "```"
      ],
      "metadata": {
        "id": "Ptdinc7_2aPB"
      }
    },
    {
      "cell_type": "markdown",
      "source": [
        "######***Solution***"
      ],
      "metadata": {
        "id": "SFhu0bIB2rVS"
      }
    },
    {
      "cell_type": "code",
      "source": [
        "def main():\n",
        "    scores = [8.8, 8.9, 8.7, 9.2, 9.3, 9.7, 9.9, 9.5, 7.8, 9.4]\n",
        "    *valid_score, _, _= scores\n",
        "    print(valid_score, type(valid_score))\n",
        "\n",
        "if __name__ == \"__main__\":\n",
        "    main()"
      ],
      "metadata": {
        "colab": {
          "base_uri": "https://localhost:8080/"
        },
        "id": "tEMg_J1H10t4",
        "outputId": "bb8a0e15-fe19-4baf-d323-6ff3eb21f9df"
      },
      "execution_count": null,
      "outputs": [
        {
          "output_type": "stream",
          "name": "stdout",
          "text": [
            "[8.8, 8.9, 8.7, 9.2, 9.3, 9.7, 9.9, 9.5] <class 'list'>\n"
          ]
        }
      ]
    },
    {
      "cell_type": "markdown",
      "source": [
        "#####***082***"
      ],
      "metadata": {
        "id": "7soVeoTU3F_F"
      }
    },
    {
      "cell_type": "markdown",
      "source": [
        "082\n",
        "다음과 같이 10개의 값이 저장된 scores 리스트가 있을 때, start expression을 사용하여 우측 8개의 값을 valid_score 변수에 바인딩하여라.\n",
        "```\n",
        "scores = [8.8, 8.9, 8.7, 9.2, 9.3, 9.7, 9.9, 9.5, 7.8, 9.4]\n",
        "```"
      ],
      "metadata": {
        "id": "DWHq8HyJ3F_F"
      }
    },
    {
      "cell_type": "markdown",
      "source": [
        "######***Solution***"
      ],
      "metadata": {
        "id": "WW-s5Zdb3F_G"
      }
    },
    {
      "cell_type": "code",
      "source": [
        "def main():\n",
        "    scores = [8.8, 8.9, 8.7, 9.2, 9.3, 9.7, 9.9, 9.5, 7.8, 9.4]\n",
        "    _, _, *valid_score= scores\n",
        "    print(valid_score, type(valid_score))\n",
        "\n",
        "if __name__ == \"__main__\":\n",
        "    main()"
      ],
      "metadata": {
        "colab": {
          "base_uri": "https://localhost:8080/"
        },
        "outputId": "673b28ce-f2f0-4c03-a89f-1ecaea79bbc1",
        "id": "L8AKOaiB3F_G"
      },
      "execution_count": null,
      "outputs": [
        {
          "output_type": "stream",
          "name": "stdout",
          "text": [
            "[8.7, 9.2, 9.3, 9.7, 9.9, 9.5, 7.8, 9.4] <class 'list'>\n"
          ]
        }
      ]
    },
    {
      "cell_type": "markdown",
      "source": [
        "#####***083***"
      ],
      "metadata": {
        "id": "EeRSe7Hz3GDL"
      }
    },
    {
      "cell_type": "markdown",
      "source": [
        "083\n",
        "다음과 같이 10개의 값이 저장된 scores 리스트가 있을 때, start expression을 사용하여 가운데 있는 8개의 값을 valid_score 변수에 바인딩하여라.\n",
        "```\n",
        "scores = [8.8, 8.9, 8.7, 9.2, 9.3, 9.7, 9.9, 9.5, 7.8, 9.4]\n",
        "```"
      ],
      "metadata": {
        "id": "vr-CTT383GDL"
      }
    },
    {
      "cell_type": "markdown",
      "source": [
        "######***Solution***"
      ],
      "metadata": {
        "id": "oJqt3la13GDL"
      }
    },
    {
      "cell_type": "code",
      "source": [
        "def main():\n",
        "    scores = [8.8, 8.9, 8.7, 9.2, 9.3, 9.7, 9.9, 9.5, 7.8, 9.4]\n",
        "    _, *valid_score, _ = scores\n",
        "    print(valid_score, type(valid_score))\n",
        "\n",
        "if __name__ == \"__main__\":\n",
        "    main()"
      ],
      "metadata": {
        "colab": {
          "base_uri": "https://localhost:8080/"
        },
        "outputId": "bb8a0e15-fe19-4baf-d323-6ff3eb21f9df",
        "id": "-ZBkC1mG3GDL"
      },
      "execution_count": null,
      "outputs": [
        {
          "output_type": "stream",
          "name": "stdout",
          "text": [
            "[8.8, 8.9, 8.7, 9.2, 9.3, 9.7, 9.9, 9.5] <class 'list'>\n"
          ]
        }
      ]
    },
    {
      "cell_type": "markdown",
      "source": [
        "###***Chapter 24 Loop***"
      ],
      "metadata": {
        "id": "S7yuYtHdPB78"
      }
    },
    {
      "cell_type": "markdown",
      "source": [
        "####***Section Loop using Range***"
      ],
      "metadata": {
        "id": "qKJSQmFSKsQo"
      }
    },
    {
      "cell_type": "markdown",
      "source": [
        "#####***Exercise***"
      ],
      "metadata": {
        "id": "2ezEZrEj9aF1"
      }
    },
    {
      "cell_type": "markdown",
      "source": [
        "Compute the summation from 1 to 10 using range"
      ],
      "metadata": {
        "id": "-oU_JmEV9aF2"
      }
    },
    {
      "cell_type": "markdown",
      "source": [
        "######***Solution***"
      ],
      "metadata": {
        "id": "WZptSDzR9aF2"
      }
    },
    {
      "cell_type": "code",
      "source": [
        "def main():\n",
        "    sum = 0\n",
        "    for i in range(1,11):\n",
        "        sum += i\n",
        "    print(sum)\n",
        "\n",
        "if __name__ == \"__main__\":\n",
        "    main()"
      ],
      "metadata": {
        "colab": {
          "base_uri": "https://localhost:8080/"
        },
        "outputId": "2e4d45a2-3a85-467f-fc8a-f2d1f630f9ee",
        "id": "SJXicyhz9aF2"
      },
      "execution_count": null,
      "outputs": [
        {
          "output_type": "stream",
          "name": "stdout",
          "text": [
            "[[1, 2, 3], [4, 5, 6], [7, 8, 9]]\n",
            "[[1, 2, 3, 4], [5, 6, 7, 8], [9]]\n"
          ]
        }
      ]
    },
    {
      "cell_type": "markdown",
      "source": [
        "#####***Exercise***"
      ],
      "metadata": {
        "id": "u0j1n4n4ysAT"
      }
    },
    {
      "cell_type": "markdown",
      "source": [
        "Make the below pyramid of zeros:\n",
        "\n",
        "<img src=\"https://github.com/SungchulLee/img/blob/main/Pyramid_of_Zeros.png?raw=true\">"
      ],
      "metadata": {
        "id": "fybEQ9JRysAT"
      }
    },
    {
      "cell_type": "markdown",
      "source": [
        "######***Solution***"
      ],
      "metadata": {
        "id": "vwPalT_3ysAU"
      }
    },
    {
      "cell_type": "code",
      "source": [
        "def print_zeros(n_blanks_before_zeros):\n",
        "    n_blanks_after_zeros = n_blanks_before_zeros\n",
        "    n_zeros = 13 - n_blanks_before_zeros - n_blanks_after_zeros\n",
        "    msg = ' ' * n_blanks_before_zeros + '0' * n_zeros\n",
        "    print(msg)\n",
        "    \n",
        "    \n",
        "def main():\n",
        "    for n_blanks_before_zeros in range(6,-1,-1):\n",
        "        print_zeros(n_blanks_before_zeros)\n",
        "        \n",
        "        \n",
        "if __name__ == \"__main__\":\n",
        "    main()"
      ],
      "metadata": {
        "colab": {
          "base_uri": "https://localhost:8080/"
        },
        "outputId": "18be20d7-ca2c-4b49-eff5-03b81720c97d",
        "id": "412_vV3lysAU"
      },
      "execution_count": null,
      "outputs": [
        {
          "output_type": "stream",
          "name": "stdout",
          "text": [
            "      0\n",
            "     000\n",
            "    00000\n",
            "   0000000\n",
            "  000000000\n",
            " 00000000000\n",
            "0000000000000\n"
          ]
        }
      ]
    },
    {
      "cell_type": "markdown",
      "source": [
        "#####***Problem 12***"
      ],
      "metadata": {
        "id": "pX4YAsuaNUO0"
      }
    },
    {
      "cell_type": "markdown",
      "source": [
        "Problem 12: Write a function group(list, size) that take a list and splits into smaller lists of given size.\n",
        "```\n",
        ">>> group([1, 2, 3, 4, 5, 6, 7, 8, 9], 3)\n",
        "[[1, 2, 3], [4, 5, 6], [7, 8, 9]]\n",
        ">>> group([1, 2, 3, 4, 5, 6, 7, 8, 9], 4)\n",
        "[[1, 2, 3, 4], [5, 6, 7, 8], [9]]\n",
        "```"
      ],
      "metadata": {
        "id": "-_SRtLjqNUO1"
      }
    },
    {
      "cell_type": "markdown",
      "source": [
        "######***Solution***"
      ],
      "metadata": {
        "id": "irI8ig-vNUO1"
      }
    },
    {
      "cell_type": "code",
      "source": [
        "def group(lst, group_size):\n",
        "    tmp = []\n",
        "    for i in range(0,len(lst),group_size):\n",
        "        tmp.append(lst[i:i+group_size])\n",
        "    return tmp\n",
        "\n",
        "def main():\n",
        "    print(group([1, 2, 3, 4, 5, 6, 7, 8, 9], 3)) \n",
        "    print(group([1, 2, 3, 4, 5, 6, 7, 8, 9], 4)) \n",
        "\n",
        "if __name__ == \"__main__\":\n",
        "    main()"
      ],
      "metadata": {
        "colab": {
          "base_uri": "https://localhost:8080/"
        },
        "outputId": "2e4d45a2-3a85-467f-fc8a-f2d1f630f9ee",
        "id": "8UFTKSTdNUO1"
      },
      "execution_count": null,
      "outputs": [
        {
          "output_type": "stream",
          "name": "stdout",
          "text": [
            "[[1, 2, 3], [4, 5, 6], [7, 8, 9]]\n",
            "[[1, 2, 3, 4], [5, 6, 7, 8], [9]]\n"
          ]
        }
      ]
    },
    {
      "cell_type": "markdown",
      "source": [
        "####***Section Loop over List***"
      ],
      "metadata": {
        "id": "ZcnWtcpVNMnj"
      }
    },
    {
      "cell_type": "markdown",
      "source": [
        "#####***Problem 2***"
      ],
      "metadata": {
        "id": "1AQag-YHK5_E"
      }
    },
    {
      "cell_type": "markdown",
      "source": [
        "Problem 2: Python has a built-in function sum to find sum of all elements of a list. Provide an implementation for sum.\n",
        "```\n",
        ">>> sum([1, 2, 3])\n",
        "6\n",
        "```"
      ],
      "metadata": {
        "id": "5zHgnVb1K5_E"
      }
    },
    {
      "cell_type": "markdown",
      "source": [
        "######***Solution***"
      ],
      "metadata": {
        "id": "RyTgCy4PK5_F"
      }
    },
    {
      "cell_type": "code",
      "source": [
        "def main():\n",
        "    def sum(lst):\n",
        "        tmp = 0\n",
        "        for i in lst:\n",
        "            tmp += i\n",
        "        return tmp\n",
        "\n",
        "    print(sum([1, 2, 3]))\n",
        "\n",
        "if __name__ == \"__main__\":\n",
        "    main()"
      ],
      "metadata": {
        "colab": {
          "base_uri": "https://localhost:8080/"
        },
        "outputId": "9d126d92-2aa7-4c57-84af-8ef3538bd859",
        "id": "mOydyYSYK5_F"
      },
      "execution_count": null,
      "outputs": [
        {
          "output_type": "stream",
          "name": "stdout",
          "text": [
            "6\n"
          ]
        }
      ]
    },
    {
      "cell_type": "markdown",
      "source": [
        "#####***Problem 3***"
      ],
      "metadata": {
        "id": "nj4RNXa1LLec"
      }
    },
    {
      "cell_type": "markdown",
      "source": [
        "Problem 3: What happens when the above sum function is called with a list of strings? Can you make your sum function work for a list of strings as well.\n",
        "```\n",
        ">>> sum([\"hello\", \"world\"])\n",
        "\"helloworld\"\n",
        ">>> sum([\"aa\", \"bb\", \"cc\"])\n",
        "\"aabbcc\"\n",
        "```"
      ],
      "metadata": {
        "id": "hq3VWi_ZLLed"
      }
    },
    {
      "cell_type": "markdown",
      "source": [
        "######***Solution***"
      ],
      "metadata": {
        "id": "bEa1TzrHLLed"
      }
    },
    {
      "cell_type": "code",
      "source": [
        "def main():\n",
        "    def sum(lst):\n",
        "        if isinstance(lst[0], int):\n",
        "            tmp = 0\n",
        "        elif isinstance(lst[0], float):\n",
        "            tmp = 0.0\n",
        "        else:\n",
        "            tmp = \"\"\n",
        "        for i in lst:\n",
        "            tmp += i\n",
        "        return tmp\n",
        "\n",
        "    print(sum([1, 2, 3]))\n",
        "    print(sum([\"hello\", \"world\"]))\n",
        "    print(sum([\"aa\", \"bb\", \"cc\"]))\n",
        "\n",
        "if __name__ == \"__main__\":\n",
        "    main()"
      ],
      "metadata": {
        "colab": {
          "base_uri": "https://localhost:8080/"
        },
        "outputId": "57c9c01f-8f43-488c-b25f-9ff2851503da",
        "id": "g9xaVznILLed"
      },
      "execution_count": null,
      "outputs": [
        {
          "output_type": "stream",
          "name": "stdout",
          "text": [
            "6\n",
            "helloworld\n",
            "aabbcc\n"
          ]
        }
      ]
    },
    {
      "cell_type": "markdown",
      "source": [
        "#####***Problem 4***"
      ],
      "metadata": {
        "id": "Bl6Fg2cVLWmv"
      }
    },
    {
      "cell_type": "markdown",
      "source": [
        "Problem 4: Implement a function product, to compute product of a list of numbers.\n",
        "```\n",
        ">>> product([1, 2, 3])\n",
        "6\n",
        "```"
      ],
      "metadata": {
        "id": "owQ-JTMELWmv"
      }
    },
    {
      "cell_type": "markdown",
      "source": [
        "######***Solution***"
      ],
      "metadata": {
        "id": "ry48qj04LWmv"
      }
    },
    {
      "cell_type": "code",
      "source": [
        "def main():\n",
        "    def product(lst):\n",
        "        tmp = 1\n",
        "        for i in lst:\n",
        "            tmp *= i\n",
        "        return tmp\n",
        "\n",
        "    print(product([1, 2, 3]))\n",
        "\n",
        "if __name__ == \"__main__\":\n",
        "    main()"
      ],
      "metadata": {
        "colab": {
          "base_uri": "https://localhost:8080/"
        },
        "outputId": "62b4116f-f1b6-4fce-f4d6-9b5ce530585f",
        "id": "0NnRN5_MLWmw"
      },
      "execution_count": null,
      "outputs": [
        {
          "output_type": "stream",
          "name": "stdout",
          "text": [
            "6\n"
          ]
        }
      ]
    },
    {
      "cell_type": "markdown",
      "source": [
        "#####***Problem 5***"
      ],
      "metadata": {
        "id": "KDh6NQiZLgKR"
      }
    },
    {
      "cell_type": "markdown",
      "source": [
        "Problem 5: Write a function factorial to compute factorial of a number. Can you use the product function defined in the previous example to compute factorial?\n",
        "```\n",
        ">>> factorial(4)\n",
        "24\n",
        "```"
      ],
      "metadata": {
        "id": "brNNnYkvLgKR"
      }
    },
    {
      "cell_type": "markdown",
      "source": [
        "######***Solution***"
      ],
      "metadata": {
        "id": "_ay5oLDbLgKR"
      }
    },
    {
      "cell_type": "code",
      "source": [
        "def main():\n",
        "    def product(lst):\n",
        "        tmp = 1\n",
        "        for i in lst:\n",
        "            tmp *= i\n",
        "        return tmp\n",
        "\n",
        "    def factorial(n):\n",
        "        lst = list(range(1,n+1))\n",
        "        return product(lst)\n",
        "\n",
        "    print(factorial(4))\n",
        "\n",
        "if __name__ == \"__main__\":\n",
        "    main()"
      ],
      "metadata": {
        "colab": {
          "base_uri": "https://localhost:8080/"
        },
        "outputId": "c551ab81-e06f-426c-e8da-031e56b9d581",
        "id": "5DoWabTqLgKR"
      },
      "execution_count": null,
      "outputs": [
        {
          "output_type": "stream",
          "name": "stdout",
          "text": [
            "24\n"
          ]
        }
      ]
    },
    {
      "cell_type": "markdown",
      "source": [
        "#####***Problem 7***"
      ],
      "metadata": {
        "id": "vJ2Sg6msMKTS"
      }
    },
    {
      "cell_type": "markdown",
      "source": [
        "Problem 7: Python has built-in functions min and max to compute minimum and maximum of a given list. Provide an implementation for these functions. What happens when you call your min and max functions with a list of strings?"
      ],
      "metadata": {
        "id": "uJevk1X4MKTT"
      }
    },
    {
      "cell_type": "markdown",
      "source": [
        "######***Solution***"
      ],
      "metadata": {
        "id": "zpvRHCleMKTT"
      }
    },
    {
      "cell_type": "code",
      "source": [
        "def main():\n",
        "    def min(lst):\n",
        "        m = lst[0]\n",
        "        for i in lst[1:]:\n",
        "            if i < m:\n",
        "                m = i\n",
        "        return m\n",
        "\n",
        "    def max(lst):\n",
        "        M = lst[0]\n",
        "        for i in lst[1:]:\n",
        "            if i > M:\n",
        "                M = i\n",
        "        return M\n",
        "\n",
        "    print(min([5, 1, 7, -3, 4]))\n",
        "    print(max([5, 1, 7, -3, 4]))\n",
        "    print(min([\"rmsprop\",\"adam\",\"nadam\"]))\n",
        "    print(max([\"rmsprop\",\"adam\",\"nadam\"]))\n",
        "\n",
        "if __name__ == \"__main__\":\n",
        "    main()"
      ],
      "metadata": {
        "colab": {
          "base_uri": "https://localhost:8080/"
        },
        "outputId": "a9af6955-6db1-4312-8685-1aaa294229b9",
        "id": "R6nwdBWDMKTT"
      },
      "execution_count": null,
      "outputs": [
        {
          "output_type": "stream",
          "name": "stdout",
          "text": [
            "-3\n",
            "7\n",
            "adam\n",
            "rmsprop\n"
          ]
        }
      ]
    },
    {
      "cell_type": "markdown",
      "source": [
        "#####***Problem 8***"
      ],
      "metadata": {
        "id": "QX_LlRf3MXNT"
      }
    },
    {
      "cell_type": "markdown",
      "source": [
        "Problem 8: Cumulative sum of a list [a, b, c, ...] is defined as [a, a+b, a+b+c, ...]. Write a function cumulative_sum to compute cumulative sum of a list. Does your implementation work for a list of strings?\n",
        "```\n",
        ">>> cumulative_sum([1, 2, 3, 4])\n",
        "[1, 3, 6, 10]\n",
        ">>> cumulative_sum([4, 3, 2, 1])\n",
        "[4, 7, 9, 10]\n",
        "```"
      ],
      "metadata": {
        "id": "fZbExDUEMXNT"
      }
    },
    {
      "cell_type": "markdown",
      "source": [
        "######***Solution***"
      ],
      "metadata": {
        "id": "gbnp_0qpMXNT"
      }
    },
    {
      "cell_type": "code",
      "source": [
        "def cumulative_sum(lst):\n",
        "    if len(lst) == 0:\n",
        "        return lst\n",
        "    tmp = [lst[0]]\n",
        "    for num in lst[1:]:\n",
        "        tmp.append(tmp[-1] + num)\n",
        "    return tmp\n",
        "\n",
        "def main():\n",
        "    print(cumulative_sum([1, 2, 3, 4]))\n",
        "    print(cumulative_sum([4, 3, 2, 1])) \n",
        "\n",
        "if __name__ == \"__main__\":\n",
        "    main()"
      ],
      "metadata": {
        "colab": {
          "base_uri": "https://localhost:8080/"
        },
        "outputId": "4fa4753f-aefb-4454-fbb2-1202b468e484",
        "id": "AYziXko1MXNU"
      },
      "execution_count": null,
      "outputs": [
        {
          "output_type": "stream",
          "name": "stdout",
          "text": [
            "[1, 3, 6, 10]\n",
            "[4, 7, 9, 10]\n"
          ]
        }
      ]
    },
    {
      "cell_type": "markdown",
      "source": [
        "#####***Problem 9***"
      ],
      "metadata": {
        "id": "9-FWcPrbMvWn"
      }
    },
    {
      "cell_type": "markdown",
      "source": [
        "Problem 9: Write a function cumulative_product to compute cumulative product of a list of numbers.\n",
        "```\n",
        ">>> cumulative_product([1, 2, 3, 4])\n",
        "[1, 2, 6, 24]\n",
        ">>> cumulative_product([4, 3, 2, 1])\n",
        "[4, 12, 24, 24]\n",
        "```"
      ],
      "metadata": {
        "id": "pI8ilvT5MvWo"
      }
    },
    {
      "cell_type": "markdown",
      "source": [
        "######***Solution***"
      ],
      "metadata": {
        "id": "konUz6JUMvWo"
      }
    },
    {
      "cell_type": "code",
      "source": [
        "def cumulative_product(lst):\n",
        "    if len(lst) == 0:\n",
        "        return lst\n",
        "    tmp = [lst[0]]\n",
        "    for num in lst[1:]:\n",
        "        tmp.append(tmp[-1] * num)\n",
        "    return tmp\n",
        "\n",
        "def main():\n",
        "    print(cumulative_product([1, 2, 3, 4]))\n",
        "    print(cumulative_product([4, 3, 2, 1])) \n",
        "\n",
        "if __name__ == \"__main__\":\n",
        "    main()"
      ],
      "metadata": {
        "colab": {
          "base_uri": "https://localhost:8080/"
        },
        "outputId": "1b995a9d-7534-4ab4-ae7b-ae0c6eb4bc12",
        "id": "Mxg_HXxBMvWo"
      },
      "execution_count": null,
      "outputs": [
        {
          "output_type": "stream",
          "name": "stdout",
          "text": [
            "[1, 2, 6, 24]\n",
            "[4, 12, 24, 24]\n"
          ]
        }
      ]
    },
    {
      "cell_type": "markdown",
      "source": [
        "#####***Problem 10***"
      ],
      "metadata": {
        "id": "CZP6iAXxM2tV"
      }
    },
    {
      "cell_type": "markdown",
      "source": [
        "Problem 10: Write a function unique to find all the unique elements of a list.\n",
        "```\n",
        ">>> unique([1, 2, 1, 3, 2, 5])\n",
        "[1, 2, 3, 5]\n",
        "```"
      ],
      "metadata": {
        "id": "Z5Xtc4bmM2tW"
      }
    },
    {
      "cell_type": "markdown",
      "source": [
        "######***Solution***"
      ],
      "metadata": {
        "id": "G6sTJArCM2tW"
      }
    },
    {
      "cell_type": "code",
      "source": [
        "def unique(lst):\n",
        "    out = []\n",
        "    for i in lst:\n",
        "        if i not in out:\n",
        "            out.append(i)\n",
        "    return out\n",
        "\n",
        "def main():\n",
        "    print(unique([1, 2, 1, 3, 2, 5])) \n",
        "\n",
        "if __name__ == \"__main__\":\n",
        "    main()"
      ],
      "metadata": {
        "colab": {
          "base_uri": "https://localhost:8080/"
        },
        "outputId": "6d6f84a3-7754-4f97-e6a5-91798e893108",
        "id": "ThToCVMOM2tW"
      },
      "execution_count": null,
      "outputs": [
        {
          "output_type": "stream",
          "name": "stdout",
          "text": [
            "[1, 2, 3, 5]\n"
          ]
        }
      ]
    },
    {
      "cell_type": "markdown",
      "source": [
        "#####***Problem 11***"
      ],
      "metadata": {
        "id": "UR60oDrpM_fq"
      }
    },
    {
      "cell_type": "markdown",
      "source": [
        "Problem 11: Write a function dups to find all duplicates in the list.\n",
        "```\n",
        ">>> dups([1, 2, 1, 3, 2, 5])\n",
        "[1, 2]\n",
        "```"
      ],
      "metadata": {
        "id": "GTYO5YSeM_fr"
      }
    },
    {
      "cell_type": "markdown",
      "source": [
        "######***Solution***"
      ],
      "metadata": {
        "id": "R_2WdGXBM_fr"
      }
    },
    {
      "cell_type": "code",
      "source": [
        "def dups(lst):\n",
        "    first_time_list = []\n",
        "    second_and_more_list = []\n",
        "    for i in lst:\n",
        "        if i not in first_time_list:\n",
        "            first_time_list.append(i)\n",
        "        elif i not in second_and_more_list:\n",
        "            second_and_more_list.append(i) \n",
        "    return second_and_more_list\n",
        "\n",
        "def main():\n",
        "    print(dups([1, 2, 1, 3, 2, 5])) \n",
        "\n",
        "if __name__ == \"__main__\":\n",
        "    main()"
      ],
      "metadata": {
        "colab": {
          "base_uri": "https://localhost:8080/"
        },
        "outputId": "8fd5366e-bf6a-43f5-c553-edf2623487d6",
        "id": "WefyTd0RM_fr"
      },
      "execution_count": null,
      "outputs": [
        {
          "output_type": "stream",
          "name": "stdout",
          "text": [
            "[1, 2]\n"
          ]
        }
      ]
    },
    {
      "cell_type": "markdown",
      "source": [
        "#####***Problem 14***"
      ],
      "metadata": {
        "id": "74t2cLd-OJYN"
      }
    },
    {
      "cell_type": "markdown",
      "source": [
        "Problem 14: Improve the unique function written in previous problems to take an optional key function as argument and use the return value of the key function to check for uniqueness.\n",
        "```\n",
        ">>> unique([\"python\", \"java\", \"Python\", \"Java\"], key=lambda s: s.lower())\n",
        "[\"python\", \"java\"]\n",
        "```"
      ],
      "metadata": {
        "id": "3osVdSGZOJYO"
      }
    },
    {
      "cell_type": "markdown",
      "source": [
        "######***Solution***"
      ],
      "metadata": {
        "id": "7ygq-ysCOJYO"
      }
    },
    {
      "cell_type": "code",
      "source": [
        "def unique_previous(lst):\n",
        "    out = []\n",
        "    for i in lst:\n",
        "        if i not in out:\n",
        "            out.append(i)\n",
        "    return out\n",
        "    \n",
        "def unique(lst, key=lambda s: s):\n",
        "    return unique_previous([key(i) for i in lst])\n",
        "\n",
        "def main():\n",
        "    print(unique([\"python\", \"java\", \"Python\", \"Java\"], key=lambda s: s.lower())) \n",
        "\n",
        "if __name__ == \"__main__\":\n",
        "    main()"
      ],
      "metadata": {
        "colab": {
          "base_uri": "https://localhost:8080/"
        },
        "outputId": "6aa9ca1f-d3f0-44f9-8dcb-5cff11bdccef",
        "id": "xcVahB-NOJYO"
      },
      "execution_count": null,
      "outputs": [
        {
          "output_type": "stream",
          "name": "stdout",
          "text": [
            "['python', 'java']\n"
          ]
        }
      ]
    },
    {
      "cell_type": "code",
      "source": [
        "def unique(lst, key=lambda s: s):\n",
        "    return list(set([key(i) for i in lst]))\n",
        "\n",
        "def main():\n",
        "    print(unique([\"python\", \"java\", \"Python\", \"Java\"], key=lambda s: s.lower())) \n",
        "\n",
        "if __name__ == \"__main__\":\n",
        "    main()"
      ],
      "metadata": {
        "colab": {
          "base_uri": "https://localhost:8080/"
        },
        "outputId": "c415d48a-5374-4667-bde5-324befa8a904",
        "id": "9cQ78HsBOJYP"
      },
      "execution_count": null,
      "outputs": [
        {
          "output_type": "stream",
          "name": "stdout",
          "text": [
            "['python', 'java']\n"
          ]
        }
      ]
    },
    {
      "cell_type": "markdown",
      "source": [
        "####***Section 3 Break and Continue***"
      ],
      "metadata": {
        "id": "3m9OSPH5BlEA"
      }
    },
    {
      "cell_type": "markdown",
      "source": [
        "#####***Exercise***"
      ],
      "metadata": {
        "id": "Wl2AW9UnBo35"
      }
    },
    {
      "cell_type": "markdown",
      "source": [
        "What is the output of the below code?\n",
        "```\n",
        "def main():\n",
        "    for i in range(10):\n",
        "        print(i)\n",
        "        if i == 4:\n",
        "            break\n",
        "        if i == 2:\n",
        "            continue\n",
        "        print(\"Hi\") # ignored\n",
        "\n",
        "if __name__ == \"__main__\":\n",
        "    main()\n",
        "```"
      ],
      "metadata": {
        "id": "Qow4POb8Bo36"
      }
    },
    {
      "cell_type": "markdown",
      "source": [
        "######***Solution***"
      ],
      "metadata": {
        "id": "kKSs4PddBo36"
      }
    },
    {
      "cell_type": "code",
      "source": [
        "def main():\n",
        "    for i in range(10):\n",
        "        print(i)\n",
        "        if i == 4:\n",
        "            break\n",
        "        if i == 2:\n",
        "            continue\n",
        "        print(\"Hi\") # ignored\n",
        "\n",
        "if __name__ == \"__main__\":\n",
        "    main()"
      ],
      "metadata": {
        "colab": {
          "base_uri": "https://localhost:8080/"
        },
        "outputId": "8fd5366e-bf6a-43f5-c553-edf2623487d6",
        "id": "PEKnLshHBo36"
      },
      "execution_count": null,
      "outputs": [
        {
          "output_type": "stream",
          "name": "stdout",
          "text": [
            "[1, 2]\n"
          ]
        }
      ]
    },
    {
      "cell_type": "markdown",
      "source": [
        "###***Chapter 25 Conditional Statements***"
      ],
      "metadata": {
        "id": "fx4avoVHTiuX"
      }
    },
    {
      "cell_type": "markdown",
      "source": [
        "#####***Problem 9***"
      ],
      "metadata": {
        "id": "KY2bXGxlJz73"
      }
    },
    {
      "cell_type": "markdown",
      "source": [
        "Problem 9: What will be output of the following program?\n",
        "```\n",
        "print(2 < 3 and 3 > 1)\n",
        "print(2 < 3 or 3 > 1)\n",
        "print(2 < 3 or not 3 > 1)\n",
        "print(2 < 3 and not 3 > 1)\n",
        "```"
      ],
      "metadata": {
        "id": "tkOr3_3lJz_n"
      }
    },
    {
      "cell_type": "markdown",
      "source": [
        "######***Solution***"
      ],
      "metadata": {
        "id": "Xu9l2pfgJ0DD"
      }
    },
    {
      "cell_type": "code",
      "source": [
        "def main():\n",
        "    print(2 < 3 and 3 > 1) # True and True ---> True\n",
        "    print(2 < 3 or 3 > 1) # True or ... ---> True\n",
        "    print(2 < 3 or not 3 > 1) # True or ... ---> True\n",
        "    print(2 < 3 and not 3 > 1) # True and not True ---> False\n",
        "\n",
        "if __name__ == \"__main__\":\n",
        "    main()"
      ],
      "metadata": {
        "colab": {
          "base_uri": "https://localhost:8080/"
        },
        "id": "lbe_fTGuJ47A",
        "outputId": "607e7127-9df2-4bf9-98d2-23fd65d72c09"
      },
      "execution_count": null,
      "outputs": [
        {
          "output_type": "stream",
          "name": "stdout",
          "text": [
            "True\n",
            "True\n",
            "True\n",
            "False\n"
          ]
        }
      ]
    },
    {
      "cell_type": "markdown",
      "source": [
        "#####***Problem 11***"
      ],
      "metadata": {
        "id": "Mi6DMIChJ0JS"
      }
    },
    {
      "cell_type": "markdown",
      "source": [
        "Problem 11: What happens when the following code is executed? Will it give any error? Explain the reasons.\n",
        "```\n",
        "x = 2\n",
        "if x == 2:\n",
        "    print(x)\n",
        "else:\n",
        "    print(y)\n",
        "```"
      ],
      "metadata": {
        "id": "mChUW5xyKtoD"
      }
    },
    {
      "cell_type": "markdown",
      "source": [
        "######***Solution***"
      ],
      "metadata": {
        "id": "8BLQI-8gKtrL"
      }
    },
    {
      "cell_type": "code",
      "source": [
        "def main():\n",
        "    x = 2\n",
        "    if x == 2:\n",
        "        print(x)\n",
        "    else:\n",
        "        # even if y is not in the name space\n",
        "        # it does not throw NameError\n",
        "        print(y)\n",
        "\n",
        "if __name__ == \"__main__\":\n",
        "    main()"
      ],
      "metadata": {
        "colab": {
          "base_uri": "https://localhost:8080/"
        },
        "id": "uM6MCxGjKyuZ",
        "outputId": "4d7d7a84-e19d-42cf-a02f-1d52decfc5a0"
      },
      "execution_count": null,
      "outputs": [
        {
          "output_type": "stream",
          "name": "stdout",
          "text": [
            "2\n"
          ]
        }
      ]
    },
    {
      "cell_type": "markdown",
      "source": [
        "#####***Problem 12***"
      ],
      "metadata": {
        "id": "IM3IJLmpKtuG"
      }
    },
    {
      "cell_type": "markdown",
      "source": [
        "Problem 12: What happens the following code is executed? Will it give any error? Explain the reasons.\n",
        "```\n",
        "x = 2\n",
        "if x == 2:\n",
        "    print(x)\n",
        "else:\n",
        "    x +\n",
        "```"
      ],
      "metadata": {
        "id": "6ooxOJDGKtxH"
      }
    },
    {
      "cell_type": "markdown",
      "source": [
        "######***Solution***"
      ],
      "metadata": {
        "id": "WHm9CYkbJ0Mb"
      }
    },
    {
      "cell_type": "code",
      "source": [
        "def main():\n",
        "    x = 2\n",
        "    if x == 2:\n",
        "        print(x)\n",
        "    else:\n",
        "        x + # <--- SyntaxError: invalid syntax\n",
        "\n",
        "if __name__ == \"__main__\":\n",
        "    main()"
      ],
      "metadata": {
        "colab": {
          "base_uri": "https://localhost:8080/",
          "height": 133
        },
        "id": "FSueo86YMeYc",
        "outputId": "48e2bd60-d172-47fe-8d7f-694e990573c1"
      },
      "execution_count": null,
      "outputs": [
        {
          "output_type": "error",
          "ename": "SyntaxError",
          "evalue": "ignored",
          "traceback": [
            "\u001b[0;36m  File \u001b[0;32m\"<ipython-input-20-d7da28c09a04>\"\u001b[0;36m, line \u001b[0;32m5\u001b[0m\n\u001b[0;31m    x +\u001b[0m\n\u001b[0m       ^\u001b[0m\n\u001b[0;31mSyntaxError\u001b[0m\u001b[0;31m:\u001b[0m invalid syntax\n"
          ]
        }
      ]
    },
    {
      "cell_type": "markdown",
      "source": [
        "###***Chapter Function***"
      ],
      "metadata": {
        "id": "bO8AqFSubzoC"
      }
    },
    {
      "cell_type": "markdown",
      "source": [
        "#####***Exercise***"
      ],
      "metadata": {
        "id": "8J6paum97avx"
      }
    },
    {
      "cell_type": "markdown",
      "source": [
        "Guess the output of the following:\n",
        "```\n",
        "def del_0th(lst):\n",
        "    if lst:\n",
        "        del lst[0]\n",
        "    return lst\n",
        "\n",
        "lst = [0,1,2,3,4,5]\n",
        "lst1 = del_0th(lst)\n",
        "print(lst)\n",
        "print(lst1)\n",
        "```"
      ],
      "metadata": {
        "id": "jVjafvft7avx"
      }
    },
    {
      "cell_type": "markdown",
      "source": [
        "######***Solution***"
      ],
      "metadata": {
        "id": "mGCA32aT7avx"
      }
    },
    {
      "cell_type": "code",
      "source": [
        "def del_0th(lst):\n",
        "    if lst:\n",
        "        del lst[0]\n",
        "    return lst\n",
        "\n",
        "def main():\n",
        "    lst = [0,1,2,3,4,5]\n",
        "    lst1 = del_0th(lst)\n",
        "    print(lst, id(lst))\n",
        "    print(lst1, id(lst1))\n",
        "\n",
        "if __name__ == \"__main__\":\n",
        "    main()"
      ],
      "metadata": {
        "colab": {
          "base_uri": "https://localhost:8080/"
        },
        "outputId": "a9f3d4c3-af5b-43d6-c67d-05536478b4b6",
        "id": "wnGiMsqa7avx"
      },
      "execution_count": null,
      "outputs": [
        {
          "output_type": "stream",
          "name": "stdout",
          "text": [
            "[1, 2, 3, 4, 5] 140105226360832\n",
            "[1, 2, 3, 4, 5] 140105226360832\n"
          ]
        }
      ]
    },
    {
      "cell_type": "markdown",
      "source": [
        "#####***Problem 2***"
      ],
      "metadata": {
        "id": "50istz2UxuOZ"
      }
    },
    {
      "cell_type": "markdown",
      "source": [
        "Problem 2: How many multiplications are performed when each of the following lines of code is executed?\n",
        "```\n",
        "def square(x):\n",
        "    return x * x\n",
        "\n",
        "print(square(5))\n",
        "print(square(2*5))\n",
        "```"
      ],
      "metadata": {
        "id": "A0UqzipbxuR0"
      }
    },
    {
      "cell_type": "markdown",
      "source": [
        "######***Solution***"
      ],
      "metadata": {
        "id": "ZwVOgkZyyDz_"
      }
    },
    {
      "cell_type": "code",
      "source": [
        "def square(x):\n",
        "    return x * x\n",
        "\n",
        "def main():\n",
        "    print(square(5)) # 1\n",
        "    print(square(2*5)) # 2\n",
        "\n",
        "if __name__ == \"__main__\":\n",
        "    main()"
      ],
      "metadata": {
        "id": "sekGd2J0yEMD"
      },
      "execution_count": null,
      "outputs": []
    },
    {
      "cell_type": "markdown",
      "source": [
        "#####***Problem 3***"
      ],
      "metadata": {
        "id": "wqaG4fv6ynD4"
      }
    },
    {
      "cell_type": "markdown",
      "source": [
        "Problem 3: What will be the output of the following program?\n",
        "```\n",
        "x = 1\n",
        "def f():\n",
        "    return x\n",
        "print(x)\n",
        "print(f())\n",
        "```"
      ],
      "metadata": {
        "id": "V0IYCIF9ynHT"
      }
    },
    {
      "cell_type": "markdown",
      "source": [
        "######***Solution***"
      ],
      "metadata": {
        "id": "mAXXiRERynn0"
      }
    },
    {
      "cell_type": "code",
      "source": [
        "def main():\n",
        "    x = 1\n",
        "    \n",
        "    def f():\n",
        "        return x\n",
        "\n",
        "    print(x) # 1\n",
        "    print(f()) # 1\n",
        "\n",
        "if __name__ == \"__main__\":\n",
        "    main()"
      ],
      "metadata": {
        "colab": {
          "base_uri": "https://localhost:8080/"
        },
        "id": "QF1usbAhyn14",
        "outputId": "f16c309f-e411-456b-ad10-7836a9031a9d"
      },
      "execution_count": null,
      "outputs": [
        {
          "output_type": "stream",
          "name": "stdout",
          "text": [
            "1\n",
            "1\n"
          ]
        }
      ]
    },
    {
      "cell_type": "markdown",
      "source": [
        "#####***Problem 4***"
      ],
      "metadata": {
        "id": "XAkNzfgG-aN2"
      }
    },
    {
      "cell_type": "markdown",
      "source": [
        "Problem 4: What will be the output of the following program?\n",
        "```\n",
        "x = 1\n",
        "def f():\n",
        "    x = 2\n",
        "    return x\n",
        "print(x)\n",
        "print(f())\n",
        "print(x)\n",
        "```"
      ],
      "metadata": {
        "id": "8QWqnkVO-aR5"
      }
    },
    {
      "cell_type": "markdown",
      "source": [
        "######***Solution***"
      ],
      "metadata": {
        "id": "9o-vRyLL-adx"
      }
    },
    {
      "cell_type": "code",
      "source": [
        "def main():\n",
        "    x = 1\n",
        "\n",
        "    def f():\n",
        "        x = 2\n",
        "        return x\n",
        "        \n",
        "    print(x) # 1\n",
        "    print(f()) # 2\n",
        "    print(x) # 1\n",
        "\n",
        "if __name__ == \"__main__\":\n",
        "    main()"
      ],
      "metadata": {
        "colab": {
          "base_uri": "https://localhost:8080/"
        },
        "id": "MPaOE384-ap-",
        "outputId": "e3fadc3a-ef93-43ee-c110-416cb6d6b6ad"
      },
      "execution_count": null,
      "outputs": [
        {
          "output_type": "stream",
          "name": "stdout",
          "text": [
            "1\n",
            "2\n",
            "1\n"
          ]
        }
      ]
    },
    {
      "cell_type": "markdown",
      "source": [
        "#####***Problem 5***"
      ],
      "metadata": {
        "id": "dSjZONv5_T04"
      }
    },
    {
      "cell_type": "markdown",
      "source": [
        "Problem 5: What will be the output of the following program?\n",
        "```\n",
        "x = 1\n",
        "def f():\n",
        "        y = x\n",
        "        x = 2\n",
        "        return x + y\n",
        "print(x)\n",
        "print(f())\n",
        "print(x)\n",
        "```"
      ],
      "metadata": {
        "id": "XmPoegwa_mCe"
      }
    },
    {
      "cell_type": "markdown",
      "source": [
        "######***Solution***"
      ],
      "metadata": {
        "id": "Z9PCSVWU_X9w"
      }
    },
    {
      "cell_type": "code",
      "source": [
        "def main():\n",
        "    x = 1\n",
        "\n",
        "    def f():\n",
        "        y = x # <--- UnboundLocalError\n",
        "        x = 2 # x is a local variable\n",
        "        return x + y\n",
        "        \n",
        "    print(x) # 1\n",
        "    print(f()) # UnboundLocalError: local variable 'x' referenced before assignment\n",
        "    print(x)\n",
        "\n",
        "if __name__ == \"__main__\":\n",
        "    main()"
      ],
      "metadata": {
        "colab": {
          "base_uri": "https://localhost:8080/",
          "height": 365
        },
        "id": "U--x3k-8_nGR",
        "outputId": "47df2896-7622-44b9-856d-80fb88f95ca7"
      },
      "execution_count": null,
      "outputs": [
        {
          "output_type": "stream",
          "name": "stdout",
          "text": [
            "1\n"
          ]
        },
        {
          "output_type": "error",
          "ename": "UnboundLocalError",
          "evalue": "ignored",
          "traceback": [
            "\u001b[0;31m---------------------------------------------------------------------------\u001b[0m",
            "\u001b[0;31mUnboundLocalError\u001b[0m                         Traceback (most recent call last)",
            "\u001b[0;32m<ipython-input-1-08166a17fefb>\u001b[0m in \u001b[0;36m<module>\u001b[0;34m\u001b[0m\n\u001b[1;32m      5\u001b[0m     \u001b[0;32mreturn\u001b[0m \u001b[0mx\u001b[0m \u001b[0;34m+\u001b[0m \u001b[0my\u001b[0m\u001b[0;34m\u001b[0m\u001b[0;34m\u001b[0m\u001b[0m\n\u001b[1;32m      6\u001b[0m \u001b[0mprint\u001b[0m\u001b[0;34m(\u001b[0m\u001b[0mx\u001b[0m\u001b[0;34m)\u001b[0m \u001b[0;31m# 1\u001b[0m\u001b[0;34m\u001b[0m\u001b[0;34m\u001b[0m\u001b[0m\n\u001b[0;32m----> 7\u001b[0;31m \u001b[0mprint\u001b[0m\u001b[0;34m(\u001b[0m\u001b[0mf\u001b[0m\u001b[0;34m(\u001b[0m\u001b[0;34m)\u001b[0m\u001b[0;34m)\u001b[0m \u001b[0;31m# UnboundLocalError: local variable 'x' referenced before assignment\u001b[0m\u001b[0;34m\u001b[0m\u001b[0;34m\u001b[0m\u001b[0m\n\u001b[0m\u001b[1;32m      8\u001b[0m \u001b[0mprint\u001b[0m\u001b[0;34m(\u001b[0m\u001b[0mx\u001b[0m\u001b[0;34m)\u001b[0m\u001b[0;34m\u001b[0m\u001b[0;34m\u001b[0m\u001b[0m\n",
            "\u001b[0;32m<ipython-input-1-08166a17fefb>\u001b[0m in \u001b[0;36mf\u001b[0;34m()\u001b[0m\n\u001b[1;32m      1\u001b[0m \u001b[0mx\u001b[0m \u001b[0;34m=\u001b[0m \u001b[0;36m1\u001b[0m\u001b[0;34m\u001b[0m\u001b[0;34m\u001b[0m\u001b[0m\n\u001b[1;32m      2\u001b[0m \u001b[0;32mdef\u001b[0m \u001b[0mf\u001b[0m\u001b[0;34m(\u001b[0m\u001b[0;34m)\u001b[0m\u001b[0;34m:\u001b[0m\u001b[0;34m\u001b[0m\u001b[0;34m\u001b[0m\u001b[0m\n\u001b[0;32m----> 3\u001b[0;31m     \u001b[0my\u001b[0m \u001b[0;34m=\u001b[0m \u001b[0mx\u001b[0m \u001b[0;31m# <--- UnboundLocalError\u001b[0m\u001b[0;34m\u001b[0m\u001b[0;34m\u001b[0m\u001b[0m\n\u001b[0m\u001b[1;32m      4\u001b[0m     \u001b[0mx\u001b[0m \u001b[0;34m=\u001b[0m \u001b[0;36m2\u001b[0m \u001b[0;31m# x is a local variable\u001b[0m\u001b[0;34m\u001b[0m\u001b[0;34m\u001b[0m\u001b[0m\n\u001b[1;32m      5\u001b[0m     \u001b[0;32mreturn\u001b[0m \u001b[0mx\u001b[0m \u001b[0;34m+\u001b[0m \u001b[0my\u001b[0m\u001b[0;34m\u001b[0m\u001b[0;34m\u001b[0m\u001b[0m\n",
            "\u001b[0;31mUnboundLocalError\u001b[0m: local variable 'x' referenced before assignment"
          ]
        }
      ]
    },
    {
      "cell_type": "markdown",
      "source": [
        "#####***Problem 6***"
      ],
      "metadata": {
        "id": "-FayB85a_T-C"
      }
    },
    {
      "cell_type": "markdown",
      "source": [
        "Problem 6: What will be the output of the following program?\n",
        "```\n",
        "x = 2\n",
        "def f(a):\n",
        "    x = a * a\n",
        "    return x\n",
        "y = f(3)\n",
        "print(x, y)\n",
        "```"
      ],
      "metadata": {
        "id": "N-RBK9NUyucf"
      }
    },
    {
      "cell_type": "markdown",
      "source": [
        "######***Solution***"
      ],
      "metadata": {
        "id": "fWUOGQRg_YBT"
      }
    },
    {
      "cell_type": "code",
      "source": [
        "def main():\n",
        "    x = 2\n",
        "\n",
        "    def f(a):\n",
        "        x = a * a\n",
        "        return x\n",
        "        \n",
        "    y = f(3) # y = 9\n",
        "    print(x, y) # 2 9\n",
        "\n",
        "if __name__ == \"__main__\":\n",
        "    main()"
      ],
      "metadata": {
        "colab": {
          "base_uri": "https://localhost:8080/"
        },
        "id": "9yovf6QFy1U6",
        "outputId": "e1916048-1ab2-441d-c3f6-0cc680a6f185"
      },
      "execution_count": null,
      "outputs": [
        {
          "output_type": "stream",
          "name": "stdout",
          "text": [
            "2 9\n"
          ]
        }
      ]
    },
    {
      "cell_type": "markdown",
      "source": [
        "#####***Problem 7***"
      ],
      "metadata": {
        "id": "OOlULtij_UBB"
      }
    },
    {
      "cell_type": "markdown",
      "source": [
        "Problem 7: Write a function count_digits to find number of digits in the given number.\n",
        "```\n",
        ">>> count_digits(5)\n",
        "1\n",
        ">>> count_digits(12345)\n",
        "5\n",
        "```"
      ],
      "metadata": {
        "id": "tWqMnt94zP_n"
      }
    },
    {
      "cell_type": "markdown",
      "source": [
        "######***Solution***"
      ],
      "metadata": {
        "id": "bS3puCOd_YDv"
      }
    },
    {
      "cell_type": "code",
      "source": [
        "def count_digits(n):\n",
        "    return len(str(n))\n",
        "\n",
        "def main():\n",
        "    print(count_digits(5))\n",
        "    print(count_digits(12345))\n",
        "\n",
        "if __name__ == \"__main__\":\n",
        "    main()"
      ],
      "metadata": {
        "colab": {
          "base_uri": "https://localhost:8080/"
        },
        "id": "MsYqQAmMzZnu",
        "outputId": "7de39d7b-16ec-4dc0-cdda-6958912d3da4"
      },
      "execution_count": null,
      "outputs": [
        {
          "output_type": "stream",
          "name": "stdout",
          "text": [
            "1\n",
            "5\n"
          ]
        }
      ]
    },
    {
      "cell_type": "markdown",
      "source": [
        "#####***Problem 8***"
      ],
      "metadata": {
        "id": "weecF-g0_UEW"
      }
    },
    {
      "cell_type": "markdown",
      "source": [
        "Problem 8: Write a function istrcmp to compare two strings, ignoring the case.\n",
        "```\n",
        ">>> istrcmp('python', 'Python')\n",
        "True\n",
        ">>> istrcmp('LaTeX', 'Latex')\n",
        "True\n",
        ">>> istrcmp('a', 'b')\n",
        "False\n",
        "```"
      ],
      "metadata": {
        "id": "33StBjPgz2td"
      }
    },
    {
      "cell_type": "markdown",
      "source": [
        "######***Solution***"
      ],
      "metadata": {
        "id": "DVy5L1Ud_YGN"
      }
    },
    {
      "cell_type": "code",
      "source": [
        "def istrcmp(a, b):\n",
        "    a = a.lower()\n",
        "    b = b.lower()\n",
        "    return a == b\n",
        "\n",
        "def main():\n",
        "    print(istrcmp('python', 'Python'))\n",
        "    print(istrcmp('LaTeX', 'Latex'))\n",
        "    print(istrcmp('a', 'b'))\n",
        "\n",
        "if __name__ == \"__main__\":\n",
        "    main()"
      ],
      "metadata": {
        "colab": {
          "base_uri": "https://localhost:8080/"
        },
        "id": "tP5IzmzT0BI0",
        "outputId": "d5ce5fa3-8bed-4492-8273-cf07122a7d9f"
      },
      "execution_count": null,
      "outputs": [
        {
          "output_type": "stream",
          "name": "stdout",
          "text": [
            "True\n",
            "True\n",
            "False\n"
          ]
        }
      ]
    },
    {
      "cell_type": "markdown",
      "source": [
        "#####***205***"
      ],
      "metadata": {
        "id": "Q0TOVN8slgrK"
      }
    },
    {
      "cell_type": "markdown",
      "source": [
        "205\n",
        "아래의 에러가 발생하는 이유에 대해 설명하라.\n",
        "```\n",
        "hello()\n",
        "def hello():\n",
        "    print(\"Hi\")\n",
        "```"
      ],
      "metadata": {
        "id": "gca2gvFFlgug"
      }
    },
    {
      "cell_type": "markdown",
      "source": [
        "######***Solution***"
      ],
      "metadata": {
        "id": "WpqHf5xORzz5"
      }
    },
    {
      "cell_type": "code",
      "source": [
        "hello() # NameError: name 'hello' is not defined\n",
        "    \n",
        "def hello():\n",
        "    print(\"Hi\")"
      ],
      "metadata": {
        "colab": {
          "base_uri": "https://localhost:8080/"
        },
        "id": "zH-UyjgHu9iZ",
        "outputId": "e3515965-cd07-4ad2-f9a8-08dbbd634ba7"
      },
      "execution_count": null,
      "outputs": [
        {
          "output_type": "stream",
          "name": "stdout",
          "text": [
            "Hi\n"
          ]
        }
      ]
    },
    {
      "cell_type": "code",
      "source": [
        "def main():\n",
        "    hello() # UnboundLocalError: local variable 'hello' referenced before assignment\n",
        "    \n",
        "    def hello():\n",
        "        print(\"Hi\")\n",
        "\n",
        "if __name__ == \"__main__\":\n",
        "    main()"
      ],
      "metadata": {
        "colab": {
          "base_uri": "https://localhost:8080/",
          "height": 329
        },
        "id": "yvaCFeHelo-n",
        "outputId": "84a5bb3c-cbd6-4830-8b74-77c20e09fb5a"
      },
      "execution_count": null,
      "outputs": [
        {
          "output_type": "error",
          "ename": "UnboundLocalError",
          "evalue": "ignored",
          "traceback": [
            "\u001b[0;31m---------------------------------------------------------------------------\u001b[0m",
            "\u001b[0;31mUnboundLocalError\u001b[0m                         Traceback (most recent call last)",
            "\u001b[0;32m<ipython-input-10-f0ca23104fe6>\u001b[0m in \u001b[0;36m<module>\u001b[0;34m\u001b[0m\n\u001b[1;32m      6\u001b[0m \u001b[0;34m\u001b[0m\u001b[0m\n\u001b[1;32m      7\u001b[0m \u001b[0;32mif\u001b[0m \u001b[0m__name__\u001b[0m \u001b[0;34m==\u001b[0m \u001b[0;34m\"__main__\"\u001b[0m\u001b[0;34m:\u001b[0m\u001b[0;34m\u001b[0m\u001b[0;34m\u001b[0m\u001b[0m\n\u001b[0;32m----> 8\u001b[0;31m     \u001b[0mmain\u001b[0m\u001b[0;34m(\u001b[0m\u001b[0;34m)\u001b[0m\u001b[0;34m\u001b[0m\u001b[0;34m\u001b[0m\u001b[0m\n\u001b[0m",
            "\u001b[0;32m<ipython-input-10-f0ca23104fe6>\u001b[0m in \u001b[0;36mmain\u001b[0;34m()\u001b[0m\n\u001b[1;32m      1\u001b[0m \u001b[0;32mdef\u001b[0m \u001b[0mmain\u001b[0m\u001b[0;34m(\u001b[0m\u001b[0;34m)\u001b[0m\u001b[0;34m:\u001b[0m\u001b[0;34m\u001b[0m\u001b[0;34m\u001b[0m\u001b[0m\n\u001b[0;32m----> 2\u001b[0;31m     \u001b[0mhello\u001b[0m\u001b[0;34m(\u001b[0m\u001b[0;34m)\u001b[0m \u001b[0;31m# UnboundLocalError: local variable 'hello' referenced before assignment\u001b[0m\u001b[0;34m\u001b[0m\u001b[0;34m\u001b[0m\u001b[0m\n\u001b[0m\u001b[1;32m      3\u001b[0m \u001b[0;34m\u001b[0m\u001b[0m\n\u001b[1;32m      4\u001b[0m     \u001b[0;32mdef\u001b[0m \u001b[0mhello\u001b[0m\u001b[0;34m(\u001b[0m\u001b[0;34m)\u001b[0m\u001b[0;34m:\u001b[0m\u001b[0;34m\u001b[0m\u001b[0;34m\u001b[0m\u001b[0m\n\u001b[1;32m      5\u001b[0m         \u001b[0mprint\u001b[0m\u001b[0;34m(\u001b[0m\u001b[0;34m\"Hi\"\u001b[0m\u001b[0;34m)\u001b[0m\u001b[0;34m\u001b[0m\u001b[0;34m\u001b[0m\u001b[0m\n",
            "\u001b[0;31mUnboundLocalError\u001b[0m: local variable 'hello' referenced before assignment"
          ]
        }
      ]
    },
    {
      "cell_type": "markdown",
      "source": [
        "#####***227***"
      ],
      "metadata": {
        "id": "ciG3sYKt1RQq"
      }
    },
    {
      "cell_type": "markdown",
      "source": [
        "227\n",
        "문자열과 한줄에 출력될 글자 수를 입력을 받아 한 줄에 입력된 글자 수만큼 출력하는 print_mxn(string) 함수를 작성하라.\n",
        "```\n",
        "print_mxn(\"아이엠어보이유알어걸\", 3)\n",
        "```\n",
        "```\n",
        "아이엠\n",
        "어보이\n",
        "유알어\n",
        "걸\n",
        "```"
      ],
      "metadata": {
        "id": "auRHFJbp1RQr"
      }
    },
    {
      "cell_type": "markdown",
      "source": [
        "######***Solution***"
      ],
      "metadata": {
        "id": "Bi0PGIb41RQr"
      }
    },
    {
      "cell_type": "code",
      "source": [
        "def print_mxn(line, num):\n",
        "    chunk_num = int(len(line) / num)\n",
        "    for x in range(chunk_num + 1) :\n",
        "        print(line[x * num: x * num + num])\n",
        "\n",
        "def main():\n",
        "    print_mxn(\"아이엠어보이유알어걸\", 3)\n",
        "\n",
        "if __name__ == \"__main__\":\n",
        "    main()"
      ],
      "metadata": {
        "colab": {
          "base_uri": "https://localhost:8080/"
        },
        "outputId": "c98c823e-7037-4716-c10f-8b06c72e55db",
        "id": "SkdfXjuH1RQr"
      },
      "execution_count": null,
      "outputs": [
        {
          "output_type": "stream",
          "name": "stdout",
          "text": [
            "아이엠\n",
            "어보이\n",
            "유알어\n",
            "걸\n"
          ]
        }
      ]
    },
    {
      "cell_type": "markdown",
      "source": [
        "#####***235***"
      ],
      "metadata": {
        "id": "neOFfMTI9qXo"
      }
    },
    {
      "cell_type": "markdown",
      "source": [
        "235\n",
        "콤마가 포함된 문자열 숫자를 입력받아 정수로 변환하는 convert_int 함수를 정의하라.\n",
        "```\n",
        "convert_int(\"1,234,567\")\n",
        "1234567\n",
        "```"
      ],
      "metadata": {
        "id": "B7XO77j09qcA"
      }
    },
    {
      "cell_type": "markdown",
      "source": [
        "######***Solution***"
      ],
      "metadata": {
        "id": "BTR_xatI90_d"
      }
    },
    {
      "cell_type": "code",
      "source": [
        "def convert_int (string) :\n",
        "    return int(string.replace(',', ''))\n",
        "\n",
        "def main():\n",
        "    print(convert_int(\"1,234,567\"))\n",
        "\n",
        "if __name__ == \"__main__\":\n",
        "    main()"
      ],
      "metadata": {
        "colab": {
          "base_uri": "https://localhost:8080/"
        },
        "id": "fW91la3r9rOU",
        "outputId": "36363ad6-b329-4877-c35f-516df12b4084"
      },
      "execution_count": null,
      "outputs": [
        {
          "output_type": "stream",
          "name": "stdout",
          "text": [
            "1234567\n"
          ]
        }
      ]
    },
    {
      "cell_type": "markdown",
      "source": [
        "###***Chapter 26 Iterator and Generator***"
      ],
      "metadata": {
        "id": "7PJfe1I_Ahnv"
      }
    },
    {
      "cell_type": "markdown",
      "source": [
        "#####***Exercise***"
      ],
      "metadata": {
        "id": "d02emLLExalK"
      }
    },
    {
      "cell_type": "markdown",
      "source": [
        "Guess the output of the following:\n",
        "```\n",
        "lst = [0,1,2,3,4,5]\n",
        "target = 3\n",
        "for i in lst:\n",
        "    if i == target:\n",
        "        del lst[i]\n",
        "    print(i)\n",
        "```"
      ],
      "metadata": {
        "id": "zPRFZPX2xalK"
      }
    },
    {
      "cell_type": "markdown",
      "source": [
        "######***Solution***"
      ],
      "metadata": {
        "id": "NDVz1afHxalK"
      }
    },
    {
      "cell_type": "code",
      "source": [
        "def main():\n",
        "    lst = [0,1,2,3,4,5]\n",
        "    target = 3\n",
        "    for i in lst:\n",
        "        if i == target:\n",
        "            del lst[i]\n",
        "        print(i)\n",
        "\n",
        "if __name__ == \"__main__\":\n",
        "    main()"
      ],
      "metadata": {
        "colab": {
          "base_uri": "https://localhost:8080/"
        },
        "outputId": "4d224545-a496-497c-8baa-b413d85587ec",
        "id": "_jtspKrqxalK"
      },
      "execution_count": null,
      "outputs": [
        {
          "output_type": "stream",
          "name": "stdout",
          "text": [
            "0\n",
            "1\n",
            "2\n",
            "3\n",
            "5\n",
            "[0, 1, 2, 4, 5]\n"
          ]
        }
      ]
    },
    {
      "cell_type": "markdown",
      "source": [
        "#####***Problem 1***"
      ],
      "metadata": {
        "id": "o1yg9hl8BBip"
      }
    },
    {
      "cell_type": "markdown",
      "source": [
        "Problem 1: Write an iterator class reverse_iter, that takes a list and iterates it from the reverse direction. ::\n",
        "```\n",
        ">>> it = reverse_iter([1, 2, 3, 4])\n",
        ">>> next(it)\n",
        "4\n",
        ">>> next(it)\n",
        "3\n",
        ">>> next(it)\n",
        "2\n",
        ">>> next(it)\n",
        "1\n",
        ">>> next(it)\n",
        "Traceback (most recent call last):\n",
        "  File \"<stdin>\", line 1, in <module>\n",
        "StopIteration\n",
        "```"
      ],
      "metadata": {
        "id": "VDsF8B2ZBBtk"
      }
    },
    {
      "cell_type": "markdown",
      "source": [
        "######***Solution***"
      ],
      "metadata": {
        "id": "EexHpczyBCFo"
      }
    },
    {
      "cell_type": "code",
      "source": [
        "def reverse_iter(lst):\n",
        "    for i in lst[::-1]:\n",
        "        yield i\n",
        "\n",
        "class Reverse_Iter:    \n",
        "    def __init__(self, lst):\n",
        "        self.i = 0\n",
        "        self.lst = lst\n",
        "    def __iter__(self):\n",
        "        return self\n",
        "    def __next__(self):\n",
        "        if self.i < len(self.lst):\n",
        "            tmp = self.lst[-(self.i+1)]\n",
        "            self.i += 1\n",
        "            return tmp\n",
        "        else:\n",
        "            raise StopIteration(\"STOP\")\n",
        "\n",
        "def main():\n",
        "    try:\n",
        "        it = reverse_iter([1, 2, 3, 4])\n",
        "        print(next(it))\n",
        "        print(next(it))\n",
        "        print(next(it))\n",
        "        print(next(it))\n",
        "        print(next(it))\n",
        "    except StopIteration as e:\n",
        "        print(e) \n",
        "\n",
        "    try:\n",
        "        it = Reverse_Iter([1, 2, 3, 4])\n",
        "        print(next(it))\n",
        "        print(next(it))\n",
        "        print(next(it))\n",
        "        print(next(it))\n",
        "        print(next(it))\n",
        "    except StopIteration as e:\n",
        "        print(e) \n",
        "\n",
        "if __name__ == \"__main__\":\n",
        "    main()"
      ],
      "metadata": {
        "colab": {
          "base_uri": "https://localhost:8080/"
        },
        "id": "zQq3BDWEBCSd",
        "outputId": "c29f65e7-b101-46a2-d804-c319e3332293"
      },
      "execution_count": null,
      "outputs": [
        {
          "output_type": "stream",
          "name": "stdout",
          "text": [
            "4\n",
            "3\n",
            "2\n",
            "1\n",
            "\n",
            "4\n",
            "3\n",
            "2\n",
            "1\n",
            "STOP\n"
          ]
        }
      ]
    },
    {
      "cell_type": "markdown",
      "source": [
        "#####***Problem 2***"
      ],
      "metadata": {
        "id": "f-lGFSH8510l"
      }
    },
    {
      "cell_type": "markdown",
      "source": [
        "Problem 2: Write a program that takes one or more filenames as arguments and prints all the lines which are longer than 40 characters."
      ],
      "metadata": {
        "id": "rSLd7hHg510l"
      }
    },
    {
      "cell_type": "markdown",
      "source": [
        "######***Solution***"
      ],
      "metadata": {
        "id": "EEYdqWfD510l"
      }
    },
    {
      "cell_type": "code",
      "source": [
        "%%writefile reverse_0.py\n",
        "import sys\n",
        "file_path = sys.argv[1]\n",
        "with open(file_path) as f:\n",
        "    lines = f.readlines()\n",
        "    for line in lines[::-1]:\n",
        "        print(line, end=\"\")"
      ],
      "metadata": {
        "colab": {
          "base_uri": "https://localhost:8080/"
        },
        "id": "UEB-wTeg9ZRv",
        "outputId": "580f76a3-c94f-427c-b2be-863414f3e40e"
      },
      "execution_count": null,
      "outputs": [
        {
          "output_type": "stream",
          "name": "stdout",
          "text": [
            "Overwriting reverse_0.py\n"
          ]
        }
      ]
    },
    {
      "cell_type": "code",
      "source": [
        "%%writefile reverse_1.py\n",
        "import sys\n",
        "file_path = sys.argv[1]\n",
        "with open(file_path) as f:\n",
        "    lines = f.readlines()\n",
        "    for line in lines[::-1]:\n",
        "        print(line, end=\"\")"
      ],
      "metadata": {
        "colab": {
          "base_uri": "https://localhost:8080/"
        },
        "id": "goSLsRe69aQw",
        "outputId": "9b9e7f29-980f-4cec-b68e-2fb5bb7cb769"
      },
      "execution_count": null,
      "outputs": [
        {
          "output_type": "stream",
          "name": "stdout",
          "text": [
            "Overwriting reverse_1.py\n"
          ]
        }
      ]
    },
    {
      "cell_type": "code",
      "source": [
        "%%writefile reverse_2.py\n",
        "import sys\n",
        "file_path = sys.argv[1]\n",
        "with open(file_path) as f:\n",
        "    lines = f.readlines()\n",
        "    for line in lines[::-1]:\n",
        "        print(line, end=\"\")"
      ],
      "metadata": {
        "colab": {
          "base_uri": "https://localhost:8080/"
        },
        "id": "qmLQL_6U9bGt",
        "outputId": "4458b1d5-880a-4ab1-c111-0ecf0e1a049d"
      },
      "execution_count": null,
      "outputs": [
        {
          "output_type": "stream",
          "name": "stdout",
          "text": [
            "Writing reverse_2.py\n"
          ]
        }
      ]
    },
    {
      "cell_type": "code",
      "source": [
        "def print_long_lines(*filepaths, length=40):\n",
        "    for filepath in filepaths:\n",
        "        with open(filepath) as f:\n",
        "            for line in f.readlines():\n",
        "                if len(line) > length:\n",
        "                    print(line)\n",
        "                                        \n",
        "def main():\n",
        "    print_long_lines('./reverse_0.py', './reverse_1.py', './reverse_2.py', length=10)    \n",
        "\n",
        "\n",
        "if __name__ == \"__main__\":\n",
        "    main()"
      ],
      "metadata": {
        "colab": {
          "base_uri": "https://localhost:8080/"
        },
        "outputId": "5532595c-36a4-4653-a241-2a5c93927fae",
        "id": "Ho2nM2hh510l"
      },
      "execution_count": null,
      "outputs": [
        {
          "output_type": "stream",
          "name": "stdout",
          "text": [
            "import sys\n",
            "\n",
            "file_path = sys.argv[1]\n",
            "\n",
            "with open(file_path) as f:\n",
            "\n",
            "    lines = f.readlines()\n",
            "\n",
            "    for line in lines[::-1]:\n",
            "\n",
            "        print(line, end=\"\")\n",
            "\n",
            "import sys\n",
            "\n",
            "file_path = sys.argv[1]\n",
            "\n",
            "with open(file_path) as f:\n",
            "\n",
            "    lines = f.readlines()\n",
            "\n",
            "    for line in lines[::-1]:\n",
            "\n",
            "        print(line, end=\"\")\n",
            "\n",
            "import sys\n",
            "\n",
            "file_path = sys.argv[1]\n",
            "\n",
            "with open(file_path) as f:\n",
            "\n",
            "    lines = f.readlines()\n",
            "\n",
            "    for line in lines[::-1]:\n",
            "\n",
            "        print(line, end=\"\")\n",
            "\n"
          ]
        }
      ]
    },
    {
      "cell_type": "markdown",
      "source": [
        "#####***Problem 3***"
      ],
      "metadata": {
        "id": "_U0ei3lU516B"
      }
    },
    {
      "cell_type": "markdown",
      "source": [
        "Problem 3: Write a function findfiles that recursively descends the directory tree for the specified directory and generates paths of all the files in the tree."
      ],
      "metadata": {
        "id": "pGq1yh5g516C"
      }
    },
    {
      "cell_type": "markdown",
      "source": [
        "######***Solution***"
      ],
      "metadata": {
        "id": "Q0cOJHAw516C"
      }
    },
    {
      "cell_type": "code",
      "source": [
        "def findfiles(dir_path):\n",
        "    \n",
        "    out = []\n",
        "        \n",
        "    import os\n",
        "    files_or_dirs = os.listdir(dir_path)\n",
        "    \n",
        "    files = []\n",
        "    dirs = []\n",
        "    for file_or_dir in files_or_dirs:\n",
        "        if len(file_or_dir.split('.')) == 1: # directory name\n",
        "            dirs.append(file_or_dir)\n",
        "        else:\n",
        "            files.append(file_or_dir)\n",
        "            \n",
        "    for file in files:\n",
        "        out.append(os.path.join(dir_path, file))\n",
        "            \n",
        "    for directory in dirs:\n",
        "        out.extend(findfiles(os.path.join(dir_path, directory)))\n",
        "        \n",
        "    return out\n",
        "\n",
        "def main():\n",
        "    print(findfiles('./')) \n",
        "\n",
        "if __name__ == \"__main__\":\n",
        "    main()"
      ],
      "metadata": {
        "colab": {
          "base_uri": "https://localhost:8080/"
        },
        "outputId": "6f65b256-83a2-4564-868d-2e1e05653f64",
        "id": "e4w5nXdh516C"
      },
      "execution_count": null,
      "outputs": [
        {
          "output_type": "stream",
          "name": "stdout",
          "text": [
            "['./.config', './reverse-2.py', './reverse_2.py', './reverse_1.py', './reverse_0.py', './sample_data/anscombe.json', './sample_data/README.md', './sample_data/mnist_train_small.csv', './sample_data/california_housing_train.csv', './sample_data/california_housing_test.csv', './sample_data/mnist_test.csv']\n"
          ]
        }
      ]
    },
    {
      "cell_type": "markdown",
      "source": [
        "#####***Problem 4***"
      ],
      "metadata": {
        "id": "deJkAkya52AA"
      }
    },
    {
      "cell_type": "markdown",
      "source": [
        "Problem 4: Write a function to compute the number of python files (.py extension) in a specified directory recursively."
      ],
      "metadata": {
        "id": "emGdts6152AB"
      }
    },
    {
      "cell_type": "markdown",
      "source": [
        "######***Solution***"
      ],
      "metadata": {
        "id": "h4Y4rFJ952AB"
      }
    },
    {
      "cell_type": "code",
      "source": [
        "%%writefile reverse_0.py\n",
        "import sys\n",
        "file_path = sys.argv[1]\n",
        "with open(file_path) as f:\n",
        "    lines = f.readlines()\n",
        "    for line in lines[::-1]:\n",
        "        print(line, end=\"\")"
      ],
      "metadata": {
        "colab": {
          "base_uri": "https://localhost:8080/"
        },
        "id": "jWLrwZfP8anN",
        "outputId": "7e32eb02-60a9-453e-9a46-2212d7da0b89"
      },
      "execution_count": null,
      "outputs": [
        {
          "output_type": "stream",
          "name": "stdout",
          "text": [
            "Writing reverse_0.py\n"
          ]
        }
      ]
    },
    {
      "cell_type": "code",
      "source": [
        "%%writefile reverse_1.py\n",
        "import sys\n",
        "file_path = sys.argv[1]\n",
        "with open(file_path) as f:\n",
        "    lines = f.readlines()\n",
        "    for line in lines[::-1]:\n",
        "        print(line, end=\"\")"
      ],
      "metadata": {
        "colab": {
          "base_uri": "https://localhost:8080/"
        },
        "id": "aVNBU1Cc8ars",
        "outputId": "758f2b8b-2c95-40fd-f9ff-d8f31cbf12b4"
      },
      "execution_count": null,
      "outputs": [
        {
          "output_type": "stream",
          "name": "stdout",
          "text": [
            "Writing reverse_1.py\n"
          ]
        }
      ]
    },
    {
      "cell_type": "code",
      "source": [
        "%%writefile reverse-2.py\n",
        "import sys\n",
        "file_path = sys.argv[1]\n",
        "with open(file_path) as f:\n",
        "    lines = f.readlines()\n",
        "    for line in lines[::-1]:\n",
        "        print(line, end=\"\")"
      ],
      "metadata": {
        "colab": {
          "base_uri": "https://localhost:8080/"
        },
        "id": "qOFexfdh8kQS",
        "outputId": "f777176b-e2f4-46b4-e625-d3ba7b27f975"
      },
      "execution_count": null,
      "outputs": [
        {
          "output_type": "stream",
          "name": "stdout",
          "text": [
            "Writing reverse-2.py\n"
          ]
        }
      ]
    },
    {
      "cell_type": "code",
      "source": [
        "def count_py(dir_path):  \n",
        "    out = 0\n",
        "        \n",
        "    import os\n",
        "    files_or_dirs = os.listdir(dir_path)\n",
        "    \n",
        "    files = []\n",
        "    dirs = []\n",
        "    for file_or_dir in files_or_dirs:\n",
        "        if len(file_or_dir.split('.')) == 1: # directory name\n",
        "            dirs.append(file_or_dir)\n",
        "        else:\n",
        "            files.append(file_or_dir)\n",
        "            \n",
        "    for file in files:\n",
        "        if file.split('.')[-1] == 'py': # python file\n",
        "            out += 1\n",
        "            \n",
        "    for directory in dirs:\n",
        "        out += count_py(os.path.join(dir_path, directory))\n",
        "    \n",
        "    return out\n",
        "\n",
        "def main():\n",
        "    print(count_py('./'))\n",
        "\n",
        "if __name__ == \"__main__\":\n",
        "    main()"
      ],
      "metadata": {
        "colab": {
          "base_uri": "https://localhost:8080/"
        },
        "outputId": "a04b2fb0-a9b6-4ffc-ec96-b4e113666f58",
        "id": "KskFGPtl52AB"
      },
      "execution_count": null,
      "outputs": [
        {
          "output_type": "stream",
          "name": "stdout",
          "text": [
            "3\n"
          ]
        }
      ]
    },
    {
      "cell_type": "markdown",
      "source": [
        "#####***Problem 5***"
      ],
      "metadata": {
        "id": "J16aIq-i52fS"
      }
    },
    {
      "cell_type": "markdown",
      "source": [
        "Problem 5: Write a function to compute the total number of lines of code in all python files in the specified directory recursively."
      ],
      "metadata": {
        "id": "5I3hGab_52fT"
      }
    },
    {
      "cell_type": "markdown",
      "source": [
        "######***Solution***"
      ],
      "metadata": {
        "id": "H4tm4pq-52fT"
      }
    },
    {
      "cell_type": "code",
      "source": [
        "def count_py_lines(dir_path):\n",
        "    \n",
        "    out = 0\n",
        "        \n",
        "    import os\n",
        "    files_or_dirs = os.listdir(dir_path)\n",
        "    \n",
        "    files = []\n",
        "    dirs = []\n",
        "    for file_or_dir in files_or_dirs:\n",
        "        if len(file_or_dir.split('.')) == 1: # directory name\n",
        "            dirs.append(file_or_dir)\n",
        "        else:\n",
        "            files.append(file_or_dir)\n",
        "            \n",
        "    for file in files:\n",
        "        if file.split('.')[-1] == 'py': # python file\n",
        "            with open(os.path.join(dir_path, file)) as f:\n",
        "                out += len(f.readlines())\n",
        "            \n",
        "    for directory in dirs:\n",
        "        out += count_py_lines(os.path.join(dir_path, directory))\n",
        "    \n",
        "    return out\n",
        "\n",
        "def main():\n",
        "    print(count_py_lines('./'))\n",
        "\n",
        "if __name__ == \"__main__\":\n",
        "    main()"
      ],
      "metadata": {
        "colab": {
          "base_uri": "https://localhost:8080/"
        },
        "outputId": "1294524d-ea56-430c-ddd8-82d410324d4e",
        "id": "qjNSr2tC52fT"
      },
      "execution_count": null,
      "outputs": [
        {
          "output_type": "stream",
          "name": "stdout",
          "text": [
            "18\n"
          ]
        }
      ]
    },
    {
      "cell_type": "markdown",
      "source": [
        "#####***Problem 6***"
      ],
      "metadata": {
        "id": "7OizpYHY52lH"
      }
    },
    {
      "cell_type": "markdown",
      "source": [
        "Problem 6: Write a function to compute the total number of lines of code, ignoring empty and comment lines, in all python files in the specified directory recursively."
      ],
      "metadata": {
        "id": "XbxGK2hb52lH"
      }
    },
    {
      "cell_type": "markdown",
      "source": [
        "######***Solution***"
      ],
      "metadata": {
        "id": "Pex7eJsK52lI"
      }
    },
    {
      "cell_type": "code",
      "source": [
        "def count_py_essential_lines(dir_path):    \n",
        "    out = 0\n",
        "        \n",
        "    import os\n",
        "    files_or_dirs = os.listdir(dir_path)\n",
        "    \n",
        "    files = []\n",
        "    dirs = []\n",
        "    for file_or_dir in files_or_dirs:\n",
        "        if len(file_or_dir.split('.')) == 1: # directory name\n",
        "            dirs.append(file_or_dir)\n",
        "        else:\n",
        "            files.append(file_or_dir)\n",
        "            \n",
        "    for file in files:\n",
        "        if file.split('.')[-1] == 'py': # python file\n",
        "            with open(os.path.join(dir_path, file)) as f:\n",
        "                lines = f.readlines()\n",
        "                for line in lines:\n",
        "                    if line.startswith('#'): # 주석줄 제거\n",
        "                        continue\n",
        "                    if line.startswith('\\\"'): # 주석줄 제거\n",
        "                        continue\n",
        "                    if line.startswith('\\''): # 주석줄 제거\n",
        "                        continue\n",
        "                    if line.startswith('\\n'): # 빈줄 제거\n",
        "                        continue\n",
        "                out += 1\n",
        "            \n",
        "    for directory in dirs:\n",
        "        out += count_py_essential_lines(os.path.join(dir_path, directory))\n",
        "    \n",
        "    return out\n",
        "\n",
        "def main():\n",
        "    print(count_py_essential_lines('./'))\n",
        "\n",
        "if __name__ == \"__main__\":\n",
        "    main()"
      ],
      "metadata": {
        "colab": {
          "base_uri": "https://localhost:8080/"
        },
        "outputId": "a29efb95-5e0f-4069-cf41-1fba8ade0944",
        "id": "l8OjepN_52lI"
      },
      "execution_count": null,
      "outputs": [
        {
          "output_type": "stream",
          "name": "stdout",
          "text": [
            "9\n"
          ]
        }
      ]
    },
    {
      "cell_type": "markdown",
      "source": [
        "#####***Problem 7***"
      ],
      "metadata": {
        "id": "MnzeF4S-52ra"
      }
    },
    {
      "cell_type": "markdown",
      "source": [
        "Problem 7: Write a program split.py, that takes an integer n and a filename as command line arguments and splits the file into multiple small files with each having n lines.\n",
        "\n"
      ],
      "metadata": {
        "id": "ND7GQgKt52rb"
      }
    },
    {
      "cell_type": "markdown",
      "source": [
        "######***Solution***"
      ],
      "metadata": {
        "id": "lLchtWAP52rb"
      }
    },
    {
      "cell_type": "code",
      "source": [
        "%%writefile split.py\n",
        "import sys\n",
        "\n",
        "n, filename = sys.argv[1:3]\n",
        "name, ext = filename.split('.')\n",
        "n = int(n)\n",
        "\n",
        "with open(filename) as f:\n",
        "    lines = f.readlines()\n",
        "    for i in range(0, len(lines), n):\n",
        "        new_filename = f'{name}_{i//n}.{ext}'\n",
        "        with open(new_filename, 'w') as g:\n",
        "            g.writelines(lines[i:i+n]) "
      ],
      "metadata": {
        "colab": {
          "base_uri": "https://localhost:8080/"
        },
        "outputId": "879a9126-e718-4fc2-c341-5955bf95ebce",
        "id": "-rJcINie52rb"
      },
      "execution_count": null,
      "outputs": [
        {
          "output_type": "stream",
          "name": "stdout",
          "text": [
            "Overwriting split.py\n"
          ]
        }
      ]
    },
    {
      "cell_type": "code",
      "source": [
        "!python split.py 5 split.py"
      ],
      "metadata": {
        "id": "q4mUqcgW860J"
      },
      "execution_count": null,
      "outputs": []
    },
    {
      "cell_type": "code",
      "source": [
        "!cat split_0.py"
      ],
      "metadata": {
        "colab": {
          "base_uri": "https://localhost:8080/"
        },
        "id": "SnDtd17w9Uq6",
        "outputId": "86ac015d-6b2f-4af8-fa57-147b4bf8a930"
      },
      "execution_count": null,
      "outputs": [
        {
          "output_type": "stream",
          "name": "stdout",
          "text": [
            "import sys\n",
            "\n",
            "n, filename = sys.argv[1:3]\n",
            "name, ext = filename.split('.')\n",
            "n = int(n)\n"
          ]
        }
      ]
    },
    {
      "cell_type": "code",
      "source": [
        "!cat split_1.py"
      ],
      "metadata": {
        "colab": {
          "base_uri": "https://localhost:8080/"
        },
        "id": "Od1mCLjc9eOA",
        "outputId": "c01e1ae2-4526-45c3-ae9d-67d7f0f4baa1"
      },
      "execution_count": null,
      "outputs": [
        {
          "output_type": "stream",
          "name": "stdout",
          "text": [
            "\n",
            "with open(filename) as f:\n",
            "    lines = f.readlines()\n",
            "    for i in range(0, len(lines), n):\n",
            "        new_filename = f'{name}_{i//n}.{ext}'\n"
          ]
        }
      ]
    },
    {
      "cell_type": "code",
      "source": [
        "!cat split_2.py"
      ],
      "metadata": {
        "colab": {
          "base_uri": "https://localhost:8080/"
        },
        "id": "FbbWEV6h9eb7",
        "outputId": "2642adf3-ba39-4d71-8e7b-47479f738955"
      },
      "execution_count": null,
      "outputs": [
        {
          "output_type": "stream",
          "name": "stdout",
          "text": [
            "        with open(new_filename, 'w') as g:\n",
            "            g.writelines(lines[i:i+n]) \n"
          ]
        }
      ]
    },
    {
      "cell_type": "markdown",
      "source": [
        "#####***Problem 8***"
      ],
      "metadata": {
        "id": "eycz28qC3plG"
      }
    },
    {
      "cell_type": "markdown",
      "source": [
        "Problem 8: Write a function peep, that takes an iterator as argument and returns the first element and an equivalant iterator.\n",
        "```\n",
        ">>> it = iter(range(5))\n",
        ">>> x, it1 = peep(it)\n",
        ">>> print(x, list(it1))\n",
        "0 [0, 1, 2, 3, 4]\n",
        "```\n"
      ],
      "metadata": {
        "id": "ZXHSPQhk3pn5"
      }
    },
    {
      "cell_type": "markdown",
      "source": [
        "######***Solution***"
      ],
      "metadata": {
        "id": "7OJxymn93pqe"
      }
    },
    {
      "cell_type": "code",
      "source": [
        "def peep(i):\n",
        "    import copy \n",
        "    i_copy = copy.deepcopy(i)\n",
        "    return next(i), i_copy\n",
        "\n",
        "def main():\n",
        "    it = iter(range(5))\n",
        "    x, it1 = peep(it)\n",
        "    print(x, list(it1))\n",
        "\n",
        "if __name__ == \"__main__\":\n",
        "    main()"
      ],
      "metadata": {
        "colab": {
          "base_uri": "https://localhost:8080/"
        },
        "id": "Ajm2-m9s30Kx",
        "outputId": "b68de4df-8e97-4400-b56c-64119ce88328"
      },
      "execution_count": null,
      "outputs": [
        {
          "output_type": "stream",
          "name": "stdout",
          "text": [
            "0 [0, 1, 2, 3, 4]\n"
          ]
        }
      ]
    },
    {
      "cell_type": "markdown",
      "source": [
        "#####***Problem 9***"
      ],
      "metadata": {
        "id": "wtcLRwLG474O"
      }
    },
    {
      "cell_type": "markdown",
      "source": [
        "Problem 9: The built-in function enumerate takes an iteratable and returns an iterator over pairs (index, value) for each value in the source.\n",
        "```\n",
        ">>> list(enumerate([\"a\", \"b\", \"c\"])\n",
        "[(0, \"a\"), (1, \"b\"), (2, \"c\")]\n",
        ">>> for i, c in enumerate([\"a\", \"b\", \"c\"]):\n",
        "...    print(i, c)\n",
        "0 a\n",
        "1 b\n",
        "2 c\n",
        "```\n",
        "\n",
        "Write a class MyEnumerate that works like enumerate."
      ],
      "metadata": {
        "id": "mxlgf-Vj4779"
      }
    },
    {
      "cell_type": "markdown",
      "source": [
        "######***Solution***"
      ],
      "metadata": {
        "id": "YdNnD3Q948Et"
      }
    },
    {
      "cell_type": "code",
      "source": [
        "class MyEnumerate:   \n",
        "    def __init__(self, iterable):\n",
        "        self.i = 0\n",
        "        self.iterator = iterable.__iter__()\n",
        "    def __iter__(self):\n",
        "        return self\n",
        "    def __next__(self):\n",
        "        try:\n",
        "            i = self.i\n",
        "            self.i += 1\n",
        "            return i, next(self.iterator)\n",
        "        except:\n",
        "            raise StopIteration()\n",
        "\n",
        "def main():\n",
        "    for i, c in MyEnumerate([\"a\", \"b\", \"c\"]):\n",
        "        print(i, c)\n",
        "\n",
        "if __name__ == \"__main__\":\n",
        "    main()"
      ],
      "metadata": {
        "colab": {
          "base_uri": "https://localhost:8080/"
        },
        "id": "n2pWNnaP48SK",
        "outputId": "7addf654-c6b3-4561-fb04-37bc80370c03"
      },
      "execution_count": null,
      "outputs": [
        {
          "output_type": "stream",
          "name": "stdout",
          "text": [
            "0 a\n",
            "1 b\n",
            "2 c\n"
          ]
        }
      ]
    },
    {
      "cell_type": "markdown",
      "source": [
        "#####***Problem 10***"
      ],
      "metadata": {
        "id": "Gzw1PPTR8tyd"
      }
    },
    {
      "cell_type": "markdown",
      "source": [
        "Problem 10: Implement a class MyZip that works like zip."
      ],
      "metadata": {
        "id": "r9y-LSSg8t2j"
      }
    },
    {
      "cell_type": "markdown",
      "source": [
        "######***Solution***"
      ],
      "metadata": {
        "id": "CudX3XU78uCs"
      }
    },
    {
      "cell_type": "code",
      "source": [
        "class MyZip:   \n",
        "    def __init__(self, iterable_1, iterable_2):\n",
        "        self.iterator_1 = iterable_1.__iter__()\n",
        "        self.iterator_2 = iterable_2.__iter__()\n",
        "    def __iter__(self):\n",
        "        return self\n",
        "    def __next__(self):\n",
        "        try:\n",
        "            return next(self.iterator_1), next(self.iterator_2)\n",
        "        except:\n",
        "            raise StopIteration()\n",
        "\n",
        "def main():\n",
        "    for i, j in MyZip([\"a\", \"b\", \"c\"], [1, 2, 3]):\n",
        "        print(i, j)\n",
        "\n",
        "if __name__ == \"__main__\":\n",
        "    main()"
      ],
      "metadata": {
        "colab": {
          "base_uri": "https://localhost:8080/"
        },
        "id": "ogs96B3E8uVJ",
        "outputId": "c54f375e-0776-4b9d-e899-50b946a1e0b5"
      },
      "execution_count": null,
      "outputs": [
        {
          "output_type": "stream",
          "name": "stdout",
          "text": [
            "a 1\n",
            "b 2\n",
            "c 3\n"
          ]
        }
      ]
    },
    {
      "cell_type": "markdown",
      "source": [
        "####***Section 4 Generator***"
      ],
      "metadata": {
        "id": "lruiKtYqozIC"
      }
    },
    {
      "cell_type": "markdown",
      "source": [
        "#####***Exercise [blog](https://stackoverflow.com/questions/2776829/difference-between-pythons-generators-and-iterators)***"
      ],
      "metadata": {
        "id": "2-v-vxXOo3ZZ"
      }
    },
    {
      "cell_type": "markdown",
      "source": [
        "Use the generator and replace the iterator in the below code: \n",
        "\n",
        "```\n",
        "class Squares(object):\n",
        "    def __init__(self, start, stop):\n",
        "       self.start = start\n",
        "       self.stop = stop\n",
        "\n",
        "    def __iter__(self): \n",
        "        return self\n",
        "\n",
        "    def __next__(self): # next in Python 2\n",
        "       if self.start >= self.stop:\n",
        "           raise StopIteration\n",
        "       current = self.start * self.start\n",
        "       self.start += 1\n",
        "       return current\n",
        "\n",
        "def main():\n",
        "    iterator = Squares(1, 5)\n",
        "    for i in iterator:\n",
        "        print(i,end=\"\\t\")\n",
        "\n",
        "if __name__ == \"__main__\":\n",
        "    main()\n",
        "```"
      ],
      "metadata": {
        "id": "8Ooc9z0xo3ZZ"
      }
    },
    {
      "cell_type": "markdown",
      "source": [
        "######***Solution***"
      ],
      "metadata": {
        "id": "WF6HtxxZo3ZZ"
      }
    },
    {
      "cell_type": "code",
      "source": [
        "def squares(start, stop):\n",
        "    for i in range(start, stop):\n",
        "        yield i * i\n",
        "\n",
        "def main():\n",
        "    iterator = squares(1, 5)\n",
        "    for i in iterator:\n",
        "        print(i,end=\"\\t\")\n",
        "\n",
        "if __name__ == \"__main__\":\n",
        "    main()"
      ],
      "metadata": {
        "colab": {
          "base_uri": "https://localhost:8080/"
        },
        "outputId": "7c87f07c-c16b-4bfe-c7b3-e9ec3e4da9b6",
        "id": "iidmad-Io3ZZ"
      },
      "execution_count": 2,
      "outputs": [
        {
          "output_type": "stream",
          "name": "stdout",
          "text": [
            "1\t4\t9\t16\t"
          ]
        }
      ]
    },
    {
      "cell_type": "markdown",
      "source": [
        "#####***Exercise [blog](https://stackoverflow.com/questions/2776829/difference-between-pythons-generators-and-iterators)***"
      ],
      "metadata": {
        "id": "BHyg9h86qZBb"
      }
    },
    {
      "cell_type": "markdown",
      "source": [
        "Use the generator comprehension and replace the iterator in the below code: \n",
        "\n",
        "```\n",
        "class Squares(object):\n",
        "    def __init__(self, start, stop):\n",
        "       self.start = start\n",
        "       self.stop = stop\n",
        "\n",
        "    def __iter__(self): \n",
        "        return self\n",
        "\n",
        "    def __next__(self): # next in Python 2\n",
        "       if self.start >= self.stop:\n",
        "           raise StopIteration\n",
        "       current = self.start * self.start\n",
        "       self.start += 1\n",
        "       return current\n",
        "\n",
        "def main():\n",
        "    iterator = Squares(1, 5)\n",
        "    for i in iterator:\n",
        "        print(i,end=\"\\t\")\n",
        "\n",
        "if __name__ == \"__main__\":\n",
        "    main()\n",
        "```"
      ],
      "metadata": {
        "id": "3_vUeLvxqZBb"
      }
    },
    {
      "cell_type": "markdown",
      "source": [
        "######***Solution***"
      ],
      "metadata": {
        "id": "fJdtBiN0qZBb"
      }
    },
    {
      "cell_type": "code",
      "source": [
        "def main():\n",
        "    iterator = (i*i for i in range(1, 5))\n",
        "    for i in iterator:\n",
        "        print(i,end=\"\\t\")\n",
        "\n",
        "if __name__ == \"__main__\":\n",
        "    main()"
      ],
      "metadata": {
        "colab": {
          "base_uri": "https://localhost:8080/"
        },
        "outputId": "0de7eb9e-7b5d-4b49-99f7-1c0b8f742223",
        "id": "kugkUh7xqZBc"
      },
      "execution_count": 3,
      "outputs": [
        {
          "output_type": "stream",
          "name": "stdout",
          "text": [
            "1\t4\t9\t16\t"
          ]
        }
      ]
    },
    {
      "cell_type": "markdown",
      "source": [
        "###***Chapter 34 Class***"
      ],
      "metadata": {
        "id": "tCCN4uO7b20X"
      }
    },
    {
      "cell_type": "markdown",
      "source": [
        "#####***Exercise***"
      ],
      "metadata": {
        "id": "CHdhxpRRANk1"
      }
    },
    {
      "cell_type": "markdown",
      "source": [
        "체스판은 다음과 같이 생겼다.\n",
        "```\n",
        "array([[ 0,  1,  2,  3,  4,  5,  6,  7],\n",
        "       [ 8,  9, 10, 11, 12, 13, 14, 15],\n",
        "       [16, 17, 18, 19, 20, 21, 22, 23],\n",
        "       [24, 25, 26, 27, 28, 29, 30, 31],\n",
        "       [32, 33, 34, 35, 36, 37, 38, 39],\n",
        "       [40, 41, 42, 43, 44, 45, 46, 47],\n",
        "       [48, 49, 50, 51, 52, 53, 54, 55],\n",
        "       [56, 57, 58, 59, 60, 61, 62, 63]])\n",
        "```\n",
        "\n",
        "체스판에 출발점(start)과 끝점(end)이 주어지면, 기사가 출발점에서 출발하여 끝점에 도달하는 필요한 최소의 이동 횟수를 계산하는  클래스를  구현하라.\n",
        "```\n",
        ">>> a = Knight(9, 11)\n",
        ">>> a.knightmove_counter()\n",
        "2\n",
        "```"
      ],
      "metadata": {
        "id": "jpDsaAx8ANk2"
      }
    },
    {
      "cell_type": "markdown",
      "source": [
        "######***Solution***"
      ],
      "metadata": {
        "id": "6YzMPCSlANk2"
      }
    },
    {
      "cell_type": "code",
      "source": [
        "class Knight:\n",
        "    \n",
        "    def __init__(self, start, end):\n",
        "        self.start = start # 출발점\n",
        "        self.end = end     # 끝점\n",
        "\n",
        "    def num2coord(self, num):\n",
        "        \"\"\"\n",
        "        체스판에서 기사의 위치는 하나의 숫자로 표시할 수도 있지만 (Representation 1), \n",
        "        로인덱스와 칼럼인덱스를 이용 두개의 숫자로도 표시할 수 있다 (Representation 2). \n",
        "        이 메쏘드는 Representation 1을 Representation 2로 바꾸어 준다.\n",
        "        \n",
        "        Input  : int       : Representation 1 of Kinight Position  \n",
        "        Output : (int,int) : Representation 1 of Kinight Position  \n",
        "        \"\"\"\n",
        "        row = num // 8\n",
        "        col = num % 8\n",
        "        return row, col\n",
        "\n",
        "    def coord2num(self, row, col):\n",
        "        \"\"\"\n",
        "        체스판에서 기사의 위치는 하나의 숫자로 표시할 수도 있지만 (Representation 1), \n",
        "        로인덱스와 칼럼인덱스를 이용 두개의 숫자로도 표시할 수 있다 (Representation 2). \n",
        "        이 메쏘드는 Representation 2를 Representation 1로 바꾸어 준다.\n",
        "        \n",
        "        Input  : (int,int) : Representation 1 of Kinight Position\n",
        "        Output : int       : Representation 1 of Kinight Position   \n",
        "        \"\"\"\n",
        "        return 8 * row + col\n",
        "\n",
        "    def knightmove(self, num):\n",
        "        \"\"\"\n",
        "        체스판에서 현재 기사의 위치(Representation 1)가 인풋으로 들어오면,\n",
        "        한 스텝 후 가능한 기사의 위치(Representation 1)를 셋으로 리턴한다. \n",
        "        \n",
        "        Input  : int       : Representation 1 of Kinight Position\n",
        "        Output : {int,...} : Representation 1 of Possible Kinight Next Position   \n",
        "        \"\"\"\n",
        "        row, col = self.num2coord(num)\n",
        "        return_set = set()\n",
        "        for direction in [(1,2),(-1,2),(1,-2),(-1,-2),(2,1),(2,-1),(-2,1),(-2,-1)]:\n",
        "            new_row = row + direction[0]\n",
        "            new_col = col + direction[1]\n",
        "            if (0<=new_row<=7) and (0<=new_col<=7):\n",
        "                return_set.add(self.coord2num(new_row,new_col))\n",
        "        return return_set\n",
        "    \n",
        "    def knightmove_counter(self):\n",
        "        \"\"\" \n",
        "        기사가 출발점에서 끝점에 도달하는 필요한 최소의 이동 횟수를 리턴한다. \n",
        "        \"\"\"\n",
        "        counter = 0\n",
        "        interior = set() # set of visited vertices from which knightmove has been computed\n",
        "        frontier = set() # set of visited vertices from which knightmove are not computed\n",
        "        frontier.add(self.start)\n",
        "        if self.end in frontier:\n",
        "            return counter\n",
        "        while True:\n",
        "            counter += 1\n",
        "            for num in frontier.copy():\n",
        "                newly_visited_set = self.knightmove(num)\n",
        "                interior.add(num)\n",
        "                for newly_visited_num in newly_visited_set:\n",
        "                    if newly_visited_num not in interior:\n",
        "                        frontier.add(newly_visited_num)\n",
        "            if self.end in frontier:\n",
        "                return counter\n",
        "\n",
        "def main():\n",
        "    a = Knight(9, 11)\n",
        "    print(a.knightmove_counter()) \n",
        "\n",
        "if __name__ == \"__main__\":\n",
        "    main()"
      ],
      "metadata": {
        "colab": {
          "base_uri": "https://localhost:8080/"
        },
        "outputId": "b015eff5-7ac4-4922-e6d3-b98ed20e91b3",
        "id": "o0aiCPN8ANk2"
      },
      "execution_count": null,
      "outputs": [
        {
          "output_type": "stream",
          "name": "stdout",
          "text": [
            "2\n"
          ]
        }
      ]
    },
    {
      "cell_type": "markdown",
      "source": [
        "#####***Problem 1***"
      ],
      "metadata": {
        "id": "WNMZo9v55W8g"
      }
    },
    {
      "cell_type": "markdown",
      "source": [
        "Problem 1: What will the output of the following program.\n",
        "```\n",
        "class A:\n",
        "    def f(self):\n",
        "        return self.g()\n",
        "\n",
        "    def g(self):\n",
        "        return 'A'\n",
        "\n",
        "class B(A):\n",
        "    def g(self):\n",
        "        return 'B'\n",
        "\n",
        "a = A()\n",
        "b = B()\n",
        "print(a.f(), b.f())\n",
        "print(a.g(), b.g())\n",
        "```"
      ],
      "metadata": {
        "id": "T7RISjlf5XA_"
      }
    },
    {
      "cell_type": "markdown",
      "source": [
        "######***Solution***"
      ],
      "metadata": {
        "id": "Ex-KOtbs5XaO"
      }
    },
    {
      "cell_type": "code",
      "source": [
        "class A:\n",
        "    def f(self):\n",
        "        return self.g()\n",
        "\n",
        "    def g(self):\n",
        "        return 'A'\n",
        "\n",
        "class B(A):\n",
        "    def g(self):\n",
        "        return 'B'\n",
        "\n",
        "def main():\n",
        "    a = A()\n",
        "    b = B()\n",
        "    print(a.f(), b.f()) # A B\n",
        "    print(a.g(), b.g()) # A B\n",
        "\n",
        "if __name__ == \"__main__\":\n",
        "    main()"
      ],
      "metadata": {
        "colab": {
          "base_uri": "https://localhost:8080/"
        },
        "id": "g2s9LP_05YC3",
        "outputId": "31c28cde-6c8c-44ae-ddc7-88d201ca5d0c"
      },
      "execution_count": null,
      "outputs": [
        {
          "output_type": "stream",
          "name": "stdout",
          "text": [
            "A B\n",
            "A B\n"
          ]
        }
      ]
    },
    {
      "cell_type": "markdown",
      "source": [
        "#####***Exercise***"
      ],
      "metadata": {
        "id": "i2ok2WNMxTNz"
      }
    },
    {
      "cell_type": "markdown",
      "source": [
        "Below code generate random five cards from the deck of 52 cards. Write your code to     check whether we have flush.\n",
        "```\n",
        "import random\n",
        "from collections import namedtuple\n",
        "\n",
        "Card = namedtuple('Card', ['rank', 'suit'])\n",
        "\n",
        "class FrenchDeck:\n",
        "    \n",
        "    ranks = [str(n) for n in range(2, 11)] + list('JQKA') # class variable\n",
        "    suits = 'spades diamonds clubs hearts'.split() # class variable\n",
        "\n",
        "    def __init__(self):\n",
        "        self.cards = [Card(rank, suit) for suit in self.suits for rank in self.ranks]\n",
        "\n",
        "    def __len__(self):\n",
        "        return len(self.cards)\n",
        "\n",
        "    def __getitem__(self, position):\n",
        "        return self.cards[position]\n",
        "    \n",
        "    def hands(self):\n",
        "        return random.sample(self.cards, 5)\n",
        "\n",
        "def main():\n",
        "    # random five cards\n",
        "    x = deck.hands()\n",
        "    print(f\"random five cards : {x}\",end=\"\\n\\n\")\n",
        "\n",
        "    # check whether we have flush\n",
        "    # put your code here\n",
        "    # put your code here\n",
        "    # put your code here\n",
        "\n",
        "if __name__ == \"__main__\":\n",
        "    main()\n",
        "```"
      ],
      "metadata": {
        "id": "oAVOK5OBxTN0"
      }
    },
    {
      "cell_type": "markdown",
      "source": [
        "######***Solution***"
      ],
      "metadata": {
        "id": "1_eEgyftxTN0"
      }
    },
    {
      "cell_type": "code",
      "source": [
        "import random\n",
        "from collections import namedtuple\n",
        "\n",
        "Card = namedtuple('Card', ['rank', 'suit'])\n",
        "\n",
        "class FrenchDeck:\n",
        "    \n",
        "    ranks = [str(n) for n in range(2, 11)] + list('JQKA') # class variable\n",
        "    suits = 'spades diamonds clubs hearts'.split() # class variable\n",
        "\n",
        "    def __init__(self):\n",
        "        self.cards = [Card(rank, suit) for suit in self.suits for rank in self.ranks]\n",
        "\n",
        "    def __len__(self):\n",
        "        return len(self.cards)\n",
        "\n",
        "    def __getitem__(self, position):\n",
        "        return self.cards[position]\n",
        "    \n",
        "    def hands(self):\n",
        "        return random.sample(self.cards, 5)\n",
        "\n",
        "def main():\n",
        "    # random five cards\n",
        "    x = deck.hands()\n",
        "    print(f\"random five cards : {x}\",end=\"\\n\\n\")\n",
        "\n",
        "    # check whether we have flush\n",
        "    flush = True\n",
        "    for i in range(1,5):\n",
        "        if x[i-1].suit != x[i].suit:\n",
        "            flush = False\n",
        "            break\n",
        "    print(f\"check whether we have flush : {flush}\")\n",
        "\n",
        "if __name__ == \"__main__\":\n",
        "    main()"
      ],
      "metadata": {
        "colab": {
          "base_uri": "https://localhost:8080/"
        },
        "outputId": "31c28cde-6c8c-44ae-ddc7-88d201ca5d0c",
        "id": "hyBa4koDxTN0"
      },
      "execution_count": null,
      "outputs": [
        {
          "output_type": "stream",
          "name": "stdout",
          "text": [
            "A B\n",
            "A B\n"
          ]
        }
      ]
    },
    {
      "cell_type": "markdown",
      "source": [
        "###***Chapter Exception Handling***"
      ],
      "metadata": {
        "id": "ANE6kS2KcAfE"
      }
    },
    {
      "cell_type": "markdown",
      "source": [
        "#####***Problem 2***"
      ],
      "metadata": {
        "id": "F6LqR8_X6QkQ"
      }
    },
    {
      "cell_type": "markdown",
      "source": [
        "Problem 2: What will be the output of the following program?\n",
        "```\n",
        "try:\n",
        "    print(\"a\")\n",
        "except:\n",
        "    print(\"b\")\n",
        "else:\n",
        "    print(\"c\")\n",
        "finally:\n",
        "    print(\"d\")\n",
        "```"
      ],
      "metadata": {
        "id": "6Qom479i6QkQ"
      }
    },
    {
      "cell_type": "markdown",
      "source": [
        "######***Solution***"
      ],
      "metadata": {
        "id": "tx2uR1Mz6QkR"
      }
    },
    {
      "cell_type": "code",
      "source": [
        "def main():\n",
        "    try:\n",
        "        print(\"a\")\n",
        "    except:\n",
        "        print(\"b\")\n",
        "    else:\n",
        "    # The try statement can have an optional else clause, \n",
        "    # which is executed only if no exception is raised in the try-block.\n",
        "        print(\"c\")\n",
        "    finally:\n",
        "        print(\"d\")\n",
        "\n",
        "if __name__ == \"__main__\":\n",
        "    main()"
      ],
      "metadata": {
        "colab": {
          "base_uri": "https://localhost:8080/"
        },
        "outputId": "6659d106-313f-43c0-9779-fff862be2d7a",
        "id": "oQxbzbns6QkR"
      },
      "execution_count": null,
      "outputs": [
        {
          "output_type": "stream",
          "name": "stdout",
          "text": [
            "a\n",
            "c\n",
            "d\n"
          ]
        }
      ]
    },
    {
      "cell_type": "markdown",
      "source": [
        "#####***Problem 3***"
      ],
      "metadata": {
        "id": "T04GnJ5R59pv"
      }
    },
    {
      "cell_type": "markdown",
      "source": [
        "Problem 3: What will be the output of the following program?\n",
        "```\n",
        "try:\n",
        "    print(\"a\")\n",
        "    raise Exception(\"doom\")\n",
        "except:\n",
        "    print(\"b\")\n",
        "else:\n",
        "    print(\"c\")\n",
        "finally:\n",
        "    print(\"d\")\n",
        "```"
      ],
      "metadata": {
        "id": "S6kic-U959pw"
      }
    },
    {
      "cell_type": "markdown",
      "source": [
        "######***Solution***"
      ],
      "metadata": {
        "id": "BnAF8AHI59pw"
      }
    },
    {
      "cell_type": "code",
      "source": [
        "def main():\n",
        "    try:\n",
        "        print(\"a\")\n",
        "        raise Exception(\"doom\")\n",
        "    except:\n",
        "        print(\"b\")\n",
        "    else:\n",
        "        print(\"c\")\n",
        "    finally:\n",
        "        print(\"d\")\n",
        "\n",
        "if __name__ == \"__main__\":\n",
        "    main()"
      ],
      "metadata": {
        "colab": {
          "base_uri": "https://localhost:8080/"
        },
        "outputId": "cbbd3fea-99a1-4211-ab3e-81d7387555e7",
        "id": "C7oLlddN59pw"
      },
      "execution_count": null,
      "outputs": [
        {
          "output_type": "stream",
          "name": "stdout",
          "text": [
            "a\n",
            "b\n",
            "d\n"
          ]
        }
      ]
    },
    {
      "cell_type": "markdown",
      "source": [
        "#####***Problem 3 (Modified)***"
      ],
      "metadata": {
        "id": "-U4IDV6O7pDM"
      }
    },
    {
      "cell_type": "markdown",
      "source": [
        "Problem 3: What will be the output of the following program?\n",
        "```\n",
        "try:\n",
        "    print(\"a\")\n",
        "    raise Exception(\"doom\")\n",
        "except Exception as e:\n",
        "    print(e)\n",
        "    print(\"b\")\n",
        "else:\n",
        "    print(\"c\")\n",
        "finally:\n",
        "    print(\"d\")\n",
        "```"
      ],
      "metadata": {
        "id": "Gg0g6yKM7pDN"
      }
    },
    {
      "cell_type": "markdown",
      "source": [
        "######***Solution***"
      ],
      "metadata": {
        "id": "0tVkIF-K7pDN"
      }
    },
    {
      "cell_type": "code",
      "source": [
        "def main():\n",
        "    try:\n",
        "        print(\"a\")\n",
        "        raise Exception(\"doom\")\n",
        "    except Exception as e:\n",
        "        print(e)\n",
        "        print(\"b\")\n",
        "    else:\n",
        "        print(\"c\")\n",
        "    finally:\n",
        "        print(\"d\")\n",
        "\n",
        "if __name__ == \"__main__\":\n",
        "    main()"
      ],
      "metadata": {
        "colab": {
          "base_uri": "https://localhost:8080/"
        },
        "outputId": "aff87d28-a058-4550-f848-0c4b6fdf0285",
        "id": "UuW91BnC7pDN"
      },
      "execution_count": null,
      "outputs": [
        {
          "output_type": "stream",
          "name": "stdout",
          "text": [
            "a\n",
            "doom\n",
            "b\n",
            "d\n"
          ]
        }
      ]
    },
    {
      "cell_type": "markdown",
      "source": [
        "#####***Problem 4***"
      ],
      "metadata": {
        "id": "C3vFhTh-7_0L"
      }
    },
    {
      "cell_type": "markdown",
      "source": [
        "Problem 4: What will be the output of the following program?\n",
        "```\n",
        "def f():\n",
        "    try:\n",
        "        print(\"a\")\n",
        "        return\n",
        "    except:\n",
        "        print(\"b\")\n",
        "    else:\n",
        "        print(\"c\")\n",
        "    finally:\n",
        "        print(\"d\")\n",
        "\n",
        "f()\n",
        "```"
      ],
      "metadata": {
        "id": "0YZuwnFi7_0M"
      }
    },
    {
      "cell_type": "markdown",
      "source": [
        "######***Solution***"
      ],
      "metadata": {
        "id": "TWI_2zIl7_0M"
      }
    },
    {
      "cell_type": "code",
      "source": [
        "def f():\n",
        "    try:\n",
        "        print(\"a\")\n",
        "        return\n",
        "    except:\n",
        "        print(\"b\")\n",
        "    else:\n",
        "        print(\"c\")\n",
        "    finally:\n",
        "    # There can be an optional else clause with a try statement, \n",
        "    # which is executed irrespective of whether or not exception has occured.\n",
        "        print(\"d\")\n",
        "\n",
        "def main():\n",
        "    f()\n",
        "\n",
        "if __name__ == \"__main__\":\n",
        "    main()"
      ],
      "metadata": {
        "colab": {
          "base_uri": "https://localhost:8080/"
        },
        "outputId": "b6736568-d3c8-447b-ccf6-c854a0cd3381",
        "id": "O3Z9AUeI7_0M"
      },
      "execution_count": null,
      "outputs": [
        {
          "output_type": "stream",
          "name": "stdout",
          "text": [
            "a\n",
            "d\n"
          ]
        }
      ]
    },
    {
      "cell_type": "markdown",
      "source": [
        "###***Chapter Functional Programming***"
      ],
      "metadata": {
        "id": "dsXOHUEw9UzO"
      }
    },
    {
      "cell_type": "markdown",
      "source": [
        "####***Section Recursion***"
      ],
      "metadata": {
        "id": "Ht8_XqxT9_WJ"
      }
    },
    {
      "cell_type": "markdown",
      "source": [
        "#####***Problem 1***"
      ],
      "metadata": {
        "id": "fAQ_Sb1t9buB"
      }
    },
    {
      "cell_type": "markdown",
      "source": [
        "Problem 1: Implement a function product to multiply 2 numbers recursively using + and - operators only.\n",
        "```\n",
        ">>> product(2, 3)\n",
        "6\n",
        ">>> product(2, -3)\n",
        "-6\n",
        "```"
      ],
      "metadata": {
        "id": "JNM8SyyW9buB"
      }
    },
    {
      "cell_type": "markdown",
      "source": [
        "######***Solution***"
      ],
      "metadata": {
        "id": "qafiq6k99buC"
      }
    },
    {
      "cell_type": "code",
      "source": [
        "def product(n, m):\n",
        "    if m == 0:\n",
        "        return 0\n",
        "    if m == 1:\n",
        "        return n\n",
        "    if m == -1:\n",
        "        return - n\n",
        "    if m > 1:\n",
        "        return n + product(n, m-1)\n",
        "    if m < -1:\n",
        "        return -n + product(n, m+1)\n",
        "\n",
        "def main():\n",
        "    print(product(2, 3))\n",
        "    print(product(2, -3))\n",
        "\n",
        "if __name__ == \"__main__\":\n",
        "    main()"
      ],
      "metadata": {
        "colab": {
          "base_uri": "https://localhost:8080/"
        },
        "outputId": "09a5de8e-5c14-4e1f-da4f-ba2db21814ec",
        "id": "q4wH_cLc9buC"
      },
      "execution_count": null,
      "outputs": [
        {
          "output_type": "stream",
          "name": "stdout",
          "text": [
            "6\n",
            "-6\n"
          ]
        }
      ]
    },
    {
      "cell_type": "markdown",
      "source": [
        "#####***Problem 2***"
      ],
      "metadata": {
        "id": "lFqoeQvA9bx7"
      }
    },
    {
      "cell_type": "markdown",
      "source": [
        "Problem 2: Write a function flatten_dict to flatten a nested dictionary by joining the keys with . character.\n",
        "```\n",
        "flatten_dict({'a': 1, 'b': {'x': 2, 'y': 3}, 'c': 4})\n",
        "{'a': 1, 'b.x': 2, 'b.y': 3, 'c': 4}\n",
        "```"
      ],
      "metadata": {
        "id": "Z7_v8zoU9bx7"
      }
    },
    {
      "cell_type": "markdown",
      "source": [
        "######***Solution***"
      ],
      "metadata": {
        "id": "UHZW6pTv9bx7"
      }
    },
    {
      "cell_type": "code",
      "source": [
        "def flatten_dict(d):\n",
        "    out = {}    \n",
        "    for key, value in d.items():\n",
        "        if not isinstance(value, dict):\n",
        "            out[key] = value\n",
        "        else:\n",
        "            for key_1, value_1 in flatten_dict(value).items():\n",
        "                out[key+'.'+key_1] = value_1\n",
        "    return out\n",
        "\n",
        "def main():\n",
        "    print(flatten_dict({'a': 1, 'b': {'x': 2, 'y': 3}, 'c': 4}))\n",
        "\n",
        "if __name__ == \"__main__\":\n",
        "    main()"
      ],
      "metadata": {
        "colab": {
          "base_uri": "https://localhost:8080/"
        },
        "outputId": "d2a3a33f-2ce1-4e51-b05f-ae03fc6173fc",
        "id": "X1NEii9n9bx7"
      },
      "execution_count": null,
      "outputs": [
        {
          "output_type": "stream",
          "name": "stdout",
          "text": [
            "{'a': 1, 'b.x': 2, 'b.y': 3, 'c': 4}\n"
          ]
        }
      ]
    },
    {
      "cell_type": "markdown",
      "source": [
        "#####***Problem 3***"
      ],
      "metadata": {
        "id": "8DSLPRK_9b2R"
      }
    },
    {
      "cell_type": "markdown",
      "source": [
        "Problem 3: Write a function unflatten_dict to do reverse of flatten_dict.\n",
        "```\n",
        "unflatten_dict({'a': 1, 'b.x': 2, 'b.y': 3, 'c': 4})\n",
        "{'a': 1, 'b': {'x': 2, 'y': 3}, 'c': 4}\n",
        "```"
      ],
      "metadata": {
        "id": "0U9qTwW49b2R"
      }
    },
    {
      "cell_type": "markdown",
      "source": [
        "######***Solution***"
      ],
      "metadata": {
        "id": "OmGMNhzZ9b2S"
      }
    },
    {
      "cell_type": "code",
      "source": [
        "def unflatten_dict(d):\n",
        "    out = {}\n",
        "    for key in d.keys():\n",
        "        if \".\" in key:\n",
        "            parent, child = key.split(\".\", 1)\n",
        "            if parent in out.keys():\n",
        "                out[parent].update(unflatten_dict({child:d[key]}))\n",
        "            else:\n",
        "                out[parent] = unflatten_dict({child:d[key]})\n",
        "        else:\n",
        "            out[key] = d[key]\n",
        "    return out \n",
        "\n",
        "def main():\n",
        "    print(unflatten_dict({'a': 1, 'b.x': 2, 'b.y': 3, 'c': 4}))\n",
        "\n",
        "if __name__ == \"__main__\":\n",
        "    main()"
      ],
      "metadata": {
        "colab": {
          "base_uri": "https://localhost:8080/"
        },
        "outputId": "e6b5489f-bf9a-4ab7-878e-d21adf4967b8",
        "id": "zN6-Wi0M9b2S"
      },
      "execution_count": null,
      "outputs": [
        {
          "output_type": "stream",
          "name": "stdout",
          "text": [
            "{'a': 1, 'b': {'x': 2, 'y': 3}, 'c': 4}\n"
          ]
        }
      ]
    },
    {
      "cell_type": "markdown",
      "source": [
        "#####***Problem 4***"
      ],
      "metadata": {
        "id": "TwEyWU_29b6L"
      }
    },
    {
      "cell_type": "markdown",
      "source": [
        "Problem 4: Write a function treemap to map a function over nested list.\n",
        "```\n",
        ">>> treemap(lambda x: x*x, [1, 2, [3, 4, [5]]])\n",
        "[1, 4, [9, 16, [25]]]\n",
        "```"
      ],
      "metadata": {
        "id": "KK533E019b6M"
      }
    },
    {
      "cell_type": "markdown",
      "source": [
        "######***Solution***"
      ],
      "metadata": {
        "id": "cJ7FNsH09b6M"
      }
    },
    {
      "cell_type": "code",
      "source": [
        "def treemap(f, lst):\n",
        "    out = []\n",
        "    for item in lst:\n",
        "        if not isinstance(item, list):\n",
        "            out.append(f(item))\n",
        "        else:\n",
        "            out.append(treemap(f, item))\n",
        "    return out \n",
        "\n",
        "def main():\n",
        "    print(treemap(lambda x: x*x, [1, 2, [3, 4, [5]]]))\n",
        "\n",
        "if __name__ == \"__main__\":\n",
        "    main()"
      ],
      "metadata": {
        "colab": {
          "base_uri": "https://localhost:8080/"
        },
        "outputId": "999cbc06-8d4a-4aea-a3eb-08d778c85ca8",
        "id": "1zSYyebY9b6M"
      },
      "execution_count": null,
      "outputs": [
        {
          "output_type": "stream",
          "name": "stdout",
          "text": [
            "[1, 4, [9, 16, [25]]]\n"
          ]
        }
      ]
    },
    {
      "cell_type": "markdown",
      "source": [
        "#####***Problem 5***"
      ],
      "metadata": {
        "id": "syQu-RT59b-K"
      }
    },
    {
      "cell_type": "markdown",
      "source": [
        "Problem 5: Write a function tree_reverse to reverse elements of a nested-list recursively.\n",
        "```\n",
        "tree_reverse([[1, 2], [3, [4, 5]], 6])\n",
        "[6, [[5, 4], 3], [2, 1]]\n",
        "```"
      ],
      "metadata": {
        "id": "1WoOgSLp9b-K"
      }
    },
    {
      "cell_type": "markdown",
      "source": [
        "######***Solution***"
      ],
      "metadata": {
        "id": "yCEvl8jS9b-K"
      }
    },
    {
      "cell_type": "code",
      "source": [
        "def tree_reverse(lst):\n",
        "    out = []\n",
        "    for item in lst:\n",
        "        if not isinstance(item, list):\n",
        "            out.insert(0, item)\n",
        "        else:\n",
        "            out.insert(0, tree_reverse(item))\n",
        "    return out \n",
        "\n",
        "def main():\n",
        "    print(tree_reverse([[1, 2], [3, [4, 5]], 6]))\n",
        "\n",
        "if __name__ == \"__main__\":\n",
        "    main()"
      ],
      "metadata": {
        "colab": {
          "base_uri": "https://localhost:8080/"
        },
        "outputId": "bad59dfc-4563-43ff-bdaf-5d12430bcb49",
        "id": "AUCIgrpD9b-K"
      },
      "execution_count": null,
      "outputs": [
        {
          "output_type": "stream",
          "name": "stdout",
          "text": [
            "[6, [[5, 4], 3], [2, 1]]\n"
          ]
        }
      ]
    },
    {
      "cell_type": "markdown",
      "source": [
        "#####***Problem 6***"
      ],
      "metadata": {
        "id": "1OfQnwLf9cBv"
      }
    },
    {
      "cell_type": "markdown",
      "source": [
        "Problem 6: Complete the above implementation of json_encode by handling the case of dictionaries."
      ],
      "metadata": {
        "id": "EjAkvyQi9cBv"
      }
    },
    {
      "cell_type": "markdown",
      "source": [
        "######***Solution***"
      ],
      "metadata": {
        "id": "zwXE54ha9cBv"
      }
    },
    {
      "cell_type": "code",
      "source": [
        "def json_encode(data):\n",
        "    # It looks very much like Python dictionaries and lists. \n",
        "    # There are some differences though. \n",
        "    # Strings are always enclosed in double quotes, \n",
        "    # booleans are represented as true and false.\n",
        "    if isinstance(data, bool):\n",
        "        if data:\n",
        "            return \"true\"\n",
        "        else:\n",
        "            return \"false\"\n",
        "    elif isinstance(data, (int, float)):\n",
        "        return str(data)\n",
        "    elif isinstance(data, str):\n",
        "        return escape_string(data)\n",
        "    elif isinstance(data, list):\n",
        "        return \"[\" + \", \".join(json_encode(d) for d in data) + \"]\"\n",
        "    elif isinstance(data, dict):\n",
        "        temp = ['\\\"' + json_encode(key) + '\\\"' + \":\" + json_encode(value) \n",
        "                for key, value in data.items()]\n",
        "        return \"{\" + \", \".join(temp) + \"}\"\n",
        "    else:\n",
        "        raise TypeError(\"%s is not JSON serializable\" % repr(data))\n",
        "\n",
        "def escape_string(s):\n",
        "    \"\"\"Escapes double-quote, tab and new line characters in a string.\"\"\"\n",
        "    s = s.replace('\"', '\\\\\"')\n",
        "    s = s.replace(\"\\t\", \"\\\\t\")\n",
        "    s = s.replace(\"\\n\", \"\\\\n\")\n",
        "    return s\n",
        "\n",
        "def main():\n",
        "    print(json_encode('Tom said to me\\n\"Hi\"'))\n",
        "    print(json_encode({'dog':True, 'cat':5}))\n",
        "\n",
        "if __name__ == \"__main__\":\n",
        "    main()"
      ],
      "metadata": {
        "colab": {
          "base_uri": "https://localhost:8080/"
        },
        "outputId": "e5eb16d6-b495-43c4-8576-855740cef6fe",
        "id": "FrS4axhh9cBv"
      },
      "execution_count": null,
      "outputs": [
        {
          "output_type": "stream",
          "name": "stdout",
          "text": [
            "Tom said to me\\n\\\"Hi\\\"\n",
            "{\"dog\":true, \"cat\":5}\n"
          ]
        }
      ]
    },
    {
      "cell_type": "markdown",
      "source": [
        "#####***Problem 7***"
      ],
      "metadata": {
        "id": "jETH16iw9cFf"
      }
    },
    {
      "cell_type": "markdown",
      "source": [
        "Problem 7: Implement a program dirtree.py that takes a directory as argument and prints all the files in that directory recursively as a tree.\n",
        "\n",
        "Hint: Use os.listdir and os.path.isdir funtions.\n",
        "```\n",
        "$ python dirtree.py foo/\n",
        "foo/\n",
        "|-- a.txt\n",
        "|-- b.txt\n",
        "|-- bar/\n",
        "|   |-- p.txt\n",
        "|   `-- q.txt\n",
        "`-- c.txt\n",
        "```"
      ],
      "metadata": {
        "id": "ZKtsbBxQ9cFf"
      }
    },
    {
      "cell_type": "markdown",
      "source": [
        "######***Solution***"
      ],
      "metadata": {
        "id": "2Bp4lo6Z9cFf"
      }
    },
    {
      "cell_type": "code",
      "source": [
        "def dirtree(dir_path, layer=None):\n",
        "    \n",
        "    if layer is None:\n",
        "        layer = 0\n",
        "        print(dir_path)\n",
        "        \n",
        "    import os\n",
        "    files_or_dirs = os.listdir(dir_path)\n",
        "    \n",
        "    files = []\n",
        "    dirs = []\n",
        "    for file_or_dir in files_or_dirs:\n",
        "        if len(file_or_dir.split('.')) == 1: # directory name\n",
        "            dirs.append(file_or_dir)\n",
        "        else:\n",
        "            files.append(file_or_dir)\n",
        "            \n",
        "    for file in files:\n",
        "        print(\"     \"*layer + '|--- ' + file)\n",
        "            \n",
        "    for directory in dirs:\n",
        "        print(\"     \"*layer + '|--- ' + directory)\n",
        "        dirtree(os.path.join(dir_path, directory), layer=layer+1)\n",
        "\n",
        "def main():\n",
        "    dirtree('./')\n",
        "\n",
        "if __name__ == \"__main__\":\n",
        "    main()"
      ],
      "metadata": {
        "colab": {
          "base_uri": "https://localhost:8080/"
        },
        "outputId": "c52520cf-5c58-475d-bc71-2244b86515a6",
        "id": "ikaUcGVi9cFg"
      },
      "execution_count": null,
      "outputs": [
        {
          "output_type": "stream",
          "name": "stdout",
          "text": [
            "./\n",
            "|--- .config\n",
            "|--- sample_data\n",
            "     |--- README.md\n",
            "     |--- anscombe.json\n",
            "     |--- california_housing_test.csv\n",
            "     |--- california_housing_train.csv\n",
            "     |--- mnist_train_small.csv\n",
            "     |--- mnist_test.csv\n"
          ]
        }
      ]
    },
    {
      "cell_type": "markdown",
      "source": [
        "#####***Problem 8***"
      ],
      "metadata": {
        "id": "rziZ81wL9cJS"
      }
    },
    {
      "cell_type": "markdown",
      "source": [
        "Problem 8: Write a function count_change to count the number of ways to change any given amount. Available coins are also passed as argument to the function.\n",
        "```\n",
        ">>> count_change(10, [1, 5])\n",
        "3\n",
        ">>> count_change(10, [1, 2])\n",
        "6\n",
        ">>> count_change(100, [1, 5, 10, 25, 50])\n",
        "292\n",
        "```"
      ],
      "metadata": {
        "id": "0C6HZQps9cJT"
      }
    },
    {
      "cell_type": "markdown",
      "source": [
        "######***Solution***"
      ],
      "metadata": {
        "id": "6M1EM6wu9cJT"
      }
    },
    {
      "cell_type": "code",
      "source": [
        "def count_change(target=10, coins=[1, 5]):\n",
        "    \"\"\"\n",
        "    Args :\n",
        "        target : 사용가능한 동전을 여러개 사용하여 만들고자 하는 금액  \n",
        "        coins  : 사용가능한 동전 리스트\n",
        "      \n",
        "    Returns :\n",
        "        사용가능한 동전을 여러개 사용하여 만들고자 하는 금액(target)을 만드는 방법의 갯수\n",
        "    \"\"\"\n",
        "\n",
        "    coins.sort() \n",
        "    \n",
        "    if len(coins) == 0:\n",
        "        return 0\n",
        "    elif target < coins[0]:\n",
        "        return 0\n",
        "    elif target == coins[0]:\n",
        "        return 1\n",
        "    elif target < coins[-1]:\n",
        "        return count_change(target, coins[:-1])\n",
        "    elif target == coins[-1]:\n",
        "        return 1 + count_change(target, coins[:-1])\n",
        "    else:\n",
        "        return count_change(target, coins[:-1]) + count_change(target-coins[-1], coins)\n",
        "\n",
        "def main():\n",
        "    print(count_change(10, [1, 5]))\n",
        "    print(count_change(10, [1, 2]))\n",
        "    print(count_change(100, [1, 5, 10, 25, 50]))\n",
        "\n",
        "if __name__ == \"__main__\":\n",
        "    main()"
      ],
      "metadata": {
        "colab": {
          "base_uri": "https://localhost:8080/"
        },
        "outputId": "1f4a4b7b-b033-4bed-d05d-b4255ca21319",
        "id": "PHtIwwMt9cJT"
      },
      "execution_count": null,
      "outputs": [
        {
          "output_type": "stream",
          "name": "stdout",
          "text": [
            "3\n",
            "6\n",
            "292\n"
          ]
        }
      ]
    },
    {
      "cell_type": "markdown",
      "source": [
        "#####***Problem 9***"
      ],
      "metadata": {
        "id": "oXlYM53l9cNZ"
      }
    },
    {
      "cell_type": "markdown",
      "source": [
        "Problem 9: Write a function permute to compute all possible permutations of elements of a given list.\n",
        "```\n",
        ">>> permute([1, 2, 3])\n",
        "[[1, 2, 3], [1, 3, 2], [2, 1, 3], [2, 3, 1], [3, 1, 2], [3, 2, 1]]\n",
        "```"
      ],
      "metadata": {
        "id": "WlKPoUZk9cNZ"
      }
    },
    {
      "cell_type": "markdown",
      "source": [
        "######***Solution***"
      ],
      "metadata": {
        "id": "-WAtRu8k9cNZ"
      }
    },
    {
      "cell_type": "code",
      "source": [
        "def permute(lst):\n",
        "    if len(lst) <= 1:\n",
        "        return lst\n",
        "    if len(lst) == 2:\n",
        "        return [lst, [lst[1],lst[0]]]\n",
        "    out = []\n",
        "    for idx in range(len(lst)):\n",
        "        temp = lst.copy() # 주어진 리스트를 카피하여 \n",
        "        del temp[idx] # 주어진 인덱스의 리스트 멤버를 제거하여 작은 싸이즈의 리스트를 만든다.\n",
        "        for small_list in permute(temp): # 이를 임의로 퍼뮤트한 small_list에 대하여\n",
        "            out.append([lst[idx]] + small_list) # 맨앞에 주어진 인덱스 리스트 멤버를 추가, append to out\n",
        "    return out\n",
        "\n",
        "def main():\n",
        "    print(permute([1, 2, 3]))\n",
        "\n",
        "if __name__ == \"__main__\":\n",
        "    main()"
      ],
      "metadata": {
        "colab": {
          "base_uri": "https://localhost:8080/"
        },
        "outputId": "cb669477-0c48-481f-f7a1-7501a780c5b6",
        "id": "cSHU6RME9cNZ"
      },
      "execution_count": null,
      "outputs": [
        {
          "output_type": "stream",
          "name": "stdout",
          "text": [
            "[[1, 2, 3], [1, 3, 2], [2, 1, 3], [2, 3, 1], [3, 1, 2], [3, 2, 1]]\n"
          ]
        }
      ]
    },
    {
      "cell_type": "markdown",
      "source": [
        "####***Section Higher Order Functions & Decorators***"
      ],
      "metadata": {
        "id": "86GFNm715MGN"
      }
    },
    {
      "cell_type": "markdown",
      "source": [
        "#####***Problem 10***"
      ],
      "metadata": {
        "id": "mbwK0SQV9cSF"
      }
    },
    {
      "cell_type": "markdown",
      "source": [
        "Problem 10: Write a function profile, which takes a function as argument and returns a new function, which behaves exactly similar to the given function, except that it prints the time consumed in executing it.\n",
        "```\n",
        ">>> fib = profile(fib)\n",
        ">>> fib(20)\n",
        "time taken: 0.1 sec\n",
        "10946\n",
        "```"
      ],
      "metadata": {
        "id": "W4rnenVO9cSF"
      }
    },
    {
      "cell_type": "markdown",
      "source": [
        "######***Solution***"
      ],
      "metadata": {
        "id": "gWcQ19ZS9cSG"
      }
    },
    {
      "cell_type": "code",
      "source": [
        "def profile(f):\n",
        "    def g(*args, **kwargs):\n",
        "        import time\n",
        "        tic = time.time()\n",
        "        try:\n",
        "            return f(*args, **kwargs)\n",
        "        except:\n",
        "            pass\n",
        "        finally:\n",
        "            toc = time.time() # excuted before return function output\n",
        "            print(f'time taken: {toc-tic} sec') # excuted before return function output\n",
        "    return g\n",
        "\n",
        "def fib(n):\n",
        "    if n <= 1:\n",
        "        return 1\n",
        "    return fib(n-1) + f(n-2)\n",
        "\n",
        "def main():\n",
        "    fib_profile = profile(fib)\n",
        "    fib_profile(20)\n",
        "\n",
        "if __name__ == \"__main__\":\n",
        "    main()"
      ],
      "metadata": {
        "colab": {
          "base_uri": "https://localhost:8080/"
        },
        "outputId": "52af17a3-4a2e-47d6-9cfe-b6bb62adae83",
        "id": "3iLAzSAu9cSG"
      },
      "execution_count": null,
      "outputs": [
        {
          "output_type": "stream",
          "name": "stdout",
          "text": [
            "time taken: 1.4543533325195312e-05 sec\n"
          ]
        }
      ]
    },
    {
      "cell_type": "markdown",
      "source": [
        "#####***Problem 11***"
      ],
      "metadata": {
        "id": "ctfn1X0s9ccQ"
      }
    },
    {
      "cell_type": "markdown",
      "source": [
        "Problem 11: Write a function vectorize which takes a function f and return a new function, which takes a list as argument and calls f for every element and returns the result as a list.\n",
        "```\n",
        ">>> def square(x): return x * x\n",
        "\n",
        ">>> f = vectorize(square)\n",
        ">>> f([1, 2, 3])\n",
        "[1, 4, 9]\n",
        ">>> g = vectorize(len)\n",
        ">>> g([\"hello\", \"world\"])\n",
        "[5, 5]\n",
        ">>> g([[1, 2], [2, 3, 4]])\n",
        "[2, 3]\n",
        "```"
      ],
      "metadata": {
        "id": "pw1y2PQc9ccR"
      }
    },
    {
      "cell_type": "markdown",
      "source": [
        "######***Solution***"
      ],
      "metadata": {
        "id": "wTrZE89r9ccR"
      }
    },
    {
      "cell_type": "code",
      "source": [
        "def vectorize(f):\n",
        "    def g(lst):\n",
        "        out = []\n",
        "        for item in lst:\n",
        "            out.append(f(item))\n",
        "        return out\n",
        "    return g\n",
        "\n",
        "def main():\n",
        "    def square(x): return x * x\n",
        "    f = vectorize(square)\n",
        "    print(f([1, 2, 3]))\n",
        "    \n",
        "    g = vectorize(len)\n",
        "    print(g([\"hello\", \"world\"]))\n",
        "    print(g([[1, 2], [2, 3, 4]]))\n",
        "\n",
        "if __name__ == \"__main__\":\n",
        "    main()"
      ],
      "metadata": {
        "colab": {
          "base_uri": "https://localhost:8080/"
        },
        "outputId": "11588078-194c-45c4-89aa-c8f747a4a9ff",
        "id": "zy2nYkvv9ccR"
      },
      "execution_count": null,
      "outputs": [
        {
          "output_type": "stream",
          "name": "stdout",
          "text": [
            "[1, 4, 9]\n",
            "[5, 5]\n",
            "[2, 3]\n"
          ]
        }
      ]
    },
    {
      "cell_type": "markdown",
      "source": [
        "###***Chapter File Input/Output***"
      ],
      "metadata": {
        "id": "DH1aQZVDcalo"
      }
    },
    {
      "cell_type": "markdown",
      "source": [
        "#####***Problem 17***"
      ],
      "metadata": {
        "id": "tkVadGy1DlAM"
      }
    },
    {
      "cell_type": "markdown",
      "source": [
        "Problem 17: Write a program reverse.py to print lines of a file in reverse order.\n",
        "```\n",
        "$ cat she.txt\n",
        "She sells seashells on the seashore;\n",
        "The shells that she sells are seashells I'm sure.\n",
        "So if she sells seashells on the seashore,\n",
        "I'm sure that the shells are seashore shells.\n",
        "\n",
        "$ python reverse.py she.txt\n",
        "I'm sure that the shells are seashore shells.\n",
        "So if she sells seashells on the seashore,\n",
        "The shells that she sells are seashells I'm sure.\n",
        "She sells seashells on the seashore;\n",
        "```"
      ],
      "metadata": {
        "id": "KK0K8QWoDlGG"
      }
    },
    {
      "cell_type": "markdown",
      "source": [
        "######***Solution***"
      ],
      "metadata": {
        "id": "s-w2cGtkRz24"
      }
    },
    {
      "cell_type": "code",
      "source": [
        "%%writefile she.txt\n",
        "She sells seashells on the seashore;\n",
        "The shells that she sells are seashells I'm sure.\n",
        "So if she sells seashells on the seashore\n",
        "I'm sure that the shells are seashore shells."
      ],
      "metadata": {
        "colab": {
          "base_uri": "https://localhost:8080/"
        },
        "id": "dnS2_cRDRFxn",
        "outputId": "cc3c47e8-8c7f-4863-8797-64436115b6f3"
      },
      "execution_count": null,
      "outputs": [
        {
          "output_type": "stream",
          "name": "stdout",
          "text": [
            "Writing she.txt\n"
          ]
        }
      ]
    },
    {
      "cell_type": "code",
      "source": [
        "!cat she.txt"
      ],
      "metadata": {
        "colab": {
          "base_uri": "https://localhost:8080/"
        },
        "id": "25P-iHXxRzVU",
        "outputId": "ef2d6502-da82-476a-efd8-6e715e06875f"
      },
      "execution_count": null,
      "outputs": [
        {
          "output_type": "stream",
          "name": "stdout",
          "text": [
            "She sells seashells on the seashore;\n",
            "The shells that she sells are seashells I'm sure.\n",
            "So if she sells seashells on the seashore\n",
            "I'm sure that the shells are seashore shells.\n"
          ]
        }
      ]
    },
    {
      "cell_type": "code",
      "source": [
        "%%writefile reverse.py\n",
        "import sys\n",
        "file_path = sys.argv[1]\n",
        "with open(file_path) as f:\n",
        "    lines = f.readlines()\n",
        "    for line in lines[::-1]:\n",
        "        print(line, end=\"\")"
      ],
      "metadata": {
        "colab": {
          "base_uri": "https://localhost:8080/"
        },
        "id": "4E1ssaodSUWT",
        "outputId": "b72ac240-7eb3-4f0f-aacf-8b2dcca0ff56"
      },
      "execution_count": null,
      "outputs": [
        {
          "output_type": "stream",
          "name": "stdout",
          "text": [
            "Overwriting reverse.py\n"
          ]
        }
      ]
    },
    {
      "cell_type": "code",
      "source": [
        "!python reverse.py she.txt"
      ],
      "metadata": {
        "colab": {
          "base_uri": "https://localhost:8080/"
        },
        "id": "FV1TDvIBDvWj",
        "outputId": "76ad2ba3-092d-4034-b5b8-bcd79ca3db67"
      },
      "execution_count": null,
      "outputs": [
        {
          "output_type": "stream",
          "name": "stdout",
          "text": [
            "I'm sure that the shells are seashore shells.\n",
            "So if she sells seashells on the seashore\n",
            "The shells that she sells are seashells I'm sure.\n",
            "She sells seashells on the seashore;\n"
          ]
        }
      ]
    },
    {
      "cell_type": "markdown",
      "source": [
        "#####***Problem 18***"
      ],
      "metadata": {
        "id": "RF8k6YlUECVr"
      }
    },
    {
      "cell_type": "markdown",
      "source": [
        "Problem 18: Write a program to print each line of a file in reverse order."
      ],
      "metadata": {
        "id": "q8vYD3CfECVr"
      }
    },
    {
      "cell_type": "markdown",
      "source": [
        "######***Solution***"
      ],
      "metadata": {
        "id": "mnxuxoN7ECVr"
      }
    },
    {
      "cell_type": "code",
      "source": [
        "def reverse_line(file_path):\n",
        "    with open(file_path) as f:\n",
        "        lines = f.readlines()\n",
        "        for line in lines:\n",
        "            print(line[::-1], end=\"\")\n",
        "\n",
        "def main():\n",
        "    file_path = \"she.txt\"\n",
        "    reverse_line(file_path)\n",
        "\n",
        "\n",
        "if __name__ == \"__main__\":\n",
        "    main()"
      ],
      "metadata": {
        "colab": {
          "base_uri": "https://localhost:8080/"
        },
        "id": "R2aKrJTuECVs",
        "outputId": "e7896462-4c2b-4aca-af9c-78dcbe5220a9"
      },
      "execution_count": null,
      "outputs": [
        {
          "output_type": "stream",
          "name": "stdout",
          "text": [
            "\n",
            ";erohsaes eht no sllehsaes slles ehS\n",
            ".erus m'I sllehsaes era slles ehs taht sllehs ehT\n",
            "erohsaes eht no sllehsaes slles ehs fi oS\n",
            ".sllehs erohsaes era sllehs eht taht erus m'I"
          ]
        }
      ]
    },
    {
      "cell_type": "markdown",
      "source": [
        "#####***Problem 19***"
      ],
      "metadata": {
        "id": "IeSJCAYFECbq"
      }
    },
    {
      "cell_type": "markdown",
      "source": [
        "Problem 19: Implement unix commands head and tail. The head and tail commands take a file as argument and prints its first and last 10 lines of the file respectively."
      ],
      "metadata": {
        "id": "HS6xASwGECbq"
      }
    },
    {
      "cell_type": "markdown",
      "source": [
        "######***Solution***"
      ],
      "metadata": {
        "id": "8dSTv7BgECbr"
      }
    },
    {
      "cell_type": "code",
      "source": [
        "def head(file_path):\n",
        "    with open(file_path) as f:\n",
        "        lines = f.readlines()\n",
        "        for line in lines[:10]:\n",
        "            print(line, end=\"\")\n",
        "\n",
        "def tail(file_path):\n",
        "    with open(file_path) as f:\n",
        "        lines = f.readlines()\n",
        "        for line in lines[-10:]:\n",
        "            print(line, end=\"\")\n",
        "\n",
        "def main():\n",
        "    file_path = \"she.txt\"\n",
        "    head(file_path)\n",
        "    tail(file_path)\n",
        "\n",
        "if __name__ == \"__main__\":\n",
        "    main()"
      ],
      "metadata": {
        "colab": {
          "base_uri": "https://localhost:8080/"
        },
        "id": "cKp-9QgBECbr",
        "outputId": "3f74abfb-ca14-498c-8c69-87b3eb55fd42"
      },
      "execution_count": null,
      "outputs": [
        {
          "output_type": "stream",
          "name": "stdout",
          "text": [
            "She sells seashells on the seashore;\n",
            "The shells that she sells are seashells I'm sure.\n",
            "So if she sells seashells on the seashore\n",
            "I'm sure that the shells are seashore shells.\n",
            "She sells seashells on the seashore;\n",
            "The shells that she sells are seashells I'm sure.\n",
            "So if she sells seashells on the seashore\n",
            "I'm sure that the shells are seashore shells.\n"
          ]
        }
      ]
    },
    {
      "cell_type": "markdown",
      "source": [
        "#####***Problem 20***"
      ],
      "metadata": {
        "id": "AyPD4WcMECh_"
      }
    },
    {
      "cell_type": "markdown",
      "source": [
        "Problem 20: Implement unix command grep. The grep command takes a string and a file as arguments and prints all lines in the file which contain the specified string.\n",
        "```\n",
        "$ python grep.py she.txt sure\n",
        "The shells that she sells are seashells I'm sure.\n",
        "I'm sure that the shells are seashore shells.\n",
        "```"
      ],
      "metadata": {
        "id": "aYppjpC5ECiA"
      }
    },
    {
      "cell_type": "markdown",
      "source": [
        "######***Solution***"
      ],
      "metadata": {
        "id": "aAwJ5Ew-ECiA"
      }
    },
    {
      "cell_type": "code",
      "source": [
        "%%writefile grep.py\n",
        "import sys\n",
        "file_path, string = sys.argv[1:3]\n",
        "with open(file_path) as f:\n",
        "    lines = f.readlines()\n",
        "    for line in lines:\n",
        "        if string in line:\n",
        "            print(line, end=\"\")"
      ],
      "metadata": {
        "colab": {
          "base_uri": "https://localhost:8080/"
        },
        "id": "YYfmx-bUT1ZN",
        "outputId": "5bcc2db7-de5b-43a6-db56-3d6ee82d68df"
      },
      "execution_count": null,
      "outputs": [
        {
          "output_type": "stream",
          "name": "stdout",
          "text": [
            "Overwriting grep.py\n"
          ]
        }
      ]
    },
    {
      "cell_type": "code",
      "source": [
        "!python grep.py she.txt sure"
      ],
      "metadata": {
        "colab": {
          "base_uri": "https://localhost:8080/"
        },
        "id": "u1At4TjuT7q4",
        "outputId": "5064d6d6-2fe2-4cf8-dc42-3426af3a87c5"
      },
      "execution_count": null,
      "outputs": [
        {
          "output_type": "stream",
          "name": "stdout",
          "text": [
            "The shells that she sells are seashells I'm sure.\n",
            "I'm sure that the shells are seashore shells.\n"
          ]
        }
      ]
    },
    {
      "cell_type": "markdown",
      "source": [
        "#####***Problem 21***"
      ],
      "metadata": {
        "id": "ZwYEtHiJEC0d"
      }
    },
    {
      "cell_type": "markdown",
      "source": [
        "Problem 21: Write a program wrap.py that takes filename and width as aruguments and wraps the lines longer than width.\n",
        "```\n",
        "$ python wrap.py she.txt 30\n",
        "She sells seashells on the sea\n",
        "shore;\n",
        "The shells that she sells are \n",
        "seashells I'm sure.\n",
        "So if she sells seashells on t\n",
        "he seashore\n",
        "I'm sure that the shells are s\n",
        "eashore shells.\n",
        "```"
      ],
      "metadata": {
        "id": "p6xk-JwDEC0d"
      }
    },
    {
      "cell_type": "markdown",
      "source": [
        "######***Solution***"
      ],
      "metadata": {
        "id": "AlpGy66HEC0d"
      }
    },
    {
      "cell_type": "code",
      "source": [
        "%%writefile wrap.py\n",
        "def chunkstring(string, width):\n",
        "    return [string[0+i:width+i] for i in range(0, len(string), width)]\n",
        "\n",
        "import sys\n",
        "file_path, width = sys.argv[1:3]\n",
        "width = int(width)\n",
        "with open(file_path) as f:\n",
        "    lines = f.readlines()\n",
        "    for line in lines:\n",
        "        for string in chunkstring(line, width):\n",
        "            if string[-1] != \"\\n\":\n",
        "                print(string)\n",
        "            else:\n",
        "                print(string, end=\"\")"
      ],
      "metadata": {
        "colab": {
          "base_uri": "https://localhost:8080/"
        },
        "id": "gTaiw3hNUICD",
        "outputId": "a62f28ec-2585-4a9d-9d08-e3b2ac18c356"
      },
      "execution_count": null,
      "outputs": [
        {
          "output_type": "stream",
          "name": "stdout",
          "text": [
            "Overwriting wrap.py\n"
          ]
        }
      ]
    },
    {
      "cell_type": "code",
      "source": [
        "!python wrap.py she.txt 30"
      ],
      "metadata": {
        "colab": {
          "base_uri": "https://localhost:8080/"
        },
        "id": "3R4sZKArUNAm",
        "outputId": "ded81cfb-c05c-4952-ea64-33d49c79c7dd"
      },
      "execution_count": null,
      "outputs": [
        {
          "output_type": "stream",
          "name": "stdout",
          "text": [
            "She sells seashells on the sea\n",
            "shore;\n",
            "The shells that she sells are \n",
            "seashells I'm sure.\n",
            "So if she sells seashells on t\n",
            "he seashore\n",
            "I'm sure that the shells are s\n",
            "eashore shells.\n"
          ]
        }
      ]
    },
    {
      "cell_type": "markdown",
      "source": [
        "#####***Problem 22***"
      ],
      "metadata": {
        "id": "9ksFGM15EC7e"
      }
    },
    {
      "cell_type": "markdown",
      "source": [
        "Problem 22: The above wrap program is not so nice because it is breaking the line at middle of any word. Can you write a new program wordwrap.py that works like wrap.py, but breaks the line only at the word boundaries?\n",
        "```\n",
        "$ python wordwrap.py she.txt 30\n",
        "She sells seashells on the\n",
        "seashore;\n",
        "The shells that she sells are\n",
        "I'm sure.\n",
        "So if she sells seashells on\n",
        "seashore\n",
        "I'm sure that the shells are\n",
        "shells.\n",
        "```"
      ],
      "metadata": {
        "id": "CV5WDwSQEC7e"
      }
    },
    {
      "cell_type": "markdown",
      "source": [
        "######***Solution***"
      ],
      "metadata": {
        "id": "rdxsIdZQEC7f"
      }
    },
    {
      "cell_type": "code",
      "source": [
        "%%writefile wordwrap.py\n",
        "def chunkstring(string, width):    \n",
        "    words = string.split()\n",
        "    out = []\n",
        "    temp = \" \" # initialize two state variables\n",
        "    length_so_far = 0 # initialize two state variables\n",
        "    for word in words: \n",
        "        # compute length of the string temp if word is appended at the end of temp   \n",
        "        if length_so_far == 0: # if temp is an empty string\n",
        "            length_so_far = len(word)\n",
        "        else: # if temp is not an empty string\n",
        "            length_so_far = length_so_far + 1 + len(word)\n",
        "        \n",
        "        # word is appended at the end of temp \n",
        "        # if legth of the resulting string temp is less than equals to width \n",
        "        if length_so_far == len(word): # if temp is an empty string\n",
        "            temp = word\n",
        "        elif length_so_far <= width: # if append is allowed\n",
        "            temp = temp + ' ' + word\n",
        "        else: # if append is not allowed\n",
        "            out.append(temp) # current temp is appended out list\n",
        "            temp = word # initialize two state variables\n",
        "            length_so_far = 0 # initialize two state variables        \n",
        "    if temp != '':\n",
        "        out.append(temp)        \n",
        "    return out\n",
        "\n",
        "import sys\n",
        "file_path, width = sys.argv[1:3]\n",
        "width = int(width)\n",
        "with open(file_path) as f:\n",
        "    lines = f.readlines()\n",
        "    for line in lines:\n",
        "        for string in chunkstring(line, width):\n",
        "            if string[-1] != \"\\n\":\n",
        "                print(string)\n",
        "            else:\n",
        "                print(string, end=\"\")"
      ],
      "metadata": {
        "colab": {
          "base_uri": "https://localhost:8080/"
        },
        "id": "bm_aIBIiVq8E",
        "outputId": "fc81c4a6-9c8a-4bed-e56e-68842cb49aba"
      },
      "execution_count": null,
      "outputs": [
        {
          "output_type": "stream",
          "name": "stdout",
          "text": [
            "Writing wordwrap.py\n"
          ]
        }
      ]
    },
    {
      "cell_type": "code",
      "source": [
        "!python wordwrap.py she.txt 30"
      ],
      "metadata": {
        "colab": {
          "base_uri": "https://localhost:8080/"
        },
        "id": "0SJAeduXWBsJ",
        "outputId": "348975a0-4a39-4f97-9068-c655215560ab"
      },
      "execution_count": null,
      "outputs": [
        {
          "output_type": "stream",
          "name": "stdout",
          "text": [
            "She sells seashells on the\n",
            "seashore;\n",
            "The shells that she sells are\n",
            "I'm sure.\n",
            "So if she sells seashells on\n",
            "seashore\n",
            "I'm sure that the shells are\n",
            "shells.\n"
          ]
        }
      ]
    },
    {
      "cell_type": "markdown",
      "source": [
        "#####***Problem 23***"
      ],
      "metadata": {
        "id": "v-PX47RyEDFg"
      }
    },
    {
      "cell_type": "markdown",
      "source": [
        "Problem 23: Write a program center_align.py to center align all lines in the given file.\n",
        "```\n",
        "$ python center_align.py she.txt\n",
        "      She sells seashells on the seashore;\n",
        "       The shells that she sells are seashells I'm sure.\n",
        "    So if she sells seashells on the seashore\n",
        "      I'm sure that the shells are seashore shells.\n",
        "```"
      ],
      "metadata": {
        "id": "Z1zXprPsEDFg"
      }
    },
    {
      "cell_type": "markdown",
      "source": [
        "######***Solution***"
      ],
      "metadata": {
        "id": "c3C_dKztEDFh"
      }
    },
    {
      "cell_type": "code",
      "source": [
        "%%writefile center_align.py\n",
        "import sys\n",
        "file_path = sys.argv[1]\n",
        "with open(file_path) as f:\n",
        "    lines = f.readlines()\n",
        "    max_width = max(map(len, lines))\n",
        "    for line in lines:\n",
        "        print(line.center(max_width, ' '), end=\"\")"
      ],
      "metadata": {
        "colab": {
          "base_uri": "https://localhost:8080/"
        },
        "id": "k4KWEQLmWONT",
        "outputId": "61ecfcc7-0486-4567-877d-3363e5e4bdac"
      },
      "execution_count": null,
      "outputs": [
        {
          "output_type": "stream",
          "name": "stdout",
          "text": [
            "Overwriting center_align.py\n"
          ]
        }
      ]
    },
    {
      "cell_type": "code",
      "source": [
        "!python center_align.py she.txt"
      ],
      "metadata": {
        "colab": {
          "base_uri": "https://localhost:8080/"
        },
        "id": "_4t3PQHNWOXn",
        "outputId": "21bd4470-d268-47a6-ed13-b04c32731ed8"
      },
      "execution_count": null,
      "outputs": [
        {
          "output_type": "stream",
          "name": "stdout",
          "text": [
            "      She sells seashells on the seashore;\n",
            "       The shells that she sells are seashells I'm sure.\n",
            "    So if she sells seashells on the seashore\n",
            "      I'm sure that the shells are seashore shells.\n",
            "  "
          ]
        }
      ]
    },
    {
      "cell_type": "markdown",
      "source": [
        "###***Chapter Module***"
      ],
      "metadata": {
        "id": "uWiPM2dPIsmX"
      }
    },
    {
      "cell_type": "markdown",
      "source": [
        "####***Section os***"
      ],
      "metadata": {
        "id": "npjR00Y8IsmX"
      }
    },
    {
      "cell_type": "markdown",
      "source": [
        "#####***Problem 1***"
      ],
      "metadata": {
        "id": "37-2oaGzIsmY"
      }
    },
    {
      "cell_type": "markdown",
      "source": [
        "Problem 1: Write a program to list all files in the given directory."
      ],
      "metadata": {
        "id": "9hp0_2iFIsmY"
      }
    },
    {
      "cell_type": "markdown",
      "source": [
        "######***Solution***"
      ],
      "metadata": {
        "id": "dPoAKKUzIsmY"
      }
    },
    {
      "cell_type": "code",
      "source": [
        "import os\n",
        "\n",
        "def list_files(directory):\n",
        "    out = []\n",
        "    for filename in os.listdir(directory):\n",
        "        path = os.path.join(directory, filename)\n",
        "        #if os.path.isfile(path):\n",
        "        out.append(path)\n",
        "    return out\n",
        "\n",
        "def main():\n",
        "    print(list_files(\"./\"))\n",
        "\n",
        "if __name__ == \"__main__\":\n",
        "    main()"
      ],
      "metadata": {
        "colab": {
          "base_uri": "https://localhost:8080/"
        },
        "outputId": "a9f7dc14-1510-4b12-bc50-450e94d0a0d6",
        "id": "RtrLzUlkIsmY"
      },
      "execution_count": null,
      "outputs": [
        {
          "output_type": "stream",
          "name": "stdout",
          "text": [
            "['./.config', './reverse-2.py', './reverse_2.py', './reverse_1.py', './reverse_0.py', './sample_data']\n"
          ]
        }
      ]
    },
    {
      "cell_type": "markdown",
      "source": [
        "#####***Problem 2***"
      ],
      "metadata": {
        "id": "fc-N0N7uIsmY"
      }
    },
    {
      "cell_type": "markdown",
      "source": [
        "Problem 2: Write a program extcount.py to count number of files for each extension in the given directory. The program should take a directory name as argument and print count and extension for each available file extension.\n",
        "```\n",
        "$ python extcount.py src/\n",
        "14 py\n",
        "4 txt\n",
        "1 csv\n",
        "```"
      ],
      "metadata": {
        "id": "bC3XJSR5IsmY"
      }
    },
    {
      "cell_type": "markdown",
      "source": [
        "######***Solution***"
      ],
      "metadata": {
        "id": "pLF15MX_IsmY"
      }
    },
    {
      "cell_type": "code",
      "source": [
        "import os\n",
        "\n",
        "def list_files(directory):\n",
        "    out = []\n",
        "    for filename in os.listdir(directory):\n",
        "        path = os.path.join(directory, filename)\n",
        "        out.append(path)\n",
        "    return out\n",
        "\n",
        "def extcount(directory):\n",
        "    lst = list_files(directory)\n",
        "    d = {}\n",
        "    for path in lst:\n",
        "        if os.path.isfile(path):\n",
        "            key = path.split(\".\")[-1]\n",
        "            d[key] = d.get(key, 0) + 1\n",
        "    return d\n",
        "\n",
        "def main():\n",
        "    print(extcount(\"./\"))\n",
        "\n",
        "if __name__ == \"__main__\":\n",
        "    main()"
      ],
      "metadata": {
        "colab": {
          "base_uri": "https://localhost:8080/"
        },
        "outputId": "ce63d583-114d-4743-c580-a15867d04543",
        "id": "VXc3wxaFIsmZ"
      },
      "execution_count": null,
      "outputs": [
        {
          "output_type": "stream",
          "name": "stdout",
          "text": [
            "{'py': 4}\n"
          ]
        }
      ]
    },
    {
      "cell_type": "markdown",
      "source": [
        "####***Section sys***"
      ],
      "metadata": {
        "id": "lxI88sIpIsmZ"
      }
    },
    {
      "cell_type": "markdown",
      "source": [
        "#####***Problem 13***"
      ],
      "metadata": {
        "id": "wI_8VmpxIsmZ"
      }
    },
    {
      "cell_type": "markdown",
      "source": [
        "Problem 13: Write a program add.py that takes 2 numbers as command line arguments and prints its sum.\n",
        "```\n",
        "$ python add.py 3 5\n",
        "8\n",
        "$ python add.py 2 9\n",
        "11\n",
        "```"
      ],
      "metadata": {
        "id": "zlvLzJ6rIsmZ"
      }
    },
    {
      "cell_type": "markdown",
      "source": [
        "######***Solution***"
      ],
      "metadata": {
        "id": "U30CdWeRIsmZ"
      }
    },
    {
      "cell_type": "code",
      "source": [
        "# add.py\n",
        "import sys\n",
        "a, b = sys.argv[1:3] # sys.argv index start with 1, not 0\n",
        "sum = int(a) + int(b)\n",
        "print(sum)"
      ],
      "metadata": {
        "id": "AN1wyzHDIsmZ"
      },
      "execution_count": null,
      "outputs": []
    },
    {
      "cell_type": "markdown",
      "source": [
        "####***Section datetime***"
      ],
      "metadata": {
        "id": "Hi2psb1wIsmZ"
      }
    },
    {
      "cell_type": "markdown",
      "source": [
        "#####***241***"
      ],
      "metadata": {
        "id": "af8p8DLUIsmZ"
      }
    },
    {
      "cell_type": "markdown",
      "source": [
        "241 현재시간\n",
        "datetime 모듈을 사용해서 현재 시간을 화면에 출력해보세요."
      ],
      "metadata": {
        "id": "B3grQCNSIsmZ"
      }
    },
    {
      "cell_type": "markdown",
      "source": [
        "######***Solution***"
      ],
      "metadata": {
        "id": "ZSKkuBFHIsmZ"
      }
    },
    {
      "cell_type": "code",
      "source": [
        "import datetime\n",
        "\n",
        "now = datetime.datetime.now()\n",
        "print(now)"
      ],
      "metadata": {
        "colab": {
          "base_uri": "https://localhost:8080/"
        },
        "outputId": "5a4591fe-7723-4524-a175-9fb1968fe9d7",
        "id": "mTseNwfgIsma"
      },
      "execution_count": null,
      "outputs": [
        {
          "output_type": "stream",
          "name": "stdout",
          "text": [
            "2023-03-19 16:51:28.357344\n"
          ]
        }
      ]
    },
    {
      "cell_type": "markdown",
      "source": [
        "#####***242***"
      ],
      "metadata": {
        "id": "JwwHFsi9Isma"
      }
    },
    {
      "cell_type": "markdown",
      "source": [
        "242 현재시간의 타입\n",
        "datetime 모듈의 now 함수의 리턴 값의 타입을 화면에 출력해보세요."
      ],
      "metadata": {
        "id": "WRbKafXhIsma"
      }
    },
    {
      "cell_type": "markdown",
      "source": [
        "######***Solution***"
      ],
      "metadata": {
        "id": "WMWO6Rv9Isma"
      }
    },
    {
      "cell_type": "code",
      "source": [
        "import datetime\n",
        "\n",
        "now = datetime.datetime.now()\n",
        "print(now, type(now))"
      ],
      "metadata": {
        "colab": {
          "base_uri": "https://localhost:8080/"
        },
        "outputId": "de46e020-38a7-433e-9d65-f26ba661f6a4",
        "id": "b_o93D4BIsma"
      },
      "execution_count": null,
      "outputs": [
        {
          "output_type": "stream",
          "name": "stdout",
          "text": [
            "2023-03-19 16:50:11.443451 <class 'datetime.datetime'>\n"
          ]
        }
      ]
    },
    {
      "cell_type": "markdown",
      "source": [
        "#####***243***"
      ],
      "metadata": {
        "id": "Q6lzZzD5Isma"
      }
    },
    {
      "cell_type": "markdown",
      "source": [
        "243 timedelta\n",
        "datetime 모듈의 timedelta를 사용해서 오늘로부터 5일, 4일, 3일, 2일, 1일 전의 날짜를 화면에 출력해보세요."
      ],
      "metadata": {
        "id": "vXnWgM0oIsma"
      }
    },
    {
      "cell_type": "markdown",
      "source": [
        "######***Solution***"
      ],
      "metadata": {
        "id": "rXKVFXs2Isma"
      }
    },
    {
      "cell_type": "code",
      "source": [
        "import datetime\n",
        "\n",
        "now = datetime.datetime.now()\n",
        "\n",
        "for day in range(5, 0, -1):\n",
        "    delta = datetime.timedelta(days=day)\n",
        "    date = now - delta\n",
        "    print(date)"
      ],
      "metadata": {
        "colab": {
          "base_uri": "https://localhost:8080/"
        },
        "outputId": "8f184970-a534-488b-b3ea-afb20da9bb75",
        "id": "P3xzaYDOIsma"
      },
      "execution_count": null,
      "outputs": [
        {
          "output_type": "stream",
          "name": "stdout",
          "text": [
            "2023-03-14 16:52:54.162491\n",
            "2023-03-15 16:52:54.162491\n",
            "2023-03-16 16:52:54.162491\n",
            "2023-03-17 16:52:54.162491\n",
            "2023-03-18 16:52:54.162491\n"
          ]
        }
      ]
    },
    {
      "cell_type": "markdown",
      "source": [
        "#####***244***"
      ],
      "metadata": {
        "id": "NgY1n1i1Isma"
      }
    },
    {
      "cell_type": "markdown",
      "source": [
        "244 strftime (string from time)\n",
        "현재시간을 얻어온 후 다음과 같은 포맷으로 시간을 출력해보세요. strftime 메서드를 사용하세요.\n",
        "```\n",
        "18:35:01 \n",
        "```"
      ],
      "metadata": {
        "id": "ze1o5XAbIsma"
      }
    },
    {
      "cell_type": "markdown",
      "source": [
        "######***Solution***"
      ],
      "metadata": {
        "id": "Q65_wrhnIsmb"
      }
    },
    {
      "cell_type": "code",
      "source": [
        "import datetime\n",
        "\n",
        "now = datetime.datetime.now()\n",
        "print(now.strftime(\"%H:%M:%S\"))"
      ],
      "metadata": {
        "colab": {
          "base_uri": "https://localhost:8080/"
        },
        "outputId": "c13976c6-a38c-42ea-daba-d9d80e24e423",
        "id": "7ViRwEYPIsmb"
      },
      "execution_count": null,
      "outputs": [
        {
          "output_type": "stream",
          "name": "stdout",
          "text": [
            "16:54:37\n"
          ]
        }
      ]
    },
    {
      "cell_type": "markdown",
      "source": [
        "#####***245***"
      ],
      "metadata": {
        "id": "BIAtrbt9Ismb"
      }
    },
    {
      "cell_type": "markdown",
      "source": [
        "245 strptime (string parse time)\n",
        "datetime.datetime.strptime 메서드를 사용하면 문자열 형식의 시간을 datetime.datetime 타입의 시간 값으로 만들어줍니다. \"2020-05-04\"의 문자열을 시간 타입으로 변환해보세요."
      ],
      "metadata": {
        "id": "GZiETiprIsmb"
      }
    },
    {
      "cell_type": "markdown",
      "source": [
        "######***Solution***"
      ],
      "metadata": {
        "id": "J-VQnHOFIsmb"
      }
    },
    {
      "cell_type": "code",
      "source": [
        "import datetime\n",
        "\n",
        "day = \"2020-05-04\"\n",
        "ret = datetime.datetime.strptime(day, \"%Y-%m-%d\")\n",
        "print(ret, type(ret))"
      ],
      "metadata": {
        "outputId": "7a0d1238-c35e-4516-9ee7-04d643096be2",
        "colab": {
          "base_uri": "https://localhost:8080/"
        },
        "id": "qyVaHxleIsmb"
      },
      "execution_count": null,
      "outputs": [
        {
          "output_type": "stream",
          "name": "stdout",
          "text": [
            "2020-05-04 00:00:00 <class 'datetime.datetime'>\n"
          ]
        }
      ]
    },
    {
      "cell_type": "markdown",
      "source": [
        "####***Section random***"
      ],
      "metadata": {
        "id": "8dUbu7OJUisa"
      }
    },
    {
      "cell_type": "markdown",
      "source": [
        "#####***Exercise***"
      ],
      "metadata": {
        "id": "M-yRkbrZUoii"
      }
    },
    {
      "cell_type": "markdown",
      "source": [
        "```\n",
        "# Write a script that, when executed, allows the user to \n",
        "# play a game of rock paper scissors against a computer.\n",
        "# To do this, you will need to accept input from the user,\n",
        "# and use python's random module to control the computer's\n",
        "# choices...\n",
        "\n",
        "# Here is a little code to help you get started:\n",
        "\n",
        "# This builtin function, choice, randomly selects an item from a list.\n",
        "from random import choice\n",
        "sample_list = ['a', 'b', 'c', 'd']\n",
        "\n",
        "player_typed = input(\"Type something...\\n> \")\n",
        "print(\"Random selection: \", choice(sample_list))\n",
        "print(\"Player typed: \", player_typed)\n",
        "```\n",
        "\n",
        "[Sorce](https://github.com/Tebs-Lab/intro-to-programming/blob/master/exercises/writing-exercises/05-bonus-rock-paper-scissors.py)"
      ],
      "metadata": {
        "id": "KJRioHdrUoii"
      }
    },
    {
      "cell_type": "markdown",
      "source": [
        "######***Solution***"
      ],
      "metadata": {
        "id": "2f5ideh0Uoii"
      }
    },
    {
      "cell_type": "code",
      "source": [
        "from random import choice\n",
        "\n",
        "def rock_paper_scissors_random():\n",
        "    return choice([\"rock\", \"paper\", \"scissors\"])\n",
        "\n",
        "def compare(computer, you):\n",
        "    if computer == you:\n",
        "        print('Tie')\n",
        "        return\n",
        "    for computer_hand, your_hand in zip([\"rock\", \"paper\", \"scissors\"],[\"paper\", \"scissors\",\"rock\"]):\n",
        "        if computer == computer_hand:\n",
        "            if you == your_hand:\n",
        "                print(\"You win\")\n",
        "                return \n",
        "            else:\n",
        "                print(\"You lose\")\n",
        "                return\n",
        "\n",
        "def main():\n",
        "    computer = rock_paper_scissors_random()\n",
        "    you = input(\"what is your hand? rock, paper, scissors?\")\n",
        "    compare(computer, you)\n",
        "\n",
        "if __name__ == \"__main__\":\n",
        "    main()"
      ],
      "metadata": {
        "outputId": "a0ef245c-9106-4c7f-fbdd-d13255d6e0bc",
        "colab": {
          "base_uri": "https://localhost:8080/"
        },
        "id": "cav0hzHFUoij"
      },
      "execution_count": null,
      "outputs": [
        {
          "output_type": "stream",
          "name": "stdout",
          "text": [
            "what is your hand? rock, paper, scissors?rock\n",
            "You lose\n"
          ]
        }
      ]
    },
    {
      "cell_type": "markdown",
      "source": [
        "####***Section json***"
      ],
      "metadata": {
        "id": "jHUbaPb_03MX"
      }
    },
    {
      "cell_type": "markdown",
      "source": [
        "####***Section zipfile***"
      ],
      "metadata": {
        "id": "4kgi1_hu03QT"
      }
    },
    {
      "cell_type": "markdown",
      "source": [
        "####***Section re***"
      ],
      "metadata": {
        "id": "H0rXOrw003UF"
      }
    },
    {
      "cell_type": "markdown",
      "source": [
        "####***Section urllib***"
      ],
      "metadata": {
        "id": "NdesLHVz03Xx"
      }
    },
    {
      "cell_type": "markdown",
      "source": [
        "###***Reference***"
      ],
      "metadata": {
        "id": "C_WYO4_NRpYW"
      }
    },
    {
      "cell_type": "markdown",
      "source": [
        "[Python Practice Book](https://anandology.com/python-practice-book/getting-started.html#running-python-interpreter)\n",
        "\n",
        "[초보자를 위한 파이썬 300제](https://wikidocs.net/7027)"
      ],
      "metadata": {
        "id": "hw_Te5ThRpbf"
      }
    }
  ]
}