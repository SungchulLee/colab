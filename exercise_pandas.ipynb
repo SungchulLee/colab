{
  "nbformat": 4,
  "nbformat_minor": 0,
  "metadata": {
    "colab": {
      "provenance": [],
      "collapsed_sections": [
        "EMgeXCh5FvEw"
      ],
      "authorship_tag": "ABX9TyNlhOPN4UpZmBb7awXCGWra",
      "include_colab_link": true
    },
    "kernelspec": {
      "name": "python3",
      "display_name": "Python 3"
    },
    "language_info": {
      "name": "python"
    }
  },
  "cells": [
    {
      "cell_type": "markdown",
      "metadata": {
        "id": "view-in-github",
        "colab_type": "text"
      },
      "source": [
        "<a href=\"https://colab.research.google.com/github/SungchulLee/colab/blob/main/exercise_pandas.ipynb\" target=\"_parent\"><img src=\"https://colab.research.google.com/assets/colab-badge.svg\" alt=\"Open In Colab\"/></a>"
      ]
    },
    {
      "cell_type": "markdown",
      "source": [
        "###***Chapter 0 Installment Extra Packages***"
      ],
      "metadata": {
        "id": "EMgeXCh5FvEw"
      }
    },
    {
      "cell_type": "markdown",
      "source": [
        "#####***Install pandas-datareader and yfinance***"
      ],
      "metadata": {
        "id": "DYmHVqycPIjh"
      }
    },
    {
      "cell_type": "code",
      "source": [
        "!pip install pandas-datareader\n",
        "!pip install yfinance"
      ],
      "metadata": {
        "colab": {
          "base_uri": "https://localhost:8080/"
        },
        "id": "aKn4skGAF4b9",
        "outputId": "791fc5f4-809a-46c8-f7d9-0e077b327119"
      },
      "execution_count": null,
      "outputs": [
        {
          "output_type": "stream",
          "name": "stdout",
          "text": [
            "Looking in indexes: https://pypi.org/simple, https://us-python.pkg.dev/colab-wheels/public/simple/\n",
            "Requirement already satisfied: pandas-datareader in /usr/local/lib/python3.9/dist-packages (0.10.0)\n",
            "Requirement already satisfied: requests>=2.19.0 in /usr/local/lib/python3.9/dist-packages (from pandas-datareader) (2.27.1)\n",
            "Requirement already satisfied: lxml in /usr/local/lib/python3.9/dist-packages (from pandas-datareader) (4.9.2)\n",
            "Requirement already satisfied: pandas>=0.23 in /usr/local/lib/python3.9/dist-packages (from pandas-datareader) (1.5.3)\n",
            "Requirement already satisfied: numpy>=1.20.3 in /usr/local/lib/python3.9/dist-packages (from pandas>=0.23->pandas-datareader) (1.22.4)\n",
            "Requirement already satisfied: pytz>=2020.1 in /usr/local/lib/python3.9/dist-packages (from pandas>=0.23->pandas-datareader) (2022.7.1)\n",
            "Requirement already satisfied: python-dateutil>=2.8.1 in /usr/local/lib/python3.9/dist-packages (from pandas>=0.23->pandas-datareader) (2.8.2)\n",
            "Requirement already satisfied: charset-normalizer~=2.0.0 in /usr/local/lib/python3.9/dist-packages (from requests>=2.19.0->pandas-datareader) (2.0.12)\n",
            "Requirement already satisfied: urllib3<1.27,>=1.21.1 in /usr/local/lib/python3.9/dist-packages (from requests>=2.19.0->pandas-datareader) (1.26.15)\n",
            "Requirement already satisfied: certifi>=2017.4.17 in /usr/local/lib/python3.9/dist-packages (from requests>=2.19.0->pandas-datareader) (2022.12.7)\n",
            "Requirement already satisfied: idna<4,>=2.5 in /usr/local/lib/python3.9/dist-packages (from requests>=2.19.0->pandas-datareader) (3.4)\n",
            "Requirement already satisfied: six>=1.5 in /usr/local/lib/python3.9/dist-packages (from python-dateutil>=2.8.1->pandas>=0.23->pandas-datareader) (1.16.0)\n",
            "Looking in indexes: https://pypi.org/simple, https://us-python.pkg.dev/colab-wheels/public/simple/\n",
            "Requirement already satisfied: yfinance in /usr/local/lib/python3.9/dist-packages (0.2.17)\n",
            "Requirement already satisfied: pandas>=1.3.0 in /usr/local/lib/python3.9/dist-packages (from yfinance) (1.5.3)\n",
            "Requirement already satisfied: numpy>=1.16.5 in /usr/local/lib/python3.9/dist-packages (from yfinance) (1.22.4)\n",
            "Requirement already satisfied: requests>=2.26 in /usr/local/lib/python3.9/dist-packages (from yfinance) (2.27.1)\n",
            "Requirement already satisfied: multitasking>=0.0.7 in /usr/local/lib/python3.9/dist-packages (from yfinance) (0.0.11)\n",
            "Requirement already satisfied: pytz>=2022.5 in /usr/local/lib/python3.9/dist-packages (from yfinance) (2022.7.1)\n",
            "Requirement already satisfied: html5lib>=1.1 in /usr/local/lib/python3.9/dist-packages (from yfinance) (1.1)\n",
            "Requirement already satisfied: frozendict>=2.3.4 in /usr/local/lib/python3.9/dist-packages (from yfinance) (2.3.7)\n",
            "Requirement already satisfied: lxml>=4.9.1 in /usr/local/lib/python3.9/dist-packages (from yfinance) (4.9.2)\n",
            "Requirement already satisfied: beautifulsoup4>=4.11.1 in /usr/local/lib/python3.9/dist-packages (from yfinance) (4.11.2)\n",
            "Requirement already satisfied: cryptography>=3.3.2 in /usr/local/lib/python3.9/dist-packages (from yfinance) (40.0.1)\n",
            "Requirement already satisfied: appdirs>=1.4.4 in /usr/local/lib/python3.9/dist-packages (from yfinance) (1.4.4)\n",
            "Requirement already satisfied: soupsieve>1.2 in /usr/local/lib/python3.9/dist-packages (from beautifulsoup4>=4.11.1->yfinance) (2.4)\n",
            "Requirement already satisfied: cffi>=1.12 in /usr/local/lib/python3.9/dist-packages (from cryptography>=3.3.2->yfinance) (1.15.1)\n",
            "Requirement already satisfied: six>=1.9 in /usr/local/lib/python3.9/dist-packages (from html5lib>=1.1->yfinance) (1.16.0)\n",
            "Requirement already satisfied: webencodings in /usr/local/lib/python3.9/dist-packages (from html5lib>=1.1->yfinance) (0.5.1)\n",
            "Requirement already satisfied: python-dateutil>=2.8.1 in /usr/local/lib/python3.9/dist-packages (from pandas>=1.3.0->yfinance) (2.8.2)\n",
            "Requirement already satisfied: idna<4,>=2.5 in /usr/local/lib/python3.9/dist-packages (from requests>=2.26->yfinance) (3.4)\n",
            "Requirement already satisfied: charset-normalizer~=2.0.0 in /usr/local/lib/python3.9/dist-packages (from requests>=2.26->yfinance) (2.0.12)\n",
            "Requirement already satisfied: urllib3<1.27,>=1.21.1 in /usr/local/lib/python3.9/dist-packages (from requests>=2.26->yfinance) (1.26.15)\n",
            "Requirement already satisfied: certifi>=2017.4.17 in /usr/local/lib/python3.9/dist-packages (from requests>=2.26->yfinance) (2022.12.7)\n",
            "Requirement already satisfied: pycparser in /usr/local/lib/python3.9/dist-packages (from cffi>=1.12->cryptography>=3.3.2->yfinance) (2.21)\n"
          ]
        }
      ]
    },
    {
      "cell_type": "markdown",
      "source": [
        "#####***Import Basic Modules***"
      ],
      "metadata": {
        "id": "SWCZcDJZZ7Sk"
      }
    },
    {
      "cell_type": "code",
      "source": [
        "import matplotlib.pyplot as plt\n",
        "import numpy as np; np.random.seed(0)\n",
        "import pandas as pd\n",
        "import yfinance as yf\n",
        "from scipy import stats"
      ],
      "metadata": {
        "id": "V-xER5nuZ7dz"
      },
      "execution_count": null,
      "outputs": []
    },
    {
      "cell_type": "markdown",
      "source": [
        "###***Chapter 4 Series Method***"
      ],
      "metadata": {
        "id": "_yvFG_7ozIHa"
      }
    },
    {
      "cell_type": "markdown",
      "source": [
        "####***Section 2 Statistics Method***"
      ],
      "metadata": {
        "id": "K1nq6sDSzIKB"
      }
    },
    {
      "cell_type": "markdown",
      "source": [
        "#####***Exercise***"
      ],
      "metadata": {
        "id": "xncRUl6GzIMs"
      }
    },
    {
      "cell_type": "markdown",
      "source": [
        "Compute male admition rate of six major departments of UC Berkeley graduate program gender bias data.\n",
        "\n",
        "$$\\begin{array}{ccc}\n",
        "&\\text{Men}&\\text{Women}\\\\\n",
        "% first column (start)\n",
        "\\begin{array}{c}\n",
        "\\\\\n",
        "\\text{Major}\\\\\\hline\n",
        "\\text{A}\\\\\n",
        "\\text{B}\\\\\n",
        "\\text{C}\\\\\n",
        "\\text{D}\\\\\n",
        "\\text{E}\\\\\n",
        "\\text{F}\\\\\n",
        "\\end{array}&\n",
        "% first column (end)\n",
        "% second column (start)\n",
        "\\begin{array}{rr}\n",
        "\\text{Number of}&\\text{Percent}\\\\\n",
        "\\text{applicants}&\\text{admitted}\\\\\\hline\n",
        "825&62\\\\\n",
        "560&63\\\\\n",
        "325&\\bf{37}\\\\\n",
        "417&33\\\\\n",
        "191&\\bf{28}\\\\\n",
        "373&6\\\\\n",
        "\\end{array}&\n",
        "% second column (end)\n",
        "% third column (start)\n",
        "\\begin{array}{rr}\n",
        "\\text{Number of}&\\text{Percent}\\\\\n",
        "\\text{applicants}&\\text{admitted}\\\\\\hline\n",
        "108&\\bf{82}\\\\\n",
        "25&\\bf{68}\\\\\n",
        "593&34\\\\\n",
        "375&\\bf{35}\\\\\n",
        "393&24\\\\\n",
        "341&\\bf{7}\\\\\n",
        "\\end{array}\n",
        "% third column (end)\n",
        "\\end{array}$$"
      ],
      "metadata": {
        "id": "ziA2K7WNzIPN"
      }
    },
    {
      "cell_type": "code",
      "source": [
        "def main():\n",
        "    major = [\"A\",\"B\",\"C\",\"D\",\"E\",\"F\"]\n",
        "    n_male = [825,560,325,417,191,373]\n",
        "    p_male = [0.62,0.63,0.37,0.33,0.28,0.06]\n",
        "    n_female = [108,25,593,375,393,341]\n",
        "    p_female = [0.82,0.68,0.34,0.35,0.24,0.07]\n",
        "    data = {\"major\":major,\"n_male\":n_male,\"p_male\":p_male,\"n_female\":n_female,\"p_female\":p_female}\n",
        "    df = pd.DataFrame(data).set_index(\"major\")\n",
        "    #print(df)\n",
        "\n",
        "    prob_male_admitted = (df.n_male * df.p_male).sum() / df.n_male.sum() \n",
        "    print(prob_male_admitted) # 44%\n",
        "\n",
        "    prob_female_admitted = (df.n_female * df.p_female).sum() / df.n_female.sum() \n",
        "    print(prob_female_admitted) # 30%\n",
        "\n",
        "if __name__ == \"__main__\":\n",
        "    main()"
      ],
      "metadata": {
        "id": "lHmBzm6IzkWT"
      },
      "execution_count": null,
      "outputs": []
    },
    {
      "cell_type": "markdown",
      "source": [
        "###***Chapter 15 Boolean Masking***"
      ],
      "metadata": {
        "id": "6v4soNO1gDtz"
      }
    },
    {
      "cell_type": "markdown",
      "source": [
        "#####***Exercise***"
      ],
      "metadata": {
        "id": "gDiOPHbDgE_C"
      }
    },
    {
      "cell_type": "markdown",
      "source": [
        "Compute the survival rate of female whose age is less than or equals to 30 from titanic."
      ],
      "metadata": {
        "id": "hfqsWQNjgFCe"
      }
    },
    {
      "cell_type": "code",
      "source": [
        "def main():\n",
        "    url = \"https://raw.githubusercontent.com/datasciencedojo/datasets/master/titanic.csv\"\n",
        "    df = pd.read_csv(url, index_col='PassengerId')\n",
        "    dg = df.Survived[(df.Sex=='female') & (df.Age<=30)] \n",
        "    print( dg.sum() / len(dg) )\n",
        "\n",
        "if __name__ == \"__main__\":\n",
        "    main()"
      ],
      "metadata": {
        "id": "_EY3kQU9gQ-a"
      },
      "execution_count": null,
      "outputs": []
    }
  ]
}