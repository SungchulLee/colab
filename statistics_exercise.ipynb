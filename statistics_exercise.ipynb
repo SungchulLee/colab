{
  "nbformat": 4,
  "nbformat_minor": 0,
  "metadata": {
    "colab": {
      "provenance": [],
      "collapsed_sections": [
        "EMgeXCh5FvEw"
      ],
      "authorship_tag": "ABX9TyMEIPmRsXUGXfCtx1w4ZX7J",
      "include_colab_link": true
    },
    "kernelspec": {
      "name": "python3",
      "display_name": "Python 3"
    },
    "language_info": {
      "name": "python"
    }
  },
  "cells": [
    {
      "cell_type": "markdown",
      "metadata": {
        "id": "view-in-github",
        "colab_type": "text"
      },
      "source": [
        "<a href=\"https://colab.research.google.com/github/SungchulLee/colab/blob/main/statistics_exercise.ipynb\" target=\"_parent\"><img src=\"https://colab.research.google.com/assets/colab-badge.svg\" alt=\"Open In Colab\"/></a>"
      ]
    },
    {
      "cell_type": "markdown",
      "source": [
        "###**Chapter 0 Installment Extra Packages**"
      ],
      "metadata": {
        "id": "EMgeXCh5FvEw"
      }
    },
    {
      "cell_type": "markdown",
      "source": [
        "#####**Install Some Packages**"
      ],
      "metadata": {
        "id": "tN2shzHh_U-S"
      }
    },
    {
      "cell_type": "code",
      "source": [
        "!pip install pandas-datareader\n",
        "!pip install yfinance"
      ],
      "metadata": {
        "colab": {
          "base_uri": "https://localhost:8080/"
        },
        "outputId": "8afe80b6-49cf-495b-953f-a8cd38930d4e",
        "id": "SK3sdlUv_U-S"
      },
      "execution_count": 2,
      "outputs": [
        {
          "output_type": "stream",
          "name": "stdout",
          "text": [
            "Looking in indexes: https://pypi.org/simple, https://us-python.pkg.dev/colab-wheels/public/simple/\n",
            "Requirement already satisfied: pandas-datareader in /usr/local/lib/python3.10/dist-packages (0.10.0)\n",
            "Requirement already satisfied: lxml in /usr/local/lib/python3.10/dist-packages (from pandas-datareader) (4.9.2)\n",
            "Requirement already satisfied: pandas>=0.23 in /usr/local/lib/python3.10/dist-packages (from pandas-datareader) (1.5.3)\n",
            "Requirement already satisfied: requests>=2.19.0 in /usr/local/lib/python3.10/dist-packages (from pandas-datareader) (2.27.1)\n",
            "Requirement already satisfied: python-dateutil>=2.8.1 in /usr/local/lib/python3.10/dist-packages (from pandas>=0.23->pandas-datareader) (2.8.2)\n",
            "Requirement already satisfied: pytz>=2020.1 in /usr/local/lib/python3.10/dist-packages (from pandas>=0.23->pandas-datareader) (2022.7.1)\n",
            "Requirement already satisfied: numpy>=1.21.0 in /usr/local/lib/python3.10/dist-packages (from pandas>=0.23->pandas-datareader) (1.22.4)\n",
            "Requirement already satisfied: urllib3<1.27,>=1.21.1 in /usr/local/lib/python3.10/dist-packages (from requests>=2.19.0->pandas-datareader) (1.26.15)\n",
            "Requirement already satisfied: certifi>=2017.4.17 in /usr/local/lib/python3.10/dist-packages (from requests>=2.19.0->pandas-datareader) (2022.12.7)\n",
            "Requirement already satisfied: charset-normalizer~=2.0.0 in /usr/local/lib/python3.10/dist-packages (from requests>=2.19.0->pandas-datareader) (2.0.12)\n",
            "Requirement already satisfied: idna<4,>=2.5 in /usr/local/lib/python3.10/dist-packages (from requests>=2.19.0->pandas-datareader) (3.4)\n",
            "Requirement already satisfied: six>=1.5 in /usr/local/lib/python3.10/dist-packages (from python-dateutil>=2.8.1->pandas>=0.23->pandas-datareader) (1.16.0)\n",
            "Looking in indexes: https://pypi.org/simple, https://us-python.pkg.dev/colab-wheels/public/simple/\n",
            "Requirement already satisfied: yfinance in /usr/local/lib/python3.10/dist-packages (0.2.18)\n",
            "Requirement already satisfied: pandas>=1.3.0 in /usr/local/lib/python3.10/dist-packages (from yfinance) (1.5.3)\n",
            "Requirement already satisfied: numpy>=1.16.5 in /usr/local/lib/python3.10/dist-packages (from yfinance) (1.22.4)\n",
            "Requirement already satisfied: requests>=2.26 in /usr/local/lib/python3.10/dist-packages (from yfinance) (2.27.1)\n",
            "Requirement already satisfied: multitasking>=0.0.7 in /usr/local/lib/python3.10/dist-packages (from yfinance) (0.0.11)\n",
            "Requirement already satisfied: lxml>=4.9.1 in /usr/local/lib/python3.10/dist-packages (from yfinance) (4.9.2)\n",
            "Requirement already satisfied: appdirs>=1.4.4 in /usr/local/lib/python3.10/dist-packages (from yfinance) (1.4.4)\n",
            "Requirement already satisfied: pytz>=2022.5 in /usr/local/lib/python3.10/dist-packages (from yfinance) (2022.7.1)\n",
            "Requirement already satisfied: frozendict>=2.3.4 in /usr/local/lib/python3.10/dist-packages (from yfinance) (2.3.7)\n",
            "Requirement already satisfied: cryptography>=3.3.2 in /usr/local/lib/python3.10/dist-packages (from yfinance) (40.0.2)\n",
            "Requirement already satisfied: beautifulsoup4>=4.11.1 in /usr/local/lib/python3.10/dist-packages (from yfinance) (4.11.2)\n",
            "Requirement already satisfied: html5lib>=1.1 in /usr/local/lib/python3.10/dist-packages (from yfinance) (1.1)\n",
            "Requirement already satisfied: soupsieve>1.2 in /usr/local/lib/python3.10/dist-packages (from beautifulsoup4>=4.11.1->yfinance) (2.4.1)\n",
            "Requirement already satisfied: cffi>=1.12 in /usr/local/lib/python3.10/dist-packages (from cryptography>=3.3.2->yfinance) (1.15.1)\n",
            "Requirement already satisfied: six>=1.9 in /usr/local/lib/python3.10/dist-packages (from html5lib>=1.1->yfinance) (1.16.0)\n",
            "Requirement already satisfied: webencodings in /usr/local/lib/python3.10/dist-packages (from html5lib>=1.1->yfinance) (0.5.1)\n",
            "Requirement already satisfied: python-dateutil>=2.8.1 in /usr/local/lib/python3.10/dist-packages (from pandas>=1.3.0->yfinance) (2.8.2)\n",
            "Requirement already satisfied: urllib3<1.27,>=1.21.1 in /usr/local/lib/python3.10/dist-packages (from requests>=2.26->yfinance) (1.26.15)\n",
            "Requirement already satisfied: certifi>=2017.4.17 in /usr/local/lib/python3.10/dist-packages (from requests>=2.26->yfinance) (2022.12.7)\n",
            "Requirement already satisfied: charset-normalizer~=2.0.0 in /usr/local/lib/python3.10/dist-packages (from requests>=2.26->yfinance) (2.0.12)\n",
            "Requirement already satisfied: idna<4,>=2.5 in /usr/local/lib/python3.10/dist-packages (from requests>=2.26->yfinance) (3.4)\n",
            "Requirement already satisfied: pycparser in /usr/local/lib/python3.10/dist-packages (from cffi>=1.12->cryptography>=3.3.2->yfinance) (2.21)\n"
          ]
        }
      ]
    },
    {
      "cell_type": "markdown",
      "source": [
        "#####**Import Basic Modules**"
      ],
      "metadata": {
        "id": "SWCZcDJZZ7Sk"
      }
    },
    {
      "cell_type": "code",
      "source": [
        "import matplotlib.pyplot as plt\n",
        "import numpy as np; np.random.seed(0)\n",
        "import pandas as pd\n",
        "import yfinance as yf\n",
        "from scipy import stats"
      ],
      "metadata": {
        "id": "V-xER5nuZ7dz"
      },
      "execution_count": 3,
      "outputs": []
    },
    {
      "cell_type": "markdown",
      "source": [
        "#####**import compute_z_confidence_interval**"
      ],
      "metadata": {
        "id": "cm2JlbL7P905"
      }
    },
    {
      "cell_type": "code",
      "source": [
        "def compute_z_confidence_interval(data, confidence_level=None, alpha=None):\n",
        "    \"\"\"\n",
        "    input : data : 2d numpy array of shape (n_simulations, n_samples)\n",
        "                   for each row we have data to handle\n",
        "    \"\"\"\n",
        "    # confidence level\n",
        "    if (confidence_level is None) and (alpha is None):\n",
        "        confidence_level = 0.95\n",
        "        alpha = 1 - confidence_level \n",
        "    elif (confidence_level is None) and (alpha is not None):\n",
        "        confidence_level = 1 - alpha\n",
        "    elif (confidence_level is not None) and (alpha is None):\n",
        "        alpha = 1 - confidence_level \n",
        "\n",
        "    # number of samples\n",
        "    # data = np.array( data ) # (30, 5)\n",
        "    n = data.shape[1]\n",
        "\n",
        "    # compute basic statistics\n",
        "    x_bar = data.mean(axis=1) # (30,)\n",
        "    s_square = np.sum((data - x_bar.reshape((-1,1)))**2, axis=1) / (n-1) # (30,)\n",
        "    s = np.sqrt(s_square) # (30,)\n",
        "\n",
        "    # compute margin of error\n",
        "    z_star = stats.norm().ppf( 1 - (alpha/2) )\n",
        "    margin_of_error = z_star * s / np.sqrt(n) # (30,) \n",
        "\n",
        "    return x_bar, margin_of_error  "
      ],
      "metadata": {
        "id": "b9iQBDA1P-lp"
      },
      "execution_count": 4,
      "outputs": []
    },
    {
      "cell_type": "markdown",
      "source": [
        "#####**import compute_t_confidence_interval**"
      ],
      "metadata": {
        "id": "eUmpv8vcarol"
      }
    },
    {
      "cell_type": "code",
      "source": [
        "def compute_t_confidence_interval(data, confidence_level=None, alpha=None):\n",
        "    \"\"\"\n",
        "    input : data : 2d numpy array of shape (n_simulations, n_samples)\n",
        "                   for each row we have data to handle\n",
        "    \"\"\"\n",
        "    # confidence level\n",
        "    if (confidence_level is None) and (alpha is None):\n",
        "        confidence_level = 0.95\n",
        "        alpha = 1 - confidence_level \n",
        "    elif (confidence_level is None) and (alpha is not None):\n",
        "        confidence_level = 1 - alpha\n",
        "    elif (confidence_level is not None) and (alpha is None):\n",
        "        alpha = 1 - confidence_level \n",
        "\n",
        "    # number of samples\n",
        "    # data = np.array( data ) # (30, 5)\n",
        "    n = data.shape[1]\n",
        "\n",
        "    # compute basic statistics\n",
        "    x_bar = data.mean(axis=1) # (30,)\n",
        "    s_square = np.sum((data - x_bar.reshape((-1,1)))**2, axis=1) / (n-1) # (30,)\n",
        "    s = np.sqrt(s_square) # (30,)\n",
        "\n",
        "    # compute margin of error\n",
        "    t_star = stats.t(df=n-1).ppf( 1 - (alpha/2) )\n",
        "    margin_of_error = t_star * s / np.sqrt(n) # (30,) \n",
        "\n",
        "    return x_bar, margin_of_error  "
      ],
      "metadata": {
        "id": "V4WpStWmarot"
      },
      "execution_count": 5,
      "outputs": []
    },
    {
      "cell_type": "markdown",
      "source": [
        "#####**import compute_proportion_confidence_interval**"
      ],
      "metadata": {
        "id": "An0ghcFgGGE_"
      }
    },
    {
      "cell_type": "code",
      "source": [
        "def compute_proportion_confidence_interval(data, confidence_level=None, alpha=None):\n",
        "    \"\"\"\n",
        "    input : data : 2d numpy array of shape (n_simulations, n_samples)\n",
        "                   for each row we have data to handle\n",
        "                   data items are either 0 or 1\n",
        "    \"\"\"\n",
        "    # confidence level\n",
        "    if (confidence_level is None) and (alpha is None):\n",
        "        confidence_level = 0.95\n",
        "        alpha = 1 - confidence_level \n",
        "    elif (confidence_level is None) and (alpha is not None):\n",
        "        confidence_level = 1 - alpha\n",
        "    elif (confidence_level is not None) and (alpha is None):\n",
        "        alpha = 1 - confidence_level \n",
        "\n",
        "    # number of samples\n",
        "    # data = np.array( data ) # (30, 5)\n",
        "    n = data.shape[1]\n",
        "\n",
        "    # compute basic statistics\n",
        "    p_hat = data.mean(axis=1) # (30,)\n",
        "\n",
        "    # compute margin of error\n",
        "    z_star = stats.norm().ppf( 1 - (alpha/2) )\n",
        "    margin_of_error = z_star * np.sqrt( p_hat * ( 1 - p_hat ) / n ) # (30,) \n",
        "\n",
        "    return p_hat, margin_of_error  "
      ],
      "metadata": {
        "id": "c4To2BaeGGFI"
      },
      "execution_count": 6,
      "outputs": []
    },
    {
      "cell_type": "markdown",
      "source": [
        "#####**import compute_z_score**"
      ],
      "metadata": {
        "id": "2_Ne5VMhnJnS"
      }
    },
    {
      "cell_type": "code",
      "source": [
        "def compute_z_score(x, mu, sigma):\n",
        "    return ( x - mu ) / sigma"
      ],
      "metadata": {
        "id": "x8RI7H7jnJ1C"
      },
      "execution_count": 7,
      "outputs": []
    },
    {
      "cell_type": "markdown",
      "source": [
        "### **Chapter 11 Testing**"
      ],
      "metadata": {
        "id": "mr5b8hauyGER"
      }
    },
    {
      "cell_type": "markdown",
      "source": [
        "####**Section 3 z Score and p-value**"
      ],
      "metadata": {
        "id": "d5fODO1PyGLw"
      }
    },
    {
      "cell_type": "markdown",
      "source": [
        "#####**Example - Ludwig's Philosopy Exam Score [eng](https://www.khanacademy.org/math/ap-statistics/density-curves-normal-distribution-ap/normal-distributions-calculations/v/z-table-for-proportion-above?modal=1)**"
      ],
      "metadata": {
        "id": "-7Qtiu0hl5gy"
      }
    },
    {
      "cell_type": "markdown",
      "source": [
        "A set of philosophy exam scores are normally distributed with a mean of 40 points and a standard deviation of three points. Ludwig got a score of 47.5 points on the exam. What proportion of exam scores are higher than Ludwig's score? "
      ],
      "metadata": {
        "id": "lSMk9NDSl5gy"
      }
    },
    {
      "cell_type": "markdown",
      "source": [
        "######**Solution**"
      ],
      "metadata": {
        "id": "4bURbWbUl5gy"
      }
    },
    {
      "cell_type": "code",
      "source": [
        "def main():\n",
        "    mu, sigma, score = 40, 3, 47.5\n",
        "    z_score = compute_z_score(score, mu, sigma)\n",
        "    sf = stats.norm().sf(z_score)\n",
        "    print(f\"proportion of student philosophy exam scores that are higher than Ludwig's : {sf:.4f}\", end=\"\\n\\n\")\n",
        "\n",
        "    fig, ax = plt.subplots(figsize=(12,3))\n",
        "    ax.plot(np.linspace(-3,3,100), stats.norm().pdf(np.linspace(-3,3,100)))\n",
        "    x = z_score\n",
        "    y = stats.norm().pdf(x) \n",
        "    ax.plot([x,x], [0,y], \"--or\", label=\"Ludwig's z Score\")\n",
        "    ax.fill_between(np.linspace(z_score,3,100), stats.norm().pdf(np.linspace(z_score,3,100)), np.zeros(100))\n",
        "    ax.legend()\n",
        "    ax.spines[\"top\"].set_visible(False)\n",
        "    ax.spines[\"right\"].set_visible(False)\n",
        "    ax.spines[\"bottom\"].set_position(\"zero\")\n",
        "    plt.show()\n",
        "\n",
        "if __name__ == \"__main__\":\n",
        "    main()"
      ],
      "metadata": {
        "colab": {
          "base_uri": "https://localhost:8080/",
          "height": 316
        },
        "outputId": "b82d62f7-fcfb-4c42-d3ea-9615bf77b7ec",
        "id": "K_B4fpHkl5gy"
      },
      "execution_count": 8,
      "outputs": [
        {
          "output_type": "stream",
          "name": "stdout",
          "text": [
            "proportion of student philosophy exam scores that are higher than Ludwig's : 0.0062\n",
            "\n"
          ]
        },
        {
          "output_type": "display_data",
          "data": {
            "text/plain": [
              "<Figure size 1200x300 with 1 Axes>"
            ],
            "image/png": "[encoded data removed]"
          },
          "metadata": {}
        }
      ]
    },
    {
      "cell_type": "markdown",
      "source": [],
      "metadata": {
        "id": "Xh2AfugJyGUo"
      }
    },
    {
      "cell_type": "markdown",
      "source": [],
      "metadata": {
        "id": "dkE4HswYyGXg"
      }
    },
    {
      "cell_type": "markdown",
      "source": [],
      "metadata": {
        "id": "vdFgIDP-yGao"
      }
    }
  ]
}