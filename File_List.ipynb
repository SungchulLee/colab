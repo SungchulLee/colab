{
  "nbformat": 4,
  "nbformat_minor": 0,
  "metadata": {
    "colab": {
      "provenance": [],
      "authorship_tag": "ABX9TyNSHxLfxU9YmlQmGY3aK3cM",
      "include_colab_link": true
    },
    "kernelspec": {
      "name": "python3",
      "display_name": "Python 3"
    },
    "language_info": {
      "name": "python"
    }
  },
  "cells": [
    {
      "cell_type": "markdown",
      "metadata": {
        "id": "view-in-github",
        "colab_type": "text"
      },
      "source": [
        "<a href=\"https://colab.research.google.com/github/SungchulLee/colab/blob/main/File_List.ipynb\" target=\"_parent\"><img src=\"https://colab.research.google.com/assets/colab-badge.svg\" alt=\"Open In Colab\"/></a>"
      ]
    },
    {
      "cell_type": "markdown",
      "source": [
        "ChatGpt/BARD [Note | ](https://colab.research.google.com/drive/1iKG7ccpeF5dEIFKFxwGArW0M3DX0EujG) [ChatGPT | ](https://openai.com/blog/chatgpt) [BARD | ](https://bard.google.com/) [Corey Schafer | ](https://www.youtube.com/watch?v=jRAAaDll34Q) [ritvikmath | ](https://www.youtube.com/watch?v=2i9Nm099cGo) [코딩애플 | ](https://www.youtube.com/watch?v=w9YnsVkI980)\n",
        "\n",
        "Data Structure and Algorithm [Note | ](https://colab.research.google.com/drive/1OKFcyOLsIWhh2wZFy070tyVm6HIr0PwW#scrollTo=qhPbEcnQw9qv) [Exercise]()\n",
        "\n",
        "Deep Learning [Note | ](https://colab.research.google.com/drive/1zv-hawXrpHd1BiB8a3krWJcY0FFx1HbJ#scrollTo=hwkzR2Q45FlW) [Exercise]()\n",
        "\n",
        "Financial Math 1 [Note](https://colab.research.google.com/drive/1oqETOOU3lkgpsEMzuJ4Kk0uZZbKse7DZ) [Exercise](https://colab.research.google.com/drive/1lOrpGw_Rutn6CechtUQJqLNjACtrmzjZ)\n",
        "\n",
        "Financial Math 2 [Note | ](https://colab.research.google.com/drive/12JQUOkx67LAM5i1yJqOB8XlFc7fw14jH) [Exercise](https://colab.research.google.com/drive/1Tsni74GGabyJeNKk08r2OdWEaxwSQAmi#scrollTo=oo03IHQZUvOG)\n",
        "\n",
        "Google Colab [Note | ](https://colab.research.google.com/drive/1ORhaWGOf5JOcsjcql-Q9A6iXa0xSu4ZG#scrollTo=n7HmlcwCunGk) [Exercise]()\n",
        "\n",
        "HTML [Note | ](https://colab.research.google.com/drive/1Z-wUosDJC4syn8cldTU6CkDhb4r6ccQl) [Exercise]()\n",
        "\n",
        "Investment [Note | ](https://colab.research.google.com/drive/1EQPFGhLthAwIgoD4sTXnLIgaL4zC2Uxg) [Exercise]()\n",
        "\n",
        "Itertools [Note | ](https://colab.research.google.com/drive/1YvxObcDAOiIdhMjpg0gdWZHFd7EK6IYu) [Exercise]()\n",
        "\n",
        "Markdown [Note | ](https://colab.research.google.com/drive/1GWdvAnXibFnLb_UYCWW6nNVS-s8HsN_u#scrollTo=1xolsJxo1uJP) [Exercise]()\n",
        "\n",
        "Matplotlib [Note | ](https://colab.research.google.com/drive/1XUdYSx9IgxSy22tk7G0Vp_Z8f2dMnkth) [Exercise](https://colab.research.google.com/drive/1v5M_2SPdjdGEkE2aIKZFEltlS5YrpNcM)\n",
        "\n",
        "Matplotlib_Venn [Note | ](https://colab.research.google.com/drive/1J2PXE4BMhI2f7R7Uf0F4PTAIqkOhdJ1E#scrollTo=GjD1FyGjA1Cc) [Exercise]()\n",
        "\n",
        "Numpy [Note | ](https://colab.research.google.com/drive/1LTZBbzsmEYJqw9dW9GEmH259K09d6wud) [Exercise](https://colab.research.google.com/drive/1_XoW85ulXWs24jv1TnILmj2voMem6_05)\n",
        "\n",
        "OS [Note | ](https://colab.research.google.com/drive/1Cxf_LZUHKMax2KM1h8Diwt4bXlStI66h) [Exercise]()\n",
        "\n",
        "Pandas [Note | ](https://colab.research.google.com/drive/1tnGYN-b2ZbhkbcEEyhMy-BF8j2DZr655) [Exercise](https://colab.research.google.com/drive/1rzm0yXt6jeI3wgelI0AKVRbgjISvPIHq)\n",
        "\n",
        "Probability [Note | ](https://colab.research.google.com/drive/17A7jH-AFNwfV9wfb99tyabAImsmx2LjQ) [Exercise](https://colab.research.google.com/drive/1ylMX8HA4UF9yoffrRYGRkqMdaYpj5c_g#scrollTo=yN7k9KaZ_U-R)\n",
        "\n",
        "Probability Graduate [Note | ](https://colab.research.google.com/drive/1a3rudDVHWLV082cFCWLb1BLusa82s4rS) [Exercise]()\n",
        "\n",
        "PyTable [Note | ](https://colab.research.google.com/drive/1iK9FOYpKveH1HkaNAFC6XCEbCtrdcztO#scrollTo=yN7k9KaZ_U-R) [Exercise]()\n",
        "\n",
        "Python [Note | ](https://colab.research.google.com/drive/1jbmaQVGIblg9k4nmG_UY0T3NkLKdZX7v) [Exercise](https://colab.research.google.com/drive/11ZLHstTNk7GMtEr1I7dp8pM5DmqF1j7d#scrollTo=r7WU0g-vVIR0)\n",
        "\n",
        "Pytorch [Note | ](https://colab.research.google.com/drive/1RC8o4-lZfN6cR26CEIAR1bw52UfYDMcn#scrollTo=yN7k9KaZ_U-R) [Exercise]()\n",
        "\n",
        "Random [Note | ](https://colab.research.google.com/drive/1SR8iPFe14roAY-k-4FAN-5CmItYDzCzl) [Exercise]()\n",
        "\n",
        "Regular Expression [Note | ](https://colab.research.google.com/drive/1j93pnvRKKEUvTQYuGjK0yZ-bAlAxm4eC#scrollTo=YM6QYWM6r1dl) [Exercise]()\n",
        "\n",
        "Reinforcement Learning [Note | ](https://colab.research.google.com/drive/1VeKXFMbS4dgoLBE6993tTyK2BuDEedqj#scrollTo=8h5-vm0dQVBF) [Exercise]()\n",
        "\n",
        "Requests [Note | ](https://colab.research.google.com/drive/14-vF2ifDsmSW75V-ipjX8hm26qqERIdu) [Exercise]()\n",
        "\n",
        "Scipy [Note | ](https://colab.research.google.com/drive/1a-GRDihDVr_B659TkkSfIJKMwaGqj24D#scrollTo=EMgeXCh5FvEw) [Exercise]()\n",
        "\n",
        "Seaborn [Note | ](https://colab.research.google.com/drive/1xmzoCjRLNxS6pPtHFhDhOL5_KsPicymq#scrollTo=8zqjQ0vNbDAO) [Exercise]()\n",
        "\n",
        "Statistics [Note | ](https://colab.research.google.com/drive/12h3fOHcnMxcBxc2TNiC8EsRj-ufPAARm#scrollTo=FGkxRuU17FwI) [Exercise]()\n",
        "\n",
        "Time Series [Note | ](https://colab.research.google.com/drive/1vIT9Lhqt3uv_Vfs71nSYBDi5dwiXTdSr#scrollTo=Fixtm-GbKR4z) [Exercise]()\n",
        "\n",
        "Torch [Note | ](https://colab.research.google.com/drive/16GbzFjHqY3kggzs-pTUj32A86lrckqs9) [Exercise]()\n",
        "\n",
        "Vocaburary [Note | ](https://colab.research.google.com/drive/10ofGMkvPLu9bJ4tWDbEcvO-_VWytEwdN) [Dictionary](https://dictionary.cambridge.org/ko/%EC%82%AC%EC%A0%84/%EC%98%81%EC%96%B4/accrue?q=accrued)\n",
        "\n",
        "Yfinance [Note | ](https://colab.research.google.com/drive/1uLo0-sRb6rAcLspsyD993kGLfyjoyfH-#scrollTo=EMgeXCh5FvEw) [Exercise]()"
      ],
      "metadata": {
        "id": "2EgyQnCRlZc_"
      }
    },
    {
      "cell_type": "markdown",
      "source": [
        "슈카월드 [공매도로 원수가 된 억만장자들 | ](https://www.youtube.com/watch?v=NlCqHOteKaI)"
      ],
      "metadata": {
        "id": "bRkbxws-TPW2"
      }
    },
    {
      "cell_type": "markdown",
      "source": [
        "[Andrej Karpathy](https://www.youtube.com/@AndrejKarpathy/playlists)\n",
        "\n",
        "codebasics [Numpy | ](https://www.youtube.com/playlist?list=PLeo1K3hjS3uset9zIVzJWqplaWBiacTEU) [Matplotlib | ](https://www.youtube.com/playlist?list=PLeo1K3hjS3uu4Lr8_kro2AqaO6CFYgKOl) [Pandas | ](https://www.youtube.com/playlist?list=PLeo1K3hjS3uuASpe-1LjfG5f14Bnozjwy)\n",
        "\n",
        "[debuggex](https://www.debuggex.com/)\n",
        "\n",
        "[DeepFindr](https://www.youtube.com/c/DeepFindr)\n",
        "\n",
        "eMaster Class Academy [Python for Finance | ](https://www.youtube.com/playlist?list=PLMWIyphKbqfywEQxN-qXx_j5_DeRbomQn)\n",
        "\n",
        "freeCodeCamp.org \n",
        "[Data Structures | ](https://www.youtube.com/watch?v=zg9ih6SVACc)\n",
        "[Python for Everybody | ](https://www.youtube.com/watch?v=8DvywoWv6fI)\n",
        "\n",
        "[Gà Mờ Unitevn](https://www.youtube.com/channel/UCnkZ60LMrrBXglM8bKSL7Gg)\n",
        "\n",
        "\n",
        "GormAnalysis [NumPy Explained - Full Course (3 Hrs) | ](https://www.youtube.com/watch?v=eClQWW_gbFk) [Python NumPy For Your Grandma | ](https://www.youtube.com/playlist?list=PL9oKUrtC4VP6gDp1Vq3BzfViO0TWgR0vR) [Python Pandas For Your Grandpa | ](https://www.youtube.com/playlist?list=PL9oKUrtC4VP7ry0um1QOUUfJBXKnkf-dA) [Neural Networks For Your Dog | ](https://www.youtube.com/playlist?list=PL9oKUrtC4VP5N3VtTTjhTfiHoFXmnrgPW)\n",
        "\n",
        "[Joe James](https://www.youtube.com/@joejamesusa)\n",
        "\n",
        "[mathematicalmonk](https://www.youtube.com/@mathematicalmonk)\n",
        "\n",
        "[Mr. P Solver](https://www.youtube.com/c/MrPSolver/videos)\n",
        "\n",
        "ProgrammingKnowledge [Python | ](https://www.youtube.com/playlist?list=PLS1QulWo1RIYt4e0WnBp-ZjCNq8X0FX0J)  [Concepts | ](https://www.youtube.com/playlist?list=PLS1QulWo1RIaT4b78LVVUPkRzVa8OdODG) [OOP | ](https://www.youtube.com/playlist?list=PLS1QulWo1RIZuCYHd7QUVCQbBxEhu9aDP) [NumPy | ](https://www.youtube.com/watch?v=RnQXXZHYBRQ&list=PLS1QulWo1RIaT4b78LVVUPkRzVa8OdODG&index=32) [Matplotlib | ](https://www.youtube.com/playlist?list=PLS1QulWo1RIZ3tcrdZodjuXTDTIIXH8EW) [OPENCV | ](https://www.youtube.com/watch?v=_MFXKysUljw&list=PLS1QulWo1RIaT4b78LVVUPkRzVa8OdODG&index=26) [Django | ](https://www.youtube.com/watch?v=Q_OgdrsWmGM&list=PLS1QulWo1RIaT4b78LVVUPkRzVa8OdODG&index=28)\n",
        "\n",
        "Real Python [The Real Python Podcast | ](https://www.youtube.com/playlist?list=PLP8GkvaIxJP0zDf2TqlGkqlBOjIuzm_BJ) [Python – Intermediate and Advanced Features | ](https://www.youtube.com/playlist?list=PLP8GkvaIxJP0VAXF3USi9U4JnpxUvQXHx) [Functional Programming in Python | ](https://www.youtube.com/playlist?list=PLP8GkvaIxJP1z5bu4NX_bFrEInBkAgTMr) [Python Tips | ](https://www.youtube.com/playlist?list=PLP8GkvaIxJP3ignHY_Dq7bFsvwzAcqZ1i)\n",
        "\n",
        "[Sreekanth](https://www.youtube.com/@sreekanthpr)\n",
        "\n",
        "[Two Minute Papers](https://www.youtube.com/channel/UCbfYPyITQ-7l4upoX8nvctg)\n",
        "\n",
        "Yong Wang [Operations Research | ](https://www.youtube.com/playlist?list=PLgA4wLGrqI-ll9OSJmR5nU4lV4_aNTgKx) [Engineering Python | ](https://www.youtube.com/playlist?list=PLgA4wLGrqI-k51wG52O5PpDZAIL6eyvDK)\n",
        "\n",
        "[기술노트with 알렉](https://www.youtube.com/c/%EA%B8%B0%EC%88%A0%EB%85%B8%ED%8A%B8with%EC%95%8C%EB%A0%89/playlists)\n",
        "\n",
        "[나도코딩](https://www.youtube.com/@nadocoding)\n",
        "\n",
        "생활코딩 [WEB1- HTML & Internet | ](https://www.youtube.com/playlist?list=PLuHgQVnccGMDZP7FJ_ZsUrdCGH68ppvPb) [WEB2-CSS | ](https://www.youtube.com/playlist?list=PLuHgQVnccGMAnWgUYiAW2cTzSBywFO75B) []()"
      ],
      "metadata": {
        "id": "aTu-yXiOm7ik"
      }
    },
    {
      "cell_type": "markdown",
      "source": [
        "[Armchair Historian](https://www.youtube.com/@TheArmchairHistorian/playlists)\n",
        "\n",
        "[Epic History TV](https://www.youtube.com/@EpichistoryTv/playlists)\n",
        "\n",
        "[Marking History Channel](https://www.youtube.com/@MarkingHistoryChannel/playlists)\n",
        "\n",
        "[Paper Skies](https://www.youtube.com/@PaperSkiesAviation)\n",
        "\n",
        "[Professor Barth](https://www.youtube.com/@ProfessorBarth/playlists)\n",
        "\n",
        "밀덕영상 캐러브 [HMS Dreadnought | ](https://www.youtube.com/watch?v=Ii8OalRevBk) [비뢰포 | ](https://www.youtube.com/watch?v=tnYWwanrfqw)\n",
        "\n",
        "[토크멘터리 전쟁사](https://www.youtube.com/watch?v=F1H7rTQsi20&list=PLQWelBUxc958tARchIcg0_D5Oqx_s81K8)\n",
        "\n",
        "EBS [총균쇠](https://www.youtube.com/watch?v=0jlwsZ-Y0iA)\n",
        "\n",
        "Siege of Rhodes (1522) [로도스 공방전…지중해 무역의 몰락](https://www.sedaily.com/NewsView/1L5CEK65EQ)\n",
        "\n",
        "Anglo-Spanish War (1585–1604) [Anglo-Spanish_War | ](https://en.wikipedia.org/wiki/Anglo-Spanish_War_(1585%E2%80%931604)) [칼레 해전 | ](https://namu.wiki/w/%EC%B9%BC%EB%A0%88%20%ED%95%B4%EC%A0%84)"
      ],
      "metadata": {
        "id": "pWXkTF0c9ESw"
      }
    },
    {
      "cell_type": "markdown",
      "source": [
        "[Library Genesis](https://libgen.is/)"
      ],
      "metadata": {
        "id": "nGu-dk5QnvrN"
      }
    }
  ]
}