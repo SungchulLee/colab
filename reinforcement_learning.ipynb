{
  "nbformat": 4,
  "nbformat_minor": 0,
  "metadata": {
    "colab": {
      "provenance": [],
      "collapsed_sections": [
        "XfZB2ZWyKPxe",
        "RaAeerTsMasV",
        "2NQw9Zz8QC2A"
      ],
      "authorship_tag": "ABX9TyOKfTiRnk/tWI22G2P57vAa",
      "include_colab_link": true
    },
    "kernelspec": {
      "name": "python3",
      "display_name": "Python 3"
    },
    "language_info": {
      "name": "python"
    }
  },
  "cells": [
    {
      "cell_type": "markdown",
      "metadata": {
        "id": "view-in-github",
        "colab_type": "text"
      },
      "source": [
        "<a href=\"https://colab.research.google.com/github/SungchulLee/colab/blob/main/reinforcement_learning.ipynb\" target=\"_parent\"><img src=\"https://colab.research.google.com/assets/colab-badge.svg\" alt=\"Open In Colab\"/></a>"
      ]
    },
    {
      "cell_type": "markdown",
      "source": [
        "###***Chapter 1 Markov Chain***"
      ],
      "metadata": {
        "id": "8h5-vm0dQVBF"
      }
    },
    {
      "cell_type": "markdown",
      "source": [
        "######***Not a Simple Random Walk in 1D***"
      ],
      "metadata": {
        "id": "XfZB2ZWyKPxe"
      }
    },
    {
      "cell_type": "code",
      "source": [
        "import matplotlib.pyplot as plt\n",
        "import numpy as np; np.random.seed(0)\n",
        "\n",
        "# states of markov chain\n",
        "states = [0,1,2,3]\n",
        "n_states = len(states)\n",
        "\n",
        "# P[i,j] transition probability of jumping from i to j\n",
        "l = 0.2\n",
        "r = 0.4\n",
        "s = 1-l-r\n",
        "P = np.empty((n_states, n_states))\n",
        "#             0   1   2   3   \n",
        "P[ 0, :] = [s+l,  r,  0,  0]\n",
        "P[ 1, :] = [  l,  s,  r,  0]\n",
        "P[ 2, :] = [  0,  l,  s,  r]\n",
        "P[ 3, :] = [  0,  0,  l,s+r]\n",
        "\n",
        "# initial state\n",
        "state = np.random.choice(states) \n",
        "\n",
        "# run markov chain\n",
        "num_steps = 20\n",
        "msg = \"state: {:2}, next_state: {:2}, transition_prob: {:.4f}\" \n",
        "state_history = []\n",
        "state_history.append(state)\n",
        "for _ in range(num_steps):\n",
        "    next_state = np.random.choice(states, p=P[state, :])\n",
        "    prob = P[state, next_state]\n",
        "    print(msg.format(state, next_state, prob))\n",
        "    state = next_state\n",
        "    state_history.append(state)\n",
        "    \n",
        "fig, ax = plt.subplots(figsize=(12,4))\n",
        "ax.plot(state_history, 'o--')\n",
        "ax.set_ylim([-0.1,3.1])\n",
        "ax.set_yticks([0,1,2,3])\n",
        "ax.set_ylim(0,3)\n",
        "ax.grid()\n",
        "plt.show()"
      ],
      "metadata": {
        "colab": {
          "base_uri": "https://localhost:8080/",
          "height": 626
        },
        "id": "HzfZUQdpKQI6",
        "outputId": "597656c6-1f71-450a-bfad-c1422c575772"
      },
      "execution_count": null,
      "outputs": [
        {
          "output_type": "stream",
          "name": "stdout",
          "text": [
            "state:  0, next_state:  0, transition_prob: 0.6000\n",
            "state:  0, next_state:  1, transition_prob: 0.4000\n",
            "state:  1, next_state:  2, transition_prob: 0.4000\n",
            "state:  2, next_state:  3, transition_prob: 0.4000\n",
            "state:  3, next_state:  3, transition_prob: 0.8000\n",
            "state:  3, next_state:  3, transition_prob: 0.8000\n",
            "state:  3, next_state:  3, transition_prob: 0.8000\n",
            "state:  3, next_state:  2, transition_prob: 0.2000\n",
            "state:  2, next_state:  2, transition_prob: 0.4000\n",
            "state:  2, next_state:  2, transition_prob: 0.4000\n",
            "state:  2, next_state:  3, transition_prob: 0.4000\n",
            "state:  3, next_state:  3, transition_prob: 0.8000\n",
            "state:  3, next_state:  3, transition_prob: 0.8000\n",
            "state:  3, next_state:  3, transition_prob: 0.8000\n",
            "state:  3, next_state:  3, transition_prob: 0.8000\n",
            "state:  3, next_state:  3, transition_prob: 0.8000\n",
            "state:  3, next_state:  3, transition_prob: 0.8000\n",
            "state:  3, next_state:  3, transition_prob: 0.8000\n",
            "state:  3, next_state:  2, transition_prob: 0.2000\n",
            "state:  2, next_state:  3, transition_prob: 0.4000\n"
          ]
        },
        {
          "output_type": "display_data",
          "data": {
            "text/plain": [
              "<Figure size 864x288 with 1 Axes>"
            ],
            "image/png": "[encoded data removed]"
          },
          "metadata": {
            "needs_background": "light"
          }
        }
      ]
    },
    {
      "cell_type": "markdown",
      "source": [
        "######***Stationary Distribution as a Limit of Distribution***"
      ],
      "metadata": {
        "id": "RaAeerTsMasV"
      }
    },
    {
      "cell_type": "markdown",
      "source": [
        "***Definition of Stationary Distribution $\\pi$***\n",
        "\n",
        "$$\\begin{array}{lll}\n",
        "(1)&\\pi[i]\\ge 0\\quad\\text{for sll $i$}\\\\\n",
        "(2)&\\sum_i\\pi[i]=1\\\\\n",
        "(3)&\\pi {\\bf P} = \\pi\n",
        "\\end{array}$$\n",
        "\n",
        "$$\n",
        "\\left[\\begin{array}{ccccc}\\pi[0]&\\pi[1]&\\pi[2]&\\pi[3]\\end{array}\\right]\n",
        "\\left[\\begin{array}{ccccc}\n",
        "{\\bf P}[0,0]&{\\bf P}[0,1]&{\\bf P}[0,2]&{\\bf P}[0,3]\\\\\n",
        "{\\bf P}[1,0]&{\\bf P}[1,1]&{\\bf P}[1,2]&{\\bf P}[1,3]\\\\\n",
        "{\\bf P}[2,0]&{\\bf P}[2,1]&{\\bf P}[2,2]&{\\bf P}[2,3]\\\\\n",
        "{\\bf P}[3,0]&{\\bf P}[3,1]&{\\bf P}[3,2]&{\\bf P}[3,3]\n",
        "\\end{array}\\right]\n",
        "=\n",
        "\\left[\\begin{array}{ccccc}\\pi[0]&\\pi[1]&\\pi[2]&\\pi[3]\\end{array}\\right]\n",
        "$$"
      ],
      "metadata": {
        "id": "AV-LXuRhNcpC"
      }
    },
    {
      "cell_type": "markdown",
      "source": [
        "***How to find Stationary Distribution $\\pi$***\n",
        "\n",
        "$$\\pi {\\bf P} = \\pi,\\quad \\sum_i\\pi[i]=1$$\n",
        "\n",
        "$$\\pi {\\bf P} = \\pi{\\bf I},\\quad \\pi{\\bf 1}=1$$\n",
        "\n",
        "$$\\pi ({\\bf P}-{\\bf I}) = [0,0,0,0],\\quad \\pi{\\bf 1}=1$$\n",
        "\n",
        "$$\\pi \\underbrace{\\left[({\\bf P}-{\\bf I}), {\\bf 1}\\right]}_{\\bf A} = \\underbrace{[0,0,0,0,1]}_{\\bf b}$$"
      ],
      "metadata": {
        "id": "KPZMFxhsMbgf"
      }
    },
    {
      "cell_type": "markdown",
      "source": [
        "***Theorem (Stationary Distribution as a Limit of Distribution)***\n",
        "\n",
        "Under mild conditions,\n",
        "\n",
        "1. Stationary distribution $\\pi$ exists.\n",
        "\n",
        "2. Stationary distribution $\\pi$ exists uniquely.\n",
        "\n",
        "3. For any initial distribution $\\pi_0$, as $n\\rightarrow\\infty$\n",
        "\n",
        "$$\n",
        "\\pi_n=\\pi_0{\\bf P}^n\\quad\\Rightarrow\\quad\\pi\n",
        "$$"
      ],
      "metadata": {
        "id": "Aod-20JJR1Ad"
      }
    },
    {
      "cell_type": "code",
      "source": [
        "import matplotlib.pyplot as plt\n",
        "import numpy as np; np.random.seed(1)\n",
        "from scipy import linalg \n",
        "\n",
        "# states of markov chain\n",
        "states = [0,1,2,3]\n",
        "n_states = len(states)\n",
        "\n",
        "# P[i,j] transition probability of jumping from i to j\n",
        "l = 0.2\n",
        "r = 0.4\n",
        "s = 1-l-r\n",
        "P = np.empty((n_states, n_states))\n",
        "#             0   1   2   3   \n",
        "P[ 0, :] = [s+l,  r,  0,  0]\n",
        "P[ 1, :] = [  l,  s,  r,  0]\n",
        "P[ 2, :] = [  0,  l,  s,  r]\n",
        "P[ 3, :] = [  0,  0,  l,s+r]\n",
        "\n",
        "# initial distribution\n",
        "distribution = np.random.uniform(size=(len(states),)) \n",
        "distribution /= np.sum(distribution)\n",
        "\n",
        "# distribution as a function of time\n",
        "num_steps = 20\n",
        "distribution_history = [distribution]\n",
        "for i in range(num_steps):\n",
        "    current_distribution = distribution_history[-1].reshape((1,-1)) \n",
        "    next_distribution = current_distribution @ P \n",
        "    next_distribution = next_distribution.reshape((-1,))\n",
        "    next_distribution /= np.sum(next_distribution) \n",
        "    distribution_history.append(next_distribution)\n",
        "distribution_history = np.array(distribution_history)\n",
        "\n",
        "# stationary distribution\n",
        "A = np.c_[P - np.eye(n_states), np.ones((n_states,1))]\n",
        "b = np.zeros((1, n_states+1)); b[0,-1] = 1\n",
        "pi, residue, rank, singular_values = linalg.lstsq(A.T, b.T)\n",
        "pi = pi.T\n",
        "\n",
        "fig, axes = plt.subplots(nrows=4, ncols=1, figsize=(12, 6), sharex=True)\n",
        "for s in range(n_states):\n",
        "    axes[s].plot(distribution_history[:,s], label=\"state {}\".format(str(s)))\n",
        "    axes[s].plot([0, num_steps], [pi[0,s], pi[0,s]], '--')\n",
        "    axes[s].legend(loc='upper right')\n",
        "    axes[s].set_ylim([0., 1.])   \n",
        "plt.tight_layout()\n",
        "plt.show()"
      ],
      "metadata": {
        "colab": {
          "base_uri": "https://localhost:8080/",
          "height": 441
        },
        "id": "SjXwHIHwMbww",
        "outputId": "8bdeca8e-244a-48e6-a615-952ac1b3dc36"
      },
      "execution_count": null,
      "outputs": [
        {
          "output_type": "display_data",
          "data": {
            "text/plain": [
              "<Figure size 864x432 with 4 Axes>"
            ],
            "image/png": "[encoded data removed]"
          },
          "metadata": {
            "needs_background": "light"
          }
        }
      ]
    },
    {
      "cell_type": "markdown",
      "source": [
        "######***Stationary Distribution  as a Limit of Empirical Distribution***"
      ],
      "metadata": {
        "id": "2NQw9Zz8QC2A"
      }
    },
    {
      "cell_type": "markdown",
      "source": [
        "***Theorem (Stationary Distribution as a Limit of Empirical Distribution)***\n",
        "\n",
        "1. Generate a simulated path of many steps.\n",
        "\n",
        "2. For each time step $n$, using the first $n$ steps of sample path compute empirical PMF $\\pi_n$:\n",
        "\n",
        "$$\n",
        "\\pi_n[i]=\\frac{\\#\\ \\mbox{visits of state $i$ up to time $n$}}{n}\n",
        "$$\n",
        "\n",
        "Under mild conditions, for each state $i$, as $n\\rightarrow\\infty$\n",
        "\n",
        "$$\n",
        "\\pi_n[i]\\rightarrow\\pi[i]\n",
        "$$\n",
        "\n",
        "where $\\pi$ is the unique stationary distribution."
      ],
      "metadata": {
        "id": "Jnx9tEKmQDG1"
      }
    },
    {
      "cell_type": "code",
      "source": [
        "import matplotlib.pyplot as plt\n",
        "import numpy as np; np.random.seed(1)\n",
        "from scipy import linalg \n",
        "\n",
        "# states of markov chain\n",
        "states = [0,1,2,3]\n",
        "n_states = len(states)\n",
        "\n",
        "# P[i,j] transition probability of jumping from i to j\n",
        "l = 0.2\n",
        "r = 0.4\n",
        "s = 1-l-r\n",
        "P = np.empty((n_states, n_states))\n",
        "#             0   1   2   3   \n",
        "P[ 0, :] = [s+l,  r,  0,  0]\n",
        "P[ 1, :] = [  l,  s,  r,  0]\n",
        "P[ 2, :] = [  0,  l,  s,  r]\n",
        "P[ 3, :] = [  0,  0,  l,s+r]\n",
        "\n",
        "# initial state\n",
        "state = np.random.choice(states) \n",
        "\n",
        "# stationary distribution\n",
        "A = np.c_[P - np.eye(n_states), np.ones((n_states,1))]\n",
        "b = np.zeros((1, n_states+1)); b[0,-1] = 1\n",
        "pi, residue, rank, singular_values = linalg.lstsq(A.T, b.T)\n",
        "pi = pi.T\n",
        "\n",
        "# stationary distribution by simulation\n",
        "n_steps = 500\n",
        "visit_log = np.zeros((n_states, n_steps))     \n",
        "for step in range(n_steps):\n",
        "    visit_log[state, step] = 1.\n",
        "    next_state = np.random.choice(states, p=P[state, :])\n",
        "    state = next_state\n",
        "pi_ = np.cumsum(visit_log, axis=1) / (np.arange(n_steps) + 1).reshape((1,-1))\n",
        "    \n",
        "fig, axes = plt.subplots(nrows=4, ncols=1, figsize=(12, 6), sharex=True)\n",
        "for s in range(n_states):\n",
        "    axes[s].plot(pi_[s], label=\"state {}\".format(str(s)))\n",
        "    axes[s].plot([0, n_steps-1], [pi[0,s], pi[0,s]], '--')\n",
        "    axes[s].legend(loc='upper right')\n",
        "    axes[s].set_ylim([0., 1.])   \n",
        "plt.tight_layout()\n",
        "plt.show()"
      ],
      "metadata": {
        "colab": {
          "base_uri": "https://localhost:8080/",
          "height": 441
        },
        "id": "vEvCl4wAQDWw",
        "outputId": "f83cdb05-d97d-489f-d79d-d791850b31dd"
      },
      "execution_count": null,
      "outputs": [
        {
          "output_type": "display_data",
          "data": {
            "text/plain": [
              "<Figure size 864x432 with 4 Axes>"
            ],
            "image/png": "[encoded data removed]"
          },
          "metadata": {
            "needs_background": "light"
          }
        }
      ]
    },
    {
      "cell_type": "markdown",
      "source": [
        "###***Chapter 2 Markov Decision Process***"
      ],
      "metadata": {
        "id": "y9ncV7H0szVE"
      }
    },
    {
      "cell_type": "markdown",
      "source": [
        "######***MDP Simulation***"
      ],
      "metadata": {
        "id": "Udbyh4hDszYK"
      }
    },
    {
      "cell_type": "markdown",
      "source": [
        "***State***\n",
        "\n",
        "$$\\begin{array}{|c|c|c|c|c|c|c|c|}\\hline\n",
        "0&1&2&3\\\\\\hline\n",
        "4&&5&6\\\\\\hline\n",
        "7&8&9&10\\\\\\hline\n",
        "\\end{array}$$"
      ],
      "metadata": {
        "id": "G6ysUUn6sza-"
      }
    },
    {
      "cell_type": "markdown",
      "source": [
        "***Action***\n",
        "\n",
        "- 0: Left\n",
        "\n",
        "- 1: Right\n",
        "\n",
        "- 2: Up\n",
        "\n",
        "- 3: Down"
      ],
      "metadata": {
        "id": "w_nT6pHwszdy"
      }
    },
    {
      "cell_type": "markdown",
      "source": [
        "***Transition Probability***\n",
        "\n",
        "- You move according to your action with 80$\\%$ probability. \n",
        "\n",
        "- Your move may have a left and right one click error with 10$\\%$ probability each. \n",
        "\n",
        "- If there is a barrier against your move, your move bounds back."
      ],
      "metadata": {
        "id": "mXOTGN77tgRt"
      }
    },
    {
      "cell_type": "markdown",
      "source": [
        "***Reward***\n",
        "\n",
        "- -0.02 for each action.\n",
        "\n",
        "- If you reach the state 3, you win and get the final reward 1 in addition.\n",
        "\n",
        "- If you reach the state 6, you lose and get the final reward -1 in addition."
      ],
      "metadata": {
        "id": "mUt6w3sIunpd"
      }
    },
    {
      "cell_type": "markdown",
      "source": [
        "***Discount Factor***\n",
        "\n",
        "$$\\gamma=0.99$$"
      ],
      "metadata": {
        "id": "ltwMwHUYu2Ud"
      }
    },
    {
      "cell_type": "markdown",
      "source": [
        "***Policy***\n",
        "\n",
        "- When you are at state $s$, there are many actions you can choose.\n",
        "\n",
        "- Policy descibe how you choose your action.\n",
        "\n",
        "***Bad Policy*** \n",
        "\n",
        "$$\\begin{array}{|c|c|c|c|c|c|c|c|}\\hline\n",
        "\\Rightarrow&\\Rightarrow&\\Rightarrow&1\\\\\\hline\n",
        "\\Downarrow&&\\Rightarrow&-1\\\\\\hline\n",
        "\\Rightarrow&\\Rightarrow&\\Uparrow&\\Uparrow\\\\\\hline\n",
        "\\end{array}$$\n",
        "\n",
        "***Random Policy***\n",
        "\n",
        "```\n",
        "policy = 0.25*np.ones((n_states, n_actions))\n",
        "```\n",
        "\n",
        "***Optimal Policy*** \n",
        "\n",
        "$$\\begin{array}{|c|c|c|c|c|c|c|c|}\\hline\n",
        "\\Rightarrow&\\Rightarrow&\\Rightarrow&1\\\\\\hline\n",
        "\\Uparrow&&\\Uparrow&-1\\\\\\hline\n",
        "\\Uparrow&\\Leftarrow&\\Leftarrow&\\Leftarrow\\\\\\hline\n",
        "\\end{array}$$\n",
        "\n",
        "***Optimal Policy with Noise*** \n",
        "\n",
        "- we use optimal policy with probability 1/(1+eps)\n",
        "\n",
        "- we use random policy with probability ep/(1+eps)\n",
        "\n",
        "\n",
        "\n",
        "<img src=\"https://sswm.info/sites/default/files/inline-images/INKCINCT%202007.%20What%20is%20your%20water%20policy%20-%20Changes%20in%20existing%20water%20and%20sanitation%20policies.jpg\">\n",
        "\n",
        "Source [Creating Policies and a Legal Framework (RR)](https://sswm.info/es/water-nutrient-cycle/reuse-and-recharge/softwares/creating-and-enabling-environment/creating-policies-and-a-legal-framework-%28rr%29)"
      ],
      "metadata": {
        "id": "XMxSN--ivlD1"
      }
    },
    {
      "cell_type": "code",
      "source": [
        "import matplotlib.pyplot as plt\n",
        "import numpy as np; np.random.seed(0)\n",
        "\n",
        "# states\n",
        "states = [0,1,2,3,4,5,6,7,8,9,10]\n",
        "n_states = len(states) # 11\n",
        "\n",
        "# actions\n",
        "actions = [0,1,2,3] # left, right, up, down\n",
        "n_actions = len(actions) # 4\n",
        "\n",
        "# transition probabilities\n",
        "# P[current_state,specific_action,next_state] is \n",
        "# transition probability of jumping to next_state\n",
        "# when we are at current_state and we do specific_action\n",
        "P = np.empty((n_states, n_actions, n_states))\n",
        "#                0   1   2   3   4   5   6   7   8   9  10\n",
        "P[ 0, 0, :] = [ .9,  0,  0,  0, .1,  0,  0,  0,  0,  0,  0]\n",
        "P[ 0, 1, :] = [ .1, .8,  0,  0, .1,  0,  0,  0,  0,  0,  0]\n",
        "P[ 0, 2, :] = [ .9, .1,  0,  0,  0,  0,  0,  0,  0,  0,  0]\n",
        "P[ 0, 3, :] = [ .1, .1,  0,  0, .8,  0,  0,  0,  0,  0,  0]\n",
        "#                0   1   2   3   4   5   6   7   8   9  10\n",
        "P[ 1, 0, :] = [ .8, .2,  0,  0,  0,  0,  0,  0,  0,  0,  0]\n",
        "P[ 1, 1, :] = [  0, .2, .8,  0,  0,  0,  0,  0,  0,  0,  0]\n",
        "P[ 1, 2, :] = [ .1, .8, .1,  0,  0,  0,  0,  0,  0,  0,  0]\n",
        "P[ 1, 3, :] = [ .1, .8, .1,  0,  0,  0,  0,  0,  0,  0,  0]\n",
        "#                0   1   2   3   4   5   6   7   8   9  10\n",
        "P[ 2, 0, :] = [  0, .8, .1,  0,  0, .1,  0,  0,  0,  0,  0]\n",
        "P[ 2, 1, :] = [  0,  0, .1, .8,  0, .1,  0,  0,  0,  0,  0]\n",
        "P[ 2, 2, :] = [  0, .1, .8, .1,  0,  0,  0,  0,  0,  0,  0]\n",
        "P[ 2, 3, :] = [  0, .1,  0, .1,  0, .8,  0,  0,  0,  0,  0]\n",
        "#                0   1   2   3   4   5   6   7   8   9  10\n",
        "P[ 3, 0, :] = [  0,  0,  0,  1,  0,  0,  0,  0,  0,  0,  0]\n",
        "P[ 3, 1, :] = [  0,  0,  0,  1,  0,  0,  0,  0,  0,  0,  0]\n",
        "P[ 3, 2, :] = [  0,  0,  0,  1,  0,  0,  0,  0,  0,  0,  0]\n",
        "P[ 3, 3, :] = [  0,  0,  0,  1,  0,  0,  0,  0,  0,  0,  0]\n",
        "#                0   1   2   3   4   5   6   7   8   9  10\n",
        "P[ 4, 0, :] = [ .1,  0,  0,  0, .8,  0,  0, .1,  0,  0,  0]\n",
        "P[ 4, 1, :] = [ .1,  0,  0,  0, .8,  0,  0, .1,  0,  0,  0]\n",
        "P[ 4, 2, :] = [ .8,  0,  0,  0, .2,  0,  0,  0,  0,  0,  0]\n",
        "P[ 4, 3, :] = [  0,  0,  0,  0, .2,  0,  0, .8,  0,  0,  0]\n",
        "#                0   1   2   3   4   5   6   7   8   9  10\n",
        "P[ 5, 0, :] = [  0,  0, .1,  0,  0, .8,  0,  0,  0, .1,  0]\n",
        "P[ 5, 1, :] = [  0,  0, .1,  0,  0,  0, .8,  0,  0, .1,  0]\n",
        "P[ 5, 2, :] = [  0,  0, .8,  0,  0, .1, .1,  0,  0,  0,  0]\n",
        "P[ 5, 3, :] = [  0,  0,  0,  0,  0, .1, .1,  0,  0, .8,  0]\n",
        "#                0   1   2   3   4   5   6   7   8   9  10\n",
        "P[ 6, 0, :] = [  0,  0,  0,  0,  0,  0,  1,  0,  0,  0,  0]\n",
        "P[ 6, 1, :] = [  0,  0,  0,  0,  0,  0,  1,  0,  0,  0,  0]\n",
        "P[ 6, 2, :] = [  0,  0,  0,  0,  0,  0,  1,  0,  0,  0,  0]\n",
        "P[ 6, 3, :] = [  0,  0,  0,  0,  0,  0,  1,  0,  0,  0,  0]\n",
        "#                0   1   2   3   4   5   6   7   8   9  10\n",
        "P[ 7, 0, :] = [  0,  0,  0,  0, .1,  0,  0, .9,  0,  0,  0]\n",
        "P[ 7, 1, :] = [  0,  0,  0,  0, .1,  0,  0, .1, .8,  0,  0]\n",
        "P[ 7, 2, :] = [  0,  0,  0,  0, .8,  0,  0, .1, .1,  0,  0]\n",
        "P[ 7, 3, :] = [  0,  0,  0,  0,  0,  0,  0, .9, .1,  0,  0]\n",
        "#                0   1   2   3   4   5   6   7   8   9  10\n",
        "P[ 8, 0, :] = [  0,  0,  0,  0,  0,  0,  0, .8, .2,  0,  0]\n",
        "P[ 8, 1, :] = [  0,  0,  0,  0,  0,  0,  0,  0, .2, .8,  0]\n",
        "P[ 8, 2, :] = [  0,  0,  0,  0,  0,  0,  0, .1, .8, .1,  0]\n",
        "P[ 8, 3, :] = [  0,  0,  0,  0,  0,  0,  0, .1, .8, .1,  0]\n",
        "#                0   1   2   3   4   5   6   7   8   9  10\n",
        "P[ 9, 0, :] = [  0,  0,  0,  0,  0, .1,  0,  0, .8, .1,  0]\n",
        "P[ 9, 1, :] = [  0,  0,  0,  0,  0, .1,  0,  0,  0, .1, .8]\n",
        "P[ 9, 2, :] = [  0,  0,  0,  0,  0, .8,  0,  0, .1,  0, .1]\n",
        "P[ 9, 3, :] = [  0,  0,  0,  0,  0,  0,  0,  0, .1, .8, .1]\n",
        "#                0   1   2   3   4   5   6   7   8   9  10\n",
        "P[10, 0, :] = [  0,  0,  0,  0,  0,  0, .1,  0,  0, .8, .1]\n",
        "P[10, 1, :] = [  0,  0,  0,  0,  0,  0, .1,  0,  0,  0, .9]\n",
        "P[10, 2, :] = [  0,  0,  0,  0,  0,  0, .8,  0,  0, .1, .1]\n",
        "P[10, 3, :] = [  0,  0,  0,  0,  0,  0,  0,  0,  0, .1, .9]\n",
        "\n",
        "# rewards\n",
        "# -0.02 for each action.\n",
        "# If you reach the state 3, you win and get the final reward 1 in addition.\n",
        "# If you reach the state 6, you lose and get the final reward -1 in addition.\n",
        "R = -0.02 * np.ones((n_states, n_actions, n_states)) \n",
        "R[:,:,3] = - 0.02 + 1\n",
        "R[:,:,6] = - 0.02 - 1\n",
        "\n",
        "# discount factor\n",
        "gamma = 0.99\n",
        "\n",
        "# policy\n",
        "if 0: \n",
        "    # bad policy \n",
        "    policy = np.empty((n_states, n_actions))\n",
        "    policy[0,:] = [0,1,0,0]\n",
        "    policy[1,:] = [0,1,0,0]\n",
        "    policy[2,:] = [0,1,0,0]\n",
        "    policy[3,:] = [0,1,0,0]\n",
        "    policy[4,:] = [0,0,0,1]\n",
        "    policy[5,:] = [0,1,0,0]\n",
        "    policy[6,:] = [0,1,0,0]\n",
        "    policy[7,:] = [0,1,0,0]\n",
        "    policy[8,:] = [0,1,0,0]\n",
        "    policy[9,:] = [0,0,1,0]\n",
        "    policy[10,:] = [0,0,1,0]\n",
        "elif 0: \n",
        "    # random policy\n",
        "    policy = 0.25*np.ones((n_states, n_actions))\n",
        "elif 0: \n",
        "    # optimal policy \n",
        "    policy = np.empty((n_states, n_actions))\n",
        "    policy[0,:] = [0,1,0,0]\n",
        "    policy[1,:] = [0,1,0,0]\n",
        "    policy[2,:] = [0,1,0,0]\n",
        "    policy[3,:] = [0,1,0,0]\n",
        "    policy[4,:] = [0,0,1,0]\n",
        "    policy[5,:] = [0,0,1,0]\n",
        "    policy[6,:] = [0,0,1,0]\n",
        "    policy[7,:] = [0,0,1,0]\n",
        "    policy[8,:] = [1,0,0,0]\n",
        "    policy[9,:] = [1,0,0,0]\n",
        "    policy[10,:] = [1,0,0,0]\n",
        "elif 1: \n",
        "    # optimal policy + noise \n",
        "    # we use optimal policy with probability 1/(1+eps)\n",
        "    # we use random policy with probability ep/(1+eps)\n",
        "    eps = 0.1\n",
        "    policy = np.empty((n_states, n_actions))\n",
        "    policy[0,:] = [0,1,0,0] # optimal policy\n",
        "    policy[1,:] = [0,1,0,0] # optimal policy\n",
        "    policy[2,:] = [0,1,0,0] # optimal policy\n",
        "    policy[3,:] = [0,1,0,0] # optimal policy\n",
        "    policy[4,:] = [0,0,1,0] # optimal policy\n",
        "    policy[5,:] = [0,0,1,0] # optimal policy\n",
        "    policy[6,:] = [0,0,1,0] # optimal policy\n",
        "    policy[7,:] = [0,0,1,0] # optimal policy\n",
        "    policy[8,:] = [1,0,0,0] # optimal policy\n",
        "    policy[9,:] = [1,0,0,0] # optimal policy\n",
        "    policy[10,:] = [1,0,0,0] # optimal policy\n",
        "    policy = policy + (eps/4)*np.ones((n_states, n_actions))\n",
        "    policy = policy / np.sum(policy, axis=1).reshape((n_states,1))\n",
        "\n",
        "# MDP Simulation\n",
        "epoch = 10\n",
        "msg = \"s: {:2}, a: {}, r: {:5.2f}, s1: {:2}, done: {:1}, prob: {:.3}\" \n",
        "for _ in range(epoch):\n",
        "\n",
        "    # indicate game is not over yet\n",
        "    done = False\n",
        "    \n",
        "    # choose initial state randomly, not from 3 or 6\n",
        "    s = np.random.choice([0, 1, 2, 4, 5, 7, 8, 9, 10])  \n",
        "\n",
        "    while not done:\n",
        "        # choose action using current policy\n",
        "        a = np.random.choice(actions, p=policy[s, :])\n",
        "        \n",
        "        # probaility of choosing action a under the current policy\n",
        "        prob = policy[s, a]\n",
        "        \n",
        "        # choose next state using transition probabilities\n",
        "        s1 = np.random.choice(states, p=P[s, a, :])\n",
        "        \n",
        "        # print current situation\n",
        "        msg_to_print = msg.format(s, a, R[s, a, s1], s1, done, prob)\n",
        "        print(msg_to_print)\n",
        "        \n",
        "        if (s1 == 3):\n",
        "            # if win, \n",
        "            # ready to break while loop by letting done = True\n",
        "            done = True\n",
        "            # print final win comment\n",
        "            print('final reward 1 obtained and win the game!')\n",
        "        elif (s1 == 6):\n",
        "            # if lose, \n",
        "            # ready to break while loop by letting done = True\n",
        "            done = True\n",
        "            # print final lose comment\n",
        "            print('final reward -1 obtained and lose the game!')\n",
        "        else:\n",
        "            # if game is not over, \n",
        "            # continue playing game\n",
        "            s = s1     "
      ],
      "metadata": {
        "colab": {
          "base_uri": "https://localhost:8080/"
        },
        "id": "_TLGdWQSyM18",
        "outputId": "37555e5f-013e-4b77-af58-49f5eea6f4c6"
      },
      "execution_count": null,
      "outputs": [
        {
          "output_type": "stream",
          "name": "stdout",
          "text": [
            "s:  7, a: 2, r: -0.02, s1:  7, done: 0, prob: 0.932\n",
            "s:  7, a: 2, r: -0.02, s1:  4, done: 0, prob: 0.932\n",
            "s:  4, a: 2, r: -0.02, s1:  0, done: 0, prob: 0.932\n",
            "s:  0, a: 1, r: -0.02, s1:  1, done: 0, prob: 0.932\n",
            "s:  1, a: 1, r: -0.02, s1:  2, done: 0, prob: 0.932\n",
            "s:  2, a: 1, r:  0.98, s1:  3, done: 0, prob: 0.932\n",
            "final reward 1 obtained and win the game!\n",
            "s: 10, a: 0, r: -1.02, s1:  6, done: 0, prob: 0.932\n",
            "final reward -1 obtained and lose the game!\n",
            "s:  4, a: 2, r: -0.02, s1:  0, done: 0, prob: 0.932\n",
            "s:  0, a: 1, r: -0.02, s1:  1, done: 0, prob: 0.932\n",
            "s:  1, a: 1, r: -0.02, s1:  2, done: 0, prob: 0.932\n",
            "s:  2, a: 1, r:  0.98, s1:  3, done: 0, prob: 0.932\n",
            "final reward 1 obtained and win the game!\n",
            "s:  1, a: 1, r: -0.02, s1:  2, done: 0, prob: 0.932\n",
            "s:  2, a: 1, r:  0.98, s1:  3, done: 0, prob: 0.932\n",
            "final reward 1 obtained and win the game!\n",
            "s:  4, a: 2, r: -0.02, s1:  0, done: 0, prob: 0.932\n",
            "s:  0, a: 1, r: -0.02, s1:  1, done: 0, prob: 0.932\n",
            "s:  1, a: 1, r: -0.02, s1:  1, done: 0, prob: 0.932\n",
            "s:  1, a: 1, r: -0.02, s1:  2, done: 0, prob: 0.932\n",
            "s:  2, a: 1, r:  0.98, s1:  3, done: 0, prob: 0.932\n",
            "final reward 1 obtained and win the game!\n",
            "s: 10, a: 0, r: -1.02, s1:  6, done: 0, prob: 0.932\n",
            "final reward -1 obtained and lose the game!\n",
            "s:  4, a: 2, r: -0.02, s1:  0, done: 0, prob: 0.932\n",
            "s:  0, a: 1, r: -0.02, s1:  1, done: 0, prob: 0.932\n",
            "s:  1, a: 1, r: -0.02, s1:  2, done: 0, prob: 0.932\n",
            "s:  2, a: 1, r:  0.98, s1:  3, done: 0, prob: 0.932\n",
            "final reward 1 obtained and win the game!\n",
            "s:  8, a: 0, r: -0.02, s1:  7, done: 0, prob: 0.932\n",
            "s:  7, a: 2, r: -0.02, s1:  4, done: 0, prob: 0.932\n",
            "s:  4, a: 2, r: -0.02, s1:  0, done: 0, prob: 0.932\n",
            "s:  0, a: 1, r: -0.02, s1:  1, done: 0, prob: 0.932\n",
            "s:  1, a: 1, r: -0.02, s1:  2, done: 0, prob: 0.932\n",
            "s:  2, a: 1, r:  0.98, s1:  3, done: 0, prob: 0.932\n",
            "final reward 1 obtained and win the game!\n",
            "s:  0, a: 1, r: -0.02, s1:  0, done: 0, prob: 0.932\n",
            "s:  0, a: 1, r: -0.02, s1:  1, done: 0, prob: 0.932\n",
            "s:  1, a: 2, r: -0.02, s1:  1, done: 0, prob: 0.0227\n",
            "s:  1, a: 1, r: -0.02, s1:  1, done: 0, prob: 0.932\n",
            "s:  1, a: 1, r: -0.02, s1:  1, done: 0, prob: 0.932\n",
            "s:  1, a: 1, r: -0.02, s1:  2, done: 0, prob: 0.932\n",
            "s:  2, a: 1, r:  0.98, s1:  3, done: 0, prob: 0.932\n",
            "final reward 1 obtained and win the game!\n",
            "s:  2, a: 1, r: -0.02, s1:  5, done: 0, prob: 0.932\n",
            "s:  5, a: 2, r: -0.02, s1:  2, done: 0, prob: 0.932\n",
            "s:  2, a: 1, r:  0.98, s1:  3, done: 0, prob: 0.932\n",
            "final reward 1 obtained and win the game!\n"
          ]
        }
      ]
    },
    {
      "cell_type": "markdown",
      "source": [
        "######***MDP Success Rate Simulation***"
      ],
      "metadata": {
        "id": "BcJxamG2wXe6"
      }
    },
    {
      "cell_type": "code",
      "source": [
        "import matplotlib.pyplot as plt\n",
        "import numpy as np; np.random.seed(0)\n",
        "\n",
        "# states\n",
        "states = [0,1,2,3,4,5,6,7,8,9,10]\n",
        "n_states = len(states) # 11\n",
        "\n",
        "# actions\n",
        "actions = [0,1,2,3] # left, right, up, down\n",
        "n_actions = len(actions) # 4\n",
        "\n",
        "# transition probabilities\n",
        "# P[current_state,specific_action,next_state] is \n",
        "# transition probability of jumping to next_state\n",
        "# when we are at current_state and we do specific_action\n",
        "P = np.empty((n_states, n_actions, n_states))\n",
        "#                0   1   2   3   4   5   6   7   8   9  10\n",
        "P[ 0, 0, :] = [ .9,  0,  0,  0, .1,  0,  0,  0,  0,  0,  0]\n",
        "P[ 0, 1, :] = [ .1, .8,  0,  0, .1,  0,  0,  0,  0,  0,  0]\n",
        "P[ 0, 2, :] = [ .9, .1,  0,  0,  0,  0,  0,  0,  0,  0,  0]\n",
        "P[ 0, 3, :] = [ .1, .1,  0,  0, .8,  0,  0,  0,  0,  0,  0]\n",
        "#                0   1   2   3   4   5   6   7   8   9  10\n",
        "P[ 1, 0, :] = [ .8, .2,  0,  0,  0,  0,  0,  0,  0,  0,  0]\n",
        "P[ 1, 1, :] = [  0, .2, .8,  0,  0,  0,  0,  0,  0,  0,  0]\n",
        "P[ 1, 2, :] = [ .1, .8, .1,  0,  0,  0,  0,  0,  0,  0,  0]\n",
        "P[ 1, 3, :] = [ .1, .8, .1,  0,  0,  0,  0,  0,  0,  0,  0]\n",
        "#                0   1   2   3   4   5   6   7   8   9  10\n",
        "P[ 2, 0, :] = [  0, .8, .1,  0,  0, .1,  0,  0,  0,  0,  0]\n",
        "P[ 2, 1, :] = [  0,  0, .1, .8,  0, .1,  0,  0,  0,  0,  0]\n",
        "P[ 2, 2, :] = [  0, .1, .8, .1,  0,  0,  0,  0,  0,  0,  0]\n",
        "P[ 2, 3, :] = [  0, .1,  0, .1,  0, .8,  0,  0,  0,  0,  0]\n",
        "#                0   1   2   3   4   5   6   7   8   9  10\n",
        "P[ 3, 0, :] = [  0,  0,  0,  1,  0,  0,  0,  0,  0,  0,  0]\n",
        "P[ 3, 1, :] = [  0,  0,  0,  1,  0,  0,  0,  0,  0,  0,  0]\n",
        "P[ 3, 2, :] = [  0,  0,  0,  1,  0,  0,  0,  0,  0,  0,  0]\n",
        "P[ 3, 3, :] = [  0,  0,  0,  1,  0,  0,  0,  0,  0,  0,  0]\n",
        "#                0   1   2   3   4   5   6   7   8   9  10\n",
        "P[ 4, 0, :] = [ .1,  0,  0,  0, .8,  0,  0, .1,  0,  0,  0]\n",
        "P[ 4, 1, :] = [ .1,  0,  0,  0, .8,  0,  0, .1,  0,  0,  0]\n",
        "P[ 4, 2, :] = [ .8,  0,  0,  0, .2,  0,  0,  0,  0,  0,  0]\n",
        "P[ 4, 3, :] = [  0,  0,  0,  0, .2,  0,  0, .8,  0,  0,  0]\n",
        "#                0   1   2   3   4   5   6   7   8   9  10\n",
        "P[ 5, 0, :] = [  0,  0, .1,  0,  0, .8,  0,  0,  0, .1,  0]\n",
        "P[ 5, 1, :] = [  0,  0, .1,  0,  0,  0, .8,  0,  0, .1,  0]\n",
        "P[ 5, 2, :] = [  0,  0, .8,  0,  0, .1, .1,  0,  0,  0,  0]\n",
        "P[ 5, 3, :] = [  0,  0,  0,  0,  0, .1, .1,  0,  0, .8,  0]\n",
        "#                0   1   2   3   4   5   6   7   8   9  10\n",
        "P[ 6, 0, :] = [  0,  0,  0,  0,  0,  0,  1,  0,  0,  0,  0]\n",
        "P[ 6, 1, :] = [  0,  0,  0,  0,  0,  0,  1,  0,  0,  0,  0]\n",
        "P[ 6, 2, :] = [  0,  0,  0,  0,  0,  0,  1,  0,  0,  0,  0]\n",
        "P[ 6, 3, :] = [  0,  0,  0,  0,  0,  0,  1,  0,  0,  0,  0]\n",
        "#                0   1   2   3   4   5   6   7   8   9  10\n",
        "P[ 7, 0, :] = [  0,  0,  0,  0, .1,  0,  0, .9,  0,  0,  0]\n",
        "P[ 7, 1, :] = [  0,  0,  0,  0, .1,  0,  0, .1, .8,  0,  0]\n",
        "P[ 7, 2, :] = [  0,  0,  0,  0, .8,  0,  0, .1, .1,  0,  0]\n",
        "P[ 7, 3, :] = [  0,  0,  0,  0,  0,  0,  0, .9, .1,  0,  0]\n",
        "#                0   1   2   3   4   5   6   7   8   9  10\n",
        "P[ 8, 0, :] = [  0,  0,  0,  0,  0,  0,  0, .8, .2,  0,  0]\n",
        "P[ 8, 1, :] = [  0,  0,  0,  0,  0,  0,  0,  0, .2, .8,  0]\n",
        "P[ 8, 2, :] = [  0,  0,  0,  0,  0,  0,  0, .1, .8, .1,  0]\n",
        "P[ 8, 3, :] = [  0,  0,  0,  0,  0,  0,  0, .1, .8, .1,  0]\n",
        "#                0   1   2   3   4   5   6   7   8   9  10\n",
        "P[ 9, 0, :] = [  0,  0,  0,  0,  0, .1,  0,  0, .8, .1,  0]\n",
        "P[ 9, 1, :] = [  0,  0,  0,  0,  0, .1,  0,  0,  0, .1, .8]\n",
        "P[ 9, 2, :] = [  0,  0,  0,  0,  0, .8,  0,  0, .1,  0, .1]\n",
        "P[ 9, 3, :] = [  0,  0,  0,  0,  0,  0,  0,  0, .1, .8, .1]\n",
        "#                0   1   2   3   4   5   6   7   8   9  10\n",
        "P[10, 0, :] = [  0,  0,  0,  0,  0,  0, .1,  0,  0, .8, .1]\n",
        "P[10, 1, :] = [  0,  0,  0,  0,  0,  0, .1,  0,  0,  0, .9]\n",
        "P[10, 2, :] = [  0,  0,  0,  0,  0,  0, .8,  0,  0, .1, .1]\n",
        "P[10, 3, :] = [  0,  0,  0,  0,  0,  0,  0,  0,  0, .1, .9]\n",
        "\n",
        "# rewards\n",
        "# -0.02 for each action.\n",
        "# If you reach the state 3, you win and get the final reward 1 in addition.\n",
        "# If you reach the state 6, you lose and get the final reward -1 in addition.\n",
        "R = -0.02 * np.ones((n_states, n_actions, n_states)) \n",
        "R[:,:,3] = - 0.02 + 1\n",
        "R[:,:,6] = - 0.02 - 1\n",
        "\n",
        "# discount factor\n",
        "gamma = 0.99\n",
        "\n",
        "# policy\n",
        "def decide_policy(policy_name='optimal'):\n",
        "    if policy_name=='bad': \n",
        "        # bad policy \n",
        "        policy = np.empty((n_states, n_actions))\n",
        "        policy[0,:] = [0,1,0,0]\n",
        "        policy[1,:] = [0,1,0,0]\n",
        "        policy[2,:] = [0,1,0,0]\n",
        "        policy[3,:] = [0,1,0,0]\n",
        "        policy[4,:] = [0,0,0,1]\n",
        "        policy[5,:] = [0,1,0,0]\n",
        "        policy[6,:] = [0,1,0,0]\n",
        "        policy[7,:] = [0,1,0,0]\n",
        "        policy[8,:] = [0,1,0,0]\n",
        "        policy[9,:] = [0,0,1,0]\n",
        "        policy[10,:] = [0,0,1,0]\n",
        "    elif policy_name=='random': \n",
        "        # random policy\n",
        "        policy = 0.25*np.ones((n_states, n_actions))\n",
        "    elif policy_name=='optimal': \n",
        "        # optimal policy \n",
        "        policy = np.empty((n_states, n_actions))\n",
        "        policy[0,:] = [0,1,0,0]\n",
        "        policy[1,:] = [0,1,0,0]\n",
        "        policy[2,:] = [0,1,0,0]\n",
        "        policy[3,:] = [0,1,0,0]\n",
        "        policy[4,:] = [0,0,1,0]\n",
        "        policy[5,:] = [0,0,1,0]\n",
        "        policy[6,:] = [0,0,1,0]\n",
        "        policy[7,:] = [0,0,1,0]\n",
        "        policy[8,:] = [1,0,0,0]\n",
        "        policy[9,:] = [1,0,0,0]\n",
        "        policy[10,:] = [1,0,0,0]\n",
        "    elif policy_name=='noisy': \n",
        "        # optimal policy + noise \n",
        "        # we use optimal policy with probability 1/(1+eps)\n",
        "        # we use random policy with probability ep/(1+eps)\n",
        "        eps = 0.1\n",
        "        policy = np.empty((n_states, n_actions))\n",
        "        policy[0,:] = [0,1,0,0] # optimal policy\n",
        "        policy[1,:] = [0,1,0,0] # optimal policy\n",
        "        policy[2,:] = [0,1,0,0] # optimal policy\n",
        "        policy[3,:] = [0,1,0,0] # optimal policy\n",
        "        policy[4,:] = [0,0,1,0] # optimal policy\n",
        "        policy[5,:] = [0,0,1,0] # optimal policy\n",
        "        policy[6,:] = [0,0,1,0] # optimal policy\n",
        "        policy[7,:] = [0,0,1,0] # optimal policy\n",
        "        policy[8,:] = [1,0,0,0] # optimal policy\n",
        "        policy[9,:] = [1,0,0,0] # optimal policy\n",
        "        policy[10,:] = [1,0,0,0] # optimal policy\n",
        "        policy = policy + (eps/4)*np.ones((n_states, n_actions))\n",
        "        policy = policy / np.sum(policy, axis=1).reshape((n_states,1))\n",
        "\n",
        "    return policy\n",
        "\n",
        "fig, ax = plt.subplots(figsize=(12,4))\n",
        "\n",
        "for policy_name, color in zip(['bad','random','optimal','noisy'],['b','k','r','c']):\n",
        "    policy = decide_policy(policy_name=policy_name)\n",
        "\n",
        "    # MDP Simulation\n",
        "    epoch = 1_000\n",
        "    # MDP simulation\n",
        "    simulation_history = []\n",
        "    for _ in range(epoch):\n",
        "\n",
        "        # indicate game is not over yet\n",
        "        done = False\n",
        "        \n",
        "        # choose initial state randomly, not from 3 or 6\n",
        "        s = np.random.choice([0, 1, 2, 4, 5, 7, 8, 9, 10])  \n",
        "    \n",
        "        while not done:\n",
        "            # choose action using current policy\n",
        "            a = np.random.choice(actions, p=policy[s, :])\n",
        "            \n",
        "            # choose next state using transition probabilities\n",
        "            s1 = np.random.choice(states, p=P[s, a, :])\n",
        "\n",
        "            if s1 == 3:\n",
        "                # if game is over, \n",
        "                # ready to break while loop by letting done = True\n",
        "                # append end result to simulation_history \n",
        "                done = True\n",
        "                simulation_history.append(1.)\n",
        "            elif s1 == 6:\n",
        "                # if game is over, \n",
        "                # ready to break while loop by letting done = True\n",
        "                # append end result to simulation_history \n",
        "                done = True\n",
        "                simulation_history.append(0.)\n",
        "            else:\n",
        "                # if game is not over, continue playing game\n",
        "                s = s1\n",
        "\n",
        "    history = np.cumsum(simulation_history) / (np.arange(epoch) + 1)\n",
        "\n",
        "    ax.plot(history,color=color,label=policy_name+' policy')\n",
        "\n",
        "ax.set_ylim(0,1)\n",
        "ax.set_ylabel('Success Rate')\n",
        "ax.set_xlabel('Number of Samples')\n",
        "ax.legend()\n",
        "ax.spines['top'].set_visible(False)\n",
        "ax.spines['right'].set_visible(False)\n",
        "plt.show()"
      ],
      "metadata": {
        "colab": {
          "base_uri": "https://localhost:8080/",
          "height": 283
        },
        "outputId": "378be9c7-77b1-4fbf-d9d2-3a9d3f0bf3cd",
        "id": "fnmolFeX07Qy"
      },
      "execution_count": null,
      "outputs": [
        {
          "output_type": "display_data",
          "data": {
            "text/plain": [
              "<Figure size 864x288 with 1 Axes>"
            ],
            "image/png": "[encoded data removed]"
          },
          "metadata": {
            "needs_background": "light"
          }
        }
      ]
    },
    {
      "cell_type": "markdown",
      "source": [],
      "metadata": {
        "id": "KQ2Y3Zp_wXiC"
      }
    },
    {
      "cell_type": "markdown",
      "source": [],
      "metadata": {
        "id": "st5LhebBwXk-"
      }
    },
    {
      "cell_type": "markdown",
      "source": [
        "###***Chapter 10 ChatGPT***"
      ],
      "metadata": {
        "id": "mX2_UVEuwXnX"
      }
    },
    {
      "cell_type": "markdown",
      "source": [
        "[카이스트 김대식 교수 | (1부) “인공지능 시대에 애플의 움직임이 없는 이유” 처음 듣는 챗GPT 이야기](https://www.youtube.com/watch?v=eCKS_etvZyI) [카이스트 김대식 교수 | (2부) “챗GPT는 더 강력한 인공지능의 티저” 처음 듣는 챗GPT 이야기](https://www.youtube.com/watch?v=-BOI9k5sXSs) \n",
        "\n",
        "[[샤로잡다] 챗GPT는 어떻게 내 질문에 대답할까? 탄생기부터 작동원리까지 | 김건희 교수](https://www.youtube.com/watch?v=Iu8YkQqn8Qk)"
      ],
      "metadata": {
        "id": "tuidR41XwXqL"
      }
    }
  ]
}