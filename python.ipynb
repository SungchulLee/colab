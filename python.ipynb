{
  "nbformat": 4,
  "nbformat_minor": 0,
  "metadata": {
    "colab": {
      "provenance": [],
      "collapsed_sections": [
        "yN7k9KaZ_U-R",
        "Q51A0bXLGufp",
        "ypPV7tJ9oLkm",
        "0sjD6ak-motF",
        "YbIZ7vrv4zcq",
        "IHycvmPtJrgV",
        "DCW18fxMTDlx",
        "NFOaJpRnvqHJ",
        "AfGW8VoGlpam",
        "YD3a9abft1e8",
        "BXtmmr5QvyRX",
        "mec4cIA3v4_O",
        "kRPVdgrEwybm",
        "gXPHuasv97fF",
        "A28J3LmUnHZk",
        "_zns-qj1oqFs",
        "IUivUKRGnjQZ",
        "mjIaEF81U5Rr",
        "_hhTCcsOnt8a",
        "PqbVM1OQoDXT",
        "aDetvAjWTj4l",
        "SVGF1zo8p45X",
        "9_sCZvB8xHxC",
        "dyK-6rsqxuz7",
        "ZS75oJ3ZdBfe",
        "g2QVBLX1kggl",
        "WCwHNlu0I3wb",
        "w6AwqkIkLSnn",
        "UwlxNnjQ5iJJ",
        "Po1FIG3z3B1A",
        "c90o9cVuIrTz",
        "-oF_zyrm3aBi",
        "NWZTLNfeIypH",
        "nW9A12zDIysH",
        "oJCBn7TRIyvs",
        "XwcxlY2HIyyL",
        "cSR-1auSIy1b",
        "8ZhS7zt6Iy4q",
        "ZRXx8IoPdB3O",
        "vGo9xo-9Y_qP",
        "N22Ki6CcbNJ3",
        "HvlRGGonZAIi",
        "zkd_MXPdZAZa",
        "oFHQlGCncVyp",
        "B0Y21y6za5q_",
        "i77PL7SDyWyC",
        "AmbXiqdAkqK6",
        "NhRV37pPQTZ_",
        "AvxqNyOClyzx",
        "ql5xj2vbClAW",
        "mt2FSzTK09RR",
        "qJorxntcJWm_",
        "zzpOTGBm-FLQ",
        "QgvYLhK9Ukx3",
        "8VEt1QbwUnJK",
        "bFhUZfb8Jg3t",
        "hZn3-lu1dCDa",
        "2oMIKxBDvCXQ",
        "YEIepUZgx7l7",
        "8u2Wr81Nks8J",
        "RMgu1IRg6nHs",
        "3WEg_X2F8wS4",
        "6LamIwTp7Sor",
        "2dhdxrrD7OjW",
        "1XjLjZo96lU-",
        "ZkrFE7tjBXF1",
        "cfDBIMQxSHS7",
        "mAmthiZiSOuX",
        "pZep2npFSh4W",
        "m9Zvr0EtwGHW",
        "aoXgte7wwcHb",
        "PQsMch3EwvlI",
        "T21m9Kt5xNxC",
        "MnyxqNi9sKhN",
        "VE0usnSnspSt",
        "mp4pWLS7spWw",
        "J5OO19c-Kr4z",
        "VcuyFmSpbfP9",
        "DeVwxFvw3ytE",
        "T8xAwLyDQoG9",
        "3usZ3AUiKQXC",
        "16EDhqarRDr2",
        "AmVi-FbLRH-w",
        "QnXAxdQIK7MY",
        "Xx-OgNTUGU3W",
        "d0MtNnY0bju7",
        "m4053ShVLps1",
        "OshCWP0EMCFm",
        "8UuVZtsqM1ac",
        "awmXdn3KUgoz",
        "dCihyvS-UzKu",
        "WlekrTRvFJoJ",
        "N8_iJXDlKlyD",
        "A2qsgAsKLHKU",
        "SgGHvxnRKwNm",
        "0KX4tshUK802",
        "4iPuBScyLVVy",
        "NlGhhU_mLw9k",
        "U66xTx4dLzTD",
        "WqSL9leOL33C",
        "qVAFEQSPL6cx",
        "scynXNQCMNXV",
        "8XmuOhMmi1Vm",
        "AcwOj9LbHdbE",
        "xB4iKlk7fwhd",
        "uUL2u2es1NTI",
        "BStpZvfx-NFr",
        "SiQ_l2HO4h6c",
        "FTjglc_Y4ilm",
        "6rfOmoOF4ySj",
        "AJipPKt-MKSm",
        "IBxetvcU0PYV",
        "a7sYAIzc-L-n",
        "6sfK_SbEOyHu",
        "76eWFQaYAJuZ",
        "HCqSpahNw_lU",
        "7S69Axi_zjKG",
        "UtvE2-QYbRNI",
        "QeujAIz-a5ng",
        "noGeW1kXevGT",
        "8f_P26b2P6go",
        "ApxZ_G733laS",
        "freHbFGA3lz4",
        "UbGy2YA466Yh",
        "CD7reVjJQDOE",
        "2rnjDYGx9lwK",
        "Hh10Y4419lwM",
        "DRizSOlh9lwN",
        "ZyuI11kg-tIe",
        "tXqL8-c6_e8G",
        "a8SY38dcQc_T",
        "jhA2rEUT-OJ6",
        "unqpSEg87GgD",
        "mn-deMR_Fl_R",
        "LZBxgoLODpC4",
        "y8H0FSzlVtjm",
        "y69oy7iuVwvE",
        "Hq_EZfHNXpI1",
        "6TUVcpxJYcek",
        "WAH9XHVMnJRn",
        "RST2NlIYnR1W",
        "G0Vd0ezzom3F",
        "tYcI_wdfo7VW",
        "A8U8tRQmp2CO",
        "XBrFKT2q3NR4",
        "n1gglj0Tk6tX",
        "ZjFOcYpCnfUz",
        "iTMbfDBLnuDK",
        "5a0iBZSunuIn",
        "t_KxRoEznuOT",
        "xBRO-jJjolZY",
        "5uA6eLiWnuT7",
        "eawbZty7nub8",
        "Kd249pzT4SLy",
        "Hltx5H9CpgnK",
        "BhK3lNwspm9f",
        "hDuSHSHVpnG1",
        "o5yHWcy2qbbe",
        "yJRir8Lsqbbf",
        "kPlwQ8LIqbbf",
        "xiuco3yTqbbf",
        "JegLQE_Aqbbf",
        "5EtOPGhXr767",
        "uf6_gzV0r768",
        "DNeCfCeBstUM",
        "yAwBCfnKstUM",
        "uFR19i90tsMm",
        "aKioEURPnsHx",
        "2rukjkTWgXkr",
        "UtvdorW9vaDB",
        "9EX9MN7rvaDA",
        "9s73D3ExYy_Q",
        "vyoGeBkpe9EZ",
        "r_vBg4Nq0NMh",
        "4xs6IfKH0UsS",
        "glon0eno0UvX",
        "4zZWvlsP0Uyc",
        "WHzyLlrQ0U2C",
        "GPJrycPk0Uo8",
        "8ufOEEXplRiL",
        "rRVTEq6yy7YE",
        "r22WHm8S1BoF",
        "clAgFWaI0Vf_",
        "iMvo_cbu4b1K",
        "Hv8NQ9nB4fLM",
        "UQ9jwvMg4pqP",
        "NzZVGiE34p7n",
        "AZVxl8Il1BXx",
        "ZNUp0UZcP08y",
        "40GiXUcRrQK5",
        "34K5LagCvB0S",
        "PIbRlfuSvIkm",
        "V6TudqltrQPs",
        "i-63MaVrrQTj",
        "f_MVYvrjrQXi",
        "THTvVXj_gZJ0",
        "VAKdfD1N2ora",
        "bpDcJFr52FKt",
        "vnGe4I4G3-PI",
        "c76Qdx0744pr",
        "0syDOqGnd8tI",
        "cPTXe9_dAN5Q",
        "Uz21pKF9__-E",
        "lT7ra2Z0CoXV",
        "L0htogKCve-k",
        "AvKEHK4giURR",
        "MiOAGMPE9D_l",
        "4VEyXRXriYd_",
        "Ch-zuRZudOJe",
        "-RMGjwCIiYhG",
        "3EaX4elscpoe",
        "GhJyWNMNiYkW",
        "qFuNER70iYng",
        "RZvJv6mvnm7Q",
        "U6iioR5Cv6NM",
        "gvLCQptpwrQh",
        "rTSbc1h1yzlf",
        "Pg6ZU-tQx_gj",
        "Vf6I1nai1qeq",
        "cs6Twb-E0Ric",
        "PeFfhXtajY7d",
        "jMunVvdSs3_0",
        "f2NWFSmZs4DF",
        "RkP3W39Ks4Fw",
        "xE_gE2Jus4Il",
        "cuOe_QAMxaNm",
        "G8MnkOy5s4Lf",
        "kYY_hTTwHoel",
        "ZIFqpulwHsVG",
        "6Tuy0cXN4Csj",
        "33Y-CgMGvvDV",
        "xlnye8J4LP4P",
        "TWH8NPOh-Y8R",
        "tuDg47NCMUeE",
        "JJPBCibkGgWq",
        "tx3Ipt7JrSCU",
        "gKqCrnG7J8pY",
        "gp2XnUWXKchW",
        "iTbrsmTSK6p3",
        "0nsBFQWQLb9E",
        "ZejgDyIprW70",
        "nsJFv0UHIZFA",
        "Yi67-_DpY-44",
        "Lgcdi_iW2MGb",
        "5oLgDPfM2Wi4",
        "K5EAm5R12kZO",
        "GH418CxBybAv",
        "xkngHj3P694A",
        "ezF63wt8-31B",
        "CyTK7U0IlcH_",
        "kfqzKJuJlvRa",
        "Ft2VYvqR4B32",
        "AOoVhzSm4Ig8",
        "dA_2n2vejUWD",
        "_u2e2g-wgcQu",
        "qKM-85tz-iBC",
        "9oOVxS-55T6d",
        "OTNZ4ezG58x1",
        "xdwUUEKH6NKI",
        "EVTOvPYTmPwd",
        "GdbdhI7L7SO6",
        "2OiIU-ZA-5-Z",
        "950TQvEF2UyY",
        "LelD5Z5hth5F",
        "UD9TpviXeX66",
        "5zfnA0Mn8L8u",
        "PnxWCfSu5dED",
        "6ckStUXhLS-p",
        "kn4WPf4wYzLz",
        "taDxR-HjwPaK",
        "Gk0I5ZJSHTs6",
        "dMEnCvnLiaga",
        "NcEDyNezigKs"
      ],
      "authorship_tag": "ABX9TyMAzJhvpgu9vRI69PV89wKC",
      "include_colab_link": true
    },
    "kernelspec": {
      "name": "python3",
      "display_name": "Python 3"
    },
    "language_info": {
      "name": "python"
    }
  },
  "cells": [
    {
      "cell_type": "markdown",
      "metadata": {
        "id": "view-in-github",
        "colab_type": "text"
      },
      "source": [
        "<a href=\"https://colab.research.google.com/github/SungchulLee/colab/blob/main/python.ipynb\" target=\"_parent\"><img src=\"https://colab.research.google.com/assets/colab-badge.svg\" alt=\"Open In Colab\"/></a>"
      ]
    },
    {
      "cell_type": "markdown",
      "source": [
        "###***Chapter 0 Installment Extra Packages***"
      ],
      "metadata": {
        "id": "yN7k9KaZ_U-R"
      }
    },
    {
      "cell_type": "markdown",
      "source": [
        "#####***Install Some Packages***"
      ],
      "metadata": {
        "id": "tN2shzHh_U-S"
      }
    },
    {
      "cell_type": "code",
      "source": [
        "!pip install pandas-datareader\n",
        "!pip install yfinance"
      ],
      "metadata": {
        "colab": {
          "base_uri": "https://localhost:8080/"
        },
        "outputId": "756cdee1-bfe1-434e-ec25-971601137c3e",
        "id": "SK3sdlUv_U-S"
      },
      "execution_count": null,
      "outputs": [
        {
          "output_type": "stream",
          "name": "stdout",
          "text": [
            "Looking in indexes: https://pypi.org/simple, https://us-python.pkg.dev/colab-wheels/public/simple/\n",
            "Requirement already satisfied: pandas-datareader in /usr/local/lib/python3.9/dist-packages (0.10.0)\n",
            "Requirement already satisfied: lxml in /usr/local/lib/python3.9/dist-packages (from pandas-datareader) (4.9.2)\n",
            "Requirement already satisfied: pandas>=0.23 in /usr/local/lib/python3.9/dist-packages (from pandas-datareader) (1.5.3)\n",
            "Requirement already satisfied: requests>=2.19.0 in /usr/local/lib/python3.9/dist-packages (from pandas-datareader) (2.27.1)\n",
            "Requirement already satisfied: numpy>=1.20.3 in /usr/local/lib/python3.9/dist-packages (from pandas>=0.23->pandas-datareader) (1.22.4)\n",
            "Requirement already satisfied: pytz>=2020.1 in /usr/local/lib/python3.9/dist-packages (from pandas>=0.23->pandas-datareader) (2022.7.1)\n",
            "Requirement already satisfied: python-dateutil>=2.8.1 in /usr/local/lib/python3.9/dist-packages (from pandas>=0.23->pandas-datareader) (2.8.2)\n",
            "Requirement already satisfied: certifi>=2017.4.17 in /usr/local/lib/python3.9/dist-packages (from requests>=2.19.0->pandas-datareader) (2022.12.7)\n",
            "Requirement already satisfied: charset-normalizer~=2.0.0 in /usr/local/lib/python3.9/dist-packages (from requests>=2.19.0->pandas-datareader) (2.0.12)\n",
            "Requirement already satisfied: idna<4,>=2.5 in /usr/local/lib/python3.9/dist-packages (from requests>=2.19.0->pandas-datareader) (3.4)\n",
            "Requirement already satisfied: urllib3<1.27,>=1.21.1 in /usr/local/lib/python3.9/dist-packages (from requests>=2.19.0->pandas-datareader) (1.26.15)\n",
            "Requirement already satisfied: six>=1.5 in /usr/local/lib/python3.9/dist-packages (from python-dateutil>=2.8.1->pandas>=0.23->pandas-datareader) (1.16.0)\n",
            "Looking in indexes: https://pypi.org/simple, https://us-python.pkg.dev/colab-wheels/public/simple/\n",
            "Requirement already satisfied: yfinance in /usr/local/lib/python3.9/dist-packages (0.2.18)\n",
            "Requirement already satisfied: lxml>=4.9.1 in /usr/local/lib/python3.9/dist-packages (from yfinance) (4.9.2)\n",
            "Requirement already satisfied: pytz>=2022.5 in /usr/local/lib/python3.9/dist-packages (from yfinance) (2022.7.1)\n",
            "Requirement already satisfied: html5lib>=1.1 in /usr/local/lib/python3.9/dist-packages (from yfinance) (1.1)\n",
            "Requirement already satisfied: multitasking>=0.0.7 in /usr/local/lib/python3.9/dist-packages (from yfinance) (0.0.11)\n",
            "Requirement already satisfied: beautifulsoup4>=4.11.1 in /usr/local/lib/python3.9/dist-packages (from yfinance) (4.11.2)\n",
            "Requirement already satisfied: requests>=2.26 in /usr/local/lib/python3.9/dist-packages (from yfinance) (2.27.1)\n",
            "Requirement already satisfied: numpy>=1.16.5 in /usr/local/lib/python3.9/dist-packages (from yfinance) (1.22.4)\n",
            "Requirement already satisfied: cryptography>=3.3.2 in /usr/local/lib/python3.9/dist-packages (from yfinance) (40.0.2)\n",
            "Requirement already satisfied: pandas>=1.3.0 in /usr/local/lib/python3.9/dist-packages (from yfinance) (1.5.3)\n",
            "Requirement already satisfied: frozendict>=2.3.4 in /usr/local/lib/python3.9/dist-packages (from yfinance) (2.3.7)\n",
            "Requirement already satisfied: appdirs>=1.4.4 in /usr/local/lib/python3.9/dist-packages (from yfinance) (1.4.4)\n",
            "Requirement already satisfied: soupsieve>1.2 in /usr/local/lib/python3.9/dist-packages (from beautifulsoup4>=4.11.1->yfinance) (2.4.1)\n",
            "Requirement already satisfied: cffi>=1.12 in /usr/local/lib/python3.9/dist-packages (from cryptography>=3.3.2->yfinance) (1.15.1)\n",
            "Requirement already satisfied: six>=1.9 in /usr/local/lib/python3.9/dist-packages (from html5lib>=1.1->yfinance) (1.16.0)\n",
            "Requirement already satisfied: webencodings in /usr/local/lib/python3.9/dist-packages (from html5lib>=1.1->yfinance) (0.5.1)\n",
            "Requirement already satisfied: python-dateutil>=2.8.1 in /usr/local/lib/python3.9/dist-packages (from pandas>=1.3.0->yfinance) (2.8.2)\n",
            "Requirement already satisfied: idna<4,>=2.5 in /usr/local/lib/python3.9/dist-packages (from requests>=2.26->yfinance) (3.4)\n",
            "Requirement already satisfied: urllib3<1.27,>=1.21.1 in /usr/local/lib/python3.9/dist-packages (from requests>=2.26->yfinance) (1.26.15)\n",
            "Requirement already satisfied: certifi>=2017.4.17 in /usr/local/lib/python3.9/dist-packages (from requests>=2.26->yfinance) (2022.12.7)\n",
            "Requirement already satisfied: charset-normalizer~=2.0.0 in /usr/local/lib/python3.9/dist-packages (from requests>=2.26->yfinance) (2.0.12)\n",
            "Requirement already satisfied: pycparser in /usr/local/lib/python3.9/dist-packages (from cffi>=1.12->cryptography>=3.3.2->yfinance) (2.21)\n"
          ]
        }
      ]
    },
    {
      "cell_type": "markdown",
      "source": [
        "#####***Import Basic Modules***"
      ],
      "metadata": {
        "id": "h5R5Gfmd_U-S"
      }
    },
    {
      "cell_type": "code",
      "source": [
        "import matplotlib.pyplot as plt\n",
        "import numpy as np; np.random.seed(0)\n",
        "import pandas as pd\n",
        "import yfinance as yf\n",
        "from scipy import stats"
      ],
      "metadata": {
        "id": "NZ7FUGCl_U-T"
      },
      "execution_count": null,
      "outputs": []
    },
    {
      "cell_type": "markdown",
      "source": [
        "#***PART I INTRO***"
      ],
      "metadata": {
        "id": "_p_R68L1avfv"
      }
    },
    {
      "cell_type": "markdown",
      "source": [
        "###***Chapter 1 Intro***"
      ],
      "metadata": {
        "id": "Q51A0bXLGufp"
      }
    },
    {
      "cell_type": "markdown",
      "source": [
        "***Python Data Science Ecosystem***\n",
        "\n",
        "<img src=\"https://yqintl.alicdn.com/f5fb28c5dd4c1571db53528b6ad21fe707fe7b8d.png\">\n",
        "\n",
        "Sorce [Mars – Matrix-based Universal Distributed Computing Framework](https://www.alibabacloud.com/blog/mars-matrix-based-universal-distributed-computing-framework_594606)"
      ],
      "metadata": {
        "id": "86BYqWKrPWn4"
      }
    },
    {
      "cell_type": "markdown",
      "source": [
        "####***Section 2 How to install***"
      ],
      "metadata": {
        "id": "ypPV7tJ9oLkm"
      }
    },
    {
      "cell_type": "markdown",
      "source": [
        "######***How to install Python on Mac*** [kor](https://www.youtube.com/watch?v=c7vUAKnyf4E&list=PLXziV1DL41oiqZKMHCvmddFlbX769g8yv)"
      ],
      "metadata": {
        "id": "Z8Ood1XYeMt8"
      }
    },
    {
      "cell_type": "markdown",
      "source": [
        "######***How to install Python on Window*** [kor](https://www.youtube.com/watch?v=pfXmrwXp3Uk&list=PLXziV1DL41oiqZKMHCvmddFlbX769g8yv)"
      ],
      "metadata": {
        "id": "93eW2PQvegTY"
      }
    },
    {
      "cell_type": "markdown",
      "source": [
        "####***Section 3 Editors***"
      ],
      "metadata": {
        "id": "0sjD6ak-motF"
      }
    },
    {
      "cell_type": "markdown",
      "source": [
        "######***How to use Jupyter Notebook, Jupyter Lab, Google Colab and Kaggle! [eng](https://www.youtube.com/watch?v=5pf0_bpNbkw)***"
      ],
      "metadata": {
        "id": "OxM6guBY44ha"
      }
    },
    {
      "cell_type": "markdown",
      "source": [
        "#####***How to use PyCharm [eng](https://www.youtube.com/watch?v=Ejrq3yB2DIQ)***"
      ],
      "metadata": {
        "id": "FM595G3KmvPS"
      }
    },
    {
      "cell_type": "markdown",
      "source": [
        "#####***How to use Sublime Text [eng](https://www.youtube.com/watch?v=xFciV6Ew5r4&list=PL-osiE80TeTt2d9bfVyTiXJA-UTHn6WwU&index=11)***"
      ],
      "metadata": {
        "id": "iRhu72RRnBOt"
      }
    },
    {
      "cell_type": "markdown",
      "source": [
        "###***Chapter 2 Python is OOP***"
      ],
      "metadata": {
        "id": "YbIZ7vrv4zcq"
      }
    },
    {
      "cell_type": "markdown",
      "source": [
        "###### python is oop"
      ],
      "metadata": {
        "id": "7zfNvlUAkPzx"
      }
    },
    {
      "cell_type": "code",
      "source": [
        "# [Alternative Math](https://www.youtube.com/watch?v=Zh3Yz3PiXZw)\n",
        "import numpy as np\n",
        "\n",
        "# int addtion\n",
        "a = 1\n",
        "b = 1\n",
        "c = a + b\n",
        "print(a, b, c) \n",
        "print(type(a),type(b),type(c))\n",
        "\n",
        "# float addition\n",
        "a = 1.\n",
        "b = 1.\n",
        "c = a + b\n",
        "print(a, b, c) \n",
        "print(type(a),type(b),type(c))\n",
        "\n",
        "# str addition\n",
        "a = \"1\"\n",
        "b = \"1\"\n",
        "c = a + b\n",
        "print(a, b, c) \n",
        "print(type(a),type(b),type(c))\n",
        "\n",
        "# bool addition\n",
        "a = True\n",
        "b = True\n",
        "c = a + b\n",
        "print(a, b, c) \n",
        "print(type(a),type(b),type(c))\n",
        "\n",
        "# list addition\n",
        "a = [1, 2, 3]\n",
        "b = [4, 5, 6]\n",
        "c = a + b\n",
        "print(a, b, c) \n",
        "print(type(a),type(b),type(c))\n",
        "\n",
        "# numpy array addition\n",
        "a = np.array([1, 2, 3])\n",
        "b = np.array([4, 5, 6])\n",
        "c = a + b\n",
        "print(a, b, c) \n",
        "print(type(a),type(b),type(c))\n",
        "\n",
        "# set addition\n",
        "a = {1, 2, 3}\n",
        "b = {4, 5, 6}\n",
        "try:\n",
        "  c = a + b\n",
        "  print(a, b, c) \n",
        "  print(type(a),type(b),type(c))\n",
        "except TypeError as e:\n",
        "  print(e)"
      ],
      "metadata": {
        "colab": {
          "base_uri": "https://localhost:8080/"
        },
        "id": "yHcB2Qon-ErD",
        "outputId": "09fb7e75-2abd-427b-9cbc-b68ccf84e224"
      },
      "execution_count": null,
      "outputs": [
        {
          "output_type": "stream",
          "name": "stdout",
          "text": [
            "1 1 2\n",
            "<class 'int'> <class 'int'> <class 'int'>\n",
            "1.0 1.0 2.0\n",
            "<class 'float'> <class 'float'> <class 'float'>\n",
            "1 1 11\n",
            "<class 'str'> <class 'str'> <class 'str'>\n",
            "True True 2\n",
            "<class 'bool'> <class 'bool'> <class 'int'>\n",
            "[1, 2, 3] [4, 5, 6] [1, 2, 3, 4, 5, 6]\n",
            "<class 'list'> <class 'list'> <class 'list'>\n",
            "[1 2 3] [4 5 6] [5 7 9]\n",
            "<class 'numpy.ndarray'> <class 'numpy.ndarray'> <class 'numpy.ndarray'>\n",
            "unsupported operand type(s) for +: 'set' and 'set'\n"
          ]
        }
      ]
    },
    {
      "cell_type": "markdown",
      "source": [
        "###### primitive data types in python"
      ],
      "metadata": {
        "id": "IHycvmPtJrgV"
      }
    },
    {
      "cell_type": "code",
      "source": [
        "# int\n",
        "a = 10\n",
        "print(a, type(a))\n",
        "\n",
        "# float\n",
        "a = 3.14\n",
        "print(a, type(a))\n",
        "\n",
        "# complex\n",
        "a = 1 + 2j\n",
        "print(a, type(a))\n",
        "\n",
        "# str\n",
        "a = \"Hello World\"\n",
        "print(a, type(a))\n",
        "\n",
        "# bool\n",
        "a = True\n",
        "print(a, type(a))\n",
        "\n",
        "# None\n",
        "a = None\n",
        "print(a, type(a))"
      ],
      "metadata": {
        "colab": {
          "base_uri": "https://localhost:8080/"
        },
        "id": "fXLJQGc5Jr1Q",
        "outputId": "c71481c5-8c51-4407-c589-884d1dc96377"
      },
      "execution_count": null,
      "outputs": [
        {
          "output_type": "stream",
          "name": "stdout",
          "text": [
            "10 <class 'int'>\n",
            "3.14 <class 'float'>\n",
            "(1+2j) <class 'complex'>\n",
            "Hello World <class 'str'>\n",
            "True <class 'bool'>\n",
            "None <class 'NoneType'>\n"
          ]
        }
      ]
    },
    {
      "cell_type": "markdown",
      "source": [
        "###### composite data types in python"
      ],
      "metadata": {
        "id": "DCW18fxMTDlx"
      }
    },
    {
      "cell_type": "code",
      "source": [
        "a = [1,2,3,3] # list\n",
        "b = (1,2,3,3) # tuple\n",
        "c = {1,2,3,3} # set\n",
        "d = frozenset({1,2,3,3}) # frozen set\n",
        "e = {\"one\" : 1, \"two\" : 2, \"three\": 3, 'four': 3} # dict\n",
        "\n",
        "print(type(a))\n",
        "print(type(b))\n",
        "print(type(c))\n",
        "print(type(d))\n",
        "print(type(e))"
      ],
      "metadata": {
        "colab": {
          "base_uri": "https://localhost:8080/"
        },
        "id": "znv_78JzTDyR",
        "outputId": "25617896-fef7-4b93-ed31-a42b796e728d"
      },
      "execution_count": null,
      "outputs": [
        {
          "output_type": "stream",
          "name": "stdout",
          "text": [
            "['one', 1, 'two', 2] <class 'list'>\n",
            "('one', 1, 'two', 2) <class 'tuple'>\n",
            "{'one': 1, 'two': 2} <class 'dict'>\n",
            "{1, 'two', 2, 'one'} <class 'set'>\n",
            "frozenset({1, 'two', 2, 'one'}) <class 'frozenset'>\n"
          ]
        }
      ]
    },
    {
      "cell_type": "markdown",
      "source": [
        "###***Chapter 3 Built-in Function***"
      ],
      "metadata": {
        "id": "NFOaJpRnvqHJ"
      }
    },
    {
      "cell_type": "markdown",
      "source": [
        "#####***type***"
      ],
      "metadata": {
        "id": "rGYHvVDdlcJF"
      }
    },
    {
      "cell_type": "code",
      "source": [
        "def main():\n",
        "    name = 'Michael'\n",
        "    print(type(name), end='\\n\\n')\n",
        "        \n",
        "if __name__ == \"__main__\":\n",
        "    main()"
      ],
      "metadata": {
        "id": "vrXaFrrylcXc"
      },
      "execution_count": null,
      "outputs": []
    },
    {
      "cell_type": "markdown",
      "source": [
        "#####***dir***"
      ],
      "metadata": {
        "id": "ob74Z2vMlpXw"
      }
    },
    {
      "cell_type": "code",
      "source": [
        "def main():\n",
        "    name = 'Michael'\n",
        "    print(type(name), end='\\n\\n')\n",
        "    print(dir(name), end='\\n\\n')\n",
        "    print(dir(str))\n",
        "        \n",
        "if __name__ == \"__main__\":\n",
        "    main()"
      ],
      "metadata": {
        "id": "DspjakejlpXw"
      },
      "execution_count": null,
      "outputs": []
    },
    {
      "cell_type": "markdown",
      "source": [
        "#####***help***"
      ],
      "metadata": {
        "id": "AfGW8VoGlpam"
      }
    },
    {
      "cell_type": "code",
      "source": [
        "def f(x):\n",
        "    \"\"\"\n",
        "    Add One # <--- This part is called the doc string.\n",
        "    \"\"\"\n",
        "    return_val = x + 1\n",
        "    return return_val\n",
        "    \n",
        "def main():\n",
        "    print(help(str),end=\"\\n\\n\")\n",
        "    print(help(str.lower),end=\"\\n\\n\")\n",
        "    print(help(f))\n",
        "        \n",
        "if __name__ == \"__main__\":\n",
        "    main()"
      ],
      "metadata": {
        "id": "z45Y45ZTlpam"
      },
      "execution_count": null,
      "outputs": []
    },
    {
      "cell_type": "markdown",
      "source": [
        "#####***id***"
      ],
      "metadata": {
        "id": "YD3a9abft1e8"
      }
    },
    {
      "cell_type": "code",
      "source": [
        "def main():\n",
        "    x = 5\n",
        "    print(f\"{id(x) = }\")\n",
        "        \n",
        "if __name__ == \"__main__\":\n",
        "    main()"
      ],
      "metadata": {
        "colab": {
          "base_uri": "https://localhost:8080/"
        },
        "id": "n3xzdaM6t1e9",
        "outputId": "b06ac004-84ce-4f24-a260-a01556560576"
      },
      "execution_count": 8,
      "outputs": [
        {
          "output_type": "stream",
          "name": "stdout",
          "text": [
            "id(x) = 140348600043952\n"
          ]
        }
      ]
    },
    {
      "cell_type": "code",
      "source": [
        "def main():\n",
        "    x = 5\n",
        "    print(f\"{id(x) = }\")\n",
        "\n",
        "    y = x\n",
        "    print(f\"{id(y) = }\")\n",
        "        \n",
        "if __name__ == \"__main__\":\n",
        "    main()"
      ],
      "metadata": {
        "colab": {
          "base_uri": "https://localhost:8080/"
        },
        "id": "-p-lJddOuBwA",
        "outputId": "6aebf744-223b-4703-97e5-82644d47431c"
      },
      "execution_count": 9,
      "outputs": [
        {
          "output_type": "stream",
          "name": "stdout",
          "text": [
            "id(x) = 140348600043952\n",
            "id(y) = 140348600043952\n"
          ]
        }
      ]
    },
    {
      "cell_type": "markdown",
      "source": [
        "####***Section 1 print***"
      ],
      "metadata": {
        "id": "BXtmmr5QvyRX"
      }
    },
    {
      "cell_type": "markdown",
      "source": [
        "#####***Keyword - sep***"
      ],
      "metadata": {
        "id": "mec4cIA3v4_O"
      }
    },
    {
      "cell_type": "code",
      "source": [
        "def main():\n",
        "    x = np.array([7,2,9,10])\n",
        "    y = np.array([[5.2,3.0,4.5],[9.1,0.1,0.3]])\n",
        "    z = np.zeros((4,3,2))\n",
        "    print(x.shape, y.shape, z.shape, sep=\"\\n\")\n",
        "\n",
        "if __name__ == \"__main__\":\n",
        "    main()"
      ],
      "metadata": {
        "id": "zGVEbB0sv9j9"
      },
      "execution_count": null,
      "outputs": []
    },
    {
      "cell_type": "markdown",
      "source": [
        "#####***Keyword - end***"
      ],
      "metadata": {
        "id": "IxrBfMhLMzai"
      }
    },
    {
      "cell_type": "code",
      "source": [
        "def main():\n",
        "    x = np.arange(6)\n",
        "    print(f\"{x.shape = }\")\n",
        "    print(x,end=\"\\n\\n\")\n",
        "\n",
        "    y = x.reshape( ( 3, 2 ) )\n",
        "    print(f\"{y.shape = }\")\n",
        "    print(y)\n",
        "       \n",
        "if __name__ == \"__main__\":\n",
        "    main()"
      ],
      "metadata": {
        "id": "ecGYb4LqMzaj",
        "colab": {
          "base_uri": "https://localhost:8080/"
        },
        "outputId": "3a6449de-f1b2-4905-dd8a-61f9e7410b68"
      },
      "execution_count": null,
      "outputs": [
        {
          "output_type": "stream",
          "name": "stdout",
          "text": [
            "x.shape = (6,)\n",
            "[0 1 2 3 4 5]\n",
            "\n",
            "y.shape = (3, 2)\n",
            "[[0 1]\n",
            " [2 3]\n",
            " [4 5]]\n"
          ]
        }
      ]
    },
    {
      "cell_type": "markdown",
      "source": [
        "####***Section 2 input***"
      ],
      "metadata": {
        "id": "kRPVdgrEwybm"
      }
    },
    {
      "cell_type": "code",
      "source": [
        "def main():\n",
        "    x = input('What is your name?')\n",
        "    print(x, type(x))\n",
        "\n",
        "if __name__ == \"__main__\":\n",
        "    main()"
      ],
      "metadata": {
        "colab": {
          "base_uri": "https://localhost:8080/"
        },
        "id": "HXmigOj7xA9T",
        "outputId": "2bbc62e6-7d6b-4b32-949a-9554cc478fbf"
      },
      "execution_count": null,
      "outputs": [
        {
          "output_type": "stream",
          "name": "stdout",
          "text": [
            "What is your name?Lee\n",
            "Lee <class 'str'>\n"
          ]
        }
      ]
    },
    {
      "cell_type": "code",
      "source": [
        "def main():\n",
        "    x = input('How old are you?')\n",
        "    print(x, type(x))\n",
        "\n",
        "if __name__ == \"__main__\":\n",
        "    main()"
      ],
      "metadata": {
        "colab": {
          "base_uri": "https://localhost:8080/"
        },
        "id": "1CeXeQq6xLUx",
        "outputId": "93f3ba36-6f80-446d-8cdc-07dee129e3da"
      },
      "execution_count": null,
      "outputs": [
        {
          "output_type": "stream",
          "name": "stdout",
          "text": [
            "How old are you?25\n",
            "25 <class 'str'>\n"
          ]
        }
      ]
    },
    {
      "cell_type": "code",
      "source": [
        "def main():\n",
        "    x = int(input('How old are you?')) # str ---> int\n",
        "    print(x + 20)\n",
        "\n",
        "if __name__ == \"__main__\":\n",
        "    main()"
      ],
      "metadata": {
        "colab": {
          "base_uri": "https://localhost:8080/"
        },
        "id": "KKZeJswPw4As",
        "outputId": "cfb6fec8-35e3-4a60-8c6d-8d3305b87c8a"
      },
      "execution_count": null,
      "outputs": [
        {
          "output_type": "stream",
          "name": "stdout",
          "text": [
            "How old are you?25\n",
            "45\n"
          ]
        }
      ]
    },
    {
      "cell_type": "markdown",
      "source": [
        "#***PART II DATA***"
      ],
      "metadata": {
        "id": "g3m06Y0mGbyW"
      }
    },
    {
      "cell_type": "markdown",
      "source": [
        "###***Chapter 4 int***"
      ],
      "metadata": {
        "id": "gXPHuasv97fF"
      }
    },
    {
      "cell_type": "markdown",
      "source": [
        "####***Section 1 Four Different Representation of Integer***"
      ],
      "metadata": {
        "id": "2mxtVTE0rSf_"
      }
    },
    {
      "cell_type": "markdown",
      "source": [
        "#####***Decimal Representation***"
      ],
      "metadata": {
        "id": "9LHZzl_3kXSG"
      }
    },
    {
      "cell_type": "code",
      "source": [
        "def main():\n",
        "    a = 10\n",
        "    print(a, type(a))\n",
        "\n",
        "if __name__ == \"__main__\":\n",
        "    main()"
      ],
      "metadata": {
        "colab": {
          "base_uri": "https://localhost:8080/"
        },
        "outputId": "89d217ee-4aca-4163-a9f2-7eca06a8f3fd",
        "id": "bAdfukcSrgBu"
      },
      "execution_count": null,
      "outputs": [
        {
          "output_type": "stream",
          "name": "stdout",
          "text": [
            "10 <class 'int'>\n"
          ]
        }
      ]
    },
    {
      "cell_type": "markdown",
      "source": [
        "#####***Binary Representation***"
      ],
      "metadata": {
        "id": "ssltUXmgrgBu"
      }
    },
    {
      "cell_type": "code",
      "source": [
        "def main():\n",
        "    # 0b... (or 0B...) means binary int\n",
        "    a = 0b10\n",
        "    print(a, type(a))\n",
        "    a = 0B10\n",
        "    print(a, type(a))\n",
        "\n",
        "if __name__ == \"__main__\":\n",
        "    main()"
      ],
      "metadata": {
        "colab": {
          "base_uri": "https://localhost:8080/"
        },
        "id": "5zvpMZXlya3H",
        "outputId": "94786a29-0968-4830-d18c-2f52e1ea0182"
      },
      "execution_count": null,
      "outputs": [
        {
          "output_type": "stream",
          "name": "stdout",
          "text": [
            "2 <class 'int'>\n",
            "2 <class 'int'>\n"
          ]
        }
      ]
    },
    {
      "cell_type": "markdown",
      "source": [
        "#####***Octal Representation***"
      ],
      "metadata": {
        "id": "CB9y11vcrgJo"
      }
    },
    {
      "cell_type": "code",
      "source": [
        "def main():\n",
        "    # 0o... (or 0O...) means octal int\n",
        "    a = 0o10\n",
        "    print(a, type(a))\n",
        "    a = 0O10\n",
        "    print(a, type(a))\n",
        "\n",
        "if __name__ == \"__main__\":\n",
        "    main()"
      ],
      "metadata": {
        "colab": {
          "base_uri": "https://localhost:8080/"
        },
        "outputId": "e9924203-a03e-40dc-c2d6-b343ae4879d0",
        "id": "UtYhJxkcrgJo"
      },
      "execution_count": null,
      "outputs": [
        {
          "output_type": "stream",
          "name": "stdout",
          "text": [
            "10 <class 'int'>\n",
            "2 <class 'int'>\n",
            "16 <class 'int'>\n",
            "8 <class 'int'>\n"
          ]
        }
      ]
    },
    {
      "cell_type": "markdown",
      "source": [
        "#####***Hexadecimal Representation***"
      ],
      "metadata": {
        "id": "aGSndcftrgVx"
      }
    },
    {
      "cell_type": "code",
      "source": [
        "def main():\n",
        "    # 0x... (or 0X...) means hexadecimal int\n",
        "    a = 0x10\n",
        "    print(a, type(a))\n",
        "    a = 0X10\n",
        "    print(a, type(a))\n",
        "\n",
        "if __name__ == \"__main__\":\n",
        "    main()"
      ],
      "metadata": {
        "colab": {
          "base_uri": "https://localhost:8080/"
        },
        "outputId": "e9924203-a03e-40dc-c2d6-b343ae4879d0",
        "id": "wTmolNysrgVx"
      },
      "execution_count": null,
      "outputs": [
        {
          "output_type": "stream",
          "name": "stdout",
          "text": [
            "10 <class 'int'>\n",
            "2 <class 'int'>\n",
            "16 <class 'int'>\n",
            "8 <class 'int'>\n"
          ]
        }
      ]
    },
    {
      "cell_type": "markdown",
      "source": [
        "####***Section 2 Basic Math Operations***"
      ],
      "metadata": {
        "id": "gOJRyaQEsc1w"
      }
    },
    {
      "cell_type": "markdown",
      "source": [
        "#####***Basic Math Operations***"
      ],
      "metadata": {
        "id": "z_NR2HzKtYBA"
      }
    },
    {
      "cell_type": "markdown",
      "source": [
        "<img src=\"https://cdn.codegym.cc/images/article/80cd9ae0-2a36-464e-9e63-690c1feb1c62/512.webp\">\n",
        "\n",
        "Source [What is integer division in Java?](https://codegym.cc/groups/posts/integer-division-java)\n",
        "\n",
        "```\n",
        "a = 9 // 2 # compute quotient\n",
        "print(a) # 4\n",
        "\n",
        "b = 9 % 2 # compute remainder\n",
        "print(b) # 1\n",
        "```"
      ],
      "metadata": {
        "id": "K1Zjc3_pf-u6"
      }
    },
    {
      "cell_type": "code",
      "source": [
        "def main():\n",
        "    print(9+2) # Addition\n",
        "    print(9-2) # Subtraction\n",
        "    print(9*2) # Multiplication\n",
        "    print(9/2) # Division\n",
        "    print(9//2) # Floor Division\n",
        "    print(9%2) # Modulus\n",
        "    print(9**2) # Exponentiation\n",
        "\n",
        "if __name__ == \"__main__\":\n",
        "    main()"
      ],
      "metadata": {
        "id": "1xK6RL1dtYSf",
        "colab": {
          "base_uri": "https://localhost:8080/"
        },
        "outputId": "755b08ac-93c6-47e3-fcc3-1d4f7f1a41d6"
      },
      "execution_count": null,
      "outputs": [
        {
          "output_type": "stream",
          "name": "stdout",
          "text": [
            "11\n",
            "7\n",
            "18\n",
            "4.5\n",
            "4\n",
            "1\n",
            "81\n"
          ]
        }
      ]
    },
    {
      "cell_type": "markdown",
      "source": [
        "\n",
        "\n",
        "#####***How do Basic Math Operations work***"
      ],
      "metadata": {
        "id": "pR6FNaPut0Pc"
      }
    },
    {
      "cell_type": "code",
      "source": [
        "def main():\n",
        "    a = 9 \n",
        "    b = 2\n",
        "\n",
        "    # __add__    \n",
        "    print(a + b) \n",
        "    print(a.__add__(b))    \n",
        "    print(int.__add__(a,b),end=\"\\n\\n\")     \n",
        "\n",
        "    # __sub__\n",
        "    print(a - b)\n",
        "    print(a.__sub__(b))     \n",
        "    print(int.__sub__(a,b),end=\"\\n\\n\")     \n",
        "\n",
        "    # __mul__ \n",
        "    print(a * b) \n",
        "    print(a.__mul__(b))     \n",
        "    print(int.__mul__(a,b),end=\"\\n\\n\")    \n",
        "\n",
        "    # __truediv__\n",
        "    print(a / b) \n",
        "    print(a.__truediv__(b)) \n",
        "    print(int.__truediv__(a,b),end=\"\\n\\n\")  \n",
        "\n",
        "    # __floordiv__  \n",
        "    print(a // b) \n",
        "    print(a.__floordiv__(b)) \n",
        "    print(int.__floordiv__(a,b),end=\"\\n\\n\") \n",
        "\n",
        "    # __mod__  \n",
        "    print(a % b)\n",
        "    print(a.__mod__(b))      \n",
        "    print(int.__mod__(a,b),end=\"\\n\\n\")     \n",
        "\n",
        "    # __pow__ \n",
        "    print(a ** b) \n",
        "    print(a.__pow__(b))      \n",
        "    print(int.__pow__(a,b),end=\"\\n\\n\") \n",
        "\n",
        "if __name__ == \"__main__\":\n",
        "    main()"
      ],
      "metadata": {
        "colab": {
          "base_uri": "https://localhost:8080/"
        },
        "id": "ML0LN9Dft0c4",
        "outputId": "b7773c37-69c2-4104-e6a1-e41093a7d27f"
      },
      "execution_count": null,
      "outputs": [
        {
          "output_type": "stream",
          "name": "stdout",
          "text": [
            "11\n",
            "11\n",
            "11\n",
            "\n",
            "7\n",
            "7\n",
            "7\n",
            "\n",
            "18\n",
            "18\n",
            "18\n",
            "\n",
            "4.5\n",
            "4.5\n",
            "4.5\n",
            "\n",
            "4\n",
            "4\n",
            "4\n",
            "\n",
            "1\n",
            "1\n",
            "1\n",
            "\n",
            "81\n",
            "81\n",
            "81\n",
            "\n"
          ]
        }
      ]
    },
    {
      "cell_type": "markdown",
      "source": [
        "#####***Inplace Basic Math Operators***"
      ],
      "metadata": {
        "id": "id0UJ0b5tdJN"
      }
    },
    {
      "cell_type": "code",
      "source": [
        "# inplace basic math operations\n",
        "# [What is the purpose of the __iadd__ magic method, since it works fine without it?](https://teamtreehouse.com/community/what-is-the-purpose-of-the-iadd-magic-method-since-it-works-fine-without-it)\n",
        "# So the main difference between __add__ and __iadd__ is that __iadd__ is \n",
        "# actually storing that value its adding into the self.value. Chris Howell\n",
        "\n",
        "def main():\n",
        "    a = 49\n",
        "    print(a)\n",
        "\n",
        "    a += 5 \n",
        "    print(a)\n",
        "\n",
        "    a -= 5\n",
        "    print(a)\n",
        "\n",
        "    a *= 5\n",
        "    print(a)\n",
        "\n",
        "    a /= 5\n",
        "    print(a)\n",
        "\n",
        "    a //= 5\n",
        "    print(a)\n",
        "\n",
        "    a %= 5\n",
        "    print(a)\n",
        "\n",
        "    a **= 5\n",
        "    print(a)\n",
        "\n",
        "if __name__ == \"__main__\":\n",
        "    main()"
      ],
      "metadata": {
        "id": "IdpQHmfatdTN",
        "colab": {
          "base_uri": "https://localhost:8080/"
        },
        "outputId": "aefe7318-4e9c-4db4-f9cf-72e4056dc99b"
      },
      "execution_count": null,
      "outputs": [
        {
          "output_type": "stream",
          "name": "stdout",
          "text": [
            "49\n",
            "54\n",
            "49\n",
            "245\n",
            "49.0\n",
            "9.0\n",
            "4.0\n",
            "1024.0\n"
          ]
        }
      ]
    },
    {
      "cell_type": "markdown",
      "source": [
        "#####***Built-In Function -  int***"
      ],
      "metadata": {
        "id": "S_ryPDf-wcXD"
      }
    },
    {
      "cell_type": "code",
      "source": [
        "def main():\n",
        "    # float to int\n",
        "    print(int(3.64))\n",
        "    print(int(-3.64))\n",
        "\n",
        "    # str to int \n",
        "    print(int(\"20\") + 20)\n",
        "\n",
        "if __name__ == \"__main__\":\n",
        "    main()"
      ],
      "metadata": {
        "colab": {
          "base_uri": "https://localhost:8080/"
        },
        "id": "v4ud9STBwcok",
        "outputId": "e90fb1e3-f9db-4fb8-afc5-eddbfbc1dfda"
      },
      "execution_count": null,
      "outputs": [
        {
          "output_type": "stream",
          "name": "stdout",
          "text": [
            "3\n",
            "-3\n",
            "40\n"
          ]
        }
      ]
    },
    {
      "cell_type": "markdown",
      "source": [
        "#####***Built-In Function -  divmod***"
      ],
      "metadata": {
        "id": "Fo0uTtVav-mK"
      }
    },
    {
      "cell_type": "code",
      "source": [
        "def main():\n",
        "    n = 125\n",
        "    carry, mod = n//10, n%10\n",
        "    print(carry, mod)\n",
        "       \n",
        "    carry, mod = divmod(n, 10)\n",
        "    print(carry, mod)\n",
        "\n",
        "if __name__ == \"__main__\":\n",
        "    main()"
      ],
      "metadata": {
        "colab": {
          "base_uri": "https://localhost:8080/"
        },
        "id": "VRjSpChWv_bS",
        "outputId": "8fc01b3d-cca5-4ec9-ab49-abb6051e1a14"
      },
      "execution_count": null,
      "outputs": [
        {
          "output_type": "stream",
          "name": "stdout",
          "text": [
            "12 5\n",
            "12 5\n"
          ]
        }
      ]
    },
    {
      "cell_type": "markdown",
      "source": [
        "####***Section Binary Numbers***"
      ],
      "metadata": {
        "id": "qcdocHO2m_Hb"
      }
    },
    {
      "cell_type": "markdown",
      "source": [
        "\n",
        "\n",
        "#####***Decimal to Binary***"
      ],
      "metadata": {
        "id": "JinndiB5Ufa6"
      }
    },
    {
      "cell_type": "code",
      "source": [
        "def main():\n",
        "    a = 17\n",
        "    b = bin(17)\n",
        "    print(b, type(b))\n",
        "\n",
        "if __name__ == \"__main__\":\n",
        "    main()"
      ],
      "metadata": {
        "colab": {
          "base_uri": "https://localhost:8080/"
        },
        "id": "jCKU1FDKUfoC",
        "outputId": "c4b59c2e-0b7b-416e-e016-fc2cd8c20507"
      },
      "execution_count": null,
      "outputs": [
        {
          "output_type": "stream",
          "name": "stdout",
          "text": [
            "0b10001 <class 'str'>\n"
          ]
        }
      ]
    },
    {
      "cell_type": "markdown",
      "source": [
        "#####***Binary to Decimal***"
      ],
      "metadata": {
        "id": "A28J3LmUnHZk"
      }
    },
    {
      "cell_type": "code",
      "source": [
        "def main():\n",
        "    a = \"0b10001\"\n",
        "    b = int(a[2:], 2)\n",
        "    print(b, type(b))\n",
        "\n",
        "if __name__ == \"__main__\":\n",
        "    main()"
      ],
      "metadata": {
        "colab": {
          "base_uri": "https://localhost:8080/"
        },
        "outputId": "51262a8f-423a-4079-d68e-e5e33b263d5d",
        "id": "kCdjmdxanHZk"
      },
      "execution_count": null,
      "outputs": [
        {
          "output_type": "stream",
          "name": "stdout",
          "text": [
            "17 <class 'int'>\n"
          ]
        }
      ]
    },
    {
      "cell_type": "markdown",
      "source": [
        "#####***Negative Integers as Binary - Two's Complement [eng](https://www.youtube.com/watch?v=4qH4unVtJkE)***"
      ],
      "metadata": {
        "id": "_zns-qj1oqFs"
      }
    },
    {
      "cell_type": "code",
      "source": [
        "def main():\n",
        "    a = -3\n",
        "    b = bin(a)\n",
        "    print(b, type(b))\n",
        "\n",
        "if __name__ == \"__main__\":\n",
        "    main()"
      ],
      "metadata": {
        "colab": {
          "base_uri": "https://localhost:8080/"
        },
        "outputId": "fac6c4de-d18b-4fdc-fd06-026cf2c54ca8",
        "id": "QwiBzxCvoqFt"
      },
      "execution_count": null,
      "outputs": [
        {
          "output_type": "stream",
          "name": "stdout",
          "text": [
            "-0b11 <class 'str'>\n"
          ]
        }
      ]
    },
    {
      "cell_type": "markdown",
      "source": [
        "####***Section Octal Numbers***"
      ],
      "metadata": {
        "id": "IUivUKRGnjQZ"
      }
    },
    {
      "cell_type": "markdown",
      "source": [
        "\n",
        "#####***Decimal to Octal***"
      ],
      "metadata": {
        "id": "mjIaEF81U5Rr"
      }
    },
    {
      "cell_type": "code",
      "source": [
        "def main():\n",
        "    a = 17\n",
        "    b = oct(17)\n",
        "    print(b, type(b))\n",
        "\n",
        "if __name__ == \"__main__\":\n",
        "    main()"
      ],
      "metadata": {
        "colab": {
          "base_uri": "https://localhost:8080/"
        },
        "id": "51SbMCbCU5qD",
        "outputId": "6a69833c-095f-4350-8ff2-7a47959699f3"
      },
      "execution_count": null,
      "outputs": [
        {
          "output_type": "stream",
          "name": "stdout",
          "text": [
            "0o21 <class 'str'>\n"
          ]
        }
      ]
    },
    {
      "cell_type": "markdown",
      "source": [
        "\n",
        "#####***Octal to Decimal***"
      ],
      "metadata": {
        "id": "_hhTCcsOnt8a"
      }
    },
    {
      "cell_type": "code",
      "source": [
        "def main():\n",
        "    a = \"0o21\"\n",
        "    b = int(a[2:], 8)\n",
        "    print(b, type(b))\n",
        "\n",
        "if __name__ == \"__main__\":\n",
        "    main()"
      ],
      "metadata": {
        "colab": {
          "base_uri": "https://localhost:8080/"
        },
        "outputId": "8d1c3421-1f2d-4600-9e89-d0710789a34d",
        "id": "9gotXyycnt8b"
      },
      "execution_count": null,
      "outputs": [
        {
          "output_type": "stream",
          "name": "stdout",
          "text": [
            "17 <class 'int'>\n"
          ]
        }
      ]
    },
    {
      "cell_type": "markdown",
      "source": [
        "####***Section Hexadecimal Numbers***"
      ],
      "metadata": {
        "id": "PqbVM1OQoDXT"
      }
    },
    {
      "cell_type": "markdown",
      "source": [
        "\n",
        "#####***Decimal to Hexadecimal***"
      ],
      "metadata": {
        "id": "aDetvAjWTj4l"
      }
    },
    {
      "cell_type": "code",
      "source": [
        "def main():\n",
        "    a = 17\n",
        "    b = hex(17)\n",
        "    print(b, type(b))\n",
        "\n",
        "if __name__ == \"__main__\":\n",
        "    main()"
      ],
      "metadata": {
        "colab": {
          "base_uri": "https://localhost:8080/"
        },
        "id": "jsMIYpmpTkk9",
        "outputId": "729b407c-de7f-470d-817c-ef874cf7c366"
      },
      "execution_count": null,
      "outputs": [
        {
          "output_type": "stream",
          "name": "stdout",
          "text": [
            "0x11 <class 'str'>\n"
          ]
        }
      ]
    },
    {
      "cell_type": "markdown",
      "source": [
        "\n",
        "#####***Hexadecimal to Decimal***"
      ],
      "metadata": {
        "id": "ViSqSjqjoUK9"
      }
    },
    {
      "cell_type": "code",
      "source": [
        "def main():\n",
        "    a = \"0x11\"\n",
        "    b = int(a[2:], 16)\n",
        "    print(b, type(b))\n",
        "\n",
        "if __name__ == \"__main__\":\n",
        "    main()"
      ],
      "metadata": {
        "colab": {
          "base_uri": "https://localhost:8080/"
        },
        "outputId": "ee8d7bf1-9e4f-4340-c021-431da08d5d7f",
        "id": "EVfW2aaPoUK9"
      },
      "execution_count": null,
      "outputs": [
        {
          "output_type": "stream",
          "name": "stdout",
          "text": [
            "17 <class 'int'>\n"
          ]
        }
      ]
    },
    {
      "cell_type": "markdown",
      "source": [
        "####***Section How to store Integer***"
      ],
      "metadata": {
        "id": "SVGF1zo8p45X"
      }
    },
    {
      "cell_type": "markdown",
      "source": [
        "#####***Integer has No Restriction on It's Memory Size***"
      ],
      "metadata": {
        "id": "9_sCZvB8xHxC"
      }
    },
    {
      "cell_type": "code",
      "source": [
        "def main():\n",
        "    a = 10\n",
        "    print(a.bit_length())\n",
        "\n",
        "    a = 100_000\n",
        "    print(a.bit_length())\n",
        "\n",
        "    a = 10 ** 100\n",
        "    print(a.bit_length())\n",
        "\n",
        "if __name__ == \"__main__\":\n",
        "    main()"
      ],
      "metadata": {
        "colab": {
          "base_uri": "https://localhost:8080/"
        },
        "id": "y6-er45fxIUX",
        "outputId": "642b7290-1fb9-4fb3-b264-2645ebcdaffe"
      },
      "execution_count": null,
      "outputs": [
        {
          "output_type": "stream",
          "name": "stdout",
          "text": [
            "4\n",
            "17\n",
            "333\n"
          ]
        }
      ]
    },
    {
      "cell_type": "markdown",
      "source": [
        "#####***Integer Interning***"
      ],
      "metadata": {
        "id": "dyK-6rsqxuz7"
      }
    },
    {
      "cell_type": "code",
      "source": [
        "# [Integer Interning in Python (Optimization)](https://www.codesansar.com/python-programming/integer-interning.htm)\n",
        "# Standard implementation of Python (CPython) pre-loads (caches) \n",
        "# a global list of integers in the range from -5 to 256. \n",
        "# Any time an integer is referenced in this range Python does not create \n",
        "# new one but uses the cached version. \n",
        "# This is known as integer interning.\n",
        "\n",
        "def main():\n",
        "    a = 10\n",
        "    b = 10\n",
        "    print(a is b, a == b)\n",
        "    print(\"memory address of a\", id(a))\n",
        "    print(\"memory address of b\", id(b))\n",
        "\n",
        "if __name__ == \"__main__\":\n",
        "    main()"
      ],
      "metadata": {
        "id": "h2lCXZ5NxvEI",
        "colab": {
          "base_uri": "https://localhost:8080/"
        },
        "outputId": "48f1ed8d-06b6-4560-aad6-9e9a5c8869f8"
      },
      "execution_count": null,
      "outputs": [
        {
          "output_type": "stream",
          "name": "stdout",
          "text": [
            "True True\n",
            "memory address of a 140165814205008\n",
            "memory address of b 140165814205008\n"
          ]
        }
      ]
    },
    {
      "cell_type": "markdown",
      "source": [
        "###***Chapter 5 Float***"
      ],
      "metadata": {
        "id": "ZS75oJ3ZdBfe"
      }
    },
    {
      "cell_type": "markdown",
      "source": [
        "####***Section 1 Float***"
      ],
      "metadata": {
        "id": "egLOSEkiLIPO"
      }
    },
    {
      "cell_type": "markdown",
      "source": [
        "#####***Float***"
      ],
      "metadata": {
        "id": "g2QVBLX1kggl"
      }
    },
    {
      "cell_type": "code",
      "source": [
        "def main():\n",
        "    a = 3.14\n",
        "    print(a, type(a), end=\"\\n\\n\")\n",
        "\n",
        "    a = 314.\n",
        "    print(a, type(a), end=\"\\n\\n\")\n",
        "\n",
        "    a = .314\n",
        "    print(a, type(a), end=\"\\n\\n\")\n",
        "\n",
        "if __name__ == \"__main__\":\n",
        "    main()"
      ],
      "metadata": {
        "colab": {
          "base_uri": "https://localhost:8080/"
        },
        "id": "gyCzNL275TZx",
        "outputId": "8c01801d-95e7-431e-e669-093aa118cf1f"
      },
      "execution_count": null,
      "outputs": [
        {
          "output_type": "stream",
          "name": "stdout",
          "text": [
            "3.14 <class 'float'>\n",
            "\n",
            "314.0 <class 'float'>\n",
            "\n",
            "0.314 <class 'float'>\n",
            "\n",
            "3.14 <class 'float'>\n",
            "\n",
            "3.14 <class 'float'>\n",
            "\n"
          ]
        }
      ]
    },
    {
      "cell_type": "markdown",
      "source": [
        "#####***Scientific Representation of Float***"
      ],
      "metadata": {
        "id": "WCwHNlu0I3wb"
      }
    },
    {
      "cell_type": "code",
      "source": [
        "def main():\n",
        "    print(.314e1)\n",
        "    print(31.4e-1)\n",
        "       \n",
        "if __name__ == \"__main__\":\n",
        "    main()"
      ],
      "metadata": {
        "colab": {
          "base_uri": "https://localhost:8080/"
        },
        "outputId": "4896bdbc-47cb-480e-b398-9d3bca51ce32",
        "id": "j7EWvqJUI3wc"
      },
      "execution_count": null,
      "outputs": [
        {
          "output_type": "stream",
          "name": "stdout",
          "text": [
            "np.e = 2.718281828459045\n"
          ]
        }
      ]
    },
    {
      "cell_type": "markdown",
      "source": [
        "#####***Four Basic Math Operations***"
      ],
      "metadata": {
        "id": "w6AwqkIkLSnn"
      }
    },
    {
      "cell_type": "code",
      "source": [
        "def main():\n",
        "    print(f\"{3.0 + 2.0 = }\")\n",
        "    print(f\"{3.0 - 2.0 = }\")   \n",
        "    print(f\"{3.0 * 2.0 = }\")   \n",
        "    print(f\"{3.0 / 2.0 = }\") \n",
        "        \n",
        "if __name__ == \"__main__\":\n",
        "    main()"
      ],
      "metadata": {
        "colab": {
          "base_uri": "https://localhost:8080/"
        },
        "outputId": "4896bdbc-47cb-480e-b398-9d3bca51ce32",
        "id": "_M7Pd4qsLSno"
      },
      "execution_count": null,
      "outputs": [
        {
          "output_type": "stream",
          "name": "stdout",
          "text": [
            "np.e = 2.718281828459045\n"
          ]
        }
      ]
    },
    {
      "cell_type": "markdown",
      "source": [
        "#####***Operator Order***"
      ],
      "metadata": {
        "id": "UwlxNnjQ5iJJ"
      }
    },
    {
      "cell_type": "code",
      "source": [
        "# [Order of operations](https://en.wikipedia.org/wiki/Order_of_operations)\n",
        "# 1 Parentheses\n",
        "# 2 Exponents\n",
        "# 3 Multiplication and Division (from left to right)\n",
        "# 4 Addition and Subtraction (from left to right)\n",
        "\n",
        "def main():\n",
        "    print(2 * 3 + 1)\n",
        "    print(1 + 2 * 3)\n",
        "    print(1 + 2 * 3 / 5.)\n",
        "    print(1 + 2 * 3 / 5 ** 2)\n",
        "\n",
        "if __name__ == \"__main__\":\n",
        "    main()"
      ],
      "metadata": {
        "id": "RQRhQSk15iYI"
      },
      "execution_count": null,
      "outputs": []
    },
    {
      "cell_type": "markdown",
      "source": [
        "#####***Upcasting***"
      ],
      "metadata": {
        "id": "Po1FIG3z3B1A"
      }
    },
    {
      "cell_type": "code",
      "source": [
        "def main():\n",
        "    print(2 + 2.) # upcasting: int ---> float\n",
        "    print(2 - 2.) # upcasting: int ---> float\n",
        "    print(2 * 2.) # upcasting: int ---> float\n",
        "    print(2 / 2.) # upcasting: int ---> float\n",
        "    print(2 ** 2.) # upcasting: int ---> float\n",
        "\n",
        "if __name__ == \"__main__\":\n",
        "    main()"
      ],
      "metadata": {
        "colab": {
          "base_uri": "https://localhost:8080/"
        },
        "id": "wzpgdpGw3CBL",
        "outputId": "275820a0-01c3-4707-ba71-d622f797a4fb"
      },
      "execution_count": null,
      "outputs": [
        {
          "output_type": "stream",
          "name": "stdout",
          "text": [
            "4.0\n",
            "0.0\n",
            "4.0\n",
            "1.0\n",
            "4.0\n"
          ]
        }
      ]
    },
    {
      "cell_type": "markdown",
      "source": [
        "####***Section 2 Float in Memory [kor](https://www.youtube.com/watch?v=-GsrYvZoAdA)***"
      ],
      "metadata": {
        "id": "l1SeyX4lLv-R"
      }
    },
    {
      "cell_type": "code",
      "source": [
        "def main():\n",
        "    a = 0.1\n",
        "    b = 0.1\n",
        "    c = a + b\n",
        "    print(c == 0.2)\n",
        "       \n",
        "if __name__ == \"__main__\":\n",
        "    main()"
      ],
      "metadata": {
        "colab": {
          "base_uri": "https://localhost:8080/"
        },
        "id": "B5RbuJVWMXwt",
        "outputId": "1075a83d-075e-48c4-d0a2-90e9601ce3ab"
      },
      "execution_count": null,
      "outputs": [
        {
          "output_type": "stream",
          "name": "stdout",
          "text": [
            "True\n"
          ]
        }
      ]
    },
    {
      "cell_type": "code",
      "source": [
        "def main():\n",
        "    a = 0.1\n",
        "    b = 1.1\n",
        "    c = a + b\n",
        "    print(c == 1.2)\n",
        "       \n",
        "if __name__ == \"__main__\":\n",
        "    main()"
      ],
      "metadata": {
        "colab": {
          "base_uri": "https://localhost:8080/"
        },
        "id": "yeorYZZnMX6s",
        "outputId": "49cb3d71-d3f9-4743-d8e7-3415dddc9dcd"
      },
      "execution_count": null,
      "outputs": [
        {
          "output_type": "stream",
          "name": "stdout",
          "text": [
            "False\n"
          ]
        }
      ]
    },
    {
      "cell_type": "markdown",
      "source": [
        "####***Section 3 Infinity***"
      ],
      "metadata": {
        "id": "c90o9cVuIrTz"
      }
    },
    {
      "cell_type": "markdown",
      "source": [
        "#####***Infinity***"
      ],
      "metadata": {
        "id": "-oF_zyrm3aBi"
      }
    },
    {
      "cell_type": "code",
      "source": [
        "def main():\n",
        "    a = float(\"Inf\")\n",
        "    print(a, type(a))\n",
        "\n",
        "    b = float(\"-Inf\")\n",
        "    print(b, type(b))\n",
        "\n",
        "if __name__ == \"__main__\":\n",
        "    main()"
      ],
      "metadata": {
        "colab": {
          "base_uri": "https://localhost:8080/"
        },
        "id": "_OJURdin3aUl",
        "outputId": "6060239a-c30a-4d3c-daf4-6e2b3482a509"
      },
      "execution_count": null,
      "outputs": [
        {
          "output_type": "stream",
          "name": "stdout",
          "text": [
            "inf <class 'float'>\n",
            "-inf <class 'float'>\n"
          ]
        }
      ]
    },
    {
      "cell_type": "code",
      "source": [
        "def main():\n",
        "    a = float(\"inf\")\n",
        "    print(a, type(a))\n",
        "\n",
        "    b = float(\"-inf\")\n",
        "    print(b, type(b))\n",
        "\n",
        "if __name__ == \"__main__\":\n",
        "    main()"
      ],
      "metadata": {
        "colab": {
          "base_uri": "https://localhost:8080/"
        },
        "id": "bGC-PyBJKtRq",
        "outputId": "d1bcd245-38ba-4823-9eb5-5279a7169341"
      },
      "execution_count": null,
      "outputs": [
        {
          "output_type": "stream",
          "name": "stdout",
          "text": [
            "inf <class 'float'>\n",
            "-inf <class 'float'>\n"
          ]
        }
      ]
    },
    {
      "cell_type": "markdown",
      "source": [
        "#####***Addition***"
      ],
      "metadata": {
        "id": "NWZTLNfeIypH"
      }
    },
    {
      "cell_type": "code",
      "source": [
        "def main():\n",
        "    a = float(\"Inf\")\n",
        "    b = float(\"-Inf\")\n",
        "\n",
        "    print(f\"{a+3 = }\")\n",
        "    print(f\"{b+3 = }\")\n",
        "\n",
        "if __name__ == \"__main__\":\n",
        "    main()"
      ],
      "metadata": {
        "colab": {
          "base_uri": "https://localhost:8080/"
        },
        "outputId": "3beea089-c0ba-4d58-ec8a-60251354d4ea",
        "id": "nEoq_Xm_IypH"
      },
      "execution_count": null,
      "outputs": [
        {
          "output_type": "stream",
          "name": "stdout",
          "text": [
            "inf -inf\n",
            "inf -inf\n",
            "inf -inf\n",
            "inf -inf\n",
            "inf -inf\n",
            "3 -inf\n",
            "inf 3\n",
            "True\n",
            "False\n"
          ]
        }
      ]
    },
    {
      "cell_type": "markdown",
      "source": [
        "#####***Substraction***"
      ],
      "metadata": {
        "id": "nW9A12zDIysH"
      }
    },
    {
      "cell_type": "code",
      "source": [
        "def main():\n",
        "    a = float(\"Inf\")\n",
        "    b = float(\"-Inf\")\n",
        "\n",
        "    print(f\"{a-3 = }\")\n",
        "    print(f\"{b-3 = }\")\n",
        "\n",
        "if __name__ == \"__main__\":\n",
        "    main()"
      ],
      "metadata": {
        "colab": {
          "base_uri": "https://localhost:8080/"
        },
        "outputId": "3beea089-c0ba-4d58-ec8a-60251354d4ea",
        "id": "BGzjRH-HIysI"
      },
      "execution_count": null,
      "outputs": [
        {
          "output_type": "stream",
          "name": "stdout",
          "text": [
            "inf -inf\n",
            "inf -inf\n",
            "inf -inf\n",
            "inf -inf\n",
            "inf -inf\n",
            "3 -inf\n",
            "inf 3\n",
            "True\n",
            "False\n"
          ]
        }
      ]
    },
    {
      "cell_type": "markdown",
      "source": [
        "#####***Multiplication***"
      ],
      "metadata": {
        "id": "oJCBn7TRIyvs"
      }
    },
    {
      "cell_type": "code",
      "source": [
        "def main():\n",
        "    a = float(\"Inf\")\n",
        "    b = float(\"-Inf\")\n",
        "\n",
        "    print(f\"{a*3 = }\")\n",
        "    print(f\"{b*3 = }\")\n",
        "\n",
        "if __name__ == \"__main__\":\n",
        "    main()"
      ],
      "metadata": {
        "colab": {
          "base_uri": "https://localhost:8080/"
        },
        "outputId": "3beea089-c0ba-4d58-ec8a-60251354d4ea",
        "id": "TiZ_tER3Iyvs"
      },
      "execution_count": null,
      "outputs": [
        {
          "output_type": "stream",
          "name": "stdout",
          "text": [
            "inf -inf\n",
            "inf -inf\n",
            "inf -inf\n",
            "inf -inf\n",
            "inf -inf\n",
            "3 -inf\n",
            "inf 3\n",
            "True\n",
            "False\n"
          ]
        }
      ]
    },
    {
      "cell_type": "markdown",
      "source": [
        "#####***Division***"
      ],
      "metadata": {
        "id": "XwcxlY2HIyyL"
      }
    },
    {
      "cell_type": "code",
      "source": [
        "def main():\n",
        "    a = float(\"Inf\")\n",
        "    b = float(\"-Inf\")\n",
        "\n",
        "    print(f\"{a/3 = }\")\n",
        "    print(f\"{b/3 = }\")\n",
        "\n",
        "if __name__ == \"__main__\":\n",
        "    main()"
      ],
      "metadata": {
        "colab": {
          "base_uri": "https://localhost:8080/"
        },
        "outputId": "3beea089-c0ba-4d58-ec8a-60251354d4ea",
        "id": "B61gzDo2IyyM"
      },
      "execution_count": null,
      "outputs": [
        {
          "output_type": "stream",
          "name": "stdout",
          "text": [
            "inf -inf\n",
            "inf -inf\n",
            "inf -inf\n",
            "inf -inf\n",
            "inf -inf\n",
            "3 -inf\n",
            "inf 3\n",
            "True\n",
            "False\n"
          ]
        }
      ]
    },
    {
      "cell_type": "markdown",
      "source": [
        "#####***Minimum***"
      ],
      "metadata": {
        "id": "cSR-1auSIy1b"
      }
    },
    {
      "cell_type": "code",
      "source": [
        "def main():\n",
        "    a = float(\"Inf\")\n",
        "    b = float(\"-Inf\")\n",
        "\n",
        "    print(f\"{min(a,3) = }\")\n",
        "    print(f\"{min(b,3) = }\")\n",
        "\n",
        "if __name__ == \"__main__\":\n",
        "    main()"
      ],
      "metadata": {
        "colab": {
          "base_uri": "https://localhost:8080/"
        },
        "outputId": "3beea089-c0ba-4d58-ec8a-60251354d4ea",
        "id": "ybVvNGiBIy1b"
      },
      "execution_count": null,
      "outputs": [
        {
          "output_type": "stream",
          "name": "stdout",
          "text": [
            "inf -inf\n",
            "inf -inf\n",
            "inf -inf\n",
            "inf -inf\n",
            "inf -inf\n",
            "3 -inf\n",
            "inf 3\n",
            "True\n",
            "False\n"
          ]
        }
      ]
    },
    {
      "cell_type": "markdown",
      "source": [
        "#####***Maximum***"
      ],
      "metadata": {
        "id": "8ZhS7zt6Iy4q"
      }
    },
    {
      "cell_type": "code",
      "source": [
        "def main():\n",
        "    a = float(\"Inf\")\n",
        "    b = float(\"-Inf\")\n",
        "\n",
        "    print(f\"{max(a,3) = }\")\n",
        "    print(f\"{max(b,3) = }\")\n",
        "\n",
        "if __name__ == \"__main__\":\n",
        "    main()"
      ],
      "metadata": {
        "colab": {
          "base_uri": "https://localhost:8080/"
        },
        "outputId": "352da19b-1947-44bd-e133-b172a2b21370",
        "id": "VqW00vzFIy4q"
      },
      "execution_count": null,
      "outputs": [
        {
          "output_type": "stream",
          "name": "stdout",
          "text": [
            "max(a,3) = inf\n",
            "max(b,3) = 3\n"
          ]
        }
      ]
    },
    {
      "cell_type": "markdown",
      "source": [
        "#####***Comparision***"
      ],
      "metadata": {
        "id": "VVdC7aJiIy7c"
      }
    },
    {
      "cell_type": "code",
      "source": [
        "def main():\n",
        "    a = float(\"Inf\")\n",
        "    b = float(\"-Inf\")\n",
        "\n",
        "    print( float('-inf') == - float('inf') )\n",
        "    print( float('-inf') is - float('inf') )\n",
        "\n",
        "if __name__ == \"__main__\":\n",
        "    main()"
      ],
      "metadata": {
        "colab": {
          "base_uri": "https://localhost:8080/"
        },
        "outputId": "3beea089-c0ba-4d58-ec8a-60251354d4ea",
        "id": "mbr_kzZsIy7c"
      },
      "execution_count": null,
      "outputs": [
        {
          "output_type": "stream",
          "name": "stdout",
          "text": [
            "inf -inf\n",
            "inf -inf\n",
            "inf -inf\n",
            "inf -inf\n",
            "inf -inf\n",
            "3 -inf\n",
            "inf 3\n",
            "True\n",
            "False\n"
          ]
        }
      ]
    },
    {
      "cell_type": "markdown",
      "source": [
        "###***Chapter 6 Complex***"
      ],
      "metadata": {
        "id": "ZRXx8IoPdB3O"
      }
    },
    {
      "cell_type": "markdown",
      "source": [
        "####***Section 1 Complex Numbers***"
      ],
      "metadata": {
        "id": "vGo9xo-9Y_qP"
      }
    },
    {
      "cell_type": "markdown",
      "source": [
        "#####***Complex Numbers***"
      ],
      "metadata": {
        "id": "N22Ki6CcbNJ3"
      }
    },
    {
      "cell_type": "code",
      "source": [
        "def main():\n",
        "    # a = 1 + 2 j # SyntaxError: invalid syntax\n",
        "    a = 1 + 2j\n",
        "    print(a, type(a))\n",
        "\n",
        "    a = 1 + 2J\n",
        "    print(a, type(a))\n",
        "\n",
        "    a = complex( 1, 2 )\n",
        "    print(a, type(a))\n",
        "\n",
        "if __name__ == \"__main__\":\n",
        "    main()"
      ],
      "metadata": {
        "colab": {
          "base_uri": "https://localhost:8080/"
        },
        "id": "4bbeMxNCY_6y",
        "outputId": "c4ff3cb1-074a-45e9-f023-d851fc638707"
      },
      "execution_count": null,
      "outputs": [
        {
          "output_type": "stream",
          "name": "stdout",
          "text": [
            "(1+2j) <class 'complex'>\n",
            "(1+2j) <class 'complex'>\n",
            "(1+2j) <class 'complex'>\n"
          ]
        }
      ]
    },
    {
      "cell_type": "markdown",
      "source": [
        "#####***Function - np.real and np.imag***"
      ],
      "metadata": {
        "id": "HvlRGGonZAIi"
      }
    },
    {
      "cell_type": "code",
      "source": [
        "def main():\n",
        "    a = 1. + 2j\n",
        "    print(a, type(a))\n",
        "    print(np.real(a), type(np.real(a)))\n",
        "    print(np.imag(a), type(np.imag(a)), end=\"\\n\\n\")\n",
        "\n",
        "    a = 1. + 2.j\n",
        "    print(a, type(a))\n",
        "    print(np.real(a), type(np.real(a)))\n",
        "    print(np.imag(a), type(np.imag(a)), end=\"\\n\\n\")\n",
        "\n",
        "if __name__ == \"__main__\":\n",
        "    main()"
      ],
      "metadata": {
        "colab": {
          "base_uri": "https://localhost:8080/"
        },
        "id": "c__RrwhqZARS",
        "outputId": "6e4c3fee-495f-41e0-e6a8-6a46500de2dc"
      },
      "execution_count": null,
      "outputs": [
        {
          "output_type": "stream",
          "name": "stdout",
          "text": [
            "(1+2j) <class 'complex'>\n",
            "1.0 <class 'float'>\n",
            "2.0 <class 'float'>\n",
            "\n",
            "(1+2j) <class 'complex'>\n",
            "1.0 <class 'float'>\n",
            "2.0 <class 'float'>\n",
            "\n"
          ]
        }
      ]
    },
    {
      "cell_type": "markdown",
      "source": [
        "#####***Every Numbers in Complex use Float***"
      ],
      "metadata": {
        "id": "gwifoq-oIWm3"
      }
    },
    {
      "cell_type": "code",
      "source": [
        "def main():\n",
        "    a = 1 + 2j\n",
        "    print(a, type(a))\n",
        "    print(np.real(a), type(np.real(a)))\n",
        "    print(np.imag(a), type(np.imag(a)), end=\"\\n\\n\")\n",
        "\n",
        "    a = 1. + 2j\n",
        "    print(a, type(a))\n",
        "    print(np.real(a), type(np.real(a)))\n",
        "    print(np.imag(a), type(np.imag(a)), end=\"\\n\\n\")\n",
        "\n",
        "    a = 1. + 2.j\n",
        "    print(a, type(a))\n",
        "    print(np.real(a), type(np.real(a)))\n",
        "    print(np.imag(a), type(np.imag(a)), end=\"\\n\\n\")\n",
        "\n",
        "if __name__ == \"__main__\":\n",
        "    main()"
      ],
      "metadata": {
        "colab": {
          "base_uri": "https://localhost:8080/"
        },
        "outputId": "c6c859bf-3e8e-4eb2-b985-74f2ef64ad19",
        "id": "jMo242lkIWm4"
      },
      "execution_count": null,
      "outputs": [
        {
          "output_type": "stream",
          "name": "stdout",
          "text": [
            "(1+2j) <class 'complex'>\n",
            "1.0 <class 'float'>\n",
            "2.0 <class 'float'>\n",
            "\n",
            "(1+2j) <class 'complex'>\n",
            "1.0 <class 'float'>\n",
            "2.0 <class 'float'>\n",
            "\n",
            "(1+2j) <class 'complex'>\n",
            "1.0 <class 'float'>\n",
            "2.0 <class 'float'>\n",
            "\n"
          ]
        }
      ]
    },
    {
      "cell_type": "markdown",
      "source": [
        "#####***Complex Number Multiplication***"
      ],
      "metadata": {
        "id": "zkd_MXPdZAZa"
      }
    },
    {
      "cell_type": "code",
      "source": [
        "def main():\n",
        "    i = 1j\n",
        "    a = i * i\n",
        "    print(a, type(a))\n",
        "    print(np.real(a), type(np.real(a)))\n",
        "    print(np.imag(a), type(np.imag(a)), end=\"\\n\\n\")\n",
        "\n",
        "    i = 1J\n",
        "    a = i * i\n",
        "    print(a, type(a))\n",
        "    print(np.real(a), type(np.real(a)))\n",
        "    print(np.imag(a), type(np.imag(a)), end=\"\\n\\n\")\n",
        "\n",
        "    i = complex(0, 1)\n",
        "    a = i * i\n",
        "    print(a, type(a))\n",
        "    print(np.real(a), type(np.real(a)))\n",
        "    print(np.imag(a), type(np.imag(a)), end=\"\\n\\n\")\n",
        "\n",
        "if __name__ == \"__main__\":\n",
        "    main()"
      ],
      "metadata": {
        "colab": {
          "base_uri": "https://localhost:8080/"
        },
        "id": "hd97K5SNZAhP",
        "outputId": "cdf33ff4-346a-4e11-826d-044ec548ad9e"
      },
      "execution_count": null,
      "outputs": [
        {
          "output_type": "stream",
          "name": "stdout",
          "text": [
            "(-1+0j) <class 'complex'>\n",
            "-1.0 <class 'float'>\n",
            "0.0 <class 'float'>\n",
            "\n",
            "(-1+0j) <class 'complex'>\n",
            "-1.0 <class 'float'>\n",
            "0.0 <class 'float'>\n",
            "\n",
            "(-1+0j) <class 'complex'>\n",
            "-1.0 <class 'float'>\n",
            "0.0 <class 'float'>\n",
            "\n"
          ]
        }
      ]
    },
    {
      "cell_type": "markdown",
      "source": [
        "#####***Plot of Unit Circle***"
      ],
      "metadata": {
        "id": "oFHQlGCncVyp"
      }
    },
    {
      "cell_type": "markdown",
      "source": [
        "$$\\cos^2\\theta+\\sin^2\\theta=1$$"
      ],
      "metadata": {
        "id": "XLO8WP_pcg_E"
      }
    },
    {
      "cell_type": "code",
      "source": [
        "def main():\n",
        "    i = complex( 0, 1 )\n",
        "    theta = np.linspace(0,2*np.pi,100)\n",
        "    z = np.exp( i * theta )\n",
        "    x = np.real(z)\n",
        "    y = np.imag(z)\n",
        "\n",
        "    fig, ax = plt.subplots(figsize=(3,3))\n",
        "    ax.plot(x,y)\n",
        "    ax.axis('equal')\n",
        "    ax.axis('off')\n",
        "    plt.show()\n",
        "\n",
        "if __name__ == \"__main__\":\n",
        "    main()"
      ],
      "metadata": {
        "colab": {
          "base_uri": "https://localhost:8080/",
          "height": 268
        },
        "id": "gCseOTghbLYt",
        "outputId": "ce4a790a-970b-4dc2-80d7-01c91f671529"
      },
      "execution_count": null,
      "outputs": [
        {
          "output_type": "display_data",
          "data": {
            "text/plain": [
              "<Figure size 300x300 with 1 Axes>"
            ],
            "image/png": "[encoded data removed]"
          },
          "metadata": {}
        }
      ]
    },
    {
      "cell_type": "markdown",
      "source": [
        "###***Chapter 7 String***"
      ],
      "metadata": {
        "id": "B0Y21y6za5q_"
      }
    },
    {
      "cell_type": "markdown",
      "source": [
        "####***Section 1 How to make String***"
      ],
      "metadata": {
        "id": "i77PL7SDyWyC"
      }
    },
    {
      "cell_type": "markdown",
      "source": [
        "#####***How to make String***"
      ],
      "metadata": {
        "id": "AmbXiqdAkqK6"
      }
    },
    {
      "cell_type": "code",
      "source": [
        "def main():\n",
        "    a = \"Hello World\"\n",
        "    print(a, type(a))\n",
        "\n",
        "    a = 'Hello World'\n",
        "    print(a, type(a))\n",
        "\n",
        "if __name__ == \"__main__\":\n",
        "    main()"
      ],
      "metadata": {
        "id": "dDZY2VRSQTPX",
        "colab": {
          "base_uri": "https://localhost:8080/"
        },
        "outputId": "15af9d20-ceb6-4321-f4b8-64717fe9cdbe"
      },
      "execution_count": null,
      "outputs": [
        {
          "output_type": "stream",
          "name": "stdout",
          "text": [
            "Hello World <class 'str'>\n",
            "Hello World <class 'str'>\n"
          ]
        }
      ]
    },
    {
      "cell_type": "markdown",
      "source": [
        "#####***How to handle Quotation***"
      ],
      "metadata": {
        "id": "NhRV37pPQTZ_"
      }
    },
    {
      "cell_type": "code",
      "source": [
        "def main():\n",
        "    # use different quatation for quatation\n",
        "    a = \"He called the Gettysburg Address a 'monumental act.'\"\n",
        "    print(a, type(a))\n",
        "\n",
        "    # use different quatation for quatation\n",
        "    a = 'He called the Gettysburg Address a \"monumental act.\"'\n",
        "    print(a, type(a))\n",
        "\n",
        "    # use escape character\n",
        "    a = \"He called the Gettysburg Address a \\\"monumental act.\\\"\"\n",
        "    print(a, type(a))\n",
        "\n",
        "    # use escape character\n",
        "    a = 'He called the Gettysburg Address a \\'monumental act.\\''\n",
        "    print(a, type(a))\n",
        "\n",
        "if __name__ == \"__main__\":\n",
        "    main()"
      ],
      "metadata": {
        "id": "7Aj06Lh8QTk7"
      },
      "execution_count": null,
      "outputs": []
    },
    {
      "cell_type": "markdown",
      "source": [
        "#####***How to Generate Multiline String - Triple Quotation***"
      ],
      "metadata": {
        "id": "AFvRc9e2QshE"
      }
    },
    {
      "cell_type": "markdown",
      "source": [
        "Escape sequences still work in triple-quoted strings, \n",
        "but single quotes, double quotes, and newlines can be included \n",
        "without escaping them.\n",
        "[Basic Data Types in Python](https://realpython.com/python-data-types/)"
      ],
      "metadata": {
        "id": "hq5bHz8RQ7dl"
      }
    },
    {
      "cell_type": "code",
      "source": [
        "def main():\n",
        "    a = \"\"\"On June 1, 1865, Senator Charles Sumner referred to\n",
        "the most famous speech ever given by President Abraham Lincoln. \n",
        "In his eulogy on the slain president, he called the Gettysburg Address\n",
        "a \"monumental act.\" He said Lincoln was mistaken that \n",
        "\"the world will little note, nor long remember what we say here.\" \n",
        "Rather, the Bostonian remarked, \n",
        "\"The world noted at once what he said, and will never cease to remember it. \n",
        "The battle itself was less important than the speech.\\\"\"\"\" # < --- some bugs\n",
        "    print(a, type(a))\n",
        "\n",
        "    a = \"\"\"\n",
        "On June 1, 1865, Senator Charles Sumner referred to \n",
        "the most famous speech ever given by President Abraham Lincoln. \n",
        "In his eulogy on the slain president, he called the Gettysburg Address\n",
        "a \"monumental act.\" He said Lincoln was mistaken that \n",
        "\"the world will little note, nor long remember what we say here.\" \n",
        "Rather, the Bostonian remarked, \n",
        "\"The world noted at once what he said, and will never cease to remember it. \n",
        "The battle itself was less important than the speech.\"\n",
        "    \"\"\" \n",
        "    print(a, type(a))\n",
        "\n",
        "if __name__ == \"__main__\":\n",
        "    main()"
      ],
      "metadata": {
        "id": "7dOJNdrga56R",
        "colab": {
          "base_uri": "https://localhost:8080/"
        },
        "outputId": "6df39940-7530-4eaf-9a28-a1f18599efac"
      },
      "execution_count": null,
      "outputs": [
        {
          "output_type": "stream",
          "name": "stdout",
          "text": [
            "On June 1, 1865, Senator Charles Sumner referred to\n",
            "the most famous speech ever given by President Abraham Lincoln. \n",
            "In his eulogy on the slain president, he called the Gettysburg Address\n",
            "a \"monumental act.\" He said Lincoln was mistaken that \n",
            "\"the world will little note, nor long remember what we say here.\" \n",
            "Rather, the Bostonian remarked, \n",
            "\"The world noted at once what he said, and will never cease to remember it. \n",
            "The battle itself was less important than the speech.\" <class 'str'>\n",
            "\n",
            "On June 1, 1865, Senator Charles Sumner referred to \n",
            "the most famous speech ever given by President Abraham Lincoln. \n",
            "In his eulogy on the slain president, he called the Gettysburg Address\n",
            "a \"monumental act.\" He said Lincoln was mistaken that \n",
            "\"the world will little note, nor long remember what we say here.\" \n",
            "Rather, the Bostonian remarked, \n",
            "\"The world noted at once what he said, and will never cease to remember it. \n",
            "The battle itself was less important than the speech.\"\n",
            "     <class 'str'>\n"
          ]
        }
      ]
    },
    {
      "cell_type": "markdown",
      "source": [
        "#####***Doc String***"
      ],
      "metadata": {
        "id": "AvxqNyOClyzx"
      }
    },
    {
      "cell_type": "code",
      "source": [
        "def exp(x, n):\n",
        "    \"\"\"\n",
        "    Computes the result of x raised to the power of n.\n",
        "\n",
        "        >>> exp(2, 3)\n",
        "        8\n",
        "        >>> exp(3, 2)\n",
        "        9\n",
        "    \"\"\"\n",
        "    if n == 0:\n",
        "        return 1\n",
        "    else:\n",
        "        return x * exp(x, n-1)\n",
        "        \n",
        "def main():\n",
        "    print(help(exp))\n",
        "\n",
        "if __name__ == \"__main__\":\n",
        "    main()"
      ],
      "metadata": {
        "colab": {
          "base_uri": "https://localhost:8080/"
        },
        "id": "DnkHFjK2lyzx",
        "outputId": "22c0cd00-5f61-4842-f17f-21672beade71"
      },
      "execution_count": null,
      "outputs": [
        {
          "output_type": "stream",
          "name": "stdout",
          "text": [
            "Help on function exp in module __main__:\n",
            "\n",
            "exp(x, n)\n",
            "    Computes the result of x raised to the power of n.\n",
            "    \n",
            "        >>> exp(2, 3)\n",
            "        8\n",
            "        >>> exp(3, 2)\n",
            "        9\n",
            "\n",
            "None\n"
          ]
        }
      ]
    },
    {
      "cell_type": "markdown",
      "source": [
        "#####***Escape Character***"
      ],
      "metadata": {
        "id": "ql5xj2vbClAW"
      }
    },
    {
      "cell_type": "code",
      "source": [
        "def main():\n",
        "    # a = 'Bob's hat' # SyntaxError: invalid syntax\n",
        "    a = \"Bob's hat\"\n",
        "    print(a)\n",
        "\n",
        "    # escape character \\\n",
        "    # t - alphabet t ---> \\t - tab\n",
        "    # n - alphabrt n ---> \\n - newline\n",
        "    # ' - start/end of string ---> \\'\tsingle quote\n",
        "    # \" - start/end of string ---> \\\"\tdouble quote\n",
        "    # \\ - escape character ---> \\\\\tbackslash\n",
        "    a = 'Bob\\'s hat'\n",
        "    print(a)\n",
        "\n",
        "if __name__ == \"__main__\":\n",
        "    main()"
      ],
      "metadata": {
        "id": "ahDCXqkhClVm",
        "colab": {
          "base_uri": "https://localhost:8080/"
        },
        "outputId": "e7beec21-3b5f-4a35-cc91-e95898fb1040"
      },
      "execution_count": null,
      "outputs": [
        {
          "output_type": "stream",
          "name": "stdout",
          "text": [
            "Bob's hat\n",
            "Bob's hat\n"
          ]
        }
      ]
    },
    {
      "cell_type": "markdown",
      "source": [
        "#####***Raw String***"
      ],
      "metadata": {
        "id": "mt2FSzTK09RR"
      }
    },
    {
      "cell_type": "code",
      "source": [
        "def main():\n",
        "    # r - raw string\n",
        "    # raw string ingnores the meaning of escape character\n",
        "    print(r\"Hello, Bob.\\tThis is Sungchul.\\nHow are you\")\n",
        "\n",
        "if __name__ == \"__main__\":\n",
        "    main()"
      ],
      "metadata": {
        "id": "L8EZuVNX09h2"
      },
      "execution_count": null,
      "outputs": []
    },
    {
      "cell_type": "markdown",
      "source": [
        "####***Section 2 Three Ways of Making String***"
      ],
      "metadata": {
        "id": "qJorxntcJWm_"
      }
    },
    {
      "cell_type": "markdown",
      "source": [
        "#####***Placeholder***"
      ],
      "metadata": {
        "id": "zzpOTGBm-FLQ"
      }
    },
    {
      "cell_type": "code",
      "source": [
        "def main():\n",
        "    greeting = 'Hello' \n",
        "    name = 'Bob'\n",
        "\n",
        "    message = '%s, %s. Welcome!' % (greeting, name)\n",
        "    print(message)\n",
        "\n",
        "if __name__ == \"__main__\":\n",
        "    main()"
      ],
      "metadata": {
        "id": "IQ6ndPiD-FLR"
      },
      "execution_count": null,
      "outputs": []
    },
    {
      "cell_type": "code",
      "source": [
        "def main():\n",
        "    greeting = 'Hello' \n",
        "    name = 'Bob'\n",
        "    age = 15\n",
        "\n",
        "    message = '%s, %s. You are %d years old. Welcome!' % (greeting, name, age)\n",
        "    print(message)\n",
        "\n",
        "if __name__ == \"__main__\":\n",
        "    main()"
      ],
      "metadata": {
        "id": "0jsB7h8S-Tjg"
      },
      "execution_count": null,
      "outputs": []
    },
    {
      "cell_type": "markdown",
      "source": [
        "#####***Format String***"
      ],
      "metadata": {
        "id": "QgvYLhK9Ukx3"
      }
    },
    {
      "cell_type": "code",
      "source": [
        "def main():\n",
        "    a = 'Hello'\n",
        "    b = 'World'\n",
        "    c = \"{} {}\".format(a,b) \n",
        "    print(c)\n",
        "\n",
        "if __name__ == \"__main__\":\n",
        "    main()"
      ],
      "metadata": {
        "id": "gONtHPD5Ub5Q"
      },
      "execution_count": null,
      "outputs": []
    },
    {
      "cell_type": "code",
      "source": [
        "def main():\n",
        "    a = 'Price'\n",
        "    b = 10\n",
        "    c = \"{} : $ {}\".format(a,b) \n",
        "    print(c)\n",
        "\n",
        "if __name__ == \"__main__\":\n",
        "    main()"
      ],
      "metadata": {
        "id": "lTQPFwFF9rP3"
      },
      "execution_count": null,
      "outputs": []
    },
    {
      "cell_type": "code",
      "source": [
        "def main():\n",
        "    a = 10\n",
        "    b = 20\n",
        "    c = \"a = {}, b = {}\".format(a,b) \n",
        "    print(c)\n",
        "\n",
        "if __name__ == \"__main__\":\n",
        "    main()"
      ],
      "metadata": {
        "id": "fKcR7kNw9rUC"
      },
      "execution_count": null,
      "outputs": []
    },
    {
      "cell_type": "markdown",
      "source": [
        "#####***f String***"
      ],
      "metadata": {
        "id": "8VEt1QbwUnJK"
      }
    },
    {
      "cell_type": "code",
      "source": [
        "def main():\n",
        "    a = 'Hello'\n",
        "    b = 'World'\n",
        "    c = f\"{a} {b}\"\n",
        "    print(c)\n",
        "\n",
        "if __name__ == \"__main__\":\n",
        "    main()"
      ],
      "metadata": {
        "id": "UZypV_NiUnW6"
      },
      "execution_count": null,
      "outputs": []
    },
    {
      "cell_type": "code",
      "source": [
        "def main():\n",
        "    a = 'Price'\n",
        "    b = 10\n",
        "    c = f\"{a} : $ {b}\"\n",
        "    print(c)\n",
        "\n",
        "if __name__ == \"__main__\":\n",
        "    main()"
      ],
      "metadata": {
        "id": "cI7FMXLe5gwF"
      },
      "execution_count": null,
      "outputs": []
    },
    {
      "cell_type": "code",
      "source": [
        "def main():\n",
        "    a = 10\n",
        "    b = 20\n",
        "    c = f\"a = {a}, b = {b}\"\n",
        "    print(c)\n",
        "\n",
        "    a = 10\n",
        "    b = 20\n",
        "    c = f\"{a = }, {b = }\"\n",
        "    print(c)\n",
        "\n",
        "if __name__ == \"__main__\":\n",
        "    main()"
      ],
      "metadata": {
        "id": "MNi2GhPA5g0W"
      },
      "execution_count": null,
      "outputs": []
    },
    {
      "cell_type": "code",
      "source": [
        "def main():\n",
        "    a = 10\n",
        "    b = 20\n",
        "    c = f\"{a = }, {b = }\"\n",
        "    print(c)\n",
        "\n",
        "if __name__ == \"__main__\":\n",
        "    main()"
      ],
      "metadata": {
        "id": "oxo5G_Ta5g3q"
      },
      "execution_count": null,
      "outputs": []
    },
    {
      "cell_type": "markdown",
      "source": [
        "#####***Comparison of Three String Formats***"
      ],
      "metadata": {
        "id": "bFhUZfb8Jg3t"
      }
    },
    {
      "cell_type": "code",
      "source": [
        "def main():\n",
        "    name = 'John'\n",
        "    print(f\"Hello, {name}!\".format(name)) # f string\n",
        "    print(\"Hello, {}!\".format(name))      # format string\n",
        "    print(\"Hello, %s!\" % name)            # placeholder\n",
        "\n",
        "if __name__ == \"__main__\":\n",
        "    main()"
      ],
      "metadata": {
        "colab": {
          "base_uri": "https://localhost:8080/"
        },
        "id": "-IjIrJb5JmAO",
        "outputId": "764923d5-1af3-4988-9b93-3b7a830b6089"
      },
      "execution_count": null,
      "outputs": [
        {
          "output_type": "stream",
          "name": "stdout",
          "text": [
            "Hello, John!\n",
            "Hello, John!\n",
            "Hello, John!\n"
          ]
        }
      ]
    },
    {
      "cell_type": "code",
      "source": [
        "def main():\n",
        "    name = 'John'\n",
        "    age = 23\n",
        "    print(f\"{name} is {age} years old.\")           # f string\n",
        "    print(\"{} is {} years old.\".format(name, age)) # format string\n",
        "    print(\"%s is %d years old.\" % (name, age))     # placeholder\n",
        "\n",
        "if __name__ == \"__main__\":\n",
        "    main()"
      ],
      "metadata": {
        "colab": {
          "base_uri": "https://localhost:8080/"
        },
        "id": "kRxptce0JtL7",
        "outputId": "0c133e73-34d9-4f3a-efc5-3dc6359527d0"
      },
      "execution_count": null,
      "outputs": [
        {
          "output_type": "stream",
          "name": "stdout",
          "text": [
            "John is 23 years old.\n",
            "John is 23 years old.\n",
            "John is 23 years old.\n"
          ]
        }
      ]
    },
    {
      "cell_type": "code",
      "source": [
        "def main():\n",
        "    pi = np.pi\n",
        "    print(f\"pi is {pi:.2f}.\")         # f string\n",
        "    print(\"pi is {:.2f}.\".format(pi)) # format string\n",
        "    print(\"pi is %.2f.\" % pi)         # placeholder\n",
        "\n",
        "if __name__ == \"__main__\":\n",
        "    main()"
      ],
      "metadata": {
        "colab": {
          "base_uri": "https://localhost:8080/"
        },
        "id": "wcPMXd1WJvok",
        "outputId": "39bb02c0-668d-4e97-c217-9f8d61986b77"
      },
      "execution_count": null,
      "outputs": [
        {
          "output_type": "stream",
          "name": "stdout",
          "text": [
            "pi is 3.14.\n",
            "pi is 3.14.\n",
            "pi is 3.14.\n"
          ]
        }
      ]
    },
    {
      "cell_type": "code",
      "source": [
        "def main():\n",
        "    print(f\"pi is {np.pi:+.2f}.\")         # f string\n",
        "    print(\"pi is {:+.2f}.\".format(np.pi)) # format string\n",
        "    print(\"pi is %+.2f.\" % np.pi)         # placeholder\n",
        "\n",
        "if __name__ == \"__main__\":\n",
        "    main()"
      ],
      "metadata": {
        "colab": {
          "base_uri": "https://localhost:8080/"
        },
        "id": "qwPZBFtMJvr5",
        "outputId": "ac3b2457-0143-42f9-df26-7396eb8c63fa"
      },
      "execution_count": null,
      "outputs": [
        {
          "output_type": "stream",
          "name": "stdout",
          "text": [
            "pi is +3.14.\n",
            "pi is +3.14.\n",
            "pi is +3.14.\n"
          ]
        }
      ]
    },
    {
      "cell_type": "code",
      "source": [
        "def main():\n",
        "    pi = np.pi\n",
        "    print(f\"pi is {pi:10.2f}.\")         # f string\n",
        "    print(\"pi is {:10.2f}.\".format(pi)) # format string\n",
        "    print(\"pi is %10.2f.\" % pi)         # placeholder\n",
        "\n",
        "if __name__ == \"__main__\":\n",
        "    main()"
      ],
      "metadata": {
        "colab": {
          "base_uri": "https://localhost:8080/"
        },
        "id": "UO0Njl5rJvu6",
        "outputId": "994292ab-d558-4487-899f-c71f326edc7f"
      },
      "execution_count": null,
      "outputs": [
        {
          "output_type": "stream",
          "name": "stdout",
          "text": [
            "pi is       3.14.\n",
            "pi is       3.14.\n",
            "pi is       3.14.\n"
          ]
        }
      ]
    },
    {
      "cell_type": "code",
      "source": [
        "def main():\n",
        "    pi = np.pi\n",
        "    print(f\"pi is {pi:<10.2f}.\")         # f string\n",
        "    print(\"pi is {:<10.2f}.\".format(pi)) # format string\n",
        "    print(\"pi is %-10.2f.\" % pi)         # placeholder\n",
        "\n",
        "if __name__ == \"__main__\":\n",
        "    main()"
      ],
      "metadata": {
        "colab": {
          "base_uri": "https://localhost:8080/"
        },
        "id": "CgxC5fbQJvxu",
        "outputId": "ba00a57b-0aff-4758-8772-4ff309768a30"
      },
      "execution_count": null,
      "outputs": [
        {
          "output_type": "stream",
          "name": "stdout",
          "text": [
            "pi is 3.14      .\n",
            "pi is 3.14      .\n",
            "pi is 3.14      .\n"
          ]
        }
      ]
    },
    {
      "cell_type": "markdown",
      "source": [
        "####***Section 3 String Concatenation***"
      ],
      "metadata": {
        "id": "hZn3-lu1dCDa"
      }
    },
    {
      "cell_type": "markdown",
      "source": [
        "#####***String Addition***"
      ],
      "metadata": {
        "id": "L8jCKgYOHoFm"
      }
    },
    {
      "cell_type": "code",
      "source": [
        "def main():\n",
        "    print('Hello'+'Bob')\n",
        "\n",
        "if __name__ == \"__main__\":\n",
        "    main()"
      ],
      "metadata": {
        "id": "QzhdchMl9skx"
      },
      "execution_count": null,
      "outputs": []
    },
    {
      "cell_type": "markdown",
      "source": [
        "#####***String Multiplication***"
      ],
      "metadata": {
        "id": "YQIR361EHqLl"
      }
    },
    {
      "cell_type": "code",
      "source": [
        "def main():\n",
        "    print('-'*50)\n",
        "\n",
        "if __name__ == \"__main__\":\n",
        "    main()"
      ],
      "metadata": {
        "id": "c7Zk2OiUHqwO"
      },
      "execution_count": null,
      "outputs": []
    },
    {
      "cell_type": "markdown",
      "source": [
        "####***Section 4 String Indexing and Slicing***"
      ],
      "metadata": {
        "id": "2oMIKxBDvCXQ"
      }
    },
    {
      "cell_type": "markdown",
      "source": [
        "#####***Indexing***"
      ],
      "metadata": {
        "id": "x1pRa9HB-B3k"
      }
    },
    {
      "cell_type": "code",
      "source": [
        "def main():\n",
        "    a = \"Hello Pi\"\n",
        "    #    01234567\n",
        "    print(a[0])\n",
        "    print(a[6])\n",
        "    print(a[7])\n",
        "    print(a[-3]) # Exercise : What will be the output of the this code?\n",
        "\n",
        "if __name__ == \"__main__\":\n",
        "    main()"
      ],
      "metadata": {
        "id": "CH23Rlng-CFU"
      },
      "execution_count": null,
      "outputs": []
    },
    {
      "cell_type": "markdown",
      "source": [
        "#####***Slicing***"
      ],
      "metadata": {
        "id": "pVcSKwqW-tCx"
      }
    },
    {
      "cell_type": "code",
      "source": [
        "def main():\n",
        "    a = \"Hello Pi\"\n",
        "    #    01234567\n",
        "    print(a[1:7], a[-8:-2]) # end point exclusive\n",
        "    print(a[1:7:2], a[-8:-2:2]) # step size 2\n",
        "    print(a[1:], a[-8:]) # we can go to end inclusive\n",
        "    print(a[1::2], a[-8::2]) # step size 2\n",
        "    print(a[::-1]) # Exercise : What will be the output of the below code?\n",
        "\n",
        "if __name__ == \"__main__\":\n",
        "    main()"
      ],
      "metadata": {
        "id": "iwi-wkLd-tLN"
      },
      "execution_count": null,
      "outputs": []
    },
    {
      "cell_type": "markdown",
      "source": [
        "###### str interning (advanced)"
      ],
      "metadata": {
        "id": "YEIepUZgx7l7"
      }
    },
    {
      "cell_type": "code",
      "source": [
        "# [String Interning in Python: A Hidden Gem That Makes Your Code Faster](https://medium.com/techtofreedom/string-interning-in-python-a-hidden-gem-that-makes-your-code-faster-9be71c7a5f3e)\n",
        "# The string interning in Python is \n",
        "# a mechanism of storing only one copy of a string value in the memory. \n",
        "# If there are a few string variables whose values are the same, \n",
        "# they will be interned by Python implicitly and \n",
        "# refer to the same object in the memory.\n",
        "a = \"Yang\"\n",
        "b = \"Yang\"\n",
        "print(a is b, a == b)\n",
        "print(\"memory address of a\", id(a))\n",
        "print(\"memory address of b\", id(b))\n",
        "\n",
        "# In order to trade off the cost and profits, Python doesn’t intern all strings. \n",
        "# There are some rules to determine whether a string will be interned or not.\n",
        "#\n",
        "# Unfortunately, these rules make the things become complex since \n",
        "# they are different between the versions and the implementations of Python.\n",
        "#\n",
        "# In CPython (3.8.5), any strings that include spaces will not be interned. \n",
        "# So, the string “Yang” was interned but the string “Yang Zhou” was not.\n",
        "a = \"Yang Zhou\"\n",
        "b = \"Yang Zhou\"\n",
        "print(a is b, a == b)\n",
        "print(\"memory address of a\", id(a))\n",
        "print(\"memory address of b\", id(b))"
      ],
      "metadata": {
        "id": "ITnIU632x7vn"
      },
      "execution_count": null,
      "outputs": []
    },
    {
      "cell_type": "markdown",
      "source": [
        "####***Section 5 String is Immutable***"
      ],
      "metadata": {
        "id": "8u2Wr81Nks8J"
      }
    },
    {
      "cell_type": "markdown",
      "source": [
        "> string: immutable \n",
        "\n",
        "> list: mutable \n",
        "\n",
        "> tuple: immutable "
      ],
      "metadata": {
        "id": "-vMomSbxk3Lr"
      }
    },
    {
      "cell_type": "code",
      "source": [
        "def main():\n",
        "    a = 'Hello Kitty'\n",
        "    try:\n",
        "        a[0] = 'h' # string is immutable\n",
        "        print(a)\n",
        "    except Exception as e:\n",
        "        print(e)\n",
        "\n",
        "if __name__ == \"__main__\":\n",
        "    main()"
      ],
      "metadata": {
        "colab": {
          "base_uri": "https://localhost:8080/"
        },
        "id": "hI4Md0WPky5h",
        "outputId": "ea5fcdb4-a5f2-4c4d-97e2-dec1979afd9b"
      },
      "execution_count": null,
      "outputs": [
        {
          "output_type": "stream",
          "name": "stdout",
          "text": [
            "'str' object does not support item assignment\n"
          ]
        }
      ]
    },
    {
      "cell_type": "code",
      "source": [
        "def main():\n",
        "    a = 'Hello Kitty'\n",
        "    print(a.upper())\n",
        "    print(a) # string is immutable\n",
        "\n",
        "if __name__ == \"__main__\":\n",
        "    main()"
      ],
      "metadata": {
        "colab": {
          "base_uri": "https://localhost:8080/"
        },
        "id": "PhNWHie6lKtG",
        "outputId": "db67f6cf-2df1-4655-c700-a63b3fe40bc0"
      },
      "execution_count": null,
      "outputs": [
        {
          "output_type": "stream",
          "name": "stdout",
          "text": [
            "HELLO KITTY\n",
            "Hello Kitty\n"
          ]
        }
      ]
    },
    {
      "cell_type": "code",
      "source": [
        "def main():\n",
        "    a = 'Hello Kitty'\n",
        "    a = a.upper()\n",
        "    print(a) # string is immutable\n",
        "\n",
        "if __name__ == \"__main__\":\n",
        "    main()"
      ],
      "metadata": {
        "colab": {
          "base_uri": "https://localhost:8080/"
        },
        "id": "GvisBxCvlK4C",
        "outputId": "d1e9dc33-3db5-4299-ca19-42d0c5571d8b"
      },
      "execution_count": null,
      "outputs": [
        {
          "output_type": "stream",
          "name": "stdout",
          "text": [
            "HELLO KITTY\n"
          ]
        }
      ]
    },
    {
      "cell_type": "markdown",
      "source": [
        "####***Section 6 Format Specifier***"
      ],
      "metadata": {
        "id": "RMgu1IRg6nHs"
      }
    },
    {
      "cell_type": "markdown",
      "source": [
        "#####***Format Specifier***"
      ],
      "metadata": {
        "id": "3WEg_X2F8wS4"
      }
    },
    {
      "cell_type": "markdown",
      "source": [
        "<img src=\"data:image/PNG;base64,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\">\n",
        "\n",
        "Sorce [Data Structures in Python](https://refactored.ai/microcourse/notebook?path=content%2F02-Python_for_Data_Scientists%2F03-Data_Structures_in_python%2F01-Basic_data_types_and_operators.ipynb)"
      ],
      "metadata": {
        "id": "8kF-VTlQ6weo"
      }
    },
    {
      "cell_type": "markdown",
      "source": [
        "#####***Integer***"
      ],
      "metadata": {
        "id": "6LamIwTp7Sor"
      }
    },
    {
      "cell_type": "code",
      "source": [
        "def main():\n",
        "    print(f\"{123456789}\")\n",
        "\n",
        "if __name__ == \"__main__\":\n",
        "    main()"
      ],
      "metadata": {
        "colab": {
          "base_uri": "https://localhost:8080/"
        },
        "id": "QPyqt31r7bNV",
        "outputId": "18529b1d-481b-4001-8708-8f6e3d0ba17d"
      },
      "execution_count": null,
      "outputs": [
        {
          "output_type": "stream",
          "name": "stdout",
          "text": [
            "123456789\n"
          ]
        }
      ]
    },
    {
      "cell_type": "code",
      "source": [
        "def main():\n",
        "    print(f\"{123456789:,}\")\n",
        "\n",
        "if __name__ == \"__main__\":\n",
        "    main()"
      ],
      "metadata": {
        "colab": {
          "base_uri": "https://localhost:8080/"
        },
        "outputId": "2e754fc9-2276-4d1c-f378-609703e88c9d",
        "id": "C_xPGN4v7gM3"
      },
      "execution_count": null,
      "outputs": [
        {
          "output_type": "stream",
          "name": "stdout",
          "text": [
            "123,456,789\n"
          ]
        }
      ]
    },
    {
      "cell_type": "code",
      "source": [
        "def main():\n",
        "    print(f\"{123456789:20}\")\n",
        "\n",
        "if __name__ == \"__main__\":\n",
        "    main()"
      ],
      "metadata": {
        "colab": {
          "base_uri": "https://localhost:8080/"
        },
        "outputId": "0ccd2021-2bcc-4f7b-f8d9-bc722dca61af",
        "id": "eWJJSXrZ7gP3"
      },
      "execution_count": null,
      "outputs": [
        {
          "output_type": "stream",
          "name": "stdout",
          "text": [
            "           123456789\n"
          ]
        }
      ]
    },
    {
      "cell_type": "code",
      "source": [
        "def main():\n",
        "    print(f\"{123456789:<20}\")\n",
        "\n",
        "if __name__ == \"__main__\":\n",
        "    main()"
      ],
      "metadata": {
        "colab": {
          "base_uri": "https://localhost:8080/"
        },
        "outputId": "51dc41dc-c54d-4f22-b888-818a8de213e4",
        "id": "LZAWCX3R7gTM"
      },
      "execution_count": null,
      "outputs": [
        {
          "output_type": "stream",
          "name": "stdout",
          "text": [
            "123456789           \n"
          ]
        }
      ]
    },
    {
      "cell_type": "code",
      "source": [
        "def main():\n",
        "    print(f\"{123456789:>20}\")\n",
        "\n",
        "if __name__ == \"__main__\":\n",
        "    main()"
      ],
      "metadata": {
        "colab": {
          "base_uri": "https://localhost:8080/"
        },
        "outputId": "c8a4774b-2cd2-4ab0-9b6c-677ffd3ed702",
        "id": "WSgERqco7gVD"
      },
      "execution_count": null,
      "outputs": [
        {
          "output_type": "stream",
          "name": "stdout",
          "text": [
            "           123456789\n"
          ]
        }
      ]
    },
    {
      "cell_type": "code",
      "source": [
        "def main():\n",
        "    print(f\"{123456789:020}\")\n",
        "\n",
        "if __name__ == \"__main__\":\n",
        "    main()"
      ],
      "metadata": {
        "colab": {
          "base_uri": "https://localhost:8080/"
        },
        "outputId": "3f80a4aa-b2e9-4b82-8f6d-d2c0e455d338",
        "id": "HDQnQ2ly7gZX"
      },
      "execution_count": null,
      "outputs": [
        {
          "output_type": "stream",
          "name": "stdout",
          "text": [
            "00000000000123456789\n"
          ]
        }
      ]
    },
    {
      "cell_type": "code",
      "source": [
        "def main():\n",
        "    print(f\"{123456789:020,}\")\n",
        "\n",
        "if __name__ == \"__main__\":\n",
        "    main()"
      ],
      "metadata": {
        "colab": {
          "base_uri": "https://localhost:8080/"
        },
        "outputId": "317f2388-5db9-4e4e-b0a1-c7e59b041d82",
        "id": "gy6S2oL07gcU"
      },
      "execution_count": null,
      "outputs": [
        {
          "output_type": "stream",
          "name": "stdout",
          "text": [
            "0,000,000,123,456,789\n"
          ]
        }
      ]
    },
    {
      "cell_type": "code",
      "source": [
        "def main():\n",
        "    print(f\"{123456789:+20}\")\n",
        "\n",
        "if __name__ == \"__main__\":\n",
        "    main()"
      ],
      "metadata": {
        "colab": {
          "base_uri": "https://localhost:8080/"
        },
        "outputId": "dd7f00a8-e410-4d35-98ba-c66c3ea0769c",
        "id": "59EgBadR7ggJ"
      },
      "execution_count": null,
      "outputs": [
        {
          "output_type": "stream",
          "name": "stdout",
          "text": [
            "          +123456789\n"
          ]
        }
      ]
    },
    {
      "cell_type": "code",
      "source": [
        "def main():\n",
        "    print(f\"{-123456789:+20}\")\n",
        "\n",
        "if __name__ == \"__main__\":\n",
        "    main()"
      ],
      "metadata": {
        "colab": {
          "base_uri": "https://localhost:8080/"
        },
        "outputId": "10d0fe7d-fb05-46bb-9094-316cb18cabbe",
        "id": "xA1hd8sz7gjn"
      },
      "execution_count": null,
      "outputs": [
        {
          "output_type": "stream",
          "name": "stdout",
          "text": [
            "          -123456789\n"
          ]
        }
      ]
    },
    {
      "cell_type": "markdown",
      "source": [
        "#####***Float***"
      ],
      "metadata": {
        "id": "2dhdxrrD7OjW"
      }
    },
    {
      "cell_type": "code",
      "source": [
        "def main():\n",
        "    print(f\"{np.pi}\")\n",
        "\n",
        "if __name__ == \"__main__\":\n",
        "    main()"
      ],
      "metadata": {
        "colab": {
          "base_uri": "https://localhost:8080/"
        },
        "id": "wxPMTgEe5-8i",
        "outputId": "1d4e9b4c-074b-4305-877b-094ec5ea5a82"
      },
      "execution_count": null,
      "outputs": [
        {
          "output_type": "stream",
          "name": "stdout",
          "text": [
            "3.141592653589793\n"
          ]
        }
      ]
    },
    {
      "cell_type": "code",
      "source": [
        "def main():\n",
        "    print(f\"{np.pi:.2f}\")\n",
        "\n",
        "if __name__ == \"__main__\":\n",
        "    main()"
      ],
      "metadata": {
        "colab": {
          "base_uri": "https://localhost:8080/"
        },
        "id": "BUrpLfX95-_t",
        "outputId": "f0e993cf-440b-456b-f92b-49a61335b727"
      },
      "execution_count": null,
      "outputs": [
        {
          "output_type": "stream",
          "name": "stdout",
          "text": [
            "3.14\n"
          ]
        }
      ]
    },
    {
      "cell_type": "code",
      "source": [
        "def main():\n",
        "    print(f\"{np.pi:10.2f}\")\n",
        "\n",
        "if __name__ == \"__main__\":\n",
        "    main()"
      ],
      "metadata": {
        "colab": {
          "base_uri": "https://localhost:8080/"
        },
        "id": "Uhld0b235_C9",
        "outputId": "d556f344-7411-47ef-f212-305359bd8af2"
      },
      "execution_count": null,
      "outputs": [
        {
          "output_type": "stream",
          "name": "stdout",
          "text": [
            "      3.14\n"
          ]
        }
      ]
    },
    {
      "cell_type": "code",
      "source": [
        "def main():\n",
        "    print(f\"{np.pi:010.2f}\")\n",
        "\n",
        "if __name__ == \"__main__\":\n",
        "    main()"
      ],
      "metadata": {
        "colab": {
          "base_uri": "https://localhost:8080/"
        },
        "id": "kL8zm1sl5_FX",
        "outputId": "a03cf77e-84df-4f12-b368-0a453a172034"
      },
      "execution_count": null,
      "outputs": [
        {
          "output_type": "stream",
          "name": "stdout",
          "text": [
            "0000003.14\n"
          ]
        }
      ]
    },
    {
      "cell_type": "code",
      "source": [
        "def main():\n",
        "    print(f\"{np.pi:<10.2f}\")\n",
        "\n",
        "if __name__ == \"__main__\":\n",
        "    main()"
      ],
      "metadata": {
        "colab": {
          "base_uri": "https://localhost:8080/"
        },
        "id": "YY887gut5_II",
        "outputId": "0db72c1e-e692-4ae8-f026-7ee71b8839dd"
      },
      "execution_count": null,
      "outputs": [
        {
          "output_type": "stream",
          "name": "stdout",
          "text": [
            "3.14      \n"
          ]
        }
      ]
    },
    {
      "cell_type": "code",
      "source": [
        "def main():\n",
        "    print(f\"{np.pi:>10.2f}\")\n",
        "\n",
        "if __name__ == \"__main__\":\n",
        "    main()"
      ],
      "metadata": {
        "colab": {
          "base_uri": "https://localhost:8080/"
        },
        "id": "DRCw-NGe5_KU",
        "outputId": "43fabe59-89ee-4908-a615-4f6edd1e99bb"
      },
      "execution_count": null,
      "outputs": [
        {
          "output_type": "stream",
          "name": "stdout",
          "text": [
            "      3.14\n"
          ]
        }
      ]
    },
    {
      "cell_type": "code",
      "source": [
        "def main():\n",
        "    print(f\"{np.pi:>+10.2f}\")\n",
        "\n",
        "if __name__ == \"__main__\":\n",
        "    main()"
      ],
      "metadata": {
        "colab": {
          "base_uri": "https://localhost:8080/"
        },
        "id": "d61Yh_lF8aN5",
        "outputId": "cc29d066-0611-4f26-836a-11677f849acb"
      },
      "execution_count": null,
      "outputs": [
        {
          "output_type": "stream",
          "name": "stdout",
          "text": [
            "     +3.14\n"
          ]
        }
      ]
    },
    {
      "cell_type": "code",
      "source": [
        "def main():\n",
        "    print(f\"{-np.pi:>+10.2f}\")\n",
        "\n",
        "if __name__ == \"__main__\":\n",
        "    main()"
      ],
      "metadata": {
        "colab": {
          "base_uri": "https://localhost:8080/"
        },
        "id": "DayNUeqp8aRR",
        "outputId": "21562225-9edf-4ce7-f58a-240658a5d9fb"
      },
      "execution_count": null,
      "outputs": [
        {
          "output_type": "stream",
          "name": "stdout",
          "text": [
            "     -3.14\n"
          ]
        }
      ]
    },
    {
      "cell_type": "markdown",
      "source": [
        "#####***Percentage***"
      ],
      "metadata": {
        "id": "1XjLjZo96lU-"
      }
    },
    {
      "cell_type": "code",
      "source": [
        "def main():\n",
        "    print(f\"{np.pi:.2%}\")\n",
        "\n",
        "if __name__ == \"__main__\":\n",
        "    main()"
      ],
      "metadata": {
        "colab": {
          "base_uri": "https://localhost:8080/"
        },
        "id": "rqz0bkqN9HLu",
        "outputId": "51bcd305-afe0-44d2-c7e1-fe487622a4b1"
      },
      "execution_count": null,
      "outputs": [
        {
          "output_type": "stream",
          "name": "stdout",
          "text": [
            "314.16%\n"
          ]
        }
      ]
    },
    {
      "cell_type": "markdown",
      "source": [
        "#####***Time [doc](https://docs.python.org/3/library/datetime.html#strftime-and-strptime-format-codes)***"
      ],
      "metadata": {
        "id": "ZkrFE7tjBXF1"
      }
    },
    {
      "cell_type": "code",
      "source": [
        "import datetime\n",
        "\n",
        "def main():\n",
        "    date = datetime.datetime(2019, 12, 11, 21, 20, 35)\n",
        "    print(f\"{date:%B %d, %Y}\")\n",
        "    print(f\"{date:%M %d, %Y}\")\n",
        "\n",
        "if __name__ == \"__main__\":\n",
        "    main()"
      ],
      "metadata": {
        "colab": {
          "base_uri": "https://localhost:8080/"
        },
        "outputId": "ca86f33f-5e13-4a8c-bf36-f28d5e4be512",
        "id": "mYOvC6LZBXF2"
      },
      "execution_count": null,
      "outputs": [
        {
          "output_type": "stream",
          "name": "stdout",
          "text": [
            "December 11, 2019\n",
            "20 11, 2019\n"
          ]
        }
      ]
    },
    {
      "cell_type": "markdown",
      "source": [
        "####***Section 7 String Method***"
      ],
      "metadata": {
        "id": "cfDBIMQxSHS7"
      }
    },
    {
      "cell_type": "markdown",
      "source": [
        "#####***String Method - lower, upper, capitalize***"
      ],
      "metadata": {
        "id": "mAmthiZiSOuX"
      }
    },
    {
      "cell_type": "code",
      "source": [
        "def main():\n",
        "    s = \"\"\"The brand has had its ups and downs. But, it’s thrived since entering into a partnership with Waitrose in 2009.\"\"\"\n",
        "\n",
        "    # lower method\n",
        "    a = s.lower()\n",
        "    print(a)\n",
        "\n",
        "    # upper method\n",
        "    a = s.upper()\n",
        "    print(a)\n",
        "\n",
        "    # capitalize method\n",
        "    # Hmm, only very first capitalized.\n",
        "    a = s.capitalize()\n",
        "    print(a)\n",
        "\n",
        "if __name__ == \"__main__\":\n",
        "    main()"
      ],
      "metadata": {
        "colab": {
          "base_uri": "https://localhost:8080/"
        },
        "id": "l7qedN5TSHgW",
        "outputId": "5c4eb07b-7ab7-4d22-a6bf-a2e3e9fd21fd"
      },
      "execution_count": null,
      "outputs": [
        {
          "output_type": "stream",
          "name": "stdout",
          "text": [
            "the brand has had its ups and downs. but, it’s thrived since entering into a partnership with waitrose in 2009.\n",
            "THE BRAND HAS HAD ITS UPS AND DOWNS. BUT, IT’S THRIVED SINCE ENTERING INTO A PARTNERSHIP WITH WAITROSE IN 2009.\n",
            "The brand has had its ups and downs. but, it’s thrived since entering into a partnership with waitrose in 2009.\n"
          ]
        }
      ]
    },
    {
      "cell_type": "markdown",
      "source": [
        "#####***String Method - split, join***"
      ],
      "metadata": {
        "id": "pZep2npFSh4W"
      }
    },
    {
      "cell_type": "code",
      "source": [
        "def main():\n",
        "    s = \"\"\"The brand has had its ups and downs. But, it’s thrived since entering into a partnership with Waitrose in 2009.\"\"\"\n",
        "\n",
        "    # split method\n",
        "    a = s.split()\n",
        "    print(a)\n",
        "\n",
        "    # join method\n",
        "    a = ' '.join(a)\n",
        "    print(a)\n",
        "\n",
        "if __name__ == \"__main__\":\n",
        "    main()"
      ],
      "metadata": {
        "colab": {
          "base_uri": "https://localhost:8080/"
        },
        "id": "8xDGH-PPSiDm",
        "outputId": "2ea969c2-2a8a-4ed5-d385-436aa9717e93"
      },
      "execution_count": null,
      "outputs": [
        {
          "output_type": "stream",
          "name": "stdout",
          "text": [
            "['The', 'brand', 'has', 'had', 'its', 'ups', 'and', 'downs.', 'But,', 'it’s', 'thrived', 'since', 'entering', 'into', 'a', 'partnership', 'with', 'Waitrose', 'in', '2009.']\n",
            "The brand has had its ups and downs. But, it’s thrived since entering into a partnership with Waitrose in 2009.\n"
          ]
        }
      ]
    },
    {
      "cell_type": "markdown",
      "source": [
        "#####***String Method - replace***"
      ],
      "metadata": {
        "id": "m9Zvr0EtwGHW"
      }
    },
    {
      "cell_type": "code",
      "source": [
        "def main():\n",
        "    s = \"Hello World\"\n",
        "    s = s.replace(\"World\", \"Universe\")\n",
        "    print(s)\n",
        "\n",
        "if __name__ == \"__main__\":\n",
        "    main()"
      ],
      "metadata": {
        "colab": {
          "base_uri": "https://localhost:8080/"
        },
        "outputId": "5c4eb07b-7ab7-4d22-a6bf-a2e3e9fd21fd",
        "id": "EfVBPLYEwGHW"
      },
      "execution_count": null,
      "outputs": [
        {
          "output_type": "stream",
          "name": "stdout",
          "text": [
            "the brand has had its ups and downs. but, it’s thrived since entering into a partnership with waitrose in 2009.\n",
            "THE BRAND HAS HAD ITS UPS AND DOWNS. BUT, IT’S THRIVED SINCE ENTERING INTO A PARTNERSHIP WITH WAITROSE IN 2009.\n",
            "The brand has had its ups and downs. but, it’s thrived since entering into a partnership with waitrose in 2009.\n"
          ]
        }
      ]
    },
    {
      "cell_type": "markdown",
      "source": [
        "#####***String Method - count***"
      ],
      "metadata": {
        "id": "aoXgte7wwcHb"
      }
    },
    {
      "cell_type": "code",
      "source": [
        "def main():\n",
        "    s = \"Hello World\"\n",
        "    \n",
        "    print(s.count('l'))        # 3\n",
        "    print(s.count('World'))    # 1\n",
        "    print(s.count('Universe')) # 0\n",
        "\n",
        "if __name__ == \"__main__\":\n",
        "    main()"
      ],
      "metadata": {
        "colab": {
          "base_uri": "https://localhost:8080/"
        },
        "outputId": "5c4eb07b-7ab7-4d22-a6bf-a2e3e9fd21fd",
        "id": "CZVVbe1ZwcHb"
      },
      "execution_count": null,
      "outputs": [
        {
          "output_type": "stream",
          "name": "stdout",
          "text": [
            "the brand has had its ups and downs. but, it’s thrived since entering into a partnership with waitrose in 2009.\n",
            "THE BRAND HAS HAD ITS UPS AND DOWNS. BUT, IT’S THRIVED SINCE ENTERING INTO A PARTNERSHIP WITH WAITROSE IN 2009.\n",
            "The brand has had its ups and downs. but, it’s thrived since entering into a partnership with waitrose in 2009.\n"
          ]
        }
      ]
    },
    {
      "cell_type": "markdown",
      "source": [
        "#####***String Method - strip, lstrip, rstrip***"
      ],
      "metadata": {
        "id": "PQsMch3EwvlI"
      }
    },
    {
      "cell_type": "code",
      "source": [
        "def main():\n",
        "    a = \"   Hello World   \"\n",
        "    \n",
        "    print(a.strip(), len(a.strip())) \n",
        "    print(a.lstrip(), len(a.lstrip())) \n",
        "    print(a.rstrip(), len(a.rstrip()))\n",
        "\n",
        "if __name__ == \"__main__\":\n",
        "    main()"
      ],
      "metadata": {
        "colab": {
          "base_uri": "https://localhost:8080/"
        },
        "outputId": "73a6e770-3647-4a1b-c38c-cf0631bdefd2",
        "id": "suhhhUA9wvlI"
      },
      "execution_count": null,
      "outputs": [
        {
          "output_type": "stream",
          "name": "stdout",
          "text": [
            "Hello World 11\n",
            "Hello World    14\n",
            "   Hello World 14\n"
          ]
        }
      ]
    },
    {
      "cell_type": "markdown",
      "source": [
        "#####***String Method - find, index***"
      ],
      "metadata": {
        "id": "T21m9Kt5xNxC"
      }
    },
    {
      "cell_type": "code",
      "source": [
        "def main():\n",
        "    a = \"Hello World\"\n",
        "    \n",
        "    # find the first string block and returns the starting index \n",
        "    print(a.find('l')) \n",
        "    print(a.find('World'))\n",
        "    print(a.find('Hi')) # -1 if not found\n",
        "\n",
        "    # find the first string block and returns the starting index \n",
        "    print(a.index('l')) \n",
        "    print(a.index('World'))\n",
        "    try:\n",
        "        print(a.index('Hi')) # ValueError if not found\n",
        "    except ValueError as e:\n",
        "        print(e)\n",
        "\n",
        "if __name__ == \"__main__\":\n",
        "    main()"
      ],
      "metadata": {
        "colab": {
          "base_uri": "https://localhost:8080/"
        },
        "outputId": "73a6e770-3647-4a1b-c38c-cf0631bdefd2",
        "id": "d7y_mTCBxNxC"
      },
      "execution_count": null,
      "outputs": [
        {
          "output_type": "stream",
          "name": "stdout",
          "text": [
            "Hello World 11\n",
            "Hello World    14\n",
            "   Hello World 14\n"
          ]
        }
      ]
    },
    {
      "cell_type": "markdown",
      "source": [
        "####***Section 8 Built-In Function for String***"
      ],
      "metadata": {
        "id": "CX-PPBYBsEUk"
      }
    },
    {
      "cell_type": "markdown",
      "source": [
        "#####***Built-In Function - len***"
      ],
      "metadata": {
        "id": "MnyxqNi9sKhN"
      }
    },
    {
      "cell_type": "code",
      "source": [
        "def main():\n",
        "    message = 'Hello World!'\n",
        "    print(len(message))\n",
        "\n",
        "if __name__ == \"__main__\":\n",
        "    main()"
      ],
      "metadata": {
        "colab": {
          "base_uri": "https://localhost:8080/"
        },
        "id": "tkc9HQsFsKsy",
        "outputId": "48088f54-efbe-4333-bdf3-78a6ebc3396e"
      },
      "execution_count": null,
      "outputs": [
        {
          "output_type": "stream",
          "name": "stdout",
          "text": [
            "12\n"
          ]
        }
      ]
    },
    {
      "cell_type": "markdown",
      "source": [
        "#####***Built-In Function - str***"
      ],
      "metadata": {
        "id": "VE0usnSnspSt"
      }
    },
    {
      "cell_type": "code",
      "source": [
        "def main():\n",
        "    message = str(3.14)\n",
        "    print(message, type(message), len(message))\n",
        "\n",
        "if __name__ == \"__main__\":\n",
        "    main()"
      ],
      "metadata": {
        "colab": {
          "base_uri": "https://localhost:8080/"
        },
        "outputId": "d6afd7b6-7145-40b2-a823-ca9de886bf95",
        "id": "RyMfCcx5spSt"
      },
      "execution_count": null,
      "outputs": [
        {
          "output_type": "stream",
          "name": "stdout",
          "text": [
            "3.14 <class 'str'> 4\n"
          ]
        }
      ]
    },
    {
      "cell_type": "markdown",
      "source": [
        "#####***Built-In Function - sorted***"
      ],
      "metadata": {
        "id": "mp4pWLS7spWw"
      }
    },
    {
      "cell_type": "code",
      "source": [
        "def main():\n",
        "    s = 'sdkasnjacsas'\n",
        "    lst = sorted(s)\n",
        "    print(lst)\n",
        "\n",
        "    s_sorted = ''.join(lst)\n",
        "    print(s_sorted)\n",
        "\n",
        "if __name__ == \"__main__\":\n",
        "    main()"
      ],
      "metadata": {
        "colab": {
          "base_uri": "https://localhost:8080/"
        },
        "outputId": "fca0d3f3-a437-4032-fe83-abbd2c5429a1",
        "id": "J10jEY9jspWw"
      },
      "execution_count": null,
      "outputs": [
        {
          "output_type": "stream",
          "name": "stdout",
          "text": [
            "['a', 'a', 'a', 'c', 'd', 'j', 'k', 'n', 's', 's', 's', 's']\n",
            "aaacdjknssss\n"
          ]
        }
      ]
    },
    {
      "cell_type": "markdown",
      "source": [
        "#####***Built-In Function - reversed***"
      ],
      "metadata": {
        "id": "ZUhoNOnGLmTL"
      }
    },
    {
      "cell_type": "code",
      "source": [
        "def main():\n",
        "    a = 'sdkasnjacsas'\n",
        "    for item in reversed(a): # reversed(a), an iterator\n",
        "        print(item,end=\"\")\n",
        "\n",
        "if __name__ == \"__main__\":\n",
        "    main()"
      ],
      "metadata": {
        "colab": {
          "base_uri": "https://localhost:8080/"
        },
        "outputId": "cf74d77e-5ffd-4d6f-a958-5dd7f587555d",
        "id": "e0Mq2-QqLmTL"
      },
      "execution_count": null,
      "outputs": [
        {
          "output_type": "stream",
          "name": "stdout",
          "text": [
            "sascajnsakds"
          ]
        }
      ]
    },
    {
      "cell_type": "markdown",
      "source": [
        "#####***Built-In Function - ord and chr***"
      ],
      "metadata": {
        "id": "bRofyI1mspb7"
      }
    },
    {
      "cell_type": "markdown",
      "source": [
        "$$\\begin{array}{llllll}\n",
        "\\text{ord (short for ordinal)}&&\\text{string}\\rightarrow\\text{ascii}\\\\\n",
        "\\text{chr (short for character)}&&\\text{string}\\leftarrow\\text{ascii}\\\\\n",
        "\\end{array}$$"
      ],
      "metadata": {
        "id": "glA2cqqVtl8_"
      }
    },
    {
      "cell_type": "code",
      "source": [
        "import string\n",
        "\n",
        "def main():\n",
        "    for c in string.ascii_lowercase:\n",
        "        print(ord(c), end= ' ')\n",
        "\n",
        "if __name__ == \"__main__\":\n",
        "    main()"
      ],
      "metadata": {
        "colab": {
          "base_uri": "https://localhost:8080/"
        },
        "outputId": "f1b5786d-f1bc-4346-8e75-1a5fc5bf4973",
        "id": "Wl2GdErqspb7"
      },
      "execution_count": null,
      "outputs": [
        {
          "output_type": "stream",
          "name": "stdout",
          "text": [
            "97 98 99 100 101 102 103 104 105 106 107 108 109 110 111 112 113 114 115 116 117 118 119 120 121 122 "
          ]
        }
      ]
    },
    {
      "cell_type": "code",
      "source": [
        "def main():\n",
        "    lst = [97, 98, 99, 100, 101, 102, 103, 104, 105, 106, 107, 108, 109, 110, 111, 112, 113, 114, 115, 116, 117, 118, 119, 120, 121, 122]\n",
        "\n",
        "    for num in lst:\n",
        "        print(chr(num), end= ' ')\n",
        "\n",
        "if __name__ == \"__main__\":\n",
        "    main()"
      ],
      "metadata": {
        "colab": {
          "base_uri": "https://localhost:8080/"
        },
        "id": "GIygLQ9RtwkP",
        "outputId": "ec9b7c84-180f-4580-fb9a-20b677210b67"
      },
      "execution_count": null,
      "outputs": [
        {
          "output_type": "stream",
          "name": "stdout",
          "text": [
            "a b c d e f g h i j k l m n o p q r s t u v w x y z "
          ]
        }
      ]
    },
    {
      "cell_type": "markdown",
      "source": [
        "####***Section 9 String Packing and Unpacking***"
      ],
      "metadata": {
        "id": "J5OO19c-Kr4z"
      }
    },
    {
      "cell_type": "code",
      "source": [
        "def main():\n",
        "    x = 'hippo'\n",
        "    a, b, c, d, e = x\n",
        "    print(a)\n",
        "    print(b)\n",
        "    print(c)\n",
        "\n",
        "if __name__ == \"__main__\":\n",
        "    main()"
      ],
      "metadata": {
        "colab": {
          "base_uri": "https://localhost:8080/"
        },
        "id": "ZZywX2dVKx3Z",
        "outputId": "5855d325-5564-44d2-a0f0-8870fc6486cf"
      },
      "execution_count": null,
      "outputs": [
        {
          "output_type": "stream",
          "name": "stdout",
          "text": [
            "h\n",
            "i\n",
            "p\n"
          ]
        }
      ]
    },
    {
      "cell_type": "code",
      "source": [
        "def main():\n",
        "    x = 'hippo'\n",
        "    _, _, c, d, _  = x\n",
        "    print(c)\n",
        "\n",
        "if __name__ == \"__main__\":\n",
        "    main()"
      ],
      "metadata": {
        "colab": {
          "base_uri": "https://localhost:8080/"
        },
        "id": "vsBsZoyNLDY0",
        "outputId": "104d7c5b-b550-45ee-be2b-3248400c8357"
      },
      "execution_count": null,
      "outputs": [
        {
          "output_type": "stream",
          "name": "stdout",
          "text": [
            "p\n"
          ]
        }
      ]
    },
    {
      "cell_type": "code",
      "source": [
        "def main():\n",
        "    x = 'hippo'\n",
        "    _, _, *c, _  = x\n",
        "    print(c)\n",
        "\n",
        "if __name__ == \"__main__\":\n",
        "    main()"
      ],
      "metadata": {
        "colab": {
          "base_uri": "https://localhost:8080/"
        },
        "id": "FeQZyX1DLDcC",
        "outputId": "45647b61-b248-4eb4-bc12-041b5140019b"
      },
      "execution_count": null,
      "outputs": [
        {
          "output_type": "stream",
          "name": "stdout",
          "text": [
            "['p', 'p']\n"
          ]
        }
      ]
    },
    {
      "cell_type": "markdown",
      "source": [
        "###***Chapter 8 Boolean***"
      ],
      "metadata": {
        "id": "VcuyFmSpbfP9"
      }
    },
    {
      "cell_type": "markdown",
      "source": [
        "\n",
        "####***Section 1 bool*** "
      ],
      "metadata": {
        "id": "DeVwxFvw3ytE"
      }
    },
    {
      "cell_type": "markdown",
      "source": [
        "#####***bool*** "
      ],
      "metadata": {
        "id": "T8xAwLyDQoG9"
      }
    },
    {
      "cell_type": "code",
      "source": [
        "def main():\n",
        "    a = True\n",
        "    print(a, type(a))\n",
        "\n",
        "    b = False\n",
        "    print(b, type(b))\n",
        "\n",
        "if __name__ == \"__main__\":\n",
        "    main()"
      ],
      "metadata": {
        "id": "XrfiZkBrJ3zt",
        "colab": {
          "base_uri": "https://localhost:8080/"
        },
        "outputId": "c5d80d31-6c23-4fba-9200-a19e4b6ab6d7"
      },
      "execution_count": null,
      "outputs": [
        {
          "output_type": "stream",
          "name": "stdout",
          "text": [
            "True <class 'bool'>\n",
            "False <class 'bool'>\n"
          ]
        }
      ]
    },
    {
      "cell_type": "markdown",
      "source": [
        "#####***Typical Usage*** "
      ],
      "metadata": {
        "id": "Tv4OjLVDQvgi"
      }
    },
    {
      "cell_type": "code",
      "source": [
        "def main():\n",
        "    for i in range(7):\n",
        "        if i % 2 == 1:\n",
        "            print(i, end='\\t')\n",
        "\n",
        "if __name__ == \"__main__\":\n",
        "    main()"
      ],
      "metadata": {
        "colab": {
          "base_uri": "https://localhost:8080/"
        },
        "outputId": "0e487ed9-764f-45d3-ab3f-5762e0cb0179",
        "id": "N4I-z-AhQvgi"
      },
      "execution_count": null,
      "outputs": [
        {
          "output_type": "stream",
          "name": "stdout",
          "text": [
            "1\t3\t5\t"
          ]
        }
      ]
    },
    {
      "cell_type": "markdown",
      "source": [
        "\n",
        "####***Section 2 Logical Operators*** "
      ],
      "metadata": {
        "id": "3usZ3AUiKQXC"
      }
    },
    {
      "cell_type": "markdown",
      "source": [
        "#####***and***"
      ],
      "metadata": {
        "id": "16EDhqarRDr2"
      }
    },
    {
      "cell_type": "code",
      "source": [
        "def main():\n",
        "    print(True and True)\n",
        "    print(True and False)\n",
        "    print(False and True)\n",
        "    print(False and False)\n",
        "\n",
        "if __name__ == \"__main__\":\n",
        "    main()"
      ],
      "metadata": {
        "id": "uEpISmEDKQ3k",
        "colab": {
          "base_uri": "https://localhost:8080/"
        },
        "outputId": "52cdb7e1-e3a6-4fc9-f80c-93d561ff8db7"
      },
      "execution_count": null,
      "outputs": [
        {
          "output_type": "stream",
          "name": "stdout",
          "text": [
            "True\n",
            "False\n",
            "False\n",
            "False\n"
          ]
        }
      ]
    },
    {
      "cell_type": "markdown",
      "source": [
        "#####***or***"
      ],
      "metadata": {
        "id": "AmVi-FbLRH-w"
      }
    },
    {
      "cell_type": "code",
      "source": [
        "def main():\n",
        "    print(True or True)\n",
        "    print(True or False)\n",
        "    print(False or True)\n",
        "    print(False or False)\n",
        "\n",
        "if __name__ == \"__main__\":\n",
        "    main()"
      ],
      "metadata": {
        "colab": {
          "base_uri": "https://localhost:8080/"
        },
        "id": "esjFDrjKRH-w",
        "outputId": "4595fbe9-dd79-4014-d636-e668089b13cc"
      },
      "execution_count": null,
      "outputs": [
        {
          "output_type": "stream",
          "name": "stdout",
          "text": [
            "True\n",
            "True\n",
            "True\n",
            "False\n"
          ]
        }
      ]
    },
    {
      "cell_type": "markdown",
      "source": [
        "#####***not***"
      ],
      "metadata": {
        "id": "OE0n2JRQRIE6"
      }
    },
    {
      "cell_type": "code",
      "source": [
        "def main():\n",
        "    print(not True)\n",
        "    print(not False)\n",
        "\n",
        "if __name__ == \"__main__\":\n",
        "    main()"
      ],
      "metadata": {
        "colab": {
          "base_uri": "https://localhost:8080/"
        },
        "id": "RGUhkS7xRIE6",
        "outputId": "51a92bc0-5ad2-43d1-b5ea-f5a1dd71f5d4"
      },
      "execution_count": null,
      "outputs": [
        {
          "output_type": "stream",
          "name": "stdout",
          "text": [
            "False\n",
            "True\n"
          ]
        }
      ]
    },
    {
      "cell_type": "markdown",
      "source": [
        "\n",
        "####***Section 3 Equality Operators*** "
      ],
      "metadata": {
        "id": "QnXAxdQIK7MY"
      }
    },
    {
      "cell_type": "markdown",
      "source": [
        "#####***==***"
      ],
      "metadata": {
        "id": "Au1UvwAfRqb-"
      }
    },
    {
      "cell_type": "code",
      "source": [
        "def main():\n",
        "    print(True == True)\n",
        "    print(True == False)\n",
        "    print(False == True)\n",
        "    print(False == False)\n",
        "\n",
        "if __name__ == \"__main__\":\n",
        "    main()"
      ],
      "metadata": {
        "id": "Eb9wIdZPK7fw"
      },
      "execution_count": null,
      "outputs": []
    },
    {
      "cell_type": "markdown",
      "source": [
        "#####***!=***"
      ],
      "metadata": {
        "id": "08MKRisuRuz-"
      }
    },
    {
      "cell_type": "code",
      "source": [
        "def main():\n",
        "    print(True != True)\n",
        "    print(True != False)\n",
        "    print(False != True)\n",
        "    print(False != False)\n",
        "\n",
        "if __name__ == \"__main__\":\n",
        "    main()"
      ],
      "metadata": {
        "id": "RxeYzB4YRuz-"
      },
      "execution_count": null,
      "outputs": []
    },
    {
      "cell_type": "markdown",
      "source": [
        "\n",
        "####***Section 4 Relational Operators*** "
      ],
      "metadata": {
        "id": "Xx-OgNTUGU3W"
      }
    },
    {
      "cell_type": "markdown",
      "source": [
        "#####***Numerical Relational Operators***"
      ],
      "metadata": {
        "id": "lwuIMzpCSGbA"
      }
    },
    {
      "cell_type": "code",
      "source": [
        "def main():\n",
        "    print(3 < 5)\n",
        "    print(3 <= 5)\n",
        "    print(3 > 5)\n",
        "    print(3 >= 5)\n",
        "    print(3 == 5)\n",
        "    print(3 != 5)\n",
        "\n",
        "if __name__ == \"__main__\":\n",
        "    main()"
      ],
      "metadata": {
        "id": "yz254UO1Gr5y"
      },
      "execution_count": null,
      "outputs": []
    },
    {
      "cell_type": "code",
      "source": [
        "def main():\n",
        "    print(2 < 5 < 10)        # (2<5) and (5<10)\n",
        "    print(2 < 3 < 4 < 5 < 6) # (2<3) and (3<4) and (4<5) and (5<6)\n",
        "\n",
        "if __name__ == \"__main__\":\n",
        "    main()"
      ],
      "metadata": {
        "id": "Qe0GNwlCTWYJ"
      },
      "execution_count": null,
      "outputs": []
    },
    {
      "cell_type": "markdown",
      "source": [
        "#####***String Relational Operators***"
      ],
      "metadata": {
        "id": "S9A6fdVRSOAg"
      }
    },
    {
      "cell_type": "code",
      "source": [
        "def main():\n",
        "    print(\"alpha\" < \"beta\")\n",
        "    print(\"Alpha\" < \"alpha\")\n",
        "    print(\"Beta\" < \"alpha\") # <--- Caution : Capital first (different from common sense)\n",
        "    print(\"alpha\" < \"beta\" < \"gamma\")\n",
        "\n",
        "if __name__ == \"__main__\":\n",
        "    main()"
      ],
      "metadata": {
        "colab": {
          "base_uri": "https://localhost:8080/"
        },
        "id": "SmXoYzY5SOAh",
        "outputId": "691efccc-dc8d-49d0-cf85-55367a57f07e"
      },
      "execution_count": null,
      "outputs": [
        {
          "output_type": "stream",
          "name": "stdout",
          "text": [
            "True\n",
            "True\n",
            "True\n",
            "True\n"
          ]
        }
      ]
    },
    {
      "cell_type": "markdown",
      "source": [
        "#####***List Relational Operators***"
      ],
      "metadata": {
        "id": "gU3a4wJSSOD6"
      }
    },
    {
      "cell_type": "code",
      "source": [
        "def main():\n",
        "    print([0, 1, 2] < [5, 1, 2])                  # True\n",
        "    print([0, 1, 2000000000] < [0, 1, 2])         # False\n",
        "    print(['Jones', 'Sally'] < ['Jones', 'Fred']) # False\n",
        "    print(['Jones', 'Sally'] < ['Adams', 'Sam'])  # False\n",
        "\n",
        "if __name__ == \"__main__\":\n",
        "    main()"
      ],
      "metadata": {
        "colab": {
          "base_uri": "https://localhost:8080/"
        },
        "id": "57vO_ZccSOD6",
        "outputId": "bbb67437-7db2-48d4-dc55-86a56f449b84"
      },
      "execution_count": null,
      "outputs": [
        {
          "output_type": "stream",
          "name": "stdout",
          "text": [
            "True\n",
            "False\n",
            "False\n",
            "True\n"
          ]
        }
      ]
    },
    {
      "cell_type": "markdown",
      "source": [
        "#####***Tuple Relational Operators***"
      ],
      "metadata": {
        "id": "AmKE1XzASOHN"
      }
    },
    {
      "cell_type": "code",
      "source": [
        "def main():\n",
        "    print((0, 1, 2) < (5, 1, 2))                  # True\n",
        "    print((0, 1, 2000000000) < (0, 1, 2))         # False\n",
        "    print(('Jones', 'Sally') < ('Jones', 'Fred')) # False\n",
        "    print(('Jones', 'Sally') < ('Adams', 'Sam'))  # False\n",
        "\n",
        "if __name__ == \"__main__\":\n",
        "    main()"
      ],
      "metadata": {
        "id": "XzQyTTi-SOHN"
      },
      "execution_count": null,
      "outputs": []
    },
    {
      "cell_type": "markdown",
      "source": [
        "####***Section 5 Same Value vs Same Object***"
      ],
      "metadata": {
        "id": "d0MtNnY0bju7"
      }
    },
    {
      "cell_type": "markdown",
      "source": [
        "#####***Check Value***"
      ],
      "metadata": {
        "id": "m4053ShVLps1"
      }
    },
    {
      "cell_type": "code",
      "source": [
        "def main():\n",
        "    a = [1,2,3,4,5]\n",
        "    b = a\n",
        "    print(a == b)\n",
        "\n",
        "    a = [1,2,3,4,5]\n",
        "    b = [1,2,3,4,5]\n",
        "    print(a == b)\n",
        "\n",
        "if __name__ == \"__main__\":\n",
        "    main()"
      ],
      "metadata": {
        "colab": {
          "base_uri": "https://localhost:8080/"
        },
        "id": "9XCden7pbkPT",
        "outputId": "ff62b46e-7ad5-411e-c47f-60ad074e9a83"
      },
      "execution_count": null,
      "outputs": [
        {
          "output_type": "stream",
          "name": "stdout",
          "text": [
            "True\n",
            "True\n"
          ]
        }
      ]
    },
    {
      "cell_type": "markdown",
      "source": [
        "#####***Check Memory Address***"
      ],
      "metadata": {
        "id": "OshCWP0EMCFm"
      }
    },
    {
      "cell_type": "code",
      "source": [
        "def main():\n",
        "    a = [1,2,3,4,5]\n",
        "    b = a\n",
        "    print(a is b)\n",
        "\n",
        "    a = [1,2,3,4,5]\n",
        "    b = [1,2,3,4,5]\n",
        "    print(a is b)\n",
        "    print(\"memory address of a\", id(a))\n",
        "    print(\"memory address of b\", id(b))\n",
        "\n",
        "if __name__ == \"__main__\":\n",
        "    main()"
      ],
      "metadata": {
        "colab": {
          "base_uri": "https://localhost:8080/"
        },
        "outputId": "d89c130d-9ebc-4309-9819-bf6a7624a7fd",
        "id": "TjTeU5RVMCFm"
      },
      "execution_count": null,
      "outputs": [
        {
          "output_type": "stream",
          "name": "stdout",
          "text": [
            "True\n",
            "False\n",
            "memory address of a 140164560594496\n",
            "memory address of b 140165386477312\n"
          ]
        }
      ]
    },
    {
      "cell_type": "markdown",
      "source": [
        "#####***Function - id***"
      ],
      "metadata": {
        "id": "8UuVZtsqM1ac"
      }
    },
    {
      "cell_type": "code",
      "source": [
        "def main():\n",
        "    a = 2\n",
        "    b = 2\n",
        "    print(a is b)\n",
        "    print(id(a) == id(b))\n",
        "\n",
        "if __name__ == \"__main__\":\n",
        "    main()"
      ],
      "metadata": {
        "colab": {
          "base_uri": "https://localhost:8080/"
        },
        "outputId": "bfaf7d79-8e2b-40d3-c97e-93d40174d736",
        "id": "qMADaDSlM1ad"
      },
      "execution_count": null,
      "outputs": [
        {
          "output_type": "stream",
          "name": "stdout",
          "text": [
            "True\n",
            "True\n"
          ]
        }
      ]
    },
    {
      "cell_type": "code",
      "source": [
        "def main():\n",
        "    a = 223\n",
        "    b = 223\n",
        "    print(a is b)\n",
        "    print(id(a) == id(b))\n",
        "\n",
        "if __name__ == \"__main__\":\n",
        "    main()"
      ],
      "metadata": {
        "colab": {
          "base_uri": "https://localhost:8080/"
        },
        "outputId": "8df32974-e067-4770-d2a8-a8c0b58d49b1",
        "id": "2ZyH6LfkNEp3"
      },
      "execution_count": null,
      "outputs": [
        {
          "output_type": "stream",
          "name": "stdout",
          "text": [
            "True\n",
            "True\n"
          ]
        }
      ]
    },
    {
      "cell_type": "code",
      "source": [
        "def main():\n",
        "    a = 224147628364216846598345348595916424586827969928609860202828695828628549\n",
        "    b = 224147628364216846598345348595916424586827969928609860202828695828628549\n",
        "    print(a is b)\n",
        "    print(id(a) == id(b))\n",
        "\n",
        "if __name__ == \"__main__\":\n",
        "    main()"
      ],
      "metadata": {
        "colab": {
          "base_uri": "https://localhost:8080/"
        },
        "outputId": "12258093-1c0c-40af-fe00-5f9a11843888",
        "id": "VXNI-RssNEsr"
      },
      "execution_count": null,
      "outputs": [
        {
          "output_type": "stream",
          "name": "stdout",
          "text": [
            "True\n",
            "True\n"
          ]
        }
      ]
    },
    {
      "cell_type": "code",
      "source": [
        "def main():\n",
        "    a = 3.\n",
        "    b = 3.\n",
        "    print(a is b)\n",
        "    print(id(a) == id(b))\n",
        "\n",
        "if __name__ == \"__main__\":\n",
        "    main()"
      ],
      "metadata": {
        "colab": {
          "base_uri": "https://localhost:8080/"
        },
        "outputId": "bc2f396e-b653-41b0-cf5c-62fe09326837",
        "id": "pb8naR76NEvh"
      },
      "execution_count": null,
      "outputs": [
        {
          "output_type": "stream",
          "name": "stdout",
          "text": [
            "True\n",
            "True\n"
          ]
        }
      ]
    },
    {
      "cell_type": "code",
      "source": [
        "def main():\n",
        "    a = 2.2414762836421684659834534859591642458682796992860986020282869582862854\n",
        "    b = 2.2414762836421684659834534859591642458682796992860986020282869582862854\n",
        "    print(a is b)\n",
        "    print(id(a) == id(b))\n",
        "\n",
        "if __name__ == \"__main__\":\n",
        "    main()"
      ],
      "metadata": {
        "colab": {
          "base_uri": "https://localhost:8080/"
        },
        "outputId": "32b2900e-18cc-4971-a48a-fafee6cfb28c",
        "id": "PjYW1Nx_NEyJ"
      },
      "execution_count": null,
      "outputs": [
        {
          "output_type": "stream",
          "name": "stdout",
          "text": [
            "True\n",
            "True\n"
          ]
        }
      ]
    },
    {
      "cell_type": "code",
      "source": [
        "def main():\n",
        "    a = 'Hi'\n",
        "    b = 'Hi'\n",
        "    print(a is b)\n",
        "    print(id(a) == id(b))\n",
        "\n",
        "if __name__ == \"__main__\":\n",
        "    main()"
      ],
      "metadata": {
        "colab": {
          "base_uri": "https://localhost:8080/"
        },
        "outputId": "1af80fac-2c58-4b36-a91a-1bccd977af4f",
        "id": "nq7k2RjYNE1G"
      },
      "execution_count": null,
      "outputs": [
        {
          "output_type": "stream",
          "name": "stdout",
          "text": [
            "True\n",
            "True\n"
          ]
        }
      ]
    },
    {
      "cell_type": "code",
      "source": [
        "def main():\n",
        "    a = 'Hi. How are you. I am currently working on python.'\n",
        "    b = 'Hi. How are you. I am currently working on python.'\n",
        "    print(a is b)\n",
        "    print(id(a) == id(b))\n",
        "\n",
        "if __name__ == \"__main__\":\n",
        "    main()"
      ],
      "metadata": {
        "colab": {
          "base_uri": "https://localhost:8080/"
        },
        "outputId": "1b742b5e-9420-4324-eb41-2104ec757c43",
        "id": "rfJyMaXJNE3o"
      },
      "execution_count": null,
      "outputs": [
        {
          "output_type": "stream",
          "name": "stdout",
          "text": [
            "True\n",
            "True\n"
          ]
        }
      ]
    },
    {
      "cell_type": "code",
      "source": [
        "def main():\n",
        "    a = [1,2,3,4,5]\n",
        "    b = a\n",
        "    print(a is b)\n",
        "    print(id(a) == id(b))\n",
        "\n",
        "if __name__ == \"__main__\":\n",
        "    main()"
      ],
      "metadata": {
        "colab": {
          "base_uri": "https://localhost:8080/"
        },
        "outputId": "460a6a45-88d6-4044-9d01-3b550256cb7f",
        "id": "kU6OoINvNE6F"
      },
      "execution_count": null,
      "outputs": [
        {
          "output_type": "stream",
          "name": "stdout",
          "text": [
            "True\n",
            "True\n"
          ]
        }
      ]
    },
    {
      "cell_type": "code",
      "source": [
        "def main():\n",
        "    a = [1,2,3,4,5]\n",
        "    b = [1,2,3,4,5]\n",
        "    print(a is b)\n",
        "    print(id(a) == id(b))\n",
        "\n",
        "if __name__ == \"__main__\":\n",
        "    main()"
      ],
      "metadata": {
        "colab": {
          "base_uri": "https://localhost:8080/"
        },
        "outputId": "d484f181-7a64-4d36-e183-94f46f82069b",
        "id": "WkKI45svNE8P"
      },
      "execution_count": null,
      "outputs": [
        {
          "output_type": "stream",
          "name": "stdout",
          "text": [
            "False\n",
            "False\n"
          ]
        }
      ]
    },
    {
      "cell_type": "code",
      "source": [
        "def main():\n",
        "    a = (1,2,3,4,5)\n",
        "    b = (1,2,3,4,5)\n",
        "    print(a is b)\n",
        "    print(id(a) == id(b))\n",
        "\n",
        "if __name__ == \"__main__\":\n",
        "    main()"
      ],
      "metadata": {
        "colab": {
          "base_uri": "https://localhost:8080/"
        },
        "outputId": "e63b0c4b-2544-4f4f-efc8-010ad30ced6b",
        "id": "lp4T4IMcNE-4"
      },
      "execution_count": null,
      "outputs": [
        {
          "output_type": "stream",
          "name": "stdout",
          "text": [
            "True\n",
            "True\n"
          ]
        }
      ]
    },
    {
      "cell_type": "markdown",
      "source": [
        "####***Section 6 Boolean-Coalescing Operator*** "
      ],
      "metadata": {
        "id": "2KP1cDAOMHXa"
      }
    },
    {
      "cell_type": "markdown",
      "source": [
        "#####***Boolean-Coalescing Operator*** "
      ],
      "metadata": {
        "id": "awmXdn3KUgoz"
      }
    },
    {
      "cell_type": "markdown",
      "source": [
        "\n",
        "Ok, it must be clarified how the or operator works. \n",
        "It is a boolean operator, so it works in a boolean context. \n",
        "If the values are not boolean, \n",
        "they are converted to boolean for the purposes of the operator.\n",
        "\n",
        "Note that the or operator does not return only True or False. \n",
        "Instead, it returns the first operand if the first operand evaluates to true, \n",
        "and it returns the second operand if the first operand evaluates to false.\n",
        "\n",
        "[Is there a Python equivalent of the C# null-coalescing operator?](https://stackoverflow.com/questions/4978738/is-there-a-python-equivalent-of-the-c-sharp-null-coalescing-operator)\n",
        "\n",
        "```\n",
        "x = A or 'WOW'\n",
        "if A:\n",
        "  x = A\n",
        "else:\n",
        "  x = \"WOW\"\n",
        "```"
      ],
      "metadata": {
        "id": "bo0ssfOtUjhq"
      }
    },
    {
      "cell_type": "markdown",
      "source": [
        "#####***Returns First Operand***"
      ],
      "metadata": {
        "id": "dCihyvS-UzKu"
      }
    },
    {
      "cell_type": "code",
      "source": [
        "def main():\n",
        "    # A is True\n",
        "    a = True or \"WOW\" \n",
        "    b = 1 or \"WOW\" \n",
        "    c = 3.14 or \"WOW\"\n",
        "    d = [1,2,3] or \"WOW\"\n",
        "    e = (1,2,3) or \"WOW\"\n",
        "    f = {1,2,3} or \"WOW\"\n",
        "    g = {1:1,2:2,3:3} or \"WOW\"\n",
        "    print(a,b,c,d,e,f,g)  \n",
        "\n",
        "if __name__ == \"__main__\":\n",
        "    main()"
      ],
      "metadata": {
        "colab": {
          "base_uri": "https://localhost:8080/"
        },
        "id": "I_PQx7ObMHn9",
        "outputId": "5adee174-1999-48cc-ce08-f965087c8b5d"
      },
      "execution_count": null,
      "outputs": [
        {
          "output_type": "stream",
          "name": "stdout",
          "text": [
            "True 1 3.14 [1, 2, 3] (1, 2, 3) {1, 2, 3} {1: 1, 2: 2, 3: 3}\n"
          ]
        }
      ]
    },
    {
      "cell_type": "markdown",
      "source": [
        "#####***Returns Second Operand***"
      ],
      "metadata": {
        "id": "JVhocUgJVFDl"
      }
    },
    {
      "cell_type": "code",
      "source": [
        "def main():\n",
        "    # A is False\n",
        "    a = False or \"WOW\"\n",
        "    b = 0 or \"WOW\"\n",
        "    c = 0.0 or \"WOW\"\n",
        "    d = [] or \"WOW\"\n",
        "    e = tuple() or \"WOW\"\n",
        "    f = set() or \"WOW\"\n",
        "    g = {} or \"WOW\"\n",
        "    print(a,b,c,d,e,f,g) \n",
        "\n",
        "if __name__ == \"__main__\":\n",
        "    main()"
      ],
      "metadata": {
        "colab": {
          "base_uri": "https://localhost:8080/"
        },
        "outputId": "72d55c92-14da-466d-895c-0f9d5afcc0e6",
        "id": "dnmcXzRuVFDm"
      },
      "execution_count": null,
      "outputs": [
        {
          "output_type": "stream",
          "name": "stdout",
          "text": [
            "WOW WOW WOW WOW WOW WOW WOW\n"
          ]
        }
      ]
    },
    {
      "cell_type": "markdown",
      "source": [
        "###***Chapter 9 None***"
      ],
      "metadata": {
        "id": "WlekrTRvFJoJ"
      }
    },
    {
      "cell_type": "markdown",
      "source": [
        "#####***None***"
      ],
      "metadata": {
        "id": "sSxkkWxiF1_K"
      }
    },
    {
      "cell_type": "code",
      "source": [
        "def main():\n",
        "    x = None\n",
        "    print(x, type(x), dir(x), sep='\\n')\n",
        "    \n",
        "if __name__ == \"__main__\":\n",
        "    main()"
      ],
      "metadata": {
        "colab": {
          "base_uri": "https://localhost:8080/"
        },
        "id": "cINEKD8vFUif",
        "outputId": "de66ea57-0c41-48b7-eaab-0fe0d642edc7"
      },
      "execution_count": null,
      "outputs": [
        {
          "output_type": "stream",
          "name": "stdout",
          "text": [
            "None\n",
            "<class 'NoneType'>\n",
            "['__bool__', '__class__', '__delattr__', '__dir__', '__doc__', '__eq__', '__format__', '__ge__', '__getattribute__', '__gt__', '__hash__', '__init__', '__init_subclass__', '__le__', '__lt__', '__ne__', '__new__', '__reduce__', '__reduce_ex__', '__repr__', '__setattr__', '__sizeof__', '__str__', '__subclasshook__']\n"
          ]
        }
      ]
    },
    {
      "cell_type": "markdown",
      "source": [
        "#####***Function returns None if It returns Nothing Explicitly***"
      ],
      "metadata": {
        "id": "g17v6rrfF8Pl"
      }
    },
    {
      "cell_type": "code",
      "source": [
        "def f():\n",
        "    print(\"Hi\")\n",
        "    return \"Hi\"\n",
        "    \n",
        "def main():\n",
        "    x = f()\n",
        "    print(x, type(x), sep='\\n')\n",
        "    \n",
        "if __name__ == \"__main__\":\n",
        "    main()"
      ],
      "metadata": {
        "colab": {
          "base_uri": "https://localhost:8080/"
        },
        "id": "QTt0Uj2KFUuC",
        "outputId": "932c0bea-d7b9-4130-f7fc-73f88a3ae78e"
      },
      "execution_count": null,
      "outputs": [
        {
          "output_type": "stream",
          "name": "stdout",
          "text": [
            "Hi\n",
            "Hi\n",
            "<class 'str'>\n"
          ]
        }
      ]
    },
    {
      "cell_type": "code",
      "source": [
        "def f():\n",
        "    print(\"Hi\")\n",
        "    return \n",
        "    \n",
        "def main():\n",
        "    x = f()\n",
        "    print(x, type(x), sep='\\n')\n",
        "    \n",
        "if __name__ == \"__main__\":\n",
        "    main()"
      ],
      "metadata": {
        "colab": {
          "base_uri": "https://localhost:8080/"
        },
        "id": "ZUcyYQeLFo5e",
        "outputId": "4f04e034-3f04-41bd-976d-43daaf80052d"
      },
      "execution_count": null,
      "outputs": [
        {
          "output_type": "stream",
          "name": "stdout",
          "text": [
            "Hi\n",
            "None\n",
            "<class 'NoneType'>\n"
          ]
        }
      ]
    },
    {
      "cell_type": "code",
      "source": [
        "def f():\n",
        "    print(\"Hi\")\n",
        "    \n",
        "def main():\n",
        "    x = f()\n",
        "    print(x, type(x), sep='\\n')\n",
        "    \n",
        "if __name__ == \"__main__\":\n",
        "    main()"
      ],
      "metadata": {
        "colab": {
          "base_uri": "https://localhost:8080/"
        },
        "id": "IBZGNqhVFpE7",
        "outputId": "f80dbd8a-bf5e-402d-c789-d40f319d849a"
      },
      "execution_count": null,
      "outputs": [
        {
          "output_type": "stream",
          "name": "stdout",
          "text": [
            "Hi\n",
            "None\n",
            "<class 'NoneType'>\n"
          ]
        }
      ]
    },
    {
      "cell_type": "markdown",
      "source": [
        "###***Chapter 10 Type Conversion***"
      ],
      "metadata": {
        "id": "N8_iJXDlKlyD"
      }
    },
    {
      "cell_type": "markdown",
      "source": [
        "####***Section 1 Type Conversion***"
      ],
      "metadata": {
        "id": "A2qsgAsKLHKU"
      }
    },
    {
      "cell_type": "markdown",
      "source": [
        "$$\\begin{array}{lll}\n",
        "\\text{Explicit Type Conversion}&&\\text{int()}\\\\\n",
        "&&\\text{float()}\\\\\n",
        "&&\\text{complex()}\\\\\n",
        "&&\\text{bool()}\\\\\n",
        "&&\\text{str()}\\\\\n",
        "\\\\\n",
        "\\text{Implicit Type Conversion}&&\\text{Upcasting}\n",
        "\\end{array}$$"
      ],
      "metadata": {
        "id": "41C3U_QAKwNm"
      }
    },
    {
      "cell_type": "markdown",
      "source": [
        "####***Section 2 Explicit Type Conversion***"
      ],
      "metadata": {
        "id": "SgGHvxnRKwNm"
      }
    },
    {
      "cell_type": "markdown",
      "source": [
        "#####***Built-in Function - int***"
      ],
      "metadata": {
        "id": "Ogd3Z8qAKwNm"
      }
    },
    {
      "cell_type": "code",
      "source": [
        "def main():\n",
        "    print(f\"{int(1.) = }\")\n",
        "    # print(f\"{int(1+2j) = }\") # TypeError: can't convert complex to int\n",
        "    print(f\"{int(True) = }\")\n",
        "    print(f\"{int(False) = }\")\n",
        "    # print(f\"{int(\"H\") = }\") # SyntaxError: invalid syntax\n",
        "       \n",
        "if __name__ == \"__main__\":\n",
        "    main()"
      ],
      "metadata": {
        "id": "_K-AjLppKwNn",
        "colab": {
          "base_uri": "https://localhost:8080/"
        },
        "outputId": "cabe5323-ea35-468e-df02-8acff8db6b7e"
      },
      "execution_count": null,
      "outputs": [
        {
          "output_type": "stream",
          "name": "stdout",
          "text": [
            "int(1.) = 1\n",
            "int(True) = 1\n",
            "int(False) = 0\n"
          ]
        }
      ]
    },
    {
      "cell_type": "markdown",
      "source": [
        "#####***Built-in Function - float***"
      ],
      "metadata": {
        "id": "JFxsqCGhKwNn"
      }
    },
    {
      "cell_type": "code",
      "source": [
        "def main():\n",
        "    print(f\"{float(1) = }\")\n",
        "    # print(f\"{float(1+2j) = }\") # TypeError: can't convert complex to float\n",
        "    print(f\"{float(True) = }\")\n",
        "    print(f\"{float(False) = }\")\n",
        "    # print(f\"{float(\"H\") = }\") # SyntaxError: invalid syntax\n",
        "    \n",
        "if __name__ == \"__main__\":\n",
        "    main()"
      ],
      "metadata": {
        "id": "1lxAd6xEKwNn",
        "colab": {
          "base_uri": "https://localhost:8080/"
        },
        "outputId": "d6a11204-d9ad-4bf7-83e2-abc15d77a64d"
      },
      "execution_count": null,
      "outputs": [
        {
          "output_type": "stream",
          "name": "stdout",
          "text": [
            "float(1) = 1.0\n",
            "float(True) = 1.0\n",
            "float(False) = 0.0\n"
          ]
        }
      ]
    },
    {
      "cell_type": "markdown",
      "source": [
        "#####***Built-in Function - complex***"
      ],
      "metadata": {
        "id": "OaQ3KPQIKwNn"
      }
    },
    {
      "cell_type": "code",
      "source": [
        "def main():\n",
        "    print(f\"{complex(1) = }\")\n",
        "    print(f\"{complex(1.) = }\")\n",
        "    print(f\"{complex(True) = }\")\n",
        "    print(f\"{complex(False) = }\")\n",
        "    # print(f\"{complex(\"H\") = }\") # SyntaxError: invalid syntax\n",
        "       \n",
        "if __name__ == \"__main__\":\n",
        "    main()"
      ],
      "metadata": {
        "id": "Dj8xtDaeKwNn",
        "colab": {
          "base_uri": "https://localhost:8080/"
        },
        "outputId": "262ba1e2-8d77-48cc-c8d1-83625005f904"
      },
      "execution_count": null,
      "outputs": [
        {
          "output_type": "stream",
          "name": "stdout",
          "text": [
            "complex(1) = (1+0j)\n",
            "complex(1.) = (1+0j)\n",
            "complex(True) = (1+0j)\n",
            "complex(False) = 0j\n"
          ]
        }
      ]
    },
    {
      "cell_type": "markdown",
      "source": [
        "#####***Built-in Function - bool***"
      ],
      "metadata": {
        "id": "8fry2WuYKwNn"
      }
    },
    {
      "cell_type": "code",
      "source": [
        "def main():\n",
        "    print(f\"{bool(1) = }\")\n",
        "    print(f\"{bool(0) = }\")\n",
        "    print(f\"{bool(1.) = }\")\n",
        "    print(f\"{bool(0.) = }\")\n",
        "    print(f\"{bool(1+2j) = }\")\n",
        "    print(f\"{bool(0+0j) = }\")\n",
        "    # print(f\"{bool(\"H\") = }\") # SyntaxError: invalid syntax\n",
        "      \n",
        "if __name__ == \"__main__\":\n",
        "    main()"
      ],
      "metadata": {
        "id": "EO7Ul8KwKwNn",
        "colab": {
          "base_uri": "https://localhost:8080/"
        },
        "outputId": "aab76c43-81d4-4f4d-ba4b-e76044b3157b"
      },
      "execution_count": null,
      "outputs": [
        {
          "output_type": "stream",
          "name": "stdout",
          "text": [
            "bool(1) = True\n",
            "bool(0) = False\n",
            "bool(1.) = True\n",
            "bool(0.) = False\n",
            "bool(1+2j) = True\n",
            "bool(0+0j) = False\n"
          ]
        }
      ]
    },
    {
      "cell_type": "markdown",
      "source": [
        "#####***Built-in Function - str***"
      ],
      "metadata": {
        "id": "7ATvO59eKwNn"
      }
    },
    {
      "cell_type": "code",
      "source": [
        "def main():\n",
        "    print(f\"{str(1) = }\")\n",
        "    print(f\"{str(0) = }\")\n",
        "    print(f\"{str(1.) = }\")\n",
        "    print(f\"{str(0.) = }\")\n",
        "    print(f\"{str(1+2j) = }\")\n",
        "    print(f\"{str(0+0j) = }\")\n",
        "    print(f\"{str(True) = }\")\n",
        "    print(f\"{str(False) = }\")\n",
        "      \n",
        "if __name__ == \"__main__\":\n",
        "    main()"
      ],
      "metadata": {
        "id": "9G8J03BHKwNn",
        "colab": {
          "base_uri": "https://localhost:8080/"
        },
        "outputId": "34f6ec2d-5e67-4372-b339-38825cdff02f"
      },
      "execution_count": null,
      "outputs": [
        {
          "output_type": "stream",
          "name": "stdout",
          "text": [
            "str(1) = '1'\n",
            "str(0) = '0'\n",
            "str(1.) = '1.0'\n",
            "str(0.) = '0.0'\n",
            "str(1+2j) = '(1+2j)'\n",
            "str(0+0j) = '0j'\n",
            "str(True) = 'True'\n",
            "str(False) = 'False'\n"
          ]
        }
      ]
    },
    {
      "cell_type": "markdown",
      "source": [
        "####***Section 3 Implicit Type Conversion***"
      ],
      "metadata": {
        "id": "0KX4tshUK802"
      }
    },
    {
      "cell_type": "markdown",
      "source": [
        "#####***Upcasting with +***"
      ],
      "metadata": {
        "id": "4iPuBScyLVVy"
      }
    },
    {
      "cell_type": "code",
      "source": [
        "def main():\n",
        "    print(f\"{1 + 2. = }\", end=\"\\n\\n\")\n",
        "    \n",
        "    print(f\"{np.array([1,1]) + np.array([2.,2.])  = }\", end=\"\\n\\n\")\n",
        "    \n",
        "    print(f\"{np.array([1,1]) + np.array([2 ,2.])  = }\", end=\"\\n\\n\")\n",
        "    \n",
        "    \n",
        "if __name__ == \"__main__\":\n",
        "    main()"
      ],
      "metadata": {
        "id": "WhHVFdFcLVh5"
      },
      "execution_count": null,
      "outputs": []
    },
    {
      "cell_type": "markdown",
      "source": [
        "#####***Upcasting with -***"
      ],
      "metadata": {
        "id": "NlGhhU_mLw9k"
      }
    },
    {
      "cell_type": "code",
      "source": [
        "def main():\n",
        "    print(f\"{1 - 2. = }\", end=\"\\n\\n\")\n",
        "    \n",
        "    print(f\"{np.array([1,1]) - np.array([2.,2.])  = }\", end=\"\\n\\n\")\n",
        "    \n",
        "    print(f\"{np.array([1,1]) - np.array([2 ,2.])  = }\", end=\"\\n\\n\")\n",
        "    \n",
        "    \n",
        "if __name__ == \"__main__\":\n",
        "    main()"
      ],
      "metadata": {
        "id": "ivK_e38ULaZ4"
      },
      "execution_count": null,
      "outputs": []
    },
    {
      "cell_type": "markdown",
      "source": [
        "#####***Upcasting with ****"
      ],
      "metadata": {
        "id": "U66xTx4dLzTD"
      }
    },
    {
      "cell_type": "code",
      "source": [
        "def main():\n",
        "    print(f\"{1 * 2. = }\", end=\"\\n\\n\")\n",
        "    \n",
        "    print(f\"{np.array([1,1]) * np.array([2.,2.])  = }\", end=\"\\n\\n\")\n",
        "    \n",
        "    print(f\"{np.array([1,1]) * np.array([2 ,2.])  = }\", end=\"\\n\\n\")\n",
        "    \n",
        "    \n",
        "if __name__ == \"__main__\":\n",
        "    main()"
      ],
      "metadata": {
        "id": "neWU9_wmLadH"
      },
      "execution_count": null,
      "outputs": []
    },
    {
      "cell_type": "markdown",
      "source": [
        "#####***Upcasting with /***"
      ],
      "metadata": {
        "id": "WqSL9leOL33C"
      }
    },
    {
      "cell_type": "code",
      "source": [
        "def main():\n",
        "    print(f\"{1 / 2. = }\", end=\"\\n\\n\")\n",
        "    \n",
        "    print(f\"{np.array([1,1]) / np.array([2.,2.])  = }\", end=\"\\n\\n\")\n",
        "    \n",
        "    print(f\"{np.array([1,1]) / np.array([2 ,2.])  = }\", end=\"\\n\\n\")\n",
        "    \n",
        "    \n",
        "if __name__ == \"__main__\":\n",
        "    main()"
      ],
      "metadata": {
        "id": "lcvZ_CwCLaf_"
      },
      "execution_count": null,
      "outputs": []
    },
    {
      "cell_type": "markdown",
      "source": [
        "#####***Upcasting with If Statement***"
      ],
      "metadata": {
        "id": "qVAFEQSPL6cx"
      }
    },
    {
      "cell_type": "code",
      "source": [
        "def main():\n",
        "    if True:\n",
        "        print(f\"{1 + 2. = }\", end=\"\\n\\n\")\n",
        "    \n",
        "    if 1:\n",
        "        print(f\"{np.array([1,1]) + np.array([2.,2.])  = }\", end=\"\\n\\n\")\n",
        "    \n",
        "    if 0:\n",
        "        print(f\"{np.array([1,1]) + np.array([2 ,2.])  = }\", end=\"\\n\\n\")\n",
        "    \n",
        "    \n",
        "if __name__ == \"__main__\":\n",
        "    main()"
      ],
      "metadata": {
        "id": "AgOpsDwcLaiw"
      },
      "execution_count": null,
      "outputs": []
    },
    {
      "cell_type": "markdown",
      "source": [
        "#####***Plot using Boolean Data***"
      ],
      "metadata": {
        "id": "scynXNQCMNXV"
      }
    },
    {
      "cell_type": "code",
      "source": [
        "def main():\n",
        "    y = np.zeros((100,), dtype=bool)\n",
        "    y[40:60] = True\n",
        "    \n",
        "    fig, ax = plt.subplots(figsize=(4*1.61803398875,4))\n",
        "    \n",
        "    ax.set_title(\"Plot using Boolean Data\", fontsize=15)\n",
        "    ax.plot(y)\n",
        "    ax.spines['right'].set_visible(False)\n",
        "    ax.spines['top'].set_visible(False)\n",
        "    \n",
        "    plt.show()\n",
        "        \n",
        "if __name__ == \"__main__\":\n",
        "    main()"
      ],
      "metadata": {
        "colab": {
          "base_uri": "https://localhost:8080/",
          "height": 393
        },
        "id": "dtq0ezTAMNit",
        "outputId": "61bfb0e6-30f1-4597-98ad-5aee495faf4a"
      },
      "execution_count": null,
      "outputs": [
        {
          "output_type": "display_data",
          "data": {
            "text/plain": [
              "<Figure size 647.214x400 with 1 Axes>"
            ],
            "image/png": "[encoded data removed]"
          },
          "metadata": {}
        }
      ]
    },
    {
      "cell_type": "markdown",
      "source": [
        "###***Chapter 11 Mutable vs Immutable [eng](https://www.youtube.com/watch?v=p9ppfvHv2Us) [blog](https://medium.com/@meghamohan/mutable-and-immutable-side-of-python-c2145cf72747)***"
      ],
      "metadata": {
        "id": "8XmuOhMmi1Vm"
      }
    },
    {
      "cell_type": "markdown",
      "source": [
        "####***Section 1 Mutable vs Immutable***"
      ],
      "metadata": {
        "id": "xsi2f4PuoPmK"
      }
    },
    {
      "cell_type": "markdown",
      "source": [
        "<div align=\"center\"><img src=\"https://miro.medium.com/max/1316/1*uFlTNY4W3czywyU18zxl8w.png\" width=\"90%\"></div>"
      ],
      "metadata": {
        "id": "ttkCnPFooPxZ"
      }
    },
    {
      "cell_type": "markdown",
      "source": [
        "####***Section 2 Mutable***"
      ],
      "metadata": {
        "id": "BMfavzmti1Vn"
      }
    },
    {
      "cell_type": "markdown",
      "source": [
        "#####***List is Mutable***"
      ],
      "metadata": {
        "id": "JRgTL6xri1Vn"
      }
    },
    {
      "cell_type": "code",
      "source": [
        "def main():\n",
        "    x = [1,2,3]\n",
        "    print(x, id(x), sep=\"\\n\", end=\"\\n\\n\")\n",
        "\n",
        "    x[0] = 9\n",
        "    print(x, id(x), sep=\"\\n\", end=\"\\n\\n\")\n",
        "       \n",
        "if __name__ == \"__main__\":\n",
        "    main()"
      ],
      "metadata": {
        "colab": {
          "base_uri": "https://localhost:8080/"
        },
        "outputId": "c466dba4-1065-4cbc-f86b-321307161178",
        "id": "tNNB5M_5jPdS"
      },
      "execution_count": null,
      "outputs": [
        {
          "output_type": "stream",
          "name": "stdout",
          "text": [
            "[1, 2, 3] 139842701643008\n",
            "[9, 2, 3] 139842701643008\n"
          ]
        }
      ]
    },
    {
      "cell_type": "markdown",
      "source": [
        "#####***Set is Mutable***"
      ],
      "metadata": {
        "id": "mtcFpmBkjU3P"
      }
    },
    {
      "cell_type": "code",
      "source": [
        "def main():\n",
        "    x = {1,2,3}\n",
        "    print(x, id(x), sep=\"\\n\", end=\"\\n\\n\")\n",
        "    \n",
        "    x.add(9)\n",
        "    print(x, id(x), sep=\"\\n\", end=\"\\n\\n\")\n",
        "       \n",
        "if __name__ == \"__main__\":\n",
        "    main()"
      ],
      "metadata": {
        "colab": {
          "base_uri": "https://localhost:8080/"
        },
        "outputId": "8a3ce8dd-7112-4f0d-ca8c-a1aacfd19a37",
        "id": "gtG0kMfejU3Q"
      },
      "execution_count": null,
      "outputs": [
        {
          "output_type": "stream",
          "name": "stdout",
          "text": [
            "{1, 2, 3} 139843245945344\n",
            "{1, 2, 3, 9} 139843245945344\n"
          ]
        }
      ]
    },
    {
      "cell_type": "markdown",
      "source": [
        "#####***Dictionary is Mutable***"
      ],
      "metadata": {
        "id": "8NlLruNFjVAl"
      }
    },
    {
      "cell_type": "code",
      "source": [
        "def main():\n",
        "    x = {\"one\":1,\"two\":2,\"three\":3}\n",
        "    print(x, id(x), sep=\"\\n\", end=\"\\n\\n\")\n",
        "    \n",
        "    x[\"four\"] = 4\n",
        "    print(x, id(x), sep=\"\\n\", end=\"\\n\\n\")\n",
        "       \n",
        "if __name__ == \"__main__\":\n",
        "    main()"
      ],
      "metadata": {
        "colab": {
          "base_uri": "https://localhost:8080/"
        },
        "outputId": "bdcb4fc3-5b34-4e0d-b52e-49bb42b3f2f6",
        "id": "OyKBmSpdjVAl"
      },
      "execution_count": null,
      "outputs": [
        {
          "output_type": "stream",
          "name": "stdout",
          "text": [
            "{'one': 1, 'two': 2, 'three': 3}\n",
            "139843201881792\n",
            "\n",
            "{'one': 1, 'two': 2, 'three': 3, 'four': 4}\n",
            "139843201881792\n",
            "\n"
          ]
        }
      ]
    },
    {
      "cell_type": "markdown",
      "source": [
        "#####***Class is Mutable***"
      ],
      "metadata": {
        "id": "mFVsf3iejVST"
      }
    },
    {
      "cell_type": "code",
      "source": [
        "class Car:\n",
        "    def __init__(self, w):\n",
        "        self.wheels = w\n",
        "        \n",
        "def main():\n",
        "    x = Car(4)\n",
        "    print(x, id(x), sep=\"\\n\", end=\"\\n\\n\")\n",
        "    \n",
        "    x.wheels = 3\n",
        "    print(x, id(x), sep=\"\\n\", end=\"\\n\\n\")\n",
        "       \n",
        "if __name__ == \"__main__\":\n",
        "    main()"
      ],
      "metadata": {
        "colab": {
          "base_uri": "https://localhost:8080/"
        },
        "outputId": "5e7f4316-abae-4fa7-f6f6-a03c4ae3f242",
        "id": "u9geMnCajVSU"
      },
      "execution_count": null,
      "outputs": [
        {
          "output_type": "stream",
          "name": "stdout",
          "text": [
            "<__main__.Car object at 0x7f2f9de526d0>\n",
            "139842489231056\n",
            "\n",
            "<__main__.Car object at 0x7f2f9de526d0>\n",
            "139842489231056\n",
            "\n"
          ]
        }
      ]
    },
    {
      "cell_type": "markdown",
      "source": [
        "####***Section 3 Immutable***"
      ],
      "metadata": {
        "id": "mth6ShfSi1Vn"
      }
    },
    {
      "cell_type": "markdown",
      "source": [
        "#####***Pros of Immutable Datasets***"
      ],
      "metadata": {
        "id": "ysANw6LYjXBY"
      }
    },
    {
      "cell_type": "markdown",
      "source": [
        "- Seal Data\n",
        "- Good for Debugging\n",
        "- Good for Parallelism"
      ],
      "metadata": {
        "id": "QtYJ_shlpF0J"
      }
    },
    {
      "cell_type": "markdown",
      "source": [
        "#####***String is Immutable***"
      ],
      "metadata": {
        "id": "tucQ0yZCo22N"
      }
    },
    {
      "cell_type": "code",
      "source": [
        "def main():\n",
        "    x = \"Hello\"\n",
        "    print(x, id(x), sep=\"\\n\", end=\"\\n\\n\")\n",
        "    \n",
        "    try:\n",
        "        x[0] = \"h\"\n",
        "        print(x, id(x), sep=\"\\n\", end=\"\\n\\n\")\n",
        "    except TypeError as e:\n",
        "        print(e)\n",
        "       \n",
        "if __name__ == \"__main__\":\n",
        "    main()"
      ],
      "metadata": {
        "colab": {
          "base_uri": "https://localhost:8080/"
        },
        "outputId": "c3ba4550-e113-499c-91be-0c20585da2df",
        "id": "qBXPsfQWo22O"
      },
      "execution_count": null,
      "outputs": [
        {
          "output_type": "stream",
          "name": "stdout",
          "text": [
            "Hello\n",
            "139842701187696\n",
            "\n",
            "'str' object does not support item assignment\n"
          ]
        }
      ]
    },
    {
      "cell_type": "markdown",
      "source": [
        "#####***Tuple is Immutable***"
      ],
      "metadata": {
        "id": "Iqs3qhtVjacm"
      }
    },
    {
      "cell_type": "code",
      "source": [
        "def main():\n",
        "    x = (1,2,3)\n",
        "    print(x, id(x), sep=\"\\n\", end=\"\\n\\n\")\n",
        "\n",
        "    try:\n",
        "        x[0] = 9\n",
        "        print(x, id(x), sep=\"\\n\", end=\"\\n\\n\")\n",
        "    except TypeError as e:\n",
        "        print(e)\n",
        "       \n",
        "if __name__ == \"__main__\":\n",
        "    main()"
      ],
      "metadata": {
        "colab": {
          "base_uri": "https://localhost:8080/"
        },
        "outputId": "f144e651-ea7b-4d4d-8937-cb85faa16c78",
        "id": "v3CnsfFujacn"
      },
      "execution_count": null,
      "outputs": [
        {
          "output_type": "stream",
          "name": "stdout",
          "text": [
            "(1, 2, 3)\n",
            "139842488813312\n",
            "\n",
            "'tuple' object does not support item assignment\n"
          ]
        }
      ]
    },
    {
      "cell_type": "markdown",
      "source": [
        "#####***Frozenset is Immutable***"
      ],
      "metadata": {
        "id": "ztVNtpCKjagN"
      }
    },
    {
      "cell_type": "code",
      "source": [
        "def main():\n",
        "\n",
        "    x = frozenset({1,2,3})\n",
        "    print(x, id(x), sep=\"\\n\", end=\"\\n\\n\")\n",
        "    \n",
        "    try:\n",
        "        x.add(9)\n",
        "        print(x, id(x), sep=\"\\n\", end=\"\\n\\n\")\n",
        "    except AttributeError as e:\n",
        "        print(e)\n",
        "       \n",
        "if __name__ == \"__main__\":\n",
        "    main()"
      ],
      "metadata": {
        "colab": {
          "base_uri": "https://localhost:8080/"
        },
        "outputId": "533c0302-cf1d-4c25-9944-c964214fd733",
        "id": "5SLvLZoSjagN"
      },
      "execution_count": null,
      "outputs": [
        {
          "output_type": "stream",
          "name": "stdout",
          "text": [
            "frozenset({1, 2, 3})\n",
            "139842488790144\n",
            "\n",
            "'frozenset' object has no attribute 'add'\n"
          ]
        }
      ]
    },
    {
      "cell_type": "markdown",
      "source": [
        "####***Section 4 Tricky Cases***"
      ],
      "metadata": {
        "id": "wSK2PlokmbNt"
      }
    },
    {
      "cell_type": "markdown",
      "source": [
        "#####***Dictionaries are Mutable, but Keys are not***"
      ],
      "metadata": {
        "id": "boAxUPmEjaj0"
      }
    },
    {
      "cell_type": "code",
      "source": [
        "def main():\n",
        "    d = {'one': 1, 'two': 2}\n",
        "    try:\n",
        "        d[[1 ,2]] = 'hi'\n",
        "    except TypeError as e:\n",
        "        print(e)\n",
        "       \n",
        "if __name__ == \"__main__\":\n",
        "    main()"
      ],
      "metadata": {
        "colab": {
          "base_uri": "https://localhost:8080/"
        },
        "outputId": "a49ec41a-d064-4816-d6f6-1fbadecaf103",
        "id": "Z-tOi0Tljaj0"
      },
      "execution_count": null,
      "outputs": [
        {
          "output_type": "stream",
          "name": "stdout",
          "text": [
            "unhashable type: 'list'\n"
          ]
        }
      ]
    },
    {
      "cell_type": "markdown",
      "source": [
        "#####***Tuples are Immutable, but Tuple Items can be Mutable***"
      ],
      "metadata": {
        "id": "a1-blZN9janW"
      }
    },
    {
      "cell_type": "code",
      "source": [
        "def main():\n",
        "    x = ([1,2],3)\n",
        "    print(x, id(x), sep=\"\\n\", end=\"\\n\\n\")\n",
        "    \n",
        "    del x[0][1]\n",
        "    print(x, id(x), sep=\"\\n\", end=\"\\n\\n\")\n",
        "       \n",
        "if __name__ == \"__main__\":\n",
        "    main()"
      ],
      "metadata": {
        "colab": {
          "base_uri": "https://localhost:8080/"
        },
        "outputId": "0a417414-80e4-41dd-e3c8-3a70ff5b163b",
        "id": "SlH1CAWPjanX"
      },
      "execution_count": null,
      "outputs": [
        {
          "output_type": "stream",
          "name": "stdout",
          "text": [
            "([1, 2], 3)\n",
            "139842489194240\n",
            "\n",
            "([1], 3)\n",
            "139842489194240\n",
            "\n"
          ]
        }
      ]
    },
    {
      "cell_type": "markdown",
      "source": [
        "####***Section 5 List is Mutable but***"
      ],
      "metadata": {
        "id": "bvvmD4nHphQJ"
      }
    },
    {
      "cell_type": "markdown",
      "source": [
        "#####***List is Mutable but List Concatenation returns Different Object***"
      ],
      "metadata": {
        "id": "IyzUmPCzphQJ"
      }
    },
    {
      "cell_type": "code",
      "source": [
        "def main():\n",
        "    x = [1,2,3]\n",
        "    print(x, id(x), sep=\"\\n\", end=\"\\n\\n\") # same object\n",
        "\n",
        "    x.append(4)\n",
        "    print(x, id(x), sep=\"\\n\", end=\"\\n\\n\") # same object\n",
        "\n",
        "    x.extend([5,6,7])\n",
        "    print(x, id(x), sep=\"\\n\", end=\"\\n\\n\") # same object\n",
        "       \n",
        "if __name__ == \"__main__\":\n",
        "    main()"
      ],
      "metadata": {
        "colab": {
          "base_uri": "https://localhost:8080/"
        },
        "outputId": "fd8403bc-480f-489f-e1aa-090ecf5a0c4a",
        "id": "JmZBvVJ-phQJ"
      },
      "execution_count": null,
      "outputs": [
        {
          "output_type": "stream",
          "name": "stdout",
          "text": [
            "[1, 2, 3]\n",
            "139842487830784\n",
            "\n",
            "[1, 2, 3, 4]\n",
            "139842487830784\n",
            "\n",
            "[1, 2, 3, 4, 5, 6, 7]\n",
            "139842487830784\n",
            "\n"
          ]
        }
      ]
    },
    {
      "cell_type": "code",
      "source": [
        "def main():\n",
        "    x = [1,2,3]\n",
        "    print(x, id(x), sep=\"\\n\", end=\"\\n\\n\") # different object\n",
        "\n",
        "    x = x + [4]\n",
        "    print(x, id(x), sep=\"\\n\", end=\"\\n\\n\") # different object\n",
        "\n",
        "    x = x + [5,6,7]\n",
        "    print(x, id(x), sep=\"\\n\", end=\"\\n\\n\") # different object\n",
        "       \n",
        "if __name__ == \"__main__\":\n",
        "    main()"
      ],
      "metadata": {
        "colab": {
          "base_uri": "https://localhost:8080/"
        },
        "id": "yLhyZXMHrATT",
        "outputId": "9f526549-914a-4592-a57e-d8dd920c5a08"
      },
      "execution_count": null,
      "outputs": [
        {
          "output_type": "stream",
          "name": "stdout",
          "text": [
            "[1, 2, 3]\n",
            "139842487830784\n",
            "\n",
            "[1, 2, 3, 4]\n",
            "139842489422848\n",
            "\n",
            "[1, 2, 3, 4, 5, 6, 7]\n",
            "139842489065344\n",
            "\n"
          ]
        }
      ]
    },
    {
      "cell_type": "code",
      "source": [
        "def main():\n",
        "    x = [1,2,3]\n",
        "    print(x, id(x), sep=\"\\n\", end=\"\\n\\n\") # different object\n",
        "\n",
        "    x += [4]\n",
        "    print(x, id(x), sep=\"\\n\", end=\"\\n\\n\") # different object\n",
        "\n",
        "    x += [5,6,7]\n",
        "    print(x, id(x), sep=\"\\n\", end=\"\\n\\n\") # different object\n",
        "       \n",
        "if __name__ == \"__main__\":\n",
        "    main()"
      ],
      "metadata": {
        "colab": {
          "base_uri": "https://localhost:8080/"
        },
        "id": "tGAdjRcOrInj",
        "outputId": "689e9c76-bfe5-4a32-ff7f-c93c20fdf1ec"
      },
      "execution_count": null,
      "outputs": [
        {
          "output_type": "stream",
          "name": "stdout",
          "text": [
            "[1, 2, 3]\n",
            "139842488991296\n",
            "\n",
            "[1, 2, 3, 4]\n",
            "139842488991296\n",
            "\n",
            "[1, 2, 3, 4, 5, 6, 7]\n",
            "139842488991296\n",
            "\n"
          ]
        }
      ]
    },
    {
      "cell_type": "markdown",
      "source": [
        "#####***List is Mutable but List Comprehension returns Different Object***"
      ],
      "metadata": {
        "id": "Lkf_JN1nsBf6"
      }
    },
    {
      "cell_type": "code",
      "source": [
        "def main():\n",
        "    x = [0,0,0,3,1,4,1,5,9,2]\n",
        "    print(x, id(x), sep=\"\\n\", end=\"\\n\\n\") # same object\n",
        "\n",
        "    x.pop()\n",
        "    print(x, id(x), sep=\"\\n\", end=\"\\n\\n\") # same object\n",
        "\n",
        "    x.remove(1)\n",
        "    print(x, id(x), sep=\"\\n\", end=\"\\n\\n\") # same object\n",
        "\n",
        "    del x[-3:]\n",
        "    print(x, id(x), sep=\"\\n\", end=\"\\n\\n\") # same object\n",
        "\n",
        "    x.clear()\n",
        "    print(x, id(x), sep=\"\\n\", end=\"\\n\\n\") # same object\n",
        "       \n",
        "if __name__ == \"__main__\":\n",
        "    main()"
      ],
      "metadata": {
        "colab": {
          "base_uri": "https://localhost:8080/"
        },
        "outputId": "409794cf-d5c0-46ff-9225-082f878a1217",
        "id": "91gxbVB3sBf7"
      },
      "execution_count": null,
      "outputs": [
        {
          "output_type": "stream",
          "name": "stdout",
          "text": [
            "[0, 0, 0, 3, 1, 4, 1, 5, 9, 2]\n",
            "139842487970496\n",
            "\n",
            "[0, 0, 0, 3, 1, 4, 1, 5, 9]\n",
            "139842487970496\n",
            "\n",
            "[0, 0, 0, 3, 4, 1, 5, 9]\n",
            "139842487970496\n",
            "\n",
            "[0, 0, 0, 3, 4]\n",
            "139842487970496\n",
            "\n",
            "[]\n",
            "139842487970496\n",
            "\n"
          ]
        }
      ]
    },
    {
      "cell_type": "code",
      "source": [
        "def main():\n",
        "    x = [0,0,0,3,1,4,1,5,9,2]\n",
        "    print(x, id(x), sep=\"\\n\", end=\"\\n\\n\") # same object\n",
        "\n",
        "    x = [i for i in x if i != 1]\n",
        "    print(x, id(x), sep=\"\\n\", end=\"\\n\\n\") # different object\n",
        "       \n",
        "if __name__ == \"__main__\":\n",
        "    main()"
      ],
      "metadata": {
        "colab": {
          "base_uri": "https://localhost:8080/"
        },
        "outputId": "4e49fb95-1880-4b7b-83a4-2d73441acc12",
        "id": "IR0u-_rysBf7"
      },
      "execution_count": null,
      "outputs": [
        {
          "output_type": "stream",
          "name": "stdout",
          "text": [
            "[0, 0, 0, 3, 1, 4, 1, 5, 9, 2]\n",
            "139842487926464\n",
            "\n",
            "[0, 0, 0, 3, 4, 5, 9, 2]\n",
            "139842488774976\n",
            "\n"
          ]
        }
      ]
    },
    {
      "cell_type": "markdown",
      "source": [
        "#####***List is Mutable but Built-In Function Sorted of List Comprehension returns Different Object***"
      ],
      "metadata": {
        "id": "2K8bOwGBtj4e"
      }
    },
    {
      "cell_type": "code",
      "source": [
        "def main():\n",
        "    x = [0,0,0,3,1,4,1,5,9,2]\n",
        "    print(x, id(x), sep=\"\\n\", end=\"\\n\\n\") # same object\n",
        "\n",
        "    x.sort()\n",
        "    print(x, id(x), sep=\"\\n\", end=\"\\n\\n\") # same object\n",
        "       \n",
        "if __name__ == \"__main__\":\n",
        "    main()"
      ],
      "metadata": {
        "colab": {
          "base_uri": "https://localhost:8080/"
        },
        "outputId": "17f3e335-a085-467a-c793-bea364c4a46d",
        "id": "-dAmK_h-tj4f"
      },
      "execution_count": null,
      "outputs": [
        {
          "output_type": "stream",
          "name": "stdout",
          "text": [
            "[0, 0, 0, 3, 1, 4, 1, 5, 9, 2]\n",
            "139842487924800\n",
            "\n",
            "[0, 0, 0, 1, 1, 2, 3, 4, 5, 9]\n",
            "139842487924800\n",
            "\n"
          ]
        }
      ]
    },
    {
      "cell_type": "code",
      "source": [
        "def main():\n",
        "    x = [0,0,0,3,1,4,1,5,9,2]\n",
        "    print(x, id(x), sep=\"\\n\", end=\"\\n\\n\") # different object\n",
        "\n",
        "    x = sorted(x)\n",
        "    print(x, id(x), sep=\"\\n\", end=\"\\n\\n\") # different object\n",
        "       \n",
        "if __name__ == \"__main__\":\n",
        "    main()"
      ],
      "metadata": {
        "colab": {
          "base_uri": "https://localhost:8080/"
        },
        "outputId": "17ec5d9f-3fca-4b6c-b3af-42071dad314f",
        "id": "vbglsfEDtj4f"
      },
      "execution_count": null,
      "outputs": [
        {
          "output_type": "stream",
          "name": "stdout",
          "text": [
            "[0, 0, 0, 3, 1, 4, 1, 5, 9, 2]\n",
            "139842701196416\n",
            "\n",
            "[0, 0, 0, 1, 1, 2, 3, 4, 5, 9]\n",
            "139843259620544\n",
            "\n"
          ]
        }
      ]
    },
    {
      "cell_type": "markdown",
      "source": [
        "###***Chapter 12 View, Copy, and Aliasing***"
      ],
      "metadata": {
        "id": "AcwOj9LbHdbE"
      }
    },
    {
      "cell_type": "markdown",
      "source": [
        "####***Section 1 View and Copy***"
      ],
      "metadata": {
        "id": "LRd5NSrJZoEg"
      }
    },
    {
      "cell_type": "markdown",
      "source": [
        "\n",
        "\n",
        "\n",
        "<img src=\"https://blog.paperspace.com/content/images/2020/08/image-7.png\" width=50%>\n",
        "\n",
        "Figure Sorce [Nuts and Bolts of NumPy Optimization Part 3: Understanding NumPy Internals, Strides, Reshape and Transpose](https://blog.paperspace.com/numpy-optimization-internals-strides-reshape-transpose/)"
      ],
      "metadata": {
        "id": "gRYdxoUGHqlx"
      }
    },
    {
      "cell_type": "markdown",
      "source": [
        "#####***View***"
      ],
      "metadata": {
        "id": "pMlV9wDBDQcM"
      }
    },
    {
      "cell_type": "markdown",
      "source": [
        "view : To have fast computation and efficient memory usage, almost all operations of numpy arrays return views rather than copies. You can assume this is numpy's default behavior."
      ],
      "metadata": {
        "id": "AGn--3ahDQj6"
      }
    },
    {
      "cell_type": "markdown",
      "source": [
        "#####***Copy***"
      ],
      "metadata": {
        "id": "WIuSwb-7Zewt"
      }
    },
    {
      "cell_type": "markdown",
      "source": [
        "copy : If you want to have a copy rather than a view, explicitly say so by using np.copy or copy method."
      ],
      "metadata": {
        "id": "JORL1vaiJ3Dg"
      }
    },
    {
      "cell_type": "markdown",
      "source": [
        "####***Section 2 Aliasing [eng](https://www.youtube.com/watch?v=7m_cw30tyr0)***"
      ],
      "metadata": {
        "id": "bJ_JycTxwX-C"
      }
    },
    {
      "cell_type": "markdown",
      "source": [
        "#####***Aliasing does not occur for Immutable Objects***"
      ],
      "metadata": {
        "id": "Th3XPca9wX-D"
      }
    },
    {
      "cell_type": "code",
      "source": [
        "def main():\n",
        "    a = 1 \n",
        "    b = a\n",
        "    a = 2\n",
        "\n",
        "    print(a, id(a), sep='\\n', end='\\n\\n') # No aliasing, int is immutable.\n",
        "    print(b, id(b), sep='\\n', end='\\n\\n') # No aliasing, int is immutable.\n",
        "       \n",
        "if __name__ == \"__main__\":\n",
        "    main()"
      ],
      "metadata": {
        "id": "dzmpOYHowjmq"
      },
      "execution_count": null,
      "outputs": []
    },
    {
      "cell_type": "code",
      "source": [
        "def main():\n",
        "    a = 'Hi' \n",
        "    b = a\n",
        "    a = 'Hello'\n",
        "\n",
        "    print(a, id(a), sep='\\n', end='\\n\\n') # No aliasing, str is immutable.\n",
        "    print(b, id(b), sep='\\n', end='\\n\\n') # No aliasing, str is immutable.\n",
        "       \n",
        "if __name__ == \"__main__\":\n",
        "    main()"
      ],
      "metadata": {
        "id": "h1fpXxFCxEWg"
      },
      "execution_count": null,
      "outputs": []
    },
    {
      "cell_type": "markdown",
      "source": [
        "#####***Aliasing does occur for Mutable Objects***"
      ],
      "metadata": {
        "id": "FORG86DvwtUZ"
      }
    },
    {
      "cell_type": "code",
      "source": [
        "def main():\n",
        "    x = [1,2,3,4,5]\n",
        "    y = x\n",
        "    x[0] = 'surprise'\n",
        "\n",
        "    print(x, id(x), sep='\\n', end='\\n\\n') # Aliasing, dict is mutable.\n",
        "    print(y, id(y), sep='\\n', end='\\n\\n') # Aliasing, dict is mutable.\n",
        "       \n",
        "if __name__ == \"__main__\":\n",
        "    main()"
      ],
      "metadata": {
        "id": "JedCs0VNwtUZ"
      },
      "execution_count": null,
      "outputs": []
    },
    {
      "cell_type": "code",
      "source": [
        "def main():\n",
        "    x = {'apple' : 10, 'banana' : 5}\n",
        "    y = x\n",
        "    x['banana'] = 500\n",
        "\n",
        "    print(x, id(x), sep='\\n', end='\\n\\n') # Aliasing, dict is mutable.\n",
        "    print(y, id(y), sep='\\n', end='\\n\\n') # Aliasing, dict is mutable.\n",
        "       \n",
        "if __name__ == \"__main__\":\n",
        "    main()"
      ],
      "metadata": {
        "id": "VKH1uCJ9xvF5"
      },
      "execution_count": null,
      "outputs": []
    },
    {
      "cell_type": "code",
      "source": [
        "def main():\n",
        "    x = {1,2,3,4,5,5,5,5,5}\n",
        "    y = x\n",
        "    x.add(10)\n",
        "\n",
        "    print(x, id(x), sep='\\n', end='\\n\\n') # Aliasing, dict is mutable.\n",
        "    print(y, id(y), sep='\\n', end='\\n\\n') # Aliasing, dict is mutable.\n",
        "       \n",
        "if __name__ == \"__main__\":\n",
        "    main()"
      ],
      "metadata": {
        "id": "YX77H9zpxvQL"
      },
      "execution_count": null,
      "outputs": []
    },
    {
      "cell_type": "markdown",
      "source": [
        "####***Section 3 (Shallow) Copy and Deep Copy [blog](https://realpython.com/copying-python-objects/)***"
      ],
      "metadata": {
        "id": "utwBf1ToyG5C"
      }
    },
    {
      "cell_type": "markdown",
      "source": [
        "#####***(Shallow) Copy***"
      ],
      "metadata": {
        "id": "jiTQuzazyG5E"
      }
    },
    {
      "cell_type": "code",
      "source": [
        "def main():\n",
        "    x = [1,2,3,4,5]\n",
        "    y = x.copy() # (shallow) copy\n",
        "    x[0] = 'surprise'\n",
        "\n",
        "    print(x, id(x), sep='\\n', end='\\n\\n') # no aliasing\n",
        "    print(y, id(y), sep='\\n', end='\\n\\n') # no aliasing\n",
        "       \n",
        "if __name__ == \"__main__\":\n",
        "    main()"
      ],
      "metadata": {
        "id": "li-VnEi0y3rv"
      },
      "execution_count": null,
      "outputs": []
    },
    {
      "cell_type": "code",
      "source": [
        "def main():\n",
        "    x = {'apple' : 10, 'banana' : 5}\n",
        "    y = x.copy() # (shallow) copy\n",
        "    x['banana'] = 500\n",
        "\n",
        "    print(x, id(x), sep='\\n', end='\\n\\n') # no aliasing\n",
        "    print(y, id(y), sep='\\n', end='\\n\\n') # no aliasing\n",
        "       \n",
        "if __name__ == \"__main__\":\n",
        "    main()"
      ],
      "metadata": {
        "colab": {
          "base_uri": "https://localhost:8080/"
        },
        "id": "fnFAy6DQzEL8",
        "outputId": "52922d66-3620-4c99-e76b-8e38beb6db0c"
      },
      "execution_count": null,
      "outputs": [
        {
          "output_type": "stream",
          "name": "stdout",
          "text": [
            "{'apple': 10, 'banana': 500}\n",
            "139842487850816\n",
            "\n",
            "{'apple': 10, 'banana': 5}\n",
            "139842487851904\n",
            "\n"
          ]
        }
      ]
    },
    {
      "cell_type": "code",
      "source": [
        "def main():\n",
        "    x = {1,2,3,4,5,5,5,5,5}\n",
        "    y = x.copy() # (shallow) copy\n",
        "    x.add(10)\n",
        "\n",
        "    print(x, id(x), sep='\\n', end='\\n\\n') # no aliasing\n",
        "    print(y, id(y), sep='\\n', end='\\n\\n') # no aliasing\n",
        "       \n",
        "if __name__ == \"__main__\":\n",
        "    main()"
      ],
      "metadata": {
        "colab": {
          "base_uri": "https://localhost:8080/"
        },
        "id": "WC445c04yG5E",
        "outputId": "d3c0501a-df56-4352-aee8-30eb4547da61"
      },
      "execution_count": null,
      "outputs": [
        {
          "output_type": "stream",
          "name": "stdout",
          "text": [
            "{1, 2, 3, 4, 5, 10}\n",
            "139842488790368\n",
            "\n",
            "{1, 2, 3, 4, 5}\n",
            "139842488789024\n",
            "\n"
          ]
        }
      ]
    },
    {
      "cell_type": "markdown",
      "source": [
        "#####***Deep Copy***"
      ],
      "metadata": {
        "id": "qVTAFSUmyu_p"
      }
    },
    {
      "cell_type": "markdown",
      "source": [
        "- A ***shallow*** copy means constructing a new collection object and then populating it with references to the child objects found in the original. In essence, a shallow copy is only one level deep. The copying process does not recurse and therefore won’t create copies of the child objects themselves.\n",
        "\n",
        "- A ***deep*** copy makes the copying process recursive. It means first constructing a new collection object and then recursively populating it with copies of the child objects found in the original. Copying an object this way walks the whole object tree to create a fully independent clone of the original object and all of its children.\n",
        "\n",
        "https://realpython.com/copying-python-objects/"
      ],
      "metadata": {
        "id": "ckjcvWb20Dvj"
      }
    },
    {
      "cell_type": "code",
      "source": [
        "def main():\n",
        "    x = [[1,2,3],[4,5]]\n",
        "    y = x\n",
        "    x[0][0] = 'surprise'\n",
        "\n",
        "    print(x, id(x), sep='\\n', end='\\n\\n') # aliasing\n",
        "    print(y, id(y), sep='\\n', end='\\n\\n') # aliasing\n",
        "       \n",
        "if __name__ == \"__main__\":\n",
        "    main()"
      ],
      "metadata": {
        "colab": {
          "base_uri": "https://localhost:8080/"
        },
        "id": "VOTzmNhOyu_q",
        "outputId": "d4e05bd1-18dc-4351-bd19-132832ec5b90"
      },
      "execution_count": null,
      "outputs": [
        {
          "output_type": "stream",
          "name": "stdout",
          "text": [
            "[['surprise', 2, 3], [4, 5]]\n",
            "139842488990720\n",
            "\n",
            "[['surprise', 2, 3], [4, 5]]\n",
            "139842488990720\n",
            "\n"
          ]
        }
      ]
    },
    {
      "cell_type": "code",
      "source": [
        "def main():\n",
        "    x = [[1,2,3],[4,5]]\n",
        "    y = x.copy() # shallow copy\n",
        "    x[0][0] = 'surprise'\n",
        "\n",
        "    print(x, id(x), sep='\\n', end='\\n\\n') # still aliasing\n",
        "    print(y, id(y), sep='\\n', end='\\n\\n') # still aliasing\n",
        "       \n",
        "if __name__ == \"__main__\":\n",
        "    main()"
      ],
      "metadata": {
        "colab": {
          "base_uri": "https://localhost:8080/"
        },
        "id": "CObWi0KVyu_q",
        "outputId": "695f19c7-f28a-41a9-a551-2f715e80f556"
      },
      "execution_count": null,
      "outputs": [
        {
          "output_type": "stream",
          "name": "stdout",
          "text": [
            "[['surprise', 2, 3], [4, 5]]\n",
            "139842487851840\n",
            "\n",
            "[['surprise', 2, 3], [4, 5]]\n",
            "139842701210368\n",
            "\n"
          ]
        }
      ]
    },
    {
      "cell_type": "code",
      "source": [
        "from copy import deepcopy\n",
        "\n",
        "def main():\n",
        "    x = [[1,2,3],[4,5]]\n",
        "    y = deepcopy(x) # deep copy\n",
        "    x[0][0] = 'surprise'\n",
        "\n",
        "    print(x, id(x), sep='\\n', end='\\n\\n') # no aliasing\n",
        "    print(y, id(y), sep='\\n', end='\\n\\n') # no aliasing\n",
        "       \n",
        "if __name__ == \"__main__\":\n",
        "    main()"
      ],
      "metadata": {
        "colab": {
          "base_uri": "https://localhost:8080/"
        },
        "id": "Z2G5FY7Dyu_q",
        "outputId": "ed636ffb-f12c-4ed9-9bde-23bbb20cd98e"
      },
      "execution_count": null,
      "outputs": [
        {
          "output_type": "stream",
          "name": "stdout",
          "text": [
            "[['surprise', 2, 3], [4, 5]]\n",
            "139842488990656\n",
            "\n",
            "[[1, 2, 3], [4, 5]]\n",
            "139842487851840\n",
            "\n"
          ]
        }
      ]
    },
    {
      "cell_type": "markdown",
      "source": [
        "#***PART III DATA CONTAINER***"
      ],
      "metadata": {
        "id": "MqpSrMCXG1MH"
      }
    },
    {
      "cell_type": "markdown",
      "source": [
        "###***Chapter 13 List***"
      ],
      "metadata": {
        "id": "xB4iKlk7fwhd"
      }
    },
    {
      "cell_type": "markdown",
      "source": [
        "####***Section 1 List Construction***"
      ],
      "metadata": {
        "id": "uUL2u2es1NTI"
      }
    },
    {
      "cell_type": "markdown",
      "source": [
        "#####***Explicit Construction***"
      ],
      "metadata": {
        "id": "BStpZvfx-NFr"
      }
    },
    {
      "cell_type": "markdown",
      "source": [
        "lists can have various different objects as their members"
      ],
      "metadata": {
        "id": "7Zu_cEhb4I36"
      }
    },
    {
      "cell_type": "code",
      "source": [
        "def main():\n",
        "    a = [0, 3.14, \"hello\"]\n",
        "    print(a, type(a), len(a), sep='\\n')\n",
        "\n",
        "if __name__ == \"__main__\":\n",
        "    main()"
      ],
      "metadata": {
        "id": "YojhxVEi4KfU"
      },
      "execution_count": null,
      "outputs": []
    },
    {
      "cell_type": "markdown",
      "source": [
        "lists even have another list as their members"
      ],
      "metadata": {
        "id": "h6BNsvvX4KyF"
      }
    },
    {
      "cell_type": "code",
      "source": [
        "def main():\n",
        "    a = [0, 1, 2, 3, [0, 3.14, \"hello\"]]\n",
        "    print(a, type(a), len(a), sep='\\n')\n",
        "\n",
        "if __name__ == \"__main__\":\n",
        "    main()"
      ],
      "metadata": {
        "id": "tIUoz0c74K99"
      },
      "execution_count": null,
      "outputs": []
    },
    {
      "cell_type": "markdown",
      "source": [
        "#####***Empty List***"
      ],
      "metadata": {
        "id": "SiQ_l2HO4h6c"
      }
    },
    {
      "cell_type": "code",
      "source": [
        "def main():\n",
        "    # empty list\n",
        "    a = []\n",
        "    print(a, type(a), len(a), sep='\\n')\n",
        "\n",
        "    # empty list\n",
        "    a = list()\n",
        "    print(a, type(a), len(a), sep='\\n')\n",
        "\n",
        "if __name__ == \"__main__\":\n",
        "    main()"
      ],
      "metadata": {
        "colab": {
          "base_uri": "https://localhost:8080/"
        },
        "id": "dCyEdyXn4iG9",
        "outputId": "69aa93f9-29bf-450e-bc38-d9d3f62acca9"
      },
      "execution_count": null,
      "outputs": [
        {
          "output_type": "stream",
          "name": "stdout",
          "text": [
            "[]\n",
            "<class 'list'>\n",
            "0\n",
            "[]\n",
            "<class 'list'>\n",
            "0\n"
          ]
        }
      ]
    },
    {
      "cell_type": "markdown",
      "source": [
        "#####***String to List***"
      ],
      "metadata": {
        "id": "FTjglc_Y4ilm"
      }
    },
    {
      "cell_type": "code",
      "source": [
        "def main():\n",
        "    a = list(\"Hello World\")\n",
        "    print(a, type(a), len(a), sep='\\n')\n",
        "\n",
        "if __name__ == \"__main__\":\n",
        "    main()"
      ],
      "metadata": {
        "id": "MG2H2ZaM4iv5"
      },
      "execution_count": null,
      "outputs": []
    },
    {
      "cell_type": "markdown",
      "source": [
        "#####***Tuple to List***"
      ],
      "metadata": {
        "id": "6rfOmoOF4ySj"
      }
    },
    {
      "cell_type": "code",
      "source": [
        "def main():\n",
        "    temp = (1,2,3,4,5)\n",
        "    a = list(temp)\n",
        "    print(a, type(a), len(a), sep='\\n')\n",
        "\n",
        "if __name__ == \"__main__\":\n",
        "    main()"
      ],
      "metadata": {
        "id": "TMVaXiwBOxv2"
      },
      "execution_count": null,
      "outputs": []
    },
    {
      "cell_type": "markdown",
      "source": [
        "####***Section 2 List Concatenation***"
      ],
      "metadata": {
        "id": "AJipPKt-MKSm"
      }
    },
    {
      "cell_type": "markdown",
      "source": [
        "#####***List Concatenation and Inline List Concatenation***"
      ],
      "metadata": {
        "id": "6Redxznxi3cv"
      }
    },
    {
      "cell_type": "code",
      "source": [
        "def main():\n",
        "    # list concatenation\n",
        "    x = [1,2,3]\n",
        "    x = x + [1,2,3,1,2,3]\n",
        "    print(x)\n",
        "\n",
        "    # another form of list concatenation\n",
        "    x = [1,2,3]\n",
        "    x = x * 3\n",
        "    print(x)\n",
        "\n",
        "    # inline list concatenation\n",
        "    x = [1,2,3]\n",
        "    x += [1,2,3,1,2,3]\n",
        "    print(x)\n",
        "\n",
        "    # another form of inline list concatenation\n",
        "    x = [1,2,3]\n",
        "    x *= 3\n",
        "    print(x)\n",
        "\n",
        "if __name__ == \"__main__\":\n",
        "    main()"
      ],
      "metadata": {
        "colab": {
          "base_uri": "https://localhost:8080/"
        },
        "id": "bToN-exui3pv",
        "outputId": "3db711a8-9057-4f5d-9db9-4393e836807d"
      },
      "execution_count": null,
      "outputs": [
        {
          "output_type": "stream",
          "name": "stdout",
          "text": [
            "[1, 2, 3, 1, 2, 3, 1, 2, 3]\n",
            "[1, 2, 3, 1, 2, 3, 1, 2, 3]\n",
            "[1, 2, 3, 1, 2, 3, 1, 2, 3]\n",
            "[1, 2, 3, 1, 2, 3, 1, 2, 3]\n"
          ]
        }
      ]
    },
    {
      "cell_type": "markdown",
      "source": [
        "#####***List Concatenation vs Inline List Concatenation***"
      ],
      "metadata": {
        "id": "IBxetvcU0PYV"
      }
    },
    {
      "cell_type": "code",
      "source": [
        "def main():\n",
        "    # list concatenation - id changed\n",
        "    x = [1,2,3]\n",
        "    id_before = id(x)\n",
        "    x = x + [1,2,3,1,2,3]\n",
        "    id_after = id(x)\n",
        "    print(id_before == id_after)\n",
        "\n",
        "    # another form of list concatenation - id changed\n",
        "    x = [1,2,3]\n",
        "    id_before = id(x)\n",
        "    x = x * 3\n",
        "    id_after = id(x)\n",
        "    print(id_before == id_after)\n",
        "\n",
        "    # inline list concatenation - id not changed \n",
        "    x = [1,2,3]\n",
        "    id_before = id(x)\n",
        "    x += [1,2,3,1,2,3]\n",
        "    id_after = id(x)\n",
        "    print(id_before == id_after)\n",
        "\n",
        "    # another form of inline list concatenation - id not changed\n",
        "    x = [1,2,3]\n",
        "    id_before = id(x)\n",
        "    x *= 3\n",
        "    id_after = id(x)\n",
        "    print(id_before == id_after)\n",
        "\n",
        "if __name__ == \"__main__\":\n",
        "    main()"
      ],
      "metadata": {
        "colab": {
          "base_uri": "https://localhost:8080/"
        },
        "id": "HLjR5QkA0PpM",
        "outputId": "beda7097-1c8f-4fd2-d2f4-6398c121ba7a"
      },
      "execution_count": null,
      "outputs": [
        {
          "output_type": "stream",
          "name": "stdout",
          "text": [
            "False\n",
            "False\n",
            "True\n",
            "True\n"
          ]
        }
      ]
    },
    {
      "cell_type": "markdown",
      "source": [
        "#####***How do List Concatenation and Inline List Concatenation work***"
      ],
      "metadata": {
        "id": "3F9taMcINuUH"
      }
    },
    {
      "cell_type": "code",
      "source": [
        "def main():\n",
        "    # list concatenation\n",
        "    x = [1,2,3]\n",
        "    #x = x + [1,2,3,1,2,3]\n",
        "    x = x.__add__([1,2,3,1,2,3])\n",
        "    print(x)\n",
        "\n",
        "    # another form of list concatenation\n",
        "    x = [1,2,3]\n",
        "    #x = x * 3\n",
        "    x = x.__mul__(3)\n",
        "    print(x)\n",
        "\n",
        "    # inline list concatenation\n",
        "    x = [1,2,3]\n",
        "    #x += [1,2,3,1,2,3]\n",
        "    x.__iadd__([1,2,3,1,2,3])\n",
        "    print(x)\n",
        "\n",
        "    # another form of inline list concatenation\n",
        "    x = [1,2,3]\n",
        "    #x *= 3\n",
        "    x.__imul__(3)\n",
        "    print(x)\n",
        "\n",
        "if __name__ == \"__main__\":\n",
        "    main()"
      ],
      "metadata": {
        "colab": {
          "base_uri": "https://localhost:8080/"
        },
        "outputId": "cede113f-76ea-4b8b-c00f-cda4d79d054c",
        "id": "WwaxLzBgNuUI"
      },
      "execution_count": null,
      "outputs": [
        {
          "output_type": "stream",
          "name": "stdout",
          "text": [
            "[1, 2, 3, 1, 2, 3, 1, 2, 3]\n",
            "[1, 2, 3, 1, 2, 3, 1, 2, 3]\n",
            "[1, 2, 3, 1, 2, 3, 1, 2, 3]\n",
            "[1, 2, 3, 1, 2, 3, 1, 2, 3]\n"
          ]
        }
      ]
    },
    {
      "cell_type": "code",
      "source": [
        "def main():\n",
        "    # list concatenation\n",
        "    x = [1,2,3]\n",
        "    #x = x + [1,2,3,1,2,3]\n",
        "    x = list.__add__(x,[1,2,3,1,2,3])\n",
        "    print(x)\n",
        "\n",
        "    # another form of list concatenation\n",
        "    x = [1,2,3]\n",
        "    #x = x * 3\n",
        "    x = list.__mul__(x,3)\n",
        "    print(x)\n",
        "\n",
        "    # inline list concatenation\n",
        "    x = [1,2,3]\n",
        "    #x += [1,2,3,1,2,3]\n",
        "    list.__iadd__(x,[1,2,3,1,2,3])\n",
        "    print(x)\n",
        "\n",
        "    # another form of inline list concatenation\n",
        "    x = [1,2,3]\n",
        "    #x *= 3\n",
        "    list.__imul__(x,3)\n",
        "    print(x)\n",
        "\n",
        "if __name__ == \"__main__\":\n",
        "    main()"
      ],
      "metadata": {
        "colab": {
          "base_uri": "https://localhost:8080/"
        },
        "id": "dJG5qfrdOMr-",
        "outputId": "897a3d6f-1bba-4b0d-fd1c-e1031a18a76f"
      },
      "execution_count": null,
      "outputs": [
        {
          "output_type": "stream",
          "name": "stdout",
          "text": [
            "[1, 2, 3, 1, 2, 3, 1, 2, 3]\n",
            "[1, 2, 3, 1, 2, 3, 1, 2, 3]\n",
            "[1, 2, 3, 1, 2, 3, 1, 2, 3]\n",
            "[1, 2, 3, 1, 2, 3, 1, 2, 3]\n"
          ]
        }
      ]
    },
    {
      "cell_type": "markdown",
      "source": [
        "####***Section 3 List Indexing and Slicing***"
      ],
      "metadata": {
        "id": "a7sYAIzc-L-n"
      }
    },
    {
      "cell_type": "markdown",
      "source": [
        "#####***List Indexing***"
      ],
      "metadata": {
        "id": "G86tlhGkDRZw"
      }
    },
    {
      "cell_type": "code",
      "source": [
        "def main():\n",
        "    a = [ 0, 1, 2, 3, 4, 5, 6, 7, 8]\n",
        "    #     0  1  2  3  4  5  6  7  8 <--- positive index\n",
        "    #    -9 -8 -7 -6 -5 -4 -3 -2 -1 <--- negative index \n",
        "    print(a[0], a[-9])\n",
        "    print(a[6], a[-3])\n",
        "    print(a[7], a[-2])\n",
        "\n",
        "    try:\n",
        "        print(x[10])\n",
        "    except IndexError as e:\n",
        "        print(e)\n",
        "\n",
        "if __name__ == \"__main__\":\n",
        "    main()"
      ],
      "metadata": {
        "id": "5MkZMd4q-MJ2"
      },
      "execution_count": null,
      "outputs": []
    },
    {
      "cell_type": "markdown",
      "source": [
        "#####***List Slicing [eng](https://www.youtube.com/watch?v=ajrtAuDg3yw&list=PL-osiE80TeTt2d9bfVyTiXJA-UTHn6WwU&index=19)***"
      ],
      "metadata": {
        "id": "xmc69pd5-c6A"
      }
    },
    {
      "cell_type": "code",
      "source": [
        "def main():\n",
        "    a = [ 0, 1, 2, 3, 4, 5, 6, 7, 8]\n",
        "    #     0  1  2  3  4  5  6  7  8 <--- positive index\n",
        "    #    -9 -8 -7 -6 -5 -4 -3 -2 -1 <--- negative index \n",
        "    print(a[1:7], a[-8:-2]) # end point exclusive\n",
        "    print(a[1:7:2], a[-8:-2:2]) # step size 2\n",
        "    print(a[1:], a[-8:]) # we can go to end inclusive\n",
        "    print(a[1::2], a[-8::2]) # step size 2\n",
        "    print(a[::-1]) # Exercise : What will be the output of the this code?\n",
        "\n",
        "if __name__ == \"__main__\":\n",
        "    main()"
      ],
      "metadata": {
        "id": "3Yw8EH7h-dDY"
      },
      "execution_count": null,
      "outputs": []
    },
    {
      "cell_type": "markdown",
      "source": [
        "####***Section 4 List Method - append***"
      ],
      "metadata": {
        "id": "6sfK_SbEOyHu"
      }
    },
    {
      "cell_type": "markdown",
      "source": [
        "#####***Method - append***"
      ],
      "metadata": {
        "id": "efOHIeLFQgUu"
      }
    },
    {
      "cell_type": "code",
      "source": [
        "def main():\n",
        "    x = []\n",
        "    print(x)\n",
        "    for i in range(10): \n",
        "        x.append(i)\n",
        "        print(x)\n",
        "\n",
        "if __name__ == \"__main__\":\n",
        "    main()"
      ],
      "metadata": {
        "colab": {
          "base_uri": "https://localhost:8080/"
        },
        "id": "oxdWal5c-La6",
        "outputId": "2ab5e9af-6835-42a6-8324-274305ccbfe5"
      },
      "execution_count": null,
      "outputs": [
        {
          "output_type": "stream",
          "name": "stdout",
          "text": [
            "[]\n",
            "[0]\n",
            "[0, 1]\n",
            "[0, 1, 2]\n",
            "[0, 1, 2, 3]\n",
            "[0, 1, 2, 3, 4]\n",
            "[0, 1, 2, 3, 4, 5]\n",
            "[0, 1, 2, 3, 4, 5, 6]\n",
            "[0, 1, 2, 3, 4, 5, 6, 7]\n",
            "[0, 1, 2, 3, 4, 5, 6, 7, 8]\n",
            "[0, 1, 2, 3, 4, 5, 6, 7, 8, 9]\n"
          ]
        }
      ]
    },
    {
      "cell_type": "code",
      "source": [
        "def main():\n",
        "    x = []\n",
        "    print(x)\n",
        "    for i in 'Hello World!': \n",
        "        x.append(i)\n",
        "        print(x)\n",
        "\n",
        "if __name__ == \"__main__\":\n",
        "    main()"
      ],
      "metadata": {
        "colab": {
          "base_uri": "https://localhost:8080/"
        },
        "id": "uFGUlVHl-TAS",
        "outputId": "20f3153f-a09a-480a-f2a6-9d70087dbbf5"
      },
      "execution_count": null,
      "outputs": [
        {
          "output_type": "stream",
          "name": "stdout",
          "text": [
            "[]\n",
            "['H']\n",
            "['H', 'e']\n",
            "['H', 'e', 'l']\n",
            "['H', 'e', 'l', 'l']\n",
            "['H', 'e', 'l', 'l', 'o']\n",
            "['H', 'e', 'l', 'l', 'o', ' ']\n",
            "['H', 'e', 'l', 'l', 'o', ' ', 'W']\n",
            "['H', 'e', 'l', 'l', 'o', ' ', 'W', 'o']\n",
            "['H', 'e', 'l', 'l', 'o', ' ', 'W', 'o', 'r']\n",
            "['H', 'e', 'l', 'l', 'o', ' ', 'W', 'o', 'r', 'l']\n",
            "['H', 'e', 'l', 'l', 'o', ' ', 'W', 'o', 'r', 'l', 'd']\n",
            "['H', 'e', 'l', 'l', 'o', ' ', 'W', 'o', 'r', 'l', 'd', '!']\n"
          ]
        }
      ]
    },
    {
      "cell_type": "code",
      "source": [
        "def main():\n",
        "    a = [0, 1, 2, 3, 4]\n",
        "    a.append('one')\n",
        "    a.append('two')\n",
        "    print(a)\n",
        "\n",
        "if __name__ == \"__main__\":\n",
        "    main()"
      ],
      "metadata": {
        "id": "kevQAIBC-Neq",
        "colab": {
          "base_uri": "https://localhost:8080/"
        },
        "outputId": "e0185a08-fff1-4718-bf20-310f31320717"
      },
      "execution_count": null,
      "outputs": [
        {
          "output_type": "stream",
          "name": "stdout",
          "text": [
            "[0, 1, 2, 3, 4, 'one', 'two']\n"
          ]
        }
      ]
    },
    {
      "cell_type": "markdown",
      "source": [
        "#####***List Append Method vs List Concatenation***"
      ],
      "metadata": {
        "id": "cxRD08Tk-z4C"
      }
    },
    {
      "cell_type": "markdown",
      "source": [
        "```\n",
        "List Append Method         - inplace op \n",
        "List Concatenation         - not inplace op\n",
        "Inplace List Concatenation - inplace op\n",
        "```"
      ],
      "metadata": {
        "id": "sr4ZXHhg_GrO"
      }
    },
    {
      "cell_type": "code",
      "source": [
        "def main():\n",
        "    x = [1,2,3]\n",
        "    print(f'Id Before : {id(x)}')\n",
        "    x.append(4) # List Append Method - inplace op \n",
        "    print(f'Id After  : {id(x)}')\n",
        "\n",
        "if __name__ == \"__main__\":\n",
        "    main()"
      ],
      "metadata": {
        "colab": {
          "base_uri": "https://localhost:8080/"
        },
        "outputId": "7e19cbec-5dd4-4a4d-ac8a-f3fa4eb3b0f0",
        "id": "rad3T14r-z4C"
      },
      "execution_count": null,
      "outputs": [
        {
          "output_type": "stream",
          "name": "stdout",
          "text": [
            "Id Before : 139828650505344\n",
            "Id After  : 139828650505344\n"
          ]
        }
      ]
    },
    {
      "cell_type": "code",
      "source": [
        "def main():\n",
        "    x = [1,2,3]\n",
        "    print(f'Id Before : {id(x)}')\n",
        "    x = x + [4] # List Concatenation - not inplace op\n",
        "    print(f'Id After  : {id(x)}')\n",
        "\n",
        "if __name__ == \"__main__\":\n",
        "    main()"
      ],
      "metadata": {
        "colab": {
          "base_uri": "https://localhost:8080/"
        },
        "outputId": "20f3153f-a09a-480a-f2a6-9d70087dbbf5",
        "id": "1vXL9TQK-z4D"
      },
      "execution_count": null,
      "outputs": [
        {
          "output_type": "stream",
          "name": "stdout",
          "text": [
            "[]\n",
            "['H']\n",
            "['H', 'e']\n",
            "['H', 'e', 'l']\n",
            "['H', 'e', 'l', 'l']\n",
            "['H', 'e', 'l', 'l', 'o']\n",
            "['H', 'e', 'l', 'l', 'o', ' ']\n",
            "['H', 'e', 'l', 'l', 'o', ' ', 'W']\n",
            "['H', 'e', 'l', 'l', 'o', ' ', 'W', 'o']\n",
            "['H', 'e', 'l', 'l', 'o', ' ', 'W', 'o', 'r']\n",
            "['H', 'e', 'l', 'l', 'o', ' ', 'W', 'o', 'r', 'l']\n",
            "['H', 'e', 'l', 'l', 'o', ' ', 'W', 'o', 'r', 'l', 'd']\n",
            "['H', 'e', 'l', 'l', 'o', ' ', 'W', 'o', 'r', 'l', 'd', '!']\n"
          ]
        }
      ]
    },
    {
      "cell_type": "code",
      "source": [
        "def main():\n",
        "    x = [1,2,3]\n",
        "    print(f'Id Before : {id(x)}')\n",
        "    x += [4] # Inplace List Concatenation - inplace op\n",
        "    print(f'Id After  : {id(x)}')\n",
        "\n",
        "if __name__ == \"__main__\":\n",
        "    main()"
      ],
      "metadata": {
        "colab": {
          "base_uri": "https://localhost:8080/"
        },
        "outputId": "e0185a08-fff1-4718-bf20-310f31320717",
        "id": "Cc8YoW2V-z4D"
      },
      "execution_count": null,
      "outputs": [
        {
          "output_type": "stream",
          "name": "stdout",
          "text": [
            "[0, 1, 2, 3, 4, 'one', 'two']\n"
          ]
        }
      ]
    },
    {
      "cell_type": "markdown",
      "source": [
        "#####***Pyramid using Method - append and pop***"
      ],
      "metadata": {
        "id": "8zDFImUWCKEH"
      }
    },
    {
      "cell_type": "code",
      "source": [
        "def main():\n",
        "    a = []\n",
        "    print(a)\n",
        "    for i in range(10):\n",
        "        a.append(i)\n",
        "        print(a)\n",
        "    for i in range(10):\n",
        "        a.pop()\n",
        "        print(a)\n",
        "\n",
        "if __name__ == \"__main__\":\n",
        "    main()"
      ],
      "metadata": {
        "colab": {
          "base_uri": "https://localhost:8080/"
        },
        "outputId": "80c7346b-cc2f-4b89-e8c0-74fe1d7fafe1",
        "id": "liOqBy2JCKEH"
      },
      "execution_count": null,
      "outputs": [
        {
          "output_type": "stream",
          "name": "stdout",
          "text": [
            "[]\n"
          ]
        }
      ]
    },
    {
      "cell_type": "markdown",
      "source": [
        "#####***FIFO using Method - append and pop***"
      ],
      "metadata": {
        "id": "4NofKJecCZNZ"
      }
    },
    {
      "cell_type": "code",
      "source": [
        "def main():\n",
        "    queue = []\n",
        "    queue_capacity = 3\n",
        "\n",
        "    for i in range(100):\n",
        "        \n",
        "        # if coin lands on head, new data comes in and join the queue\n",
        "        if np.random.rand() > 0.5:\n",
        "            data_in = np.random.uniform(0., 1., (1,))[0]\n",
        "            \n",
        "            # if too many items in the queue, oldest data leaves the queue\n",
        "            if len(queue) == queue_capacity:\n",
        "                queue.pop(0)\n",
        "                \n",
        "            queue.append(data_in)\n",
        "                \n",
        "        # if coin lands on tail and if there is an item in the queue,\n",
        "        # oldest data leaves the queue\n",
        "        elif len(queue) >= 1:\n",
        "            queue.pop(0)\n",
        "            \n",
        "        # if coin lands on tail but if there is no item left,\n",
        "        # do nothing\n",
        "\n",
        "        print(queue)     \n",
        "\n",
        "if __name__ == \"__main__\":\n",
        "    main()"
      ],
      "metadata": {
        "colab": {
          "base_uri": "https://localhost:8080/"
        },
        "outputId": "5b3ec23b-91c5-41f0-b0b3-fecb4b3e725a",
        "id": "vZuH89e5CZNa"
      },
      "execution_count": null,
      "outputs": [
        {
          "output_type": "stream",
          "name": "stdout",
          "text": [
            "[0.8663823259286292]\n",
            "[0.8663823259286292, 0.855803342392611]\n",
            "[0.855803342392611]\n",
            "[]\n",
            "[0.17162967726144052]\n",
            "[0.17162967726144052, 0.05433798833925363]\n",
            "[0.05433798833925363]\n",
            "[]\n",
            "[0.22392468806038013]\n",
            "[]\n",
            "[0.7044144019235328]\n",
            "[]\n",
            "[]\n",
            "[0.5772285886041676]\n",
            "[]\n",
            "[0.613965955965896]\n",
            "[0.613965955965896, 0.589909976354571]\n",
            "[0.613965955965896, 0.589909976354571, 0.31194499547960186]\n",
            "[0.589909976354571, 0.31194499547960186]\n",
            "[0.31194499547960186]\n",
            "[]\n",
            "[0.7395507950492876]\n",
            "[]\n",
            "[]\n",
            "[]\n",
            "[]\n",
            "[]\n",
            "[]\n",
            "[0.3777518392924809]\n",
            "[]\n",
            "[]\n",
            "[]\n",
            "[0.4536968445560453]\n",
            "[0.4536968445560453, 0.8966712930403421]\n",
            "[0.4536968445560453, 0.8966712930403421, 0.21689698439847394]\n",
            "[0.8966712930403421, 0.21689698439847394, 0.26332237673715064]\n",
            "[0.21689698439847394, 0.26332237673715064]\n",
            "[0.21689698439847394, 0.26332237673715064, 0.32001715082246784]\n",
            "[0.26332237673715064, 0.32001715082246784]\n",
            "[0.26332237673715064, 0.32001715082246784, 0.8310484552361904]\n",
            "[0.32001715082246784, 0.8310484552361904, 0.8726506554473953]\n",
            "[0.8310484552361904, 0.8726506554473953]\n",
            "[0.8310484552361904, 0.8726506554473953, 0.1856359443059522]\n",
            "[0.8726506554473953, 0.1856359443059522, 0.6874882763878153]\n",
            "[0.1856359443059522, 0.6874882763878153]\n",
            "[0.1856359443059522, 0.6874882763878153, 0.7308558067701578]\n",
            "[0.6874882763878153, 0.7308558067701578]\n",
            "[0.7308558067701578]\n",
            "[0.7308558067701578, 0.025662718054531575]\n",
            "[0.025662718054531575]\n",
            "[]\n",
            "[]\n",
            "[]\n",
            "[]\n",
            "[0.8638556059232314]\n",
            "[]\n",
            "[0.1320681063451533]\n",
            "[0.1320681063451533, 0.39605970280729375]\n",
            "[0.1320681063451533, 0.39605970280729375, 0.18327983621407862]\n",
            "[0.39605970280729375, 0.18327983621407862]\n",
            "[0.18327983621407862]\n",
            "[]\n",
            "[0.7653252538069653]\n",
            "[0.7653252538069653, 0.9037197397459334]\n",
            "[0.9037197397459334]\n",
            "[0.9037197397459334, 0.5844760689557689]\n",
            "[0.9037197397459334, 0.5844760689557689, 0.29214752679254885]\n",
            "[0.5844760689557689, 0.29214752679254885]\n",
            "[0.29214752679254885]\n",
            "[]\n",
            "[0.66991654659091]\n",
            "[0.66991654659091, 0.2817301057539491]\n",
            "[0.66991654659091, 0.2817301057539491, 0.06395526612098112]\n",
            "[0.2817301057539491, 0.06395526612098112]\n",
            "[0.2817301057539491, 0.06395526612098112, 0.8765052453165908]\n",
            "[0.06395526612098112, 0.8765052453165908]\n",
            "[0.06395526612098112, 0.8765052453165908, 0.2317016264712045]\n",
            "[0.8765052453165908, 0.2317016264712045, 0.9413777047064986]\n",
            "[0.2317016264712045, 0.9413777047064986, 0.6304479368667911]\n",
            "[0.9413777047064986, 0.6304479368667911, 0.2930202845077967]\n",
            "[0.6304479368667911, 0.2930202845077967, 0.6178766919175238]\n",
            "[0.2930202845077967, 0.6178766919175238]\n",
            "[0.6178766919175238]\n",
            "[]\n",
            "[0.47837030703998806]\n",
            "[]\n",
            "[0.3685846061296175]\n",
            "[]\n",
            "[0.18984791190275796]\n",
            "[0.18984791190275796, 0.22431702897473926]\n",
            "[0.22431702897473926]\n",
            "[0.22431702897473926, 0.9729194890231303]\n",
            "[0.22431702897473926, 0.9729194890231303, 0.906555499221179]\n",
            "[0.9729194890231303, 0.906555499221179, 0.3331451520286419]\n",
            "[0.906555499221179, 0.3331451520286419]\n",
            "[0.3331451520286419]\n",
            "[]\n",
            "[]\n",
            "[]\n",
            "[0.011427458625031028]\n"
          ]
        }
      ]
    },
    {
      "cell_type": "markdown",
      "source": [
        "####***Section 5 Other List Methods***"
      ],
      "metadata": {
        "id": "76eWFQaYAJuZ"
      }
    },
    {
      "cell_type": "markdown",
      "source": [
        "#####***Method - clear***"
      ],
      "metadata": {
        "id": "19QI1G6KQmLa"
      }
    },
    {
      "cell_type": "code",
      "source": [
        "def main():\n",
        "    a = [1,2,3,1,2,3] \n",
        "    a.clear() \n",
        "    print(a)\n",
        "\n",
        "if __name__ == \"__main__\":\n",
        "    main()"
      ],
      "metadata": {
        "colab": {
          "base_uri": "https://localhost:8080/"
        },
        "outputId": "80c7346b-cc2f-4b89-e8c0-74fe1d7fafe1",
        "id": "ciGsOzwmQmLa"
      },
      "execution_count": null,
      "outputs": [
        {
          "output_type": "stream",
          "name": "stdout",
          "text": [
            "[]\n"
          ]
        }
      ]
    },
    {
      "cell_type": "markdown",
      "source": [
        "#####***Method - count***"
      ],
      "metadata": {
        "id": "YBUjq1zvv97y"
      }
    },
    {
      "cell_type": "code",
      "source": [
        "def main():\n",
        "    a = [1,2,3,1,2,3] \n",
        "    n = a.count(3)  \n",
        "    print(n)\n",
        "\n",
        "if __name__ == \"__main__\":\n",
        "    main()"
      ],
      "metadata": {
        "colab": {
          "base_uri": "https://localhost:8080/"
        },
        "outputId": "6c67013c-e80c-4401-e063-53b9ea2d735c",
        "id": "Zd2mdflvv97y"
      },
      "execution_count": null,
      "outputs": [
        {
          "output_type": "stream",
          "name": "stdout",
          "text": [
            "2\n"
          ]
        }
      ]
    },
    {
      "cell_type": "code",
      "source": [
        "def main():\n",
        "    a = [1,2,3,1,2,3] \n",
        "    n = a.count(0)  \n",
        "    print(n)\n",
        "\n",
        "if __name__ == \"__main__\":\n",
        "    main()"
      ],
      "metadata": {
        "colab": {
          "base_uri": "https://localhost:8080/"
        },
        "id": "eS4a5HIHwJ-n",
        "outputId": "37df5c63-a81b-4e4a-adcd-4bfb721e3d89"
      },
      "execution_count": null,
      "outputs": [
        {
          "output_type": "stream",
          "name": "stdout",
          "text": [
            "0\n"
          ]
        }
      ]
    },
    {
      "cell_type": "markdown",
      "source": [
        "#####***Method - extend***"
      ],
      "metadata": {
        "id": "70g5gQByQmPT"
      }
    },
    {
      "cell_type": "code",
      "source": [
        "# without extend - use list append method\n",
        "def main():\n",
        "    a = [1,2,3] \n",
        "    for i in [4,5,6]:\n",
        "        a.append(i) \n",
        "    print(a)\n",
        "\n",
        "if __name__ == \"__main__\":\n",
        "    main()"
      ],
      "metadata": {
        "colab": {
          "base_uri": "https://localhost:8080/"
        },
        "id": "DnMOA2n3Z9YB",
        "outputId": "4fc8111f-2fa0-4da9-eb77-ba21f69c8314"
      },
      "execution_count": null,
      "outputs": [
        {
          "output_type": "stream",
          "name": "stdout",
          "text": [
            "[1, 2, 3, 4, 5, 6]\n"
          ]
        }
      ]
    },
    {
      "cell_type": "code",
      "source": [
        "# without extend - use list concatenation\n",
        "def main():\n",
        "    a = [1,2,3] \n",
        "    a += [4,5,6]\n",
        "    print(a)\n",
        "\n",
        "if __name__ == \"__main__\":\n",
        "    main()"
      ],
      "metadata": {
        "colab": {
          "base_uri": "https://localhost:8080/"
        },
        "id": "P4aXay6zaX3E",
        "outputId": "548e55e3-e2f8-4e38-ab54-5ef5deb49b08"
      },
      "execution_count": null,
      "outputs": [
        {
          "output_type": "stream",
          "name": "stdout",
          "text": [
            "[1, 2, 3, 4, 5, 6]\n"
          ]
        }
      ]
    },
    {
      "cell_type": "code",
      "source": [
        "# with extend\n",
        "def main():\n",
        "    a = [1,2,3] \n",
        "    a.extend([4,5,6]) \n",
        "    print(a)\n",
        "\n",
        "if __name__ == \"__main__\":\n",
        "    main()"
      ],
      "metadata": {
        "colab": {
          "base_uri": "https://localhost:8080/"
        },
        "outputId": "463894b1-ed6b-45fc-d291-fcc571638e03",
        "id": "cjqQpb1BQmPT"
      },
      "execution_count": null,
      "outputs": [
        {
          "output_type": "stream",
          "name": "stdout",
          "text": [
            "[1, 2, 3, 4, 5, 6]\n"
          ]
        }
      ]
    },
    {
      "cell_type": "markdown",
      "source": [
        "#####***Method - index***"
      ],
      "metadata": {
        "id": "ESw-J8UxwSBd"
      }
    },
    {
      "cell_type": "code",
      "source": [
        "def main():\n",
        "    a = [1,2,3,1,2,3,1,2,3] \n",
        "    n = a.index(3)  \n",
        "    print(n)\n",
        "\n",
        "if __name__ == \"__main__\":\n",
        "    main()"
      ],
      "metadata": {
        "colab": {
          "base_uri": "https://localhost:8080/"
        },
        "outputId": "7fc7d849-6732-4d07-f90c-5e9413d2adfa",
        "id": "zzWK0kKwwSBd"
      },
      "execution_count": null,
      "outputs": [
        {
          "output_type": "stream",
          "name": "stdout",
          "text": [
            "2\n"
          ]
        }
      ]
    },
    {
      "cell_type": "code",
      "source": [
        "def main():\n",
        "    a = [1,2,3,1,2,3,1,2,3] \n",
        "    try:\n",
        "        n = a.index(0)  \n",
        "        print(n)\n",
        "    except ValueError as e:\n",
        "        print(e)\n",
        "\n",
        "if __name__ == \"__main__\":\n",
        "    main()"
      ],
      "metadata": {
        "colab": {
          "base_uri": "https://localhost:8080/"
        },
        "outputId": "88497080-80f3-4e1c-b6c7-79047021ddae",
        "id": "pL3pDZMIwSBe"
      },
      "execution_count": null,
      "outputs": [
        {
          "output_type": "stream",
          "name": "stdout",
          "text": [
            "0 is not in list\n"
          ]
        }
      ]
    },
    {
      "cell_type": "markdown",
      "source": [
        "#####***Method - insert***"
      ],
      "metadata": {
        "id": "WXY7tQ1EvXCB"
      }
    },
    {
      "cell_type": "code",
      "source": [
        "def main():\n",
        "    a = [1,2,3,1,2,3] \n",
        "    a.insert(0, 'Hello World!')  \n",
        "    print(a)\n",
        "\n",
        "if __name__ == \"__main__\":\n",
        "    main()"
      ],
      "metadata": {
        "colab": {
          "base_uri": "https://localhost:8080/"
        },
        "outputId": "3f3e2d1c-2a54-471f-cf61-67392f87e058",
        "id": "d_tQB4IrvXCC"
      },
      "execution_count": null,
      "outputs": [
        {
          "output_type": "stream",
          "name": "stdout",
          "text": [
            "['Hello World!', 1, 2, 3, 1, 2, 3]\n"
          ]
        }
      ]
    },
    {
      "cell_type": "markdown",
      "source": [
        "####***Section 6 How to sort List Members [eng](https://www.youtube.com/watch?v=D3JvDWO-BY4&list=PL-osiE80TeTt2d9bfVyTiXJA-UTHn6WwU&index=21)***"
      ],
      "metadata": {
        "id": "HCqSpahNw_lU"
      }
    },
    {
      "cell_type": "markdown",
      "source": [
        "#####***Method - sort***"
      ],
      "metadata": {
        "id": "KhbeD2ZJQmZq"
      }
    },
    {
      "cell_type": "code",
      "source": [
        "def main():\n",
        "    a = [-1,0,1,2,3,3,3] \n",
        "    a.sort() \n",
        "    print(a)\n",
        "\n",
        "if __name__ == \"__main__\":\n",
        "    main()"
      ],
      "metadata": {
        "colab": {
          "base_uri": "https://localhost:8080/"
        },
        "outputId": "3c168566-a8d1-4487-cb66-3d2a058024f8",
        "id": "1HEaZEt5QmZq"
      },
      "execution_count": null,
      "outputs": [
        {
          "output_type": "stream",
          "name": "stdout",
          "text": [
            "[-1, 0, 1, 2, 3, 3, 3]\n"
          ]
        }
      ]
    },
    {
      "cell_type": "code",
      "source": [
        "def main():\n",
        "    a = [-1,0,1,2,3,3,3] \n",
        "    a.sort(reverse=True) \n",
        "    print(a)\n",
        "\n",
        "if __name__ == \"__main__\":\n",
        "    main()"
      ],
      "metadata": {
        "colab": {
          "base_uri": "https://localhost:8080/"
        },
        "id": "Ti1_1jyCxVLI",
        "outputId": "e1b0ccfd-9c2c-420b-e106-240caa06d05f"
      },
      "execution_count": null,
      "outputs": [
        {
          "output_type": "stream",
          "name": "stdout",
          "text": [
            "[3, 3, 3, 2, 1, 0, -1]\n"
          ]
        }
      ]
    },
    {
      "cell_type": "code",
      "source": [
        "def main():\n",
        "    a = [-1,0,1,2,3,3,3] \n",
        "    a.sort(key=abs) \n",
        "    print(a)\n",
        "\n",
        "if __name__ == \"__main__\":\n",
        "    main()"
      ],
      "metadata": {
        "colab": {
          "base_uri": "https://localhost:8080/"
        },
        "id": "UYku5neoxVOO",
        "outputId": "e3a6592d-ea9f-43b2-df55-9bd0841faa3d"
      },
      "execution_count": null,
      "outputs": [
        {
          "output_type": "stream",
          "name": "stdout",
          "text": [
            "[0, -1, 1, 2, 3, 3, 3]\n"
          ]
        }
      ]
    },
    {
      "cell_type": "code",
      "source": [
        "def main():\n",
        "    a = [-1,0,1,2,3,3,3] \n",
        "    a.sort(key=lambda x: (x-1.9)**2) \n",
        "    print(a)\n",
        "\n",
        "if __name__ == \"__main__\":\n",
        "    main()"
      ],
      "metadata": {
        "colab": {
          "base_uri": "https://localhost:8080/"
        },
        "id": "jJW03n3TxVRj",
        "outputId": "8a77492d-2ac4-4479-d513-f243a900a846"
      },
      "execution_count": null,
      "outputs": [
        {
          "output_type": "stream",
          "name": "stdout",
          "text": [
            "[2, 1, 3, 3, 3, 0, -1]\n"
          ]
        }
      ]
    },
    {
      "cell_type": "code",
      "source": [
        "def main():\n",
        "    a = [-1,0,1,2,3,3,3] \n",
        "    a.sort(key=lambda x: (x-1.9)**2, reverse=True) \n",
        "    print(a)\n",
        "\n",
        "if __name__ == \"__main__\":\n",
        "    main()"
      ],
      "metadata": {
        "colab": {
          "base_uri": "https://localhost:8080/"
        },
        "id": "kMDoEAJ4xVTj",
        "outputId": "707ac883-76df-4541-a2b6-6f96486d799d"
      },
      "execution_count": null,
      "outputs": [
        {
          "output_type": "stream",
          "name": "stdout",
          "text": [
            "[-1, 0, 3, 3, 3, 1, 2]\n"
          ]
        }
      ]
    },
    {
      "cell_type": "markdown",
      "source": [
        "#####***Built-In Function - sorted***"
      ],
      "metadata": {
        "id": "4XuMzmBzybGb"
      }
    },
    {
      "cell_type": "code",
      "source": [
        "def main():\n",
        "    a = [-1,0,1,2,3,3,3] \n",
        "    a = sorted(a) \n",
        "    print(a)\n",
        "\n",
        "if __name__ == \"__main__\":\n",
        "    main()"
      ],
      "metadata": {
        "colab": {
          "base_uri": "https://localhost:8080/"
        },
        "outputId": "1024f5f1-b56b-4612-b385-564c51f1afea",
        "id": "6HUx-KNAybGc"
      },
      "execution_count": null,
      "outputs": [
        {
          "output_type": "stream",
          "name": "stdout",
          "text": [
            "[-1, 0, 1, 2, 3, 3, 3]\n"
          ]
        }
      ]
    },
    {
      "cell_type": "code",
      "source": [
        "def main():\n",
        "    a = [-1,0,1,2,3,3,3] \n",
        "    a = sorted(a, reverse=True) \n",
        "    print(a)\n",
        "\n",
        "if __name__ == \"__main__\":\n",
        "    main()"
      ],
      "metadata": {
        "colab": {
          "base_uri": "https://localhost:8080/"
        },
        "outputId": "b3b11e5d-27ae-4abc-9d70-4bbc781095b1",
        "id": "UXnagklQybGc"
      },
      "execution_count": null,
      "outputs": [
        {
          "output_type": "stream",
          "name": "stdout",
          "text": [
            "[3, 3, 3, 2, 1, 0, -1]\n"
          ]
        }
      ]
    },
    {
      "cell_type": "code",
      "source": [
        "def main():\n",
        "    a = [-1,0,1,2,3,3,3] \n",
        "    a = sorted(a, key=abs) \n",
        "    print(a)\n",
        "\n",
        "if __name__ == \"__main__\":\n",
        "    main()"
      ],
      "metadata": {
        "colab": {
          "base_uri": "https://localhost:8080/"
        },
        "outputId": "dbd4f584-6197-45a8-8f83-6c67a6434560",
        "id": "jg84vo_rybGc"
      },
      "execution_count": null,
      "outputs": [
        {
          "output_type": "stream",
          "name": "stdout",
          "text": [
            "[0, -1, 1, 2, 3, 3, 3]\n"
          ]
        }
      ]
    },
    {
      "cell_type": "code",
      "source": [
        "def main():\n",
        "    a = [-1,0,1,2,3,3,3] \n",
        "    a = sorted(a, key=lambda x: (x-1.9)**2) \n",
        "    print(a)\n",
        "\n",
        "if __name__ == \"__main__\":\n",
        "    main()"
      ],
      "metadata": {
        "colab": {
          "base_uri": "https://localhost:8080/"
        },
        "outputId": "dcf6a9f4-8cbb-4ab9-87c5-4a0a070e2ac7",
        "id": "i4-YL_ObybGc"
      },
      "execution_count": null,
      "outputs": [
        {
          "output_type": "stream",
          "name": "stdout",
          "text": [
            "[2, 1, 3, 3, 3, 0, -1]\n"
          ]
        }
      ]
    },
    {
      "cell_type": "code",
      "source": [
        "def main():\n",
        "    a = [-1,0,1,2,3,3,3] \n",
        "    a = sorted(a, key=lambda x: (x-1.9)**2, reverse=True) \n",
        "    print(a)\n",
        "\n",
        "if __name__ == \"__main__\":\n",
        "    main()"
      ],
      "metadata": {
        "colab": {
          "base_uri": "https://localhost:8080/"
        },
        "outputId": "0eb1c1da-fd6a-417d-b1aa-10fc3ddfb963",
        "id": "PtEOA2e7ybGc"
      },
      "execution_count": null,
      "outputs": [
        {
          "output_type": "stream",
          "name": "stdout",
          "text": [
            "[-1, 0, 3, 3, 3, 1, 2]\n"
          ]
        }
      ]
    },
    {
      "cell_type": "markdown",
      "source": [
        "####***Section 7 How to reverse List Members [blog](https://www.reddit.com/r/Python/comments/28yim8/reversed_vs_1/)***"
      ],
      "metadata": {
        "id": "7S69Axi_zjKG"
      }
    },
    {
      "cell_type": "markdown",
      "source": [
        "#####***List Slicing***"
      ],
      "metadata": {
        "id": "HJtGTOYUzjKG"
      }
    },
    {
      "cell_type": "code",
      "source": [
        "def main():\n",
        "    a = [-1,0,1,2,3,3,3] \n",
        "    a = a[::-1] # copy\n",
        "    print(a)\n",
        "\n",
        "if __name__ == \"__main__\":\n",
        "    main()"
      ],
      "metadata": {
        "colab": {
          "base_uri": "https://localhost:8080/"
        },
        "outputId": "4ec7eee4-c205-4ee9-d069-e23d5dfd9f23",
        "id": "b6SN8jHwzjKG"
      },
      "execution_count": null,
      "outputs": [
        {
          "output_type": "stream",
          "name": "stdout",
          "text": [
            "[3, 3, 3, 2, 1, 0, -1]\n"
          ]
        }
      ]
    },
    {
      "cell_type": "markdown",
      "source": [
        "#####***Method - reverse***"
      ],
      "metadata": {
        "id": "zLEM8chjzqkR"
      }
    },
    {
      "cell_type": "code",
      "source": [
        "def main():\n",
        "    a = [-1,0,1,2,3,3,3] \n",
        "    a.reverse() # inplace\n",
        "    print(a)\n",
        "\n",
        "if __name__ == \"__main__\":\n",
        "    main()"
      ],
      "metadata": {
        "colab": {
          "base_uri": "https://localhost:8080/"
        },
        "outputId": "17ae6a82-c803-4bf4-b454-1e42e2a4710f",
        "id": "lgBBW0vVzjKH"
      },
      "execution_count": null,
      "outputs": [
        {
          "output_type": "stream",
          "name": "stdout",
          "text": [
            "[3, 3, 3, 2, 1, 0, -1]\n"
          ]
        }
      ]
    },
    {
      "cell_type": "markdown",
      "source": [
        "#####***Built-In Function - reversed***"
      ],
      "metadata": {
        "id": "pfg2RSdDzjKH"
      }
    },
    {
      "cell_type": "code",
      "source": [
        "def main():\n",
        "    a = [-1,0,1,2,3,3,3] \n",
        "    a = reversed(a) # returns generator\n",
        "    print(a)\n",
        "\n",
        "    for i in a:\n",
        "        print(i)\n",
        "\n",
        "if __name__ == \"__main__\":\n",
        "    main()"
      ],
      "metadata": {
        "colab": {
          "base_uri": "https://localhost:8080/"
        },
        "outputId": "c3e9bfab-1685-445b-d2ca-19946d4a4423",
        "id": "AexhkqxEzjKH"
      },
      "execution_count": null,
      "outputs": [
        {
          "output_type": "stream",
          "name": "stdout",
          "text": [
            "<list_reverseiterator object at 0x7f2c2de199d0>\n",
            "3\n",
            "3\n",
            "3\n",
            "2\n",
            "1\n",
            "0\n",
            "-1\n"
          ]
        }
      ]
    },
    {
      "cell_type": "markdown",
      "source": [
        "####***Section 8 How to remove List Members***"
      ],
      "metadata": {
        "id": "UtvE2-QYbRNI"
      }
    },
    {
      "cell_type": "markdown",
      "source": [
        "#####***Remove List Members based on Value : Method - remove***"
      ],
      "metadata": {
        "id": "rOqS4E_HQmWV"
      }
    },
    {
      "cell_type": "code",
      "source": [
        "def main():\n",
        "    # remove method\n",
        "    # if one, the element is removed from the list \n",
        "    # if many, the very first matching element is removed from the list\n",
        "    # if not exists, raise ValueError\n",
        "    a = [1,2,3,3,3] \n",
        "    a.remove(2) \n",
        "    print(a)\n",
        "\n",
        "if __name__ == \"__main__\":\n",
        "    main()"
      ],
      "metadata": {
        "colab": {
          "base_uri": "https://localhost:8080/"
        },
        "id": "i3bVMLiicxyF",
        "outputId": "d92e36f3-ddec-487f-eece-bc2a93683637"
      },
      "execution_count": null,
      "outputs": [
        {
          "output_type": "stream",
          "name": "stdout",
          "text": [
            "[1, 3, 3, 3]\n"
          ]
        }
      ]
    },
    {
      "cell_type": "code",
      "source": [
        "def main():\n",
        "    # remove method\n",
        "    # if one, the element is removed from the list \n",
        "    # if many, the very first matching element is removed from the list\n",
        "    # if not exists, raise ValueError\n",
        "    a = [1,2,3,3,3] \n",
        "    a.remove(3) \n",
        "    print(a)\n",
        "\n",
        "if __name__ == \"__main__\":\n",
        "    main()"
      ],
      "metadata": {
        "colab": {
          "base_uri": "https://localhost:8080/"
        },
        "outputId": "125abf00-189e-4086-eb8a-f6825c0aced5",
        "id": "kGnMW1EKQmWW"
      },
      "execution_count": null,
      "outputs": [
        {
          "output_type": "stream",
          "name": "stdout",
          "text": [
            "[1, 2, 3, 3]\n"
          ]
        }
      ]
    },
    {
      "cell_type": "code",
      "source": [
        "def main():\n",
        "    # remove method\n",
        "    # if one, the element is removed from the list \n",
        "    # if many, the very first matching element is removed from the list\n",
        "    # if not exists, raise ValueError\n",
        "    a = [1,2,3,3,3] \n",
        "    try:\n",
        "        a.remove(4) \n",
        "        print(a)\n",
        "    except ValueError as e:\n",
        "        print(e)\n",
        "\n",
        "if __name__ == \"__main__\":\n",
        "    main()"
      ],
      "metadata": {
        "colab": {
          "base_uri": "https://localhost:8080/"
        },
        "id": "dc9IXnXUcx90",
        "outputId": "5f8d6c99-07a6-4fe1-dd70-70e6bba55606"
      },
      "execution_count": null,
      "outputs": [
        {
          "output_type": "stream",
          "name": "stdout",
          "text": [
            "list.remove(x): x not in list\n"
          ]
        }
      ]
    },
    {
      "cell_type": "markdown",
      "source": [
        "#####***Remove List Members based on Index : Method - pop***"
      ],
      "metadata": {
        "id": "cv_F59fbeYx8"
      }
    },
    {
      "cell_type": "markdown",
      "source": [
        "The pop() method removes the last element (as default) from the list."
      ],
      "metadata": {
        "id": "9wroPfBleYx8"
      }
    },
    {
      "cell_type": "code",
      "source": [
        "def main():\n",
        "    x = [0, 1, 2, 3, 4, 5, 6, 7, 8, 9]\n",
        "    print(x)\n",
        "    for _ in range(10):\n",
        "        x.pop()\n",
        "        print(x)\n",
        "\n",
        "if __name__ == \"__main__\":\n",
        "    main()"
      ],
      "metadata": {
        "id": "sxIZixONeYx8"
      },
      "execution_count": null,
      "outputs": []
    },
    {
      "cell_type": "markdown",
      "source": [
        "The pop() method removes the last element (as default) from the list and returns the removed element."
      ],
      "metadata": {
        "id": "NKUArWQQeYx9"
      }
    },
    {
      "cell_type": "code",
      "source": [
        "def main():\n",
        "    x = [0, 1, 2, 3, 4, 5, 6, 7, 8, 9]\n",
        "    print(x)\n",
        "    for _ in range(10):\n",
        "        item = x.pop()\n",
        "        print(item, x)\n",
        "\n",
        "if __name__ == \"__main__\":\n",
        "    main()"
      ],
      "metadata": {
        "id": "1xx9DoS8eYx9"
      },
      "execution_count": null,
      "outputs": []
    },
    {
      "cell_type": "markdown",
      "source": [
        "More generally, the pop() method removes the element at the given index passed as an argument (default is -1) from the list and returns the removed element."
      ],
      "metadata": {
        "id": "wuD6Oau_eYx9"
      }
    },
    {
      "cell_type": "code",
      "source": [
        "def main():\n",
        "    x = [0, 1, 2, 3, 4, 5, 6, 7, 8, 9]\n",
        "    print(x)\n",
        "    for _ in range(10):\n",
        "        item = x.pop(0)\n",
        "        print(item, x)\n",
        "\n",
        "if __name__ == \"__main__\":\n",
        "    main()"
      ],
      "metadata": {
        "id": "P1noh6ZDeYx9"
      },
      "execution_count": null,
      "outputs": []
    },
    {
      "cell_type": "markdown",
      "source": [
        "#####***Remove List Members based on Index : Built-in Function - del***"
      ],
      "metadata": {
        "id": "Phtv4WimKt1X"
      }
    },
    {
      "cell_type": "code",
      "source": [
        "def main():\n",
        "    a = [1,2,3,1,2,3] \n",
        "    print(a)\n",
        "\n",
        "    del a[1]\n",
        "    print(a)\n",
        "\n",
        "    del a[1]\n",
        "    print(a)\n",
        "\n",
        "if __name__ == \"__main__\":\n",
        "    main()"
      ],
      "metadata": {
        "colab": {
          "base_uri": "https://localhost:8080/"
        },
        "outputId": "7eeb803d-fd1e-4a5c-ea73-94848d4df244",
        "id": "jW862wCcb5q_"
      },
      "execution_count": null,
      "outputs": [
        {
          "output_type": "stream",
          "name": "stdout",
          "text": [
            "[1, 2, 3, 1, 2, 3]\n",
            "[1, 3, 1, 2, 3]\n",
            "[1, 1, 2, 3]\n"
          ]
        }
      ]
    },
    {
      "cell_type": "code",
      "source": [
        "def main():\n",
        "    a = [1,2,3,1,2,3] \n",
        "    print(a)\n",
        "\n",
        "    del a[-3:] \n",
        "    print(a)\n",
        "\n",
        "if __name__ == \"__main__\":\n",
        "    main()"
      ],
      "metadata": {
        "colab": {
          "base_uri": "https://localhost:8080/"
        },
        "outputId": "75273836-5d9a-405c-f67e-e01bddd818d6",
        "id": "PVBOL7s7b50Q"
      },
      "execution_count": null,
      "outputs": [
        {
          "output_type": "stream",
          "name": "stdout",
          "text": [
            "[1, 2, 3, 1, 2, 3]\n",
            "[1, 2, 3]\n"
          ]
        }
      ]
    },
    {
      "cell_type": "code",
      "source": [
        "def main():\n",
        "    a = [1,2,3,1,2,3] \n",
        "    print(a)\n",
        "\n",
        "    del a[:] \n",
        "    print(a)\n",
        "\n",
        "if __name__ == \"__main__\":\n",
        "    main()"
      ],
      "metadata": {
        "colab": {
          "base_uri": "https://localhost:8080/"
        },
        "id": "qf6YbLJXKuJ1",
        "outputId": "6714a454-0092-4d62-a1e1-0eaf2a4fde2e"
      },
      "execution_count": null,
      "outputs": [
        {
          "output_type": "stream",
          "name": "stdout",
          "text": [
            "[1, 2, 3, 1, 2, 3]\n",
            "[]\n"
          ]
        }
      ]
    },
    {
      "cell_type": "markdown",
      "source": [
        "####***Section 9 List as Dynamic Array [eng](https://www.youtube.com/watch?v=0Om2gYU6clE)***"
      ],
      "metadata": {
        "id": "QeujAIz-a5ng"
      }
    },
    {
      "cell_type": "code",
      "source": [
        "import time\n",
        "\n",
        "def main():\n",
        "    record_time = []\n",
        "    temp = []\n",
        "    for i in range(100000):\n",
        "        tic = time.time()\n",
        "        temp.append(i)\n",
        "        toc = time.time()\n",
        "        record_time.append(toc-tic)\n",
        "\n",
        "    plt.plot(record_time)\n",
        "    plt.show()\n",
        "\n",
        "if __name__ == \"__main__\":\n",
        "    main()"
      ],
      "metadata": {
        "colab": {
          "base_uri": "https://localhost:8080/",
          "height": 265
        },
        "id": "bstSk8sla6Mv",
        "outputId": "42e39474-85d1-44f9-def8-c6f8dd778fef"
      },
      "execution_count": null,
      "outputs": [
        {
          "output_type": "display_data",
          "data": {
            "text/plain": [
              "<Figure size 432x288 with 1 Axes>"
            ],
            "image/png": "[encoded data removed]"
          },
          "metadata": {
            "needs_background": "light"
          }
        }
      ]
    },
    {
      "cell_type": "markdown",
      "source": [
        "\n",
        "####***Section 10 List View vs Copy***"
      ],
      "metadata": {
        "id": "noGeW1kXevGT"
      }
    },
    {
      "cell_type": "markdown",
      "source": [
        "#####***View***"
      ],
      "metadata": {
        "id": "I3AOaEj7F1hR"
      }
    },
    {
      "cell_type": "code",
      "source": [
        "def main():\n",
        "    a = [0,1,2,3,4,5,6,7,8,9]\n",
        "    b = a # view\n",
        "    a[0] = 'zero'\n",
        "    print(f\"{a = }\")\n",
        "    print(f\"{b = }\")\n",
        "    \n",
        "if __name__ == \"__main__\":\n",
        "    main()"
      ],
      "metadata": {
        "colab": {
          "base_uri": "https://localhost:8080/"
        },
        "id": "BQd1EVBPevRq",
        "outputId": "52fde185-d594-44ca-be57-b86aa02423e4"
      },
      "execution_count": null,
      "outputs": [
        {
          "output_type": "stream",
          "name": "stdout",
          "text": [
            "a = ['zero', 1, 2, 3, 4, 5, 6, 7, 8, 9]\n",
            "b = ['zero', 1, 2, 3, 4, 5, 6, 7, 8, 9]\n"
          ]
        }
      ]
    },
    {
      "cell_type": "markdown",
      "source": [
        "#####***(Shallow) Copy***"
      ],
      "metadata": {
        "id": "C50oDoDZF7fG"
      }
    },
    {
      "cell_type": "code",
      "source": [
        "def main():\n",
        "    a = [0,1,2,3,4,5,6,7,8,9]\n",
        "    b = a.copy() # (shallow) copy\n",
        "    a[0] = 'zero'\n",
        "    print(f\"{a = }\")\n",
        "    print(f\"{b = }\")\n",
        "    \n",
        "if __name__ == \"__main__\":\n",
        "    main()"
      ],
      "metadata": {
        "colab": {
          "base_uri": "https://localhost:8080/"
        },
        "outputId": "9c6634a5-ac8b-4b5b-96df-ecf3863eb87b",
        "id": "JV9ZN7SCF7fH"
      },
      "execution_count": null,
      "outputs": [
        {
          "output_type": "stream",
          "name": "stdout",
          "text": [
            "a = ['zero', 1, 2, 3, 4, 5, 6, 7, 8, 9]\n",
            "b = [0, 1, 2, 3, 4, 5, 6, 7, 8, 9]\n"
          ]
        }
      ]
    },
    {
      "cell_type": "markdown",
      "source": [
        "#####***List Slicing returns (Shallow) Copy***"
      ],
      "metadata": {
        "id": "c3QqDAAyF7pr"
      }
    },
    {
      "cell_type": "code",
      "source": [
        "def main():\n",
        "    a = [0,1,2,3,4,5,6,7,8,9]\n",
        "    b = a[:] # (shallow) copy\n",
        "    a[0] = 'zero'\n",
        "    print(f\"{a = }\")\n",
        "    print(f\"{b = }\")\n",
        "    \n",
        "if __name__ == \"__main__\":\n",
        "    main()"
      ],
      "metadata": {
        "colab": {
          "base_uri": "https://localhost:8080/"
        },
        "outputId": "e3f80f5f-c43c-4e38-b650-d80c32e7ec84",
        "id": "cseCyGubF7pr"
      },
      "execution_count": null,
      "outputs": [
        {
          "output_type": "stream",
          "name": "stdout",
          "text": [
            "a = ['zero', 1, 2, 3, 4, 5, 6, 7, 8, 9]\n",
            "b = [0, 1, 2, 3, 4, 5, 6, 7, 8, 9]\n"
          ]
        }
      ]
    },
    {
      "cell_type": "markdown",
      "source": [
        "#####***Shallow Copy vs Deep Copy***"
      ],
      "metadata": {
        "id": "I3bitqr4HZq9"
      }
    },
    {
      "cell_type": "code",
      "source": [
        "from copy import deepcopy\n",
        "\n",
        "def main():\n",
        "    a = [[1,2,3],[4,5,6]]\n",
        "    b = a           # view\n",
        "    c = a.copy()    # shallow copy\n",
        "    d = a[:]        # shallow copy\n",
        "    e = deepcopy(a) # deep copy\n",
        "\n",
        "    a[0] = 'one'\n",
        "    print(f\"{a = }\")\n",
        "    print(f\"{b = }\")\n",
        "    print(f\"{c = }\")\n",
        "    print(f\"{d = }\")\n",
        "    print(f\"{e = }\")\n",
        "    \n",
        "if __name__ == \"__main__\":\n",
        "    main()"
      ],
      "metadata": {
        "colab": {
          "base_uri": "https://localhost:8080/"
        },
        "id": "GeZrGBPdHZ1c",
        "outputId": "3e333b71-6d82-4c73-c42e-8853be17d4aa"
      },
      "execution_count": null,
      "outputs": [
        {
          "output_type": "stream",
          "name": "stdout",
          "text": [
            "a = ['one', [4, 5, 6]]\n",
            "b = ['one', [4, 5, 6]]\n",
            "c = [[1, 2, 3], [4, 5, 6]]\n",
            "d = [[1, 2, 3], [4, 5, 6]]\n",
            "e = [[1, 2, 3], [4, 5, 6]]\n"
          ]
        }
      ]
    },
    {
      "cell_type": "code",
      "source": [
        "from copy import deepcopy\n",
        "\n",
        "def main():\n",
        "    a = [[1,2,3],[4,5,6]]\n",
        "    b = a           # view\n",
        "    c = a.copy()    # shallow copy\n",
        "    d = a[:]        # shallow copy\n",
        "    e = deepcopy(a) # deep copy\n",
        "\n",
        "    a[0][0] = 'one'\n",
        "    print(f\"{a = }\")\n",
        "    print(f\"{b = }\")\n",
        "    print(f\"{c = }\")\n",
        "    print(f\"{d = }\")\n",
        "    print(f\"{e = }\")\n",
        "    \n",
        "if __name__ == \"__main__\":\n",
        "    main()"
      ],
      "metadata": {
        "colab": {
          "base_uri": "https://localhost:8080/"
        },
        "id": "fQVehiptIOn6",
        "outputId": "bd08f4a8-7628-4bdf-f842-afd848fdbfa8"
      },
      "execution_count": null,
      "outputs": [
        {
          "output_type": "stream",
          "name": "stdout",
          "text": [
            "a = [['one', 2, 3], [4, 5, 6]]\n",
            "b = [['one', 2, 3], [4, 5, 6]]\n",
            "c = [['one', 2, 3], [4, 5, 6]]\n",
            "d = [['one', 2, 3], [4, 5, 6]]\n",
            "e = [[1, 2, 3], [4, 5, 6]]\n"
          ]
        }
      ]
    },
    {
      "cell_type": "markdown",
      "source": [
        "####***Section 11 Built-in Functions for List***"
      ],
      "metadata": {
        "id": "8f_P26b2P6go"
      }
    },
    {
      "cell_type": "code",
      "source": [
        "def main():\n",
        "    a = [0,1,2,-1]\n",
        "\n",
        "    print(f\"{len(a) = }\")\n",
        "    print(f\"{max(a) = }\")\n",
        "    print(f\"{min(a) = }\")\n",
        "    print(f\"{sum(a) = }\")\n",
        "    \n",
        "if __name__ == \"__main__\":\n",
        "    main()"
      ],
      "metadata": {
        "colab": {
          "base_uri": "https://localhost:8080/"
        },
        "outputId": "7d95bda0-b7f6-40c8-a25c-bc0aa37b28aa",
        "id": "9S7uomKsP6gp"
      },
      "execution_count": null,
      "outputs": [
        {
          "output_type": "stream",
          "name": "stdout",
          "text": [
            "len(a) = 4\n",
            "max(a) = 2\n",
            "min(a) = -1\n",
            "sum(a) = 2\n"
          ]
        }
      ]
    },
    {
      "cell_type": "markdown",
      "source": [
        "####***Section 12 Performance Test***"
      ],
      "metadata": {
        "id": "ApxZ_G733laS"
      }
    },
    {
      "cell_type": "markdown",
      "source": [
        "#####***Computing Time***"
      ],
      "metadata": {
        "id": "freHbFGA3lz4"
      }
    },
    {
      "cell_type": "code",
      "source": [
        "def measure_computing_time(func):\n",
        "    import time\n",
        "    tic = time.time()\n",
        "    def inner_function(*args,**kwargs):\n",
        "        return func(*args,**kwargs)\n",
        "    toc = time.time()\n",
        "    print(f\"{func.__name__} Computing Time : {toc-tic}\")\n",
        "    return inner_function\n",
        "\n",
        "@measure_computing_time\n",
        "def for_loop(lst):\n",
        "    out = []\n",
        "    for i in lst:\n",
        "        out.append(i*2)\n",
        "    return out\n",
        "\n",
        "@measure_computing_time\n",
        "def list_comprehension(lst):\n",
        "    return [i*2 for i in lst]\n",
        "\n",
        "@measure_computing_time\n",
        "def np_method(np_array):\n",
        "    return np_array*2\n",
        "\n",
        "def main():\n",
        "    a = list(range(1_000_000))\n",
        "    a_np = np.array(a)\n",
        "\n",
        "    for_loop(a)\n",
        "    list_comprehension(a)\n",
        "    np_method(a)\n",
        "\n",
        "if __name__ == \"__main__\":\n",
        "    main()"
      ],
      "metadata": {
        "colab": {
          "base_uri": "https://localhost:8080/"
        },
        "id": "EITeoCuJ3JP-",
        "outputId": "f8a38f60-dc21-48b1-b75d-6abe6ecafcd4"
      },
      "execution_count": null,
      "outputs": [
        {
          "output_type": "stream",
          "name": "stdout",
          "text": [
            "for_loop Computing Time : 4.76837158203125e-07\n",
            "list_comprehension Computing Time : 9.5367431640625e-07\n",
            "np_method Computing Time : 7.152557373046875e-07\n"
          ]
        }
      ]
    },
    {
      "cell_type": "markdown",
      "source": [
        "#####***Memory Usage***"
      ],
      "metadata": {
        "id": "UbGy2YA466Yh"
      }
    },
    {
      "cell_type": "markdown",
      "source": [
        "Peak memory refers to the peak memory usage of your system (including memory usage of other processes) during the program runtime.\n",
        "\n",
        "Increment is the increment in memory usage relative to the memory usage just before the program is run (i.e. increment = peak memory - starting memory).\n",
        "\n",
        "So you'd report increment. Peak memory just helps you figure how close you are to using all your RAM during a program run.\n",
        "\n",
        "[stackoverflow](https://stackoverflow.com/questions/45318536/trying-to-understand-python-memory-profiler)"
      ],
      "metadata": {
        "id": "haeFvMVd66Yi"
      }
    },
    {
      "cell_type": "code",
      "source": [
        "# install memory_profiler\n",
        "!pip install memory_profiler\n",
        "\n",
        "def for_loop(lst):\n",
        "    out = []\n",
        "    for i in lst:\n",
        "        out.append(i*2)\n",
        "    return out\n",
        "\n",
        "def list_comprehension(lst):\n",
        "    return [i*2 for i in lst]\n",
        "\n",
        "def np_method(np_array):\n",
        "    return np_array*2\n",
        "\n",
        "def main():\n",
        "    a = list(range(1000000))\n",
        "    a_np = np.array(a)\n",
        "\n",
        "    # load memory_profiler\n",
        "    %load_ext memory_profiler \n",
        "\n",
        "    # measure memory usage using memory_profiler\n",
        "    %memit for_loop(a)\n",
        "    %memit list_comprehension(a)\n",
        "    %memit np_method(a)\n",
        "\n",
        "if __name__ == \"__main__\":\n",
        "    main()"
      ],
      "metadata": {
        "colab": {
          "base_uri": "https://localhost:8080/"
        },
        "outputId": "bac18ab6-a6ae-4fe8-cd84-a00a9fcd3f5a",
        "id": "SI36TabV66Yi"
      },
      "execution_count": null,
      "outputs": [
        {
          "output_type": "stream",
          "name": "stdout",
          "text": [
            "Looking in indexes: https://pypi.org/simple, https://us-python.pkg.dev/colab-wheels/public/simple/\n",
            "Requirement already satisfied: memory_profiler in /usr/local/lib/python3.9/dist-packages (0.61.0)\n",
            "Requirement already satisfied: psutil in /usr/local/lib/python3.9/dist-packages (from memory_profiler) (5.9.5)\n",
            "The memory_profiler extension is already loaded. To reload it, use:\n",
            "  %reload_ext memory_profiler\n",
            "peak memory: 378.23 MiB, increment: 34.32 MiB\n",
            "peak memory: 369.74 MiB, increment: 17.89 MiB\n",
            "peak memory: 353.14 MiB, increment: 0.79 MiB\n"
          ]
        }
      ]
    },
    {
      "cell_type": "markdown",
      "source": [
        "###***Chapter 14 Linked List [eng](https://www.youtube.com/watch?v=Ast5sKQXxEU)***"
      ],
      "metadata": {
        "id": "CD7reVjJQDOE"
      }
    },
    {
      "cell_type": "code",
      "source": [
        "class Node:\n",
        "    \n",
        "    def __init__(self, data, next_node=None):\n",
        "        self.data = data\n",
        "        self.next_node = next_node\n",
        "        \n",
        "    def get_data(self):\n",
        "        return self.data\n",
        "    \n",
        "    def set_data(self, data):\n",
        "        self.data = data\n",
        "        \n",
        "    def get_next(self):\n",
        "        return self.next_node\n",
        "    \n",
        "    def set_next(self, next_node):\n",
        "        self.next_node = next_node        \n",
        "\n",
        "        \n",
        "        \n",
        "class LinkedList:\n",
        "    \n",
        "    def __init__(self, root=None):\n",
        "        self.root = root\n",
        "        self.size = 0\n",
        "        \n",
        "    def get_size(self):\n",
        "        return self.size\n",
        "    \n",
        "    def add(self, data):\n",
        "        new_node = Node(data, next_node=self.root)\n",
        "        self.root = new_node\n",
        "        self.size += 1\n",
        "        \n",
        "    def remove(self, data):\n",
        "        previous_node = None\n",
        "        current_node = self.root\n",
        "        while current_node: # while loop breaks if current_node reaches end of the linked list\n",
        "            if current_node.get_data() == data: \n",
        "                if previous_node: \n",
        "                    previous_node.set_next(current_node.get_next()) \n",
        "                else: \n",
        "                    self.root = current_node.get_next() \n",
        "                self.size -= 1 \n",
        "                return True # data found and remove\n",
        "            else: \n",
        "                previous_node = current_node \n",
        "                current_node = current_node.get_next()    \n",
        "        return False # data not found\n",
        "    \n",
        "    def find(self, data):\n",
        "        current_node = self.root\n",
        "        while current_node: # while loop breaks if current_node reaches end of the linked list\n",
        "            if current_node.get_data() == data: \n",
        "                return data # data found \n",
        "            else: \n",
        "                current_node = current_node.get_next()    \n",
        "        return None # data not found\n",
        "\n",
        "    \n",
        "def main():\n",
        "    my_linked_list = LinkedList()\n",
        "    my_linked_list.add(5)\n",
        "    my_linked_list.add(8)\n",
        "    my_linked_list.add(12)\n",
        "    my_linked_list.remove(8)\n",
        "    print(my_linked_list.remove(12)) # True meaning 12 is successfully removed\n",
        "    print(my_linked_list.find(5)) # 5 meaning 5 is found\n",
        "    \n",
        "    \n",
        "if __name__ == \"__main__\":\n",
        "    main()"
      ],
      "metadata": {
        "id": "QVmC_WPBQN9z"
      },
      "execution_count": null,
      "outputs": []
    },
    {
      "cell_type": "markdown",
      "source": [
        "###***Chapter 15 Tuple***"
      ],
      "metadata": {
        "id": "LV_UXtC8c1ZO"
      }
    },
    {
      "cell_type": "markdown",
      "source": [
        "####***Section 1 Tuple Construction***"
      ],
      "metadata": {
        "id": "2rnjDYGx9lwK"
      }
    },
    {
      "cell_type": "markdown",
      "source": [
        "#####***Explicit Construction***"
      ],
      "metadata": {
        "id": "tQvcDdVt9lwL"
      }
    },
    {
      "cell_type": "markdown",
      "source": [
        "Explicit constructions of tuples are same as those of lists."
      ],
      "metadata": {
        "id": "BqNClur09lwL"
      }
    },
    {
      "cell_type": "markdown",
      "source": [
        "#####***Empty Tuple***"
      ],
      "metadata": {
        "id": "B9tn3jPO9lwM"
      }
    },
    {
      "cell_type": "code",
      "source": [
        "def main():\n",
        "    # empty tuple\n",
        "    a = tuple()\n",
        "    print(a, type(a), len(a), sep='\\n')\n",
        "\n",
        "if __name__ == \"__main__\":\n",
        "    main()"
      ],
      "metadata": {
        "colab": {
          "base_uri": "https://localhost:8080/"
        },
        "outputId": "337a2c5d-2874-45cd-d807-25226ecfaff0",
        "id": "HVi2RtFy9lwM"
      },
      "execution_count": null,
      "outputs": [
        {
          "output_type": "stream",
          "name": "stdout",
          "text": [
            "()\n",
            "<class 'tuple'>\n",
            "0\n"
          ]
        }
      ]
    },
    {
      "cell_type": "markdown",
      "source": [
        "#####***String to Tuple***"
      ],
      "metadata": {
        "id": "Hh10Y4419lwM"
      }
    },
    {
      "cell_type": "code",
      "source": [
        "def main():\n",
        "    a = tuple(\"Hello World\")\n",
        "    print(a, type(a), len(a), sep='\\n')\n",
        "\n",
        "if __name__ == \"__main__\":\n",
        "    main()"
      ],
      "metadata": {
        "colab": {
          "base_uri": "https://localhost:8080/"
        },
        "id": "H6oIqIkL9lwM",
        "outputId": "854ec0e1-9438-45b7-dea8-54b52962e7f1"
      },
      "execution_count": null,
      "outputs": [
        {
          "output_type": "stream",
          "name": "stdout",
          "text": [
            "('H', 'e', 'l', 'l', 'o', ' ', 'W', 'o', 'r', 'l', 'd')\n",
            "<class 'tuple'>\n",
            "11\n"
          ]
        }
      ]
    },
    {
      "cell_type": "markdown",
      "source": [
        "#####***List to Tuple***"
      ],
      "metadata": {
        "id": "DRizSOlh9lwN"
      }
    },
    {
      "cell_type": "code",
      "source": [
        "def main():\n",
        "    temp = [1,2,3,4,5]\n",
        "    a = tuple(temp)\n",
        "    print(a, type(a), len(a), sep='\\n')\n",
        "\n",
        "if __name__ == \"__main__\":\n",
        "    main()"
      ],
      "metadata": {
        "colab": {
          "base_uri": "https://localhost:8080/"
        },
        "id": "0cwYBlsC9lwN",
        "outputId": "52a99336-0220-48c5-a4d9-e4f1c3f77710"
      },
      "execution_count": null,
      "outputs": [
        {
          "output_type": "stream",
          "name": "stdout",
          "text": [
            "(1, 2, 3, 4, 5)\n",
            "<class 'tuple'>\n",
            "5\n"
          ]
        }
      ]
    },
    {
      "cell_type": "markdown",
      "source": [
        "#####***Tuple with Single Item***"
      ],
      "metadata": {
        "id": "ZyuI11kg-tIe"
      }
    },
    {
      "cell_type": "code",
      "source": [
        "def main():\n",
        "    a = ('one')\n",
        "    print(a, type(a), len(a), sep='\\n')\n",
        "\n",
        "if __name__ == \"__main__\":\n",
        "    main()"
      ],
      "metadata": {
        "colab": {
          "base_uri": "https://localhost:8080/"
        },
        "id": "WTMaR30V-6ty",
        "outputId": "017f29e3-8145-4dc4-98cc-a65434653922"
      },
      "execution_count": null,
      "outputs": [
        {
          "output_type": "stream",
          "name": "stdout",
          "text": [
            "one\n",
            "<class 'str'>\n",
            "3\n"
          ]
        }
      ]
    },
    {
      "cell_type": "code",
      "source": [
        "def main():\n",
        "    a = ('one',)\n",
        "    print(a, type(a), len(a), sep='\\n')\n",
        "\n",
        "if __name__ == \"__main__\":\n",
        "    main()"
      ],
      "metadata": {
        "colab": {
          "base_uri": "https://localhost:8080/"
        },
        "outputId": "5ad2ccb7-faa8-4f2d-c494-f1295b03ebaf",
        "id": "_q8bI_mr-tIf"
      },
      "execution_count": null,
      "outputs": [
        {
          "output_type": "stream",
          "name": "stdout",
          "text": [
            "('one',)\n",
            "<class 'tuple'>\n",
            "1\n"
          ]
        }
      ]
    },
    {
      "cell_type": "code",
      "source": [
        "def main():\n",
        "    a = 'one',\n",
        "    print(a, type(a), len(a), sep='\\n')\n",
        "\n",
        "if __name__ == \"__main__\":\n",
        "    main()"
      ],
      "metadata": {
        "colab": {
          "base_uri": "https://localhost:8080/"
        },
        "id": "n3DnShBl_MJa",
        "outputId": "b21d5a6a-8675-44ef-866d-bd6d671a1d36"
      },
      "execution_count": null,
      "outputs": [
        {
          "output_type": "stream",
          "name": "stdout",
          "text": [
            "('one',)\n",
            "<class 'tuple'>\n",
            "1\n"
          ]
        }
      ]
    },
    {
      "cell_type": "markdown",
      "source": [
        "#####***Tuple Packing***"
      ],
      "metadata": {
        "id": "tXqL8-c6_e8G"
      }
    },
    {
      "cell_type": "code",
      "source": [
        "def main():\n",
        "    a = 1, 2, 3\n",
        "    print(a, type(a), len(a), sep='\\n')\n",
        "\n",
        "if __name__ == \"__main__\":\n",
        "    main()"
      ],
      "metadata": {
        "colab": {
          "base_uri": "https://localhost:8080/"
        },
        "outputId": "62e75339-7b55-482a-fd4a-afe47861ee0f",
        "id": "9rgW4040_e8H"
      },
      "execution_count": null,
      "outputs": [
        {
          "output_type": "stream",
          "name": "stdout",
          "text": [
            "(1, 2, 3)\n",
            "<class 'tuple'>\n",
            "3\n"
          ]
        }
      ]
    },
    {
      "cell_type": "code",
      "source": [
        "def main():\n",
        "    a = 1, 2, 3,\n",
        "    print(a, type(a), len(a), sep='\\n')\n",
        "\n",
        "if __name__ == \"__main__\":\n",
        "    main()"
      ],
      "metadata": {
        "colab": {
          "base_uri": "https://localhost:8080/"
        },
        "id": "Syy9MoNwAA79",
        "outputId": "687bdbe4-12fd-47f9-c644-f8bbed985968"
      },
      "execution_count": null,
      "outputs": [
        {
          "output_type": "stream",
          "name": "stdout",
          "text": [
            "(1, 2, 3)\n",
            "<class 'tuple'>\n",
            "3\n"
          ]
        }
      ]
    },
    {
      "cell_type": "code",
      "source": [
        "def main():\n",
        "    a = 1, 2\n",
        "    print(a, type(a), len(a), sep='\\n')\n",
        "\n",
        "if __name__ == \"__main__\":\n",
        "    main()"
      ],
      "metadata": {
        "colab": {
          "base_uri": "https://localhost:8080/"
        },
        "outputId": "260d85be-7deb-48f0-ad36-9b4a44231be5",
        "id": "yJ8rX8eQ_e8H"
      },
      "execution_count": null,
      "outputs": [
        {
          "output_type": "stream",
          "name": "stdout",
          "text": [
            "(1, 2)\n",
            "<class 'tuple'>\n",
            "2\n"
          ]
        }
      ]
    },
    {
      "cell_type": "code",
      "source": [
        "def main():\n",
        "    a = 1, 2,\n",
        "    print(a, type(a), len(a), sep='\\n')\n",
        "\n",
        "if __name__ == \"__main__\":\n",
        "    main()"
      ],
      "metadata": {
        "colab": {
          "base_uri": "https://localhost:8080/"
        },
        "id": "z6yXmWBUAEU3",
        "outputId": "6aea32db-b50b-496e-aa38-6d06b1ab8f90"
      },
      "execution_count": null,
      "outputs": [
        {
          "output_type": "stream",
          "name": "stdout",
          "text": [
            "(1, 2)\n",
            "<class 'tuple'>\n",
            "2\n"
          ]
        }
      ]
    },
    {
      "cell_type": "code",
      "source": [
        "def main():\n",
        "    a = 1\n",
        "    print(a, type(a), sep='\\n')\n",
        "\n",
        "if __name__ == \"__main__\":\n",
        "    main()"
      ],
      "metadata": {
        "colab": {
          "base_uri": "https://localhost:8080/"
        },
        "outputId": "0f6f3017-098e-4cc0-a587-0b4c23e0bb17",
        "id": "NEvou8-R_e8H"
      },
      "execution_count": null,
      "outputs": [
        {
          "output_type": "stream",
          "name": "stdout",
          "text": [
            "1\n",
            "<class 'int'>\n"
          ]
        }
      ]
    },
    {
      "cell_type": "code",
      "source": [
        "def main():\n",
        "    a = 1,\n",
        "    print(a, type(a), len(a), sep='\\n')\n",
        "\n",
        "if __name__ == \"__main__\":\n",
        "    main()"
      ],
      "metadata": {
        "colab": {
          "base_uri": "https://localhost:8080/"
        },
        "id": "Ruo9DG7X_qrx",
        "outputId": "fa352225-e0b5-43df-81c3-c37a4d8b6377"
      },
      "execution_count": null,
      "outputs": [
        {
          "output_type": "stream",
          "name": "stdout",
          "text": [
            "(1,)\n",
            "<class 'tuple'>\n",
            "1\n"
          ]
        }
      ]
    },
    {
      "cell_type": "code",
      "source": [
        "def main():\n",
        "    a = (1)\n",
        "    print(a, type(a), sep='\\n')\n",
        "\n",
        "if __name__ == \"__main__\":\n",
        "    main()"
      ],
      "metadata": {
        "colab": {
          "base_uri": "https://localhost:8080/"
        },
        "id": "ac_4fO-m_t_o",
        "outputId": "2ccc6e7d-d8d1-40f2-dfb0-358d741dd81c"
      },
      "execution_count": null,
      "outputs": [
        {
          "output_type": "stream",
          "name": "stdout",
          "text": [
            "1\n",
            "<class 'int'>\n"
          ]
        }
      ]
    },
    {
      "cell_type": "code",
      "source": [
        "def main():\n",
        "    a = (1,)\n",
        "    print(a, type(a), len(a), sep='\\n')\n",
        "\n",
        "if __name__ == \"__main__\":\n",
        "    main()"
      ],
      "metadata": {
        "colab": {
          "base_uri": "https://localhost:8080/"
        },
        "id": "RZq0cpSh_t2U",
        "outputId": "625e9b32-7114-4e7d-f567-36d46e2841ae"
      },
      "execution_count": null,
      "outputs": [
        {
          "output_type": "stream",
          "name": "stdout",
          "text": [
            "(1,)\n",
            "<class 'tuple'>\n",
            "1\n"
          ]
        }
      ]
    },
    {
      "cell_type": "markdown",
      "source": [
        "####***Section 2 Tuple Indexing and Slicing***"
      ],
      "metadata": {
        "id": "hzH1RyBR9E-R"
      }
    },
    {
      "cell_type": "markdown",
      "source": [
        "Tuple indexing and slicing are same to those of list."
      ],
      "metadata": {
        "id": "l3bcInPT9NNG"
      }
    },
    {
      "cell_type": "markdown",
      "source": [
        "####***Section 3 Tuple is Immutable***"
      ],
      "metadata": {
        "id": "0-F1FfhJBLF5"
      }
    },
    {
      "cell_type": "code",
      "source": [
        "# tuple is immutable\n",
        "def main():\n",
        "    t = (1,2,3)\n",
        "    try:\n",
        "        t[0] = 'one'\n",
        "    except TypeError as e:\n",
        "        print(e)\n",
        "\n",
        "if __name__ == \"__main__\":\n",
        "    main()    "
      ],
      "metadata": {
        "colab": {
          "base_uri": "https://localhost:8080/"
        },
        "id": "eZW9-UFHBRqu",
        "outputId": "8734a80d-8a4f-4392-e4f4-9655916706f1"
      },
      "execution_count": 47,
      "outputs": [
        {
          "output_type": "stream",
          "name": "stdout",
          "text": [
            "'tuple' object does not support item assignment\n"
          ]
        }
      ]
    },
    {
      "cell_type": "code",
      "source": [
        "# list is mutable\n",
        "def main():\n",
        "    t = (1,2,[3,4,5])\n",
        "    t[2].append(6)\n",
        "    print(t)\n",
        "\n",
        "if __name__ == \"__main__\":\n",
        "    main() "
      ],
      "metadata": {
        "colab": {
          "base_uri": "https://localhost:8080/"
        },
        "id": "CVG7vauQBz3U",
        "outputId": "0a6f3adc-66ec-47b9-f15a-9972dd53fcd3"
      },
      "execution_count": 48,
      "outputs": [
        {
          "output_type": "stream",
          "name": "stdout",
          "text": [
            "(1, 2, [3, 4, 5, 6])\n"
          ]
        }
      ]
    },
    {
      "cell_type": "markdown",
      "source": [
        "###***Chapter 16 Named Tuple [eng](https://www.youtube.com/watch?v=GfxJYp9_nJA&index=31&list=PL-osiE80TeTt2d9bfVyTiXJA-UTHn6WwU)***"
      ],
      "metadata": {
        "id": "a8SY38dcQc_T"
      }
    },
    {
      "cell_type": "markdown",
      "source": [
        "####***Section 1 Named Tuple works like Tuple***"
      ],
      "metadata": {
        "id": "nvORZornQm4L"
      }
    },
    {
      "cell_type": "code",
      "source": [
        "from collections import namedtuple\n",
        "\n",
        "def main():\n",
        "    Scientist = namedtuple('Scientist',['name','field','born','nobel'])\n",
        "    s = Scientist(name='Marie Curie',field='physics',born=1867,nobel=True)\n",
        "    print(s[0])\n",
        "    print(s[1])\n",
        "    print(s[2])\n",
        "    print(s[3])\n",
        "\n",
        "if __name__ == \"__main__\":\n",
        "    main()"
      ],
      "metadata": {
        "colab": {
          "base_uri": "https://localhost:8080/"
        },
        "id": "tNg2C-xHQrtD",
        "outputId": "5c402450-f0d2-4a8c-bedb-27413ba5c54f"
      },
      "execution_count": 1,
      "outputs": [
        {
          "output_type": "stream",
          "name": "stdout",
          "text": [
            "Marie Curie\n",
            "physics\n",
            "1867\n",
            "True\n"
          ]
        }
      ]
    },
    {
      "cell_type": "markdown",
      "source": [
        "####***Section 2 Named Tuple works like Class***"
      ],
      "metadata": {
        "id": "E2-MT5raR5pT"
      }
    },
    {
      "cell_type": "code",
      "source": [
        "class Scientist:\n",
        "    def __init__(self, name, field, born, nobel):\n",
        "        self.name = name\n",
        "        self.field = field\n",
        "        self.born = born\n",
        "        self.nobel = nobel\n",
        "\n",
        "def main():\n",
        "    s = Scientist(name='Marie Curie',field='physics',born=1867,nobel=True)\n",
        "    print(s.name)\n",
        "    print(s.field)\n",
        "    print(s.born)\n",
        "    print(s.nobel)\n",
        "\n",
        "if __name__ == \"__main__\":\n",
        "    main()"
      ],
      "metadata": {
        "colab": {
          "base_uri": "https://localhost:8080/"
        },
        "id": "NXsksQ_MSygD",
        "outputId": "1cbe4f48-1ace-4519-c9c8-a55fd566a252"
      },
      "execution_count": 5,
      "outputs": [
        {
          "output_type": "stream",
          "name": "stdout",
          "text": [
            "Marie Curie\n",
            "physics\n",
            "1867\n",
            "True\n"
          ]
        }
      ]
    },
    {
      "cell_type": "code",
      "source": [
        "from collections import namedtuple\n",
        "\n",
        "def main():\n",
        "    Scientist = namedtuple('Scientist',['name','field','born','nobel'])\n",
        "    s = Scientist(name='Marie Curie',field='physics',born=1867,nobel=True)\n",
        "    print(s.name)\n",
        "    print(s.field)\n",
        "    print(s.born)\n",
        "    print(s.nobel)\n",
        "\n",
        "if __name__ == \"__main__\":\n",
        "    main()"
      ],
      "metadata": {
        "colab": {
          "base_uri": "https://localhost:8080/"
        },
        "outputId": "3721402e-0547-4622-c2f9-602af205edc1",
        "id": "8imRxIwiR5pU"
      },
      "execution_count": 6,
      "outputs": [
        {
          "output_type": "stream",
          "name": "stdout",
          "text": [
            "Marie Curie\n",
            "physics\n",
            "1867\n",
            "True\n"
          ]
        }
      ]
    },
    {
      "cell_type": "markdown",
      "source": [
        "####***Section 3 Named Tuple is Immutable like Tuple***"
      ],
      "metadata": {
        "id": "Nmh8OYnTTXgc"
      }
    },
    {
      "cell_type": "code",
      "source": [
        "class Scientist:\n",
        "    def __init__(self, name, field, born, nobel):\n",
        "        self.name = name\n",
        "        self.field = field\n",
        "        self.born = born\n",
        "        self.nobel = nobel\n",
        "\n",
        "def main():\n",
        "    s = Scientist(name='Marie Curie',field='physics',born=1867,nobel=True)\n",
        "    s.name = 'M Curie'\n",
        "    print(s.name)\n",
        "\n",
        "if __name__ == \"__main__\":\n",
        "    main()"
      ],
      "metadata": {
        "colab": {
          "base_uri": "https://localhost:8080/"
        },
        "id": "eXHlwkbwUAmz",
        "outputId": "82d6d48e-3a43-49e0-ea1c-139f6698ac4e"
      },
      "execution_count": 9,
      "outputs": [
        {
          "output_type": "stream",
          "name": "stdout",
          "text": [
            "M Curie\n"
          ]
        }
      ]
    },
    {
      "cell_type": "code",
      "source": [
        "from collections import namedtuple\n",
        "\n",
        "def main():\n",
        "    Scientist = namedtuple('Scientist',['name','field','born','nobel'])\n",
        "    s = Scientist(name='Marie Curie',field='physics',born=1867,nobel=True)\n",
        "    try:\n",
        "        s.name = 'M Curie'\n",
        "        print(s.name)\n",
        "    except AttributeError as e:\n",
        "        print(e)\n",
        "\n",
        "if __name__ == \"__main__\":\n",
        "    main()"
      ],
      "metadata": {
        "colab": {
          "base_uri": "https://localhost:8080/"
        },
        "outputId": "2688b993-5716-4ff8-e6a3-0bea6e9708dd",
        "id": "KrY47eH4TXgd"
      },
      "execution_count": 8,
      "outputs": [
        {
          "output_type": "stream",
          "name": "stdout",
          "text": [
            "can't set attribute\n"
          ]
        }
      ]
    },
    {
      "cell_type": "markdown",
      "source": [
        "###***Chapter 17 Dictionary [eng](https://www.youtube.com/watch?v=daefaLgNkw0&index=5&list=PL-osiE80TeTt2d9bfVyTiXJA-UTHn6WwU)***"
      ],
      "metadata": {
        "id": "jhA2rEUT-OJ6"
      }
    },
    {
      "cell_type": "markdown",
      "source": [
        "####***Section 1 Dictionary Construction***"
      ],
      "metadata": {
        "id": "b3C06LZjUq1T"
      }
    },
    {
      "cell_type": "markdown",
      "source": [
        "#####***Explicit Construction of Dict***"
      ],
      "metadata": {
        "id": "jj8mSYRtAKdY"
      }
    },
    {
      "cell_type": "code",
      "source": [
        "def main():\n",
        "    x = {'pork':25, 'beef':33, 'chicken':22}\n",
        "    print(x)\n",
        "\n",
        "if __name__ == \"__main__\":\n",
        "    main()"
      ],
      "metadata": {
        "id": "RxnAYyhYAKpQ"
      },
      "execution_count": null,
      "outputs": []
    },
    {
      "cell_type": "markdown",
      "source": [
        "#####***Empty Dict***"
      ],
      "metadata": {
        "id": "KeP2atbkC8oT"
      }
    },
    {
      "cell_type": "code",
      "source": [
        "def main():\n",
        "    # empty dict\n",
        "    x = dict() \n",
        "    print(x)\n",
        "\n",
        "    # empty dict\n",
        "    x = {} \n",
        "    print(x)\n",
        "\n",
        "if __name__ == \"__main__\":\n",
        "    main()"
      ],
      "metadata": {
        "id": "S_BErR5ZC81b"
      },
      "execution_count": null,
      "outputs": []
    },
    {
      "cell_type": "markdown",
      "source": [
        "#####***Built-In Function - dict***"
      ],
      "metadata": {
        "id": "aT1SnXqbVTeP"
      }
    },
    {
      "cell_type": "code",
      "source": [
        "def main():\n",
        "    x = dict( pork = 25, beef = 33, chicken = 22)\n",
        "    print(x)\n",
        "\n",
        "if __name__ == \"__main__\":\n",
        "    main()"
      ],
      "metadata": {
        "id": "fDEImOpQVTeQ"
      },
      "execution_count": null,
      "outputs": []
    },
    {
      "cell_type": "code",
      "source": [
        "def main():\n",
        "    lst = [ ('pork', 25), ('beef', 33), ('chicken', 22) ]\n",
        "    x = dict( lst )\n",
        "    print(x)\n",
        "\n",
        "if __name__ == \"__main__\":\n",
        "    main()"
      ],
      "metadata": {
        "id": "ocTW6MUXVTeQ"
      },
      "execution_count": null,
      "outputs": []
    },
    {
      "cell_type": "markdown",
      "source": [
        "####***Section 2 Key and Value***"
      ],
      "metadata": {
        "id": "unqpSEg87GgD"
      }
    },
    {
      "cell_type": "markdown",
      "source": [
        "#####***Each Data Item in Dict consists of Key, Value Pair***"
      ],
      "metadata": {
        "id": "fN3ucba0FcWk"
      }
    },
    {
      "cell_type": "code",
      "source": [
        "def main():\n",
        "    a = {\"one\" : 1, \"two\" : 2, \"three\": 3} \n",
        "    #    key   : value\n",
        "\n",
        "if __name__ == \"__main__\":\n",
        "    main()"
      ],
      "metadata": {
        "id": "qhsFm6iM0M1R"
      },
      "execution_count": null,
      "outputs": []
    },
    {
      "cell_type": "markdown",
      "source": [
        "#####***Value is retrieved using Key***"
      ],
      "metadata": {
        "id": "mn-deMR_Fl_R"
      }
    },
    {
      "cell_type": "code",
      "source": [
        "def main():\n",
        "    a = {'pork':25.3, 'beef':33.8, 'chicken':22.7}\n",
        "    print(a['beef'])\n",
        "\n",
        "if __name__ == \"__main__\":\n",
        "    main()"
      ],
      "metadata": {
        "id": "aTDRHnXAFmNC"
      },
      "execution_count": null,
      "outputs": []
    },
    {
      "cell_type": "markdown",
      "source": [
        "\n",
        "\n",
        "####***Section 3 Dict Assignment***"
      ],
      "metadata": {
        "id": "LZBxgoLODpC4"
      }
    },
    {
      "cell_type": "markdown",
      "source": [
        "#####***Add New Member***"
      ],
      "metadata": {
        "id": "94NJtfl0DzPj"
      }
    },
    {
      "cell_type": "code",
      "source": [
        "def main():\n",
        "    x = {'pork':25, 'beef':33, 'chicken':22}\n",
        "    x['horse'] = 26\n",
        "    print(x)\n",
        "\n",
        "if __name__ == \"__main__\":\n",
        "    main()"
      ],
      "metadata": {
        "id": "y-AGb8arDzaz"
      },
      "execution_count": null,
      "outputs": []
    },
    {
      "cell_type": "markdown",
      "source": [
        "#####***Update Exisiting Member***"
      ],
      "metadata": {
        "id": "Nl-4hU4UD5p9"
      }
    },
    {
      "cell_type": "code",
      "source": [
        "def main():\n",
        "    x = {'pork':25, 'beef':33, 'chicken':22}\n",
        "    x['pork'] = 10\n",
        "    print(x)\n",
        "\n",
        "if __name__ == \"__main__\":\n",
        "    main()"
      ],
      "metadata": {
        "id": "ZThJKdziDp11"
      },
      "execution_count": null,
      "outputs": []
    },
    {
      "cell_type": "markdown",
      "source": [
        "###### key is immutable"
      ],
      "metadata": {
        "id": "82ygT8fI7k9l"
      }
    },
    {
      "cell_type": "markdown",
      "source": [
        "####***Section 4 Dict Method***"
      ],
      "metadata": {
        "id": "y8H0FSzlVtjm"
      }
    },
    {
      "cell_type": "markdown",
      "source": [
        "#####***Method - get***"
      ],
      "metadata": {
        "id": "y69oy7iuVwvE"
      }
    },
    {
      "cell_type": "code",
      "source": [
        "def main():\n",
        "    x = {'pork':25, 'beef':33, 'chicken':22}\n",
        "    try:\n",
        "        print(x['horse'])\n",
        "    except KeyError as e:\n",
        "        print(e)\n",
        "\n",
        "if __name__ == \"__main__\":\n",
        "    main()"
      ],
      "metadata": {
        "colab": {
          "base_uri": "https://localhost:8080/"
        },
        "id": "-UToVGr9Vw5M",
        "outputId": "3a9d40bb-6b70-48c4-94f9-ddaef5a19cbc"
      },
      "execution_count": 10,
      "outputs": [
        {
          "output_type": "stream",
          "name": "stdout",
          "text": [
            "'horse'\n"
          ]
        }
      ]
    },
    {
      "cell_type": "code",
      "source": [
        "def main():\n",
        "    x = {'pork':25, 'beef':33, 'chicken':22}\n",
        "    print(x.get('horse', 'Not_Avaiable'))\n",
        "\n",
        "if __name__ == \"__main__\":\n",
        "    main()"
      ],
      "metadata": {
        "colab": {
          "base_uri": "https://localhost:8080/"
        },
        "id": "qCyf5nTvWIsH",
        "outputId": "6a8f3726-d5e1-422b-c5b2-a367f01ab70b"
      },
      "execution_count": 11,
      "outputs": [
        {
          "output_type": "stream",
          "name": "stdout",
          "text": [
            "Not_Avaiable\n"
          ]
        }
      ]
    },
    {
      "cell_type": "markdown",
      "source": [
        "#####***Method - pop***"
      ],
      "metadata": {
        "id": "Hq_EZfHNXpI1"
      }
    },
    {
      "cell_type": "code",
      "source": [
        "def main():\n",
        "    x = {'pork':25.3, 'beef':33.8, 'chicken':22.7, 'horse': 33.3}\n",
        "    x.pop('horse')\n",
        "    print(x)\n",
        "\n",
        "if __name__ == \"__main__\":\n",
        "    main()"
      ],
      "metadata": {
        "colab": {
          "base_uri": "https://localhost:8080/"
        },
        "outputId": "63448c42-485e-434f-96fd-8785bc1af721",
        "id": "ifC-GsgwXpI2"
      },
      "execution_count": 12,
      "outputs": [
        {
          "output_type": "stream",
          "name": "stdout",
          "text": [
            "{'pork': 25.3, 'beef': 33.8, 'chicken': 22.7}\n"
          ]
        }
      ]
    },
    {
      "cell_type": "code",
      "source": [
        "def main():\n",
        "    x = {'pork':25.3, 'beef':33.8, 'chicken':22.7, 'horse': 33.3}\n",
        "    popped_item = x.pop('horse')\n",
        "    print(x, popped_item, sep=\"\\n\")\n",
        "\n",
        "if __name__ == \"__main__\":\n",
        "    main()"
      ],
      "metadata": {
        "colab": {
          "base_uri": "https://localhost:8080/"
        },
        "outputId": "62663703-9d21-4c7b-b69d-beea1c2886a1",
        "id": "_0SZZWVZXpI2"
      },
      "execution_count": 13,
      "outputs": [
        {
          "output_type": "stream",
          "name": "stdout",
          "text": [
            "{'pork': 25.3, 'beef': 33.8, 'chicken': 22.7}\n",
            "33.3\n"
          ]
        }
      ]
    },
    {
      "cell_type": "markdown",
      "source": [
        "#####***Method - setdefault***"
      ],
      "metadata": {
        "id": "6TUVcpxJYcek"
      }
    },
    {
      "cell_type": "code",
      "source": [
        "def main():\n",
        "    a = {'x': 1, 'y': 2, 'z': 3}\n",
        "    a.setdefault('x', 10) # 기존 데이터가 있으면 기존 데이터 유지\n",
        "    print(a)\n",
        "\n",
        "if __name__ == \"__main__\":\n",
        "    main()"
      ],
      "metadata": {
        "colab": {
          "base_uri": "https://localhost:8080/"
        },
        "outputId": "63448c42-485e-434f-96fd-8785bc1af721",
        "id": "tugwaWHKYcek"
      },
      "execution_count": null,
      "outputs": [
        {
          "output_type": "stream",
          "name": "stdout",
          "text": [
            "{'pork': 25.3, 'beef': 33.8, 'chicken': 22.7}\n"
          ]
        }
      ]
    },
    {
      "cell_type": "code",
      "source": [
        "def main():\n",
        "    a = {'x': 1, 'y': 2, 'z': 3}\n",
        "    a.setdefault('horse', 10) # 기존 데이터가 없으면 a['horse'] = 10\n",
        "    print(a)\n",
        "\n",
        "if __name__ == \"__main__\":\n",
        "    main()"
      ],
      "metadata": {
        "colab": {
          "base_uri": "https://localhost:8080/"
        },
        "outputId": "62663703-9d21-4c7b-b69d-beea1c2886a1",
        "id": "93Z-RZCIYcel"
      },
      "execution_count": null,
      "outputs": [
        {
          "output_type": "stream",
          "name": "stdout",
          "text": [
            "{'pork': 25.3, 'beef': 33.8, 'chicken': 22.7}\n",
            "33.3\n"
          ]
        }
      ]
    },
    {
      "cell_type": "markdown",
      "source": [
        "#####***Method - update***"
      ],
      "metadata": {
        "id": "iveJfoniY0Fa"
      }
    },
    {
      "cell_type": "code",
      "source": [
        "# without update\n",
        "def main():\n",
        "    x = {'pork':25.3, 'beef':33.8, 'chicken':22.7}\n",
        "    x['pork'] = 22.2\n",
        "    x['horse'] = 33.3\n",
        "    print(x)\n",
        "\n",
        "if __name__ == \"__main__\":\n",
        "    main()"
      ],
      "metadata": {
        "colab": {
          "base_uri": "https://localhost:8080/"
        },
        "outputId": "06e866bc-e230-4a2c-bc3a-4cd7d53d4e49",
        "id": "81IbmNdRY0Fb"
      },
      "execution_count": 14,
      "outputs": [
        {
          "output_type": "stream",
          "name": "stdout",
          "text": [
            "{'pork': 22.2, 'beef': 33.8, 'chicken': 22.7, 'horse': 33.3}\n"
          ]
        }
      ]
    },
    {
      "cell_type": "code",
      "source": [
        "# without update\n",
        "def main():\n",
        "    x = {'pork':25.3, 'beef':33.8, 'chicken':22.7}\n",
        "    update_data = {'pork': 22.2, 'horse': 33.3}\n",
        "    for key, value in update_data.items():\n",
        "        x[key] = value\n",
        "    print(x)\n",
        "\n",
        "if __name__ == \"__main__\":\n",
        "    main()"
      ],
      "metadata": {
        "colab": {
          "base_uri": "https://localhost:8080/"
        },
        "id": "aGgj4FVvZJ2B",
        "outputId": "9cdfe48e-7182-4ab0-b7a0-31aaf15f0070"
      },
      "execution_count": 15,
      "outputs": [
        {
          "output_type": "stream",
          "name": "stdout",
          "text": [
            "{'pork': 22.2, 'beef': 33.8, 'chicken': 22.7, 'horse': 33.3}\n"
          ]
        }
      ]
    },
    {
      "cell_type": "code",
      "source": [
        "# with update\n",
        "def main():\n",
        "    x = {'pork':25.3, 'beef':33.8, 'chicken':22.7}\n",
        "    update_data = {'pork': 22.2, 'horse': 33.3}\n",
        "    x.update(update_data)\n",
        "    print(x)\n",
        "\n",
        "if __name__ == \"__main__\":\n",
        "    main()"
      ],
      "metadata": {
        "colab": {
          "base_uri": "https://localhost:8080/"
        },
        "outputId": "04c81325-1f5f-46fd-da36-547dcfc0431f",
        "id": "N4LP6g99Y0Fb"
      },
      "execution_count": 16,
      "outputs": [
        {
          "output_type": "stream",
          "name": "stdout",
          "text": [
            "{'pork': 22.2, 'beef': 33.8, 'chicken': 22.7, 'horse': 33.3}\n"
          ]
        }
      ]
    },
    {
      "cell_type": "markdown",
      "source": [
        "\n",
        "\n",
        "####***Section 5 Dict Unpacking***"
      ],
      "metadata": {
        "id": "4Z3iiGA0h58O"
      }
    },
    {
      "cell_type": "code",
      "source": [
        "def main():\n",
        "    a, b, c = {'one' : 1, 'two' : 2, 'three' : 3}\n",
        "    print(a)\n",
        "    print(b)\n",
        "    print(c)\n",
        "\n",
        "if __name__ == \"__main__\":\n",
        "    main()"
      ],
      "metadata": {
        "colab": {
          "base_uri": "https://localhost:8080/"
        },
        "id": "VgFE4duYh58P",
        "outputId": "b9976c4f-ccef-4666-c555-bdbc29aa30cc"
      },
      "execution_count": 17,
      "outputs": [
        {
          "output_type": "stream",
          "name": "stdout",
          "text": [
            "one\n",
            "two\n",
            "three\n"
          ]
        }
      ]
    },
    {
      "cell_type": "code",
      "source": [
        "def main():\n",
        "    a, b, c = {'one' : 1, 'two' : 2, 'three' : 3}.items()\n",
        "    print(a)\n",
        "    print(b)\n",
        "    print(c)\n",
        "\n",
        "if __name__ == \"__main__\":\n",
        "    main()"
      ],
      "metadata": {
        "colab": {
          "base_uri": "https://localhost:8080/"
        },
        "id": "oVGnVzsgh58P",
        "outputId": "ff747118-2843-440d-d0b0-d3d145041c1f"
      },
      "execution_count": 18,
      "outputs": [
        {
          "output_type": "stream",
          "name": "stdout",
          "text": [
            "('one', 1)\n",
            "('two', 2)\n",
            "('three', 3)\n"
          ]
        }
      ]
    },
    {
      "cell_type": "code",
      "source": [
        "def main():\n",
        "    (a_key, a_value), (b_key, b_value), (c_key, c_value) = {'one' : 1, 'two' : 2, 'three' : 3}.items()\n",
        "    print(a_key, a_value)\n",
        "    print(b_key, b_value)\n",
        "    print(c_key, c_value)\n",
        "\n",
        "if __name__ == \"__main__\":\n",
        "    main()"
      ],
      "metadata": {
        "colab": {
          "base_uri": "https://localhost:8080/"
        },
        "id": "1283X3iKiMqS",
        "outputId": "e0e2d87f-282d-417f-cd8b-bdfe5d8c8440"
      },
      "execution_count": 19,
      "outputs": [
        {
          "output_type": "stream",
          "name": "stdout",
          "text": [
            "one 1\n",
            "two 2\n",
            "three 3\n"
          ]
        }
      ]
    },
    {
      "cell_type": "markdown",
      "source": [
        "###### key is immutable"
      ],
      "metadata": {
        "id": "Qk6-nAiEh58P"
      }
    },
    {
      "cell_type": "markdown",
      "source": [
        "###***Chapter 18 Default Dict***"
      ],
      "metadata": {
        "id": "WAH9XHVMnJRn"
      }
    },
    {
      "cell_type": "markdown",
      "source": [
        "####***Section 1 Default Dict with int***"
      ],
      "metadata": {
        "id": "RST2NlIYnR1W"
      }
    },
    {
      "cell_type": "code",
      "source": [
        "# count the number of alphabet characters in the string\n",
        "# use dict\n",
        "def main():\n",
        "    word = 'mississippi'\n",
        "\n",
        "    counter = {}\n",
        "    for letter in word:\n",
        "        if letter not in counter:\n",
        "            counter[letter] = 0\n",
        "        counter[letter] += 1\n",
        "    print(counter)\n",
        "\n",
        "if __name__ == \"__main__\":\n",
        "    main()"
      ],
      "metadata": {
        "colab": {
          "base_uri": "https://localhost:8080/"
        },
        "id": "pyiUvPH7nZcV",
        "outputId": "ea83dc56-8a93-4005-f600-1456ab6da46d"
      },
      "execution_count": 20,
      "outputs": [
        {
          "output_type": "stream",
          "name": "stdout",
          "text": [
            "{'m': 1, 'i': 4, 's': 4, 'p': 2}\n"
          ]
        }
      ]
    },
    {
      "cell_type": "code",
      "source": [
        "# count the number of alphabet characters in the string\n",
        "# use dict method - get\n",
        "def main():\n",
        "    word = 'mississippi'\n",
        "\n",
        "    counter = {}\n",
        "    for letter in word:\n",
        "        counter[letter] = counter.get(letter, 0) + 1\n",
        "    print(counter)\n",
        "\n",
        "if __name__ == \"__main__\":\n",
        "    main()"
      ],
      "metadata": {
        "colab": {
          "base_uri": "https://localhost:8080/"
        },
        "id": "7zEE--WanzP4",
        "outputId": "cf93e080-fa4f-4a9e-80ab-0c7dcabe6497"
      },
      "execution_count": 21,
      "outputs": [
        {
          "output_type": "stream",
          "name": "stdout",
          "text": [
            "{'m': 1, 'i': 4, 's': 4, 'p': 2}\n"
          ]
        }
      ]
    },
    {
      "cell_type": "markdown",
      "source": [
        "When a letter is first encountered, it is missing from the mapping, so the default_factory function calls int() to supply a default count of zero. The increment operation then builds up the count for each letter.\n",
        "\n",
        "[doc](https://docs.python.org/3/library/collections.html)"
      ],
      "metadata": {
        "id": "WZT0aaoFoSqh"
      }
    },
    {
      "cell_type": "code",
      "source": [
        "# count the number of alphabet characters in the string\n",
        "# use default dict with int\n",
        "from collections import defaultdict\n",
        "\n",
        "def main():\n",
        "    word = 'mississippi'\n",
        "\n",
        "    counter = defaultdict(int)\n",
        "    for letter in word:\n",
        "        counter[letter] += 1\n",
        "    print(counter)\n",
        "\n",
        "if __name__ == \"__main__\":\n",
        "    main()"
      ],
      "metadata": {
        "colab": {
          "base_uri": "https://localhost:8080/"
        },
        "id": "yAPhw_VOn_21",
        "outputId": "7b7ad860-d543-4cc0-b987-ae895b17b894"
      },
      "execution_count": 22,
      "outputs": [
        {
          "output_type": "stream",
          "name": "stdout",
          "text": [
            "defaultdict(<class 'int'>, {'m': 1, 'i': 4, 's': 4, 'p': 2})\n"
          ]
        }
      ]
    },
    {
      "cell_type": "markdown",
      "source": [
        "####***Section 2 Default Dict with lambda Expression***"
      ],
      "metadata": {
        "id": "G0Vd0ezzom3F"
      }
    },
    {
      "cell_type": "markdown",
      "source": [
        "The function int() which always returns zero is just a special case of constant functions. A faster and more flexible way to create constant functions is to use a lambda function which can supply any constant value (not just zero):\n",
        "\n",
        "[doc](https://docs.python.org/3/library/collections.html)"
      ],
      "metadata": {
        "id": "xgpH-oleox5E"
      }
    },
    {
      "cell_type": "code",
      "source": [
        "# count the number of alphabet characters in the string\n",
        "# use default dict with lambda expression\n",
        "from collections import defaultdict\n",
        "\n",
        "def main():\n",
        "    word = 'mississippi'\n",
        "\n",
        "    counter = defaultdict(lambda : 0)\n",
        "    for letter in word:\n",
        "        counter[letter] += 1\n",
        "    print(counter)\n",
        "\n",
        "if __name__ == \"__main__\":\n",
        "    main()"
      ],
      "metadata": {
        "id": "ycTtk5qTodcv"
      },
      "execution_count": null,
      "outputs": []
    },
    {
      "cell_type": "markdown",
      "source": [
        "####***Section 3 Default Dict with list***"
      ],
      "metadata": {
        "id": "tYcI_wdfo7VW"
      }
    },
    {
      "cell_type": "markdown",
      "source": [
        "\"The standard dictionary includes the method setdefault() for retrieving a value and establishing a default if the value does not exist. By contrast, defaultdict lets the caller specify the default(value to be returned) up front when the container is initialized.\"\n",
        "\n",
        "as defined by Doug Hellmann in The Python Standard Library by Example\n",
        "\n",
        "[stackoverflow](https://stackoverflow.com/questions/5900578/how-does-collections-defaultdict-work)"
      ],
      "metadata": {
        "id": "KAWqfLUypZKU"
      }
    },
    {
      "cell_type": "markdown",
      "source": [
        "When each key is encountered for the first time, it is not already in the mapping; so an entry is automatically created using the default_factory function which returns an empty list. The list.append() operation then attaches the value to the new list. When keys are encountered again, the look-up proceeds normally (returning the list for that key) and the list.append() operation adds another value to the list.\n",
        "\n",
        "[doc](https://docs.python.org/3/library/collections.html)"
      ],
      "metadata": {
        "id": "GpxyB-AipnxY"
      }
    },
    {
      "cell_type": "code",
      "source": [
        "# make lists of car registration numbers \n",
        "# according to car maker from the below data base\n",
        "from collections import defaultdict\n",
        "\n",
        "def main():\n",
        "    db = [\n",
        "        ('hyundai', 6544642656), \n",
        "        ('bmw', 25643773), \n",
        "        ('toyota', 356425625646), \n",
        "        ('hyundai', 4645624562), \n",
        "        ('toyota', 16346363634), \n",
        "        ('bmw', 1642435634)\n",
        "    ]\n",
        "\n",
        "    registration_numbers = defaultdict(list)\n",
        "    for car_maker, registration_number in db:\n",
        "        registration_numbers[car_maker].append(registration_number)\n",
        "    print(registration_numbers)\n",
        "\n",
        "if __name__ == \"__main__\":\n",
        "    main()"
      ],
      "metadata": {
        "colab": {
          "base_uri": "https://localhost:8080/"
        },
        "id": "8qOK34CFo7fp",
        "outputId": "3f329389-bd86-4c8b-d27e-57f99fba3a5d"
      },
      "execution_count": 23,
      "outputs": [
        {
          "output_type": "stream",
          "name": "stdout",
          "text": [
            "defaultdict(<class 'list'>, {'hyundai': [6544642656, 4645624562], 'bmw': [25643773, 1642435634], 'toyota': [356425625646, 16346363634]})\n"
          ]
        }
      ]
    },
    {
      "cell_type": "markdown",
      "source": [
        "####***Section 4 Default Dict with set***"
      ],
      "metadata": {
        "id": "A8U8tRQmp2CO"
      }
    },
    {
      "cell_type": "code",
      "source": [
        "# make sets of car registration numbers \n",
        "# according to car maker from the below data base\n",
        "from collections import defaultdict\n",
        "\n",
        "def main():\n",
        "    db = [\n",
        "        ('hyundai', 6544642656), \n",
        "        ('bmw', 25643773), \n",
        "        ('toyota', 356425625646), \n",
        "        ('hyundai', 4645624562), \n",
        "        ('toyota', 16346363634), \n",
        "        ('bmw', 1642435634)\n",
        "    ]\n",
        "\n",
        "    registration_numbers = defaultdict(set)\n",
        "    for car_maker, registration_number in db:\n",
        "        registration_numbers[car_maker].add(registration_number)\n",
        "    print(registration_numbers)\n",
        "\n",
        "if __name__ == \"__main__\":\n",
        "    main()"
      ],
      "metadata": {
        "colab": {
          "base_uri": "https://localhost:8080/"
        },
        "id": "Dw0uWMlJp5IV",
        "outputId": "67d04122-33e8-46bc-ff9c-da6ed5e183d3"
      },
      "execution_count": 24,
      "outputs": [
        {
          "output_type": "stream",
          "name": "stdout",
          "text": [
            "defaultdict(<class 'set'>, {'hyundai': {6544642656, 4645624562}, 'bmw': {1642435634, 25643773}, 'toyota': {16346363634, 356425625646}})\n"
          ]
        }
      ]
    },
    {
      "cell_type": "markdown",
      "source": [
        "###***Chapter 19 Set***"
      ],
      "metadata": {
        "id": "XBrFKT2q3NR4"
      }
    },
    {
      "cell_type": "markdown",
      "source": [
        "####***Section 1 Set Construction [eng](https://www.youtube.com/watch?v=2u_ZExcNBzA&index=13&list=PLBZBJbE_rGRWeh5mIBhD-hhDwSEDxogDg)***"
      ],
      "metadata": {
        "id": "n1gglj0Tk6tX"
      }
    },
    {
      "cell_type": "markdown",
      "source": [
        "#####***Explicit Construction***"
      ],
      "metadata": {
        "id": "ZjFOcYpCnfUz"
      }
    },
    {
      "cell_type": "code",
      "source": [
        "def main():\n",
        "    s = {3,5,3,5,3,5}\n",
        "    print(s, type(s), len(s))\n",
        "\n",
        "if __name__ == \"__main__\":\n",
        "    main()"
      ],
      "metadata": {
        "colab": {
          "base_uri": "https://localhost:8080/"
        },
        "id": "woSJbiJX3OsN",
        "outputId": "1d80d7ef-4d47-4c52-bc28-5210f3e94672"
      },
      "execution_count": null,
      "outputs": [
        {
          "output_type": "stream",
          "name": "stdout",
          "text": [
            "{3, 5} <class 'set'> 2\n"
          ]
        }
      ]
    },
    {
      "cell_type": "markdown",
      "source": [
        "#####***String to Set***"
      ],
      "metadata": {
        "id": "iTMbfDBLnuDK"
      }
    },
    {
      "cell_type": "code",
      "source": [
        "def main():\n",
        "    s = set(\"Hello World\")\n",
        "    print(s, type(s), len(s))\n",
        "\n",
        "if __name__ == \"__main__\":\n",
        "    main()"
      ],
      "metadata": {
        "colab": {
          "base_uri": "https://localhost:8080/"
        },
        "outputId": "14080443-9a66-41ab-e736-62ec5a2fbab8",
        "id": "sXmjo1iAnuDL"
      },
      "execution_count": null,
      "outputs": [
        {
          "output_type": "stream",
          "name": "stdout",
          "text": [
            "{3, 5} <class 'set'> 2\n",
            "{3, 5} <class 'set'> 2\n",
            "set() <class 'set'> 0\n",
            "{} <class 'dict'> 0\n"
          ]
        }
      ]
    },
    {
      "cell_type": "markdown",
      "source": [
        "#####***List to Set***"
      ],
      "metadata": {
        "id": "5a0iBZSunuIn"
      }
    },
    {
      "cell_type": "code",
      "source": [
        "def main():\n",
        "    s = set([3,5,3,5,3,5])\n",
        "    print(s, type(s), len(s))\n",
        "\n",
        "if __name__ == \"__main__\":\n",
        "    main()"
      ],
      "metadata": {
        "colab": {
          "base_uri": "https://localhost:8080/"
        },
        "outputId": "14080443-9a66-41ab-e736-62ec5a2fbab8",
        "id": "_n3F5E4inuIn"
      },
      "execution_count": null,
      "outputs": [
        {
          "output_type": "stream",
          "name": "stdout",
          "text": [
            "{3, 5} <class 'set'> 2\n",
            "{3, 5} <class 'set'> 2\n",
            "set() <class 'set'> 0\n",
            "{} <class 'dict'> 0\n"
          ]
        }
      ]
    },
    {
      "cell_type": "markdown",
      "source": [
        "#####***Tuple to Set***"
      ],
      "metadata": {
        "id": "t_KxRoEznuOT"
      }
    },
    {
      "cell_type": "code",
      "source": [
        "def main():\n",
        "    s = set((3,5,3,5,3,5))\n",
        "    print(s, type(s), len(s))\n",
        "\n",
        "if __name__ == \"__main__\":\n",
        "    main()"
      ],
      "metadata": {
        "colab": {
          "base_uri": "https://localhost:8080/"
        },
        "outputId": "14080443-9a66-41ab-e736-62ec5a2fbab8",
        "id": "ZUCa4u0onuOU"
      },
      "execution_count": null,
      "outputs": [
        {
          "output_type": "stream",
          "name": "stdout",
          "text": [
            "{3, 5} <class 'set'> 2\n",
            "{3, 5} <class 'set'> 2\n",
            "set() <class 'set'> 0\n",
            "{} <class 'dict'> 0\n"
          ]
        }
      ]
    },
    {
      "cell_type": "markdown",
      "source": [
        "#####***Set Comprehension***"
      ],
      "metadata": {
        "id": "xBRO-jJjolZY"
      }
    },
    {
      "cell_type": "code",
      "source": [
        "def main():\n",
        "    s = {m**2 for m in range(8) if m%2==0}\n",
        "    print(s, type(s), len(s))\n",
        "\n",
        "if __name__ == \"__main__\":\n",
        "    main()"
      ],
      "metadata": {
        "colab": {
          "base_uri": "https://localhost:8080/"
        },
        "outputId": "14080443-9a66-41ab-e736-62ec5a2fbab8",
        "id": "MscZ_TBgolZY"
      },
      "execution_count": null,
      "outputs": [
        {
          "output_type": "stream",
          "name": "stdout",
          "text": [
            "{3, 5} <class 'set'> 2\n",
            "{3, 5} <class 'set'> 2\n",
            "set() <class 'set'> 0\n",
            "{} <class 'dict'> 0\n"
          ]
        }
      ]
    },
    {
      "cell_type": "markdown",
      "source": [
        "#####***Empty Set***"
      ],
      "metadata": {
        "id": "5uA6eLiWnuT7"
      }
    },
    {
      "cell_type": "code",
      "source": [
        "def main():\n",
        "    s = set()\n",
        "    print(s, type(s), len(s))\n",
        "\n",
        "if __name__ == \"__main__\":\n",
        "    main()"
      ],
      "metadata": {
        "colab": {
          "base_uri": "https://localhost:8080/"
        },
        "outputId": "14080443-9a66-41ab-e736-62ec5a2fbab8",
        "id": "02reiWCQnuT7"
      },
      "execution_count": null,
      "outputs": [
        {
          "output_type": "stream",
          "name": "stdout",
          "text": [
            "{3, 5} <class 'set'> 2\n",
            "{3, 5} <class 'set'> 2\n",
            "set() <class 'set'> 0\n",
            "{} <class 'dict'> 0\n"
          ]
        }
      ]
    },
    {
      "cell_type": "markdown",
      "source": [
        "#####***Empty Dictionary, not Empty Set***"
      ],
      "metadata": {
        "id": "eawbZty7nub8"
      }
    },
    {
      "cell_type": "code",
      "source": [
        "def main():\n",
        "    s = {} \n",
        "    print(s, type(s), len(s))\n",
        "\n",
        "if __name__ == \"__main__\":\n",
        "    main()"
      ],
      "metadata": {
        "colab": {
          "base_uri": "https://localhost:8080/"
        },
        "outputId": "14080443-9a66-41ab-e736-62ec5a2fbab8",
        "id": "pQkzRegSnub8"
      },
      "execution_count": null,
      "outputs": [
        {
          "output_type": "stream",
          "name": "stdout",
          "text": [
            "{3, 5} <class 'set'> 2\n",
            "{3, 5} <class 'set'> 2\n",
            "set() <class 'set'> 0\n",
            "{} <class 'dict'> 0\n"
          ]
        }
      ]
    },
    {
      "cell_type": "markdown",
      "source": [
        "#####***set members must be immutable (advanced)***"
      ],
      "metadata": {
        "id": "noqYlgU3xzKU"
      }
    },
    {
      "cell_type": "code",
      "source": [
        "# tuple is immutable\n",
        "s = {3, 3.14159, 'Hello World', (1, 2, 3)}\n",
        "print(s, type(s), len(s))\n",
        "\n",
        "# list is mutable\n",
        "try:\n",
        "  s = {3, 3.14159, 'Hello World', [1, 2, 3]}\n",
        "  print(s, type(s), len(s))\n",
        "except TypeError as e:\n",
        "  print(e)\n",
        "\n",
        "# dictionary is mutable\n",
        "try:\n",
        "  s = {3, 3.14159, 'Hello World', {'one': 1, 'two': 2, 'three': 3}}\n",
        "  print(s, type(s), len(s))\n",
        "except TypeError as e:\n",
        "  print(e)"
      ],
      "metadata": {
        "colab": {
          "base_uri": "https://localhost:8080/"
        },
        "outputId": "77f318a2-bcd9-4c04-8103-b11c2ad8d7cc",
        "id": "ZH0ndu00xzKV"
      },
      "execution_count": null,
      "outputs": [
        {
          "output_type": "stream",
          "name": "stdout",
          "text": [
            "{3.14159, 3, 'Hello World', (1, 2, 3)} <class 'set'> 4\n",
            "unhashable type: 'list'\n",
            "unhashable type: 'dict'\n"
          ]
        }
      ]
    },
    {
      "cell_type": "markdown",
      "source": [
        "####***Section 2 Set Operations***"
      ],
      "metadata": {
        "id": "Kd249pzT4SLy"
      }
    },
    {
      "cell_type": "markdown",
      "source": [
        "#####***Union***"
      ],
      "metadata": {
        "id": "Hltx5H9CpgnK"
      }
    },
    {
      "cell_type": "code",
      "source": [
        "def main():\n",
        "    A = {1,2,3,4,5}\n",
        "    B = {4,5,6,7,8}\n",
        "\n",
        "    print(A.union(B))\n",
        "    print(A | B)\n",
        "    \n",
        "if __name__ == \"__main__\":\n",
        "    main()"
      ],
      "metadata": {
        "id": "k_4eDq4Z4SmB"
      },
      "execution_count": null,
      "outputs": []
    },
    {
      "cell_type": "markdown",
      "source": [
        "#####***Intersection***"
      ],
      "metadata": {
        "id": "BhK3lNwspm9f"
      }
    },
    {
      "cell_type": "code",
      "source": [
        "def main():\n",
        "    A = {1,2,3,4,5}\n",
        "    B = {4,5,6,7,8}\n",
        "    \n",
        "    print(A.intersection(B))\n",
        "    print(A & B)\n",
        "\n",
        "if __name__ == \"__main__\":\n",
        "    main()"
      ],
      "metadata": {
        "id": "fBbOIscwpm9f"
      },
      "execution_count": null,
      "outputs": []
    },
    {
      "cell_type": "markdown",
      "source": [
        "#####***Difference***"
      ],
      "metadata": {
        "id": "hDuSHSHVpnG1"
      }
    },
    {
      "cell_type": "code",
      "source": [
        "def main():\n",
        "    A = {1,2,3,4,5}\n",
        "    B = {4,5,6,7,8}\n",
        "\n",
        "    print(A.difference(B))\n",
        "    print(A - B)\n",
        "\n",
        "if __name__ == \"__main__\":\n",
        "    main()"
      ],
      "metadata": {
        "id": "jc4dhB_kpnG1"
      },
      "execution_count": null,
      "outputs": []
    },
    {
      "cell_type": "markdown",
      "source": [
        "#####***Symmetric Difference***"
      ],
      "metadata": {
        "id": "Is03wLb7pnQ1"
      }
    },
    {
      "cell_type": "code",
      "source": [
        "def main():\n",
        "    A = {1,2,3,4,5}\n",
        "    B = {4,5,6,7,8}\n",
        "\n",
        "    print(A.symmetric_difference(B))\n",
        "    print(A ^ B)    \n",
        "\n",
        "if __name__ == \"__main__\":\n",
        "    main()"
      ],
      "metadata": {
        "id": "-SqXIsStpnQ1"
      },
      "execution_count": null,
      "outputs": []
    },
    {
      "cell_type": "markdown",
      "source": [
        "####***Section 3 Inplace Set Operations***"
      ],
      "metadata": {
        "id": "o5yHWcy2qbbe"
      }
    },
    {
      "cell_type": "markdown",
      "source": [
        "#####***Inplace Union***"
      ],
      "metadata": {
        "id": "yJRir8Lsqbbf"
      }
    },
    {
      "cell_type": "code",
      "source": [
        "def main():\n",
        "    A = {1,2,3,4,5}\n",
        "    B = {4,5,6,7,8}\n",
        "\n",
        "    A |= B\n",
        "    print(A)\n",
        "    \n",
        "if __name__ == \"__main__\":\n",
        "    main()"
      ],
      "metadata": {
        "id": "opdM3S2vqbbf"
      },
      "execution_count": null,
      "outputs": []
    },
    {
      "cell_type": "markdown",
      "source": [
        "#####***Inplace Intersection***"
      ],
      "metadata": {
        "id": "kPlwQ8LIqbbf"
      }
    },
    {
      "cell_type": "code",
      "source": [
        "def main():\n",
        "    A = {1,2,3,4,5}\n",
        "    B = {4,5,6,7,8}\n",
        "    \n",
        "    A &= B\n",
        "    print(A)\n",
        "\n",
        "if __name__ == \"__main__\":\n",
        "    main()"
      ],
      "metadata": {
        "id": "xGfxN01tqbbf"
      },
      "execution_count": null,
      "outputs": []
    },
    {
      "cell_type": "markdown",
      "source": [
        "#####***Inplace Difference***"
      ],
      "metadata": {
        "id": "xiuco3yTqbbf"
      }
    },
    {
      "cell_type": "code",
      "source": [
        "def main():\n",
        "    A = {1,2,3,4,5}\n",
        "    B = {4,5,6,7,8}\n",
        "\n",
        "    A -= B\n",
        "    print(A)\n",
        "\n",
        "if __name__ == \"__main__\":\n",
        "    main()"
      ],
      "metadata": {
        "colab": {
          "base_uri": "https://localhost:8080/"
        },
        "id": "txgQPlmsqbbf",
        "outputId": "f2e3ec61-10bb-46b4-cec3-8df0bf42105c"
      },
      "execution_count": null,
      "outputs": [
        {
          "output_type": "stream",
          "name": "stdout",
          "text": [
            "{1, 2, 3}\n",
            "{1, 2, 3}\n"
          ]
        }
      ]
    },
    {
      "cell_type": "markdown",
      "source": [
        "#####***Inplace Symmetric Difference***"
      ],
      "metadata": {
        "id": "JegLQE_Aqbbf"
      }
    },
    {
      "cell_type": "code",
      "source": [
        "def main():\n",
        "    A = {1,2,3,4,5}\n",
        "    B = {4,5,6,7,8}\n",
        "\n",
        "    A ^= B\n",
        "    print(A)    \n",
        "\n",
        "if __name__ == \"__main__\":\n",
        "    main()"
      ],
      "metadata": {
        "id": "WjTjgjWBqbbg"
      },
      "execution_count": null,
      "outputs": []
    },
    {
      "cell_type": "markdown",
      "source": [
        "####***Section 4 Other Union Methods***"
      ],
      "metadata": {
        "id": "VveYl2I2r767"
      }
    },
    {
      "cell_type": "markdown",
      "source": [
        "#####***Different Union Method***"
      ],
      "metadata": {
        "id": "4BgzP8Pir767"
      }
    },
    {
      "cell_type": "markdown",
      "source": [
        "```\n",
        "add - add one item\n",
        "update - update several items\n",
        "union - set union\n",
        "| - set union\n",
        "```"
      ],
      "metadata": {
        "id": "MkAg8dSJr767"
      }
    },
    {
      "cell_type": "markdown",
      "source": [
        "#####***Method - add***"
      ],
      "metadata": {
        "id": "5EtOPGhXr767"
      }
    },
    {
      "cell_type": "code",
      "source": [
        "def main():\n",
        "    A = {1,2,3,4,5}\n",
        "    A.add(\"Hello\") # \"Hello\" is added\n",
        "    print(A)\n",
        "\n",
        "if __name__ == \"__main__\":\n",
        "    main()"
      ],
      "metadata": {
        "colab": {
          "base_uri": "https://localhost:8080/"
        },
        "outputId": "4f248da0-1fc3-487c-ed38-50baa96bf37c",
        "id": "9SLmbCTLr768"
      },
      "execution_count": null,
      "outputs": [
        {
          "output_type": "stream",
          "name": "stdout",
          "text": [
            "{1, 2, 3, 4, 5, 'Hello'}\n"
          ]
        }
      ]
    },
    {
      "cell_type": "markdown",
      "source": [
        "#####***Method - update***"
      ],
      "metadata": {
        "id": "uf6_gzV0r768"
      }
    },
    {
      "cell_type": "code",
      "source": [
        "def main():\n",
        "    A = {1,2,3,4,5}\n",
        "    A.update('Hello') # string ---> list ---> set ---> in place union\n",
        "    print(A)\n",
        "\n",
        "if __name__ == \"__main__\":\n",
        "    main()"
      ],
      "metadata": {
        "colab": {
          "base_uri": "https://localhost:8080/"
        },
        "outputId": "b083c85b-c3f3-4971-f27b-4b090fbcef46",
        "id": "paMBdKFQr768"
      },
      "execution_count": null,
      "outputs": [
        {
          "output_type": "stream",
          "name": "stdout",
          "text": [
            "{1, 2, 3, 4, 5, 'l', 'e', 'H', 'o'}\n"
          ]
        }
      ]
    },
    {
      "cell_type": "code",
      "source": [
        "def main():\n",
        "    A = set()\n",
        "    print(A)\n",
        "    for i in range(1,11):\n",
        "        A.update({i}) \n",
        "    print(A)\n",
        "\n",
        "if __name__ == \"__main__\":\n",
        "    main()"
      ],
      "metadata": {
        "colab": {
          "base_uri": "https://localhost:8080/"
        },
        "outputId": "c5a65460-abd8-4094-9ed1-9e9c755b4aa2",
        "id": "wIpNIMjQr768"
      },
      "execution_count": null,
      "outputs": [
        {
          "output_type": "stream",
          "name": "stdout",
          "text": [
            "set()\n",
            "{1, 2, 3, 4, 5, 6, 7, 8, 9, 10}\n"
          ]
        }
      ]
    },
    {
      "cell_type": "code",
      "source": [
        "def main():\n",
        "    A = {1,2,3,4,5}\n",
        "    A.update({'three', 'four', 'three'}) # set ---> in place union\n",
        "    print(A)\n",
        "\n",
        "if __name__ == \"__main__\":\n",
        "    main()"
      ],
      "metadata": {
        "colab": {
          "base_uri": "https://localhost:8080/"
        },
        "outputId": "d2785993-00a9-4e2d-82d2-8155381407fb",
        "id": "uWWEBpGgr768"
      },
      "execution_count": null,
      "outputs": [
        {
          "output_type": "stream",
          "name": "stdout",
          "text": [
            "{1, 2, 3, 4, 5, 'three', 'four'}\n"
          ]
        }
      ]
    },
    {
      "cell_type": "code",
      "source": [
        "def main():\n",
        "    A = {1,2,3,4,5}\n",
        "    A.update(['three', 'four', 'three']) # list ---> set ---> in place union\n",
        "    print(A)\n",
        "\n",
        "if __name__ == \"__main__\":\n",
        "    main()"
      ],
      "metadata": {
        "colab": {
          "base_uri": "https://localhost:8080/"
        },
        "outputId": "0bdf0db7-9dff-4bd7-f5b3-c9031cafc7d1",
        "id": "02lmjD85r768"
      },
      "execution_count": null,
      "outputs": [
        {
          "output_type": "stream",
          "name": "stdout",
          "text": [
            "{1, 2, 3, 4, 5, 'three', 'four'}\n"
          ]
        }
      ]
    },
    {
      "cell_type": "markdown",
      "source": [
        "####***Section 5 Other Difference Methods***"
      ],
      "metadata": {
        "id": "DNeCfCeBstUM"
      }
    },
    {
      "cell_type": "markdown",
      "source": [
        "#####***Different Difference Method***"
      ],
      "metadata": {
        "id": "L03mlu0QstUM"
      }
    },
    {
      "cell_type": "markdown",
      "source": [
        "```\n",
        "clear - removes all elements \n",
        "pop - removes and returns an arbitrarily chosen element from A. raise an error if A is empty. \n",
        "discard - remove one item. don't raise an error if item is not in the set.\n",
        "remove - remove one item. raise an error if item is not in the set.\n",
        "difference - set difference\n",
        "- - set difference\n",
        "```"
      ],
      "metadata": {
        "id": "hwD9xomnstUM"
      }
    },
    {
      "cell_type": "markdown",
      "source": [
        "#####***Method - clear***"
      ],
      "metadata": {
        "id": "yAwBCfnKstUM"
      }
    },
    {
      "cell_type": "code",
      "source": [
        "def main():\n",
        "    A = {1,2}\n",
        "    \n",
        "    A.clear() \n",
        "    print(A)\n",
        "\n",
        "if __name__ == \"__main__\":\n",
        "    main()"
      ],
      "metadata": {
        "colab": {
          "base_uri": "https://localhost:8080/"
        },
        "outputId": "8456d38e-b7b6-454e-88ce-c62fc57e6158",
        "id": "poYhgnDNstUM"
      },
      "execution_count": null,
      "outputs": [
        {
          "output_type": "stream",
          "name": "stdout",
          "text": [
            "set()\n"
          ]
        }
      ]
    },
    {
      "cell_type": "markdown",
      "source": [
        "#####***Method - pop***"
      ],
      "metadata": {
        "id": "uFR19i90tsMm"
      }
    },
    {
      "cell_type": "code",
      "source": [
        "def main():\n",
        "    A = {1,2}\n",
        "\n",
        "    item = A.pop() \n",
        "    print(A, item)\n",
        "\n",
        "    item = A.pop() \n",
        "    print(A, item)\n",
        "    \n",
        "    try: \n",
        "        item = A.pop() \n",
        "        print(A, item)\n",
        "    except KeyError as e:\n",
        "        print(e)\n",
        "\n",
        "if __name__ == \"__main__\":\n",
        "    main()"
      ],
      "metadata": {
        "colab": {
          "base_uri": "https://localhost:8080/"
        },
        "outputId": "bcefb529-113e-4199-f6d9-91c767092d16",
        "id": "L0RyHk2ntsMm"
      },
      "execution_count": null,
      "outputs": [
        {
          "output_type": "stream",
          "name": "stdout",
          "text": [
            "{2} 1\n",
            "set() 2\n",
            "'pop from an empty set'\n"
          ]
        }
      ]
    },
    {
      "cell_type": "markdown",
      "source": [
        "###### other set methods"
      ],
      "metadata": {
        "id": "4RqcLJ4Mn7fd"
      }
    },
    {
      "cell_type": "code",
      "source": [
        "A = {1,2,3,4,5}\n",
        "B = {1,2}\n",
        "\n",
        "# remove one element\n",
        "# raise an error if not exist\n",
        "A.remove(\"Hello\") \n",
        "print(A)\n",
        "try:\n",
        "  A.remove(\"Hello\") \n",
        "except KeyError as e:\n",
        "  print(e)\n",
        "\n",
        "# discard one element\n",
        "# does not raise an error if not exist\n",
        "A.discard(\"H\") \n",
        "print(A)\n",
        "A.discard(\"H\") \n",
        "print(A)\n"
      ],
      "metadata": {
        "colab": {
          "base_uri": "https://localhost:8080/"
        },
        "id": "fPDamqjcn7t0",
        "outputId": "900e9d3e-8c7e-42a7-e6f0-02f52fd37223"
      },
      "execution_count": null,
      "outputs": [
        {
          "output_type": "stream",
          "name": "stdout",
          "text": [
            "{1, 2, 3, 4, 5, 'Hello'}\n",
            "{1, 2, 3, 4, 5, 'H', 'l', 'o', 'e', 'Hello'}\n",
            "{1, 2, 3, 4, 5, 'H', 'l', 'o', 'e'}\n",
            "'Hello'\n",
            "{1, 2, 3, 4, 5, 'l', 'o', 'e'}\n",
            "{1, 2, 3, 4, 5, 'l', 'o', 'e'}\n",
            "1 {2}\n",
            "2 set()\n",
            "'pop from an empty set'\n",
            "set()\n"
          ]
        }
      ]
    },
    {
      "cell_type": "markdown",
      "source": [
        "###### set boolean operations"
      ],
      "metadata": {
        "id": "aKioEURPnsHx"
      }
    },
    {
      "cell_type": "code",
      "source": [
        "A = {4,5}\n",
        "B = {4,5}\n",
        "\n",
        "# subset\n",
        "print(A.issubset(B))\n",
        "print(A<=B)   # A is subset of B\n",
        "print(A<B)    # A is proper subset of B\n",
        "\n",
        "# superset\n",
        "print(A.issuperset(B))\n",
        "print(A>=B)   # A is superset of B\n",
        "print(A>B)    # A is proper superset of B\n",
        "\n",
        "# disjoint\n",
        "print(A.isdisjoint(B))"
      ],
      "metadata": {
        "id": "JRmkYtYxnsgJ"
      },
      "execution_count": null,
      "outputs": []
    },
    {
      "cell_type": "markdown",
      "source": [
        "###### set members must be immutable (advanced)"
      ],
      "metadata": {
        "id": "2rukjkTWgXkr"
      }
    },
    {
      "cell_type": "code",
      "source": [
        "# tuple is immutable\n",
        "s = {3, 3.14159, 'Hello World', (1, 2, 3)}\n",
        "print(s, type(s), len(s))\n",
        "\n",
        "# list is mutable\n",
        "try:\n",
        "  s = {3, 3.14159, 'Hello World', [1, 2, 3]}\n",
        "  print(s, type(s), len(s))\n",
        "except TypeError as e:\n",
        "  print(e)\n",
        "\n",
        "# dictionary is mutable\n",
        "try:\n",
        "  s = {3, 3.14159, 'Hello World', {'one': 1, 'two': 2, 'three': 3}}\n",
        "  print(s, type(s), len(s))\n",
        "except TypeError as e:\n",
        "  print(e)"
      ],
      "metadata": {
        "colab": {
          "base_uri": "https://localhost:8080/"
        },
        "id": "ZW3nsf_ZgYDT",
        "outputId": "77f318a2-bcd9-4c04-8103-b11c2ad8d7cc"
      },
      "execution_count": null,
      "outputs": [
        {
          "output_type": "stream",
          "name": "stdout",
          "text": [
            "{3.14159, 3, 'Hello World', (1, 2, 3)} <class 'set'> 4\n",
            "unhashable type: 'list'\n",
            "unhashable type: 'dict'\n"
          ]
        }
      ]
    },
    {
      "cell_type": "markdown",
      "source": [
        "#####***Method - discard***"
      ],
      "metadata": {
        "id": "UtvdorW9vaDB"
      }
    },
    {
      "cell_type": "markdown",
      "source": [
        "> discard - No error even if item not exist in the set\n",
        "\n",
        "> remove - Error if item not exist in the set"
      ],
      "metadata": {
        "id": "1IVSC9utyki_"
      }
    },
    {
      "cell_type": "code",
      "source": [
        "def main():\n",
        "    A = {1,2,'Hello'}\n",
        "    print(A)\n",
        "\n",
        "    A.discard(\"Hello\") \n",
        "    print(A)\n",
        "\n",
        "    try:\n",
        "        A.discard(\"Hello\")\n",
        "        print(A) \n",
        "    except KeyError:\n",
        "        print('String \"Hello\" is not in the set A')\n",
        "\n",
        "if __name__ == \"__main__\":\n",
        "    main()"
      ],
      "metadata": {
        "colab": {
          "base_uri": "https://localhost:8080/"
        },
        "outputId": "904a9152-c9fd-4a37-cc1c-2b2609bbc983",
        "id": "HxfnH9PyvaDB"
      },
      "execution_count": null,
      "outputs": [
        {
          "output_type": "stream",
          "name": "stdout",
          "text": [
            "{1, 2, 'Hello'}\n",
            "{1, 2}\n",
            "{1, 2}\n"
          ]
        }
      ]
    },
    {
      "cell_type": "markdown",
      "source": [
        "#####***Method - remove***"
      ],
      "metadata": {
        "id": "9EX9MN7rvaDA"
      }
    },
    {
      "cell_type": "markdown",
      "source": [
        "\n",
        "\n",
        "> discard - No error even if item not exist in the set\n",
        "\n",
        "> remove - Error if item not exist in the set"
      ],
      "metadata": {
        "id": "V2vK5DXByTMT"
      }
    },
    {
      "cell_type": "code",
      "source": [
        "def main():\n",
        "    A = {1,2,'Hello'}\n",
        "    print(A)\n",
        "\n",
        "    A.remove(\"Hello\") \n",
        "    print(A)\n",
        "\n",
        "    try:\n",
        "        A.remove(\"Hello\") \n",
        "        print(A)\n",
        "    except KeyError:\n",
        "        print('String \"Hello\" is not in the set A')\n",
        "\n",
        "if __name__ == \"__main__\":\n",
        "    main()"
      ],
      "metadata": {
        "colab": {
          "base_uri": "https://localhost:8080/"
        },
        "outputId": "7cdc63d3-317b-4c35-e951-c9c790e9e24b",
        "id": "W_5H0yywvaDA"
      },
      "execution_count": null,
      "outputs": [
        {
          "output_type": "stream",
          "name": "stdout",
          "text": [
            "{1, 2, 'Hello'}\n",
            "{1, 2}\n",
            "String \"Hello\" is not in the set A\n"
          ]
        }
      ]
    },
    {
      "cell_type": "markdown",
      "source": [
        "####***Section 6 Set Boolean Operations***"
      ],
      "metadata": {
        "id": "fk0rdDkyvaDB"
      }
    },
    {
      "cell_type": "code",
      "source": [
        "A = {4,5}\n",
        "B = {4,5}\n",
        "\n",
        "# subset\n",
        "print(A.issubset(B))\n",
        "print(A<=B)   # A is subset of B\n",
        "print(A<B)    # A is proper subset of B\n",
        "\n",
        "# superset\n",
        "print(A.issuperset(B))\n",
        "print(A>=B)   # A is superset of B\n",
        "print(A>B)    # A is proper superset of B\n",
        "\n",
        "# disjoint\n",
        "print(A.isdisjoint(B))"
      ],
      "metadata": {
        "id": "rwH72BSNvaDB"
      },
      "execution_count": null,
      "outputs": []
    },
    {
      "cell_type": "markdown",
      "source": [
        "###***Chapter 20 Membership Test***"
      ],
      "metadata": {
        "id": "9s73D3ExYy_Q"
      }
    },
    {
      "cell_type": "markdown",
      "source": [
        "#####***Membership Test - List***"
      ],
      "metadata": {
        "id": "TKBblfCqlKb7"
      }
    },
    {
      "cell_type": "code",
      "source": [
        "def main():\n",
        "    a = ['History', 'Math', 'Physics', 'CompSci', 'Math']\n",
        "    print('Math' in a)\n",
        "\n",
        "if __name__ == \"__main__\":\n",
        "    main()"
      ],
      "metadata": {
        "colab": {
          "base_uri": "https://localhost:8080/"
        },
        "id": "VYCE6tkOYzOv",
        "outputId": "cad86b92-288d-42e0-b687-c7e40f91fdb1"
      },
      "execution_count": null,
      "outputs": [
        {
          "output_type": "stream",
          "name": "stdout",
          "text": [
            "True\n",
            "True\n",
            "True\n",
            "True\n",
            "False\n"
          ]
        }
      ]
    },
    {
      "cell_type": "markdown",
      "source": [
        "#####***Membership Test - Tuple***"
      ],
      "metadata": {
        "id": "bdXa3kSBHK8C"
      }
    },
    {
      "cell_type": "code",
      "source": [
        "def main():\n",
        "    a = ('History', 'Math', 'Physics', 'CompSci', 'Math')\n",
        "    print('Math' in a)\n",
        "\n",
        "if __name__ == \"__main__\":\n",
        "    main()"
      ],
      "metadata": {
        "colab": {
          "base_uri": "https://localhost:8080/"
        },
        "outputId": "cad86b92-288d-42e0-b687-c7e40f91fdb1",
        "id": "Ka8ScTuMHK8C"
      },
      "execution_count": null,
      "outputs": [
        {
          "output_type": "stream",
          "name": "stdout",
          "text": [
            "True\n",
            "True\n",
            "True\n",
            "True\n",
            "False\n"
          ]
        }
      ]
    },
    {
      "cell_type": "markdown",
      "source": [
        "#####***Membership Test - Set***"
      ],
      "metadata": {
        "id": "kgtDbu2oHK-0"
      }
    },
    {
      "cell_type": "code",
      "source": [
        "def main():\n",
        "    a = {'History', 'Math', 'Physics', 'CompSci', 'Math'}\n",
        "    print('Math' in a)\n",
        "\n",
        "if __name__ == \"__main__\":\n",
        "    main()"
      ],
      "metadata": {
        "colab": {
          "base_uri": "https://localhost:8080/"
        },
        "outputId": "cad86b92-288d-42e0-b687-c7e40f91fdb1",
        "id": "6oU-ieJsHK-0"
      },
      "execution_count": null,
      "outputs": [
        {
          "output_type": "stream",
          "name": "stdout",
          "text": [
            "True\n",
            "True\n",
            "True\n",
            "True\n",
            "False\n"
          ]
        }
      ]
    },
    {
      "cell_type": "markdown",
      "source": [
        "#####***Membership Test - Dictionary***"
      ],
      "metadata": {
        "id": "dlafhqEMHLB-"
      }
    },
    {
      "cell_type": "code",
      "source": [
        "def main():\n",
        "    a = {'History':10, 'Math':20, 'Physics':30, 'CompSci':40}\n",
        "    print('Math' in a) # key checked\n",
        "    print(20 in a) # value not checked \n",
        "\n",
        "if __name__ == \"__main__\":\n",
        "    main()"
      ],
      "metadata": {
        "colab": {
          "base_uri": "https://localhost:8080/"
        },
        "outputId": "cad86b92-288d-42e0-b687-c7e40f91fdb1",
        "id": "bdNI_RLgHLB_"
      },
      "execution_count": null,
      "outputs": [
        {
          "output_type": "stream",
          "name": "stdout",
          "text": [
            "True\n",
            "True\n",
            "True\n",
            "True\n",
            "False\n"
          ]
        }
      ]
    },
    {
      "cell_type": "markdown",
      "source": [
        "###***Chapter 21 Sequence***"
      ],
      "metadata": {
        "id": "vyoGeBkpe9EZ"
      }
    },
    {
      "cell_type": "markdown",
      "source": [
        "#####***String, List, Tuple are Sequence***"
      ],
      "metadata": {
        "id": "r_vBg4Nq0NMh"
      }
    },
    {
      "cell_type": "code",
      "source": [
        "def main():\n",
        "    a = [ 0, 1, 2, 3, 4, 5, 6, 7, 8]\n",
        "    b = ( 0, 1, 2, 3, 4, 5, 6, 7, 8)\n",
        "    c = \"Hello Pi\"\n",
        "\n",
        "    print(f\"{a = }\")\n",
        "    print(f\"{b = }\")\n",
        "    print(f\"{c = }\")\n",
        "\n",
        "if __name__ == \"__main__\":\n",
        "    main()"
      ],
      "metadata": {
        "id": "r97mY4Tfe9Q5"
      },
      "execution_count": null,
      "outputs": []
    },
    {
      "cell_type": "markdown",
      "source": [
        "#####***Indexing***"
      ],
      "metadata": {
        "id": "4xs6IfKH0UsS"
      }
    },
    {
      "cell_type": "code",
      "source": [
        "def main():\n",
        "    a = [ 0, 1, 2, 3, 4, 5, 6, 7, 8]\n",
        "    b = ( 0, 1, 2, 3, 4, 5, 6, 7, 8)\n",
        "    c = \"Hello Pi\"\n",
        "\n",
        "    print(f\"{a[3] = }\")\n",
        "    print(f\"{b[3] = }\")\n",
        "    print(f\"{c[3] = }\")\n",
        "\n",
        "if __name__ == \"__main__\":\n",
        "    main()"
      ],
      "metadata": {
        "id": "TsEOeQxx0UsT"
      },
      "execution_count": null,
      "outputs": []
    },
    {
      "cell_type": "markdown",
      "source": [
        "#####***Slicing***"
      ],
      "metadata": {
        "id": "glon0eno0UvX"
      }
    },
    {
      "cell_type": "code",
      "source": [
        "def main():\n",
        "    a = [ 0, 1, 2, 3, 4, 5, 6, 7, 8]\n",
        "    b = ( 0, 1, 2, 3, 4, 5, 6, 7, 8)\n",
        "    c = \"Hello Pi\"\n",
        "\n",
        "    print(f\"{a[3:5] = }\")\n",
        "    print(f\"{b[3:5] = }\")\n",
        "    print(f\"{c[3:5] = }\")\n",
        "\n",
        "if __name__ == \"__main__\":\n",
        "    main()"
      ],
      "metadata": {
        "id": "8pB0A6ao0UvY"
      },
      "execution_count": null,
      "outputs": []
    },
    {
      "cell_type": "markdown",
      "source": [
        "#####***Concatenation***"
      ],
      "metadata": {
        "id": "4zZWvlsP0Uyc"
      }
    },
    {
      "cell_type": "code",
      "source": [
        "def main():\n",
        "    print( ['frog', 'pig'] + ['cow', 'horse'] )\n",
        "    print( ('frog', 'pig') + ('cow', 'horse') )\n",
        "    print( 'frog' + 'pig' )\n",
        "\n",
        "if __name__ == \"__main__\":\n",
        "    main()"
      ],
      "metadata": {
        "colab": {
          "base_uri": "https://localhost:8080/"
        },
        "id": "Ne9B36Gc0Uyd",
        "outputId": "8710125b-3396-4d68-84be-e994b2ef567a"
      },
      "execution_count": null,
      "outputs": [
        {
          "output_type": "stream",
          "name": "stdout",
          "text": [
            "['frog', 'pig', 'cow', 'horse']\n",
            "('frog', 'pig', 'cow', 'horse')\n",
            "frogpig\n"
          ]
        }
      ]
    },
    {
      "cell_type": "markdown",
      "source": [
        "#####***Another Type of Concatenation***"
      ],
      "metadata": {
        "id": "WHzyLlrQ0U2C"
      }
    },
    {
      "cell_type": "code",
      "source": [
        "def main():\n",
        "    print( ['frog', 'pig'] * 3 )\n",
        "    print( ('frog', 'pig') * 3 )\n",
        "    print( 'frog' * 3 )\n",
        "\n",
        "if __name__ == \"__main__\":\n",
        "    main()"
      ],
      "metadata": {
        "colab": {
          "base_uri": "https://localhost:8080/"
        },
        "id": "JnV-SNFJ0U2C",
        "outputId": "ebb08a9c-2e95-4f18-8602-350457417ff4"
      },
      "execution_count": null,
      "outputs": [
        {
          "output_type": "stream",
          "name": "stdout",
          "text": [
            "['frog', 'pig', 'frog', 'pig', 'frog', 'pig']\n",
            "('frog', 'pig', 'frog', 'pig', 'frog', 'pig')\n",
            "frogfrogfrog\n"
          ]
        }
      ]
    },
    {
      "cell_type": "markdown",
      "source": [
        "#####***len***"
      ],
      "metadata": {
        "id": "GPJrycPk0Uo8"
      }
    },
    {
      "cell_type": "code",
      "source": [
        "def main():\n",
        "    a = [ 0, 1, 2, 3, 4, 5, 6, 7, 8]\n",
        "    b = ( 0, 1, 2, 3, 4, 5, 6, 7, 8)\n",
        "    c = \"Hello Pi\"\n",
        "\n",
        "    print(f\"{len(a) = }\")\n",
        "    print(f\"{len(b) = }\")\n",
        "    print(f\"{len(c) = }\")\n",
        "\n",
        "if __name__ == \"__main__\":\n",
        "    main()"
      ],
      "metadata": {
        "id": "eu8AWAcB0Uo9"
      },
      "execution_count": null,
      "outputs": []
    },
    {
      "cell_type": "markdown",
      "source": [
        "###***Chapter 22 Packing and Unpacking***"
      ],
      "metadata": {
        "id": "8ufOEEXplRiL"
      }
    },
    {
      "cell_type": "markdown",
      "source": [
        "####***Section 1 Unpacking***"
      ],
      "metadata": {
        "id": "rRVTEq6yy7YE"
      }
    },
    {
      "cell_type": "markdown",
      "source": [
        "#####***String Unpacking***"
      ],
      "metadata": {
        "id": "xeCQh74mzZN7"
      }
    },
    {
      "cell_type": "code",
      "source": [
        "def main():\n",
        "    # string unpacking\n",
        "    a, b, c, d, e = 'hippo' # unpacking \n",
        "    print(a,b,c,sep=\"\\n\")\n",
        "\n",
        "if __name__ == \"__main__\":\n",
        "    main()"
      ],
      "metadata": {
        "colab": {
          "base_uri": "https://localhost:8080/"
        },
        "id": "gBFiFTKPy7jU",
        "outputId": "11ab981b-6af0-461c-de95-5cecd1880641"
      },
      "execution_count": null,
      "outputs": [
        {
          "output_type": "stream",
          "name": "stdout",
          "text": [
            "h\n",
            "i\n",
            "o\n"
          ]
        }
      ]
    },
    {
      "cell_type": "markdown",
      "source": [
        "#####***List Unpacking***"
      ],
      "metadata": {
        "id": "QbFN1x47zf7g"
      }
    },
    {
      "cell_type": "code",
      "source": [
        "def main():\n",
        "    # list unpacking\n",
        "    a, b, _, _, c = ['frog', 'pig', 'cow', 'dog', 'horse'] # skipping using _\n",
        "    print(a,b,c,sep=\"\\n\")\n",
        "\n",
        "if __name__ == \"__main__\":\n",
        "    main()"
      ],
      "metadata": {
        "colab": {
          "base_uri": "https://localhost:8080/"
        },
        "outputId": "11ab981b-6af0-461c-de95-5cecd1880641",
        "id": "N0iZGydizf7g"
      },
      "execution_count": null,
      "outputs": [
        {
          "output_type": "stream",
          "name": "stdout",
          "text": [
            "h\n",
            "i\n",
            "o\n"
          ]
        }
      ]
    },
    {
      "cell_type": "markdown",
      "source": [
        "#####***Tuple Unpacking***"
      ],
      "metadata": {
        "id": "EjWE53npzgBT"
      }
    },
    {
      "cell_type": "code",
      "source": [
        "def main():\n",
        "    # tuple unpacking\n",
        "    a, b, *_, c = ('frog', 'pig', 'cow', 'dog', 'horse') # skipping using *_\n",
        "    print(a,b,c,sep=\"\\n\")\n",
        "\n",
        "if __name__ == \"__main__\":\n",
        "    main()"
      ],
      "metadata": {
        "colab": {
          "base_uri": "https://localhost:8080/"
        },
        "outputId": "11ab981b-6af0-461c-de95-5cecd1880641",
        "id": "AqUZAVNDzgBT"
      },
      "execution_count": null,
      "outputs": [
        {
          "output_type": "stream",
          "name": "stdout",
          "text": [
            "h\n",
            "i\n",
            "o\n"
          ]
        }
      ]
    },
    {
      "cell_type": "markdown",
      "source": [
        "####***Section 2 Packing***"
      ],
      "metadata": {
        "id": "r22WHm8S1BoF"
      }
    },
    {
      "cell_type": "markdown",
      "source": [
        "#####***Packing***"
      ],
      "metadata": {
        "id": "w73E3I3R0QHw"
      }
    },
    {
      "cell_type": "code",
      "source": [
        "def main():\n",
        "    # packing\n",
        "    a = 1, 2, 3\n",
        "    print(a)\n",
        "\n",
        "    # packing and then unpacking\n",
        "    a, b, c = 1, 2, 3\n",
        "    print(a)\n",
        "\n",
        "    # unpacking and then packing\n",
        "    _, _, *a, _ = ('frog', 'pig', 'cow', 'dog', 'horse') # packing\n",
        "    print(a,sep=\"\\n\")\n",
        "\n",
        "if __name__ == \"__main__\":\n",
        "    main()"
      ],
      "metadata": {
        "colab": {
          "base_uri": "https://localhost:8080/"
        },
        "id": "Cm3M9-kD0R62",
        "outputId": "430b5319-a23d-4090-b03a-f9e063ca3a78"
      },
      "execution_count": null,
      "outputs": [
        {
          "output_type": "stream",
          "name": "stdout",
          "text": [
            "(1, 2, 3)\n",
            "1\n",
            "['cow', 'dog']\n"
          ]
        }
      ]
    },
    {
      "cell_type": "markdown",
      "source": [
        "#####***Function Return Values are packed as Tuple***"
      ],
      "metadata": {
        "id": "clAgFWaI0Vf_"
      }
    },
    {
      "cell_type": "code",
      "source": [
        "def f():\n",
        "    return 1, 2, 3\n",
        "    \n",
        "def main():\n",
        "    a = f()\n",
        "    print(a, type(a))\n",
        "\n",
        "if __name__ == \"__main__\":\n",
        "    main()"
      ],
      "metadata": {
        "colab": {
          "base_uri": "https://localhost:8080/"
        },
        "outputId": "b5f5d87e-a4d2-4b33-bd61-733906ed12f2",
        "id": "scxcYd0c0Vf_"
      },
      "execution_count": null,
      "outputs": [
        {
          "output_type": "stream",
          "name": "stdout",
          "text": [
            "(1, 2, 3) <class 'tuple'>\n"
          ]
        }
      ]
    },
    {
      "cell_type": "markdown",
      "source": [
        "####***Section 3 Swap***"
      ],
      "metadata": {
        "id": "iMvo_cbu4b1K"
      }
    },
    {
      "cell_type": "markdown",
      "source": [
        "#####***Swap with Two Extra Variables***"
      ],
      "metadata": {
        "id": "Hv8NQ9nB4fLM"
      }
    },
    {
      "cell_type": "code",
      "source": [
        "def main():\n",
        "    a = 1\n",
        "    b = 2\n",
        "    print(f\"{a = }, {b = }\")\n",
        "    \n",
        "    print(\"swap with two extra variables\")\n",
        "    a_temp = a\n",
        "    b_temp = b\n",
        "    a = b_temp\n",
        "    b = a_temp\n",
        "    print(f\"{a = }, {b = }\")\n",
        "\n",
        "if __name__ == \"__main__\":\n",
        "    main()"
      ],
      "metadata": {
        "colab": {
          "base_uri": "https://localhost:8080/"
        },
        "id": "oRoyMXBm4fYp",
        "outputId": "2b02805d-5b7f-4dc3-b676-20372fccca09"
      },
      "execution_count": null,
      "outputs": [
        {
          "output_type": "stream",
          "name": "stdout",
          "text": [
            "a = 1, b = 2\n",
            "swap with two extra variables\n",
            "a = 2, b = 1\n"
          ]
        }
      ]
    },
    {
      "cell_type": "markdown",
      "source": [
        "#####***Swap with One Extra Variable***"
      ],
      "metadata": {
        "id": "UQ9jwvMg4pqP"
      }
    },
    {
      "cell_type": "markdown",
      "source": [
        "$$\\begin{array}{llccccccccccc}\n",
        "&&\\text{temp}&&\\text{a}&&\\text{b}\\\\\n",
        "\\text{a = 1; b = 2}&&&&1&&2\\\\\n",
        "&&&\\swarrow&&&\\\\\n",
        "\\text{temp = a}&&1&&&&2\\\\\n",
        "&&&&&\\swarrow&\\\\\n",
        "\\text{a = b}&&1&&2&&\\\\\n",
        "&\\swarrow&&&&&\\\\\n",
        "&&&&&&&\\swarrow\\\\\n",
        "\\text{b = temp}&&&&2&&1\\\\\n",
        "\\end{array}$$"
      ],
      "metadata": {
        "id": "T6kQvH_a5zOR"
      }
    },
    {
      "cell_type": "code",
      "source": [
        "def main():\n",
        "    a = 1\n",
        "    b = 2\n",
        "    print(f\"{a = }, {b = }\")\n",
        "    \n",
        "    print(\"swap with one extra variable\")\n",
        "    temp = a\n",
        "    a = b\n",
        "    b = temp\n",
        "    print(f\"{a = }, {b = }\")\n",
        "\n",
        "if __name__ == \"__main__\":\n",
        "    main()"
      ],
      "metadata": {
        "colab": {
          "base_uri": "https://localhost:8080/"
        },
        "id": "wP9DCP014py_",
        "outputId": "6e9612ed-aa67-49e9-dece-fe0568251b21"
      },
      "execution_count": null,
      "outputs": [
        {
          "output_type": "stream",
          "name": "stdout",
          "text": [
            "a = 1, b = 2\n",
            "swap with one extra variables\n",
            "a = 2, b = 1\n"
          ]
        }
      ]
    },
    {
      "cell_type": "markdown",
      "source": [
        "#####***Swap with No Extra Variables***"
      ],
      "metadata": {
        "id": "NzZVGiE34p7n"
      }
    },
    {
      "cell_type": "code",
      "source": [
        "def main():\n",
        "    a = 1\n",
        "    b = 2\n",
        "    print(f\"{a = }, {b = }\")\n",
        "    \n",
        "    print(\"swap with no extra variables\")\n",
        "    a, b = b, a\n",
        "    print(f\"{a = }, {b = }\")\n",
        "\n",
        "if __name__ == \"__main__\":\n",
        "    main()"
      ],
      "metadata": {
        "colab": {
          "base_uri": "https://localhost:8080/"
        },
        "id": "mMnQ6KiO4qFn",
        "outputId": "3dc407df-0397-44fb-af38-ae5892af48cb"
      },
      "execution_count": null,
      "outputs": [
        {
          "output_type": "stream",
          "name": "stdout",
          "text": [
            "a = 1, b = 2\n",
            "swap with no extra variables\n",
            "a = 2, b = 1\n"
          ]
        }
      ]
    },
    {
      "cell_type": "markdown",
      "source": [
        "#####***Fibonacci using Swap***"
      ],
      "metadata": {
        "id": "AZVxl8Il1BXx"
      }
    },
    {
      "cell_type": "markdown",
      "source": [
        "$$\n",
        "a_n=a_{n-1}+a_{n-2},\\quad a_0=a_1=1\n",
        "$$"
      ],
      "metadata": {
        "id": "tZuyyKen1KcU"
      }
    },
    {
      "cell_type": "code",
      "source": [
        "def main():\n",
        "    a = 1\n",
        "    b = 1\n",
        "    print(a, b, end=\" \")\n",
        "    for _ in range(100):\n",
        "        c = a + b\n",
        "        print(c, end=\" \")\n",
        "        a, b = b, c\n",
        "\n",
        "if __name__ == \"__main__\":\n",
        "    main()"
      ],
      "metadata": {
        "colab": {
          "base_uri": "https://localhost:8080/"
        },
        "outputId": "e56fad74-e167-4d2c-8c82-3aeb44c23aa3",
        "id": "8LlDlDfi1BXx"
      },
      "execution_count": null,
      "outputs": [
        {
          "output_type": "stream",
          "name": "stdout",
          "text": [
            "1 1 2 3 5 8 13 21 34 55 89 144 233 377 610 987 1597 2584 4181 6765 10946 17711 28657 46368 75025 121393 196418 317811 514229 832040 1346269 2178309 3524578 5702887 9227465 14930352 24157817 39088169 63245986 102334155 165580141 267914296 433494437 701408733 1134903170 1836311903 2971215073 4807526976 7778742049 12586269025 20365011074 32951280099 53316291173 86267571272 139583862445 225851433717 365435296162 591286729879 956722026041 1548008755920 2504730781961 4052739537881 6557470319842 10610209857723 17167680177565 27777890035288 44945570212853 72723460248141 117669030460994 190392490709135 308061521170129 498454011879264 806515533049393 1304969544928657 2111485077978050 3416454622906707 5527939700884757 8944394323791464 14472334024676221 23416728348467685 37889062373143906 61305790721611591 99194853094755497 160500643816367088 259695496911122585 420196140727489673 679891637638612258 1100087778366101931 1779979416004714189 2880067194370816120 4660046610375530309 7540113804746346429 12200160415121876738 19740274219868223167 31940434634990099905 51680708854858323072 83621143489848422977 135301852344706746049 218922995834555169026 354224848179261915075 573147844013817084101 927372692193078999176 "
          ]
        }
      ]
    },
    {
      "cell_type": "markdown",
      "source": [
        "###***Chapter 23 Comprehension***"
      ],
      "metadata": {
        "id": "ZNUp0UZcP08y"
      }
    },
    {
      "cell_type": "markdown",
      "source": [
        "####***Section 1 List Comprehension***"
      ],
      "metadata": {
        "id": "40GiXUcRrQK5"
      }
    },
    {
      "cell_type": "markdown",
      "source": [
        "#####***List Comprehension***"
      ],
      "metadata": {
        "id": "34K5LagCvB0S"
      }
    },
    {
      "cell_type": "code",
      "source": [
        "# without comprehension\n",
        "def main():\n",
        "    a = []\n",
        "    for i in range(10): \n",
        "            a.append(i**2)\n",
        "    print(a)\n",
        "\n",
        "if __name__ == \"__main__\":\n",
        "    main()"
      ],
      "metadata": {
        "id": "tvcqk4WlwVQA",
        "colab": {
          "base_uri": "https://localhost:8080/"
        },
        "outputId": "598b9dd4-d054-4047-be30-99ad10c97b72"
      },
      "execution_count": null,
      "outputs": [
        {
          "output_type": "stream",
          "name": "stdout",
          "text": [
            "[0, 1, 4, 9, 16, 25, 36, 49, 64, 81]\n"
          ]
        }
      ]
    },
    {
      "cell_type": "code",
      "source": [
        "# with comprehension\n",
        "def main():\n",
        "    a = [i**2 for i in range(10)]\n",
        "    print(a)\n",
        "\n",
        "if __name__ == \"__main__\":\n",
        "    main()"
      ],
      "metadata": {
        "colab": {
          "base_uri": "https://localhost:8080/"
        },
        "outputId": "6b270ff1-af68-431d-da68-cbc4bd321e57",
        "id": "HWH9ttD3rQK5"
      },
      "execution_count": null,
      "outputs": [
        {
          "output_type": "stream",
          "name": "stdout",
          "text": [
            "[0, 1, 4, 9, 16, 25, 36, 49, 64, 81]\n"
          ]
        }
      ]
    },
    {
      "cell_type": "markdown",
      "source": [
        "#####***List Comprehension with if***"
      ],
      "metadata": {
        "id": "LT22BrRYSMY1"
      }
    },
    {
      "cell_type": "code",
      "source": [
        "# without comprehension\n",
        "def main():\n",
        "    a = []\n",
        "    for i in range(10): \n",
        "        if i%2==0:\n",
        "            a.append(i**2)\n",
        "    print(a)\n",
        "\n",
        "if __name__ == \"__main__\":\n",
        "    main()"
      ],
      "metadata": {
        "colab": {
          "base_uri": "https://localhost:8080/"
        },
        "id": "VCpITfN2SMY1",
        "outputId": "de56fe40-a12a-42ad-dd98-0c912bb1e408"
      },
      "execution_count": null,
      "outputs": [
        {
          "output_type": "stream",
          "name": "stdout",
          "text": [
            "[0, 4, 16, 36, 64]\n"
          ]
        }
      ]
    },
    {
      "cell_type": "code",
      "source": [
        "# with comprehension\n",
        "def main():\n",
        "    a = [i**2 for i in range(10) if i%2==0]\n",
        "    print(a)\n",
        "\n",
        "if __name__ == \"__main__\":\n",
        "    main()"
      ],
      "metadata": {
        "colab": {
          "base_uri": "https://localhost:8080/"
        },
        "outputId": "fcfe3f72-ca0c-4e39-e14c-a862bdfac6b9",
        "id": "kpYEkVboSMY1"
      },
      "execution_count": null,
      "outputs": [
        {
          "output_type": "stream",
          "name": "stdout",
          "text": [
            "[0, 4, 16, 36, 64]\n"
          ]
        }
      ]
    },
    {
      "cell_type": "markdown",
      "source": [
        "#####***List Comprehension with if else***"
      ],
      "metadata": {
        "id": "lJMqgtDKSMsM"
      }
    },
    {
      "cell_type": "code",
      "source": [
        "# without comprehension\n",
        "def main():\n",
        "    a = []\n",
        "    for i in range(10): \n",
        "        if i%2==0:\n",
        "            a.append(i**2)\n",
        "        else:\n",
        "            a.append(-i**2)\n",
        "    print(a)\n",
        "\n",
        "if __name__ == \"__main__\":\n",
        "    main()"
      ],
      "metadata": {
        "colab": {
          "base_uri": "https://localhost:8080/"
        },
        "id": "vyhtclZFSMsM",
        "outputId": "1a6594ac-a56f-4587-8bfc-e51dda0565bb"
      },
      "execution_count": null,
      "outputs": [
        {
          "output_type": "stream",
          "name": "stdout",
          "text": [
            "[0, -1, 4, -9, 16, -25, 36, -49, 64, -81]\n"
          ]
        }
      ]
    },
    {
      "cell_type": "code",
      "source": [
        "# with comprehension\n",
        "def main():\n",
        "    a = [i**2 if i%2==0 else -i**2 for i in range(10)]\n",
        "    print(a)\n",
        "\n",
        "if __name__ == \"__main__\":\n",
        "    main()"
      ],
      "metadata": {
        "colab": {
          "base_uri": "https://localhost:8080/"
        },
        "outputId": "73c3292c-2139-4db2-eb6a-da0a3e68538b",
        "id": "82z_zbCCSMsM"
      },
      "execution_count": null,
      "outputs": [
        {
          "output_type": "stream",
          "name": "stdout",
          "text": [
            "[0, -1, 4, -9, 16, -25, 36, -49, 64, -81]\n"
          ]
        }
      ]
    },
    {
      "cell_type": "markdown",
      "source": [
        "#####***Vector Addition using List Comprehension***"
      ],
      "metadata": {
        "id": "PIbRlfuSvIkm"
      }
    },
    {
      "cell_type": "code",
      "source": [
        "# without comprehension\n",
        "def main(): \n",
        "    a = [1,2,3]\n",
        "    b = [4,5,6] \n",
        "    c = [] \n",
        "    for x, y in zip(a,b):\n",
        "        c.append(x+y)\n",
        "    print(c)\n",
        "\n",
        "if __name__ == \"__main__\":\n",
        "    main()"
      ],
      "metadata": {
        "colab": {
          "base_uri": "https://localhost:8080/"
        },
        "outputId": "1c389d22-3812-4d13-e0ba-77c883833ebd",
        "id": "08aD4BqJvIkm"
      },
      "execution_count": null,
      "outputs": [
        {
          "output_type": "stream",
          "name": "stdout",
          "text": [
            "[5, 7, 9]\n",
            "[0, 2, 4, 6, 8]\n",
            "1\t4\t9\t16\t25\tStopIteration Error Occurs!\n"
          ]
        }
      ]
    },
    {
      "cell_type": "code",
      "source": [
        "# with comprehension\n",
        "def main(): \n",
        "    a = [1,2,3]\n",
        "    b = [4,5,6]  \n",
        "    c = [x + y for x, y in zip(a,b)]\n",
        "    print(c)\n",
        "\n",
        "if __name__ == \"__main__\":\n",
        "    main()"
      ],
      "metadata": {
        "colab": {
          "base_uri": "https://localhost:8080/"
        },
        "outputId": "1c389d22-3812-4d13-e0ba-77c883833ebd",
        "id": "Q5sYWaNVw1Nt"
      },
      "execution_count": null,
      "outputs": [
        {
          "output_type": "stream",
          "name": "stdout",
          "text": [
            "[5, 7, 9]\n",
            "[0, 2, 4, 6, 8]\n",
            "1\t4\t9\t16\t25\tStopIteration Error Occurs!\n"
          ]
        }
      ]
    },
    {
      "cell_type": "markdown",
      "source": [
        "#####***Coin Flip using List Comprehension***"
      ],
      "metadata": {
        "id": "AGIRoGglTgA5"
      }
    },
    {
      "cell_type": "code",
      "source": [
        "def main(): \n",
        "    p = 0.9\n",
        "    num_sample = 10\n",
        "\n",
        "    coins = ['H' if (x > 1 - p) else 'T' for x in np.random.uniform(size=(num_sample,))]\n",
        "    print(coins)\n",
        "\n",
        "if __name__ == \"__main__\":\n",
        "    main()"
      ],
      "metadata": {
        "colab": {
          "base_uri": "https://localhost:8080/"
        },
        "outputId": "b43607bf-6d76-4a1c-8dd9-0cdc66737ee0",
        "id": "LYYP4HvZTgA6"
      },
      "execution_count": null,
      "outputs": [
        {
          "output_type": "stream",
          "name": "stdout",
          "text": [
            "['H', 'H', 'T', 'T', 'H', 'H', 'H', 'H', 'H', 'H']\n"
          ]
        }
      ]
    },
    {
      "cell_type": "markdown",
      "source": [
        "#####***List Comprehension is Faster Than For Loop***"
      ],
      "metadata": {
        "id": "0vmNBanCUJGy"
      }
    },
    {
      "cell_type": "code",
      "source": [
        "import time\n",
        "\n",
        "def main(): \n",
        "    a = list(range(10_000_000))\n",
        "\n",
        "    tic = time.time()\n",
        "    b = []\n",
        "    for i in a:\n",
        "        b.append(i*2)\n",
        "    toc = time.time()\n",
        "    print(\"For Loop Computing Time: \", toc-tic)\n",
        "\n",
        "    tic = time.time()\n",
        "    b = [i*2 for i in a]\n",
        "    toc = time.time()\n",
        "    print(\"List Comprehension Computing Time: \", toc-tic)\n",
        "\n",
        "if __name__ == \"__main__\":\n",
        "    main()"
      ],
      "metadata": {
        "colab": {
          "base_uri": "https://localhost:8080/"
        },
        "outputId": "be523437-4bfd-46c6-ad52-07ad0b321fc2",
        "id": "vl8b1CbXUJGz"
      },
      "execution_count": null,
      "outputs": [
        {
          "output_type": "stream",
          "name": "stdout",
          "text": [
            "For Loop Computing Time:  2.7823526859283447\n",
            "List Comprehension Computing Time:  2.155385732650757\n"
          ]
        }
      ]
    },
    {
      "cell_type": "markdown",
      "source": [
        "####***Section 2 Tuple Comprehension***"
      ],
      "metadata": {
        "id": "V6TudqltrQPs"
      }
    },
    {
      "cell_type": "code",
      "source": [
        "def main():\n",
        "    a = [1, 2, 3, 4, 5]  \n",
        "    print(type(a), f\"{a = }\", end=\"\\n\\n\")\n",
        "\n",
        "    b = tuple(i**2 for i in a) \n",
        "    print(type(b), f\"{b = }\", end=\"\\n\\n\")\n",
        "\n",
        "if __name__ == \"__main__\":\n",
        "    main()"
      ],
      "metadata": {
        "colab": {
          "base_uri": "https://localhost:8080/"
        },
        "outputId": "1c389d22-3812-4d13-e0ba-77c883833ebd",
        "id": "OlywMpdgrQPt"
      },
      "execution_count": null,
      "outputs": [
        {
          "output_type": "stream",
          "name": "stdout",
          "text": [
            "[5, 7, 9]\n",
            "[0, 2, 4, 6, 8]\n",
            "1\t4\t9\t16\t25\tStopIteration Error Occurs!\n"
          ]
        }
      ]
    },
    {
      "cell_type": "markdown",
      "source": [
        "####***Section 3 Dict Comprehension***"
      ],
      "metadata": {
        "id": "k7340_QEvsPU"
      }
    },
    {
      "cell_type": "code",
      "source": [
        "def main():\n",
        "    a = [1, 2, 3, 4, 5]  \n",
        "    print(type(a), f\"{a = }\", end=\"\\n\\n\")\n",
        "\n",
        "    b = {i : i**2 for i in a}  \n",
        "    print(type(b), f\"{b = }\", end=\"\\n\\n\")\n",
        "\n",
        "if __name__ == \"__main__\":\n",
        "    main()"
      ],
      "metadata": {
        "colab": {
          "base_uri": "https://localhost:8080/"
        },
        "outputId": "1c389d22-3812-4d13-e0ba-77c883833ebd",
        "id": "tNh3v0HrvsPU"
      },
      "execution_count": null,
      "outputs": [
        {
          "output_type": "stream",
          "name": "stdout",
          "text": [
            "[5, 7, 9]\n",
            "[0, 2, 4, 6, 8]\n",
            "1\t4\t9\t16\t25\tStopIteration Error Occurs!\n"
          ]
        }
      ]
    },
    {
      "cell_type": "markdown",
      "source": [
        "####***Section 4 Set Comprehension***"
      ],
      "metadata": {
        "id": "i-63MaVrrQTj"
      }
    },
    {
      "cell_type": "code",
      "source": [
        "def main():\n",
        "    # set comprehension\n",
        "    s = {m for m in range(8)}\n",
        "    print(s, type(s), len(s))\n",
        "\n",
        "if __name__ == \"__main__\":\n",
        "    main()"
      ],
      "metadata": {
        "colab": {
          "base_uri": "https://localhost:8080/"
        },
        "outputId": "1c389d22-3812-4d13-e0ba-77c883833ebd",
        "id": "DtNC8O2trQTj"
      },
      "execution_count": null,
      "outputs": [
        {
          "output_type": "stream",
          "name": "stdout",
          "text": [
            "[5, 7, 9]\n",
            "[0, 2, 4, 6, 8]\n",
            "1\t4\t9\t16\t25\tStopIteration Error Occurs!\n"
          ]
        }
      ]
    },
    {
      "cell_type": "code",
      "source": [
        "def main():\n",
        "    # set comprehension\n",
        "    s = {m**2 for m in range(8) if m>4}  \n",
        "    print(s, type(s), len(s))\n",
        "\n",
        "if __name__ == \"__main__\":\n",
        "    main()"
      ],
      "metadata": {
        "id": "2YdyrL1nxLY-"
      },
      "execution_count": null,
      "outputs": []
    },
    {
      "cell_type": "markdown",
      "source": [
        "####***Section 5 Generator Comprehension***"
      ],
      "metadata": {
        "id": "f_MVYvrjrQXi"
      }
    },
    {
      "cell_type": "code",
      "source": [
        "def main():\n",
        "    # generator comprehension, not tuple comprehension\n",
        "    a = [1, 2, 3, 4, 5]        \n",
        "    b = (i**2 for i in a) # generator comprehension ---> generator \n",
        "    print(next(b), end='\\t') # 1\n",
        "    print(next(b), end='\\t') # 4\n",
        "    print(next(b), end='\\t') # 9\n",
        "    print(next(b), end='\\t') # 16\n",
        "    print(next(b), end='\\t') # 25\n",
        "    try:\n",
        "        print(next(b), end='\\t') # StopIteration \n",
        "    except StopIteration:\n",
        "        print('StopIteration Error Occurs!')\n",
        "\n",
        "if __name__ == \"__main__\":\n",
        "    main()"
      ],
      "metadata": {
        "colab": {
          "base_uri": "https://localhost:8080/"
        },
        "outputId": "1c389d22-3812-4d13-e0ba-77c883833ebd",
        "id": "YB-227DlrQXj"
      },
      "execution_count": null,
      "outputs": [
        {
          "output_type": "stream",
          "name": "stdout",
          "text": [
            "[5, 7, 9]\n",
            "[0, 2, 4, 6, 8]\n",
            "1\t4\t9\t16\t25\tStopIteration Error Occurs!\n"
          ]
        }
      ]
    },
    {
      "cell_type": "markdown",
      "source": [
        "#***PART IV CONTROL FLOW***"
      ],
      "metadata": {
        "id": "b5Bgl59BG-ku"
      }
    },
    {
      "cell_type": "markdown",
      "source": [
        "###***Chapter 24 Loops***"
      ],
      "metadata": {
        "id": "THTvVXj_gZJ0"
      }
    },
    {
      "cell_type": "markdown",
      "source": [
        "####***Section 1 for [eng](https://www.youtube.com/watch?v=OnDr4J2UXSA)***"
      ],
      "metadata": {
        "id": "KAEgknR2d1rC"
      }
    },
    {
      "cell_type": "markdown",
      "source": [
        "#####***For Loop using range***"
      ],
      "metadata": {
        "id": "VAKdfD1N2ora"
      }
    },
    {
      "cell_type": "code",
      "source": [
        "def main():\n",
        "    for i in range(10): \n",
        "    # range(10) yields 0, 1, 2, 3, 4, 5, 6, 7, 8, 9\n",
        "    # end is exclusive\n",
        "        print(i, end='\\t')\n",
        "\n",
        "if __name__ == \"__main__\":\n",
        "    main()"
      ],
      "metadata": {
        "colab": {
          "base_uri": "https://localhost:8080/"
        },
        "id": "2LXGH_SafM9P",
        "outputId": "9266c0c2-1b77-48c1-d393-20e8ccef5bea"
      },
      "execution_count": null,
      "outputs": [
        {
          "output_type": "stream",
          "name": "stdout",
          "text": [
            "0\t1\t2\t3\t4\t5\t6\t7\t8\t9\t"
          ]
        }
      ]
    },
    {
      "cell_type": "code",
      "source": [
        "def main():\n",
        "    for i in range(2,10): \n",
        "    # you can choose start\n",
        "    # range(2,10) strats from 2, not 0 (default)\n",
        "        print(i, end='\\t')\n",
        "\n",
        "if __name__ == \"__main__\":\n",
        "    main()"
      ],
      "metadata": {
        "colab": {
          "base_uri": "https://localhost:8080/"
        },
        "id": "Ne7uVRYifmYS",
        "outputId": "a3fb5a77-7291-4f65-ed90-69aee4ac9281"
      },
      "execution_count": null,
      "outputs": [
        {
          "output_type": "stream",
          "name": "stdout",
          "text": [
            "2\t3\t4\t5\t6\t7\t8\t9\t"
          ]
        }
      ]
    },
    {
      "cell_type": "code",
      "source": [
        "def main():\n",
        "    for i in range(2,10,3): \n",
        "    # you can choose step\n",
        "    # step of range(2,10,3) is 3, not 1 (default)\n",
        "        print(i, end='\\t')\n",
        "\n",
        "if __name__ == \"__main__\":\n",
        "    main()"
      ],
      "metadata": {
        "colab": {
          "base_uri": "https://localhost:8080/"
        },
        "id": "nni9L9LRgQwy",
        "outputId": "12dfce71-37e7-43ee-e06f-a7338dafad55"
      },
      "execution_count": null,
      "outputs": [
        {
          "output_type": "stream",
          "name": "stdout",
          "text": [
            "2\t5\t8\t"
          ]
        }
      ]
    },
    {
      "cell_type": "code",
      "source": [
        "def main():\n",
        "    for i in range(2,-10,-1): \n",
        "    # step can be negative\n",
        "    # step of range(2,-10,-1) is -1\n",
        "        print(i, end='\\t')\n",
        "\n",
        "if __name__ == \"__main__\":\n",
        "    main()"
      ],
      "metadata": {
        "colab": {
          "base_uri": "https://localhost:8080/"
        },
        "id": "8hzLaopGhJJX",
        "outputId": "8bdda3d5-164e-4209-e26c-34a32df1a034"
      },
      "execution_count": null,
      "outputs": [
        {
          "output_type": "stream",
          "name": "stdout",
          "text": [
            "2\t1\t0\t-1\t-2\t-3\t-4\t-5\t-6\t-7\t-8\t-9\t"
          ]
        }
      ]
    },
    {
      "cell_type": "markdown",
      "source": [
        "#####***For Loop using String***"
      ],
      "metadata": {
        "id": "bpDcJFr52FKt"
      }
    },
    {
      "cell_type": "code",
      "source": [
        "def main():\n",
        "    for i in \"Hello Python\":\n",
        "        print(i)\n",
        "\n",
        "if __name__ == \"__main__\":\n",
        "    main()"
      ],
      "metadata": {
        "id": "wS7lgJcs2FaT"
      },
      "execution_count": null,
      "outputs": []
    },
    {
      "cell_type": "markdown",
      "source": [
        "#####***For Loop using List and Tuple***"
      ],
      "metadata": {
        "id": "vnGe4I4G3-PI"
      }
    },
    {
      "cell_type": "code",
      "source": [
        "def main():\n",
        "    for i in [1, 2, 3, [4, 5]]:\n",
        "        print(i)\n",
        "\n",
        "if __name__ == \"__main__\":\n",
        "    main()"
      ],
      "metadata": {
        "id": "20lVC22x3-aP"
      },
      "execution_count": null,
      "outputs": []
    },
    {
      "cell_type": "code",
      "source": [
        "def main():\n",
        "    for i in (1, 2, 3, [4, 5]):\n",
        "        print(i)\n",
        "\n",
        "if __name__ == \"__main__\":\n",
        "    main()"
      ],
      "metadata": {
        "id": "wXBWlJ-C93j_"
      },
      "execution_count": null,
      "outputs": []
    },
    {
      "cell_type": "markdown",
      "source": [
        "#####***For Loop using Set and Frozen Set***"
      ],
      "metadata": {
        "id": "c76Qdx0744pr"
      }
    },
    {
      "cell_type": "code",
      "source": [
        "def main():\n",
        "    for i in set([1,2,3]):\n",
        "        print(i)\n",
        "\n",
        "if __name__ == \"__main__\":\n",
        "    main()"
      ],
      "metadata": {
        "id": "IaqH6amQ443L"
      },
      "execution_count": null,
      "outputs": []
    },
    {
      "cell_type": "code",
      "source": [
        "def main():\n",
        "    for i in frozenset([1,2,3]):\n",
        "        print(i)\n",
        "\n",
        "if __name__ == \"__main__\":\n",
        "    main()"
      ],
      "metadata": {
        "id": "YXkbWJit9-ie"
      },
      "execution_count": null,
      "outputs": []
    },
    {
      "cell_type": "markdown",
      "source": [
        "#####***For Loop using Dictionary***"
      ],
      "metadata": {
        "id": "NL9gKqFQKqAy"
      }
    },
    {
      "cell_type": "markdown",
      "source": [
        "for loop using key only"
      ],
      "metadata": {
        "id": "-ta3hJacG3xG"
      }
    },
    {
      "cell_type": "code",
      "source": [
        "def main():\n",
        "    d = {'one':1,'two':2,'three':3}\n",
        "    for i in d:\n",
        "        print(i)\n",
        "\n",
        "if __name__ == \"__main__\":\n",
        "    main()"
      ],
      "metadata": {
        "id": "4L6jLDCYG37a"
      },
      "execution_count": null,
      "outputs": []
    },
    {
      "cell_type": "markdown",
      "source": [
        "for loop using key only - another way"
      ],
      "metadata": {
        "id": "BVRRUSLoG4Ez"
      }
    },
    {
      "cell_type": "code",
      "source": [
        "def main():\n",
        "    d = {'one':1,'two':2,'three':3}\n",
        "    for i in d.keys():\n",
        "        print(i)\n",
        "\n",
        "if __name__ == \"__main__\":\n",
        "    main()"
      ],
      "metadata": {
        "id": "6tJYXgNSG4NS"
      },
      "execution_count": null,
      "outputs": []
    },
    {
      "cell_type": "markdown",
      "source": [
        "for loop using value only "
      ],
      "metadata": {
        "id": "axj_h5_vG4V_"
      }
    },
    {
      "cell_type": "code",
      "source": [
        "def main():\n",
        "    d = {'one':1,'two':2,'three':3}\n",
        "    for i in d.values():\n",
        "        print(i)\n",
        "\n",
        "if __name__ == \"__main__\":\n",
        "    main()"
      ],
      "metadata": {
        "id": "XwPPWtIsG4fY"
      },
      "execution_count": null,
      "outputs": []
    },
    {
      "cell_type": "markdown",
      "source": [
        "for loop using key, value pair"
      ],
      "metadata": {
        "id": "N9__qZFVG4n1"
      }
    },
    {
      "cell_type": "code",
      "source": [
        "def main():\n",
        "    d = {'one':1,'two':2,'three':3}\n",
        "    for key, value in d.items():\n",
        "        print(key, value)\n",
        "\n",
        "if __name__ == \"__main__\":\n",
        "    main()"
      ],
      "metadata": {
        "colab": {
          "base_uri": "https://localhost:8080/"
        },
        "id": "g0vrBnAHK1bP",
        "outputId": "289750d3-6dfb-4926-9630-4bcd8e5d9d31"
      },
      "execution_count": null,
      "outputs": [
        {
          "output_type": "stream",
          "name": "stdout",
          "text": [
            "[5, 7, 9]\n"
          ]
        }
      ]
    },
    {
      "cell_type": "markdown",
      "source": [
        "\n",
        "\n",
        "#####***For Loop using zip***"
      ],
      "metadata": {
        "id": "il5eT_Pj2yvs"
      }
    },
    {
      "cell_type": "markdown",
      "source": [
        "vector addition"
      ],
      "metadata": {
        "id": "vPkNH4K2gESZ"
      }
    },
    {
      "cell_type": "markdown",
      "source": [
        "$$\n",
        "[1,2,3]+[4,5,6]=[5,7,9]\n",
        "$$"
      ],
      "metadata": {
        "id": "UpE6xcdWgINu"
      }
    },
    {
      "cell_type": "code",
      "source": [
        "def main():\n",
        "    a = [1,2,3]\n",
        "    b = [4,5,6]\n",
        "    c = []\n",
        "    for a_i, b_i in zip(a,b):\n",
        "        c.append(a_i+b_i)\n",
        "    print(c)\n",
        "\n",
        "if __name__ == \"__main__\":\n",
        "    main()"
      ],
      "metadata": {
        "colab": {
          "base_uri": "https://localhost:8080/"
        },
        "id": "cWNV5qfj2y72",
        "outputId": "2b8ee917-ef00-45db-836a-2208460a8314"
      },
      "execution_count": null,
      "outputs": [
        {
          "output_type": "stream",
          "name": "stdout",
          "text": [
            "[5, 7, 9]\n",
            "0 Bob\n",
            "1 John\n",
            "2 Smoth\n"
          ]
        }
      ]
    },
    {
      "cell_type": "markdown",
      "source": [
        "\n",
        "\n",
        "#####***For Loop using enumerate***"
      ],
      "metadata": {
        "id": "oxPLaAtxf5Iv"
      }
    },
    {
      "cell_type": "code",
      "source": [
        "def main():\n",
        "    names = ['Bob', 'John', 'Smoth']\n",
        "    for idx, name in enumerate(names):\n",
        "        print(idx, name)\n",
        "\n",
        "if __name__ == \"__main__\":\n",
        "    main()"
      ],
      "metadata": {
        "id": "LQIvWrqyf5Um"
      },
      "execution_count": null,
      "outputs": []
    },
    {
      "cell_type": "markdown",
      "source": [
        "####***Section 2 while***"
      ],
      "metadata": {
        "id": "0syDOqGnd8tI"
      }
    },
    {
      "cell_type": "markdown",
      "source": [
        "###### while loop"
      ],
      "metadata": {
        "id": "gw1v-_eNlpII"
      }
    },
    {
      "cell_type": "code",
      "source": [
        "x = 0\n",
        "while x < 5:\n",
        "    print(x, end=\"\\t\")\n",
        "    x += 1"
      ],
      "metadata": {
        "id": "PQCK3giOlpVQ"
      },
      "execution_count": null,
      "outputs": []
    },
    {
      "cell_type": "markdown",
      "source": [
        "####***Section 3 Break and Continue***"
      ],
      "metadata": {
        "id": "cPTXe9_dAN5Q"
      }
    },
    {
      "cell_type": "markdown",
      "source": [
        "\n",
        "\n",
        "#####***Break and Continue in For Loop***"
      ],
      "metadata": {
        "id": "B4TqPXX0jOKV"
      }
    },
    {
      "cell_type": "code",
      "source": [
        "def main():\n",
        "    # break for loop\n",
        "    for i in range(1,10):\n",
        "        if i == 7:\n",
        "            break # break entire for loop\n",
        "        print(i)\n",
        "\n",
        "if __name__ == \"__main__\":\n",
        "    main()"
      ],
      "metadata": {
        "id": "N97zRcBajOiX"
      },
      "execution_count": null,
      "outputs": []
    },
    {
      "cell_type": "code",
      "source": [
        "def main():\n",
        "    # continue for loop\n",
        "    for i in range(1,10):\n",
        "        if i == 7:\n",
        "            continue # skip the rest when i == 7\n",
        "        print(i)\n",
        "\n",
        "if __name__ == \"__main__\":\n",
        "    main()"
      ],
      "metadata": {
        "id": "cPebIiofBN-j"
      },
      "execution_count": null,
      "outputs": []
    },
    {
      "cell_type": "markdown",
      "source": [
        "#####***Break and Continue in While Loop***"
      ],
      "metadata": {
        "id": "vh1Hk88Uy3yC"
      }
    },
    {
      "cell_type": "code",
      "source": [
        "def main():\n",
        "    # break while loop\n",
        "    x = 0\n",
        "    while x <= 10:\n",
        "        if x == 5:\n",
        "            break\n",
        "        print(x, end=\"\\t\")\n",
        "        x += 1\n",
        "\n",
        "if __name__ == \"__main__\":\n",
        "    main()"
      ],
      "metadata": {
        "colab": {
          "base_uri": "https://localhost:8080/"
        },
        "id": "3Ss5ty1ly4FG",
        "outputId": "ffa70220-acc6-43a5-d969-fdbd2cc47751"
      },
      "execution_count": null,
      "outputs": [
        {
          "output_type": "stream",
          "name": "stdout",
          "text": [
            "1\t2\t3\t4\t5\t6\t"
          ]
        }
      ]
    },
    {
      "cell_type": "code",
      "source": [
        "def main():\n",
        "    # continue while loop\n",
        "    x = 0\n",
        "    while x <= 10:\n",
        "        if x == 5:\n",
        "            continue\n",
        "        print(x, end=\"\\t\")\n",
        "        x += 1\n",
        "\n",
        "if __name__ == \"__main__\":\n",
        "    main()"
      ],
      "metadata": {
        "id": "hRPkHwfkCCyc"
      },
      "execution_count": null,
      "outputs": []
    },
    {
      "cell_type": "markdown",
      "source": [
        "####***Section 4 For Else Loop***"
      ],
      "metadata": {
        "id": "Uz21pKF9__-E"
      }
    },
    {
      "cell_type": "markdown",
      "source": [
        "\n",
        "\n",
        "#####***For Else (No Break)***"
      ],
      "metadata": {
        "id": "ux9Lu2IO_1vt"
      }
    },
    {
      "cell_type": "code",
      "source": [
        "def main():\n",
        "    for i in range(4):\n",
        "        print(i, end='\\t')\n",
        "        if i == 10:\n",
        "            break\n",
        "    else: # no break\n",
        "        print('no break', end='\\t') # this works only when for loop does not break\n",
        "        print(\"WOW\")\n",
        "\n",
        "if __name__ == \"__main__\":\n",
        "    main()"
      ],
      "metadata": {
        "id": "KAaf0fAy_14e"
      },
      "execution_count": null,
      "outputs": []
    },
    {
      "cell_type": "markdown",
      "source": [
        "####***Section 5 While Else Loop***"
      ],
      "metadata": {
        "id": "lT7ra2Z0CoXV"
      }
    },
    {
      "cell_type": "markdown",
      "source": [
        "#####***While Else (No Break)***"
      ],
      "metadata": {
        "id": "4_q-8nDl5Ecw"
      }
    },
    {
      "cell_type": "code",
      "source": [
        "x = 0\n",
        "while x <= 4:\n",
        "  print(x, end='\\t')\n",
        "  if x == 10:\n",
        "    break\n",
        "  x += 1\n",
        "else: # no break\n",
        "  print('no break', end='\\t') # this works only when while loop does not break\n",
        "print(\"WOW\")"
      ],
      "metadata": {
        "colab": {
          "base_uri": "https://localhost:8080/"
        },
        "id": "Rw38vqBZ5Ex_",
        "outputId": "6c6185f1-528c-4454-a0e8-388a4fbdf64a"
      },
      "execution_count": null,
      "outputs": [
        {
          "output_type": "stream",
          "name": "stdout",
          "text": [
            "0\t1\t2\t3\tno break\tWOW\n"
          ]
        }
      ]
    },
    {
      "cell_type": "markdown",
      "source": [
        "###***Chapter 25 Iterator and Generator***"
      ],
      "metadata": {
        "id": "L0htogKCve-k"
      }
    },
    {
      "cell_type": "markdown",
      "source": [
        "####***Section 3 Generator***"
      ],
      "metadata": {
        "id": "AvKEHK4giURR"
      }
    },
    {
      "cell_type": "markdown",
      "source": [
        "#####***Iterable, Iterator, Generator***"
      ],
      "metadata": {
        "id": "MiOAGMPE9D_l"
      }
    },
    {
      "cell_type": "markdown",
      "source": [
        "Iterable : Object with `__iter__` only. \n",
        "    \n",
        "Iterator : Object with `__iter__` and `__next__`. \n",
        "    \n",
        "Generator : Object with `__iter__` and `__next__`, \n",
        "which are implicitly defined through `yield` statement."
      ],
      "metadata": {
        "id": "VdZ1UWCb9ABg"
      }
    },
    {
      "cell_type": "markdown",
      "source": [
        "#####***Yield Statement***"
      ],
      "metadata": {
        "id": "4VEyXRXriYd_"
      }
    },
    {
      "cell_type": "code",
      "source": [
        "def my_generator():\n",
        "    yield 0\n",
        "    yield 1\n",
        "    yield 2\n",
        "\n",
        "# When the for loop calls my_generator, \n",
        "# the yield statement of my_generator sends 0, 1, 2 sequentially to the for loop.        \n",
        "for i in my_generator():\n",
        "    print(f\"--- {i} ---\")"
      ],
      "metadata": {
        "colab": {
          "base_uri": "https://localhost:8080/"
        },
        "id": "pbQYiKJniexu",
        "outputId": "d3f638ad-5add-4d87-f22a-05408b52056b"
      },
      "execution_count": null,
      "outputs": [
        {
          "output_type": "stream",
          "name": "stdout",
          "text": [
            "--- 0 ---\n",
            "--- 1 ---\n",
            "--- 2 ---\n"
          ]
        }
      ]
    },
    {
      "cell_type": "markdown",
      "source": [
        "#####***How Does Yield Statement Work***"
      ],
      "metadata": {
        "id": "Ch-zuRZudOJe"
      }
    },
    {
      "cell_type": "code",
      "source": [
        "def my_generator():\n",
        "    print(\"begin\")\n",
        "    for i in range(3):\n",
        "        print(\"before yield : \", i)\n",
        "        yield i # stop sign! generator stop here\n",
        "        print(\"after yield  : \", i) \n",
        "    print(\"end\") \n",
        "\n",
        "# The yield statement of my_generator is a stop sign. \n",
        "# When the for loop calls my_generator, \n",
        "# the yield statement of my_generator sends 0, 1, 2 sequentially to the for loop. \n",
        "# The generator stopped just after sending those. \n",
        "# If there are more lines after the yield statement, \n",
        "# python executes these lines in the next call.      \n",
        "for i in my_generator():\n",
        "    print(f\"--- {i} ---\")\n",
        "\n",
        "    if i == 2:\n",
        "        print(\"-----------------------------------------\")\n",
        "        print(\"This is inside the for loop\")\n",
        "        print(\"-----------------------------------------\")\n",
        "    # If the current yield statement is the last one, \n",
        "    # after executing all the lines in the for loop, \n",
        "    # python does the final execution of the extra lines after the yield statement.\n",
        "    \n",
        "print(\"-----------------------------------------\")\n",
        "print(\"This is outside the for loop\")\n",
        "print(\"-----------------------------------------\")"
      ],
      "metadata": {
        "colab": {
          "base_uri": "https://localhost:8080/"
        },
        "id": "mfkE5CacmI6A",
        "outputId": "f999f41c-a05c-4112-f917-3c7fec53cda9"
      },
      "execution_count": null,
      "outputs": [
        {
          "output_type": "stream",
          "name": "stdout",
          "text": [
            "begin\n",
            "before yield :  0\n",
            "--- 0 ---\n",
            "after yield  :  0\n",
            "before yield :  1\n",
            "--- 1 ---\n",
            "after yield  :  1\n",
            "before yield :  2\n",
            "--- 2 ---\n",
            "-----------------------------------------\n",
            "This is inside the for loop\n",
            "-----------------------------------------\n",
            "after yield  :  2\n",
            "end\n",
            "-----------------------------------------\n",
            "This is outside the for loop\n",
            "-----------------------------------------\n"
          ]
        }
      ]
    },
    {
      "cell_type": "markdown",
      "source": [
        "#####***Built-In Function Next***"
      ],
      "metadata": {
        "id": "-RMGjwCIiYhG"
      }
    },
    {
      "cell_type": "code",
      "source": [
        "def my_generator():\n",
        "    yield 2\n",
        "    yield 3\n",
        "    yield 5\n",
        "\n",
        "# When we use the generator, \n",
        "# we usually put it in the for loop, and the for loop calls the generator. \n",
        "# However, the built-in next function is another way to call the generator. \n",
        "# Whenever we call the generator using the built-in next function, \n",
        "# the generator yields the next available item.      \n",
        "generator = my_generator()\n",
        "print(next(generator), end=\"\\t\")\n",
        "print(next(generator), end=\"\\t\")\n",
        "print(next(generator), end=\"\\t\")\n",
        "try:\n",
        "    print(next(generator), end=\"\\t\")\n",
        "except StopIteration:\n",
        "    print(\"we ask too much\")"
      ],
      "metadata": {
        "colab": {
          "base_uri": "https://localhost:8080/"
        },
        "id": "XYzAsqXSjA73",
        "outputId": "f5481826-eed0-4490-8282-c392ade62e3f"
      },
      "execution_count": null,
      "outputs": [
        {
          "output_type": "stream",
          "name": "stdout",
          "text": [
            "2\t3\t5\twe ask too much\n"
          ]
        }
      ]
    },
    {
      "cell_type": "markdown",
      "source": [
        "#####***Dunder Method Next (Advanced)***"
      ],
      "metadata": {
        "id": "3EaX4elscpoe"
      }
    },
    {
      "cell_type": "code",
      "source": [
        "def my_generator():\n",
        "    yield 2\n",
        "    yield 3\n",
        "    yield 5\n",
        "\n",
        "# The dunder next method supports the built-in next function. \n",
        "# This code is identical to the above.\n",
        "generator = my_generator()\n",
        "print(generator.__next__(), end=\"\\t\")\n",
        "print(generator.__next__(), end=\"\\t\")\n",
        "print(generator.__next__(), end=\"\\t\")\n",
        "try:\n",
        "    print(generator.__next__(), end=\"\\t\")\n",
        "except StopIteration:\n",
        "    print(\"we ask too much\")"
      ],
      "metadata": {
        "colab": {
          "base_uri": "https://localhost:8080/"
        },
        "id": "k6LpTTHqj91E",
        "outputId": "cbb1339e-43ab-4b33-bfb4-95c7bd4e23e9"
      },
      "execution_count": null,
      "outputs": [
        {
          "output_type": "stream",
          "name": "stdout",
          "text": [
            "2\t3\t5\twe ask too much\n"
          ]
        }
      ]
    },
    {
      "cell_type": "markdown",
      "source": [
        "#####***Internal State of Generator***"
      ],
      "metadata": {
        "id": "GhJyWNMNiYkW"
      }
    },
    {
      "cell_type": "code",
      "source": [
        "# The generator should internally remember \n",
        "# the current state of the yield statement, called the internal state, \n",
        "# from which the next yield item has been produced and yielded. \n",
        "def my_range(n):\n",
        "    i = 0 # internal state\n",
        "    while i < n: \n",
        "        yield i \n",
        "        i += 1 # internal state update\n",
        "        \n",
        "a = my_range(5)\n",
        "print(next(a), end=\"\\t\") # 0\n",
        "print(next(a), end=\"\\t\") # 1\n",
        "print(next(a), end=\"\\t\") # 2\n",
        "print(next(a), end=\"\\t\") # 3\n",
        "print(next(a), end=\"\\t\") # 4\n",
        "try:\n",
        "    print(next(a), end=\"\\t\") \n",
        "except StopIteration as e:\n",
        "    print(\"we ask too much\")"
      ],
      "metadata": {
        "id": "cVbbJ4f6kgZG"
      },
      "execution_count": null,
      "outputs": []
    },
    {
      "cell_type": "markdown",
      "source": [
        "#####***Genertor Comprehension***"
      ],
      "metadata": {
        "id": "qFuNER70iYng"
      }
    },
    {
      "cell_type": "code",
      "source": [
        "lst = [1, 2, 3, 4, 5] \n",
        "\n",
        "# A genertor comprehension uses just one line of code and produces a genertor. \n",
        "# The below code is a genertor comprehension, not tuple comprehension. \n",
        "# This simple one-line code constructs a generator, not a tuple.\n",
        "a = (i**2 for i in lst) \n",
        "\n",
        "# A tuple comprehension is:\n",
        "# a = tuple(i**2 for i in lst) \n",
        "\n",
        "print(next(a), end=\"\\t\") # 1\n",
        "print(next(a), end=\"\\t\") # 4\n",
        "print(next(a), end=\"\\t\") # 9\n",
        "print(next(a), end=\"\\t\") # 16\n",
        "print(next(a), end=\"\\t\") # 25\n",
        "try:\n",
        "    print(next(a), end=\"\\t\") \n",
        "except StopIteration as e:\n",
        "    print(\"we ask too much\")"
      ],
      "metadata": {
        "colab": {
          "base_uri": "https://localhost:8080/"
        },
        "id": "3wHLA6cQlFuN",
        "outputId": "83106ce1-98fe-4367-cfde-af9bbf6b37c0"
      },
      "execution_count": null,
      "outputs": [
        {
          "output_type": "stream",
          "name": "stdout",
          "text": [
            "1\t4\t9\t16\t25\twe ask too much\n"
          ]
        }
      ]
    },
    {
      "cell_type": "markdown",
      "source": [
        "#####***Generator Is Frozen Once Created***"
      ],
      "metadata": {
        "id": "RZvJv6mvnm7Q"
      }
    },
    {
      "cell_type": "code",
      "source": [
        "lst = [n for n in range(10)]\n",
        "\n",
        "# The generator is frozen and does not change once created.\n",
        "# In the below code, range(len(lst)) is range(10).\n",
        "# Once range(len(lst)) is frozen as range(10) in memory,\n",
        "# it always stays the same even when lst is changing. \n",
        "for i in range(len(lst)):\n",
        "    try:\n",
        "        if lst[i] % 2 == 1:\n",
        "            del lst[i]\n",
        "        print(f'{i = }, {lst = }')  \n",
        "    except IndexError as e:\n",
        "        print(f'{i = }, {lst = }, {e}')"
      ],
      "metadata": {
        "colab": {
          "base_uri": "https://localhost:8080/"
        },
        "id": "g5V5R2MGnnMw",
        "outputId": "66feafc3-a823-4c24-bd62-365e4b656c45"
      },
      "execution_count": null,
      "outputs": [
        {
          "output_type": "stream",
          "name": "stdout",
          "text": [
            "i = 0, lst = [0, 1, 2, 3, 4, 5, 6, 7, 8, 9]\n",
            "i = 1, lst = [0, 2, 3, 4, 5, 6, 7, 8, 9]\n",
            "i = 2, lst = [0, 2, 4, 5, 6, 7, 8, 9]\n",
            "i = 3, lst = [0, 2, 4, 6, 7, 8, 9]\n",
            "i = 4, lst = [0, 2, 4, 6, 8, 9]\n",
            "i = 5, lst = [0, 2, 4, 6, 8]\n",
            "i = 6, lst = [0, 2, 4, 6, 8], list index out of range\n",
            "i = 7, lst = [0, 2, 4, 6, 8], list index out of range\n",
            "i = 8, lst = [0, 2, 4, 6, 8], list index out of range\n",
            "i = 9, lst = [0, 2, 4, 6, 8], list index out of range\n"
          ]
        }
      ]
    },
    {
      "cell_type": "markdown",
      "source": [
        "#####***Generator vs Iterator***"
      ],
      "metadata": {
        "id": "j_iO_JVgr4Ba"
      }
    },
    {
      "cell_type": "code",
      "source": [
        "# The generator yes yields the string 'yes' stop times.\n",
        "def yes(stop):\n",
        "    for _ in range(stop):\n",
        "        yield 'yes'\n",
        "\n",
        "for item in yes(3):\n",
        "    print(item, end='\\t')"
      ],
      "metadata": {
        "colab": {
          "base_uri": "https://localhost:8080/"
        },
        "id": "0B4t8Gzsr6vY",
        "outputId": "35398a4e-7a98-4e07-bf26-0a8fa5b101d1"
      },
      "execution_count": null,
      "outputs": [
        {
          "output_type": "stream",
          "name": "stdout",
          "text": [
            "yes\tyes\tyes\t"
          ]
        }
      ]
    },
    {
      "cell_type": "code",
      "source": [
        "# The iterator Yes yields the string 'yes' stop times.\n",
        "class Yes:\n",
        "\n",
        "    def __init__(self, stop):\n",
        "        self.state = 0\n",
        "        self.stop = stop\n",
        "\n",
        "    # https://prutor.ai/python-__iter__-and-__next__-converting-an-object-into-an-iterator/#:~:text=The%20__iter__()%20function%20returns,handy%20when%20dealing%20with%20loops.\n",
        "    # The __iter__() method returns an iterator \n",
        "    # for the given object (array, set, tuple etc. or custom objects). \n",
        "    def __iter__(self):\n",
        "        return self\n",
        "\n",
        "    # https://prutor.ai/python-__iter__-and-__next__-converting-an-object-into-an-iterator/#:~:text=The%20__iter__()%20function%20returns,handy%20when%20dealing%20with%20loops.\n",
        "    # An iterator accesses one element at a time using __next__() method, \n",
        "    # which generally comes in handy when dealing with loops.\n",
        "    def __next__(self):\n",
        "        if self.state < self.stop:\n",
        "            self.state += 1\n",
        "            return 'yes'\n",
        "        else:\n",
        "            raise StopIteration # Iterators must raise when done, else considered broken\n",
        "\n",
        "for item in Yes(3):\n",
        "    print(item, end='\\t')"
      ],
      "metadata": {
        "colab": {
          "base_uri": "https://localhost:8080/"
        },
        "id": "fgqIB9ZusguR",
        "outputId": "251c3c7c-dd77-4c30-a8da-65bffee510a3"
      },
      "execution_count": null,
      "outputs": [
        {
          "output_type": "stream",
          "name": "stdout",
          "text": [
            "yes\tyes\tyes\t"
          ]
        }
      ]
    },
    {
      "cell_type": "markdown",
      "source": [
        "####***Section 1 Iterable,  Iterator, and Generator***"
      ],
      "metadata": {
        "id": "C0YlDyEDwcP2"
      }
    },
    {
      "cell_type": "markdown",
      "source": [
        "iterable : Object with `__iter__` only. \n",
        "    \n",
        "iterator : Object with `__iter__` and `__next__`. \n",
        "    \n",
        "generator : Object with `__iter__` and `__next__`, \n",
        "which are implicitly defined through `yield` statement."
      ],
      "metadata": {
        "id": "MrDQq8Q7wZ6c"
      }
    },
    {
      "cell_type": "markdown",
      "source": [
        "####***Section 2 Iteratorable***"
      ],
      "metadata": {
        "id": "otZ6hiYYvpdp"
      }
    },
    {
      "cell_type": "markdown",
      "source": [
        "#####***List is Iterable***"
      ],
      "metadata": {
        "id": "U6iioR5Cv6NM"
      }
    },
    {
      "cell_type": "code",
      "source": [
        "def main():\n",
        "    a = [1,'one']\n",
        "    \n",
        "    for i in a:\n",
        "        print(i, end='\\t')\n",
        "    print()\n",
        "    \n",
        "    for i in iter(a):\n",
        "        print(i, end='\\t')\n",
        "    print()\n",
        "    \n",
        "    for i in a.__iter__():\n",
        "        print(i, end='\\t')\n",
        "    \n",
        "if __name__ == \"__main__\":\n",
        "    main() "
      ],
      "metadata": {
        "colab": {
          "base_uri": "https://localhost:8080/"
        },
        "id": "vTKhFUDDv6dv",
        "outputId": "1c1bede4-e2fd-4781-a195-4c7dea6557cc"
      },
      "execution_count": null,
      "outputs": [
        {
          "output_type": "stream",
          "name": "stdout",
          "text": [
            "1\tone\t\n",
            "1\tone\t\n",
            "1\tone\t"
          ]
        }
      ]
    },
    {
      "cell_type": "markdown",
      "source": [
        "#####***Tuple is Iterable***"
      ],
      "metadata": {
        "id": "e-jB1QZBwrFd"
      }
    },
    {
      "cell_type": "code",
      "source": [
        "def main():\n",
        "    a = (1,'one')\n",
        "    \n",
        "    for i in a:\n",
        "        print(i, end='\\t')\n",
        "    print()\n",
        "    \n",
        "    for i in iter(a):\n",
        "        print(i, end='\\t')\n",
        "    print()\n",
        "    \n",
        "    for i in a.__iter__():\n",
        "        print(i, end='\\t')\n",
        "    \n",
        "if __name__ == \"__main__\":\n",
        "    main() "
      ],
      "metadata": {
        "colab": {
          "base_uri": "https://localhost:8080/"
        },
        "outputId": "53a0d1dd-aba1-4d3f-ad94-94cad3ec27af",
        "id": "LimyiozVwrFd"
      },
      "execution_count": null,
      "outputs": [
        {
          "output_type": "stream",
          "name": "stdout",
          "text": [
            "1\tone\t\n",
            "1\tone\t\n",
            "1\tone\t"
          ]
        }
      ]
    },
    {
      "cell_type": "markdown",
      "source": [
        "#####***Set is Iterable***"
      ],
      "metadata": {
        "id": "ARTnw6pwwrI2"
      }
    },
    {
      "cell_type": "code",
      "source": [
        "def main():\n",
        "    a = {1,'one'}\n",
        "    \n",
        "    for i in a:\n",
        "        print(i, end='\\t')\n",
        "    print()\n",
        "    \n",
        "    for i in iter(a):\n",
        "        print(i, end='\\t')\n",
        "    print()\n",
        "    \n",
        "    for i in a.__iter__():\n",
        "        print(i, end='\\t')\n",
        "    \n",
        "if __name__ == \"__main__\":\n",
        "    main() "
      ],
      "metadata": {
        "colab": {
          "base_uri": "https://localhost:8080/"
        },
        "outputId": "b36a6c2a-d7dd-43ab-c294-7fa678c57145",
        "id": "Nlh2-uOWwrI2"
      },
      "execution_count": null,
      "outputs": [
        {
          "output_type": "stream",
          "name": "stdout",
          "text": [
            "1\tone\t\n",
            "1\tone\t\n",
            "1\tone\t"
          ]
        }
      ]
    },
    {
      "cell_type": "markdown",
      "source": [
        "#####***Dict is Iterable***"
      ],
      "metadata": {
        "id": "RUwaGnsewrNE"
      }
    },
    {
      "cell_type": "code",
      "source": [
        "def main():\n",
        "    a = { 'zero' : 1, 'one' : 'one'}\n",
        "    \n",
        "    for i in a:\n",
        "        print(i, end='\\t')\n",
        "    print()\n",
        "    \n",
        "    for i in iter(a):\n",
        "        print(i, end='\\t')\n",
        "    print()\n",
        "    \n",
        "    for i in a.__iter__():\n",
        "        print(i, end='\\t')\n",
        "    \n",
        "if __name__ == \"__main__\":\n",
        "    main() "
      ],
      "metadata": {
        "colab": {
          "base_uri": "https://localhost:8080/"
        },
        "outputId": "87594f17-f791-4f00-9d98-6dadd907a153",
        "id": "t56KrOVBwrNF"
      },
      "execution_count": null,
      "outputs": [
        {
          "output_type": "stream",
          "name": "stdout",
          "text": [
            "zero\tone\t\n",
            "zero\tone\t\n",
            "zero\tone\t"
          ]
        }
      ]
    },
    {
      "cell_type": "markdown",
      "source": [
        "#####***Range is Iterable***"
      ],
      "metadata": {
        "id": "gvLCQptpwrQh"
      }
    },
    {
      "cell_type": "code",
      "source": [
        "def main():\n",
        "    a = range(5)\n",
        "    \n",
        "    for i in a:\n",
        "        print(i, end='\\t')\n",
        "    print()\n",
        "    \n",
        "    for i in iter(a):\n",
        "        print(i, end='\\t')\n",
        "    print()\n",
        "    \n",
        "    for i in a.__iter__():\n",
        "        print(i, end='\\t')\n",
        "    \n",
        "if __name__ == \"__main__\":\n",
        "    main() "
      ],
      "metadata": {
        "colab": {
          "base_uri": "https://localhost:8080/"
        },
        "outputId": "89b439a1-cc26-484c-a358-d40d5120a74f",
        "id": "vD8idcDWwrQh"
      },
      "execution_count": null,
      "outputs": [
        {
          "output_type": "stream",
          "name": "stdout",
          "text": [
            "0\t1\t2\t3\t4\t\n",
            "0\t1\t2\t3\t4\t\n",
            "0\t1\t2\t3\t4\t"
          ]
        }
      ]
    },
    {
      "cell_type": "markdown",
      "source": [
        "####***Section 3 Iterator***"
      ],
      "metadata": {
        "id": "lLtJWlhdvpsB"
      }
    },
    {
      "cell_type": "markdown",
      "source": [
        "#####***Iterator is Class with dunder iter  and dunder next***"
      ],
      "metadata": {
        "id": "rTSbc1h1yzlf"
      }
    },
    {
      "cell_type": "code",
      "source": [
        "class Yes:\n",
        "    def __init__(self, stop):\n",
        "        self.state = 0\n",
        "        self.stop = stop\n",
        "    def __iter__(self): # dunder iter\n",
        "        return self     # returns self\n",
        "    def __next__(self):            # all actions\n",
        "        if self.state < self.stop: # happens\n",
        "            self.state += 1        # here\n",
        "            return 'yes'           # in dunder next\n",
        "        else:                   # iterators must raise when done\n",
        "            raise StopIteration # else considered broken.\n",
        "        \n",
        "def main(): \n",
        "    for item in Yes(3):\n",
        "        print(item)\n",
        "        \n",
        "if __name__ == \"__main__\":\n",
        "    main()"
      ],
      "metadata": {
        "id": "G716JPPwyz85"
      },
      "execution_count": null,
      "outputs": []
    },
    {
      "cell_type": "markdown",
      "source": [
        "#####***Zip is Iterator***"
      ],
      "metadata": {
        "id": "Pg6ZU-tQx_gj"
      }
    },
    {
      "cell_type": "code",
      "source": [
        "def main():\n",
        "    alphas = [0.3, 0.5, 0.7]\n",
        "    styles = [\"r-\", \"g--\", \"b:\"]\n",
        "    a = zip(alphas,styles)\n",
        "    \n",
        "    for alpha, style in a:\n",
        "        print(alpha, style)\n",
        "    print()\n",
        "    \n",
        "    print(dir(a))\n",
        "    \n",
        "if __name__ == \"__main__\":\n",
        "    main() "
      ],
      "metadata": {
        "colab": {
          "base_uri": "https://localhost:8080/"
        },
        "outputId": "bc5e894a-7bdb-4cb6-ed11-fef92a1a2e81",
        "id": "oaqpDIUMx_gk"
      },
      "execution_count": null,
      "outputs": [
        {
          "output_type": "stream",
          "name": "stdout",
          "text": [
            "0.3 r-\n",
            "0.5 g--\n",
            "0.7 b:\n",
            "\n",
            "['__class__', '__delattr__', '__dir__', '__doc__', '__eq__', '__format__', '__ge__', '__getattribute__', '__gt__', '__hash__', '__init__', '__init_subclass__', '__iter__', '__le__', '__lt__', '__ne__', '__new__', '__next__', '__reduce__', '__reduce_ex__', '__repr__', '__setattr__', '__sizeof__', '__str__', '__subclasshook__']\n"
          ]
        }
      ]
    },
    {
      "cell_type": "markdown",
      "source": [
        "#####***Built-In Function iter vs Dunder iter***"
      ],
      "metadata": {
        "id": "Vf6I1nai1qeq"
      }
    },
    {
      "cell_type": "code",
      "source": [
        "def main():\n",
        "    a = iter([1, 2, 3])\n",
        "    \n",
        "    for item in a:\n",
        "        print(item)\n",
        "   \n",
        "if __name__ == \"__main__\":\n",
        "    main() "
      ],
      "metadata": {
        "colab": {
          "base_uri": "https://localhost:8080/"
        },
        "outputId": "30e80937-7cf0-455c-87a0-fe54bffadbb8",
        "id": "Prt2WcM31qeq"
      },
      "execution_count": null,
      "outputs": [
        {
          "output_type": "stream",
          "name": "stdout",
          "text": [
            "1\n",
            "2\n",
            "3\n"
          ]
        }
      ]
    },
    {
      "cell_type": "code",
      "source": [
        "def main():\n",
        "    a = [1, 2, 3].__iter__()\n",
        "    \n",
        "    for item in a:\n",
        "        print(item)\n",
        "   \n",
        "if __name__ == \"__main__\":\n",
        "    main() "
      ],
      "metadata": {
        "colab": {
          "base_uri": "https://localhost:8080/"
        },
        "id": "KRuq_4mC1__j",
        "outputId": "99745607-a008-4bd3-816f-43d4ee33a91c"
      },
      "execution_count": null,
      "outputs": [
        {
          "output_type": "stream",
          "name": "stdout",
          "text": [
            "1\n",
            "2\n",
            "3\n"
          ]
        }
      ]
    },
    {
      "cell_type": "markdown",
      "source": [
        "#####***Built-In Function next vs Dunder next***"
      ],
      "metadata": {
        "id": "BlcI2D_r2IlZ"
      }
    },
    {
      "cell_type": "code",
      "source": [
        "def main():\n",
        "    a = iter([1, 2, 3])\n",
        "    \n",
        "    while True:\n",
        "        try:\n",
        "            print(next(a))\n",
        "        except StopIteration as e:\n",
        "            print(\"I will leave the while.\")\n",
        "            break\n",
        "\n",
        "    print(\"I am out of the while.\")\n",
        "       \n",
        "if __name__ == \"__main__\":\n",
        "    main() "
      ],
      "metadata": {
        "colab": {
          "base_uri": "https://localhost:8080/"
        },
        "outputId": "8cecebc3-53b9-41a0-bdcd-395a7f98f914",
        "id": "xdPlcRqe2IlZ"
      },
      "execution_count": null,
      "outputs": [
        {
          "output_type": "stream",
          "name": "stdout",
          "text": [
            "1\n",
            "2\n",
            "3\n",
            "I will leave the while.\n",
            "I am out of the while.\n"
          ]
        }
      ]
    },
    {
      "cell_type": "code",
      "source": [
        "def main():\n",
        "    a = iter([1, 2, 3])\n",
        "    \n",
        "    while True:\n",
        "        try:\n",
        "            print(a.__next__())\n",
        "        except StopIteration as e:\n",
        "            print(\"I will leave the while.\")\n",
        "            break\n",
        "\n",
        "    print(\"I am out of the while.\")\n",
        "       \n",
        "if __name__ == \"__main__\":\n",
        "    main() "
      ],
      "metadata": {
        "colab": {
          "base_uri": "https://localhost:8080/"
        },
        "outputId": "abe08d0c-1451-49fe-c7d3-a896cb2fb33f",
        "id": "rwiumiYf2IlZ"
      },
      "execution_count": null,
      "outputs": [
        {
          "output_type": "stream",
          "name": "stdout",
          "text": [
            "1\n",
            "2\n",
            "3\n",
            "I will leave the while.\n",
            "I am out of the while.\n"
          ]
        }
      ]
    },
    {
      "cell_type": "markdown",
      "source": [
        "####***Section 4 Generator [blog](https://stackoverflow.com/questions/2776829/difference-between-pythons-generators-and-iterators)***"
      ],
      "metadata": {
        "id": "THENlYIMvp41"
      }
    },
    {
      "cell_type": "markdown",
      "source": [
        "#####***Generator Coding Problem of Corey Schafer [eng](https://www.youtube.com/watch?v=C3Z9lJXI6Qw)***"
      ],
      "metadata": {
        "id": "cs6Twb-E0Ric"
      }
    },
    {
      "cell_type": "code",
      "source": [
        "def words_generator(sentence):\n",
        "    \n",
        "    # The is a list of characters that I treat as blank spaces.\n",
        "    blank_characters = [' ', '\\n', '\\t']\n",
        "\n",
        "    # My initial pointer is pointing the start of sentence.\n",
        "    idx = 0\n",
        "    \n",
        "    # I use the while loop to generate words,\n",
        "    # since I as a generator don't know how many words are out there.\n",
        "    #\n",
        "    # I don't want to use len(sentence.split()),\n",
        "    # since len(sentence.split()) will produce a list and spend lots of memory.\n",
        "    # This is againt the generator idea that saves lots of memory.\n",
        "    while True:\n",
        "        \n",
        "        # I first check whether I stop generating.\n",
        "        # I don't use len(sentence) to stop generating! \n",
        "        try:\n",
        "            a = sentence[idx]\n",
        "        except IndexError:\n",
        "            break\n",
        "\n",
        "        # If I decide to generate, here is the generating step:\n",
        "        \n",
        "        # This handles the consequtive blank spaces\n",
        "        # and skip these blank spaces.\n",
        "        # This also ignores \\t and \\n in addition.\n",
        "        while sentence[idx] in blank_characters:\n",
        "            idx += 1\n",
        "                \n",
        "        start = idx # start is the pointer of start of word\n",
        "        end = idx # end is the pointer of end of word\n",
        "        while True:\n",
        "            \n",
        "            try:\n",
        "                # Usual Case Handling:\n",
        "                if sentence[end] not in blank_characters:\n",
        "                    end += 1 # move the end point to right if current character is not ' ', '\\n', '\\t'\n",
        "                else:\n",
        "                    idx = end\n",
        "                    break\n",
        "            except IndexError:\n",
        "                # When I tried to identify the last word,\n",
        "                # sentence[end] raises the IndexError.\n",
        "                # So this is how I handle the last word case:\n",
        "                end += 1\n",
        "                idx = end\n",
        "                break\n",
        "                \n",
        "        yield sentence[start:end]\n",
        "\n",
        "\n",
        "def main():\n",
        "    # https://www.nytimes.com/2020/09/21/technology/microsoft-zenimax-video-game-deal.html\n",
        "    my_sentence = words_generator(\"\"\"Microsoft             landed\n",
        "    a major blow in its decades-long battle with its \n",
        "    video game industry rival Sony on Monday, announcing \n",
        "    the $7.5 billion acquisition of a video game company \n",
        "    that narrowed the gap between the two tech giants’ offerings.\n",
        "\n",
        "    By buying the game maker ZeniMax Media, the parent \n",
        "    company of gaming studios like Bethesda, Microsoft \n",
        "    gained control of major gaming titles like \n",
        "    The Elder Scrolls, Fallout, Doom, Quake and Wolfenstein. \n",
        "    The deal allows Microsoft to counter criticism \n",
        "    that it lags behind Sony in the quality of its games \n",
        "    while deepening its game catalog seven weeks \n",
        "    before both Microsoft and Sony release a new \n",
        "    generation of gaming consoles.\"\"\")\n",
        "\n",
        "    for word in my_sentence:\n",
        "        print(word, repr(word), len(word))\n",
        "        \n",
        "        \n",
        "if __name__ == \"__main__\":\n",
        "    main() "
      ],
      "metadata": {
        "colab": {
          "base_uri": "https://localhost:8080/"
        },
        "id": "6PrrFsOZ0Rid",
        "outputId": "69fe0768-5a69-4c22-bc34-12f6398990f3"
      },
      "execution_count": null,
      "outputs": [
        {
          "output_type": "stream",
          "name": "stdout",
          "text": [
            "Microsoft 'Microsoft' 9\n",
            "landed 'landed' 6\n",
            "a 'a' 1\n",
            "major 'major' 5\n",
            "blow 'blow' 4\n",
            "in 'in' 2\n",
            "its 'its' 3\n",
            "decades-long 'decades-long' 12\n",
            "battle 'battle' 6\n",
            "with 'with' 4\n",
            "its 'its' 3\n",
            "video 'video' 5\n",
            "game 'game' 4\n",
            "industry 'industry' 8\n",
            "rival 'rival' 5\n",
            "Sony 'Sony' 4\n",
            "on 'on' 2\n",
            "Monday, 'Monday,' 7\n",
            "announcing 'announcing' 10\n",
            "the 'the' 3\n",
            "$7.5 '$7.5' 4\n",
            "billion 'billion' 7\n",
            "acquisition 'acquisition' 11\n",
            "of 'of' 2\n",
            "a 'a' 1\n",
            "video 'video' 5\n",
            "game 'game' 4\n",
            "company 'company' 7\n",
            "that 'that' 4\n",
            "narrowed 'narrowed' 8\n",
            "the 'the' 3\n",
            "gap 'gap' 3\n",
            "between 'between' 7\n",
            "the 'the' 3\n",
            "two 'two' 3\n",
            "tech 'tech' 4\n",
            "giants’ 'giants’' 7\n",
            "offerings. 'offerings.' 10\n",
            "By 'By' 2\n",
            "buying 'buying' 6\n",
            "the 'the' 3\n",
            "game 'game' 4\n",
            "maker 'maker' 5\n",
            "ZeniMax 'ZeniMax' 7\n",
            "Media, 'Media,' 6\n",
            "the 'the' 3\n",
            "parent 'parent' 6\n",
            "company 'company' 7\n",
            "of 'of' 2\n",
            "gaming 'gaming' 6\n",
            "studios 'studios' 7\n",
            "like 'like' 4\n",
            "Bethesda, 'Bethesda,' 9\n",
            "Microsoft 'Microsoft' 9\n",
            "gained 'gained' 6\n",
            "control 'control' 7\n",
            "of 'of' 2\n",
            "major 'major' 5\n",
            "gaming 'gaming' 6\n",
            "titles 'titles' 6\n",
            "like 'like' 4\n",
            "The 'The' 3\n",
            "Elder 'Elder' 5\n",
            "Scrolls, 'Scrolls,' 8\n",
            "Fallout, 'Fallout,' 8\n",
            "Doom, 'Doom,' 5\n",
            "Quake 'Quake' 5\n",
            "and 'and' 3\n",
            "Wolfenstein. 'Wolfenstein.' 12\n",
            "The 'The' 3\n",
            "deal 'deal' 4\n",
            "allows 'allows' 6\n",
            "Microsoft 'Microsoft' 9\n",
            "to 'to' 2\n",
            "counter 'counter' 7\n",
            "criticism 'criticism' 9\n",
            "that 'that' 4\n",
            "it 'it' 2\n",
            "lags 'lags' 4\n",
            "behind 'behind' 6\n",
            "Sony 'Sony' 4\n",
            "in 'in' 2\n",
            "the 'the' 3\n",
            "quality 'quality' 7\n",
            "of 'of' 2\n",
            "its 'its' 3\n",
            "games 'games' 5\n",
            "while 'while' 5\n",
            "deepening 'deepening' 9\n",
            "its 'its' 3\n",
            "game 'game' 4\n",
            "catalog 'catalog' 7\n",
            "seven 'seven' 5\n",
            "weeks 'weeks' 5\n",
            "before 'before' 6\n",
            "both 'both' 4\n",
            "Microsoft 'Microsoft' 9\n",
            "and 'and' 3\n",
            "Sony 'Sony' 4\n",
            "release 'release' 7\n",
            "a 'a' 1\n",
            "new 'new' 3\n",
            "generation 'generation' 10\n",
            "of 'of' 2\n",
            "gaming 'gaming' 6\n",
            "consoles. 'consoles.' 9\n"
          ]
        }
      ]
    },
    {
      "cell_type": "markdown",
      "source": [
        "###***Chapter 26 Conditional Statements [eng](https://www.youtube.com/watch?v=DZwmZ8Usvnk&index=6&list=PL-osiE80TeTt2d9bfVyTiXJA-UTHn6WwU)***"
      ],
      "metadata": {
        "id": "PeFfhXtajY7d"
      }
    },
    {
      "cell_type": "markdown",
      "source": [
        "#####***Section 1 if***"
      ],
      "metadata": {
        "id": "jMunVvdSs3_0"
      }
    },
    {
      "cell_type": "code",
      "source": [
        "def main():\n",
        "    if True:\n",
        "        print('Conditional was True')\n",
        "\n",
        "if __name__ == \"__main__\":\n",
        "    main()"
      ],
      "metadata": {
        "colab": {
          "base_uri": "https://localhost:8080/"
        },
        "outputId": "34bb527f-5539-406a-89ea-36faaaff87d6",
        "id": "JG8qNDxhs3_1"
      },
      "execution_count": null,
      "outputs": [
        {
          "output_type": "stream",
          "name": "stdout",
          "text": [
            "Conditional was True\n"
          ]
        }
      ]
    },
    {
      "cell_type": "markdown",
      "source": [
        "#####***Section 2 if else***"
      ],
      "metadata": {
        "id": "f2NWFSmZs4DF"
      }
    },
    {
      "cell_type": "code",
      "source": [
        "def main():\n",
        "    if False:\n",
        "        print('Conditional was True')\n",
        "    else:\n",
        "        print('Conditional was False')\n",
        "\n",
        "if __name__ == \"__main__\":\n",
        "    main()"
      ],
      "metadata": {
        "colab": {
          "base_uri": "https://localhost:8080/"
        },
        "outputId": "fa153cf1-9b4f-4fd2-f34d-ccd641ef493c",
        "id": "swN0vWk7s4DG"
      },
      "execution_count": null,
      "outputs": [
        {
          "output_type": "stream",
          "name": "stdout",
          "text": [
            "Conditional was False\n"
          ]
        }
      ]
    },
    {
      "cell_type": "markdown",
      "source": [
        "#####***Section 3 if elif ... elif***"
      ],
      "metadata": {
        "id": "RkP3W39Ks4Fw"
      }
    },
    {
      "cell_type": "code",
      "source": [
        "def main():\n",
        "    if False:\n",
        "        print('Conditional was True')\n",
        "    elif True:\n",
        "        print('Second Conditional was True')\n",
        "\n",
        "if __name__ == \"__main__\":\n",
        "    main()"
      ],
      "metadata": {
        "colab": {
          "base_uri": "https://localhost:8080/"
        },
        "outputId": "a07cf5de-7917-478c-e5ef-98bbd111c078",
        "id": "tryjM_ycs4Fx"
      },
      "execution_count": null,
      "outputs": [
        {
          "output_type": "stream",
          "name": "stdout",
          "text": [
            "Second Conditional was True\n"
          ]
        }
      ]
    },
    {
      "cell_type": "markdown",
      "source": [
        "#####***Section 4 if elif ... elif else***"
      ],
      "metadata": {
        "id": "xE_gE2Jus4Il"
      }
    },
    {
      "cell_type": "code",
      "source": [
        "def main():\n",
        "    if False:\n",
        "        print('Conditional was True')\n",
        "    elif False:\n",
        "        print('Second Conditional was True')\n",
        "    else:\n",
        "        print('Second Conditional was False')\n",
        "\n",
        "if __name__ == \"__main__\":\n",
        "    main()"
      ],
      "metadata": {
        "colab": {
          "base_uri": "https://localhost:8080/"
        },
        "outputId": "bba78467-55e6-4259-ae2a-c129fec639bc",
        "id": "qqViWXm1s4Im"
      },
      "execution_count": null,
      "outputs": [
        {
          "output_type": "stream",
          "name": "stdout",
          "text": [
            "Second Conditional was False\n"
          ]
        }
      ]
    },
    {
      "cell_type": "markdown",
      "source": [
        "#####***Section 5 One Line if else***"
      ],
      "metadata": {
        "id": "cuOe_QAMxaNm"
      }
    },
    {
      "cell_type": "code",
      "source": [
        "def main():\n",
        "    x = 1 if True else -1\n",
        "    print(x)\n",
        "\n",
        "if __name__ == \"__main__\":\n",
        "    main()"
      ],
      "metadata": {
        "id": "RQYUcEZXxah6",
        "colab": {
          "base_uri": "https://localhost:8080/"
        },
        "outputId": "fdb93e6d-0bed-4edf-a906-e44a66c3dad4"
      },
      "execution_count": null,
      "outputs": [
        {
          "output_type": "stream",
          "name": "stdout",
          "text": [
            "1\n"
          ]
        }
      ]
    },
    {
      "cell_type": "markdown",
      "source": [
        "#####***Section 6 False Values***"
      ],
      "metadata": {
        "id": "G8MnkOy5s4Lf"
      }
    },
    {
      "cell_type": "markdown",
      "source": [
        "- False\n",
        "- None\n",
        "- Zero of any numeric type\n",
        "- Any empty sequence, for example, '', (), []\n",
        "- Any empty mapping, for example, {}"
      ],
      "metadata": {
        "id": "EZ3onNAftxMM"
      }
    },
    {
      "cell_type": "markdown",
      "source": [
        "####***Section 7 Logical Operations***"
      ],
      "metadata": {
        "id": "0gkshv3WusZk"
      }
    },
    {
      "cell_type": "markdown",
      "source": [
        "#####***and***"
      ],
      "metadata": {
        "id": "k5iajnu_u6-d"
      }
    },
    {
      "cell_type": "code",
      "source": [
        "def main():\n",
        "    user = 'Admin'\n",
        "    logged_in = True\n",
        "    \n",
        "    if user == 'Admin' and logged_in:\n",
        "        print('Admin Page')\n",
        "    else:\n",
        "        print('Bad Creds')\n",
        "          \n",
        "if __name__ == \"__main__\":\n",
        "    main()"
      ],
      "metadata": {
        "id": "anGLKXdWu6-e"
      },
      "execution_count": null,
      "outputs": []
    },
    {
      "cell_type": "markdown",
      "source": [
        "#####***or***"
      ],
      "metadata": {
        "id": "mHJwZvIZu7O0"
      }
    },
    {
      "cell_type": "code",
      "source": [
        "def main():\n",
        "    user = 'Admin'\n",
        "    logged_in = True   \n",
        "        \n",
        "    if user == 'Admin' or logged_in:\n",
        "        print('Admin Page')\n",
        "    else:\n",
        "        print('Bad Creds')\n",
        "    print()    \n",
        "          \n",
        "if __name__ == \"__main__\":\n",
        "    main()"
      ],
      "metadata": {
        "id": "GC3H73I0u7O1"
      },
      "execution_count": null,
      "outputs": []
    },
    {
      "cell_type": "markdown",
      "source": [
        "#####***not***"
      ],
      "metadata": {
        "id": "U2KxynKIu7Sg"
      }
    },
    {
      "cell_type": "code",
      "source": [
        "def main():\n",
        "    user = 'Admin'\n",
        "    logged_in = True   \n",
        "        \n",
        "    if not logged_in:\n",
        "        print('Please Log In')\n",
        "    else:\n",
        "        print('Welcome')\n",
        "           \n",
        "if __name__ == \"__main__\":\n",
        "    main()"
      ],
      "metadata": {
        "id": "FbwkTBbIu7Sh"
      },
      "execution_count": null,
      "outputs": []
    },
    {
      "cell_type": "markdown",
      "source": [
        "####***Section 8 if dunder name == dunder main [eng](https://www.youtube.com/watch?v=g_wlZ9IhbTs)***"
      ],
      "metadata": {
        "id": "gyoZYLlUvfW5"
      }
    },
    {
      "cell_type": "code",
      "source": [
        "%%writefile name_python_file.py\n",
        "print(__name__)\n",
        "\n",
        "def main():\n",
        "    print(\"You are landing here inside the function block!\")\n",
        "\n",
        "if __name__ == \"__main__\":\n",
        "    main()"
      ],
      "metadata": {
        "colab": {
          "base_uri": "https://localhost:8080/"
        },
        "id": "PMY9BQ9Wv1_g",
        "outputId": "720fe3b1-ad2a-48cf-a41d-0e568195bad6"
      },
      "execution_count": null,
      "outputs": [
        {
          "output_type": "stream",
          "name": "stdout",
          "text": [
            "Writing name_python_file.py\n"
          ]
        }
      ]
    },
    {
      "cell_type": "code",
      "source": [
        "!python name_python_file.py"
      ],
      "metadata": {
        "colab": {
          "base_uri": "https://localhost:8080/"
        },
        "id": "o9v2Gr8WwW3J",
        "outputId": "2ef44fb2-7c9f-4475-93e2-7bf00869ee95"
      },
      "execution_count": null,
      "outputs": [
        {
          "output_type": "stream",
          "name": "stdout",
          "text": [
            "__main__\n",
            "You are landing here inside the function block!\n"
          ]
        }
      ]
    },
    {
      "cell_type": "code",
      "source": [
        "import name_python_file\n",
        "\n",
        "def main():    \n",
        "    print(f\"{__name__ = }\")\n",
        "    print(f\"{globals() = }\")\n",
        "    print(f\"{globals()['__name__'] = }\")\n",
        "           \n",
        "if __name__ == '__main__':\n",
        "    main()"
      ],
      "metadata": {
        "colab": {
          "base_uri": "https://localhost:8080/"
        },
        "id": "oLdHqWADwXCZ",
        "outputId": "e74b6e1a-945d-440a-b4be-9be4e8ae7eac"
      },
      "execution_count": null,
      "outputs": [
        {
          "output_type": "stream",
          "name": "stdout",
          "text": [
            "name_python_file\n",
            "__name__ = '__main__'\n",
            "globals() = {'__name__': '__main__', '__doc__': 'Automatically created module for IPython interactive environment', '__package__': None, '__loader__': None, '__spec__': None, '__builtin__': <module 'builtins' (built-in)>, '__builtins__': <module 'builtins' (built-in)>, '_ih': ['', \"# if\\nif True:\\n  print('Conditional was True')\\n\\n# if else\\nif False:\\n  print('Conditional was True')\\nelse:\\n  print('Conditional was False')\\n\\n# if elif\\nif False:\\n  print('Conditional was True')\\nelif True:\\n  print('Second Conditional was True')\\n\\n# if elif else\\nif False:\\n  print('Conditional was True')\\nelif False:\\n  print('Second Conditional was True')\\nelse:\\n  print('Second Conditional was False')\\n\\n# False Values\\n# - False\\n# - None\\n# - Zero of any numeric type\\n# - Any empty sequence. For example, '', (), []\\n# - Any empty mapping. For example, {}\", 'x = 1 if True else -1\\nprint(x)', \"get_ipython().system('pip install pandas-datareader')\\nget_ipython().system('pip install yfinance')\", 'import matplotlib.pyplot as plt\\nimport numpy as np; np.random.seed(0)\\nimport pandas as pd\\nimport yfinance as yf\\nfrom scipy import stats', 'def main():\\n    if True:\\n        print(\\'Conditional was True\\')\\n\\nif __name__ == \"__main__\":\\n    main()', 'def main():\\n    if False:\\n        print(\\'Conditional was True\\')\\n    else:\\n        print(\\'Conditional was False\\')\\n\\nif __name__ == \"__main__\":\\n    main()', 'def main():\\n    if False:\\n        print(\\'Conditional was True\\')\\n    elif True:\\n        print(\\'Second Conditional was True\\')\\n\\nif __name__ == \"__main__\":\\n    main()', 'def main():\\n    if False:\\n        print(\\'Conditional was True\\')\\n    elif False:\\n        print(\\'Second Conditional was True\\')\\n    else:\\n        print(\\'Second Conditional was False\\')\\n\\nif __name__ == \"__main__\":\\n    main()', 'get_ipython().run_cell_magic(\\'writefile\\', \\'name_python_file.py\\', \\'print(__name__)\\\\n\\\\ndef main():\\\\n    print(\"You are landing here inside the function block!\")\\\\n\\\\nif __name__ == \"__main__\":\\\\n    main()\\\\n\\')', \"get_ipython().system('python name_python_file.py')\", 'import name_python_file\\n\\ndef main():    \\n    print(f\"{__name__ = }\")\\n    print(f\"{globals() = }\")\\n    print(f\"{globals()[\\'__name__\\'] = }\")\\n           \\nif __name__ == \\'__main__\\':\\n    main()'], '_oh': {}, '_dh': ['/content'], 'In': ['', \"# if\\nif True:\\n  print('Conditional was True')\\n\\n# if else\\nif False:\\n  print('Conditional was True')\\nelse:\\n  print('Conditional was False')\\n\\n# if elif\\nif False:\\n  print('Conditional was True')\\nelif True:\\n  print('Second Conditional was True')\\n\\n# if elif else\\nif False:\\n  print('Conditional was True')\\nelif False:\\n  print('Second Conditional was True')\\nelse:\\n  print('Second Conditional was False')\\n\\n# False Values\\n# - False\\n# - None\\n# - Zero of any numeric type\\n# - Any empty sequence. For example, '', (), []\\n# - Any empty mapping. For example, {}\", 'x = 1 if True else -1\\nprint(x)', \"get_ipython().system('pip install pandas-datareader')\\nget_ipython().system('pip install yfinance')\", 'import matplotlib.pyplot as plt\\nimport numpy as np; np.random.seed(0)\\nimport pandas as pd\\nimport yfinance as yf\\nfrom scipy import stats', 'def main():\\n    if True:\\n        print(\\'Conditional was True\\')\\n\\nif __name__ == \"__main__\":\\n    main()', 'def main():\\n    if False:\\n        print(\\'Conditional was True\\')\\n    else:\\n        print(\\'Conditional was False\\')\\n\\nif __name__ == \"__main__\":\\n    main()', 'def main():\\n    if False:\\n        print(\\'Conditional was True\\')\\n    elif True:\\n        print(\\'Second Conditional was True\\')\\n\\nif __name__ == \"__main__\":\\n    main()', 'def main():\\n    if False:\\n        print(\\'Conditional was True\\')\\n    elif False:\\n        print(\\'Second Conditional was True\\')\\n    else:\\n        print(\\'Second Conditional was False\\')\\n\\nif __name__ == \"__main__\":\\n    main()', 'get_ipython().run_cell_magic(\\'writefile\\', \\'name_python_file.py\\', \\'print(__name__)\\\\n\\\\ndef main():\\\\n    print(\"You are landing here inside the function block!\")\\\\n\\\\nif __name__ == \"__main__\":\\\\n    main()\\\\n\\')', \"get_ipython().system('python name_python_file.py')\", 'import name_python_file\\n\\ndef main():    \\n    print(f\"{__name__ = }\")\\n    print(f\"{globals() = }\")\\n    print(f\"{globals()[\\'__name__\\'] = }\")\\n           \\nif __name__ == \\'__main__\\':\\n    main()'], 'Out': {}, 'get_ipython': <bound method InteractiveShell.get_ipython of <google.colab._shell.Shell object at 0x7f9944997f10>>, 'exit': <IPython.core.autocall.ZMQExitAutocall object at 0x7f9944591370>, 'quit': <IPython.core.autocall.ZMQExitAutocall object at 0x7f9944591370>, '_': '', '__': '', '___': '', '_i': '!python name_python_file.py', '_ii': '%%writefile name_python_file.py\\nprint(__name__)\\n\\ndef main():\\n    print(\"You are landing here inside the function block!\")\\n\\nif __name__ == \"__main__\":\\n    main()', '_iii': 'def main():\\n    if False:\\n        print(\\'Conditional was True\\')\\n    elif False:\\n        print(\\'Second Conditional was True\\')\\n    else:\\n        print(\\'Second Conditional was False\\')\\n\\nif __name__ == \"__main__\":\\n    main()', '_i1': \"# if\\nif True:\\n  print('Conditional was True')\\n\\n# if else\\nif False:\\n  print('Conditional was True')\\nelse:\\n  print('Conditional was False')\\n\\n# if elif\\nif False:\\n  print('Conditional was True')\\nelif True:\\n  print('Second Conditional was True')\\n\\n# if elif else\\nif False:\\n  print('Conditional was True')\\nelif False:\\n  print('Second Conditional was True')\\nelse:\\n  print('Second Conditional was False')\\n\\n# False Values\\n# - False\\n# - None\\n# - Zero of any numeric type\\n# - Any empty sequence. For example, '', (), []\\n# - Any empty mapping. For example, {}\", '_i2': 'x = 1 if True else -1\\nprint(x)', 'x': 1, '_i3': '!pip install pandas-datareader\\n!pip install yfinance', '_exit_code': 0, '_i4': 'import matplotlib.pyplot as plt\\nimport numpy as np; np.random.seed(0)\\nimport pandas as pd\\nimport yfinance as yf\\nfrom scipy import stats', 'plt': <module 'matplotlib.pyplot' from '/usr/local/lib/python3.9/dist-packages/matplotlib/pyplot.py'>, 'np': <module 'numpy' from '/usr/local/lib/python3.9/dist-packages/numpy/__init__.py'>, 'pd': <module 'pandas' from '/usr/local/lib/python3.9/dist-packages/pandas/__init__.py'>, 'yf': <module 'yfinance' from '/usr/local/lib/python3.9/dist-packages/yfinance/__init__.py'>, 'stats': <module 'scipy.stats' from '/usr/local/lib/python3.9/dist-packages/scipy/stats/__init__.py'>, '_i5': 'def main():\\n    if True:\\n        print(\\'Conditional was True\\')\\n\\nif __name__ == \"__main__\":\\n    main()', 'main': <function main at 0x7f98f6755a60>, '_i6': 'def main():\\n    if False:\\n        print(\\'Conditional was True\\')\\n    else:\\n        print(\\'Conditional was False\\')\\n\\nif __name__ == \"__main__\":\\n    main()', '_i7': 'def main():\\n    if False:\\n        print(\\'Conditional was True\\')\\n    elif True:\\n        print(\\'Second Conditional was True\\')\\n\\nif __name__ == \"__main__\":\\n    main()', '_i8': 'def main():\\n    if False:\\n        print(\\'Conditional was True\\')\\n    elif False:\\n        print(\\'Second Conditional was True\\')\\n    else:\\n        print(\\'Second Conditional was False\\')\\n\\nif __name__ == \"__main__\":\\n    main()', '_i9': '%%writefile name_python_file.py\\nprint(__name__)\\n\\ndef main():\\n    print(\"You are landing here inside the function block!\")\\n\\nif __name__ == \"__main__\":\\n    main()', '_i10': '!python name_python_file.py', '_i11': 'import name_python_file\\n\\ndef main():    \\n    print(f\"{__name__ = }\")\\n    print(f\"{globals() = }\")\\n    print(f\"{globals()[\\'__name__\\'] = }\")\\n           \\nif __name__ == \\'__main__\\':\\n    main()', 'name_python_file': <module 'name_python_file' from '/content/name_python_file.py'>}\n",
            "globals()['__name__'] = '__main__'\n"
          ]
        }
      ]
    },
    {
      "cell_type": "markdown",
      "source": [],
      "metadata": {
        "id": "F02U5qNTv9TR"
      }
    },
    {
      "cell_type": "markdown",
      "source": [
        "#***PART V FUNCTION***"
      ],
      "metadata": {
        "id": "_DwBO2UZHHiV"
      }
    },
    {
      "cell_type": "markdown",
      "source": [
        "###***Chapter 27 Variable***"
      ],
      "metadata": {
        "id": "TQ-Om7DT9Ut1"
      }
    },
    {
      "cell_type": "markdown",
      "source": [
        "####***Section 1 Variable***"
      ],
      "metadata": {
        "id": "kYY_hTTwHoel"
      }
    },
    {
      "cell_type": "markdown",
      "source": [
        "#####***Restrictions on Variable Name***"
      ],
      "metadata": {
        "id": "ZIFqpulwHsVG"
      }
    },
    {
      "cell_type": "markdown",
      "source": [
        "- No starting numbers\n",
        "\n",
        "- No blank space\n",
        "\n",
        "- No special characters except underscores"
      ],
      "metadata": {
        "id": "AvDi50MvH0zM"
      }
    },
    {
      "cell_type": "code",
      "source": [
        "def main():\n",
        "    # No starting numbers\n",
        "    # 7_message = 'Hello World' \n",
        "    seven_message = 'Hello World' \n",
        "\n",
        "    # No blank space\n",
        "    # seven message = 'Hello World' \n",
        "    seven_message = 'Hello World' \n",
        "\n",
        "    # No special characters except underscores\n",
        "    # seven@message = 'Hello World' \n",
        "    seven_message = 'Hello World' \n",
        "\n",
        "if __name__ == \"__main__\":\n",
        "     main()   "
      ],
      "metadata": {
        "id": "jlFUymibIXq1"
      },
      "execution_count": null,
      "outputs": []
    },
    {
      "cell_type": "markdown",
      "source": [
        "####***Section 2 Special Variable***"
      ],
      "metadata": {
        "id": "6Tuy0cXN4Csj"
      }
    },
    {
      "cell_type": "markdown",
      "source": [
        "#####***Special Variable dunder name [eng](https://www.youtube.com/watch?v=sugvnHA7ElY&t=3s)***"
      ],
      "metadata": {
        "id": "33Y-CgMGvvDV"
      }
    },
    {
      "cell_type": "code",
      "source": [
        "%%writefile special_python_file.py\n",
        "print(f\"{__name__ = }\")\n",
        "\n",
        "def main():\n",
        "    print(f\"{__name__ = }\")\n",
        "\n",
        "if __name__ == \"__main__\":\n",
        "    main()"
      ],
      "metadata": {
        "colab": {
          "base_uri": "https://localhost:8080/"
        },
        "id": "7xGywjkOv8rx",
        "outputId": "6a2ae101-b015-44da-cf78-26c98d5c20d1"
      },
      "execution_count": null,
      "outputs": [
        {
          "output_type": "stream",
          "name": "stdout",
          "text": [
            "Writing special_python_file.py\n"
          ]
        }
      ]
    },
    {
      "cell_type": "code",
      "source": [
        "import special_python_file"
      ],
      "metadata": {
        "colab": {
          "base_uri": "https://localhost:8080/"
        },
        "id": "g5sOT85E0Xqc",
        "outputId": "816ee0ab-2529-447c-f2c1-cd9bd37077b2"
      },
      "execution_count": null,
      "outputs": [
        {
          "output_type": "stream",
          "name": "stdout",
          "text": [
            "__name__ = 'special_python_file'\n"
          ]
        }
      ]
    },
    {
      "cell_type": "code",
      "source": [
        "!python name.py"
      ],
      "metadata": {
        "colab": {
          "base_uri": "https://localhost:8080/"
        },
        "id": "Ky7xMnoC0X2S",
        "outputId": "5e0beb38-6c32-4ccc-c930-9a83bbde1257"
      },
      "execution_count": null,
      "outputs": [
        {
          "output_type": "stream",
          "name": "stdout",
          "text": [
            "__name__ = '__main__'\n",
            "__name__ = '__main__'\n"
          ]
        }
      ]
    },
    {
      "cell_type": "markdown",
      "source": [
        "####***Section 3 Variable Scope and Name Spaces [eng](https://www.youtube.com/watch?v=WYZrLtFNDVI)***"
      ],
      "metadata": {
        "id": "DDcwvLQK3_NS"
      }
    },
    {
      "cell_type": "markdown",
      "source": [
        "#####***Namespace [eng](https://www.youtube.com/watch?v=QjBNfRJeIv0)***"
      ],
      "metadata": {
        "id": "xlnye8J4LP4P"
      }
    },
    {
      "cell_type": "markdown",
      "source": [
        "***Namespaces are one honking great idea -- let's do more of those!*** from The Zen of Python"
      ],
      "metadata": {
        "id": "ITgTCQH_-gnY"
      }
    },
    {
      "cell_type": "code",
      "source": [
        "import this"
      ],
      "metadata": {
        "colab": {
          "base_uri": "https://localhost:8080/"
        },
        "id": "xtz1HArxLQMn",
        "outputId": "a764cebf-182a-411a-b9a0-269f31d8eb43"
      },
      "execution_count": 41,
      "outputs": [
        {
          "output_type": "stream",
          "name": "stdout",
          "text": [
            "{'inp_param': 35, 'local_var': 'some string'}\n",
            "\n",
            "{'__name__': '__main__', '__doc__': 'Automatically created module for IPython interactive environment', '__package__': None, '__loader__': None, '__spec__': None, '__builtin__': <module 'builtins' (built-in)>, '__builtins__': <module 'builtins' (built-in)>, '_ih': ['', 'import sys\\n\\nclass C:\\n    def __del__(self): # run automatically just before garbage collected\\n        print(f\"bye! {self}\")\\n\\ndef main():\\n    C()  \\n    print(_, end=\"\\\\n\\\\n\") # last expression is stored in _\\n\\nif __name__ == \"__main__\":\\n    main()', 'import sys\\n\\nclass C:\\n    def __del__(self): # run automatically just before garbage collected\\n        print(f\"bye! {self}\")\\n\\ndef main():\\n    C()  \\n    #print(_, end=\"\\\\n\\\\n\") # last expression is stored in _\\n\\nif __name__ == \"__main__\":\\n    main()', 'import sys\\n\\nclass C:\\n    def __del__(self): # run automatically just before garbage collected\\n        print(f\"bye! {self}\")\\n\\ndef main():\\n    C()  \\n\\nif __name__ == \"__main__\":\\n    main()', 'import sys\\n\\nclass C:\\n    def __del__(self): # run automatically just before garbage collected\\n        print(f\"bye! {self}\")\\n\\ndef main():\\n    a = C()  \\n    print(f\"{sys.getrefcount(a) = }\", end=\"\\\\n\\\\n\")\\n\\n    b = a\\n    print(f\"{sys.getrefcount(a) = }\", end=\"\\\\n\\\\n\")\\n\\n    c = a\\n    print(f\"{sys.getrefcount(a) = }\", end=\"\\\\n\\\\n\")\\n\\n    b = None\\n    print(f\"{sys.getrefcount(a) = }\", end=\"\\\\n\\\\n\")\\n\\n    c = None\\n    print(f\"{sys.getrefcount(a) = }\", end=\"\\\\n\\\\n\")\\n\\nif __name__ == \"__main__\":\\n    main()', 'import sys\\nimport weakref\\n\\nclass C:\\n    def __del__(self): # run automatically just before garbage collected\\n        print(f\"bye! {self}\")\\n\\ndef main():\\n    a = C()  \\n    print(f\"{sys.getrefcount(a) = }\", end=\"\\\\n\\\\n\")\\n\\n    b = weakref.ref(a)\\n    print(f\"{sys.getrefcount(a) = }\", end=\"\\\\n\\\\n\")\\n\\n    c = weakref.ref(a)\\n    print(f\"{sys.getrefcount(a) = }\", end=\"\\\\n\\\\n\")\\n\\n    b = None\\n    print(f\"{sys.getrefcount(a) = }\", end=\"\\\\n\\\\n\")\\n\\n    c = None\\n    print(f\"{sys.getrefcount(a) = }\", end=\"\\\\n\\\\n\")\\n\\nif __name__ == \"__main__\":\\n    main()', 'import sys\\n\\nclass C:\\n    def __del__(self): # run automatically just before garbage collected\\n        print(f\"bye! {self}\")\\n\\ndef main():\\n    C()  \\n\\nif __name__ == \"__main__\":\\n    main()', 'import sys\\n\\nclass C:\\n    def __del__(self): # run automatically just before garbage collected\\n        print(f\"bye! {self}\")\\n\\ndef main():\\n    a = C()  \\n    print(f\"{sys.getrefcount(a) = }\", end=\"\\\\n\\\\n\")\\n\\n    b = a\\n    print(f\"{sys.getrefcount(a) = }\", end=\"\\\\n\\\\n\")\\n\\n    c = a\\n    print(f\"{sys.getrefcount(a) = }\", end=\"\\\\n\\\\n\")\\n\\n    b = None\\n    print(f\"{sys.getrefcount(a) = }\", end=\"\\\\n\\\\n\")\\n\\n    c = None\\n    print(f\"{sys.getrefcount(a) = }\", end=\"\\\\n\\\\n\")\\n\\nif __name__ == \"__main__\":\\n    main()', 'def main():\\n    x = 5\\n    print(f\"{id(x) = }\")\\n        \\nif __name__ == \"__main__\":\\n    main()', 'def main():\\n    x = 5\\n    print(f\"{id(x) = }\")\\n\\n    y = x\\n    print(f\"{id(y) = }\")\\n        \\nif __name__ == \"__main__\":\\n    main()', 'import sys\\nimport weakref\\n\\nclass Person:\\n    def __init__(self, name):\\n        self.name = name\\n    def __del__(self): # run automatically just before garbage collected\\n        print(f\"bye! {self}\")\\n\\ndef main():\\n    people = []\\n\\n    print(\"Before loop\")\\n    for i in range(3):\\n        people.append(weakref.ref(Person(f\"name_{i}\")))\\n    print(\"After loop\")\\n\\nif __name__ == \"__main__\":\\n    main()', 'import sys\\n\\nclass Person:\\n    def __init__(self, name):\\n        self.name = name\\n    def __del__(self): # run automatically just before garbage collected\\n        print(f\"bye! {self}\")\\n\\ndef main():\\n    people = []\\n\\n    print(\"Before loop\")\\n    for i in range(3):\\n        people.append(Person(f\"name_{i}\"))\\n    print(\"After loop\")\\n\\nif __name__ == \"__main__\":\\n    main()', '# without __repr__ and __str__\\nclass User:\\n    def __init__(self, name):\\n        self.username = name\\n        \\ndef main():\\n    Tom = User(\"Tom Brown\")\\n    print(Tom)\\n    \\nif __name__ == \"__main__\":\\n    main()', '# with __repr__\\nclass User:\\n    def __init__(self, name):\\n        self.username = name\\n    def __repr__(self):\\n        return f\"User({self.username})\"\\n        \\ndef main():\\n    Tom = User(\"Tom Brown\")\\n    print(Tom)\\n    print(repr(Tom))\\n    print(str(Tom))\\n    \\nif __name__ == \"__main__\":\\n    main()', '# with __repr__ and __str__\\nclass User:\\n    def __init__(self, name):\\n        self.username = name\\n    def __repr__(self):\\n        return f\"User({self.username})\"\\n    def __str__(self):\\n        return f\"User class instance with username {self.username}\"\\n        \\ndef main():\\n    Tom = User(\"Tom Brown\")\\n    print(Tom)\\n    print(repr(Tom))\\n    print(str(Tom))\\n    \\nif __name__ == \"__main__\":\\n    main()', 'def print_x():\\n    # Inside the function definition, we do not define x as a local variable. \\n    # So, when we use the variable x, \\n    # we search for the variable out of the function scope. \\n    # LEGB\\n    print(f\\'{x = }\\')\\n\\ndef main():\\n    x = 1\\n    print_x()\\n    print(print_x.__code__.co_varnames) # local variables of the function print_x\\n\\nif __name__ == \"__main__\":\\n    main()', 'x = 1\\n\\ndef print_x():\\n    # Inside the function definition, we do not define x as a local variable. \\n    # So, when we use the variable x, \\n    # we search for the variable out of the function scope. \\n    # LEGB\\n    print(f\\'{x = }\\')\\n\\ndef main():   \\n    print_x()\\n    print(print_x.__code__.co_varnames) # local variables of the function print_x\\n\\nif __name__ == \"__main__\":\\n    main()', 'x = 1\\n\\ndef print_x():\\n    # Before executing the function, Python reads \\n    # through the function definition and identifies all the local variables.\\n    # Inside the function definition, we define x as a local variable\\n    # in the assignment statement x = 10. \\n    # So, when we use the variable x, \\n    # we search for the variable inside the function scope. \\n    # LEGB\\n    # However, when we use the variable x, \\n    # the variable x still needs to be initialized.\\n    # UnboundLocalError \\n    print(f\\'{x = }\\')\\n    x = 10 # <--- This assignment statement makes x local.\\n\\ndef main():\\n    try:\\n        print_x()\\n    except UnboundLocalError as e:\\n        print(e)\\n    print(print_x.__code__.co_varnames) # local variables of the function print_x\\n\\nif __name__ == \"__main__\":\\n    main()', 'x = 1\\n\\ndef print_x():\\n    # Before executing the function, Python reads \\n    # through the function definition and identifies all the local variables.\\n    # Inside the function definition, we define x as a local variable\\n    # in the assignment statement x = x + 10. \\n    # So, when we use the variable x, \\n    # we search for the variable inside the function scope. \\n    # LEGB\\n    # However, when we use the variable x, \\n    # the variable x still needs to be initialized.\\n    # UnboundLocalError \\n    x = x + 10 # <--- This assignment statement makes x local.\\n    print(f\\'{x = }\\')\\n\\ndef main():\\n    try:\\n        print_x()\\n    except UnboundLocalError as e:\\n        print(e)\\n    print(print_x.__code__.co_varnames) # local variables of the function print_x\\n\\nif __name__ == \"__main__\":\\n    main()', 'def add_some():\\n    # Method call does not make x a local variable. \\n    # x is a global variable.\\n    x.append(5) # <--- This method call does not make x local.   \\n    return x\\n\\ndef main():\\n    x = [\\'seoul\\']\\n    print(add_some())\\n\\nif __name__ == \"__main__\":\\n    main()', 'x = [\\'seoul\\']\\n\\ndef add_some():\\n    # Method call does not make x a local variable. \\n    # x is a global variable.\\n    x.append(5) # <--- This method call does not make x local.   \\n    return x\\n\\ndef main():   \\n    print(add_some())\\n\\nif __name__ == \"__main__\":\\n    main()', 'x = [\\'seoul\\']\\n\\ndef add_some():\\n    # Assignment makes x a local variable. \\n    x += [5] # <--- This assignment makes x local.      \\n    return x\\n\\ndef main(): \\n    try:\\n        print(add_some())\\n    except UnboundLocalError as e:\\n        print(e)\\n\\nif __name__ == \"__main__\":\\n    main()', 'class Example:\\n    def __init__(self, item):\\n        self.item = item\\n\\ndef change():\\n    # Member assignment is method call, not assignment.\\n    # Method call does not make x a local variable.\\n    # x is a global variable. \\n    x.item = 2 # <--- member assignment is a method call\\n\\ndef main(): \\n    x = Example(1)\\n    print(f\"{x.item = }\")\\n\\n    change()\\n    print(f\"{x.item = }\")\\n\\nif __name__ == \"__main__\":\\n    main()', 'x = 1\\n\\ndef print_x():\\n    # Inside the function definition, we do not define x as a local variable. \\n    # So, when we use the variable x, \\n    # we search for the variable out of the function scope. \\n    # LEGB\\n    print(f\\'{x = }\\')\\n\\ndef main():   \\n    print_x()\\n    print(print_x.__code__.co_varnames) # local variables of the function print_x\\n\\nif __name__ == \"__main__\":\\n    main()', 'x = 1\\n\\ndef print_x():\\n    # Before executing the function, Python reads \\n    # through the function definition and identifies all the local variables.\\n    # Inside the function definition, we define x as a local variable\\n    # in the assignment statement x = 10. \\n    # So, when we use the variable x, \\n    # we search for the variable inside the function scope. \\n    # LEGB\\n    x = 10 # <--- This assignment statement makes x local.\\n    print(f\\'{x = }\\')\\n\\ndef main():   \\n    print_x()\\n    print(print_x.__code__.co_varnames) # local variables of the function print_x\\n\\nif __name__ == \"__main__\":\\n    main()', 'x = 1\\n\\ndef print_x():\\n    # Before executing the function, Python reads \\n    # through the function definition and identifies all the local variables.\\n    # Inside the function definition, we define x as a local variable\\n    # in the assignment statement x = 10. \\n    # So, when we use the variable x, \\n    # we search for the variable inside the function scope. \\n    # LEGB\\n    # However, when we use the variable x, \\n    # the variable x still needs to be initialized.\\n    # UnboundLocalError \\n    print(f\\'{x = }\\')\\n    x = 10 # <--- This assignment statement makes x local.\\n\\ndef main():\\n    try:\\n        print_x()\\n    except UnboundLocalError as e:\\n        print(e)\\n    print(print_x.__code__.co_varnames) # local variables of the function print_x\\n\\nif __name__ == \"__main__\":\\n    main()', 'x = 1\\n\\ndef print_x():\\n    # Before executing the function, Python reads \\n    # through the function definition and identifies all the local variables.\\n    # Inside the function definition, we define x as a local variable\\n    # in the assignment statement x = x + 10. \\n    # So, when we use the variable x, \\n    # we search for the variable inside the function scope. \\n    # LEGB\\n    # However, when we use the variable x, \\n    # the variable x still needs to be initialized.\\n    # UnboundLocalError \\n    x = x + 10 # <--- This assignment statement makes x local.\\n    print(f\\'{x = }\\')\\n\\ndef main():\\n    try:\\n        print_x()\\n    except UnboundLocalError as e:\\n        print(e)\\n    print(print_x.__code__.co_varnames) # local variables of the function print_x\\n\\nif __name__ == \"__main__\":\\n    main()', 'x = 1\\n\\ndef print_x():\\n    # Before executing the function, Python reads \\n    # through the function definition and identifies all the local variables.\\n    # Inside the function definition, we define x as a local variable\\n    # in the assignment statement x = x + 10. \\n    # So, when we use the variable x, \\n    # we search for the variable inside the function scope. \\n    # LEGB\\n    # However, when we use the variable x, \\n    # the variable x still needs to be initialized.\\n    # UnboundLocalError \\n    print(f\\'{x = }\\')\\n    x = x + 10 # <--- This assignment statement makes x local.\\n\\ndef main():\\n    try:\\n        print_x()\\n    except UnboundLocalError as e:\\n        print(e)\\n    print(print_x.__code__.co_varnames) # local variables of the function print_x\\n\\nif __name__ == \"__main__\":\\n    main()', 'x = 1\\n\\ndef print_x():\\n    # Without global x statement, x is a local variable \\n    # due to the assignment statement x = x + 10.\\n    # However, with global x statement, x is now a global variable. \\n    global x # <--- This global statement makes x global.\\n    print(f\\'{x = }\\')\\n    x = x + 10\\n\\ndef main():\\n    print_x()\\n    print(print_x.__code__.co_varnames) # local variables of the function print_x\\n\\nif __name__ == \"__main__\":\\n    main()', 'x = [\\'seoul\\']\\n\\ndef add_some():\\n    # Method call does not make x a local variable. \\n    # x is a global variable.\\n    x.append(5) # <--- This method call does not make x local.   \\n    return x\\n\\ndef main():   \\n    print(add_some())\\n\\nif __name__ == \"__main__\":\\n    main()', 'x = [\\'seoul\\']\\n\\ndef add_some():\\n    # Assignment makes x a local variable. \\n    x += [5] # <--- This assignment makes x local.      \\n    return x\\n\\ndef main(): \\n    try:\\n        print(add_some())\\n    except UnboundLocalError as e:\\n        print(e)\\n\\nif __name__ == \"__main__\":\\n    main()', 'class Example:\\n    def __init__(self, item):\\n        self.item = item\\n\\ndef change():\\n    # Member assignment is method call, not assignment.\\n    # Method call does not make x a local variable.\\n    # x is a global variable. \\n    x.item = 2 # <--- member assignment is a method call\\n\\nx = Example(1)\\nprint(f\"{x.item = }\")\\n\\ndef main(): \\n    change()\\n    print(f\"{x.item = }\")\\n\\nif __name__ == \"__main__\":\\n    main()', 'def change():\\n    # Item assignment is method call, not assignment.\\n    # Method call does not make x a local variable.\\n    # x is a global variable. \\n    x[\\'a\\'] = 2 # <--- item assignment is a method call\\n\\nx = {\"a\":1,\"b\":2,\"c\":3}\\nprint(f\"{x[\\'a\\'] = }\")\\n\\ndef main():\\n    change()\\n    print(f\"{x[\\'a\\'] = }\")\\n\\nif __name__ == \"__main__\":\\n    main()', 'def change():\\n    # Slice assignment is method call, not assignment.\\n    # Method call does not make x a local variable. \\n    # x is a global variable.\\n    x[1:3] = [2, 2] # <--- slice assignment is a method call\\n\\nx = [0,0,0,0,0]\\nprint(f\"{x = }\")\\n\\ndef main():\\n    change()\\n    print(f\"{x = }\")\\n\\nif __name__ == \"__main__\":\\n    main()', 'a = 25\\n\\ndef my_func():\\n    global a\\n    print(f\"{a = }\")\\n    a = 35\\n        \\ndef main():\\n    my_func()\\n    print(f\"{a = }\")\\n    \\n    print(f\"Number of local variables in my_func      : {my_func.__code__.co_nlocals}\") \\n    print(f\"Tuple of local variables names in my_func : {my_func.__code__.co_varnames}\") \\n       \\nif __name__ == \"__main__\":\\n    main()', 'def my_func():\\n    global a\\n    a = 25\\n    print(f\"{a = }\")\\n    a = 35\\n        \\ndef main():\\n    my_func()\\n    print(f\"{a = }\")\\n    \\n    print(f\"Number of local variables in my_func      : {my_func.__code__.co_nlocals}\") \\n    print(f\"Tuple of local variables names in my_func : {my_func.__code__.co_varnames}\") \\n       \\nif __name__ == \"__main__\":\\n    main()', 'a = 35\\n\\ndef outer():\\n    a = 25    \\n    def inner():\\n        nonlocal a\\n        a = 30       \\n    inner()\\n    print(a)\\n        \\ndef main():\\n    outer()\\n       \\nif __name__ == \"__main__\":\\n    main()', 'a = 35\\n\\ndef outer():\\n    a = 25    \\n    def inner1():   \\n        def inner2():\\n            nonlocal a\\n            a = 30\\n    \\n    \\ndef main():\\n    outer()\\n       \\nif __name__ == \"__main__\":\\n    main()', 'a = 35\\n\\ndef outer():\\n    a = 25    \\n    def inner1():   \\n        def inner2():\\n            nonlocal a\\n            a = 30\\n        inner2()\\n    inner1()\\n    print(a)\\n    \\n    \\ndef main():\\n    outer()\\n       \\nif __name__ == \"__main__\":\\n    main()', 'a = 35\\n\\ndef my_func(inp_param):\\n    local_var = \"some string\"\\n    print(locals()) # local namespace as a dict\\n        \\nif __name__ == \"__main__\":\\n    my_func(a)\\n    print(globals()) # global namespace as a dict\\n\\n    print(f\"Number of local variables in my_func      : {my_func.__code__.co_nlocals}\") \\n    print(f\"Tuple of local variables names in my_func : {my_func.__code__.co_varnames}\") ', 'a = 35\\n\\ndef my_func(inp_param):\\n    local_var = \"some string\"\\n    print(locals()) # local namespace as a dict\\n    print()\\n        \\nif __name__ == \"__main__\":\\n    my_func(a)\\n    print(globals()) # global namespace as a dict\\n\\n    print(f\"Number of local variables in my_func      : {my_func.__code__.co_nlocals}\") \\n    print(f\"Tuple of local variables names in my_func : {my_func.__code__.co_varnames}\") ', 'a = 35\\n\\ndef my_func(inp_param):\\n    local_var = \"some string\"\\n    print(locals()) # local namespace as a dict\\n    print()\\n        \\nif __name__ == \"__main__\":\\n    my_func(a)\\n    print(globals()) # global namespace as a dict'], '_oh': {}, '_dh': ['/content'], 'In': ['', 'import sys\\n\\nclass C:\\n    def __del__(self): # run automatically just before garbage collected\\n        print(f\"bye! {self}\")\\n\\ndef main():\\n    C()  \\n    print(_, end=\"\\\\n\\\\n\") # last expression is stored in _\\n\\nif __name__ == \"__main__\":\\n    main()', 'import sys\\n\\nclass C:\\n    def __del__(self): # run automatically just before garbage collected\\n        print(f\"bye! {self}\")\\n\\ndef main():\\n    C()  \\n    #print(_, end=\"\\\\n\\\\n\") # last expression is stored in _\\n\\nif __name__ == \"__main__\":\\n    main()', 'import sys\\n\\nclass C:\\n    def __del__(self): # run automatically just before garbage collected\\n        print(f\"bye! {self}\")\\n\\ndef main():\\n    C()  \\n\\nif __name__ == \"__main__\":\\n    main()', 'import sys\\n\\nclass C:\\n    def __del__(self): # run automatically just before garbage collected\\n        print(f\"bye! {self}\")\\n\\ndef main():\\n    a = C()  \\n    print(f\"{sys.getrefcount(a) = }\", end=\"\\\\n\\\\n\")\\n\\n    b = a\\n    print(f\"{sys.getrefcount(a) = }\", end=\"\\\\n\\\\n\")\\n\\n    c = a\\n    print(f\"{sys.getrefcount(a) = }\", end=\"\\\\n\\\\n\")\\n\\n    b = None\\n    print(f\"{sys.getrefcount(a) = }\", end=\"\\\\n\\\\n\")\\n\\n    c = None\\n    print(f\"{sys.getrefcount(a) = }\", end=\"\\\\n\\\\n\")\\n\\nif __name__ == \"__main__\":\\n    main()', 'import sys\\nimport weakref\\n\\nclass C:\\n    def __del__(self): # run automatically just before garbage collected\\n        print(f\"bye! {self}\")\\n\\ndef main():\\n    a = C()  \\n    print(f\"{sys.getrefcount(a) = }\", end=\"\\\\n\\\\n\")\\n\\n    b = weakref.ref(a)\\n    print(f\"{sys.getrefcount(a) = }\", end=\"\\\\n\\\\n\")\\n\\n    c = weakref.ref(a)\\n    print(f\"{sys.getrefcount(a) = }\", end=\"\\\\n\\\\n\")\\n\\n    b = None\\n    print(f\"{sys.getrefcount(a) = }\", end=\"\\\\n\\\\n\")\\n\\n    c = None\\n    print(f\"{sys.getrefcount(a) = }\", end=\"\\\\n\\\\n\")\\n\\nif __name__ == \"__main__\":\\n    main()', 'import sys\\n\\nclass C:\\n    def __del__(self): # run automatically just before garbage collected\\n        print(f\"bye! {self}\")\\n\\ndef main():\\n    C()  \\n\\nif __name__ == \"__main__\":\\n    main()', 'import sys\\n\\nclass C:\\n    def __del__(self): # run automatically just before garbage collected\\n        print(f\"bye! {self}\")\\n\\ndef main():\\n    a = C()  \\n    print(f\"{sys.getrefcount(a) = }\", end=\"\\\\n\\\\n\")\\n\\n    b = a\\n    print(f\"{sys.getrefcount(a) = }\", end=\"\\\\n\\\\n\")\\n\\n    c = a\\n    print(f\"{sys.getrefcount(a) = }\", end=\"\\\\n\\\\n\")\\n\\n    b = None\\n    print(f\"{sys.getrefcount(a) = }\", end=\"\\\\n\\\\n\")\\n\\n    c = None\\n    print(f\"{sys.getrefcount(a) = }\", end=\"\\\\n\\\\n\")\\n\\nif __name__ == \"__main__\":\\n    main()', 'def main():\\n    x = 5\\n    print(f\"{id(x) = }\")\\n        \\nif __name__ == \"__main__\":\\n    main()', 'def main():\\n    x = 5\\n    print(f\"{id(x) = }\")\\n\\n    y = x\\n    print(f\"{id(y) = }\")\\n        \\nif __name__ == \"__main__\":\\n    main()', 'import sys\\nimport weakref\\n\\nclass Person:\\n    def __init__(self, name):\\n        self.name = name\\n    def __del__(self): # run automatically just before garbage collected\\n        print(f\"bye! {self}\")\\n\\ndef main():\\n    people = []\\n\\n    print(\"Before loop\")\\n    for i in range(3):\\n        people.append(weakref.ref(Person(f\"name_{i}\")))\\n    print(\"After loop\")\\n\\nif __name__ == \"__main__\":\\n    main()', 'import sys\\n\\nclass Person:\\n    def __init__(self, name):\\n        self.name = name\\n    def __del__(self): # run automatically just before garbage collected\\n        print(f\"bye! {self}\")\\n\\ndef main():\\n    people = []\\n\\n    print(\"Before loop\")\\n    for i in range(3):\\n        people.append(Person(f\"name_{i}\"))\\n    print(\"After loop\")\\n\\nif __name__ == \"__main__\":\\n    main()', '# without __repr__ and __str__\\nclass User:\\n    def __init__(self, name):\\n        self.username = name\\n        \\ndef main():\\n    Tom = User(\"Tom Brown\")\\n    print(Tom)\\n    \\nif __name__ == \"__main__\":\\n    main()', '# with __repr__\\nclass User:\\n    def __init__(self, name):\\n        self.username = name\\n    def __repr__(self):\\n        return f\"User({self.username})\"\\n        \\ndef main():\\n    Tom = User(\"Tom Brown\")\\n    print(Tom)\\n    print(repr(Tom))\\n    print(str(Tom))\\n    \\nif __name__ == \"__main__\":\\n    main()', '# with __repr__ and __str__\\nclass User:\\n    def __init__(self, name):\\n        self.username = name\\n    def __repr__(self):\\n        return f\"User({self.username})\"\\n    def __str__(self):\\n        return f\"User class instance with username {self.username}\"\\n        \\ndef main():\\n    Tom = User(\"Tom Brown\")\\n    print(Tom)\\n    print(repr(Tom))\\n    print(str(Tom))\\n    \\nif __name__ == \"__main__\":\\n    main()', 'def print_x():\\n    # Inside the function definition, we do not define x as a local variable. \\n    # So, when we use the variable x, \\n    # we search for the variable out of the function scope. \\n    # LEGB\\n    print(f\\'{x = }\\')\\n\\ndef main():\\n    x = 1\\n    print_x()\\n    print(print_x.__code__.co_varnames) # local variables of the function print_x\\n\\nif __name__ == \"__main__\":\\n    main()', 'x = 1\\n\\ndef print_x():\\n    # Inside the function definition, we do not define x as a local variable. \\n    # So, when we use the variable x, \\n    # we search for the variable out of the function scope. \\n    # LEGB\\n    print(f\\'{x = }\\')\\n\\ndef main():   \\n    print_x()\\n    print(print_x.__code__.co_varnames) # local variables of the function print_x\\n\\nif __name__ == \"__main__\":\\n    main()', 'x = 1\\n\\ndef print_x():\\n    # Before executing the function, Python reads \\n    # through the function definition and identifies all the local variables.\\n    # Inside the function definition, we define x as a local variable\\n    # in the assignment statement x = 10. \\n    # So, when we use the variable x, \\n    # we search for the variable inside the function scope. \\n    # LEGB\\n    # However, when we use the variable x, \\n    # the variable x still needs to be initialized.\\n    # UnboundLocalError \\n    print(f\\'{x = }\\')\\n    x = 10 # <--- This assignment statement makes x local.\\n\\ndef main():\\n    try:\\n        print_x()\\n    except UnboundLocalError as e:\\n        print(e)\\n    print(print_x.__code__.co_varnames) # local variables of the function print_x\\n\\nif __name__ == \"__main__\":\\n    main()', 'x = 1\\n\\ndef print_x():\\n    # Before executing the function, Python reads \\n    # through the function definition and identifies all the local variables.\\n    # Inside the function definition, we define x as a local variable\\n    # in the assignment statement x = x + 10. \\n    # So, when we use the variable x, \\n    # we search for the variable inside the function scope. \\n    # LEGB\\n    # However, when we use the variable x, \\n    # the variable x still needs to be initialized.\\n    # UnboundLocalError \\n    x = x + 10 # <--- This assignment statement makes x local.\\n    print(f\\'{x = }\\')\\n\\ndef main():\\n    try:\\n        print_x()\\n    except UnboundLocalError as e:\\n        print(e)\\n    print(print_x.__code__.co_varnames) # local variables of the function print_x\\n\\nif __name__ == \"__main__\":\\n    main()', 'def add_some():\\n    # Method call does not make x a local variable. \\n    # x is a global variable.\\n    x.append(5) # <--- This method call does not make x local.   \\n    return x\\n\\ndef main():\\n    x = [\\'seoul\\']\\n    print(add_some())\\n\\nif __name__ == \"__main__\":\\n    main()', 'x = [\\'seoul\\']\\n\\ndef add_some():\\n    # Method call does not make x a local variable. \\n    # x is a global variable.\\n    x.append(5) # <--- This method call does not make x local.   \\n    return x\\n\\ndef main():   \\n    print(add_some())\\n\\nif __name__ == \"__main__\":\\n    main()', 'x = [\\'seoul\\']\\n\\ndef add_some():\\n    # Assignment makes x a local variable. \\n    x += [5] # <--- This assignment makes x local.      \\n    return x\\n\\ndef main(): \\n    try:\\n        print(add_some())\\n    except UnboundLocalError as e:\\n        print(e)\\n\\nif __name__ == \"__main__\":\\n    main()', 'class Example:\\n    def __init__(self, item):\\n        self.item = item\\n\\ndef change():\\n    # Member assignment is method call, not assignment.\\n    # Method call does not make x a local variable.\\n    # x is a global variable. \\n    x.item = 2 # <--- member assignment is a method call\\n\\ndef main(): \\n    x = Example(1)\\n    print(f\"{x.item = }\")\\n\\n    change()\\n    print(f\"{x.item = }\")\\n\\nif __name__ == \"__main__\":\\n    main()', 'x = 1\\n\\ndef print_x():\\n    # Inside the function definition, we do not define x as a local variable. \\n    # So, when we use the variable x, \\n    # we search for the variable out of the function scope. \\n    # LEGB\\n    print(f\\'{x = }\\')\\n\\ndef main():   \\n    print_x()\\n    print(print_x.__code__.co_varnames) # local variables of the function print_x\\n\\nif __name__ == \"__main__\":\\n    main()', 'x = 1\\n\\ndef print_x():\\n    # Before executing the function, Python reads \\n    # through the function definition and identifies all the local variables.\\n    # Inside the function definition, we define x as a local variable\\n    # in the assignment statement x = 10. \\n    # So, when we use the variable x, \\n    # we search for the variable inside the function scope. \\n    # LEGB\\n    x = 10 # <--- This assignment statement makes x local.\\n    print(f\\'{x = }\\')\\n\\ndef main():   \\n    print_x()\\n    print(print_x.__code__.co_varnames) # local variables of the function print_x\\n\\nif __name__ == \"__main__\":\\n    main()', 'x = 1\\n\\ndef print_x():\\n    # Before executing the function, Python reads \\n    # through the function definition and identifies all the local variables.\\n    # Inside the function definition, we define x as a local variable\\n    # in the assignment statement x = 10. \\n    # So, when we use the variable x, \\n    # we search for the variable inside the function scope. \\n    # LEGB\\n    # However, when we use the variable x, \\n    # the variable x still needs to be initialized.\\n    # UnboundLocalError \\n    print(f\\'{x = }\\')\\n    x = 10 # <--- This assignment statement makes x local.\\n\\ndef main():\\n    try:\\n        print_x()\\n    except UnboundLocalError as e:\\n        print(e)\\n    print(print_x.__code__.co_varnames) # local variables of the function print_x\\n\\nif __name__ == \"__main__\":\\n    main()', 'x = 1\\n\\ndef print_x():\\n    # Before executing the function, Python reads \\n    # through the function definition and identifies all the local variables.\\n    # Inside the function definition, we define x as a local variable\\n    # in the assignment statement x = x + 10. \\n    # So, when we use the variable x, \\n    # we search for the variable inside the function scope. \\n    # LEGB\\n    # However, when we use the variable x, \\n    # the variable x still needs to be initialized.\\n    # UnboundLocalError \\n    x = x + 10 # <--- This assignment statement makes x local.\\n    print(f\\'{x = }\\')\\n\\ndef main():\\n    try:\\n        print_x()\\n    except UnboundLocalError as e:\\n        print(e)\\n    print(print_x.__code__.co_varnames) # local variables of the function print_x\\n\\nif __name__ == \"__main__\":\\n    main()', 'x = 1\\n\\ndef print_x():\\n    # Before executing the function, Python reads \\n    # through the function definition and identifies all the local variables.\\n    # Inside the function definition, we define x as a local variable\\n    # in the assignment statement x = x + 10. \\n    # So, when we use the variable x, \\n    # we search for the variable inside the function scope. \\n    # LEGB\\n    # However, when we use the variable x, \\n    # the variable x still needs to be initialized.\\n    # UnboundLocalError \\n    print(f\\'{x = }\\')\\n    x = x + 10 # <--- This assignment statement makes x local.\\n\\ndef main():\\n    try:\\n        print_x()\\n    except UnboundLocalError as e:\\n        print(e)\\n    print(print_x.__code__.co_varnames) # local variables of the function print_x\\n\\nif __name__ == \"__main__\":\\n    main()', 'x = 1\\n\\ndef print_x():\\n    # Without global x statement, x is a local variable \\n    # due to the assignment statement x = x + 10.\\n    # However, with global x statement, x is now a global variable. \\n    global x # <--- This global statement makes x global.\\n    print(f\\'{x = }\\')\\n    x = x + 10\\n\\ndef main():\\n    print_x()\\n    print(print_x.__code__.co_varnames) # local variables of the function print_x\\n\\nif __name__ == \"__main__\":\\n    main()', 'x = [\\'seoul\\']\\n\\ndef add_some():\\n    # Method call does not make x a local variable. \\n    # x is a global variable.\\n    x.append(5) # <--- This method call does not make x local.   \\n    return x\\n\\ndef main():   \\n    print(add_some())\\n\\nif __name__ == \"__main__\":\\n    main()', 'x = [\\'seoul\\']\\n\\ndef add_some():\\n    # Assignment makes x a local variable. \\n    x += [5] # <--- This assignment makes x local.      \\n    return x\\n\\ndef main(): \\n    try:\\n        print(add_some())\\n    except UnboundLocalError as e:\\n        print(e)\\n\\nif __name__ == \"__main__\":\\n    main()', 'class Example:\\n    def __init__(self, item):\\n        self.item = item\\n\\ndef change():\\n    # Member assignment is method call, not assignment.\\n    # Method call does not make x a local variable.\\n    # x is a global variable. \\n    x.item = 2 # <--- member assignment is a method call\\n\\nx = Example(1)\\nprint(f\"{x.item = }\")\\n\\ndef main(): \\n    change()\\n    print(f\"{x.item = }\")\\n\\nif __name__ == \"__main__\":\\n    main()', 'def change():\\n    # Item assignment is method call, not assignment.\\n    # Method call does not make x a local variable.\\n    # x is a global variable. \\n    x[\\'a\\'] = 2 # <--- item assignment is a method call\\n\\nx = {\"a\":1,\"b\":2,\"c\":3}\\nprint(f\"{x[\\'a\\'] = }\")\\n\\ndef main():\\n    change()\\n    print(f\"{x[\\'a\\'] = }\")\\n\\nif __name__ == \"__main__\":\\n    main()', 'def change():\\n    # Slice assignment is method call, not assignment.\\n    # Method call does not make x a local variable. \\n    # x is a global variable.\\n    x[1:3] = [2, 2] # <--- slice assignment is a method call\\n\\nx = [0,0,0,0,0]\\nprint(f\"{x = }\")\\n\\ndef main():\\n    change()\\n    print(f\"{x = }\")\\n\\nif __name__ == \"__main__\":\\n    main()', 'a = 25\\n\\ndef my_func():\\n    global a\\n    print(f\"{a = }\")\\n    a = 35\\n        \\ndef main():\\n    my_func()\\n    print(f\"{a = }\")\\n    \\n    print(f\"Number of local variables in my_func      : {my_func.__code__.co_nlocals}\") \\n    print(f\"Tuple of local variables names in my_func : {my_func.__code__.co_varnames}\") \\n       \\nif __name__ == \"__main__\":\\n    main()', 'def my_func():\\n    global a\\n    a = 25\\n    print(f\"{a = }\")\\n    a = 35\\n        \\ndef main():\\n    my_func()\\n    print(f\"{a = }\")\\n    \\n    print(f\"Number of local variables in my_func      : {my_func.__code__.co_nlocals}\") \\n    print(f\"Tuple of local variables names in my_func : {my_func.__code__.co_varnames}\") \\n       \\nif __name__ == \"__main__\":\\n    main()', 'a = 35\\n\\ndef outer():\\n    a = 25    \\n    def inner():\\n        nonlocal a\\n        a = 30       \\n    inner()\\n    print(a)\\n        \\ndef main():\\n    outer()\\n       \\nif __name__ == \"__main__\":\\n    main()', 'a = 35\\n\\ndef outer():\\n    a = 25    \\n    def inner1():   \\n        def inner2():\\n            nonlocal a\\n            a = 30\\n    \\n    \\ndef main():\\n    outer()\\n       \\nif __name__ == \"__main__\":\\n    main()', 'a = 35\\n\\ndef outer():\\n    a = 25    \\n    def inner1():   \\n        def inner2():\\n            nonlocal a\\n            a = 30\\n        inner2()\\n    inner1()\\n    print(a)\\n    \\n    \\ndef main():\\n    outer()\\n       \\nif __name__ == \"__main__\":\\n    main()', 'a = 35\\n\\ndef my_func(inp_param):\\n    local_var = \"some string\"\\n    print(locals()) # local namespace as a dict\\n        \\nif __name__ == \"__main__\":\\n    my_func(a)\\n    print(globals()) # global namespace as a dict\\n\\n    print(f\"Number of local variables in my_func      : {my_func.__code__.co_nlocals}\") \\n    print(f\"Tuple of local variables names in my_func : {my_func.__code__.co_varnames}\") ', 'a = 35\\n\\ndef my_func(inp_param):\\n    local_var = \"some string\"\\n    print(locals()) # local namespace as a dict\\n    print()\\n        \\nif __name__ == \"__main__\":\\n    my_func(a)\\n    print(globals()) # global namespace as a dict\\n\\n    print(f\"Number of local variables in my_func      : {my_func.__code__.co_nlocals}\") \\n    print(f\"Tuple of local variables names in my_func : {my_func.__code__.co_varnames}\") ', 'a = 35\\n\\ndef my_func(inp_param):\\n    local_var = \"some string\"\\n    print(locals()) # local namespace as a dict\\n    print()\\n        \\nif __name__ == \"__main__\":\\n    my_func(a)\\n    print(globals()) # global namespace as a dict'], 'Out': {}, 'get_ipython': <bound method InteractiveShell.get_ipython of <google.colab._shell.Shell object at 0x7fa5710caf10>>, 'exit': <IPython.core.autocall.ZMQExitAutocall object at 0x7fa570cc4340>, 'quit': <IPython.core.autocall.ZMQExitAutocall object at 0x7fa570cc4340>, '_': '', '__': '', '___': '', '_i': 'a = 35\\n\\ndef my_func(inp_param):\\n    local_var = \"some string\"\\n    print(locals()) # local namespace as a dict\\n    print()\\n        \\nif __name__ == \"__main__\":\\n    my_func(a)\\n    print(globals()) # global namespace as a dict\\n\\n    print(f\"Number of local variables in my_func      : {my_func.__code__.co_nlocals}\") \\n    print(f\"Tuple of local variables names in my_func : {my_func.__code__.co_varnames}\") ', '_ii': 'a = 35\\n\\ndef my_func(inp_param):\\n    local_var = \"some string\"\\n    print(locals()) # local namespace as a dict\\n        \\nif __name__ == \"__main__\":\\n    my_func(a)\\n    print(globals()) # global namespace as a dict\\n\\n    print(f\"Number of local variables in my_func      : {my_func.__code__.co_nlocals}\") \\n    print(f\"Tuple of local variables names in my_func : {my_func.__code__.co_varnames}\") ', '_iii': 'a = 35\\n\\ndef outer():\\n    a = 25    \\n    def inner1():   \\n        def inner2():\\n            nonlocal a\\n            a = 30\\n        inner2()\\n    inner1()\\n    print(a)\\n    \\n    \\ndef main():\\n    outer()\\n       \\nif __name__ == \"__main__\":\\n    main()', '_i1': 'import sys\\n\\nclass C:\\n    def __del__(self): # run automatically just before garbage collected\\n        print(f\"bye! {self}\")\\n\\ndef main():\\n    C()  \\n    print(_, end=\"\\\\n\\\\n\") # last expression is stored in _\\n\\nif __name__ == \"__main__\":\\n    main()', 'sys': <module 'sys' (built-in)>, 'C': <class '__main__.C'>, 'main': <function main at 0x7fa52908e1f0>, '_i2': 'import sys\\n\\nclass C:\\n    def __del__(self): # run automatically just before garbage collected\\n        print(f\"bye! {self}\")\\n\\ndef main():\\n    C()  \\n    #print(_, end=\"\\\\n\\\\n\") # last expression is stored in _\\n\\nif __name__ == \"__main__\":\\n    main()', '_i3': 'import sys\\n\\nclass C:\\n    def __del__(self): # run automatically just before garbage collected\\n        print(f\"bye! {self}\")\\n\\ndef main():\\n    C()  \\n\\nif __name__ == \"__main__\":\\n    main()', '_i4': 'import sys\\n\\nclass C:\\n    def __del__(self): # run automatically just before garbage collected\\n        print(f\"bye! {self}\")\\n\\ndef main():\\n    a = C()  \\n    print(f\"{sys.getrefcount(a) = }\", end=\"\\\\n\\\\n\")\\n\\n    b = a\\n    print(f\"{sys.getrefcount(a) = }\", end=\"\\\\n\\\\n\")\\n\\n    c = a\\n    print(f\"{sys.getrefcount(a) = }\", end=\"\\\\n\\\\n\")\\n\\n    b = None\\n    print(f\"{sys.getrefcount(a) = }\", end=\"\\\\n\\\\n\")\\n\\n    c = None\\n    print(f\"{sys.getrefcount(a) = }\", end=\"\\\\n\\\\n\")\\n\\nif __name__ == \"__main__\":\\n    main()', '_i5': 'import sys\\nimport weakref\\n\\nclass C:\\n    def __del__(self): # run automatically just before garbage collected\\n        print(f\"bye! {self}\")\\n\\ndef main():\\n    a = C()  \\n    print(f\"{sys.getrefcount(a) = }\", end=\"\\\\n\\\\n\")\\n\\n    b = weakref.ref(a)\\n    print(f\"{sys.getrefcount(a) = }\", end=\"\\\\n\\\\n\")\\n\\n    c = weakref.ref(a)\\n    print(f\"{sys.getrefcount(a) = }\", end=\"\\\\n\\\\n\")\\n\\n    b = None\\n    print(f\"{sys.getrefcount(a) = }\", end=\"\\\\n\\\\n\")\\n\\n    c = None\\n    print(f\"{sys.getrefcount(a) = }\", end=\"\\\\n\\\\n\")\\n\\nif __name__ == \"__main__\":\\n    main()', 'weakref': <module 'weakref' from '/usr/lib/python3.9/weakref.py'>, '_i6': 'import sys\\n\\nclass C:\\n    def __del__(self): # run automatically just before garbage collected\\n        print(f\"bye! {self}\")\\n\\ndef main():\\n    C()  \\n\\nif __name__ == \"__main__\":\\n    main()', '_i7': 'import sys\\n\\nclass C:\\n    def __del__(self): # run automatically just before garbage collected\\n        print(f\"bye! {self}\")\\n\\ndef main():\\n    a = C()  \\n    print(f\"{sys.getrefcount(a) = }\", end=\"\\\\n\\\\n\")\\n\\n    b = a\\n    print(f\"{sys.getrefcount(a) = }\", end=\"\\\\n\\\\n\")\\n\\n    c = a\\n    print(f\"{sys.getrefcount(a) = }\", end=\"\\\\n\\\\n\")\\n\\n    b = None\\n    print(f\"{sys.getrefcount(a) = }\", end=\"\\\\n\\\\n\")\\n\\n    c = None\\n    print(f\"{sys.getrefcount(a) = }\", end=\"\\\\n\\\\n\")\\n\\nif __name__ == \"__main__\":\\n    main()', '_i8': 'def main():\\n    x = 5\\n    print(f\"{id(x) = }\")\\n        \\nif __name__ == \"__main__\":\\n    main()', '_i9': 'def main():\\n    x = 5\\n    print(f\"{id(x) = }\")\\n\\n    y = x\\n    print(f\"{id(y) = }\")\\n        \\nif __name__ == \"__main__\":\\n    main()', '_i10': 'import sys\\nimport weakref\\n\\nclass Person:\\n    def __init__(self, name):\\n        self.name = name\\n    def __del__(self): # run automatically just before garbage collected\\n        print(f\"bye! {self}\")\\n\\ndef main():\\n    people = []\\n\\n    print(\"Before loop\")\\n    for i in range(3):\\n        people.append(weakref.ref(Person(f\"name_{i}\")))\\n    print(\"After loop\")\\n\\nif __name__ == \"__main__\":\\n    main()', 'Person': <class '__main__.Person'>, '_i11': 'import sys\\n\\nclass Person:\\n    def __init__(self, name):\\n        self.name = name\\n    def __del__(self): # run automatically just before garbage collected\\n        print(f\"bye! {self}\")\\n\\ndef main():\\n    people = []\\n\\n    print(\"Before loop\")\\n    for i in range(3):\\n        people.append(Person(f\"name_{i}\"))\\n    print(\"After loop\")\\n\\nif __name__ == \"__main__\":\\n    main()', '_i12': '# without __repr__ and __str__\\nclass User:\\n    def __init__(self, name):\\n        self.username = name\\n        \\ndef main():\\n    Tom = User(\"Tom Brown\")\\n    print(Tom)\\n    \\nif __name__ == \"__main__\":\\n    main()', 'User': <class '__main__.User'>, '_i13': '# with __repr__\\nclass User:\\n    def __init__(self, name):\\n        self.username = name\\n    def __repr__(self):\\n        return f\"User({self.username})\"\\n        \\ndef main():\\n    Tom = User(\"Tom Brown\")\\n    print(Tom)\\n    print(repr(Tom))\\n    print(str(Tom))\\n    \\nif __name__ == \"__main__\":\\n    main()', '_i14': '# with __repr__ and __str__\\nclass User:\\n    def __init__(self, name):\\n        self.username = name\\n    def __repr__(self):\\n        return f\"User({self.username})\"\\n    def __str__(self):\\n        return f\"User class instance with username {self.username}\"\\n        \\ndef main():\\n    Tom = User(\"Tom Brown\")\\n    print(Tom)\\n    print(repr(Tom))\\n    print(str(Tom))\\n    \\nif __name__ == \"__main__\":\\n    main()', '_i15': 'def print_x():\\n    # Inside the function definition, we do not define x as a local variable. \\n    # So, when we use the variable x, \\n    # we search for the variable out of the function scope. \\n    # LEGB\\n    print(f\\'{x = }\\')\\n\\ndef main():\\n    x = 1\\n    print_x()\\n    print(print_x.__code__.co_varnames) # local variables of the function print_x\\n\\nif __name__ == \"__main__\":\\n    main()', 'print_x': <function print_x at 0x7fa55409df70>, '_i16': 'x = 1\\n\\ndef print_x():\\n    # Inside the function definition, we do not define x as a local variable. \\n    # So, when we use the variable x, \\n    # we search for the variable out of the function scope. \\n    # LEGB\\n    print(f\\'{x = }\\')\\n\\ndef main():   \\n    print_x()\\n    print(print_x.__code__.co_varnames) # local variables of the function print_x\\n\\nif __name__ == \"__main__\":\\n    main()', 'x': [0, 2, 2, 0, 0], '_i17': 'x = 1\\n\\ndef print_x():\\n    # Before executing the function, Python reads \\n    # through the function definition and identifies all the local variables.\\n    # Inside the function definition, we define x as a local variable\\n    # in the assignment statement x = 10. \\n    # So, when we use the variable x, \\n    # we search for the variable inside the function scope. \\n    # LEGB\\n    # However, when we use the variable x, \\n    # the variable x still needs to be initialized.\\n    # UnboundLocalError \\n    print(f\\'{x = }\\')\\n    x = 10 # <--- This assignment statement makes x local.\\n\\ndef main():\\n    try:\\n        print_x()\\n    except UnboundLocalError as e:\\n        print(e)\\n    print(print_x.__code__.co_varnames) # local variables of the function print_x\\n\\nif __name__ == \"__main__\":\\n    main()', '_i18': 'x = 1\\n\\ndef print_x():\\n    # Before executing the function, Python reads \\n    # through the function definition and identifies all the local variables.\\n    # Inside the function definition, we define x as a local variable\\n    # in the assignment statement x = x + 10. \\n    # So, when we use the variable x, \\n    # we search for the variable inside the function scope. \\n    # LEGB\\n    # However, when we use the variable x, \\n    # the variable x still needs to be initialized.\\n    # UnboundLocalError \\n    x = x + 10 # <--- This assignment statement makes x local.\\n    print(f\\'{x = }\\')\\n\\ndef main():\\n    try:\\n        print_x()\\n    except UnboundLocalError as e:\\n        print(e)\\n    print(print_x.__code__.co_varnames) # local variables of the function print_x\\n\\nif __name__ == \"__main__\":\\n    main()', '_i19': 'def add_some():\\n    # Method call does not make x a local variable. \\n    # x is a global variable.\\n    x.append(5) # <--- This method call does not make x local.   \\n    return x\\n\\ndef main():\\n    x = [\\'seoul\\']\\n    print(add_some())\\n\\nif __name__ == \"__main__\":\\n    main()', 'add_some': <function add_some at 0x7fa52908c670>, '_i20': 'x = [\\'seoul\\']\\n\\ndef add_some():\\n    # Method call does not make x a local variable. \\n    # x is a global variable.\\n    x.append(5) # <--- This method call does not make x local.   \\n    return x\\n\\ndef main():   \\n    print(add_some())\\n\\nif __name__ == \"__main__\":\\n    main()', '_i21': 'x = [\\'seoul\\']\\n\\ndef add_some():\\n    # Assignment makes x a local variable. \\n    x += [5] # <--- This assignment makes x local.      \\n    return x\\n\\ndef main(): \\n    try:\\n        print(add_some())\\n    except UnboundLocalError as e:\\n        print(e)\\n\\nif __name__ == \"__main__\":\\n    main()', '_i22': 'class Example:\\n    def __init__(self, item):\\n        self.item = item\\n\\ndef change():\\n    # Member assignment is method call, not assignment.\\n    # Method call does not make x a local variable.\\n    # x is a global variable. \\n    x.item = 2 # <--- member assignment is a method call\\n\\ndef main(): \\n    x = Example(1)\\n    print(f\"{x.item = }\")\\n\\n    change()\\n    print(f\"{x.item = }\")\\n\\nif __name__ == \"__main__\":\\n    main()', 'Example': <class '__main__.Example'>, 'change': <function change at 0x7fa529079820>, '_i23': 'x = 1\\n\\ndef print_x():\\n    # Inside the function definition, we do not define x as a local variable. \\n    # So, when we use the variable x, \\n    # we search for the variable out of the function scope. \\n    # LEGB\\n    print(f\\'{x = }\\')\\n\\ndef main():   \\n    print_x()\\n    print(print_x.__code__.co_varnames) # local variables of the function print_x\\n\\nif __name__ == \"__main__\":\\n    main()', '_i24': 'x = 1\\n\\ndef print_x():\\n    # Before executing the function, Python reads \\n    # through the function definition and identifies all the local variables.\\n    # Inside the function definition, we define x as a local variable\\n    # in the assignment statement x = 10. \\n    # So, when we use the variable x, \\n    # we search for the variable inside the function scope. \\n    # LEGB\\n    x = 10 # <--- This assignment statement makes x local.\\n    print(f\\'{x = }\\')\\n\\ndef main():   \\n    print_x()\\n    print(print_x.__code__.co_varnames) # local variables of the function print_x\\n\\nif __name__ == \"__main__\":\\n    main()', '_i25': 'x = 1\\n\\ndef print_x():\\n    # Before executing the function, Python reads \\n    # through the function definition and identifies all the local variables.\\n    # Inside the function definition, we define x as a local variable\\n    # in the assignment statement x = 10. \\n    # So, when we use the variable x, \\n    # we search for the variable inside the function scope. \\n    # LEGB\\n    # However, when we use the variable x, \\n    # the variable x still needs to be initialized.\\n    # UnboundLocalError \\n    print(f\\'{x = }\\')\\n    x = 10 # <--- This assignment statement makes x local.\\n\\ndef main():\\n    try:\\n        print_x()\\n    except UnboundLocalError as e:\\n        print(e)\\n    print(print_x.__code__.co_varnames) # local variables of the function print_x\\n\\nif __name__ == \"__main__\":\\n    main()', '_i26': 'x = 1\\n\\ndef print_x():\\n    # Before executing the function, Python reads \\n    # through the function definition and identifies all the local variables.\\n    # Inside the function definition, we define x as a local variable\\n    # in the assignment statement x = x + 10. \\n    # So, when we use the variable x, \\n    # we search for the variable inside the function scope. \\n    # LEGB\\n    # However, when we use the variable x, \\n    # the variable x still needs to be initialized.\\n    # UnboundLocalError \\n    x = x + 10 # <--- This assignment statement makes x local.\\n    print(f\\'{x = }\\')\\n\\ndef main():\\n    try:\\n        print_x()\\n    except UnboundLocalError as e:\\n        print(e)\\n    print(print_x.__code__.co_varnames) # local variables of the function print_x\\n\\nif __name__ == \"__main__\":\\n    main()', '_i27': 'x = 1\\n\\ndef print_x():\\n    # Before executing the function, Python reads \\n    # through the function definition and identifies all the local variables.\\n    # Inside the function definition, we define x as a local variable\\n    # in the assignment statement x = x + 10. \\n    # So, when we use the variable x, \\n    # we search for the variable inside the function scope. \\n    # LEGB\\n    # However, when we use the variable x, \\n    # the variable x still needs to be initialized.\\n    # UnboundLocalError \\n    print(f\\'{x = }\\')\\n    x = x + 10 # <--- This assignment statement makes x local.\\n\\ndef main():\\n    try:\\n        print_x()\\n    except UnboundLocalError as e:\\n        print(e)\\n    print(print_x.__code__.co_varnames) # local variables of the function print_x\\n\\nif __name__ == \"__main__\":\\n    main()', '_i28': 'x = 1\\n\\ndef print_x():\\n    # Without global x statement, x is a local variable \\n    # due to the assignment statement x = x + 10.\\n    # However, with global x statement, x is now a global variable. \\n    global x # <--- This global statement makes x global.\\n    print(f\\'{x = }\\')\\n    x = x + 10\\n\\ndef main():\\n    print_x()\\n    print(print_x.__code__.co_varnames) # local variables of the function print_x\\n\\nif __name__ == \"__main__\":\\n    main()', '_i29': 'x = [\\'seoul\\']\\n\\ndef add_some():\\n    # Method call does not make x a local variable. \\n    # x is a global variable.\\n    x.append(5) # <--- This method call does not make x local.   \\n    return x\\n\\ndef main():   \\n    print(add_some())\\n\\nif __name__ == \"__main__\":\\n    main()', '_i30': 'x = [\\'seoul\\']\\n\\ndef add_some():\\n    # Assignment makes x a local variable. \\n    x += [5] # <--- This assignment makes x local.      \\n    return x\\n\\ndef main(): \\n    try:\\n        print(add_some())\\n    except UnboundLocalError as e:\\n        print(e)\\n\\nif __name__ == \"__main__\":\\n    main()', '_i31': 'class Example:\\n    def __init__(self, item):\\n        self.item = item\\n\\ndef change():\\n    # Member assignment is method call, not assignment.\\n    # Method call does not make x a local variable.\\n    # x is a global variable. \\n    x.item = 2 # <--- member assignment is a method call\\n\\nx = Example(1)\\nprint(f\"{x.item = }\")\\n\\ndef main(): \\n    change()\\n    print(f\"{x.item = }\")\\n\\nif __name__ == \"__main__\":\\n    main()', '_i32': 'def change():\\n    # Item assignment is method call, not assignment.\\n    # Method call does not make x a local variable.\\n    # x is a global variable. \\n    x[\\'a\\'] = 2 # <--- item assignment is a method call\\n\\nx = {\"a\":1,\"b\":2,\"c\":3}\\nprint(f\"{x[\\'a\\'] = }\")\\n\\ndef main():\\n    change()\\n    print(f\"{x[\\'a\\'] = }\")\\n\\nif __name__ == \"__main__\":\\n    main()', '_i33': 'def change():\\n    # Slice assignment is method call, not assignment.\\n    # Method call does not make x a local variable. \\n    # x is a global variable.\\n    x[1:3] = [2, 2] # <--- slice assignment is a method call\\n\\nx = [0,0,0,0,0]\\nprint(f\"{x = }\")\\n\\ndef main():\\n    change()\\n    print(f\"{x = }\")\\n\\nif __name__ == \"__main__\":\\n    main()', '_i34': 'a = 25\\n\\ndef my_func():\\n    global a\\n    print(f\"{a = }\")\\n    a = 35\\n        \\ndef main():\\n    my_func()\\n    print(f\"{a = }\")\\n    \\n    print(f\"Number of local variables in my_func      : {my_func.__code__.co_nlocals}\") \\n    print(f\"Tuple of local variables names in my_func : {my_func.__code__.co_varnames}\") \\n       \\nif __name__ == \"__main__\":\\n    main()', 'a': 35, 'my_func': <function my_func at 0x7fa55409d160>, '_i35': 'def my_func():\\n    global a\\n    a = 25\\n    print(f\"{a = }\")\\n    a = 35\\n        \\ndef main():\\n    my_func()\\n    print(f\"{a = }\")\\n    \\n    print(f\"Number of local variables in my_func      : {my_func.__code__.co_nlocals}\") \\n    print(f\"Tuple of local variables names in my_func : {my_func.__code__.co_varnames}\") \\n       \\nif __name__ == \"__main__\":\\n    main()', '_i36': 'a = 35\\n\\ndef outer():\\n    a = 25    \\n    def inner():\\n        nonlocal a\\n        a = 30       \\n    inner()\\n    print(a)\\n        \\ndef main():\\n    outer()\\n       \\nif __name__ == \"__main__\":\\n    main()', 'outer': <function outer at 0x7fa52908e310>, '_i37': 'a = 35\\n\\ndef outer():\\n    a = 25    \\n    def inner1():   \\n        def inner2():\\n            nonlocal a\\n            a = 30\\n    \\n    \\ndef main():\\n    outer()\\n       \\nif __name__ == \"__main__\":\\n    main()', '_i38': 'a = 35\\n\\ndef outer():\\n    a = 25    \\n    def inner1():   \\n        def inner2():\\n            nonlocal a\\n            a = 30\\n        inner2()\\n    inner1()\\n    print(a)\\n    \\n    \\ndef main():\\n    outer()\\n       \\nif __name__ == \"__main__\":\\n    main()', '_i39': 'a = 35\\n\\ndef my_func(inp_param):\\n    local_var = \"some string\"\\n    print(locals()) # local namespace as a dict\\n        \\nif __name__ == \"__main__\":\\n    my_func(a)\\n    print(globals()) # global namespace as a dict\\n\\n    print(f\"Number of local variables in my_func      : {my_func.__code__.co_nlocals}\") \\n    print(f\"Tuple of local variables names in my_func : {my_func.__code__.co_varnames}\") ', '_i40': 'a = 35\\n\\ndef my_func(inp_param):\\n    local_var = \"some string\"\\n    print(locals()) # local namespace as a dict\\n    print()\\n        \\nif __name__ == \"__main__\":\\n    my_func(a)\\n    print(globals()) # global namespace as a dict\\n\\n    print(f\"Number of local variables in my_func      : {my_func.__code__.co_nlocals}\") \\n    print(f\"Tuple of local variables names in my_func : {my_func.__code__.co_varnames}\") ', '_i41': 'a = 35\\n\\ndef my_func(inp_param):\\n    local_var = \"some string\"\\n    print(locals()) # local namespace as a dict\\n    print()\\n        \\nif __name__ == \"__main__\":\\n    my_func(a)\\n    print(globals()) # global namespace as a dict'}\n"
          ]
        }
      ]
    },
    {
      "cell_type": "markdown",
      "source": [
        "우리는 프로그램을 작성하면서 여러 가지 데이터에 여러 가지 이름을 붙인다. 그런데 이름이란 문맥에 따라서 가리키는 대상이 다르기 마련이다. 예를 들어, ‘key’라는 이름은 키보드의 입력을 제어하는 함수에서는 입력된 키를 가리키겠지만, 암호를 푸는 함수에서는 비밀번호를 가리킬 것이다. 이 두 함수를 모두 사용하는 프로그램을 만들려면, ‘key’라는 이름이 문맥에 따라 다른 데이터를 가리킬 수 있어야 한다.\n",
        "\n",
        "프로그래밍에서는 ‘이름공간(namespace)’이라는 개념을 이용해서 이름의 문맥을 구별한다. 이름공간은 변수의 이름을 정의해 둔 공간이다. 이름공간은 프로그램 전체 범위의 이름을 담는 전역 이름공간과 한정적인 문맥의 이름을 담는 지역 이름공간으로 구별된다.\n",
        "\n",
        "전역 이름공간에 정의되어, 프로그램 어디서든 부를 수 있는 이름을 전역변수(global variable)라고 한다. 함수 밖에서 변수를 정의하면 전역변수가 된다. 반면에 지역 이름공간에 정의되어, 그 문맥 속에서만 부를 수 있는 이름을 지역변수(local variable)라고 한다. 모든 함수는 자신만의 지역 이름공간을 가지며, 함수 속에서 작성한 변수는 그 함수의 지역변수가 된다.\n",
        "\n",
        "[박연오](https://python.bakyeono.net/chapter-3-4.html)"
      ],
      "metadata": {
        "id": "db2BKZLD-m2-"
      }
    },
    {
      "cell_type": "markdown",
      "source": [
        "#####***Built-in Function - globals vs locals***"
      ],
      "metadata": {
        "id": "TWH8NPOh-Y8R"
      }
    },
    {
      "cell_type": "code",
      "source": [
        "a = 35\n",
        "\n",
        "def my_func(inp_param):\n",
        "    local_var = \"some string\"\n",
        "    print(locals()) # local namespace as a dict\n",
        "    print()\n",
        "        \n",
        "if __name__ == \"__main__\":\n",
        "    my_func(a)\n",
        "    print(globals()) # global namespace as a dict"
      ],
      "metadata": {
        "colab": {
          "base_uri": "https://localhost:8080/"
        },
        "outputId": "a764cebf-182a-411a-b9a0-269f31d8eb43",
        "id": "_tImNlg9-Y8R"
      },
      "execution_count": null,
      "outputs": [
        {
          "output_type": "stream",
          "name": "stdout",
          "text": [
            "{'inp_param': 35, 'local_var': 'some string'}\n",
            "\n",
            "{'__name__': '__main__', '__doc__': 'Automatically created module for IPython interactive environment', '__package__': None, '__loader__': None, '__spec__': None, '__builtin__': <module 'builtins' (built-in)>, '__builtins__': <module 'builtins' (built-in)>, '_ih': ['', 'import sys\\n\\nclass C:\\n    def __del__(self): # run automatically just before garbage collected\\n        print(f\"bye! {self}\")\\n\\ndef main():\\n    C()  \\n    print(_, end=\"\\\\n\\\\n\") # last expression is stored in _\\n\\nif __name__ == \"__main__\":\\n    main()', 'import sys\\n\\nclass C:\\n    def __del__(self): # run automatically just before garbage collected\\n        print(f\"bye! {self}\")\\n\\ndef main():\\n    C()  \\n    #print(_, end=\"\\\\n\\\\n\") # last expression is stored in _\\n\\nif __name__ == \"__main__\":\\n    main()', 'import sys\\n\\nclass C:\\n    def __del__(self): # run automatically just before garbage collected\\n        print(f\"bye! {self}\")\\n\\ndef main():\\n    C()  \\n\\nif __name__ == \"__main__\":\\n    main()', 'import sys\\n\\nclass C:\\n    def __del__(self): # run automatically just before garbage collected\\n        print(f\"bye! {self}\")\\n\\ndef main():\\n    a = C()  \\n    print(f\"{sys.getrefcount(a) = }\", end=\"\\\\n\\\\n\")\\n\\n    b = a\\n    print(f\"{sys.getrefcount(a) = }\", end=\"\\\\n\\\\n\")\\n\\n    c = a\\n    print(f\"{sys.getrefcount(a) = }\", end=\"\\\\n\\\\n\")\\n\\n    b = None\\n    print(f\"{sys.getrefcount(a) = }\", end=\"\\\\n\\\\n\")\\n\\n    c = None\\n    print(f\"{sys.getrefcount(a) = }\", end=\"\\\\n\\\\n\")\\n\\nif __name__ == \"__main__\":\\n    main()', 'import sys\\nimport weakref\\n\\nclass C:\\n    def __del__(self): # run automatically just before garbage collected\\n        print(f\"bye! {self}\")\\n\\ndef main():\\n    a = C()  \\n    print(f\"{sys.getrefcount(a) = }\", end=\"\\\\n\\\\n\")\\n\\n    b = weakref.ref(a)\\n    print(f\"{sys.getrefcount(a) = }\", end=\"\\\\n\\\\n\")\\n\\n    c = weakref.ref(a)\\n    print(f\"{sys.getrefcount(a) = }\", end=\"\\\\n\\\\n\")\\n\\n    b = None\\n    print(f\"{sys.getrefcount(a) = }\", end=\"\\\\n\\\\n\")\\n\\n    c = None\\n    print(f\"{sys.getrefcount(a) = }\", end=\"\\\\n\\\\n\")\\n\\nif __name__ == \"__main__\":\\n    main()', 'import sys\\n\\nclass C:\\n    def __del__(self): # run automatically just before garbage collected\\n        print(f\"bye! {self}\")\\n\\ndef main():\\n    C()  \\n\\nif __name__ == \"__main__\":\\n    main()', 'import sys\\n\\nclass C:\\n    def __del__(self): # run automatically just before garbage collected\\n        print(f\"bye! {self}\")\\n\\ndef main():\\n    a = C()  \\n    print(f\"{sys.getrefcount(a) = }\", end=\"\\\\n\\\\n\")\\n\\n    b = a\\n    print(f\"{sys.getrefcount(a) = }\", end=\"\\\\n\\\\n\")\\n\\n    c = a\\n    print(f\"{sys.getrefcount(a) = }\", end=\"\\\\n\\\\n\")\\n\\n    b = None\\n    print(f\"{sys.getrefcount(a) = }\", end=\"\\\\n\\\\n\")\\n\\n    c = None\\n    print(f\"{sys.getrefcount(a) = }\", end=\"\\\\n\\\\n\")\\n\\nif __name__ == \"__main__\":\\n    main()', 'def main():\\n    x = 5\\n    print(f\"{id(x) = }\")\\n        \\nif __name__ == \"__main__\":\\n    main()', 'def main():\\n    x = 5\\n    print(f\"{id(x) = }\")\\n\\n    y = x\\n    print(f\"{id(y) = }\")\\n        \\nif __name__ == \"__main__\":\\n    main()', 'import sys\\nimport weakref\\n\\nclass Person:\\n    def __init__(self, name):\\n        self.name = name\\n    def __del__(self): # run automatically just before garbage collected\\n        print(f\"bye! {self}\")\\n\\ndef main():\\n    people = []\\n\\n    print(\"Before loop\")\\n    for i in range(3):\\n        people.append(weakref.ref(Person(f\"name_{i}\")))\\n    print(\"After loop\")\\n\\nif __name__ == \"__main__\":\\n    main()', 'import sys\\n\\nclass Person:\\n    def __init__(self, name):\\n        self.name = name\\n    def __del__(self): # run automatically just before garbage collected\\n        print(f\"bye! {self}\")\\n\\ndef main():\\n    people = []\\n\\n    print(\"Before loop\")\\n    for i in range(3):\\n        people.append(Person(f\"name_{i}\"))\\n    print(\"After loop\")\\n\\nif __name__ == \"__main__\":\\n    main()', '# without __repr__ and __str__\\nclass User:\\n    def __init__(self, name):\\n        self.username = name\\n        \\ndef main():\\n    Tom = User(\"Tom Brown\")\\n    print(Tom)\\n    \\nif __name__ == \"__main__\":\\n    main()', '# with __repr__\\nclass User:\\n    def __init__(self, name):\\n        self.username = name\\n    def __repr__(self):\\n        return f\"User({self.username})\"\\n        \\ndef main():\\n    Tom = User(\"Tom Brown\")\\n    print(Tom)\\n    print(repr(Tom))\\n    print(str(Tom))\\n    \\nif __name__ == \"__main__\":\\n    main()', '# with __repr__ and __str__\\nclass User:\\n    def __init__(self, name):\\n        self.username = name\\n    def __repr__(self):\\n        return f\"User({self.username})\"\\n    def __str__(self):\\n        return f\"User class instance with username {self.username}\"\\n        \\ndef main():\\n    Tom = User(\"Tom Brown\")\\n    print(Tom)\\n    print(repr(Tom))\\n    print(str(Tom))\\n    \\nif __name__ == \"__main__\":\\n    main()', 'def print_x():\\n    # Inside the function definition, we do not define x as a local variable. \\n    # So, when we use the variable x, \\n    # we search for the variable out of the function scope. \\n    # LEGB\\n    print(f\\'{x = }\\')\\n\\ndef main():\\n    x = 1\\n    print_x()\\n    print(print_x.__code__.co_varnames) # local variables of the function print_x\\n\\nif __name__ == \"__main__\":\\n    main()', 'x = 1\\n\\ndef print_x():\\n    # Inside the function definition, we do not define x as a local variable. \\n    # So, when we use the variable x, \\n    # we search for the variable out of the function scope. \\n    # LEGB\\n    print(f\\'{x = }\\')\\n\\ndef main():   \\n    print_x()\\n    print(print_x.__code__.co_varnames) # local variables of the function print_x\\n\\nif __name__ == \"__main__\":\\n    main()', 'x = 1\\n\\ndef print_x():\\n    # Before executing the function, Python reads \\n    # through the function definition and identifies all the local variables.\\n    # Inside the function definition, we define x as a local variable\\n    # in the assignment statement x = 10. \\n    # So, when we use the variable x, \\n    # we search for the variable inside the function scope. \\n    # LEGB\\n    # However, when we use the variable x, \\n    # the variable x still needs to be initialized.\\n    # UnboundLocalError \\n    print(f\\'{x = }\\')\\n    x = 10 # <--- This assignment statement makes x local.\\n\\ndef main():\\n    try:\\n        print_x()\\n    except UnboundLocalError as e:\\n        print(e)\\n    print(print_x.__code__.co_varnames) # local variables of the function print_x\\n\\nif __name__ == \"__main__\":\\n    main()', 'x = 1\\n\\ndef print_x():\\n    # Before executing the function, Python reads \\n    # through the function definition and identifies all the local variables.\\n    # Inside the function definition, we define x as a local variable\\n    # in the assignment statement x = x + 10. \\n    # So, when we use the variable x, \\n    # we search for the variable inside the function scope. \\n    # LEGB\\n    # However, when we use the variable x, \\n    # the variable x still needs to be initialized.\\n    # UnboundLocalError \\n    x = x + 10 # <--- This assignment statement makes x local.\\n    print(f\\'{x = }\\')\\n\\ndef main():\\n    try:\\n        print_x()\\n    except UnboundLocalError as e:\\n        print(e)\\n    print(print_x.__code__.co_varnames) # local variables of the function print_x\\n\\nif __name__ == \"__main__\":\\n    main()', 'def add_some():\\n    # Method call does not make x a local variable. \\n    # x is a global variable.\\n    x.append(5) # <--- This method call does not make x local.   \\n    return x\\n\\ndef main():\\n    x = [\\'seoul\\']\\n    print(add_some())\\n\\nif __name__ == \"__main__\":\\n    main()', 'x = [\\'seoul\\']\\n\\ndef add_some():\\n    # Method call does not make x a local variable. \\n    # x is a global variable.\\n    x.append(5) # <--- This method call does not make x local.   \\n    return x\\n\\ndef main():   \\n    print(add_some())\\n\\nif __name__ == \"__main__\":\\n    main()', 'x = [\\'seoul\\']\\n\\ndef add_some():\\n    # Assignment makes x a local variable. \\n    x += [5] # <--- This assignment makes x local.      \\n    return x\\n\\ndef main(): \\n    try:\\n        print(add_some())\\n    except UnboundLocalError as e:\\n        print(e)\\n\\nif __name__ == \"__main__\":\\n    main()', 'class Example:\\n    def __init__(self, item):\\n        self.item = item\\n\\ndef change():\\n    # Member assignment is method call, not assignment.\\n    # Method call does not make x a local variable.\\n    # x is a global variable. \\n    x.item = 2 # <--- member assignment is a method call\\n\\ndef main(): \\n    x = Example(1)\\n    print(f\"{x.item = }\")\\n\\n    change()\\n    print(f\"{x.item = }\")\\n\\nif __name__ == \"__main__\":\\n    main()', 'x = 1\\n\\ndef print_x():\\n    # Inside the function definition, we do not define x as a local variable. \\n    # So, when we use the variable x, \\n    # we search for the variable out of the function scope. \\n    # LEGB\\n    print(f\\'{x = }\\')\\n\\ndef main():   \\n    print_x()\\n    print(print_x.__code__.co_varnames) # local variables of the function print_x\\n\\nif __name__ == \"__main__\":\\n    main()', 'x = 1\\n\\ndef print_x():\\n    # Before executing the function, Python reads \\n    # through the function definition and identifies all the local variables.\\n    # Inside the function definition, we define x as a local variable\\n    # in the assignment statement x = 10. \\n    # So, when we use the variable x, \\n    # we search for the variable inside the function scope. \\n    # LEGB\\n    x = 10 # <--- This assignment statement makes x local.\\n    print(f\\'{x = }\\')\\n\\ndef main():   \\n    print_x()\\n    print(print_x.__code__.co_varnames) # local variables of the function print_x\\n\\nif __name__ == \"__main__\":\\n    main()', 'x = 1\\n\\ndef print_x():\\n    # Before executing the function, Python reads \\n    # through the function definition and identifies all the local variables.\\n    # Inside the function definition, we define x as a local variable\\n    # in the assignment statement x = 10. \\n    # So, when we use the variable x, \\n    # we search for the variable inside the function scope. \\n    # LEGB\\n    # However, when we use the variable x, \\n    # the variable x still needs to be initialized.\\n    # UnboundLocalError \\n    print(f\\'{x = }\\')\\n    x = 10 # <--- This assignment statement makes x local.\\n\\ndef main():\\n    try:\\n        print_x()\\n    except UnboundLocalError as e:\\n        print(e)\\n    print(print_x.__code__.co_varnames) # local variables of the function print_x\\n\\nif __name__ == \"__main__\":\\n    main()', 'x = 1\\n\\ndef print_x():\\n    # Before executing the function, Python reads \\n    # through the function definition and identifies all the local variables.\\n    # Inside the function definition, we define x as a local variable\\n    # in the assignment statement x = x + 10. \\n    # So, when we use the variable x, \\n    # we search for the variable inside the function scope. \\n    # LEGB\\n    # However, when we use the variable x, \\n    # the variable x still needs to be initialized.\\n    # UnboundLocalError \\n    x = x + 10 # <--- This assignment statement makes x local.\\n    print(f\\'{x = }\\')\\n\\ndef main():\\n    try:\\n        print_x()\\n    except UnboundLocalError as e:\\n        print(e)\\n    print(print_x.__code__.co_varnames) # local variables of the function print_x\\n\\nif __name__ == \"__main__\":\\n    main()', 'x = 1\\n\\ndef print_x():\\n    # Before executing the function, Python reads \\n    # through the function definition and identifies all the local variables.\\n    # Inside the function definition, we define x as a local variable\\n    # in the assignment statement x = x + 10. \\n    # So, when we use the variable x, \\n    # we search for the variable inside the function scope. \\n    # LEGB\\n    # However, when we use the variable x, \\n    # the variable x still needs to be initialized.\\n    # UnboundLocalError \\n    print(f\\'{x = }\\')\\n    x = x + 10 # <--- This assignment statement makes x local.\\n\\ndef main():\\n    try:\\n        print_x()\\n    except UnboundLocalError as e:\\n        print(e)\\n    print(print_x.__code__.co_varnames) # local variables of the function print_x\\n\\nif __name__ == \"__main__\":\\n    main()', 'x = 1\\n\\ndef print_x():\\n    # Without global x statement, x is a local variable \\n    # due to the assignment statement x = x + 10.\\n    # However, with global x statement, x is now a global variable. \\n    global x # <--- This global statement makes x global.\\n    print(f\\'{x = }\\')\\n    x = x + 10\\n\\ndef main():\\n    print_x()\\n    print(print_x.__code__.co_varnames) # local variables of the function print_x\\n\\nif __name__ == \"__main__\":\\n    main()', 'x = [\\'seoul\\']\\n\\ndef add_some():\\n    # Method call does not make x a local variable. \\n    # x is a global variable.\\n    x.append(5) # <--- This method call does not make x local.   \\n    return x\\n\\ndef main():   \\n    print(add_some())\\n\\nif __name__ == \"__main__\":\\n    main()', 'x = [\\'seoul\\']\\n\\ndef add_some():\\n    # Assignment makes x a local variable. \\n    x += [5] # <--- This assignment makes x local.      \\n    return x\\n\\ndef main(): \\n    try:\\n        print(add_some())\\n    except UnboundLocalError as e:\\n        print(e)\\n\\nif __name__ == \"__main__\":\\n    main()', 'class Example:\\n    def __init__(self, item):\\n        self.item = item\\n\\ndef change():\\n    # Member assignment is method call, not assignment.\\n    # Method call does not make x a local variable.\\n    # x is a global variable. \\n    x.item = 2 # <--- member assignment is a method call\\n\\nx = Example(1)\\nprint(f\"{x.item = }\")\\n\\ndef main(): \\n    change()\\n    print(f\"{x.item = }\")\\n\\nif __name__ == \"__main__\":\\n    main()', 'def change():\\n    # Item assignment is method call, not assignment.\\n    # Method call does not make x a local variable.\\n    # x is a global variable. \\n    x[\\'a\\'] = 2 # <--- item assignment is a method call\\n\\nx = {\"a\":1,\"b\":2,\"c\":3}\\nprint(f\"{x[\\'a\\'] = }\")\\n\\ndef main():\\n    change()\\n    print(f\"{x[\\'a\\'] = }\")\\n\\nif __name__ == \"__main__\":\\n    main()', 'def change():\\n    # Slice assignment is method call, not assignment.\\n    # Method call does not make x a local variable. \\n    # x is a global variable.\\n    x[1:3] = [2, 2] # <--- slice assignment is a method call\\n\\nx = [0,0,0,0,0]\\nprint(f\"{x = }\")\\n\\ndef main():\\n    change()\\n    print(f\"{x = }\")\\n\\nif __name__ == \"__main__\":\\n    main()', 'a = 25\\n\\ndef my_func():\\n    global a\\n    print(f\"{a = }\")\\n    a = 35\\n        \\ndef main():\\n    my_func()\\n    print(f\"{a = }\")\\n    \\n    print(f\"Number of local variables in my_func      : {my_func.__code__.co_nlocals}\") \\n    print(f\"Tuple of local variables names in my_func : {my_func.__code__.co_varnames}\") \\n       \\nif __name__ == \"__main__\":\\n    main()', 'def my_func():\\n    global a\\n    a = 25\\n    print(f\"{a = }\")\\n    a = 35\\n        \\ndef main():\\n    my_func()\\n    print(f\"{a = }\")\\n    \\n    print(f\"Number of local variables in my_func      : {my_func.__code__.co_nlocals}\") \\n    print(f\"Tuple of local variables names in my_func : {my_func.__code__.co_varnames}\") \\n       \\nif __name__ == \"__main__\":\\n    main()', 'a = 35\\n\\ndef outer():\\n    a = 25    \\n    def inner():\\n        nonlocal a\\n        a = 30       \\n    inner()\\n    print(a)\\n        \\ndef main():\\n    outer()\\n       \\nif __name__ == \"__main__\":\\n    main()', 'a = 35\\n\\ndef outer():\\n    a = 25    \\n    def inner1():   \\n        def inner2():\\n            nonlocal a\\n            a = 30\\n    \\n    \\ndef main():\\n    outer()\\n       \\nif __name__ == \"__main__\":\\n    main()', 'a = 35\\n\\ndef outer():\\n    a = 25    \\n    def inner1():   \\n        def inner2():\\n            nonlocal a\\n            a = 30\\n        inner2()\\n    inner1()\\n    print(a)\\n    \\n    \\ndef main():\\n    outer()\\n       \\nif __name__ == \"__main__\":\\n    main()', 'a = 35\\n\\ndef my_func(inp_param):\\n    local_var = \"some string\"\\n    print(locals()) # local namespace as a dict\\n        \\nif __name__ == \"__main__\":\\n    my_func(a)\\n    print(globals()) # global namespace as a dict\\n\\n    print(f\"Number of local variables in my_func      : {my_func.__code__.co_nlocals}\") \\n    print(f\"Tuple of local variables names in my_func : {my_func.__code__.co_varnames}\") ', 'a = 35\\n\\ndef my_func(inp_param):\\n    local_var = \"some string\"\\n    print(locals()) # local namespace as a dict\\n    print()\\n        \\nif __name__ == \"__main__\":\\n    my_func(a)\\n    print(globals()) # global namespace as a dict\\n\\n    print(f\"Number of local variables in my_func      : {my_func.__code__.co_nlocals}\") \\n    print(f\"Tuple of local variables names in my_func : {my_func.__code__.co_varnames}\") ', 'a = 35\\n\\ndef my_func(inp_param):\\n    local_var = \"some string\"\\n    print(locals()) # local namespace as a dict\\n    print()\\n        \\nif __name__ == \"__main__\":\\n    my_func(a)\\n    print(globals()) # global namespace as a dict'], '_oh': {}, '_dh': ['/content'], 'In': ['', 'import sys\\n\\nclass C:\\n    def __del__(self): # run automatically just before garbage collected\\n        print(f\"bye! {self}\")\\n\\ndef main():\\n    C()  \\n    print(_, end=\"\\\\n\\\\n\") # last expression is stored in _\\n\\nif __name__ == \"__main__\":\\n    main()', 'import sys\\n\\nclass C:\\n    def __del__(self): # run automatically just before garbage collected\\n        print(f\"bye! {self}\")\\n\\ndef main():\\n    C()  \\n    #print(_, end=\"\\\\n\\\\n\") # last expression is stored in _\\n\\nif __name__ == \"__main__\":\\n    main()', 'import sys\\n\\nclass C:\\n    def __del__(self): # run automatically just before garbage collected\\n        print(f\"bye! {self}\")\\n\\ndef main():\\n    C()  \\n\\nif __name__ == \"__main__\":\\n    main()', 'import sys\\n\\nclass C:\\n    def __del__(self): # run automatically just before garbage collected\\n        print(f\"bye! {self}\")\\n\\ndef main():\\n    a = C()  \\n    print(f\"{sys.getrefcount(a) = }\", end=\"\\\\n\\\\n\")\\n\\n    b = a\\n    print(f\"{sys.getrefcount(a) = }\", end=\"\\\\n\\\\n\")\\n\\n    c = a\\n    print(f\"{sys.getrefcount(a) = }\", end=\"\\\\n\\\\n\")\\n\\n    b = None\\n    print(f\"{sys.getrefcount(a) = }\", end=\"\\\\n\\\\n\")\\n\\n    c = None\\n    print(f\"{sys.getrefcount(a) = }\", end=\"\\\\n\\\\n\")\\n\\nif __name__ == \"__main__\":\\n    main()', 'import sys\\nimport weakref\\n\\nclass C:\\n    def __del__(self): # run automatically just before garbage collected\\n        print(f\"bye! {self}\")\\n\\ndef main():\\n    a = C()  \\n    print(f\"{sys.getrefcount(a) = }\", end=\"\\\\n\\\\n\")\\n\\n    b = weakref.ref(a)\\n    print(f\"{sys.getrefcount(a) = }\", end=\"\\\\n\\\\n\")\\n\\n    c = weakref.ref(a)\\n    print(f\"{sys.getrefcount(a) = }\", end=\"\\\\n\\\\n\")\\n\\n    b = None\\n    print(f\"{sys.getrefcount(a) = }\", end=\"\\\\n\\\\n\")\\n\\n    c = None\\n    print(f\"{sys.getrefcount(a) = }\", end=\"\\\\n\\\\n\")\\n\\nif __name__ == \"__main__\":\\n    main()', 'import sys\\n\\nclass C:\\n    def __del__(self): # run automatically just before garbage collected\\n        print(f\"bye! {self}\")\\n\\ndef main():\\n    C()  \\n\\nif __name__ == \"__main__\":\\n    main()', 'import sys\\n\\nclass C:\\n    def __del__(self): # run automatically just before garbage collected\\n        print(f\"bye! {self}\")\\n\\ndef main():\\n    a = C()  \\n    print(f\"{sys.getrefcount(a) = }\", end=\"\\\\n\\\\n\")\\n\\n    b = a\\n    print(f\"{sys.getrefcount(a) = }\", end=\"\\\\n\\\\n\")\\n\\n    c = a\\n    print(f\"{sys.getrefcount(a) = }\", end=\"\\\\n\\\\n\")\\n\\n    b = None\\n    print(f\"{sys.getrefcount(a) = }\", end=\"\\\\n\\\\n\")\\n\\n    c = None\\n    print(f\"{sys.getrefcount(a) = }\", end=\"\\\\n\\\\n\")\\n\\nif __name__ == \"__main__\":\\n    main()', 'def main():\\n    x = 5\\n    print(f\"{id(x) = }\")\\n        \\nif __name__ == \"__main__\":\\n    main()', 'def main():\\n    x = 5\\n    print(f\"{id(x) = }\")\\n\\n    y = x\\n    print(f\"{id(y) = }\")\\n        \\nif __name__ == \"__main__\":\\n    main()', 'import sys\\nimport weakref\\n\\nclass Person:\\n    def __init__(self, name):\\n        self.name = name\\n    def __del__(self): # run automatically just before garbage collected\\n        print(f\"bye! {self}\")\\n\\ndef main():\\n    people = []\\n\\n    print(\"Before loop\")\\n    for i in range(3):\\n        people.append(weakref.ref(Person(f\"name_{i}\")))\\n    print(\"After loop\")\\n\\nif __name__ == \"__main__\":\\n    main()', 'import sys\\n\\nclass Person:\\n    def __init__(self, name):\\n        self.name = name\\n    def __del__(self): # run automatically just before garbage collected\\n        print(f\"bye! {self}\")\\n\\ndef main():\\n    people = []\\n\\n    print(\"Before loop\")\\n    for i in range(3):\\n        people.append(Person(f\"name_{i}\"))\\n    print(\"After loop\")\\n\\nif __name__ == \"__main__\":\\n    main()', '# without __repr__ and __str__\\nclass User:\\n    def __init__(self, name):\\n        self.username = name\\n        \\ndef main():\\n    Tom = User(\"Tom Brown\")\\n    print(Tom)\\n    \\nif __name__ == \"__main__\":\\n    main()', '# with __repr__\\nclass User:\\n    def __init__(self, name):\\n        self.username = name\\n    def __repr__(self):\\n        return f\"User({self.username})\"\\n        \\ndef main():\\n    Tom = User(\"Tom Brown\")\\n    print(Tom)\\n    print(repr(Tom))\\n    print(str(Tom))\\n    \\nif __name__ == \"__main__\":\\n    main()', '# with __repr__ and __str__\\nclass User:\\n    def __init__(self, name):\\n        self.username = name\\n    def __repr__(self):\\n        return f\"User({self.username})\"\\n    def __str__(self):\\n        return f\"User class instance with username {self.username}\"\\n        \\ndef main():\\n    Tom = User(\"Tom Brown\")\\n    print(Tom)\\n    print(repr(Tom))\\n    print(str(Tom))\\n    \\nif __name__ == \"__main__\":\\n    main()', 'def print_x():\\n    # Inside the function definition, we do not define x as a local variable. \\n    # So, when we use the variable x, \\n    # we search for the variable out of the function scope. \\n    # LEGB\\n    print(f\\'{x = }\\')\\n\\ndef main():\\n    x = 1\\n    print_x()\\n    print(print_x.__code__.co_varnames) # local variables of the function print_x\\n\\nif __name__ == \"__main__\":\\n    main()', 'x = 1\\n\\ndef print_x():\\n    # Inside the function definition, we do not define x as a local variable. \\n    # So, when we use the variable x, \\n    # we search for the variable out of the function scope. \\n    # LEGB\\n    print(f\\'{x = }\\')\\n\\ndef main():   \\n    print_x()\\n    print(print_x.__code__.co_varnames) # local variables of the function print_x\\n\\nif __name__ == \"__main__\":\\n    main()', 'x = 1\\n\\ndef print_x():\\n    # Before executing the function, Python reads \\n    # through the function definition and identifies all the local variables.\\n    # Inside the function definition, we define x as a local variable\\n    # in the assignment statement x = 10. \\n    # So, when we use the variable x, \\n    # we search for the variable inside the function scope. \\n    # LEGB\\n    # However, when we use the variable x, \\n    # the variable x still needs to be initialized.\\n    # UnboundLocalError \\n    print(f\\'{x = }\\')\\n    x = 10 # <--- This assignment statement makes x local.\\n\\ndef main():\\n    try:\\n        print_x()\\n    except UnboundLocalError as e:\\n        print(e)\\n    print(print_x.__code__.co_varnames) # local variables of the function print_x\\n\\nif __name__ == \"__main__\":\\n    main()', 'x = 1\\n\\ndef print_x():\\n    # Before executing the function, Python reads \\n    # through the function definition and identifies all the local variables.\\n    # Inside the function definition, we define x as a local variable\\n    # in the assignment statement x = x + 10. \\n    # So, when we use the variable x, \\n    # we search for the variable inside the function scope. \\n    # LEGB\\n    # However, when we use the variable x, \\n    # the variable x still needs to be initialized.\\n    # UnboundLocalError \\n    x = x + 10 # <--- This assignment statement makes x local.\\n    print(f\\'{x = }\\')\\n\\ndef main():\\n    try:\\n        print_x()\\n    except UnboundLocalError as e:\\n        print(e)\\n    print(print_x.__code__.co_varnames) # local variables of the function print_x\\n\\nif __name__ == \"__main__\":\\n    main()', 'def add_some():\\n    # Method call does not make x a local variable. \\n    # x is a global variable.\\n    x.append(5) # <--- This method call does not make x local.   \\n    return x\\n\\ndef main():\\n    x = [\\'seoul\\']\\n    print(add_some())\\n\\nif __name__ == \"__main__\":\\n    main()', 'x = [\\'seoul\\']\\n\\ndef add_some():\\n    # Method call does not make x a local variable. \\n    # x is a global variable.\\n    x.append(5) # <--- This method call does not make x local.   \\n    return x\\n\\ndef main():   \\n    print(add_some())\\n\\nif __name__ == \"__main__\":\\n    main()', 'x = [\\'seoul\\']\\n\\ndef add_some():\\n    # Assignment makes x a local variable. \\n    x += [5] # <--- This assignment makes x local.      \\n    return x\\n\\ndef main(): \\n    try:\\n        print(add_some())\\n    except UnboundLocalError as e:\\n        print(e)\\n\\nif __name__ == \"__main__\":\\n    main()', 'class Example:\\n    def __init__(self, item):\\n        self.item = item\\n\\ndef change():\\n    # Member assignment is method call, not assignment.\\n    # Method call does not make x a local variable.\\n    # x is a global variable. \\n    x.item = 2 # <--- member assignment is a method call\\n\\ndef main(): \\n    x = Example(1)\\n    print(f\"{x.item = }\")\\n\\n    change()\\n    print(f\"{x.item = }\")\\n\\nif __name__ == \"__main__\":\\n    main()', 'x = 1\\n\\ndef print_x():\\n    # Inside the function definition, we do not define x as a local variable. \\n    # So, when we use the variable x, \\n    # we search for the variable out of the function scope. \\n    # LEGB\\n    print(f\\'{x = }\\')\\n\\ndef main():   \\n    print_x()\\n    print(print_x.__code__.co_varnames) # local variables of the function print_x\\n\\nif __name__ == \"__main__\":\\n    main()', 'x = 1\\n\\ndef print_x():\\n    # Before executing the function, Python reads \\n    # through the function definition and identifies all the local variables.\\n    # Inside the function definition, we define x as a local variable\\n    # in the assignment statement x = 10. \\n    # So, when we use the variable x, \\n    # we search for the variable inside the function scope. \\n    # LEGB\\n    x = 10 # <--- This assignment statement makes x local.\\n    print(f\\'{x = }\\')\\n\\ndef main():   \\n    print_x()\\n    print(print_x.__code__.co_varnames) # local variables of the function print_x\\n\\nif __name__ == \"__main__\":\\n    main()', 'x = 1\\n\\ndef print_x():\\n    # Before executing the function, Python reads \\n    # through the function definition and identifies all the local variables.\\n    # Inside the function definition, we define x as a local variable\\n    # in the assignment statement x = 10. \\n    # So, when we use the variable x, \\n    # we search for the variable inside the function scope. \\n    # LEGB\\n    # However, when we use the variable x, \\n    # the variable x still needs to be initialized.\\n    # UnboundLocalError \\n    print(f\\'{x = }\\')\\n    x = 10 # <--- This assignment statement makes x local.\\n\\ndef main():\\n    try:\\n        print_x()\\n    except UnboundLocalError as e:\\n        print(e)\\n    print(print_x.__code__.co_varnames) # local variables of the function print_x\\n\\nif __name__ == \"__main__\":\\n    main()', 'x = 1\\n\\ndef print_x():\\n    # Before executing the function, Python reads \\n    # through the function definition and identifies all the local variables.\\n    # Inside the function definition, we define x as a local variable\\n    # in the assignment statement x = x + 10. \\n    # So, when we use the variable x, \\n    # we search for the variable inside the function scope. \\n    # LEGB\\n    # However, when we use the variable x, \\n    # the variable x still needs to be initialized.\\n    # UnboundLocalError \\n    x = x + 10 # <--- This assignment statement makes x local.\\n    print(f\\'{x = }\\')\\n\\ndef main():\\n    try:\\n        print_x()\\n    except UnboundLocalError as e:\\n        print(e)\\n    print(print_x.__code__.co_varnames) # local variables of the function print_x\\n\\nif __name__ == \"__main__\":\\n    main()', 'x = 1\\n\\ndef print_x():\\n    # Before executing the function, Python reads \\n    # through the function definition and identifies all the local variables.\\n    # Inside the function definition, we define x as a local variable\\n    # in the assignment statement x = x + 10. \\n    # So, when we use the variable x, \\n    # we search for the variable inside the function scope. \\n    # LEGB\\n    # However, when we use the variable x, \\n    # the variable x still needs to be initialized.\\n    # UnboundLocalError \\n    print(f\\'{x = }\\')\\n    x = x + 10 # <--- This assignment statement makes x local.\\n\\ndef main():\\n    try:\\n        print_x()\\n    except UnboundLocalError as e:\\n        print(e)\\n    print(print_x.__code__.co_varnames) # local variables of the function print_x\\n\\nif __name__ == \"__main__\":\\n    main()', 'x = 1\\n\\ndef print_x():\\n    # Without global x statement, x is a local variable \\n    # due to the assignment statement x = x + 10.\\n    # However, with global x statement, x is now a global variable. \\n    global x # <--- This global statement makes x global.\\n    print(f\\'{x = }\\')\\n    x = x + 10\\n\\ndef main():\\n    print_x()\\n    print(print_x.__code__.co_varnames) # local variables of the function print_x\\n\\nif __name__ == \"__main__\":\\n    main()', 'x = [\\'seoul\\']\\n\\ndef add_some():\\n    # Method call does not make x a local variable. \\n    # x is a global variable.\\n    x.append(5) # <--- This method call does not make x local.   \\n    return x\\n\\ndef main():   \\n    print(add_some())\\n\\nif __name__ == \"__main__\":\\n    main()', 'x = [\\'seoul\\']\\n\\ndef add_some():\\n    # Assignment makes x a local variable. \\n    x += [5] # <--- This assignment makes x local.      \\n    return x\\n\\ndef main(): \\n    try:\\n        print(add_some())\\n    except UnboundLocalError as e:\\n        print(e)\\n\\nif __name__ == \"__main__\":\\n    main()', 'class Example:\\n    def __init__(self, item):\\n        self.item = item\\n\\ndef change():\\n    # Member assignment is method call, not assignment.\\n    # Method call does not make x a local variable.\\n    # x is a global variable. \\n    x.item = 2 # <--- member assignment is a method call\\n\\nx = Example(1)\\nprint(f\"{x.item = }\")\\n\\ndef main(): \\n    change()\\n    print(f\"{x.item = }\")\\n\\nif __name__ == \"__main__\":\\n    main()', 'def change():\\n    # Item assignment is method call, not assignment.\\n    # Method call does not make x a local variable.\\n    # x is a global variable. \\n    x[\\'a\\'] = 2 # <--- item assignment is a method call\\n\\nx = {\"a\":1,\"b\":2,\"c\":3}\\nprint(f\"{x[\\'a\\'] = }\")\\n\\ndef main():\\n    change()\\n    print(f\"{x[\\'a\\'] = }\")\\n\\nif __name__ == \"__main__\":\\n    main()', 'def change():\\n    # Slice assignment is method call, not assignment.\\n    # Method call does not make x a local variable. \\n    # x is a global variable.\\n    x[1:3] = [2, 2] # <--- slice assignment is a method call\\n\\nx = [0,0,0,0,0]\\nprint(f\"{x = }\")\\n\\ndef main():\\n    change()\\n    print(f\"{x = }\")\\n\\nif __name__ == \"__main__\":\\n    main()', 'a = 25\\n\\ndef my_func():\\n    global a\\n    print(f\"{a = }\")\\n    a = 35\\n        \\ndef main():\\n    my_func()\\n    print(f\"{a = }\")\\n    \\n    print(f\"Number of local variables in my_func      : {my_func.__code__.co_nlocals}\") \\n    print(f\"Tuple of local variables names in my_func : {my_func.__code__.co_varnames}\") \\n       \\nif __name__ == \"__main__\":\\n    main()', 'def my_func():\\n    global a\\n    a = 25\\n    print(f\"{a = }\")\\n    a = 35\\n        \\ndef main():\\n    my_func()\\n    print(f\"{a = }\")\\n    \\n    print(f\"Number of local variables in my_func      : {my_func.__code__.co_nlocals}\") \\n    print(f\"Tuple of local variables names in my_func : {my_func.__code__.co_varnames}\") \\n       \\nif __name__ == \"__main__\":\\n    main()', 'a = 35\\n\\ndef outer():\\n    a = 25    \\n    def inner():\\n        nonlocal a\\n        a = 30       \\n    inner()\\n    print(a)\\n        \\ndef main():\\n    outer()\\n       \\nif __name__ == \"__main__\":\\n    main()', 'a = 35\\n\\ndef outer():\\n    a = 25    \\n    def inner1():   \\n        def inner2():\\n            nonlocal a\\n            a = 30\\n    \\n    \\ndef main():\\n    outer()\\n       \\nif __name__ == \"__main__\":\\n    main()', 'a = 35\\n\\ndef outer():\\n    a = 25    \\n    def inner1():   \\n        def inner2():\\n            nonlocal a\\n            a = 30\\n        inner2()\\n    inner1()\\n    print(a)\\n    \\n    \\ndef main():\\n    outer()\\n       \\nif __name__ == \"__main__\":\\n    main()', 'a = 35\\n\\ndef my_func(inp_param):\\n    local_var = \"some string\"\\n    print(locals()) # local namespace as a dict\\n        \\nif __name__ == \"__main__\":\\n    my_func(a)\\n    print(globals()) # global namespace as a dict\\n\\n    print(f\"Number of local variables in my_func      : {my_func.__code__.co_nlocals}\") \\n    print(f\"Tuple of local variables names in my_func : {my_func.__code__.co_varnames}\") ', 'a = 35\\n\\ndef my_func(inp_param):\\n    local_var = \"some string\"\\n    print(locals()) # local namespace as a dict\\n    print()\\n        \\nif __name__ == \"__main__\":\\n    my_func(a)\\n    print(globals()) # global namespace as a dict\\n\\n    print(f\"Number of local variables in my_func      : {my_func.__code__.co_nlocals}\") \\n    print(f\"Tuple of local variables names in my_func : {my_func.__code__.co_varnames}\") ', 'a = 35\\n\\ndef my_func(inp_param):\\n    local_var = \"some string\"\\n    print(locals()) # local namespace as a dict\\n    print()\\n        \\nif __name__ == \"__main__\":\\n    my_func(a)\\n    print(globals()) # global namespace as a dict'], 'Out': {}, 'get_ipython': <bound method InteractiveShell.get_ipython of <google.colab._shell.Shell object at 0x7fa5710caf10>>, 'exit': <IPython.core.autocall.ZMQExitAutocall object at 0x7fa570cc4340>, 'quit': <IPython.core.autocall.ZMQExitAutocall object at 0x7fa570cc4340>, '_': '', '__': '', '___': '', '_i': 'a = 35\\n\\ndef my_func(inp_param):\\n    local_var = \"some string\"\\n    print(locals()) # local namespace as a dict\\n    print()\\n        \\nif __name__ == \"__main__\":\\n    my_func(a)\\n    print(globals()) # global namespace as a dict\\n\\n    print(f\"Number of local variables in my_func      : {my_func.__code__.co_nlocals}\") \\n    print(f\"Tuple of local variables names in my_func : {my_func.__code__.co_varnames}\") ', '_ii': 'a = 35\\n\\ndef my_func(inp_param):\\n    local_var = \"some string\"\\n    print(locals()) # local namespace as a dict\\n        \\nif __name__ == \"__main__\":\\n    my_func(a)\\n    print(globals()) # global namespace as a dict\\n\\n    print(f\"Number of local variables in my_func      : {my_func.__code__.co_nlocals}\") \\n    print(f\"Tuple of local variables names in my_func : {my_func.__code__.co_varnames}\") ', '_iii': 'a = 35\\n\\ndef outer():\\n    a = 25    \\n    def inner1():   \\n        def inner2():\\n            nonlocal a\\n            a = 30\\n        inner2()\\n    inner1()\\n    print(a)\\n    \\n    \\ndef main():\\n    outer()\\n       \\nif __name__ == \"__main__\":\\n    main()', '_i1': 'import sys\\n\\nclass C:\\n    def __del__(self): # run automatically just before garbage collected\\n        print(f\"bye! {self}\")\\n\\ndef main():\\n    C()  \\n    print(_, end=\"\\\\n\\\\n\") # last expression is stored in _\\n\\nif __name__ == \"__main__\":\\n    main()', 'sys': <module 'sys' (built-in)>, 'C': <class '__main__.C'>, 'main': <function main at 0x7fa52908e1f0>, '_i2': 'import sys\\n\\nclass C:\\n    def __del__(self): # run automatically just before garbage collected\\n        print(f\"bye! {self}\")\\n\\ndef main():\\n    C()  \\n    #print(_, end=\"\\\\n\\\\n\") # last expression is stored in _\\n\\nif __name__ == \"__main__\":\\n    main()', '_i3': 'import sys\\n\\nclass C:\\n    def __del__(self): # run automatically just before garbage collected\\n        print(f\"bye! {self}\")\\n\\ndef main():\\n    C()  \\n\\nif __name__ == \"__main__\":\\n    main()', '_i4': 'import sys\\n\\nclass C:\\n    def __del__(self): # run automatically just before garbage collected\\n        print(f\"bye! {self}\")\\n\\ndef main():\\n    a = C()  \\n    print(f\"{sys.getrefcount(a) = }\", end=\"\\\\n\\\\n\")\\n\\n    b = a\\n    print(f\"{sys.getrefcount(a) = }\", end=\"\\\\n\\\\n\")\\n\\n    c = a\\n    print(f\"{sys.getrefcount(a) = }\", end=\"\\\\n\\\\n\")\\n\\n    b = None\\n    print(f\"{sys.getrefcount(a) = }\", end=\"\\\\n\\\\n\")\\n\\n    c = None\\n    print(f\"{sys.getrefcount(a) = }\", end=\"\\\\n\\\\n\")\\n\\nif __name__ == \"__main__\":\\n    main()', '_i5': 'import sys\\nimport weakref\\n\\nclass C:\\n    def __del__(self): # run automatically just before garbage collected\\n        print(f\"bye! {self}\")\\n\\ndef main():\\n    a = C()  \\n    print(f\"{sys.getrefcount(a) = }\", end=\"\\\\n\\\\n\")\\n\\n    b = weakref.ref(a)\\n    print(f\"{sys.getrefcount(a) = }\", end=\"\\\\n\\\\n\")\\n\\n    c = weakref.ref(a)\\n    print(f\"{sys.getrefcount(a) = }\", end=\"\\\\n\\\\n\")\\n\\n    b = None\\n    print(f\"{sys.getrefcount(a) = }\", end=\"\\\\n\\\\n\")\\n\\n    c = None\\n    print(f\"{sys.getrefcount(a) = }\", end=\"\\\\n\\\\n\")\\n\\nif __name__ == \"__main__\":\\n    main()', 'weakref': <module 'weakref' from '/usr/lib/python3.9/weakref.py'>, '_i6': 'import sys\\n\\nclass C:\\n    def __del__(self): # run automatically just before garbage collected\\n        print(f\"bye! {self}\")\\n\\ndef main():\\n    C()  \\n\\nif __name__ == \"__main__\":\\n    main()', '_i7': 'import sys\\n\\nclass C:\\n    def __del__(self): # run automatically just before garbage collected\\n        print(f\"bye! {self}\")\\n\\ndef main():\\n    a = C()  \\n    print(f\"{sys.getrefcount(a) = }\", end=\"\\\\n\\\\n\")\\n\\n    b = a\\n    print(f\"{sys.getrefcount(a) = }\", end=\"\\\\n\\\\n\")\\n\\n    c = a\\n    print(f\"{sys.getrefcount(a) = }\", end=\"\\\\n\\\\n\")\\n\\n    b = None\\n    print(f\"{sys.getrefcount(a) = }\", end=\"\\\\n\\\\n\")\\n\\n    c = None\\n    print(f\"{sys.getrefcount(a) = }\", end=\"\\\\n\\\\n\")\\n\\nif __name__ == \"__main__\":\\n    main()', '_i8': 'def main():\\n    x = 5\\n    print(f\"{id(x) = }\")\\n        \\nif __name__ == \"__main__\":\\n    main()', '_i9': 'def main():\\n    x = 5\\n    print(f\"{id(x) = }\")\\n\\n    y = x\\n    print(f\"{id(y) = }\")\\n        \\nif __name__ == \"__main__\":\\n    main()', '_i10': 'import sys\\nimport weakref\\n\\nclass Person:\\n    def __init__(self, name):\\n        self.name = name\\n    def __del__(self): # run automatically just before garbage collected\\n        print(f\"bye! {self}\")\\n\\ndef main():\\n    people = []\\n\\n    print(\"Before loop\")\\n    for i in range(3):\\n        people.append(weakref.ref(Person(f\"name_{i}\")))\\n    print(\"After loop\")\\n\\nif __name__ == \"__main__\":\\n    main()', 'Person': <class '__main__.Person'>, '_i11': 'import sys\\n\\nclass Person:\\n    def __init__(self, name):\\n        self.name = name\\n    def __del__(self): # run automatically just before garbage collected\\n        print(f\"bye! {self}\")\\n\\ndef main():\\n    people = []\\n\\n    print(\"Before loop\")\\n    for i in range(3):\\n        people.append(Person(f\"name_{i}\"))\\n    print(\"After loop\")\\n\\nif __name__ == \"__main__\":\\n    main()', '_i12': '# without __repr__ and __str__\\nclass User:\\n    def __init__(self, name):\\n        self.username = name\\n        \\ndef main():\\n    Tom = User(\"Tom Brown\")\\n    print(Tom)\\n    \\nif __name__ == \"__main__\":\\n    main()', 'User': <class '__main__.User'>, '_i13': '# with __repr__\\nclass User:\\n    def __init__(self, name):\\n        self.username = name\\n    def __repr__(self):\\n        return f\"User({self.username})\"\\n        \\ndef main():\\n    Tom = User(\"Tom Brown\")\\n    print(Tom)\\n    print(repr(Tom))\\n    print(str(Tom))\\n    \\nif __name__ == \"__main__\":\\n    main()', '_i14': '# with __repr__ and __str__\\nclass User:\\n    def __init__(self, name):\\n        self.username = name\\n    def __repr__(self):\\n        return f\"User({self.username})\"\\n    def __str__(self):\\n        return f\"User class instance with username {self.username}\"\\n        \\ndef main():\\n    Tom = User(\"Tom Brown\")\\n    print(Tom)\\n    print(repr(Tom))\\n    print(str(Tom))\\n    \\nif __name__ == \"__main__\":\\n    main()', '_i15': 'def print_x():\\n    # Inside the function definition, we do not define x as a local variable. \\n    # So, when we use the variable x, \\n    # we search for the variable out of the function scope. \\n    # LEGB\\n    print(f\\'{x = }\\')\\n\\ndef main():\\n    x = 1\\n    print_x()\\n    print(print_x.__code__.co_varnames) # local variables of the function print_x\\n\\nif __name__ == \"__main__\":\\n    main()', 'print_x': <function print_x at 0x7fa55409df70>, '_i16': 'x = 1\\n\\ndef print_x():\\n    # Inside the function definition, we do not define x as a local variable. \\n    # So, when we use the variable x, \\n    # we search for the variable out of the function scope. \\n    # LEGB\\n    print(f\\'{x = }\\')\\n\\ndef main():   \\n    print_x()\\n    print(print_x.__code__.co_varnames) # local variables of the function print_x\\n\\nif __name__ == \"__main__\":\\n    main()', 'x': [0, 2, 2, 0, 0], '_i17': 'x = 1\\n\\ndef print_x():\\n    # Before executing the function, Python reads \\n    # through the function definition and identifies all the local variables.\\n    # Inside the function definition, we define x as a local variable\\n    # in the assignment statement x = 10. \\n    # So, when we use the variable x, \\n    # we search for the variable inside the function scope. \\n    # LEGB\\n    # However, when we use the variable x, \\n    # the variable x still needs to be initialized.\\n    # UnboundLocalError \\n    print(f\\'{x = }\\')\\n    x = 10 # <--- This assignment statement makes x local.\\n\\ndef main():\\n    try:\\n        print_x()\\n    except UnboundLocalError as e:\\n        print(e)\\n    print(print_x.__code__.co_varnames) # local variables of the function print_x\\n\\nif __name__ == \"__main__\":\\n    main()', '_i18': 'x = 1\\n\\ndef print_x():\\n    # Before executing the function, Python reads \\n    # through the function definition and identifies all the local variables.\\n    # Inside the function definition, we define x as a local variable\\n    # in the assignment statement x = x + 10. \\n    # So, when we use the variable x, \\n    # we search for the variable inside the function scope. \\n    # LEGB\\n    # However, when we use the variable x, \\n    # the variable x still needs to be initialized.\\n    # UnboundLocalError \\n    x = x + 10 # <--- This assignment statement makes x local.\\n    print(f\\'{x = }\\')\\n\\ndef main():\\n    try:\\n        print_x()\\n    except UnboundLocalError as e:\\n        print(e)\\n    print(print_x.__code__.co_varnames) # local variables of the function print_x\\n\\nif __name__ == \"__main__\":\\n    main()', '_i19': 'def add_some():\\n    # Method call does not make x a local variable. \\n    # x is a global variable.\\n    x.append(5) # <--- This method call does not make x local.   \\n    return x\\n\\ndef main():\\n    x = [\\'seoul\\']\\n    print(add_some())\\n\\nif __name__ == \"__main__\":\\n    main()', 'add_some': <function add_some at 0x7fa52908c670>, '_i20': 'x = [\\'seoul\\']\\n\\ndef add_some():\\n    # Method call does not make x a local variable. \\n    # x is a global variable.\\n    x.append(5) # <--- This method call does not make x local.   \\n    return x\\n\\ndef main():   \\n    print(add_some())\\n\\nif __name__ == \"__main__\":\\n    main()', '_i21': 'x = [\\'seoul\\']\\n\\ndef add_some():\\n    # Assignment makes x a local variable. \\n    x += [5] # <--- This assignment makes x local.      \\n    return x\\n\\ndef main(): \\n    try:\\n        print(add_some())\\n    except UnboundLocalError as e:\\n        print(e)\\n\\nif __name__ == \"__main__\":\\n    main()', '_i22': 'class Example:\\n    def __init__(self, item):\\n        self.item = item\\n\\ndef change():\\n    # Member assignment is method call, not assignment.\\n    # Method call does not make x a local variable.\\n    # x is a global variable. \\n    x.item = 2 # <--- member assignment is a method call\\n\\ndef main(): \\n    x = Example(1)\\n    print(f\"{x.item = }\")\\n\\n    change()\\n    print(f\"{x.item = }\")\\n\\nif __name__ == \"__main__\":\\n    main()', 'Example': <class '__main__.Example'>, 'change': <function change at 0x7fa529079820>, '_i23': 'x = 1\\n\\ndef print_x():\\n    # Inside the function definition, we do not define x as a local variable. \\n    # So, when we use the variable x, \\n    # we search for the variable out of the function scope. \\n    # LEGB\\n    print(f\\'{x = }\\')\\n\\ndef main():   \\n    print_x()\\n    print(print_x.__code__.co_varnames) # local variables of the function print_x\\n\\nif __name__ == \"__main__\":\\n    main()', '_i24': 'x = 1\\n\\ndef print_x():\\n    # Before executing the function, Python reads \\n    # through the function definition and identifies all the local variables.\\n    # Inside the function definition, we define x as a local variable\\n    # in the assignment statement x = 10. \\n    # So, when we use the variable x, \\n    # we search for the variable inside the function scope. \\n    # LEGB\\n    x = 10 # <--- This assignment statement makes x local.\\n    print(f\\'{x = }\\')\\n\\ndef main():   \\n    print_x()\\n    print(print_x.__code__.co_varnames) # local variables of the function print_x\\n\\nif __name__ == \"__main__\":\\n    main()', '_i25': 'x = 1\\n\\ndef print_x():\\n    # Before executing the function, Python reads \\n    # through the function definition and identifies all the local variables.\\n    # Inside the function definition, we define x as a local variable\\n    # in the assignment statement x = 10. \\n    # So, when we use the variable x, \\n    # we search for the variable inside the function scope. \\n    # LEGB\\n    # However, when we use the variable x, \\n    # the variable x still needs to be initialized.\\n    # UnboundLocalError \\n    print(f\\'{x = }\\')\\n    x = 10 # <--- This assignment statement makes x local.\\n\\ndef main():\\n    try:\\n        print_x()\\n    except UnboundLocalError as e:\\n        print(e)\\n    print(print_x.__code__.co_varnames) # local variables of the function print_x\\n\\nif __name__ == \"__main__\":\\n    main()', '_i26': 'x = 1\\n\\ndef print_x():\\n    # Before executing the function, Python reads \\n    # through the function definition and identifies all the local variables.\\n    # Inside the function definition, we define x as a local variable\\n    # in the assignment statement x = x + 10. \\n    # So, when we use the variable x, \\n    # we search for the variable inside the function scope. \\n    # LEGB\\n    # However, when we use the variable x, \\n    # the variable x still needs to be initialized.\\n    # UnboundLocalError \\n    x = x + 10 # <--- This assignment statement makes x local.\\n    print(f\\'{x = }\\')\\n\\ndef main():\\n    try:\\n        print_x()\\n    except UnboundLocalError as e:\\n        print(e)\\n    print(print_x.__code__.co_varnames) # local variables of the function print_x\\n\\nif __name__ == \"__main__\":\\n    main()', '_i27': 'x = 1\\n\\ndef print_x():\\n    # Before executing the function, Python reads \\n    # through the function definition and identifies all the local variables.\\n    # Inside the function definition, we define x as a local variable\\n    # in the assignment statement x = x + 10. \\n    # So, when we use the variable x, \\n    # we search for the variable inside the function scope. \\n    # LEGB\\n    # However, when we use the variable x, \\n    # the variable x still needs to be initialized.\\n    # UnboundLocalError \\n    print(f\\'{x = }\\')\\n    x = x + 10 # <--- This assignment statement makes x local.\\n\\ndef main():\\n    try:\\n        print_x()\\n    except UnboundLocalError as e:\\n        print(e)\\n    print(print_x.__code__.co_varnames) # local variables of the function print_x\\n\\nif __name__ == \"__main__\":\\n    main()', '_i28': 'x = 1\\n\\ndef print_x():\\n    # Without global x statement, x is a local variable \\n    # due to the assignment statement x = x + 10.\\n    # However, with global x statement, x is now a global variable. \\n    global x # <--- This global statement makes x global.\\n    print(f\\'{x = }\\')\\n    x = x + 10\\n\\ndef main():\\n    print_x()\\n    print(print_x.__code__.co_varnames) # local variables of the function print_x\\n\\nif __name__ == \"__main__\":\\n    main()', '_i29': 'x = [\\'seoul\\']\\n\\ndef add_some():\\n    # Method call does not make x a local variable. \\n    # x is a global variable.\\n    x.append(5) # <--- This method call does not make x local.   \\n    return x\\n\\ndef main():   \\n    print(add_some())\\n\\nif __name__ == \"__main__\":\\n    main()', '_i30': 'x = [\\'seoul\\']\\n\\ndef add_some():\\n    # Assignment makes x a local variable. \\n    x += [5] # <--- This assignment makes x local.      \\n    return x\\n\\ndef main(): \\n    try:\\n        print(add_some())\\n    except UnboundLocalError as e:\\n        print(e)\\n\\nif __name__ == \"__main__\":\\n    main()', '_i31': 'class Example:\\n    def __init__(self, item):\\n        self.item = item\\n\\ndef change():\\n    # Member assignment is method call, not assignment.\\n    # Method call does not make x a local variable.\\n    # x is a global variable. \\n    x.item = 2 # <--- member assignment is a method call\\n\\nx = Example(1)\\nprint(f\"{x.item = }\")\\n\\ndef main(): \\n    change()\\n    print(f\"{x.item = }\")\\n\\nif __name__ == \"__main__\":\\n    main()', '_i32': 'def change():\\n    # Item assignment is method call, not assignment.\\n    # Method call does not make x a local variable.\\n    # x is a global variable. \\n    x[\\'a\\'] = 2 # <--- item assignment is a method call\\n\\nx = {\"a\":1,\"b\":2,\"c\":3}\\nprint(f\"{x[\\'a\\'] = }\")\\n\\ndef main():\\n    change()\\n    print(f\"{x[\\'a\\'] = }\")\\n\\nif __name__ == \"__main__\":\\n    main()', '_i33': 'def change():\\n    # Slice assignment is method call, not assignment.\\n    # Method call does not make x a local variable. \\n    # x is a global variable.\\n    x[1:3] = [2, 2] # <--- slice assignment is a method call\\n\\nx = [0,0,0,0,0]\\nprint(f\"{x = }\")\\n\\ndef main():\\n    change()\\n    print(f\"{x = }\")\\n\\nif __name__ == \"__main__\":\\n    main()', '_i34': 'a = 25\\n\\ndef my_func():\\n    global a\\n    print(f\"{a = }\")\\n    a = 35\\n        \\ndef main():\\n    my_func()\\n    print(f\"{a = }\")\\n    \\n    print(f\"Number of local variables in my_func      : {my_func.__code__.co_nlocals}\") \\n    print(f\"Tuple of local variables names in my_func : {my_func.__code__.co_varnames}\") \\n       \\nif __name__ == \"__main__\":\\n    main()', 'a': 35, 'my_func': <function my_func at 0x7fa55409d160>, '_i35': 'def my_func():\\n    global a\\n    a = 25\\n    print(f\"{a = }\")\\n    a = 35\\n        \\ndef main():\\n    my_func()\\n    print(f\"{a = }\")\\n    \\n    print(f\"Number of local variables in my_func      : {my_func.__code__.co_nlocals}\") \\n    print(f\"Tuple of local variables names in my_func : {my_func.__code__.co_varnames}\") \\n       \\nif __name__ == \"__main__\":\\n    main()', '_i36': 'a = 35\\n\\ndef outer():\\n    a = 25    \\n    def inner():\\n        nonlocal a\\n        a = 30       \\n    inner()\\n    print(a)\\n        \\ndef main():\\n    outer()\\n       \\nif __name__ == \"__main__\":\\n    main()', 'outer': <function outer at 0x7fa52908e310>, '_i37': 'a = 35\\n\\ndef outer():\\n    a = 25    \\n    def inner1():   \\n        def inner2():\\n            nonlocal a\\n            a = 30\\n    \\n    \\ndef main():\\n    outer()\\n       \\nif __name__ == \"__main__\":\\n    main()', '_i38': 'a = 35\\n\\ndef outer():\\n    a = 25    \\n    def inner1():   \\n        def inner2():\\n            nonlocal a\\n            a = 30\\n        inner2()\\n    inner1()\\n    print(a)\\n    \\n    \\ndef main():\\n    outer()\\n       \\nif __name__ == \"__main__\":\\n    main()', '_i39': 'a = 35\\n\\ndef my_func(inp_param):\\n    local_var = \"some string\"\\n    print(locals()) # local namespace as a dict\\n        \\nif __name__ == \"__main__\":\\n    my_func(a)\\n    print(globals()) # global namespace as a dict\\n\\n    print(f\"Number of local variables in my_func      : {my_func.__code__.co_nlocals}\") \\n    print(f\"Tuple of local variables names in my_func : {my_func.__code__.co_varnames}\") ', '_i40': 'a = 35\\n\\ndef my_func(inp_param):\\n    local_var = \"some string\"\\n    print(locals()) # local namespace as a dict\\n    print()\\n        \\nif __name__ == \"__main__\":\\n    my_func(a)\\n    print(globals()) # global namespace as a dict\\n\\n    print(f\"Number of local variables in my_func      : {my_func.__code__.co_nlocals}\") \\n    print(f\"Tuple of local variables names in my_func : {my_func.__code__.co_varnames}\") ', '_i41': 'a = 35\\n\\ndef my_func(inp_param):\\n    local_var = \"some string\"\\n    print(locals()) # local namespace as a dict\\n    print()\\n        \\nif __name__ == \"__main__\":\\n    my_func(a)\\n    print(globals()) # global namespace as a dict'}\n"
          ]
        }
      ]
    },
    {
      "cell_type": "markdown",
      "source": [
        "#####***global vs nonlocal***"
      ],
      "metadata": {
        "id": "tuDg47NCMUeE"
      }
    },
    {
      "cell_type": "code",
      "source": [
        "a = 25\n",
        "\n",
        "def my_func():\n",
        "    global a\n",
        "    print(f\"{a = }\")\n",
        "    a = 35\n",
        "        \n",
        "def main():\n",
        "    my_func()\n",
        "    print(f\"{a = }\")\n",
        "    \n",
        "    print(f\"Number of local variables in my_func      : {my_func.__code__.co_nlocals}\") \n",
        "    print(f\"Tuple of local variables names in my_func : {my_func.__code__.co_varnames}\") \n",
        "       \n",
        "if __name__ == \"__main__\":\n",
        "    main()"
      ],
      "metadata": {
        "colab": {
          "base_uri": "https://localhost:8080/"
        },
        "id": "Uf3CigC9MUpR",
        "outputId": "aeb9592b-b925-4f2f-88c2-7463a63c9688"
      },
      "execution_count": 34,
      "outputs": [
        {
          "output_type": "stream",
          "name": "stdout",
          "text": [
            "a = 25\n",
            "a = 35\n",
            "Number of local variables in my_func      : 0\n",
            "Tuple of local variables names in my_func : ()\n"
          ]
        }
      ]
    },
    {
      "cell_type": "code",
      "source": [
        "def my_func():\n",
        "    global a\n",
        "    a = 25\n",
        "    print(f\"{a = }\")\n",
        "    a = 35\n",
        "        \n",
        "def main():\n",
        "    my_func()\n",
        "    print(f\"{a = }\")\n",
        "    \n",
        "    print(f\"Number of local variables in my_func      : {my_func.__code__.co_nlocals}\") \n",
        "    print(f\"Tuple of local variables names in my_func : {my_func.__code__.co_varnames}\") \n",
        "       \n",
        "if __name__ == \"__main__\":\n",
        "    main()"
      ],
      "metadata": {
        "colab": {
          "base_uri": "https://localhost:8080/"
        },
        "id": "bha8Q4D-8PaM",
        "outputId": "c16efbb6-6517-4185-e50a-091de9802813"
      },
      "execution_count": 35,
      "outputs": [
        {
          "output_type": "stream",
          "name": "stdout",
          "text": [
            "a = 25\n",
            "a = 35\n",
            "Number of local variables in my_func      : 0\n",
            "Tuple of local variables names in my_func : ()\n"
          ]
        }
      ]
    },
    {
      "cell_type": "code",
      "source": [
        "a = 35\n",
        "\n",
        "def outer():\n",
        "    a = 25    \n",
        "    def inner():\n",
        "        nonlocal a\n",
        "        a = 30       \n",
        "    inner()\n",
        "    print(a)\n",
        "        \n",
        "def main():\n",
        "    outer()\n",
        "       \n",
        "if __name__ == \"__main__\":\n",
        "    main()"
      ],
      "metadata": {
        "colab": {
          "base_uri": "https://localhost:8080/"
        },
        "id": "jcOc8rqH8ZwJ",
        "outputId": "7e3c6019-0020-469a-b37c-9c52a7104bbf"
      },
      "execution_count": 36,
      "outputs": [
        {
          "output_type": "stream",
          "name": "stdout",
          "text": [
            "30\n"
          ]
        }
      ]
    },
    {
      "cell_type": "code",
      "source": [
        "a = 35\n",
        "\n",
        "def outer():\n",
        "    a = 25    \n",
        "    def inner1():   \n",
        "        def inner2():\n",
        "            nonlocal a\n",
        "            a = 30\n",
        "        inner2()\n",
        "    inner1()\n",
        "    print(a)\n",
        "    \n",
        "    \n",
        "def main():\n",
        "    outer()\n",
        "       \n",
        "if __name__ == \"__main__\":\n",
        "    main()"
      ],
      "metadata": {
        "colab": {
          "base_uri": "https://localhost:8080/"
        },
        "id": "YhW6pBkV8dNS",
        "outputId": "6c6eb43c-962f-4f3f-e22d-803c8b2c2ac7"
      },
      "execution_count": 38,
      "outputs": [
        {
          "output_type": "stream",
          "name": "stdout",
          "text": [
            "30\n"
          ]
        }
      ]
    },
    {
      "cell_type": "markdown",
      "source": [
        "####***Section 4 LEGB [eng](https://www.youtube.com/watch?v=QVdf0LgmICw&index=17&list=PL-osiE80TeTt2d9bfVyTiXJA-UTHn6WwU)***"
      ],
      "metadata": {
        "id": "93hkT5W06k_h"
      }
    },
    {
      "cell_type": "markdown",
      "source": [
        "#####***LEGB - Use it if the object is in local scope***"
      ],
      "metadata": {
        "id": "CLpHY23w3_NS"
      }
    },
    {
      "cell_type": "code",
      "source": [
        "a = 3\n",
        "\n",
        "def main():\n",
        "    a = 4  \n",
        "    def some_function():\n",
        "        a = 5\n",
        "        print(a) # what will be the output of this line\n",
        "    some_function()\n",
        "    print(a) # what will be the output of this line\n",
        "\n",
        "print(a) # what will be the output of this line\n",
        "\n",
        "if __name__ == \"__main__\":\n",
        "    main()"
      ],
      "metadata": {
        "colab": {
          "base_uri": "https://localhost:8080/"
        },
        "outputId": "4d53636a-ac6c-4910-b4d5-5079192ee27d",
        "id": "0TK2keUj3_NT"
      },
      "execution_count": 43,
      "outputs": [
        {
          "output_type": "stream",
          "name": "stdout",
          "text": [
            "3\n",
            "5\n",
            "4\n"
          ]
        }
      ]
    },
    {
      "cell_type": "markdown",
      "source": [
        "#####***LEGB - Search it in the next level, enclosing scope, if the object is not in local scope***"
      ],
      "metadata": {
        "id": "cpnDafO-3_NT"
      }
    },
    {
      "cell_type": "code",
      "source": [
        "a = 3\n",
        "\n",
        "def main():\n",
        "    a = 4  \n",
        "    def some_function():\n",
        "        #a = 5\n",
        "        print(a) # what will be the output of this line\n",
        "    some_function()\n",
        "    print(a) # what will be the output of this line\n",
        "\n",
        "print(a) # what will be the output of this line\n",
        "\n",
        "if __name__ == \"__main__\":\n",
        "    main()"
      ],
      "metadata": {
        "colab": {
          "base_uri": "https://localhost:8080/"
        },
        "outputId": "82ccff7b-9299-4e6d-a81c-743a0fd63329",
        "id": "82NXoIBi3_NT"
      },
      "execution_count": 44,
      "outputs": [
        {
          "output_type": "stream",
          "name": "stdout",
          "text": [
            "3\n",
            "4\n",
            "4\n"
          ]
        }
      ]
    },
    {
      "cell_type": "markdown",
      "source": [
        "#####***LEGB - Search it in the next level, global scope, if the object is not in local or enclosing scope***"
      ],
      "metadata": {
        "id": "M7au4U5_3_NT"
      }
    },
    {
      "cell_type": "code",
      "source": [
        "a = 3\n",
        "\n",
        "def main():\n",
        "    #a = 4  \n",
        "    def some_function():\n",
        "        #a = 5\n",
        "        print(a) # what will be the output of this line\n",
        "    some_function()\n",
        "    print(a) # what will be the output of this line\n",
        "\n",
        "print(a) # what will be the output of this line\n",
        "\n",
        "if __name__ == \"__main__\":\n",
        "    main()"
      ],
      "metadata": {
        "colab": {
          "base_uri": "https://localhost:8080/"
        },
        "outputId": "cc2ed5eb-9d30-499f-df7d-ddb954f5e9f4",
        "id": "k_rvTmbV3_NU"
      },
      "execution_count": 45,
      "outputs": [
        {
          "output_type": "stream",
          "name": "stdout",
          "text": [
            "3\n",
            "3\n",
            "3\n"
          ]
        }
      ]
    },
    {
      "cell_type": "markdown",
      "source": [
        "#####***LEGB - Search it in the next level, built-in scope, if the object is not in local, enclosing, or global scope***"
      ],
      "metadata": {
        "id": "fkiD4pW93_NU"
      }
    },
    {
      "cell_type": "markdown",
      "source": [
        "The built-in scope is a special Python scope that’s implemented as a standard library module named builtins in Python 3.x. All of Python’s built-in objects live in this module. They’re automatically loaded to the built-in scope when you run the Python interpreter. Python searches builtins last in its LEGB lookup, so you get all the names it defines for free. This means that you can use them without importing any module.\n",
        "\n",
        "\n",
        "Sorce [Python Scope & the LEGB Rule: Resolving Names in Your Code](https://realpython.com/python-scope-legb-rule/)"
      ],
      "metadata": {
        "id": "0yhCxOdq3_NU"
      }
    },
    {
      "cell_type": "code",
      "source": [
        "def main():\n",
        "    print(dir()) # __builtins__ is always present in the global Python scope\n",
        "    print(__builtins__) # built-in module 'builtins'\n",
        "    print(dir(__builtins__)) # method and attributes of built-in module 'builtins'\n",
        "    print(len(dir(__builtins__))) # currently there are 155 method and attributes\n",
        "    print('dir' in dir(__builtins__)) # one of them is dir\n",
        "\n",
        "if __name__ == \"__main__\":\n",
        "    main()"
      ],
      "metadata": {
        "colab": {
          "base_uri": "https://localhost:8080/"
        },
        "outputId": "edb7594b-f780-4e0c-fe52-b76a3ca3cdff",
        "id": "HtNvsvZ23_NU"
      },
      "execution_count": 46,
      "outputs": [
        {
          "output_type": "stream",
          "name": "stdout",
          "text": [
            "[]\n",
            "<module 'builtins' (built-in)>\n",
            "['ArithmeticError', 'AssertionError', 'AttributeError', 'BaseException', 'BlockingIOError', 'BrokenPipeError', 'BufferError', 'BytesWarning', 'ChildProcessError', 'ConnectionAbortedError', 'ConnectionError', 'ConnectionRefusedError', 'ConnectionResetError', 'DeprecationWarning', 'EOFError', 'Ellipsis', 'EnvironmentError', 'Exception', 'False', 'FileExistsError', 'FileNotFoundError', 'FloatingPointError', 'FutureWarning', 'GeneratorExit', 'IOError', 'ImportError', 'ImportWarning', 'IndentationError', 'IndexError', 'InterruptedError', 'IsADirectoryError', 'KeyError', 'KeyboardInterrupt', 'LookupError', 'MemoryError', 'ModuleNotFoundError', 'NameError', 'None', 'NotADirectoryError', 'NotImplemented', 'NotImplementedError', 'OSError', 'OverflowError', 'PendingDeprecationWarning', 'PermissionError', 'ProcessLookupError', 'RecursionError', 'ReferenceError', 'ResourceWarning', 'RuntimeError', 'RuntimeWarning', 'StopAsyncIteration', 'StopIteration', 'SyntaxError', 'SyntaxWarning', 'SystemError', 'SystemExit', 'TabError', 'TimeoutError', 'True', 'TypeError', 'UnboundLocalError', 'UnicodeDecodeError', 'UnicodeEncodeError', 'UnicodeError', 'UnicodeTranslateError', 'UnicodeWarning', 'UserWarning', 'ValueError', 'Warning', 'ZeroDivisionError', '__IPYTHON__', '__build_class__', '__debug__', '__doc__', '__import__', '__loader__', '__name__', '__package__', '__spec__', 'abs', 'all', 'any', 'ascii', 'bin', 'bool', 'breakpoint', 'bytearray', 'bytes', 'callable', 'chr', 'classmethod', 'compile', 'complex', 'copyright', 'credits', 'delattr', 'dict', 'dir', 'display', 'divmod', 'enumerate', 'eval', 'exec', 'execfile', 'filter', 'float', 'format', 'frozenset', 'get_ipython', 'getattr', 'globals', 'hasattr', 'hash', 'help', 'hex', 'id', 'input', 'int', 'isinstance', 'issubclass', 'iter', 'len', 'license', 'list', 'locals', 'map', 'max', 'memoryview', 'min', 'next', 'object', 'oct', 'open', 'ord', 'pow', 'print', 'property', 'range', 'repr', 'reversed', 'round', 'runfile', 'set', 'setattr', 'slice', 'sorted', 'staticmethod', 'str', 'sum', 'super', 'tuple', 'type', 'vars', 'zip']\n",
            "155\n",
            "True\n"
          ]
        }
      ]
    },
    {
      "cell_type": "markdown",
      "source": [
        "#####***sys.path***"
      ],
      "metadata": {
        "id": "27JybevO_QSE"
      }
    },
    {
      "cell_type": "code",
      "source": [
        "import sys\n",
        "\n",
        "def main():\n",
        "    print(sys.path)\n",
        "\n",
        "if __name__ == \"__main__\":\n",
        "    main()"
      ],
      "metadata": {
        "colab": {
          "base_uri": "https://localhost:8080/"
        },
        "id": "lMwwfs_v_Qor",
        "outputId": "ea9c0785-6d5b-493f-ec1b-bc44be306890"
      },
      "execution_count": 42,
      "outputs": [
        {
          "output_type": "stream",
          "name": "stdout",
          "text": [
            "['/content', '/env/python', '/usr/lib/python39.zip', '/usr/lib/python3.9', '/usr/lib/python3.9/lib-dynload', '', '/usr/local/lib/python3.9/dist-packages', '/usr/lib/python3/dist-packages', '/usr/local/lib/python3.9/dist-packages/IPython/extensions', '/root/.ipython']\n"
          ]
        }
      ]
    },
    {
      "cell_type": "markdown",
      "source": [
        "###***Chapter 28 Assignment***"
      ],
      "metadata": {
        "id": "JJPBCibkGgWq"
      }
    },
    {
      "cell_type": "markdown",
      "source": [
        "####***Section 1 Assignment***"
      ],
      "metadata": {
        "id": "tx3Ipt7JrSCU"
      }
    },
    {
      "cell_type": "markdown",
      "source": [
        "#####***How variables work in Python [eng](https://www.youtube.com/watch?v=0Om2gYU6clE&t=79s)***"
      ],
      "metadata": {
        "id": "pCGZSMQDI6eB"
      }
    },
    {
      "cell_type": "code",
      "source": [
        "def main():\n",
        "    a = 543  \n",
        "    print(f\"{id(a) = }\", end=\"\\n\\n\")\n",
        "\n",
        "    a = 654  \n",
        "    print(f\"{id(a) = }\", end=\"\\n\\n\")\n",
        "\n",
        "    a = \"a string value\" \n",
        "    print(f\"{id(a) = }\", end=\"\\n\\n\")\n",
        "\n",
        "if __name__ == \"__main__\":\n",
        "    main()"
      ],
      "metadata": {
        "colab": {
          "base_uri": "https://localhost:8080/"
        },
        "id": "Z-AGu5BrHF1J",
        "outputId": "35efd2f4-1090-48ef-8871-be7fccfb08ae"
      },
      "execution_count": 2,
      "outputs": [
        {
          "output_type": "stream",
          "name": "stdout",
          "text": [
            "id(a) = 140352823181776\n",
            "\n",
            "id(a) = 140352823181968\n",
            "\n",
            "id(a) = 140352823190896\n",
            "\n"
          ]
        }
      ]
    },
    {
      "cell_type": "markdown",
      "source": [
        "####***Section 2 Dunder Add vs Dunder Iadd***"
      ],
      "metadata": {
        "id": "gKqCrnG7J8pY"
      }
    },
    {
      "cell_type": "markdown",
      "source": [
        "#####***Dunder Add vs Dunder Iadd for List***"
      ],
      "metadata": {
        "id": "gp2XnUWXKchW"
      }
    },
    {
      "cell_type": "code",
      "source": [
        "def main():\n",
        "    a = [1,2,3,4]  \n",
        "    print(f\"{id(a) = }\", end=\"\\n\\n\")\n",
        "\n",
        "    a = a + [5] # __add__ ---> differnet id\n",
        "    print(f\"{id(a) = }\", end=\"\\n\\n\")\n",
        "\n",
        "if __name__ == \"__main__\":\n",
        "    main()"
      ],
      "metadata": {
        "colab": {
          "base_uri": "https://localhost:8080/"
        },
        "id": "lJaH_XIPJ80s",
        "outputId": "721e1f1a-9558-48e6-e730-2d3edfd7cfa5"
      },
      "execution_count": 5,
      "outputs": [
        {
          "output_type": "stream",
          "name": "stdout",
          "text": [
            "id(a) = 140352093457600\n",
            "\n",
            "id(a) = 140352093457536\n",
            "\n"
          ]
        }
      ]
    },
    {
      "cell_type": "code",
      "source": [
        "def main():\n",
        "    a = [1,2,3,4]  \n",
        "    print(f\"{id(a) = }\", end=\"\\n\\n\")\n",
        "\n",
        "    a += [5] # __iadd__ ---> same id\n",
        "    print(f\"{id(a) = }\", end=\"\\n\\n\")\n",
        "\n",
        "if __name__ == \"__main__\":\n",
        "    main()"
      ],
      "metadata": {
        "colab": {
          "base_uri": "https://localhost:8080/"
        },
        "id": "JsxHTQtcKWrH",
        "outputId": "1bdd377e-68e3-4cd9-a492-eca874cb494c"
      },
      "execution_count": 6,
      "outputs": [
        {
          "output_type": "stream",
          "name": "stdout",
          "text": [
            "id(a) = 140352093457536\n",
            "\n",
            "id(a) = 140352093457536\n",
            "\n"
          ]
        }
      ]
    },
    {
      "cell_type": "markdown",
      "source": [
        "#####***Dunder Add vs Dunder Iadd for Tuple***"
      ],
      "metadata": {
        "id": "iTbrsmTSK6p3"
      }
    },
    {
      "cell_type": "code",
      "source": [
        "def main():\n",
        "    a = (1,2,3,4)  \n",
        "    print(f\"{a = }, {id(a) = }\", end=\"\\n\\n\")\n",
        "\n",
        "    a = a + (5,) # __add__ ---> differnet id\n",
        "    print(f\"{a = }, {id(a) = }\", end=\"\\n\\n\")\n",
        "\n",
        "if __name__ == \"__main__\":\n",
        "    main()"
      ],
      "metadata": {
        "colab": {
          "base_uri": "https://localhost:8080/"
        },
        "outputId": "51f17186-a684-4082-a6b0-940cbed2827f",
        "id": "eOZQ1ZLZK6p4"
      },
      "execution_count": 8,
      "outputs": [
        {
          "output_type": "stream",
          "name": "stdout",
          "text": [
            "a = (1, 2, 3, 4), id(a) = 140352093871776\n",
            "\n",
            "a = (1, 2, 3, 4, 5), id(a) = 140352094081568\n",
            "\n"
          ]
        }
      ]
    },
    {
      "cell_type": "code",
      "source": [
        "def main():\n",
        "    a = (1,2,3,4)  \n",
        "    print(f\"{a = }, {id(a) = }\", end=\"\\n\\n\")\n",
        "\n",
        "    a += (5,) # __iadd__ ---> differnt id (tuple is immutable)\n",
        "    print(f\"{a = }, {id(a) = }\", end=\"\\n\\n\")\n",
        "\n",
        "if __name__ == \"__main__\":\n",
        "    main()"
      ],
      "metadata": {
        "colab": {
          "base_uri": "https://localhost:8080/"
        },
        "outputId": "3690aab1-e2aa-47df-cd1c-e65f70694b2a",
        "id": "RS6vJ2zKK6p4"
      },
      "execution_count": 10,
      "outputs": [
        {
          "output_type": "stream",
          "name": "stdout",
          "text": [
            "a = (1, 2, 3, 4), id(a) = 140352093363312\n",
            "\n",
            "a = (1, 2, 3, 4, 5), id(a) = 140352094081568\n",
            "\n"
          ]
        }
      ]
    },
    {
      "cell_type": "markdown",
      "source": [
        "#####***Dunder Add vs Dunder Iadd for Integer***"
      ],
      "metadata": {
        "id": "0nsBFQWQLb9E"
      }
    },
    {
      "cell_type": "code",
      "source": [
        "def main():\n",
        "    a = 100  \n",
        "    print(f\"{a = }, {id(a) = }\", end=\"\\n\\n\")\n",
        "\n",
        "    a = a + 1 # __add__ ---> differnet id\n",
        "    print(f\"{a = }, {id(a) = }\", end=\"\\n\\n\")\n",
        "\n",
        "if __name__ == \"__main__\":\n",
        "    main()"
      ],
      "metadata": {
        "colab": {
          "base_uri": "https://localhost:8080/"
        },
        "outputId": "ef5b2620-2b23-4e7b-c3d1-70bc708afe9b",
        "id": "T5fG-uN8Lb9F"
      },
      "execution_count": 11,
      "outputs": [
        {
          "output_type": "stream",
          "name": "stdout",
          "text": [
            "a = 100, id(a) = 140353358411216\n",
            "\n",
            "a = 101, id(a) = 140353358411248\n",
            "\n"
          ]
        }
      ]
    },
    {
      "cell_type": "code",
      "source": [
        "def main():\n",
        "    a = 100  \n",
        "    print(f\"{a = }, {id(a) = }\", end=\"\\n\\n\")\n",
        "\n",
        "    a += 1 # __iadd__ ---> differnt id (integer is immutable)\n",
        "    print(f\"{a = }, {id(a) = }\", end=\"\\n\\n\")\n",
        "\n",
        "if __name__ == \"__main__\":\n",
        "    main()"
      ],
      "metadata": {
        "colab": {
          "base_uri": "https://localhost:8080/"
        },
        "outputId": "30104a38-1f94-4d7b-fdd2-63e9033a8d82",
        "id": "PrIz-l88Lb9F"
      },
      "execution_count": 12,
      "outputs": [
        {
          "output_type": "stream",
          "name": "stdout",
          "text": [
            "a = 100, id(a) = 140353358411216\n",
            "\n",
            "a = 101, id(a) = 140353358411248\n",
            "\n"
          ]
        }
      ]
    },
    {
      "cell_type": "markdown",
      "source": [
        "####***Section 3 Reference and Weak Reference***"
      ],
      "metadata": {
        "id": "ZejgDyIprW70"
      }
    },
    {
      "cell_type": "markdown",
      "source": [
        "#####***Reference Count [blog](https://program-error-review.tistory.com/70)***"
      ],
      "metadata": {
        "id": "nsJFv0UHIZFA"
      }
    },
    {
      "cell_type": "code",
      "source": [
        "import sys\n",
        "\n",
        "class C:\n",
        "    def __del__(self): # run automatically just before garbage collected\n",
        "        print(f\"bye! {self}\")\n",
        "\n",
        "def main():\n",
        "    C()  \n",
        "\n",
        "if __name__ == \"__main__\":\n",
        "    main()"
      ],
      "metadata": {
        "colab": {
          "base_uri": "https://localhost:8080/"
        },
        "id": "qlQXdkbFJLTV",
        "outputId": "665aae98-1de1-4a88-b259-ce537d63c594"
      },
      "execution_count": 6,
      "outputs": [
        {
          "output_type": "stream",
          "name": "stdout",
          "text": [
            "bye! <__main__.C object at 0x7fa529180130>\n"
          ]
        }
      ]
    },
    {
      "cell_type": "code",
      "source": [
        "import sys\n",
        "\n",
        "class C:\n",
        "    def __del__(self): # run automatically just before garbage collected\n",
        "        print(f\"bye! {self}\")\n",
        "\n",
        "def main():\n",
        "    a = C()  \n",
        "    print(f\"{sys.getrefcount(a) = }\", end=\"\\n\\n\")\n",
        "\n",
        "    b = a\n",
        "    print(f\"{sys.getrefcount(a) = }\", end=\"\\n\\n\")\n",
        "\n",
        "    c = a\n",
        "    print(f\"{sys.getrefcount(a) = }\", end=\"\\n\\n\")\n",
        "\n",
        "    b = None\n",
        "    print(f\"{sys.getrefcount(a) = }\", end=\"\\n\\n\")\n",
        "\n",
        "    c = None\n",
        "    print(f\"{sys.getrefcount(a) = }\", end=\"\\n\\n\")\n",
        "\n",
        "if __name__ == \"__main__\":\n",
        "    main()"
      ],
      "metadata": {
        "colab": {
          "base_uri": "https://localhost:8080/"
        },
        "id": "bE3GRNgAHotC",
        "outputId": "e89c3a08-f522-4c2c-dd8f-4cbb0f20c20b"
      },
      "execution_count": 7,
      "outputs": [
        {
          "output_type": "stream",
          "name": "stdout",
          "text": [
            "sys.getrefcount(a) = 2\n",
            "\n",
            "sys.getrefcount(a) = 3\n",
            "\n",
            "sys.getrefcount(a) = 4\n",
            "\n",
            "sys.getrefcount(a) = 3\n",
            "\n",
            "sys.getrefcount(a) = 2\n",
            "\n",
            "bye! <__main__.C object at 0x7fa529180160>\n"
          ]
        }
      ]
    },
    {
      "cell_type": "markdown",
      "source": [
        "#####***Weak Reference Count [eng](https://www.youtube.com/watch?v=GGKerIMqHCk)***"
      ],
      "metadata": {
        "id": "MvR0cfIFrkoV"
      }
    },
    {
      "cell_type": "code",
      "source": [
        "import sys\n",
        "import weakref\n",
        "\n",
        "class C:\n",
        "    def __del__(self): # run automatically just before garbage collected\n",
        "        print(f\"bye! {self}\")\n",
        "\n",
        "def main():\n",
        "    a = C()  \n",
        "    print(f\"{sys.getrefcount(a) = }\", end=\"\\n\\n\")\n",
        "\n",
        "    b = weakref.ref(a)\n",
        "    print(f\"{sys.getrefcount(a) = }\", end=\"\\n\\n\")\n",
        "\n",
        "    c = weakref.ref(a)\n",
        "    print(f\"{sys.getrefcount(a) = }\", end=\"\\n\\n\")\n",
        "\n",
        "    b = None\n",
        "    print(f\"{sys.getrefcount(a) = }\", end=\"\\n\\n\")\n",
        "\n",
        "    c = None\n",
        "    print(f\"{sys.getrefcount(a) = }\", end=\"\\n\\n\")\n",
        "\n",
        "if __name__ == \"__main__\":\n",
        "    main()"
      ],
      "metadata": {
        "colab": {
          "base_uri": "https://localhost:8080/"
        },
        "id": "Ykg_F5e1s10f",
        "outputId": "d227eab7-0285-4777-c1c5-ca2ae46b65ee"
      },
      "execution_count": 5,
      "outputs": [
        {
          "output_type": "stream",
          "name": "stdout",
          "text": [
            "sys.getrefcount(a) = 2\n",
            "\n",
            "sys.getrefcount(a) = 2\n",
            "\n",
            "sys.getrefcount(a) = 2\n",
            "\n",
            "sys.getrefcount(a) = 2\n",
            "\n",
            "sys.getrefcount(a) = 2\n",
            "\n",
            "bye! <__main__.C object at 0x7fa55409ed30>\n"
          ]
        }
      ]
    },
    {
      "cell_type": "markdown",
      "source": [
        "#####***Avoiding Memory Leaks with Weak Reference [eng](https://www.youtube.com/watch?v=Z3r6JEnRGvE)***"
      ],
      "metadata": {
        "id": "KNKy7v10xBvy"
      }
    },
    {
      "cell_type": "code",
      "source": [
        "import sys\n",
        "\n",
        "class Person:\n",
        "    def __init__(self, name):\n",
        "        self.name = name\n",
        "    def __del__(self): # run automatically just before garbage collected\n",
        "        print(f\"bye! {self}\")\n",
        "\n",
        "def main():\n",
        "    people = []\n",
        "\n",
        "    print(\"Before loop\")\n",
        "    for i in range(3):\n",
        "        people.append(Person(f\"name_{i}\"))\n",
        "    print(\"After loop\")\n",
        "\n",
        "if __name__ == \"__main__\":\n",
        "    main()"
      ],
      "metadata": {
        "colab": {
          "base_uri": "https://localhost:8080/"
        },
        "id": "8yWO7lxQyb54",
        "outputId": "fa198569-d924-4d5d-b4c9-83028fcfb079"
      },
      "execution_count": 11,
      "outputs": [
        {
          "output_type": "stream",
          "name": "stdout",
          "text": [
            "Before loop\n",
            "After loop\n",
            "bye! <__main__.Person object at 0x7fa5292af670>\n",
            "bye! <__main__.Person object at 0x7fa5291e44c0>\n",
            "bye! <__main__.Person object at 0x7fa5291e4f10>\n"
          ]
        }
      ]
    },
    {
      "cell_type": "code",
      "source": [
        "import sys\n",
        "import weakref\n",
        "\n",
        "class Person:\n",
        "    def __init__(self, name):\n",
        "        self.name = name\n",
        "    def __del__(self): # run automatically just before garbage collected\n",
        "        print(f\"bye! {self}\")\n",
        "\n",
        "def main():\n",
        "    people = []\n",
        "\n",
        "    print(\"Before loop\")\n",
        "    for i in range(3):\n",
        "        people.append(weakref.ref(Person(f\"name_{i}\")))\n",
        "    print(\"After loop\")\n",
        "\n",
        "if __name__ == \"__main__\":\n",
        "    main()"
      ],
      "metadata": {
        "colab": {
          "base_uri": "https://localhost:8080/"
        },
        "id": "vgp76bZGxqSR",
        "outputId": "ce4fcb1a-b5b4-4a1b-891b-8f71e7b29c97"
      },
      "execution_count": 10,
      "outputs": [
        {
          "output_type": "stream",
          "name": "stdout",
          "text": [
            "Before loop\n",
            "bye! <__main__.Person object at 0x7fa5291e4a30>\n",
            "bye! <__main__.Person object at 0x7fa5291e4a30>\n",
            "bye! <__main__.Person object at 0x7fa5291e4a30>\n",
            "After loop\n"
          ]
        }
      ]
    },
    {
      "cell_type": "markdown",
      "source": [
        "###***Chapter 29 Function***"
      ],
      "metadata": {
        "id": "Yi67-_DpY-44"
      }
    },
    {
      "cell_type": "markdown",
      "source": [
        "####***Section 1 Function Input***"
      ],
      "metadata": {
        "id": "Lgcdi_iW2MGb"
      }
    },
    {
      "cell_type": "markdown",
      "source": [
        "#####***Positional Variable, Keyword Variable, Default Value***"
      ],
      "metadata": {
        "id": "udx4Wl5_dfC-"
      }
    },
    {
      "cell_type": "code",
      "source": [
        "def f(x,y,z=3,w=4):\n",
        "  # x, y - Positional Variable\n",
        "  # z, w - Keyword Variable\n",
        "  # 2, 3 - Default Value\n",
        "  print(f\"{x = }, {y = }, {z = }, {w = }\")\n",
        "  return x + 2*y + 3*z + 4*w\n",
        "\n",
        "# Values for z and w not provided.\n",
        "# Use default values for z and w.\n",
        "# x = 1, y = 2, z = 3 (Default Value), w = 4 (Default Value)\n",
        "print(f(1,2), end=\"\\n\\n\")\n",
        "\n",
        "# Value for w not provided.\n",
        "# Use default value for w.\n",
        "# x = 1, y = 2, z = 1, w = 4 (Default Value)\n",
        "print(f(1,2,1), end=\"\\n\\n\")\n",
        "\n",
        "# All values are provded\n",
        "# x = 1, y = 2, z = 1, w = 2\n",
        "print(f(1,2,1,2), end=\"\\n\\n\")\n",
        "\n",
        "# All values are provded with binding variables\n",
        "# x = 1, y = 2, z = 1, w = 2\n",
        "print(f(x=1,y=2,z=1,w=2), end=\"\\n\\n\")\n",
        "\n",
        "# All values are provded with binding variables\n",
        "# x = 1, y = 2, z = 1, w = 2\n",
        "print(f(x=1,z=1,y=2,w=2), end=\"\\n\\n\")"
      ],
      "metadata": {
        "colab": {
          "base_uri": "https://localhost:8080/"
        },
        "id": "9qDTJDhVdfUJ",
        "outputId": "28bb42fb-ef2f-43ff-f4d8-3eb05376ed9e"
      },
      "execution_count": null,
      "outputs": [
        {
          "output_type": "stream",
          "name": "stdout",
          "text": [
            "x = 1, y = 2, z = 3, w = 4\n",
            "30\n",
            "\n",
            "x = 1, y = 2, z = 1, w = 4\n",
            "24\n",
            "\n",
            "x = 1, y = 2, z = 1, w = 2\n",
            "16\n",
            "\n",
            "x = 1, y = 2, z = 1, w = 2\n",
            "16\n",
            "\n",
            "x = 1, y = 2, z = 1, w = 2\n",
            "16\n",
            "\n"
          ]
        }
      ]
    },
    {
      "cell_type": "markdown",
      "source": [
        "#####***Function Argument Unpacking***"
      ],
      "metadata": {
        "id": "zCKl9VHf27OS"
      }
    },
    {
      "cell_type": "code",
      "source": [
        "def f(x,y,z):\n",
        "    print(f\"{x = }, {y = }, {z = }\")\n",
        "    return x + y + z\n",
        "\n",
        "print(f(1,2,3), end=\"\\n\\n\")\n",
        "\n",
        "# unpacking tuple\n",
        "a = (1,2,3)\n",
        "print(f(*a), end=\"\\n\\n\")\n",
        "\n",
        "# unpacking dict\n",
        "a = {\"x\" : 1, \"y\" : 2, \"z\" : 3}\n",
        "print(f(**a), end=\"\\n\\n\")"
      ],
      "metadata": {
        "colab": {
          "base_uri": "https://localhost:8080/"
        },
        "outputId": "a093d8c4-cb87-4845-f7b2-1b866ae39747",
        "id": "xi1S2Q6k27OT"
      },
      "execution_count": null,
      "outputs": [
        {
          "output_type": "stream",
          "name": "stdout",
          "text": [
            "x = 1, y = 2, z = 3\n",
            "6\n",
            "\n",
            "x = 1, y = 2, z = 3\n",
            "6\n",
            "\n",
            "x = 1, y = 2, z = 3\n",
            "6\n",
            "\n"
          ]
        }
      ]
    },
    {
      "cell_type": "markdown",
      "source": [
        "####***Section 2 Function Output***"
      ],
      "metadata": {
        "id": "5oLgDPfM2Wi4"
      }
    },
    {
      "cell_type": "markdown",
      "source": [
        "#####***Return Statement***"
      ],
      "metadata": {
        "id": "YtLEG7gqaLMe"
      }
    },
    {
      "cell_type": "code",
      "source": [
        "def func(x):\n",
        "  print(f\"{x = }\")\n",
        "  return 100\n",
        "\n",
        "print(func(7))"
      ],
      "metadata": {
        "id": "JuOXlkroZyTL",
        "colab": {
          "base_uri": "https://localhost:8080/"
        },
        "outputId": "5192834f-f189-4030-82c4-b5e1984536da"
      },
      "execution_count": null,
      "outputs": [
        {
          "output_type": "stream",
          "name": "stdout",
          "text": [
            "x = 7\n",
            "100\n"
          ]
        }
      ]
    },
    {
      "cell_type": "markdown",
      "source": [
        "#####***Function Without Return Statement Returns None As Default***"
      ],
      "metadata": {
        "id": "jMreEBlUaShp"
      }
    },
    {
      "cell_type": "code",
      "source": [
        "def func(x):\n",
        "  print(f\"{x = }\")\n",
        "  # return 100\n",
        "\n",
        "print(func(7))"
      ],
      "metadata": {
        "colab": {
          "base_uri": "https://localhost:8080/"
        },
        "id": "Z7j4FmHDaSs6",
        "outputId": "908bc4cc-3716-4477-b258-1551db337fd3"
      },
      "execution_count": null,
      "outputs": [
        {
          "output_type": "stream",
          "name": "stdout",
          "text": [
            "x = 7\n",
            "None\n"
          ]
        }
      ]
    },
    {
      "cell_type": "markdown",
      "source": [
        "####***Section 3 Function Execution***"
      ],
      "metadata": {
        "id": "K5EAm5R12kZO"
      }
    },
    {
      "cell_type": "markdown",
      "source": [
        "#####***Function Executed With ()***"
      ],
      "metadata": {
        "id": "CgVgE0ksZNPk"
      }
    },
    {
      "cell_type": "code",
      "source": [
        "def func(x):\n",
        "  return 100\n",
        "\n",
        "# with () ---> function executed\n",
        "print(func(7))"
      ],
      "metadata": {
        "colab": {
          "base_uri": "https://localhost:8080/"
        },
        "id": "zpC_n8O5zZTA",
        "outputId": "5ca848ac-46a6-45d5-e748-3a8aa4cdc2e6"
      },
      "execution_count": null,
      "outputs": [
        {
          "output_type": "stream",
          "name": "stdout",
          "text": [
            "100\n"
          ]
        }
      ]
    },
    {
      "cell_type": "markdown",
      "source": [
        "#####***Function Not Executed without ()***"
      ],
      "metadata": {
        "id": "_Bknxa4CzN77"
      }
    },
    {
      "cell_type": "code",
      "source": [
        "def func(x):\n",
        "  return 100\n",
        "\n",
        "# without () ---> function not executed. function object itself\n",
        "print(func) "
      ],
      "metadata": {
        "id": "H7iuXxPwZNcE",
        "colab": {
          "base_uri": "https://localhost:8080/"
        },
        "outputId": "8e82eca2-4634-4254-8e1e-220ee8046526"
      },
      "execution_count": null,
      "outputs": [
        {
          "output_type": "stream",
          "name": "stdout",
          "text": [
            "<function func at 0x7f6d1224fca0>\n"
          ]
        }
      ]
    },
    {
      "cell_type": "markdown",
      "source": [
        "####***Section 4 실험***"
      ],
      "metadata": {
        "id": "GH418CxBybAv"
      }
    },
    {
      "cell_type": "code",
      "source": [
        "def f(x):\n",
        "    print(f\"{id(x) = }\")\n",
        "\n",
        "def main():\n",
        "    a = 1\n",
        "    print(f\"{id(a) = }\")\n",
        "\n",
        "    f(a)\n",
        "\n",
        "if __name__ == \"__main__\":\n",
        "    main()"
      ],
      "metadata": {
        "colab": {
          "base_uri": "https://localhost:8080/"
        },
        "outputId": "98ff1aed-8e1a-4a7d-f51b-c8a9b3668075",
        "id": "-nq768MdybAw"
      },
      "execution_count": null,
      "outputs": [
        {
          "output_type": "stream",
          "name": "stdout",
          "text": [
            "id(a) = 140224189671728\n",
            "id(x) = 140224189671728\n"
          ]
        }
      ]
    },
    {
      "cell_type": "code",
      "source": [
        "def f(x):\n",
        "    print(f\"{id(x) = }\")\n",
        "\n",
        "def main():\n",
        "    a = [1,2,3]\n",
        "    print(f\"{id(a) = }\")\n",
        "\n",
        "    f(a)\n",
        "\n",
        "if __name__ == \"__main__\":\n",
        "    main()"
      ],
      "metadata": {
        "colab": {
          "base_uri": "https://localhost:8080/"
        },
        "id": "dWH_Zcu3zTjj",
        "outputId": "2d118a87-f1f5-4fa6-c610-3a3b64ee62f5"
      },
      "execution_count": null,
      "outputs": [
        {
          "output_type": "stream",
          "name": "stdout",
          "text": [
            "id(a) = 140223144992640\n",
            "id(x) = 140223144992640\n"
          ]
        }
      ]
    },
    {
      "cell_type": "code",
      "source": [
        "def f(x):\n",
        "    print(f\"{id(x) = }\")\n",
        "    x[0] = \"one\"\n",
        "    print(f\"{id(x) = }, {x = }\")\n",
        "\n",
        "def main():\n",
        "    a = [1,2,3]\n",
        "    print(f\"{id(a) = }\")\n",
        "\n",
        "    f(a)\n",
        "    print(f\"{id(a) = }, {a = }\")\n",
        "\n",
        "if __name__ == \"__main__\":\n",
        "    main()"
      ],
      "metadata": {
        "colab": {
          "base_uri": "https://localhost:8080/"
        },
        "id": "EG02sPMAzgLn",
        "outputId": "ea69a8b7-41b6-4f4b-8afc-7edab10066fc"
      },
      "execution_count": null,
      "outputs": [
        {
          "output_type": "stream",
          "name": "stdout",
          "text": [
            "id(a) = 140222924448896\n",
            "id(x) = 140222924448896\n",
            "id(x) = 140222924448896, x = ['one', 2, 3]\n",
            "id(a) = 140222924448896, a = ['one', 2, 3]\n"
          ]
        }
      ]
    },
    {
      "cell_type": "markdown",
      "source": [
        "####***Section 4 UnboundLocalError***"
      ],
      "metadata": {
        "id": "FIYk27Ki_V5p"
      }
    },
    {
      "cell_type": "markdown",
      "source": [
        "#####***x in Function Definition is a Global Variable***"
      ],
      "metadata": {
        "id": "0YfQJ3zADDLR"
      }
    },
    {
      "cell_type": "code",
      "source": [
        "x = 1\n",
        "\n",
        "def print_x():\n",
        "    # Inside the function definition, we do not define x as a local variable. \n",
        "    # So, when we use the variable x, \n",
        "    # we search for the variable out of the function scope. \n",
        "    # LEGB\n",
        "    print(f'{x = }')\n",
        "\n",
        "def main():   \n",
        "    print_x()\n",
        "    print(print_x.__code__.co_varnames) # local variables of the function print_x\n",
        "\n",
        "if __name__ == \"__main__\":\n",
        "    main()"
      ],
      "metadata": {
        "colab": {
          "base_uri": "https://localhost:8080/"
        },
        "id": "sdSBqMRq_qOU",
        "outputId": "7e8dc09d-1889-4b1e-c13d-afe9c9c5154c"
      },
      "execution_count": 23,
      "outputs": [
        {
          "output_type": "stream",
          "name": "stdout",
          "text": [
            "x = 1\n",
            "()\n"
          ]
        }
      ]
    },
    {
      "cell_type": "markdown",
      "source": [
        "#####***x in Function Definition is a Local Variable***"
      ],
      "metadata": {
        "id": "pVmazaSqDPjA"
      }
    },
    {
      "cell_type": "markdown",
      "source": [
        "When you assign a variable (x = ...), you are creating a variable in the current scope (e.g. local to the current function). If it happens to shadow a variable from an outer (e.g. global) scope, well too bad - Python doesn't care (and that's a good thing). So you can't do this:\n",
        "\n",
        "[stackoverflow](https://stackoverflow.com/questions/4630543/defining-lists-as-global-variables-in-python)"
      ],
      "metadata": {
        "id": "nbCPzPdU4lWz"
      }
    },
    {
      "cell_type": "code",
      "source": [
        "x = 1\n",
        "\n",
        "def print_x():\n",
        "    # Before executing the function, Python reads \n",
        "    # through the function definition and identifies all the local variables.\n",
        "    # Inside the function definition, we define x as a local variable\n",
        "    # in the assignment statement x = 10. \n",
        "    # So, when we use the variable x, \n",
        "    # we search for the variable inside the function scope. \n",
        "    # LEGB\n",
        "    x = 10 # <--- This assignment statement makes x local.\n",
        "    print(f'{x = }')\n",
        "\n",
        "def main():   \n",
        "    print_x()\n",
        "    print(print_x.__code__.co_varnames) # local variables of the function print_x\n",
        "\n",
        "if __name__ == \"__main__\":\n",
        "    main()"
      ],
      "metadata": {
        "colab": {
          "base_uri": "https://localhost:8080/"
        },
        "id": "2yR8KHZ-_qRT",
        "outputId": "b865fc23-2dd6-4999-f43f-d41b45cbde1f"
      },
      "execution_count": 24,
      "outputs": [
        {
          "output_type": "stream",
          "name": "stdout",
          "text": [
            "x = 10\n",
            "('x',)\n"
          ]
        }
      ]
    },
    {
      "cell_type": "code",
      "source": [
        "x = 1\n",
        "\n",
        "def print_x():\n",
        "    # Before executing the function, Python reads \n",
        "    # through the function definition and identifies all the local variables.\n",
        "    # Inside the function definition, we define x as a local variable\n",
        "    # in the assignment statement x = 10. \n",
        "    # So, when we use the variable x, \n",
        "    # we search for the variable inside the function scope. \n",
        "    # LEGB\n",
        "    # However, when we use the variable x, \n",
        "    # the variable x still needs to be initialized.\n",
        "    # UnboundLocalError \n",
        "    print(f'{x = }')\n",
        "    x = 10 # <--- This assignment statement makes x local.\n",
        "\n",
        "def main():\n",
        "    try:\n",
        "        print_x()\n",
        "    except UnboundLocalError as e:\n",
        "        print(e)\n",
        "    print(print_x.__code__.co_varnames) # local variables of the function print_x\n",
        "\n",
        "if __name__ == \"__main__\":\n",
        "    main()"
      ],
      "metadata": {
        "colab": {
          "base_uri": "https://localhost:8080/"
        },
        "id": "bjbSnShG_qT8",
        "outputId": "7bd4bc39-c086-4b3c-da47-bdb52f374760"
      },
      "execution_count": 25,
      "outputs": [
        {
          "output_type": "stream",
          "name": "stdout",
          "text": [
            "local variable 'x' referenced before assignment\n",
            "('x',)\n"
          ]
        }
      ]
    },
    {
      "cell_type": "code",
      "source": [
        "x = 1\n",
        "\n",
        "def print_x():\n",
        "    # Before executing the function, Python reads \n",
        "    # through the function definition and identifies all the local variables.\n",
        "    # Inside the function definition, we define x as a local variable\n",
        "    # in the assignment statement x = x + 10. \n",
        "    # So, when we use the variable x, \n",
        "    # we search for the variable inside the function scope. \n",
        "    # LEGB\n",
        "    # However, when we use the variable x, \n",
        "    # the variable x still needs to be initialized.\n",
        "    # UnboundLocalError \n",
        "    x = x + 10 # <--- This assignment statement makes x local.\n",
        "    print(f'{x = }')\n",
        "\n",
        "def main():\n",
        "    try:\n",
        "        print_x()\n",
        "    except UnboundLocalError as e:\n",
        "        print(e)\n",
        "    print(print_x.__code__.co_varnames) # local variables of the function print_x\n",
        "\n",
        "if __name__ == \"__main__\":\n",
        "    main()"
      ],
      "metadata": {
        "colab": {
          "base_uri": "https://localhost:8080/"
        },
        "id": "KBV0B5ej_qWr",
        "outputId": "f71639cb-ab2e-44ec-d732-52e52c66818b"
      },
      "execution_count": 26,
      "outputs": [
        {
          "output_type": "stream",
          "name": "stdout",
          "text": [
            "local variable 'x' referenced before assignment\n",
            "('x',)\n"
          ]
        }
      ]
    },
    {
      "cell_type": "code",
      "source": [
        "x = 1\n",
        "\n",
        "def print_x():\n",
        "    # Before executing the function, Python reads \n",
        "    # through the function definition and identifies all the local variables.\n",
        "    # Inside the function definition, we define x as a local variable\n",
        "    # in the assignment statement x = x + 10. \n",
        "    # So, when we use the variable x, \n",
        "    # we search for the variable inside the function scope. \n",
        "    # LEGB\n",
        "    # However, when we use the variable x, \n",
        "    # the variable x still needs to be initialized.\n",
        "    # UnboundLocalError \n",
        "    print(f'{x = }')\n",
        "    x = x + 10 # <--- This assignment statement makes x local.\n",
        "\n",
        "def main():\n",
        "    try:\n",
        "        print_x()\n",
        "    except UnboundLocalError as e:\n",
        "        print(e)\n",
        "    print(print_x.__code__.co_varnames) # local variables of the function print_x\n",
        "\n",
        "if __name__ == \"__main__\":\n",
        "    main()"
      ],
      "metadata": {
        "colab": {
          "base_uri": "https://localhost:8080/"
        },
        "id": "jZWT4R8pC3mU",
        "outputId": "435f0477-f341-4d66-b6ae-f882e7e44b2b"
      },
      "execution_count": 27,
      "outputs": [
        {
          "output_type": "stream",
          "name": "stdout",
          "text": [
            "local variable 'x' referenced before assignment\n",
            "('x',)\n"
          ]
        }
      ]
    },
    {
      "cell_type": "markdown",
      "source": [
        "#####***Global Statement makes Variable Global***"
      ],
      "metadata": {
        "id": "LKwDWyEJD1cg"
      }
    },
    {
      "cell_type": "code",
      "source": [
        "x = 1\n",
        "\n",
        "def print_x():\n",
        "    # Without global x statement, x is a local variable \n",
        "    # due to the assignment statement x = x + 10.\n",
        "    # However, with global x statement, x is now a global variable. \n",
        "    global x # <--- This global statement makes x global.\n",
        "    print(f'{x = }')\n",
        "    x = x + 10\n",
        "\n",
        "def main():\n",
        "    print_x()\n",
        "    print(print_x.__code__.co_varnames) # local variables of the function print_x\n",
        "\n",
        "if __name__ == \"__main__\":\n",
        "    main()"
      ],
      "metadata": {
        "colab": {
          "base_uri": "https://localhost:8080/"
        },
        "id": "dhyLFkEB_qZk",
        "outputId": "0a77c58a-025e-4e41-c3e7-0678967abe9f"
      },
      "execution_count": 28,
      "outputs": [
        {
          "output_type": "stream",
          "name": "stdout",
          "text": [
            "x = 1\n",
            "()\n"
          ]
        }
      ]
    },
    {
      "cell_type": "markdown",
      "source": [
        "#####***Method Call does not cause UnboundLocalError, whereas Assignment does***"
      ],
      "metadata": {
        "id": "STJnocbXHXYz"
      }
    },
    {
      "cell_type": "markdown",
      "source": [
        "But note that assignment of a variable is very different from method calls. You can always call methods on anything in scope - e.g. on variables that come from an outer (e.g. the global) scope because nothing local shadows them.\n",
        "\n",
        "[stackoverflow](https://stackoverflow.com/questions/4630543/defining-lists-as-global-variables-in-python)"
      ],
      "metadata": {
        "id": "_Von50ck4Uj3"
      }
    },
    {
      "cell_type": "code",
      "source": [
        "x = ['seoul']\n",
        "\n",
        "def add_some():\n",
        "    # Method call does not make x a local variable. \n",
        "    # x is a global variable.\n",
        "    x.append(5) # <--- This method call does not make x local.   \n",
        "    return x\n",
        "\n",
        "def main():   \n",
        "    print(add_some())\n",
        "\n",
        "if __name__ == \"__main__\":\n",
        "    main()"
      ],
      "metadata": {
        "colab": {
          "base_uri": "https://localhost:8080/"
        },
        "id": "52Zxxh2fHXoj",
        "outputId": "0e10252a-5ec1-4412-9bd7-0c6b61300cb5"
      },
      "execution_count": 29,
      "outputs": [
        {
          "output_type": "stream",
          "name": "stdout",
          "text": [
            "['seoul', 5]\n"
          ]
        }
      ]
    },
    {
      "cell_type": "code",
      "source": [
        "x = ['seoul']\n",
        "\n",
        "def add_some():\n",
        "    # Assignment makes x a local variable. \n",
        "    x += [5] # <--- This assignment makes x local.      \n",
        "    return x\n",
        "\n",
        "def main(): \n",
        "    try:\n",
        "        print(add_some())\n",
        "    except UnboundLocalError as e:\n",
        "        print(e)\n",
        "\n",
        "if __name__ == \"__main__\":\n",
        "    main()"
      ],
      "metadata": {
        "colab": {
          "base_uri": "https://localhost:8080/"
        },
        "id": "JFfbdchwHy0V",
        "outputId": "364cd8f4-19a7-496c-97ca-35088470cf17"
      },
      "execution_count": 30,
      "outputs": [
        {
          "output_type": "stream",
          "name": "stdout",
          "text": [
            "local variable 'x' referenced before assignment\n"
          ]
        }
      ]
    },
    {
      "cell_type": "markdown",
      "source": [
        "#####***Member Assignment, Item Assignment, Slice Assignment are all Method Calls, not Assignments***"
      ],
      "metadata": {
        "id": "_N99THF2JAuH"
      }
    },
    {
      "cell_type": "markdown",
      "source": [
        "Also very important: Member assignment (x.name = ...), item assignment (collection[key] = ...), slice assignment (sliceable[start:end] = ...) and are all method calls as well! Therefore you don't need global to change a global's members or call it methods (even when they mutate the object).\n",
        "\n",
        "[stackoverflow](https://stackoverflow.com/questions/4630543/defining-lists-as-global-variables-in-python)"
      ],
      "metadata": {
        "id": "AC0O1_le4LkJ"
      }
    },
    {
      "cell_type": "code",
      "source": [
        "class Example:\n",
        "    def __init__(self, item):\n",
        "        self.item = item\n",
        "\n",
        "def change():\n",
        "    # Member assignment is method call, not assignment.\n",
        "    # Method call does not make x a local variable.\n",
        "    # x is a global variable. \n",
        "    x.item = 2 # <--- member assignment is a method call\n",
        "\n",
        "x = Example(1)\n",
        "print(f\"{x.item = }\")\n",
        "\n",
        "def main(): \n",
        "    change()\n",
        "    print(f\"{x.item = }\")\n",
        "\n",
        "if __name__ == \"__main__\":\n",
        "    main()"
      ],
      "metadata": {
        "colab": {
          "base_uri": "https://localhost:8080/"
        },
        "id": "6KDHYQLQJeEA",
        "outputId": "e1a94acf-d771-4794-ca9c-ffd169e09122"
      },
      "execution_count": 31,
      "outputs": [
        {
          "output_type": "stream",
          "name": "stdout",
          "text": [
            "x.item = 1\n",
            "x.item = 2\n"
          ]
        }
      ]
    },
    {
      "cell_type": "code",
      "source": [
        "def change():\n",
        "    # Item assignment is method call, not assignment.\n",
        "    # Method call does not make x a local variable.\n",
        "    # x is a global variable. \n",
        "    x['a'] = 2 # <--- item assignment is a method call\n",
        "\n",
        "x = {\"a\":1,\"b\":2,\"c\":3}\n",
        "print(f\"{x['a'] = }\")\n",
        "\n",
        "def main():\n",
        "    change()\n",
        "    print(f\"{x['a'] = }\")\n",
        "\n",
        "if __name__ == \"__main__\":\n",
        "    main()"
      ],
      "metadata": {
        "colab": {
          "base_uri": "https://localhost:8080/"
        },
        "id": "qhq86i8zKZpm",
        "outputId": "3f846d98-cfb7-4a83-a571-0ffb6d680672"
      },
      "execution_count": 32,
      "outputs": [
        {
          "output_type": "stream",
          "name": "stdout",
          "text": [
            "x['a'] = 1\n",
            "x['a'] = 2\n"
          ]
        }
      ]
    },
    {
      "cell_type": "code",
      "source": [
        "def change():\n",
        "    # Slice assignment is method call, not assignment.\n",
        "    # Method call does not make x a local variable. \n",
        "    # x is a global variable.\n",
        "    x[1:3] = [2, 2] # <--- slice assignment is a method call\n",
        "\n",
        "x = [0,0,0,0,0]\n",
        "print(f\"{x = }\")\n",
        "\n",
        "def main():\n",
        "    change()\n",
        "    print(f\"{x = }\")\n",
        "\n",
        "if __name__ == \"__main__\":\n",
        "    main()"
      ],
      "metadata": {
        "colab": {
          "base_uri": "https://localhost:8080/"
        },
        "id": "lqJazlIlLNUK",
        "outputId": "f82c8247-7db7-4226-9b39-ac23aaf05234"
      },
      "execution_count": 33,
      "outputs": [
        {
          "output_type": "stream",
          "name": "stdout",
          "text": [
            "x = [0, 0, 0, 0, 0]\n",
            "x = [0, 2, 2, 0, 0]\n"
          ]
        }
      ]
    },
    {
      "cell_type": "markdown",
      "source": [
        "###***Chapter 30 Lambda Expression [eng](https://www.youtube.com/watch?v=hYzwCsKGRrg&index=42&list=PLsyeobzWxl7poL9JTVyndKe62ieoN-MZ3)***"
      ],
      "metadata": {
        "id": "xkngHj3P694A"
      }
    },
    {
      "cell_type": "markdown",
      "source": [
        "#####***Lambda Expression with One Function Argument***"
      ],
      "metadata": {
        "id": "7xd2ipC68C5S"
      }
    },
    {
      "cell_type": "code",
      "source": [
        "def main():\n",
        "    # A lambda expression is a one-line function.\n",
        "    # Here is a function with one argument.\n",
        "    f = lambda x: 2*x\n",
        "    print(f(3))\n",
        "\n",
        "if __name__ == \"__main__\":\n",
        "    main()"
      ],
      "metadata": {
        "id": "XLr4XVdr7E9G"
      },
      "execution_count": null,
      "outputs": []
    },
    {
      "cell_type": "markdown",
      "source": [
        "#####***Lambda Expression with Two Function Arguments***"
      ],
      "metadata": {
        "id": "-vQlauHG8Ohn"
      }
    },
    {
      "cell_type": "code",
      "source": [
        "def main():\n",
        "    # A lambda expression is a one-line function.\n",
        "    # Here is a function with two arguments.\n",
        "    g = lambda x, y: x + y\n",
        "    print(g(3, 1.0))\n",
        "\n",
        "if __name__ == \"__main__\":\n",
        "    main()"
      ],
      "metadata": {
        "id": "frbwoNYI7PYt"
      },
      "execution_count": null,
      "outputs": []
    },
    {
      "cell_type": "markdown",
      "source": [
        "#####***Lambda Expression with If Else Statement***"
      ],
      "metadata": {
        "id": "iqkWfCHn8R5f"
      }
    },
    {
      "cell_type": "code",
      "source": [
        "def main():\n",
        "    # A lambda expression is a one-line function.\n",
        "    # Here is a function with if else statement.\n",
        "    h = lambda x, y: x if x > y else y\n",
        "    print(h(3, 1.0))\n",
        "\n",
        "if __name__ == \"__main__\":\n",
        "    main()"
      ],
      "metadata": {
        "id": "wHAmPaf-7Xf6"
      },
      "execution_count": null,
      "outputs": []
    },
    {
      "cell_type": "markdown",
      "source": [
        "###***Chapter 31 Recursion***"
      ],
      "metadata": {
        "id": "ezF63wt8-31B"
      }
    },
    {
      "cell_type": "markdown",
      "source": [
        "#####***Recursion without Base Cases causes An Infinite Loop***"
      ],
      "metadata": {
        "id": "xoj1svAn8tte"
      }
    },
    {
      "cell_type": "code",
      "source": [
        "def func(i):\n",
        "    # Recursion without base cases causes an infinite loop.\n",
        "    # Python has a limit for the number of recursive calls.\n",
        "    # If the recursive calls exceed this limit, \n",
        "    # Python through an RecursionError.\n",
        "    print(f\"Hello-{i}\", end=\" \")\n",
        "    try:\n",
        "        func(i-1)\n",
        "    except RecursionError as e:\n",
        "        print(e)\n",
        "    \n",
        "func(4)"
      ],
      "metadata": {
        "colab": {
          "base_uri": "https://localhost:8080/"
        },
        "id": "m2Kh7viu8t4R",
        "outputId": "4f60f9e2-895b-41ab-8e2f-54c63b69a5cd"
      },
      "execution_count": null,
      "outputs": [
        {
          "output_type": "stream",
          "name": "stdout",
          "text": [
            "Hello-4 Hello-3 Hello-2 Hello-1 Hello-0 Hello--1 Hello--2 Hello--3 Hello--4 Hello--5 Hello--6 Hello--7 Hello--8 Hello--9 Hello--10 Hello--11 Hello--12 Hello--13 Hello--14 Hello--15 Hello--16 Hello--17 Hello--18 Hello--19 Hello--20 Hello--21 Hello--22 Hello--23 Hello--24 Hello--25 Hello--26 Hello--27 Hello--28 Hello--29 Hello--30 Hello--31 Hello--32 Hello--33 Hello--34 Hello--35 Hello--36 Hello--37 Hello--38 Hello--39 Hello--40 Hello--41 Hello--42 Hello--43 Hello--44 Hello--45 Hello--46 Hello--47 Hello--48 Hello--49 Hello--50 Hello--51 Hello--52 Hello--53 Hello--54 Hello--55 Hello--56 Hello--57 Hello--58 Hello--59 Hello--60 Hello--61 Hello--62 Hello--63 Hello--64 Hello--65 Hello--66 Hello--67 Hello--68 Hello--69 Hello--70 Hello--71 Hello--72 Hello--73 Hello--74 Hello--75 Hello--76 Hello--77 Hello--78 Hello--79 Hello--80 Hello--81 Hello--82 Hello--83 Hello--84 Hello--85 Hello--86 Hello--87 Hello--88 Hello--89 Hello--90 Hello--91 Hello--92 Hello--93 Hello--94 Hello--95 Hello--96 Hello--97 Hello--98 Hello--99 Hello--100 Hello--101 Hello--102 Hello--103 Hello--104 Hello--105 Hello--106 Hello--107 Hello--108 Hello--109 Hello--110 Hello--111 Hello--112 Hello--113 Hello--114 Hello--115 Hello--116 Hello--117 Hello--118 Hello--119 Hello--120 Hello--121 Hello--122 Hello--123 Hello--124 Hello--125 Hello--126 Hello--127 Hello--128 Hello--129 Hello--130 Hello--131 Hello--132 Hello--133 Hello--134 Hello--135 Hello--136 Hello--137 Hello--138 Hello--139 Hello--140 Hello--141 Hello--142 Hello--143 Hello--144 Hello--145 Hello--146 Hello--147 Hello--148 Hello--149 Hello--150 Hello--151 Hello--152 Hello--153 Hello--154 Hello--155 Hello--156 Hello--157 Hello--158 Hello--159 Hello--160 Hello--161 Hello--162 Hello--163 Hello--164 Hello--165 Hello--166 Hello--167 Hello--168 Hello--169 Hello--170 Hello--171 Hello--172 Hello--173 Hello--174 Hello--175 Hello--176 Hello--177 Hello--178 Hello--179 Hello--180 Hello--181 Hello--182 Hello--183 Hello--184 Hello--185 Hello--186 Hello--187 Hello--188 Hello--189 Hello--190 Hello--191 Hello--192 Hello--193 Hello--194 Hello--195 Hello--196 Hello--197 Hello--198 Hello--199 Hello--200 Hello--201 Hello--202 Hello--203 Hello--204 Hello--205 Hello--206 Hello--207 Hello--208 Hello--209 Hello--210 Hello--211 Hello--212 Hello--213 Hello--214 Hello--215 Hello--216 Hello--217 Hello--218 Hello--219 Hello--220 Hello--221 Hello--222 Hello--223 Hello--224 Hello--225 Hello--226 Hello--227 Hello--228 Hello--229 Hello--230 Hello--231 Hello--232 Hello--233 Hello--234 Hello--235 Hello--236 Hello--237 Hello--238 Hello--239 Hello--240 Hello--241 Hello--242 Hello--243 Hello--244 Hello--245 Hello--246 Hello--247 Hello--248 Hello--249 Hello--250 Hello--251 Hello--252 Hello--253 Hello--254 Hello--255 Hello--256 Hello--257 Hello--258 Hello--259 Hello--260 Hello--261 Hello--262 Hello--263 Hello--264 Hello--265 Hello--266 Hello--267 Hello--268 Hello--269 Hello--270 Hello--271 Hello--272 Hello--273 Hello--274 Hello--275 Hello--276 Hello--277 Hello--278 Hello--279 Hello--280 Hello--281 Hello--282 Hello--283 Hello--284 Hello--285 Hello--286 Hello--287 Hello--288 Hello--289 Hello--290 Hello--291 Hello--292 Hello--293 Hello--294 Hello--295 Hello--296 Hello--297 Hello--298 Hello--299 Hello--300 Hello--301 Hello--302 Hello--303 Hello--304 Hello--305 Hello--306 Hello--307 Hello--308 Hello--309 Hello--310 Hello--311 Hello--312 Hello--313 Hello--314 Hello--315 Hello--316 Hello--317 Hello--318 Hello--319 Hello--320 Hello--321 Hello--322 Hello--323 Hello--324 Hello--325 Hello--326 Hello--327 Hello--328 Hello--329 Hello--330 Hello--331 Hello--332 Hello--333 Hello--334 Hello--335 Hello--336 Hello--337 Hello--338 Hello--339 Hello--340 Hello--341 Hello--342 Hello--343 Hello--344 Hello--345 Hello--346 Hello--347 Hello--348 Hello--349 Hello--350 Hello--351 Hello--352 Hello--353 Hello--354 Hello--355 Hello--356 Hello--357 Hello--358 Hello--359 Hello--360 Hello--361 Hello--362 Hello--363 Hello--364 Hello--365 Hello--366 Hello--367 Hello--368 Hello--369 Hello--370 Hello--371 Hello--372 Hello--373 Hello--374 Hello--375 Hello--376 Hello--377 Hello--378 Hello--379 Hello--380 Hello--381 Hello--382 Hello--383 Hello--384 Hello--385 Hello--386 Hello--387 Hello--388 Hello--389 Hello--390 Hello--391 Hello--392 Hello--393 Hello--394 Hello--395 Hello--396 Hello--397 Hello--398 Hello--399 Hello--400 Hello--401 Hello--402 Hello--403 Hello--404 Hello--405 Hello--406 Hello--407 Hello--408 Hello--409 Hello--410 Hello--411 Hello--412 Hello--413 Hello--414 Hello--415 Hello--416 Hello--417 Hello--418 Hello--419 Hello--420 Hello--421 Hello--422 Hello--423 Hello--424 Hello--425 Hello--426 Hello--427 Hello--428 Hello--429 Hello--430 Hello--431 Hello--432 Hello--433 Hello--434 Hello--435 Hello--436 Hello--437 Hello--438 Hello--439 Hello--440 Hello--441 Hello--442 Hello--443 Hello--444 Hello--445 Hello--446 Hello--447 Hello--448 Hello--449 Hello--450 Hello--451 Hello--452 Hello--453 Hello--454 Hello--455 Hello--456 Hello--457 Hello--458 Hello--459 Hello--460 Hello--461 Hello--462 Hello--463 Hello--464 Hello--465 Hello--466 Hello--467 Hello--468 Hello--469 Hello--470 Hello--471 Hello--472 Hello--473 Hello--474 Hello--475 Hello--476 Hello--477 Hello--478 Hello--479 Hello--480 Hello--481 Hello--482 Hello--483 Hello--484 Hello--485 Hello--486 Hello--487 Hello--488 Hello--489 Hello--490 Hello--491 Hello--492 Hello--493 Hello--494 Hello--495 Hello--496 Hello--497 Hello--498 Hello--499 Hello--500 Hello--501 Hello--502 Hello--503 Hello--504 Hello--505 Hello--506 Hello--507 Hello--508 Hello--509 Hello--510 Hello--511 Hello--512 Hello--513 Hello--514 Hello--515 Hello--516 Hello--517 Hello--518 Hello--519 Hello--520 Hello--521 Hello--522 Hello--523 Hello--524 Hello--525 Hello--526 Hello--527 Hello--528 Hello--529 Hello--530 Hello--531 Hello--532 Hello--533 Hello--534 Hello--535 Hello--536 Hello--537 Hello--538 Hello--539 Hello--540 Hello--541 Hello--542 Hello--543 Hello--544 Hello--545 Hello--546 Hello--547 Hello--548 Hello--549 Hello--550 Hello--551 Hello--552 Hello--553 Hello--554 Hello--555 Hello--556 Hello--557 Hello--558 Hello--559 Hello--560 Hello--561 Hello--562 Hello--563 Hello--564 Hello--565 Hello--566 Hello--567 Hello--568 Hello--569 Hello--570 Hello--571 Hello--572 Hello--573 Hello--574 Hello--575 Hello--576 Hello--577 Hello--578 Hello--579 Hello--580 Hello--581 Hello--582 Hello--583 Hello--584 Hello--585 Hello--586 Hello--587 Hello--588 Hello--589 Hello--590 Hello--591 Hello--592 Hello--593 Hello--594 Hello--595 Hello--596 Hello--597 Hello--598 Hello--599 Hello--600 Hello--601 Hello--602 Hello--603 Hello--604 Hello--605 Hello--606 Hello--607 Hello--608 Hello--609 Hello--610 Hello--611 Hello--612 Hello--613 Hello--614 Hello--615 Hello--616 Hello--617 Hello--618 Hello--619 Hello--620 Hello--621 Hello--622 Hello--623 Hello--624 Hello--625 Hello--626 Hello--627 Hello--628 Hello--629 Hello--630 Hello--631 Hello--632 Hello--633 Hello--634 Hello--635 Hello--636 Hello--637 Hello--638 Hello--639 Hello--640 Hello--641 Hello--642 Hello--643 Hello--644 Hello--645 Hello--646 Hello--647 Hello--648 Hello--649 Hello--650 Hello--651 Hello--652 Hello--653 Hello--654 Hello--655 Hello--656 Hello--657 Hello--658 Hello--659 Hello--660 Hello--661 Hello--662 Hello--663 Hello--664 Hello--665 Hello--666 Hello--667 Hello--668 Hello--669 Hello--670 Hello--671 Hello--672 Hello--673 Hello--674 Hello--675 Hello--676 Hello--677 Hello--678 Hello--679 Hello--680 Hello--681 Hello--682 Hello--683 Hello--684 Hello--685 Hello--686 Hello--687 Hello--688 Hello--689 Hello--690 Hello--691 Hello--692 Hello--693 Hello--694 Hello--695 Hello--696 Hello--697 Hello--698 Hello--699 Hello--700 Hello--701 Hello--702 Hello--703 Hello--704 Hello--705 Hello--706 Hello--707 Hello--708 Hello--709 Hello--710 Hello--711 Hello--712 Hello--713 Hello--714 Hello--715 Hello--716 Hello--717 Hello--718 Hello--719 Hello--720 Hello--721 Hello--722 Hello--723 Hello--724 Hello--725 Hello--726 Hello--727 Hello--728 Hello--729 Hello--730 Hello--731 Hello--732 Hello--733 Hello--734 Hello--735 Hello--736 Hello--737 Hello--738 Hello--739 Hello--740 Hello--741 Hello--742 Hello--743 Hello--744 Hello--745 Hello--746 Hello--747 Hello--748 Hello--749 Hello--750 Hello--751 Hello--752 Hello--753 Hello--754 Hello--755 Hello--756 Hello--757 Hello--758 Hello--759 Hello--760 Hello--761 Hello--762 Hello--763 Hello--764 Hello--765 Hello--766 Hello--767 Hello--768 Hello--769 Hello--770 Hello--771 Hello--772 Hello--773 Hello--774 Hello--775 Hello--776 Hello--777 Hello--778 Hello--779 Hello--780 Hello--781 Hello--782 Hello--783 Hello--784 Hello--785 Hello--786 Hello--787 Hello--788 Hello--789 Hello--790 Hello--791 Hello--792 Hello--793 Hello--794 Hello--795 Hello--796 Hello--797 Hello--798 Hello--799 Hello--800 Hello--801 Hello--802 Hello--803 Hello--804 Hello--805 Hello--806 Hello--807 Hello--808 Hello--809 Hello--810 Hello--811 Hello--812 Hello--813 Hello--814 Hello--815 Hello--816 Hello--817 Hello--818 Hello--819 Hello--820 Hello--821 Hello--822 Hello--823 Hello--824 Hello--825 Hello--826 Hello--827 Hello--828 Hello--829 Hello--830 Hello--831 Hello--832 Hello--833 Hello--834 Hello--835 Hello--836 Hello--837 Hello--838 Hello--839 Hello--840 Hello--841 Hello--842 Hello--843 Hello--844 Hello--845 Hello--846 Hello--847 Hello--848 Hello--849 Hello--850 Hello--851 Hello--852 Hello--853 Hello--854 Hello--855 Hello--856 Hello--857 Hello--858 Hello--859 Hello--860 Hello--861 Hello--862 Hello--863 Hello--864 Hello--865 Hello--866 Hello--867 Hello--868 Hello--869 Hello--870 Hello--871 Hello--872 Hello--873 Hello--874 Hello--875 Hello--876 Hello--877 Hello--878 Hello--879 Hello--880 Hello--881 Hello--882 Hello--883 Hello--884 Hello--885 Hello--886 Hello--887 Hello--888 Hello--889 Hello--890 Hello--891 Hello--892 Hello--893 Hello--894 Hello--895 Hello--896 Hello--897 Hello--898 Hello--899 Hello--900 Hello--901 Hello--902 Hello--903 Hello--904 Hello--905 Hello--906 Hello--907 Hello--908 Hello--909 Hello--910 Hello--911 Hello--912 Hello--913 Hello--914 Hello--915 Hello--916 Hello--917 Hello--918 Hello--919 Hello--920 Hello--921 Hello--922 Hello--923 Hello--924 Hello--925 Hello--926 Hello--927 Hello--928 Hello--929 Hello--930 Hello--931 Hello--932 Hello--933 Hello--934 Hello--935 Hello--936 Hello--937 Hello--938 Hello--939 Hello--940 Hello--941 Hello--942 Hello--943 Hello--944 Hello--945 Hello--946 Hello--947 Hello--948 Hello--949 maximum recursion depth exceeded while calling a Python object\n"
          ]
        }
      ]
    },
    {
      "cell_type": "code",
      "source": [
        "def func(i):\n",
        "    # Recursion with base cases can prevent an infinite loop.\n",
        "    # Base Case\n",
        "    if i <= 0:\n",
        "        return \n",
        "    # Recursive Case\n",
        "    print(f\"Hello-{i}\", end=\" \")\n",
        "    func(i-1)\n",
        "       \n",
        "func(4)"
      ],
      "metadata": {
        "colab": {
          "base_uri": "https://localhost:8080/"
        },
        "id": "rUfGwyFsgLcQ",
        "outputId": "a5e5045e-7d2f-40fa-c52b-80a5ef610f5e"
      },
      "execution_count": null,
      "outputs": [
        {
          "output_type": "stream",
          "name": "stdout",
          "text": [
            "Hello-4 Hello-3 Hello-2 Hello-1 "
          ]
        }
      ]
    },
    {
      "cell_type": "code",
      "source": [
        "def func(i):\n",
        "    # Recursion with base cases can still cause an infinite loop.\n",
        "    # Python has a limit for the number of recursive calls.\n",
        "    # If the recursive calls exceed this limit, \n",
        "    # Python through an RecursionError.\n",
        "    # Base Case\n",
        "    if i <= 0:\n",
        "        return  \n",
        "    # Recursive Case\n",
        "    print(f\"Hello-{i}\", end=\" \")\n",
        "    try:\n",
        "        func(i+1)\n",
        "    except RecursionError as e:\n",
        "        print(e)\n",
        "       \n",
        "func(4)"
      ],
      "metadata": {
        "colab": {
          "base_uri": "https://localhost:8080/"
        },
        "id": "yYPXo4ZSiaLS",
        "outputId": "769c39b7-95f1-4221-c3e0-c5974d8a8f43"
      },
      "execution_count": null,
      "outputs": [
        {
          "output_type": "stream",
          "name": "stdout",
          "text": [
            "Hello-4 Hello-5 Hello-6 Hello-7 Hello-8 Hello-9 Hello-10 Hello-11 Hello-12 Hello-13 Hello-14 Hello-15 Hello-16 Hello-17 Hello-18 Hello-19 Hello-20 Hello-21 Hello-22 Hello-23 Hello-24 Hello-25 Hello-26 Hello-27 Hello-28 Hello-29 Hello-30 Hello-31 Hello-32 Hello-33 Hello-34 Hello-35 Hello-36 Hello-37 Hello-38 Hello-39 Hello-40 Hello-41 Hello-42 Hello-43 Hello-44 Hello-45 Hello-46 Hello-47 Hello-48 Hello-49 Hello-50 Hello-51 Hello-52 Hello-53 Hello-54 Hello-55 Hello-56 Hello-57 Hello-58 Hello-59 Hello-60 Hello-61 Hello-62 Hello-63 Hello-64 Hello-65 Hello-66 Hello-67 Hello-68 Hello-69 Hello-70 Hello-71 Hello-72 Hello-73 Hello-74 Hello-75 Hello-76 Hello-77 Hello-78 Hello-79 Hello-80 Hello-81 Hello-82 Hello-83 Hello-84 Hello-85 Hello-86 Hello-87 Hello-88 Hello-89 Hello-90 Hello-91 Hello-92 Hello-93 Hello-94 Hello-95 Hello-96 Hello-97 Hello-98 Hello-99 Hello-100 Hello-101 Hello-102 Hello-103 Hello-104 Hello-105 Hello-106 Hello-107 Hello-108 Hello-109 Hello-110 Hello-111 Hello-112 Hello-113 Hello-114 Hello-115 Hello-116 Hello-117 Hello-118 Hello-119 Hello-120 Hello-121 Hello-122 Hello-123 Hello-124 Hello-125 Hello-126 Hello-127 Hello-128 Hello-129 Hello-130 Hello-131 Hello-132 Hello-133 Hello-134 Hello-135 Hello-136 Hello-137 Hello-138 Hello-139 Hello-140 Hello-141 Hello-142 Hello-143 Hello-144 Hello-145 Hello-146 Hello-147 Hello-148 Hello-149 Hello-150 Hello-151 Hello-152 Hello-153 Hello-154 Hello-155 Hello-156 Hello-157 Hello-158 Hello-159 Hello-160 Hello-161 Hello-162 Hello-163 Hello-164 Hello-165 Hello-166 Hello-167 Hello-168 Hello-169 Hello-170 Hello-171 Hello-172 Hello-173 Hello-174 Hello-175 Hello-176 Hello-177 Hello-178 Hello-179 Hello-180 Hello-181 Hello-182 Hello-183 Hello-184 Hello-185 Hello-186 Hello-187 Hello-188 Hello-189 Hello-190 Hello-191 Hello-192 Hello-193 Hello-194 Hello-195 Hello-196 Hello-197 Hello-198 Hello-199 Hello-200 Hello-201 Hello-202 Hello-203 Hello-204 Hello-205 Hello-206 Hello-207 Hello-208 Hello-209 Hello-210 Hello-211 Hello-212 Hello-213 Hello-214 Hello-215 Hello-216 Hello-217 Hello-218 Hello-219 Hello-220 Hello-221 Hello-222 Hello-223 Hello-224 Hello-225 Hello-226 Hello-227 Hello-228 Hello-229 Hello-230 Hello-231 Hello-232 Hello-233 Hello-234 Hello-235 Hello-236 Hello-237 Hello-238 Hello-239 Hello-240 Hello-241 Hello-242 Hello-243 Hello-244 Hello-245 Hello-246 Hello-247 Hello-248 Hello-249 Hello-250 Hello-251 Hello-252 Hello-253 Hello-254 Hello-255 Hello-256 Hello-257 Hello-258 Hello-259 Hello-260 Hello-261 Hello-262 Hello-263 Hello-264 Hello-265 Hello-266 Hello-267 Hello-268 Hello-269 Hello-270 Hello-271 Hello-272 Hello-273 Hello-274 Hello-275 Hello-276 Hello-277 Hello-278 Hello-279 Hello-280 Hello-281 Hello-282 Hello-283 Hello-284 Hello-285 Hello-286 Hello-287 Hello-288 Hello-289 Hello-290 Hello-291 Hello-292 Hello-293 Hello-294 Hello-295 Hello-296 Hello-297 Hello-298 Hello-299 Hello-300 Hello-301 Hello-302 Hello-303 Hello-304 Hello-305 Hello-306 Hello-307 Hello-308 Hello-309 Hello-310 Hello-311 Hello-312 Hello-313 Hello-314 Hello-315 Hello-316 Hello-317 Hello-318 Hello-319 Hello-320 Hello-321 Hello-322 Hello-323 Hello-324 Hello-325 Hello-326 Hello-327 Hello-328 Hello-329 Hello-330 Hello-331 Hello-332 Hello-333 Hello-334 Hello-335 Hello-336 Hello-337 Hello-338 Hello-339 Hello-340 Hello-341 Hello-342 Hello-343 Hello-344 Hello-345 Hello-346 Hello-347 Hello-348 Hello-349 Hello-350 Hello-351 Hello-352 Hello-353 Hello-354 Hello-355 Hello-356 Hello-357 Hello-358 Hello-359 Hello-360 Hello-361 Hello-362 Hello-363 Hello-364 Hello-365 Hello-366 Hello-367 Hello-368 Hello-369 Hello-370 Hello-371 Hello-372 Hello-373 Hello-374 Hello-375 Hello-376 Hello-377 Hello-378 Hello-379 Hello-380 Hello-381 Hello-382 Hello-383 Hello-384 Hello-385 Hello-386 Hello-387 Hello-388 Hello-389 Hello-390 Hello-391 Hello-392 Hello-393 Hello-394 Hello-395 Hello-396 Hello-397 Hello-398 Hello-399 Hello-400 Hello-401 Hello-402 Hello-403 Hello-404 Hello-405 Hello-406 Hello-407 Hello-408 Hello-409 Hello-410 Hello-411 Hello-412 Hello-413 Hello-414 Hello-415 Hello-416 Hello-417 Hello-418 Hello-419 Hello-420 Hello-421 Hello-422 Hello-423 Hello-424 Hello-425 Hello-426 Hello-427 Hello-428 Hello-429 Hello-430 Hello-431 Hello-432 Hello-433 Hello-434 Hello-435 Hello-436 Hello-437 Hello-438 Hello-439 Hello-440 Hello-441 Hello-442 Hello-443 Hello-444 Hello-445 Hello-446 Hello-447 Hello-448 Hello-449 Hello-450 Hello-451 Hello-452 Hello-453 Hello-454 Hello-455 Hello-456 Hello-457 Hello-458 Hello-459 Hello-460 Hello-461 Hello-462 Hello-463 Hello-464 Hello-465 Hello-466 Hello-467 Hello-468 Hello-469 Hello-470 Hello-471 Hello-472 Hello-473 Hello-474 Hello-475 Hello-476 Hello-477 Hello-478 Hello-479 Hello-480 Hello-481 Hello-482 Hello-483 Hello-484 Hello-485 Hello-486 Hello-487 Hello-488 Hello-489 Hello-490 Hello-491 Hello-492 Hello-493 Hello-494 Hello-495 Hello-496 Hello-497 Hello-498 Hello-499 Hello-500 Hello-501 Hello-502 Hello-503 Hello-504 Hello-505 Hello-506 Hello-507 Hello-508 Hello-509 Hello-510 Hello-511 Hello-512 Hello-513 Hello-514 Hello-515 Hello-516 Hello-517 Hello-518 Hello-519 Hello-520 Hello-521 Hello-522 Hello-523 Hello-524 Hello-525 Hello-526 Hello-527 Hello-528 Hello-529 Hello-530 Hello-531 Hello-532 Hello-533 Hello-534 Hello-535 Hello-536 Hello-537 Hello-538 Hello-539 Hello-540 Hello-541 Hello-542 Hello-543 Hello-544 Hello-545 Hello-546 Hello-547 Hello-548 Hello-549 Hello-550 Hello-551 Hello-552 Hello-553 Hello-554 Hello-555 Hello-556 Hello-557 Hello-558 Hello-559 Hello-560 Hello-561 Hello-562 Hello-563 Hello-564 Hello-565 Hello-566 Hello-567 Hello-568 Hello-569 Hello-570 Hello-571 Hello-572 Hello-573 Hello-574 Hello-575 Hello-576 Hello-577 Hello-578 Hello-579 Hello-580 Hello-581 Hello-582 Hello-583 Hello-584 Hello-585 Hello-586 Hello-587 Hello-588 Hello-589 Hello-590 Hello-591 Hello-592 Hello-593 Hello-594 Hello-595 Hello-596 Hello-597 Hello-598 Hello-599 Hello-600 Hello-601 Hello-602 Hello-603 Hello-604 Hello-605 Hello-606 Hello-607 Hello-608 Hello-609 Hello-610 Hello-611 Hello-612 Hello-613 Hello-614 Hello-615 Hello-616 Hello-617 Hello-618 Hello-619 Hello-620 Hello-621 Hello-622 Hello-623 Hello-624 Hello-625 Hello-626 Hello-627 Hello-628 Hello-629 Hello-630 Hello-631 Hello-632 Hello-633 Hello-634 Hello-635 Hello-636 Hello-637 Hello-638 Hello-639 Hello-640 Hello-641 Hello-642 Hello-643 Hello-644 Hello-645 Hello-646 Hello-647 Hello-648 Hello-649 Hello-650 Hello-651 Hello-652 Hello-653 Hello-654 Hello-655 Hello-656 Hello-657 Hello-658 Hello-659 Hello-660 Hello-661 Hello-662 Hello-663 Hello-664 Hello-665 Hello-666 Hello-667 Hello-668 Hello-669 Hello-670 Hello-671 Hello-672 Hello-673 Hello-674 Hello-675 Hello-676 Hello-677 Hello-678 Hello-679 Hello-680 Hello-681 Hello-682 Hello-683 Hello-684 Hello-685 Hello-686 Hello-687 Hello-688 Hello-689 Hello-690 Hello-691 Hello-692 Hello-693 Hello-694 Hello-695 Hello-696 Hello-697 Hello-698 Hello-699 Hello-700 Hello-701 Hello-702 Hello-703 Hello-704 Hello-705 Hello-706 Hello-707 Hello-708 Hello-709 Hello-710 Hello-711 Hello-712 Hello-713 Hello-714 Hello-715 Hello-716 Hello-717 Hello-718 Hello-719 Hello-720 Hello-721 Hello-722 Hello-723 Hello-724 Hello-725 Hello-726 Hello-727 Hello-728 Hello-729 Hello-730 Hello-731 Hello-732 Hello-733 Hello-734 Hello-735 Hello-736 Hello-737 Hello-738 Hello-739 Hello-740 Hello-741 Hello-742 Hello-743 Hello-744 Hello-745 Hello-746 Hello-747 Hello-748 Hello-749 Hello-750 Hello-751 Hello-752 Hello-753 Hello-754 Hello-755 Hello-756 Hello-757 Hello-758 Hello-759 Hello-760 Hello-761 Hello-762 Hello-763 Hello-764 Hello-765 Hello-766 Hello-767 Hello-768 Hello-769 Hello-770 Hello-771 Hello-772 Hello-773 Hello-774 Hello-775 Hello-776 Hello-777 Hello-778 Hello-779 Hello-780 Hello-781 Hello-782 Hello-783 Hello-784 Hello-785 Hello-786 Hello-787 Hello-788 Hello-789 Hello-790 Hello-791 Hello-792 Hello-793 Hello-794 Hello-795 Hello-796 Hello-797 Hello-798 Hello-799 Hello-800 Hello-801 Hello-802 Hello-803 Hello-804 Hello-805 Hello-806 Hello-807 Hello-808 Hello-809 Hello-810 Hello-811 Hello-812 Hello-813 Hello-814 Hello-815 Hello-816 Hello-817 Hello-818 Hello-819 Hello-820 Hello-821 Hello-822 Hello-823 Hello-824 Hello-825 Hello-826 Hello-827 Hello-828 Hello-829 Hello-830 Hello-831 Hello-832 Hello-833 Hello-834 Hello-835 Hello-836 Hello-837 Hello-838 Hello-839 Hello-840 Hello-841 Hello-842 Hello-843 Hello-844 Hello-845 Hello-846 Hello-847 Hello-848 Hello-849 Hello-850 Hello-851 Hello-852 Hello-853 Hello-854 Hello-855 Hello-856 Hello-857 Hello-858 Hello-859 Hello-860 Hello-861 Hello-862 Hello-863 Hello-864 Hello-865 Hello-866 Hello-867 Hello-868 Hello-869 Hello-870 Hello-871 Hello-872 Hello-873 Hello-874 Hello-875 Hello-876 Hello-877 Hello-878 Hello-879 Hello-880 Hello-881 Hello-882 Hello-883 Hello-884 Hello-885 Hello-886 Hello-887 Hello-888 Hello-889 Hello-890 Hello-891 Hello-892 Hello-893 Hello-894 Hello-895 Hello-896 Hello-897 Hello-898 Hello-899 Hello-900 Hello-901 Hello-902 Hello-903 Hello-904 Hello-905 Hello-906 Hello-907 Hello-908 Hello-909 Hello-910 Hello-911 Hello-912 Hello-913 Hello-914 Hello-915 Hello-916 Hello-917 Hello-918 Hello-919 Hello-920 Hello-921 Hello-922 Hello-923 Hello-924 Hello-925 Hello-926 Hello-927 Hello-928 Hello-929 Hello-930 Hello-931 Hello-932 Hello-933 Hello-934 Hello-935 Hello-936 Hello-937 Hello-938 Hello-939 Hello-940 Hello-941 Hello-942 Hello-943 Hello-944 Hello-945 Hello-946 Hello-947 Hello-948 Hello-949 Hello-950 Hello-951 Hello-952 Hello-953 Hello-954 Hello-955 Hello-956 Hello-957 maximum recursion depth exceeded while calling a Python object\n"
          ]
        }
      ]
    },
    {
      "cell_type": "markdown",
      "source": [
        "#####***Recursion Limit***"
      ],
      "metadata": {
        "id": "y7lXrQgPnXPA"
      }
    },
    {
      "cell_type": "code",
      "source": [
        "import sys\n",
        "\n",
        "# sys.getrecursionlimit() gives the current recursion limit.\n",
        "print(f\"Default Recursion Limit : {sys.getrecursionlimit():,}\")\n",
        "\n",
        "# sys.setrecursionlimit(n) updayes the recursion limit as n.\n",
        "sys.setrecursionlimit(10_000)\n",
        "print(f\"New Recursion Limit     : {sys.getrecursionlimit():,}\")"
      ],
      "metadata": {
        "colab": {
          "base_uri": "https://localhost:8080/"
        },
        "id": "UE3hkpPDnY3F",
        "outputId": "0f7370ee-47ef-4683-eadb-f38a9d5ae562"
      },
      "execution_count": null,
      "outputs": [
        {
          "output_type": "stream",
          "name": "stdout",
          "text": [
            "Default Recursion Limit : 1,000\n",
            "New Recursion Limit     : 10,000\n"
          ]
        }
      ]
    },
    {
      "cell_type": "markdown",
      "source": [
        "####***Section Examples [kor](https://www.youtube.com/watch?v=ln7AfppN7mY&list=PL52K_8WQO5oUuH06MLOrah4h05TZ4n38l&index=1)***"
      ],
      "metadata": {
        "id": "uziuf1MP3eMZ"
      }
    },
    {
      "cell_type": "markdown",
      "source": [
        "#####***Sum from 0 to $n$***"
      ],
      "metadata": {
        "id": "CyTK7U0IlcH_"
      }
    },
    {
      "cell_type": "code",
      "source": [
        "def compute_sum_using_recursion(n):\n",
        "    if n == 0:\n",
        "        return 0\n",
        "    return n + compute_sum_using_recursion(n-1)\n",
        "\n",
        "def compute_sum_using_formula(n):\n",
        "    return n * (n + 1) // 2\n",
        "\n",
        "def main():\n",
        "    n = 10\n",
        "    for i in range(n):\n",
        "        result_0 = compute_sum_using_recursion(i)\n",
        "        result_1 = compute_sum_using_formula(i)\n",
        "        print(f\"Sum from 0 to {i} using recursion : {result_0}\")\n",
        "        print(f\"Sum from 0 to {i} using formula   : {result_1}\")\n",
        "        print()\n",
        "                \n",
        "if __name__ == \"__main__\":\n",
        "    main()"
      ],
      "metadata": {
        "id": "70Crjd1Vln81"
      },
      "execution_count": null,
      "outputs": []
    },
    {
      "cell_type": "markdown",
      "source": [
        "#####***Triangular Number***"
      ],
      "metadata": {
        "id": "kfqzKJuJlvRa"
      }
    },
    {
      "cell_type": "markdown",
      "source": [
        "<div align=\"center\"><img src=\"https://upload.wikimedia.org/wikipedia/commons/thumb/1/1c/First_six_triangular_numbers.svg/640px-First_six_triangular_numbers.svg.png?1615638203862\" width=\"50%\"></div>\n"
      ],
      "metadata": {
        "id": "xneJc3Pulvoi"
      }
    },
    {
      "cell_type": "markdown",
      "source": [
        "$$\n",
        "T_n=T_{n-1}+n,\\quad T_1=1\n",
        "$$"
      ],
      "metadata": {
        "id": "9Qh98KR8l8rw"
      }
    },
    {
      "cell_type": "code",
      "source": [
        "def T(n):\n",
        "    # Base Case\n",
        "    if (n==1):\n",
        "        return 1\n",
        "    \n",
        "    # Recursive Case\n",
        "    return T(n-1) + n\n",
        "\n",
        "def main():\n",
        "    for n in range(1,7):\n",
        "        print(f'T_{n} : {T(n):2}')\n",
        "\n",
        "if __name__ == \"__main__\":\n",
        "    main()"
      ],
      "metadata": {
        "id": "xg2zOqdQlv4T",
        "colab": {
          "base_uri": "https://localhost:8080/"
        },
        "outputId": "f57c8ea4-7fc1-47c4-e10f-da8ffef879e3"
      },
      "execution_count": null,
      "outputs": [
        {
          "output_type": "stream",
          "name": "stdout",
          "text": [
            "T_1 :  1\n",
            "T_2 :  3\n",
            "T_3 :  6\n",
            "T_4 : 10\n",
            "T_5 : 15\n",
            "T_6 : 21\n"
          ]
        }
      ]
    },
    {
      "cell_type": "markdown",
      "source": [
        "#####***Tower of Hanoi***"
      ],
      "metadata": {
        "id": "Ft2VYvqR4B32"
      }
    },
    {
      "cell_type": "markdown",
      "source": [
        "<div align=\"center\"><img src=\"https://upload.wikimedia.org/wikipedia/commons/0/07/Tower_of_Hanoi.jpeg\" width=\"50%\"></div>"
      ],
      "metadata": {
        "id": "-QU3V9hv4qKp"
      }
    },
    {
      "cell_type": "markdown",
      "source": [
        "$$\n",
        "a_n=2a_{n-1}+1,\\quad a_1=1\n",
        "$$"
      ],
      "metadata": {
        "id": "XlLPDBfa4t84"
      }
    },
    {
      "cell_type": "code",
      "source": [
        "def a(n):    \n",
        "    # Base Case\n",
        "    if (n==1):\n",
        "        return 1 \n",
        "    # Recursive Case\n",
        "    return 2 * a(n-1) + 1\n",
        "\n",
        "def main():\n",
        "    for n in range(1,10):\n",
        "        print(a(n), end='\\t')\n",
        "\n",
        "if __name__ == \"__main__\":\n",
        "    main()"
      ],
      "metadata": {
        "colab": {
          "base_uri": "https://localhost:8080/"
        },
        "id": "abu2cXVpP-tR",
        "outputId": "4a8f53b2-d4f5-4630-a4ef-aed5ef11363f"
      },
      "execution_count": null,
      "outputs": [
        {
          "output_type": "stream",
          "name": "stdout",
          "text": [
            "1\t3\t7\t15\t31\t63\t127\t255\t511\t"
          ]
        }
      ]
    },
    {
      "cell_type": "markdown",
      "source": [
        "#####***Fibonacci Numbers [eng](https://www.youtube.com/watch?v=B0NtAFf4bvU&list=PLBZBJbE_rGRV8D7XZ08LK6z-4zPoWzu5H&index=7)***"
      ],
      "metadata": {
        "id": "AOoVhzSm4Ig8"
      }
    },
    {
      "cell_type": "markdown",
      "source": [
        "<div align=\"center\"><img src=\"https://i.stack.imgur.com/CLwKE.jpg\" width=\"60%\"></div>\n",
        "\n",
        "[Fibonacci Numbers](https://riptutorial.com/algorithm/example/31799/fibonacci-numbers)"
      ],
      "metadata": {
        "id": "4sZoLJXY5m9t"
      }
    },
    {
      "cell_type": "markdown",
      "source": [
        "$$\n",
        "a_n=a_{n-1}+a_{n-2},\\quad\n",
        "a_0=0,\\quad a_1=1\n",
        "$$"
      ],
      "metadata": {
        "id": "l9Okd2ud5pyU"
      }
    },
    {
      "cell_type": "code",
      "source": [
        "def a(n):   \n",
        "    # Base Case\n",
        "    if n <= 1:\n",
        "        return n    \n",
        "    # Recursive Case\n",
        "    return a(n-1) + a(n-2)\n",
        "\n",
        "for n in range(1,10):\n",
        "    print(a(n), end='\\t')\n",
        "\n",
        "if __name__ == \"__main__\":\n",
        "    main()"
      ],
      "metadata": {
        "colab": {
          "base_uri": "https://localhost:8080/"
        },
        "id": "fBJWMntd4Itk",
        "outputId": "1d0df165-61e7-4bdb-bad2-84578effd8a7"
      },
      "execution_count": null,
      "outputs": [
        {
          "output_type": "stream",
          "name": "stdout",
          "text": [
            "1\t1\t2\t3\t5\t8\t13\t21\t34\t"
          ]
        }
      ]
    },
    {
      "cell_type": "markdown",
      "source": [
        "#####***Exercise. Example from High School Math***"
      ],
      "metadata": {
        "id": "dA_2n2vejUWD"
      }
    },
    {
      "cell_type": "markdown",
      "source": [
        "The below code computes the first few $a_n$ without the recursive function calls, given by\n",
        "\n",
        "$$\n",
        "a_{n+1}=\\sqrt{a_n+1},\\quad a_0=1\n",
        "$$\n",
        "\n",
        "Do the same job with the recursive function calls. "
      ],
      "metadata": {
        "id": "rc_cstkJjhyQ"
      }
    },
    {
      "cell_type": "code",
      "source": [
        "import numpy as np\n",
        "import matplotlib.pyplot as plt\n",
        "\n",
        "\n",
        "def main():\n",
        "    n_end = 20\n",
        "\n",
        "    n = [1]\n",
        "    an = [1]\n",
        "\n",
        "    for i in range(2, n_end):\n",
        "        n.append(i)\n",
        "        an.append(np.sqrt(an[-1]+1))\n",
        "\n",
        "    fig, ax = plt.subplots(figsize=(12,4))\n",
        "    ax.plot(n,an,'-*b')\n",
        "    ax.plot(n,np.ones_like(np.array(n))*((1+np.sqrt(5))/2), '--r', alpha=0.7)\n",
        "    plt.show()\n",
        "    \n",
        "    \n",
        "if __name__ == \"__main__\":\n",
        "    main()"
      ],
      "metadata": {
        "colab": {
          "base_uri": "https://localhost:8080/"
        },
        "id": "yrdcth0YjUgj",
        "outputId": "c4238e88-18e6-44e6-8e0a-c7d50221a5c0"
      },
      "execution_count": null,
      "outputs": [
        {
          "output_type": "display_data",
          "data": {
            "text/plain": [
              "<Figure size 864x288 with 1 Axes>"
            ],
            "image/png": "[encoded data removed]"
          },
          "metadata": {
            "needs_background": "light"
          }
        }
      ]
    },
    {
      "cell_type": "markdown",
      "source": [
        "###***Chapter 32 Closure and Decorator***"
      ],
      "metadata": {
        "id": "_u2e2g-wgcQu"
      }
    },
    {
      "cell_type": "markdown",
      "source": [
        "####***Section 1 Python has First-Class Functions [eng](https://www.youtube.com/watch?v=kr0mpwqttM0)***"
      ],
      "metadata": {
        "id": "rAMWnBl6R1S3"
      }
    },
    {
      "cell_type": "markdown",
      "source": [
        "In computer science, a programming language is said to have first-class functions if it treats functions as first-class citizens. This means the language supports passing functions as arguments to other functions, returning them as the values from other functions, and assigning them to variables or storing them in data structures.\n",
        "\n",
        "[wikipedia](https://en.wikipedia.org/wiki/First-class_function)"
      ],
      "metadata": {
        "id": "4ho_AMRSSDHi"
      }
    },
    {
      "cell_type": "markdown",
      "source": [
        "#####***Function assined to a Variable***"
      ],
      "metadata": {
        "id": "0WrrrmU1U_nm"
      }
    },
    {
      "cell_type": "code",
      "source": [
        "def square(x):\n",
        "    return x * x\n",
        "\n",
        "def main():\n",
        "    f = square\n",
        "    a = f(3)\n",
        "    print(a)\n",
        "\n",
        "if __name__ == \"__main__\":\n",
        "    main()"
      ],
      "metadata": {
        "colab": {
          "base_uri": "https://localhost:8080/"
        },
        "id": "__hqBCCeSvKY",
        "outputId": "366c6f94-460b-4d49-8e8b-31f4dbd4d51e"
      },
      "execution_count": null,
      "outputs": [
        {
          "output_type": "stream",
          "name": "stdout",
          "text": [
            "9\n"
          ]
        }
      ]
    },
    {
      "cell_type": "markdown",
      "source": [
        "#####***Functions assined to a List***"
      ],
      "metadata": {
        "id": "zZcQ-DCrVgtL"
      }
    },
    {
      "cell_type": "code",
      "source": [
        "def square(x):\n",
        "    return x * x\n",
        "\n",
        "def cube(x):\n",
        "    return x * x * x\n",
        "\n",
        "def main():\n",
        "    out = []\n",
        "    for f in [square, cube]:\n",
        "        out.append( f(3) )\n",
        "    print(out)\n",
        "\n",
        "if __name__ == \"__main__\":\n",
        "    main()"
      ],
      "metadata": {
        "colab": {
          "base_uri": "https://localhost:8080/"
        },
        "id": "su56QK4LS2zB",
        "outputId": "58e7b4e3-86de-40b7-97e7-235868a3c940"
      },
      "execution_count": null,
      "outputs": [
        {
          "output_type": "stream",
          "name": "stdout",
          "text": [
            "[9, 27]\n"
          ]
        }
      ]
    },
    {
      "cell_type": "markdown",
      "source": [
        "#####***Function as an Input of another Function***"
      ],
      "metadata": {
        "id": "8aBNK4nKS5lx"
      }
    },
    {
      "cell_type": "code",
      "source": [
        "def square(x):\n",
        "    return x * x\n",
        "\n",
        "def print_function_name(f):\n",
        "    print(f.__name__)\n",
        "\n",
        "def main():\n",
        "    print_function_name(square)\n",
        "\n",
        "if __name__ == \"__main__\":\n",
        "    main()"
      ],
      "metadata": {
        "colab": {
          "base_uri": "https://localhost:8080/"
        },
        "id": "LZjVUjYdS26x",
        "outputId": "be0a65dc-593f-4ac1-f85a-49ea89ee45ab"
      },
      "execution_count": null,
      "outputs": [
        {
          "output_type": "stream",
          "name": "stdout",
          "text": [
            "square\n"
          ]
        }
      ]
    },
    {
      "cell_type": "markdown",
      "source": [
        "#####***Function as an Output of another Function***"
      ],
      "metadata": {
        "id": "gTvWdu5ATZYN"
      }
    },
    {
      "cell_type": "code",
      "source": [
        "def square(x):\n",
        "    return x * x\n",
        "\n",
        "def print_function_name(f):\n",
        "    print(f.__name__)\n",
        "    def inner_function(*args,**kargs):\n",
        "        return f(*args,**kargs)\n",
        "    print(f.__name__)\n",
        "    return inner_function \n",
        "\n",
        "def main():\n",
        "    square_out = print_function_name(square)\n",
        "    a = square_out(7)\n",
        "    print(a)\n",
        "\n",
        "if __name__ == \"__main__\":\n",
        "    main()"
      ],
      "metadata": {
        "colab": {
          "base_uri": "https://localhost:8080/"
        },
        "id": "vJd4wM7oS3M3",
        "outputId": "5b674c6a-9d63-46ec-d8d6-d9cfcee8a144"
      },
      "execution_count": null,
      "outputs": [
        {
          "output_type": "stream",
          "name": "stdout",
          "text": [
            "square\n",
            "square\n",
            "49\n"
          ]
        }
      ]
    },
    {
      "cell_type": "code",
      "source": [
        "def square(x):\n",
        "    return x * x\n",
        "\n",
        "def print_function_name(f):\n",
        "    print(f.__name__)\n",
        "    def inner_function(*args,**kargs):\n",
        "        return f(*args,**kargs)\n",
        "    print(f.__name__)\n",
        "    return inner_function \n",
        "\n",
        "def main():\n",
        "    global square\n",
        "    square = print_function_name(square)\n",
        "    a = square(7)\n",
        "    print(a)\n",
        "\n",
        "if __name__ == \"__main__\":\n",
        "    main()"
      ],
      "metadata": {
        "colab": {
          "base_uri": "https://localhost:8080/"
        },
        "id": "kyZ7chROUg6S",
        "outputId": "2f9db238-e8de-4aca-908a-d1dfb0e0d033"
      },
      "execution_count": null,
      "outputs": [
        {
          "output_type": "stream",
          "name": "stdout",
          "text": [
            "square\n",
            "square\n",
            "49\n"
          ]
        }
      ]
    },
    {
      "cell_type": "code",
      "source": [
        "@print_function_name\n",
        "def square(x):\n",
        "    return x * x\n",
        "\n",
        "def print_function_name(f):\n",
        "    print(f.__name__)\n",
        "    def inner_function(*args,**kargs):\n",
        "        return f(*args,**kargs)\n",
        "    print(f.__name__)\n",
        "    return inner_function \n",
        "\n",
        "def main():\n",
        "    a = square(7)\n",
        "    print(a)\n",
        "\n",
        "if __name__ == \"__main__\":\n",
        "    main()"
      ],
      "metadata": {
        "colab": {
          "base_uri": "https://localhost:8080/"
        },
        "id": "cgzYGHDsUpqc",
        "outputId": "21b85275-a24d-42c1-d5eb-81f3d3b0c73f"
      },
      "execution_count": null,
      "outputs": [
        {
          "output_type": "stream",
          "name": "stdout",
          "text": [
            "square\n",
            "square\n",
            "49\n"
          ]
        }
      ]
    },
    {
      "cell_type": "markdown",
      "source": [
        "####***Section 2 Closure [eng](https://www.youtube.com/watch?v=tNSOaA1z6Uo)***"
      ],
      "metadata": {
        "id": "tYgflKVYgcQw"
      }
    },
    {
      "cell_type": "markdown",
      "source": [
        "#####***What is Closure***"
      ],
      "metadata": {
        "id": "kHDI85gz-BbY"
      }
    },
    {
      "cell_type": "markdown",
      "source": [
        "$$\\begin{array}{ccccccccccccccc}\n",
        "\\text{Original Function}&\\Rightarrow&\\text{Original Function with Free Variable}\\\\\n",
        "&\\uparrow&\\\\\n",
        "&\\text{Closure}&\\\\\n",
        "\\end{array}$$"
      ],
      "metadata": {
        "id": "AkpYvbnw-BbZ"
      }
    },
    {
      "cell_type": "markdown",
      "source": [
        "#####***Without Closure***"
      ],
      "metadata": {
        "id": "X3KPkfxU-djc"
      }
    },
    {
      "cell_type": "code",
      "source": [
        "# without closure\n",
        "# enter_today_accidents does not memorize total_accidents  \n",
        "total_accidents = 0\n",
        "\n",
        "def enter_today_accidents(x):\n",
        "    global total_accidents\n",
        "    total_accidents += x\n",
        "    print(f\"{total_accidents = }\")\n",
        "\n",
        "def main():\n",
        "    enter_today_accidents(3)\n",
        "    enter_today_accidents(7)\n",
        "    enter_today_accidents(4)\n",
        "\n",
        "if __name__ == \"__main__\":\n",
        "    main()"
      ],
      "metadata": {
        "colab": {
          "base_uri": "https://localhost:8080/"
        },
        "outputId": "9e6f63f0-4df3-4ea0-8d12-788453f30bdc",
        "id": "OGZVFoCSgcQw"
      },
      "execution_count": null,
      "outputs": [
        {
          "output_type": "stream",
          "name": "stdout",
          "text": [
            "total_accidents = 3\n",
            "total_accidents = 10\n",
            "total_accidents = 14\n"
          ]
        }
      ]
    },
    {
      "cell_type": "markdown",
      "source": [
        "#####***With Closure***"
      ],
      "metadata": {
        "id": "qKM-85tz-iBC"
      }
    },
    {
      "cell_type": "code",
      "source": [
        "# with closure\n",
        "# enter_today_accidents memorizes total_accidents  \n",
        "\n",
        "def enter_today_accidents():\n",
        "    total_accidents = 0\n",
        "    def inner_function(x):\n",
        "        nonlocal total_accidents\n",
        "        total_accidents += x\n",
        "        print(f\"{total_accidents = }\")\n",
        "    return inner_function\n",
        "\n",
        "enter_today_accidents = enter_today_accidents()\n",
        "\n",
        "def main():\n",
        "    enter_today_accidents(3)\n",
        "    enter_today_accidents(7)\n",
        "    enter_today_accidents(4)\n",
        "\n",
        "if __name__ == \"__main__\":\n",
        "    main()"
      ],
      "metadata": {
        "colab": {
          "base_uri": "https://localhost:8080/"
        },
        "outputId": "e6139214-ab07-4f2a-d1c0-d97ca14cad67",
        "id": "qZVhCYQGgcQw"
      },
      "execution_count": null,
      "outputs": [
        {
          "output_type": "stream",
          "name": "stdout",
          "text": [
            "total_accidents = 3\n",
            "total_accidents = 10\n",
            "total_accidents = 14\n"
          ]
        }
      ]
    },
    {
      "cell_type": "markdown",
      "source": [
        "#####***Class Implementation of Closure without using Closure Explicitly***"
      ],
      "metadata": {
        "id": "RpKukP9F-lXq"
      }
    },
    {
      "cell_type": "code",
      "source": [
        "# closure is calss with one method\n",
        "# closure is handy when the language does not have class  \n",
        "class Enter_Today_Accidents():\n",
        "    total_accidents = 0\n",
        "    @classmethod\n",
        "    def enter_today_accidents(cls, x):\n",
        "        cls.total_accidents += x\n",
        "        print(f\"{cls.total_accidents = }\")\n",
        "\n",
        "def main():\n",
        "    obj = Enter_Today_Accidents()\n",
        "    obj.enter_today_accidents(3)\n",
        "    obj.enter_today_accidents(7)\n",
        "    obj.enter_today_accidents(4)\n",
        "\n",
        "if __name__ == \"__main__\":\n",
        "    main()"
      ],
      "metadata": {
        "colab": {
          "base_uri": "https://localhost:8080/"
        },
        "outputId": "2f53d16b-8ae5-4da9-dab5-905ae7bc0c2c",
        "id": "MYirfQC-gcQw"
      },
      "execution_count": null,
      "outputs": [
        {
          "output_type": "stream",
          "name": "stdout",
          "text": [
            "cls.total_accidents = 3\n",
            "cls.total_accidents = 10\n",
            "cls.total_accidents = 14\n"
          ]
        }
      ]
    },
    {
      "cell_type": "markdown",
      "source": [
        "####***Section 3 Decorator [eng](https://www.youtube.com/watch?v=nYDKH9fvlBY)***"
      ],
      "metadata": {
        "id": "OM7w6IjlgcQu"
      }
    },
    {
      "cell_type": "markdown",
      "source": [
        "#####***What is Decorator***"
      ],
      "metadata": {
        "id": "9oOVxS-55T6d"
      }
    },
    {
      "cell_type": "markdown",
      "source": [
        "$$\\begin{array}{ccccccccccccccc}\n",
        "\\text{Original Function}&\\Rightarrow&\\text{New Function}\\\\\n",
        "&\\uparrow&\\\\\n",
        "&\\text{Decorator}&\\\\\n",
        "\\end{array}$$"
      ],
      "metadata": {
        "id": "HnQcl9p1gcQv"
      }
    },
    {
      "cell_type": "markdown",
      "source": [
        "#####***Original Code***"
      ],
      "metadata": {
        "id": "OTNZ4ezG58x1"
      }
    },
    {
      "cell_type": "code",
      "source": [
        "def calc_square(numbers):\n",
        "    result = []\n",
        "    for number in numbers:\n",
        "        result.append(number*number)\n",
        "    return result\n",
        "\n",
        "def calc_cube(numbers):\n",
        "    result = []\n",
        "    for number in numbers:\n",
        "        result.append(number*number*number)\n",
        "    return result\n",
        "\n",
        "def main():\n",
        "    array = range(1,100000)\n",
        "    out_square = calc_square(array)\n",
        "    out_cube = calc_cube(array)\n",
        "\n",
        "if __name__ == \"__main__\":\n",
        "    main()"
      ],
      "metadata": {
        "id": "DKpi2LJtgcQv"
      },
      "execution_count": null,
      "outputs": []
    },
    {
      "cell_type": "markdown",
      "source": [
        "#####***Modified Code without Decorator***"
      ],
      "metadata": {
        "id": "xdwUUEKH6NKI"
      }
    },
    {
      "cell_type": "code",
      "source": [
        "# measure computing time\n",
        "# without decorator\n",
        "# con - modify original code\n",
        "#       original function becomes complicated\n",
        "import time\n",
        "\n",
        "def calc_square(numbers):\n",
        "    start = time.time()\n",
        "    result = []\n",
        "    for number in numbers:\n",
        "        result.append(number*number)\n",
        "    end = time.time()\n",
        "    print(\"calc_square took \" + str((end-start)*1000) + \"mil sec\")\n",
        "    return result\n",
        "\n",
        "def calc_cube(numbers):\n",
        "    start = time.time()\n",
        "    result = []\n",
        "    for number in numbers:\n",
        "        result.append(number*number*number)\n",
        "    end = time.time()\n",
        "    print(\"calc_cube took \" + str((end-start)*1000) + \"mil sec\")\n",
        "    return result\n",
        "\n",
        "def main():\n",
        "    array = range(1,100000)\n",
        "    out_square = calc_square(array)\n",
        "    out_cube = calc_cube(array)\n",
        "\n",
        "if __name__ == \"__main__\":\n",
        "    main()"
      ],
      "metadata": {
        "colab": {
          "base_uri": "https://localhost:8080/"
        },
        "outputId": "f84617e1-228e-4c0b-9579-f432d52a68bf",
        "id": "M3iueqKggcQv"
      },
      "execution_count": null,
      "outputs": [
        {
          "output_type": "stream",
          "name": "stdout",
          "text": [
            "calc_square took 21.749258041381836mil sec\n",
            "calc_cube took 29.619932174682617mil sec\n"
          ]
        }
      ]
    },
    {
      "cell_type": "markdown",
      "source": [
        "#####***Modified Code with Decorator***"
      ],
      "metadata": {
        "id": "l2wI1Bz06ZC-"
      }
    },
    {
      "cell_type": "code",
      "source": [
        "# measure computing time\n",
        "# with decorator\n",
        "# pro - don't modify original code\n",
        "#       original function stay simple\n",
        "import time\n",
        "\n",
        "def time_it(func):\n",
        "    def wrapper(*args, **kwargs):\n",
        "        start = time.time()\n",
        "        result = func(*args,**kwargs)\n",
        "        end = time.time()\n",
        "        print(func.__name__ +\" took \" + str((end-start)*1000) + \"mil sec\")\n",
        "        return result\n",
        "    return wrapper\n",
        "\n",
        "def calc_square(numbers):\n",
        "    result = []\n",
        "    for number in numbers:\n",
        "        result.append(number*number)\n",
        "    return result\n",
        "\n",
        "def calc_cube(numbers):\n",
        "    result = []\n",
        "    for number in numbers:\n",
        "        result.append(number*number*number)\n",
        "    return result\n",
        "\n",
        "calc_square = time_it(calc_square)\n",
        "calc_cube = time_it(calc_cube)\n",
        "\n",
        "def main():\n",
        "    array = range(1,100000)\n",
        "    out_square = calc_square(array)\n",
        "    out_cube = calc_cube(array)\n",
        "\n",
        "if __name__ == \"__main__\":\n",
        "    main()"
      ],
      "metadata": {
        "colab": {
          "base_uri": "https://localhost:8080/"
        },
        "outputId": "24bac2a7-d089-4654-9c34-55bc1cfeb4a4",
        "id": "3GgKVlnFgcQv"
      },
      "execution_count": null,
      "outputs": [
        {
          "output_type": "stream",
          "name": "stdout",
          "text": [
            "calc_square took 38.35248947143555mil sec\n",
            "calc_cube took 34.67226028442383mil sec\n"
          ]
        }
      ]
    },
    {
      "cell_type": "markdown",
      "source": [
        "#####***Modified Code with Decorator and @***"
      ],
      "metadata": {
        "id": "nD0EsBE06dmF"
      }
    },
    {
      "cell_type": "code",
      "source": [
        "# Source : https://github.com/codebasics/py/blob/master/Advanced/decorators.py\n",
        "# with decorator and @\n",
        "# pro - don't modify original code\n",
        "#       original function stay simple\n",
        "import time\n",
        "\n",
        "def time_it(func):\n",
        "    def wrapper(*args, **kwargs):\n",
        "        start = time.time()\n",
        "        result = func(*args,**kwargs)\n",
        "        end = time.time()\n",
        "        print(func.__name__ +\" took \" + str((end-start)*1000) + \"mil sec\")\n",
        "        return result\n",
        "    return wrapper\n",
        "\n",
        "@time_it\n",
        "def calc_square(numbers):\n",
        "    result = []\n",
        "    for number in numbers:\n",
        "        result.append(number*number)\n",
        "    return result\n",
        "\n",
        "@time_it\n",
        "def calc_cube(numbers):\n",
        "    result = []\n",
        "    for number in numbers:\n",
        "        result.append(number*number*number)\n",
        "    return result\n",
        "\n",
        "def main():\n",
        "    array = range(1,100000)\n",
        "    out_square = calc_square(array)\n",
        "    out_cube = calc_cube(array)\n",
        "\n",
        "if __name__ == \"__main__\":\n",
        "    main()"
      ],
      "metadata": {
        "colab": {
          "base_uri": "https://localhost:8080/"
        },
        "outputId": "f9ae5cff-8de4-4202-fa1d-7251a0d11aaf",
        "id": "wgCLCqeegcQv"
      },
      "execution_count": null,
      "outputs": [
        {
          "output_type": "stream",
          "name": "stdout",
          "text": [
            "calc_square took 22.665739059448242mil sec\n",
            "calc_cube took 30.780315399169922mil sec\n"
          ]
        }
      ]
    },
    {
      "cell_type": "markdown",
      "source": [
        "#####***Decorator Example - Power Function $2^n$***"
      ],
      "metadata": {
        "id": "EVTOvPYTmPwd"
      }
    },
    {
      "cell_type": "code",
      "source": [
        "def trace(f):\n",
        "    f.indent = 0\n",
        "    def g(*x):\n",
        "        print('|  ' * f.indent + '|--', f.__name__, x)\n",
        "        f.indent += 1\n",
        "        value = f(*x)\n",
        "        print('|  ' * f.indent + '|--', 'return', repr(value))\n",
        "        f.indent -= 1\n",
        "        return value\n",
        "    return g\n",
        "\n",
        "@trace\n",
        "def power(x, n):\n",
        "    \"\"\"\n",
        "    Compute x**n\n",
        "    \"\"\"\n",
        "    if n == 0:\n",
        "        # Base Case\n",
        "        return 1\n",
        "    else:\n",
        "        # Recursive Case\n",
        "        return x * power(x, n-1)\n",
        "        \n",
        "def main(n):\n",
        "    power(2, n)\n",
        "   \n",
        "if __name__ == \"__main__\":\n",
        "    main(25)"
      ],
      "metadata": {
        "colab": {
          "base_uri": "https://localhost:8080/"
        },
        "id": "bd4gf9oMmQOc",
        "outputId": "48039d6d-5cf4-4fe1-8555-7ec3d444a725"
      },
      "execution_count": null,
      "outputs": [
        {
          "output_type": "stream",
          "name": "stdout",
          "text": [
            "|-- power (2, 25)\n",
            "|  |-- power (2, 24)\n",
            "|  |  |-- power (2, 23)\n",
            "|  |  |  |-- power (2, 22)\n",
            "|  |  |  |  |-- power (2, 21)\n",
            "|  |  |  |  |  |-- power (2, 20)\n",
            "|  |  |  |  |  |  |-- power (2, 19)\n",
            "|  |  |  |  |  |  |  |-- power (2, 18)\n",
            "|  |  |  |  |  |  |  |  |-- power (2, 17)\n",
            "|  |  |  |  |  |  |  |  |  |-- power (2, 16)\n",
            "|  |  |  |  |  |  |  |  |  |  |-- power (2, 15)\n",
            "|  |  |  |  |  |  |  |  |  |  |  |-- power (2, 14)\n",
            "|  |  |  |  |  |  |  |  |  |  |  |  |-- power (2, 13)\n",
            "|  |  |  |  |  |  |  |  |  |  |  |  |  |-- power (2, 12)\n",
            "|  |  |  |  |  |  |  |  |  |  |  |  |  |  |-- power (2, 11)\n",
            "|  |  |  |  |  |  |  |  |  |  |  |  |  |  |  |-- power (2, 10)\n",
            "|  |  |  |  |  |  |  |  |  |  |  |  |  |  |  |  |-- power (2, 9)\n",
            "|  |  |  |  |  |  |  |  |  |  |  |  |  |  |  |  |  |-- power (2, 8)\n",
            "|  |  |  |  |  |  |  |  |  |  |  |  |  |  |  |  |  |  |-- power (2, 7)\n",
            "|  |  |  |  |  |  |  |  |  |  |  |  |  |  |  |  |  |  |  |-- power (2, 6)\n",
            "|  |  |  |  |  |  |  |  |  |  |  |  |  |  |  |  |  |  |  |  |-- power (2, 5)\n",
            "|  |  |  |  |  |  |  |  |  |  |  |  |  |  |  |  |  |  |  |  |  |-- power (2, 4)\n",
            "|  |  |  |  |  |  |  |  |  |  |  |  |  |  |  |  |  |  |  |  |  |  |-- power (2, 3)\n",
            "|  |  |  |  |  |  |  |  |  |  |  |  |  |  |  |  |  |  |  |  |  |  |  |-- power (2, 2)\n",
            "|  |  |  |  |  |  |  |  |  |  |  |  |  |  |  |  |  |  |  |  |  |  |  |  |-- power (2, 1)\n",
            "|  |  |  |  |  |  |  |  |  |  |  |  |  |  |  |  |  |  |  |  |  |  |  |  |  |-- power (2, 0)\n",
            "|  |  |  |  |  |  |  |  |  |  |  |  |  |  |  |  |  |  |  |  |  |  |  |  |  |  |-- return 1\n",
            "|  |  |  |  |  |  |  |  |  |  |  |  |  |  |  |  |  |  |  |  |  |  |  |  |  |-- return 2\n",
            "|  |  |  |  |  |  |  |  |  |  |  |  |  |  |  |  |  |  |  |  |  |  |  |  |-- return 4\n",
            "|  |  |  |  |  |  |  |  |  |  |  |  |  |  |  |  |  |  |  |  |  |  |  |-- return 8\n",
            "|  |  |  |  |  |  |  |  |  |  |  |  |  |  |  |  |  |  |  |  |  |  |-- return 16\n",
            "|  |  |  |  |  |  |  |  |  |  |  |  |  |  |  |  |  |  |  |  |  |-- return 32\n",
            "|  |  |  |  |  |  |  |  |  |  |  |  |  |  |  |  |  |  |  |  |-- return 64\n",
            "|  |  |  |  |  |  |  |  |  |  |  |  |  |  |  |  |  |  |  |-- return 128\n",
            "|  |  |  |  |  |  |  |  |  |  |  |  |  |  |  |  |  |  |-- return 256\n",
            "|  |  |  |  |  |  |  |  |  |  |  |  |  |  |  |  |  |-- return 512\n",
            "|  |  |  |  |  |  |  |  |  |  |  |  |  |  |  |  |-- return 1024\n",
            "|  |  |  |  |  |  |  |  |  |  |  |  |  |  |  |-- return 2048\n",
            "|  |  |  |  |  |  |  |  |  |  |  |  |  |  |-- return 4096\n",
            "|  |  |  |  |  |  |  |  |  |  |  |  |  |-- return 8192\n",
            "|  |  |  |  |  |  |  |  |  |  |  |  |-- return 16384\n",
            "|  |  |  |  |  |  |  |  |  |  |  |-- return 32768\n",
            "|  |  |  |  |  |  |  |  |  |  |-- return 65536\n",
            "|  |  |  |  |  |  |  |  |  |-- return 131072\n",
            "|  |  |  |  |  |  |  |  |-- return 262144\n",
            "|  |  |  |  |  |  |  |-- return 524288\n",
            "|  |  |  |  |  |  |-- return 1048576\n",
            "|  |  |  |  |  |-- return 2097152\n",
            "|  |  |  |  |-- return 4194304\n",
            "|  |  |  |-- return 8388608\n",
            "|  |  |-- return 16777216\n",
            "|  |-- return 33554432\n"
          ]
        }
      ]
    },
    {
      "cell_type": "markdown",
      "source": [
        "#####***Decorator Example - Fast Power Function $2^n$***"
      ],
      "metadata": {
        "id": "GdbdhI7L7SO6"
      }
    },
    {
      "cell_type": "code",
      "source": [
        "def trace(f):\n",
        "    f.indent = 0\n",
        "    def g(*x):\n",
        "        print('|  ' * f.indent + '|--', f.__name__, x)\n",
        "        f.indent += 1\n",
        "        value = f(*x)\n",
        "        print('|  ' * f.indent + '|--', 'return', repr(value))\n",
        "        f.indent -= 1\n",
        "        return value\n",
        "    return g\n",
        "        \n",
        "@trace\n",
        "def fast_power(x, n):\n",
        "    if n == 0:\n",
        "        return 1\n",
        "    elif n % 2 == 0:\n",
        "        return fast_power(x*x, int(n/2))\n",
        "    else:\n",
        "        return x * fast_power(x, n-1)\n",
        "        \n",
        "def main(n):\n",
        "    fast_power(2, n)\n",
        "\n",
        "    \n",
        "if __name__ == \"__main__\":\n",
        "    main(25)"
      ],
      "metadata": {
        "colab": {
          "base_uri": "https://localhost:8080/"
        },
        "id": "JvvUYgWjmm6h",
        "outputId": "e469a90c-d9d6-48cd-f320-f76521de6270"
      },
      "execution_count": null,
      "outputs": [
        {
          "output_type": "stream",
          "name": "stdout",
          "text": [
            "|-- fast_power (2, 25)\n",
            "|  |-- fast_power (2, 24)\n",
            "|  |  |-- fast_power (4, 12)\n",
            "|  |  |  |-- fast_power (16, 6)\n",
            "|  |  |  |  |-- fast_power (256, 3)\n",
            "|  |  |  |  |  |-- fast_power (256, 2)\n",
            "|  |  |  |  |  |  |-- fast_power (65536, 1)\n",
            "|  |  |  |  |  |  |  |-- fast_power (65536, 0)\n",
            "|  |  |  |  |  |  |  |  |-- return 1\n",
            "|  |  |  |  |  |  |  |-- return 65536\n",
            "|  |  |  |  |  |  |-- return 65536\n",
            "|  |  |  |  |  |-- return 16777216\n",
            "|  |  |  |  |-- return 16777216\n",
            "|  |  |  |-- return 16777216\n",
            "|  |  |-- return 16777216\n",
            "|  |-- return 33554432\n"
          ]
        }
      ]
    },
    {
      "cell_type": "markdown",
      "source": [
        "###***Chapter 33 map, filter, reduce [eng](https://www.youtube.com/watch?v=cKlnR-CB3tk)***"
      ],
      "metadata": {
        "id": "2OiIU-ZA-5-Z"
      }
    },
    {
      "cell_type": "markdown",
      "source": [
        "<img src='https://preview.redd.it/yf7rw3pjiapx.jpg?width=960&crop=smart&auto=webp&s=b6bdb4b7d610605ee51b4a9ba228b3245c1dd662' width='100%'>\n",
        "\n",
        "[reddit](https://www.reddit.com/r/ProgrammerHumor/comments/55ompo/map_filter_reduce_explained_with_emojis/)"
      ],
      "metadata": {
        "id": "BaNsUprK20Sz"
      }
    },
    {
      "cell_type": "markdown",
      "source": [
        "####***Section 1 Map***"
      ],
      "metadata": {
        "id": "eJ7AHtDm2BiB"
      }
    },
    {
      "cell_type": "markdown",
      "source": [
        "#####***Map***"
      ],
      "metadata": {
        "id": "TWXKYOMe36GW"
      }
    },
    {
      "cell_type": "code",
      "source": [
        "def main():\n",
        "    # map : iterable ---> new iterable \n",
        "    a = [1,2,3,4]\n",
        "    a = list(map(lambda x: x**2, a)) # iterable ---> list\n",
        "    print(a)\n",
        "\n",
        "if __name__ == \"__main__\":\n",
        "    main()"
      ],
      "metadata": {
        "colab": {
          "base_uri": "https://localhost:8080/"
        },
        "id": "m9HEpsZT1nEn",
        "outputId": "dc6adae6-7c6a-4b9c-a3d5-6d8eaacffd25"
      },
      "execution_count": null,
      "outputs": [
        {
          "output_type": "stream",
          "name": "stdout",
          "text": [
            "[1, 4, 9, 16]\n",
            "[3, 4]\n",
            "10\n"
          ]
        }
      ]
    },
    {
      "cell_type": "markdown",
      "source": [
        "#####***Why Map***"
      ],
      "metadata": {
        "id": "UToOPY5h3-_8"
      }
    },
    {
      "cell_type": "code",
      "source": [
        "import time\n",
        "\n",
        "# https://www.nytimes.com/live/2022/02/21/world/ukraine-russia-putin-biden?\n",
        "paragraph = \"\"\"\n",
        "The United States and allied nations sought to isolate Russia on Monday at an emergency United Nations Security Council meeting over the Ukraine crisis, calling Moscow’s recognition of two separatist regions and the deployment of Russian troops to them a blunt defiance of international law that risks war.\n",
        "\n",
        "The unusual late-evening meeting of the Council was requested by Ukraine after President Vladimir V. Putin ordered troops into the so-called Donetsk and Luhansk People’s Republics, escalating a conflict that Western officials warn could explode into one of the biggest armed clashes in Europe since World War II. The U.N. meeting quickly turned into a diplomatic rebuke of Russia’s actions, which were roundly condemned as a violation of the United Nations Charter and the sanctity of national borders.\n",
        "\n",
        "“Russia’s clear attack on Ukraine’s sovereignty and territorial integrity is unprovoked,” Linda Thomas-Greenfield, the American U.N. ambassador, told fellow diplomats. Ridiculing Mr. Putin’s assertion that Russian forces had been deployed as peacekeepers, she said: “This is nonsense. We know what they really are.”\n",
        "\n",
        "Ms. Thomas-Greenfield said Mr. Putin was “testing our international system, he is testing our resolve and seeing how far he can push us all,” and she called his attempt to recreate the Russian empire an antiquated throwback.\n",
        "\n",
        "“Putin wants the world to travel back in time. To a time before the United Nations. To a time when empires ruled the world,” she said. “But the rest of the world has moved forward. It is not 1919. It is 2022.”\n",
        "\n",
        "The representatives of France and Britain issued similar denunciations. “Russia is choosing the path of confrontation,” said France’s ambassador, Nicolas de Rivière. Britain’s ambassador, Barbara Woodward, said: “Russia has brought us to the brink. We urge Russia to step back.”\n",
        "\n",
        "Earlier Monday, Secretary General António Guterres of the United Nations, who has said that he believed the crisis would be resolved without military force, sharply criticized the Russian actions.\n",
        "\n",
        "“The secretary general considers the decision of the Russian Federation to be a violation of the territorial integrity and sovereignty of Ukraine and inconsistent with the principles of the Charter of the United Nations,” Mr. Guterres said in a statement.\n",
        "\n",
        "Even China, which often sides with Russia in disputes at the Security Council, offered an unusually terse comment that suggested some unease with the Russian actions over Ukraine. Ambassador Zhang Jun said “all parties concerned must exercise restraint and avoid any actions that may fuel tensions.”\n",
        "\n",
        "Ambassador Vassily Nebenzia of Russia, who is president of the council for February and was obliged to schedule the meeting, categorically rejected any criticism, an indication that diplomacy over the crisis was going nowhere.\n",
        "\n",
        "He framed his country’s actions as benevolent help to the Russian-speaking inhabitants of the Donetsk and Luhansk regions, known as the Donbas, which have been engaged in a low-level war with Ukraine since 2014. Mr. Nebenzia described them as victims of Ukrainian attacks and subterfuge that violate the Minsk Accords that were aimed at halting that conflict.\n",
        "\n",
        "“We remain open to diplomacy,” Mr. Nebenzia said. “However, allowing a new bloodbath in Donbas is something we’re not prepared to do.”\n",
        "\n",
        "He said the United States and its allies, “instead of forcing Kyiv to implement its obligation, have been egging Ukraine on” and “whipping up unfounded panic about an alleged impending invasion of Ukraine.”\n",
        "\n",
        "Ambassador Sergiy Kyslytsya of Ukraine, who was invited to speak at the meeting although his country is not a member, said he was reluctant to doff his facemask — not because of Covid-19, “but because of the virus that has so far no vaccine — the virus that is spread by the Kremlin.”\n",
        "\n",
        "Mr. Kyslytsya urged Russian officials to “reread, again and again,” the secretary-general’s statement describing the Kremlin actions as a violation of the U.N. charter.\n",
        "\n",
        "The meeting adjourned after 90 minutes, with no action taken. But Ms. Thomas-Greenfield said afterward that members of the council had “sent a unified message — that Russia should not start war.”\n",
        "\n",
        "The request for the meeting was announced hours earlier by the Ukrainian foreign minister, Dmytro Kuleba. Ukraine is not a member of the Council.\n",
        "\n",
        "The request came as President Putin of Russia recognized the two breakaway enclaves in eastern Ukraine, Luhansk and Donetsk, which could help lay the groundwork for Russian military forces to pour into Ukrainian territory.\n",
        "\n",
        "“I officially requested UNSC member states to immediately hold consultations under article 6 of the Budapest memorandum to discuss urgent actions aimed at de-escalation, as well as practical steps to guarantee the security of Ukraine,” Mr. Kuleba wrote in a Twitter post.\n",
        "\n",
        "The Budapest Memorandum refers to a 1994 agreement under which Ukraine, Belarus and Kazakhstan, former republics of the collapsed Soviet Union, gave up their stockpiles of Russian nuclear weapons from the Cold War era and joined the Nuclear Nonproliferation Treaty in exchange for security guarantees. The efficacy of the agreement has long been called into question, however. Ukraine and Western nations have said Russia grossly violated the agreement in 2014 by seizing Ukraine’s Crimean Peninsula.\n",
        "\n",
        "Mr. Guterres’s spokesman, Stéphane Dujarric, told journalists earlier on Monday that the United Nations was allowing for the “temporary relocation” of some nonessential staff and dependents in Ukraine, where the organization has about 1,500 employees, mostly of Ukrainian nationality, and nearly 1,200 dependents. Of the employees, he said, roughly 100 are in the two eastern breakaway regions.\n",
        "\n",
        "— Rick Gladstone\n",
        "\"\"\"\n",
        "\n",
        "def main():\n",
        "    old_list = paragraph.split() * 10_000\n",
        "\n",
        "    print(\"For Loop\")\n",
        "    tic = time.time()\n",
        "    new_list = []\n",
        "    for word in old_list:\n",
        "        new_list.append(word.upper()) \n",
        "    toc = time.time()\n",
        "    print(f'Excution Time : {toc-tic} sec',end=\"\\n\\n\")\n",
        "\n",
        "    print(\"List Comprehension\")\n",
        "    tic = time.time()\n",
        "    new_list = [s.upper() for s in old_list]\n",
        "    toc = time.time()\n",
        "    print(f'Excution Time : {toc-tic} sec',end=\"\\n\\n\")\n",
        "\n",
        "    print(\"Generator Comprehension\")\n",
        "    tic = time.time()\n",
        "    new_list = (s.upper() for s in old_list)\n",
        "    toc = time.time()\n",
        "    print(f'Excution Time : {toc-tic} sec',end=\"\\n\\n\")\n",
        "\n",
        "    print(\"Map\")\n",
        "    tic = time.time()\n",
        "    new_list = map(str.upper, old_list)\n",
        "    toc = time.time()\n",
        "    print(f'Excution Time : {toc-tic} sec')\n",
        "\n",
        "if __name__ == \"__main__\":\n",
        "    main()"
      ],
      "metadata": {
        "colab": {
          "base_uri": "https://localhost:8080/"
        },
        "id": "GIR3rJ874BnE",
        "outputId": "be847728-77e2-4d4f-c4b2-1d4716f92299"
      },
      "execution_count": null,
      "outputs": [
        {
          "output_type": "stream",
          "name": "stdout",
          "text": [
            "For Loop\n",
            "Excution Time : 1.373521089553833 sec\n",
            "\n",
            "List Comprehension\n",
            "Excution Time : 0.9663865566253662 sec\n",
            "\n",
            "Generator Comprehension\n",
            "Excution Time : 0.11078929901123047 sec\n",
            "\n",
            "Map\n",
            "Excution Time : 5.245208740234375e-06 sec\n"
          ]
        }
      ]
    },
    {
      "cell_type": "markdown",
      "source": [
        "####***Section 2 Filter***"
      ],
      "metadata": {
        "id": "zbj47edl2Ur-"
      }
    },
    {
      "cell_type": "code",
      "source": [
        "def main():\n",
        "    # filter : iterable ---> new iterable \n",
        "    a = [1,2,3,4]\n",
        "    a = list(filter(lambda x: x > 2, a)) # iterable ---> list\n",
        "    print(a)\n",
        "\n",
        "if __name__ == \"__main__\":\n",
        "    main()"
      ],
      "metadata": {
        "colab": {
          "base_uri": "https://localhost:8080/"
        },
        "outputId": "dc6adae6-7c6a-4b9c-a3d5-6d8eaacffd25",
        "id": "ugV_IAAH2Ur-"
      },
      "execution_count": null,
      "outputs": [
        {
          "output_type": "stream",
          "name": "stdout",
          "text": [
            "[1, 4, 9, 16]\n",
            "[3, 4]\n",
            "10\n"
          ]
        }
      ]
    },
    {
      "cell_type": "markdown",
      "source": [
        "####***Section 3 Reduce***"
      ],
      "metadata": {
        "id": "950TQvEF2UyY"
      }
    },
    {
      "cell_type": "code",
      "source": [
        "import functools \n",
        "\n",
        "def main():\n",
        "    # reduce : iterable ---> a single cumulative value\n",
        "    a = [1,2,3,4]\n",
        "    a = functools.reduce(lambda x, y: x + y, a)\n",
        "    print(a)\n",
        "\n",
        "if __name__ == \"__main__\":\n",
        "    main()"
      ],
      "metadata": {
        "colab": {
          "base_uri": "https://localhost:8080/"
        },
        "outputId": "dc6adae6-7c6a-4b9c-a3d5-6d8eaacffd25",
        "id": "mpJPRHxT2UyY"
      },
      "execution_count": null,
      "outputs": [
        {
          "output_type": "stream",
          "name": "stdout",
          "text": [
            "[1, 4, 9, 16]\n",
            "[3, 4]\n",
            "10\n"
          ]
        }
      ]
    },
    {
      "cell_type": "markdown",
      "source": [
        "#***PART VI CLASS***"
      ],
      "metadata": {
        "id": "IyoYZcQtHN1U"
      }
    },
    {
      "cell_type": "markdown",
      "source": [
        "###***Chapter 21 class***"
      ],
      "metadata": {
        "id": "tNxjzRB5i8Uq"
      }
    },
    {
      "cell_type": "markdown",
      "source": [
        "####***Section 1 Four Priciples of OOP [blog](https://medium.com/swlh/the-4-pillars-of-oop-in-python-9daaca4c0d13)***"
      ],
      "metadata": {
        "id": "LelD5Z5hth5F"
      }
    },
    {
      "cell_type": "markdown",
      "source": [
        "- Abstraction\n",
        "\n",
        "- Polymorphism\n",
        "\n",
        "- Inheritance\n",
        "\n",
        "- Encapsulation"
      ],
      "metadata": {
        "id": "VsjbKMPEtn8W"
      }
    },
    {
      "cell_type": "markdown",
      "source": [
        "$$\\begin{array}{llllllllll}\n",
        "\\text{Concept}&&\\text{Class}&\\rightarrow&\\text{Object}\\\\\n",
        "\\text{Implementation}&&\\text{Class}&\\rightarrow&\\text{Instance}\\\\\n",
        "\\end{array}$$"
      ],
      "metadata": {
        "id": "FQqthcqdZhUf"
      }
    },
    {
      "cell_type": "markdown",
      "source": [
        "####***Section 1 Constructor and Destructor***"
      ],
      "metadata": {
        "id": "UD9TpviXeX66"
      }
    },
    {
      "cell_type": "markdown",
      "source": [
        "#####***Class without Constructor - Bad Practice***"
      ],
      "metadata": {
        "id": "5zfnA0Mn8L8u"
      }
    },
    {
      "cell_type": "code",
      "source": [
        "class Student():\n",
        "    pass\n",
        "\n",
        "a = Student()\n",
        "a.name = \"Lee\"\n",
        "a.major = \"Math\"\n",
        "print(a, type(a))\n",
        "print(a.name)\n",
        "print(a.major)\n",
        "\n",
        "b = Student()\n",
        "b.name = \"Kim\"\n",
        "b.major = \"Physics\" \n",
        "print(b, type(b))\n",
        "print(b.name)\n",
        "print(b.major)"
      ],
      "metadata": {
        "id": "Ec9eqDR-eDKd"
      },
      "execution_count": null,
      "outputs": []
    },
    {
      "cell_type": "markdown",
      "source": [
        "#####***Class with Constructor - Good Practice***"
      ],
      "metadata": {
        "id": "906MK7ueeDgV"
      }
    },
    {
      "cell_type": "code",
      "source": [
        "class Student():   \n",
        "    def __init__(self, name, major): # constructor\n",
        "        self.name = name\n",
        "        self.major = major\n",
        "\n",
        "a = Student(\"Lee\", \"Math\")\n",
        "print(a, type(a))\n",
        "print(a.name)\n",
        "print(a.major)\n",
        "\n",
        "b = Student(\"Kim\", \"Physics\") \n",
        "print(b, type(b))\n",
        "print(b.name)\n",
        "print(b.major)"
      ],
      "metadata": {
        "colab": {
          "base_uri": "https://localhost:8080/"
        },
        "id": "qpLNiLve8MYn",
        "outputId": "4aafb64f-cc76-4f6c-b0b8-0a44ccc17635"
      },
      "execution_count": null,
      "outputs": [
        {
          "output_type": "stream",
          "name": "stdout",
          "text": [
            "<__main__.Student object at 0x7ff836bba700> <class '__main__.Student'>\n",
            "Lee\n",
            "Math\n",
            "<__main__.Student object at 0x7ff836bba460> <class '__main__.Student'>\n",
            "Kim\n",
            "Physics\n",
            "<__main__.Student object at 0x7ff836bba400> <class '__main__.Student'>\n",
            "Lee\n",
            "Math\n",
            "<__main__.Student object at 0x7ff836bba970> <class '__main__.Student'>\n",
            "Kim\n",
            "Physics\n"
          ]
        }
      ]
    },
    {
      "cell_type": "markdown",
      "source": [
        "#####***Class with Destructor***"
      ],
      "metadata": {
        "id": "2gp1ZZeVfEvK"
      }
    },
    {
      "cell_type": "code",
      "source": [
        "# sorce https://blog.hexabrain.net/285\n",
        "class IceCream:\n",
        "    def __init__(self, name, price): # constructor\n",
        "        self.name = name\n",
        "        self.price = price\n",
        "        print(self.name + \"의 가격은 \" + str(price) + \"원 입니다.\")\n",
        "    # https://stackoverflow.com/questions/1481488/what-is-the-del-method-and-how-do-i-call-it\n",
        "    # __del__ is a finalizer. \n",
        "    # It is called when an object is garbage collected which happens \n",
        "    # at some point after all references to the object have been deleted.\n",
        "    def __del__(self): # destructor\n",
        "        print(self.name + \" 객체가 소멸합니다.\")\n",
        "\t\n",
        "obj = IceCream(\"월드콘\", 1000)\n",
        "del obj"
      ],
      "metadata": {
        "colab": {
          "base_uri": "https://localhost:8080/"
        },
        "id": "wF6T8LQDfE-J",
        "outputId": "ded5cad6-375a-4249-d69c-45acd63eff72"
      },
      "execution_count": null,
      "outputs": [
        {
          "output_type": "stream",
          "name": "stdout",
          "text": [
            "월드콘의 가격은 1000원 입니다.\n",
            "월드콘 객체가 소멸합니다.\n"
          ]
        }
      ]
    },
    {
      "cell_type": "markdown",
      "source": [
        "###### attributes and methods"
      ],
      "metadata": {
        "id": "DqV1JK_TI3ww"
      }
    },
    {
      "cell_type": "markdown",
      "source": [
        "attributes and methods of numpy array"
      ],
      "metadata": {
        "id": "8xKCxa6OEvhT"
      }
    },
    {
      "cell_type": "code",
      "source": [
        "import numpy as np\n",
        "a = np.array([1,2,3])\n",
        "print(a.min()) # <--- method excuted\n",
        "print(a.min) # <--- method itself\n",
        "print(a.shape) # <--- attribute"
      ],
      "metadata": {
        "colab": {
          "base_uri": "https://localhost:8080/"
        },
        "id": "xk3NruPWEwCK",
        "outputId": "82683b0a-0dc2-4c16-cc81-c9f0e2aa6de7"
      },
      "execution_count": null,
      "outputs": [
        {
          "output_type": "stream",
          "name": "stdout",
          "text": [
            "1\n",
            "<built-in method min of numpy.ndarray object at 0x7f384234dc30>\n",
            "(3,)\n"
          ]
        }
      ]
    },
    {
      "cell_type": "markdown",
      "source": [
        "attributes and methods"
      ],
      "metadata": {
        "id": "iuUjO4PlEwMy"
      }
    },
    {
      "cell_type": "code",
      "source": [
        "class Student():\n",
        "    \n",
        "    def __init__(self, name, major, subject): # <--- method, dunder method\n",
        "        self.name = name # <--- attribute\n",
        "        self.major = major # <--- attribute\n",
        "        self.subject = subject # <--- attribute\n",
        "        \n",
        "    def add(self, item): # <--- method\n",
        "        if item not in self.subject: \n",
        "            self.subject += [item]\n",
        "            \n",
        "    def drop(self, item): # <--- method\n",
        "        if item in self.subject: \n",
        "            self.subject.remove(item) \n",
        "\n",
        "a = Student(\"Lee\", \"Math\", [\"Probability\", \"Linear Algebra\"])\n",
        "print(a.subject)\n",
        "\n",
        "a.add(\"Statistics\")\n",
        "print(a.subject)\n",
        "\n",
        "a.drop(\"Probability\")\n",
        "print(a.subject)"
      ],
      "metadata": {
        "colab": {
          "base_uri": "https://localhost:8080/"
        },
        "id": "O9Gfo0vVI3-_",
        "outputId": "6a72415b-0ac8-4024-e663-33c2021e4ef0"
      },
      "execution_count": null,
      "outputs": [
        {
          "output_type": "stream",
          "name": "stdout",
          "text": [
            "['Probability', 'Linear Algebra']\n",
            "['Probability', 'Linear Algebra', 'Statistics']\n",
            "['Linear Algebra', 'Statistics']\n"
          ]
        }
      ]
    },
    {
      "cell_type": "markdown",
      "source": [
        "###### ***Simulation - Monty Hall*** [한국어](https://www.youtube.com/watch?v=bA2MU-HujOw&list=PLXziV1DL41oiqZKMHCvmddFlbX769g8yv)"
      ],
      "metadata": {
        "id": "PnxWCfSu5dED"
      }
    },
    {
      "cell_type": "code",
      "source": [
        "import matplotlib.pyplot as plt\n",
        "import numpy as np\n",
        "import random\n",
        "\n",
        "\n",
        "class Monty:\n",
        "    \n",
        "    def __init__(self):\n",
        "        self.doors = [0, 1, 2]\n",
        "        self.car_position = random.choice(self.doors)\n",
        "        self.first_choice = None\n",
        "        self.host_choice = None\n",
        "        self.final_choice = None\n",
        "        \n",
        "    def first_round(self):\n",
        "        self.first_choice = int(input(f'Choose one from {self.doors} : '))\n",
        "        print(f'You choose Door {self.first_choice} as your first choice.', end=\"\\n\\n\")\n",
        "    \n",
        "    def host_round(self):\n",
        "        host_list = [0, 1, 2]\n",
        "        host_list.remove(self.car_position)\n",
        "        try:\n",
        "            host_list.remove(self.first_choice)\n",
        "        except ValueError:\n",
        "            pass\n",
        "        self.host_choice = random.choice(host_list)\n",
        "        print(f'Host open Door {self.host_choice} and show a goat.', end=\"\\n\\n\")\n",
        "                \n",
        "    def final_round(self):\n",
        "        player_list = [0, 1, 2]\n",
        "        player_list.remove(self.host_choice)\n",
        "        self.final_choice = int(input(f'Choose one from {player_list} : '))\n",
        "        print(f'You choose Door {self.final_choice} as your final choice.', end=\"\\n\\n\")\n",
        "    \n",
        "    def open_final_round_door(self):\n",
        "        print(f'Let\\'s open Door {self.final_choice}.')\n",
        "        if self.final_choice == self.car_position:\n",
        "            print('Congrat! You have a brand new car!', end=\"\\n\\n\")\n",
        "        else:\n",
        "            print('Sorry, you have a goat.', end=\"\\n\\n\")\n",
        "            \n",
        "    def run(self):\n",
        "        self.first_round() \n",
        "        self.host_round()\n",
        "        self.final_round()\n",
        "        self.open_final_round_door()\n",
        "        \n",
        "        \n",
        "        \n",
        "def main():\n",
        "    a = Monty()\n",
        "    a.run()\n",
        "\n",
        "    \n",
        "if __name__ == \"__main__\":\n",
        "    main()"
      ],
      "metadata": {
        "colab": {
          "base_uri": "https://localhost:8080/"
        },
        "id": "wr_XTXCM5mvJ",
        "outputId": "0270c3d5-0e76-4f54-8e00-bb760b18e308"
      },
      "execution_count": null,
      "outputs": [
        {
          "output_type": "stream",
          "name": "stdout",
          "text": [
            "Choose one from [0, 1, 2] : 2\n",
            "You choose Door 2 as your first choice.\n",
            "\n",
            "Host open Door 0 and show a goat.\n",
            "\n",
            "Choose one from [1, 2] : 2\n",
            "You choose Door 2 as your final choice.\n",
            "\n",
            "Let's open Door 2.\n",
            "Sorry, you have a goat.\n",
            "\n"
          ]
        }
      ]
    },
    {
      "cell_type": "code",
      "source": [
        "import matplotlib.pyplot as plt\n",
        "import numpy as np\n",
        "import random\n",
        "\n",
        "\n",
        "class MontyStick:\n",
        "    \n",
        "    def __init__(self):\n",
        "        self.doors = [0, 1, 2]\n",
        "        self.car_position = random.choice(self.doors)\n",
        "        self.final_choice = random.choice(self.doors)\n",
        "            \n",
        "    def run(self):\n",
        "        if self.final_choice == self.car_position:\n",
        "            return 1\n",
        "        else:\n",
        "            return 0\n",
        "        \n",
        "        \n",
        "def main():\n",
        "    n_tries = 1000\n",
        "    results = []\n",
        "    for _ in range(n_tries):\n",
        "        results.append(MontyStick().run())\n",
        "\n",
        "    results = np.array(results)\n",
        "    cum_success_rates = results.cumsum() / np.arange(1, n_tries+1)\n",
        "    \n",
        "    fig, ax = plt.subplots(figsize=(12,4))\n",
        "    ax.plot(cum_success_rates)\n",
        "    ax.plot(np.ones_like(cum_success_rates) * (1/3), '--r')\n",
        "    ax.set_xlabel(\"Number of Trials\")\n",
        "    ax.set_ylabel(\"Cumulative Success Rate\")\n",
        "    ax.set_ylim(0,1)\n",
        "    ax.spines['top'].set_visible(False)\n",
        "    ax.spines['right'].set_visible(False)\n",
        "    plt.show()\n",
        "\n",
        "    \n",
        "if __name__ == \"__main__\":\n",
        "    main()"
      ],
      "metadata": {
        "colab": {
          "base_uri": "https://localhost:8080/",
          "height": 283
        },
        "id": "rfP4hDVt5m6Y",
        "outputId": "3fc513f7-f542-4cce-feaf-f122ba5488f7"
      },
      "execution_count": null,
      "outputs": [
        {
          "output_type": "display_data",
          "data": {
            "text/plain": [
              "<Figure size 864x288 with 1 Axes>"
            ],
            "image/png": "[encoded data removed]"
          },
          "metadata": {
            "needs_background": "light"
          }
        }
      ]
    },
    {
      "cell_type": "code",
      "source": [
        "import matplotlib.pyplot as plt\n",
        "import numpy as np\n",
        "import random\n",
        "\n",
        "\n",
        "class MontySwitch:\n",
        "    \n",
        "    def __init__(self):\n",
        "        self.doors = [0, 1, 2]\n",
        "        self.car_position = random.choice(self.doors)\n",
        "        self.first_choice = None\n",
        "        self.host_choice = None\n",
        "        self.final_choice = None\n",
        "        \n",
        "    def first_round(self):\n",
        "        self.first_choice = random.choice(self.doors)\n",
        "        \n",
        "    def host_round(self):\n",
        "        host_list = [0, 1, 2]\n",
        "        host_list.remove(self.car_position)\n",
        "        try:\n",
        "            host_list.remove(self.first_choice)\n",
        "        except ValueError:\n",
        "            pass\n",
        "        self.host_choice = random.choice(host_list)\n",
        "        \n",
        "    def final_round(self):\n",
        "        player_list = [0, 1, 2]\n",
        "        player_list.remove(self.first_choice)\n",
        "        player_list.remove(self.host_choice)\n",
        "        self.final_choice = player_list[0]\n",
        "        \n",
        "    def open_final_round_door(self):\n",
        "        if self.final_choice == self.car_position:\n",
        "            return 1\n",
        "        else:\n",
        "            return 0\n",
        "            \n",
        "    def run(self):\n",
        "        self.first_round() \n",
        "        self.host_round()\n",
        "        self.final_round()\n",
        "        return self.open_final_round_door()\n",
        "    \n",
        "    \n",
        "def main():\n",
        "    n_tries = 1000\n",
        "    results = []\n",
        "    for _ in range(n_tries):\n",
        "        results.append(MontySwitch().run())\n",
        "\n",
        "    results = np.array(results)\n",
        "    cum_success_rates = results.cumsum() / np.arange(1, n_tries+1) \n",
        "    \n",
        "    fig, ax = plt.subplots(figsize=(12,4))\n",
        "    ax.plot(cum_success_rates)\n",
        "    ax.plot(np.ones_like(cum_success_rates) * (2/3), '--r')\n",
        "    ax.set_xlabel(\"Number of Trials\")\n",
        "    ax.set_ylabel(\"Cumulative Success Rate\")\n",
        "    ax.set_ylim(0,1)\n",
        "    ax.spines['top'].set_visible(False)\n",
        "    ax.spines['right'].set_visible(False)\n",
        "    plt.show()\n",
        "\n",
        "    \n",
        "if __name__ == \"__main__\":\n",
        "    main()        "
      ],
      "metadata": {
        "colab": {
          "base_uri": "https://localhost:8080/",
          "height": 283
        },
        "id": "hN8rquRT5nGQ",
        "outputId": "63a98a60-9fe4-4d1f-f3dc-d7f155525a8c"
      },
      "execution_count": null,
      "outputs": [
        {
          "output_type": "display_data",
          "data": {
            "text/plain": [
              "<Figure size 864x288 with 1 Axes>"
            ],
            "image/png": "[encoded data removed]"
          },
          "metadata": {
            "needs_background": "light"
          }
        }
      ]
    },
    {
      "cell_type": "markdown",
      "source": [
        "###### class attributes and class methods"
      ],
      "metadata": {
        "id": "6ckStUXhLS-p"
      }
    },
    {
      "cell_type": "code",
      "source": [
        "class Student():\n",
        "    students_list = [] # <--- class attribute\n",
        "    mandatory = [] # <--- class attribute\n",
        "    \n",
        "    def __init__(self, name, major, subject): \n",
        "        self.name = name \n",
        "        self.major = major \n",
        "        self.subject = subject \n",
        "\n",
        "        Student.students_list.append(self)\n",
        "        \n",
        "    def add(self, item): \n",
        "        if item not in self.subject: \n",
        "            self.subject += [item]\n",
        "            \n",
        "    def drop(self, item): \n",
        "        if item in self.subject: \n",
        "            self.subject.remove(item) \n",
        "\n",
        "    @classmethod # <--- decorator\n",
        "    def add_mandatory(cls, item): # <--- class method\n",
        "        if item not in cls.mandatory: \n",
        "            cls.mandatory += [item]\n",
        "        for self in cls.students_list:\n",
        "            self.add(item)  \n",
        "            \n",
        "    @classmethod # <--- decorator\n",
        "    def drop_mandatory(cls, item): # <--- class method\n",
        "        if item in cls.mandatory:\n",
        "            cls.mandatory.remove(item)\n",
        "            for self in cls.students_list:\n",
        "                self.drop(item) \n",
        "\n",
        "a = Student(\"Lee\", \"Math\", [\"Probability\", \"Linear Algebra\"])\n",
        "b = Student(\"Kim\", \"Physics\", [\"Quantum Mechanics\", \"Optics\"])\n",
        "print(b.subject)\n",
        "\n",
        "a.add_mandatory(\"Chapel\")\n",
        "print(b.subject)\n",
        "\n",
        "a.add_mandatory(\"Yonsei Spirit\")\n",
        "print(b.subject)\n",
        "\n",
        "a.drop_mandatory(\"Chapel\")\n",
        "print(b.subject)"
      ],
      "metadata": {
        "colab": {
          "base_uri": "https://localhost:8080/"
        },
        "id": "DBLOxBJ2LTV-",
        "outputId": "790e3872-b4c0-4067-93cf-219894af007b"
      },
      "execution_count": null,
      "outputs": [
        {
          "output_type": "stream",
          "name": "stdout",
          "text": [
            "['Quantum Mechanics', 'Optics']\n",
            "['Quantum Mechanics', 'Optics', 'Chapel']\n",
            "['Quantum Mechanics', 'Optics', 'Chapel', 'Yonsei Spirit']\n",
            "['Quantum Mechanics', 'Optics', 'Yonsei Spirit']\n"
          ]
        }
      ]
    },
    {
      "cell_type": "markdown",
      "source": [
        "###### static methods"
      ],
      "metadata": {
        "id": "kn4WPf4wYzLz"
      }
    },
    {
      "cell_type": "code",
      "source": [
        "class Student():\n",
        "      \n",
        "    def __init__(self, name, major):\n",
        "        self.name = name\n",
        "        self.major = major \n",
        "            \n",
        "    @staticmethod\n",
        "    def is_workday(day):\n",
        "        from datetime import datetime\n",
        "        day = datetime.strptime(day, '%Y-%m-%d')\n",
        "        if (day.weekday()==5) or (day.weekday()==6):\n",
        "            return False\n",
        "        return True\n",
        "\n",
        "a = Student(\"Lee\", \"Math\")\n",
        "for i in range(10,20):\n",
        "    print(a.is_workday(\"2022-10-{}\".format(i)))"
      ],
      "metadata": {
        "colab": {
          "base_uri": "https://localhost:8080/"
        },
        "id": "PWHCF74YYzlS",
        "outputId": "147eba53-d0b6-4986-ffdf-113f42376aea"
      },
      "execution_count": null,
      "outputs": [
        {
          "output_type": "stream",
          "name": "stdout",
          "text": [
            "True\n",
            "True\n",
            "True\n",
            "True\n",
            "True\n",
            "False\n",
            "False\n",
            "True\n",
            "True\n",
            "True\n"
          ]
        }
      ]
    },
    {
      "cell_type": "markdown",
      "source": [
        "###### dunder methods"
      ],
      "metadata": {
        "id": "j02X0Yuk_foR"
      }
    },
    {
      "cell_type": "code",
      "source": [
        "class Student():\n",
        "    \n",
        "    def __init__(self, name, subject):\n",
        "        self.name = name\n",
        "        self.subject = subject\n",
        "        \n",
        "    def __add__(self, other): # +\n",
        "        for item in other.subject:\n",
        "            if item not in self.subject:\n",
        "                self.subject.append(item)\n",
        "        \n",
        "    def __sub__(self, other): # - \n",
        "        for item in other.subject:\n",
        "            if item in self.subject:\n",
        "                self.subject.remove(item)\n",
        "        \n",
        "    #def __mul__(self, other): # *\n",
        "        \n",
        "    #def __truediv__(self, other): # /\n",
        "        \n",
        "    def __len__(self): # len\n",
        "        return len(self.subject)\n",
        "\n",
        "a = Student(\"Lee\", [\"Probability\", \"Linear Algebra\"])\n",
        "b = Student(\"Kim\", [\"Quantum Mechanics\", \"Optics\"])\n",
        "a + b\n",
        "print(a.subject)"
      ],
      "metadata": {
        "colab": {
          "base_uri": "https://localhost:8080/"
        },
        "id": "Pu91a39X_fy4",
        "outputId": "b08cd37a-2608-4e0d-de70-b0d5ae4db47f"
      },
      "execution_count": null,
      "outputs": [
        {
          "output_type": "stream",
          "name": "stdout",
          "text": [
            "['Probability', 'Linear Algebra', 'Quantum Mechanics', 'Optics']\n"
          ]
        }
      ]
    },
    {
      "cell_type": "markdown",
      "source": [
        "###### dunder repr and str"
      ],
      "metadata": {
        "id": "wLrZmSXqVChL"
      }
    },
    {
      "cell_type": "code",
      "source": [
        "# with __repr__ and __str__\n",
        "class User:\n",
        "    def __init__(self, name):\n",
        "        self.username = name\n",
        "    def __repr__(self):\n",
        "        return f\"User({self.username})\"\n",
        "    def __str__(self):\n",
        "        return f\"User class instance with username {self.username}\"\n",
        "        \n",
        "Tom = User(\"Tom Brown\")\n",
        "print(Tom) # <--- __str__\n",
        "print(repr(Tom)) # <--- ___repr___\n",
        "print(str(Tom)) # <--- __str__\n",
        "\n",
        "\n",
        "# with __repr__\n",
        "# if __str__ is not available, __repr__ is used\n",
        "class User:\n",
        "    def __init__(self, name):\n",
        "        self.username = name\n",
        "    def __repr__(self):\n",
        "        return f\"User({self.username})\"\n",
        "        \n",
        "Tom = User(\"Tom Brown\")\n",
        "print(Tom) \n",
        "print(repr(Tom))\n",
        "print(str(Tom))\n",
        "\n",
        "\n",
        "# with __str__\n",
        "class User:\n",
        "    def __init__(self, name):\n",
        "        self.username = name\n",
        "    def __str__(self):\n",
        "        return f\"User class instance with username {self.username}\"\n",
        "        \n",
        "Tom = User(\"Tom Brown\")\n",
        "print(Tom)\n",
        "print(repr(Tom))\n",
        "print(str(Tom))\n",
        "\n",
        "\n",
        "# without __repr__ and __str__\n",
        "class User:\n",
        "    def __init__(self, name):\n",
        "        self.username = name\n",
        "        \n",
        "Tom = User(\"Tom Brown\")\n",
        "print(Tom) \n",
        "print(repr(Tom)) \n",
        "print(str(Tom)) "
      ],
      "metadata": {
        "colab": {
          "base_uri": "https://localhost:8080/"
        },
        "id": "UVT9_o15VCw7",
        "outputId": "89ac57b1-87d2-491e-e1ca-84b3bfbae7b5"
      },
      "execution_count": null,
      "outputs": [
        {
          "output_type": "stream",
          "name": "stdout",
          "text": [
            "<__main__.User object at 0x7f2fc3916d00>\n",
            "<__main__.User object at 0x7f2fc3916d00>\n",
            "<__main__.User object at 0x7f2fc3916d00>\n",
            "User(Tom Brown)\n",
            "User(Tom Brown)\n",
            "User(Tom Brown)\n",
            "User class instance with username Tom Brown\n",
            "<__main__.User object at 0x7f2fc3916ca0>\n",
            "User class instance with username Tom Brown\n",
            "User class instance with username Tom Brown\n",
            "User(Tom Brown)\n",
            "User class instance with username Tom Brown\n"
          ]
        }
      ]
    },
    {
      "cell_type": "markdown",
      "source": [
        "####***Section 2 Instance Variable vs Class Variable [eng](https://www.youtube.com/watch?v=RSQjxL5WRNM)***"
      ],
      "metadata": {
        "id": "taDxR-HjwPaK"
      }
    },
    {
      "cell_type": "code",
      "source": [
        "class Student:\n",
        "    \n",
        "    university = 'Yonsei' # class variable\n",
        "    num_of_students = 0 # class variable\n",
        "    \n",
        "    def __init__(self, name):\n",
        "        self.name = name # instance variable\n",
        "\n",
        "        Student.num_of_students += 1\n",
        "\n",
        "def main():\n",
        "    s1 = Student(\"Sung Lee\") \n",
        "    print(f\"{s1.name = }\")\n",
        "    print(f\"{s1.university = }\")\n",
        "    print(f\"{s1.num_of_students = }\")\n",
        "    print(f\"{Student.university = }\")\n",
        "    print(f\"{Student.num_of_students = }\", end=\"\\n\\n\")\n",
        "\n",
        "    s2 = Student(\"Sook Kim\") \n",
        "    print(f\"{s2.name = }\")\n",
        "    print(f\"{s2.university = }\")\n",
        "    print(f\"{s2.num_of_students = }\")\n",
        "    print(f\"{Student.university = }\")\n",
        "    print(f\"{Student.num_of_students = }\", end=\"\\n\\n\")\n",
        "\n",
        "if __name__ == \"__main__\":\n",
        "    main()"
      ],
      "metadata": {
        "colab": {
          "base_uri": "https://localhost:8080/"
        },
        "id": "2BiaF3eOwvin",
        "outputId": "c8cb6c85-e624-4860-e2cd-138b63080d9e"
      },
      "execution_count": null,
      "outputs": [
        {
          "output_type": "stream",
          "name": "stdout",
          "text": [
            "s1.name = 'Sung Lee'\n",
            "s1.university = 'Yonsei'\n",
            "s1.num_of_students = 1\n",
            "Student.university = 'Yonsei'\n",
            "Student.num_of_students = 1\n",
            "\n",
            "s2.name = 'Sook Kim'\n",
            "s2.university = 'Yonsei'\n",
            "s2.num_of_students = 2\n",
            "Student.university = 'Yonsei'\n",
            "Student.num_of_students = 2\n",
            "\n"
          ]
        }
      ]
    },
    {
      "cell_type": "markdown",
      "source": [
        "####***Section 2 Dunder repr and Dunder str***"
      ],
      "metadata": {
        "id": "bSaNNj4UzH68"
      }
    },
    {
      "cell_type": "code",
      "source": [
        "# without __repr__ and __str__\n",
        "class User:\n",
        "    def __init__(self, name):\n",
        "        self.username = name\n",
        "        \n",
        "def main():\n",
        "    Tom = User(\"Tom Brown\")\n",
        "    print(Tom)\n",
        "    \n",
        "if __name__ == \"__main__\":\n",
        "    main()"
      ],
      "metadata": {
        "colab": {
          "base_uri": "https://localhost:8080/"
        },
        "outputId": "a61fa32e-0f90-4dec-ee4a-57b4f9497309",
        "id": "qTVsxqNUzH68"
      },
      "execution_count": 12,
      "outputs": [
        {
          "output_type": "stream",
          "name": "stdout",
          "text": [
            "<__main__.User object at 0x7fa5290828b0>\n"
          ]
        }
      ]
    },
    {
      "cell_type": "code",
      "source": [
        "# with __repr__\n",
        "class User:\n",
        "    def __init__(self, name):\n",
        "        self.username = name\n",
        "    def __repr__(self):\n",
        "        return f\"User({self.username})\"\n",
        "        \n",
        "def main():\n",
        "    Tom = User(\"Tom Brown\")\n",
        "    print(Tom)\n",
        "    print(repr(Tom))\n",
        "    print(str(Tom))\n",
        "    \n",
        "if __name__ == \"__main__\":\n",
        "    main()"
      ],
      "metadata": {
        "colab": {
          "base_uri": "https://localhost:8080/"
        },
        "id": "JorvvoIJzhDj",
        "outputId": "a3bd2a4c-7710-4d8f-bff0-4c051a162ee1"
      },
      "execution_count": 13,
      "outputs": [
        {
          "output_type": "stream",
          "name": "stdout",
          "text": [
            "User(Tom Brown)\n",
            "User(Tom Brown)\n",
            "User(Tom Brown)\n"
          ]
        }
      ]
    },
    {
      "cell_type": "code",
      "source": [
        "# with __repr__ and __str__\n",
        "class User:\n",
        "    def __init__(self, name):\n",
        "        self.username = name\n",
        "    def __repr__(self):\n",
        "        return f\"User({self.username})\"\n",
        "    def __str__(self):\n",
        "        return f\"User class instance with username {self.username}\"\n",
        "        \n",
        "def main():\n",
        "    Tom = User(\"Tom Brown\")\n",
        "    print(Tom)\n",
        "    print(repr(Tom))\n",
        "    print(str(Tom))\n",
        "    \n",
        "if __name__ == \"__main__\":\n",
        "    main()"
      ],
      "metadata": {
        "colab": {
          "base_uri": "https://localhost:8080/"
        },
        "id": "afpVWqBezhPa",
        "outputId": "89376ef6-fb1e-4139-c465-30c4df873177"
      },
      "execution_count": 14,
      "outputs": [
        {
          "output_type": "stream",
          "name": "stdout",
          "text": [
            "User class instance with username Tom Brown\n",
            "User(Tom Brown)\n",
            "User class instance with username Tom Brown\n"
          ]
        }
      ]
    },
    {
      "cell_type": "markdown",
      "source": [
        "###***Chaper Logging***"
      ],
      "metadata": {
        "id": "iuO5j2Xqh4A8"
      }
    },
    {
      "cell_type": "markdown",
      "source": [
        "#####***Built-In Function - assert***"
      ],
      "metadata": {
        "id": "Catw-feQh4A9"
      }
    },
    {
      "cell_type": "code",
      "source": [
        "def main():\n",
        "    c = 3\n",
        "    d = 3  \n",
        "\n",
        "    assert(c == d) \n",
        "\n",
        "if __name__ == \"__main__\":\n",
        "    main()"
      ],
      "metadata": {
        "id": "xqaWYKpeh4A9"
      },
      "execution_count": null,
      "outputs": []
    },
    {
      "cell_type": "code",
      "source": [
        "def main():\n",
        "    c = 3\n",
        "    d = 4  \n",
        "\n",
        "    try:\n",
        "        assert(c == d) \n",
        "    except AssertionError:\n",
        "        print(\"Assertion Error!!!\")\n",
        "\n",
        "if __name__ == \"__main__\":\n",
        "    main()"
      ],
      "metadata": {
        "colab": {
          "base_uri": "https://localhost:8080/"
        },
        "id": "7SJO9H2ciTLp",
        "outputId": "817f25d9-d6af-4f8c-9d09-3e02ebd7a3eb"
      },
      "execution_count": null,
      "outputs": [
        {
          "output_type": "stream",
          "name": "stdout",
          "text": [
            "Assertion Error!!!\n"
          ]
        }
      ]
    },
    {
      "cell_type": "markdown",
      "source": [
        "#***PART VII ALGORITHM***"
      ],
      "metadata": {
        "id": "Gk0I5ZJSHTs6"
      }
    },
    {
      "cell_type": "markdown",
      "source": [
        "###***Chaper Sort***"
      ],
      "metadata": {
        "id": "dMEnCvnLiaga"
      }
    },
    {
      "cell_type": "markdown",
      "source": [
        "#####***Bubble Sort [eng](https://www.youtube.com/watch?v=ppmIOUIz4uI)***"
      ],
      "metadata": {
        "id": "NcEDyNezigKs"
      }
    },
    {
      "cell_type": "code",
      "source": [
        "def bubble_sort(lst):\n",
        "    n = len(lst)\n",
        "    for i in range(n-1,0,-1):\n",
        "        for j in range(i):\n",
        "            if lst[j] > lst[j+1]:\n",
        "                lst[j], lst[j+1] = lst[j+1], lst[j]\n",
        "\n",
        "def main():\n",
        "    lst = [5, 3, 8, 6, 7, 2]\n",
        "    bubble_sort(lst)\n",
        "    print(lst)\n",
        "\n",
        "if __name__ == \"__main__\":\n",
        "    main()"
      ],
      "metadata": {
        "colab": {
          "base_uri": "https://localhost:8080/"
        },
        "outputId": "61447f99-2ee2-4a17-a333-5328dc6696a9",
        "id": "qhPbEcnQw9qv"
      },
      "execution_count": null,
      "outputs": [
        {
          "output_type": "stream",
          "name": "stdout",
          "text": [
            "[2, 3, 5, 6, 7, 8]\n"
          ]
        }
      ]
    },
    {
      "cell_type": "markdown",
      "source": [
        "###***Reference***"
      ],
      "metadata": {
        "id": "ob9KzODq8Rj2"
      }
    },
    {
      "cell_type": "markdown",
      "source": [
        "[What's the Difference Between Interpreted Languages and Compiled Languages?](https://www.youtube.com/watch?v=KsZLPTRSleI)\n",
        "\n",
        "Introduction to Programming in Python [youtube](https://www.youtube.com/watch?v=FxIBOYd_TUg) [github](https://github.com/Tebs-Lab/intro-to-programming)"
      ],
      "metadata": {
        "id": "_HyuxLJi8R10"
      }
    }
  ]
}