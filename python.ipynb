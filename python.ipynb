{
  "nbformat": 4,
  "nbformat_minor": 0,
  "metadata": {
    "colab": {
      "provenance": [],
      "collapsed_sections": [
        "xU0Rd88yPWfI",
        "YbIZ7vrv4zcq",
        "IHycvmPtJrgV",
        "DCW18fxMTDlx",
        "gXPHuasv97fF",
        "pR6FNaPut0Pc",
        "id0UJ0b5tdJN",
        "S_ryPDf-wcXD",
        "Fo0uTtVav-mK",
        "JinndiB5Ufa6",
        "mjIaEF81U5Rr",
        "aDetvAjWTj4l",
        "9_sCZvB8xHxC",
        "dyK-6rsqxuz7",
        "ZS75oJ3ZdBfe",
        "g2QVBLX1kggl",
        "UwlxNnjQ5iJJ",
        "Po1FIG3z3B1A",
        "-oF_zyrm3aBi",
        "ZRXx8IoPdB3O",
        "B0Y21y6za5q_",
        "ql5xj2vbClAW",
        "hZn3-lu1dCDa",
        "x1pRa9HB-B3k",
        "pVcSKwqW-tCx",
        "YEIepUZgx7l7",
        "cfDBIMQxSHS7",
        "VcuyFmSpbfP9",
        "3usZ3AUiKQXC",
        "QnXAxdQIK7MY",
        "Xx-OgNTUGU3W",
        "d0MtNnY0bju7",
        "2KP1cDAOMHXa",
        "xB4iKlk7fwhd",
        "BStpZvfx-NFr",
        "SiQ_l2HO4h6c",
        "FTjglc_Y4ilm",
        "6rfOmoOF4ySj",
        "6sfK_SbEOyHu",
        "Phtv4WimKt1X",
        "QeujAIz-a5ng",
        "a7sYAIzc-L-n",
        "xmc69pd5-c6A",
        "noGeW1kXevGT",
        "6Redxznxi3cv",
        "IBxetvcU0PYV",
        "LV_UXtC8c1ZO",
        "S4wC2lnL-Sqh",
        "IK7Z4q6--lf1",
        "jhA2rEUT-OJ6",
        "XBrFKT2q3NR4",
        "Kd249pzT4SLy",
        "P70tvvUymfjy",
        "4RqcLJ4Mn7fd",
        "aKioEURPnsHx",
        "2rukjkTWgXkr",
        "9s73D3ExYy_Q",
        "vyoGeBkpe9EZ",
        "8ufOEEXplRiL",
        "rRVTEq6yy7YE",
        "r22WHm8S1BoF",
        "ZNUp0UZcP08y",
        "dWOTrOUe9NCP",
        "THTvVXj_gZJ0",
        "NL9gKqFQKqAy",
        "il5eT_Pj2yvs",
        "ux9Lu2IO_1vt",
        "gw1v-_eNlpII",
        "vh1Hk88Uy3yC",
        "4_q-8nDl5Ecw",
        "PeFfhXtajY7d",
        "qgU6fh9nv8mu",
        "cuOe_QAMxaNm",
        "Yi67-_DpY-44",
        "udx4Wl5_dfC-",
        "CgVgE0ksZNPk",
        "i85GncRmZyEg",
        "ZQXPb8D2cRHE",
        "ezF63wt8-31B",
        "2OiIU-ZA-5-Z",
        "2JYqqelRiBaK",
        "5zfnA0Mn8L8u",
        "PnxWCfSu5dED",
        "6ckStUXhLS-p",
        "kn4WPf4wYzLz"
      ],
      "authorship_tag": "ABX9TyM4XGiciQSWQ+JEYGTWx2j9",
      "include_colab_link": true
    },
    "kernelspec": {
      "name": "python3",
      "display_name": "Python 3"
    },
    "language_info": {
      "name": "python"
    }
  },
  "cells": [
    {
      "cell_type": "markdown",
      "metadata": {
        "id": "view-in-github",
        "colab_type": "text"
      },
      "source": [
        "<a href=\"https://colab.research.google.com/github/SungchulLee/colab/blob/main/python.ipynb\" target=\"_parent\"><img src=\"https://colab.research.google.com/assets/colab-badge.svg\" alt=\"Open In Colab\"/></a>"
      ]
    },
    {
      "cell_type": "markdown",
      "source": [
        "###***Chapter 1 Intro***"
      ],
      "metadata": {
        "id": "xU0Rd88yPWfI"
      }
    },
    {
      "cell_type": "markdown",
      "source": [
        "***Python Data Science Ecosystem***\n",
        "\n",
        "<img src=\"https://yqintl.alicdn.com/f5fb28c5dd4c1571db53528b6ad21fe707fe7b8d.png\">\n",
        "\n",
        "Sorce [Mars – Matrix-based Universal Distributed Computing Framework](https://www.alibabacloud.com/blog/mars-matrix-based-universal-distributed-computing-framework_594606)"
      ],
      "metadata": {
        "id": "86BYqWKrPWn4"
      }
    },
    {
      "cell_type": "markdown",
      "source": [
        "######***How to install Python on Mac*** [한국어](https://www.youtube.com/watch?v=c7vUAKnyf4E&list=PLXziV1DL41oiqZKMHCvmddFlbX769g8yv)"
      ],
      "metadata": {
        "id": "Z8Ood1XYeMt8"
      }
    },
    {
      "cell_type": "markdown",
      "source": [
        "######***How to install Python on Window*** [한국어](https://www.youtube.com/watch?v=pfXmrwXp3Uk&list=PLXziV1DL41oiqZKMHCvmddFlbX769g8yv)"
      ],
      "metadata": {
        "id": "93eW2PQvegTY"
      }
    },
    {
      "cell_type": "markdown",
      "source": [
        "######***How to use Jupyter Notebook, Jupyter Lab, Google Colab and Kaggle!*** [english](https://www.youtube.com/watch?v=5pf0_bpNbkw)"
      ],
      "metadata": {
        "id": "OxM6guBY44ha"
      }
    },
    {
      "cell_type": "markdown",
      "source": [
        "###***Chapter 2 python is oop***"
      ],
      "metadata": {
        "id": "YbIZ7vrv4zcq"
      }
    },
    {
      "cell_type": "markdown",
      "source": [
        "###### python is oop"
      ],
      "metadata": {
        "id": "7zfNvlUAkPzx"
      }
    },
    {
      "cell_type": "code",
      "source": [
        "# [Alternative Math](https://www.youtube.com/watch?v=Zh3Yz3PiXZw)\n",
        "import numpy as np\n",
        "\n",
        "# int addtion\n",
        "a = 1\n",
        "b = 1\n",
        "c = a + b\n",
        "print(a, b, c) \n",
        "print(type(a),type(b),type(c))\n",
        "\n",
        "# float addition\n",
        "a = 1.\n",
        "b = 1.\n",
        "c = a + b\n",
        "print(a, b, c) \n",
        "print(type(a),type(b),type(c))\n",
        "\n",
        "# str addition\n",
        "a = \"1\"\n",
        "b = \"1\"\n",
        "c = a + b\n",
        "print(a, b, c) \n",
        "print(type(a),type(b),type(c))\n",
        "\n",
        "# bool addition\n",
        "a = True\n",
        "b = True\n",
        "c = a + b\n",
        "print(a, b, c) \n",
        "print(type(a),type(b),type(c))\n",
        "\n",
        "# list addition\n",
        "a = [1, 2, 3]\n",
        "b = [4, 5, 6]\n",
        "c = a + b\n",
        "print(a, b, c) \n",
        "print(type(a),type(b),type(c))\n",
        "\n",
        "# numpy array addition\n",
        "a = np.array([1, 2, 3])\n",
        "b = np.array([4, 5, 6])\n",
        "c = a + b\n",
        "print(a, b, c) \n",
        "print(type(a),type(b),type(c))\n",
        "\n",
        "# set addition\n",
        "a = {1, 2, 3}\n",
        "b = {4, 5, 6}\n",
        "try:\n",
        "  c = a + b\n",
        "  print(a, b, c) \n",
        "  print(type(a),type(b),type(c))\n",
        "except TypeError as e:\n",
        "  print(e)"
      ],
      "metadata": {
        "colab": {
          "base_uri": "https://localhost:8080/"
        },
        "id": "yHcB2Qon-ErD",
        "outputId": "09fb7e75-2abd-427b-9cbc-b68ccf84e224"
      },
      "execution_count": null,
      "outputs": [
        {
          "output_type": "stream",
          "name": "stdout",
          "text": [
            "1 1 2\n",
            "<class 'int'> <class 'int'> <class 'int'>\n",
            "1.0 1.0 2.0\n",
            "<class 'float'> <class 'float'> <class 'float'>\n",
            "1 1 11\n",
            "<class 'str'> <class 'str'> <class 'str'>\n",
            "True True 2\n",
            "<class 'bool'> <class 'bool'> <class 'int'>\n",
            "[1, 2, 3] [4, 5, 6] [1, 2, 3, 4, 5, 6]\n",
            "<class 'list'> <class 'list'> <class 'list'>\n",
            "[1 2 3] [4 5 6] [5 7 9]\n",
            "<class 'numpy.ndarray'> <class 'numpy.ndarray'> <class 'numpy.ndarray'>\n",
            "unsupported operand type(s) for +: 'set' and 'set'\n"
          ]
        }
      ]
    },
    {
      "cell_type": "markdown",
      "source": [
        "###### primitive data types in python"
      ],
      "metadata": {
        "id": "IHycvmPtJrgV"
      }
    },
    {
      "cell_type": "code",
      "source": [
        "# int\n",
        "a = 10\n",
        "print(a, type(a))\n",
        "\n",
        "# float\n",
        "a = 3.14\n",
        "print(a, type(a))\n",
        "\n",
        "# complex\n",
        "a = 1 + 2j\n",
        "print(a, type(a))\n",
        "\n",
        "# str\n",
        "a = \"Hello World\"\n",
        "print(a, type(a))\n",
        "\n",
        "# bool\n",
        "a = True\n",
        "print(a, type(a))\n",
        "\n",
        "# None\n",
        "a = None\n",
        "print(a, type(a))"
      ],
      "metadata": {
        "colab": {
          "base_uri": "https://localhost:8080/"
        },
        "id": "fXLJQGc5Jr1Q",
        "outputId": "c71481c5-8c51-4407-c589-884d1dc96377"
      },
      "execution_count": null,
      "outputs": [
        {
          "output_type": "stream",
          "name": "stdout",
          "text": [
            "10 <class 'int'>\n",
            "3.14 <class 'float'>\n",
            "(1+2j) <class 'complex'>\n",
            "Hello World <class 'str'>\n",
            "True <class 'bool'>\n",
            "None <class 'NoneType'>\n"
          ]
        }
      ]
    },
    {
      "cell_type": "markdown",
      "source": [
        "###### composite data types in python"
      ],
      "metadata": {
        "id": "DCW18fxMTDlx"
      }
    },
    {
      "cell_type": "code",
      "source": [
        "a = [1,2,3,3] # list\n",
        "b = (1,2,3,3) # tuple\n",
        "c = {1,2,3,3} # set\n",
        "d = frozenset({1,2,3,3}) # frozen set\n",
        "e = {\"one\" : 1, \"two\" : 2, \"three\": 3, 'four': 3} # dict\n",
        "\n",
        "print(type(a))\n",
        "print(type(b))\n",
        "print(type(c))\n",
        "print(type(d))\n",
        "print(type(e))"
      ],
      "metadata": {
        "colab": {
          "base_uri": "https://localhost:8080/"
        },
        "id": "znv_78JzTDyR",
        "outputId": "25617896-fef7-4b93-ed31-a42b796e728d"
      },
      "execution_count": null,
      "outputs": [
        {
          "output_type": "stream",
          "name": "stdout",
          "text": [
            "['one', 1, 'two', 2] <class 'list'>\n",
            "('one', 1, 'two', 2) <class 'tuple'>\n",
            "{'one': 1, 'two': 2} <class 'dict'>\n",
            "{1, 'two', 2, 'one'} <class 'set'>\n",
            "frozenset({1, 'two', 2, 'one'}) <class 'frozenset'>\n"
          ]
        }
      ]
    },
    {
      "cell_type": "markdown",
      "source": [],
      "metadata": {
        "id": "Qt_jKYjc4x4-"
      }
    },
    {
      "cell_type": "markdown",
      "source": [],
      "metadata": {
        "id": "EOKgtNxZ4yEL"
      }
    },
    {
      "cell_type": "markdown",
      "source": [
        "###***Chapter 3 int***"
      ],
      "metadata": {
        "id": "gXPHuasv97fF"
      }
    },
    {
      "cell_type": "markdown",
      "source": [
        "###### int"
      ],
      "metadata": {
        "id": "9LHZzl_3kXSG"
      }
    },
    {
      "cell_type": "code",
      "source": [
        "# int\n",
        "a = 10\n",
        "print(a, type(a))\n",
        "\n",
        "# 0b... (or 0B...) means binary int\n",
        "a = 0b10\n",
        "# a = 0B10\n",
        "print(a, type(a))\n",
        "\n",
        "# 0x... (or 0X...) means hexadecimal int\n",
        "a = 0x10\n",
        "# a = 0X10\n",
        "print(a, type(a))\n",
        "\n",
        "# 0o... (or 0O...) means octal int\n",
        "a = 0o10\n",
        "# a = 0O10\n",
        "print(a, type(a))"
      ],
      "metadata": {
        "colab": {
          "base_uri": "https://localhost:8080/"
        },
        "id": "5zvpMZXlya3H",
        "outputId": "e9924203-a03e-40dc-c2d6-b343ae4879d0"
      },
      "execution_count": null,
      "outputs": [
        {
          "output_type": "stream",
          "name": "stdout",
          "text": [
            "10 <class 'int'>\n",
            "2 <class 'int'>\n",
            "16 <class 'int'>\n",
            "8 <class 'int'>\n"
          ]
        }
      ]
    },
    {
      "cell_type": "code",
      "source": [
        "# no memory limit in int representation\n",
        "a = 17368164381932740274072393574379137459714579879547917\n",
        "print(a, type(a))"
      ],
      "metadata": {
        "colab": {
          "base_uri": "https://localhost:8080/"
        },
        "id": "umvSJi6gTNLO",
        "outputId": "0dfd15a2-932d-4427-face-f844e4f15a69"
      },
      "execution_count": null,
      "outputs": [
        {
          "output_type": "stream",
          "name": "stdout",
          "text": [
            "17368164381932740274072393574379137459714579879547917 <class 'int'>\n"
          ]
        }
      ]
    },
    {
      "cell_type": "markdown",
      "source": [
        "###### basic math operators"
      ],
      "metadata": {
        "id": "z_NR2HzKtYBA"
      }
    },
    {
      "cell_type": "code",
      "source": [
        "print(5+2) # Addition\n",
        "print(5-2) # Subtraction\n",
        "print(5*2) # Multiplication\n",
        "print(5/2) # Division\n",
        "print(5//2) # Floor Division\n",
        "print(5%2) # Modulus\n",
        "print(5**2) # Exponentiation"
      ],
      "metadata": {
        "id": "1xK6RL1dtYSf",
        "colab": {
          "base_uri": "https://localhost:8080/"
        },
        "outputId": "a3ec7a33-4099-4783-cd7e-0bade17e4bfc"
      },
      "execution_count": null,
      "outputs": [
        {
          "output_type": "stream",
          "name": "stdout",
          "text": [
            "7\n",
            "3\n",
            "10\n",
            "2.5\n",
            "2\n",
            "1\n",
            "25\n"
          ]
        }
      ]
    },
    {
      "cell_type": "markdown",
      "source": [
        "###### how do basic math operators work "
      ],
      "metadata": {
        "id": "pR6FNaPut0Pc"
      }
    },
    {
      "cell_type": "code",
      "source": [
        "a = 9 \n",
        "b = 2\n",
        "\n",
        "# __add__    \n",
        "print(a + b) \n",
        "print(a.__add__(b))    \n",
        "print(int.__add__(a,b))     \n",
        "\n",
        "# __sub__\n",
        "print(a - b)\n",
        "print(a.__sub__(b))     \n",
        "print(int.__sub__(a,b))     \n",
        "\n",
        "# __mul__ \n",
        "print(a * b) \n",
        "print(a.__mul__(b))     \n",
        "print(int.__mul__(a,b))    \n",
        "\n",
        "# __truediv__\n",
        "print(a / b) \n",
        "print(a.__truediv__(b)) \n",
        "print(int.__truediv__(a,b))  \n",
        "\n",
        "# __floordiv__  \n",
        "print(a // b) \n",
        "print(a.__floordiv__(b)) \n",
        "print(int.__floordiv__(a,b)) \n",
        "\n",
        "# __mod__  \n",
        "print(a % b)\n",
        "print(a.__mod__(b))      \n",
        "print(int.__mod__(a,b))     \n",
        "\n",
        "# __pow__ \n",
        "print(a ** b) \n",
        "print(a.__pow__(b))      \n",
        "print(int.__pow__(a,b))      "
      ],
      "metadata": {
        "colab": {
          "base_uri": "https://localhost:8080/"
        },
        "id": "ML0LN9Dft0c4",
        "outputId": "4d635ed4-609a-4b0e-ffb5-834b6c3aa645"
      },
      "execution_count": null,
      "outputs": [
        {
          "output_type": "stream",
          "name": "stdout",
          "text": [
            "11\n",
            "11\n",
            "11\n",
            "7\n",
            "7\n",
            "7\n",
            "18\n",
            "18\n",
            "18\n",
            "4.5\n",
            "4.5\n",
            "4.5\n",
            "4\n",
            "4\n",
            "4\n",
            "1\n",
            "1\n",
            "1\n",
            "81\n",
            "81\n",
            "81\n"
          ]
        }
      ]
    },
    {
      "cell_type": "markdown",
      "source": [
        "###### inplace basic math operators"
      ],
      "metadata": {
        "id": "id0UJ0b5tdJN"
      }
    },
    {
      "cell_type": "code",
      "source": [
        "# inplace basic math operations\n",
        "# [What is the purpose of the __iadd__ magic method, since it works fine without it?](https://teamtreehouse.com/community/what-is-the-purpose-of-the-iadd-magic-method-since-it-works-fine-without-it)\n",
        "# So the main difference between __add__ and __iadd__ is that __iadd__ is \n",
        "# actually storing that value its adding into the self.value. Chris Howell\n",
        "a = 49\n",
        "print(a)\n",
        "# a = a + 5 # __add__\n",
        "a += 5 # __iadd__\n",
        "print(a)\n",
        "a -= 5\n",
        "print(a)\n",
        "a *= 5\n",
        "print(a)\n",
        "a /= 5\n",
        "print(a)\n",
        "a //= 5\n",
        "print(a)\n",
        "a %= 5\n",
        "print(a)\n",
        "a **= 5\n",
        "print(a)"
      ],
      "metadata": {
        "id": "IdpQHmfatdTN"
      },
      "execution_count": null,
      "outputs": []
    },
    {
      "cell_type": "markdown",
      "source": [
        "###### built-in function int"
      ],
      "metadata": {
        "id": "S_ryPDf-wcXD"
      }
    },
    {
      "cell_type": "code",
      "source": [
        "# float to int\n",
        "print(int(3.64))\n",
        "print(int(-3.64))\n",
        "\n",
        "# str to int\n",
        "x = int(input('How old are you? ')) \n",
        "print(x + 20)"
      ],
      "metadata": {
        "colab": {
          "base_uri": "https://localhost:8080/"
        },
        "id": "v4ud9STBwcok",
        "outputId": "f538acfb-f911-48a7-de2a-f0026e256b9e"
      },
      "execution_count": null,
      "outputs": [
        {
          "output_type": "stream",
          "name": "stdout",
          "text": [
            "3\n",
            "-3\n",
            "How old are you? 10\n",
            "30\n"
          ]
        }
      ]
    },
    {
      "cell_type": "markdown",
      "source": [
        "###### built-in function divmod"
      ],
      "metadata": {
        "id": "Fo0uTtVav-mK"
      }
    },
    {
      "cell_type": "code",
      "source": [
        "n = 125\n",
        "carry, mod = n//10, n%10\n",
        "print(carry, mod)   \n",
        "carry, mod = divmod(n, 10)\n",
        "print(carry, mod)"
      ],
      "metadata": {
        "colab": {
          "base_uri": "https://localhost:8080/"
        },
        "id": "VRjSpChWv_bS",
        "outputId": "a0c20268-4c30-4439-e415-7ba0db52fad4"
      },
      "execution_count": null,
      "outputs": [
        {
          "output_type": "stream",
          "name": "stdout",
          "text": [
            "12 5\n",
            "12 5\n"
          ]
        }
      ]
    },
    {
      "cell_type": "markdown",
      "source": [
        "\n",
        "\n",
        "###### binary"
      ],
      "metadata": {
        "id": "JinndiB5Ufa6"
      }
    },
    {
      "cell_type": "code",
      "source": [
        "# decimal to binary\n",
        "a = 17\n",
        "b = bin(17)\n",
        "print(b, type(b))\n",
        "\n",
        "# binary to decimal\n",
        "a = \"0b10001\"\n",
        "b = int(a[2:], 2)\n",
        "print(b, type(b))"
      ],
      "metadata": {
        "colab": {
          "base_uri": "https://localhost:8080/"
        },
        "id": "jCKU1FDKUfoC",
        "outputId": "6578ee18-c09c-4b7d-8d6b-a8071e5edf1c"
      },
      "execution_count": null,
      "outputs": [
        {
          "output_type": "stream",
          "name": "stdout",
          "text": [
            "0b10001 <class 'str'>\n",
            "17 <class 'int'>\n"
          ]
        }
      ]
    },
    {
      "cell_type": "markdown",
      "source": [
        "\n",
        "\n",
        "###### octal"
      ],
      "metadata": {
        "id": "mjIaEF81U5Rr"
      }
    },
    {
      "cell_type": "code",
      "source": [
        "# decimal to octal\n",
        "a = 17\n",
        "b = oct(17)\n",
        "print(b, type(b))\n",
        "\n",
        "# octal to decimal\n",
        "a = \"0o21\"\n",
        "b = int(a[2:], 8)\n",
        "print(b, type(b))"
      ],
      "metadata": {
        "colab": {
          "base_uri": "https://localhost:8080/"
        },
        "id": "51SbMCbCU5qD",
        "outputId": "53c2f331-b4b3-494a-f646-3a3653b9690a"
      },
      "execution_count": null,
      "outputs": [
        {
          "output_type": "stream",
          "name": "stdout",
          "text": [
            "0o21 <class 'str'>\n",
            "17 <class 'int'>\n"
          ]
        }
      ]
    },
    {
      "cell_type": "markdown",
      "source": [
        "\n",
        "\n",
        "###### hexadecimal"
      ],
      "metadata": {
        "id": "aDetvAjWTj4l"
      }
    },
    {
      "cell_type": "code",
      "source": [
        "# decimal to hexadecimal\n",
        "a = 17\n",
        "b = hex(17)\n",
        "print(b, type(b))\n",
        "\n",
        "# hexadecimal to decimal\n",
        "a = \"0x11\"\n",
        "b = int(a[2:], 16)\n",
        "print(b, type(b))"
      ],
      "metadata": {
        "colab": {
          "base_uri": "https://localhost:8080/"
        },
        "id": "jsMIYpmpTkk9",
        "outputId": "5ade948c-2e9f-4498-c3a5-85b03fec8bb7"
      },
      "execution_count": null,
      "outputs": [
        {
          "output_type": "stream",
          "name": "stdout",
          "text": [
            "0x11 <class 'str'>\n",
            "17 <class 'int'>\n"
          ]
        }
      ]
    },
    {
      "cell_type": "markdown",
      "source": [
        "###### int has no restriction on it's memory size (advanced)"
      ],
      "metadata": {
        "id": "9_sCZvB8xHxC"
      }
    },
    {
      "cell_type": "code",
      "source": [
        "a = 10\n",
        "print(a.bit_length())\n",
        "\n",
        "a = 100_000\n",
        "print(a.bit_length())\n",
        "\n",
        "a = 10 ** 100\n",
        "print(a.bit_length())"
      ],
      "metadata": {
        "colab": {
          "base_uri": "https://localhost:8080/"
        },
        "id": "y6-er45fxIUX",
        "outputId": "e7cf9f4a-0b75-4981-eafb-90a6a6b458f9"
      },
      "execution_count": null,
      "outputs": [
        {
          "output_type": "stream",
          "name": "stdout",
          "text": [
            "4\n",
            "17\n",
            "333\n"
          ]
        }
      ]
    },
    {
      "cell_type": "markdown",
      "source": [
        "###### int interning (advanced)"
      ],
      "metadata": {
        "id": "dyK-6rsqxuz7"
      }
    },
    {
      "cell_type": "code",
      "source": [
        "# [Integer Interning in Python (Optimization)](https://www.codesansar.com/python-programming/integer-interning.htm)\n",
        "# Standard implementation of Python (CPython) pre-loads (caches) \n",
        "# a global list of integers in the range from -5 to 256. \n",
        "# Any time an integer is referenced in this range Python does not create \n",
        "# new one but uses the cached version. \n",
        "# This is known as integer interning.\n",
        "a = 10\n",
        "b = 10\n",
        "print(a is b, a == b)\n",
        "print(\"memory address of a\", id(a))\n",
        "print(\"memory address of b\", id(b))"
      ],
      "metadata": {
        "id": "h2lCXZ5NxvEI"
      },
      "execution_count": null,
      "outputs": []
    },
    {
      "cell_type": "markdown",
      "source": [
        "###***Chapter 4 float***"
      ],
      "metadata": {
        "id": "ZS75oJ3ZdBfe"
      }
    },
    {
      "cell_type": "markdown",
      "source": [
        "###### float"
      ],
      "metadata": {
        "id": "g2QVBLX1kggl"
      }
    },
    {
      "cell_type": "code",
      "source": [
        "# float\n",
        "a = 3.14\n",
        "print(a, type(a))\n",
        "\n",
        "# float\n",
        "a = 3.\n",
        "print(a, type(a))\n",
        "\n",
        "# float\n",
        "a = .3\n",
        "print(a, type(a))\n",
        "\n",
        "# float\n",
        "a = .314e1\n",
        "print(a, type(a))\n",
        "\n",
        "# float\n",
        "a = 31.4e-1\n",
        "print(a, type(a))"
      ],
      "metadata": {
        "colab": {
          "base_uri": "https://localhost:8080/"
        },
        "id": "gyCzNL275TZx",
        "outputId": "b2fc5e45-3e37-4b94-96b0-21c86075e7aa"
      },
      "execution_count": null,
      "outputs": [
        {
          "output_type": "stream",
          "name": "stdout",
          "text": [
            "3.0 <class 'float'>\n",
            "3.0 <class 'float'>\n",
            "-3.0 <class 'float'>\n",
            "-3.0 <class 'float'>\n"
          ]
        }
      ]
    },
    {
      "cell_type": "markdown",
      "source": [
        "###### operator order"
      ],
      "metadata": {
        "id": "UwlxNnjQ5iJJ"
      }
    },
    {
      "cell_type": "code",
      "source": [
        "# [Order of operations](https://en.wikipedia.org/wiki/Order_of_operations)\n",
        "# 1 Parentheses\n",
        "# 2 Exponents\n",
        "# 3 Multiplication and Division (from left to right)\n",
        "# 4 Addition and Subtraction (from left to right)\n",
        "print(2 * 3 + 1)\n",
        "print(1 + 2 * 3)\n",
        "print(1 + 2 * 3 / 5.)\n",
        "print(1 + 2 * 3 / 5 ** 2)"
      ],
      "metadata": {
        "id": "RQRhQSk15iYI"
      },
      "execution_count": null,
      "outputs": []
    },
    {
      "cell_type": "markdown",
      "source": [
        "###### upcasting"
      ],
      "metadata": {
        "id": "Po1FIG3z3B1A"
      }
    },
    {
      "cell_type": "code",
      "source": [
        "print(2 + 2.) # upcasting: int ---> float\n",
        "print(2 - 2.) # upcasting: int ---> float\n",
        "print(2 * 2.) # upcasting: int ---> float\n",
        "print(2 / 2.) # upcasting: int ---> float\n",
        "print(2 ** 2.) # upcasting: int ---> float"
      ],
      "metadata": {
        "colab": {
          "base_uri": "https://localhost:8080/"
        },
        "id": "wzpgdpGw3CBL",
        "outputId": "275820a0-01c3-4707-ba71-d622f797a4fb"
      },
      "execution_count": null,
      "outputs": [
        {
          "output_type": "stream",
          "name": "stdout",
          "text": [
            "4.0\n",
            "0.0\n",
            "4.0\n",
            "1.0\n",
            "4.0\n"
          ]
        }
      ]
    },
    {
      "cell_type": "markdown",
      "source": [
        "###### how to handle infinity (advanced)"
      ],
      "metadata": {
        "id": "-oF_zyrm3aBi"
      }
    },
    {
      "cell_type": "code",
      "source": [
        "a = float(\"Inf\")\n",
        "b = float(\"-Inf\")\n",
        "print(a, b)\n",
        "\n",
        "# addition\n",
        "print(a+3,b+3)\n",
        "\n",
        "# substraction\n",
        "print(a-3,b-3)\n",
        "\n",
        "# multiplication\n",
        "print(a*3,b*3)\n",
        "\n",
        "# division\n",
        "print(a/3,b/3)\n",
        "\n",
        "# min\n",
        "print(min(a,3),min(b,3))\n",
        "\n",
        "# max\n",
        "print(max(a,3),max(b,3))\n",
        "\n",
        "# float('-inf') == - float('inf')\n",
        "print( float('-inf') == - float('inf') )\n",
        "print( float('-inf') is - float('inf') )"
      ],
      "metadata": {
        "colab": {
          "base_uri": "https://localhost:8080/"
        },
        "id": "_OJURdin3aUl",
        "outputId": "3beea089-c0ba-4d58-ec8a-60251354d4ea"
      },
      "execution_count": null,
      "outputs": [
        {
          "output_type": "stream",
          "name": "stdout",
          "text": [
            "inf -inf\n",
            "inf -inf\n",
            "inf -inf\n",
            "inf -inf\n",
            "inf -inf\n",
            "3 -inf\n",
            "inf 3\n",
            "True\n",
            "False\n"
          ]
        }
      ]
    },
    {
      "cell_type": "markdown",
      "source": [
        "###***Chapter 5 complex***"
      ],
      "metadata": {
        "id": "ZRXx8IoPdB3O"
      }
    },
    {
      "cell_type": "code",
      "source": [
        "import matplotlib.pyplot as plt\n",
        "import numpy as np\n",
        "\n",
        "# complex\n",
        "# a = 1 + 2 j # SyntaxError: invalid syntax\n",
        "a = 1 + 2j\n",
        "print(a, type(a))\n",
        "\n",
        "# complex\n",
        "a = 1 + 2J\n",
        "print(a, type(a))\n",
        "\n",
        "# complex\n",
        "a = complex( 1, 2 )\n",
        "print(a, type(a))\n",
        "\n",
        "# complex\n",
        "a = 1. + 2j\n",
        "print(a, type(a))\n",
        "\n",
        "# complex\n",
        "a = 1. + 2.j\n",
        "print(a, type(a))\n",
        "\n",
        "# complex\n",
        "a = 1.23 + 2.34j\n",
        "print(a, type(a))\n",
        "\n",
        "# complex \n",
        "a = 1 + 2j\n",
        "b = 1 + 2J\n",
        "c = complex( 1, 2 )\n",
        "d = a + b * c\n",
        "print(d, type(d))\n",
        "print(np.real(d), type(np.real(d)))\n",
        "print(np.imag(d), type(np.imag(d)))\n",
        "\n",
        "# $e^{i\\theta} = \\cos(\\theta) + i\\sin(\\theta)$\n",
        "i = complex( 0, 1 )\n",
        "theta = np.linspace(0,2*np.pi,100)\n",
        "z = np.exp( i * theta )\n",
        "x = np.real(z)\n",
        "y = np.imag(z)\n",
        "plt.plot(x,y)\n",
        "plt.axis('equal')\n",
        "plt.show()"
      ],
      "metadata": {
        "colab": {
          "base_uri": "https://localhost:8080/",
          "height": 317
        },
        "id": "gCseOTghbLYt",
        "outputId": "57b61005-971e-4146-fc8c-36078ff361e4"
      },
      "execution_count": null,
      "outputs": [
        {
          "output_type": "stream",
          "name": "stdout",
          "text": [
            "(-2+6j) <class 'complex'>\n",
            "-2.0 <class 'float'>\n",
            "6.0 <class 'float'>\n"
          ]
        },
        {
          "output_type": "display_data",
          "data": {
            "text/plain": [
              "<Figure size 432x288 with 1 Axes>"
            ],
            "image/png": "[encoded data removed]"
          },
          "metadata": {
            "needs_background": "light"
          }
        }
      ]
    },
    {
      "cell_type": "markdown",
      "source": [
        "###***Chapter 6 str***"
      ],
      "metadata": {
        "id": "B0Y21y6za5q_"
      }
    },
    {
      "cell_type": "markdown",
      "source": [
        "###### str"
      ],
      "metadata": {
        "id": "AmbXiqdAkqK6"
      }
    },
    {
      "cell_type": "markdown",
      "source": [
        "str"
      ],
      "metadata": {
        "id": "1qY25haqQSss"
      }
    },
    {
      "cell_type": "code",
      "source": [
        "# str\n",
        "a = \"Hello World\"\n",
        "print(a, type(a))\n",
        "\n",
        "# str\n",
        "a = 'Hello World'\n",
        "print(a, type(a))"
      ],
      "metadata": {
        "id": "dDZY2VRSQTPX"
      },
      "execution_count": null,
      "outputs": []
    },
    {
      "cell_type": "markdown",
      "source": [
        "quatation"
      ],
      "metadata": {
        "id": "NhRV37pPQTZ_"
      }
    },
    {
      "cell_type": "code",
      "source": [
        "# str\n",
        "a = \"He called the Gettysburg Address a 'monumental act.'\"\n",
        "print(a, type(a))\n",
        "\n",
        "# str\n",
        "a = 'He called the Gettysburg Address a \"monumental act.\"'\n",
        "print(a, type(a))\n",
        "\n",
        "# escape character\n",
        "a = \"He called the Gettysburg Address a \\\"monumental act.\\\"\"\n",
        "print(a, type(a))\n",
        "\n",
        "# escape character\n",
        "a = 'He called the Gettysburg Address a \\'monumental act.\\''\n",
        "print(a, type(a))"
      ],
      "metadata": {
        "id": "7Aj06Lh8QTk7"
      },
      "execution_count": null,
      "outputs": []
    },
    {
      "cell_type": "markdown",
      "source": [
        "triple-quoted str"
      ],
      "metadata": {
        "id": "AFvRc9e2QshE"
      }
    },
    {
      "cell_type": "markdown",
      "source": [
        "Escape sequences still work in triple-quoted strings, \n",
        "but single quotes, double quotes, and newlines can be included \n",
        "without escaping them.\n",
        "[Basic Data Types in Python](https://realpython.com/python-data-types/)"
      ],
      "metadata": {
        "id": "hq5bHz8RQ7dl"
      }
    },
    {
      "cell_type": "code",
      "source": [
        "a = \"\"\"On June 1, 1865, Senator Charles Sumner referred to \n",
        "the most famous speech ever given by President Abraham Lincoln. \n",
        "In his eulogy on the slain president, he called the Gettysburg Address\n",
        "a \"monumental act.\" He said Lincoln was mistaken that \n",
        "\"the world will little note, nor long remember what we say here.\" \n",
        "Rather, the Bostonian remarked, \n",
        "\"The world noted at once what he said, and will never cease to remember it. \n",
        "The battle itself was less important than the speech.\\\"\"\"\" # < --- some bugs\n",
        "print(a, type(a))\n",
        "\n",
        "a = \"\"\"\n",
        "On June 1, 1865, Senator Charles Sumner referred to \n",
        "the most famous speech ever given by President Abraham Lincoln. \n",
        "In his eulogy on the slain president, he called the Gettysburg Address\n",
        "a \"monumental act.\" He said Lincoln was mistaken that \n",
        "\"the world will little note, nor long remember what we say here.\" \n",
        "Rather, the Bostonian remarked, \n",
        "\"The world noted at once what he said, and will never cease to remember it. \n",
        "The battle itself was less important than the speech.\"\n",
        "\"\"\" \n",
        "print(a, type(a))"
      ],
      "metadata": {
        "id": "7dOJNdrga56R",
        "colab": {
          "base_uri": "https://localhost:8080/"
        },
        "outputId": "dc4877f2-b717-4d58-e066-5c3da0e5b5c7"
      },
      "execution_count": null,
      "outputs": [
        {
          "output_type": "stream",
          "name": "stdout",
          "text": [
            "On June 1, 1865, Senator Charles Sumner referred to \n",
            "the most famous speech ever given by President Abraham Lincoln. \n",
            "In his eulogy on the slain president, he called the Gettysburg Address\n",
            "a \"monumental act.\" He said Lincoln was mistaken that \n",
            "\"the world will little note, nor long remember what we say here.\" \n",
            "Rather, the Bostonian remarked, \n",
            "\"The world noted at once what he said, and will never cease to remember it. \n",
            "The battle itself was less important than the speech.\" <class 'str'>\n",
            "\n",
            "On June 1, 1865, Senator Charles Sumner referred to \n",
            "the most famous speech ever given by President Abraham Lincoln. \n",
            "In his eulogy on the slain president, he called the Gettysburg Address\n",
            "a \"monumental act.\" He said Lincoln was mistaken that \n",
            "\"the world will little note, nor long remember what we say here.\" \n",
            "Rather, the Bostonian remarked, \n",
            "\"The world noted at once what he said, and will never cease to remember it. \n",
            "The battle itself was less important than the speech.\"\n",
            " <class 'str'>\n"
          ]
        }
      ]
    },
    {
      "cell_type": "markdown",
      "source": [
        "###### escape character"
      ],
      "metadata": {
        "id": "ql5xj2vbClAW"
      }
    },
    {
      "cell_type": "code",
      "source": [
        "# a = 'Bob's hat' # SyntaxError: invalid syntax\n",
        "a = \"Bob's hat\"\n",
        "print(a)\n",
        "\n",
        "# escape character \\\n",
        "# t - alphabet t ---> \\t - tab\n",
        "# n - alphabrt n ---> \\n - newline\n",
        "# ' - start/end of string ---> \\'\tsingle quote\n",
        "# \" - start/end of string ---> \\\"\tdouble quote\n",
        "# \\ - escape character ---> \\\\\tbackslash\n",
        "a = 'Bob\\'s hat'\n",
        "print(a)"
      ],
      "metadata": {
        "id": "ahDCXqkhClVm",
        "colab": {
          "base_uri": "https://localhost:8080/"
        },
        "outputId": "e7beec21-3b5f-4a35-cc91-e95898fb1040"
      },
      "execution_count": null,
      "outputs": [
        {
          "output_type": "stream",
          "name": "stdout",
          "text": [
            "Bob's hat\n",
            "Bob's hat\n"
          ]
        }
      ]
    },
    {
      "cell_type": "markdown",
      "source": [
        "###### raw string"
      ],
      "metadata": {
        "id": "mt2FSzTK09RR"
      }
    },
    {
      "cell_type": "code",
      "source": [
        "# r - raw string\n",
        "# raw string ingnores the meaning of escape character\n",
        "print(r\"Hello, Bob.\\tThis is Sungchul.\\nHow are you\")"
      ],
      "metadata": {
        "id": "L8EZuVNX09h2"
      },
      "execution_count": null,
      "outputs": []
    },
    {
      "cell_type": "markdown",
      "source": [
        "###### format str and f str"
      ],
      "metadata": {
        "id": "vICBSyOrUbrN"
      }
    },
    {
      "cell_type": "markdown",
      "source": [
        "format str"
      ],
      "metadata": {
        "id": "QgvYLhK9Ukx3"
      }
    },
    {
      "cell_type": "code",
      "source": [
        "a = 'Hello'\n",
        "b = 'World'\n",
        "c = \"{} {}\".format(a,b) \n",
        "print(c)\n",
        "\n",
        "a = 'Price'\n",
        "b = 10\n",
        "c = \"{} : $ {}\".format(a,b) \n",
        "print(c)\n",
        "\n",
        "a = 10\n",
        "b = 20\n",
        "c = \"a = {}, b = {}\".format(a,b) \n",
        "print(c)"
      ],
      "metadata": {
        "id": "gONtHPD5Ub5Q"
      },
      "execution_count": null,
      "outputs": []
    },
    {
      "cell_type": "markdown",
      "source": [
        "f str"
      ],
      "metadata": {
        "id": "8VEt1QbwUnJK"
      }
    },
    {
      "cell_type": "code",
      "source": [
        "a = 'Hello'\n",
        "b = 'World'\n",
        "c = f\"{a} {b}\"\n",
        "print(c)\n",
        "\n",
        "a = 'Price'\n",
        "b = 10\n",
        "c = f\"{a} : $ {b}\"\n",
        "print(c)\n",
        "\n",
        "a = 10\n",
        "b = 20\n",
        "c = f\"a = {a}, b = {b}\"\n",
        "print(c)\n",
        "\n",
        "a = 10\n",
        "b = 20\n",
        "c = f\"{a = }, {b = }\"\n",
        "print(c)"
      ],
      "metadata": {
        "id": "UZypV_NiUnW6"
      },
      "execution_count": null,
      "outputs": []
    },
    {
      "cell_type": "markdown",
      "source": [
        "###### str concatenation"
      ],
      "metadata": {
        "id": "hZn3-lu1dCDa"
      }
    },
    {
      "cell_type": "markdown",
      "source": [
        "string addition"
      ],
      "metadata": {
        "id": "L8jCKgYOHoFm"
      }
    },
    {
      "cell_type": "code",
      "source": [
        "print('Hello'+'Bob')"
      ],
      "metadata": {
        "id": "QzhdchMl9skx"
      },
      "execution_count": null,
      "outputs": []
    },
    {
      "cell_type": "markdown",
      "source": [
        "string multiplication"
      ],
      "metadata": {
        "id": "YQIR361EHqLl"
      }
    },
    {
      "cell_type": "code",
      "source": [
        "print('-'*50)"
      ],
      "metadata": {
        "id": "c7Zk2OiUHqwO"
      },
      "execution_count": null,
      "outputs": []
    },
    {
      "cell_type": "markdown",
      "source": [
        "###### string indexing"
      ],
      "metadata": {
        "id": "x1pRa9HB-B3k"
      }
    },
    {
      "cell_type": "code",
      "source": [
        "a = \"Hello Pi\"\n",
        "#    01234567\n",
        "print(a[0])\n",
        "print(a[6])\n",
        "print(a[7])\n",
        "print(a[-3]) # Exercise : What will be the output of the this code?"
      ],
      "metadata": {
        "id": "CH23Rlng-CFU"
      },
      "execution_count": null,
      "outputs": []
    },
    {
      "cell_type": "markdown",
      "source": [
        "###### string slicing"
      ],
      "metadata": {
        "id": "pVcSKwqW-tCx"
      }
    },
    {
      "cell_type": "code",
      "source": [
        "a = \"Hello Pi\"\n",
        "#    01234567\n",
        "print(a[1:7], a[-8:-2]) # end point exclusive\n",
        "print(a[1:7:2], a[-8:-2:2]) # step size 2\n",
        "print(a[1:], a[-8:]) # we can go to end inclusive\n",
        "print(a[1::2], a[-8::2]) # step size 2\n",
        "print(a[::-1]) # Exercise : What will be the output of the below code?"
      ],
      "metadata": {
        "id": "iwi-wkLd-tLN"
      },
      "execution_count": null,
      "outputs": []
    },
    {
      "cell_type": "markdown",
      "source": [
        "###### str interning (advanced)"
      ],
      "metadata": {
        "id": "YEIepUZgx7l7"
      }
    },
    {
      "cell_type": "code",
      "source": [
        "# [String Interning in Python: A Hidden Gem That Makes Your Code Faster](https://medium.com/techtofreedom/string-interning-in-python-a-hidden-gem-that-makes-your-code-faster-9be71c7a5f3e)\n",
        "# The string interning in Python is \n",
        "# a mechanism of storing only one copy of a string value in the memory. \n",
        "# If there are a few string variables whose values are the same, \n",
        "# they will be interned by Python implicitly and \n",
        "# refer to the same object in the memory.\n",
        "a = \"Yang\"\n",
        "b = \"Yang\"\n",
        "print(a is b, a == b)\n",
        "print(\"memory address of a\", id(a))\n",
        "print(\"memory address of b\", id(b))\n",
        "\n",
        "# In order to trade off the cost and profits, Python doesn’t intern all strings. \n",
        "# There are some rules to determine whether a string will be interned or not.\n",
        "#\n",
        "# Unfortunately, these rules make the things become complex since \n",
        "# they are different between the versions and the implementations of Python.\n",
        "#\n",
        "# In CPython (3.8.5), any strings that include spaces will not be interned. \n",
        "# So, the string “Yang” was interned but the string “Yang Zhou” was not.\n",
        "a = \"Yang Zhou\"\n",
        "b = \"Yang Zhou\"\n",
        "print(a is b, a == b)\n",
        "print(\"memory address of a\", id(a))\n",
        "print(\"memory address of b\", id(b))"
      ],
      "metadata": {
        "id": "ITnIU632x7vn"
      },
      "execution_count": null,
      "outputs": []
    },
    {
      "cell_type": "markdown",
      "source": [
        "###### str method"
      ],
      "metadata": {
        "id": "cfDBIMQxSHS7"
      }
    },
    {
      "cell_type": "markdown",
      "source": [
        "lower, upper, capitalize"
      ],
      "metadata": {
        "id": "mAmthiZiSOuX"
      }
    },
    {
      "cell_type": "code",
      "source": [
        "s = \"\"\"The brand has had its ups and downs. But, it’s thrived since entering into a partnership with Waitrose in 2009.\"\"\"\n",
        "\n",
        "# lower method\n",
        "a = s.lower()\n",
        "print(a)\n",
        "\n",
        "# upper method\n",
        "a = s.upper()\n",
        "print(a)\n",
        "\n",
        "# capitalize method\n",
        "# Hmm, only very first capitalized.\n",
        "a = s.capitalize()\n",
        "print(a)"
      ],
      "metadata": {
        "colab": {
          "base_uri": "https://localhost:8080/"
        },
        "id": "l7qedN5TSHgW",
        "outputId": "5c4eb07b-7ab7-4d22-a6bf-a2e3e9fd21fd"
      },
      "execution_count": null,
      "outputs": [
        {
          "output_type": "stream",
          "name": "stdout",
          "text": [
            "the brand has had its ups and downs. but, it’s thrived since entering into a partnership with waitrose in 2009.\n",
            "THE BRAND HAS HAD ITS UPS AND DOWNS. BUT, IT’S THRIVED SINCE ENTERING INTO A PARTNERSHIP WITH WAITROSE IN 2009.\n",
            "The brand has had its ups and downs. but, it’s thrived since entering into a partnership with waitrose in 2009.\n"
          ]
        }
      ]
    },
    {
      "cell_type": "markdown",
      "source": [
        "split, join"
      ],
      "metadata": {
        "id": "pZep2npFSh4W"
      }
    },
    {
      "cell_type": "code",
      "source": [
        "s = \"\"\"The brand has had its ups and downs. But, it’s thrived since entering into a partnership with Waitrose in 2009.\"\"\"\n",
        "\n",
        "# split method\n",
        "a = s.split()\n",
        "print(a)\n",
        "\n",
        "# join method\n",
        "a = ' '.join(a)\n",
        "print(a)"
      ],
      "metadata": {
        "colab": {
          "base_uri": "https://localhost:8080/"
        },
        "id": "8xDGH-PPSiDm",
        "outputId": "2ea969c2-2a8a-4ed5-d385-436aa9717e93"
      },
      "execution_count": null,
      "outputs": [
        {
          "output_type": "stream",
          "name": "stdout",
          "text": [
            "['The', 'brand', 'has', 'had', 'its', 'ups', 'and', 'downs.', 'But,', 'it’s', 'thrived', 'since', 'entering', 'into', 'a', 'partnership', 'with', 'Waitrose', 'in', '2009.']\n",
            "The brand has had its ups and downs. But, it’s thrived since entering into a partnership with Waitrose in 2009.\n"
          ]
        }
      ]
    },
    {
      "cell_type": "markdown",
      "source": [
        "###***Chapter 7 bool***"
      ],
      "metadata": {
        "id": "VcuyFmSpbfP9"
      }
    },
    {
      "cell_type": "code",
      "source": [
        "# bool\n",
        "a = True\n",
        "b = False\n",
        "print(a, type(a))\n",
        "print(b, type(b))"
      ],
      "metadata": {
        "id": "XrfiZkBrJ3zt"
      },
      "execution_count": null,
      "outputs": []
    },
    {
      "cell_type": "markdown",
      "source": [
        "###### logical operators"
      ],
      "metadata": {
        "id": "3usZ3AUiKQXC"
      }
    },
    {
      "cell_type": "code",
      "source": [
        "# and\n",
        "print(True and True)\n",
        "print(True and False)\n",
        "print(False and True)\n",
        "print(False and False)\n",
        "\n",
        "# or\n",
        "print(True or True)\n",
        "print(True or False)\n",
        "print(False or True)\n",
        "print(False or False)\n",
        "\n",
        "# not\n",
        "print(not True)\n",
        "print(not False)"
      ],
      "metadata": {
        "id": "uEpISmEDKQ3k"
      },
      "execution_count": null,
      "outputs": []
    },
    {
      "cell_type": "markdown",
      "source": [
        "###### equality operators"
      ],
      "metadata": {
        "id": "QnXAxdQIK7MY"
      }
    },
    {
      "cell_type": "code",
      "source": [
        "# ==\n",
        "print(True == True)\n",
        "print(True == False)\n",
        "print(False == True)\n",
        "print(False == False)\n",
        "\n",
        "# !=\n",
        "print(True != True)\n",
        "print(True != False)\n",
        "print(False != True)\n",
        "print(False != False)"
      ],
      "metadata": {
        "id": "Eb9wIdZPK7fw"
      },
      "execution_count": null,
      "outputs": []
    },
    {
      "cell_type": "markdown",
      "source": [
        "###### relational operators"
      ],
      "metadata": {
        "id": "Xx-OgNTUGU3W"
      }
    },
    {
      "cell_type": "code",
      "source": [
        "# numerical relational operators\n",
        "print(3 < 5)\n",
        "print(3 <= 5)\n",
        "print(3 > 5)\n",
        "print(3 >= 5)\n",
        "print(3 == 5)\n",
        "print(3 != 5)\n",
        "\n",
        "# exercise - numerical relational operators\n",
        "print(2 < 5 < 10) # (2<5) and (5<10)\n",
        "print(2 < 3 < 4 < 5 < 6) # (2<3) and (3<4) and (4<5) and (5<6)\n",
        "\n",
        "# string relational operators\n",
        "print(\"alpha\" < \"beta\")\n",
        "print(\"alpha\" < \"Alpha\")\n",
        "print(\"alpha\" < \"beta\" < \"gamma\")\n",
        "\n",
        "# list relational operators\n",
        "print([0, 1, 2] < [5, 1, 2])                  # True\n",
        "print([0, 1, 2000000000] < [0, 1, 2])         # False\n",
        "print(['Jones', 'Sally'] < ['Jones', 'Fred']) # False\n",
        "print(['Jones', 'Sally'] > ['Adams', 'Sam'])  # True\n",
        "\n",
        "# tuple relational operators\n",
        "print((0, 1, 2) < (5, 1, 2))                  # True\n",
        "print((0, 1, 2000000000) < (0, 1, 2))         # False\n",
        "print(('Jones', 'Sally') < ('Jones', 'Fred')) # False\n",
        "print(('Jones', 'Sally') > ('Adams', 'Sam'))  # True"
      ],
      "metadata": {
        "id": "yz254UO1Gr5y"
      },
      "execution_count": null,
      "outputs": []
    },
    {
      "cell_type": "markdown",
      "source": [
        "###### is vs =="
      ],
      "metadata": {
        "id": "d0MtNnY0bju7"
      }
    },
    {
      "cell_type": "code",
      "source": [
        "# == - check value\n",
        "a = [1,2,3,4,5]\n",
        "b = a\n",
        "print(a is b, a == b)\n",
        "\n",
        "# is - check memory address\n",
        "a = [1,2,3,4,5]\n",
        "b = [1,2,3,4,5]\n",
        "print(a is b, a == b)\n",
        "print(\"memory address of a\", id(a))\n",
        "print(\"memory address of b\", id(b))"
      ],
      "metadata": {
        "colab": {
          "base_uri": "https://localhost:8080/"
        },
        "id": "9XCden7pbkPT",
        "outputId": "d88f972b-c785-4c27-f852-43599e0e5f5f"
      },
      "execution_count": null,
      "outputs": [
        {
          "output_type": "stream",
          "name": "stdout",
          "text": [
            "True True\n",
            "False True\n",
            "memory address of a 140120912677760\n",
            "memory address of b 140120912678144\n",
            "True True\n",
            "memory address of a 11527904\n",
            "memory address of b 11527904\n",
            "True True\n",
            "memory address of a 140121145414512\n",
            "memory address of b 140121145414512\n",
            "False True\n",
            "memory address of a 140120912566128\n",
            "memory address of b 140120912566704\n"
          ]
        }
      ]
    },
    {
      "cell_type": "markdown",
      "source": [
        "###### boolean-coalescing operator "
      ],
      "metadata": {
        "id": "2KP1cDAOMHXa"
      }
    },
    {
      "cell_type": "code",
      "source": [
        "# [Is there a Python equivalent of the C# null-coalescing operator?](https://stackoverflow.com/questions/4978738/is-there-a-python-equivalent-of-the-c-sharp-null-coalescing-operator)\n",
        "# Ok, it must be clarified how the or operator works. \n",
        "# It is a boolean operator, so it works in a boolean context. \n",
        "# If the values are not boolean, \n",
        "# they are converted to boolean for the purposes of the operator.\n",
        "#\n",
        "# Note that the or operator does not return only True or False. \n",
        "# Instead, it returns the first operand if the first operand evaluates to true, \n",
        "# and it returns the second operand if the first operand evaluates to false.\n",
        "\"\"\"\n",
        "x = A or 'WOW'\n",
        "if A:\n",
        "  x = A\n",
        "else:\n",
        "  x = \"WOW\"\n",
        "\"\"\"\n",
        "\n",
        "# A is True\n",
        "a = True or \"WOW\"\n",
        "b = 1 or \"WOW\"\n",
        "c = 3.14 or \"WOW\"\n",
        "d = [1,2,3] or \"WOW\"\n",
        "e = (1,2,3) or \"WOW\"\n",
        "f = {1,2,3} or \"WOW\"\n",
        "g = {1:1,2:2,3:3} or \"WOW\"\n",
        "print(a,b,c,d,e,f,g)  \n",
        "\n",
        "# A is False\n",
        "a = False or \"WOW\"\n",
        "b = 0 or \"WOW\"\n",
        "c = 0.0 or \"WOW\"\n",
        "d = [] or \"WOW\"\n",
        "e = tuple() or \"WOW\"\n",
        "f = set() or \"WOW\"\n",
        "g = {} or \"WOW\"\n",
        "print(a,b,c,d,e,f,g) "
      ],
      "metadata": {
        "colab": {
          "base_uri": "https://localhost:8080/"
        },
        "id": "I_PQx7ObMHn9",
        "outputId": "7dd61737-0071-431e-8f67-a403261e7390"
      },
      "execution_count": null,
      "outputs": [
        {
          "output_type": "stream",
          "name": "stdout",
          "text": [
            "True 1 3.14 [1, 2, 3] (1, 2, 3) {1, 2, 3} {1: 1, 2: 2, 3: 3}\n",
            "WOW WOW WOW WOW WOW WOW WOW\n"
          ]
        }
      ]
    },
    {
      "cell_type": "markdown",
      "source": [
        "###***Chapter 8 list***"
      ],
      "metadata": {
        "id": "xB4iKlk7fwhd"
      }
    },
    {
      "cell_type": "markdown",
      "source": [
        "###### list"
      ],
      "metadata": {
        "id": "BStpZvfx-NFr"
      }
    },
    {
      "cell_type": "markdown",
      "source": [
        "UC Berkeley graduate program gender bias"
      ],
      "metadata": {
        "id": "zFTP7tj-5bZz"
      }
    },
    {
      "cell_type": "markdown",
      "source": [
        "$$\\begin{array}{ccc}\n",
        "&\\text{Men}&\\text{Women}\\\\\n",
        "% first column (start)\n",
        "\\begin{array}{c}\n",
        "\\\\\n",
        "\\text{Major}\\\\\\hline\n",
        "\\text{A}\\\\\n",
        "\\text{B}\\\\\n",
        "\\text{C}\\\\\n",
        "\\text{D}\\\\\n",
        "\\text{E}\\\\\n",
        "\\text{F}\\\\\n",
        "\\end{array}&\n",
        "% first column (end)\n",
        "% second column (start)\n",
        "\\begin{array}{rr}\n",
        "\\text{Number of}&\\text{Percent}\\\\\n",
        "\\text{applicants}&\\text{admitted}\\\\\\hline\n",
        "825&62\\\\\n",
        "560&63\\\\\n",
        "325&\\bf{37}\\\\\n",
        "417&33\\\\\n",
        "191&\\bf{28}\\\\\n",
        "373&6\\\\\n",
        "\\end{array}&\n",
        "% second column (end)\n",
        "% third column (start)\n",
        "\\begin{array}{rr}\n",
        "\\text{Number of}&\\text{Percent}\\\\\n",
        "\\text{applicants}&\\text{admitted}\\\\\\hline\n",
        "108&\\bf{82}\\\\\n",
        "25&\\bf{68}\\\\\n",
        "593&34\\\\\n",
        "375&\\bf{35}\\\\\n",
        "393&24\\\\\n",
        "341&\\bf{7}\\\\\n",
        "\\end{array}\n",
        "% third column (end)\n",
        "\\end{array}$$"
      ],
      "metadata": {
        "id": "-bMYpW2K5buI"
      }
    },
    {
      "cell_type": "markdown",
      "source": [
        "lists can have various same objects as their members"
      ],
      "metadata": {
        "id": "0scfqf8N5Itk"
      }
    },
    {
      "cell_type": "code",
      "source": [
        "major = [\"A\",\"B\",\"C\",\"D\",\"E\",\"F\"]\n",
        "n_male = [825,560,325,417,191,373]\n",
        "p_male = [0.62,0.63,0.37,0.33,0.28,0.06]\n",
        "n_female = [108,25,593,375,393,341]\n",
        "p_female = [0.82,0.68,0.34,0.35,0.24,0.07]"
      ],
      "metadata": {
        "id": "ZUw07JlP5JCh"
      },
      "execution_count": null,
      "outputs": []
    },
    {
      "cell_type": "markdown",
      "source": [
        "lists can have various different objects as their members"
      ],
      "metadata": {
        "id": "7Zu_cEhb4I36"
      }
    },
    {
      "cell_type": "code",
      "source": [
        "a = [0, 3.14, \"hello\"]\n",
        "print(a, type(a), len(a), sep='\\n')"
      ],
      "metadata": {
        "id": "YojhxVEi4KfU"
      },
      "execution_count": null,
      "outputs": []
    },
    {
      "cell_type": "markdown",
      "source": [
        "lists even have another list as their members"
      ],
      "metadata": {
        "id": "h6BNsvvX4KyF"
      }
    },
    {
      "cell_type": "code",
      "source": [
        "a = [0, 1, 2, 3, [0, 3.14, \"hello\"]]\n",
        "print(a, type(a), len(a), sep='\\n')"
      ],
      "metadata": {
        "id": "tIUoz0c74K99"
      },
      "execution_count": null,
      "outputs": []
    },
    {
      "cell_type": "markdown",
      "source": [
        "###### empty list"
      ],
      "metadata": {
        "id": "SiQ_l2HO4h6c"
      }
    },
    {
      "cell_type": "code",
      "source": [
        "# empty list\n",
        "a = []\n",
        "print(a, type(a), len(a), sep='\\n')\n",
        "\n",
        "# empty list\n",
        "a = list()\n",
        "print(a, type(a), len(a), sep='\\n')"
      ],
      "metadata": {
        "colab": {
          "base_uri": "https://localhost:8080/"
        },
        "id": "dCyEdyXn4iG9",
        "outputId": "69aa93f9-29bf-450e-bc38-d9d3f62acca9"
      },
      "execution_count": null,
      "outputs": [
        {
          "output_type": "stream",
          "name": "stdout",
          "text": [
            "[]\n",
            "<class 'list'>\n",
            "0\n",
            "[]\n",
            "<class 'list'>\n",
            "0\n"
          ]
        }
      ]
    },
    {
      "cell_type": "markdown",
      "source": [
        "###### str to list"
      ],
      "metadata": {
        "id": "FTjglc_Y4ilm"
      }
    },
    {
      "cell_type": "code",
      "source": [
        "a = list(\"Hello World\")\n",
        "print(a, type(a), len(a), sep='\\n')"
      ],
      "metadata": {
        "id": "MG2H2ZaM4iv5"
      },
      "execution_count": null,
      "outputs": []
    },
    {
      "cell_type": "markdown",
      "source": [
        "###### tuple to list"
      ],
      "metadata": {
        "id": "6rfOmoOF4ySj"
      }
    },
    {
      "cell_type": "code",
      "source": [
        "temp = (1,2,3,4,5)\n",
        "a = list(temp)\n",
        "print(a, type(a), len(a), sep='\\n')"
      ],
      "metadata": {
        "id": "TMVaXiwBOxv2"
      },
      "execution_count": null,
      "outputs": []
    },
    {
      "cell_type": "markdown",
      "source": [
        "###### list method"
      ],
      "metadata": {
        "id": "6sfK_SbEOyHu"
      }
    },
    {
      "cell_type": "code",
      "source": [
        "# append method\n",
        "a = [0, 1, 2, 3, 4]\n",
        "a.append('one')\n",
        "a.append('two')\n",
        "print(a)\n",
        "\n",
        "# clear method\n",
        "a = [1,2,3,1,2,3] \n",
        "a.clear() \n",
        "print(a)\n",
        "\n",
        "# extend method\n",
        "a = [1,2,3] \n",
        "a.extend([4,5,6]) \n",
        "print(a)\n",
        "\n",
        "# pop method\n",
        "a = [0, 1, 2, 3, 4]\n",
        "print(a)\n",
        "for _ in range(3):\n",
        "    item = a.pop(0)\n",
        "    print(item, a)\n",
        "\n",
        "# remove method\n",
        "# if many, the very first matching element is removed from the list\n",
        "# if one, the element is removed from the list \n",
        "# if not exists, raise ValueError\n",
        "a = [1,2,3,3,3] \n",
        "a.remove(3) \n",
        "print(a)\n",
        "\n",
        "# sort method\n",
        "a = [1,2,3,1,2,3] \n",
        "a.sort() \n",
        "print(a)"
      ],
      "metadata": {
        "id": "kevQAIBC-Neq",
        "colab": {
          "base_uri": "https://localhost:8080/"
        },
        "outputId": "e1c24f7d-af72-4b0e-9af0-f75496f406e6"
      },
      "execution_count": null,
      "outputs": [
        {
          "output_type": "stream",
          "name": "stdout",
          "text": [
            "[0, 1, 2, 3, 4, 'one', 'two']\n",
            "[]\n",
            "[1, 2, 3, 4, 5, 6]\n",
            "[0, 1, 2, 3, 4]\n",
            "0 [1, 2, 3, 4]\n",
            "1 [2, 3, 4]\n",
            "2 [3, 4]\n",
            "[1, 2, 3, 3]\n",
            "[1, 1, 2, 2, 3, 3]\n"
          ]
        }
      ]
    },
    {
      "cell_type": "markdown",
      "source": [
        "###### list del statement"
      ],
      "metadata": {
        "id": "Phtv4WimKt1X"
      }
    },
    {
      "cell_type": "code",
      "source": [
        "a = [1,2,3,1,2,3] \n",
        "print(a)\n",
        "\n",
        "del a[2]\n",
        "print(a)\n",
        "\n",
        "del a[-3:] \n",
        "print(a)\n",
        "\n",
        "del a[:] \n",
        "print(a)"
      ],
      "metadata": {
        "colab": {
          "base_uri": "https://localhost:8080/"
        },
        "id": "qf6YbLJXKuJ1",
        "outputId": "fd86e902-83bf-47d9-9cea-141ae008bb43"
      },
      "execution_count": null,
      "outputs": [
        {
          "output_type": "stream",
          "name": "stdout",
          "text": [
            "[1, 2, 3, 1, 2, 3]\n",
            "[1, 2, 1, 2, 3]\n",
            "[1, 2]\n",
            "[]\n"
          ]
        }
      ]
    },
    {
      "cell_type": "markdown",
      "source": [
        "###### list as dynamic array (advanced)"
      ],
      "metadata": {
        "id": "QeujAIz-a5ng"
      }
    },
    {
      "cell_type": "code",
      "source": [
        "import matplotlib.pyplot as plt \n",
        "import time\n",
        "\n",
        "record_time = []\n",
        "temp = []\n",
        "for i in range(100000):\n",
        "    tic = time.time()\n",
        "    temp.append(i)\n",
        "    toc = time.time()\n",
        "    record_time.append(toc-tic)\n",
        "\n",
        "plt.plot(record_time)\n",
        "plt.show()"
      ],
      "metadata": {
        "colab": {
          "base_uri": "https://localhost:8080/",
          "height": 265
        },
        "id": "bstSk8sla6Mv",
        "outputId": "42e39474-85d1-44f9-def8-c6f8dd778fef"
      },
      "execution_count": null,
      "outputs": [
        {
          "output_type": "display_data",
          "data": {
            "text/plain": [
              "<Figure size 432x288 with 1 Axes>"
            ],
            "image/png": "[encoded data removed]"
          },
          "metadata": {
            "needs_background": "light"
          }
        }
      ]
    },
    {
      "cell_type": "markdown",
      "source": [
        "###### list indexing"
      ],
      "metadata": {
        "id": "a7sYAIzc-L-n"
      }
    },
    {
      "cell_type": "code",
      "source": [
        "a = [ 0, 1, 2, 3, 4, 5, 6, 7, 8]\n",
        "#     0  1  2  3  4  5  6  7  8 <--- positive index\n",
        "#    -9 -8 -7 -6 -5 -4 -3 -2 -1 <--- negative index \n",
        "print(a[0], a[-9])\n",
        "print(a[6], a[-3])\n",
        "print(a[7], a[-2])"
      ],
      "metadata": {
        "id": "5MkZMd4q-MJ2"
      },
      "execution_count": null,
      "outputs": []
    },
    {
      "cell_type": "markdown",
      "source": [
        "###### list slicing"
      ],
      "metadata": {
        "id": "xmc69pd5-c6A"
      }
    },
    {
      "cell_type": "code",
      "source": [
        "a = [ 0, 1, 2, 3, 4, 5, 6, 7, 8]\n",
        "#     0  1  2  3  4  5  6  7  8 <--- positive index\n",
        "#    -9 -8 -7 -6 -5 -4 -3 -2 -1 <--- negative index \n",
        "print(a[1:7], a[-8:-2]) # end point exclusive\n",
        "print(a[1:7:2], a[-8:-2:2]) # step size 2\n",
        "print(a[1:], a[-8:]) # we can go to end inclusive\n",
        "print(a[1::2], a[-8::2]) # step size 2\n",
        "print(a[::-1]) # Exercise : What will be the output of the this code?"
      ],
      "metadata": {
        "id": "3Yw8EH7h-dDY"
      },
      "execution_count": null,
      "outputs": []
    },
    {
      "cell_type": "markdown",
      "source": [
        "###### view vs copy (advanced)"
      ],
      "metadata": {
        "id": "noGeW1kXevGT"
      }
    },
    {
      "cell_type": "code",
      "source": [
        "# view vs copy\n",
        "a = [0,1,2,3,4,5,6,7,8,9]\n",
        "b = a # view\n",
        "c = a.copy() # copy\n",
        "a[0] = 'zero'\n",
        "print(a, b, c, sep='\\n')\n",
        "\n",
        "# list slicing returns copy\n",
        "a = [0,1,2,3,4,5,6,7,8,9]\n",
        "left = a[:2]\n",
        "left[-1] = 100\n",
        "print(a, left, sep='\\n')"
      ],
      "metadata": {
        "colab": {
          "base_uri": "https://localhost:8080/"
        },
        "id": "BQd1EVBPevRq",
        "outputId": "086eaedc-49ce-457e-a175-daa59e89b805"
      },
      "execution_count": null,
      "outputs": [
        {
          "output_type": "stream",
          "name": "stdout",
          "text": [
            "['zero', 1, 2, 3, 4, 5, 6, 7, 8, 9]\n",
            "['zero', 1, 2, 3, 4, 5, 6, 7, 8, 9]\n",
            "[0, 1, 2, 3, 4, 5, 6, 7, 8, 9]\n",
            "[0, 1, 2, 3, 4, 5, 6, 7, 8, 9]\n",
            "[0, 100]\n"
          ]
        }
      ]
    },
    {
      "cell_type": "markdown",
      "source": [
        "###### list concatenation"
      ],
      "metadata": {
        "id": "6Redxznxi3cv"
      }
    },
    {
      "cell_type": "code",
      "source": [
        "# list concatenation\n",
        "x = [1,2,3]\n",
        "x = x + [1,2,3,1,2,3]\n",
        "print(x)\n",
        "\n",
        "# another form of list concatenation\n",
        "x = [1,2,3]\n",
        "x = x * 3\n",
        "print(x)\n",
        "\n",
        "# inline list concatenation\n",
        "x = [1,2,3]\n",
        "x += [1,2,3,1,2,3]\n",
        "print(x)\n",
        "\n",
        "# another form of inline list concatenation\n",
        "x = [1,2,3]\n",
        "x *= 3\n",
        "print(x)"
      ],
      "metadata": {
        "colab": {
          "base_uri": "https://localhost:8080/"
        },
        "id": "bToN-exui3pv",
        "outputId": "ea184c32-d1d3-4b23-e09d-9dcd50f50ee9"
      },
      "execution_count": null,
      "outputs": [
        {
          "output_type": "stream",
          "name": "stdout",
          "text": [
            "[1, 2, 3, 1, 2, 3, 1, 2, 3]\n",
            "[1, 2, 3, 1, 2, 3, 1, 2, 3]\n",
            "[1, 2, 3, 1, 2, 3, 1, 2, 3]\n",
            "[1, 2, 3, 1, 2, 3, 1, 2, 3]\n"
          ]
        }
      ]
    },
    {
      "cell_type": "markdown",
      "source": [
        "###### list concatenation vs inline list concatenation (advanced)"
      ],
      "metadata": {
        "id": "IBxetvcU0PYV"
      }
    },
    {
      "cell_type": "code",
      "source": [
        "# list concatenation - address changed\n",
        "x = [1,2,3]\n",
        "print(x)\n",
        "print('Memory Address Before : {}'.format(hex(id(x))))\n",
        "x = x + [1,2,3,1,2,3]\n",
        "print(x)\n",
        "print('Memory Address After  : {}'.format(hex(id(x))))\n",
        "\n",
        "# another form of list concatenation - address changed\n",
        "x = [1,2,3]\n",
        "print(x)\n",
        "print('Memory Address Before : {}'.format(hex(id(x))))\n",
        "x = x * 3\n",
        "print(x)\n",
        "print('Memory Address After  : {}'.format(hex(id(x))))\n",
        "\n",
        "# inline list concatenation - address not changed \n",
        "x = [1,2,3]\n",
        "print(x)\n",
        "print('Memory Address Before : {}'.format(hex(id(x))))\n",
        "x += [1,2,3,1,2,3]\n",
        "print(x)\n",
        "print('Memory Address After  : {}'.format(hex(id(x))))\n",
        "\n",
        "# another form of inline list concatenation - address not changed\n",
        "x = [1,2,3]\n",
        "print(x)\n",
        "print('Memory Address Before : {}'.format(hex(id(x))))\n",
        "x *= 3\n",
        "print(x)\n",
        "print('Memory Address After  : {}'.format(hex(id(x))))"
      ],
      "metadata": {
        "colab": {
          "base_uri": "https://localhost:8080/"
        },
        "id": "HLjR5QkA0PpM",
        "outputId": "fdd529f3-40c6-41b0-b53b-8d55032de4ef"
      },
      "execution_count": null,
      "outputs": [
        {
          "output_type": "stream",
          "name": "stdout",
          "text": [
            "[1, 2, 3]\n",
            "Memory Address Before : 0x7f21dd92d740\n",
            "[1, 2, 3, 1, 2, 3, 1, 2, 3]\n",
            "Memory Address After  : 0x7f21dd92d600\n",
            "[1, 2, 3]\n",
            "Memory Address Before : 0x7f21dd92df00\n",
            "[1, 2, 3, 1, 2, 3, 1, 2, 3]\n",
            "Memory Address After  : 0x7f21dd92d700\n",
            "[1, 2, 3]\n",
            "Memory Address Before : 0x7f21dd92d7c0\n",
            "[1, 2, 3, 1, 2, 3, 1, 2, 3]\n",
            "Memory Address After  : 0x7f21dd92d7c0\n",
            "[1, 2, 3]\n",
            "Memory Address Before : 0x7f21dd92d600\n",
            "[1, 2, 3, 1, 2, 3, 1, 2, 3]\n",
            "Memory Address After  : 0x7f21dd92d600\n"
          ]
        }
      ]
    },
    {
      "cell_type": "markdown",
      "source": [
        "###***Chapter 9 tuple***"
      ],
      "metadata": {
        "id": "LV_UXtC8c1ZO"
      }
    },
    {
      "cell_type": "markdown",
      "source": [
        "###### tuple indexing"
      ],
      "metadata": {
        "id": "S4wC2lnL-Sqh"
      }
    },
    {
      "cell_type": "code",
      "source": [
        "a = ( 0, 1, 2, 3, 4, 5, 6, 7, 8)\n",
        "#     0  1  2  3  4  5  6  7  8 <--- positive index\n",
        "#    -9 -8 -7 -6 -5 -4 -3 -2 -1 <--- negative index \n",
        "print(a[0], a[-9])\n",
        "print(a[6], a[-3])\n",
        "print(a[7], a[-2])"
      ],
      "metadata": {
        "id": "RYkRQxn5-S1J"
      },
      "execution_count": null,
      "outputs": []
    },
    {
      "cell_type": "markdown",
      "source": [
        "###### tuple slicing"
      ],
      "metadata": {
        "id": "IK7Z4q6--lf1"
      }
    },
    {
      "cell_type": "code",
      "source": [
        "a = [ 0, 1, 2, 3, 4, 5, 6, 7, 8]\n",
        "#     0  1  2  3  4  5  6  7  8 <--- positive index\n",
        "#    -9 -8 -7 -6 -5 -4 -3 -2 -1 <--- negative index \n",
        "print(a[1:7], a[-8:-2]) # end point exclusive\n",
        "print(a[1:7:2], a[-8:-2:2]) # step size 2\n",
        "print(a[1:], a[-8:]) # we can go to end inclusive of we don't specify end point\n",
        "print(a[1::2], a[-8::2]) # step size 2\n",
        "print(a[::-1]) # Exercise : What will be the output of the below code?"
      ],
      "metadata": {
        "id": "XdXCO8xV-ls-"
      },
      "execution_count": null,
      "outputs": []
    },
    {
      "cell_type": "markdown",
      "source": [],
      "metadata": {
        "id": "JsUYS26nc5tO"
      }
    },
    {
      "cell_type": "markdown",
      "source": [
        "###***Chapter 10 dict***"
      ],
      "metadata": {
        "id": "jhA2rEUT-OJ6"
      }
    },
    {
      "cell_type": "markdown",
      "source": [
        "###### dict"
      ],
      "metadata": {
        "id": "oaLuy18Vk263"
      }
    },
    {
      "cell_type": "markdown",
      "source": [
        "explicit construction of dict"
      ],
      "metadata": {
        "id": "jj8mSYRtAKdY"
      }
    },
    {
      "cell_type": "code",
      "source": [
        "x = {'pork':25, 'beef':33, 'chicken':22}\n",
        "x"
      ],
      "metadata": {
        "id": "RxnAYyhYAKpQ"
      },
      "execution_count": null,
      "outputs": []
    },
    {
      "cell_type": "markdown",
      "source": [
        "empty dict"
      ],
      "metadata": {
        "id": "KeP2atbkC8oT"
      }
    },
    {
      "cell_type": "code",
      "source": [
        "# empty dict\n",
        "x = dict() \n",
        "print(x)\n",
        "\n",
        "# empty dict\n",
        "x = {} \n",
        "print(x)"
      ],
      "metadata": {
        "id": "S_BErR5ZC81b"
      },
      "execution_count": null,
      "outputs": []
    },
    {
      "cell_type": "markdown",
      "source": [
        "###### key and value"
      ],
      "metadata": {
        "id": "unqpSEg87GgD"
      }
    },
    {
      "cell_type": "markdown",
      "source": [
        "each data item in dict consists of key, value pair"
      ],
      "metadata": {
        "id": "fN3ucba0FcWk"
      }
    },
    {
      "cell_type": "code",
      "source": [
        "a = {\"one\" : 1, \"two\" : 2, \"three\": 3} \n",
        "#    key   : value"
      ],
      "metadata": {
        "id": "qhsFm6iM0M1R"
      },
      "execution_count": null,
      "outputs": []
    },
    {
      "cell_type": "markdown",
      "source": [
        "value is retrieved using key"
      ],
      "metadata": {
        "id": "mn-deMR_Fl_R"
      }
    },
    {
      "cell_type": "code",
      "source": [
        "# list\n",
        "a = [1,2,3]\n",
        "print(a[2])\n",
        "\n",
        "# dict\n",
        "a = {\"one\" : 1, \"two\" : 2, \"three\": 3} \n",
        "print(a['three'])\n",
        "# print(a['horse']) # KeyError: 'horse'"
      ],
      "metadata": {
        "id": "aTDRHnXAFmNC"
      },
      "execution_count": null,
      "outputs": []
    },
    {
      "cell_type": "markdown",
      "source": [
        "###### built-in function dict"
      ],
      "metadata": {
        "id": "fO07B8IpDDji"
      }
    },
    {
      "cell_type": "markdown",
      "source": [
        "keyword and default value"
      ],
      "metadata": {
        "id": "PN96csMkBInn"
      }
    },
    {
      "cell_type": "code",
      "source": [
        "x = dict(pork=25, beef=33, chicken=22)\n",
        "x"
      ],
      "metadata": {
        "id": "x-HZxKqcBIyQ"
      },
      "execution_count": null,
      "outputs": []
    },
    {
      "cell_type": "markdown",
      "source": [
        "list of key, value pair"
      ],
      "metadata": {
        "id": "luk5iFR5Agzv"
      }
    },
    {
      "cell_type": "code",
      "source": [
        "lst = [ ('pork', 25), ('beef', 33), ('chicken', 22) ]\n",
        "x = dict( lst )\n",
        "x"
      ],
      "metadata": {
        "id": "B3-3MysPAg-D"
      },
      "execution_count": null,
      "outputs": []
    },
    {
      "cell_type": "markdown",
      "source": [
        "###### dict assignment"
      ],
      "metadata": {
        "id": "LZBxgoLODpC4"
      }
    },
    {
      "cell_type": "markdown",
      "source": [
        "add new member"
      ],
      "metadata": {
        "id": "94NJtfl0DzPj"
      }
    },
    {
      "cell_type": "code",
      "source": [
        "x = {'pork':25, 'beef':33, 'chicken':22}\n",
        "x['horse'] = 26\n",
        "print(x)"
      ],
      "metadata": {
        "id": "y-AGb8arDzaz"
      },
      "execution_count": null,
      "outputs": []
    },
    {
      "cell_type": "markdown",
      "source": [
        "update exisiting member"
      ],
      "metadata": {
        "id": "Nl-4hU4UD5p9"
      }
    },
    {
      "cell_type": "code",
      "source": [
        "x = {'pork':25, 'beef':33, 'chicken':22}\n",
        "x['pork'] = 10\n",
        "print(x)"
      ],
      "metadata": {
        "id": "ZThJKdziDp11"
      },
      "execution_count": null,
      "outputs": []
    },
    {
      "cell_type": "markdown",
      "source": [
        "###### key is immutable"
      ],
      "metadata": {
        "id": "82ygT8fI7k9l"
      }
    },
    {
      "cell_type": "markdown",
      "source": [
        "###***Chapter 11 set***"
      ],
      "metadata": {
        "id": "XBrFKT2q3NR4"
      }
    },
    {
      "cell_type": "markdown",
      "source": [
        "###### set"
      ],
      "metadata": {
        "id": "n1gglj0Tk6tX"
      }
    },
    {
      "cell_type": "code",
      "source": [
        "# explicit construction\n",
        "s = {3,5,3,5,3,5}\n",
        "print(s, type(s), len(s))\n",
        "\n",
        "# string to set\n",
        "s = set(\"Hello World\")\n",
        "print(s, type(s), len(s))\n",
        "\n",
        "# list to set\n",
        "s = set([3,5,3,5,3,5])\n",
        "print(s, type(s), len(s))\n",
        "\n",
        "# tuple to set\n",
        "s = set((3,5,3,5,3,5))\n",
        "print(s, type(s), len(s))\n",
        "\n",
        "# empty set\n",
        "s = set()\n",
        "print(s, type(s), len(s))\n",
        "\n",
        "# empty dict, not empty set\n",
        "s = {} \n",
        "print(s, type(s), len(s))"
      ],
      "metadata": {
        "colab": {
          "base_uri": "https://localhost:8080/"
        },
        "id": "woSJbiJX3OsN",
        "outputId": "14080443-9a66-41ab-e736-62ec5a2fbab8"
      },
      "execution_count": null,
      "outputs": [
        {
          "output_type": "stream",
          "name": "stdout",
          "text": [
            "{3, 5} <class 'set'> 2\n",
            "{3, 5} <class 'set'> 2\n",
            "set() <class 'set'> 0\n",
            "{} <class 'dict'> 0\n"
          ]
        }
      ]
    },
    {
      "cell_type": "markdown",
      "source": [
        "###### set operations"
      ],
      "metadata": {
        "id": "Kd249pzT4SLy"
      }
    },
    {
      "cell_type": "code",
      "source": [
        "A = {1,2,3,4,5}\n",
        "B = {4,5,6,7,8}\n",
        "\n",
        "# union\n",
        "print(A | B)\n",
        "print(A.union(B))\n",
        "\n",
        "# intersection\n",
        "print(A & B)\n",
        "print(A.intersection(B))\n",
        "\n",
        "# difference\n",
        "print(A - B)\n",
        "print(A.difference(B))\n",
        "\n",
        "# symmetric_difference\n",
        "print(A ^ B)\n",
        "print(A.symmetric_difference(B))"
      ],
      "metadata": {
        "id": "k_4eDq4Z4SmB"
      },
      "execution_count": null,
      "outputs": []
    },
    {
      "cell_type": "markdown",
      "source": [
        "###### in place set operations"
      ],
      "metadata": {
        "id": "P70tvvUymfjy"
      }
    },
    {
      "cell_type": "code",
      "source": [
        "A = {1,2,3,4,5}\n",
        "B = {4,5,6}\n",
        "C = {5,6,7}\n",
        "D = {1,2,3,4,5,6,7}\n",
        "\n",
        "# in place union \n",
        "A |= B\n",
        "print(A)\n",
        "\n",
        "# in place intersection\n",
        "A &= B\n",
        "print(A)\n",
        "\n",
        "# in place difference\n",
        "A -= C\n",
        "print(A)\n",
        "\n",
        "# in place symmetric_difference\n",
        "A ^= D\n",
        "print(A)"
      ],
      "metadata": {
        "colab": {
          "base_uri": "https://localhost:8080/"
        },
        "id": "GYHLaYOLmf6R",
        "outputId": "e529314b-cec6-4245-a0fc-42b6a31521f1"
      },
      "execution_count": null,
      "outputs": [
        {
          "output_type": "stream",
          "name": "stdout",
          "text": [
            "{1, 2, 3, 4, 5, 6}\n",
            "{4, 5, 6}\n",
            "{4}\n",
            "{5, 6}\n"
          ]
        }
      ]
    },
    {
      "cell_type": "markdown",
      "source": [
        "###### set method update"
      ],
      "metadata": {
        "id": "Sun91IEvivda"
      }
    },
    {
      "cell_type": "code",
      "source": [
        "A = {1,2,3,4,5}\n",
        "B = {4,5,6}\n",
        "C = {5,6,7}\n",
        "D = {1,2,3,4,5,6,7}\n",
        "\n",
        "# in place union \n",
        "# A |= B\n",
        "A.update('one') # string ---> list ---> set ---> in place union\n",
        "print(A)\n",
        "A.update(['two','three']) # list ---> set ---> in place union\n",
        "print(A)\n",
        "A.update({'four', 'five'}) # set ---> in place union\n",
        "print(A)\n",
        "\n",
        "# in place intersection\n",
        "# A &= B\n",
        "A.intersection_update(B)\n",
        "print(A)\n",
        "\n",
        "# in place difference\n",
        "# A -= C\n",
        "A.difference_update(C)\n",
        "print(A)\n",
        "\n",
        "# in place symmetric_difference\n",
        "# A ^= D\n",
        "A.symmetric_difference_update(D)\n",
        "print(A)"
      ],
      "metadata": {
        "colab": {
          "base_uri": "https://localhost:8080/"
        },
        "id": "l4KefO8Wiv2G",
        "outputId": "d301c78e-da95-4895-fd35-7b3eed947c84"
      },
      "execution_count": null,
      "outputs": [
        {
          "output_type": "stream",
          "name": "stdout",
          "text": [
            "{1, 2, 3, 4, 5, 'o', 'n', 'e'}\n",
            "{1, 2, 3, 4, 5, 'two', 'o', 'three', 'n', 'e'}\n",
            "{1, 2, 3, 4, 5, 'two', 'o', 'three', 'n', 'five', 'e', 'four'}\n",
            "{4, 5}\n",
            "{4}\n",
            "{1, 2, 3, 5, 6, 7}\n"
          ]
        }
      ]
    },
    {
      "cell_type": "markdown",
      "source": [
        "update"
      ],
      "metadata": {
        "id": "uajs0bsaHMJE"
      }
    },
    {
      "cell_type": "code",
      "source": [
        "A = set()\n",
        "print(A)\n",
        "for i in range(1,11):\n",
        "  A.update({i}) \n",
        "  print(A)"
      ],
      "metadata": {
        "colab": {
          "base_uri": "https://localhost:8080/"
        },
        "id": "mkxjKNkgHMTb",
        "outputId": "41ae88a9-62be-42be-a9f2-bea8a4d37f0d"
      },
      "execution_count": null,
      "outputs": [
        {
          "output_type": "stream",
          "name": "stdout",
          "text": [
            "set()\n",
            "{1}\n",
            "{1, 2}\n",
            "{1, 2, 3}\n",
            "{1, 2, 3, 4}\n",
            "{1, 2, 3, 4, 5}\n",
            "{1, 2, 3, 4, 5, 6}\n",
            "{1, 2, 3, 4, 5, 6, 7}\n",
            "{1, 2, 3, 4, 5, 6, 7, 8}\n",
            "{1, 2, 3, 4, 5, 6, 7, 8, 9}\n",
            "{1, 2, 3, 4, 5, 6, 7, 8, 9, 10}\n"
          ]
        }
      ]
    },
    {
      "cell_type": "markdown",
      "source": [
        "###### other set methods"
      ],
      "metadata": {
        "id": "4RqcLJ4Mn7fd"
      }
    },
    {
      "cell_type": "code",
      "source": [
        "A = {1,2,3,4,5}\n",
        "B = {1,2}\n",
        "\n",
        "# add one element\n",
        "A.add(\"Hello\") # \"Hello\" is added\n",
        "print(A)\n",
        "A.update(\"Hello\") # string ---> list ---> set ---> in place union\n",
        "print(A)\n",
        "\n",
        "# remove one element\n",
        "# raise an error if not exist\n",
        "A.remove(\"Hello\") \n",
        "print(A)\n",
        "try:\n",
        "  A.remove(\"Hello\") \n",
        "except KeyError as e:\n",
        "  print(e)\n",
        "\n",
        "# discard one element\n",
        "# does not raise an error if not exist\n",
        "A.discard(\"H\") \n",
        "print(A)\n",
        "A.discard(\"H\") \n",
        "print(A)\n",
        "\n",
        "# x.pop() removes and returns an arbitrarily chosen element from x.\n",
        "# raise an error if x is empty\n",
        "item = B.pop() \n",
        "print(item, B)\n",
        "item = B.pop() \n",
        "print(item, B)\n",
        "try:\n",
        "  item = B.pop() \n",
        "except KeyError as e:\n",
        "  print(e)\n",
        "\n",
        "# x.clear() removes all elements from x\n",
        "A.clear() \n",
        "print(A)"
      ],
      "metadata": {
        "colab": {
          "base_uri": "https://localhost:8080/"
        },
        "id": "fPDamqjcn7t0",
        "outputId": "900e9d3e-8c7e-42a7-e6f0-02f52fd37223"
      },
      "execution_count": null,
      "outputs": [
        {
          "output_type": "stream",
          "name": "stdout",
          "text": [
            "{1, 2, 3, 4, 5, 'Hello'}\n",
            "{1, 2, 3, 4, 5, 'H', 'l', 'o', 'e', 'Hello'}\n",
            "{1, 2, 3, 4, 5, 'H', 'l', 'o', 'e'}\n",
            "'Hello'\n",
            "{1, 2, 3, 4, 5, 'l', 'o', 'e'}\n",
            "{1, 2, 3, 4, 5, 'l', 'o', 'e'}\n",
            "1 {2}\n",
            "2 set()\n",
            "'pop from an empty set'\n",
            "set()\n"
          ]
        }
      ]
    },
    {
      "cell_type": "markdown",
      "source": [
        "###### set boolean operations"
      ],
      "metadata": {
        "id": "aKioEURPnsHx"
      }
    },
    {
      "cell_type": "code",
      "source": [
        "A = {4,5}\n",
        "B = {4,5}\n",
        "\n",
        "# subset\n",
        "print(A.issubset(B))\n",
        "print(A<=B)   # A is subset of B\n",
        "print(A<B)    # A is proper subset of B\n",
        "\n",
        "# superset\n",
        "print(A.issuperset(B))\n",
        "print(A>=B)   # A is superset of B\n",
        "print(A>B)    # A is proper superset of B\n",
        "\n",
        "# disjoint\n",
        "print(A.isdisjoint(B))"
      ],
      "metadata": {
        "id": "JRmkYtYxnsgJ"
      },
      "execution_count": null,
      "outputs": []
    },
    {
      "cell_type": "markdown",
      "source": [
        "###### set members must be immutable (advanced)"
      ],
      "metadata": {
        "id": "2rukjkTWgXkr"
      }
    },
    {
      "cell_type": "code",
      "source": [
        "# tuple is immutable\n",
        "s = {3, 3.14159, 'Hello World', (1, 2, 3)}\n",
        "print(s, type(s), len(s))\n",
        "\n",
        "# list is mutable\n",
        "try:\n",
        "  s = {3, 3.14159, 'Hello World', [1, 2, 3]}\n",
        "  print(s, type(s), len(s))\n",
        "except TypeError as e:\n",
        "  print(e)\n",
        "\n",
        "# dictionary is mutable\n",
        "try:\n",
        "  s = {3, 3.14159, 'Hello World', {'one': 1, 'two': 2, 'three': 3}}\n",
        "  print(s, type(s), len(s))\n",
        "except TypeError as e:\n",
        "  print(e)"
      ],
      "metadata": {
        "colab": {
          "base_uri": "https://localhost:8080/"
        },
        "id": "ZW3nsf_ZgYDT",
        "outputId": "77f318a2-bcd9-4c04-8103-b11c2ad8d7cc"
      },
      "execution_count": null,
      "outputs": [
        {
          "output_type": "stream",
          "name": "stdout",
          "text": [
            "{3.14159, 3, 'Hello World', (1, 2, 3)} <class 'set'> 4\n",
            "unhashable type: 'list'\n",
            "unhashable type: 'dict'\n"
          ]
        }
      ]
    },
    {
      "cell_type": "markdown",
      "source": [
        "###***Chapter 12 membership test***"
      ],
      "metadata": {
        "id": "9s73D3ExYy_Q"
      }
    },
    {
      "cell_type": "markdown",
      "source": [
        "###### membership test"
      ],
      "metadata": {
        "id": "TKBblfCqlKb7"
      }
    },
    {
      "cell_type": "code",
      "source": [
        "# list membership test\n",
        "a = ['History', 'Math', 'Physics', 'CompSci', 'Math']\n",
        "print('Math' in a)\n",
        "\n",
        "# tuple membership test\n",
        "a = ('History', 'Math', 'Physics', 'CompSci', 'Math')\n",
        "print('Math' in a)\n",
        "\n",
        "# set membership test\n",
        "a = {'History', 'Math', 'Physics', 'CompSci', 'Math'}\n",
        "print('Math' in a)\n",
        "\n",
        "# dict membership test\n",
        "a = {'History':10, 'Math':20, 'Physics':30, 'CompSci':40}\n",
        "print('Math' in a) # key checked\n",
        "print(20 in a) # value not checked "
      ],
      "metadata": {
        "colab": {
          "base_uri": "https://localhost:8080/"
        },
        "id": "VYCE6tkOYzOv",
        "outputId": "cad86b92-288d-42e0-b687-c7e40f91fdb1"
      },
      "execution_count": null,
      "outputs": [
        {
          "output_type": "stream",
          "name": "stdout",
          "text": [
            "True\n",
            "True\n",
            "True\n",
            "True\n",
            "False\n"
          ]
        }
      ]
    },
    {
      "cell_type": "markdown",
      "source": [
        "###***Chapter 13 sequence***"
      ],
      "metadata": {
        "id": "vyoGeBkpe9EZ"
      }
    },
    {
      "cell_type": "code",
      "source": [
        "# sequence - list, tuple, string\n",
        "a = [ 0, 1, 2, 3, 4, 5, 6, 7, 8]\n",
        "b = [ 0, 1, 2, 3, 4, 5, 6, 7, 8]\n",
        "c = \"Hello Pi\"\n",
        "\n",
        "# len\n",
        "print(len(a), len(b), len(c))\n",
        "\n",
        "# indexing\n",
        "print(a[3], b[3], c[3])\n",
        "\n",
        "# slicing\n",
        "print(a[3:5], b[3:5], c[3:5])\n",
        "\n",
        "# concatenation\n",
        "print( ['frog', 'pig'] + ['cow', 'horse'] )\n",
        "print( ('frog', 'pig') + ('cow', 'horse') )\n",
        "print( 'frog' + 'pig' )\n",
        "\n",
        "# another concatenation \n",
        "print( ['frog', 'pig'] * 3 )\n",
        "print( ('frog', 'pig') * 3 )\n",
        "print( 'frog' * 3 )"
      ],
      "metadata": {
        "id": "r97mY4Tfe9Q5"
      },
      "execution_count": null,
      "outputs": []
    },
    {
      "cell_type": "markdown",
      "source": [
        "###***Chapter 14 packing and unpacking***"
      ],
      "metadata": {
        "id": "8ufOEEXplRiL"
      }
    },
    {
      "cell_type": "markdown",
      "source": [
        "###### unpacking"
      ],
      "metadata": {
        "id": "rRVTEq6yy7YE"
      }
    },
    {
      "cell_type": "code",
      "source": [
        "# string unpacking\n",
        "a, b, c, d, e = 'hippo' # unpacking \n",
        "print(a,b,c,sep=\"\\n\")\n",
        "\n",
        "# list unpacking\n",
        "a, b, _, _, c = ['frog', 'pig', 'cow', 'dog', 'horse'] # skipping using _\n",
        "print(a,b,c,sep=\"\\n\")\n",
        "\n",
        "# tuple unpacking\n",
        "a, b, *_, c = ('frog', 'pig', 'cow', 'dog', 'horse') # skipping using *_\n",
        "print(a,b,c,sep=\"\\n\")"
      ],
      "metadata": {
        "colab": {
          "base_uri": "https://localhost:8080/"
        },
        "id": "gBFiFTKPy7jU",
        "outputId": "11ab981b-6af0-461c-de95-5cecd1880641"
      },
      "execution_count": null,
      "outputs": [
        {
          "output_type": "stream",
          "name": "stdout",
          "text": [
            "h\n",
            "i\n",
            "o\n"
          ]
        }
      ]
    },
    {
      "cell_type": "markdown",
      "source": [
        "###### packing"
      ],
      "metadata": {
        "id": "r22WHm8S1BoF"
      }
    },
    {
      "cell_type": "code",
      "source": [
        "# packing\n",
        "a = 1, 2, 3\n",
        "print(a)\n",
        "\n",
        "# packing and then unpacking\n",
        "a, b, c = 1, 2, 3\n",
        "print(a)\n",
        "\n",
        "# unpacking and then packing\n",
        "_, _, *a, _ = ('frog', 'pig', 'cow', 'dog', 'horse') # packing\n",
        "print(a,sep=\"\\n\")"
      ],
      "metadata": {
        "colab": {
          "base_uri": "https://localhost:8080/"
        },
        "id": "Cm3M9-kD0R62",
        "outputId": "430b5319-a23d-4090-b03a-f9e063ca3a78"
      },
      "execution_count": null,
      "outputs": [
        {
          "output_type": "stream",
          "name": "stdout",
          "text": [
            "(1, 2, 3)\n",
            "1\n",
            "['cow', 'dog']\n"
          ]
        }
      ]
    },
    {
      "cell_type": "markdown",
      "source": [
        "###***Chapter 15 comprehension***"
      ],
      "metadata": {
        "id": "ZNUp0UZcP08y"
      }
    },
    {
      "cell_type": "code",
      "source": [
        "# list comprehension\n",
        "# vector addition using list comprehension  \n",
        "a = [1,2,3]\n",
        "b = [4,5,6]  \n",
        "c = [x + y for x, y in zip(a,b)]\n",
        "print(c)\n",
        "\n",
        "# list comprehension\n",
        "a = [i for i in range(10) if i%2==0]\n",
        "print(a)\n",
        "\n",
        "# set comprehension\n",
        "s = {m for m in range(8)}\n",
        "print(s, type(s), len(s))\n",
        "\n",
        "# set comprehension\n",
        "s = {m**2 for m in range(8) if m>4}  \n",
        "print(s, type(s), len(s))\n",
        "\n",
        "# generator comprehension, not tuple comprehension\n",
        "a = [1, 2, 3, 4, 5]        \n",
        "b = (i**2 for i in a) # generator comprehension ---> generator \n",
        "print(next(b), end='\\t') # 1\n",
        "print(next(b), end='\\t') # 4\n",
        "print(next(b), end='\\t') # 9\n",
        "print(next(b), end='\\t') # 16\n",
        "print(next(b), end='\\t') # 25\n",
        "try:\n",
        "    print(next(b), end='\\t') # StopIteration \n",
        "except StopIteration:\n",
        "    print('StopIteration Error Occurs!')\n",
        "\n",
        "# various comprehensions\n",
        "a = [1, 2, 3, 4, 5]        \n",
        "b = [i**2 for i in a]      # list comprehension ---> list\n",
        "c = tuple(i**2 for i in a) # tuple comprehension ---> tuple \n",
        "d = {i : i**2 for i in a}  # dict comprehension ---> dict\n",
        "e = {i**2 for i in a}      # set comprehension ---> set \n",
        "f = (i**2 for i in a)      # generator comprehension ---> generator "
      ],
      "metadata": {
        "id": "cytaOHflP1Z3",
        "colab": {
          "base_uri": "https://localhost:8080/"
        },
        "outputId": "1c389d22-3812-4d13-e0ba-77c883833ebd"
      },
      "execution_count": null,
      "outputs": [
        {
          "output_type": "stream",
          "name": "stdout",
          "text": [
            "[5, 7, 9]\n",
            "[0, 2, 4, 6, 8]\n",
            "1\t4\t9\t16\t25\tStopIteration Error Occurs!\n"
          ]
        }
      ]
    },
    {
      "cell_type": "markdown",
      "source": [
        "###### lambda"
      ],
      "metadata": {
        "id": "dWOTrOUe9NCP"
      }
    },
    {
      "cell_type": "code",
      "source": [
        "# one variable\n",
        "f = lambda x: 2 * x\n",
        "print(f(5))\n",
        "\n",
        "# two variable\n",
        "f = lambda x, y: 2 * x + y\n",
        "print(f(5,10))\n",
        "\n",
        "# if else\n",
        "f = lambda x, y: 2 * x + y if x > y else y\n",
        "print(f(5,10))"
      ],
      "metadata": {
        "colab": {
          "base_uri": "https://localhost:8080/"
        },
        "id": "f5rB_1UUaFJg",
        "outputId": "6792098b-ad5d-4125-d571-b9df312c1864"
      },
      "execution_count": null,
      "outputs": [
        {
          "output_type": "stream",
          "name": "stdout",
          "text": [
            "10\n",
            "20\n",
            "10\n"
          ]
        }
      ]
    },
    {
      "cell_type": "markdown",
      "source": [
        "###### UnboundLocalError"
      ],
      "metadata": {
        "id": "IsNFdCFZa2H5"
      }
    },
    {
      "cell_type": "code",
      "source": [
        "# LEGB\n",
        "def print_x():\n",
        "    print(x) # <--- x is a global variable\n",
        "x = 1\n",
        "print_x()\n",
        "\n",
        "# LEGB\n",
        "def print_x():\n",
        "    x = 10 # <--- x is a local variable\n",
        "    print(x) # <--- x is a local variable\n",
        "x = 1\n",
        "print_x()\n",
        "\n",
        "# UnboundLocalError\n",
        "def print_x():\n",
        "    print(x) # <--- x is a local variable\n",
        "    x = 10 # <--- x is a local variable\n",
        "x = 1\n",
        "try:\n",
        "    print_x()\n",
        "except UnboundLocalError as e:\n",
        "    print(e)\n",
        "print(print_x.__code__.co_varnames) # local variables of the function print_x\n",
        "\n",
        "# UnboundLocalError\n",
        "def print_x():\n",
        "    x = x + 10 # <--- x is a local variable\n",
        "    print(x) # <--- x is a local variable\n",
        "x = 1\n",
        "try:\n",
        "    print_x()\n",
        "except UnboundLocalError as e:\n",
        "    print(e)\n",
        "print(print_x.__code__.co_varnames) # local variables of the function print_x"
      ],
      "metadata": {
        "colab": {
          "base_uri": "https://localhost:8080/"
        },
        "id": "lqe8JSiTa20P",
        "outputId": "0ee3cdf4-3c7d-4833-9ba9-52eca2871d45"
      },
      "execution_count": null,
      "outputs": [
        {
          "output_type": "stream",
          "name": "stdout",
          "text": [
            "1\n",
            "10\n",
            "local variable 'x' referenced before assignment\n",
            "('x',)\n",
            "local variable 'x' referenced before assignment\n",
            "('x',)\n"
          ]
        }
      ]
    },
    {
      "cell_type": "markdown",
      "source": [
        "###***Chapter 16 for and while loop***"
      ],
      "metadata": {
        "id": "THTvVXj_gZJ0"
      }
    },
    {
      "cell_type": "markdown",
      "source": [
        "###### for loop using range"
      ],
      "metadata": {
        "id": "VAKdfD1N2ora"
      }
    },
    {
      "cell_type": "code",
      "source": [
        "for i in range(5): # 0, 1, 2, 3, 4 \n",
        "    print(i)\n",
        "\n",
        "for i in range(1,5): # 1, 2, 3, 4 \n",
        "    print(i)\n",
        "\n",
        "for i in range(1,5,2): # 1, 3 \n",
        "    print(i)\n",
        "\n",
        "# summation from 1 to 10\n",
        "sum = 0\n",
        "for i in range(1,11):\n",
        "    sum += i\n",
        "print(sum)"
      ],
      "metadata": {
        "id": "qtNhuDZ52pHQ"
      },
      "execution_count": null,
      "outputs": []
    },
    {
      "cell_type": "markdown",
      "source": [
        "###### for loop using string"
      ],
      "metadata": {
        "id": "bpDcJFr52FKt"
      }
    },
    {
      "cell_type": "code",
      "source": [
        "# string\n",
        "for i in \"Hello Python\":\n",
        "  print(i)"
      ],
      "metadata": {
        "id": "wS7lgJcs2FaT"
      },
      "execution_count": null,
      "outputs": []
    },
    {
      "cell_type": "markdown",
      "source": [
        "###### for loop using list and tuple"
      ],
      "metadata": {
        "id": "vnGe4I4G3-PI"
      }
    },
    {
      "cell_type": "code",
      "source": [
        "# list\n",
        "for i in [1,2,3]:\n",
        "  print(i)\n",
        "\n",
        "# list\n",
        "for i in [1, 2, 3, [4, 5]]:\n",
        "  print(i)\n",
        "\n",
        "# tuple\n",
        "for i in (1,2,3):\n",
        "  print(i)\n",
        "\n",
        "# tuple\n",
        "for i in (1, 2, 3, [4, 5]):\n",
        "  print(i)"
      ],
      "metadata": {
        "id": "20lVC22x3-aP"
      },
      "execution_count": null,
      "outputs": []
    },
    {
      "cell_type": "markdown",
      "source": [
        "###### for loop using set and frozen set"
      ],
      "metadata": {
        "id": "c76Qdx0744pr"
      }
    },
    {
      "cell_type": "code",
      "source": [
        "# set\n",
        "for i in set([1,2,3]):\n",
        "  print(i)\n",
        "\n",
        "# frozen set\n",
        "for i in frozenset([1,2,3]):\n",
        "  print(i)"
      ],
      "metadata": {
        "id": "IaqH6amQ443L"
      },
      "execution_count": null,
      "outputs": []
    },
    {
      "cell_type": "markdown",
      "source": [
        "###### for loop using dict"
      ],
      "metadata": {
        "id": "NL9gKqFQKqAy"
      }
    },
    {
      "cell_type": "markdown",
      "source": [
        "for loop using key only"
      ],
      "metadata": {
        "id": "-ta3hJacG3xG"
      }
    },
    {
      "cell_type": "code",
      "source": [
        "d = {'one':1,'two':2,'three':3}\n",
        "for i in d:\n",
        "  print(i)"
      ],
      "metadata": {
        "id": "4L6jLDCYG37a"
      },
      "execution_count": null,
      "outputs": []
    },
    {
      "cell_type": "markdown",
      "source": [
        "for loop using key only - another way (do I need this?)"
      ],
      "metadata": {
        "id": "BVRRUSLoG4Ez"
      }
    },
    {
      "cell_type": "code",
      "source": [
        "d = {'one':1,'two':2,'three':3}\n",
        "for i in d.keys():\n",
        "  print(i)"
      ],
      "metadata": {
        "id": "6tJYXgNSG4NS"
      },
      "execution_count": null,
      "outputs": []
    },
    {
      "cell_type": "markdown",
      "source": [
        "for loop using value only "
      ],
      "metadata": {
        "id": "axj_h5_vG4V_"
      }
    },
    {
      "cell_type": "code",
      "source": [
        "d = {'one':1,'two':2,'three':3}\n",
        "for i in d.values():\n",
        "  print(i)"
      ],
      "metadata": {
        "id": "XwPPWtIsG4fY"
      },
      "execution_count": null,
      "outputs": []
    },
    {
      "cell_type": "markdown",
      "source": [
        "for loop using key, value pair"
      ],
      "metadata": {
        "id": "N9__qZFVG4n1"
      }
    },
    {
      "cell_type": "code",
      "source": [
        "d = {'one':1,'two':2,'three':3}\n",
        "for key, value in d.items():\n",
        "    print(key, value)"
      ],
      "metadata": {
        "colab": {
          "base_uri": "https://localhost:8080/"
        },
        "id": "g0vrBnAHK1bP",
        "outputId": "289750d3-6dfb-4926-9630-4bcd8e5d9d31"
      },
      "execution_count": null,
      "outputs": [
        {
          "output_type": "stream",
          "name": "stdout",
          "text": [
            "[5, 7, 9]\n"
          ]
        }
      ]
    },
    {
      "cell_type": "markdown",
      "source": [
        "###### zip"
      ],
      "metadata": {
        "id": "il5eT_Pj2yvs"
      }
    },
    {
      "cell_type": "markdown",
      "source": [
        "vector addition"
      ],
      "metadata": {
        "id": "vPkNH4K2gESZ"
      }
    },
    {
      "cell_type": "markdown",
      "source": [
        "$$\n",
        "[1,2,3]+[4,5,6]=[5,7,9]\n",
        "$$"
      ],
      "metadata": {
        "id": "UpE6xcdWgINu"
      }
    },
    {
      "cell_type": "code",
      "source": [
        "a = [1,2,3]\n",
        "b = [4,5,6]\n",
        "c = []\n",
        "for a_i, b_i in zip(a,b):\n",
        "  c.append(a_i+b_i)\n",
        "print(c)"
      ],
      "metadata": {
        "colab": {
          "base_uri": "https://localhost:8080/"
        },
        "id": "cWNV5qfj2y72",
        "outputId": "2b8ee917-ef00-45db-836a-2208460a8314"
      },
      "execution_count": null,
      "outputs": [
        {
          "output_type": "stream",
          "name": "stdout",
          "text": [
            "[5, 7, 9]\n",
            "0 Bob\n",
            "1 John\n",
            "2 Smoth\n"
          ]
        }
      ]
    },
    {
      "cell_type": "markdown",
      "source": [
        "###### enumerate"
      ],
      "metadata": {
        "id": "oxPLaAtxf5Iv"
      }
    },
    {
      "cell_type": "code",
      "source": [
        "names = ['Bob', 'John', 'Smoth']\n",
        "for idx, name in enumerate(names):\n",
        "  print(idx, name)"
      ],
      "metadata": {
        "id": "LQIvWrqyf5Um"
      },
      "execution_count": null,
      "outputs": []
    },
    {
      "cell_type": "markdown",
      "source": [
        "###### for else"
      ],
      "metadata": {
        "id": "ux9Lu2IO_1vt"
      }
    },
    {
      "cell_type": "code",
      "source": [
        "for i in range(4):\n",
        "  print(i, end='\\t')\n",
        "  if i == 10:\n",
        "    break\n",
        "else: # no break\n",
        "  print('no break', end='\\t') # this works only when for loop does not break\n",
        "print(\"WOW\")"
      ],
      "metadata": {
        "id": "KAaf0fAy_14e"
      },
      "execution_count": null,
      "outputs": []
    },
    {
      "cell_type": "markdown",
      "source": [
        "###### while loop"
      ],
      "metadata": {
        "id": "gw1v-_eNlpII"
      }
    },
    {
      "cell_type": "code",
      "source": [
        "x = 0\n",
        "while x < 5:\n",
        "    print(x, end=\"\\t\")\n",
        "    x += 1"
      ],
      "metadata": {
        "id": "PQCK3giOlpVQ"
      },
      "execution_count": null,
      "outputs": []
    },
    {
      "cell_type": "markdown",
      "source": [
        "###### break and continue in for loop"
      ],
      "metadata": {
        "id": "B4TqPXX0jOKV"
      }
    },
    {
      "cell_type": "code",
      "source": [
        "# break for loop\n",
        "for i in range(1,10):\n",
        "  if i == 7:\n",
        "    break # break entire for loop\n",
        "  print(i)\n",
        "\n",
        "# continue for loop\n",
        "for i in range(1,10):\n",
        "  if i == 7:\n",
        "    continue # skip the rest when i == 7\n",
        "  print(i)\n",
        "\n",
        "# Exercise: What is the output of the below code?\n",
        "for i in range(10):\n",
        "    print(i)\n",
        "    if i == 4:\n",
        "        break\n",
        "    if i == 2:\n",
        "        continue\n",
        "    print(\"Hi\") # ignored"
      ],
      "metadata": {
        "id": "N97zRcBajOiX"
      },
      "execution_count": null,
      "outputs": []
    },
    {
      "cell_type": "markdown",
      "source": [
        "###### break and continue in while loop"
      ],
      "metadata": {
        "id": "vh1Hk88Uy3yC"
      }
    },
    {
      "cell_type": "code",
      "source": [
        "# break while loop\n",
        "x = 0\n",
        "while x <= 10:\n",
        "    if x == 5:\n",
        "        break\n",
        "    print(x, end=\"\\t\")\n",
        "    x += 1\n",
        "\n",
        "# continue while loop\n",
        "x = 0\n",
        "while x <= 10:\n",
        "    if x == 5:\n",
        "        continue\n",
        "    print(x, end=\"\\t\")\n",
        "    x += 1"
      ],
      "metadata": {
        "colab": {
          "base_uri": "https://localhost:8080/"
        },
        "id": "3Ss5ty1ly4FG",
        "outputId": "ffa70220-acc6-43a5-d969-fdbd2cc47751"
      },
      "execution_count": null,
      "outputs": [
        {
          "output_type": "stream",
          "name": "stdout",
          "text": [
            "1\t2\t3\t4\t5\t6\t"
          ]
        }
      ]
    },
    {
      "cell_type": "markdown",
      "source": [
        "###### while else"
      ],
      "metadata": {
        "id": "4_q-8nDl5Ecw"
      }
    },
    {
      "cell_type": "code",
      "source": [
        "x = 0\n",
        "while x <= 4:\n",
        "  print(x, end='\\t')\n",
        "  if x == 10:\n",
        "    break\n",
        "  x += 1\n",
        "else: # no break\n",
        "  print('no break', end='\\t') # this works only when while loop does not break\n",
        "print(\"WOW\")"
      ],
      "metadata": {
        "colab": {
          "base_uri": "https://localhost:8080/"
        },
        "id": "Rw38vqBZ5Ex_",
        "outputId": "6c6185f1-528c-4454-a0e8-388a4fbdf64a"
      },
      "execution_count": null,
      "outputs": [
        {
          "output_type": "stream",
          "name": "stdout",
          "text": [
            "0\t1\t2\t3\tno break\tWOW\n"
          ]
        }
      ]
    },
    {
      "cell_type": "markdown",
      "source": [
        "###***Chapter 17 if***"
      ],
      "metadata": {
        "id": "PeFfhXtajY7d"
      }
    },
    {
      "cell_type": "markdown",
      "source": [
        "###### if statement"
      ],
      "metadata": {
        "id": "qgU6fh9nv8mu"
      }
    },
    {
      "cell_type": "code",
      "source": [
        "# if\n",
        "if True:\n",
        "  print('Conditional was True')\n",
        "\n",
        "# if else\n",
        "if False:\n",
        "  print('Conditional was True')\n",
        "else:\n",
        "  print('Conditional was False')\n",
        "\n",
        "# if elif\n",
        "if False:\n",
        "  print('Conditional was True')\n",
        "elif True:\n",
        "  print('Second Conditional was True')\n",
        "\n",
        "# if elif else\n",
        "if False:\n",
        "  print('Conditional was True')\n",
        "elif False:\n",
        "  print('Second Conditional was True')\n",
        "else:\n",
        "  print('Second Conditional was False')\n",
        "\n",
        "# False Values\n",
        "# - False\n",
        "# - None\n",
        "# - Zero of any numeric type\n",
        "# - Any empty sequence. For example, '', (), []\n",
        "# - Any empty mapping. For example, {}"
      ],
      "metadata": {
        "id": "rB72sxGHv8z1",
        "colab": {
          "base_uri": "https://localhost:8080/"
        },
        "outputId": "bc8cf4d9-cf9c-4938-ae5c-943778a61d47"
      },
      "execution_count": null,
      "outputs": [
        {
          "output_type": "stream",
          "name": "stdout",
          "text": [
            "Conditional was True\n",
            "Conditional was False\n",
            "Second Conditional was True\n",
            "Second Conditional was False\n"
          ]
        }
      ]
    },
    {
      "cell_type": "markdown",
      "source": [
        "###### one line if else"
      ],
      "metadata": {
        "id": "cuOe_QAMxaNm"
      }
    },
    {
      "cell_type": "code",
      "source": [
        "x = 1 if True else -1\n",
        "print(x)"
      ],
      "metadata": {
        "id": "RQYUcEZXxah6",
        "colab": {
          "base_uri": "https://localhost:8080/"
        },
        "outputId": "397e3ae9-a28a-4f34-864d-c0e170430126"
      },
      "execution_count": null,
      "outputs": [
        {
          "output_type": "stream",
          "name": "stdout",
          "text": [
            "1\n"
          ]
        }
      ]
    },
    {
      "cell_type": "markdown",
      "source": [
        "###***Chapter 18 variable***"
      ],
      "metadata": {
        "id": "TQ-Om7DT9Ut1"
      }
    },
    {
      "cell_type": "markdown",
      "source": [
        "###***Chapter 19 Function***"
      ],
      "metadata": {
        "id": "Yi67-_DpY-44"
      }
    },
    {
      "cell_type": "markdown",
      "source": [
        "###### positional argument, key argument, default value"
      ],
      "metadata": {
        "id": "udx4Wl5_dfC-"
      }
    },
    {
      "cell_type": "code",
      "source": [
        "def f(x,y,z=3,w=4):\n",
        "  # x, y - positional argument\n",
        "  # z, w - key argument\n",
        "  # 2, 3 - default value\n",
        "  return x + 2*y + 3*z + 4*w\n",
        "\n",
        "print(f(1,2))\n",
        "print(f(1,2,3))\n",
        "print(f(1,2,3,4))"
      ],
      "metadata": {
        "colab": {
          "base_uri": "https://localhost:8080/"
        },
        "id": "9qDTJDhVdfUJ",
        "outputId": "c7d605b1-3f61-46ff-fb34-d049a02428ef"
      },
      "execution_count": null,
      "outputs": [
        {
          "output_type": "stream",
          "name": "stdout",
          "text": [
            "30\n",
            "30\n",
            "30\n"
          ]
        }
      ]
    },
    {
      "cell_type": "markdown",
      "source": [
        "###### with () vs without ()"
      ],
      "metadata": {
        "id": "CgVgE0ksZNPk"
      }
    },
    {
      "cell_type": "code",
      "source": [
        "def func(x):\n",
        "  return x + 1\n",
        "\n",
        "# with () ---> function excution\n",
        "print(func(7))\n",
        "\n",
        "# without () ---> function object itself\n",
        "print(func) "
      ],
      "metadata": {
        "id": "H7iuXxPwZNcE"
      },
      "execution_count": null,
      "outputs": []
    },
    {
      "cell_type": "markdown",
      "source": [
        "###### with return vs without return"
      ],
      "metadata": {
        "id": "i85GncRmZyEg"
      }
    },
    {
      "cell_type": "markdown",
      "source": [
        "with return"
      ],
      "metadata": {
        "id": "YtLEG7gqaLMe"
      }
    },
    {
      "cell_type": "code",
      "source": [
        "def func(x):\n",
        "  print(x + 1)\n",
        "  return 100\n",
        "\n",
        "# with return ---> guess output\n",
        "print(func(7))"
      ],
      "metadata": {
        "id": "JuOXlkroZyTL"
      },
      "execution_count": null,
      "outputs": []
    },
    {
      "cell_type": "markdown",
      "source": [
        "without return"
      ],
      "metadata": {
        "id": "jMreEBlUaShp"
      }
    },
    {
      "cell_type": "code",
      "source": [
        "def func(x):\n",
        "  print(x + 1)\n",
        "\n",
        "# without return ---> guess output\n",
        "print(func(7))"
      ],
      "metadata": {
        "colab": {
          "base_uri": "https://localhost:8080/"
        },
        "id": "Z7j4FmHDaSs6",
        "outputId": "8a895ad4-ca0c-43a6-8452-96f5a6a8b3d1"
      },
      "execution_count": null,
      "outputs": [
        {
          "output_type": "stream",
          "name": "stdout",
          "text": [
            "8\n",
            "None\n"
          ]
        }
      ]
    },
    {
      "cell_type": "markdown",
      "source": [
        "function without return statement returns None as default"
      ],
      "metadata": {
        "id": "7xdyzQhAamUl"
      }
    },
    {
      "cell_type": "code",
      "source": [
        "# this is the same as the below\n",
        "def func(x):\n",
        "  print(x + 1)\n",
        "\n",
        "a = func(7)\n",
        "print(a, type(a))\n",
        "\n",
        "# this is the same as the above\n",
        "def func(x):\n",
        "  print(x + 1)\n",
        "  return\n",
        "\n",
        "a = func(7)\n",
        "print(a, type(a))\n",
        "\n",
        "# this is the same as the above\n",
        "def func(x):\n",
        "  print(x + 1)\n",
        "  return None\n",
        "  \n",
        "a = func(7)\n",
        "print(a, type(a))"
      ],
      "metadata": {
        "colab": {
          "base_uri": "https://localhost:8080/"
        },
        "id": "UUev_JJxamf1",
        "outputId": "9f1af535-3c16-4746-9f9e-1d6d08e84285"
      },
      "execution_count": null,
      "outputs": [
        {
          "output_type": "stream",
          "name": "stdout",
          "text": [
            "8\n",
            "None <class 'NoneType'>\n",
            "8\n",
            "None <class 'NoneType'>\n",
            "8\n",
            "None <class 'NoneType'>\n"
          ]
        }
      ]
    },
    {
      "cell_type": "markdown",
      "source": [
        "###### unpacking related to function's argument"
      ],
      "metadata": {
        "id": "ZQXPb8D2cRHE"
      }
    },
    {
      "cell_type": "code",
      "source": [
        "def f(x,y,z):\n",
        "  return x + y + z\n",
        "\n",
        "print(f(1,2,3))\n",
        "\n",
        "# unpacking tuple\n",
        "a = (1,2,3)\n",
        "print(f(*a))\n",
        "\n",
        "# unpacking dict\n",
        "a = {\"x\" : 1, \"y\" : 2, \"z\" : 3}\n",
        "print(f(**a))"
      ],
      "metadata": {
        "colab": {
          "base_uri": "https://localhost:8080/"
        },
        "id": "WazxObqWcRez",
        "outputId": "6ff4b2f8-5c35-4be9-ac52-ed3b2c95a54e"
      },
      "execution_count": null,
      "outputs": [
        {
          "output_type": "stream",
          "name": "stdout",
          "text": [
            "6\n",
            "6\n",
            "6\n"
          ]
        }
      ]
    },
    {
      "cell_type": "markdown",
      "source": [
        "###### recursion"
      ],
      "metadata": {
        "id": "ezF63wt8-31B"
      }
    },
    {
      "cell_type": "code",
      "source": [
        "# Tower of Hanoi\n",
        "# a_n = 2a_{n-1}+1, a_1=1\n",
        "def a(n):    \n",
        "    # Base Case\n",
        "    if (n==1):\n",
        "        return 1 \n",
        "    # Recursive Case\n",
        "    return 2 * a(n-1) + 1\n",
        "for n in range(1,10):\n",
        "    print(a(n))\n",
        "\n",
        "# Fibonacci Numbers\n",
        "# a_n=a_{n-1}+a_{n-2}, a_0=0, a_1=1\n",
        "def a(n):   \n",
        "    # Base Case\n",
        "    if n <= 1:\n",
        "        return n    \n",
        "    # Recursive Case\n",
        "    return a(n-1) + a(n-2)\n",
        "for n in range(1,10):\n",
        "    print(a(n))"
      ],
      "metadata": {
        "colab": {
          "base_uri": "https://localhost:8080/"
        },
        "id": "abu2cXVpP-tR",
        "outputId": "5fe50bad-8318-4a54-d50a-a85d376a8408"
      },
      "execution_count": null,
      "outputs": [
        {
          "output_type": "stream",
          "name": "stdout",
          "text": [
            "1\n",
            "3\n",
            "7\n",
            "15\n",
            "31\n",
            "63\n",
            "127\n",
            "255\n",
            "511\n",
            "1\n",
            "1\n",
            "2\n",
            "3\n",
            "5\n",
            "8\n",
            "13\n",
            "21\n",
            "34\n",
            "1\n",
            "3\n",
            "6\n",
            "10\n",
            "15\n",
            "21\n",
            "28\n",
            "36\n",
            "45\n"
          ]
        }
      ]
    },
    {
      "cell_type": "markdown",
      "source": [
        "###***Chapter 20 map, filter, reduce (advanced)***"
      ],
      "metadata": {
        "id": "2OiIU-ZA-5-Z"
      }
    },
    {
      "cell_type": "code",
      "source": [
        "# [Python's map(): Processing Iterables Without a Loop](https://realpython.com/python-map-function/)\n",
        "# I like to read the section \"Coding With Functional Style in Python\"\n",
        "# where there is an interesting historical note on the development of\n",
        "# functional style coding in python. \n",
        "\n",
        "import functools \n",
        "\n",
        "# map : iterable ---> new iterable \n",
        "a = [1,2,3,4]\n",
        "a = list(map(lambda x: x**2, a)) # iterable ---> list\n",
        "print(a)\n",
        "\n",
        "# filter : iterable ---> new iterable \n",
        "a = [1,2,3,4]\n",
        "a = list(filter(lambda x: x > 2, a)) # iterable ---> list\n",
        "print(a)\n",
        "\n",
        "# reduce : iterable ---> a single cumulative value\n",
        "a = [1,2,3,4]\n",
        "a = functools.reduce(lambda x, y: x + y, a)\n",
        "print(a)"
      ],
      "metadata": {
        "colab": {
          "base_uri": "https://localhost:8080/"
        },
        "id": "m9HEpsZT1nEn",
        "outputId": "dc6adae6-7c6a-4b9c-a3d5-6d8eaacffd25"
      },
      "execution_count": null,
      "outputs": [
        {
          "output_type": "stream",
          "name": "stdout",
          "text": [
            "[1, 4, 9, 16]\n",
            "[3, 4]\n",
            "10\n"
          ]
        }
      ]
    },
    {
      "cell_type": "markdown",
      "source": [
        "###***Chapter 20 Scope***"
      ],
      "metadata": {
        "id": "2JYqqelRiBaK"
      }
    },
    {
      "cell_type": "markdown",
      "source": [
        "######***LEGB***"
      ],
      "metadata": {
        "id": "T16XoW16rKmB"
      }
    },
    {
      "cell_type": "markdown",
      "source": [
        "***Use it if the object is in local scope***"
      ],
      "metadata": {
        "id": "R_w3c9Zsi1vN"
      }
    },
    {
      "cell_type": "code",
      "source": [
        "a = 3\n",
        "\n",
        "def main():\n",
        "    a = 4  \n",
        "\n",
        "    def some_function():\n",
        "        a = 5\n",
        "        print(a) # what will be the output of this line\n",
        "\n",
        "    some_function()\n",
        "    print(a) # what will be the output of this line\n",
        "\n",
        "print(a) # what will be the output of this line\n",
        "if __name__ == \"__main__\":\n",
        "    main()"
      ],
      "metadata": {
        "colab": {
          "base_uri": "https://localhost:8080/"
        },
        "id": "uXfrqmFWiGtw",
        "outputId": "a87a50e4-9323-40eb-d8cb-3f762eaeba55"
      },
      "execution_count": null,
      "outputs": [
        {
          "output_type": "stream",
          "name": "stdout",
          "text": [
            "3\n",
            "5\n",
            "4\n"
          ]
        }
      ]
    },
    {
      "cell_type": "markdown",
      "source": [
        "***Search it in the next level, enclosing scope, if the object is not in local scope***"
      ],
      "metadata": {
        "id": "R7L9J5wui9U1"
      }
    },
    {
      "cell_type": "code",
      "source": [
        "a = 3\n",
        "\n",
        "def main():\n",
        "    a = 4  \n",
        "\n",
        "    def some_function():\n",
        "        #a = 5\n",
        "        print(a) # what will be the output of this line\n",
        "\n",
        "    some_function()\n",
        "    print(a) # what will be the output of this line\n",
        "\n",
        "print(a) # what will be the output of this line\n",
        "if __name__ == \"__main__\":\n",
        "    main()"
      ],
      "metadata": {
        "colab": {
          "base_uri": "https://localhost:8080/"
        },
        "id": "loTuHofEiwj3",
        "outputId": "bf9b5681-489f-4eae-8b97-e23800ed19c2"
      },
      "execution_count": null,
      "outputs": [
        {
          "output_type": "stream",
          "name": "stdout",
          "text": [
            "3\n",
            "4\n",
            "4\n"
          ]
        }
      ]
    },
    {
      "cell_type": "markdown",
      "source": [
        "\n",
        "\n",
        "***Search it in the next level, global scope, if the object is not in local or enclosing scope***"
      ],
      "metadata": {
        "id": "qqPIJMC0j60Y"
      }
    },
    {
      "cell_type": "code",
      "source": [
        "a = 3\n",
        "\n",
        "def main():\n",
        "    #a = 4  \n",
        "\n",
        "    def some_function():\n",
        "        #a = 5\n",
        "        print(a) # what will be the output of this line\n",
        "\n",
        "    some_function()\n",
        "    print(a) # what will be the output of this line\n",
        "\n",
        "print(a) # what will be the output of this line\n",
        "if __name__ == \"__main__\":\n",
        "    main()"
      ],
      "metadata": {
        "colab": {
          "base_uri": "https://localhost:8080/"
        },
        "id": "d9G9xNb0j69q",
        "outputId": "ffbd3f22-b315-42e1-afc6-1e9b48eb6990"
      },
      "execution_count": null,
      "outputs": [
        {
          "output_type": "stream",
          "name": "stdout",
          "text": [
            "3\n",
            "3\n",
            "3\n"
          ]
        }
      ]
    },
    {
      "cell_type": "markdown",
      "source": [
        "***Search it in the next level, built-in scope, if the object is not in local, enclosing, or global scope***"
      ],
      "metadata": {
        "id": "TLxlQ2w4kOpT"
      }
    },
    {
      "cell_type": "markdown",
      "source": [
        "The built-in scope is a special Python scope that’s implemented as a standard library module named builtins in Python 3.x. All of Python’s built-in objects live in this module. They’re automatically loaded to the built-in scope when you run the Python interpreter. Python searches builtins last in its LEGB lookup, so you get all the names it defines for free. This means that you can use them without importing any module.\n",
        "\n",
        "\n",
        "Sorce [Python Scope & the LEGB Rule: Resolving Names in Your Code](https://realpython.com/python-scope-legb-rule/)"
      ],
      "metadata": {
        "id": "ZrUwJC9EoSMf"
      }
    },
    {
      "cell_type": "code",
      "source": [
        "print(dir()) # __builtins__ is always present in the global Python scope\n",
        "print(__builtins__) # built-in module 'builtins'\n",
        "print(dir(__builtins__)) # method and attributes of built-in module 'builtins'\n",
        "print(len(dir(__builtins__))) # currently there are 155 method and attributes\n",
        "print('dir' in dir(__builtins__)) # one of them is dir"
      ],
      "metadata": {
        "colab": {
          "base_uri": "https://localhost:8080/"
        },
        "id": "UvB5zcjrkOzL",
        "outputId": "bef15c1b-4254-4a7a-ea77-58f7b3f1873a"
      },
      "execution_count": null,
      "outputs": [
        {
          "output_type": "stream",
          "name": "stdout",
          "text": [
            "['In', 'Out', '_', '_5', '__', '___', '__builtin__', '__builtins__', '__doc__', '__loader__', '__name__', '__package__', '__spec__', '_dh', '_i', '_i1', '_i2', '_i3', '_i4', '_i5', '_i6', '_i7', '_i8', '_i9', '_ih', '_ii', '_iii', '_oh', 'a', 'exit', 'get_ipython', 'main', 'quit']\n",
            "<module 'builtins' (built-in)>\n",
            "['ArithmeticError', 'AssertionError', 'AttributeError', 'BaseException', 'BlockingIOError', 'BrokenPipeError', 'BufferError', 'BytesWarning', 'ChildProcessError', 'ConnectionAbortedError', 'ConnectionError', 'ConnectionRefusedError', 'ConnectionResetError', 'DeprecationWarning', 'EOFError', 'Ellipsis', 'EnvironmentError', 'Exception', 'False', 'FileExistsError', 'FileNotFoundError', 'FloatingPointError', 'FutureWarning', 'GeneratorExit', 'IOError', 'ImportError', 'ImportWarning', 'IndentationError', 'IndexError', 'InterruptedError', 'IsADirectoryError', 'KeyError', 'KeyboardInterrupt', 'LookupError', 'MemoryError', 'ModuleNotFoundError', 'NameError', 'None', 'NotADirectoryError', 'NotImplemented', 'NotImplementedError', 'OSError', 'OverflowError', 'PendingDeprecationWarning', 'PermissionError', 'ProcessLookupError', 'RecursionError', 'ReferenceError', 'ResourceWarning', 'RuntimeError', 'RuntimeWarning', 'StopAsyncIteration', 'StopIteration', 'SyntaxError', 'SyntaxWarning', 'SystemError', 'SystemExit', 'TabError', 'TimeoutError', 'True', 'TypeError', 'UnboundLocalError', 'UnicodeDecodeError', 'UnicodeEncodeError', 'UnicodeError', 'UnicodeTranslateError', 'UnicodeWarning', 'UserWarning', 'ValueError', 'Warning', 'ZeroDivisionError', '__IPYTHON__', '__build_class__', '__debug__', '__doc__', '__import__', '__loader__', '__name__', '__package__', '__spec__', 'abs', 'all', 'any', 'ascii', 'bin', 'bool', 'breakpoint', 'bytearray', 'bytes', 'callable', 'chr', 'classmethod', 'compile', 'complex', 'copyright', 'credits', 'delattr', 'dict', 'dir', 'display', 'divmod', 'enumerate', 'eval', 'exec', 'execfile', 'filter', 'float', 'format', 'frozenset', 'get_ipython', 'getattr', 'globals', 'hasattr', 'hash', 'help', 'hex', 'id', 'input', 'int', 'isinstance', 'issubclass', 'iter', 'len', 'license', 'list', 'locals', 'map', 'max', 'memoryview', 'min', 'next', 'object', 'oct', 'open', 'ord', 'pow', 'print', 'property', 'range', 'repr', 'reversed', 'round', 'runfile', 'set', 'setattr', 'slice', 'sorted', 'staticmethod', 'str', 'sum', 'super', 'tuple', 'type', 'vars', 'zip']\n",
            "155\n",
            "True\n"
          ]
        }
      ]
    },
    {
      "cell_type": "markdown",
      "source": [
        "###***Chapter 21 class***"
      ],
      "metadata": {
        "id": "tNxjzRB5i8Uq"
      }
    },
    {
      "cell_type": "markdown",
      "source": [
        "###### class"
      ],
      "metadata": {
        "id": "5zfnA0Mn8L8u"
      }
    },
    {
      "cell_type": "code",
      "source": [
        "# working, but not a good practice\n",
        "class Student():\n",
        "    pass\n",
        "\n",
        "a = Student()\n",
        "a.name = \"Lee\"\n",
        "a.major = \"Math\"\n",
        "print(a, type(a))\n",
        "print(a.name)\n",
        "print(a.major)\n",
        "\n",
        "b = Student()\n",
        "b.name = \"Kim\"\n",
        "b.major = \"Physics\" \n",
        "print(b, type(b))\n",
        "print(b.name)\n",
        "print(b.major)\n",
        "\n",
        "# working, a good practice\n",
        "class Student():   \n",
        "    def __init__(self, name, major):\n",
        "        self.name = name\n",
        "        self.major = major\n",
        "\n",
        "a = Student(\"Lee\", \"Math\")\n",
        "print(a, type(a))\n",
        "print(a.name)\n",
        "print(a.major)\n",
        "\n",
        "b = Student(\"Kim\", \"Physics\") \n",
        "print(b, type(b))\n",
        "print(b.name)\n",
        "print(b.major)"
      ],
      "metadata": {
        "colab": {
          "base_uri": "https://localhost:8080/"
        },
        "id": "qpLNiLve8MYn",
        "outputId": "4aafb64f-cc76-4f6c-b0b8-0a44ccc17635"
      },
      "execution_count": null,
      "outputs": [
        {
          "output_type": "stream",
          "name": "stdout",
          "text": [
            "<__main__.Student object at 0x7ff836bba700> <class '__main__.Student'>\n",
            "Lee\n",
            "Math\n",
            "<__main__.Student object at 0x7ff836bba460> <class '__main__.Student'>\n",
            "Kim\n",
            "Physics\n",
            "<__main__.Student object at 0x7ff836bba400> <class '__main__.Student'>\n",
            "Lee\n",
            "Math\n",
            "<__main__.Student object at 0x7ff836bba970> <class '__main__.Student'>\n",
            "Kim\n",
            "Physics\n"
          ]
        }
      ]
    },
    {
      "cell_type": "markdown",
      "source": [
        "###### attributes and methods"
      ],
      "metadata": {
        "id": "DqV1JK_TI3ww"
      }
    },
    {
      "cell_type": "markdown",
      "source": [
        "attributes and methods of numpy array"
      ],
      "metadata": {
        "id": "8xKCxa6OEvhT"
      }
    },
    {
      "cell_type": "code",
      "source": [
        "import numpy as np\n",
        "a = np.array([1,2,3])\n",
        "print(a.min()) # <--- method excuted\n",
        "print(a.min) # <--- method itself\n",
        "print(a.shape) # <--- attribute"
      ],
      "metadata": {
        "colab": {
          "base_uri": "https://localhost:8080/"
        },
        "id": "xk3NruPWEwCK",
        "outputId": "82683b0a-0dc2-4c16-cc81-c9f0e2aa6de7"
      },
      "execution_count": null,
      "outputs": [
        {
          "output_type": "stream",
          "name": "stdout",
          "text": [
            "1\n",
            "<built-in method min of numpy.ndarray object at 0x7f384234dc30>\n",
            "(3,)\n"
          ]
        }
      ]
    },
    {
      "cell_type": "markdown",
      "source": [
        "attributes and methods"
      ],
      "metadata": {
        "id": "iuUjO4PlEwMy"
      }
    },
    {
      "cell_type": "code",
      "source": [
        "class Student():\n",
        "    \n",
        "    def __init__(self, name, major, subject): # <--- method, dunder method\n",
        "        self.name = name # <--- attribute\n",
        "        self.major = major # <--- attribute\n",
        "        self.subject = subject # <--- attribute\n",
        "        \n",
        "    def add(self, item): # <--- method\n",
        "        if item not in self.subject: \n",
        "            self.subject += [item]\n",
        "            \n",
        "    def drop(self, item): # <--- method\n",
        "        if item in self.subject: \n",
        "            self.subject.remove(item) \n",
        "\n",
        "a = Student(\"Lee\", \"Math\", [\"Probability\", \"Linear Algebra\"])\n",
        "print(a.subject)\n",
        "\n",
        "a.add(\"Statistics\")\n",
        "print(a.subject)\n",
        "\n",
        "a.drop(\"Probability\")\n",
        "print(a.subject)"
      ],
      "metadata": {
        "colab": {
          "base_uri": "https://localhost:8080/"
        },
        "id": "O9Gfo0vVI3-_",
        "outputId": "6a72415b-0ac8-4024-e663-33c2021e4ef0"
      },
      "execution_count": null,
      "outputs": [
        {
          "output_type": "stream",
          "name": "stdout",
          "text": [
            "['Probability', 'Linear Algebra']\n",
            "['Probability', 'Linear Algebra', 'Statistics']\n",
            "['Linear Algebra', 'Statistics']\n"
          ]
        }
      ]
    },
    {
      "cell_type": "markdown",
      "source": [
        "###### ***Simulation - Monty Hall*** [한국어](https://www.youtube.com/watch?v=bA2MU-HujOw&list=PLXziV1DL41oiqZKMHCvmddFlbX769g8yv)"
      ],
      "metadata": {
        "id": "PnxWCfSu5dED"
      }
    },
    {
      "cell_type": "code",
      "source": [
        "import matplotlib.pyplot as plt\n",
        "import numpy as np\n",
        "import random\n",
        "\n",
        "\n",
        "class Monty:\n",
        "    \n",
        "    def __init__(self):\n",
        "        self.doors = [0, 1, 2]\n",
        "        self.car_position = random.choice(self.doors)\n",
        "        self.first_choice = None\n",
        "        self.host_choice = None\n",
        "        self.final_choice = None\n",
        "        \n",
        "    def first_round(self):\n",
        "        self.first_choice = int(input(f'Choose one from {self.doors} : '))\n",
        "        print(f'You choose Door {self.first_choice} as your first choice.', end=\"\\n\\n\")\n",
        "    \n",
        "    def host_round(self):\n",
        "        host_list = [0, 1, 2]\n",
        "        host_list.remove(self.car_position)\n",
        "        try:\n",
        "            host_list.remove(self.first_choice)\n",
        "        except ValueError:\n",
        "            pass\n",
        "        self.host_choice = random.choice(host_list)\n",
        "        print(f'Host open Door {self.host_choice} and show a goat.', end=\"\\n\\n\")\n",
        "                \n",
        "    def final_round(self):\n",
        "        player_list = [0, 1, 2]\n",
        "        player_list.remove(self.host_choice)\n",
        "        self.final_choice = int(input(f'Choose one from {player_list} : '))\n",
        "        print(f'You choose Door {self.final_choice} as your final choice.', end=\"\\n\\n\")\n",
        "    \n",
        "    def open_final_round_door(self):\n",
        "        print(f'Let\\'s open Door {self.final_choice}.')\n",
        "        if self.final_choice == self.car_position:\n",
        "            print('Congrat! You have a brand new car!', end=\"\\n\\n\")\n",
        "        else:\n",
        "            print('Sorry, you have a goat.', end=\"\\n\\n\")\n",
        "            \n",
        "    def run(self):\n",
        "        self.first_round() \n",
        "        self.host_round()\n",
        "        self.final_round()\n",
        "        self.open_final_round_door()\n",
        "        \n",
        "        \n",
        "        \n",
        "def main():\n",
        "    a = Monty()\n",
        "    a.run()\n",
        "\n",
        "    \n",
        "if __name__ == \"__main__\":\n",
        "    main()"
      ],
      "metadata": {
        "colab": {
          "base_uri": "https://localhost:8080/"
        },
        "id": "wr_XTXCM5mvJ",
        "outputId": "0270c3d5-0e76-4f54-8e00-bb760b18e308"
      },
      "execution_count": null,
      "outputs": [
        {
          "output_type": "stream",
          "name": "stdout",
          "text": [
            "Choose one from [0, 1, 2] : 2\n",
            "You choose Door 2 as your first choice.\n",
            "\n",
            "Host open Door 0 and show a goat.\n",
            "\n",
            "Choose one from [1, 2] : 2\n",
            "You choose Door 2 as your final choice.\n",
            "\n",
            "Let's open Door 2.\n",
            "Sorry, you have a goat.\n",
            "\n"
          ]
        }
      ]
    },
    {
      "cell_type": "code",
      "source": [
        "import matplotlib.pyplot as plt\n",
        "import numpy as np\n",
        "import random\n",
        "\n",
        "\n",
        "class MontyStick:\n",
        "    \n",
        "    def __init__(self):\n",
        "        self.doors = [0, 1, 2]\n",
        "        self.car_position = random.choice(self.doors)\n",
        "        self.final_choice = random.choice(self.doors)\n",
        "            \n",
        "    def run(self):\n",
        "        if self.final_choice == self.car_position:\n",
        "            return 1\n",
        "        else:\n",
        "            return 0\n",
        "        \n",
        "        \n",
        "def main():\n",
        "    n_tries = 1000\n",
        "    results = []\n",
        "    for _ in range(n_tries):\n",
        "        results.append(MontyStick().run())\n",
        "\n",
        "    results = np.array(results)\n",
        "    cum_success_rates = results.cumsum() / np.arange(1, n_tries+1)\n",
        "    \n",
        "    fig, ax = plt.subplots(figsize=(12,4))\n",
        "    ax.plot(cum_success_rates)\n",
        "    ax.plot(np.ones_like(cum_success_rates) * (1/3), '--r')\n",
        "    ax.set_xlabel(\"Number of Trials\")\n",
        "    ax.set_ylabel(\"Cumulative Success Rate\")\n",
        "    ax.set_ylim(0,1)\n",
        "    ax.spines['top'].set_visible(False)\n",
        "    ax.spines['right'].set_visible(False)\n",
        "    plt.show()\n",
        "\n",
        "    \n",
        "if __name__ == \"__main__\":\n",
        "    main()"
      ],
      "metadata": {
        "colab": {
          "base_uri": "https://localhost:8080/",
          "height": 283
        },
        "id": "rfP4hDVt5m6Y",
        "outputId": "3fc513f7-f542-4cce-feaf-f122ba5488f7"
      },
      "execution_count": null,
      "outputs": [
        {
          "output_type": "display_data",
          "data": {
            "text/plain": [
              "<Figure size 864x288 with 1 Axes>"
            ],
            "image/png": "[encoded data removed]"
          },
          "metadata": {
            "needs_background": "light"
          }
        }
      ]
    },
    {
      "cell_type": "code",
      "source": [
        "import matplotlib.pyplot as plt\n",
        "import numpy as np\n",
        "import random\n",
        "\n",
        "\n",
        "class MontySwitch:\n",
        "    \n",
        "    def __init__(self):\n",
        "        self.doors = [0, 1, 2]\n",
        "        self.car_position = random.choice(self.doors)\n",
        "        self.first_choice = None\n",
        "        self.host_choice = None\n",
        "        self.final_choice = None\n",
        "        \n",
        "    def first_round(self):\n",
        "        self.first_choice = random.choice(self.doors)\n",
        "        \n",
        "    def host_round(self):\n",
        "        host_list = [0, 1, 2]\n",
        "        host_list.remove(self.car_position)\n",
        "        try:\n",
        "            host_list.remove(self.first_choice)\n",
        "        except ValueError:\n",
        "            pass\n",
        "        self.host_choice = random.choice(host_list)\n",
        "        \n",
        "    def final_round(self):\n",
        "        player_list = [0, 1, 2]\n",
        "        player_list.remove(self.first_choice)\n",
        "        player_list.remove(self.host_choice)\n",
        "        self.final_choice = player_list[0]\n",
        "        \n",
        "    def open_final_round_door(self):\n",
        "        if self.final_choice == self.car_position:\n",
        "            return 1\n",
        "        else:\n",
        "            return 0\n",
        "            \n",
        "    def run(self):\n",
        "        self.first_round() \n",
        "        self.host_round()\n",
        "        self.final_round()\n",
        "        return self.open_final_round_door()\n",
        "    \n",
        "    \n",
        "def main():\n",
        "    n_tries = 1000\n",
        "    results = []\n",
        "    for _ in range(n_tries):\n",
        "        results.append(MontySwitch().run())\n",
        "\n",
        "    results = np.array(results)\n",
        "    cum_success_rates = results.cumsum() / np.arange(1, n_tries+1) \n",
        "    \n",
        "    fig, ax = plt.subplots(figsize=(12,4))\n",
        "    ax.plot(cum_success_rates)\n",
        "    ax.plot(np.ones_like(cum_success_rates) * (2/3), '--r')\n",
        "    ax.set_xlabel(\"Number of Trials\")\n",
        "    ax.set_ylabel(\"Cumulative Success Rate\")\n",
        "    ax.set_ylim(0,1)\n",
        "    ax.spines['top'].set_visible(False)\n",
        "    ax.spines['right'].set_visible(False)\n",
        "    plt.show()\n",
        "\n",
        "    \n",
        "if __name__ == \"__main__\":\n",
        "    main()        "
      ],
      "metadata": {
        "colab": {
          "base_uri": "https://localhost:8080/",
          "height": 283
        },
        "id": "hN8rquRT5nGQ",
        "outputId": "63a98a60-9fe4-4d1f-f3dc-d7f155525a8c"
      },
      "execution_count": null,
      "outputs": [
        {
          "output_type": "display_data",
          "data": {
            "text/plain": [
              "<Figure size 864x288 with 1 Axes>"
            ],
            "image/png": "[encoded data removed]"
          },
          "metadata": {
            "needs_background": "light"
          }
        }
      ]
    },
    {
      "cell_type": "markdown",
      "source": [
        "###### class attributes and class methods"
      ],
      "metadata": {
        "id": "6ckStUXhLS-p"
      }
    },
    {
      "cell_type": "code",
      "source": [
        "class Student():\n",
        "    students_list = [] # <--- class attribute\n",
        "    mandatory = [] # <--- class attribute\n",
        "    \n",
        "    def __init__(self, name, major, subject): \n",
        "        self.name = name \n",
        "        self.major = major \n",
        "        self.subject = subject \n",
        "\n",
        "        Student.students_list.append(self)\n",
        "        \n",
        "    def add(self, item): \n",
        "        if item not in self.subject: \n",
        "            self.subject += [item]\n",
        "            \n",
        "    def drop(self, item): \n",
        "        if item in self.subject: \n",
        "            self.subject.remove(item) \n",
        "\n",
        "    @classmethod # <--- decorator\n",
        "    def add_mandatory(cls, item): # <--- class method\n",
        "        if item not in cls.mandatory: \n",
        "            cls.mandatory += [item]\n",
        "        for self in cls.students_list:\n",
        "            self.add(item)  \n",
        "            \n",
        "    @classmethod # <--- decorator\n",
        "    def drop_mandatory(cls, item): # <--- class method\n",
        "        if item in cls.mandatory:\n",
        "            cls.mandatory.remove(item)\n",
        "            for self in cls.students_list:\n",
        "                self.drop(item) \n",
        "\n",
        "a = Student(\"Lee\", \"Math\", [\"Probability\", \"Linear Algebra\"])\n",
        "b = Student(\"Kim\", \"Physics\", [\"Quantum Mechanics\", \"Optics\"])\n",
        "print(b.subject)\n",
        "\n",
        "a.add_mandatory(\"Chapel\")\n",
        "print(b.subject)\n",
        "\n",
        "a.add_mandatory(\"Yonsei Spirit\")\n",
        "print(b.subject)\n",
        "\n",
        "a.drop_mandatory(\"Chapel\")\n",
        "print(b.subject)"
      ],
      "metadata": {
        "colab": {
          "base_uri": "https://localhost:8080/"
        },
        "id": "DBLOxBJ2LTV-",
        "outputId": "790e3872-b4c0-4067-93cf-219894af007b"
      },
      "execution_count": null,
      "outputs": [
        {
          "output_type": "stream",
          "name": "stdout",
          "text": [
            "['Quantum Mechanics', 'Optics']\n",
            "['Quantum Mechanics', 'Optics', 'Chapel']\n",
            "['Quantum Mechanics', 'Optics', 'Chapel', 'Yonsei Spirit']\n",
            "['Quantum Mechanics', 'Optics', 'Yonsei Spirit']\n"
          ]
        }
      ]
    },
    {
      "cell_type": "markdown",
      "source": [
        "###### static methods"
      ],
      "metadata": {
        "id": "kn4WPf4wYzLz"
      }
    },
    {
      "cell_type": "code",
      "source": [
        "class Student():\n",
        "      \n",
        "    def __init__(self, name, major):\n",
        "        self.name = name\n",
        "        self.major = major \n",
        "            \n",
        "    @staticmethod\n",
        "    def is_workday(day):\n",
        "        from datetime import datetime\n",
        "        day = datetime.strptime(day, '%Y-%m-%d')\n",
        "        if (day.weekday()==5) or (day.weekday()==6):\n",
        "            return False\n",
        "        return True\n",
        "\n",
        "a = Student(\"Lee\", \"Math\")\n",
        "for i in range(10,20):\n",
        "    print(a.is_workday(\"2022-10-{}\".format(i)))"
      ],
      "metadata": {
        "colab": {
          "base_uri": "https://localhost:8080/"
        },
        "id": "PWHCF74YYzlS",
        "outputId": "147eba53-d0b6-4986-ffdf-113f42376aea"
      },
      "execution_count": null,
      "outputs": [
        {
          "output_type": "stream",
          "name": "stdout",
          "text": [
            "True\n",
            "True\n",
            "True\n",
            "True\n",
            "True\n",
            "False\n",
            "False\n",
            "True\n",
            "True\n",
            "True\n"
          ]
        }
      ]
    },
    {
      "cell_type": "markdown",
      "source": [
        "###### dunder methods"
      ],
      "metadata": {
        "id": "j02X0Yuk_foR"
      }
    },
    {
      "cell_type": "code",
      "source": [
        "class Student():\n",
        "    \n",
        "    def __init__(self, name, subject):\n",
        "        self.name = name\n",
        "        self.subject = subject\n",
        "        \n",
        "    def __add__(self, other): # +\n",
        "        for item in other.subject:\n",
        "            if item not in self.subject:\n",
        "                self.subject.append(item)\n",
        "        \n",
        "    def __sub__(self, other): # - \n",
        "        for item in other.subject:\n",
        "            if item in self.subject:\n",
        "                self.subject.remove(item)\n",
        "        \n",
        "    #def __mul__(self, other): # *\n",
        "        \n",
        "    #def __truediv__(self, other): # /\n",
        "        \n",
        "    def __len__(self): # len\n",
        "        return len(self.subject)\n",
        "\n",
        "a = Student(\"Lee\", [\"Probability\", \"Linear Algebra\"])\n",
        "b = Student(\"Kim\", [\"Quantum Mechanics\", \"Optics\"])\n",
        "a + b\n",
        "print(a.subject)"
      ],
      "metadata": {
        "colab": {
          "base_uri": "https://localhost:8080/"
        },
        "id": "Pu91a39X_fy4",
        "outputId": "b08cd37a-2608-4e0d-de70-b0d5ae4db47f"
      },
      "execution_count": null,
      "outputs": [
        {
          "output_type": "stream",
          "name": "stdout",
          "text": [
            "['Probability', 'Linear Algebra', 'Quantum Mechanics', 'Optics']\n"
          ]
        }
      ]
    },
    {
      "cell_type": "markdown",
      "source": [
        "###### dunder repr and str"
      ],
      "metadata": {
        "id": "wLrZmSXqVChL"
      }
    },
    {
      "cell_type": "code",
      "source": [
        "# with __repr__ and __str__\n",
        "class User:\n",
        "    def __init__(self, name):\n",
        "        self.username = name\n",
        "    def __repr__(self):\n",
        "        return f\"User({self.username})\"\n",
        "    def __str__(self):\n",
        "        return f\"User class instance with username {self.username}\"\n",
        "        \n",
        "Tom = User(\"Tom Brown\")\n",
        "print(Tom) # <--- __str__\n",
        "print(repr(Tom)) # <--- ___repr___\n",
        "print(str(Tom)) # <--- __str__\n",
        "\n",
        "\n",
        "# with __repr__\n",
        "# if __str__ is not available, __repr__ is used\n",
        "class User:\n",
        "    def __init__(self, name):\n",
        "        self.username = name\n",
        "    def __repr__(self):\n",
        "        return f\"User({self.username})\"\n",
        "        \n",
        "Tom = User(\"Tom Brown\")\n",
        "print(Tom) \n",
        "print(repr(Tom))\n",
        "print(str(Tom))\n",
        "\n",
        "\n",
        "# with __str__\n",
        "class User:\n",
        "    def __init__(self, name):\n",
        "        self.username = name\n",
        "    def __str__(self):\n",
        "        return f\"User class instance with username {self.username}\"\n",
        "        \n",
        "Tom = User(\"Tom Brown\")\n",
        "print(Tom)\n",
        "print(repr(Tom))\n",
        "print(str(Tom))\n",
        "\n",
        "\n",
        "# without __repr__ and __str__\n",
        "class User:\n",
        "    def __init__(self, name):\n",
        "        self.username = name\n",
        "        \n",
        "Tom = User(\"Tom Brown\")\n",
        "print(Tom) \n",
        "print(repr(Tom)) \n",
        "print(str(Tom)) "
      ],
      "metadata": {
        "colab": {
          "base_uri": "https://localhost:8080/"
        },
        "id": "UVT9_o15VCw7",
        "outputId": "89ac57b1-87d2-491e-e1ca-84b3bfbae7b5"
      },
      "execution_count": null,
      "outputs": [
        {
          "output_type": "stream",
          "name": "stdout",
          "text": [
            "<__main__.User object at 0x7f2fc3916d00>\n",
            "<__main__.User object at 0x7f2fc3916d00>\n",
            "<__main__.User object at 0x7f2fc3916d00>\n",
            "User(Tom Brown)\n",
            "User(Tom Brown)\n",
            "User(Tom Brown)\n",
            "User class instance with username Tom Brown\n",
            "<__main__.User object at 0x7f2fc3916ca0>\n",
            "User class instance with username Tom Brown\n",
            "User class instance with username Tom Brown\n",
            "User(Tom Brown)\n",
            "User class instance with username Tom Brown\n"
          ]
        }
      ]
    }
  ]
}