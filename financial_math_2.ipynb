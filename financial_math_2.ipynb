{
  "nbformat": 4,
  "nbformat_minor": 0,
  "metadata": {
    "colab": {
      "provenance": [],
      "collapsed_sections": [
        "8ML7KIWtFpqL",
        "BFl_mIBfFpta",
        "h7D1Z6587xhM",
        "0oTLa9Rw72Jg",
        "7RiNbi7A7_6X",
        "ab-bySqjRSD-",
        "OXJnSxfq8dGR",
        "hGdjWEY7JfnY",
        "6KEMr_F39-To",
        "azD8pmb7OWFo",
        "aVK_5mM9Bw9R",
        "kevT0sE8OWcs",
        "KIEqrVNMY6q8",
        "NEgmRsZMY-3u",
        "7LIbAlYZNoPF",
        "JVZZ69V6ZU50",
        "BzaG7EwPNoVW",
        "oFxQxspxZjNp",
        "lGjkwY_PZnwU",
        "ojd_K1CCZ0O9",
        "qNhZcMkVaFtr",
        "uj_yJDy56QXu",
        "8iEzCITfQdCV",
        "nq9OV7UfXcxJ",
        "fV4GC-obQcw4",
        "geniOB6EQfSd",
        "ab87qrj_QNmW",
        "4_s9PQF3QQc4"
      ],
      "authorship_tag": "ABX9TyMbU4j4HBBm2dCaVIDo5gDm",
      "include_colab_link": true
    },
    "kernelspec": {
      "name": "python3",
      "display_name": "Python 3"
    },
    "language_info": {
      "name": "python"
    }
  },
  "cells": [
    {
      "cell_type": "markdown",
      "metadata": {
        "id": "view-in-github",
        "colab_type": "text"
      },
      "source": [
        "<a href=\"https://colab.research.google.com/github/SungchulLee/colab/blob/main/financial_math_2.ipynb\" target=\"_parent\"><img src=\"https://colab.research.google.com/assets/colab-badge.svg\" alt=\"Open In Colab\"/></a>"
      ]
    },
    {
      "cell_type": "markdown",
      "source": [
        "###***Chapter 1 Interest Rate Market***"
      ],
      "metadata": {
        "id": "Jv9DKujWRz7V"
      }
    },
    {
      "cell_type": "markdown",
      "source": [
        "###***Chapter 2 Interest Rate Derivatives***"
      ],
      "metadata": {
        "id": "gl4Y239SFp2S"
      }
    },
    {
      "cell_type": "markdown",
      "source": [
        "###***Chapter 3 Short Rate Model***"
      ],
      "metadata": {
        "id": "8ML7KIWtFpqL"
      }
    },
    {
      "cell_type": "markdown",
      "source": [
        "######***Short Rate***"
      ],
      "metadata": {
        "id": "zG5xSu_P8Yei"
      }
    },
    {
      "cell_type": "markdown",
      "source": [
        "***Money Market Account***\n",
        "\n",
        "$$\\begin{array}{llllll}\n",
        "\\displaystyle\n",
        "M(t)=e^{\\int_0^tr(s)ds}\n",
        "\\end{array}$$\n",
        "\n",
        "$$\\begin{array}{llllll}\n",
        "\\displaystyle\n",
        "dM=rMdt\n",
        "\\end{array}$$"
      ],
      "metadata": {
        "id": "m1TNKFTY8Yh9"
      }
    },
    {
      "cell_type": "markdown",
      "source": [
        "***Short Rate Models***\n",
        "\n",
        "$$\\begin{array}{llllll}\n",
        "\\text{Dothan (1978)}&&\\displaystyle\n",
        "dr=\\mu r dt+\\sigma r dW\\\\\n",
        "\\text{Rendleman-Bartter (1980)}&&\\displaystyle\n",
        "dr=\\mu r dt+\\sigma r dW\\\\\n",
        "\\\\\n",
        "\\text{Merton}&&\\displaystyle\n",
        "dr=\\theta dt+\\sigma dW\\\\\n",
        "\\Rightarrow\\quad\\text{Ho-Lee (1986)}&&\\displaystyle\n",
        "dr=\\theta(t) dt+\\sigma dW\\\\\n",
        "\\\\\n",
        "\\text{Vasicek (1977)}&&\\displaystyle\n",
        "dr=a(b-r) dt+\\sigma dW\\\\\n",
        "\\Rightarrow\\quad\\text{Hull-White (1990)}&&\\displaystyle\n",
        "dr=(\\theta(t)-ar) dt+\\sigma dW\\\\\n",
        "\\Rightarrow\\quad\\text{Hull-White 2 Factor}&&\\displaystyle\n",
        "dr=(\\theta(t)+u-ar) dt+\\sigma_1 dW_1\\\\\n",
        "&&\\displaystyle\n",
        "du=-bu dt+\\sigma_2 dW_2\\\\\n",
        "&&\\displaystyle\n",
        "dW_1dW_2=\\rho dt\\\\\n",
        "\\\\\n",
        "\\text{CIR (1985)}&&\\displaystyle\n",
        "dr=a(b-r) dt+\\sigma\\sqrt{r} dW\\\\\n",
        "\\Rightarrow\\quad\\text{Brigo-Mercurio}&&\\displaystyle\n",
        "r = z + \\phi(t,\\alpha), dz=a(b-z) dt+\\sigma\\sqrt{z} dW\\\\\n",
        "\\\\\n",
        "\\text{Exponential Vasicek}&&d\\log r=a(b-\\log r) dt+\\sigma dW\\\\\n",
        "\\Rightarrow\\quad\\text{Black–Derman–Toy}&&\\displaystyle\n",
        "d\\log r=(\\theta(t)-a(t)\\log r) dt+\\sigma(t) dW,\\quad\n",
        "a(t)=-\\sigma'(t) / \\sigma(t)\\\\\n",
        "\\Rightarrow\\quad\\text{(Constant) Black–Derman–Toy}&&\\displaystyle\n",
        "d\\log r=\\theta(t) dt+\\sigma dW\\\\\n",
        "\\Rightarrow\\quad\\text{Black–Karasinski}&&\\displaystyle\n",
        "d\\log r=(\\theta(t)-a(t)\\log r) dt+\\sigma(t) dW\\\\\n",
        "\\Rightarrow\\quad\\text{(Constant) Black–Karasinski}&&\\displaystyle\n",
        "d\\log r=(\\theta(t)-a\\log r) dt+\\sigma dW\\\\\n",
        "\\end{array}$$"
      ],
      "metadata": {
        "id": "V8tFHc6y9elk"
      }
    },
    {
      "cell_type": "markdown",
      "source": [
        "***Short Rate $r(t)$***\n",
        "\n",
        "The short rate $r(t)$ is not a $\\mathbb{Q}$-martingale since it is not tradable.\n",
        "\n",
        "$$\\begin{array}{lllll}\n",
        "\\displaystyle\n",
        "dr(t)=\\beta(t,r(t))dt+\\gamma(t,r(t))dW^\\mathbb{Q}(t)\n",
        "\\end{array}$$"
      ],
      "metadata": {
        "id": "bt3T3gT58YoR"
      }
    },
    {
      "cell_type": "markdown",
      "source": [
        "######***ZCB***"
      ],
      "metadata": {
        "id": "RSFy3xJx9QdO"
      }
    },
    {
      "cell_type": "markdown",
      "source": [
        "***ZCB***\n",
        "\n",
        "$$\\begin{array}{llllll}\n",
        "\\displaystyle\n",
        "X(t,T):=\n",
        "\\frac{P(t,T)}{M(t)}\n",
        "=\\mathbb{E}^\\mathbb{Q}\\left[\\frac{P(T,T)}{M(T)}\\Big{|}{\\cal F}_t\\right]\n",
        "=\\mathbb{E}^\\mathbb{Q}\\left[\\frac{1}{M(T)}\\Big{|}{\\cal F}_t\\right]\n",
        "\\quad\\Rightarrow\\quad\n",
        "P(t,T)\n",
        "=\\mathbb{E}^\\mathbb{Q}\\left[\\frac{M(t)}{M(T)}\\Big{|}{\\cal F}_t\\right]\n",
        "=\\mathbb{E}^\\mathbb{Q}\\left[e^{-\\int_t^Tr(s)ds}\\Big{|}{\\cal F}_t\\right]\n",
        "\\end{array}$$\n",
        "\n",
        "Since the zero coupon bond is  tradable, \n",
        "$P(t,T)/M(t)$ is a $\\mathbb{Q}$-martingale."
      ],
      "metadata": {
        "id": "6dN0qS4Z8YlC"
      }
    },
    {
      "cell_type": "markdown",
      "source": [
        "***PDE for ZCB***\n",
        "\n",
        "$$\\begin{array}{lllll}\n",
        "\\displaystyle\n",
        "P(t,T)\n",
        "=\n",
        "f(t,r(t))\n",
        "\\end{array}$$\n",
        "\n",
        "Since the zero coupon bond is  tradable, \n",
        "$P(t,T)/M(t)$ is a $\\mathbb{Q}$-martingale.\n",
        "\n",
        "$$\\begin{array}{lllll}\n",
        "\\displaystyle\n",
        "d\\frac{f}{M}\n",
        "=\n",
        "\\frac{1}{M}\\left[-rf+f_t+\\beta f_r+\\frac{1}{2}\\gamma^2 f_{rr}\\right]dt+\\frac{1}{M}\\gamma f_rdW^Q\n",
        "\\end{array}$$\n",
        "\n",
        "Setting the dt term equal to zero, we obtain PDE\n",
        "\n",
        "$$\\begin{array}{lllll}\n",
        "\\text{PDE}&&\\displaystyle\n",
        "f_t+\\beta f_r+\\frac{1}{2}\\gamma^2 f_{rr}=rf\\\\\n",
        "\\text{Terminal Condition}&&f(T,r)=1\n",
        "\\end{array}$$"
      ],
      "metadata": {
        "id": "Dj3mqdMD8Yrh"
      }
    },
    {
      "cell_type": "markdown",
      "source": [
        "######***Merton***"
      ],
      "metadata": {
        "id": "GNMzlpwX8Yua"
      }
    },
    {
      "cell_type": "markdown",
      "source": [
        "***Model***\n",
        "\n",
        "$$\\begin{array}{lllll}\n",
        "\\displaystyle\n",
        "dr_t=\\theta dt+\\sigma dw_t\n",
        "\\end{array}$$"
      ],
      "metadata": {
        "id": "kiC_ldNa-SPi"
      }
    },
    {
      "cell_type": "markdown",
      "source": [
        "***Mean and Variance***\n",
        "\n",
        "$$\n",
        "\\displaystyle\n",
        "\\mathbb{E}r_t=\\theta t +r_0,\\quad\n",
        "Var(r_t)=\\sigma^2 t\n",
        "$$\n",
        "\n",
        "$$\\begin{array}{lllll}\n",
        "\\displaystyle\n",
        "\\mathbb{E}dr_t=\\theta dt\n",
        "\\quad\\Rightarrow\\quad\n",
        "\\frac{\\mathbb{E}dr_t}{dt}=\\theta \n",
        "\\quad\\Rightarrow\\quad\n",
        "\\frac{d\\mathbb{E}r_t}{dt}=\\theta \n",
        "\\quad\\Rightarrow\\quad\n",
        "\\mathbb{E}r_t=\\theta t +r_0\n",
        "\\end{array}$$\n",
        "\n",
        "$$\\begin{array}{lllll}\n",
        "\\displaystyle\n",
        "Var(dr_t)=\\sigma^2 dt\n",
        "\\quad\\Rightarrow\\quad\n",
        "Var(r_t)=\\sigma^2 t\n",
        "\\end{array}$$"
      ],
      "metadata": {
        "id": "8jXAgbBQ-b8o"
      }
    },
    {
      "cell_type": "markdown",
      "source": [
        "######***Vasicek***"
      ],
      "metadata": {
        "id": "eKLzsXfN8YxR"
      }
    },
    {
      "cell_type": "markdown",
      "source": [
        "***Model***\n",
        "\n",
        "$$\\begin{array}{lllll}\n",
        "\\displaystyle\n",
        "dr(t)=\\lambda(\\theta-r_t) dt+\\eta dW(t)\n",
        "\\end{array}$$"
      ],
      "metadata": {
        "id": "YIOLw_Z5_FUw"
      }
    },
    {
      "cell_type": "markdown",
      "source": [
        "***Mean and Variance***\n",
        "\n",
        "$$\n",
        "\\displaystyle\n",
        "\\mathbb{E}r_t=\\theta-(\\theta-r_0)e^{-\\alpha t},\\quad\n",
        "Var(r_t)=\\sigma^2 t\n",
        "$$\n",
        "\n",
        "$$\\begin{array}{lllll}\n",
        "\\displaystyle\n",
        "\\mathbb{E}dr_t=\\alpha(\\theta-\\mathbb{E}r_t) dt\n",
        "\\quad\\Rightarrow\\quad\n",
        "\\frac{d\\mathbb{E}r_t}{dt}=\\alpha(\\theta-\\mathbb{E}r_t)\n",
        "\\quad\\Rightarrow\\quad\n",
        "y'=\\alpha(\\theta-y)\n",
        "\\end{array}$$\n",
        "\n",
        "$$\\begin{array}{lllll}\n",
        "\\displaystyle\n",
        "\\frac{dy}{\\theta-y}=\\alpha dt\n",
        "\\quad\\Rightarrow\\quad\n",
        "\\int_0^t\\frac{dy}{\\theta-y}=\\int_0^t\\alpha ds\n",
        "\\quad\\Rightarrow\\quad\n",
        "\\left[-\\log(\\theta-y)\\right]_0^t=\\alpha t\n",
        "\\quad\\Rightarrow\\quad\n",
        "\\mathbb{E}r_t=y=\\theta-(\\theta-r_0)e^{-\\alpha t}\n",
        "\\end{array}$$\n",
        "\n",
        "$$\\begin{array}{lllll}\n",
        "\\displaystyle\n",
        "Var(dr_t)=\\sigma^2 dt\n",
        "\\quad\\Rightarrow\\quad\n",
        "Var(r_t)=\\sigma^2 t\n",
        "\\end{array}$$"
      ],
      "metadata": {
        "id": "deb7LOlm_FfX"
      }
    },
    {
      "cell_type": "markdown",
      "source": [
        "***Simulation***"
      ],
      "metadata": {
        "id": "Y8ZXEYP1AL26"
      }
    },
    {
      "cell_type": "code",
      "source": [
        "import matplotlib.pyplot as plt\n",
        "import numpy as np\n",
        "\n",
        "def generate_sample_path(num_paths, num_steps, sigma, lambd, theta, r0, T, seed=None): \n",
        "    if seed is not None:\n",
        "        np.random.seed(seed)\n",
        "     \n",
        "    Z = np.random.normal( 0.0, 1.0, ( num_paths, num_steps ) )\n",
        "    R = np.ones( ( num_paths, num_steps + 1 ) ) * r0\n",
        "    M = np.ones( ( num_paths, num_steps + 1 ) )\n",
        "    \n",
        "    t = np.linspace( 0, T, num_steps + 1 )    \n",
        "    dt = t[1] - t[0]\n",
        "    sqrt_dt = np.sqrt(dt)\n",
        "    for i in range(num_steps):\n",
        "        if num_paths > 1:\n",
        "            Z[:,i] = ( Z[:,i] - Z[:,i].mean() ) / Z[:,i].std()\n",
        "        dW = sqrt_dt * Z[:,i]\n",
        "        R[:,i+1] = R[:,i] + lambd * ( theta - R[:,i] ) * dt + sigma * dW\n",
        "        M[:,i+1] = M[:,i] * np.exp( ( R[:,i+1] + R[:,i] ) * 0.5 * dt )\n",
        "    return t, R, M\n",
        "\n",
        "def main():\n",
        "    num_paths = 1\n",
        "    num_steps = 5_000 \n",
        "    sigma = 0.01\n",
        "    lambd = 0.5\n",
        "    theta = 0.05 \n",
        "    r0 = 0.03\n",
        "    T = 50\n",
        "    \n",
        "    fig, (ax0, ax1) = plt.subplots(1,2,figsize=(12,4))\n",
        "\n",
        "    ax0.set_title(\"Vasicek sample paths with various lambds\")\n",
        "    sigma = 0.01\n",
        "    lambds = [-0.01, 0.2, 5.0]\n",
        "    for lambd in lambds:\n",
        "        t, R, _ = generate_sample_path(num_paths,num_steps,sigma,lambd,theta,r0,T,seed=0)\n",
        "        ax0.plot(t, np.transpose(R), label=f'{lambd = }')      \n",
        "  \n",
        "    ax1.set_title(\"Vasicek sample paths with various sigmas\")\n",
        "    sigmas = [0.01, 0.02, 0.03]\n",
        "    lambd = 0.2\n",
        "    for sigma in sigmas:\n",
        "        t, R, _ = generate_sample_path(num_paths,num_steps,sigma,lambd,theta,r0,T,seed=0)\n",
        "        ax1.plot(t, np.transpose(R), label=f'{sigma = }') \n",
        "        \n",
        "    for ax in (ax0, ax1):\n",
        "        ax.grid()\n",
        "        ax.set_xlabel(\"time\")\n",
        "        ax.set_ylabel(\"R(t)\")\n",
        "        ax.legend(loc=\"upper left\")\n",
        "        \n",
        "    plt.tight_layout()\n",
        "    plt.show()\n",
        "       \n",
        "if __name__ == \"__main__\":\n",
        "    main()"
      ],
      "metadata": {
        "colab": {
          "base_uri": "https://localhost:8080/",
          "height": 297
        },
        "id": "VLaSaTKeAMah",
        "outputId": "60c771ad-12f2-4684-8d3a-2d6b6e3c2412"
      },
      "execution_count": null,
      "outputs": [
        {
          "output_type": "display_data",
          "data": {
            "text/plain": [
              "<Figure size 864x288 with 2 Axes>"
            ],
            "image/png": "[encoded data removed]"
          },
          "metadata": {
            "needs_background": "light"
          }
        }
      ]
    },
    {
      "cell_type": "markdown",
      "source": [
        "***ZCB***\n",
        "\n",
        "$$\\begin{array}{lllll}\n",
        "\\displaystyle\n",
        "P(t,T)=A(t,T)e^{-r_t B(t,T)} \n",
        "\\end{array}$$\n",
        "\n",
        "where\n",
        "\n",
        "$$\\begin{array}{lllll}\n",
        "\\displaystyle\n",
        "B(t,T)=\\frac{1}{\\alpha}\\left(1-e^{-\\alpha(T-t)}\\right)\n",
        "\\end{array}$$"
      ],
      "metadata": {
        "id": "0kxy-rUJD42j"
      }
    },
    {
      "cell_type": "markdown",
      "source": [
        "######***CIR***"
      ],
      "metadata": {
        "id": "xeJRHVxZ8Y0R"
      }
    },
    {
      "cell_type": "markdown",
      "source": [
        "***Model***\n",
        "\n",
        "$$\\begin{array}{lllll}\n",
        "\\displaystyle\n",
        "dr(t)=\\lambda(\\theta-r(t)) dt+\\gamma\\sqrt{r(t)} dW^{\\mathbb{Q}}(t)\n",
        "\\end{array}$$"
      ],
      "metadata": {
        "id": "Qy2iT1YwCZgN"
      }
    },
    {
      "cell_type": "markdown",
      "source": [
        "***Mean***\n",
        "\n",
        "$$\n",
        "\\displaystyle\n",
        "\\mathbb{E}r_t=\\theta-(\\theta-r_0)e^{-\\alpha t}\n",
        "$$\n",
        "\n",
        "$$\\begin{array}{lllll}\n",
        "\\displaystyle\n",
        "\\mathbb{E}dr_t=\\alpha(\\theta-\\mathbb{E}r_t) dt\n",
        "\\quad\\Rightarrow\\quad\n",
        "\\frac{d\\mathbb{E}r_t}{dt}=\\alpha(\\theta-\\mathbb{E}r_t)\n",
        "\\quad\\Rightarrow\\quad\n",
        "y'=\\alpha(\\theta-y)\n",
        "\\end{array}$$\n",
        "\n",
        "$$\\begin{array}{lllll}\n",
        "\\displaystyle\n",
        "\\frac{dy}{\\theta-y}=\\alpha dt\n",
        "\\quad\\Rightarrow\\quad\n",
        "\\int_0^t\\frac{dy}{\\theta-y}=\\int_0^t\\alpha ds\n",
        "\\quad\\Rightarrow\\quad\n",
        "\\left[-\\log(\\theta-y)\\right]_0^t=\\alpha t\n",
        "\\quad\\Rightarrow\\quad\n",
        "\\mathbb{E}r_t=y=\\theta-(\\theta-r_0)e^{-\\alpha t}\n",
        "\\end{array}$$"
      ],
      "metadata": {
        "id": "pOAXdZSNCZju"
      }
    },
    {
      "cell_type": "markdown",
      "source": [
        "***Simulation***"
      ],
      "metadata": {
        "id": "eKHDb9YBCZm1"
      }
    },
    {
      "cell_type": "code",
      "source": [
        "import matplotlib.pyplot as plt\n",
        "import numpy as np\n",
        "\n",
        "def generate_sample_path(num_paths, num_steps, T, lambd, theta, r0, sigma, seed=None): \n",
        "    if seed is not None:\n",
        "        np.random.seed(seed)\n",
        "        \n",
        "    Z = np.random.normal(0.0, 1.0, (num_paths, num_steps) )\n",
        "    R = np.ones( ( num_paths, num_steps + 1 ) ) * r0\n",
        "    t = np.linspace( 0, T, num_steps + 1 )\n",
        "        \n",
        "    dt = t[1] - t[0]\n",
        "    sqrt_dt = np.sqrt(dt)\n",
        "    for i in range(num_steps):\n",
        "        if num_paths > 1:\n",
        "            Z[:,i] = (Z[:,i] - Z[:,i].mean()) / Z[:,i].std()\n",
        "        dW = sqrt_dt * Z[:,i]\n",
        "        R[:,i+1] = R[:,i] + lambd * ( theta - R[:,i] ) * dt + sigma * np.sqrt( R[:,i] ) * dW\n",
        "        R[:,i+1] = np.maximum(R[:,i+1], 0.0) # Truncated boundary condition        \n",
        "    return t, R\n",
        "\n",
        "def main():\n",
        "    num_paths = 1 \n",
        "    num_steps = 500 \n",
        "    T = 50 \n",
        "    lambd = 0.1 \n",
        "    theta = 0.05 \n",
        "    r0 = 0.05 \n",
        "    sigma = 0.05 \n",
        "    seed = 0\n",
        "    \n",
        "    fig, (ax0, ax1) = plt.subplots(1,2,figsize=(12,4))\n",
        "\n",
        "    legend_lambds = []\n",
        "    lambds = [0.01, 0.2, 5.0]\n",
        "    sigma = 0.05\n",
        "    for lambd in lambds: \n",
        "        legend_lambds.append(f'{lambd = }')\n",
        "        t, R = generate_sample_path(num_paths, num_steps, T, lambd, theta, r0, sigma, seed=seed)\n",
        "        ax0.plot(t, np.transpose(R))\n",
        "        \n",
        "    legend_sigmas = []\n",
        "    lambd = 0.1\n",
        "    sigmas = [0.1, 0.2, 0.3]\n",
        "    for sigma in sigmas:\n",
        "        legend_sigmas.append(f'{sigma = }')\n",
        "        t, R = generate_sample_path(num_paths, num_steps, T, lambd, theta, r0, sigma, seed=seed)\n",
        "        ax1.plot(t, np.transpose(R))\n",
        "    \n",
        "    titles = (\"Effect of mean reversion alpha\", \"Effect of volatility sigma\")\n",
        "    for ax, legend, title in zip((ax0, ax1), (legend_lambds, legend_sigmas), titles):\n",
        "        ax.grid()\n",
        "        ax.set_xlabel(\"time\")\n",
        "        ax.set_ylabel(\"R(t)\")\n",
        "        ax.set_title(title)\n",
        "        ax.legend(legend)\n",
        "        \n",
        "    plt.tight_layout()\n",
        "    plt.show()        \n",
        "       \n",
        "if __name__ == \"__main__\":\n",
        "    main()"
      ],
      "metadata": {
        "colab": {
          "base_uri": "https://localhost:8080/",
          "height": 297
        },
        "id": "2LDu5v07DAs3",
        "outputId": "535ba59a-b305-4c59-8609-254450ce9a70"
      },
      "execution_count": null,
      "outputs": [
        {
          "output_type": "display_data",
          "data": {
            "text/plain": [
              "<Figure size 864x288 with 2 Axes>"
            ],
            "image/png": "[encoded data removed]"
          },
          "metadata": {
            "needs_background": "light"
          }
        }
      ]
    },
    {
      "cell_type": "markdown",
      "source": [
        "***ZCB***\n",
        "\n",
        "$$\\begin{array}{lllll}\n",
        "\\displaystyle\n",
        "P(t,T)=A(t,T)e^{-B(t,T)r(t)} \n",
        "\\end{array}$$\n",
        "\n",
        "where, with $\\gamma=\\sqrt{a^2+2\\sigma^2}$\n",
        "\n",
        "$$\n",
        "\\displaystyle\n",
        "B(t,T)=\\frac{2(e^{\\gamma(T-t)}-1)}{(\\gamma+a)(e^{\\gamma(T-t)}-1)+2\\gamma}\n",
        "$$\n",
        "\n",
        "$$\n",
        "\\displaystyle\n",
        "A(t,T)=\\left[\\frac{2\\gamma e^{(a+\\gamma)(T-t)/2}}{(\\gamma+a)(e^{\\gamma(T-t)}-1)+2\\gamma}\\right]^{2ab/\\sigma^2}\n",
        "$$"
      ],
      "metadata": {
        "id": "pR9-Kn2lDe3Q"
      }
    },
    {
      "cell_type": "markdown",
      "source": [
        "######***Affine Models***"
      ],
      "metadata": {
        "id": "NwIFZY0C8Y6Z"
      }
    },
    {
      "cell_type": "markdown",
      "source": [
        "***Affine Short Rate Model***\n",
        "\n",
        "$$\\begin{array}{lllll}\n",
        "\\displaystyle\n",
        "P(t,T)=A(t,T)e^{-B(t,T)r(t)} \n",
        "\\end{array}$$"
      ],
      "metadata": {
        "id": "x6qsriqT8Y9h"
      }
    },
    {
      "cell_type": "markdown",
      "source": [],
      "metadata": {
        "id": "XlX9f2vq8ZAh"
      }
    },
    {
      "cell_type": "markdown",
      "source": [],
      "metadata": {
        "id": "4XVo2y0r8ZDh"
      }
    },
    {
      "cell_type": "markdown",
      "source": [],
      "metadata": {
        "id": "-9IsKtxw8ZGp"
      }
    },
    {
      "cell_type": "markdown",
      "source": [],
      "metadata": {
        "id": "mLL9tKk28ZJx"
      }
    },
    {
      "cell_type": "markdown",
      "source": [],
      "metadata": {
        "id": "Jy8YEncm8ZMx"
      }
    },
    {
      "cell_type": "markdown",
      "source": [],
      "metadata": {
        "id": "s7_0jUTU8ZPp"
      }
    },
    {
      "cell_type": "markdown",
      "source": [],
      "metadata": {
        "id": "hbrsgit68ZSx"
      }
    },
    {
      "cell_type": "markdown",
      "source": [],
      "metadata": {
        "id": "BZDWe4nO8ZVx"
      }
    },
    {
      "cell_type": "markdown",
      "source": [],
      "metadata": {
        "id": "pMYifzdz8ZYp"
      }
    },
    {
      "cell_type": "markdown",
      "source": [],
      "metadata": {
        "id": "2d0E-C7m8Zbp"
      }
    },
    {
      "cell_type": "markdown",
      "source": [],
      "metadata": {
        "id": "hiha5eFn8Zeh"
      }
    },
    {
      "cell_type": "markdown",
      "source": [],
      "metadata": {
        "id": "WZNh2Y4k8Zhx"
      }
    },
    {
      "cell_type": "markdown",
      "source": [
        "###***Chapter 4 HJM***"
      ],
      "metadata": {
        "id": "BFl_mIBfFpta"
      }
    },
    {
      "cell_type": "markdown",
      "source": [
        "######***Equilibrium vs No-Arbitragy Model***"
      ],
      "metadata": {
        "id": "EIEBgoRvuaqo"
      }
    },
    {
      "cell_type": "markdown",
      "source": [
        "\n",
        "\n",
        "$$\\begin{array}{ccccccccc}\n",
        "&&\\fbox{Equilibrium Model}&\\Rightarrow&\\text{Current Yield Curve}\\\\\n",
        "\\\\\n",
        "\\text{Current Yield Curve}&\\Rightarrow&\\fbox{No-Arbitragy Model}&&\\\\\n",
        "\\end{array}$$"
      ],
      "metadata": {
        "id": "j329vkT2ua49"
      }
    },
    {
      "cell_type": "markdown",
      "source": [
        "***From Equilibrium To No-Arbitragy Model***\n",
        "\n",
        "$$\\begin{array}{lll}\n",
        "\\fbox{Equilibrium Model}&\\stackrel{\\text{HJM}}{\\Rightarrow}&\n",
        "\\fbox{No-Arbitragy Model}\n",
        "\\end{array}$$"
      ],
      "metadata": {
        "id": "UsPZlVsTulWY"
      }
    },
    {
      "cell_type": "markdown",
      "source": [
        "***HJM***\n",
        "\n",
        "HJM uses the dynamics of the (instantaneous) forward (rate) curve.\n",
        "\n",
        "HJM provides a necessary and sufficient condition for a model to be free of arbitrage. "
      ],
      "metadata": {
        "id": "k-im-KywusEv"
      }
    },
    {
      "cell_type": "markdown",
      "source": [
        "######***Instantaneous Forward Rate***"
      ],
      "metadata": {
        "id": "P0-6QLrHusJn"
      }
    },
    {
      "cell_type": "markdown",
      "source": [
        "***Forward Rate***\n",
        "\n",
        "For $t<S<T$\n",
        "\n",
        "$$\n",
        "\\displaystyle\n",
        "P(t,T) \n",
        "=P(t,S)\\color{red}{P(t,S,T)} \n",
        ":=P(t,S)\\color{red}{e^{−R(t,S,T)(T −S)}}\n",
        "$$\n",
        "\n",
        "$$\\displaystyle\n",
        "R(t,S,T)\n",
        "=\n",
        "-\\frac{\\log P(t,T)-\\log P(t,S)}{T-S}\n",
        "$$"
      ],
      "metadata": {
        "id": "4N9KeAawusPB"
      }
    },
    {
      "cell_type": "code",
      "source": [
        "# Table 4.5 of Hull 9th edition\n",
        "\n",
        "import numpy as np\n",
        "\n",
        "zero_rates = {\n",
        "# maturity (year) : zero_rate (%, continuous compounding)\n",
        "    1 : 3.0,\n",
        "    2 : 4.0,\n",
        "    3 : 4.6,\n",
        "    4 : 5.0,\n",
        "    5 : 5.3\n",
        "}\n",
        "\n",
        "forward_rates = {\n",
        "# maturity (year) : zero_rate (%, continuous compounding)\n",
        "    1 : None,\n",
        "    2 : None,\n",
        "    3 : None,\n",
        "    4 : None,\n",
        "    5 : None\n",
        "}\n",
        "\n",
        "money_now = 100\n",
        "money_just_before_maturity = 100\n",
        "money_at_maturity = 100\n",
        "for maturity, zero_rate in zero_rates.items():\n",
        "    money_at_maturity = money_now * np.exp( (zero_rate/100) * maturity ) \n",
        "    # money_just_before_maturity * np.exp( (forward_rate/100) ) = money_at_maturity\n",
        "    forward_rate = np.log( money_at_maturity / money_just_before_maturity ) * 100\n",
        "    forward_rates[maturity] = forward_rate\n",
        "    money_just_before_maturity = money_at_maturity \n",
        "    \n",
        "for maturity, forward_rate in forward_rates.items():\n",
        "    print(f\"{maturity = }, {forward_rate = :.2f}\")"
      ],
      "metadata": {
        "id": "_RGsvMw_vB8Q"
      },
      "execution_count": null,
      "outputs": []
    },
    {
      "cell_type": "markdown",
      "source": [
        "***Instantaneous Forward Rate***\n",
        "\n",
        "$$\\displaystyle\n",
        "f(t,T)\n",
        "=\n",
        "\\lim_{S\\rightarrow T}R(t,S,T)\n",
        "=\n",
        "-\\lim_{S\\rightarrow T}\\frac{\\log P(t,T)-\\log P(t,S)}{T-S}\n",
        "=\n",
        "-\\frac{\\partial }{\\partial T}\\log P(t,T)\n",
        "$$"
      ],
      "metadata": {
        "id": "pZN_G1W5usT5"
      }
    },
    {
      "cell_type": "markdown",
      "source": [
        "***From $P(t,T)$ To $f(t,T)$***"
      ],
      "metadata": {
        "id": "nSrUGgNjvr65"
      }
    },
    {
      "cell_type": "code",
      "source": [
        "# Source\n",
        "# https://github.com/LechGrzelak/QuantFinanceBook/blob/master/PythonCodes/Chapter%2011/Fig11_04.py\n",
        "import numpy as np\n",
        "import matplotlib.pyplot as plt\n",
        "from HJM import compute_f\n",
        "from scipy.interpolate import interp1d \n",
        "\n",
        "\n",
        "def main():\n",
        "    # time grid t1\n",
        "    t1 = [0,0.821900,1.64380,2.46580,3.28770,4.10960,4.93150,5.75340,6.57530,\\\n",
        "          7.39730,8.21920,9.04110,9.86300,10.68490,11.50680,12.32880,13.15070,\\\n",
        "          13.97260,14.79450,15.61640,16.43840,17.26030,18.08220,18.90410,19.7260,\\\n",
        "          20.54790,21.36990,22.19180,23.01370,23.83560,24.65750,25.47950,26.30140,\\\n",
        "          27.12330,27.94520,28.76710,29.5890,30.4110,31.23290,32.05480,32.87670,\\\n",
        "          33.69860,34.52050,35.34250,36.16440,36.98630,37.80820,38.63010,39.45210,\\\n",
        "          40.2740,41.09590,41.91780,42.73970,43.56160,44.38360,45.20550,46.02740]\n",
        "    \n",
        "    # time grid t2\n",
        "    t2 = [0,0.821900,1.64380,2.46580,3.28770,4.10960,4.93150,5.75340,6.57530,\\\n",
        "          7.39730,8.21920,9.04110,9.86300,10.68490,11.50680,12.32880,13.15070,\\\n",
        "          13.97260,14.79450,15.61640,16.43840,17.26030,18.08220,18.90410,19.7260,\\\n",
        "          20.54790,21.36990,22.19180,23.01370,23.83560,24.65750,25.47950,26.30140,\\\n",
        "          27.12330,27.94520,28.76710,29.5890,30.4110,31.23290,32.05480,32.87670,\\\n",
        "          33.69860,34.52050,35.34250,36.16440,36.98630,37.80820,38.63010,39.45210,\\\n",
        "          40.2740,41.09590,41.91780,42.73970,43.56160,44.38360,45.20550,46.02740]\n",
        "    \n",
        "    # discount factor df1\n",
        "    df1 = [1,0.9912650,0.9805340,0.9641250,0.9418240,0.9192670,0.895380,0.8692230,\\\n",
        "          0.8428550,0.8164780,0.7899110,0.7632080,0.7367020,0.7107840,0.684920,\\\n",
        "          0.6594810,0.6349270,0.6105070,0.5862780,0.5650440,0.545270,0.5258950,\\\n",
        "          0.5069240,0.4883650,0.4702220,0.4546480,0.4408020,0.4273960,0.4144180,\\\n",
        "          0.4018510,0.3896830,0.3789860,0.3695590,0.3605050,0.3518070,0.343450,\\\n",
        "          0.3354190,0.3282840,0.3221350,0.3162880,0.310730,0.3054490,0.3004350,\\\n",
        "          0.2956780,0.2911670,0.2868940,0.282850,0.2790270,0.2754190,0.2711330,\\\n",
        "          0.2648390,0.2587240,0.2527820,0.2470070,0.2413950,0.2359390,0.2306360]\n",
        "    \n",
        "    # discount factor df2\n",
        "    df2 = [1,0.9983970,0.9968090,0.994460,0.9907650,0.985370,0.977910,0.9684380,\\\n",
        "         0.9567750,0.9430350,0.927610,0.9110590,0.8937890,0.8760590,0.858030,\\\n",
        "         0.8402370,0.8225770,0.8051410,0.7881340,0.7716530,0.7555510,0.7398430,\\\n",
        "         0.724550,0.7096920,0.6952860,0.6813370,0.6678080,0.6546720,0.6419040,\\\n",
        "         0.6294840,0.617390,0.6056190,0.5942220,0.583150,0.5723440,0.5617510,\\\n",
        "         0.5513190,0.5410060,0.530820,0.5207770,0.5108910,0.5011740,0.4916370,\\\n",
        "         0.4822890,0.4731410,0.4641990,0.4554720,0.4469650,0.4386860,0.4306370,\\\n",
        "         0.4228050,0.4151740,0.407730,0.4004620,0.3933560,0.3864040,0.3795930]\n",
        "    \n",
        "    # zero coupon bond price P1, as a function of maturity T, computed using t1 and df1\n",
        "    P1 = interp1d(t1, df1, fill_value='extrapolate') \n",
        "    \n",
        "    # zero coupon bond price P2, as a function of maturity T, computed using t2 and df2\n",
        "    P2 = interp1d(t2, df2, fill_value='extrapolate')\n",
        "    \n",
        "    # forward rate f1, as a function of time t, computed using P1  \n",
        "    f1 = lambda t: compute_f(t, P1)\n",
        "    \n",
        "    # forward rate f2, as a function of time t, computed using P2  \n",
        "    f2 = lambda t: compute_f(t, P2)\n",
        "    \n",
        "    fig, (ax0, ax1) = plt.subplots(1, 2, figsize=(15,8))\n",
        "\n",
        "    ax0.set_title('Zero Coupon Bond Price P(0,T)', fontsize=20)\n",
        "    ax0.set_ylabel('P(0,T)',fontsize=20)\n",
        "    ax0.plot(t1, df1, label='P(0,T), mid 2009');\n",
        "    ax0.plot(t2, df2,'--r', label='P(0,T), mid 2014');\n",
        "    ax0.axis([0.0, np.max(t1), np.min(df1), np.max(df1)])\n",
        "\n",
        "    ax1.set_title('Instantaneous Forward Rate f(0,T)', fontsize=20)\n",
        "    ax1.set_ylabel('f(0,T)',fontsize=20)\n",
        "    ax1.plot(t1, f1(np.array(t1)), label='f(0,T), mid 2009')\n",
        "    ax1.plot(t2, f2(np.array(t2)), '--r', label='f(0,T), mid 2014')\n",
        "    \n",
        "    for ax in (ax0, ax1):\n",
        "        ax.grid()\n",
        "        ax.legend(fontsize=20)\n",
        "        ax.set_xlabel('T [years]',fontsize=20)\n",
        "        \n",
        "    plt.tight_layout()\n",
        "    plt.show()\n",
        "    \n",
        "        \n",
        "if __name__ == \"__main__\":\n",
        "    main() "
      ],
      "metadata": {
        "id": "HDsb0dosvj3o"
      },
      "execution_count": null,
      "outputs": []
    },
    {
      "cell_type": "markdown",
      "source": [
        "######***HJM***"
      ],
      "metadata": {
        "id": "869HLjEsusiZ"
      }
    },
    {
      "cell_type": "markdown",
      "source": [
        "***Instantaneous Forward Rate Dynamics*** \n",
        "\n",
        "$$\\begin{array}{lllll}\n",
        "\\displaystyle\n",
        "df(t,T)\n",
        "=\n",
        "\\mu^\\mathbb{Q}(t,T)dt+\\sigma(t,T)dW^{\\mathbb{Q}}(t)\n",
        "\\end{array}$$"
      ],
      "metadata": {
        "id": "ULpABVFzusZG"
      }
    },
    {
      "cell_type": "markdown",
      "source": [
        "***No Arbitrage Condition***\n",
        "\n",
        "$$\\begin{array}{lllll}\n",
        "\\displaystyle\n",
        "\\mu^\\mathbb{Q}(t,T)\n",
        "=\\sigma(t,T)\\int_t^T\\sigma(t,T')dT'\n",
        "\\end{array}$$"
      ],
      "metadata": {
        "id": "9794cgfmwgDg"
      }
    },
    {
      "cell_type": "markdown",
      "source": [
        "***Proof***\n",
        "\n",
        "Since $P(t,T)$ is tradable,\n",
        "$P(t,T)/M(t)$ is a $\\mathbb{Q}$-martingale by [Harrison and Kreps, 1979].\n",
        "Thus, its dynamics has no drift term.\n",
        "\n",
        "$$\n",
        "\\displaystyle\n",
        "\\frac{P(t,T)}{M(t)}\n",
        "=\\text{exp}\\left(-\\int_t^Tf(t,T')dT'-\\int_0^tr(t')dt'\\right)\n",
        ":=e^{-Z(t)}\n",
        "$$\n",
        "\n",
        "$$\\begin{array}{lll}\n",
        "\\displaystyle\n",
        "dZ(t)\n",
        "&=&\\displaystyle\n",
        "d\\int_t^Tf(t,T')dT'+d\\int_0^tr(t')dt'\\\\\n",
        "&=&\\displaystyle\n",
        "-f(t,t)dt+\\int_t^Tdf(t,T')dT'+r(t)dt\\\\\n",
        "&=&\\displaystyle\n",
        "-f(t,t)dt+\\int_t^T\\left[\\mu^\\mathbb{Q}(t,T')dt+\\sigma(t,T')dW^\\mathbb{Q}(t)\\right]dT'+r(t)dt\\\\\n",
        "&=&\\displaystyle\n",
        "\\left[-f(t,t)+\\int_t^T\\mu^\\mathbb{Q}(t,T')dT'+r(t)\\right]dt+\\left[\\int_t^T\\sigma(t,T')dT'\\right]dW^\\mathbb{Q}(t)\\\\\n",
        "&=&\\displaystyle\n",
        "\\left[\\int_t^T\\mu^\\mathbb{Q}(t,T')dT'\\right]dt+\\left[\\int_t^T\\sigma(t,T')dT'\\right]dW^\\mathbb{Q}(t)\\\\\n",
        "\\end{array}$$\n",
        "\n",
        "$$\\begin{array}{lll}\n",
        "\\displaystyle\n",
        "d\\frac{P(t,T)}{M(t)}\n",
        "&=&\\displaystyle\n",
        "-e^{-Z(t)}dZ+\\frac{1}{2}e^{-Z(t)}(dZ)^2\\\\\n",
        "&=&\\displaystyle\n",
        "-e^{-Z(t)}\n",
        "\\left(\n",
        "\\left[\\int_t^T\\mu^\\mathbb{Q}(t,T')dT'\\right]dt+\\left[\\int_t^T\\sigma(t,T')dT'\\right]dW^\\mathbb{Q}(t)\n",
        "\\right)\n",
        "+\\frac{1}{2}e^{-Z(t)}\n",
        "\\left[\\int_t^T\\sigma(t,T')dT'\\right]^2dt\\\\\n",
        "\\end{array}$$\n",
        "\n",
        "Set the drift term equal to zero.\n",
        "\n",
        "$$\\begin{array}{lll}\n",
        "\\displaystyle\n",
        "\\int_t^T\\mu^\\mathbb{Q}(t,T')dT'\n",
        "=\\frac{1}{2}\n",
        "\\left[\\int_t^T\\sigma(t,T')dT'\\right]^2\\\\\n",
        "\\end{array}$$\n",
        "\n",
        "Differenciating with respect to $T$, we have\n",
        "\n",
        "$$\\begin{array}{lll}\n",
        "\\displaystyle\n",
        "\\mu^\\mathbb{Q}(t,T)\n",
        "=\n",
        "\\sigma(t,T)\\left[\\int_t^T\\sigma(t,T')dT'\\right]\\\\\n",
        "\\end{array}$$"
      ],
      "metadata": {
        "id": "UoM04E8xwhQT"
      }
    },
    {
      "cell_type": "markdown",
      "source": [
        "######***Short Rate***"
      ],
      "metadata": {
        "id": "wdo340P5whiX"
      }
    },
    {
      "cell_type": "markdown",
      "source": [
        "***Short Rate in trems of Instantaneous Forward Rate***\n",
        "\n",
        "$$\\displaystyle\n",
        "r(t)\n",
        "=\n",
        "f(t,t)\n",
        "$$"
      ],
      "metadata": {
        "id": "0VUbKdnrwhml"
      }
    },
    {
      "cell_type": "markdown",
      "source": [
        "***Short Rate Dynamics under HJM Framework*** \n",
        "\n",
        "$$\\begin{array}{lllll}\n",
        "\\displaystyle\n",
        "dr(t)\n",
        "=\n",
        "\\mu^\\mathbb{Q}(t)dt+\\sigma(t)dW^{\\mathbb{Q}}(t)\n",
        "\\end{array}$$\n",
        "\n",
        "where\n",
        "\n",
        "$$\\begin{array}{lllll}\n",
        "\\displaystyle\n",
        "\\mu^\\mathbb{Q}(t)\n",
        "=\n",
        "\\mu^\\mathbb{Q}(t,t)+\n",
        "\\frac{\\partial f(0,t)}{\\partial t}\n",
        "+\\int_0^t\\frac{\\partial \\mu^\\mathbb{Q}(t',t)}{\\partial t}dt'\n",
        "+\\int_0^t\\frac{\\partial \\sigma(t',t)}{\\partial t}dW^{\\mathbb{Q}}(t')\n",
        "\\end{array}$$\n",
        "\n",
        "$$\\begin{array}{lllll}\n",
        "\\displaystyle\n",
        "\\sigma(t)=\\sigma(t,t)\n",
        "\\end{array}$$"
      ],
      "metadata": {
        "id": "BE5r_m69whre"
      }
    },
    {
      "cell_type": "markdown",
      "source": [
        "***Proof***\n",
        "\n",
        "Since $df(t,T)=\\mu^\\mathbb{Q}(t,T)dt+\\sigma(t,T)dW^{\\mathbb{Q}}(t)$,\n",
        "\n",
        "$$\\begin{array}{lllll}\n",
        "\\displaystyle\n",
        "f(t,T)\n",
        "=\n",
        "f(0,T)\n",
        "+\\int_0^t\\mu^\\mathbb{Q}(t',T)dt'+\\int_0^t\\sigma(t',T)dW^{\\mathbb{Q}}(t')\n",
        "\\end{array}$$\n",
        "\n",
        "Since $r(t)=f(t,t)$,\n",
        "\n",
        "$$\\begin{array}{lllll}\n",
        "\\displaystyle\n",
        "r(t)\n",
        "=\n",
        "f(0,t)\n",
        "+\\int_0^t\\mu^\\mathbb{Q}(t',t)dt'+\\int_0^t\\sigma(t',t)dW^{\\mathbb{Q}}(t')\n",
        "\\end{array}$$\n",
        "\n",
        "Since\n",
        "$\n",
        "f(0,t)\n",
        "=f(0,0)+\\left[f(0,t)-f(0,0)\\right]\n",
        "=f(0,0)+\\int_0^t\\frac{\\partial f(0,T')}{\\partial T'}dT'\n",
        "$,\n",
        "\n",
        "$$\n",
        "\\displaystyle\n",
        "df(0,t)\n",
        "=\n",
        "\\frac{\\partial f(0,t)}{\\partial t}dt\n",
        "$$\n",
        "\n",
        "Since\n",
        "\n",
        "$$\\begin{array}{lllll}\n",
        "\\displaystyle\n",
        "\\int_0^t\\mu^\\mathbb{Q}(t',t)dt'\n",
        "&=&\\displaystyle\n",
        "\\int_0^t\\mu^\\mathbb{Q}(t',t')dt'\n",
        "+\n",
        "\\int_0^t\\left[\\mu^\\mathbb{Q}(t',t)-\\mu^\\mathbb{Q}(t',t')\\right]dt'\\\\\n",
        "&=&\\displaystyle\n",
        "\\int_0^t\\mu^\\mathbb{Q}(t',t')dt'\n",
        "+\n",
        "\\int_0^t\\left(\\int_{t'}^t\\frac{\\partial \\mu^\\mathbb{Q}(t',T')}{\\partial T'}dT'\\right)dt'\\quad(\\text{Fubini})\\\\\n",
        "&=&\\displaystyle\n",
        "\\int_0^t\\mu^\\mathbb{Q}(t',t')dt'\n",
        "+\n",
        "\\int_0^t\\left(\\int_0^{T'}\\frac{\\partial \\mu^\\mathbb{Q}(t',T')}{\\partial T'}dt'\\right)dT'\n",
        "\\end{array}$$\n",
        "\n",
        "we have\n",
        "\n",
        "$$\\begin{array}{lllll}\n",
        "\\displaystyle\n",
        "d\\int_0^t\\mu^\\mathbb{Q}(t',t)dt'\n",
        "&=&\\displaystyle\n",
        "\\mu^\\mathbb{Q}(t,t)dt\n",
        "+\n",
        "\\left(\\int_0^t\\frac{\\partial \\mu^\\mathbb{Q}(t',t)}{\\partial t}dt'\\right)dt\n",
        "\\end{array}$$\n",
        "\n",
        "Since\n",
        "\n",
        "$$\\begin{array}{lllll}\n",
        "\\displaystyle\n",
        "\\int_0^t\\sigma(t',t)dW^{\\mathbb{Q}}(t')\n",
        "&=&\\displaystyle\n",
        "\\int_0^t\\sigma(t',t')dW^{\\mathbb{Q}}(t')\n",
        "+\n",
        "\\int_0^t\\left[\\sigma(t',t)-\\sigma(t',t')\\right]dW^{\\mathbb{Q}}(t')\\\\\n",
        "&=&\\displaystyle\n",
        "\\int_0^t\\sigma(t',t')dW^{\\mathbb{Q}}(t')\n",
        "+\n",
        "\\int_0^t\\left(\\int_{t'}^t\\frac{\\partial \\sigma(t',T')}{\\partial T'}dT'\\right)dW^{\\mathbb{Q}}(t')\\quad(\\text{Fubini})\\\\\n",
        "&=&\\displaystyle\n",
        "\\int_0^t\\sigma(t',t')dW^{\\mathbb{Q}}(t')\n",
        "+\n",
        "\\int_0^t\\left(\\int_0^{T'}\\frac{\\partial \\sigma(t',T')}{\\partial T'}dW^{\\mathbb{Q}}(t')\\right)dT'\n",
        "\\end{array}$$\n",
        "\n",
        "we have\n",
        "\n",
        "$$\\begin{array}{lllll}\n",
        "\\displaystyle\n",
        "d\\int_0^t\\sigma(t',t)dW^{\\mathbb{Q}}(t')\n",
        "&=&\\displaystyle\n",
        "\\sigma(t,t)dW^{\\mathbb{Q}}(t)\n",
        "+\n",
        "\\left(\\int_0^t\\frac{\\partial \\sigma(t',t)}{\\partial t}dW^{\\mathbb{Q}}(t')\\right)dt\\\\\n",
        "\\end{array}$$"
      ],
      "metadata": {
        "id": "1vCnCMLCwhwR"
      }
    },
    {
      "cell_type": "markdown",
      "source": [
        "######***Money Savings Account***"
      ],
      "metadata": {
        "id": "dKRiyZS4zjWN"
      }
    },
    {
      "cell_type": "markdown",
      "source": [
        "***Money Savings Account***\n",
        "\n",
        "$$\\displaystyle\n",
        "M(t)\n",
        "=\n",
        "\\text{exp}\\left(\\int_0^tr(t')dt'\\right)\n",
        "=\n",
        "\\text{exp}\\left(\\int_0^tf(t',t')dt'\\right)\n",
        "$$"
      ],
      "metadata": {
        "id": "woxi_x8Zzjbz"
      }
    },
    {
      "cell_type": "markdown",
      "source": [
        "***Money Savings Account Dynamics***\n",
        "\n",
        "$$\\displaystyle\n",
        "dM(t)\n",
        "=\n",
        "r(t)M(t)dt\n",
        "$$"
      ],
      "metadata": {
        "id": "hLKwxautzji-"
      }
    },
    {
      "cell_type": "markdown",
      "source": [
        "######***ZCB***"
      ],
      "metadata": {
        "id": "2II1_Tkxzjpn"
      }
    },
    {
      "cell_type": "markdown",
      "source": [
        "***$P(t,T)$ in terms of $f(t,T)$***\n",
        "\n",
        "$$\\begin{array}{lll}\n",
        "\\displaystyle\n",
        "f(t,T)=-\\frac{\\partial }{\\partial T}\\log P(t,T)\n",
        "&\\Rightarrow&\\displaystyle\n",
        "\\int_t^Tf(t,T')dT'=-\\log P(t,T)\\\\\n",
        "&\\Rightarrow&\\displaystyle\n",
        "P(t,T)\n",
        "=\n",
        "\\text{exp}\\left(-\\int_t^Tf(t,T')dT'\\right)\n",
        "\\end{array}$$"
      ],
      "metadata": {
        "id": "Ubq7SDndzjwG"
      }
    },
    {
      "cell_type": "markdown",
      "source": [
        "***$P(t,T)$ in terms of $r(t)$***\n",
        "\n",
        "$$\\begin{array}{lllll}\n",
        "\\displaystyle\n",
        "P(t,T)\n",
        "=\n",
        "\\mathbb{E}^{\\mathbb{Q}}\\left[\\frac{M(t)}{M(T)}\\Big{|}{\\cal F}(t)\\right]\n",
        "=\n",
        "\\mathbb{E}^{\\mathbb{Q}}\\left[\\text{exp}\\left(-\\int_t^Tr(t')dt'\\right)\\Big{|}{\\cal F}(t)\\right]\n",
        "\\end{array}$$"
      ],
      "metadata": {
        "id": "gd3ngRmBzj3M"
      }
    },
    {
      "cell_type": "markdown",
      "source": [
        "***ZCB Dynamics*** \n",
        "\n",
        "$$\\begin{array}{lllll}\n",
        "\\displaystyle\n",
        "\\frac{dP(t,T)}{P(t,T)}\n",
        "=\n",
        "r(t)dt+\\sigma_P(t,T)dW^{\\mathbb{Q}}(t)\n",
        "\\end{array}$$\n",
        "\n",
        "where\n",
        "\n",
        "$$\\begin{array}{lllll}\n",
        "\\displaystyle\n",
        "\\sigma_P(t,T)\n",
        "=\n",
        "-\\int_t^T\\sigma(t',T)dt'\n",
        "\\end{array}$$"
      ],
      "metadata": {
        "id": "zy8TOizyzj9M"
      }
    },
    {
      "cell_type": "markdown",
      "source": [
        "***Proof***\n",
        "\n",
        "$$\n",
        "\\displaystyle\n",
        "P(t,T)\n",
        "=\\text{exp}\\left(-\\int_t^Tf(t,T')dT'\\right)\n",
        ":=e^{-Z(t)}\n",
        "$$\n",
        "\n",
        "$$\\begin{array}{lll}\n",
        "\\displaystyle\n",
        "dZ(t)\n",
        "&=&\\displaystyle\n",
        "d\\int_t^Tf(t,T')dT'\\\\\n",
        "&=&\\displaystyle\n",
        "-f(t,t)dt+\\int_t^Tdf(t,T')dT'\\\\\n",
        "&=&\\displaystyle\n",
        "-f(t,t)dt+\\int_t^T\\left[\\mu^\\mathbb{Q}(t,T')dt+\\sigma(t,T')dW^\\mathbb{Q}(t)\\right]dT'\\\\\n",
        "&=&\\displaystyle\n",
        "\\left[-f(t,t)+\\int_t^T\\mu^\\mathbb{Q}(t,T')dT'\\right]dt+\\left[\\int_t^T\\sigma(t,T')dT'\\right]dW^\\mathbb{Q}(t)\\\\\n",
        "&=&\\displaystyle\n",
        "\\left[-r(t)+\\int_t^T\\mu^\\mathbb{Q}(t,T')dT'\\right]dt+\\left[\\int_t^T\\sigma(t,T')dT'\\right]dW^\\mathbb{Q}(t)\\\\\n",
        "\\end{array}$$\n",
        "\n",
        "$$\\begin{array}{lll}\n",
        "\\displaystyle\n",
        "dP(t,T)\n",
        "&=&\\displaystyle\n",
        "-e^{-Z(t)}dZ+\\frac{1}{2}e^{-Z(t)}(dZ)^2\\\\\n",
        "&=&\\displaystyle\n",
        "e^{-Z(t)}\\left(r(t)-\\int_t^T\\mu^\\mathbb{Q}(t,T')dT'+\\frac{1}{2}\\left(\\int_t^T\\sigma(t,T')dT'\\right)^2\\right)dt\n",
        "-e^{-Z(t)}\\left(\\int_t^T\\sigma(t,T')dT'\\right)dW^{\\mathbb{Q}}(t)\n",
        "\\end{array}$$\n",
        "\n",
        "Since $P(t,T)=e^{-Z(t)}$,\n",
        "\n",
        "$$\\begin{array}{lll}\n",
        "\\displaystyle\n",
        "\\frac{dP(t,T)}{P(t,T)}\n",
        "&=&\\displaystyle\n",
        "\\left(r(t)-\\int_t^T\\mu^\\mathbb{Q}(t,T')dT'+\\frac{1}{2}\\left(\\int_t^T\\sigma(t,T')dT'\\right)^2\\right)dt\n",
        "-\\left(\\int_t^T\\sigma(t,T')dT'\\right)dW^{\\mathbb{Q}}(t)\n",
        "\\end{array}$$\n",
        "\n",
        "We claim\n",
        "\n",
        "$$\\begin{array}{lllll}\n",
        "\\displaystyle\n",
        "\\frac{1}{2}\\left(\\int_t^T\\sigma(t,T')dT'\\right)^2\n",
        "&=&\\displaystyle\n",
        "\\int_t^T\\mu^\\mathbb{Q}(t,T')dT'\n",
        "\\end{array}$$\n",
        "\n",
        "If this claim is justified, then we have the above ZCB dynamics.\n",
        "\n",
        "***Claim***\n",
        "$$\\begin{array}{lllll}\n",
        "\\displaystyle\n",
        "\\frac{1}{2}\\left(\\int_t^T\\sigma(t,T')dT'\\right)^2\n",
        "&=&\\displaystyle\n",
        "\\int_t^T\\mu^\\mathbb{Q}(t,T')dT'\n",
        "\\end{array}$$\n",
        "\n",
        "***Proof of Claim***\n",
        "\n",
        "$$\\begin{array}{lllll}\n",
        "\\displaystyle\n",
        "\\frac{d}{dT}\\left[\\frac{1}{2}\\left(\\int_t^T\\sigma(t,T')dT'\\right)^2\\right]\n",
        "=\n",
        "\\sigma(t,T)\\int_t^T\\sigma(t,T')dT'\n",
        "=\n",
        "\\mu^\\mathbb{Q}(t,T)\n",
        "\\end{array}$$"
      ],
      "metadata": {
        "id": "-ss4OQzRzkD-"
      }
    },
    {
      "cell_type": "markdown",
      "source": [
        "***Instantaneous Forward Rate Dynamics*** \n",
        "\n",
        "$$\\begin{array}{lllll}\n",
        "\\displaystyle\n",
        "df(t,T)\n",
        "=\n",
        "\\mu^\\mathbb{Q}(t,T)dt+\\sigma(t,T)dW^{\\mathbb{Q}}(t)\n",
        "\\end{array}$$\n",
        "\n",
        "***No Arbitrage Condition***\n",
        "\n",
        "$$\\begin{array}{lllll}\n",
        "\\displaystyle\n",
        "\\mu^\\mathbb{Q}(t,T)\n",
        "=\\sigma(t,T)\\int_t^T\\sigma(t,T')dT'\n",
        "\\end{array}$$\n",
        "\n",
        "***Another Proof based on ZCB Dynamics***\n",
        "\n",
        "Since $f(t,T)=-\\frac{d}{dT}\\log P(t,T)$,\n",
        "\n",
        "$$\\begin{array}{lllllll}\n",
        "\\displaystyle\n",
        "df(t,T)\n",
        "=\n",
        "-\\frac{d}{dT}d\\log P(t,T)\n",
        "\\end{array}$$\n",
        "\n",
        "Since $dP(t,T)/P(t,T)=r(t) dt+\\sigma_P(t,T)dW^{\\mathbb{Q}}(t)$ where $\\sigma_P(t,T)\n",
        "=\n",
        "-\\int_t^T\\sigma(t,T')dT'$,\n",
        "\n",
        "$$\\begin{array}{lllll}\n",
        "\\displaystyle\n",
        "d\\log P(t,T)\n",
        "&=&\\displaystyle\n",
        "\\frac{1}{P(t,T)}dP(t,T)\n",
        "-\\frac{1}{2}\\frac{1}{P(t,T)^2}\\left(dP(t,T)\\right)^2\\\\\n",
        "&=&\\displaystyle\n",
        "\\left(r(t)-\\frac{1}{2}\\sigma^2_P(t,T)\\right)dt+\\sigma_P(t,T)dW^{\\mathbb{Q}}(t)\\\\\n",
        "\\end{array}$$\n",
        "\n",
        "Since $\\sigma_P(t,T)\n",
        "=\n",
        "-\\int_t^T\\sigma(t,T')dT'$,\n",
        "\n",
        "$$\\begin{array}{lllllll}\n",
        "\\displaystyle\n",
        "df(t,T)\n",
        "&=&\\displaystyle\n",
        "-\\frac{d}{dT}d\\log P(t,T)\\\\\n",
        "&=&\\displaystyle\n",
        "\\frac{1}{2}\\frac{d\\sigma^2_P(t,T)}{dT}dt-\\frac{d \\sigma_P(t,T)}{dT}dW^{\\mathbb{Q}}(t)\\\\\n",
        "&=&\\displaystyle\n",
        "\\sigma(t,T)\\left(\\int_t^T\\sigma(t,T')dT'\\right)dt+\\sigma(t,T)dW^{\\mathbb{Q}}(t)\\\\\n",
        "&:=&\\displaystyle\n",
        "\\mu^{\\mathbb{Q}}(t,T)dt+\\sigma(t,T)dW^{\\mathbb{Q}}(t)\\\\\n",
        "\\end{array}$$\n",
        "\n",
        "Therefore,\n",
        "$$\n",
        "\\displaystyle\n",
        "\\mu^{\\mathbb{Q}}(t,T)\n",
        "=\n",
        "\\sigma(t,T)\\int_t^T\\sigma(t,T')dT'\n",
        "$$"
      ],
      "metadata": {
        "id": "yBZw7JGoXc8g"
      }
    },
    {
      "cell_type": "markdown",
      "source": [
        "###***Chapter 5 Change of Measure***"
      ],
      "metadata": {
        "id": "GhHgnCsOFp5K"
      }
    },
    {
      "cell_type": "markdown",
      "source": [
        "####***Section 1 Change of Measure (Discrete Case)***"
      ],
      "metadata": {
        "id": "iR5tby9fRRlw"
      }
    },
    {
      "cell_type": "markdown",
      "source": [
        "######***Radon-Nykodym Derivative***"
      ],
      "metadata": {
        "id": "h7D1Z6587xhM"
      }
    },
    {
      "cell_type": "markdown",
      "source": [
        "\n",
        "\n",
        "A Radon-Nykodym derivative $d\\mathbb{Q}/d\\mathbb{P}$ is a random variable defined on $\\Omega$ such that\n",
        "\n",
        "$$\\begin{array}{lllllll}\n",
        "(1)&&\\displaystyle\n",
        "\\frac{d\\mathbb{Q}}{d\\mathbb{P}}:(\\Omega,{\\cal F},\\mathbb{P})\\rightarrow\\mathbb{R}\\quad\\text{is a positive random variable a.s.}\\\\\n",
        "(2)&&\\displaystyle\n",
        "\\mathbb{E^P}\\left[\\frac{d\\mathbb{Q}}{d\\mathbb{P}}\\right]=\\int\\frac{d\\mathbb{Q}}{d\\mathbb{P}}d\\mathbb{P}=1\n",
        "\\end{array}$$"
      ],
      "metadata": {
        "id": "nMMv0uh6Jwy8"
      }
    },
    {
      "cell_type": "markdown",
      "source": [
        "######***Change of Measure (Discrete Case)***"
      ],
      "metadata": {
        "id": "0oTLa9Rw72Jg"
      }
    },
    {
      "cell_type": "markdown",
      "source": [
        "\n",
        "\n",
        "Suppose we have two probability measures $\\mathbb{P}$ and $\\mathbb{Q}$ such that\n",
        "$\\mathbb{P}(\\omega)>0$, $\\mathbb{Q}(\\omega)\\ge0$ for all $\\omega\\in\\Omega$.\n",
        "Then, two probability measures $P$ and $Q$ are related as \n",
        "\n",
        "$$\\begin{array}{cccccccccc}\n",
        "\\mathbb{Q}(\\omega)&=&Z(\\omega)&\\mathbb{P}(\\omega)\\\\\n",
        "\\uparrow&&\\uparrow&\\uparrow\\\\\n",
        "\\text{New Measure}&&\\text{Radon-Nykodym}&\\text{Old Measure}\\\\\n",
        "\\text{}&&\\text{Derivative}&\\text{}\\\\\n",
        "\\end{array}$$\n",
        "\n",
        "where the Radon-Nykodym derivative $Z=d\\mathbb{Q}/d\\mathbb{P}$ is given by\n",
        "\n",
        "$$\n",
        "Z(\\omega)=\\frac{d\\mathbb{Q}}{d\\mathbb{P}}(\\omega)=\\frac{d\\mathbb{Q}(\\omega)}{d\\mathbb{P}(\\omega)} = \\frac{\\mathbb{Q}(\\omega)}{\\mathbb{P}(\\omega)}\n",
        "$$"
      ],
      "metadata": {
        "id": "Cxu0i3CsRRxp"
      }
    },
    {
      "cell_type": "markdown",
      "source": [
        "######***Properties of Change of Measure***"
      ],
      "metadata": {
        "id": "7RiNbi7A7_6X"
      }
    },
    {
      "cell_type": "markdown",
      "source": [
        "$$\\begin{array}{lllllllllll}\n",
        "\\displaystyle\n",
        "\\text{(1)}&&\\displaystyle Z(\\omega)>0&&\\displaystyle \\frac{d\\mathbb{Q}}{d\\mathbb{P}}(\\omega)>0\\\\\n",
        "\\text{(2)}&&\\displaystyle E^\\mathbb{P}[Z]=1&&\\displaystyle E^\\mathbb{P}\\left[\\frac{d\\mathbb{Q}}{d\\mathbb{P}}\\right]=1&&\\displaystyle \\int\\frac{d\\mathbb{Q}}{d\\mathbb{P}}d\\mathbb{P}=\\int d\\mathbb{Q}=1\\\\\n",
        "\\text{(3)}&&\\displaystyle E^\\mathbb{Q}[X]=E^\\mathbb{P}[XZ]&&\\displaystyle E^\\mathbb{Q}\\left[X\\right]=E^\\mathbb{P}\\left[X\\frac{d\\mathbb{Q}}{d\\mathbb{P}}\\right]&&\\displaystyle\\int Xd\\mathbb{Q}=\\int X\\frac{d\\mathbb{Q}}{d\\mathbb{P}}d\\mathbb{P}\\\\\n",
        "\\end{array}$$\n",
        "\n",
        "***Proof*** \n",
        "\n",
        "$$\\begin{array}{llllll}\n",
        "(2)&\\displaystyle E^\\mathbb{P}[Z]\n",
        "=\\sum_\\omega Z(\\omega)\\mathbb{P}(\\omega)\n",
        "=\\sum_\\omega \\frac{\\mathbb{Q}(\\omega)}{\\mathbb{P}(\\omega)}\\mathbb{P}(\\omega)\n",
        "=\\sum_\\omega \\mathbb{Q}(\\omega)\n",
        "=1\\\\\n",
        "(3)&\\displaystyle E^\\mathbb{Q}[X]\n",
        "=\\sum_\\omega X(\\omega)\\mathbb{Q}(\\omega)\n",
        "=\\sum_\\omega X(\\omega)\\frac{\\mathbb{Q}(\\omega)}{\\mathbb{P}(\\omega)}\\mathbb{P}(\\omega)\n",
        "=\\sum_\\omega X(\\omega)Z(\\omega)\\mathbb{P}(\\omega)\n",
        "=E^\\mathbb{P}[XZ]\n",
        "\\end{array}$$"
      ],
      "metadata": {
        "id": "Zn8tWUbMRR32"
      }
    },
    {
      "cell_type": "markdown",
      "source": [
        "####***Section 2 Change of Measure (Continuous Case)***"
      ],
      "metadata": {
        "id": "ab-bySqjRSD-"
      }
    },
    {
      "cell_type": "markdown",
      "source": [
        "######***Change of Measure (Continuous Case)***"
      ],
      "metadata": {
        "id": "OXJnSxfq8dGR"
      }
    },
    {
      "cell_type": "markdown",
      "source": [
        "\n",
        "\n",
        "Let $Z$ be a Radon-Nykodym derivative, that is, a random variable with\n",
        "$\\mathbb{P}(Z>0)=1$ and $E^\\mathbb{P}[Z]=1$.\n",
        "Define $\\mathbb{Q}:{\\cal F}\\rightarrow\\mathbb{R}$ by\n",
        "\n",
        "$$\\begin{array}{llllll}\n",
        "\\displaystyle\n",
        "\\mathbb{Q}(A)\n",
        "=\\int_A  d\\mathbb{Q}\n",
        "=\\int_A  \\frac{d\\mathbb{Q}}{d\\mathbb{P}}d\\mathbb{P}\n",
        "=\\int_AZ(\\omega)d\\mathbb{P}(\\omega)=E^\\mathbb{P}\\left[Z;A\\right]=E^\\mathbb{P}\\left[Z1_A\\right]\n",
        "\\end{array}$$\n",
        "\n",
        "Then, $\\mathbb{Q}$ is a probability measure  satisfying three properties of change of measure."
      ],
      "metadata": {
        "id": "sv6KnbYaRSKR"
      }
    },
    {
      "cell_type": "markdown",
      "source": [
        "#####***Girsanov Theorem (Continuous Case)***"
      ],
      "metadata": {
        "id": "hGdjWEY7JfnY"
      }
    },
    {
      "cell_type": "markdown",
      "source": [
        "\n",
        "\n",
        "If $B_T$ is $N(0,T)$ under the probability measure $\\mathbb{P}$, \n",
        "then \n",
        "by the property of normal random variables\n",
        "$B_T'=B_T+\\theta T$ is obviously $N(\\theta T,T)$ under the same measure $\\mathbb{P}$.\n",
        "However, \n",
        "if we change the probability measure from $\\mathbb{P}$ to $\\mathbb{Q}$\n",
        "using the Radon-Nykodym derivative $d\\mathbb{Q}/d\\mathbb{P}=\\text{exp}\\left(- \\frac{1}{2}\\theta^2 T-\\theta B_T\\right)$,\n",
        "$B_T'$ is $N(0,T)$ under the new probability measure $\\mathbb{Q}$.\n",
        "\n",
        "$$\\begin{array}{lll}\n",
        "B_T&&\\text{$N(0,T)$ under $\\mathbb{P}$}\\\\\n",
        "B'_T=B_T+\\theta T&&\\text{$N(0,T)$ under $\\mathbb{Q}$}\\\\\n",
        "\\end{array}$$\n",
        "\n",
        "where\n",
        "\n",
        "$$\\begin{array}{lll}\n",
        "\\displaystyle\\frac{d \\mathbb{Q}}{d\\mathbb{P}}=\\text{exp}\\left(-\\frac{1}{2}\\theta^2 T-\\theta B_T\\right)\n",
        "\\end{array}$$"
      ],
      "metadata": {
        "id": "s07YnPrsJfqw"
      }
    },
    {
      "cell_type": "markdown",
      "source": [
        "***Girsanov's Radon-Nykodym Derivative***\n",
        "\n",
        "We use this particular Radon-Nykodym derivative in Girsanov theorem.\n",
        "\n",
        "$$\\begin{array}{lll}\n",
        "\\displaystyle\n",
        "\\frac{d\\mathbb{Q}}{d\\mathbb{P}}(\\omega)\n",
        "=\\text{exp}\\left(- \\frac{1}{2}\\theta^2 T-\\theta B_T(\\omega)\\right)\n",
        "=\\text{exp}\\left(- \\frac{1}{2}\\theta^2 T-\\theta \\left(B_T'(\\omega)-\\theta T\\right)\\right)\n",
        "\\end{array}$$\n",
        "\n",
        "One can easily check this random variable satisfies \n",
        "Radon-Nykodym derivative's property (1) and (2). \n",
        "Since $B_T$ is $N(0,T)$ under the probability measure $\\mathbb{P}$,\n",
        "\n",
        "$$\\begin{array}{lllllll}\n",
        "\\displaystyle\n",
        "\\mathbb{E^P}\\left[\\frac{d\\mathbb{Q}}{d\\mathbb{P}}\\right]\n",
        "&=&\\displaystyle\n",
        "\\mathbb{E^P}\\left[\\text{exp}\\left(- \\frac{1}{2}\\theta^2 T-\\theta B_T\\right)\\right]\\\\\n",
        "&=&\\displaystyle\n",
        "\\int_{-\\infty}^{\\infty}\n",
        "\\text{exp}\\left(- \\frac{1}{2}\\theta^2 T-\\theta x \\right)\n",
        "\\frac{1}{\\sqrt{2\\pi T}}\\text{exp}\\left(-\\frac{x^2}{2 T}\\right)\n",
        "dx\\\\\n",
        "&=&\\displaystyle\n",
        "\\int_{-\\infty}^{\\infty}\n",
        "\\frac{1}{\\sqrt{2\\pi T}}\\text{exp}\\left(-\\frac{(x+\\theta T)^2}{2 T}\\right)dx\\\\\n",
        "&=&\\displaystyle\n",
        "1\n",
        "\\end{array}$$"
      ],
      "metadata": {
        "id": "drFxj59FJftw"
      }
    },
    {
      "cell_type": "markdown",
      "source": [
        "***Proof***\n",
        "\n",
        "$$\\begin{array}{lll}\n",
        "\\displaystyle\n",
        "\\mathbb{Q}\\left(x\\le B'_T\\le x+dx\\right)\n",
        "&=&\n",
        "\\displaystyle\n",
        "\\mathbb{Q}\\left(x\\le B_T+\\theta T\\le x+dx\\right)\\\\\n",
        "&=&\n",
        "\\displaystyle\n",
        "\\mathbb{Q}\\left(x-\\theta T\\le B_T\\le x-\\theta T+dx\\right)\\\\\n",
        "&=&\n",
        "\\displaystyle\n",
        "\\frac{d \\mathbb{Q}}{d \\mathbb{P}}\\mathbb{P}\\left(x-\\theta T\\le B_T\\le x-\\theta T+dx\\right)\\\\\n",
        "&=&\n",
        "\\displaystyle\n",
        "\\text{exp}\\left(-\\frac{1}{2}\\theta^2T-\\theta B_T\\right)\n",
        "\\frac{1}{\\sqrt{2\\pi T}}\\text{exp}\\left(-\\frac{(x-\\theta T)^2}{2 T}\\right)dx\\\\\n",
        "&=&\n",
        "\\displaystyle\n",
        "\\text{exp}\\left(-\\frac{1}{2}\\theta^2T-\\theta (x-\\theta T)\\right)\n",
        "\\frac{1}{\\sqrt{2\\pi T}}\\text{exp}\\left(-\\frac{(x-\\theta T)^2}{2 T}\\right)dx\\\\\n",
        "&=&\n",
        "\\displaystyle\n",
        "\\frac{1}{\\sqrt{2\\pi T}}\\text{exp}\\left(-\\frac{x^2}{2 T}\\right)dx\n",
        "\\end{array}$$"
      ],
      "metadata": {
        "id": "OaHWyD-TJfzo"
      }
    },
    {
      "cell_type": "code",
      "source": [
        "#@title Girsanov Theorem (Continuous Case)\n",
        "import matplotlib.pyplot as plt\n",
        "import numpy as np\n",
        "from scipy import stats \n",
        "\n",
        "def generate_BT_and_BT_prime(n_sim, T, theta, seed=None):\n",
        "    if seed is not None:\n",
        "        np.random.seed(seed)\n",
        "    BT = np.random.normal(loc=0, scale=np.sqrt(T), size=(n_sim,))\n",
        "    BT_prime = BT + theta * T\n",
        "    return BT, BT_prime\n",
        "\n",
        "def compute_dQ_over_dP(x, T, theta):\n",
        "    return np.exp( - theta**2 * T / 2 - theta * ( x - theta * T ) )\n",
        "\n",
        "def compute_pdf_under_Q_using_histogram(T, theta, pdf_under_P_using_histogram, bins_loc):\n",
        "    return pdf_under_P_using_histogram * compute_dQ_over_dP(bins_loc, T, theta)\n",
        "\n",
        "def main():\n",
        "    n_sim = 10_000_000\n",
        "    bins = 1_000\n",
        "    T = 0.2\n",
        "    theta = 3\n",
        "    \n",
        "    BT, BT_prime = generate_BT_and_BT_prime(n_sim, T, theta, seed=0)\n",
        "    \n",
        "    fig, (ax0, ax1) = plt.subplots(1,2,figsize=(15,4))\n",
        "    \n",
        "    ax0.set_title(f'Density of BT_prime under P\\n{n_sim = :,}, {bins = :,}', fontsize=20)\n",
        "    pdf_hist, bins_loc, _ = ax0.hist(BT_prime, bins=bins, density=True, alpha=0.5)\n",
        "    pdf_under_P = stats.norm(loc=theta*T, scale=np.sqrt(T)).pdf\n",
        "    ax0.plot(bins_loc[:-1], pdf_under_P(bins_loc[:-1]), color='red', linestyle='--', linewidth=3)\n",
        "    ax0.plot((theta*T, theta*T), (0, 1), color='green', linestyle='--', linewidth=5, alpha=0.9)\n",
        "\n",
        "    ax1.set_title(f'Density of BT_prime under Q\\n{n_sim = :,}, {bins = :,}', fontsize=20)\n",
        "    pdf_under_Q_val = compute_pdf_under_Q_using_histogram(T, theta,\n",
        "                                                          pdf_under_P_using_histogram=pdf_hist,\n",
        "                                                          bins_loc=bins_loc[:-1])\n",
        "    ax1.bar(x=bins_loc[:-1], height=pdf_under_Q_val, width=bins_loc[1]-bins_loc[0], alpha=0.5)\n",
        "    pdf_under_Q = stats.norm(loc=0, scale=np.sqrt(T)).pdf\n",
        "    ax1.plot(bins_loc[:-1], pdf_under_Q(bins_loc[:-1]), color='red', linestyle='--', linewidth=3)\n",
        "    ax1.plot((0, 0), (0, 1), color='green', linestyle='--', linewidth=5, alpha=0.9)\n",
        "        \n",
        "    for ax in (ax0, ax1):\n",
        "        ax.set_xticks( ( -2, -1, 0, 1, 2 ) )\n",
        "        ax.set_xlim( ( - 2.5, 2.5) )\n",
        "\n",
        "    plt.tight_layout()\n",
        "    plt.show()\n",
        "        \n",
        "if __name__ == \"__main__\":\n",
        "    main()"
      ],
      "metadata": {
        "colab": {
          "base_uri": "https://localhost:8080/",
          "height": 273
        },
        "id": "L0YyG8NkLKgK",
        "outputId": "db2541d8-e323-452c-88c1-bc0d5aa05e43"
      },
      "execution_count": 1,
      "outputs": [
        {
          "output_type": "display_data",
          "data": {
            "text/plain": [
              "<Figure size 1080x288 with 2 Axes>"
            ],
            "image/png": "[encoded data removed]"
          },
          "metadata": {
            "needs_background": "light"
          }
        }
      ]
    },
    {
      "cell_type": "markdown",
      "source": [
        "####***Section 3 Change of Measure (Process Case)***"
      ],
      "metadata": {
        "id": "IP8R2i-RRSRC"
      }
    },
    {
      "cell_type": "markdown",
      "source": [
        "######***Filteration***"
      ],
      "metadata": {
        "id": "6KEMr_F39-To"
      }
    },
    {
      "cell_type": "markdown",
      "source": [
        "\n",
        "\n",
        "Let ${\\cal F}_{t}$, $0\\le t\\le T$, be a collection of $\\sigma$-fields, called a filteration, such that for $t_1<t_2$\n",
        "\n",
        "$$\\begin{array}{llllll}\n",
        "\\displaystyle\n",
        "{\\cal F}_{t_1} \\subset {\\cal F}_{t_2}\\subset {\\cal F}_{T}\n",
        "\\end{array}$$"
      ],
      "metadata": {
        "id": "eEsQ2f8_xu_X"
      }
    },
    {
      "cell_type": "markdown",
      "source": [
        "######***Change of Measure (Process Case)***"
      ],
      "metadata": {
        "id": "RrIg67oE-CdU"
      }
    },
    {
      "cell_type": "markdown",
      "source": [
        "\n",
        "\n",
        "Let $\\mathbb{P}$ be a probability measure defined on the $\\sigma$-field ${\\cal F}_{T}$ \n",
        "and let $Z_T\\in{\\cal F}_T$ be a positive random variable with $\\mathbb{E}^{\\mathbb{P}}[Z_T]=1$.\n",
        "Use $Z_T$ as a Radon-Nykodym derivative $Z_T=d \\mathbb{Q}/d\\mathbb{P}$, meaning\n",
        "define a new probability measure $\\mathbb{Q}$ on the $\\sigma$-field ${\\cal F}_{T}$  as\n",
        "\n",
        "$$\\begin{array}{lll}\n",
        "\\displaystyle\n",
        "\\mathbb{Q}(A)\n",
        "=\\int_A  d\\mathbb{Q}\n",
        "=\\int_A  \\frac{d\\mathbb{Q}}{d\\mathbb{P}}d\\mathbb{P}\n",
        "=\\int_A  Z_Td\\mathbb{P}\n",
        "=\\mathbb{E}^{\\mathbb{P}}\\left[Z_T;A\\right]\n",
        "=\\mathbb{E}^{\\mathbb{P}}\\left[Z_T1_A\\right]\n",
        "\\end{array}$$\n",
        "\n",
        "Then, $\\mathbb{Q}$ is a probability measure  satisfying three properties of change of measure:\n",
        "\n",
        "$$\\begin{array}{lllllllllll}\n",
        "\\displaystyle\n",
        "\\text{(1)}\n",
        "&&\\displaystyle Z_T>0\\quad\\text{a.s.}\n",
        "&&\\displaystyle \\frac{d\\mathbb{Q}}{d\\mathbb{P}}>0\\quad\\text{a.s.}\\\\\n",
        "\\text{(2)}\n",
        "&&\\displaystyle E^\\mathbb{P}[Z_T]=1\n",
        "&&\\displaystyle E^\\mathbb{P}\\left[\\frac{d\\mathbb{Q}}{d\\mathbb{P}}\\right]=1\n",
        "&&\\displaystyle \\int\\frac{d\\mathbb{Q}}{d\\mathbb{P}}d\\mathbb{P}=\\int d\\mathbb{Q}=1\\\\\n",
        "\\text{(3)}\n",
        "&&\\displaystyle E^\\mathbb{Q}[X]=E^\\mathbb{P}[XZ_T]\n",
        "&&\\displaystyle E^\\mathbb{Q}\\left[X\\right]=E^\\mathbb{P}\\left[X\\frac{d\\mathbb{Q}}{d\\mathbb{P}}\\right]\n",
        "&&\\displaystyle\\int Xd\\mathbb{Q}=\\int X\\frac{d\\mathbb{Q}}{d\\mathbb{P}}d\\mathbb{P}\n",
        "\\end{array}$$\n",
        "\n",
        "$Z_t=\\mathbb{E}^{\\mathbb{P}}\\left[Z_T|{\\cal F}_t\\right]$ is a martingale. If $X\\in{\\cal F}_t$, we have further \n",
        "\n",
        "$$\\begin{array}{lllllllllll}\n",
        "\\text{(4)}\n",
        "&&\\displaystyle E^\\mathbb{Q}[X]=E^\\mathbb{P}[XZ_t]\n",
        "\\\\\n",
        "\\text{(5)}\n",
        "&&\\displaystyle \n",
        "\\mathbb{E}^{\\mathbb{P}}\\left[XZ_t|{\\cal F}_s\\right]\n",
        "=\\mathbb{E}^{\\mathbb{Q}}\\left[X|{\\cal F}_s\\right]Z_s\n",
        "\\quad\\text{or}\\quad\n",
        "\\mathbb{E}^{\\mathbb{Q}}\\left[X|{\\cal F}_s\\right]\n",
        "=\\mathbb{E}^{\\mathbb{P}}\\left[XZ_t|{\\cal F}_s\\right]\\frac{1}{Z_s}\\quad\\text{for $s<t$}\\\\\n",
        "\\end{array}$$"
      ],
      "metadata": {
        "id": "IWGeuUrKRSXE"
      }
    },
    {
      "cell_type": "markdown",
      "source": [
        "***Proof***\n",
        "\n",
        "(4) Since $X\\in{\\cal F}_t$,\n",
        "\n",
        "$$\\begin{array}{lll}\n",
        "\\displaystyle\n",
        "\\mathbb{E}^{\\mathbb{Q}}\\left[X\\right]\n",
        "=\\mathbb{E}^{\\mathbb{P}}\\left[XZ_T\\right]\n",
        "=\\mathbb{E}^{\\mathbb{P}}\\left[\\mathbb{E}^{\\mathbb{P}}\\left[XZ_T|{\\cal F}_t\\right]\\right]\n",
        "=\\mathbb{E}^{\\mathbb{P}}\\left[X\\mathbb{E}^{\\mathbb{P}}\\left[Z_T|{\\cal F}_t\\right]\\right]\n",
        "=\\mathbb{E}^{\\mathbb{P}}\\left[XZ_t\\right]\n",
        "\\end{array}$$\n",
        "\n",
        "(5) Since $X\\in{\\cal F}_t$, for $A\\in{\\cal F}_s$\n",
        "\n",
        "$$\\begin{array}{lll}\n",
        "\\displaystyle\n",
        "\\int_A \\mathbb{E}^{\\mathbb{P}}\\left[XZ_t|{\\cal F}_s\\right]\\frac{1}{Z_s}d\\mathbb{Q}\n",
        "&=&\\displaystyle\n",
        "\\int_A \\mathbb{E}^{\\mathbb{P}}\\left[\\frac{XZ_t}{Z_s}\\Big|{\\cal F}_s\\right]d\\mathbb{Q}\\\\\n",
        "%&=&\\displaystyle\n",
        "%\\int_A \\mathbb{E}^{\\mathbb{P}}\\left[\\frac{XZ_t}{Z_s}\\Big|{\\cal F}_s\\right]\n",
        "%\\frac{d\\mathbb{Q}}{d\\mathbb{P}}d\\mathbb{P}\\\\\n",
        "&=&\\displaystyle\n",
        "\\int_A \\mathbb{E}^{\\mathbb{P}}\\left[\\frac{XZ_t}{Z_s}\\Big|{\\cal F}_s\\right]\n",
        "Z_Td\\mathbb{P}\\\\\n",
        "%&=&\\displaystyle\n",
        "%\\int_A \\mathbb{E}^{\\mathbb{P}}\\left[\\mathbb{E}^{\\mathbb{P}}\\left[\\frac{XZ_t}{Z_s}\\Big|{\\cal F}_s\\right]\n",
        "%Z_T|{\\cal F}_s\\right]d\\mathbb{P}\\\\\n",
        "%&=&\\displaystyle \\int_A \\mathbb{E}^{\\mathbb{P}}\\left[\\frac{XZ_t}{Z_s}|{\\cal F}_s\\right]\\mathbb{E}^{\\mathbb{P}}\\left[Z_T\\Big|{\\cal F}_s\\right]d\\mathbb{P}\\\\\n",
        "&=&\\displaystyle\n",
        "\\int_A \\mathbb{E}^{\\mathbb{P}}\\left[\\frac{XZ_t}{Z_s}\\Big|{\\cal F}_s\\right]\n",
        "Z_sd\\mathbb{P}\\\\\n",
        "&=&\\displaystyle\n",
        "\\int_A \\mathbb{E}^{\\mathbb{P}}\\left[XZ_t|{\\cal F}_s\\right]\n",
        "d\\mathbb{P}\\\\\n",
        "&=&\\displaystyle\n",
        "\\int_A XZ_t\n",
        "d\\mathbb{P}\\\\\n",
        "&=&\\displaystyle\n",
        "\\int_A XZ_T\n",
        "d\\mathbb{P}\\\\\n",
        "%&=&\\displaystyle\\int_A X\\frac{d\\mathbb{Q}}{d\\mathbb{P}}d\\mathbb{P}\\\\\n",
        "&=&\\displaystyle\n",
        "\\int_A X\n",
        "d\\mathbb{Q}\\\\\n",
        "&=&\\displaystyle\n",
        "\\int_A \\mathbb{E}^{\\mathbb{Q}}\\left[X|{\\cal F}_s\\right]\n",
        "d\\mathbb{Q}\\\\\n",
        "\\end{array}$$"
      ],
      "metadata": {
        "id": "xrvdWMDaRSdg"
      }
    },
    {
      "cell_type": "markdown",
      "source": [
        "#####***Girsanov Theorem (Process Case)***"
      ],
      "metadata": {
        "id": "azD8pmb7OWFo"
      }
    },
    {
      "cell_type": "markdown",
      "source": [
        "***Radon-Nykodym Derivative***\n",
        "\n",
        "Let $B_t$ be a Brownian motion under $\\mathbb{P}$.\n",
        "For each $t$ we define a random variable $Z_t$ as\n",
        "\n",
        "$$\\begin{array}{lll}\n",
        "\\displaystyle\n",
        "Z_t=\\text{exp}\\left(-\\frac{1}{2}\\int_0^t\\theta^2ds-\\int_0^t\\theta dB_s\\right)\n",
        "\\end{array}$$\n",
        "$Z_t$ is a Radon-Nykodym derivative, meaning\n",
        "\n",
        "$$\\begin{array}{lllllll}\n",
        "(1)&&\\displaystyle\n",
        "Z_t:(\\Omega,{\\cal F},\\mathbb{P})\\rightarrow\\mathbb{R}\\quad\\text{is positive random variable a.s.}\\\\\n",
        "(2)&&\\displaystyle\n",
        "\\mathbb{E^P}Z_t=1\n",
        "\\end{array}$$"
      ],
      "metadata": {
        "id": "8QJAiFoPAAMS"
      }
    },
    {
      "cell_type": "markdown",
      "source": [
        "\n",
        "\n",
        "***Proof***\n",
        "\n",
        "Since $Ee^X=e^{\\mu+\\frac{1}{2}\\sigma^2}$ for $X\\sim N(\\mu,\\sigma^2)$ \n",
        "and since\n",
        "$\n",
        "-\\frac{1}{2}\\int_{0}^{t}\\theta^2ds-\\int_{0}^{t}\\theta dB_s\n",
        "\\sim N\\left(-\\frac{1}{2}\\int_{0}^{t}\\theta^2ds, \\int_{0}^{t}\\theta^2 ds\\right)\n",
        "$,\n",
        "we have\n",
        "\n",
        "$$\\begin{array}{lll}\n",
        "\\displaystyle\n",
        "\\mathbb{E}^{\\mathbb{P}}\\left[Z_t\\right]\n",
        "=\n",
        "\\mathbb{E}^{\\mathbb{P}}\\left[\\text{exp}\\left(-\\frac{1}{2}\\int_0^t\\theta^2ds-\\int_0^t\\theta dB_s\\right)\\right]\n",
        "=\n",
        "\\text{exp}\\left(-\\frac{1}{2}\\int_0^t\\theta^2ds+\\frac{1}{2}\\int_0^t\\theta^2ds\\right)\n",
        "=\n",
        "1\n",
        "\\end{array}$$\n",
        "\n",
        "So, $Z_t$ is indeed a Radon-Nykodym derivative. \n",
        "By the same reasoning, we also have\n",
        "\n",
        "$$\\begin{array}{lll}\n",
        "\\displaystyle\n",
        "\\mathbb{E}^{\\mathbb{P}}\\left[\\frac{Z_{t_2}}{Z_{t_1}}\\right]\n",
        "=\n",
        "\\mathbb{E}^{\\mathbb{P}}\\left[\\text{exp}\\left(-\\frac{1}{2}\\int_{t_1}^{t_2}\\theta^2ds-\\int_{t_1}^{t_2}\\theta dB_s\\right)\\right]\n",
        "=\n",
        "\\text{exp}\\left(-\\frac{1}{2}\\int_{t_1}^{t_2}\\theta^2ds+\\frac{1}{2}\\int_{t_1}^{t_2}\\theta^2ds\\right)\n",
        "=\n",
        "1\n",
        "\\end{array}$$"
      ],
      "metadata": {
        "id": "eTsPgeOZOWLY"
      }
    },
    {
      "cell_type": "markdown",
      "source": [
        "***$Z_t$ is a martingale, called the exponential martingale.***\n",
        "\n",
        "***Proof***\n",
        "\n",
        "For $t_1<t_2$\n",
        "\n",
        "$$\\begin{array}{lll}\n",
        "\\displaystyle\n",
        "\\mathbb{E}^{\\mathbb{P}}\\left[Z_{t_2}\\Big{|}{\\cal F}_{t_1}\\right]\n",
        "&=&\\displaystyle\n",
        "\\mathbb{E}^{\\mathbb{P}}\\left[\\text{exp}\\left(-\\frac{1}{2}\\int_0^{t_2}\\theta^2ds-\\int_0^{t_2}\\theta dB_s\\right)\\Big{|}{\\cal F}_{t_1}\\right]\\\\\n",
        "&=&\\displaystyle\n",
        "\\text{exp}\\left(-\\frac{1}{2}\\int_0^{t_1}\\theta^2ds-\\int_0^{t_1}\\theta dB_s\\right)\n",
        "\\mathbb{E}^{\\mathbb{P}}\\left[\\text{exp}\\left(-\\frac{1}{2}\\int_{t_1}^{t_2}\\theta^2ds-\\int_{t_1}^{t_2}\\theta dB_s\\right)\\Big{|}{\\cal F}_{t_1}\\right]\n",
        "\\end{array}$$\n",
        "\n",
        "Since $-\\frac{1}{2}\\int_{t_1}^{t_2}\\theta^2ds-\\int_{t_1}^{t_2}\\theta dB_s$ is independent to ${\\cal F}_{t_1}$,\n",
        "$\\text{exp}\\left(-\\frac{1}{2}\\int_{t_1}^{t_2}\\theta^2ds-\\int_{t_1}^{t_2}\\theta dB_s\\right)$ is independent to ${\\cal F}_{t_1}$.\n",
        "So, we have\n",
        "\n",
        "$$\n",
        "\\displaystyle\n",
        "\\mathbb{E}^{\\mathbb{P}}\\left[\\text{exp}\\left(-\\frac{1}{2}\\int_{t_1}^{t_2}\\theta^2ds-\\int_{t_1}^{t_2}\\theta dB_s\\right)\\Big{|}{\\cal F}_{t_1}\\right]\n",
        "=\n",
        "\\mathbb{E}^{\\mathbb{P}}\\left[\\text{exp}\\left(-\\frac{1}{2}\\int_{t_1}^{t_2}\\theta^2ds-\\int_{t_1}^{t_2}\\theta dB_s\\right)\\right]\n",
        "$$\n",
        "\n",
        "Therefore,\n",
        "since\n",
        "$\n",
        "\\mathbb{E}^{\\mathbb{P}}\\left[\\text{exp}\\left(-\\frac{1}{2}\\int_{t_1}^{t_2}\\theta^2ds-\\int_{t_1}^{t_2}\\theta dB_s\\right)\\right]\n",
        "=\n",
        "\\text{exp}\\left(-\\frac{1}{2}\\int_{t_1}^{t_2}\\theta^2ds+\\frac{1}{2}\\int_{t_1}^{t_2}\\theta^2ds\\right)\n",
        "=\n",
        "1\n",
        "$,\n",
        "\n",
        "$$\\begin{array}{lll}\n",
        "\\displaystyle\n",
        "\\mathbb{E}^{\\mathbb{P}}\\left[Z_{t_2}\\Big{|}{\\cal F}_{t_1}\\right]\n",
        "=\n",
        "\\text{exp}\\left(-\\frac{1}{2}\\int_0^{t_1}\\theta^2ds-\\int_0^{t_1}\\theta dB_s\\right)\n",
        "=\n",
        "Z_{t_1}\\\\\n",
        "\\end{array}$$"
      ],
      "metadata": {
        "id": "yyRFi9FROWQ6"
      }
    },
    {
      "cell_type": "markdown",
      "source": [
        "***Girsanov kernel $\\theta$***\n",
        "\n",
        "$$\\begin{array}{lll}\n",
        "\\displaystyle\n",
        "Z_t=\\text{exp}\\left(-\\frac{1}{2}\\int_0^t\\theta^2ds-\\int_0^t\\theta dB_s\\right):=e^{-X_t}\n",
        "\\end{array}$$\n",
        "\n",
        "$$\\begin{array}{lll}\n",
        "\\displaystyle\n",
        "dZ_t\n",
        "=\n",
        "-Z_tdX_t+\\frac{1}{2}Z_t\\left(dX_t\\right)^2\n",
        "=\n",
        "-Z_t\\left(\\frac{1}{2}\\theta^2 dt+\\theta dB_t\\right)+\\frac{1}{2}Z_t\\left(\\theta^2dt\\right)\n",
        "=\n",
        "-\\theta Z_t dB_t\\\\\n",
        "\\end{array}$$\n",
        "\n",
        "$$\\begin{array}{lll}\n",
        "\\displaystyle\n",
        "\\frac{dZ_t}{Z_t}\n",
        "=\n",
        "-\\theta dB_t\\\\\n",
        "\\end{array}$$\n",
        "\n",
        "Since $Z_t$ is a martingale, in the above computation of $dZ_t$ there is no $dt$ term.\n",
        "The term $\\theta$ is called the Girsanov kernel."
      ],
      "metadata": {
        "id": "S5UuH7LOOWUC"
      }
    },
    {
      "cell_type": "markdown",
      "source": [
        "***New probability measure $\\mathbb{Q}$***\n",
        "\n",
        "Let $\\mathbb{P}$ be a probability measure defined on the $\\sigma$-field ${\\cal F}_{T}$ \n",
        "and Let $Z_T\\in{\\cal F}_T$ be\n",
        "\n",
        "$$\\begin{array}{lll}\n",
        "\\displaystyle\n",
        "\\frac{d \\mathbb{Q}}{d\\mathbb{P}}\n",
        "=Z_T\n",
        "=\\text{exp}\\left(-\\frac{1}{2}\\int_0^T\\theta^2ds-\\int_0^T\\theta dB_s\\right)\n",
        "\\end{array}$$\n",
        "\n",
        "Use $Z_T$ as a Radon-Nykodym derivative $Z_T=d \\mathbb{Q}/d\\mathbb{P}$, meaning\n",
        "define a new probability measure $\\mathbb{Q}$ on the $\\sigma$-field ${\\cal F}_{T}$  as\n",
        "\n",
        "$$\\begin{array}{lll}\n",
        "\\displaystyle\n",
        "\\mathbb{Q}(A)\n",
        "=\\int_A  d\\mathbb{Q}\n",
        "=\\int_A  \\frac{d\\mathbb{Q}}{d\\mathbb{P}}d\\mathbb{P}\n",
        "=\\int_A  Z_Td\\mathbb{P}\n",
        "=\\mathbb{E}^{\\mathbb{P}}\\left[Z_T;A\\right]\n",
        "=\\mathbb{E}^{\\mathbb{P}}\\left[Z_T1_A\\right]\n",
        "\\end{array}$$\n",
        "\n",
        "Then, $\\mathbb{Q}$ is a probability measure  satisfying three properties of change of measure:\n",
        "\n",
        "$$\\begin{array}{lllllllllll}\n",
        "\\displaystyle\n",
        "\\text{(1)}\n",
        "&&\\displaystyle Z_T>0\\quad\\text{a.s.}\n",
        "&&\\displaystyle \\frac{d\\mathbb{Q}}{d\\mathbb{P}}>0\\quad\\text{a.s.}\\\\\n",
        "\\text{(2)}\n",
        "&&\\displaystyle E^\\mathbb{P}[Z_T]=1\n",
        "&&\\displaystyle E^\\mathbb{P}\\left[\\frac{d\\mathbb{Q}}{d\\mathbb{P}}\\right]=1\n",
        "&&\\displaystyle \\int\\frac{d\\mathbb{Q}}{d\\mathbb{P}}d\\mathbb{P}=\\int d\\mathbb{Q}=1\\\\\n",
        "\\text{(3)}\n",
        "&&\\displaystyle E^\\mathbb{Q}[X]=E^\\mathbb{P}[XZ_T]\n",
        "&&\\displaystyle E^\\mathbb{Q}\\left[X\\right]=E^\\mathbb{P}\\left[X\\frac{d\\mathbb{Q}}{d\\mathbb{P}}\\right]\n",
        "&&\\displaystyle\\int Xd\\mathbb{Q}=\\int X\\frac{d\\mathbb{Q}}{d\\mathbb{P}}d\\mathbb{P}\n",
        "\\end{array}$$\n",
        "\n",
        "$Z_t=\\mathbb{E}^{\\mathbb{P}}\\left[Z_T|{\\cal F}_t\\right]$ is a martingale; for $s<t$\n",
        "$$\\displaystyle\n",
        "\\mathbb{E}^{\\mathbb{P}}\\left[Z_t|{\\cal F}_s\\right]\n",
        "=\\mathbb{E}^{\\mathbb{P}}\\left[\\mathbb{E}^{\\mathbb{P}}\\left[Z_T|{\\cal F}_t\\right]|{\\cal F}_s\\right]\n",
        "=\\mathbb{E}^{\\mathbb{P}}\\left[Z_T|{\\cal F}_s\\right]\n",
        "=Z_s\n",
        "$$\n",
        "If $X\\in{\\cal F}_t$, we have further \n",
        "\n",
        "$$\\begin{array}{lllllllllll}\n",
        "\\text{(4)}\n",
        "&&\\displaystyle E^\\mathbb{Q}[X]=E^\\mathbb{P}[XZ_t]\n",
        "\\\\\n",
        "\\text{(5)}\n",
        "&&\\displaystyle \n",
        "\\mathbb{E}^{\\mathbb{P}}\\left[XZ_t|{\\cal F}_s\\right]\n",
        "=\\mathbb{E}^{\\mathbb{Q}}\\left[X|{\\cal F}_s\\right]Z_s\n",
        "\\quad\\text{or}\\quad\n",
        "\\mathbb{E}^{\\mathbb{Q}}\\left[X|{\\cal F}_s\\right]\n",
        "=\\mathbb{E}^{\\mathbb{P}}\\left[XZ_t|{\\cal F}_s\\right]\\frac{1}{Z_s}\\quad\\text{for $s<t$}\\\\\n",
        "\\end{array}$$"
      ],
      "metadata": {
        "id": "2mnpGFddOWWw"
      }
    },
    {
      "cell_type": "markdown",
      "source": [
        "***Girsanov Theorem (Process Case)***\n",
        "\n",
        "Define $B_t'$ by\n",
        "\n",
        "$$\\begin{array}{lll}\n",
        "B'_t=B_t+\\int_0^t\\theta ds\n",
        "\\end{array}$$\n",
        "\n",
        "where $\\theta$ satisfies the Novikov condition for all $t<T$\n",
        "\n",
        "$$\\begin{array}{lll}\n",
        "\\displaystyle\n",
        "\\mathbb{E}^{\\mathbb{P}}\\left[\\text{exp}\\left(\\frac{1}{2}\\int_0^t\\theta^2ds\\right)\\right]<\\infty\n",
        "\\end{array}$$\n",
        "\n",
        "\n",
        "Then, $B_t'$ is a Brownian motion under the new probability measure $\\mathbb{Q}$\n",
        "where the Radon-Nykodym derivative $d \\mathbb{Q}/d\\mathbb{P}$ is give by\n",
        "\n",
        "$$\\begin{array}{lll}\n",
        "\\displaystyle\n",
        "\\frac{d \\mathbb{Q}}{d\\mathbb{P}}\n",
        "=\n",
        "Z_T\n",
        "=\n",
        "\\text{exp}\\left(-\\frac{1}{2}\\int_0^T\\theta^2ds-\\int_0^T\\theta dB_s\\right)\n",
        "\\end{array}$$"
      ],
      "metadata": {
        "id": "A9l2-jAhOWIm"
      }
    },
    {
      "cell_type": "code",
      "source": [
        "#@title Girsanov Theorem (Process Case)\n",
        "import matplotlib.pyplot as plt\n",
        "import numpy as np\n",
        "from scipy import stats \n",
        "\n",
        "def compute_dQ_over_dP_relative_probabilities(num_steps, theta, T, db):\n",
        "    n = int( num_steps / T ) # number of steps in [0, 1]\n",
        "    dt = 1 / n\n",
        "    exponent = np.sum( - (1/2) * theta**2 * dt - theta * db, axis=1) \n",
        "    exponent_max = max(exponent)\n",
        "    exponent_rel = exponent - exponent_max  \n",
        "    return np.exp(exponent_rel)\n",
        "\n",
        "def generate_db_tilde(num_paths, num_steps, theta, T, seed=None):\n",
        "    if seed is not None:\n",
        "        np.random.seed(seed)\n",
        "    plus_minus_one = 2 * np.random.binomial( 1, 0.5, size=(num_paths, num_steps) ) - 1\n",
        "    n = int( num_steps / T ) # number of steps in [0, 1]\n",
        "    db = plus_minus_one / np.sqrt(n)\n",
        "    theta_dt = theta / n\n",
        "    db_tilde = db + theta_dt\n",
        "    return db_tilde, db, theta_dt\n",
        "\n",
        "def generate_sample_path(num_paths, num_steps, theta, T, seed=None): \n",
        "    db_tilde, db, theta_dt = generate_db_tilde(num_paths, num_steps, theta, T, seed=seed)\n",
        "    \n",
        "    b_plus_drift = np.cumsum( db_tilde, axis=1 )\n",
        "    b_plus_drift = np.concatenate( ( np.zeros( (num_paths, 1) ), b_plus_drift ), axis=1 ) \n",
        "    \n",
        "    relative_probabilities = compute_dQ_over_dP_relative_probabilities(num_steps, theta, T, db)\n",
        "    return b_plus_drift, relative_probabilities\n",
        "\n",
        "def main():\n",
        "    num_paths = 50 \n",
        "    num_steps = 1_000\n",
        "    theta = -1.5 \n",
        "    T = 2 \n",
        "    \n",
        "    sample_paths, relative_probabilities = generate_sample_path(num_paths, num_steps, theta, T, \n",
        "                                                                seed=337)\n",
        "    t = np.linspace( 0, T, num_steps + 1 )\n",
        "    \n",
        "    fig, (ax0, ax1) = plt.subplots(1,2,figsize=(12,6))\n",
        "    \n",
        "    ax0.set_title(f'{num_paths} Brownian motion paths with negative drift')\n",
        "    for i in range(num_paths):\n",
        "        ax0.plot(t, sample_paths[i], color='k')\n",
        "        \n",
        "    ax1.set_title(f'Same paths reweighted using dQ_over_dP')\n",
        "    for i in range(num_paths):\n",
        "        ax1.plot(t, sample_paths[i], color='k', alpha=relative_probabilities[i])\n",
        "        \n",
        "    plt.tight_layout()\n",
        "    plt.show()\n",
        "       \n",
        "if __name__ == \"__main__\":\n",
        "    main()"
      ],
      "metadata": {
        "colab": {
          "base_uri": "https://localhost:8080/",
          "height": 441
        },
        "id": "Kh2OdVSYQ90Q",
        "outputId": "3da3c39e-d56c-4030-ca70-73e760c53c85",
        "cellView": "form"
      },
      "execution_count": null,
      "outputs": [
        {
          "output_type": "display_data",
          "data": {
            "text/plain": [
              "<Figure size 864x432 with 2 Axes>"
            ],
            "image/png": "[encoded data removed]"
          },
          "metadata": {
            "needs_background": "light"
          }
        }
      ]
    },
    {
      "cell_type": "markdown",
      "source": [
        "####***Section 4 Application of Change of Measure***"
      ],
      "metadata": {
        "id": "aVK_5mM9Bw9R"
      }
    },
    {
      "cell_type": "markdown",
      "source": [
        "######***Girsanov Theorem in BS Formula***"
      ],
      "metadata": {
        "id": "aCVx36bgLVrf"
      }
    },
    {
      "cell_type": "markdown",
      "source": [
        "$$\n",
        "{\\displaystyle\n",
        "\\begin{array}{lll}\n",
        "C\n",
        "&=&e^{-rT}\\mathbb{E}^\\mathbb{Q}(S_T-K)^+\\\\\n",
        "&=&e^{-rT}\\mathbb{E}^\\mathbb{Q}(S_T-K)1(S_T>K)\\\\\n",
        "&=&e^{-rT}\\mathbb{E}^\\mathbb{Q}S_T1(S_T>K)-Ke^{-rT}\\mathbb{Q}(S_T>K)\\\\\n",
        "&=&S_{0}N(d_{1})-Ke^{-rT}N(d_{2})\n",
        "\\end{array}\n",
        "}\n",
        "$$\n",
        "where\n",
        "$$\n",
        "\\begin{array}{lllllllll}\n",
        "d_{1}\n",
        "&=&\\displaystyle\n",
        "\\frac{\\log\\frac{S_0}{K}+\\left(r+\\frac{1}{2}\\sigma^2\\right)T}{\\sigma\\sqrt{T}}\n",
        "&=&\\displaystyle\n",
        "\\frac{\\log\\frac{S_0}{Ke^{-rT}}}{\\sigma\\sqrt{T}}+\\frac{1}{2}\\sigma\\sqrt{T}\\\\\n",
        "d_{2}\n",
        "&=&\\displaystyle\n",
        "\\frac{\\log\\frac{S_0}{K}+\\left(r-\\frac{1}{2}\\sigma^2\\right)T}{\\sigma\\sqrt{T}}\n",
        "&=&\\displaystyle\n",
        "\\frac{\\log\\frac{S_0}{Ke^{-rT}}}{\\sigma\\sqrt{T}}-\\frac{1}{2}\\sigma\\sqrt{T}\\\\\n",
        "\\end{array}\n",
        "$$"
      ],
      "metadata": {
        "id": "LBlScm6sLVvH"
      }
    },
    {
      "cell_type": "markdown",
      "source": [
        "***How to handle $\\mathbb{Q}(S_T>K)$***\n",
        "\n",
        "By solving $dS_t=rS_tdt+\\sigma S_tdB_t^{\\mathbb{Q}}$, we have\n",
        "\n",
        "$$\n",
        "\\displaystyle\n",
        "S_T=S_0e^{\\left(r-\\frac{1}{2}\\sigma^2\\right)T+\\sigma B_T^{\\mathbb{Q}}}\n",
        "$$\n",
        "\n",
        "Therefore,\n",
        "\n",
        "$$\n",
        "{\\displaystyle\n",
        "\\begin{array}{lll}\n",
        "\\mathbb{Q}(S_T>K)\n",
        "&=&\\mathbb{Q}\\left(S_0e^{\\left(r-\\frac{1}{2}\\sigma^2\\right)T+\\sigma B_T^{\\mathbb{Q}}}>K\\right)\\\\\n",
        "&=&\\mathbb{Q}\\left(\\frac{B_T^{\\mathbb{Q}}}{\\sqrt{T}}\\le \\frac{\\log\\frac{S_0}{K}+\\left(r-\\frac{1}{2}\\sigma^2\\right)T}{\\sigma\\sqrt{T}}\\right)\\\\\n",
        "&=&N\\left(\\frac{\\log\\frac{S_0}{K}+\\left(r-\\frac{1}{2}\\sigma^2\\right)T}{\\sigma\\sqrt{T}}\\right)\\\\\n",
        "&=&N\\left(d_2\\right)\\\\\n",
        "\\end{array}\n",
        "}\n",
        "$$"
      ],
      "metadata": {
        "id": "qHZa5afFLVya"
      }
    },
    {
      "cell_type": "markdown",
      "source": [
        "***How to handle $\\mathbb{E}^\\mathbb{Q}S_T1(S_T>K)$***\n",
        "\n",
        "We change the probability measure from $\\mathbb{Q}$ to $\\mathbb{Q}'$ so that\n",
        "$B_t^{\\mathbb{Q}'}=B_t^{\\mathbb{Q}}-\\sigma t$ is a Brownian motion under the new measure $\\mathbb{Q}'$.\n",
        "The corresponding Radon-Nykodym derivative $d\\mathbb{Q}'/d\\mathbb{Q}$ is given by\n",
        "\n",
        "$$\n",
        "\\displaystyle\n",
        "\\frac{d\\mathbb{Q}'}{d\\mathbb{Q}}=e^{-\\frac{1}{2}\\sigma^2 T+\\sigma B_T^{\\mathbb{Q}}}\n",
        "$$\n",
        "\n",
        "Then,\n",
        "\n",
        "$$\n",
        "\\begin{array}{lll}\n",
        "\\displaystyle\n",
        "\\mathbb{E}^\\mathbb{Q}S_T1(S_T>K)\n",
        "&=&\\displaystyle\n",
        "\\mathbb{E}^\\mathbb{Q}S_0e^{\\left(r-\\frac{1}{2}\\sigma^2\\right)T+\\sigma B_T^{\\mathbb{Q}}}1(S_T>K)\\\\\n",
        "&=&\\displaystyle\n",
        "S_0e^{rT}\\mathbb{E}^\\mathbb{Q}e^{-\\frac{1}{2}\\sigma^2 T+\\sigma B_T^{\\mathbb{Q}}}1(S_T>K)\\\\\n",
        "&=&\\displaystyle\n",
        "S_0e^{rT}\\mathbb{E}^\\mathbb{Q}\\frac{d\\mathbb{Q}'}{d\\mathbb{Q}}1(S_T>K)\\\\\n",
        "&=&\\displaystyle\n",
        "S_0e^{rT}\\mathbb{E}^\\mathbb{Q'}1(S_T>K)\\\\\n",
        "&=&\\displaystyle\n",
        "S_0e^{rT}\\mathbb{Q'}(S_T>K)\\\\\n",
        "&=&\\displaystyle\n",
        "S_0e^{rT}\\mathbb{Q'}\\left(S_0e^{\\left(r-\\frac{1}{2}\\sigma^2\\right)T+\\sigma B_T^{\\mathbb{Q}}}>K\\right)\\\\\n",
        "&=&\\displaystyle\n",
        "S_0e^{rT}\\mathbb{Q'}\\left(S_0e^{\\left(r-\\frac{1}{2}\\sigma^2\\right)T+\\sigma (B_T^{\\mathbb{Q}'}+\\sigma T)}>K\\right)\\\\\n",
        "&=&\\displaystyle\n",
        "S_0e^{rT}\\mathbb{Q'}\\left(S_0e^{\\left(r+\\frac{1}{2}\\sigma^2\\right)T+\\sigma B_T^{\\mathbb{Q}'}}>K\\right)\\\\\n",
        "&=&\\displaystyle\n",
        "S_0e^{rT}N\\left(\\frac{\\log\\frac{S_0}{K}+\\left(r+\\frac{1}{2}\\sigma^2\\right)T}{\\sigma\\sqrt{T}}\\right)\\\\\n",
        "&=&\\displaystyle\n",
        "S_0e^{rT}N\\left(d_1\\right)\\\\\n",
        "\\end{array}\n",
        "$$"
      ],
      "metadata": {
        "id": "MiGgP5e5LV1n"
      }
    },
    {
      "cell_type": "markdown",
      "source": [
        "###***Chapter 6 Change of Numeraire***"
      ],
      "metadata": {
        "id": "FwTUc4pQOWZd"
      }
    },
    {
      "cell_type": "markdown",
      "source": [
        "####***Section 1 Numeraire***"
      ],
      "metadata": {
        "id": "kevT0sE8OWcs"
      }
    },
    {
      "cell_type": "markdown",
      "source": [
        "######***Numeraire***"
      ],
      "metadata": {
        "id": "KIEqrVNMY6q8"
      }
    },
    {
      "cell_type": "markdown",
      "source": [
        "\n",
        "\n",
        "A numeraire security $X_0$ is a security with a strictly positive price at all times $t$."
      ],
      "metadata": {
        "id": "GcIbpniiOWf6"
      }
    },
    {
      "cell_type": "markdown",
      "source": [
        "######***Numeraire Measure***"
      ],
      "metadata": {
        "id": "NEgmRsZMY-3u"
      }
    },
    {
      "cell_type": "markdown",
      "source": [
        "\n",
        "\n",
        "Let $X_0(t),X_1(t),\\cdots,X_N(t)$, $0\\le t\\le T$, be traded assets.\n",
        "Suppose $X_0$ is a numeraire \n",
        "and suppose there is a measure $\\mathbb{P}_0$, called a numeraire measure,  such that, for each $i$,\n",
        "$X_i(t)/X_0(t)$ is a $\\mathbb{P}_0$-martingale: For $0\\le s<t\\le T$, \n",
        "\n",
        "$$\\begin{array}{llllll}\n",
        "\\displaystyle\n",
        "\\frac{X_i(s)}{X_0(s)}=\\mathbb{E}^{\\mathbb{P}_0}\\left[\\frac{X_i(t)}{X_0(t)}\\Big{|}{\\cal F}_s\\right]\n",
        "\\end{array}$$"
      ],
      "metadata": {
        "id": "WXizPr8TNoL2"
      }
    },
    {
      "cell_type": "markdown",
      "source": [
        "####***Section 2 Change of Numeraire***"
      ],
      "metadata": {
        "id": "7LIbAlYZNoPF"
      }
    },
    {
      "cell_type": "markdown",
      "source": [
        "######***New Numeraire***"
      ],
      "metadata": {
        "id": "JVZZ69V6ZU50"
      }
    },
    {
      "cell_type": "markdown",
      "source": [
        "\n",
        "\n",
        "A numeraire security $X_k$ is a security with a strictly positive price at all times $t$."
      ],
      "metadata": {
        "id": "Vy_lBKOENoS2"
      }
    },
    {
      "cell_type": "markdown",
      "source": [
        "######***$Z_T=\\frac{X_k(T)/X_k(0)}{X_0(T)/X_0(0)}$ is a Radon-Nykodym Derivative***\n",
        "\n"
      ],
      "metadata": {
        "id": "BzaG7EwPNoVW"
      }
    },
    {
      "cell_type": "markdown",
      "source": [
        "\n",
        "\n",
        "$$\\begin{array}{llllll}\n",
        "\\displaystyle\n",
        "(1)\\quad \\mathbb{P}_0(Z_T>0)=1\\\\\n",
        "\\displaystyle\n",
        "(2)\\quad \\mathbb{E}^{\\mathbb{P}_0}[Z_T]=1\\\\\n",
        "\\end{array}$$\n",
        "\n",
        "***Proof***\n",
        "\n",
        "$$\\begin{array}{llllll}\n",
        "\\displaystyle\n",
        "\\frac{X_k(0)}{X_0(0)}=\\mathbb{E}^{\\mathbb{P}_0}\\left[\\frac{X_k(T)}{X_0(T)}\\right]\n",
        "\\quad\\Rightarrow\\quad\n",
        "\\mathbb{E}^{\\mathbb{P}_0}\\left[\\frac{X_k(T)/X_k(0)}{X_0(T)/X_0(0)}\\right]=1\n",
        "\\end{array}$$"
      ],
      "metadata": {
        "id": "QtuWHqoJNoYV"
      }
    },
    {
      "cell_type": "markdown",
      "source": [
        "######***Filteration***"
      ],
      "metadata": {
        "id": "oFxQxspxZjNp"
      }
    },
    {
      "cell_type": "markdown",
      "source": [
        "\n",
        "\n",
        "Suppose there are $\\sigma$-fields ${\\cal F}_{t}$ for each $0\\le t\\le T$ such that for $t_1<t_2$\n",
        "\n",
        "$$\\begin{array}{llllll}\n",
        "\\displaystyle\n",
        "{\\cal F}_{t_1} \\subset {\\cal F}_{t_2}\\subset {\\cal F}_{T}\\subset{\\cal F}\n",
        "\\end{array}$$"
      ],
      "metadata": {
        "id": "CoaGmLg5Nobd"
      }
    },
    {
      "cell_type": "markdown",
      "source": [
        "######***$Z_t=\\frac{X_k(t)/X_k(0)}{X_0(t)/X_0(0)}$ is a martingale under $\\mathbb{P}_0$***"
      ],
      "metadata": {
        "id": "lGjkwY_PZnwU"
      }
    },
    {
      "cell_type": "markdown",
      "source": [
        "\n",
        "\n",
        "***Proof***\n",
        "\n",
        "$$\\begin{array}{llllll}\n",
        "\\displaystyle\n",
        "\\frac{X_k(t)}{X_0(t)}=\\mathbb{E}^{\\mathbb{P}_0}\\left[\\frac{X_k(T)}{X_0(T)}\\big{|}{\\cal F}_t\\right]\n",
        "\\quad\\Rightarrow\\quad\n",
        "\\frac{X_k(t)/X_k(0)}{X_0(t)/X_0(0)}=\\mathbb{E}^{\\mathbb{P}_0}\\left[\\frac{X_k(T)/X_k(0)}{X_0(T)/X_0(0)}\\big{|}{\\cal F}_t\\right]\n",
        "\\quad\\Rightarrow\\quad\n",
        "Z_t= \\mathbb{E}^{\\mathbb{P}_0}[Z_T|{\\cal F}_t]\n",
        "\\end{array}$$"
      ],
      "metadata": {
        "id": "86KhBlOQNoeV"
      }
    },
    {
      "cell_type": "markdown",
      "source": [
        "######***Change of Measure***"
      ],
      "metadata": {
        "id": "ojd_K1CCZ0O9"
      }
    },
    {
      "cell_type": "markdown",
      "source": [
        "Use $Z_T$ as a Radon-Nykodym derivative.\n",
        "\n",
        "$$\\begin{array}{lll}\n",
        "\\displaystyle\n",
        "\\frac{d \\mathbb{P}_k}{d\\mathbb{P}_0}\n",
        "=\n",
        "Z_T\n",
        "\\end{array}$$\n",
        "\n",
        "Define a new probability measure $\\mathbb{P}_k$ using this Radon-Nykodym derivative.\n",
        "\n",
        "$$\\begin{array}{lll}\n",
        "\\displaystyle\n",
        "\\mathbb{P}_k(A)\n",
        "=\\int_A  d\\mathbb{P}_k\n",
        "=\\int_A  \\frac{d\\mathbb{P}_k}{d\\mathbb{P}_0}d\\mathbb{P}_0\n",
        "=\\int_A  Z_Td\\mathbb{P}_0\n",
        "=\\mathbb{E}^{\\mathbb{P}_0}\\left[Z_T;A\\right]\n",
        "\\end{array}$$\n",
        "\n",
        "Then, $\\mathbb{P}_k$ is a probability measure satisfying three properties of change of measure:\n",
        "\n",
        "$$\\begin{array}{lllllllllll}\n",
        "\\displaystyle\n",
        "\\text{(1)}\n",
        "&&\\displaystyle Z_T>0\\quad\\text{a.s.}\\\\\n",
        "\\text{(2)}\n",
        "&&\\displaystyle E^{\\mathbb{P}_0}[Z_T]=1\\\\\n",
        "\\text{(3)}\n",
        "&&\\displaystyle E^{\\mathbb{P}_k}[X]=E^{\\mathbb{P}_0}[XZ_T]\n",
        "\\end{array}$$\n",
        "\n",
        "$Z_t=\\mathbb{E}^{\\mathbb{P}_0}\\left[Z_T|{\\cal F}_t\\right]$ is a martingale. If $X\\in{\\cal F}_t$, we have further  \n",
        "\n",
        "$$\\begin{array}{lllllllllll}\n",
        "\\text{(4)}\n",
        "&&\\displaystyle E^{\\mathbb{P}_k}[X]=E^\\mathbb{P}[XZ_t]\n",
        "\\\\\n",
        "\\text{(5)}\n",
        "&&\\displaystyle \n",
        "\\mathbb{E}^{\\mathbb{P}_0}\\left[XZ_t|{\\cal F}_s\\right]\n",
        "=\\mathbb{E}^{\\mathbb{P}_k}\\left[X|{\\cal F}_s\\right]Z_s\n",
        "\\quad\\text{or}\\quad\n",
        "\\mathbb{E}^{\\mathbb{P}_k}\\left[X|{\\cal F}_s\\right]\n",
        "=\\mathbb{E}^{\\mathbb{P}_0}\\left[XZ_t|{\\cal F}_s\\right]\\frac{1}{Z_s}\\quad\\text{for $s<t$}\\\\\n",
        "\\end{array}$$"
      ],
      "metadata": {
        "id": "6vA2uFQgPZoy"
      }
    },
    {
      "cell_type": "markdown",
      "source": [
        "######***New Numeraire Measure***"
      ],
      "metadata": {
        "id": "qNhZcMkVaFtr"
      }
    },
    {
      "cell_type": "markdown",
      "source": [
        "$$\\begin{array}{llllllll}\n",
        "\\displaystyle\n",
        "\\frac{X_i(s)}{X_k(s)}\n",
        "=\n",
        "\\mathbb{E}^{\\mathbb{P}_k}\\left[\\frac{X_i(t)}{X_k(t)}\\Big{|}{\\cal F}_s\\right]\\\\\n",
        "\\end{array}$$\n",
        "\n",
        "***Proof***\n",
        "\n",
        "Since\n",
        "\n",
        "$$\\begin{array}{llllllll}\n",
        "\\displaystyle\n",
        "\\frac{X_i(s)}{X_0(s)}=\\mathbb{E}^{\\mathbb{P}_0}\\left[\\frac{X_i(t)}{X_0(t)}\\Big{|}{\\cal F}_s\\right]\n",
        "\\end{array}$$\n",
        "\n",
        "we have\n",
        "\n",
        "$$\\begin{array}{llllllll}\n",
        "\\displaystyle\n",
        "\\frac{X_i(s)}{X_k(s)}\n",
        "&=&\\displaystyle\n",
        "\\mathbb{E}^{\\mathbb{P}_0}\\Big{[}\\frac{X_i(t)}{X_k(t)}\\underbrace{\n",
        "\\frac{X_k(t)/X_k(0)}{X_0(t)/X_0(0)}\n",
        "}_{Z_t}\\Big{|}{\\cal F}_s\\Big{]}\n",
        "\\underbrace{\\frac{X_0(s)/X_0(0)}{X_k(s)/X_k(0)}}_{1/Z_s}\n",
        "&=&\\displaystyle\n",
        "\\mathbb{E}^{\\mathbb{P}_k}\\left[\\frac{X_i(t)}{X_k(t)}\\Big{|}{\\cal F}_s\\right]\\\\\n",
        "\\end{array}$$"
      ],
      "metadata": {
        "id": "OL_tkPfnPZrw"
      }
    },
    {
      "cell_type": "markdown",
      "source": [
        "####***Section 3 Examples of Change of Numeraire***"
      ],
      "metadata": {
        "id": "uj_yJDy56QXu"
      }
    },
    {
      "cell_type": "markdown",
      "source": [
        "######***Stock Price Dynamics***"
      ],
      "metadata": {
        "id": "8iEzCITfQdCV"
      }
    },
    {
      "cell_type": "markdown",
      "source": [
        "***$dS_t$ under Different Measures***\n",
        "\n",
        "$$\\begin{array}{lll}\n",
        "\\displaystyle\n",
        "dS_t=\\mu S_tdt+\\sigma S_tdW^\\mathbb{P}_t&&\n",
        "\\displaystyle\n",
        "S_t=S_0e^{\\left(\\mu-\\frac{1}{2}\\sigma^2\\right)t+\\sigma W^\\mathbb{P}_t}\\\\\n",
        "\\displaystyle\n",
        "dS_t=r S_tdt+\\sigma S_tdW^\\mathbb{Q}_t&&\n",
        "\\displaystyle\n",
        "S_t=S_0e^{\\left(r-\\frac{1}{2}\\sigma^2\\right)t+\\sigma W^\\mathbb{Q}_t}\\\\\n",
        "\\displaystyle\n",
        "dS_t=\\left(r+\\sigma^2\\right) S_tdt+\\sigma S_tdW^S_t&&\n",
        "\\displaystyle\n",
        "S_t=S_0e^{\\left(r+\\sigma^2-\\frac{1}{2}\\sigma^2\\right)t+\\sigma W^S_t}\\\\\n",
        "\\end{array}$$"
      ],
      "metadata": {
        "id": "Yo5p0kAgQdFV"
      }
    },
    {
      "cell_type": "markdown",
      "source": [
        "***Stock Price Dynamics Under Risk Neutral Measure***\n",
        "\n",
        "$$\\begin{array}{lll}\n",
        "\\displaystyle\n",
        "dS_t\n",
        "&=&\\displaystyle\n",
        "\\mu S_tdt+\\sigma S_tdW^\\mathbb{P}_t\\\\\n",
        "&=&\\displaystyle\n",
        "\\color{red}{r} S_tdt+\\sigma S_t\\left(\\color{red}{dW^\\mathbb{P}_t+\\frac{\\mu-r}{\\sigma}dt}\\right)\\\\\n",
        "&=&\\displaystyle\n",
        "\\color{red}{r} S_tdt+\\sigma S_t\\color{red}{dW^\\mathbb{Q}_t}\\\\\n",
        "\\\\\n",
        "\\displaystyle\n",
        "S_t\n",
        "&=&\\displaystyle\n",
        "S_0e^{\\left(\\mu-\\frac{1}{2}\\sigma^2\\right)t+\\sigma W^\\mathbb{P}_t}\\\\\n",
        "&=&\\displaystyle\n",
        "S_0e^{\\left(\\color{red}{r}-\\frac{1}{2}\\sigma^2\\right)t+\\sigma \\left(\\color{red}{W^\\mathbb{P}_t+\\frac{\\mu-r}{\\sigma}t}\\right)}\\\\\n",
        "&=&\\displaystyle\n",
        "S_0e^{\\left(\\color{red}{r}-\\frac{1}{2}\\sigma^2\\right)t+\\sigma \\color{red}{W^\\mathbb{Q}_t}}\\\\\n",
        "\\\\\n",
        "dW^\\mathbb{Q}_t\n",
        "&:=&\\displaystyle\n",
        "dW^\\mathbb{P}_t+\\frac{\\mu-r}{\\sigma}dt\\\\\n",
        "\\\\\n",
        "\\displaystyle\n",
        "\\frac{d\\mathbb{Q}}{d\\mathbb{P}}\n",
        "&=&\\displaystyle\n",
        "e^{-\\frac{1}{2}\\int_0^T\\left(\n",
        "\\frac{\\mu-r}{\\sigma}\n",
        "\\right)^2dt-\\int_0^T\\left(\n",
        "\\frac{\\mu-r}{\\sigma}\n",
        "\\right)dW_t}\n",
        "\\end{array}$$"
      ],
      "metadata": {
        "id": "C-a015iIQdIe"
      }
    },
    {
      "cell_type": "markdown",
      "source": [
        "***Proof***\n",
        "\n",
        "Since $S_t/M_t$ is a martingale under the risk neutral measure $\\mathbb{Q}$,\n",
        "$d(S_t/M_t)$ should have a zero drift under the new measure $\\mathbb{Q}$.\n",
        "\n",
        "$$\\begin{array}{lll}\n",
        "\\displaystyle\n",
        "d\\left(\\frac{S_t}{M_t}\\right)\n",
        "&=&\\displaystyle\n",
        "\\frac{dS_t}{M_t}+S_td\\left(\\frac{1}{M_t}\\right)\\\\\n",
        "&=&\\displaystyle\n",
        "\\frac{\\mu S_tdt+\\sigma S_tdW^\\mathbb{P}_t}{M_t}-r\\frac{S_t}{M_t}dt\\\\\n",
        "&=&\\displaystyle\n",
        "\\sigma \\left(\\frac{S_t}{M_t}\\right)\\left(\\color{red}{\n",
        "\\frac{\\mu-r}{\\sigma}dt+dW^\\mathbb{P}_t}\n",
        "\\right)\\\\\n",
        "&:=&\\displaystyle\n",
        "\\sigma \\left(\\frac{S_t}{M_t}\\right)\\color{red}{dW^\\mathbb{Q}_t}\n",
        "\\end{array}$$\n",
        "\n",
        "Therefore, $dW^\\mathbb{Q}_t:=dW^\\mathbb{P}_t+\\frac{\\mu-r}{\\sigma}dt$\n",
        "is a Brownian motion under the risk neutral measure $\\mathbb{Q}$ where\n",
        "\n",
        "$$\\begin{array}{lll}\n",
        "\\displaystyle\n",
        "\\frac{d\\mathbb{Q}}{d\\mathbb{P}}\n",
        "&=&\\displaystyle\n",
        "e^{-\\frac{1}{2}\\int_0^T\\left(\n",
        "\\frac{\\mu-r}{\\sigma}\n",
        "\\right)^2dt-\\int_0^T\\left(\n",
        "\\frac{\\mu-r}{\\sigma}\n",
        "\\right)dW_t}\n",
        "\\end{array}$$"
      ],
      "metadata": {
        "id": "4Z0opoUmQdMG"
      }
    },
    {
      "cell_type": "code",
      "source": [
        "#@title Simulation of Discounted Stock Price Dynamics under Q and P\n",
        "import numpy as np\n",
        "import matplotlib.pyplot as plt\n",
        "\n",
        "def generate_sample_path(num_paths, num_steps, mu, sigma, T, S_0, seed=None): \n",
        "    if seed is not None:\n",
        "        np.random.seed(seed)\n",
        "        \n",
        "    Z = np.random.normal( 0.0, 1.0, ( num_paths, num_steps ) )\n",
        "    X = np.ones( ( num_paths, num_steps + 1 ) ) * np.log(S_0)\n",
        "    \n",
        "    t = np.linspace( 0, T, num_steps + 1 )\n",
        "    dt = t[1] - t[0]\n",
        "    sqrt_dt = np.sqrt(dt)\n",
        "    for i in range(num_steps):\n",
        "        if num_paths > 1:\n",
        "            Z[:,i] = ( Z[:,i] - Z[:,i].mean() ) / Z[:,i].std()\n",
        "        dW = sqrt_dt * Z[:,i] \n",
        "        X[:,i+1] = X[:,i] + ( mu - sigma**2 / 2 ) * dt + sigma * dW \n",
        "\n",
        "    S = np.exp(X)\n",
        "    return t, S\n",
        "\n",
        "def generate_sample_path_M(num_steps, r, T): \n",
        "    t = np.linspace( 0, T, num_steps + 1 )\n",
        "    M = np.exp( r * t )\n",
        "    return t, M\n",
        "\n",
        "def main():\n",
        "    num_paths = 1_000\n",
        "    num_steps = 1_000\n",
        "    mu = 0.15\n",
        "    r = 0.05\n",
        "    sigma = 0.1\n",
        "    T = 10\n",
        "    S_0 = 100\n",
        "    \n",
        "    t, S_Q = generate_sample_path(num_paths, num_steps, r, sigma, T, S_0, seed=0)\n",
        "    t, S_P = generate_sample_path(num_paths, num_steps, mu, sigma, T, S_0, seed=0)\n",
        "    t, M = generate_sample_path_M(num_steps, r, T)\n",
        "    \n",
        "    S_Q_over_M = S_Q / M \n",
        "    S_P_over_M = S_P / M \n",
        "\n",
        "    Expected_S_Q_over_M = S_0 * np.exp( r * t ) / M  \n",
        "    Expected_S_P_over_M = S_0 * np.exp( mu * t ) / M \n",
        "    \n",
        "    fig, (ax0, ax1) = plt.subplots(1,2,figsize=(12,5))\n",
        "    \n",
        "    ax0.set_title(\"Discounted Stock Price Movement under Q\")\n",
        "    ax0.legend( ( 'E^Q[S(t)/M(t)]', 'First 10 Sample Paths S(t)/M(t)' ) )\n",
        "    ax0.plot(t, Expected_S_Q_over_M, 'r--') \n",
        "    ax0.plot(t, np.transpose(S_Q_over_M[:10]), 'blue') \n",
        "    \n",
        "    ax1.set_title(\"Discounted Stock Price Movement under P\")\n",
        "    ax0.legend( ( 'E^P[S(t)/M(t)]', 'First 10 Sample Paths S(t)/M(t)' ) )\n",
        "    ax1.plot(t, Expected_S_P_over_M, 'r--') \n",
        "    ax1.plot(t, np.transpose(S_P_over_M[:10]), 'blue') \n",
        "    \n",
        "    for ax in (ax0, ax1):\n",
        "        ax.grid()\n",
        "        ax.set_xlabel(\"time\")\n",
        "        ax.set_ylabel(\"S(t)\")\n",
        "        \n",
        "    plt.tight_layout()\n",
        "    plt.show()\n",
        "    \n",
        "    print('Checking Martingale Property of Q Sample Paths')\n",
        "    print(f'Inital Stock Price                             : {S_0:>6.02f}')\n",
        "    print(f'Average Discounted Terminal Stock Price        : {np.mean(S_Q_over_M[:,-1]):>6.02f}')\n",
        "    print(f'Expectation of Discounted Terminal Stock Price : {Expected_S_Q_over_M[-1]:>6.02f}')\n",
        "    print()\n",
        "    \n",
        "    print('Checking Martingale Property of P Sample Paths')\n",
        "    print(f'Inital Stock Price                             : {S_0:>6.02f}')\n",
        "    print(f'Average Discounted Terminal Stock Price        : {np.mean(S_P_over_M[:,-1]):>6.02f}')\n",
        "    print(f'Expectation of Discounted Terminal Stock Price : {Expected_S_P_over_M[-1]:>6.02f}')\n",
        "\n",
        "    \n",
        "if __name__ == \"__main__\":\n",
        "    main()"
      ],
      "metadata": {
        "colab": {
          "base_uri": "https://localhost:8080/",
          "height": 525
        },
        "id": "vtp7fNTcUCMv",
        "outputId": "ae7a9b0b-40d1-4552-f279-381aad205498",
        "cellView": "form"
      },
      "execution_count": null,
      "outputs": [
        {
          "output_type": "display_data",
          "data": {
            "text/plain": [
              "<Figure size 864x360 with 2 Axes>"
            ],
            "image/png": "[encoded data removed]"
          },
          "metadata": {
            "needs_background": "light"
          }
        },
        {
          "output_type": "stream",
          "name": "stdout",
          "text": [
            "Checking Martingale Property of Q Sample Paths\n",
            "Inital Stock Price                             : 100.00\n",
            "Average Discounted Terminal Stock Price        :  99.84\n",
            "Expectation of Discounted Terminal Stock Price : 100.00\n",
            "\n",
            "Checking Martingale Property of P Sample Paths\n",
            "Inital Stock Price                             : 100.00\n",
            "Average Discounted Terminal Stock Price        : 271.39\n",
            "Expectation of Discounted Terminal Stock Price : 271.83\n"
          ]
        }
      ]
    },
    {
      "cell_type": "markdown",
      "source": [
        "***Stock Price Dynamics under Stock Measure***\n",
        "\n",
        "$$\\begin{array}{lll}\n",
        "\\displaystyle\n",
        "dS_t\n",
        "&=&\\displaystyle\n",
        "r S_tdt+\\sigma S_tdW^\\mathbb{Q}_t\\\\\n",
        "&=&\\displaystyle\n",
        "\\left(\\color{red}{r+\\sigma^2}\\right) S_tdt+\\sigma S_t\\left(\\color{red}{dW^\\mathbb{Q}_t-{\\sigma}dt}\\right)\\\\\n",
        "&:=&\\displaystyle\n",
        "\\left(\\color{red}{r+\\sigma^2}\\right) S_tdt+\\sigma S_t\\color{red}{dW^S_t}\\\\\n",
        "\\\\\n",
        "\\displaystyle\n",
        "S_t\n",
        "&=&\\displaystyle\n",
        "S_0e^{\\left(r-\\frac{1}{2}\\sigma^2\\right)t+\\sigma W^\\mathbb{Q}_t}\\\\\n",
        "&=&\\displaystyle\n",
        "S_0e^{\\left(\\color{red}{r+\\sigma^2}-\\frac{1}{2}\\sigma^2\\right)t+\\sigma \\left(\\color{red}{W^\\mathbb{Q}_t-\\sigma t}\\right)}\\\\\n",
        "&=&\\displaystyle\n",
        "S_0e^{\\left(\\color{red}{r+\\sigma^2}-\\frac{1}{2}\\sigma^2\\right)t+\\sigma \\color{red}{W^S_t}}\\\\\n",
        "\\\\\n",
        "\\displaystyle\n",
        "dW^{S}_t\n",
        "&:=&\\displaystyle\n",
        "dW^{\\mathbb{Q}}_t-\\sigma dt\n",
        "\\end{array}$$"
      ],
      "metadata": {
        "id": "FqJl23cVQdO3"
      }
    },
    {
      "cell_type": "markdown",
      "source": [
        "***Proof***\n",
        "\n",
        "$$\\begin{array}{lll}\n",
        "\\displaystyle\n",
        "d\\frac{M}{S}\n",
        "&=&\\displaystyle\n",
        "\\frac{dM}{S}-\\frac{M}{S^2}dS+\\frac{M}{S^3}(dS)^2\\\\\n",
        "&=&\\displaystyle\n",
        "\\frac{M}{S}\\left(rdt-\\left(rdt+\\sigma dW^{\\mathbb{Q}}\\right)+\\sigma^2dt\\right)\\\\\n",
        "&=&\\displaystyle\n",
        "-\\sigma\\frac{M}{S}\\left( dW^{\\mathbb{Q}}_t-\\sigma dt\\right)\\\\\n",
        "&:=&\\displaystyle\n",
        "-\\sigma\\frac{M}{S}dW^S\\\\\n",
        "\\end{array}$$\n",
        "\n",
        "Therefore, $dW^S_t:=dW^\\mathbb{Q}_t-\\sigma dt$\n",
        "is a Brownian motion under the stock measure $\\mathbb{Q}^S$ where\n",
        "\n",
        "$$\n",
        "\\displaystyle\n",
        "\\frac{d\\mathbb{Q}^S}{d\\mathbb{Q}}=\\frac{S_T/S_0}{M_T/M_0}\n",
        "=e^{-rT}e^{\\left(r-\\frac{1}{2}\\sigma^2\\right)T+\\sigma W^\\mathbb{Q}_T}\n",
        "=e^{-\\frac{1}{2}\\sigma^2T+\\sigma W^\\mathbb{Q}_T}\n",
        "$$"
      ],
      "metadata": {
        "id": "zQmA4CnDQdR1"
      }
    },
    {
      "cell_type": "markdown",
      "source": [
        "######***Instantaneous Forward Rate Dynamics***"
      ],
      "metadata": {
        "id": "nq9OV7UfXcxJ"
      }
    },
    {
      "cell_type": "markdown",
      "source": [
        "***$df$ under Different Measures***\n",
        "\n",
        "$$\\begin{array}{lllllllll}\n",
        "\\text{Risk Neutral}&&\n",
        "\\displaystyle\n",
        "df(t,T)\n",
        "&=&\\displaystyle\n",
        "\\left(\\sigma(t,T)\\int_t^T\\sigma(t,T')dT'\\right)dt&+&\\displaystyle\\sigma(t,T)dW^{\\mathbb{Q}}(t)\\\\\n",
        "\\text{$T$ Forward}&&&=&\\displaystyle\n",
        "&&\\displaystyle\\sigma(t,T)dW^{T}(t)\\\\\n",
        "\\text{$T_f$ Forward}&&&=&\\displaystyle\n",
        "\\left(-\\sigma(t,T)\\int_T^{T_f}\\sigma(t,T')dT'\\right)dt&+&\\displaystyle\\sigma(t,T)dW^{T_f}(t)\\\\\n",
        "\\end{array}$$"
      ],
      "metadata": {
        "id": "ZrrtXgWoXc1e"
      }
    },
    {
      "cell_type": "markdown",
      "source": [
        "***Proof for $T$***\n",
        "\n",
        "$$\\begin{array}{lllll}\n",
        "\\displaystyle\n",
        "\\lambda_\\mathbb{Q}^T(t)\n",
        "&=&\\displaystyle\n",
        "\\displaystyle\n",
        "\\frac{d\\mathbb{Q}^T}{d\\mathbb{Q}}\\Big{|}_{{\\cal F}(t)}\\\\\n",
        "&=&\\displaystyle\n",
        "\\frac{P(t,T)/P(0,T)}{M(t)/M(0)}\\\\\n",
        "&=&\\displaystyle\n",
        "\\text{exp}\\left(\n",
        "-\\int_0^tr(t')dt'\n",
        "+\\int_0^t\\left(r(t')-\\frac{1}{2}\\sigma_P^2(t',T)\\right)dt'+\\int_0^t\\sigma_P(t',T)dW^{\\mathbb{Q}}(t')\\right)\\\\\n",
        "&=&\\displaystyle\n",
        "\\text{exp}\\left(\n",
        "-\\frac{1}{2}\\int_0^t\\sigma_P^2(t',T)dt'+\\int_0^t\\sigma_P(t',T)dW^\\mathbb{Q}(t')\n",
        "\\right)\\\\\n",
        "\\end{array}$$\n",
        "\n",
        "By Gilsanov Theorem,\n",
        "\n",
        "$$\\begin{array}{lllll}\n",
        "\\displaystyle\n",
        "dW^T(t)=dW^{\\mathbb{Q}}(t)-\\sigma_P(t,T)dt\n",
        "\\end{array}$$\n",
        "\n",
        "where\n",
        "\n",
        "$$\\begin{array}{lllll}\n",
        "\\displaystyle\n",
        "\\sigma_P(t,T)\n",
        "=\n",
        "-\\int_t^T\\sigma(t',T)dt'\n",
        "\\end{array}$$\n",
        "\n",
        "Therefore, $df$ under $T$ is given by\n",
        "\n",
        "$$\\begin{array}{lllll}\n",
        "\\displaystyle\n",
        "df(t,T)\n",
        "&=&\\displaystyle\n",
        "\\left(\\sigma(t,T)\\int_t^T\\sigma(t,T')dT'\\right)dt\n",
        "+\\sigma(t,T)dW^{\\mathbb{Q}}(t)\\\\\n",
        "&=&\\displaystyle\n",
        "\\left(\\sigma(t,T)\\int_t^T\\sigma(t,T')dT'\\right)dt\n",
        "+\\sigma(t,T)\\left(\n",
        "dW^T(t)-\\left(\\int_t^T\\sigma(t,T')dT'\\right)dt\n",
        "\\right)\\\\\n",
        "&=&\\displaystyle\n",
        "\\sigma(t,T)dW^T(t)\n",
        "\\end{array}$$"
      ],
      "metadata": {
        "id": "e57c_C-FXdAz"
      }
    },
    {
      "cell_type": "markdown",
      "source": [
        "***Proof for $T_f$***\n",
        "\n",
        "$$\\begin{array}{lllll}\n",
        "\\displaystyle\n",
        "\\lambda_\\mathbb{Q}^{T_f}(t)\n",
        "=\n",
        "\\frac{d\\mathbb{Q}^{T_f}}{d\\mathbb{Q}}\\Big{|}_{{\\cal F}(t)}\n",
        "=\n",
        "\\frac{P(t,T_f)/P(t_0,T_f)}{M(t)/M(t_0)}\n",
        "\\end{array}$$\n",
        "\n",
        "$$\\begin{array}{lllll}\n",
        "\\displaystyle\n",
        "d\\lambda_\\mathbb{Q}^{T_f}(t)\n",
        "&=&\\displaystyle\n",
        "\\frac{M(t_0)}{P(t_0,T_f)}d\\left(\\frac{P(t,T_f)}{M(t)}\\right)\\\\\n",
        "&=&\\displaystyle\n",
        "\\frac{M(t_0)}{P(t_0,T_f)}\n",
        "\\left[\\frac{dP(t,T_f)}{M(t)}-\\frac{P(t,T_f)}{M^2(t)}dM(t)\\right]\\\\\n",
        "&=&\\displaystyle\n",
        "\\frac{M(t_0)}{P(t_0,T_f)}\n",
        "\\left[\\frac{P(t,T_f)}{M(t)}\\frac{dP(t,T_f)}{P(t,T_f)}-\\frac{P(t,T_f)}{M^2(t)}dM(t)\\right]\\\\\n",
        "&=&\\displaystyle\n",
        "\\frac{M(t_0)}{P(t_0,T_f)}\n",
        "\\left[\\frac{P(t,T_f)}{M(t)}\n",
        "\\left(r(t)dt+\\sigma_P(t,T_f)dW^{\\mathbb{Q}}(t)\\right)-\\frac{P(t,T_f)}{M^2(t)}\\left(r(t)M(t)dt\\right)\\right]\\\\\n",
        "&=&\\displaystyle\n",
        "\\frac{M(t_0)}{P(t_0,T_f)}\n",
        "\\left[\\frac{P(t,T_f)}{M(t)}\n",
        "\\left(\\sigma_P(t,T_f)dW^{\\mathbb{Q}}(t)\\right)\\right]\\\\\n",
        "&=&\\displaystyle\n",
        "\\lambda_\\mathbb{Q}^{T_f}(t)\n",
        "\\left(\\sigma_P(t,T_f)dW^{\\mathbb{Q}}(t)\\right)\\\\\n",
        "\\end{array}$$\n",
        "\n",
        "$$\\begin{array}{lllll}\n",
        "\\displaystyle\n",
        "\\frac{d\\lambda_\\mathbb{Q}^{T_f}(t)}{\\lambda_\\mathbb{Q}^{T_f}(t)}\n",
        "=\n",
        "\\sigma_P(t,T_f)dW^{\\mathbb{Q}}(t)\\\\\n",
        "\\end{array}$$\n",
        "\n",
        "$$\\begin{array}{lllll}\n",
        "\\displaystyle\n",
        "dW^{T_f}(t)\n",
        "=\n",
        "-\\sigma_P(t,T_f)dt\n",
        "+dW^\\mathbb{Q}(t)\n",
        "\\end{array}$$\n",
        "\n",
        "where\n",
        "\n",
        "$$\\begin{array}{lllll}\n",
        "\\displaystyle\n",
        "\\sigma_P(t,T_f)\n",
        "=\n",
        "-\\int_t^{T_f}\\sigma(t,T')dT'\n",
        "\\end{array}$$\n",
        "\n",
        "$$\\begin{array}{lll}\n",
        "\\displaystyle\n",
        "df(t,T)\n",
        "&=&\\displaystyle\n",
        "\\left(\\sigma(t,T)\\int_t^T\\sigma(t,T')dT'\\right)dt+\\sigma(t,T)dW^{\\mathbb{Q}}(t)\\\\\n",
        "&=&\\displaystyle\n",
        "\\left(\\sigma(t,T)\\int_t^T\\sigma(t,T')dT'\\right)dt+\\sigma(t,T)\n",
        "\\left(dW^{T_f}(t)-\\left(\\int_t^{T_f}\\sigma(t,T')dT'\\right)dt\\right)\\\\\n",
        "&=&\\displaystyle\n",
        "\\left(-\\sigma(t,T)\\int_T^{T_f}\\sigma(t,T')dT'\\right)dt+\\sigma(t,T)dW^{T_f}(t)\n",
        "\\end{array}$$"
      ],
      "metadata": {
        "id": "Oa3d4NxjaFxh"
      }
    },
    {
      "cell_type": "markdown",
      "source": [
        "####***Section 4 Valuation using Numeraire***\n",
        "\n"
      ],
      "metadata": {
        "id": "XRfzUAioNokV"
      }
    },
    {
      "cell_type": "markdown",
      "source": [
        "######***Valuation using Numeraire***"
      ],
      "metadata": {
        "id": "fV4GC-obQcw4"
      }
    },
    {
      "cell_type": "markdown",
      "source": [
        "\n",
        "\n",
        "$$\\begin{array}{lll}\n",
        "\\displaystyle\n",
        "\\frac{V_0}{X_0}&=&\n",
        "\\displaystyle\\mathbb{E}^X\\left[\\frac{V_T}{X_T}\\right]\n",
        "\\end{array}$$"
      ],
      "metadata": {
        "id": "CAwmyrqoTerM"
      }
    },
    {
      "cell_type": "markdown",
      "source": [
        "######***Three Important Numeraire***"
      ],
      "metadata": {
        "id": "geniOB6EQfSd"
      }
    },
    {
      "cell_type": "markdown",
      "source": [
        "\n",
        "\n",
        "Money Account and Risk-Neutral Measure\n",
        "\n",
        "$$\\begin{array}{llllll}\n",
        "\\displaystyle\n",
        "\\mathbb{E}^{\\mathbb{Q}}\\left[\\frac{X(t)}{M(t)}\\Big{|}{\\cal F}_s\\right]=\\frac{X(s)}{M(s)}\n",
        "\\end{array}$$\n",
        "\n",
        "ZCB $P(t,T)$ and Forward Measure\n",
        "\n",
        "$$\\begin{array}{llllll}\n",
        "\\displaystyle\n",
        "\\mathbb{E}^{T}\\left[\\frac{X(t)}{P(t,T)}\\Big{|}{\\cal F}_s\\right]=\\frac{X(s)}{P(s,T)}\n",
        "\\end{array}$$\n",
        "\n",
        "Stock and Stock Measure\n",
        "\n",
        "$$\\begin{array}{llllll}\n",
        "\\displaystyle\n",
        "\\mathbb{E}^{S}\\left[\\frac{X(t)}{S(t)}\\Big{|}{\\cal F}_s\\right]=\\frac{X(s)}{S(s)}\n",
        "\\end{array}$$"
      ],
      "metadata": {
        "id": "8YtlcTPLPZ1P"
      }
    },
    {
      "cell_type": "markdown",
      "source": [
        "######***Example 1***"
      ],
      "metadata": {
        "id": "ab87qrj_QNmW"
      }
    },
    {
      "cell_type": "markdown",
      "source": [
        "\n",
        "\n",
        "$$\\begin{array}{lll}\n",
        "\\displaystyle\n",
        "V_0\n",
        "&=&\\displaystyle\n",
        "\\mathbb{E}^\\mathbb{Q}\\left[\\frac{1}{M(T)}\\max\\left(S^2(T)-S(T)K,0\\right)\\right]\n",
        "\\\\\n",
        "&=&\\displaystyle\n",
        "\\int\\frac{1}{M(T)}\\max\\left(S^2(T)-S(T)K,0\\right)d\\mathbb{Q}\\\\\n",
        "&=&\\displaystyle\n",
        "\\int\\frac{1}{M(T)}\\max\\left(S^2(T)-S(T)K,0\\right)\\frac{d\\mathbb{Q}}{d\\mathbb{Q}^S}d\\mathbb{Q}^S\\\\\n",
        "&=&\\displaystyle\n",
        "\\int\\frac{1}{M(T)}\\max\\left(S^2(T)-S(T)K,0\\right)\\frac{M(T)/M(0)}{S(T)/S(0)}d\\mathbb{Q}^S\\\\\n",
        "&=&\\displaystyle\n",
        "S(0)\\int\\max\\left(S(T)-K,0\\right)d\\mathbb{Q}^S\n",
        "\\end{array}$$\n",
        "\n",
        "Under $\\mathbb{Q}^S$ we have\n",
        "\n",
        "$$\\begin{array}{lll}\n",
        "\\displaystyle\n",
        "dS_t=\\left(\\color{red}{r+\\sigma^2}\\right) S_tdt+\\sigma S_tdW^\\color{red}{S}_t&&\n",
        "\\displaystyle\n",
        "S_t=S_0e^{\\left(\\color{red}{r+\\sigma^2}-\\frac{1}{2}\\sigma^2\\right)t+\\sigma W^S_t}=S_0e^{\\left(r+\\frac{1}{2}\\sigma^2\\right)t+\\sigma W^S_t}\\\\\n",
        "\\end{array}$$\n",
        "\n",
        "The stock moves as if the risk-free interest rate is $r+\\sigma^2$, not $r$.\n",
        "So,\n",
        "\n",
        "$$\\begin{array}{lll}\n",
        "\\displaystyle\n",
        "V_0\n",
        "&=&\\displaystyle\n",
        "S(0)\\int\\max\\left(S(T)-K,0\\right)d\\mathbb{Q}^S\\\\\n",
        "&=&\\displaystyle\n",
        "S(0)e^{(\\color{red}{r+\\sigma^2})T}\\left[e^{-(\\color{red}{r+\\sigma^2})T}\\int\\max\\left(S(T)-K,0\\right)d\\mathbb{Q}^S\\right]\\\\\n",
        "&=&\\displaystyle\n",
        "S(0)e^{(\\color{red}{r+\\sigma^2})T}\\left(S_0N(d_1)-Ke^{-(\\color{red}{r+\\sigma^2})T}N(d_2)\\right)\\\\\n",
        "\\end{array}$$\n",
        "\n",
        "where\n",
        "\n",
        "$$\\begin{array}{lll}\n",
        "\\displaystyle\n",
        "d_1\n",
        "&=&\\displaystyle\n",
        "\\frac{\\log\\frac{S_0}{Ke^{-(\\color{red}{r+\\sigma^2})T}}}{\\sigma\\sqrt{T}}\n",
        "+\\frac{1}{2}\\sigma\\sqrt{T}\n",
        "\\\\\n",
        "d_2&=&\\displaystyle\n",
        "\\frac{\\log\\frac{S_0}{Ke^{-(\\color{red}{r+\\sigma^2})T}}}{\\sigma\\sqrt{T}}\n",
        "-\\frac{1}{2}\\sigma\\sqrt{T}\n",
        "\\end{array}$$"
      ],
      "metadata": {
        "id": "1BS4e6gFSeba"
      }
    },
    {
      "cell_type": "markdown",
      "source": [
        "######***Example 2***"
      ],
      "metadata": {
        "id": "4_s9PQF3QQc4"
      }
    },
    {
      "cell_type": "markdown",
      "source": [
        "\n",
        "\n",
        "$$\\begin{array}{lll}\n",
        "\\displaystyle\n",
        "dS_1(t)\n",
        "&=&\\displaystyle\n",
        "rS_1(t)dt+\\sigma_1S_1(t)dW_1^\\mathbb{Q}(t)\n",
        "\\\\\n",
        "\\displaystyle\n",
        "dS_2(t)\n",
        "&=&\\displaystyle\n",
        "rS_2(t)dt+\\sigma_2S_2(t)dW_2^\\mathbb{Q}(t)\\\\\n",
        "\\displaystyle\n",
        "dW_1^\\mathbb{Q}(t)dW_2^\\mathbb{Q}(t)\n",
        "&=&\\displaystyle\n",
        "\\rho dt\\\\\n",
        "\\end{array}$$\n",
        "\n",
        "Since $dW_1^{S_1}(t)=dW_1^\\mathbb{Q}(t)-\\sigma_1dt$ under $\\mathbb{Q}^{S_1}$, \n",
        "and since $S_2(t)/S_1(t)$ is a $\\mathbb{Q}^{S_1}$ martingale, \n",
        "we have\n",
        "\n",
        "$$\\begin{array}{lll}\n",
        "\\displaystyle\n",
        "d\\left(\\frac{S_2(t)}{S_1(t)}\\right)\\Big{/}\\left(\\frac{S_2(t)}{S_1(t)}\\right)\n",
        "&=&\\displaystyle\n",
        "\\left(\\sigma_1^2-\\rho\\sigma_1\\sigma_2\\right)dt\n",
        "+\\sigma_2dW_2^{\\mathbb{Q}}(t)-\\sigma_1dW_1^{\\mathbb{Q}}(t)\n",
        "\\\\\n",
        "&=&\\displaystyle\n",
        "\\displaystyle\n",
        "-\\rho\\sigma_1\\sigma_2dt\n",
        "+\\sigma_2dW_2^{\\mathbb{Q}}(t)-\\sigma_1dW_1^{S_1}(t)\\\\\n",
        "\\displaystyle\n",
        "&=&\\displaystyle\n",
        "\\sigma_2\\left(\\color{red}{dW_2^{\\mathbb{Q}}(t)-\\rho\\sigma_1dt}\\right)-\\sigma_1dW_1^{S_1}(t)\\\\\n",
        "&=&\\displaystyle\n",
        "\\sigma_2 \\color{red}{dW_2^{S_1}(t)}-\\sigma_1dW_1^{S_1}(t)\\\\\n",
        "\\end{array}$$\n",
        "\n",
        "or\n",
        "\n",
        "$$\\begin{array}{lll}\n",
        "\\displaystyle\n",
        "dW_1^{S_1}(t)\n",
        "&=&\\displaystyle\n",
        "dW_1^\\mathbb{Q}(t)-\\sigma_1dt\n",
        "\\\\\n",
        "\\displaystyle\n",
        "dW_2^{S_1}(t)\n",
        "&=&\\displaystyle\n",
        "dW_2^\\mathbb{Q}(t)-\\rho\\sigma_1dt\\\\\n",
        "\\displaystyle\n",
        "dW_1^{S_1}(t)dW_2^{S_1}(t)\n",
        "&=&\\displaystyle\n",
        "\\rho dt\\\\\n",
        "\\end{array}$$\n",
        "\n",
        "or\n",
        "\n",
        "$$\\begin{array}{lll}\n",
        "\\displaystyle\n",
        "dS_1(t)\n",
        "&=&\\displaystyle\n",
        "\\left(r+\\sigma_1^2\\right)S_1(t)dt+\\sigma_1S_1(t)dW_1^{S_1}(t)\n",
        "\\\\\n",
        "\\displaystyle\n",
        "dS_2(t)\n",
        "&=&\\displaystyle\n",
        "\\left(r+\\rho\\sigma_1\\sigma_2\\right)S_2(t)dt+\\sigma_2S_2(t)dW_2^{S_1}(t)\\\\\n",
        "\\displaystyle\n",
        "dW_1^{S_1}(t)dW_2^{S_1}(t)\n",
        "&=&\\displaystyle\n",
        "\\rho dt\\\\\n",
        "\\end{array}$$\n",
        "\n",
        "Since $\\displaystyle\n",
        "S_2(T)=S_2(0)\\text{exp}\\left[\\left(\\left(r+\\rho\\sigma_1\\sigma_2\\right)-\\frac{1}{2}\\sigma_2^2\\right)T+\\sigma_2 W_2^{S_1}(T)\\right]$,\n",
        "\n",
        "$$\\begin{array}{lll}\n",
        "\\displaystyle\n",
        "V_0\n",
        "&=&\\displaystyle\n",
        "M(0)\\mathbb{E}^\\mathbb{Q}\\left[\\frac{1}{M(T)}S_1(T)1_{S_2(T)>K}\\right]\n",
        "\\\\\n",
        "&=&\\displaystyle\n",
        "M(0)\\int\\frac{1}{M(T)}S_1(T)1_{S_2(T)>K}d\\mathbb{Q}\\\\\n",
        "&=&\\displaystyle\n",
        "M(0)\\int\\frac{1}{M(T)}S_1(T)1_{S_2(T)>K}\\frac{d\\mathbb{Q}}{d\\mathbb{Q}^{S_1}}d\\mathbb{Q}^{S_1}\\\\\n",
        "&=&\\displaystyle\n",
        "M(0)\\int\\frac{1}{M(T)}S_1(T)1_{S_2(T)>K}\\frac{M(T)/M(0)}{S_1(T)/S_1(0)}d\\mathbb{Q}^{S_1}\\\\\n",
        "&=&\\displaystyle\n",
        "S_1(0)\\int 1_{S_2(T)>K}d\\mathbb{P}^{S_1}\\\\\n",
        "&=&\\displaystyle\n",
        "S_1(0)\\mathbb{P}^{S_1}\\left[S_2(T)>K\\right]\\\\\n",
        "&=&\\displaystyle\n",
        "S_1(0)\\mathbb{P}^{S_1}\\left[S_2(0)\\text{exp}\\left[\\left(\\left(r+\\rho\\sigma_1\\sigma_2\\right)-\\frac{1}{2}\\sigma_2^2\\right)T+\\sigma_2 W_2^{S_1}(T)\\right]>K\\right]\\\\\n",
        "&=&\\displaystyle\n",
        "S_1(0)\\left[1-N\\left(\\frac{\n",
        "\\log\\frac{S_2(0)}{K}\n",
        "+\\left(\\left(r+\\rho\\sigma_1\\sigma_2\\right)-\\frac{1}{2}\\sigma_2^2\\right)T\n",
        "}{\\sigma_2\\sqrt{T}}\\right)\\right]\\\\\n",
        "\\end{array}$$"
      ],
      "metadata": {
        "id": "_2qb29WPSeeh"
      }
    },
    {
      "cell_type": "markdown",
      "source": [
        "###***Chapter 7 Hull White***"
      ],
      "metadata": {
        "id": "jAUO1_GiFpwa"
      }
    },
    {
      "cell_type": "markdown",
      "source": [
        "###***Chapter 8 Market Model***"
      ],
      "metadata": {
        "id": "z3yZvrd2Fpzi"
      }
    }
  ]
}