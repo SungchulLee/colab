{
  "nbformat": 4,
  "nbformat_minor": 0,
  "metadata": {
    "colab": {
      "provenance": [],
      "collapsed_sections": [
        "yN7k9KaZ_U-R",
        "0HHtM-cJjBci",
        "GVIG-degjKIX",
        "BvHpXCnSldJS",
        "hPDkHvPYiPBu",
        "tg4hKiaDzqjk",
        "G8MG01ya3KkQ"
      ],
      "authorship_tag": "ABX9TyMNSxbErUUTxNXuUOracZRl",
      "include_colab_link": true
    },
    "kernelspec": {
      "name": "python3",
      "display_name": "Python 3"
    },
    "language_info": {
      "name": "python"
    }
  },
  "cells": [
    {
      "cell_type": "markdown",
      "metadata": {
        "id": "view-in-github",
        "colab_type": "text"
      },
      "source": [
        "<a href=\"https://colab.research.google.com/github/SungchulLee/colab/blob/main/exercise_numpy.ipynb\" target=\"_parent\"><img src=\"https://colab.research.google.com/assets/colab-badge.svg\" alt=\"Open In Colab\"/></a>"
      ]
    },
    {
      "cell_type": "markdown",
      "source": [
        "###***Chapter 0 Installment Extra Packages***"
      ],
      "metadata": {
        "id": "yN7k9KaZ_U-R"
      }
    },
    {
      "cell_type": "markdown",
      "source": [
        "#####***Install Some Packages***"
      ],
      "metadata": {
        "id": "tN2shzHh_U-S"
      }
    },
    {
      "cell_type": "code",
      "source": [
        "!pip install pandas-datareader\n",
        "!pip install yfinance"
      ],
      "metadata": {
        "colab": {
          "base_uri": "https://localhost:8080/"
        },
        "outputId": "e47b1a03-bad2-4381-ccd4-acf6704f8b45",
        "id": "SK3sdlUv_U-S"
      },
      "execution_count": 2,
      "outputs": [
        {
          "output_type": "stream",
          "name": "stdout",
          "text": [
            "Looking in indexes: https://pypi.org/simple, https://us-python.pkg.dev/colab-wheels/public/simple/\n",
            "Requirement already satisfied: pandas-datareader in /usr/local/lib/python3.10/dist-packages (0.10.0)\n",
            "Requirement already satisfied: lxml in /usr/local/lib/python3.10/dist-packages (from pandas-datareader) (4.9.2)\n",
            "Requirement already satisfied: pandas>=0.23 in /usr/local/lib/python3.10/dist-packages (from pandas-datareader) (1.5.3)\n",
            "Requirement already satisfied: requests>=2.19.0 in /usr/local/lib/python3.10/dist-packages (from pandas-datareader) (2.27.1)\n",
            "Requirement already satisfied: python-dateutil>=2.8.1 in /usr/local/lib/python3.10/dist-packages (from pandas>=0.23->pandas-datareader) (2.8.2)\n",
            "Requirement already satisfied: pytz>=2020.1 in /usr/local/lib/python3.10/dist-packages (from pandas>=0.23->pandas-datareader) (2022.7.1)\n",
            "Requirement already satisfied: numpy>=1.21.0 in /usr/local/lib/python3.10/dist-packages (from pandas>=0.23->pandas-datareader) (1.22.4)\n",
            "Requirement already satisfied: urllib3<1.27,>=1.21.1 in /usr/local/lib/python3.10/dist-packages (from requests>=2.19.0->pandas-datareader) (1.26.15)\n",
            "Requirement already satisfied: certifi>=2017.4.17 in /usr/local/lib/python3.10/dist-packages (from requests>=2.19.0->pandas-datareader) (2022.12.7)\n",
            "Requirement already satisfied: charset-normalizer~=2.0.0 in /usr/local/lib/python3.10/dist-packages (from requests>=2.19.0->pandas-datareader) (2.0.12)\n",
            "Requirement already satisfied: idna<4,>=2.5 in /usr/local/lib/python3.10/dist-packages (from requests>=2.19.0->pandas-datareader) (3.4)\n",
            "Requirement already satisfied: six>=1.5 in /usr/local/lib/python3.10/dist-packages (from python-dateutil>=2.8.1->pandas>=0.23->pandas-datareader) (1.16.0)\n",
            "Looking in indexes: https://pypi.org/simple, https://us-python.pkg.dev/colab-wheels/public/simple/\n",
            "Requirement already satisfied: yfinance in /usr/local/lib/python3.10/dist-packages (0.2.18)\n",
            "Requirement already satisfied: pandas>=1.3.0 in /usr/local/lib/python3.10/dist-packages (from yfinance) (1.5.3)\n",
            "Requirement already satisfied: numpy>=1.16.5 in /usr/local/lib/python3.10/dist-packages (from yfinance) (1.22.4)\n",
            "Requirement already satisfied: requests>=2.26 in /usr/local/lib/python3.10/dist-packages (from yfinance) (2.27.1)\n",
            "Requirement already satisfied: multitasking>=0.0.7 in /usr/local/lib/python3.10/dist-packages (from yfinance) (0.0.11)\n",
            "Requirement already satisfied: lxml>=4.9.1 in /usr/local/lib/python3.10/dist-packages (from yfinance) (4.9.2)\n",
            "Requirement already satisfied: appdirs>=1.4.4 in /usr/local/lib/python3.10/dist-packages (from yfinance) (1.4.4)\n",
            "Requirement already satisfied: pytz>=2022.5 in /usr/local/lib/python3.10/dist-packages (from yfinance) (2022.7.1)\n",
            "Requirement already satisfied: frozendict>=2.3.4 in /usr/local/lib/python3.10/dist-packages (from yfinance) (2.3.7)\n",
            "Requirement already satisfied: cryptography>=3.3.2 in /usr/local/lib/python3.10/dist-packages (from yfinance) (40.0.2)\n",
            "Requirement already satisfied: beautifulsoup4>=4.11.1 in /usr/local/lib/python3.10/dist-packages (from yfinance) (4.11.2)\n",
            "Requirement already satisfied: html5lib>=1.1 in /usr/local/lib/python3.10/dist-packages (from yfinance) (1.1)\n",
            "Requirement already satisfied: soupsieve>1.2 in /usr/local/lib/python3.10/dist-packages (from beautifulsoup4>=4.11.1->yfinance) (2.4.1)\n",
            "Requirement already satisfied: cffi>=1.12 in /usr/local/lib/python3.10/dist-packages (from cryptography>=3.3.2->yfinance) (1.15.1)\n",
            "Requirement already satisfied: six>=1.9 in /usr/local/lib/python3.10/dist-packages (from html5lib>=1.1->yfinance) (1.16.0)\n",
            "Requirement already satisfied: webencodings in /usr/local/lib/python3.10/dist-packages (from html5lib>=1.1->yfinance) (0.5.1)\n",
            "Requirement already satisfied: python-dateutil>=2.8.1 in /usr/local/lib/python3.10/dist-packages (from pandas>=1.3.0->yfinance) (2.8.2)\n",
            "Requirement already satisfied: urllib3<1.27,>=1.21.1 in /usr/local/lib/python3.10/dist-packages (from requests>=2.26->yfinance) (1.26.15)\n",
            "Requirement already satisfied: certifi>=2017.4.17 in /usr/local/lib/python3.10/dist-packages (from requests>=2.26->yfinance) (2022.12.7)\n",
            "Requirement already satisfied: charset-normalizer~=2.0.0 in /usr/local/lib/python3.10/dist-packages (from requests>=2.26->yfinance) (2.0.12)\n",
            "Requirement already satisfied: idna<4,>=2.5 in /usr/local/lib/python3.10/dist-packages (from requests>=2.26->yfinance) (3.4)\n",
            "Requirement already satisfied: pycparser in /usr/local/lib/python3.10/dist-packages (from cffi>=1.12->cryptography>=3.3.2->yfinance) (2.21)\n"
          ]
        }
      ]
    },
    {
      "cell_type": "markdown",
      "source": [
        "#####***Import Basic Modules***"
      ],
      "metadata": {
        "id": "h5R5Gfmd_U-S"
      }
    },
    {
      "cell_type": "code",
      "source": [
        "import matplotlib.pyplot as plt\n",
        "import numpy as np; np.random.seed(0)\n",
        "import pandas as pd\n",
        "import yfinance as yf\n",
        "from scipy import stats"
      ],
      "metadata": {
        "id": "NZ7FUGCl_U-T"
      },
      "execution_count": 3,
      "outputs": []
    },
    {
      "cell_type": "markdown",
      "source": [
        "###***Chapter 2 Numpy Array***"
      ],
      "metadata": {
        "id": "kLtFcEUveOvY"
      }
    },
    {
      "cell_type": "code",
      "source": [
        "def main():\n",
        "    np.random.seed(1010)\n",
        "    love_scores = np.round( np.random.uniform(low=0, high=100, size=(10,)), 2 )\n",
        "    print(love_scores,end=\"\\n\\n\")\n",
        "\n",
        "    love_scores_matrix = np.abs( love_scores.reshape( (1,-1) ) - love_scores.reshape( (-1,1) ) )\n",
        "    print(love_scores_matrix)\n",
        "\n",
        "if __name__ == \"__main__\":\n",
        "    main()"
      ],
      "metadata": {
        "colab": {
          "base_uri": "https://localhost:8080/"
        },
        "id": "2zb8Tjr7RqkY",
        "outputId": "20155cd6-0ffb-4e7a-a5c1-eb8db9dea48d"
      },
      "execution_count": null,
      "outputs": [
        {
          "output_type": "stream",
          "name": "stdout",
          "text": [
            "[39.43 17.56  7.27 19.19 39.98 41.81 76.26 52.14 41.09 53.74]\n",
            "\n",
            "[[ 0.   21.87 32.16 20.24  0.55  2.38 36.83 12.71  1.66 14.31]\n",
            " [21.87  0.   10.29  1.63 22.42 24.25 58.7  34.58 23.53 36.18]\n",
            " [32.16 10.29  0.   11.92 32.71 34.54 68.99 44.87 33.82 46.47]\n",
            " [20.24  1.63 11.92  0.   20.79 22.62 57.07 32.95 21.9  34.55]\n",
            " [ 0.55 22.42 32.71 20.79  0.    1.83 36.28 12.16  1.11 13.76]\n",
            " [ 2.38 24.25 34.54 22.62  1.83  0.   34.45 10.33  0.72 11.93]\n",
            " [36.83 58.7  68.99 57.07 36.28 34.45  0.   24.12 35.17 22.52]\n",
            " [12.71 34.58 44.87 32.95 12.16 10.33 24.12  0.   11.05  1.6 ]\n",
            " [ 1.66 23.53 33.82 21.9   1.11  0.72 35.17 11.05  0.   12.65]\n",
            " [14.31 36.18 46.47 34.55 13.76 11.93 22.52  1.6  12.65  0.  ]]\n"
          ]
        }
      ]
    },
    {
      "cell_type": "markdown",
      "source": [
        "####***Section 2 How to Make Numpy Array***"
      ],
      "metadata": {
        "id": "nY-cHwcCNnq9"
      }
    },
    {
      "cell_type": "markdown",
      "source": [
        "#####***Exercise***"
      ],
      "metadata": {
        "id": "k2hmS1_1dge_"
      }
    },
    {
      "cell_type": "markdown",
      "source": [
        "Create your own 4D array."
      ],
      "metadata": {
        "id": "qeK78nLTdghf"
      }
    },
    {
      "cell_type": "markdown",
      "source": [
        "######***Solution***"
      ],
      "metadata": {
        "id": "1m7zdKc3dgbv"
      }
    },
    {
      "cell_type": "code",
      "source": [
        "def main ():\n",
        "    arr_1 = np.array([1,2,3])             # shape (3,)\n",
        "    arr_2 = np.array([arr_1,arr_1,arr_1]) # shape (3, 3)\n",
        "    arr_3 = np.array([arr_2,arr_2,arr_2]) # shape (3, 3, 3)\n",
        "    arr_4 = np.array([arr_3,arr_3,arr_3]) # shape (3, 3, 3, 3)\n",
        "\n",
        "    a = arr_4\n",
        "    print(f'{a = }',f'{type(a) = }',f'{a.ndim = }',f'{a.shape = }',sep=\"\\n\")\n",
        "\n",
        "if __name__ == \"__main__\":\n",
        "    main()"
      ],
      "metadata": {
        "colab": {
          "base_uri": "https://localhost:8080/"
        },
        "id": "a-k57NttdtW3",
        "outputId": "a0de2d7d-c03f-4c6e-c1a9-dba5ccec7131"
      },
      "execution_count": null,
      "outputs": [
        {
          "output_type": "stream",
          "name": "stdout",
          "text": [
            "a = array([[[[1, 2, 3],\n",
            "         [1, 2, 3],\n",
            "         [1, 2, 3]],\n",
            "\n",
            "        [[1, 2, 3],\n",
            "         [1, 2, 3],\n",
            "         [1, 2, 3]],\n",
            "\n",
            "        [[1, 2, 3],\n",
            "         [1, 2, 3],\n",
            "         [1, 2, 3]]],\n",
            "\n",
            "\n",
            "       [[[1, 2, 3],\n",
            "         [1, 2, 3],\n",
            "         [1, 2, 3]],\n",
            "\n",
            "        [[1, 2, 3],\n",
            "         [1, 2, 3],\n",
            "         [1, 2, 3]],\n",
            "\n",
            "        [[1, 2, 3],\n",
            "         [1, 2, 3],\n",
            "         [1, 2, 3]]],\n",
            "\n",
            "\n",
            "       [[[1, 2, 3],\n",
            "         [1, 2, 3],\n",
            "         [1, 2, 3]],\n",
            "\n",
            "        [[1, 2, 3],\n",
            "         [1, 2, 3],\n",
            "         [1, 2, 3]],\n",
            "\n",
            "        [[1, 2, 3],\n",
            "         [1, 2, 3],\n",
            "         [1, 2, 3]]]])\n",
            "type(a) = <class 'numpy.ndarray'>\n",
            "a.ndim = 4\n",
            "a.shape = (3, 3, 3, 3)\n"
          ]
        }
      ]
    },
    {
      "cell_type": "markdown",
      "source": [
        "###***Chapter 3 Random Numpy Array***"
      ],
      "metadata": {
        "id": "yXkZPYaPh3OO"
      }
    },
    {
      "cell_type": "markdown",
      "source": [
        "####***Section 3 Uniform Distribution***"
      ],
      "metadata": {
        "id": "0HHtM-cJjBci"
      }
    },
    {
      "cell_type": "markdown",
      "source": [
        "#####***Coin Flip using np.random.uniform***"
      ],
      "metadata": {
        "id": "GVIG-degjKIX"
      }
    },
    {
      "cell_type": "markdown",
      "source": [
        "Flip fair coin 10 time using `np.random.uniform` and print \"H\" for head coins and \"T\" for tail coins."
      ],
      "metadata": {
        "id": "GpTU4yYljKIg"
      }
    },
    {
      "cell_type": "markdown",
      "source": [
        "######***Solution***"
      ],
      "metadata": {
        "id": "YWj1cpl6jKIg"
      }
    },
    {
      "cell_type": "code",
      "source": [
        "def main():\n",
        "    n = 10\n",
        "    p = 0.5\n",
        "\n",
        "    for i in range(n):\n",
        "        if np.random.uniform() > 1 - p: \n",
        "            print(\"H\", end=' ')\n",
        "        else:\n",
        "            print(\"T\", end=' ')\n",
        "\n",
        "if __name__ == \"__main__\":\n",
        "    main()"
      ],
      "metadata": {
        "colab": {
          "base_uri": "https://localhost:8080/"
        },
        "id": "wJgdfZjLjKIg",
        "outputId": "60dd9e14-f0ab-44aa-a941-dbf1a5ff359c"
      },
      "execution_count": 6,
      "outputs": [
        {
          "output_type": "stream",
          "name": "stdout",
          "text": [
            "H H T H T H T H H T "
          ]
        }
      ]
    },
    {
      "cell_type": "code",
      "source": [
        "def main():\n",
        "    n = 10\n",
        "    p = 0.5\n",
        "\n",
        "    coin = []\n",
        "    for i in range(n):\n",
        "        if np.random.uniform() > 1 - p: \n",
        "            coin.append(\"H\")\n",
        "        else:\n",
        "            coin.append(\"T\")\n",
        "    print(coin)\n",
        "\n",
        "if __name__ == \"__main__\":\n",
        "    main()"
      ],
      "metadata": {
        "colab": {
          "base_uri": "https://localhost:8080/"
        },
        "id": "21lVE9Q_krNN",
        "outputId": "2ce5b6f9-30a0-48a6-990e-c0ced5967814"
      },
      "execution_count": 9,
      "outputs": [
        {
          "output_type": "stream",
          "name": "stdout",
          "text": [
            "['H', 'T', 'H', 'T', 'T', 'T', 'H', 'T', 'T', 'T']\n"
          ]
        }
      ]
    },
    {
      "cell_type": "code",
      "source": [
        "def main():\n",
        "    n = 10\n",
        "    p = 0.5\n",
        "    coin = [\"H\" if (np.random.uniform() > 1 - p) else \"T\" for i in range(n)]\n",
        "    print(coin)\n",
        "\n",
        "if __name__ == \"__main__\":\n",
        "    main()"
      ],
      "metadata": {
        "colab": {
          "base_uri": "https://localhost:8080/"
        },
        "id": "oO7cgw8pkRNV",
        "outputId": "f454ebf8-33e0-41bb-a5a7-56d282b4c760"
      },
      "execution_count": 8,
      "outputs": [
        {
          "output_type": "stream",
          "name": "stdout",
          "text": [
            "['T', 'T', 'H', 'T', 'H', 'H', 'T', 'T', 'T', 'T']\n"
          ]
        }
      ]
    },
    {
      "cell_type": "markdown",
      "source": [
        "#####***Vecorization - Coin Flip using np.random.uniform***"
      ],
      "metadata": {
        "id": "BvHpXCnSldJS"
      }
    },
    {
      "cell_type": "markdown",
      "source": [
        "Flip fair coin 10 time using `np.random.uniform` and print 1 for head coins and 0 for tail coins."
      ],
      "metadata": {
        "id": "qvX4MxKUldJb"
      }
    },
    {
      "cell_type": "markdown",
      "source": [
        "######***Solution***"
      ],
      "metadata": {
        "id": "pstmEcG4ldJb"
      }
    },
    {
      "cell_type": "code",
      "source": [
        "def main():\n",
        "    n = 10\n",
        "    p = 0.5\n",
        "    uniform_sample = np.random.uniform(size=(n,))\n",
        "    coin = np.zeros_like(uniform_sample)\n",
        "    coin[uniform_sample > 1-p] = 1.\n",
        "    print(coin)\n",
        "\n",
        "if __name__ == \"__main__\":\n",
        "    main()"
      ],
      "metadata": {
        "colab": {
          "base_uri": "https://localhost:8080/"
        },
        "outputId": "b8e4a6ac-b30d-4e61-cb4f-c3ceae571edf",
        "id": "5vE3p1z9ldJc"
      },
      "execution_count": null,
      "outputs": [
        {
          "output_type": "stream",
          "name": "stdout",
          "text": [
            "[0. 0. 1. 0. 0. 0. 1. 0. 1. 0.]\n"
          ]
        }
      ]
    },
    {
      "cell_type": "markdown",
      "source": [
        "####***Section 4 Distributions related to Coin Flip***"
      ],
      "metadata": {
        "id": "yUC-dDs6h-g5"
      }
    },
    {
      "cell_type": "markdown",
      "source": [
        "#####***Coin Flip using np.random.binomial***"
      ],
      "metadata": {
        "id": "hPDkHvPYiPBu"
      }
    },
    {
      "cell_type": "markdown",
      "source": [
        "Flip fair coin 10 time using `np.random.binomial` and print \"H\" for head coins and \"T\" for tail coins."
      ],
      "metadata": {
        "id": "FMhEx6rLiPLa"
      }
    },
    {
      "cell_type": "markdown",
      "source": [
        "######***Solution***"
      ],
      "metadata": {
        "id": "BxUod7KwiPXm"
      }
    },
    {
      "cell_type": "code",
      "source": [
        "def main():\n",
        "    n = 10\n",
        "    p = 0.5\n",
        "\n",
        "    for i in range(n):\n",
        "        if np.random.binomial(1, p) == 1: \n",
        "            print(\"H\", end=' ')\n",
        "        else:\n",
        "            print(\"T\", end=' ')\n",
        "\n",
        "if __name__ == \"__main__\":\n",
        "    main()"
      ],
      "metadata": {
        "colab": {
          "base_uri": "https://localhost:8080/"
        },
        "id": "rOqNBQhXixiI",
        "outputId": "22c4d605-e5ee-4b53-a6b6-0e3292f0eeb6"
      },
      "execution_count": 7,
      "outputs": [
        {
          "output_type": "stream",
          "name": "stdout",
          "text": [
            "T H T H T H H H H H "
          ]
        }
      ]
    },
    {
      "cell_type": "markdown",
      "source": [
        "###***Chapter 5 Numpy Array Methods and Functions***"
      ],
      "metadata": {
        "id": "jiFr1JD-zkId"
      }
    },
    {
      "cell_type": "markdown",
      "source": [
        "####***Section 2 Statistics Methods***"
      ],
      "metadata": {
        "id": "PO1FCBWYzoFL"
      }
    },
    {
      "cell_type": "markdown",
      "source": [
        "#####***High School Reunion Problem [eng](https://www.youtube.com/watch?v=GFOxU1QESrI&list=PL9oKUrtC4VP6gDp1Vq3BzfViO0TWgR0vR&index=10)***"
      ],
      "metadata": {
        "id": "tg4hKiaDzqjk"
      }
    },
    {
      "cell_type": "markdown",
      "source": [
        "With your high school reunion fast approaching, you decide to get in shape and lose some weight . You record your weight every day for five weeks starting on a Monday.\n",
        "```\n",
        "dailywts = 185 - np.arange(5*7)/5\n",
        "\n",
        "# print(dailywts)\n",
        "# [185.  184.8 184.6 184.4 184.2 184.  183.8 183.6 183.4 183.2 183.  182.8\n",
        "#  182.6 182.4 182.2 182.  181.8 181.6 181.4 181.2 181.  180.8 180.6 180.4\n",
        "#  180.2 180.  179.8 179.6 179.4 179.2 179.  178.8 178.6 178.4 178.2]\n",
        "```"
      ],
      "metadata": {
        "id": "tgSJ_Vlgzqsi"
      }
    },
    {
      "cell_type": "markdown",
      "source": [
        "######***Solution***"
      ],
      "metadata": {
        "id": "4kBz8-RWzrXS"
      }
    },
    {
      "cell_type": "code",
      "source": [
        "def main():\n",
        "    dailywts = 185 - np.arange(5*7)/5 \n",
        "    x = np.mean( dailywts.reshape( (5, -1) )[:,-2:], axis=1 )\n",
        "    print(x)\n",
        "\n",
        "if __name__ == \"__main__\":\n",
        "    main()"
      ],
      "metadata": {
        "colab": {
          "base_uri": "https://localhost:8080/"
        },
        "id": "uEJjrg8izrz6",
        "outputId": "d98c8ad8-a66f-46d3-84f0-26697d04ddae"
      },
      "execution_count": null,
      "outputs": [
        {
          "output_type": "stream",
          "name": "stdout",
          "text": [
            "[183.9 182.5 181.1 179.7 178.3]\n"
          ]
        }
      ]
    },
    {
      "cell_type": "markdown",
      "source": [
        "####***Section 5 Functions***"
      ],
      "metadata": {
        "id": "Qkhe-5A7_XaL"
      }
    },
    {
      "cell_type": "markdown",
      "source": [
        "#####***Professor Prick [eng](https://www.youtube.com/watch?v=U7pkujDW6gU&list=PL9oKUrtC4VP6gDp1Vq3BzfViO0TWgR0vR&index=20)***"
      ],
      "metadata": {
        "id": "RTlanFkm_rHG"
      }
    },
    {
      "cell_type": "code",
      "source": [
        "def main():\n",
        "    np.random.seed(80085)\n",
        "    scores = np.round(np.random.uniform(low=30, high=100, size=15))\n",
        "    print(scores)\n",
        "\n",
        "    count = 0\n",
        "    for i, item in enumerate(scores):\n",
        "        if item < 60.:\n",
        "            scores[i] = 0.\n",
        "            count += 1\n",
        "            if count >= 3:\n",
        "                break\n",
        "    print(scores)\n",
        "        \n",
        "if __name__ == \"__main__\":\n",
        "    main()"
      ],
      "metadata": {
        "colab": {
          "base_uri": "https://localhost:8080/"
        },
        "outputId": "88b076d5-4905-4578-c243-76b5d30b7506",
        "id": "v2krRZFC_bzV"
      },
      "execution_count": null,
      "outputs": [
        {
          "output_type": "stream",
          "name": "stdout",
          "text": [
            "[55. 32. 84. 96. 41. 46. 96. 94. 48. 91. 41. 31. 99. 41. 97.]\n",
            "[ 0.  0. 84. 96.  0. 46. 96. 94. 48. 91. 41. 31. 99. 41. 97.]\n"
          ]
        }
      ]
    },
    {
      "cell_type": "code",
      "source": [
        "def main():\n",
        "    np.random.seed(80085)\n",
        "    scores = np.round(np.random.uniform(low=30, high=100, size=15))\n",
        "    print(scores)\n",
        "\n",
        "    scores[np.nonzero(scores < 60.)[0][:3]] = 0.\n",
        "    print(scores)\n",
        "        \n",
        "if __name__ == \"__main__\":\n",
        "    main()"
      ],
      "metadata": {
        "colab": {
          "base_uri": "https://localhost:8080/"
        },
        "outputId": "3d690422-c920-43bf-91d5-046982f95a42",
        "id": "PqUYWK6R_gvw"
      },
      "execution_count": null,
      "outputs": [
        {
          "output_type": "stream",
          "name": "stdout",
          "text": [
            "[55. 32. 84. 96. 41. 46. 96. 94. 48. 91. 41. 31. 99. 41. 97.]\n",
            "[ 0.  0. 84. 96.  0. 46. 96. 94. 48. 91. 41. 31. 99. 41. 97.]\n"
          ]
        }
      ]
    },
    {
      "cell_type": "markdown",
      "source": [
        "###***Chapter 6 Indexing and Slicing***"
      ],
      "metadata": {
        "id": "G8MG01ya3KkQ"
      }
    },
    {
      "cell_type": "markdown",
      "source": [
        "####***Section 1 Indexing***"
      ],
      "metadata": {
        "id": "1Usm-QI93Vyt"
      }
    },
    {
      "cell_type": "markdown",
      "source": [
        "#####***Gold Miner [eng](https://www.youtube.com/watch?v=Xqy8tF2sIko&list=PL9oKUrtC4VP6gDp1Vq3BzfViO0TWgR0vR&index=11)***"
      ],
      "metadata": {
        "id": "UBlwlfN_3STC"
      }
    },
    {
      "cell_type": "markdown",
      "source": [
        "After binge watching the discovery channel, you ditch your job as a trial lawyer to become a gold miner  . You decide to prospect five locations underneath a 7x7 grid of land. How much gold do you uncover at each location?\n",
        "```\n",
        "np.random.seed(5555)\n",
        "gold = np.random.randint(low=0, high=10, size=(7,7))\n",
        "\n",
        "# print(gold)\n",
        "# [[2 3 0 5 2 0 3]\n",
        "#  [8 8 0 7 1 5 3]\n",
        "#  [0 1 6 2 1 4 5]\n",
        "#  [4 0 8 9 9 8 7]\n",
        "#  [4 2 7 0 7 2 1]\n",
        "#  [9 8 9 2 5 0 8]\n",
        "#  [1 9 8 2 6 4 3]]\n",
        "\n",
        "locs = np.array([\n",
        "    [0,4],\n",
        "    [2,2],\n",
        "    [2,3],\n",
        "    [5,1],\n",
        "    [6,3]\n",
        "])\n",
        "```"
      ],
      "metadata": {
        "id": "b4DnsGtg3STD"
      }
    },
    {
      "cell_type": "markdown",
      "source": [
        "######***Solution***"
      ],
      "metadata": {
        "id": "QXnbOH_g3STD"
      }
    },
    {
      "cell_type": "code",
      "source": [
        "def main():\n",
        "    np.random.seed(5555)\n",
        "    gold = np.random.randint(low=0, high=10, size=(7,7))\n",
        "    locs = np.array([[0,4],[2,2],[2,3],[5,1],[6,3]])\n",
        "    for i, j in locs:\n",
        "        print(f\"Location : [{i},{j}], Gold Amount : {gold[i,j]}\")\n",
        "\n",
        "if __name__ == \"__main__\":\n",
        "    main()"
      ],
      "metadata": {
        "colab": {
          "base_uri": "https://localhost:8080/"
        },
        "outputId": "6be37b85-015c-4e3b-d0f6-09da35369d1c",
        "id": "BWuefFaN3STD"
      },
      "execution_count": null,
      "outputs": [
        {
          "output_type": "stream",
          "name": "stdout",
          "text": [
            "Location : [0,4], Gold Amount : 2\n",
            "Location : [2,2], Gold Amount : 6\n",
            "Location : [2,3], Gold Amount : 2\n",
            "Location : [5,1], Gold Amount : 8\n",
            "Location : [6,3], Gold Amount : 2\n"
          ]
        }
      ]
    },
    {
      "cell_type": "code",
      "source": [
        "def main():\n",
        "    np.random.seed(5555)\n",
        "    gold = np.random.randint(low=0, high=10, size=(7,7))\n",
        "    locs = np.array([[0,4],[2,2],[2,3],[5,1],[6,3]])\n",
        "    print(gold[locs[:,0],locs[:,1]])\n",
        "\n",
        "if __name__ == \"__main__\":\n",
        "    main()"
      ],
      "metadata": {
        "colab": {
          "base_uri": "https://localhost:8080/"
        },
        "id": "B4rKPPm35RAe",
        "outputId": "aab17680-756d-4682-d1ea-f32f41bd1e59"
      },
      "execution_count": null,
      "outputs": [
        {
          "output_type": "stream",
          "name": "stdout",
          "text": [
            "[2 6 2 8 2]\n"
          ]
        }
      ]
    },
    {
      "cell_type": "markdown",
      "source": [
        "####***Section 2 Slicing***"
      ],
      "metadata": {
        "id": "qDxqjWWE3m-0"
      }
    },
    {
      "cell_type": "markdown",
      "source": [
        "#####***Nola [blog](https://www.practiceprobs.com/problemsets/python-numpy/beginner/nola/)***"
      ],
      "metadata": {
        "id": "igd3g6133rp4"
      }
    },
    {
      "cell_type": "markdown",
      "source": [
        "Make the following 4x7 array called nola that starts with 1 and steps by 2. However, note that the first element in each row is always 4 more than the last element in the previous row.\n",
        "\n",
        "```\n",
        "[[ 1  3  5  7  9 11 13]\n",
        " [17 19 21 23 25 27 29]\n",
        " [33 35 37 39 41 43 45]\n",
        " [49 51 53 55 57 59 61]]\n",
        "```"
      ],
      "metadata": {
        "id": "9LlvzuG_3rp4"
      }
    },
    {
      "cell_type": "markdown",
      "source": [
        "######***Solution***"
      ],
      "metadata": {
        "id": "IWZp0htS3rp4"
      }
    },
    {
      "cell_type": "code",
      "source": [
        "def main():\n",
        "    x = np.arange(1,65,2).reshape((4,-1))[:,:-1]\n",
        "    print(x)\n",
        "\n",
        "if __name__ == \"__main__\":\n",
        "    main()"
      ],
      "metadata": {
        "colab": {
          "base_uri": "https://localhost:8080/"
        },
        "outputId": "94a09897-bb9f-48a2-ff77-649c7ba00ed2",
        "id": "_mZG2ETK3rp5"
      },
      "execution_count": null,
      "outputs": [
        {
          "output_type": "stream",
          "name": "stdout",
          "text": [
            "[[ 1  3  5  7  9 11 13]\n",
            " [17 19 21 23 25 27 29]\n",
            " [33 35 37 39 41 43 45]\n",
            " [49 51 53 55 57 59 61]]\n"
          ]
        }
      ]
    },
    {
      "cell_type": "markdown",
      "source": [
        "###***Chapter 7 Filtering and Masking***"
      ],
      "metadata": {
        "id": "ujBKTel6FXuX"
      }
    },
    {
      "cell_type": "markdown",
      "source": [
        "####***Section 2 Boolean Masking***"
      ],
      "metadata": {
        "id": "YzaYPCvjFcFm"
      }
    },
    {
      "cell_type": "markdown",
      "source": [
        "#####***Replace np.nan with -7000***"
      ],
      "metadata": {
        "id": "XAFLQDYaFnXS"
      }
    },
    {
      "cell_type": "markdown",
      "source": [
        "The numpy array `x` given below code contains `np.nan`. Replace those `np.nan` with -7000.\n",
        "```\n",
        "def main():\n",
        "    x = np.array([\n",
        "        [93., 84., 73., 68.],\n",
        "        [97., 67., 57., np.nan],\n",
        "        [87., 87., np.nan, 77.]\n",
        "        ])\n",
        "    print(x, end=\"\\n\\n\")\n",
        "\n",
        "if __name__ == \"__main__\":\n",
        "    main()\n",
        "```"
      ],
      "metadata": {
        "id": "7cMuMc5VFnhy"
      }
    },
    {
      "cell_type": "markdown",
      "source": [
        "######***Solution***"
      ],
      "metadata": {
        "id": "RFiqmvFZZ6mS"
      }
    },
    {
      "cell_type": "code",
      "source": [
        "def main():\n",
        "    x = np.array([\n",
        "        [93., 84., 73., 68.],\n",
        "        [97., 67., 57., np.nan],\n",
        "        [87., 87., np.nan, 77.]\n",
        "        ])\n",
        "    print(x, end=\"\\n\\n\")\n",
        "    \n",
        "    bool_nan = np.isnan(x)\n",
        "    print(bool_nan, end=\"\\n\\n\")\n",
        "\n",
        "    x[bool_nan] = -7000 # boolean masking\n",
        "    print(x) \n",
        "\n",
        "if __name__ == \"__main__\":\n",
        "    main()"
      ],
      "metadata": {
        "colab": {
          "base_uri": "https://localhost:8080/"
        },
        "outputId": "6359e882-5803-46e3-ee55-c46214a970b3",
        "id": "uehYOWEzZ6mT"
      },
      "execution_count": null,
      "outputs": [
        {
          "output_type": "stream",
          "name": "stdout",
          "text": [
            "[[93. 84. 73. 68.]\n",
            " [97. 67. 57. nan]\n",
            " [87. 87. nan 77.]]\n",
            "\n",
            "[[False False False False]\n",
            " [False False False  True]\n",
            " [False False  True False]]\n",
            "\n",
            "[[   93.    84.    73.    68.]\n",
            " [   97.    67.    57. -7000.]\n",
            " [   87.    87. -7000.    77.]]\n"
          ]
        }
      ]
    },
    {
      "cell_type": "markdown",
      "source": [
        "###***Chapter 8 Component-Wise Operations***"
      ],
      "metadata": {
        "id": "jwwiW_8CVp0c"
      }
    },
    {
      "cell_type": "markdown",
      "source": [
        "####***Section 5 Broadcasting***"
      ],
      "metadata": {
        "id": "P9T9M4sZV0Qx"
      }
    },
    {
      "cell_type": "markdown",
      "source": [
        "#####***Love Distance [eng](https://www.youtube.com/watch?v=SOXPwHDy1PA&list=PL9oKUrtC4VP6gDp1Vq3BzfViO0TWgR0vR&index=20)***"
      ],
      "metadata": {
        "id": "_M6gabkcVwTv"
      }
    },
    {
      "cell_type": "markdown",
      "source": [
        "`u` is a vector of 2 components. Construct a $2\\times2$ matrix `M` whose `i`, `j` component `M[i,j]` is `np.abs(u[i]-u[j])`.\n",
        "```\n",
        "def main():\n",
        "    np.random.seed(1010)\n",
        "    u = np.round( np.random.uniform(low=0, high=100, size=(10,)), 2 )\n",
        "    print(u,end=\"\\n\\n\")\n",
        "    # [39.43 17.56  7.27 19.19 39.98 41.81 76.26 52.14 41.09 53.74]\n",
        "\n",
        "if __name__ == \"__main__\":\n",
        "    main()\n",
        "```"
      ],
      "metadata": {
        "id": "WANkyXowVwT5"
      }
    },
    {
      "cell_type": "markdown",
      "source": [
        "######***Solution***"
      ],
      "metadata": {
        "id": "fFC6cZGWVwT5"
      }
    },
    {
      "cell_type": "code",
      "source": [
        "def main():\n",
        "    np.random.seed(1010)\n",
        "    u = np.round( np.random.uniform(low=0, high=100, size=(10,)), 2 )\n",
        "    print(u,end=\"\\n\\n\")\n",
        "\n",
        "    M = np.abs( u.reshape( (1,-1) ) - u.reshape( (-1,1) ) )\n",
        "    print(M)\n",
        "\n",
        "if __name__ == \"__main__\":\n",
        "    main()"
      ],
      "metadata": {
        "colab": {
          "base_uri": "https://localhost:8080/"
        },
        "outputId": "74de5fb7-e643-4f90-e44c-e5f9bb1ae907",
        "id": "tvQACbdFVwT5"
      },
      "execution_count": null,
      "outputs": [
        {
          "output_type": "stream",
          "name": "stdout",
          "text": [
            "[39.43 17.56  7.27 19.19 39.98 41.81 76.26 52.14 41.09 53.74]\n",
            "\n",
            "[[ 0.   21.87 32.16 20.24  0.55  2.38 36.83 12.71  1.66 14.31]\n",
            " [21.87  0.   10.29  1.63 22.42 24.25 58.7  34.58 23.53 36.18]\n",
            " [32.16 10.29  0.   11.92 32.71 34.54 68.99 44.87 33.82 46.47]\n",
            " [20.24  1.63 11.92  0.   20.79 22.62 57.07 32.95 21.9  34.55]\n",
            " [ 0.55 22.42 32.71 20.79  0.    1.83 36.28 12.16  1.11 13.76]\n",
            " [ 2.38 24.25 34.54 22.62  1.83  0.   34.45 10.33  0.72 11.93]\n",
            " [36.83 58.7  68.99 57.07 36.28 34.45  0.   24.12 35.17 22.52]\n",
            " [12.71 34.58 44.87 32.95 12.16 10.33 24.12  0.   11.05  1.6 ]\n",
            " [ 1.66 23.53 33.82 21.9   1.11  0.72 35.17 11.05  0.   12.65]\n",
            " [14.31 36.18 46.47 34.55 13.76 11.93 22.52  1.6  12.65  0.  ]]\n"
          ]
        }
      ]
    }
  ]
}